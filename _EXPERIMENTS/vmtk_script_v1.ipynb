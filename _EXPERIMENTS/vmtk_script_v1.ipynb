{
 "cells": [
  {
   "cell_type": "code",
   "execution_count": 1,
   "id": "32894fa7",
   "metadata": {},
   "outputs": [],
   "source": [
    "from vmtk import vmtkscripts \n",
    "import numpy as np"
   ]
  },
  {
   "cell_type": "code",
   "execution_count": null,
   "id": "4255a26a",
   "metadata": {},
   "outputs": [],
   "source": []
  },
  {
   "cell_type": "code",
   "execution_count": 8,
   "id": "e761c788",
   "metadata": {},
   "outputs": [
    {
     "name": "stdout",
     "output_type": "stream",
     "text": [
      "Reading VTK image file.\n",
      "Spacing 0.679688 0.679688 1.500000\n",
      "Origin -173.660000 -356.660000 1019.000000\n",
      "Dimensions 512 512 268\n"
     ]
    }
   ],
   "source": [
    "imageReader = vmtkscripts.vmtkImageReader()\n",
    "imageReader.InputFileName = '/home/jiehyun.kim001/Desktop/62_int8_img.vtk'\n",
    "imageReader.Execute()"
   ]
  },
  {
   "cell_type": "code",
   "execution_count": null,
   "id": "99a5553e",
   "metadata": {},
   "outputs": [],
   "source": []
  },
  {
   "cell_type": "code",
   "execution_count": 9,
   "id": "b09bffb2",
   "metadata": {},
   "outputs": [],
   "source": [
    "vmtklevelset = vmtkscripts.vmtkLevelSetSegmentation()"
   ]
  },
  {
   "cell_type": "code",
   "execution_count": 12,
   "id": "1dab39c8",
   "metadata": {},
   "outputs": [],
   "source": [
    "#vmtklevelset.Image = '/home/jiehyun.kim001/Desktop/62_int8_img.vtk'\n",
    "vmtklevelset.Image = imageReader.Image\n",
    "vmtklevelset.LevelSetsInput = '/home/jiehyun.kim001/Desktop/common_carotid_artery_right_int8.vtk'\n",
    "vmtklevelset.LevelSetsOutput = '/home/jiehyun.kim001/Desktop/output_12.nrrd'\n",
    "vmtklevelset.NumberOfIterations = 10"
   ]
  },
  {
   "cell_type": "code",
   "execution_count": 13,
   "id": "30d6ee22",
   "metadata": {},
   "outputs": [
    {
     "name": "stdout",
     "output_type": "stream",
     "text": [
      "\n"
     ]
    }
   ],
   "source": [
    "vmtklevelset.Execute()"
   ]
  },
  {
   "cell_type": "code",
   "execution_count": 18,
   "id": "ac0f7e03",
   "metadata": {},
   "outputs": [
    {
     "data": {
      "text/plain": [
       "<vmtk.vmtklevelsetsegmentation.vmtkLevelSetSegmentation at 0x7f0b8ec75b70>"
      ]
     },
     "execution_count": 18,
     "metadata": {},
     "output_type": "execute_result"
    }
   ],
   "source": [
    "vmtklevelset"
   ]
  },
  {
   "cell_type": "code",
   "execution_count": null,
   "id": "ed035e63",
   "metadata": {},
   "outputs": [],
   "source": []
  },
  {
   "cell_type": "code",
   "execution_count": null,
   "id": "ff8df3f7",
   "metadata": {},
   "outputs": [],
   "source": []
  },
  {
   "cell_type": "code",
   "execution_count": null,
   "id": "8b065088",
   "metadata": {},
   "outputs": [],
   "source": []
  },
  {
   "cell_type": "code",
   "execution_count": null,
   "id": "279b8764",
   "metadata": {},
   "outputs": [],
   "source": []
  },
  {
   "cell_type": "code",
   "execution_count": null,
   "id": "8ab34029",
   "metadata": {},
   "outputs": [],
   "source": []
  },
  {
   "cell_type": "code",
   "execution_count": null,
   "id": "5aaf22e6",
   "metadata": {},
   "outputs": [],
   "source": []
  },
  {
   "cell_type": "code",
   "execution_count": null,
   "id": "80cd196c",
   "metadata": {},
   "outputs": [],
   "source": []
  },
  {
   "cell_type": "code",
   "execution_count": null,
   "id": "b751e3c6",
   "metadata": {},
   "outputs": [],
   "source": []
  }
 ],
 "metadata": {
  "kernelspec": {
   "display_name": "Python 3",
   "language": "python",
   "name": "python3"
  },
  "language_info": {
   "codemirror_mode": {
    "name": "ipython",
    "version": 3
   },
   "file_extension": ".py",
   "mimetype": "text/x-python",
   "name": "python",
   "nbconvert_exporter": "python",
   "pygments_lexer": "ipython3",
   "version": "3.6.1"
  }
 },
 "nbformat": 4,
 "nbformat_minor": 5
}
