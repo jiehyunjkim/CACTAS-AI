{
 "cells": [
  {
   "cell_type": "code",
   "execution_count": 1,
   "id": "29e95e06",
   "metadata": {},
   "outputs": [
    {
     "name": "stdout",
     "output_type": "stream",
     "text": [
      "2023-10-20 14:54:44.795636: I tensorflow/stream_executor/platform/default/dso_loader.cc:53] Successfully opened dynamic library libcudart.so.11.0\n",
      "env: CUDA_VISIBLE_DEVICES=0\n"
     ]
    }
   ],
   "source": [
    "!python -c \"import monai\" || pip install -U \"monai-weekly[fire, nibabel, yaml, tqdm, einops]\"\n",
    "%env CUDA_VISIBLE_DEVICES=0"
   ]
  },
  {
   "cell_type": "code",
   "execution_count": 2,
   "id": "0bb27cbe",
   "metadata": {},
   "outputs": [
    {
     "name": "stderr",
     "output_type": "stream",
     "text": [
      "2023-10-20 14:54:53.424893: I tensorflow/stream_executor/platform/default/dso_loader.cc:53] Successfully opened dynamic library libcudart.so.11.0\n"
     ]
    },
    {
     "name": "stdout",
     "output_type": "stream",
     "text": [
      "MONAI version: 1.3.dev2341\n",
      "Numpy version: 1.21.0\n",
      "Pytorch version: 2.0.0+cu118\n",
      "MONAI flags: HAS_EXT = False, USE_COMPILED = False, USE_META_DICT = False\n",
      "MONAI rev id: 5e961b825584160b868d856ce57624c7dce10f04\n",
      "MONAI __file__: /home/<username>/miniconda3/envs/O/lib/python3.9/site-packages/monai/__init__.py\n",
      "\n",
      "Optional dependencies:\n",
      "Pytorch Ignite version: NOT INSTALLED or UNKNOWN VERSION.\n",
      "ITK version: NOT INSTALLED or UNKNOWN VERSION.\n",
      "Nibabel version: 5.1.0\n",
      "scikit-image version: 0.19.2\n",
      "scipy version: 1.7.3\n",
      "Pillow version: 9.0.1\n",
      "Tensorboard version: 2.8.0\n",
      "gdown version: NOT INSTALLED or UNKNOWN VERSION.\n",
      "TorchVision version: 0.15.1+cu118\n",
      "tqdm version: 4.66.1\n",
      "lmdb version: NOT INSTALLED or UNKNOWN VERSION.\n",
      "psutil version: 5.9.1\n",
      "pandas version: 1.2.3\n",
      "einops version: 0.7.0\n",
      "transformers version: NOT INSTALLED or UNKNOWN VERSION.\n",
      "mlflow version: NOT INSTALLED or UNKNOWN VERSION.\n",
      "pynrrd version: 1.0.0\n",
      "clearml version: NOT INSTALLED or UNKNOWN VERSION.\n",
      "\n",
      "For details about installing the optional dependencies, please visit:\n",
      "    https://docs.monai.io/en/latest/installation.html#installing-the-recommended-dependencies\n",
      "\n"
     ]
    }
   ],
   "source": [
    "import os\n",
    "import json\n",
    "import nibabel as nib\n",
    "import numpy as np\n",
    "import matplotlib.pyplot as plt\n",
    "\n",
    "from monai.apps.auto3dseg import AutoRunner\n",
    "from monai.config import print_config\n",
    "from monai.data import create_test_image_3d\n",
    "\n",
    "print_config()"
   ]
  },
  {
   "cell_type": "code",
   "execution_count": 3,
   "id": "39492256",
   "metadata": {},
   "outputs": [
    {
     "name": "stdout",
     "output_type": "stream",
     "text": [
      "nvcc: NVIDIA (R) Cuda compiler driver\r\n",
      "Copyright (c) 2005-2019 NVIDIA Corporation\r\n",
      "Built on Sun_Jul_28_19:07:16_PDT_2019\r\n",
      "Cuda compilation tools, release 10.1, V10.1.243\r\n"
     ]
    }
   ],
   "source": [
    "!nvcc --version"
   ]
  },
  {
   "cell_type": "code",
   "execution_count": null,
   "id": "23bb9697",
   "metadata": {},
   "outputs": [],
   "source": []
  },
  {
   "cell_type": "code",
   "execution_count": null,
   "id": "18636cba",
   "metadata": {},
   "outputs": [],
   "source": []
  },
  {
   "cell_type": "code",
   "execution_count": 4,
   "id": "0efd8baf",
   "metadata": {},
   "outputs": [],
   "source": [
    "import cactas as C"
   ]
  },
  {
   "cell_type": "code",
   "execution_count": 5,
   "id": "75e197e2",
   "metadata": {},
   "outputs": [],
   "source": [
    "DATAPATH='/raid/mpsych/CACTAS/DATA/ESUS'"
   ]
  },
  {
   "cell_type": "code",
   "execution_count": 6,
   "id": "a936644a",
   "metadata": {},
   "outputs": [],
   "source": [
    "images, labels = C.Helper.load_data(DATAPATH)"
   ]
  },
  {
   "cell_type": "code",
   "execution_count": 7,
   "id": "648fe04c",
   "metadata": {},
   "outputs": [
    {
     "data": {
      "text/plain": [
       "(70, 70)"
      ]
     },
     "execution_count": 7,
     "metadata": {},
     "output_type": "execute_result"
    }
   ],
   "source": [
    "len(images), len(labels)"
   ]
  },
  {
   "cell_type": "code",
   "execution_count": 8,
   "id": "b7d988ad",
   "metadata": {},
   "outputs": [],
   "source": [
    "import nrrd\n",
    "\n",
    "image = []\n",
    "label = []\n",
    "\n",
    "for file in images:\n",
    "    data, header = nrrd.read(DATAPATH + \"/\" +file)\n",
    "    image.append(data)\n",
    "    \n",
    "for file in labels:\n",
    "    data, header = nrrd.read(DATAPATH + \"/\" +file)\n",
    "    label.append(data)"
   ]
  },
  {
   "cell_type": "code",
   "execution_count": 9,
   "id": "3479b63f",
   "metadata": {},
   "outputs": [
    {
     "ename": "KeyboardInterrupt",
     "evalue": "",
     "output_type": "error",
     "traceback": [
      "\u001b[0;31m---------------------------------------------------------------------------\u001b[0m",
      "\u001b[0;31mKeyboardInterrupt\u001b[0m                         Traceback (most recent call last)",
      "\u001b[0;32m/tmp/ipykernel_1180198/2887383138.py\u001b[0m in \u001b[0;36m<module>\u001b[0;34m\u001b[0m\n\u001b[1;32m     25\u001b[0m \u001b[0;34m\u001b[0m\u001b[0m\n\u001b[1;32m     26\u001b[0m     \u001b[0mpadded_images\u001b[0m\u001b[0;34m[\u001b[0m\u001b[0mi\u001b[0m\u001b[0;34m]\u001b[0m \u001b[0;34m=\u001b[0m \u001b[0mpadded_image\u001b[0m\u001b[0;34m\u001b[0m\u001b[0;34m\u001b[0m\u001b[0m\n\u001b[0;32m---> 27\u001b[0;31m     \u001b[0mpadded_labels\u001b[0m\u001b[0;34m[\u001b[0m\u001b[0mi\u001b[0m\u001b[0;34m]\u001b[0m \u001b[0;34m=\u001b[0m \u001b[0mpadded_label\u001b[0m\u001b[0;34m\u001b[0m\u001b[0;34m\u001b[0m\u001b[0m\n\u001b[0m",
      "\u001b[0;31mKeyboardInterrupt\u001b[0m: "
     ]
    }
   ],
   "source": [
    "import numpy as np\n",
    "\n",
    "original_image = image\n",
    "original_label = label\n",
    "\n",
    "target_shape = (512, 512, 512)  \n",
    "\n",
    "slicecount = len(original_image)\n",
    "\n",
    "padded_images = np.zeros((slicecount, target_shape[1], target_shape[0], target_shape[2]), dtype=image[0].dtype)\n",
    "padded_labels = np.zeros((slicecount, target_shape[1], target_shape[0], target_shape[2]), dtype=label[0].dtype)\n",
    "\n",
    "for i in range(len(original_image)):\n",
    "    pad_x_img = max(0, target_shape[1] - original_image[i].shape[1])\n",
    "    pad_y_img = max(0, target_shape[0] - original_image[i].shape[0])\n",
    "    pad_z_img = max(0, target_shape[2] - original_image[i].shape[2])\n",
    "    \n",
    "    pad_x_label = max(0, target_shape[1] - original_label[i].shape[1])\n",
    "    pad_y_label = max(0, target_shape[0] - original_label[i].shape[0])\n",
    "    pad_z_label = max(0, target_shape[2] - original_label[i].shape[2])\n",
    "    \n",
    "\n",
    "    padded_image = np.pad(original_image[i], ((0, pad_x_img), (0, pad_y_img), (0, pad_z_img)), mode='constant')\n",
    "    padded_label = np.pad(original_label[i], ((0, pad_x_label), (0, pad_y_label), (0, pad_z_label)), mode='constant')\n",
    "\n",
    "    padded_images[i] = padded_image\n",
    "    padded_labels[i] = padded_label"
   ]
  },
  {
   "cell_type": "code",
   "execution_count": null,
   "id": "468667f1",
   "metadata": {},
   "outputs": [],
   "source": [
    "padded_images.shape, padded_labels.shape"
   ]
  },
  {
   "cell_type": "code",
   "execution_count": null,
   "id": "5cdb53fa",
   "metadata": {},
   "outputs": [],
   "source": [
    "padded_images[0].shape"
   ]
  },
  {
   "cell_type": "code",
   "execution_count": null,
   "id": "bf18b467",
   "metadata": {},
   "outputs": [],
   "source": []
  },
  {
   "cell_type": "code",
   "execution_count": 19,
   "id": "7af1d265",
   "metadata": {},
   "outputs": [],
   "source": [
    "# Calculate the number of cubes in each dimension\n",
    "num_cubes_x = 4\n",
    "num_cubes_y = 4\n",
    "num_cubes_z = 4\n",
    "output_size = (128, 128, 128)\n",
    "x = 0\n",
    "chunk_image = []\n",
    "\n",
    "for file_index in range(len(padded_images)): \n",
    "    input_image = padded_images[file_index]\n",
    "    for i in range(num_cubes_x):\n",
    "        for j in range(num_cubes_y):\n",
    "            for k in range(num_cubes_z):\n",
    "                x_start = i * output_size[0]\n",
    "                x_end = (i + 1) * output_size[0]\n",
    "                y_start = j * output_size[1]\n",
    "                y_end = (j + 1) * output_size[1]\n",
    "                z_start = k * output_size[2]\n",
    "                z_end = (k + 1) * output_size[2]\n",
    "                output_chunk = input_image[x_start:x_end, y_start:y_end, z_start:z_end]\n",
    "                chunk_image.append(output_chunk)\n",
    "                x += 1"
   ]
  },
  {
   "cell_type": "code",
   "execution_count": null,
   "id": "96151df4",
   "metadata": {},
   "outputs": [],
   "source": []
  },
  {
   "cell_type": "code",
   "execution_count": 24,
   "id": "331a3190",
   "metadata": {},
   "outputs": [],
   "source": [
    "# Calculate the number of cubes in each dimension\n",
    "num_cubes_x = 4\n",
    "num_cubes_y = 4\n",
    "num_cubes_z = 4\n",
    "output_size = (128, 128, 128)\n",
    "x = 0\n",
    "chunk_label = []\n",
    "\n",
    "for file_index in range(len(padded_labels)):  \n",
    "    input_image = padded_labels[file_index]\n",
    "    for i in range(num_cubes_x):\n",
    "        for j in range(num_cubes_y):\n",
    "            for k in range(num_cubes_z):\n",
    "                x_start = i * output_size[0]\n",
    "                x_end = (i + 1) * output_size[0]\n",
    "                y_start = j * output_size[1]\n",
    "                y_end = (j + 1) * output_size[1]\n",
    "                z_start = k * output_size[2]\n",
    "                z_end = (k + 1) * output_size[2]\n",
    "                output_chunk = input_image[x_start:x_end, y_start:y_end, z_start:z_end]\n",
    "                chunk_label.append(output_chunk)\n",
    "                x += 1"
   ]
  },
  {
   "cell_type": "code",
   "execution_count": 37,
   "id": "bedfa7f9",
   "metadata": {},
   "outputs": [
    {
     "data": {
      "text/plain": [
       "(4480, 4480)"
      ]
     },
     "execution_count": 37,
     "metadata": {},
     "output_type": "execute_result"
    }
   ],
   "source": [
    "len(chunk_image), len(chunk_label)"
   ]
  },
  {
   "cell_type": "code",
   "execution_count": 33,
   "id": "2518383e",
   "metadata": {},
   "outputs": [],
   "source": [
    "chunk_data = chunk_image + chunk_label"
   ]
  },
  {
   "cell_type": "code",
   "execution_count": 39,
   "id": "67df705d",
   "metadata": {},
   "outputs": [
    {
     "data": {
      "text/plain": [
       "(128, 128, 128)"
      ]
     },
     "execution_count": 39,
     "metadata": {},
     "output_type": "execute_result"
    }
   ],
   "source": [
    "chunk_data[8959].shape"
   ]
  },
  {
   "cell_type": "code",
   "execution_count": null,
   "id": "db544e9a",
   "metadata": {},
   "outputs": [],
   "source": [
    "'''\n",
    "img: chunk_data[0] ~ chunk_data[4479]\n",
    "label: chunk_data[4480] ~ chunk_data[8959]\n",
    "'''"
   ]
  },
  {
   "cell_type": "code",
   "execution_count": null,
   "id": "614f5be5",
   "metadata": {},
   "outputs": [],
   "source": [
    "sim_dim = (128, 128, 128)"
   ]
  },
  {
   "cell_type": "code",
   "execution_count": 26,
   "id": "11802f84",
   "metadata": {},
   "outputs": [],
   "source": [
    "'''\n",
    "sim_datalist = {\n",
    "    \"testing\": [\n",
    "        {\"image\": \"10.img.nrrd\", \"label\": \"10.b.seg.nrrd\"},\n",
    "        {\"image\": \"11.b.img.nrrd\", \"label\": \"11.b.seg.nrrd\"},\n",
    "    ],\n",
    "    \"training\": [\n",
    "        {\"fold\": 0, \"image\": \"12.img.nrrd\", \"label\": \"12.b.seg.nrrd\"},\n",
    "        {\"fold\": 0, \"image\": \"13.img.nrrd\", \"label\": \"13.b.seg.nrrd\"},\n",
    "        {\"fold\": 0, \"image\": \"14.img.nrrd\", \"label\": \"14.b.seg.nrrd\"},\n",
    "        {\"fold\": 0, \"image\": \"15.img.nrrd\", \"label\": \"15.b.seg.nrrd\"},\n",
    "        {\"fold\": 1, \"image\": \"16.img.nrrd\", \"label\": \"16.b.seg.nrrd\"},\n",
    "        {\"fold\": 1, \"image\": \"17.img.nrrd\", \"label\": \"17.b.seg.nrrd\"},\n",
    "        {\"fold\": 1, \"image\": \"18.img.nrrd\", \"label\": \"18.b.seg.nrrdz\"},\n",
    "        {\"fold\": 1, \"image\": \"21.img.nrrd\", \"label\": \"21.b.seg.nrrd\"},\n",
    "        {\"fold\": 2, \"image\": \"22.img.nrrd\", \"label\": \"22.b.seg.nrrdz\"},\n",
    "        {\"fold\": 2, \"image\": \"23.img.nrrd\", \"label\": \"23.b.seg.nrrd\"},\n",
    "        {\"fold\": 2, \"image\": \"24.img.nrrd\", \"label\": \"24.b.seg.nrrd\"},\n",
    "        {\"fold\": 2, \"image\": \"25.img.nrrd\", \"label\": \"25.b.seg.nrrd\"},\n",
    "    ],\n",
    "}\n",
    "\n",
    "sim_dim = (512, 512, 512)\n",
    "'''"
   ]
  },
  {
   "cell_type": "code",
   "execution_count": 27,
   "id": "07148efe",
   "metadata": {},
   "outputs": [
    {
     "data": {
      "text/plain": [
       "'\\nfor d in sim_datalist[\"testing\"] + sim_datalist[\"training\"]:\\n    im_data, im_header = nrrd.read(DATAPATH + \"/\" +d[\"image\"])  \\n    seg_data, seg_header = nrrd.read(DATAPATH + \"/\" +d[\"image\"])  \\n\\n    image_fpath = os.path.join(dataroot_dir, d[\"image\"])\\n    label_fpath = os.path.join(dataroot_dir, d[\"image\"])\\n\\n    # Save the NRRD image and segmentation data\\n    #nrrd.write(image_fpath, im_data)\\n    #nrrd.write(label_fpath, seg_data)\\n'"
      ]
     },
     "execution_count": 27,
     "metadata": {},
     "output_type": "execute_result"
    }
   ],
   "source": [
    "work_dir = \"./helloworld_work_directory\"\n",
    "if not os.path.isdir(work_dir):\n",
    "    os.makedirs(work_dir)\n",
    "\n",
    "dataroot_dir = os.path.join(work_dir, \"sim_dataroot\")\n",
    "if not os.path.isdir(dataroot_dir):\n",
    "    os.makedirs(dataroot_dir)\n",
    "\n",
    "datalist_file = os.path.join(work_dir, \"sim_datalist.json\")\n",
    "with open(datalist_file, \"w\") as f:\n",
    "    json.dump(sim_datalist, f)"
   ]
  },
  {
   "cell_type": "code",
   "execution_count": 41,
   "id": "8cb420e0",
   "metadata": {},
   "outputs": [
    {
     "name": "stdout",
     "output_type": "stream",
     "text": [
      "2023-10-16 22:25:37,730 - INFO - AutoRunner using work directory ./helloworld_work_directory\n",
      "2023-10-16 22:25:37,732 - INFO - Setting num_fold 3 based on the input datalist /home/jiehyun.kim001/CACTAS/_EXPERIMENTS/helloworld_work_directory/sim_datalist.json.\n"
     ]
    },
    {
     "ename": "RepresenterError",
     "evalue": "('cannot represent an object', array([[[-1005,  -996,  -994, ..., -1002, -1003, -1005],\n        [-1005,  -999,  -995, ..., -1003, -1003, -1008],\n        [-1003, -1002, -1001, ..., -1005, -1003, -1008],\n        ...,\n        [ -998, -1006, -1004, ..., -1002,  -998, -1001],\n        [ -998, -1008, -1008, ..., -1000,  -999,  -998],\n        [ -998, -1005, -1005, ...,  -998, -1000,  -994]],\n\n       [[-1005,  -995,  -998, ..., -1002, -1006, -1002],\n        [-1008,  -997,  -996, ..., -1002, -1004, -1005],\n        [-1006,  -999,  -998, ..., -1003, -1004, -1009],\n        ...,\n        [ -995, -1001, -1004, ..., -1000,  -998, -1005],\n        [ -995, -1006, -1008, ..., -1001, -1000, -1003],\n        [ -995, -1008, -1007, ..., -1001, -1002,  -997]],\n\n       [[-1001,  -999, -1003, ..., -1005, -1008, -1003],\n        [-1003,  -999, -1001, ..., -1003, -1007, -1000],\n        [-1004,  -999, -1000, ..., -1003, -1007, -1003],\n        ...,\n        [ -997,  -996, -1000, ..., -1000, -1002, -1007],\n        [ -996, -1000, -1003, ..., -1001, -1002, -1008],\n        [ -994, -1006, -1004, ..., -1004, -1005, -1002]],\n\n       ...,\n\n       [[ -998, -1003, -1001, ..., -1004,  -995,  -997],\n        [ -995, -1000, -1004, ..., -1003,  -995,  -999],\n        [ -996,  -997, -1005, ..., -1001,  -997, -1000],\n        ...,\n        [ -998,  -997, -1002, ...,  1375,  1279,  1087],\n        [ -998,  -998, -1000, ...,  1589,  1468,  1205],\n        [ -998,  -999,  -999, ...,  1667,  1528,  1191]],\n\n       [[-1000, -1001, -1000, ...,  -997,  -994,  -997],\n        [ -996,  -999, -1002, ...,  -998,  -994,  -998],\n        [ -994,  -997, -1004, ...,  -998,  -995,  -998],\n        ...,\n        [ -998,  -996, -1003, ...,  1709,  1649,  1507],\n        [ -998,  -994, -1001, ...,  1705,  1636,  1463],\n        [ -998,  -993,  -999, ...,  1568,  1475,  1258]],\n\n       [[-1002, -1000, -1000, ...,  -996,  -996,  -999],\n        [-1001,  -999,  -999, ...,  -997,  -997,  -998],\n        [ -998,  -998,  -998, ...,  -997,  -997,  -996],\n        ...,\n        [-1000, -1000, -1001, ...,  1695,  1671,  1562],\n        [ -998,  -995,  -998, ...,  1492,  1429,  1285],\n        [ -997,  -992,  -997, ...,  1158,  1089,   940]]], dtype=int16))",
     "output_type": "error",
     "traceback": [
      "\u001b[0;31m---------------------------------------------------------------------------\u001b[0m",
      "\u001b[0;31mRepresenterError\u001b[0m                          Traceback (most recent call last)",
      "\u001b[0;32m/tmp/ipykernel_4164264/3318985465.py\u001b[0m in \u001b[0;36m<module>\u001b[0;34m\u001b[0m\n\u001b[0;32m----> 1\u001b[0;31m runner = AutoRunner(\n\u001b[0m\u001b[1;32m      2\u001b[0m     \u001b[0mwork_dir\u001b[0m\u001b[0;34m=\u001b[0m\u001b[0mwork_dir\u001b[0m\u001b[0;34m,\u001b[0m\u001b[0;34m\u001b[0m\u001b[0;34m\u001b[0m\u001b[0m\n\u001b[1;32m      3\u001b[0m     input={\n\u001b[1;32m      4\u001b[0m         \u001b[0;34m\"modality\"\u001b[0m\u001b[0;34m:\u001b[0m \u001b[0;34m\"CT\"\u001b[0m\u001b[0;34m,\u001b[0m\u001b[0;34m\u001b[0m\u001b[0;34m\u001b[0m\u001b[0m\n\u001b[1;32m      5\u001b[0m         \u001b[0;34m\"datalist\"\u001b[0m\u001b[0;34m:\u001b[0m \u001b[0mdatalist_file\u001b[0m\u001b[0;34m,\u001b[0m\u001b[0;34m\u001b[0m\u001b[0;34m\u001b[0m\u001b[0m\n",
      "\u001b[0;32m~/miniconda3/envs/O/lib/python3.9/site-packages/monai/apps/auto3dseg/auto_runner.py\u001b[0m in \u001b[0;36m__init__\u001b[0;34m(self, work_dir, input, algos, analyze, algo_gen, train, hpo, hpo_backend, ensemble, not_use_cache, templates_path_or_url, allow_skip, **kwargs)\u001b[0m\n\u001b[1;32m    255\u001b[0m \u001b[0;34m\u001b[0m\u001b[0m\n\u001b[1;32m    256\u001b[0m         \u001b[0mself\u001b[0m\u001b[0;34m.\u001b[0m\u001b[0mdata_src_cfg\u001b[0m\u001b[0;34m[\u001b[0m\u001b[0;34m\"datalist\"\u001b[0m\u001b[0;34m]\u001b[0m \u001b[0;34m=\u001b[0m \u001b[0mdatalist_filename\u001b[0m  \u001b[0;31m# update path to a version in work_dir and save user input\u001b[0m\u001b[0;34m\u001b[0m\u001b[0;34m\u001b[0m\u001b[0m\n\u001b[0;32m--> 257\u001b[0;31m         ConfigParser.export_config_file(\n\u001b[0m\u001b[1;32m    258\u001b[0m             \u001b[0mconfig\u001b[0m\u001b[0;34m=\u001b[0m\u001b[0mself\u001b[0m\u001b[0;34m.\u001b[0m\u001b[0mdata_src_cfg\u001b[0m\u001b[0;34m,\u001b[0m \u001b[0mfilepath\u001b[0m\u001b[0;34m=\u001b[0m\u001b[0mself\u001b[0m\u001b[0;34m.\u001b[0m\u001b[0mdata_src_cfg_name\u001b[0m\u001b[0;34m,\u001b[0m \u001b[0mfmt\u001b[0m\u001b[0;34m=\u001b[0m\u001b[0;34m\"yaml\"\u001b[0m\u001b[0;34m,\u001b[0m \u001b[0msort_keys\u001b[0m\u001b[0;34m=\u001b[0m\u001b[0;32mFalse\u001b[0m\u001b[0;34m\u001b[0m\u001b[0;34m\u001b[0m\u001b[0m\n\u001b[1;32m    259\u001b[0m         )\n",
      "\u001b[0;32m~/miniconda3/envs/O/lib/python3.9/site-packages/monai/bundle/config_parser.py\u001b[0m in \u001b[0;36mexport_config_file\u001b[0;34m(cls, config, filepath, fmt, **kwargs)\u001b[0m\n\u001b[1;32m    444\u001b[0m                 \u001b[0;32mreturn\u001b[0m\u001b[0;34m\u001b[0m\u001b[0;34m\u001b[0m\u001b[0m\n\u001b[1;32m    445\u001b[0m             \u001b[0;32mif\u001b[0m \u001b[0mwriter\u001b[0m \u001b[0;34m==\u001b[0m \u001b[0;34m\"yaml\"\u001b[0m \u001b[0;32mor\u001b[0m \u001b[0mwriter\u001b[0m \u001b[0;34m==\u001b[0m \u001b[0;34m\"yml\"\u001b[0m\u001b[0;34m:\u001b[0m\u001b[0;34m\u001b[0m\u001b[0;34m\u001b[0m\u001b[0m\n\u001b[0;32m--> 446\u001b[0;31m                 \u001b[0;32mreturn\u001b[0m \u001b[0myaml\u001b[0m\u001b[0;34m.\u001b[0m\u001b[0msafe_dump\u001b[0m\u001b[0;34m(\u001b[0m\u001b[0mconfig\u001b[0m\u001b[0;34m,\u001b[0m \u001b[0mf\u001b[0m\u001b[0;34m,\u001b[0m \u001b[0;34m**\u001b[0m\u001b[0mkwargs\u001b[0m\u001b[0;34m)\u001b[0m\u001b[0;34m\u001b[0m\u001b[0;34m\u001b[0m\u001b[0m\n\u001b[0m\u001b[1;32m    447\u001b[0m             \u001b[0;32mraise\u001b[0m \u001b[0mValueError\u001b[0m\u001b[0;34m(\u001b[0m\u001b[0;34mf\"only support JSON or YAML config file so far, got {writer}.\"\u001b[0m\u001b[0;34m)\u001b[0m\u001b[0;34m\u001b[0m\u001b[0;34m\u001b[0m\u001b[0m\n\u001b[1;32m    448\u001b[0m \u001b[0;34m\u001b[0m\u001b[0m\n",
      "\u001b[0;32m~/miniconda3/envs/O/lib/python3.9/site-packages/yaml/__init__.py\u001b[0m in \u001b[0;36msafe_dump\u001b[0;34m(data, stream, **kwds)\u001b[0m\n\u001b[1;32m    267\u001b[0m     \u001b[0mIf\u001b[0m \u001b[0mstream\u001b[0m \u001b[0;32mis\u001b[0m \u001b[0;32mNone\u001b[0m\u001b[0;34m,\u001b[0m \u001b[0;32mreturn\u001b[0m \u001b[0mthe\u001b[0m \u001b[0mproduced\u001b[0m \u001b[0mstring\u001b[0m \u001b[0minstead\u001b[0m\u001b[0;34m.\u001b[0m\u001b[0;34m\u001b[0m\u001b[0;34m\u001b[0m\u001b[0m\n\u001b[1;32m    268\u001b[0m     \"\"\"\n\u001b[0;32m--> 269\u001b[0;31m     \u001b[0;32mreturn\u001b[0m \u001b[0mdump_all\u001b[0m\u001b[0;34m(\u001b[0m\u001b[0;34m[\u001b[0m\u001b[0mdata\u001b[0m\u001b[0;34m]\u001b[0m\u001b[0;34m,\u001b[0m \u001b[0mstream\u001b[0m\u001b[0;34m,\u001b[0m \u001b[0mDumper\u001b[0m\u001b[0;34m=\u001b[0m\u001b[0mSafeDumper\u001b[0m\u001b[0;34m,\u001b[0m \u001b[0;34m**\u001b[0m\u001b[0mkwds\u001b[0m\u001b[0;34m)\u001b[0m\u001b[0;34m\u001b[0m\u001b[0;34m\u001b[0m\u001b[0m\n\u001b[0m\u001b[1;32m    270\u001b[0m \u001b[0;34m\u001b[0m\u001b[0m\n\u001b[1;32m    271\u001b[0m def add_implicit_resolver(tag, regexp, first=None,\n",
      "\u001b[0;32m~/miniconda3/envs/O/lib/python3.9/site-packages/yaml/__init__.py\u001b[0m in \u001b[0;36mdump_all\u001b[0;34m(documents, stream, Dumper, default_style, default_flow_style, canonical, indent, width, allow_unicode, line_break, encoding, explicit_start, explicit_end, version, tags, sort_keys)\u001b[0m\n\u001b[1;32m    239\u001b[0m         \u001b[0mdumper\u001b[0m\u001b[0;34m.\u001b[0m\u001b[0mopen\u001b[0m\u001b[0;34m(\u001b[0m\u001b[0;34m)\u001b[0m\u001b[0;34m\u001b[0m\u001b[0;34m\u001b[0m\u001b[0m\n\u001b[1;32m    240\u001b[0m         \u001b[0;32mfor\u001b[0m \u001b[0mdata\u001b[0m \u001b[0;32min\u001b[0m \u001b[0mdocuments\u001b[0m\u001b[0;34m:\u001b[0m\u001b[0;34m\u001b[0m\u001b[0;34m\u001b[0m\u001b[0m\n\u001b[0;32m--> 241\u001b[0;31m             \u001b[0mdumper\u001b[0m\u001b[0;34m.\u001b[0m\u001b[0mrepresent\u001b[0m\u001b[0;34m(\u001b[0m\u001b[0mdata\u001b[0m\u001b[0;34m)\u001b[0m\u001b[0;34m\u001b[0m\u001b[0;34m\u001b[0m\u001b[0m\n\u001b[0m\u001b[1;32m    242\u001b[0m         \u001b[0mdumper\u001b[0m\u001b[0;34m.\u001b[0m\u001b[0mclose\u001b[0m\u001b[0;34m(\u001b[0m\u001b[0;34m)\u001b[0m\u001b[0;34m\u001b[0m\u001b[0;34m\u001b[0m\u001b[0m\n\u001b[1;32m    243\u001b[0m     \u001b[0;32mfinally\u001b[0m\u001b[0;34m:\u001b[0m\u001b[0;34m\u001b[0m\u001b[0;34m\u001b[0m\u001b[0m\n",
      "\u001b[0;32m~/miniconda3/envs/O/lib/python3.9/site-packages/yaml/representer.py\u001b[0m in \u001b[0;36mrepresent\u001b[0;34m(self, data)\u001b[0m\n\u001b[1;32m     25\u001b[0m \u001b[0;34m\u001b[0m\u001b[0m\n\u001b[1;32m     26\u001b[0m     \u001b[0;32mdef\u001b[0m \u001b[0mrepresent\u001b[0m\u001b[0;34m(\u001b[0m\u001b[0mself\u001b[0m\u001b[0;34m,\u001b[0m \u001b[0mdata\u001b[0m\u001b[0;34m)\u001b[0m\u001b[0;34m:\u001b[0m\u001b[0;34m\u001b[0m\u001b[0;34m\u001b[0m\u001b[0m\n\u001b[0;32m---> 27\u001b[0;31m         \u001b[0mnode\u001b[0m \u001b[0;34m=\u001b[0m \u001b[0mself\u001b[0m\u001b[0;34m.\u001b[0m\u001b[0mrepresent_data\u001b[0m\u001b[0;34m(\u001b[0m\u001b[0mdata\u001b[0m\u001b[0;34m)\u001b[0m\u001b[0;34m\u001b[0m\u001b[0;34m\u001b[0m\u001b[0m\n\u001b[0m\u001b[1;32m     28\u001b[0m         \u001b[0mself\u001b[0m\u001b[0;34m.\u001b[0m\u001b[0mserialize\u001b[0m\u001b[0;34m(\u001b[0m\u001b[0mnode\u001b[0m\u001b[0;34m)\u001b[0m\u001b[0;34m\u001b[0m\u001b[0;34m\u001b[0m\u001b[0m\n\u001b[1;32m     29\u001b[0m         \u001b[0mself\u001b[0m\u001b[0;34m.\u001b[0m\u001b[0mrepresented_objects\u001b[0m \u001b[0;34m=\u001b[0m \u001b[0;34m{\u001b[0m\u001b[0;34m}\u001b[0m\u001b[0;34m\u001b[0m\u001b[0;34m\u001b[0m\u001b[0m\n",
      "\u001b[0;32m~/miniconda3/envs/O/lib/python3.9/site-packages/yaml/representer.py\u001b[0m in \u001b[0;36mrepresent_data\u001b[0;34m(self, data)\u001b[0m\n\u001b[1;32m     46\u001b[0m         \u001b[0mdata_types\u001b[0m \u001b[0;34m=\u001b[0m \u001b[0mtype\u001b[0m\u001b[0;34m(\u001b[0m\u001b[0mdata\u001b[0m\u001b[0;34m)\u001b[0m\u001b[0;34m.\u001b[0m\u001b[0m__mro__\u001b[0m\u001b[0;34m\u001b[0m\u001b[0;34m\u001b[0m\u001b[0m\n\u001b[1;32m     47\u001b[0m         \u001b[0;32mif\u001b[0m \u001b[0mdata_types\u001b[0m\u001b[0;34m[\u001b[0m\u001b[0;36m0\u001b[0m\u001b[0;34m]\u001b[0m \u001b[0;32min\u001b[0m \u001b[0mself\u001b[0m\u001b[0;34m.\u001b[0m\u001b[0myaml_representers\u001b[0m\u001b[0;34m:\u001b[0m\u001b[0;34m\u001b[0m\u001b[0;34m\u001b[0m\u001b[0m\n\u001b[0;32m---> 48\u001b[0;31m             \u001b[0mnode\u001b[0m \u001b[0;34m=\u001b[0m \u001b[0mself\u001b[0m\u001b[0;34m.\u001b[0m\u001b[0myaml_representers\u001b[0m\u001b[0;34m[\u001b[0m\u001b[0mdata_types\u001b[0m\u001b[0;34m[\u001b[0m\u001b[0;36m0\u001b[0m\u001b[0;34m]\u001b[0m\u001b[0;34m]\u001b[0m\u001b[0;34m(\u001b[0m\u001b[0mself\u001b[0m\u001b[0;34m,\u001b[0m \u001b[0mdata\u001b[0m\u001b[0;34m)\u001b[0m\u001b[0;34m\u001b[0m\u001b[0;34m\u001b[0m\u001b[0m\n\u001b[0m\u001b[1;32m     49\u001b[0m         \u001b[0;32melse\u001b[0m\u001b[0;34m:\u001b[0m\u001b[0;34m\u001b[0m\u001b[0;34m\u001b[0m\u001b[0m\n\u001b[1;32m     50\u001b[0m             \u001b[0;32mfor\u001b[0m \u001b[0mdata_type\u001b[0m \u001b[0;32min\u001b[0m \u001b[0mdata_types\u001b[0m\u001b[0;34m:\u001b[0m\u001b[0;34m\u001b[0m\u001b[0;34m\u001b[0m\u001b[0m\n",
      "\u001b[0;32m~/miniconda3/envs/O/lib/python3.9/site-packages/yaml/representer.py\u001b[0m in \u001b[0;36mrepresent_dict\u001b[0;34m(self, data)\u001b[0m\n\u001b[1;32m    205\u001b[0m \u001b[0;34m\u001b[0m\u001b[0m\n\u001b[1;32m    206\u001b[0m     \u001b[0;32mdef\u001b[0m \u001b[0mrepresent_dict\u001b[0m\u001b[0;34m(\u001b[0m\u001b[0mself\u001b[0m\u001b[0;34m,\u001b[0m \u001b[0mdata\u001b[0m\u001b[0;34m)\u001b[0m\u001b[0;34m:\u001b[0m\u001b[0;34m\u001b[0m\u001b[0;34m\u001b[0m\u001b[0m\n\u001b[0;32m--> 207\u001b[0;31m         \u001b[0;32mreturn\u001b[0m \u001b[0mself\u001b[0m\u001b[0;34m.\u001b[0m\u001b[0mrepresent_mapping\u001b[0m\u001b[0;34m(\u001b[0m\u001b[0;34m'tag:yaml.org,2002:map'\u001b[0m\u001b[0;34m,\u001b[0m \u001b[0mdata\u001b[0m\u001b[0;34m)\u001b[0m\u001b[0;34m\u001b[0m\u001b[0;34m\u001b[0m\u001b[0m\n\u001b[0m\u001b[1;32m    208\u001b[0m \u001b[0;34m\u001b[0m\u001b[0m\n\u001b[1;32m    209\u001b[0m     \u001b[0;32mdef\u001b[0m \u001b[0mrepresent_set\u001b[0m\u001b[0;34m(\u001b[0m\u001b[0mself\u001b[0m\u001b[0;34m,\u001b[0m \u001b[0mdata\u001b[0m\u001b[0;34m)\u001b[0m\u001b[0;34m:\u001b[0m\u001b[0;34m\u001b[0m\u001b[0;34m\u001b[0m\u001b[0m\n",
      "\u001b[0;32m~/miniconda3/envs/O/lib/python3.9/site-packages/yaml/representer.py\u001b[0m in \u001b[0;36mrepresent_mapping\u001b[0;34m(self, tag, mapping, flow_style)\u001b[0m\n\u001b[1;32m    116\u001b[0m         \u001b[0;32mfor\u001b[0m \u001b[0mitem_key\u001b[0m\u001b[0;34m,\u001b[0m \u001b[0mitem_value\u001b[0m \u001b[0;32min\u001b[0m \u001b[0mmapping\u001b[0m\u001b[0;34m:\u001b[0m\u001b[0;34m\u001b[0m\u001b[0;34m\u001b[0m\u001b[0m\n\u001b[1;32m    117\u001b[0m             \u001b[0mnode_key\u001b[0m \u001b[0;34m=\u001b[0m \u001b[0mself\u001b[0m\u001b[0;34m.\u001b[0m\u001b[0mrepresent_data\u001b[0m\u001b[0;34m(\u001b[0m\u001b[0mitem_key\u001b[0m\u001b[0;34m)\u001b[0m\u001b[0;34m\u001b[0m\u001b[0;34m\u001b[0m\u001b[0m\n\u001b[0;32m--> 118\u001b[0;31m             \u001b[0mnode_value\u001b[0m \u001b[0;34m=\u001b[0m \u001b[0mself\u001b[0m\u001b[0;34m.\u001b[0m\u001b[0mrepresent_data\u001b[0m\u001b[0;34m(\u001b[0m\u001b[0mitem_value\u001b[0m\u001b[0;34m)\u001b[0m\u001b[0;34m\u001b[0m\u001b[0;34m\u001b[0m\u001b[0m\n\u001b[0m\u001b[1;32m    119\u001b[0m             \u001b[0;32mif\u001b[0m \u001b[0;32mnot\u001b[0m \u001b[0;34m(\u001b[0m\u001b[0misinstance\u001b[0m\u001b[0;34m(\u001b[0m\u001b[0mnode_key\u001b[0m\u001b[0;34m,\u001b[0m \u001b[0mScalarNode\u001b[0m\u001b[0;34m)\u001b[0m \u001b[0;32mand\u001b[0m \u001b[0;32mnot\u001b[0m \u001b[0mnode_key\u001b[0m\u001b[0;34m.\u001b[0m\u001b[0mstyle\u001b[0m\u001b[0;34m)\u001b[0m\u001b[0;34m:\u001b[0m\u001b[0;34m\u001b[0m\u001b[0;34m\u001b[0m\u001b[0m\n\u001b[1;32m    120\u001b[0m                 \u001b[0mbest_style\u001b[0m \u001b[0;34m=\u001b[0m \u001b[0;32mFalse\u001b[0m\u001b[0;34m\u001b[0m\u001b[0;34m\u001b[0m\u001b[0m\n",
      "\u001b[0;32m~/miniconda3/envs/O/lib/python3.9/site-packages/yaml/representer.py\u001b[0m in \u001b[0;36mrepresent_data\u001b[0;34m(self, data)\u001b[0m\n\u001b[1;32m     46\u001b[0m         \u001b[0mdata_types\u001b[0m \u001b[0;34m=\u001b[0m \u001b[0mtype\u001b[0m\u001b[0;34m(\u001b[0m\u001b[0mdata\u001b[0m\u001b[0;34m)\u001b[0m\u001b[0;34m.\u001b[0m\u001b[0m__mro__\u001b[0m\u001b[0;34m\u001b[0m\u001b[0;34m\u001b[0m\u001b[0m\n\u001b[1;32m     47\u001b[0m         \u001b[0;32mif\u001b[0m \u001b[0mdata_types\u001b[0m\u001b[0;34m[\u001b[0m\u001b[0;36m0\u001b[0m\u001b[0;34m]\u001b[0m \u001b[0;32min\u001b[0m \u001b[0mself\u001b[0m\u001b[0;34m.\u001b[0m\u001b[0myaml_representers\u001b[0m\u001b[0;34m:\u001b[0m\u001b[0;34m\u001b[0m\u001b[0;34m\u001b[0m\u001b[0m\n\u001b[0;32m---> 48\u001b[0;31m             \u001b[0mnode\u001b[0m \u001b[0;34m=\u001b[0m \u001b[0mself\u001b[0m\u001b[0;34m.\u001b[0m\u001b[0myaml_representers\u001b[0m\u001b[0;34m[\u001b[0m\u001b[0mdata_types\u001b[0m\u001b[0;34m[\u001b[0m\u001b[0;36m0\u001b[0m\u001b[0;34m]\u001b[0m\u001b[0;34m]\u001b[0m\u001b[0;34m(\u001b[0m\u001b[0mself\u001b[0m\u001b[0;34m,\u001b[0m \u001b[0mdata\u001b[0m\u001b[0;34m)\u001b[0m\u001b[0;34m\u001b[0m\u001b[0;34m\u001b[0m\u001b[0m\n\u001b[0m\u001b[1;32m     49\u001b[0m         \u001b[0;32melse\u001b[0m\u001b[0;34m:\u001b[0m\u001b[0;34m\u001b[0m\u001b[0;34m\u001b[0m\u001b[0m\n\u001b[1;32m     50\u001b[0m             \u001b[0;32mfor\u001b[0m \u001b[0mdata_type\u001b[0m \u001b[0;32min\u001b[0m \u001b[0mdata_types\u001b[0m\u001b[0;34m:\u001b[0m\u001b[0;34m\u001b[0m\u001b[0;34m\u001b[0m\u001b[0m\n",
      "\u001b[0;32m~/miniconda3/envs/O/lib/python3.9/site-packages/yaml/representer.py\u001b[0m in \u001b[0;36mrepresent_list\u001b[0;34m(self, data)\u001b[0m\n\u001b[1;32m    197\u001b[0m         \u001b[0;31m#            break\u001b[0m\u001b[0;34m\u001b[0m\u001b[0;34m\u001b[0m\u001b[0m\n\u001b[1;32m    198\u001b[0m         \u001b[0;31m#if not pairs:\u001b[0m\u001b[0;34m\u001b[0m\u001b[0;34m\u001b[0m\u001b[0m\n\u001b[0;32m--> 199\u001b[0;31m             \u001b[0;32mreturn\u001b[0m \u001b[0mself\u001b[0m\u001b[0;34m.\u001b[0m\u001b[0mrepresent_sequence\u001b[0m\u001b[0;34m(\u001b[0m\u001b[0;34m'tag:yaml.org,2002:seq'\u001b[0m\u001b[0;34m,\u001b[0m \u001b[0mdata\u001b[0m\u001b[0;34m)\u001b[0m\u001b[0;34m\u001b[0m\u001b[0;34m\u001b[0m\u001b[0m\n\u001b[0m\u001b[1;32m    200\u001b[0m         \u001b[0;31m#value = []\u001b[0m\u001b[0;34m\u001b[0m\u001b[0;34m\u001b[0m\u001b[0m\n\u001b[1;32m    201\u001b[0m         \u001b[0;31m#for item_key, item_value in data:\u001b[0m\u001b[0;34m\u001b[0m\u001b[0;34m\u001b[0m\u001b[0m\n",
      "\u001b[0;32m~/miniconda3/envs/O/lib/python3.9/site-packages/yaml/representer.py\u001b[0m in \u001b[0;36mrepresent_sequence\u001b[0;34m(self, tag, sequence, flow_style)\u001b[0m\n\u001b[1;32m     90\u001b[0m         \u001b[0mbest_style\u001b[0m \u001b[0;34m=\u001b[0m \u001b[0;32mTrue\u001b[0m\u001b[0;34m\u001b[0m\u001b[0;34m\u001b[0m\u001b[0m\n\u001b[1;32m     91\u001b[0m         \u001b[0;32mfor\u001b[0m \u001b[0mitem\u001b[0m \u001b[0;32min\u001b[0m \u001b[0msequence\u001b[0m\u001b[0;34m:\u001b[0m\u001b[0;34m\u001b[0m\u001b[0;34m\u001b[0m\u001b[0m\n\u001b[0;32m---> 92\u001b[0;31m             \u001b[0mnode_item\u001b[0m \u001b[0;34m=\u001b[0m \u001b[0mself\u001b[0m\u001b[0;34m.\u001b[0m\u001b[0mrepresent_data\u001b[0m\u001b[0;34m(\u001b[0m\u001b[0mitem\u001b[0m\u001b[0;34m)\u001b[0m\u001b[0;34m\u001b[0m\u001b[0;34m\u001b[0m\u001b[0m\n\u001b[0m\u001b[1;32m     93\u001b[0m             \u001b[0;32mif\u001b[0m \u001b[0;32mnot\u001b[0m \u001b[0;34m(\u001b[0m\u001b[0misinstance\u001b[0m\u001b[0;34m(\u001b[0m\u001b[0mnode_item\u001b[0m\u001b[0;34m,\u001b[0m \u001b[0mScalarNode\u001b[0m\u001b[0;34m)\u001b[0m \u001b[0;32mand\u001b[0m \u001b[0;32mnot\u001b[0m \u001b[0mnode_item\u001b[0m\u001b[0;34m.\u001b[0m\u001b[0mstyle\u001b[0m\u001b[0;34m)\u001b[0m\u001b[0;34m:\u001b[0m\u001b[0;34m\u001b[0m\u001b[0;34m\u001b[0m\u001b[0m\n\u001b[1;32m     94\u001b[0m                 \u001b[0mbest_style\u001b[0m \u001b[0;34m=\u001b[0m \u001b[0;32mFalse\u001b[0m\u001b[0;34m\u001b[0m\u001b[0;34m\u001b[0m\u001b[0m\n",
      "\u001b[0;32m~/miniconda3/envs/O/lib/python3.9/site-packages/yaml/representer.py\u001b[0m in \u001b[0;36mrepresent_data\u001b[0;34m(self, data)\u001b[0m\n\u001b[1;32m     56\u001b[0m                     \u001b[0mnode\u001b[0m \u001b[0;34m=\u001b[0m \u001b[0mself\u001b[0m\u001b[0;34m.\u001b[0m\u001b[0myaml_multi_representers\u001b[0m\u001b[0;34m[\u001b[0m\u001b[0;32mNone\u001b[0m\u001b[0;34m]\u001b[0m\u001b[0;34m(\u001b[0m\u001b[0mself\u001b[0m\u001b[0;34m,\u001b[0m \u001b[0mdata\u001b[0m\u001b[0;34m)\u001b[0m\u001b[0;34m\u001b[0m\u001b[0;34m\u001b[0m\u001b[0m\n\u001b[1;32m     57\u001b[0m                 \u001b[0;32melif\u001b[0m \u001b[0;32mNone\u001b[0m \u001b[0;32min\u001b[0m \u001b[0mself\u001b[0m\u001b[0;34m.\u001b[0m\u001b[0myaml_representers\u001b[0m\u001b[0;34m:\u001b[0m\u001b[0;34m\u001b[0m\u001b[0;34m\u001b[0m\u001b[0m\n\u001b[0;32m---> 58\u001b[0;31m                     \u001b[0mnode\u001b[0m \u001b[0;34m=\u001b[0m \u001b[0mself\u001b[0m\u001b[0;34m.\u001b[0m\u001b[0myaml_representers\u001b[0m\u001b[0;34m[\u001b[0m\u001b[0;32mNone\u001b[0m\u001b[0;34m]\u001b[0m\u001b[0;34m(\u001b[0m\u001b[0mself\u001b[0m\u001b[0;34m,\u001b[0m \u001b[0mdata\u001b[0m\u001b[0;34m)\u001b[0m\u001b[0;34m\u001b[0m\u001b[0;34m\u001b[0m\u001b[0m\n\u001b[0m\u001b[1;32m     59\u001b[0m                 \u001b[0;32melse\u001b[0m\u001b[0;34m:\u001b[0m\u001b[0;34m\u001b[0m\u001b[0;34m\u001b[0m\u001b[0m\n\u001b[1;32m     60\u001b[0m                     \u001b[0mnode\u001b[0m \u001b[0;34m=\u001b[0m \u001b[0mScalarNode\u001b[0m\u001b[0;34m(\u001b[0m\u001b[0;32mNone\u001b[0m\u001b[0;34m,\u001b[0m \u001b[0mstr\u001b[0m\u001b[0;34m(\u001b[0m\u001b[0mdata\u001b[0m\u001b[0;34m)\u001b[0m\u001b[0;34m)\u001b[0m\u001b[0;34m\u001b[0m\u001b[0;34m\u001b[0m\u001b[0m\n",
      "\u001b[0;32m~/miniconda3/envs/O/lib/python3.9/site-packages/yaml/representer.py\u001b[0m in \u001b[0;36mrepresent_undefined\u001b[0;34m(self, data)\u001b[0m\n\u001b[1;32m    229\u001b[0m \u001b[0;34m\u001b[0m\u001b[0m\n\u001b[1;32m    230\u001b[0m     \u001b[0;32mdef\u001b[0m \u001b[0mrepresent_undefined\u001b[0m\u001b[0;34m(\u001b[0m\u001b[0mself\u001b[0m\u001b[0;34m,\u001b[0m \u001b[0mdata\u001b[0m\u001b[0;34m)\u001b[0m\u001b[0;34m:\u001b[0m\u001b[0;34m\u001b[0m\u001b[0;34m\u001b[0m\u001b[0m\n\u001b[0;32m--> 231\u001b[0;31m         \u001b[0;32mraise\u001b[0m \u001b[0mRepresenterError\u001b[0m\u001b[0;34m(\u001b[0m\u001b[0;34m\"cannot represent an object\"\u001b[0m\u001b[0;34m,\u001b[0m \u001b[0mdata\u001b[0m\u001b[0;34m)\u001b[0m\u001b[0;34m\u001b[0m\u001b[0;34m\u001b[0m\u001b[0m\n\u001b[0m\u001b[1;32m    232\u001b[0m \u001b[0;34m\u001b[0m\u001b[0m\n\u001b[1;32m    233\u001b[0m SafeRepresenter.add_representer(type(None),\n",
      "\u001b[0;31mRepresenterError\u001b[0m: ('cannot represent an object', array([[[-1005,  -996,  -994, ..., -1002, -1003, -1005],\n        [-1005,  -999,  -995, ..., -1003, -1003, -1008],\n        [-1003, -1002, -1001, ..., -1005, -1003, -1008],\n        ...,\n        [ -998, -1006, -1004, ..., -1002,  -998, -1001],\n        [ -998, -1008, -1008, ..., -1000,  -999,  -998],\n        [ -998, -1005, -1005, ...,  -998, -1000,  -994]],\n\n       [[-1005,  -995,  -998, ..., -1002, -1006, -1002],\n        [-1008,  -997,  -996, ..., -1002, -1004, -1005],\n        [-1006,  -999,  -998, ..., -1003, -1004, -1009],\n        ...,\n        [ -995, -1001, -1004, ..., -1000,  -998, -1005],\n        [ -995, -1006, -1008, ..., -1001, -1000, -1003],\n        [ -995, -1008, -1007, ..., -1001, -1002,  -997]],\n\n       [[-1001,  -999, -1003, ..., -1005, -1008, -1003],\n        [-1003,  -999, -1001, ..., -1003, -1007, -1000],\n        [-1004,  -999, -1000, ..., -1003, -1007, -1003],\n        ...,\n        [ -997,  -996, -1000, ..., -1000, -1002, -1007],\n        [ -996, -1000, -1003, ..., -1001, -1002, -1008],\n        [ -994, -1006, -1004, ..., -1004, -1005, -1002]],\n\n       ...,\n\n       [[ -998, -1003, -1001, ..., -1004,  -995,  -997],\n        [ -995, -1000, -1004, ..., -1003,  -995,  -999],\n        [ -996,  -997, -1005, ..., -1001,  -997, -1000],\n        ...,\n        [ -998,  -997, -1002, ...,  1375,  1279,  1087],\n        [ -998,  -998, -1000, ...,  1589,  1468,  1205],\n        [ -998,  -999,  -999, ...,  1667,  1528,  1191]],\n\n       [[-1000, -1001, -1000, ...,  -997,  -994,  -997],\n        [ -996,  -999, -1002, ...,  -998,  -994,  -998],\n        [ -994,  -997, -1004, ...,  -998,  -995,  -998],\n        ...,\n        [ -998,  -996, -1003, ...,  1709,  1649,  1507],\n        [ -998,  -994, -1001, ...,  1705,  1636,  1463],\n        [ -998,  -993,  -999, ...,  1568,  1475,  1258]],\n\n       [[-1002, -1000, -1000, ...,  -996,  -996,  -999],\n        [-1001,  -999,  -999, ...,  -997,  -997,  -998],\n        [ -998,  -998,  -998, ...,  -997,  -997,  -996],\n        ...,\n        [-1000, -1000, -1001, ...,  1695,  1671,  1562],\n        [ -998,  -995,  -998, ...,  1492,  1429,  1285],\n        [ -997,  -992,  -997, ...,  1158,  1089,   940]]], dtype=int16))"
     ]
    }
   ],
   "source": [
    "runner = AutoRunner(\n",
    "    work_dir=work_dir,\n",
    "    input={\n",
    "        \"modality\": \"CT\",\n",
    "        \"datalist\": datalist_file,\n",
    "        \"dataroot\": chunk_data,\n",
    "    },\n",
    ")"
   ]
  },
  {
   "cell_type": "code",
   "execution_count": 29,
   "id": "40508be4",
   "metadata": {},
   "outputs": [],
   "source": [
    "max_epochs = 2\n",
    "\n",
    "train_param = {\n",
    "    \"num_epochs_per_validation\": 1,\n",
    "    \"num_images_per_batch\": 2,\n",
    "    \"num_epochs\": max_epochs,\n",
    "    \"num_warmup_epochs\": 1,\n",
    "}\n",
    "runner.set_training_params(train_param)\n",
    "runner.set_num_fold(num_fold=1)\n"
   ]
  },
  {
   "cell_type": "code",
   "execution_count": 30,
   "id": "26e6e05d",
   "metadata": {},
   "outputs": [
    {
     "name": "stdout",
     "output_type": "stream",
     "text": [
      "2023-10-16 21:00:43,718 - INFO - Running data analysis...\n",
      "2023-10-16 21:00:43,736 - INFO - Found 1 GPUs for data analyzing!\n"
     ]
    },
    {
     "name": "stderr",
     "output_type": "stream",
     "text": [
      "/home/jiehyun.kim001/miniconda3/envs/O/lib/python3.9/site-packages/torch/utils/data/dataloader.py:561: UserWarning: This DataLoader will create 4 worker processes in total. Our suggested max number of worker in current system is 1, which is smaller than what this DataLoader is going to create. Please be aware that excessive worker creation might get DataLoader running slow or even freeze, lower the worker number to avoid potential slowness/freeze if necessary.\n",
      "  warnings.warn(_create_warning_msg(\n",
      " 50%|██████████████████████                      | 6/12 [04:54<04:54, 49.15s/it]\n"
     ]
    },
    {
     "ename": "RuntimeError",
     "evalue": "Caught RuntimeError in DataLoader worker process 2.\nOriginal Traceback (most recent call last):\n  File \"/home/jiehyun.kim001/miniconda3/envs/O/lib/python3.9/site-packages/monai/transforms/transform.py\", line 141, in apply_transform\n    return _apply_transform(transform, data, unpack_items, lazy, overrides, log_stats)\n  File \"/home/jiehyun.kim001/miniconda3/envs/O/lib/python3.9/site-packages/monai/transforms/transform.py\", line 98, in _apply_transform\n    return transform(data, lazy=lazy) if isinstance(transform, LazyTrait) else transform(data)\n  File \"/home/jiehyun.kim001/miniconda3/envs/O/lib/python3.9/site-packages/monai/transforms/io/dictionary.py\", line 162, in __call__\n    data = self._loader(d[key], reader)\n  File \"/home/jiehyun.kim001/miniconda3/envs/O/lib/python3.9/site-packages/monai/transforms/io/array.py\", line 255, in __call__\n    img = reader.read(filename)\n  File \"/home/jiehyun.kim001/miniconda3/envs/O/lib/python3.9/site-packages/monai/data/image_reader.py\", line 1289, in read\n    nrrd_image = NrrdImage(*nrrd.read(name, index_order=self.index_order, *kwargs_))\n  File \"/home/jiehyun.kim001/miniconda3/envs/O/lib/python3.9/site-packages/nrrd/reader.py\", line 515, in read\n    with open(filename, 'rb') as fh:\nFileNotFoundError: [Errno 2] No such file or directory: 'helloworld_work_directory/sim_dataroot/18.b.seg.nrrdz'\n\nThe above exception was the direct cause of the following exception:\n\nTraceback (most recent call last):\n  File \"/home/jiehyun.kim001/miniconda3/envs/O/lib/python3.9/site-packages/monai/transforms/transform.py\", line 141, in apply_transform\n    return _apply_transform(transform, data, unpack_items, lazy, overrides, log_stats)\n  File \"/home/jiehyun.kim001/miniconda3/envs/O/lib/python3.9/site-packages/monai/transforms/transform.py\", line 98, in _apply_transform\n    return transform(data, lazy=lazy) if isinstance(transform, LazyTrait) else transform(data)\n  File \"/home/jiehyun.kim001/miniconda3/envs/O/lib/python3.9/site-packages/monai/transforms/compose.py\", line 335, in __call__\n    result = execute_compose(\n  File \"/home/jiehyun.kim001/miniconda3/envs/O/lib/python3.9/site-packages/monai/transforms/compose.py\", line 111, in execute_compose\n    data = apply_transform(\n  File \"/home/jiehyun.kim001/miniconda3/envs/O/lib/python3.9/site-packages/monai/transforms/transform.py\", line 171, in apply_transform\n    raise RuntimeError(f\"applying transform {transform}\") from e\nRuntimeError: applying transform <monai.transforms.io.dictionary.LoadImaged object at 0x7f2d4dd38370>\n\nThe above exception was the direct cause of the following exception:\n\nTraceback (most recent call last):\n  File \"/home/jiehyun.kim001/miniconda3/envs/O/lib/python3.9/site-packages/torch/utils/data/_utils/worker.py\", line 308, in _worker_loop\n    data = fetcher.fetch(index)\n  File \"/home/jiehyun.kim001/miniconda3/envs/O/lib/python3.9/site-packages/torch/utils/data/_utils/fetch.py\", line 51, in fetch\n    data = [self.dataset[idx] for idx in possibly_batched_index]\n  File \"/home/jiehyun.kim001/miniconda3/envs/O/lib/python3.9/site-packages/torch/utils/data/_utils/fetch.py\", line 51, in <listcomp>\n    data = [self.dataset[idx] for idx in possibly_batched_index]\n  File \"/home/jiehyun.kim001/miniconda3/envs/O/lib/python3.9/site-packages/monai/data/dataset.py\", line 112, in __getitem__\n    return self._transform(index)\n  File \"/home/jiehyun.kim001/miniconda3/envs/O/lib/python3.9/site-packages/monai/data/dataset.py\", line 98, in _transform\n    return apply_transform(self.transform, data_i) if self.transform is not None else data_i\n  File \"/home/jiehyun.kim001/miniconda3/envs/O/lib/python3.9/site-packages/monai/transforms/transform.py\", line 171, in apply_transform\n    raise RuntimeError(f\"applying transform {transform}\") from e\nRuntimeError: applying transform <monai.transforms.compose.Compose object at 0x7f2d4dd2b910>\n",
     "output_type": "error",
     "traceback": [
      "\u001b[0;31m---------------------------------------------------------------------------\u001b[0m",
      "\u001b[0;31mRuntimeError\u001b[0m                              Traceback (most recent call last)",
      "\u001b[0;32m/tmp/ipykernel_4164264/3926302587.py\u001b[0m in \u001b[0;36m<module>\u001b[0;34m\u001b[0m\n\u001b[0;32m----> 1\u001b[0;31m \u001b[0mrunner\u001b[0m\u001b[0;34m.\u001b[0m\u001b[0mrun\u001b[0m\u001b[0;34m(\u001b[0m\u001b[0;34m)\u001b[0m\u001b[0;34m\u001b[0m\u001b[0;34m\u001b[0m\u001b[0m\n\u001b[0m",
      "\u001b[0;32m~/miniconda3/envs/O/lib/python3.9/site-packages/monai/apps/auto3dseg/auto_runner.py\u001b[0m in \u001b[0;36mrun\u001b[0;34m(self)\u001b[0m\n\u001b[1;32m    741\u001b[0m                 \u001b[0mself\u001b[0m\u001b[0;34m.\u001b[0m\u001b[0mdatalist_filename\u001b[0m\u001b[0;34m,\u001b[0m \u001b[0mself\u001b[0m\u001b[0;34m.\u001b[0m\u001b[0mdataroot\u001b[0m\u001b[0;34m,\u001b[0m \u001b[0moutput_path\u001b[0m\u001b[0;34m=\u001b[0m\u001b[0mself\u001b[0m\u001b[0;34m.\u001b[0m\u001b[0mdatastats_filename\u001b[0m\u001b[0;34m,\u001b[0m \u001b[0;34m**\u001b[0m\u001b[0mself\u001b[0m\u001b[0;34m.\u001b[0m\u001b[0manalyze_params\u001b[0m\u001b[0;34m\u001b[0m\u001b[0;34m\u001b[0m\u001b[0m\n\u001b[1;32m    742\u001b[0m             )\n\u001b[0;32m--> 743\u001b[0;31m             \u001b[0mda\u001b[0m\u001b[0;34m.\u001b[0m\u001b[0mget_all_case_stats\u001b[0m\u001b[0;34m(\u001b[0m\u001b[0;34m)\u001b[0m\u001b[0;34m\u001b[0m\u001b[0;34m\u001b[0m\u001b[0m\n\u001b[0m\u001b[1;32m    744\u001b[0m \u001b[0;34m\u001b[0m\u001b[0m\n\u001b[1;32m    745\u001b[0m             \u001b[0mda\u001b[0m \u001b[0;34m=\u001b[0m \u001b[0;32mNone\u001b[0m  \u001b[0;31m# type: ignore\u001b[0m\u001b[0;34m\u001b[0m\u001b[0;34m\u001b[0m\u001b[0m\n",
      "\u001b[0;32m~/miniconda3/envs/O/lib/python3.9/site-packages/monai/apps/auto3dseg/data_analyzer.py\u001b[0m in \u001b[0;36mget_all_case_stats\u001b[0;34m(self, key, transform_list)\u001b[0m\n\u001b[1;32m    228\u001b[0m                     \u001b[0mresult_bycase\u001b[0m\u001b[0;34m[\u001b[0m\u001b[0mDataStatsKeys\u001b[0m\u001b[0;34m.\u001b[0m\u001b[0mBY_CASE\u001b[0m\u001b[0;34m]\u001b[0m\u001b[0;34m.\u001b[0m\u001b[0mextend\u001b[0m\u001b[0;34m(\u001b[0m\u001b[0m_\u001b[0m\u001b[0;34m[\u001b[0m\u001b[0mDataStatsKeys\u001b[0m\u001b[0;34m.\u001b[0m\u001b[0mBY_CASE\u001b[0m\u001b[0;34m]\u001b[0m\u001b[0;34m)\u001b[0m\u001b[0;34m\u001b[0m\u001b[0;34m\u001b[0m\u001b[0m\n\u001b[1;32m    229\u001b[0m         \u001b[0;32melse\u001b[0m\u001b[0;34m:\u001b[0m\u001b[0;34m\u001b[0m\u001b[0;34m\u001b[0m\u001b[0m\n\u001b[0;32m--> 230\u001b[0;31m             \u001b[0mresult_bycase\u001b[0m \u001b[0;34m=\u001b[0m \u001b[0mself\u001b[0m\u001b[0;34m.\u001b[0m\u001b[0m_get_all_case_stats\u001b[0m\u001b[0;34m(\u001b[0m\u001b[0;36m0\u001b[0m\u001b[0;34m,\u001b[0m \u001b[0;36m1\u001b[0m\u001b[0;34m,\u001b[0m \u001b[0;32mNone\u001b[0m\u001b[0;34m,\u001b[0m \u001b[0mkey\u001b[0m\u001b[0;34m,\u001b[0m \u001b[0mtransform_list\u001b[0m\u001b[0;34m)\u001b[0m\u001b[0;34m\u001b[0m\u001b[0;34m\u001b[0m\u001b[0m\n\u001b[0m\u001b[1;32m    231\u001b[0m \u001b[0;34m\u001b[0m\u001b[0m\n\u001b[1;32m    232\u001b[0m         summarizer = SegSummarizer(\n",
      "\u001b[0;32m~/miniconda3/envs/O/lib/python3.9/site-packages/monai/apps/auto3dseg/data_analyzer.py\u001b[0m in \u001b[0;36m_get_all_case_stats\u001b[0;34m(self, rank, world_size, manager_list, key, transform_list)\u001b[0m\n\u001b[1;32m    331\u001b[0m             \u001b[0mwarnings\u001b[0m\u001b[0;34m.\u001b[0m\u001b[0mwarn\u001b[0m\u001b[0;34m(\u001b[0m\u001b[0;34m\"tqdm is not installed. not displaying the caching progress.\"\u001b[0m\u001b[0;34m)\u001b[0m\u001b[0;34m\u001b[0m\u001b[0;34m\u001b[0m\u001b[0m\n\u001b[1;32m    332\u001b[0m \u001b[0;34m\u001b[0m\u001b[0m\n\u001b[0;32m--> 333\u001b[0;31m         \u001b[0;32mfor\u001b[0m \u001b[0mbatch_data\u001b[0m \u001b[0;32min\u001b[0m \u001b[0mtqdm\u001b[0m\u001b[0;34m(\u001b[0m\u001b[0mdataloader\u001b[0m\u001b[0;34m)\u001b[0m \u001b[0;32mif\u001b[0m \u001b[0;34m(\u001b[0m\u001b[0mhas_tqdm\u001b[0m \u001b[0;32mand\u001b[0m \u001b[0mrank\u001b[0m \u001b[0;34m==\u001b[0m \u001b[0;36m0\u001b[0m\u001b[0;34m)\u001b[0m \u001b[0;32melse\u001b[0m \u001b[0mdataloader\u001b[0m\u001b[0;34m:\u001b[0m\u001b[0;34m\u001b[0m\u001b[0;34m\u001b[0m\u001b[0m\n\u001b[0m\u001b[1;32m    334\u001b[0m             \u001b[0mbatch_data\u001b[0m \u001b[0;34m=\u001b[0m \u001b[0mbatch_data\u001b[0m\u001b[0;34m[\u001b[0m\u001b[0;36m0\u001b[0m\u001b[0;34m]\u001b[0m\u001b[0;34m\u001b[0m\u001b[0;34m\u001b[0m\u001b[0m\n\u001b[1;32m    335\u001b[0m             \u001b[0;32mtry\u001b[0m\u001b[0;34m:\u001b[0m\u001b[0;34m\u001b[0m\u001b[0;34m\u001b[0m\u001b[0m\n",
      "\u001b[0;32m~/miniconda3/envs/O/lib/python3.9/site-packages/tqdm/std.py\u001b[0m in \u001b[0;36m__iter__\u001b[0;34m(self)\u001b[0m\n\u001b[1;32m   1180\u001b[0m \u001b[0;34m\u001b[0m\u001b[0m\n\u001b[1;32m   1181\u001b[0m         \u001b[0;32mtry\u001b[0m\u001b[0;34m:\u001b[0m\u001b[0;34m\u001b[0m\u001b[0;34m\u001b[0m\u001b[0m\n\u001b[0;32m-> 1182\u001b[0;31m             \u001b[0;32mfor\u001b[0m \u001b[0mobj\u001b[0m \u001b[0;32min\u001b[0m \u001b[0miterable\u001b[0m\u001b[0;34m:\u001b[0m\u001b[0;34m\u001b[0m\u001b[0;34m\u001b[0m\u001b[0m\n\u001b[0m\u001b[1;32m   1183\u001b[0m                 \u001b[0;32myield\u001b[0m \u001b[0mobj\u001b[0m\u001b[0;34m\u001b[0m\u001b[0;34m\u001b[0m\u001b[0m\n\u001b[1;32m   1184\u001b[0m                 \u001b[0;31m# Update and possibly print the progressbar.\u001b[0m\u001b[0;34m\u001b[0m\u001b[0;34m\u001b[0m\u001b[0m\n",
      "\u001b[0;32m~/miniconda3/envs/O/lib/python3.9/site-packages/torch/utils/data/dataloader.py\u001b[0m in \u001b[0;36m__next__\u001b[0;34m(self)\u001b[0m\n\u001b[1;32m    632\u001b[0m                 \u001b[0;31m# TODO(https://github.com/pytorch/pytorch/issues/76750)\u001b[0m\u001b[0;34m\u001b[0m\u001b[0;34m\u001b[0m\u001b[0m\n\u001b[1;32m    633\u001b[0m                 \u001b[0mself\u001b[0m\u001b[0;34m.\u001b[0m\u001b[0m_reset\u001b[0m\u001b[0;34m(\u001b[0m\u001b[0;34m)\u001b[0m  \u001b[0;31m# type: ignore[call-arg]\u001b[0m\u001b[0;34m\u001b[0m\u001b[0;34m\u001b[0m\u001b[0m\n\u001b[0;32m--> 634\u001b[0;31m             \u001b[0mdata\u001b[0m \u001b[0;34m=\u001b[0m \u001b[0mself\u001b[0m\u001b[0;34m.\u001b[0m\u001b[0m_next_data\u001b[0m\u001b[0;34m(\u001b[0m\u001b[0;34m)\u001b[0m\u001b[0;34m\u001b[0m\u001b[0;34m\u001b[0m\u001b[0m\n\u001b[0m\u001b[1;32m    635\u001b[0m             \u001b[0mself\u001b[0m\u001b[0;34m.\u001b[0m\u001b[0m_num_yielded\u001b[0m \u001b[0;34m+=\u001b[0m \u001b[0;36m1\u001b[0m\u001b[0;34m\u001b[0m\u001b[0;34m\u001b[0m\u001b[0m\n\u001b[1;32m    636\u001b[0m             \u001b[0;32mif\u001b[0m \u001b[0mself\u001b[0m\u001b[0;34m.\u001b[0m\u001b[0m_dataset_kind\u001b[0m \u001b[0;34m==\u001b[0m \u001b[0m_DatasetKind\u001b[0m\u001b[0;34m.\u001b[0m\u001b[0mIterable\u001b[0m \u001b[0;32mand\u001b[0m\u001b[0;31m \u001b[0m\u001b[0;31m\\\u001b[0m\u001b[0;34m\u001b[0m\u001b[0;34m\u001b[0m\u001b[0m\n",
      "\u001b[0;32m~/miniconda3/envs/O/lib/python3.9/site-packages/torch/utils/data/dataloader.py\u001b[0m in \u001b[0;36m_next_data\u001b[0;34m(self)\u001b[0m\n\u001b[1;32m   1324\u001b[0m             \u001b[0;32mif\u001b[0m \u001b[0mlen\u001b[0m\u001b[0;34m(\u001b[0m\u001b[0mself\u001b[0m\u001b[0;34m.\u001b[0m\u001b[0m_task_info\u001b[0m\u001b[0;34m[\u001b[0m\u001b[0mself\u001b[0m\u001b[0;34m.\u001b[0m\u001b[0m_rcvd_idx\u001b[0m\u001b[0;34m]\u001b[0m\u001b[0;34m)\u001b[0m \u001b[0;34m==\u001b[0m \u001b[0;36m2\u001b[0m\u001b[0;34m:\u001b[0m\u001b[0;34m\u001b[0m\u001b[0;34m\u001b[0m\u001b[0m\n\u001b[1;32m   1325\u001b[0m                 \u001b[0mdata\u001b[0m \u001b[0;34m=\u001b[0m \u001b[0mself\u001b[0m\u001b[0;34m.\u001b[0m\u001b[0m_task_info\u001b[0m\u001b[0;34m.\u001b[0m\u001b[0mpop\u001b[0m\u001b[0;34m(\u001b[0m\u001b[0mself\u001b[0m\u001b[0;34m.\u001b[0m\u001b[0m_rcvd_idx\u001b[0m\u001b[0;34m)\u001b[0m\u001b[0;34m[\u001b[0m\u001b[0;36m1\u001b[0m\u001b[0;34m]\u001b[0m\u001b[0;34m\u001b[0m\u001b[0;34m\u001b[0m\u001b[0m\n\u001b[0;32m-> 1326\u001b[0;31m                 \u001b[0;32mreturn\u001b[0m \u001b[0mself\u001b[0m\u001b[0;34m.\u001b[0m\u001b[0m_process_data\u001b[0m\u001b[0;34m(\u001b[0m\u001b[0mdata\u001b[0m\u001b[0;34m)\u001b[0m\u001b[0;34m\u001b[0m\u001b[0;34m\u001b[0m\u001b[0m\n\u001b[0m\u001b[1;32m   1327\u001b[0m \u001b[0;34m\u001b[0m\u001b[0m\n\u001b[1;32m   1328\u001b[0m             \u001b[0;32massert\u001b[0m \u001b[0;32mnot\u001b[0m \u001b[0mself\u001b[0m\u001b[0;34m.\u001b[0m\u001b[0m_shutdown\u001b[0m \u001b[0;32mand\u001b[0m \u001b[0mself\u001b[0m\u001b[0;34m.\u001b[0m\u001b[0m_tasks_outstanding\u001b[0m \u001b[0;34m>\u001b[0m \u001b[0;36m0\u001b[0m\u001b[0;34m\u001b[0m\u001b[0;34m\u001b[0m\u001b[0m\n",
      "\u001b[0;32m~/miniconda3/envs/O/lib/python3.9/site-packages/torch/utils/data/dataloader.py\u001b[0m in \u001b[0;36m_process_data\u001b[0;34m(self, data)\u001b[0m\n\u001b[1;32m   1370\u001b[0m         \u001b[0mself\u001b[0m\u001b[0;34m.\u001b[0m\u001b[0m_try_put_index\u001b[0m\u001b[0;34m(\u001b[0m\u001b[0;34m)\u001b[0m\u001b[0;34m\u001b[0m\u001b[0;34m\u001b[0m\u001b[0m\n\u001b[1;32m   1371\u001b[0m         \u001b[0;32mif\u001b[0m \u001b[0misinstance\u001b[0m\u001b[0;34m(\u001b[0m\u001b[0mdata\u001b[0m\u001b[0;34m,\u001b[0m \u001b[0mExceptionWrapper\u001b[0m\u001b[0;34m)\u001b[0m\u001b[0;34m:\u001b[0m\u001b[0;34m\u001b[0m\u001b[0;34m\u001b[0m\u001b[0m\n\u001b[0;32m-> 1372\u001b[0;31m             \u001b[0mdata\u001b[0m\u001b[0;34m.\u001b[0m\u001b[0mreraise\u001b[0m\u001b[0;34m(\u001b[0m\u001b[0;34m)\u001b[0m\u001b[0;34m\u001b[0m\u001b[0;34m\u001b[0m\u001b[0m\n\u001b[0m\u001b[1;32m   1373\u001b[0m         \u001b[0;32mreturn\u001b[0m \u001b[0mdata\u001b[0m\u001b[0;34m\u001b[0m\u001b[0;34m\u001b[0m\u001b[0m\n\u001b[1;32m   1374\u001b[0m \u001b[0;34m\u001b[0m\u001b[0m\n",
      "\u001b[0;32m~/miniconda3/envs/O/lib/python3.9/site-packages/torch/_utils.py\u001b[0m in \u001b[0;36mreraise\u001b[0;34m(self)\u001b[0m\n\u001b[1;32m    642\u001b[0m             \u001b[0;31m# instantiate since we don't know how to\u001b[0m\u001b[0;34m\u001b[0m\u001b[0;34m\u001b[0m\u001b[0m\n\u001b[1;32m    643\u001b[0m             \u001b[0;32mraise\u001b[0m \u001b[0mRuntimeError\u001b[0m\u001b[0;34m(\u001b[0m\u001b[0mmsg\u001b[0m\u001b[0;34m)\u001b[0m \u001b[0;32mfrom\u001b[0m \u001b[0;32mNone\u001b[0m\u001b[0;34m\u001b[0m\u001b[0;34m\u001b[0m\u001b[0m\n\u001b[0;32m--> 644\u001b[0;31m         \u001b[0;32mraise\u001b[0m \u001b[0mexception\u001b[0m\u001b[0;34m\u001b[0m\u001b[0;34m\u001b[0m\u001b[0m\n\u001b[0m\u001b[1;32m    645\u001b[0m \u001b[0;34m\u001b[0m\u001b[0m\n\u001b[1;32m    646\u001b[0m \u001b[0;34m\u001b[0m\u001b[0m\n",
      "\u001b[0;31mRuntimeError\u001b[0m: Caught RuntimeError in DataLoader worker process 2.\nOriginal Traceback (most recent call last):\n  File \"/home/jiehyun.kim001/miniconda3/envs/O/lib/python3.9/site-packages/monai/transforms/transform.py\", line 141, in apply_transform\n    return _apply_transform(transform, data, unpack_items, lazy, overrides, log_stats)\n  File \"/home/jiehyun.kim001/miniconda3/envs/O/lib/python3.9/site-packages/monai/transforms/transform.py\", line 98, in _apply_transform\n    return transform(data, lazy=lazy) if isinstance(transform, LazyTrait) else transform(data)\n  File \"/home/jiehyun.kim001/miniconda3/envs/O/lib/python3.9/site-packages/monai/transforms/io/dictionary.py\", line 162, in __call__\n    data = self._loader(d[key], reader)\n  File \"/home/jiehyun.kim001/miniconda3/envs/O/lib/python3.9/site-packages/monai/transforms/io/array.py\", line 255, in __call__\n    img = reader.read(filename)\n  File \"/home/jiehyun.kim001/miniconda3/envs/O/lib/python3.9/site-packages/monai/data/image_reader.py\", line 1289, in read\n    nrrd_image = NrrdImage(*nrrd.read(name, index_order=self.index_order, *kwargs_))\n  File \"/home/jiehyun.kim001/miniconda3/envs/O/lib/python3.9/site-packages/nrrd/reader.py\", line 515, in read\n    with open(filename, 'rb') as fh:\nFileNotFoundError: [Errno 2] No such file or directory: 'helloworld_work_directory/sim_dataroot/18.b.seg.nrrdz'\n\nThe above exception was the direct cause of the following exception:\n\nTraceback (most recent call last):\n  File \"/home/jiehyun.kim001/miniconda3/envs/O/lib/python3.9/site-packages/monai/transforms/transform.py\", line 141, in apply_transform\n    return _apply_transform(transform, data, unpack_items, lazy, overrides, log_stats)\n  File \"/home/jiehyun.kim001/miniconda3/envs/O/lib/python3.9/site-packages/monai/transforms/transform.py\", line 98, in _apply_transform\n    return transform(data, lazy=lazy) if isinstance(transform, LazyTrait) else transform(data)\n  File \"/home/jiehyun.kim001/miniconda3/envs/O/lib/python3.9/site-packages/monai/transforms/compose.py\", line 335, in __call__\n    result = execute_compose(\n  File \"/home/jiehyun.kim001/miniconda3/envs/O/lib/python3.9/site-packages/monai/transforms/compose.py\", line 111, in execute_compose\n    data = apply_transform(\n  File \"/home/jiehyun.kim001/miniconda3/envs/O/lib/python3.9/site-packages/monai/transforms/transform.py\", line 171, in apply_transform\n    raise RuntimeError(f\"applying transform {transform}\") from e\nRuntimeError: applying transform <monai.transforms.io.dictionary.LoadImaged object at 0x7f2d4dd38370>\n\nThe above exception was the direct cause of the following exception:\n\nTraceback (most recent call last):\n  File \"/home/jiehyun.kim001/miniconda3/envs/O/lib/python3.9/site-packages/torch/utils/data/_utils/worker.py\", line 308, in _worker_loop\n    data = fetcher.fetch(index)\n  File \"/home/jiehyun.kim001/miniconda3/envs/O/lib/python3.9/site-packages/torch/utils/data/_utils/fetch.py\", line 51, in fetch\n    data = [self.dataset[idx] for idx in possibly_batched_index]\n  File \"/home/jiehyun.kim001/miniconda3/envs/O/lib/python3.9/site-packages/torch/utils/data/_utils/fetch.py\", line 51, in <listcomp>\n    data = [self.dataset[idx] for idx in possibly_batched_index]\n  File \"/home/jiehyun.kim001/miniconda3/envs/O/lib/python3.9/site-packages/monai/data/dataset.py\", line 112, in __getitem__\n    return self._transform(index)\n  File \"/home/jiehyun.kim001/miniconda3/envs/O/lib/python3.9/site-packages/monai/data/dataset.py\", line 98, in _transform\n    return apply_transform(self.transform, data_i) if self.transform is not None else data_i\n  File \"/home/jiehyun.kim001/miniconda3/envs/O/lib/python3.9/site-packages/monai/transforms/transform.py\", line 171, in apply_transform\n    raise RuntimeError(f\"applying transform {transform}\") from e\nRuntimeError: applying transform <monai.transforms.compose.Compose object at 0x7f2d4dd2b910>\n"
     ]
    }
   ],
   "source": [
    "runner.run()"
   ]
  },
  {
   "cell_type": "code",
   "execution_count": 10,
   "id": "1ef57c3c",
   "metadata": {},
   "outputs": [
    {
     "data": {
      "image/png": "[encoded data removed]",
      "text/plain": [
       "<Figure size 432x288 with 8 Axes>"
      ]
     },
     "metadata": {
      "needs_background": "light"
     },
     "output_type": "display_data"
    }
   ],
   "source": [
    "image_name = sim_datalist[\"testing\"][0][\"image\"].split(\".\")[0]\n",
    "prediction_nib = nib.load(os.path.join(work_dir, \"ensemble_output\", image_name + \"_ensemble\" + \".nii.gz\"))\n",
    "pred = np.array(prediction_nib.dataobj)\n",
    "\n",
    "img_slice32 = lbl[32] == 0\n",
    "label_slice32 = lbl[32] == 1\n",
    "background_slice32 = pred[32, :, :, 0] if pred.ndim == 4 else pred[32] == 0\n",
    "foreground_slice32 = pred[32, :, :, 1] if pred.ndim == 4 else pred[32] == 1\n",
    "\n",
    "plt.subplot(2, 2, 1)\n",
    "plt.imshow(img_slice32)\n",
    "plt.title(\"background groundtruth\")\n",
    "cbar = plt.colorbar(shrink=0.8)\n",
    "plt.subplot(2, 2, 2)\n",
    "plt.imshow(label_slice32)\n",
    "plt.title(\"foreground_groundtruth\")\n",
    "cbar = plt.colorbar(shrink=0.8)\n",
    "plt.subplot(2, 2, 3)\n",
    "plt.imshow(background_slice32)\n",
    "plt.title(\"background prediction\")\n",
    "cbar = plt.colorbar(shrink=0.8)\n",
    "plt.subplot(2, 2, 4)\n",
    "plt.imshow(foreground_slice32)\n",
    "plt.title(\"foreground prediction\")\n",
    "cbar = plt.colorbar(shrink=0.8)\n",
    "# set the spacing between subplots\n",
    "plt.subplots_adjust(left=0.1, bottom=0.1, right=0.9, top=0.9, wspace=0.4, hspace=0.4)\n",
    "plt.show()"
   ]
  },
  {
   "cell_type": "code",
   "execution_count": null,
   "id": "9770e46e",
   "metadata": {},
   "outputs": [],
   "source": []
  },
  {
   "cell_type": "code",
   "execution_count": null,
   "id": "8aab5507",
   "metadata": {},
   "outputs": [],
   "source": []
  },
  {
   "cell_type": "code",
   "execution_count": null,
   "id": "9a0d69c0",
   "metadata": {},
   "outputs": [],
   "source": []
  },
  {
   "cell_type": "code",
   "execution_count": null,
   "id": "b3940ac8",
   "metadata": {},
   "outputs": [],
   "source": []
  },
  {
   "cell_type": "code",
   "execution_count": null,
   "id": "a5e460dc",
   "metadata": {},
   "outputs": [],
   "source": []
  },
  {
   "cell_type": "code",
   "execution_count": null,
   "id": "5a413958",
   "metadata": {},
   "outputs": [],
   "source": []
  },
  {
   "cell_type": "code",
   "execution_count": null,
   "id": "cfb980c5",
   "metadata": {},
   "outputs": [],
   "source": []
  },
  {
   "cell_type": "code",
   "execution_count": null,
   "id": "827f2579",
   "metadata": {},
   "outputs": [],
   "source": []
  },
  {
   "cell_type": "code",
   "execution_count": null,
   "id": "caebb91b",
   "metadata": {},
   "outputs": [],
   "source": []
  },
  {
   "cell_type": "code",
   "execution_count": null,
   "id": "260329d0",
   "metadata": {},
   "outputs": [],
   "source": []
  },
  {
   "cell_type": "code",
   "execution_count": null,
   "id": "6554d302",
   "metadata": {},
   "outputs": [],
   "source": []
  },
  {
   "cell_type": "code",
   "execution_count": null,
   "id": "58cedb11",
   "metadata": {},
   "outputs": [],
   "source": []
  },
  {
   "cell_type": "code",
   "execution_count": null,
   "id": "6fa20490",
   "metadata": {},
   "outputs": [],
   "source": []
  },
  {
   "cell_type": "code",
   "execution_count": null,
   "id": "9db86136",
   "metadata": {},
   "outputs": [],
   "source": []
  }
 ],
 "metadata": {
  "kernelspec": {
   "display_name": "Python 3 (ipykernel)",
   "language": "python",
   "name": "python3"
  },
  "language_info": {
   "codemirror_mode": {
    "name": "ipython",
    "version": 3
   },
   "file_extension": ".py",
   "mimetype": "text/x-python",
   "name": "python",
   "nbconvert_exporter": "python",
   "pygments_lexer": "ipython3",
   "version": "3.9.7"
  }
 },
 "nbformat": 4,
 "nbformat_minor": 5
}
