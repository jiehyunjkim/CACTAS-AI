{
 "cells": [
  {
   "cell_type": "code",
   "execution_count": 1,
   "id": "1770680c",
   "metadata": {},
   "outputs": [
    {
     "name": "stdout",
     "output_type": "stream",
     "text": [
      "Populating the interactive namespace from numpy and matplotlib\n"
     ]
    }
   ],
   "source": [
    "%pylab inline\n",
    "import os\n",
    "import nrrd\n",
    "import json"
   ]
  },
  {
   "cell_type": "code",
   "execution_count": 2,
   "id": "6fcc32f8",
   "metadata": {},
   "outputs": [],
   "source": [
    "DATAPATH = '/raid/mpsych/CACTAS/DATA/ESUS/'\n",
    "NEWPATH = '/raid/mpsych/CACTAS/DATA/CLEANED/'\n",
    "MASKPATH= '/raid/mpsych/CACTAS/DATA/CA24/'"
   ]
  },
  {
   "cell_type": "code",
   "execution_count": null,
   "id": "cc8a77e2",
   "metadata": {},
   "outputs": [],
   "source": []
  },
  {
   "cell_type": "code",
   "execution_count": 3,
   "id": "bbb316a6",
   "metadata": {},
   "outputs": [],
   "source": [
    "all_slices = []\n",
    "data = {}\n",
    "count = 0\n",
    "ids = []\n",
    "\n",
    "for f in os.listdir(DATAPATH):\n",
    "    if f.endswith('img.nrrd'):\n",
    "        current_id = f.split('.')[0]\n",
    "        ids += [int(current_id)]\n",
    "        ids = sorted(ids)"
   ]
  },
  {
   "cell_type": "code",
   "execution_count": 4,
   "id": "f4999c78",
   "metadata": {},
   "outputs": [
    {
     "data": {
      "text/plain": [
       "70"
      ]
     },
     "execution_count": 4,
     "metadata": {},
     "output_type": "execute_result"
    }
   ],
   "source": [
    "len(ids)"
   ]
  },
  {
   "cell_type": "code",
   "execution_count": null,
   "id": "41a04e4a",
   "metadata": {},
   "outputs": [],
   "source": []
  },
  {
   "cell_type": "code",
   "execution_count": 6,
   "id": "c5c8d4f2",
   "metadata": {},
   "outputs": [],
   "source": [
    "for i in range(len(ids)):\n",
    "    if os.path.isfile(DATAPATH + str(ids[i]) + '.img.nrrd'):\n",
    "        im, h = nrrd.read(DATAPATH + str(ids[i]) + '.img.nrrd')\n",
    "    elif os.path.isfile(DATAPATH + str(ids[i]) + '.b.img.nrrd'):\n",
    "        im, h = nrrd.read(DATAPATH + str(ids[i]) + '.b.img.nrrd')\n",
    "        \n",
    "#     print(f\"Data type for {ids[i]}: {im.dtype}\") \n",
    "\n",
    "    data[ids[i]] = count\n",
    "    \n",
    "    all_slices = []\n",
    "    count = 0\n",
    "    for z in range(im.shape[2]):\n",
    "        all_slices.append(im[:, :, z])\n",
    "        count += 1\n",
    "\n",
    "    a = np.zeros((len(all_slices), all_slices[0].shape[0], all_slices[0].shape[1]), dtype=all_slices[0].dtype)\n",
    "\n",
    "    for j, s in enumerate(all_slices):\n",
    "        a[j] = s\n",
    "\n",
    "#     images_file = os.path.join(NEWPATH, 'images/' + str(ids[i]) + '.image.npy')\n",
    "#     np.save(images_file, a)"
   ]
  },
  {
   "cell_type": "code",
   "execution_count": null,
   "id": "5a56fc5b",
   "metadata": {},
   "outputs": [],
   "source": []
  },
  {
   "cell_type": "code",
   "execution_count": null,
   "id": "45a118b1",
   "metadata": {},
   "outputs": [],
   "source": []
  },
  {
   "cell_type": "code",
   "execution_count": null,
   "id": "519d7f21",
   "metadata": {},
   "outputs": [],
   "source": []
  },
  {
   "cell_type": "code",
   "execution_count": 9,
   "id": "a75ffe59",
   "metadata": {},
   "outputs": [
    {
     "ename": "IndentationError",
     "evalue": "unexpected indent (3705317097.py, line 8)",
     "output_type": "error",
     "traceback": [
      "\u001b[0;36m  File \u001b[0;32m\"/tmp/ipykernel_471623/3705317097.py\"\u001b[0;36m, line \u001b[0;32m8\u001b[0m\n\u001b[0;31m    '''\u001b[0m\n\u001b[0m    ^\u001b[0m\n\u001b[0;31mIndentationError\u001b[0m\u001b[0;31m:\u001b[0m unexpected indent\n"
     ]
    }
   ],
   "source": [
    "for i in range(len(ids)):\n",
    "    if os.path.isfile(DATAPATH + str(ids[i]) + '.b.seg.nrrd'):\n",
    "        im, h = nrrd.read(DATAPATH + str(ids[i]) + '.b.seg.nrrd')\n",
    "    \n",
    "    data[ids[i]] = count\n",
    "    \n",
    "    #print(f\"Data type for {ids[i]}: {im.dtype}\") \n",
    "\n",
    "    all_slices = []\n",
    "    count = 0\n",
    "    for z in range(im.shape[2]):\n",
    "        all_slices.append(im[:, :, z])\n",
    "        count += 1\n",
    "    \n",
    "    a = np.zeros((len(all_slices), all_slices[0].shape[0], all_slices[0].shape[1]), dtype=all_slices[0].dtype)\n",
    "\n",
    "    for j, s in enumerate(all_slices):\n",
    "        a[j] = s\n",
    "\n",
    "#     images_file = os.path.join(NEWPATH, 'labels/' + str(ids[i]) + '.seg.npy')\n",
    "#     np.save(images_file, a)"
   ]
  },
  {
   "cell_type": "code",
   "execution_count": null,
   "id": "e7b205b0",
   "metadata": {},
   "outputs": [],
   "source": []
  },
  {
   "cell_type": "code",
   "execution_count": 8,
   "id": "d70870bd",
   "metadata": {},
   "outputs": [],
   "source": [
    "#images = np.load(NEWPATH +'images/61.image.npy')\n",
    "#labels = np.load(NEWPATH + 'labels/61.seg.npy')\n",
    "#masks = np.load(NEWPATH + 'masks/61.ca.seg.npy')"
   ]
  },
  {
   "cell_type": "code",
   "execution_count": 11,
   "id": "b363da85",
   "metadata": {},
   "outputs": [],
   "source": [
    "#images.shape, labels.shape, masks.shape"
   ]
  },
  {
   "cell_type": "code",
   "execution_count": 12,
   "id": "6e9cdfee",
   "metadata": {},
   "outputs": [],
   "source": [
    "# for i in range(images.shape[0]):\n",
    "#     plt.imshow(images[i,:,:])\n",
    "#     plt.imshow(labels[i,:,:], cmap='gray', alpha=0.5)\n",
    "#     plt.show()"
   ]
  },
  {
   "cell_type": "code",
   "execution_count": null,
   "id": "dab60cb9",
   "metadata": {},
   "outputs": [],
   "source": []
  },
  {
   "cell_type": "code",
   "execution_count": null,
   "id": "ce0457bf",
   "metadata": {},
   "outputs": [],
   "source": []
  },
  {
   "cell_type": "code",
   "execution_count": 8,
   "id": "9a84d512",
   "metadata": {},
   "outputs": [
    {
     "ename": "IndentationError",
     "evalue": "unexpected indent (3716850485.py, line 8)",
     "output_type": "error",
     "traceback": [
      "\u001b[0;36m  File \u001b[0;32m\"/tmp/ipykernel_471623/3716850485.py\"\u001b[0;36m, line \u001b[0;32m8\u001b[0m\n\u001b[0;31m    '''\u001b[0m\n\u001b[0m    ^\u001b[0m\n\u001b[0;31mIndentationError\u001b[0m\u001b[0;31m:\u001b[0m unexpected indent\n"
     ]
    }
   ],
   "source": [
    "for i in range(len(ids)):\n",
    "    if os.path.isfile(MASKPATH + str(ids[i]) + '.ca.seg.nrrd'):\n",
    "        im, h = nrrd.read(MASKPATH + str(ids[i]) + '.ca.seg.nrrd')\n",
    "\n",
    "    data[ids[i]] = count\n",
    "    \n",
    "    print(f\"Data type for {ids[i]}: {im.dtype}\") \n",
    "\n",
    "    all_slices = []\n",
    "    count = 0\n",
    "    for z in range(im.shape[2]):\n",
    "        all_slices.append(im[:, :, z])\n",
    "        count += 1\n",
    "    \n",
    "    a = np.zeros((len(all_slices), all_slices[0].shape[0], all_slices[0].shape[1]), dtype=all_slices[0].dtype)\n",
    "\n",
    "    for j, s in enumerate(all_slices):\n",
    "        a[j] = s\n",
    "\n",
    "#     images_file = os.path.join(NEWPATH, 'masks/' + str(ids[i]) + '.ca.seg.npy')\n",
    "#     np.save(images_file, a)\n"
   ]
  },
  {
   "cell_type": "code",
   "execution_count": null,
   "id": "d278240b",
   "metadata": {},
   "outputs": [],
   "source": []
  },
  {
   "cell_type": "code",
   "execution_count": 36,
   "id": "f837b260",
   "metadata": {},
   "outputs": [],
   "source": [
    "# images = np.load(NEWPATH +'images/11.image.npy')\n",
    "# masks = np.load(NEWPATH + 'masks/11.ca.seg.npy')"
   ]
  },
  {
   "cell_type": "code",
   "execution_count": 37,
   "id": "99e6f64a",
   "metadata": {},
   "outputs": [],
   "source": [
    "# for i in range(images.shape[0]):\n",
    "#     plt.imshow(images[i,:,:])\n",
    "#     plt.imshow(masks[i,:,:], cmap='gray', alpha=0.5)\n",
    "#     plt.show()"
   ]
  },
  {
   "cell_type": "code",
   "execution_count": null,
   "id": "d5cc6ae3",
   "metadata": {},
   "outputs": [],
   "source": []
  },
  {
   "cell_type": "code",
   "execution_count": null,
   "id": "557a608a",
   "metadata": {},
   "outputs": [],
   "source": []
  },
  {
   "cell_type": "code",
   "execution_count": 5,
   "id": "14254be6",
   "metadata": {},
   "outputs": [],
   "source": [
    "patients = {}\n",
    "\n",
    "for file in os.listdir(NEWPATH + 'images/'):\n",
    "    #print(\"images: \" + file)\n",
    "    if file.endswith(\".image.npy\"):\n",
    "        patient_id = int(file.split('.')[0])\n",
    "        if patient_id not in patients:\n",
    "            patients[patient_id] = {}\n",
    "        patients[patient_id]['image'] = np.load(os.path.join(NEWPATH + 'images/', file))\n",
    "\n",
    "for file in os.listdir(NEWPATH + 'labels/'):\n",
    "    #print(\"labels: \" + file)\n",
    "    if file.endswith(\".seg.npy\"):\n",
    "        patient_id = int(file.split('.')[0])\n",
    "        if patient_id in patients:\n",
    "            patients[patient_id]['label'] = np.load(os.path.join(NEWPATH + 'labels/', file))\n",
    "\n",
    "for file in os.listdir(NEWPATH + 'masks/'):\n",
    "    #print(\"masks: \" + file)\n",
    "    if file.endswith(\".ca.seg.npy\"):\n",
    "        patient_id = int(file.split('.')[0])\n",
    "        if patient_id in patients:\n",
    "            patients[patient_id]['mask'] = np.load(os.path.join(NEWPATH + 'masks/', file))"
   ]
  },
  {
   "cell_type": "code",
   "execution_count": null,
   "id": "1113e45b",
   "metadata": {},
   "outputs": [],
   "source": []
  },
  {
   "cell_type": "code",
   "execution_count": 6,
   "id": "62507966",
   "metadata": {},
   "outputs": [],
   "source": [
    "for patient_id, data in patients.items():\n",
    "    if 'label' in data:\n",
    "        images = data.get('image')\n",
    "        labels = data.get('label')\n",
    "        masks = data.get('mask')\n",
    "        \n",
    "        remove_list = [i for i, label in enumerate(labels) if label.max() == 0]\n",
    "        \n",
    "        if images is not None:\n",
    "            #remove_list = [i for i, label in enumerate(labels) if label.max() == 0]\n",
    "            data['image'] = [image for i, image in enumerate(images) if i not in remove_list]\n",
    "            data['label'] = [label for i, label in enumerate(labels) if i not in remove_list]\n",
    "            data['mask'] = [mask for i, mask in enumerate(masks) if i not in remove_list]"
   ]
  },
  {
   "cell_type": "code",
   "execution_count": 7,
   "id": "0b943910",
   "metadata": {},
   "outputs": [],
   "source": [
    "for patient_id, data in patients.items():\n",
    "    if data is not None:\n",
    "        np.save(os.path.join(NEWPATH + 'filt_img/', f'{patient_id}.image.npy'), data['image'])\n",
    "        np.save(os.path.join(NEWPATH + 'filt_lb/', f'{patient_id}.seg.npy'), data['label'])\n",
    "        np.save(os.path.join(NEWPATH + 'filt_msk/', f'{patient_id}.ca.seg.npy'), data['mask'])"
   ]
  },
  {
   "cell_type": "code",
   "execution_count": null,
   "id": "8cfd9227",
   "metadata": {},
   "outputs": [],
   "source": []
  },
  {
   "cell_type": "code",
   "execution_count": null,
   "id": "38743c1f",
   "metadata": {},
   "outputs": [],
   "source": []
  },
  {
   "cell_type": "code",
   "execution_count": 27,
   "id": "8b2ef993",
   "metadata": {},
   "outputs": [],
   "source": [
    "# images_up = np.load(NEWPATH +'filtered_images/10.image.npy')\n",
    "# labels_up = np.load(NEWPATH + 'filtered_labels/10.seg.npy')\n",
    "# masks_up = np.load(NEWPATH + 'filtered_masks/10.ca.seg.npy')"
   ]
  },
  {
   "cell_type": "code",
   "execution_count": 30,
   "id": "47fdd114",
   "metadata": {
    "scrolled": true
   },
   "outputs": [],
   "source": [
    "# for i in range(images_up.shape[0]):\n",
    "#     plt.imshow(images_up[i,:,:])\n",
    "#     #plt.imshow(labels_up[i,:,:], cmap='gray', alpha=0.5)\n",
    "#     plt.imshow(masks_up[i,:,:], cmap='jet', alpha=0.5)\n",
    "#     plt.show()"
   ]
  },
  {
   "cell_type": "code",
   "execution_count": null,
   "id": "3771e4cb",
   "metadata": {},
   "outputs": [],
   "source": []
  },
  {
   "cell_type": "code",
   "execution_count": 8,
   "id": "2aa040c1",
   "metadata": {},
   "outputs": [],
   "source": [
    "import shutil"
   ]
  },
  {
   "cell_type": "code",
   "execution_count": 13,
   "id": "a0d1e491",
   "metadata": {},
   "outputs": [],
   "source": [
    "# Define the source directory containing the files\n",
    "source_directory = NEWPATH + 'filt_msk/'\n",
    "\n",
    "# Define the train and test directories\n",
    "train_directory = NEWPATH + 'filt_msk/train'\n",
    "test_directory = NEWPATH + 'filt_msk/test'\n",
    "\n",
    "# Get the list of files in the source directory\n",
    "files = [file for file in os.listdir(source_directory) if file.endswith(\".npy\")]\n",
    "\n",
    "files.sort()"
   ]
  },
  {
   "cell_type": "code",
   "execution_count": 14,
   "id": "59af3cc2",
   "metadata": {},
   "outputs": [],
   "source": [
    "# Copy the first 42 files to the train directory\n",
    "for file_name in files[:42]:\n",
    "    source_path = os.path.join(source_directory, file_name)\n",
    "    destination_path = os.path.join(train_directory, file_name)\n",
    "    shutil.copy(source_path, destination_path)\n",
    "\n",
    "# Copy the remaining files to the test directory\n",
    "for file_name in files[42:]:\n",
    "    source_path = os.path.join(source_directory, file_name)\n",
    "    destination_path = os.path.join(test_directory, file_name)\n",
    "    shutil.copy(source_path, destination_path)"
   ]
  },
  {
   "cell_type": "code",
   "execution_count": null,
   "id": "2dcd9a54",
   "metadata": {},
   "outputs": [],
   "source": []
  },
  {
   "cell_type": "code",
   "execution_count": null,
   "id": "90d96746",
   "metadata": {},
   "outputs": [],
   "source": []
  },
  {
   "cell_type": "code",
   "execution_count": 3,
   "id": "4aad5509",
   "metadata": {},
   "outputs": [],
   "source": [
    "# train_images_directory = NEWPATH + 'filtered_images/train'\n",
    "# test_images_directory = NEWPATH + 'filtered_images/test'\n",
    "# train_labels_directory = NEWPATH + 'filtered_labels/train'\n",
    "# test_labels_directory = NEWPATH + 'filtered_labels/test'\n",
    "# train_masks_directory = NEWPATH + 'filtered_masks/train'\n",
    "# test_masks_directory = NEWPATH + 'filtered_masks/test'"
   ]
  },
  {
   "cell_type": "code",
   "execution_count": 24,
   "id": "c7844f47",
   "metadata": {},
   "outputs": [],
   "source": [
    "# images_up = np.load(NEWPATH +'filtered_images/61.image.npy')\n",
    "# labels_up = np.load(NEWPATH + 'filtered_labels/61.seg.npy')\n",
    "# masks_up = np.load(NEWPATH + 'filtered_masks/61.ca.seg.npy')"
   ]
  },
  {
   "cell_type": "code",
   "execution_count": 1,
   "id": "ab64021e",
   "metadata": {},
   "outputs": [],
   "source": [
    "# images_up.shape, labels_up.shape, masks_up.shape"
   ]
  },
  {
   "cell_type": "code",
   "execution_count": null,
   "id": "b351c0b4",
   "metadata": {},
   "outputs": [],
   "source": []
  },
  {
   "cell_type": "code",
   "execution_count": null,
   "id": "b3c232d0",
   "metadata": {},
   "outputs": [],
   "source": []
  },
  {
   "cell_type": "code",
   "execution_count": null,
   "id": "bbe96d0d",
   "metadata": {},
   "outputs": [],
   "source": []
  }
 ],
 "metadata": {
  "kernelspec": {
   "display_name": "Python 3 (ipykernel)",
   "language": "python",
   "name": "python3"
  },
  "language_info": {
   "codemirror_mode": {
    "name": "ipython",
    "version": 3
   },
   "file_extension": ".py",
   "mimetype": "text/x-python",
   "name": "python",
   "nbconvert_exporter": "python",
   "pygments_lexer": "ipython3",
   "version": "3.9.7"
  }
 },
 "nbformat": 4,
 "nbformat_minor": 5
}
