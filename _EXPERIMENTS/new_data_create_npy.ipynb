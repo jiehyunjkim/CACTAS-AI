{
 "cells": [
  {
   "cell_type": "code",
   "execution_count": 1,
   "id": "1ba2b966",
   "metadata": {},
   "outputs": [
    {
     "name": "stdout",
     "output_type": "stream",
     "text": [
      "%pylab is deprecated, use %matplotlib inline and import the required libraries.\n",
      "Populating the interactive namespace from numpy and matplotlib\n"
     ]
    }
   ],
   "source": [
    "%pylab inline\n",
    "import os\n",
    "import nrrd\n",
    "import json"
   ]
  },
  {
   "cell_type": "code",
   "execution_count": 2,
   "id": "c63df471",
   "metadata": {},
   "outputs": [],
   "source": [
    "DATAPATH = '/raid/mpsych/CACTAS/DATA/ESUS/'"
   ]
  },
  {
   "cell_type": "code",
   "execution_count": null,
   "id": "7c59f9a2",
   "metadata": {},
   "outputs": [],
   "source": []
  },
  {
   "cell_type": "code",
   "execution_count": 3,
   "id": "81aef02a",
   "metadata": {},
   "outputs": [],
   "source": [
    "all_slices = []\n",
    "data = {}\n",
    "count = 0\n",
    "ids = []\n",
    "\n",
    "for f in os.listdir(DATAPATH):\n",
    "    if f.endswith('img.nrrd'):\n",
    "        current_id = f.split('.')[0]\n",
    "        ids += [int(current_id)]\n",
    "        ids = sorted(ids)\n",
    "#print(ids)\n",
    "       \n",
    "for i in range(len(ids)):\n",
    "    #print(DATAPATH + str(ids[i]) + '.img.nrrd')\n",
    "    if os.path.isfile(DATAPATH + str(ids[i]) + '.img.nrrd'):\n",
    "        im, h = nrrd.read(DATAPATH + str(ids[i]) + '.img.nrrd')\n",
    "    elif os.path.isfile(DATAPATH + str(ids[i]) + '.b.img.nrrd'):\n",
    "        im, h = nrrd.read(DATAPATH + str(ids[i]) + '.b.img.nrrd')\n",
    "    data[ids[i]] = count\n",
    "\n",
    "    for z in range(im.shape[2]):\n",
    "        all_slices.append(im[:, :, z])\n",
    "        count += 1"
   ]
  },
  {
   "cell_type": "code",
   "execution_count": 4,
   "id": "d31abaf6",
   "metadata": {},
   "outputs": [
    {
     "data": {
      "text/plain": [
       "71"
      ]
     },
     "execution_count": 4,
     "metadata": {},
     "output_type": "execute_result"
    }
   ],
   "source": [
    "len(ids)"
   ]
  },
  {
   "cell_type": "code",
   "execution_count": 5,
   "id": "3bfacb80",
   "metadata": {},
   "outputs": [
    {
     "data": {
      "text/plain": [
       "{2: 0,\n",
       " 5: 242,\n",
       " 6: 443,\n",
       " 7: 722,\n",
       " 9: 932,\n",
       " 10: 1173,\n",
       " 11: 1407,\n",
       " 12: 1663,\n",
       " 13: 1885,\n",
       " 14: 2135,\n",
       " 15: 2390,\n",
       " 16: 2559,\n",
       " 17: 2796,\n",
       " 18: 3089,\n",
       " 19: 3300,\n",
       " 21: 3485,\n",
       " 22: 3717,\n",
       " 23: 3893,\n",
       " 24: 4108,\n",
       " 25: 4353,\n",
       " 26: 4590,\n",
       " 27: 4830,\n",
       " 29: 5046,\n",
       " 31: 5272,\n",
       " 32: 5452,\n",
       " 33: 5693,\n",
       " 35: 5951,\n",
       " 36: 6190,\n",
       " 39: 6411,\n",
       " 40: 6656,\n",
       " 41: 6877,\n",
       " 42: 7062,\n",
       " 45: 7414,\n",
       " 46: 7653,\n",
       " 47: 7888,\n",
       " 48: 8081,\n",
       " 49: 8606,\n",
       " 50: 8860,\n",
       " 51: 9105,\n",
       " 52: 9495,\n",
       " 53: 9725,\n",
       " 55: 9964,\n",
       " 57: 10439,\n",
       " 60: 10675,\n",
       " 61: 10903,\n",
       " 62: 10975,\n",
       " 63: 11243,\n",
       " 64: 11422,\n",
       " 65: 11659,\n",
       " 66: 12159,\n",
       " 69: 12400,\n",
       " 71: 12632,\n",
       " 72: 12841,\n",
       " 73: 13072,\n",
       " 75: 13327,\n",
       " 77: 13567,\n",
       " 79: 13761,\n",
       " 82: 14025,\n",
       " 83: 14261,\n",
       " 84: 14525,\n",
       " 86: 14695,\n",
       " 87: 14930,\n",
       " 88: 15191,\n",
       " 90: 15404,\n",
       " 91: 15620,\n",
       " 92: 15796,\n",
       " 93: 16024,\n",
       " 94: 16242,\n",
       " 95: 16442,\n",
       " 96: 16669,\n",
       " 97: 16899}"
      ]
     },
     "execution_count": 5,
     "metadata": {},
     "output_type": "execute_result"
    }
   ],
   "source": [
    "data"
   ]
  },
  {
   "cell_type": "code",
   "execution_count": 6,
   "id": "bd36d9fe",
   "metadata": {},
   "outputs": [],
   "source": [
    "a = np.zeros((len(all_slices), all_slices[0].shape[0], all_slices[0].shape[1]), dtype=all_slices[0].dtype)"
   ]
  },
  {
   "cell_type": "code",
   "execution_count": 7,
   "id": "80fa0807",
   "metadata": {},
   "outputs": [
    {
     "data": {
      "text/plain": [
       "17116"
      ]
     },
     "execution_count": 7,
     "metadata": {},
     "output_type": "execute_result"
    }
   ],
   "source": [
    "len(all_slices)"
   ]
  },
  {
   "cell_type": "code",
   "execution_count": 8,
   "id": "4d5688b4",
   "metadata": {},
   "outputs": [
    {
     "data": {
      "text/plain": [
       "(17116, 512, 512)"
      ]
     },
     "execution_count": 8,
     "metadata": {},
     "output_type": "execute_result"
    }
   ],
   "source": [
    "a.shape"
   ]
  },
  {
   "cell_type": "code",
   "execution_count": 9,
   "id": "ee0106a4",
   "metadata": {},
   "outputs": [],
   "source": [
    "for i, s in enumerate(all_slices):\n",
    "    a[i] = s"
   ]
  },
  {
   "cell_type": "code",
   "execution_count": 10,
   "id": "2c5a2ad7",
   "metadata": {},
   "outputs": [],
   "source": [
    "#np.save(DATAPATH + 'image.npy', a)"
   ]
  },
  {
   "cell_type": "code",
   "execution_count": 12,
   "id": "1fc20a8f",
   "metadata": {},
   "outputs": [],
   "source": [
    "#images_file = os.path.join(DATAPATH, 'image.npy')\n",
    "#images = np.load(images_file)\n",
    "#images.shape"
   ]
  },
  {
   "cell_type": "code",
   "execution_count": null,
   "id": "c5b14082",
   "metadata": {},
   "outputs": [],
   "source": []
  },
  {
   "cell_type": "code",
   "execution_count": 13,
   "id": "2a07b074",
   "metadata": {},
   "outputs": [],
   "source": [
    "all_slice = []\n",
    "datas = {}\n",
    "counts = 0\n",
    "id_s=[]\n",
    "\n",
    "for f in os.listdir(DATAPATH):\n",
    "    if f.endswith('seg.nrrd'):\n",
    "        current_id = f.split('.')[0]\n",
    "        id_s += [int(current_id)]\n",
    "        id_s = sorted(ids)\n",
    "#print(len(id_s))\n",
    "\n",
    "for i in range(len(id_s)):\n",
    "    #print(DATAPATH + str(id_s[i]) + '.b.seg.nrrd')\n",
    "    if os.path.isfile(DATAPATH + str(id_s[i]) + '.b.seg.nrrd'):\n",
    "        im, h = nrrd.read(DATAPATH + str(id_s[i]) + '.b.seg.nrrd')\n",
    "    \n",
    "    datas[id_s[i]] = counts\n",
    "\n",
    "    for z in range(im.shape[2]):\n",
    "        all_slice.append(im[:, :, z])\n",
    "        counts += 1"
   ]
  },
  {
   "cell_type": "code",
   "execution_count": 14,
   "id": "d626c19c",
   "metadata": {},
   "outputs": [
    {
     "data": {
      "text/plain": [
       "71"
      ]
     },
     "execution_count": 14,
     "metadata": {},
     "output_type": "execute_result"
    }
   ],
   "source": [
    "len(id_s)"
   ]
  },
  {
   "cell_type": "code",
   "execution_count": 15,
   "id": "c04c5a8c",
   "metadata": {},
   "outputs": [
    {
     "data": {
      "text/plain": [
       "{2: 0,\n",
       " 5: 242,\n",
       " 6: 443,\n",
       " 7: 722,\n",
       " 9: 932,\n",
       " 10: 1173,\n",
       " 11: 1407,\n",
       " 12: 1663,\n",
       " 13: 1885,\n",
       " 14: 2135,\n",
       " 15: 2390,\n",
       " 16: 2559,\n",
       " 17: 2796,\n",
       " 18: 3089,\n",
       " 19: 3300,\n",
       " 21: 3511,\n",
       " 22: 3743,\n",
       " 23: 3919,\n",
       " 24: 4134,\n",
       " 25: 4379,\n",
       " 26: 4616,\n",
       " 27: 4856,\n",
       " 29: 5072,\n",
       " 31: 5298,\n",
       " 32: 5478,\n",
       " 33: 5719,\n",
       " 35: 5977,\n",
       " 36: 6216,\n",
       " 39: 6437,\n",
       " 40: 6682,\n",
       " 41: 6903,\n",
       " 42: 7088,\n",
       " 45: 7440,\n",
       " 46: 7679,\n",
       " 47: 7914,\n",
       " 48: 8137,\n",
       " 49: 8382,\n",
       " 50: 8636,\n",
       " 51: 8881,\n",
       " 52: 9271,\n",
       " 53: 9501,\n",
       " 55: 9740,\n",
       " 57: 10215,\n",
       " 60: 10451,\n",
       " 61: 10679,\n",
       " 62: 10866,\n",
       " 63: 11134,\n",
       " 64: 11313,\n",
       " 65: 11550,\n",
       " 66: 12050,\n",
       " 69: 12291,\n",
       " 71: 12523,\n",
       " 72: 12732,\n",
       " 73: 12963,\n",
       " 75: 13218,\n",
       " 77: 13458,\n",
       " 79: 13652,\n",
       " 82: 13916,\n",
       " 83: 14152,\n",
       " 84: 14416,\n",
       " 86: 14586,\n",
       " 87: 14821,\n",
       " 88: 15082,\n",
       " 90: 15295,\n",
       " 91: 15511,\n",
       " 92: 15687,\n",
       " 93: 15915,\n",
       " 94: 16133,\n",
       " 95: 16333,\n",
       " 96: 16560,\n",
       " 97: 16790}"
      ]
     },
     "execution_count": 15,
     "metadata": {},
     "output_type": "execute_result"
    }
   ],
   "source": [
    "datas"
   ]
  },
  {
   "cell_type": "code",
   "execution_count": 16,
   "id": "9ac9f8ac",
   "metadata": {},
   "outputs": [],
   "source": [
    "b = np.zeros((len(all_slice), all_slice[0].shape[0], all_slice[0].shape[1]), dtype=all_slice[0].dtype)"
   ]
  },
  {
   "cell_type": "code",
   "execution_count": 17,
   "id": "52cfbcce",
   "metadata": {},
   "outputs": [
    {
     "data": {
      "text/plain": [
       "17007"
      ]
     },
     "execution_count": 17,
     "metadata": {},
     "output_type": "execute_result"
    }
   ],
   "source": [
    "len(all_slice)"
   ]
  },
  {
   "cell_type": "code",
   "execution_count": 18,
   "id": "814a0529",
   "metadata": {},
   "outputs": [
    {
     "data": {
      "text/plain": [
       "(17007, 512, 512)"
      ]
     },
     "execution_count": 18,
     "metadata": {},
     "output_type": "execute_result"
    }
   ],
   "source": [
    "b.shape"
   ]
  },
  {
   "cell_type": "code",
   "execution_count": null,
   "id": "e94a9492",
   "metadata": {},
   "outputs": [],
   "source": [
    "for i, s in enumerate(all_slice):\n",
    "    b[i] = s"
   ]
  }
 ],
 "metadata": {
  "kernelspec": {
   "display_name": "Python 3 (ipykernel)",
   "language": "python",
   "name": "python3"
  },
  "language_info": {
   "codemirror_mode": {
    "name": "ipython",
    "version": 3
   },
   "file_extension": ".py",
   "mimetype": "text/x-python",
   "name": "python",
   "nbconvert_exporter": "python",
   "pygments_lexer": "ipython3",
   "version": "3.10.8"
  }
 },
 "nbformat": 4,
 "nbformat_minor": 5
}
