{
 "cells": [
  {
   "cell_type": "code",
   "execution_count": 1,
   "id": "abb2a2c4",
   "metadata": {},
   "outputs": [
    {
     "name": "stdout",
     "output_type": "stream",
     "text": [
      "Populating the interactive namespace from numpy and matplotlib\n"
     ]
    }
   ],
   "source": [
    "%pylab inline\n",
    "%load_ext autoreload\n",
    "%autoreload 2"
   ]
  },
  {
   "cell_type": "code",
   "execution_count": 2,
   "id": "fec612ad",
   "metadata": {},
   "outputs": [],
   "source": [
    "import cactas as C\n",
    "import nrrd\n",
    "import mahotas as mh"
   ]
  },
  {
   "cell_type": "code",
   "execution_count": null,
   "id": "5ae575ae",
   "metadata": {},
   "outputs": [],
   "source": []
  },
  {
   "cell_type": "code",
   "execution_count": 3,
   "id": "95daa06e",
   "metadata": {},
   "outputs": [],
   "source": [
    "DATAPATH='/raid/mpsych/CACTAS/DATA/ESUS'"
   ]
  },
  {
   "cell_type": "code",
   "execution_count": 4,
   "id": "8380e313",
   "metadata": {},
   "outputs": [],
   "source": [
    "images, labels = C.Helper.load_data(DATAPATH)"
   ]
  },
  {
   "cell_type": "code",
   "execution_count": 5,
   "id": "4cd4f74b",
   "metadata": {},
   "outputs": [],
   "source": [
    "images = sorted(images)"
   ]
  },
  {
   "cell_type": "code",
   "execution_count": 6,
   "id": "ccf2bd57",
   "metadata": {},
   "outputs": [],
   "source": [
    "labels = sorted(labels)"
   ]
  },
  {
   "cell_type": "code",
   "execution_count": null,
   "id": "68efa3b8",
   "metadata": {},
   "outputs": [],
   "source": []
  },
  {
   "cell_type": "code",
   "execution_count": 7,
   "id": "dc112d4c",
   "metadata": {},
   "outputs": [],
   "source": [
    "# total dataset"
   ]
  },
  {
   "cell_type": "code",
   "execution_count": 8,
   "id": "fa6f9a27",
   "metadata": {},
   "outputs": [
    {
     "data": {
      "text/plain": [
       "(70, 70)"
      ]
     },
     "execution_count": 8,
     "metadata": {},
     "output_type": "execute_result"
    }
   ],
   "source": [
    "len(images), len(labels)"
   ]
  },
  {
   "cell_type": "code",
   "execution_count": null,
   "id": "d88eac0d",
   "metadata": {},
   "outputs": [],
   "source": []
  },
  {
   "cell_type": "code",
   "execution_count": 16,
   "id": "33102e32",
   "metadata": {},
   "outputs": [],
   "source": [
    "voxel_count = []\n",
    "volume = []\n",
    "intensity = []\n",
    "total_plaque = []\n",
    "\n",
    "for i in range(len(images)):\n",
    "    label_data, label_header = nrrd.read(DATAPATH + \"/\" +labels[i])\n",
    "    relabel, obj = mh.label(label_data)\n",
    "    \n",
    "    plaque_sizes = np.bincount(relabel.flatten())[1:]\n",
    "    plaque_count = len(plaque_sizes)\n",
    "    \n",
    "    voxel_dimensions = label_header['space directions'][label_header['space directions'] != 0]\n",
    "    voxel_volume = voxel_dimensions[0]*voxel_dimensions[1]*voxel_dimensions[2]\n",
    "    \n",
    "    split_array = np.split(relabel, 2)\n",
    "    right_sizes = np.bincount(split_array[0].flatten())[1:]\n",
    "    left_sizes = np.bincount(split_array[1].flatten())[1:]\n",
    "    \n",
    "    intensity.append(np.mean(relabel))\n",
    "    total_plaque.append(plaque_count)\n",
    "    volume.append(round(plaque_sizes[j]*voxel_volume))\n",
    "    voxel_count.append(right_sizes.sum() + left_sizes.sum())"
   ]
  },
  {
   "cell_type": "code",
   "execution_count": 17,
   "id": "9a8841dc",
   "metadata": {},
   "outputs": [
    {
     "data": {
      "image/png": "[encoded data removed]",
      "text/plain": [
       "<Figure size 432x288 with 1 Axes>"
      ]
     },
     "metadata": {
      "needs_background": "light"
     },
     "output_type": "display_data"
    }
   ],
   "source": [
    "x = range(len(intensity))\n",
    "plt.yscale('symlog')\n",
    "plt.bar(x,intensity)\n",
    "plt.xlabel('Number of patients')\n",
    "plt.ylabel('Mean Intensity')\n",
    "plt.show()"
   ]
  },
  {
   "cell_type": "code",
   "execution_count": 21,
   "id": "329e07ae",
   "metadata": {},
   "outputs": [
    {
     "data": {
      "text/plain": [
       "(1.2969970703125e-07, 0.00014628012349286417)"
      ]
     },
     "execution_count": 21,
     "metadata": {},
     "output_type": "execute_result"
    }
   ],
   "source": [
    "min(intensity), max(intensity)"
   ]
  },
  {
   "cell_type": "code",
   "execution_count": null,
   "id": "e50190c0",
   "metadata": {},
   "outputs": [],
   "source": []
  },
  {
   "cell_type": "code",
   "execution_count": 26,
   "id": "3d246199",
   "metadata": {},
   "outputs": [
    {
     "data": {
      "image/png": "[encoded data removed]",
      "text/plain": [
       "<Figure size 432x288 with 1 Axes>"
      ]
     },
     "metadata": {
      "needs_background": "light"
     },
     "output_type": "display_data"
    }
   ],
   "source": [
    "total_plaque = list(map(int, total_plaque))\n",
    "\n",
    "x1 = range(len(total_plaque))\n",
    "plt.bar(x1,total_plaque)\n",
    "plt.xlabel('Number of patients')\n",
    "plt.ylabel('Number of plaques')\n",
    "plt.show()"
   ]
  },
  {
   "cell_type": "code",
   "execution_count": 27,
   "id": "c3b11cb7",
   "metadata": {},
   "outputs": [
    {
     "data": {
      "text/plain": [
       "(1, 13)"
      ]
     },
     "execution_count": 27,
     "metadata": {},
     "output_type": "execute_result"
    }
   ],
   "source": [
    "min(total_plaque), max(total_plaque)"
   ]
  },
  {
   "cell_type": "code",
   "execution_count": null,
   "id": "38968b31",
   "metadata": {},
   "outputs": [],
   "source": []
  },
  {
   "cell_type": "code",
   "execution_count": 28,
   "id": "d71bfc26",
   "metadata": {},
   "outputs": [
    {
     "data": {
      "image/png": "[encoded data removed]",
      "text/plain": [
       "<Figure size 432x288 with 1 Axes>"
      ]
     },
     "metadata": {
      "needs_background": "light"
     },
     "output_type": "display_data"
    }
   ],
   "source": [
    "x2 = range(len(volume))\n",
    "plt.bar(x2,volume)\n",
    "plt.xlabel('Number of patients')\n",
    "plt.ylabel('Volume of plaques(mm3)')\n",
    "plt.show()"
   ]
  },
  {
   "cell_type": "code",
   "execution_count": 29,
   "id": "2c56bc44",
   "metadata": {},
   "outputs": [
    {
     "data": {
      "text/plain": [
       "(2, 887)"
      ]
     },
     "execution_count": 29,
     "metadata": {},
     "output_type": "execute_result"
    }
   ],
   "source": [
    "min(volume), max(volume)"
   ]
  },
  {
   "cell_type": "code",
   "execution_count": null,
   "id": "2cd3d7e5",
   "metadata": {},
   "outputs": [],
   "source": []
  },
  {
   "cell_type": "code",
   "execution_count": 31,
   "id": "8bd149a7",
   "metadata": {},
   "outputs": [
    {
     "data": {
      "image/png": "[encoded data removed]",
      "text/plain": [
       "<Figure size 432x288 with 1 Axes>"
      ]
     },
     "metadata": {
      "needs_background": "light"
     },
     "output_type": "display_data"
    }
   ],
   "source": [
    "x3 = range(len(voxel_count))\n",
    "plt.bar(x3,voxel_count)\n",
    "plt.xlabel('Number of patients')\n",
    "plt.ylabel('voxelcount')\n",
    "plt.show()"
   ]
  },
  {
   "cell_type": "code",
   "execution_count": 32,
   "id": "bffc474a",
   "metadata": {},
   "outputs": [
    {
     "data": {
      "text/plain": [
       "(11, 2509)"
      ]
     },
     "execution_count": 32,
     "metadata": {},
     "output_type": "execute_result"
    }
   ],
   "source": [
    "min(voxel_count), max(voxel_count)"
   ]
  },
  {
   "cell_type": "code",
   "execution_count": null,
   "id": "5438a273",
   "metadata": {},
   "outputs": [],
   "source": []
  },
  {
   "cell_type": "code",
   "execution_count": null,
   "id": "907c3982",
   "metadata": {},
   "outputs": [],
   "source": []
  },
  {
   "cell_type": "code",
   "execution_count": null,
   "id": "8f14f4a8",
   "metadata": {},
   "outputs": [],
   "source": [
    "# reference: https://github.com/jiehyunjkim/cs410_upenn/blob/master/experiments/upenn_plaque_features_oo_v1.py"
   ]
  },
  {
   "cell_type": "code",
   "execution_count": null,
   "id": "a0cd17f3",
   "metadata": {},
   "outputs": [],
   "source": []
  },
  {
   "cell_type": "code",
   "execution_count": null,
   "id": "b468e85e",
   "metadata": {},
   "outputs": [],
   "source": []
  },
  {
   "cell_type": "code",
   "execution_count": null,
   "id": "53029156",
   "metadata": {},
   "outputs": [],
   "source": []
  },
  {
   "cell_type": "code",
   "execution_count": null,
   "id": "283d589d",
   "metadata": {},
   "outputs": [],
   "source": []
  },
  {
   "cell_type": "code",
   "execution_count": null,
   "id": "7a62a1db",
   "metadata": {},
   "outputs": [],
   "source": []
  },
  {
   "cell_type": "code",
   "execution_count": null,
   "id": "3b28f6a2",
   "metadata": {},
   "outputs": [],
   "source": []
  }
 ],
 "metadata": {
  "kernelspec": {
   "display_name": "Python 3 (ipykernel)",
   "language": "python",
   "name": "python3"
  },
  "language_info": {
   "codemirror_mode": {
    "name": "ipython",
    "version": 3
   },
   "file_extension": ".py",
   "mimetype": "text/x-python",
   "name": "python",
   "nbconvert_exporter": "python",
   "pygments_lexer": "ipython3",
   "version": "3.9.7"
  }
 },
 "nbformat": 4,
 "nbformat_minor": 5
}
