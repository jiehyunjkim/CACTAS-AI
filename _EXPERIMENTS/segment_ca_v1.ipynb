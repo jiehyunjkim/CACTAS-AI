{
 "cells": [
  {
   "cell_type": "code",
   "execution_count": 1,
   "id": "0e02541c",
   "metadata": {},
   "outputs": [],
   "source": [
    "import itk\n",
    "import numpy as np\n",
    "import matplotlib.pyplot as plt"
   ]
  },
  {
   "cell_type": "code",
   "execution_count": null,
   "id": "d16daf6e",
   "metadata": {},
   "outputs": [],
   "source": []
  },
  {
   "cell_type": "code",
   "execution_count": 2,
   "id": "1f0b05c7",
   "metadata": {},
   "outputs": [],
   "source": [
    "ImageType = itk.Image[itk.F, 3]\n",
    "reader = itk.ImageFileReader[ImageType].New()\n",
    "reader.SetFileName('/home/jiehyun.kim001/Desktop/62.img.nrrd')\n",
    "reader.Update()\n",
    "original_image = reader.GetOutput()"
   ]
  },
  {
   "cell_type": "code",
   "execution_count": 3,
   "id": "65d1ac39",
   "metadata": {},
   "outputs": [],
   "source": [
    "mask_reader = itk.ImageFileReader[ImageType].New()\n",
    "mask_reader.SetFileName('/home/jiehyun.kim001/Desktop/ca/Scene/carotid_artery.seg.nrrd')\n",
    "mask_reader.Update()\n",
    "segmentation_mask = mask_reader.GetOutput()"
   ]
  },
  {
   "cell_type": "code",
   "execution_count": 4,
   "id": "e316570c",
   "metadata": {},
   "outputs": [],
   "source": [
    "array = itk.GetArrayFromImage(segmentation_mask)\n",
    "seeds = np.argwhere(array)"
   ]
  },
  {
   "cell_type": "code",
   "execution_count": 5,
   "id": "e45baf1f",
   "metadata": {},
   "outputs": [],
   "source": [
    "ConnectedFilterType = itk.ConnectedThresholdImageFilter[ImageType, ImageType]\n",
    "connected_threshold = ConnectedFilterType.New()\n",
    "connected_threshold.SetInput(original_image)"
   ]
  },
  {
   "cell_type": "code",
   "execution_count": 6,
   "id": "39f8157e",
   "metadata": {},
   "outputs": [],
   "source": [
    "for seed in seeds:\n",
    "    seed_int = [int(coord) for coord in seed]\n",
    "    seed_int_reversed = list(reversed(seed_int))\n",
    "    connected_threshold.AddSeed(seed_int_reversed)"
   ]
  },
  {
   "cell_type": "code",
   "execution_count": 11,
   "id": "a77b2289",
   "metadata": {},
   "outputs": [],
   "source": [
    "connected_threshold.SetLower(60)\n",
    "connected_threshold.SetUpper(70)\n",
    "connected_threshold.Update()"
   ]
  },
  {
   "cell_type": "code",
   "execution_count": 12,
   "id": "bd6e6d4f",
   "metadata": {},
   "outputs": [],
   "source": [
    "output = connected_threshold.GetOutput()"
   ]
  },
  {
   "cell_type": "code",
   "execution_count": 13,
   "id": "80b86de5",
   "metadata": {},
   "outputs": [],
   "source": [
    "segmentation_array = itk.GetArrayFromImage(output)"
   ]
  },
  {
   "cell_type": "code",
   "execution_count": 14,
   "id": "83b24ee4",
   "metadata": {},
   "outputs": [
    {
     "data": {
      "image/png": "[encoded data removed]",
      "text/plain": [
       "<Figure size 1080x360 with 3 Axes>"
      ]
     },
     "metadata": {
      "needs_background": "light"
     },
     "output_type": "display_data"
    }
   ],
   "source": [
    "# Create a figure\n",
    "plt.figure(figsize=(15, 5))  # Adjust the size as needed\n",
    "\n",
    "# Display the first image\n",
    "plt.subplot(1, 3, 1)  # (1 row, 2 columns, first subplot)\n",
    "plt.imshow(segmentation_array[56,:,:], cmap='gray')  # Adjust colormap as needed\n",
    "plt.title(\"Threshold\")  # Optional title\n",
    "plt.axis('off')  # Turn off axis numbers\n",
    "\n",
    "# Display the second image\n",
    "plt.subplot(1, 3, 2)  # (1 row, 2 columns, second subplot)\n",
    "plt.imshow(segmentation_mask[56,:,:], cmap='gray')  # Adjust colormap as needed\n",
    "plt.title(\"Original\")  # Optional title\n",
    "plt.axis('off')  # Turn off axis numbers\n",
    "\n",
    "plt.subplot(1, 3, 3)  # (1 row, 2 columns, second subplot)\n",
    "plt.imshow(segmentation_array[56,:,:], cmap='gray', interpolation='none')\n",
    "plt.imshow(segmentation_mask[56,:,:], cmap='jet', interpolation='none', alpha=0.5)\n",
    "plt.title(\"Overlay\")  # Optional title\n",
    "plt.axis('off')  # Turn off axis numbers\n",
    "\n",
    "\n",
    "# Show the plot\n",
    "plt.show()"
   ]
  },
  {
   "cell_type": "code",
   "execution_count": 10,
   "id": "7e5a1184",
   "metadata": {},
   "outputs": [
    {
     "data": {
      "text/plain": [
       "(268, 512, 512)"
      ]
     },
     "execution_count": 10,
     "metadata": {},
     "output_type": "execute_result"
    }
   ],
   "source": [
    "segmentation_array.shape"
   ]
  },
  {
   "cell_type": "code",
   "execution_count": 11,
   "id": "c2cc3e41",
   "metadata": {},
   "outputs": [
    {
     "data": {
      "text/plain": [
       "268"
      ]
     },
     "execution_count": 11,
     "metadata": {},
     "output_type": "execute_result"
    }
   ],
   "source": [
    "segmentation_array.shape[0]"
   ]
  },
  {
   "cell_type": "code",
   "execution_count": null,
   "id": "dcbe8241",
   "metadata": {},
   "outputs": [],
   "source": []
  },
  {
   "cell_type": "code",
   "execution_count": 12,
   "id": "2b4d43f3",
   "metadata": {},
   "outputs": [
    {
     "data": {
      "text/plain": [
       "9173"
      ]
     },
     "execution_count": 12,
     "metadata": {},
     "output_type": "execute_result"
    }
   ],
   "source": [
    "len(seeds)"
   ]
  },
  {
   "cell_type": "code",
   "execution_count": 18,
   "id": "e4b267f6",
   "metadata": {},
   "outputs": [
    {
     "data": {
      "text/plain": [
       "array([[ 30, 273, 273],\n",
       "       [ 30, 273, 274],\n",
       "       [ 30, 273, 275],\n",
       "       ...,\n",
       "       [104, 250, 228],\n",
       "       [104, 250, 229],\n",
       "       [104, 250, 230]])"
      ]
     },
     "execution_count": 18,
     "metadata": {},
     "output_type": "execute_result"
    }
   ],
   "source": [
    "seeds"
   ]
  },
  {
   "cell_type": "code",
   "execution_count": null,
   "id": "76ab1bd2",
   "metadata": {},
   "outputs": [],
   "source": []
  },
  {
   "cell_type": "code",
   "execution_count": null,
   "id": "c68d806d",
   "metadata": {},
   "outputs": [],
   "source": []
  },
  {
   "cell_type": "code",
   "execution_count": null,
   "id": "70f872fa",
   "metadata": {},
   "outputs": [],
   "source": []
  },
  {
   "cell_type": "code",
   "execution_count": null,
   "id": "7dcfe277",
   "metadata": {},
   "outputs": [],
   "source": []
  },
  {
   "cell_type": "code",
   "execution_count": null,
   "id": "9c0adc40",
   "metadata": {},
   "outputs": [],
   "source": []
  },
  {
   "cell_type": "code",
   "execution_count": 14,
   "id": "cc7b9669",
   "metadata": {},
   "outputs": [],
   "source": [
    "#for i in range(segmentation_array.shape[0]):\n",
    "#    plt.imshow(segmentation_array[i,:,:])\n",
    "#    plt.show()"
   ]
  },
  {
   "cell_type": "code",
   "execution_count": 15,
   "id": "038c4c00",
   "metadata": {},
   "outputs": [],
   "source": [
    "#for i in range(segmentation_mask.shape[0]):\n",
    "#    plt.imshow(segmentation_mask[i,:,:])\n",
    "#    plt.show()"
   ]
  },
  {
   "cell_type": "code",
   "execution_count": null,
   "id": "6e81b0fc",
   "metadata": {},
   "outputs": [],
   "source": []
  },
  {
   "cell_type": "code",
   "execution_count": 16,
   "id": "ef068366",
   "metadata": {
    "scrolled": true
   },
   "outputs": [],
   "source": [
    "#for i in range(segmentation_array.shape[0]):\n",
    "#    # Create a figure\n",
    "#    plt.figure(figsize=(10, 5))  # Adjust the size as needed\n",
    "#\n",
    "#    # Display the first image\n",
    "#    plt.subplot(1, 2, 1)  # (1 row, 2 columns, first subplot)\n",
    "#    plt.imshow(segmentation_array[i,:,:], cmap='gray')  # Adjust colormap as needed\n",
    "#    plt.title(\"Threshold\")  # Optional title\n",
    "#    plt.axis('off')  # Turn off axis numbers\n",
    "#\n",
    "#    # Display the second image\n",
    "#    plt.subplot(1, 2, 2)  # (1 row, 2 columns, second subplot)\n",
    "#    plt.imshow(segmentation_mask[i,:,:], cmap='gray')  # Adjust colormap as needed\n",
    "#    plt.title(\"Original\")  # Optional title\n",
    "#    plt.axis('off')  # Turn off axis numbers\n",
    "#\n",
    "#    # Show the plot\n",
    "#    plt.show()"
   ]
  },
  {
   "cell_type": "code",
   "execution_count": null,
   "id": "e839a723",
   "metadata": {},
   "outputs": [],
   "source": []
  },
  {
   "cell_type": "code",
   "execution_count": null,
   "id": "f71fc12f",
   "metadata": {},
   "outputs": [],
   "source": []
  },
  {
   "cell_type": "code",
   "execution_count": null,
   "id": "d3c8d8c7",
   "metadata": {},
   "outputs": [],
   "source": []
  },
  {
   "cell_type": "code",
   "execution_count": null,
   "id": "da27a84b",
   "metadata": {},
   "outputs": [],
   "source": []
  }
 ],
 "metadata": {
  "kernelspec": {
   "display_name": "Python 3",
   "language": "python",
   "name": "python3"
  },
  "language_info": {
   "codemirror_mode": {
    "name": "ipython",
    "version": 3
   },
   "file_extension": ".py",
   "mimetype": "text/x-python",
   "name": "python",
   "nbconvert_exporter": "python",
   "pygments_lexer": "ipython3",
   "version": "3.6.1"
  }
 },
 "nbformat": 4,
 "nbformat_minor": 5
}
