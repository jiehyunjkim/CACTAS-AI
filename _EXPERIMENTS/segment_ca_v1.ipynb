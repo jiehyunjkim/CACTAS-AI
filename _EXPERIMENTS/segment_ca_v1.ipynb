{
 "cells": [
  {
   "cell_type": "code",
   "execution_count": 1,
   "id": "6c062e91",
   "metadata": {},
   "outputs": [],
   "source": [
    "import itk\n",
    "import numpy as np\n",
    "import matplotlib.pyplot as plt"
   ]
  },
  {
   "cell_type": "code",
   "execution_count": null,
   "id": "82cb1409",
   "metadata": {},
   "outputs": [],
   "source": []
  },
  {
   "cell_type": "code",
   "execution_count": 2,
   "id": "a206ebf7",
   "metadata": {},
   "outputs": [],
   "source": [
    "ImageType = itk.Image[itk.F, 3]\n",
    "reader = itk.ImageFileReader[ImageType].New()\n",
    "reader.SetFileName('/home/jiehyun.kim001/Desktop/62.img.nrrd')\n",
    "reader.Update()\n",
    "original_image = reader.GetOutput()"
   ]
  },
  {
   "cell_type": "code",
   "execution_count": 3,
   "id": "cbaa9975",
   "metadata": {},
   "outputs": [],
   "source": [
    "mask_reader = itk.ImageFileReader[ImageType].New()\n",
    "mask_reader.SetFileName('/home/jiehyun.kim001/Desktop/ca/Scene/carotid_artery.seg.nrrd')\n",
    "mask_reader.Update()\n",
    "segmentation_mask = mask_reader.GetOutput()"
   ]
  },
  {
   "cell_type": "code",
   "execution_count": 4,
   "id": "a49d9475",
   "metadata": {},
   "outputs": [],
   "source": [
    "array = itk.GetArrayFromImage(segmentation_mask)\n",
    "seeds = np.argwhere(array)"
   ]
  },
  {
   "cell_type": "code",
   "execution_count": 5,
   "id": "923671c2",
   "metadata": {},
   "outputs": [],
   "source": [
    "ConnectedFilterType = itk.ConnectedThresholdImageFilter[ImageType, ImageType]\n",
    "connected_threshold = ConnectedFilterType.New()\n",
    "connected_threshold.SetInput(original_image)"
   ]
  },
  {
   "cell_type": "code",
   "execution_count": 82,
   "id": "c01f7ca4",
   "metadata": {},
   "outputs": [],
   "source": [
    "for seed in seeds:\n",
    "    seed_int = [int(coord) for coord in seed]\n",
    "    #seed_int_reversed = list(reversed(seed_int))\n",
    "    itk_seed = itk.Index[ImageType.GetImageDimension()](seed_int)\n",
    "    connected_threshold.AddSeed(itk_seed)"
   ]
  },
  {
   "cell_type": "code",
   "execution_count": 95,
   "id": "1d099f7b",
   "metadata": {},
   "outputs": [],
   "source": [
    "connected_threshold.SetLower(60)\n",
    "connected_threshold.SetUpper(90)\n",
    "connected_threshold.Update()"
   ]
  },
  {
   "cell_type": "code",
   "execution_count": 96,
   "id": "aaa8d28b",
   "metadata": {},
   "outputs": [],
   "source": [
    "segmentation_array = itk.GetArrayFromImage(connected_threshold.GetOutput())"
   ]
  },
  {
   "cell_type": "code",
   "execution_count": 97,
   "id": "fbda6d4d",
   "metadata": {},
   "outputs": [
    {
     "data": {
      "image/png": "[encoded data removed]",
      "text/plain": [
       "<Figure size 720x360 with 2 Axes>"
      ]
     },
     "metadata": {
      "needs_background": "light"
     },
     "output_type": "display_data"
    }
   ],
   "source": [
    "# Create a figure\n",
    "plt.figure(figsize=(10, 5))  # Adjust the size as needed\n",
    "\n",
    "# Display the first image\n",
    "plt.subplot(1, 2, 1)  # (1 row, 2 columns, first subplot)\n",
    "plt.imshow(segmentation_array[34,:,:], cmap='gray')  # Adjust colormap as needed\n",
    "plt.title(\"Threshold\")  # Optional title\n",
    "plt.axis('off')  # Turn off axis numbers\n",
    "\n",
    "# Display the second image\n",
    "plt.subplot(1, 2, 2)  # (1 row, 2 columns, second subplot)\n",
    "plt.imshow(segmentation_mask[34,:,:], cmap='gray')  # Adjust colormap as needed\n",
    "plt.title(\"Original\")  # Optional title\n",
    "plt.axis('off')  # Turn off axis numbers\n",
    "\n",
    "# Show the plot\n",
    "plt.show()"
   ]
  },
  {
   "cell_type": "code",
   "execution_count": 9,
   "id": "d5f35af9",
   "metadata": {},
   "outputs": [
    {
     "data": {
      "text/plain": [
       "(268, 512, 512)"
      ]
     },
     "execution_count": 9,
     "metadata": {},
     "output_type": "execute_result"
    }
   ],
   "source": [
    "segmentation_array.shape"
   ]
  },
  {
   "cell_type": "code",
   "execution_count": 10,
   "id": "32cd5dd1",
   "metadata": {},
   "outputs": [
    {
     "data": {
      "text/plain": [
       "268"
      ]
     },
     "execution_count": 10,
     "metadata": {},
     "output_type": "execute_result"
    }
   ],
   "source": [
    "segmentation_array.shape[0]"
   ]
  },
  {
   "cell_type": "code",
   "execution_count": 11,
   "id": "808b3821",
   "metadata": {},
   "outputs": [],
   "source": [
    "#for i in range(segmentation_array.shape[0]):\n",
    "#    plt.imshow(segmentation_array[i,:,:])\n",
    "#    plt.show()"
   ]
  },
  {
   "cell_type": "code",
   "execution_count": 12,
   "id": "874620f1",
   "metadata": {},
   "outputs": [],
   "source": [
    "#for i in range(segmentation_mask.shape[0]):\n",
    "#    plt.imshow(segmentation_mask[i,:,:])\n",
    "#    plt.show()"
   ]
  },
  {
   "cell_type": "code",
   "execution_count": null,
   "id": "9a851c94",
   "metadata": {},
   "outputs": [],
   "source": []
  },
  {
   "cell_type": "code",
   "execution_count": 17,
   "id": "82f649a1",
   "metadata": {
    "scrolled": true
   },
   "outputs": [],
   "source": [
    "#for i in range(segmentation_array.shape[0]):\n",
    "#    # Create a figure\n",
    "#    plt.figure(figsize=(10, 5))  # Adjust the size as needed\n",
    "#\n",
    "#    # Display the first image\n",
    "#    plt.subplot(1, 2, 1)  # (1 row, 2 columns, first subplot)\n",
    "#    plt.imshow(segmentation_array[i,:,:], cmap='gray')  # Adjust colormap as needed\n",
    "#    plt.title(\"Threshold\")  # Optional title\n",
    "#    plt.axis('off')  # Turn off axis numbers\n",
    "#\n",
    "#    # Display the second image\n",
    "#    plt.subplot(1, 2, 2)  # (1 row, 2 columns, second subplot)\n",
    "#    plt.imshow(segmentation_mask[i,:,:], cmap='gray')  # Adjust colormap as needed\n",
    "#    plt.title(\"Original\")  # Optional title\n",
    "#    plt.axis('off')  # Turn off axis numbers\n",
    "#\n",
    "#    # Show the plot\n",
    "#    plt.show()"
   ]
  },
  {
   "cell_type": "code",
   "execution_count": null,
   "id": "abad2f71",
   "metadata": {},
   "outputs": [],
   "source": []
  },
  {
   "cell_type": "code",
   "execution_count": null,
   "id": "14c5b0b3",
   "metadata": {},
   "outputs": [],
   "source": []
  },
  {
   "cell_type": "code",
   "execution_count": null,
   "id": "efef6da2",
   "metadata": {},
   "outputs": [],
   "source": []
  },
  {
   "cell_type": "code",
   "execution_count": null,
   "id": "5c72c24d",
   "metadata": {},
   "outputs": [],
   "source": []
  }
 ],
 "metadata": {
  "kernelspec": {
   "display_name": "Python 3",
   "language": "python",
   "name": "python3"
  },
  "language_info": {
   "codemirror_mode": {
    "name": "ipython",
    "version": 3
   },
   "file_extension": ".py",
   "mimetype": "text/x-python",
   "name": "python",
   "nbconvert_exporter": "python",
   "pygments_lexer": "ipython3",
   "version": "3.6.1"
  }
 },
 "nbformat": 4,
 "nbformat_minor": 5
}
