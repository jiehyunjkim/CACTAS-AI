{
 "cells": [
  {
   "cell_type": "code",
   "execution_count": 1,
   "metadata": {},
   "outputs": [],
   "source": [
    "import vtk"
   ]
  },
  {
   "cell_type": "code",
   "execution_count": null,
   "metadata": {},
   "outputs": [],
   "source": []
  },
  {
   "cell_type": "code",
   "execution_count": 2,
   "metadata": {},
   "outputs": [],
   "source": [
    "DATAPATH = '/Users/jiehyun/Jenna/UMassBoston/Research/VMTK/'"
   ]
  },
  {
   "cell_type": "code",
   "execution_count": 3,
   "metadata": {},
   "outputs": [],
   "source": [
    "# Read the VTK file\n",
    "reader = vtk.vtkDataSetReader()\n",
    "reader.SetFileName(DATAPATH + '62.img.vtk')\n",
    "reader.Update()"
   ]
  },
  {
   "cell_type": "code",
   "execution_count": 4,
   "metadata": {},
   "outputs": [
    {
     "data": {
      "text/plain": [
       "1"
      ]
     },
     "execution_count": 4,
     "metadata": {},
     "output_type": "execute_result"
    }
   ],
   "source": [
    "# Write to a VTI file\n",
    "writer = vtk.vtkXMLImageDataWriter()\n",
    "writer.SetFileName(DATAPATH + '62.img.vti')\n",
    "writer.SetInputData(reader.GetOutput())\n",
    "writer.Write()"
   ]
  },
  {
   "cell_type": "code",
   "execution_count": 8,
   "metadata": {},
   "outputs": [],
   "source": [
    "TS_PATH='/Users/jiehyun/Jenna/UMassBoston/Research/TS/62/'"
   ]
  },
  {
   "cell_type": "code",
   "execution_count": 9,
   "metadata": {},
   "outputs": [],
   "source": [
    "# Read the VTK file\n",
    "reader = vtk.vtkDataSetReader()\n",
    "reader.SetFileName(TS_PATH + 'common_carotid_artery_right.vtk')\n",
    "reader.Update()"
   ]
  },
  {
   "cell_type": "code",
   "execution_count": 10,
   "metadata": {},
   "outputs": [
    {
     "data": {
      "text/plain": [
       "1"
      ]
     },
     "execution_count": 10,
     "metadata": {},
     "output_type": "execute_result"
    }
   ],
   "source": [
    "# Write to a VTI file\n",
    "writer = vtk.vtkXMLImageDataWriter()\n",
    "writer.SetFileName(TS_PATH + 'common_carotid_artery_right.vti')\n",
    "writer.SetInputData(reader.GetOutput())\n",
    "writer.Write()"
   ]
  },
  {
   "cell_type": "code",
   "execution_count": 22,
   "metadata": {},
   "outputs": [],
   "source": [
    "import matplotlib.pyplot as plt \n",
    "import numpy as np\n",
    "import nrrd\n",
    "import nibabel as nib\n",
    "import RegionGrowth"
   ]
  },
  {
   "cell_type": "code",
   "execution_count": 33,
   "metadata": {},
   "outputs": [],
   "source": [
    "img, h1 = nrrd.read(DATAPATH + '62.img.nrrd')"
   ]
  },
  {
   "cell_type": "code",
   "execution_count": 34,
   "metadata": {},
   "outputs": [],
   "source": [
    "seed = nib.load(TS_PATH + 'common_carotid_artery_right.nii.gz')"
   ]
  },
  {
   "cell_type": "code",
   "execution_count": 35,
   "metadata": {},
   "outputs": [
    {
     "name": "stderr",
     "output_type": "stream",
     "text": [
      "/var/folders/w2/kjqd2k2x70z1qwx2jy2y7j580000gn/T/ipykernel_81278/4257035075.py:1: DeprecationWarning: get_data() is deprecated in favor of get_fdata(), which has a more predictable return type. To obtain get_data() behavior going forward, use numpy.asanyarray(img.dataobj).\n",
      "\n",
      "* deprecated from version: 3.0\n",
      "* Will raise <class 'nibabel.deprecator.ExpiredDeprecationError'> as of version: 5.0\n",
      "  data = seed.get_data()\n"
     ]
    }
   ],
   "source": [
    "data = seed.get_data()"
   ]
  },
  {
   "cell_type": "code",
   "execution_count": null,
   "metadata": {},
   "outputs": [],
   "source": [
    "#img = Image.open(\"images/input.png\").convert('L') # gray scale\n",
    "img = np.array(img)\n",
    "masks = np.ones_like(img)\n",
    "\n",
    "#seed_img = Image.open(\"images/random.png\").convert('L')\n",
    "seed_img = data\n",
    "seed_img = np.array(seed_img)\n",
    "coords = np.where(seed_img>0)\n",
    "\n",
    "seeds = np.stack(coords, axis=-1)\n",
    "\n",
    "out_img = RegionGrowth.RegionGrow2D(img, masks, upperThreshold=255, lowerThreshold=0, neighborMode=\"8n\").main(seeds, update=True)\n",
    "\n",
    "out_img = Image.fromarray(np.asarray(out_img)*255)\n",
    "out_img.save(\"outputs/result_growth_pyx.png\")"
   ]
  },
  {
   "cell_type": "code",
   "execution_count": null,
   "metadata": {},
   "outputs": [],
   "source": []
  }
 ],
 "metadata": {
  "kernelspec": {
   "display_name": "Python 3",
   "language": "python",
   "name": "python3"
  },
  "language_info": {
   "codemirror_mode": {
    "name": "ipython",
    "version": 3
   },
   "file_extension": ".py",
   "mimetype": "text/x-python",
   "name": "python",
   "nbconvert_exporter": "python",
   "pygments_lexer": "ipython3",
   "version": "3.10.6"
  },
  "orig_nbformat": 4,
  "vscode": {
   "interpreter": {
    "hash": "b0fa6594d8f4cbf19f97940f81e996739fb7646882a419484c72d19e05852a7e"
   }
  }
 },
 "nbformat": 4,
 "nbformat_minor": 2
}
