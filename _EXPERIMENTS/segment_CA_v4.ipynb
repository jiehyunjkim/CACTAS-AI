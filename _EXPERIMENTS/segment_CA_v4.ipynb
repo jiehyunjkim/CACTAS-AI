{
 "cells": [
  {
   "cell_type": "code",
   "execution_count": 1,
   "id": "34b9f45b",
   "metadata": {},
   "outputs": [
    {
     "name": "stdout",
     "output_type": "stream",
     "text": [
      "Populating the interactive namespace from numpy and matplotlib\n"
     ]
    }
   ],
   "source": [
    "%pylab inline\n",
    "%load_ext autoreload\n",
    "%autoreload 2"
   ]
  },
  {
   "cell_type": "code",
   "execution_count": 2,
   "id": "a0c2451c",
   "metadata": {
    "scrolled": true
   },
   "outputs": [],
   "source": [
    "import SimpleITK as sitk\n",
    "import cactas as C\n",
    "import os"
   ]
  },
  {
   "cell_type": "code",
   "execution_count": null,
   "id": "1f5e95fc",
   "metadata": {},
   "outputs": [],
   "source": []
  },
  {
   "cell_type": "code",
   "execution_count": 3,
   "id": "0eca1f3d",
   "metadata": {},
   "outputs": [],
   "source": [
    "def load_seed(seed_image_path, cta_image):\n",
    "    seed_image = sitk.ReadImage(seed_image_path)\n",
    "    seed_indices = sitk.GetArrayFromImage(seed_image)\n",
    "    seeds = list(zip(*seed_indices.nonzero()))\n",
    "    seeds = [tuple(int(x) for x in seed) for seed in seeds]\n",
    "    seeds = [(seed[2], seed[1], seed[0]) for seed in seeds]\n",
    "\n",
    "    intensity_values = []\n",
    "    for seed in seeds:\n",
    "        # Extract a small region around the seed point\n",
    "        region_radius = [1, 1, 1]  # Define the size of the region around the seed point\n",
    "        region = sitk.RegionOfInterest(cta_image, region_radius, seed)\n",
    "        region_array = sitk.GetArrayFromImage(region)\n",
    "\n",
    "        # Collect all intensity values of the region\n",
    "        intensity_values.extend(region_array.flatten())\n",
    "\n",
    "    return seeds, intensity_values"
   ]
  },
  {
   "cell_type": "code",
   "execution_count": 4,
   "id": "75b32c00",
   "metadata": {},
   "outputs": [],
   "source": [
    "def apply_window_level(cta_image, window_width, window_level):\n",
    "    image_data = sitk.GetArrayFromImage(cta_image)\n",
    "    \n",
    "    lower_bound = window_level - (window_width / 2)\n",
    "    upper_bound = window_level + (window_width / 2)\n",
    "    \n",
    "    windowed_image = np.clip(image_data, lower_bound, upper_bound)\n",
    "    \n",
    "    windowed_image_sitk = sitk.GetImageFromArray(windowed_image)\n",
    "    windowed_image_sitk.CopyInformation(windowed_image_sitk)\n",
    "    \n",
    "    return windowed_image_sitk"
   ]
  },
  {
   "cell_type": "code",
   "execution_count": 5,
   "id": "8c8204a3",
   "metadata": {},
   "outputs": [],
   "source": [
    "DATAPATH='/raid/mpsych/CACTAS/DATA/ESUS/'\n",
    "TS_PATH='/raid/mpsych/CACTAS/DATA/TS/'\n",
    "output_dir='/raid/mpsych/CACTAS/DATA/CA9'"
   ]
  },
  {
   "cell_type": "code",
   "execution_count": 6,
   "id": "5ee91aab",
   "metadata": {},
   "outputs": [],
   "source": [
    "images, labels = C.Helper.load_data(DATAPATH)"
   ]
  },
  {
   "cell_type": "code",
   "execution_count": null,
   "id": "0892c3b7",
   "metadata": {},
   "outputs": [],
   "source": []
  },
  {
   "cell_type": "code",
   "execution_count": 7,
   "id": "1fb939a2",
   "metadata": {},
   "outputs": [
    {
     "name": "stdout",
     "output_type": "stream",
     "text": [
      "5 422.45471128885146 572.4547112888515\n",
      "18 299.58407000625056 449.58407000625056\n",
      "24 349.2687762350662 499.2687762350662\n",
      "60 270.7151298918497 420.7151298918497\n",
      "95 282.8760171082829 432.8760171082829\n",
      "9 476.4696078431373 626.4696078431373\n",
      "23 312.7357660280279 462.7357660280279\n",
      "97 220.3449487554905 370.34494875549046\n",
      "55 233.66691244239632 383.6669124423963\n",
      "69 338.39297046619475 488.39297046619475\n",
      "45 257.5567472009428 407.5567472009428\n",
      "35 316.5302576830426 466.5302576830426\n",
      "21 298.87066130800144 448.87066130800144\n",
      "51 345.5252999265486 495.5252999265486\n",
      "66 176.4699718146997 326.4699718146997\n",
      "91 249.21977012773775 399.2197701277378\n",
      "63 322.8833894791397 472.8833894791397\n",
      "42 245.03435475161987 395.03435475161984\n",
      "15 220.65430267062314 370.6543026706231\n",
      "52 318.34811920631273 468.34811920631273\n",
      "26 277.4764678471575 427.4764678471575\n",
      "86 192.29434977578475 342.2943497757848\n",
      "33 317.98300259566275 467.98300259566275\n",
      "6 171.05752427184467 321.05752427184467\n",
      "46 324.28317601332594 474.28317601332594\n",
      "53 206.04087548920134 356.0408754892013\n",
      "12 294.8155977332014 444.8155977332014\n",
      "50 172.50409218882996 322.50409218883\n",
      "83 323.47866367209434 473.47866367209434\n",
      "92 355.3406452440511 505.3406452440511\n",
      "64 297.69890142739706 447.69890142739706\n",
      "96 355.82176977290527 505.82176977290527\n",
      "62 202.8441973133671 352.8441973133671\n",
      "13 323.7576015309377 473.7576015309377\n",
      "10 203.85264746030606 353.85264746030606\n",
      "2 252.87535779339058 402.87535779339055\n",
      "31 353.7424116176646 503.7424116176646\n",
      "79 339.4403553299492 489.4403553299492\n",
      "29 304.304094714809 454.304094714809\n",
      "49 322.331624789419 472.331624789419\n",
      "84 255.3247570040023 405.3247570040023\n",
      "71 197.9342133582036 347.9342133582036\n",
      "61 262.9305165545615 412.9305165545615\n",
      "94 199.1429718875502 349.1429718875502\n",
      "27 140.02936767511582 290.02936767511585\n",
      "72 432.916323217185 582.916323217185\n",
      "11 228.1141385612228 378.11413856122283\n",
      "14 307.66992665036673 457.66992665036673\n",
      "75 275.41876083871983 425.41876083871983\n",
      "16 116.1603498542274 266.16034985422743\n",
      "88 229.35926637394803 379.359266373948\n",
      "41 309.57328385899814 459.57328385899814\n",
      "7 242.55759162303664 392.5575916230366\n",
      "22 260.98737584702496 410.98737584702496\n",
      "65 257.6735594154949 407.6735594154949\n",
      "57 237.4527192008879 387.45271920088794\n",
      "36 329.33716983916185 479.33716983916185\n",
      "32 318.45185488270596 468.45185488270596\n",
      "73 171.012671268157 321.01267126815696\n",
      "40 344.98025528520145 494.98025528520145\n",
      "90 174.45223445595855 324.45223445595855\n",
      "48 405.5005375818591 555.5005375818591\n",
      "17 422.0712136409228 572.0712136409228\n",
      "93 376.04377474703034 526.0437747470303\n",
      "82 274.25883227965784 424.25883227965784\n",
      "77 421.68517383308523 571.6851738330852\n",
      "25 313.0462490456865 463.0462490456865\n",
      "47 267.16545617351505 417.16545617351505\n",
      "87 198.32859174964437 348.3285917496444\n",
      "39 443.60233583796145 593.6023358379614\n"
     ]
    }
   ],
   "source": [
    "for image in images:\n",
    "    num = image.split(\".\")[0]\n",
    "\n",
    "    # Construct the full path to the CTA image\n",
    "    cta_image_path = os.path.join(DATAPATH, image)\n",
    "    cta_image = sitk.ReadImage(cta_image_path)\n",
    "    \n",
    "\n",
    "    # Assume seed file names are related to the CTA image file name\n",
    "    seed_image_path_left = os.path.join(TS_PATH + \"/\" + num, f\"common_carotid_artery_left.nii.gz\")\n",
    "    seed_image_path_right = os.path.join(TS_PATH+ \"/\" + num, f\"common_carotid_artery_right.nii.gz\")\n",
    "    seeds_left, intensities_left = load_seed(seed_image_path_left, cta_image)\n",
    "    seeds_right, intensities_right = load_seed(seed_image_path_right, cta_image)\n",
    "\n",
    "    # Combine seeds and intensity values from both sides\n",
    "    seeds = seeds_left + seeds_right\n",
    "    intensity_values = intensities_left + intensities_right\n",
    "\n",
    "    intensity_values_array = np.array(intensity_values)  \n",
    "    intensity_values_array = intensity_values_array[intensity_values_array >= 0]\n",
    "    sorted_intensity_values = np.sort(intensity_values_array)\n",
    "    \n",
    "    intraluminal_HU = np.mean(sorted_intensity_values) \n",
    "    window_width = intraluminal_HU * 2.07\n",
    "    window_level = intraluminal_HU * 0.72\n",
    "    \n",
    "\n",
    "    windowed_cta_array = apply_window_level(cta_image, window_width, window_level)\n",
    "    \n",
    "    #median_intensity = np.median(sorted_intensity_values)\n",
    "    mean_intensity = np.mean(sorted_intensity_values)\n",
    "\n",
    "    lower_threshold = float(mean_intensity)\n",
    "    upper_threshold = lower_threshold + 100 \n",
    "    \n",
    "    \n",
    "    # Use adjusted thresholds in the ConnectedThreshold function\n",
    "    output_image = sitk.ConnectedThreshold(windowed_cta_array, seedList=seeds,\n",
    "                                           lower=lower_threshold, upper=upper_threshold)\n",
    "\n",
    "    # Process the output image as before\n",
    "    output_image_array = sitk.GetArrayFromImage(output_image)\n",
    "    output_image_array[:45] = np.zeros_like(output_image_array[:45])\n",
    "    \n",
    "    if output_image_array.shape[0] > 300:\n",
    "        output_image_array[240:] = np.zeros_like(output_image_array[240:])\n",
    "    else:\n",
    "        output_image_array[120:] = np.zeros_like(output_image_array[120:])\n",
    "\n",
    "    output_image_modified = sitk.GetImageFromArray(output_image_array)\n",
    "    output_image_modified.CopyInformation(output_image)\n",
    "    output_image_modified.SetSpacing(output_image.GetSpacing())\n",
    "    output_image_modified.SetOrigin(output_image.GetOrigin())\n",
    "    output_image_modified.SetDirection(output_image.GetDirection())\n",
    "\n",
    "    # Save the output image with a unique name\n",
    "    output_image_path = os.path.join(output_dir, f\"{num}.ca.seg.nrrd\")\n",
    "    #print(output_image_path)\n",
    "    sitk.WriteImage(output_image_modified, output_image_path)\n",
    "\n",
    "    #print(str(num) + \" \" +str(lower_threshold) + \" \" + str(upper_threshold))"
   ]
  },
  {
   "cell_type": "code",
   "execution_count": null,
   "id": "02223a57",
   "metadata": {},
   "outputs": [],
   "source": []
  },
  {
   "cell_type": "code",
   "execution_count": null,
   "id": "7aa88b96",
   "metadata": {},
   "outputs": [],
   "source": []
  },
  {
   "cell_type": "code",
   "execution_count": null,
   "id": "a421fe84",
   "metadata": {},
   "outputs": [],
   "source": []
  },
  {
   "cell_type": "code",
   "execution_count": null,
   "id": "6a8e23d1",
   "metadata": {},
   "outputs": [],
   "source": []
  },
  {
   "cell_type": "code",
   "execution_count": null,
   "id": "203d2e98",
   "metadata": {},
   "outputs": [],
   "source": []
  },
  {
   "cell_type": "code",
   "execution_count": null,
   "id": "cbccf115",
   "metadata": {},
   "outputs": [],
   "source": []
  },
  {
   "cell_type": "code",
   "execution_count": null,
   "id": "b5d725ce",
   "metadata": {},
   "outputs": [],
   "source": []
  },
  {
   "cell_type": "code",
   "execution_count": null,
   "id": "ff67da17",
   "metadata": {},
   "outputs": [],
   "source": []
  }
 ],
 "metadata": {
  "kernelspec": {
   "display_name": "Python 3 (ipykernel)",
   "language": "python",
   "name": "python3"
  },
  "language_info": {
   "codemirror_mode": {
    "name": "ipython",
    "version": 3
   },
   "file_extension": ".py",
   "mimetype": "text/x-python",
   "name": "python",
   "nbconvert_exporter": "python",
   "pygments_lexer": "ipython3",
   "version": "3.9.7"
  }
 },
 "nbformat": 4,
 "nbformat_minor": 5
}
