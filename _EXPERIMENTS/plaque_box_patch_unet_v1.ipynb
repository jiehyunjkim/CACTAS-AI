{
 "cells": [
  {
   "cell_type": "code",
   "execution_count": 1,
   "id": "5eebebed",
   "metadata": {},
   "outputs": [
    {
     "name": "stdout",
     "output_type": "stream",
     "text": [
      "Populating the interactive namespace from numpy and matplotlib\n"
     ]
    }
   ],
   "source": [
    "%pylab inline\n",
    "%load_ext autoreload\n",
    "%autoreload 2"
   ]
  },
  {
   "cell_type": "code",
   "execution_count": 2,
   "id": "1db43f95",
   "metadata": {},
   "outputs": [],
   "source": [
    "import cactas as C\n",
    "import os\n",
    "import mahotas as mh\n",
    "import nibabel as nib\n",
    "import nrrd\n",
    "import skimage.morphology\n",
    "import cv2\n",
    "from skimage.filters import threshold_otsu"
   ]
  },
  {
   "cell_type": "code",
   "execution_count": 3,
   "id": "f2172d24",
   "metadata": {
    "scrolled": true
   },
   "outputs": [
    {
     "name": "stderr",
     "output_type": "stream",
     "text": [
      "2023-12-09 02:10:56.904479: I tensorflow/stream_executor/platform/default/dso_loader.cc:53] Successfully opened dynamic library libcudart.so.11.0\n"
     ]
    },
    {
     "name": "stdout",
     "output_type": "stream",
     "text": [
      "WARNING:tensorflow:From /tmp/ipykernel_1892477/392601943.py:2: is_gpu_available (from tensorflow.python.framework.test_util) is deprecated and will be removed in a future version.\n",
      "Instructions for updating:\n",
      "Use `tf.config.list_physical_devices('GPU')` instead.\n"
     ]
    },
    {
     "name": "stderr",
     "output_type": "stream",
     "text": [
      "2023-12-09 02:10:59.605297: I tensorflow/core/platform/cpu_feature_guard.cc:142] This TensorFlow binary is optimized with oneAPI Deep Neural Network Library (oneDNN) to use the following CPU instructions in performance-critical operations:  AVX2 FMA\n",
      "To enable them in other operations, rebuild TensorFlow with the appropriate compiler flags.\n",
      "2023-12-09 02:10:59.606145: I tensorflow/stream_executor/platform/default/dso_loader.cc:53] Successfully opened dynamic library libcuda.so.1\n",
      "2023-12-09 02:11:00.126925: I tensorflow/core/common_runtime/gpu/gpu_device.cc:1733] Found device 0 with properties: \n",
      "pciBusID: 0000:07:00.0 name: A100-SXM4-40GB computeCapability: 8.0\n",
      "coreClock: 1.41GHz coreCount: 108 deviceMemorySize: 39.59GiB deviceMemoryBandwidth: 1.41TiB/s\n",
      "2023-12-09 02:11:00.129379: I tensorflow/core/common_runtime/gpu/gpu_device.cc:1733] Found device 1 with properties: \n",
      "pciBusID: 0000:4e:00.0 name: A100-SXM4-40GB computeCapability: 8.0\n",
      "coreClock: 1.41GHz coreCount: 108 deviceMemorySize: 39.59GiB deviceMemoryBandwidth: 1.41TiB/s\n",
      "2023-12-09 02:11:00.129434: I tensorflow/stream_executor/platform/default/dso_loader.cc:53] Successfully opened dynamic library libcudart.so.11.0\n",
      "2023-12-09 02:11:00.132919: I tensorflow/stream_executor/platform/default/dso_loader.cc:53] Successfully opened dynamic library libcublas.so.11\n",
      "2023-12-09 02:11:00.132962: I tensorflow/stream_executor/platform/default/dso_loader.cc:53] Successfully opened dynamic library libcublasLt.so.11\n",
      "2023-12-09 02:11:00.134371: I tensorflow/stream_executor/platform/default/dso_loader.cc:53] Successfully opened dynamic library libcufft.so.10\n",
      "2023-12-09 02:11:00.135034: I tensorflow/stream_executor/platform/default/dso_loader.cc:53] Successfully opened dynamic library libcurand.so.10\n",
      "2023-12-09 02:11:00.135818: I tensorflow/stream_executor/platform/default/dso_loader.cc:53] Successfully opened dynamic library libcusolver.so.11\n",
      "2023-12-09 02:11:00.136819: I tensorflow/stream_executor/platform/default/dso_loader.cc:53] Successfully opened dynamic library libcusparse.so.11\n",
      "2023-12-09 02:11:00.137565: I tensorflow/stream_executor/platform/default/dso_loader.cc:53] Successfully opened dynamic library libcudnn.so.8\n",
      "2023-12-09 02:11:00.147369: I tensorflow/core/common_runtime/gpu/gpu_device.cc:1871] Adding visible gpu devices: 0, 1\n",
      "2023-12-09 02:11:00.147417: I tensorflow/stream_executor/platform/default/dso_loader.cc:53] Successfully opened dynamic library libcudart.so.11.0\n",
      "2023-12-09 02:11:01.011852: I tensorflow/core/common_runtime/gpu/gpu_device.cc:1258] Device interconnect StreamExecutor with strength 1 edge matrix:\n",
      "2023-12-09 02:11:01.011909: I tensorflow/core/common_runtime/gpu/gpu_device.cc:1264]      0 1 \n",
      "2023-12-09 02:11:01.011916: I tensorflow/core/common_runtime/gpu/gpu_device.cc:1277] 0:   N Y \n",
      "2023-12-09 02:11:01.011920: I tensorflow/core/common_runtime/gpu/gpu_device.cc:1277] 1:   Y N \n",
      "2023-12-09 02:11:01.031103: I tensorflow/core/common_runtime/gpu/gpu_device.cc:1418] Created TensorFlow device (/device:GPU:0 with 38425 MB memory) -> physical GPU (device: 0, name: A100-SXM4-40GB, pci bus id: 0000:07:00.0, compute capability: 8.0)\n",
      "2023-12-09 02:11:01.039338: I tensorflow/core/common_runtime/gpu/gpu_device.cc:1418] Created TensorFlow device (/device:GPU:1 with 38425 MB memory) -> physical GPU (device: 1, name: A100-SXM4-40GB, pci bus id: 0000:4e:00.0, compute capability: 8.0)\n"
     ]
    },
    {
     "data": {
      "text/plain": [
       "True"
      ]
     },
     "execution_count": 3,
     "metadata": {},
     "output_type": "execute_result"
    }
   ],
   "source": [
    "import tensorflow as tf\n",
    "gpu_available = tf.test.is_gpu_available()\n",
    "gpu_available"
   ]
  },
  {
   "cell_type": "code",
   "execution_count": null,
   "id": "3ae4a42a",
   "metadata": {},
   "outputs": [],
   "source": []
  },
  {
   "cell_type": "code",
   "execution_count": 4,
   "id": "ca9de1bc",
   "metadata": {},
   "outputs": [],
   "source": [
    "DATAPATH='/raid/mpsych/CACTAS/DATA/ESUS'"
   ]
  },
  {
   "cell_type": "code",
   "execution_count": 5,
   "id": "e04f6c8a",
   "metadata": {},
   "outputs": [],
   "source": [
    "TS_PATH='TS'"
   ]
  },
  {
   "cell_type": "code",
   "execution_count": 6,
   "id": "c2588b51",
   "metadata": {},
   "outputs": [],
   "source": [
    "images, labels = C.Helper.load_data(DATAPATH)"
   ]
  },
  {
   "cell_type": "code",
   "execution_count": 7,
   "id": "7088d2a3",
   "metadata": {},
   "outputs": [],
   "source": [
    "X_train, y_train, X_test, y_test = C.Helper.split_patients(images, labels)"
   ]
  },
  {
   "cell_type": "code",
   "execution_count": 8,
   "id": "1261cb77",
   "metadata": {},
   "outputs": [],
   "source": [
    "#X_train, y_train, X_test, y_test = C.Helper.normalization(DATAPATH, X_train, y_train, X_test, y_test)"
   ]
  },
  {
   "cell_type": "code",
   "execution_count": 9,
   "id": "8821619f",
   "metadata": {},
   "outputs": [],
   "source": [
    "#slice_to_patient_mapping, last_key = C.Helper.map_and_key(y_train)"
   ]
  },
  {
   "cell_type": "code",
   "execution_count": null,
   "id": "3191b56a",
   "metadata": {},
   "outputs": [],
   "source": []
  },
  {
   "cell_type": "code",
   "execution_count": 10,
   "id": "88c40a3f",
   "metadata": {},
   "outputs": [],
   "source": [
    "ts_id = []\n",
    "for subfolder in os.listdir(TS_PATH):\n",
    "    ts_id +=[int(subfolder)]"
   ]
  },
  {
   "cell_type": "code",
   "execution_count": 11,
   "id": "77a96c4d",
   "metadata": {},
   "outputs": [],
   "source": [
    "#ts_id"
   ]
  },
  {
   "cell_type": "code",
   "execution_count": 12,
   "id": "80c866e1",
   "metadata": {},
   "outputs": [],
   "source": [
    "train_id=[]\n",
    "for f in X_train:\n",
    "    current_id = f.split('.')[0]\n",
    "    train_id += [int(current_id)]"
   ]
  },
  {
   "cell_type": "code",
   "execution_count": 13,
   "id": "6991c7d4",
   "metadata": {},
   "outputs": [],
   "source": [
    "#train_id"
   ]
  },
  {
   "cell_type": "code",
   "execution_count": 14,
   "id": "98bc766d",
   "metadata": {},
   "outputs": [],
   "source": [
    "test_id=[]\n",
    "for f in X_test:\n",
    "    current_id = f.split('.')[0]\n",
    "    test_id += [int(current_id)]"
   ]
  },
  {
   "cell_type": "code",
   "execution_count": 15,
   "id": "33c2ad31",
   "metadata": {},
   "outputs": [],
   "source": [
    "#test_id"
   ]
  },
  {
   "cell_type": "code",
   "execution_count": 16,
   "id": "1ec0f769",
   "metadata": {},
   "outputs": [
    {
     "data": {
      "text/plain": [
       "(56, 14)"
      ]
     },
     "execution_count": 16,
     "metadata": {},
     "output_type": "execute_result"
    }
   ],
   "source": [
    "len(train_id), len(test_id)"
   ]
  },
  {
   "cell_type": "code",
   "execution_count": null,
   "id": "6b1aaf08",
   "metadata": {},
   "outputs": [],
   "source": []
  },
  {
   "cell_type": "code",
   "execution_count": 17,
   "id": "2826b338",
   "metadata": {},
   "outputs": [],
   "source": [
    "train=[]\n",
    "#while True:\n",
    "for i, t in enumerate(train_id):\n",
    "    for j, c in enumerate(ts_id):\n",
    "        if t == c:\n",
    "            #print(i,j)\n",
    "            #print(ts_id[j])\n",
    "            #print(train_id[i])\n",
    "            #print(j, i, ts_id[j], train_id[i])\n",
    "            train.append((j, i))\n",
    "            if len(train) == len(train_id):\n",
    "                break"
   ]
  },
  {
   "cell_type": "code",
   "execution_count": 18,
   "id": "1ab4334d",
   "metadata": {},
   "outputs": [
    {
     "data": {
      "text/plain": [
       "56"
      ]
     },
     "execution_count": 18,
     "metadata": {},
     "output_type": "execute_result"
    }
   ],
   "source": [
    "len(train)"
   ]
  },
  {
   "cell_type": "code",
   "execution_count": 19,
   "id": "8294dde3",
   "metadata": {},
   "outputs": [],
   "source": [
    "#train"
   ]
  },
  {
   "cell_type": "code",
   "execution_count": 20,
   "id": "6111adad",
   "metadata": {},
   "outputs": [],
   "source": [
    "test=[]\n",
    "#while True:\n",
    "for i, t in enumerate(test_id):\n",
    "    for j, c in enumerate(ts_id):\n",
    "        if t == c:\n",
    "            #print(i,j)\n",
    "            #print(ts_id[j])\n",
    "            #print(train_id[i])\n",
    "            #print(j, i, ts_id[j], test_id[i])\n",
    "            test.append((j, i))\n",
    "            if len(test) == len(test_id):\n",
    "                break"
   ]
  },
  {
   "cell_type": "code",
   "execution_count": 21,
   "id": "d497773f",
   "metadata": {},
   "outputs": [
    {
     "data": {
      "text/plain": [
       "14"
      ]
     },
     "execution_count": 21,
     "metadata": {},
     "output_type": "execute_result"
    }
   ],
   "source": [
    "len(test)"
   ]
  },
  {
   "cell_type": "code",
   "execution_count": 22,
   "id": "7b8e3922",
   "metadata": {},
   "outputs": [],
   "source": [
    "#test"
   ]
  },
  {
   "cell_type": "code",
   "execution_count": null,
   "id": "e1a1c5c4",
   "metadata": {},
   "outputs": [],
   "source": []
  },
  {
   "cell_type": "code",
   "execution_count": null,
   "id": "4ef053aa",
   "metadata": {},
   "outputs": [],
   "source": []
  },
  {
   "cell_type": "code",
   "execution_count": 23,
   "id": "2ca99b8a",
   "metadata": {},
   "outputs": [],
   "source": [
    "binary_masks = []\n",
    "images=[]\n",
    "image_patient=[]\n",
    "label_patient=[]\n",
    "results=[]\n",
    "norm_X_train = []\n",
    "\n",
    "for j, t in enumerate(train_id):\n",
    "    for p, subfolder in enumerate(os.listdir(TS_PATH)):\n",
    "        if t == int(subfolder):\n",
    "            #print(p, j, subfolder, train_id[j])  \n",
    "\n",
    "            subfolder_path = os.path.join(TS_PATH, str(subfolder))\n",
    "            #print(subfolder_path)\n",
    "            if os.path.isdir(subfolder_path):\n",
    "                left_image_path = os.path.join(subfolder_path, 'common_carotid_artery_left.nii.gz')\n",
    "                right_image_path = os.path.join(subfolder_path, 'common_carotid_artery_right.nii.gz')\n",
    "                \n",
    "                #print(subfolder, X_train[j])\n",
    "\n",
    "                image, header = nrrd.read(DATAPATH + \"/\" + X_train[j])\n",
    "                label, header = nrrd.read(DATAPATH + \"/\" + y_train[j])\n",
    "                \n",
    "                #normalize\n",
    "                normalized_data = (image - np.min(image)) / (np.max(image) - np.min(image))\n",
    "                #print(normalized_data.shape) #512,512,268\n",
    "                \n",
    "                bbox_plaque = mh.bbox(label)\n",
    "                \n",
    "                for i in range(normalized_data.shape[2]):\n",
    "                    imgs = image[:,:,i]\n",
    "                    image_patient.append(imgs)\n",
    "                X_train_array = np.array(image_patient)\n",
    "                \n",
    "                for i in range(label.shape[2]):\n",
    "                    labl = np.where(label[:,:,i] != 0, True, False)\n",
    "                    label_patient.append(labl)\n",
    "                y_train_array = np.array(label_patient)\n",
    "                    \n",
    "                if os.path.exists(left_image_path) and os.path.exists(right_image_path):\n",
    "                    left_image = nib.load(left_image_path).get_fdata()\n",
    "                    right_image = nib.load(right_image_path).get_fdata()\n",
    "\n",
    "                    combined = left_image + right_image\n",
    "                    bbox_combined = mh.bbox(combined)\n",
    "                    \n",
    "                    minimum = min(bbox_combined[4],bbox_plaque[4])\n",
    "                    maximum = max(bbox_combined[5],bbox_plaque[5])\n",
    "\n",
    "\n",
    "                    for i in range(combined.shape[2]):\n",
    "                        img = combined[:, :, i]\n",
    "                        T_otsu = threshold_otsu(img)\n",
    "                        img = img > T_otsu\n",
    "                        es = np.ones((50, 50), bool)\n",
    "                        dilate_img = mh.morph.dilate(img,es)\n",
    "                        bbox = mh.bbox(dilate_img)\n",
    "                        \n",
    "\n",
    "                        if i >= minimum and i <= maximum+1:\n",
    "                            if np.all(bbox == 0):\n",
    "                                bbox = [min(bbox_combined[0],bbox_plaque[0]),\n",
    "                                        max(bbox_combined[1],bbox_plaque[1]),\n",
    "                                        min(bbox_combined[2],bbox_plaque[2]),\n",
    "                                        max(bbox_combined[3],bbox_plaque[3])]\n",
    "                                dilate_img[bbox[0]:bbox[1], bbox[2]:bbox[3]] = 1\n",
    "\n",
    "                        images.append(dilate_img)"
   ]
  },
  {
   "cell_type": "code",
   "execution_count": 24,
   "id": "d0fad8ef",
   "metadata": {},
   "outputs": [],
   "source": [
    "for i in range(len(images)):\n",
    "    binary = (images[i] > 0).astype(np.uint8) * 255\n",
    "    binary_masks.append(binary)"
   ]
  },
  {
   "cell_type": "code",
   "execution_count": 25,
   "id": "56f74162",
   "metadata": {},
   "outputs": [],
   "source": [
    "#for i in range(len(image_patient)):\n",
    "#    result = image_patient[i] * binary_masks[i]\n",
    "#    results.append(result)"
   ]
  },
  {
   "cell_type": "code",
   "execution_count": 26,
   "id": "713ae6e4",
   "metadata": {},
   "outputs": [],
   "source": [
    "for i in range(len(X_train_array)):\n",
    "    result = X_train_array[i] * binary_masks[i]\n",
    "    results.append(result)"
   ]
  },
  {
   "cell_type": "code",
   "execution_count": 27,
   "id": "68f5b176",
   "metadata": {},
   "outputs": [
    {
     "data": {
      "text/plain": [
       "(13486, 13486, 13486)"
      ]
     },
     "execution_count": 27,
     "metadata": {},
     "output_type": "execute_result"
    }
   ],
   "source": [
    "len(images), len(binary_masks),len(image_patient)"
   ]
  },
  {
   "cell_type": "code",
   "execution_count": 28,
   "id": "8de35010",
   "metadata": {},
   "outputs": [
    {
     "data": {
      "text/plain": [
       "(13486, 13486)"
      ]
     },
     "execution_count": 28,
     "metadata": {},
     "output_type": "execute_result"
    }
   ],
   "source": [
    "len(X_train_array), len(y_train_array)"
   ]
  },
  {
   "cell_type": "code",
   "execution_count": 29,
   "id": "563d9f94",
   "metadata": {},
   "outputs": [
    {
     "data": {
      "image/png": "[encoded data removed]",
      "text/plain": [
       "<Figure size 432x288 with 1 Axes>"
      ]
     },
     "metadata": {
      "needs_background": "light"
     },
     "output_type": "display_data"
    },
    {
     "data": {
      "image/png": "[encoded data removed]",
      "text/plain": [
       "<Figure size 432x288 with 1 Axes>"
      ]
     },
     "metadata": {
      "needs_background": "light"
     },
     "output_type": "display_data"
    },
    {
     "data": {
      "image/png": "[encoded data removed]",
      "text/plain": [
       "<Figure size 432x288 with 1 Axes>"
      ]
     },
     "metadata": {
      "needs_background": "light"
     },
     "output_type": "display_data"
    },
    {
     "data": {
      "image/png": "[encoded data removed]",
      "text/plain": [
       "<Figure size 432x288 with 1 Axes>"
      ]
     },
     "metadata": {
      "needs_background": "light"
     },
     "output_type": "display_data"
    },
    {
     "data": {
      "image/png": "[encoded data removed]",
      "text/plain": [
       "<Figure size 432x288 with 1 Axes>"
      ]
     },
     "metadata": {
      "needs_background": "light"
     },
     "output_type": "display_data"
    },
    {
     "data": {
      "image/png": "[encoded data removed]",
      "text/plain": [
       "<Figure size 432x288 with 1 Axes>"
      ]
     },
     "metadata": {
      "needs_background": "light"
     },
     "output_type": "display_data"
    },
    {
     "data": {
      "image/png": "[encoded data removed]",
      "text/plain": [
       "<Figure size 432x288 with 1 Axes>"
      ]
     },
     "metadata": {
      "needs_background": "light"
     },
     "output_type": "display_data"
    },
    {
     "data": {
      "image/png": "[encoded data removed]",
      "text/plain": [
       "<Figure size 432x288 with 1 Axes>"
      ]
     },
     "metadata": {
      "needs_background": "light"
     },
     "output_type": "display_data"
    },
    {
     "data": {
      "image/png": "[encoded data removed]",
      "text/plain": [
       "<Figure size 432x288 with 1 Axes>"
      ]
     },
     "metadata": {
      "needs_background": "light"
     },
     "output_type": "display_data"
    },
    {
     "data": {
      "image/png": "[encoded data removed]",
      "text/plain": [
       "<Figure size 432x288 with 1 Axes>"
      ]
     },
     "metadata": {
      "needs_background": "light"
     },
     "output_type": "display_data"
    },
    {
     "data": {
      "image/png": "[encoded data removed]",
      "text/plain": [
       "<Figure size 432x288 with 1 Axes>"
      ]
     },
     "metadata": {
      "needs_background": "light"
     },
     "output_type": "display_data"
    },
    {
     "data": {
      "image/png": "[encoded data removed]",
      "text/plain": [
       "<Figure size 432x288 with 1 Axes>"
      ]
     },
     "metadata": {
      "needs_background": "light"
     },
     "output_type": "display_data"
    },
    {
     "data": {
      "image/png": "[encoded data removed]",
      "text/plain": [
       "<Figure size 432x288 with 1 Axes>"
      ]
     },
     "metadata": {
      "needs_background": "light"
     },
     "output_type": "display_data"
    },
    {
     "data": {
      "image/png": "[encoded data removed]",
      "text/plain": [
       "<Figure size 432x288 with 1 Axes>"
      ]
     },
     "metadata": {
      "needs_background": "light"
     },
     "output_type": "display_data"
    },
    {
     "data": {
      "image/png": "[encoded data removed]",
      "text/plain": [
       "<Figure size 432x288 with 1 Axes>"
      ]
     },
     "metadata": {
      "needs_background": "light"
     },
     "output_type": "display_data"
    }
   ],
   "source": [
    "for i in range(95,110):\n",
    "    plt.imshow(results[i])\n",
    "    plt.imshow(y_train_array[i], cmap='gray', alpha=0.5)\n",
    "    plt.show()"
   ]
  },
  {
   "cell_type": "code",
   "execution_count": 30,
   "id": "52e9ebbc",
   "metadata": {},
   "outputs": [],
   "source": [
    "#for i in range(600,900):\n",
    "#    plt.imshow(results[i])\n",
    "#    plt.imshow(y_train_array[i], cmap='gray', alpha=0.5)\n",
    "    #plt.imshow(label[:,:,i], cmap='gray', alpha=0.5)\n",
    "#    plt.show()"
   ]
  },
  {
   "cell_type": "code",
   "execution_count": null,
   "id": "f0bb0751",
   "metadata": {},
   "outputs": [],
   "source": []
  },
  {
   "cell_type": "code",
   "execution_count": null,
   "id": "63fcef46",
   "metadata": {},
   "outputs": [],
   "source": []
  },
  {
   "cell_type": "code",
   "execution_count": 31,
   "id": "3c0cc618",
   "metadata": {},
   "outputs": [],
   "source": [
    "binary_masks = []\n",
    "test_images=[]\n",
    "image_patient=[]\n",
    "label_patient=[]\n",
    "results=[]\n",
    "\n",
    "\n",
    "for j, t in enumerate(test_id):\n",
    "    for p, subfolder in enumerate(os.listdir(TS_PATH)):\n",
    "        if t == int(subfolder):         \n",
    "            subfolder_path = os.path.join(TS_PATH, str(subfolder))\n",
    "\n",
    "            if os.path.isdir(subfolder_path):\n",
    "                left_image_path = os.path.join(subfolder_path, 'common_carotid_artery_left.nii.gz')\n",
    "                right_image_path = os.path.join(subfolder_path, 'common_carotid_artery_right.nii.gz')\n",
    "                \n",
    "                #print(j, X_train[j])\n",
    "                image, header = nrrd.read(DATAPATH + \"/\" + X_test[j])\n",
    "                label, header = nrrd.read(DATAPATH + \"/\" + y_test[j])\n",
    "                \n",
    "                #bbox_plaque = mh.bbox(label)\n",
    "                \n",
    "                for i in range(image.shape[2]):\n",
    "                    imgs = image[:,:,i]\n",
    "                    image_patient.append(imgs)\n",
    "                X_test_array = np.array(image_patient)\n",
    "                \n",
    "                for i in range(label.shape[2]):\n",
    "                    labl = np.where(label[:,:,i] != 0, True, False)\n",
    "                    label_patient.append(labl)\n",
    "                y_test_array = np.array(label_patient)\n",
    "                    \n",
    "                if os.path.exists(left_image_path) and os.path.exists(right_image_path):\n",
    "                    left_image = nib.load(left_image_path).get_fdata()\n",
    "                    right_image = nib.load(right_image_path).get_fdata()\n",
    "\n",
    "                    combined = left_image + right_image\n",
    "                    bbox_combined = mh.bbox(combined)\n",
    "    \n",
    "\n",
    "                    for i in range(combined.shape[2]):\n",
    "                        img = combined[:, :, i]\n",
    "                        T_otsu = threshold_otsu(img)\n",
    "                        img = img > T_otsu\n",
    "                        es = np.ones((50, 50), bool)\n",
    "                        dilate_img = mh.morph.dilate(img,es)\n",
    "                        bbox = mh.bbox(dilate_img)\n",
    "                        \n",
    "\n",
    "                        if i >= bbox_combined[4] and i <= bbox_combined[5]+51:\n",
    "                            if np.all(bbox == 0):\n",
    "                                bbox = [bbox_combined[0],\n",
    "                                        bbox_combined[1],\n",
    "                                        bbox_combined[2],\n",
    "                                        bbox_combined[3]]\n",
    "                                dilate_img[bbox[0]:bbox[1], bbox[2]:bbox[3]] = 1\n",
    "\n",
    "                        test_images.append(dilate_img)"
   ]
  },
  {
   "cell_type": "code",
   "execution_count": 32,
   "id": "72a9c630",
   "metadata": {},
   "outputs": [],
   "source": [
    "for i in range(len(test_images)):\n",
    "    binary = (test_images[i] > 0).astype(np.uint8) * 255\n",
    "    binary_masks.append(binary)"
   ]
  },
  {
   "cell_type": "code",
   "execution_count": 33,
   "id": "3511e17f",
   "metadata": {},
   "outputs": [],
   "source": [
    "result_test=[]\n",
    "for i in range(len(X_test_array)):\n",
    "    result = X_test_array[i] * binary_masks[i]\n",
    "    result_test.append(result)"
   ]
  },
  {
   "cell_type": "code",
   "execution_count": 34,
   "id": "87bfd03b",
   "metadata": {},
   "outputs": [
    {
     "data": {
      "text/plain": [
       "(3280, 3280)"
      ]
     },
     "execution_count": 34,
     "metadata": {},
     "output_type": "execute_result"
    }
   ],
   "source": [
    "len(X_test_array), len(y_test_array)"
   ]
  },
  {
   "cell_type": "code",
   "execution_count": 35,
   "id": "bdf6dffe",
   "metadata": {},
   "outputs": [
    {
     "data": {
      "image/png": "[encoded data removed]",
      "text/plain": [
       "<Figure size 432x288 with 1 Axes>"
      ]
     },
     "metadata": {
      "needs_background": "light"
     },
     "output_type": "display_data"
    },
    {
     "data": {
      "image/png": "[encoded data removed]",
      "text/plain": [
       "<Figure size 432x288 with 1 Axes>"
      ]
     },
     "metadata": {
      "needs_background": "light"
     },
     "output_type": "display_data"
    },
    {
     "data": {
      "image/png": "[encoded data removed]",
      "text/plain": [
       "<Figure size 432x288 with 1 Axes>"
      ]
     },
     "metadata": {
      "needs_background": "light"
     },
     "output_type": "display_data"
    },
    {
     "data": {
      "image/png": "[encoded data removed]",
      "text/plain": [
       "<Figure size 432x288 with 1 Axes>"
      ]
     },
     "metadata": {
      "needs_background": "light"
     },
     "output_type": "display_data"
    },
    {
     "data": {
      "image/png": "[encoded data removed]",
      "text/plain": [
       "<Figure size 432x288 with 1 Axes>"
      ]
     },
     "metadata": {
      "needs_background": "light"
     },
     "output_type": "display_data"
    }
   ],
   "source": [
    "for i in range(125,130):\n",
    "    plt.imshow(result_test[i])\n",
    "    plt.imshow(y_test_array[i], cmap='gray', alpha=0.5)\n",
    "    #plt.imshow(label[:,:,i], cmap='gray', alpha=0.5)\n",
    "    plt.show()"
   ]
  },
  {
   "cell_type": "code",
   "execution_count": null,
   "id": "f2ed53f3",
   "metadata": {},
   "outputs": [],
   "source": []
  },
  {
   "cell_type": "code",
   "execution_count": null,
   "id": "2fd85595",
   "metadata": {},
   "outputs": [],
   "source": []
  },
  {
   "cell_type": "code",
   "execution_count": 36,
   "id": "e4870dbe",
   "metadata": {},
   "outputs": [],
   "source": [
    "X_test_array = X_test_array.astype(np.float64)\n",
    "y_test_array = y_test_array.astype(np.float64)"
   ]
  },
  {
   "cell_type": "code",
   "execution_count": 37,
   "id": "6014dafe",
   "metadata": {},
   "outputs": [],
   "source": [
    "X_train_array = X_train_array.reshape(X_train_array.shape[0], X_train_array.shape[1],X_train_array.shape[2], 1)\n",
    "y_train_array = y_train_array.reshape(y_train_array.shape[0], y_train_array.shape[1],y_train_array.shape[2], 1)\n",
    "X_test_array = X_test_array.reshape(X_test_array.shape[0], X_test_array.shape[1],X_test_array.shape[2], 1)\n",
    "y_test_array = y_test_array.reshape(y_test_array.shape[0], y_test_array.shape[1],y_test_array.shape[2], 1)"
   ]
  },
  {
   "cell_type": "code",
   "execution_count": null,
   "id": "40825629",
   "metadata": {},
   "outputs": [],
   "source": []
  },
  {
   "cell_type": "code",
   "execution_count": 38,
   "id": "d25592a4",
   "metadata": {},
   "outputs": [],
   "source": [
    "X_train_set = X_train_array[:10834]\n",
    "y_train_set = y_train_array[:10834]\n",
    "X_val = X_train_array[10834:]\n",
    "y_val = y_train_array[10834:]"
   ]
  },
  {
   "cell_type": "code",
   "execution_count": 39,
   "id": "04653e44",
   "metadata": {},
   "outputs": [
    {
     "name": "stdout",
     "output_type": "stream",
     "text": [
      "-----------------------------------------\n",
      "keras-unet init: TF version is >= 2.0.0 - using `tf.keras` instead of `Keras`\n",
      "-----------------------------------------\n"
     ]
    },
    {
     "name": "stderr",
     "output_type": "stream",
     "text": [
      "2023-12-09 02:42:58.350410: I tensorflow/core/common_runtime/gpu/gpu_device.cc:1733] Found device 0 with properties: \n",
      "pciBusID: 0000:07:00.0 name: A100-SXM4-40GB computeCapability: 8.0\n",
      "coreClock: 1.41GHz coreCount: 108 deviceMemorySize: 39.59GiB deviceMemoryBandwidth: 1.41TiB/s\n",
      "2023-12-09 02:42:58.352961: I tensorflow/core/common_runtime/gpu/gpu_device.cc:1733] Found device 1 with properties: \n",
      "pciBusID: 0000:4e:00.0 name: A100-SXM4-40GB computeCapability: 8.0\n",
      "coreClock: 1.41GHz coreCount: 108 deviceMemorySize: 39.59GiB deviceMemoryBandwidth: 1.41TiB/s\n",
      "2023-12-09 02:42:58.362589: I tensorflow/core/common_runtime/gpu/gpu_device.cc:1871] Adding visible gpu devices: 0, 1\n",
      "2023-12-09 02:42:58.365628: I tensorflow/core/common_runtime/gpu/gpu_device.cc:1733] Found device 0 with properties: \n",
      "pciBusID: 0000:07:00.0 name: A100-SXM4-40GB computeCapability: 8.0\n",
      "coreClock: 1.41GHz coreCount: 108 deviceMemorySize: 39.59GiB deviceMemoryBandwidth: 1.41TiB/s\n",
      "2023-12-09 02:42:58.368112: I tensorflow/core/common_runtime/gpu/gpu_device.cc:1733] Found device 1 with properties: \n",
      "pciBusID: 0000:4e:00.0 name: A100-SXM4-40GB computeCapability: 8.0\n",
      "coreClock: 1.41GHz coreCount: 108 deviceMemorySize: 39.59GiB deviceMemoryBandwidth: 1.41TiB/s\n",
      "2023-12-09 02:42:58.378133: I tensorflow/core/common_runtime/gpu/gpu_device.cc:1871] Adding visible gpu devices: 0, 1\n",
      "2023-12-09 02:42:58.378192: I tensorflow/core/common_runtime/gpu/gpu_device.cc:1258] Device interconnect StreamExecutor with strength 1 edge matrix:\n",
      "2023-12-09 02:42:58.378197: I tensorflow/core/common_runtime/gpu/gpu_device.cc:1264]      0 1 \n",
      "2023-12-09 02:42:58.378201: I tensorflow/core/common_runtime/gpu/gpu_device.cc:1277] 0:   N Y \n",
      "2023-12-09 02:42:58.378205: I tensorflow/core/common_runtime/gpu/gpu_device.cc:1277] 1:   Y N \n",
      "2023-12-09 02:42:58.389663: I tensorflow/core/common_runtime/gpu/gpu_device.cc:1418] Created TensorFlow device (/job:localhost/replica:0/task:0/device:GPU:0 with 38425 MB memory) -> physical GPU (device: 0, name: A100-SXM4-40GB, pci bus id: 0000:07:00.0, compute capability: 8.0)\n",
      "2023-12-09 02:42:58.392146: I tensorflow/core/common_runtime/gpu/gpu_device.cc:1418] Created TensorFlow device (/job:localhost/replica:0/task:0/device:GPU:1 with 38425 MB memory) -> physical GPU (device: 1, name: A100-SXM4-40GB, pci bus id: 0000:4e:00.0, compute capability: 8.0)\n"
     ]
    }
   ],
   "source": [
    "model = C.Helper.create_unet(X_train_set[0].shape)"
   ]
  },
  {
   "cell_type": "code",
   "execution_count": 40,
   "id": "ad74594d",
   "metadata": {
    "scrolled": true
   },
   "outputs": [
    {
     "name": "stderr",
     "output_type": "stream",
     "text": [
      "2023-12-09 02:43:03.293851: I tensorflow/compiler/mlir/mlir_graph_optimization_pass.cc:176] None of the MLIR Optimization Passes are enabled (registered 2)\n",
      "2023-12-09 02:43:03.316805: I tensorflow/core/platform/profile_utils/cpu_utils.cc:114] CPU Frequency: 2245800000 Hz\n"
     ]
    },
    {
     "name": "stdout",
     "output_type": "stream",
     "text": [
      "Epoch 1/100\n"
     ]
    },
    {
     "name": "stderr",
     "output_type": "stream",
     "text": [
      "2023-12-09 02:43:04.701960: I tensorflow/stream_executor/platform/default/dso_loader.cc:53] Successfully opened dynamic library libcudnn.so.8\n",
      "2023-12-09 02:43:05.876882: I tensorflow/stream_executor/cuda/cuda_dnn.cc:359] Loaded cuDNN version 8201\n",
      "2023-12-09 02:43:07.488192: W tensorflow/stream_executor/gpu/asm_compiler.cc:191] Falling back to the CUDA driver for PTX compilation; ptxas does not support CC 8.0\n",
      "2023-12-09 02:43:07.488214: W tensorflow/stream_executor/gpu/asm_compiler.cc:194] Used ptxas at ptxas\n",
      "2023-12-09 02:43:07.510106: W tensorflow/stream_executor/gpu/redzone_allocator.cc:314] Unimplemented: ptxas ptxas too old. Falling back to the driver to compile.\n",
      "Relying on driver to perform ptx compilation. \n",
      "Modify $PATH to customize ptxas location.\n",
      "This message will be only logged once.\n",
      "2023-12-09 02:43:07.613779: I tensorflow/stream_executor/platform/default/dso_loader.cc:53] Successfully opened dynamic library libcublas.so.11\n",
      "2023-12-09 02:43:09.164758: I tensorflow/stream_executor/platform/default/dso_loader.cc:53] Successfully opened dynamic library libcublasLt.so.11\n",
      "2023-12-09 02:43:19.129977: W tensorflow/core/common_runtime/bfc_allocator.cc:271] Allocator (GPU_0_bfc) ran out of memory trying to allocate 4.02GiB with freed_by_count=0. The caller indicates that this is not a failure, but may mean that there could be performance gains if more memory were available.\n",
      "2023-12-09 02:43:19.130264: W tensorflow/core/kernels/gpu_utils.cc:49] Failed to allocate memory for convolution redzone checking; skipping this check. This is benign and only means that we won't check cudnn for out-of-bounds reads and writes. This message will only be printed once.\n"
     ]
    },
    {
     "name": "stdout",
     "output_type": "stream",
     "text": [
      "338/338 [==============================] - 370s 1s/step - loss: 0.7956 - iou: 0.1404 - iou_thresholded: 0.1419 - val_loss: 0.0020 - val_iou: 0.3361 - val_iou_thresholded: 0.5226\n",
      "Epoch 2/100\n",
      "338/338 [==============================] - 348s 995ms/step - loss: 0.0028 - iou: 0.0152 - iou_thresholded: 0.0242 - val_loss: 4.3161e-04 - val_iou: 0.0721 - val_iou_thresholded: 0.2446\n",
      "Epoch 3/100\n",
      "338/338 [==============================] - 336s 994ms/step - loss: 0.0017 - iou: 0.0116 - iou_thresholded: 0.0310 - val_loss: 3.5702e-04 - val_iou: 0.0237 - val_iou_thresholded: 0.1775\n",
      "Epoch 4/100\n",
      "338/338 [==============================] - 336s 994ms/step - loss: 0.0012 - iou: 0.0080 - iou_thresholded: 0.0231 - val_loss: 2.7088e-04 - val_iou: 0.0285 - val_iou_thresholded: 0.1396\n",
      "Epoch 5/100\n",
      "338/338 [==============================] - 336s 995ms/step - loss: 0.0014 - iou: 0.0124 - iou_thresholded: 0.0304 - val_loss: 2.6307e-04 - val_iou: 0.0306 - val_iou_thresholded: 0.1346\n",
      "Epoch 6/100\n",
      "338/338 [==============================] - 336s 995ms/step - loss: 6.9578e-04 - iou: 0.0079 - iou_thresholded: 0.0289 - val_loss: 1.7003e-04 - val_iou: 0.0442 - val_iou_thresholded: 0.2077\n",
      "Epoch 7/100\n",
      "338/338 [==============================] - 336s 995ms/step - loss: 5.6983e-04 - iou: 0.0119 - iou_thresholded: 0.0334 - val_loss: 1.4935e-04 - val_iou: 0.0574 - val_iou_thresholded: 0.1567\n",
      "Epoch 8/100\n",
      "338/338 [==============================] - 336s 995ms/step - loss: 4.9019e-04 - iou: 0.0148 - iou_thresholded: 0.0305 - val_loss: 1.6883e-04 - val_iou: 0.0322 - val_iou_thresholded: 0.1149\n",
      "Epoch 9/100\n",
      "338/338 [==============================] - 336s 995ms/step - loss: 3.5082e-04 - iou: 0.0261 - iou_thresholded: 0.0470 - val_loss: 9.1864e-05 - val_iou: 0.0645 - val_iou_thresholded: 0.1936\n",
      "Epoch 10/100\n",
      "338/338 [==============================] - 336s 995ms/step - loss: 3.4721e-04 - iou: 0.0295 - iou_thresholded: 0.0547 - val_loss: 9.5915e-05 - val_iou: 0.0573 - val_iou_thresholded: 0.3010\n",
      "Epoch 11/100\n",
      "338/338 [==============================] - 336s 995ms/step - loss: 2.4142e-04 - iou: 0.0447 - iou_thresholded: 0.0778 - val_loss: 7.9917e-05 - val_iou: 0.1170 - val_iou_thresholded: 0.4302\n",
      "Epoch 12/100\n",
      "338/338 [==============================] - 336s 994ms/step - loss: 2.2759e-04 - iou: 0.0571 - iou_thresholded: 0.0879 - val_loss: 1.2200e-04 - val_iou: 0.0470 - val_iou_thresholded: 0.1348\n",
      "Epoch 13/100\n",
      "338/338 [==============================] - 336s 993ms/step - loss: 1.9890e-04 - iou: 0.0606 - iou_thresholded: 0.0844 - val_loss: 7.9148e-05 - val_iou: 0.0908 - val_iou_thresholded: 0.2887\n",
      "Epoch 14/100\n",
      "338/338 [==============================] - 336s 994ms/step - loss: 1.8631e-04 - iou: 0.0619 - iou_thresholded: 0.0894 - val_loss: 7.8170e-05 - val_iou: 0.0676 - val_iou_thresholded: 0.3021\n",
      "Epoch 15/100\n",
      "338/338 [==============================] - 337s 996ms/step - loss: 1.7309e-04 - iou: 0.0663 - iou_thresholded: 0.1054 - val_loss: 2.1643e-04 - val_iou: 0.2134 - val_iou_thresholded: 0.6241\n",
      "Epoch 16/100\n",
      "338/338 [==============================] - 337s 997ms/step - loss: 1.8903e-04 - iou: 0.0704 - iou_thresholded: 0.1066 - val_loss: 5.4345e-05 - val_iou: 0.2758 - val_iou_thresholded: 0.6120\n",
      "Epoch 17/100\n",
      "338/338 [==============================] - 337s 998ms/step - loss: 1.2263e-04 - iou: 0.0892 - iou_thresholded: 0.1169 - val_loss: 7.5128e-05 - val_iou: 0.0950 - val_iou_thresholded: 0.3490\n",
      "Epoch 18/100\n",
      "338/338 [==============================] - 337s 997ms/step - loss: 1.1360e-04 - iou: 0.1130 - iou_thresholded: 0.1615 - val_loss: 3.8402e-05 - val_iou: 0.1676 - val_iou_thresholded: 0.5502\n",
      "Epoch 19/100\n",
      "338/338 [==============================] - 337s 998ms/step - loss: 9.3467e-05 - iou: 0.1395 - iou_thresholded: 0.1930 - val_loss: 4.6416e-05 - val_iou: 0.2709 - val_iou_thresholded: 0.5838\n",
      "Epoch 20/100\n",
      "338/338 [==============================] - 337s 997ms/step - loss: 9.6070e-05 - iou: 0.1457 - iou_thresholded: 0.2032 - val_loss: 3.6269e-05 - val_iou: 0.2663 - val_iou_thresholded: 0.6907\n",
      "Epoch 21/100\n",
      "338/338 [==============================] - 336s 996ms/step - loss: 6.8411e-05 - iou: 0.1737 - iou_thresholded: 0.2552 - val_loss: 4.4471e-05 - val_iou: 0.2068 - val_iou_thresholded: 0.5287\n",
      "Epoch 22/100\n",
      "338/338 [==============================] - 336s 994ms/step - loss: 5.3022e-05 - iou: 0.1900 - iou_thresholded: 0.2713 - val_loss: 6.0962e-05 - val_iou: 0.5170 - val_iou_thresholded: 0.7612\n",
      "Epoch 23/100\n",
      "338/338 [==============================] - 336s 994ms/step - loss: 8.1746e-05 - iou: 0.1363 - iou_thresholded: 0.1881 - val_loss: 5.6319e-05 - val_iou: 0.3858 - val_iou_thresholded: 0.7195\n",
      "Epoch 24/100\n",
      "338/338 [==============================] - 336s 994ms/step - loss: 3.7521e-05 - iou: 0.1610 - iou_thresholded: 0.2584 - val_loss: 5.0195e-05 - val_iou: 0.3432 - val_iou_thresholded: 0.6183\n",
      "Epoch 25/100\n",
      "338/338 [==============================] - 336s 995ms/step - loss: 2.4997e-05 - iou: 0.1953 - iou_thresholded: 0.3476 - val_loss: 3.0259e-05 - val_iou: 0.4769 - val_iou_thresholded: 0.7639\n",
      "Epoch 26/100\n",
      "338/338 [==============================] - 336s 994ms/step - loss: 2.4009e-05 - iou: 0.2147 - iou_thresholded: 0.3652 - val_loss: 4.5693e-05 - val_iou: 0.5024 - val_iou_thresholded: 0.7487\n",
      "Epoch 27/100\n",
      "338/338 [==============================] - 336s 994ms/step - loss: 98.4544 - iou: 0.2125 - iou_thresholded: 0.3431 - val_loss: 0.0074 - val_iou: 0.7690 - val_iou_thresholded: 0.7690\n",
      "Epoch 28/100\n",
      "338/338 [==============================] - 336s 993ms/step - loss: 2.8300 - iou: 0.1017 - iou_thresholded: 0.2104 - val_loss: 0.0010 - val_iou: 0.0096 - val_iou_thresholded: 0.8249\n",
      "Epoch 29/100\n",
      "338/338 [==============================] - 336s 993ms/step - loss: 0.0034 - iou: 8.3863e-04 - iou_thresholded: 0.1662 - val_loss: 5.7998e-04 - val_iou: 0.0028 - val_iou_thresholded: 0.8249\n",
      "Epoch 30/100\n",
      "338/338 [==============================] - 336s 993ms/step - loss: 0.0018 - iou: 7.1020e-04 - iou_thresholded: 0.1511 - val_loss: 4.8691e-04 - val_iou: 0.0017 - val_iou_thresholded: 0.6865\n",
      "Epoch 31/100\n",
      "338/338 [==============================] - 335s 992ms/step - loss: 0.0013 - iou: 7.4896e-04 - iou_thresholded: 0.0970 - val_loss: 4.0494e-04 - val_iou: 0.0017 - val_iou_thresholded: 0.4360\n",
      "Epoch 32/100\n",
      "338/338 [==============================] - 335s 992ms/step - loss: 0.0013 - iou: 8.8891e-04 - iou_thresholded: 0.0759 - val_loss: 3.2372e-04 - val_iou: 0.0047 - val_iou_thresholded: 0.8249\n",
      "Epoch 33/100\n",
      "338/338 [==============================] - 335s 992ms/step - loss: 9.2458e-04 - iou: 0.0011 - iou_thresholded: 0.1077 - val_loss: 3.2785e-04 - val_iou: 0.0017 - val_iou_thresholded: 0.3034\n",
      "Epoch 34/100\n",
      "338/338 [==============================] - 335s 992ms/step - loss: 8.6992e-04 - iou: 0.0012 - iou_thresholded: 0.0905 - val_loss: 2.5765e-04 - val_iou: 0.0022 - val_iou_thresholded: 0.3784\n",
      "Epoch 35/100\n",
      "338/338 [==============================] - 336s 993ms/step - loss: 8.6955e-04 - iou: 0.0020 - iou_thresholded: 0.1182 - val_loss: 3.0325e-04 - val_iou: 0.0026 - val_iou_thresholded: 0.1486\n",
      "Epoch 36/100\n",
      "338/338 [==============================] - 335s 993ms/step - loss: 9.9893e-04 - iou: 0.0037 - iou_thresholded: 0.1417 - val_loss: 4.7368e-04 - val_iou: 0.0012 - val_iou_thresholded: 0.7978\n",
      "Epoch 37/100\n",
      "338/338 [==============================] - 336s 993ms/step - loss: 7.6805e-04 - iou: 0.0010 - iou_thresholded: 0.1077 - val_loss: 2.6905e-04 - val_iou: 0.0024 - val_iou_thresholded: 0.6176\n",
      "Epoch 38/100\n",
      "338/338 [==============================] - 336s 993ms/step - loss: 5.7713e-04 - iou: 0.0016 - iou_thresholded: 0.0776 - val_loss: 2.1434e-04 - val_iou: 0.0021 - val_iou_thresholded: 0.3734\n",
      "Epoch 39/100\n",
      "338/338 [==============================] - 336s 993ms/step - loss: 4.4619e-04 - iou: 0.0024 - iou_thresholded: 0.0794 - val_loss: 1.5819e-04 - val_iou: 0.0035 - val_iou_thresholded: 0.6324\n",
      "Epoch 40/100\n",
      "338/338 [==============================] - 336s 993ms/step - loss: 15720.9824 - iou: 0.0082 - iou_thresholded: 0.0962 - val_loss: 5.2693e-04 - val_iou: 0.0466 - val_iou_thresholded: 0.7889\n",
      "Epoch 41/100\n",
      "338/338 [==============================] - 336s 993ms/step - loss: 0.0015 - iou: 0.0021 - iou_thresholded: 0.2106 - val_loss: 4.1920e-04 - val_iou: 0.0037 - val_iou_thresholded: 0.8249\n"
     ]
    },
    {
     "name": "stdout",
     "output_type": "stream",
     "text": [
      "Epoch 42/100\n",
      "338/338 [==============================] - 336s 993ms/step - loss: 9.7542e-04 - iou: 0.0012 - iou_thresholded: 0.2529 - val_loss: 3.5048e-04 - val_iou: 0.0037 - val_iou_thresholded: 0.8249\n",
      "Epoch 43/100\n",
      "338/338 [==============================] - 336s 993ms/step - loss: 9.5805e-04 - iou: 0.0012 - iou_thresholded: 0.2433 - val_loss: 2.7787e-04 - val_iou: 0.0106 - val_iou_thresholded: 0.8249\n",
      "Epoch 44/100\n",
      "338/338 [==============================] - 336s 993ms/step - loss: 7.7901e-04 - iou: 0.0017 - iou_thresholded: 0.2713 - val_loss: 2.6077e-04 - val_iou: 0.0072 - val_iou_thresholded: 0.8249\n",
      "Epoch 45/100\n",
      "338/338 [==============================] - 336s 993ms/step - loss: 7.0566e-04 - iou: 0.0019 - iou_thresholded: 0.2315 - val_loss: 2.1995e-04 - val_iou: 0.0092 - val_iou_thresholded: 0.8249\n",
      "Epoch 46/100\n",
      "338/338 [==============================] - 336s 993ms/step - loss: 6.6900e-04 - iou: 0.0017 - iou_thresholded: 0.2425 - val_loss: 3.0878e-04 - val_iou: 0.0018 - val_iou_thresholded: 0.8249\n",
      "Epoch 47/100\n",
      "338/338 [==============================] - 335s 993ms/step - loss: 6.5932e-04 - iou: 0.0017 - iou_thresholded: 0.2438 - val_loss: 2.0274e-04 - val_iou: 0.0058 - val_iou_thresholded: 0.8249\n",
      "Epoch 48/100\n",
      "338/338 [==============================] - 336s 993ms/step - loss: 6.1111e-04 - iou: 0.0020 - iou_thresholded: 0.2403 - val_loss: 2.0387e-04 - val_iou: 0.0261 - val_iou_thresholded: 0.8249\n",
      "Epoch 49/100\n",
      "338/338 [==============================] - 335s 993ms/step - loss: 5.9155e-04 - iou: 0.0031 - iou_thresholded: 0.2271 - val_loss: 2.8905e-04 - val_iou: 0.0020 - val_iou_thresholded: 0.8249\n",
      "Epoch 50/100\n",
      "338/338 [==============================] - 335s 992ms/step - loss: 5.5638e-04 - iou: 0.0035 - iou_thresholded: 0.1933 - val_loss: 1.9539e-04 - val_iou: 0.0060 - val_iou_thresholded: 0.8249\n",
      "Epoch 51/100\n",
      "338/338 [==============================] - 335s 992ms/step - loss: 6.4640e-04 - iou: 0.0020 - iou_thresholded: 0.2053 - val_loss: 3.4146e-04 - val_iou: 0.0029 - val_iou_thresholded: 0.8249\n",
      "Epoch 52/100\n",
      "338/338 [==============================] - 335s 992ms/step - loss: 5.7436e-04 - iou: 0.0015 - iou_thresholded: 0.2315 - val_loss: 2.1632e-04 - val_iou: 0.0034 - val_iou_thresholded: 0.8128\n",
      "Epoch 53/100\n",
      "338/338 [==============================] - 335s 992ms/step - loss: 5.6308e-04 - iou: 0.0020 - iou_thresholded: 0.2326 - val_loss: 2.4748e-04 - val_iou: 0.0049 - val_iou_thresholded: 0.8249\n",
      "Epoch 54/100\n",
      "338/338 [==============================] - 335s 993ms/step - loss: 5.8018e-04 - iou: 0.0020 - iou_thresholded: 0.2321 - val_loss: 2.1206e-04 - val_iou: 0.0108 - val_iou_thresholded: 0.8249\n",
      "Epoch 55/100\n",
      "338/338 [==============================] - 335s 993ms/step - loss: 4.8735e-04 - iou: 0.0024 - iou_thresholded: 0.2242 - val_loss: 2.2361e-04 - val_iou: 0.0113 - val_iou_thresholded: 0.8249\n",
      "Epoch 56/100\n",
      "338/338 [==============================] - 335s 993ms/step - loss: 4.9629e-04 - iou: 0.0025 - iou_thresholded: 0.2449 - val_loss: 2.0418e-04 - val_iou: 0.0042 - val_iou_thresholded: 0.8249\n",
      "Epoch 57/100\n",
      "338/338 [==============================] - 335s 992ms/step - loss: 5.3251e-04 - iou: 0.0026 - iou_thresholded: 0.2614 - val_loss: 1.8106e-04 - val_iou: 0.0069 - val_iou_thresholded: 0.8249\n",
      "Epoch 58/100\n",
      "338/338 [==============================] - 335s 992ms/step - loss: 4.2871e-04 - iou: 0.0026 - iou_thresholded: 0.2133 - val_loss: 1.7379e-04 - val_iou: 0.0046 - val_iou_thresholded: 0.8249\n",
      "Epoch 59/100\n",
      "338/338 [==============================] - 335s 991ms/step - loss: 4.6541e-04 - iou: 0.0031 - iou_thresholded: 0.2260 - val_loss: 1.5263e-04 - val_iou: 0.0098 - val_iou_thresholded: 0.8249\n",
      "Epoch 60/100\n",
      "338/338 [==============================] - 335s 992ms/step - loss: 3.9455e-04 - iou: 0.0034 - iou_thresholded: 0.2275 - val_loss: 2.1497e-04 - val_iou: 0.0024 - val_iou_thresholded: 0.8249\n",
      "Epoch 61/100\n",
      "338/338 [==============================] - 335s 992ms/step - loss: 4.0090e-04 - iou: 0.0041 - iou_thresholded: 0.2580 - val_loss: 1.7918e-04 - val_iou: 0.0030 - val_iou_thresholded: 0.8249\n",
      "Epoch 62/100\n",
      "338/338 [==============================] - 335s 992ms/step - loss: 3.5040e-04 - iou: 0.0039 - iou_thresholded: 0.2606 - val_loss: 1.5425e-04 - val_iou: 0.0038 - val_iou_thresholded: 0.8249\n",
      "Epoch 63/100\n",
      "338/338 [==============================] - 335s 992ms/step - loss: 3.2351e-04 - iou: 0.0060 - iou_thresholded: 0.2290 - val_loss: 1.1358e-04 - val_iou: 0.0064 - val_iou_thresholded: 0.8249\n",
      "Epoch 64/100\n",
      "338/338 [==============================] - 335s 992ms/step - loss: 3.7365e-04 - iou: 0.0063 - iou_thresholded: 0.2836 - val_loss: 1.2571e-04 - val_iou: 0.0043 - val_iou_thresholded: 0.8249\n",
      "Epoch 65/100\n",
      "338/338 [==============================] - 335s 992ms/step - loss: 2.6095e-04 - iou: 0.0044 - iou_thresholded: 0.2327 - val_loss: 9.6044e-05 - val_iou: 0.0099 - val_iou_thresholded: 0.8249\n",
      "Epoch 66/100\n",
      "338/338 [==============================] - 335s 992ms/step - loss: 2.3157e-04 - iou: 0.0057 - iou_thresholded: 0.2244 - val_loss: 8.4190e-05 - val_iou: 0.0066 - val_iou_thresholded: 0.8249\n",
      "Epoch 67/100\n",
      "338/338 [==============================] - 336s 993ms/step - loss: 2.4225e-04 - iou: 0.0117 - iou_thresholded: 0.2574 - val_loss: 1.6310e-04 - val_iou: 0.4020 - val_iou_thresholded: 0.8249\n",
      "Epoch 68/100\n",
      "338/338 [==============================] - 335s 992ms/step - loss: 2.2696e-04 - iou: 0.0152 - iou_thresholded: 0.2595 - val_loss: 6.5809e-05 - val_iou: 0.0115 - val_iou_thresholded: 0.8249\n",
      "Epoch 69/100\n",
      "338/338 [==============================] - 335s 992ms/step - loss: 2.0360e-04 - iou: 0.0117 - iou_thresholded: 0.2732 - val_loss: 6.1013e-05 - val_iou: 0.0102 - val_iou_thresholded: 0.8249\n",
      "Epoch 70/100\n",
      "338/338 [==============================] - 335s 992ms/step - loss: 2.2412e-04 - iou: 0.0177 - iou_thresholded: 0.2558 - val_loss: 1.1106e-04 - val_iou: 0.0044 - val_iou_thresholded: 0.8249\n",
      "Epoch 71/100\n",
      "338/338 [==============================] - 335s 992ms/step - loss: 1.8218e-04 - iou: 0.0116 - iou_thresholded: 0.2254 - val_loss: 2.1811e-04 - val_iou: 0.0026 - val_iou_thresholded: 0.8249\n",
      "Epoch 72/100\n",
      "338/338 [==============================] - 336s 994ms/step - loss: 1.8410e-04 - iou: 0.0153 - iou_thresholded: 0.2458 - val_loss: 6.0268e-05 - val_iou: 0.0471 - val_iou_thresholded: 0.8249\n",
      "Epoch 73/100\n",
      "338/338 [==============================] - 336s 995ms/step - loss: 1.5463e-04 - iou: 0.0167 - iou_thresholded: 0.2804 - val_loss: 9.2766e-05 - val_iou: 0.2032 - val_iou_thresholded: 0.8249\n",
      "Epoch 74/100\n",
      "338/338 [==============================] - 336s 995ms/step - loss: 1.5525e-04 - iou: 0.0255 - iou_thresholded: 0.2640 - val_loss: 7.0017e-05 - val_iou: 0.0556 - val_iou_thresholded: 0.8249\n",
      "Epoch 75/100\n",
      "338/338 [==============================] - 336s 994ms/step - loss: 1.8617e-04 - iou: 0.0157 - iou_thresholded: 0.2336 - val_loss: 5.6665e-05 - val_iou: 0.0170 - val_iou_thresholded: 0.8249\n",
      "Epoch 76/100\n",
      "338/338 [==============================] - 336s 995ms/step - loss: 1.3295e-04 - iou: 0.0200 - iou_thresholded: 0.2376 - val_loss: 4.9813e-05 - val_iou: 0.1401 - val_iou_thresholded: 0.8249\n",
      "Epoch 77/100\n",
      "338/338 [==============================] - 335s 992ms/step - loss: 1.6277e-04 - iou: 0.0199 - iou_thresholded: 0.1992 - val_loss: 6.2446e-05 - val_iou: 0.0081 - val_iou_thresholded: 0.8249\n",
      "Epoch 78/100\n",
      "338/338 [==============================] - 335s 992ms/step - loss: 1.2199e-04 - iou: 0.0250 - iou_thresholded: 0.2712 - val_loss: 4.0554e-05 - val_iou: 0.0714 - val_iou_thresholded: 0.8249\n",
      "Epoch 79/100\n",
      "338/338 [==============================] - 335s 992ms/step - loss: 1.2647e-04 - iou: 0.0204 - iou_thresholded: 0.2667 - val_loss: 4.2644e-05 - val_iou: 0.0223 - val_iou_thresholded: 0.8249\n",
      "Epoch 80/100\n",
      "338/338 [==============================] - 335s 992ms/step - loss: 1.1641e-04 - iou: 0.0262 - iou_thresholded: 0.2371 - val_loss: 4.0604e-05 - val_iou: 0.0344 - val_iou_thresholded: 0.8249\n",
      "Epoch 81/100\n",
      "338/338 [==============================] - 335s 992ms/step - loss: 1.1906e-04 - iou: 0.0207 - iou_thresholded: 0.2451 - val_loss: 4.4504e-05 - val_iou: 0.0277 - val_iou_thresholded: 0.8249\n",
      "Epoch 82/100\n"
     ]
    },
    {
     "name": "stdout",
     "output_type": "stream",
     "text": [
      "338/338 [==============================] - 335s 992ms/step - loss: 1.1500e-04 - iou: 0.0317 - iou_thresholded: 0.2278 - val_loss: 6.5077e-05 - val_iou: 0.0160 - val_iou_thresholded: 0.8249\n",
      "Epoch 83/100\n",
      "338/338 [==============================] - 335s 992ms/step - loss: 1.1360e-04 - iou: 0.0219 - iou_thresholded: 0.2316 - val_loss: 3.6092e-05 - val_iou: 0.0834 - val_iou_thresholded: 0.8249\n",
      "Epoch 84/100\n",
      "338/338 [==============================] - 336s 993ms/step - loss: 9.8405e-05 - iou: 0.0256 - iou_thresholded: 0.2711 - val_loss: 4.0066e-05 - val_iou: 0.0165 - val_iou_thresholded: 0.8249\n",
      "Epoch 85/100\n",
      "338/338 [==============================] - 335s 992ms/step - loss: 1.0486e-04 - iou: 0.0214 - iou_thresholded: 0.2494 - val_loss: 4.0299e-05 - val_iou: 0.1290 - val_iou_thresholded: 0.8249\n",
      "Epoch 86/100\n",
      "338/338 [==============================] - 335s 992ms/step - loss: 1.1445e-04 - iou: 0.0180 - iou_thresholded: 0.2409 - val_loss: 1.1366e-04 - val_iou: 0.0031 - val_iou_thresholded: 0.8168\n",
      "Epoch 87/100\n",
      "338/338 [==============================] - 335s 992ms/step - loss: 1.1079e-04 - iou: 0.0180 - iou_thresholded: 0.2446 - val_loss: 7.4926e-05 - val_iou: 0.0093 - val_iou_thresholded: 0.8249\n",
      "Epoch 88/100\n",
      "338/338 [==============================] - 335s 992ms/step - loss: 1.0393e-04 - iou: 0.0286 - iou_thresholded: 0.2538 - val_loss: 3.7159e-05 - val_iou: 0.0238 - val_iou_thresholded: 0.8249\n",
      "Epoch 89/100\n",
      "338/338 [==============================] - 335s 992ms/step - loss: 9.8108e-05 - iou: 0.0255 - iou_thresholded: 0.2745 - val_loss: 3.4897e-05 - val_iou: 0.0727 - val_iou_thresholded: 0.8249\n",
      "Epoch 90/100\n",
      "338/338 [==============================] - 335s 992ms/step - loss: 1.1887e-04 - iou: 0.0338 - iou_thresholded: 0.2190 - val_loss: 3.5005e-05 - val_iou: 0.0442 - val_iou_thresholded: 0.8168\n",
      "Epoch 91/100\n",
      "338/338 [==============================] - 335s 993ms/step - loss: 1.4239e-04 - iou: 0.0087 - iou_thresholded: 0.2584 - val_loss: 9.8802e-05 - val_iou: 0.0057 - val_iou_thresholded: 0.8249\n",
      "Epoch 92/100\n",
      "338/338 [==============================] - 335s 992ms/step - loss: 1.1712e-04 - iou: 0.0108 - iou_thresholded: 0.2537 - val_loss: 4.0200e-05 - val_iou: 0.0790 - val_iou_thresholded: 0.8249\n",
      "Epoch 93/100\n",
      "338/338 [==============================] - 335s 992ms/step - loss: 9.0012e-05 - iou: 0.0229 - iou_thresholded: 0.2799 - val_loss: 5.5926e-05 - val_iou: 0.1141 - val_iou_thresholded: 0.8249\n",
      "Epoch 94/100\n",
      "338/338 [==============================] - 335s 992ms/step - loss: 1.0277e-04 - iou: 0.0156 - iou_thresholded: 0.2467 - val_loss: 5.0341e-05 - val_iou: 0.0165 - val_iou_thresholded: 0.8249\n",
      "Epoch 95/100\n",
      "338/338 [==============================] - 336s 993ms/step - loss: 9.8076e-05 - iou: 0.0159 - iou_thresholded: 0.2548 - val_loss: 3.6707e-05 - val_iou: 0.0299 - val_iou_thresholded: 0.8249\n",
      "Epoch 96/100\n",
      "338/338 [==============================] - 335s 992ms/step - loss: 9.4936e-05 - iou: 0.0180 - iou_thresholded: 0.2402 - val_loss: 3.5325e-05 - val_iou: 0.0357 - val_iou_thresholded: 0.8249\n",
      "Epoch 97/100\n",
      "338/338 [==============================] - 335s 992ms/step - loss: 9.6078e-05 - iou: 0.0185 - iou_thresholded: 0.2750 - val_loss: 4.2364e-05 - val_iou: 0.0211 - val_iou_thresholded: 0.8249\n",
      "Epoch 98/100\n",
      "338/338 [==============================] - 335s 992ms/step - loss: 8.5342e-05 - iou: 0.0147 - iou_thresholded: 0.2585 - val_loss: 4.0075e-05 - val_iou: 0.0215 - val_iou_thresholded: 0.8249\n",
      "Epoch 99/100\n",
      "338/338 [==============================] - 335s 992ms/step - loss: 9.6667e-05 - iou: 0.0164 - iou_thresholded: 0.2360 - val_loss: 3.2524e-05 - val_iou: 0.0516 - val_iou_thresholded: 0.8249\n",
      "Epoch 100/100\n",
      "338/338 [==============================] - 335s 992ms/step - loss: 8.3129e-05 - iou: 0.0174 - iou_thresholded: 0.2572 - val_loss: 3.9379e-05 - val_iou: 0.0202 - val_iou_thresholded: 0.8249\n"
     ]
    }
   ],
   "source": [
    "model, history = C.Helper.train_unet(X_train_set, y_train_set, X_val, y_val, model, epochs=100)"
   ]
  },
  {
   "cell_type": "code",
   "execution_count": 41,
   "id": "8dd31b0e",
   "metadata": {},
   "outputs": [
    {
     "data": {
      "image/png": "[encoded data removed]",
      "text/plain": [
       "<Figure size 864x432 with 1 Axes>"
      ]
     },
     "metadata": {
      "needs_background": "light"
     },
     "output_type": "display_data"
    },
    {
     "data": {
      "image/png": "[encoded data removed]",
      "text/plain": [
       "<Figure size 864x432 with 1 Axes>"
      ]
     },
     "metadata": {
      "needs_background": "light"
     },
     "output_type": "display_data"
    }
   ],
   "source": [
    "C.Helper.visualize_graph(history)"
   ]
  },
  {
   "cell_type": "code",
   "execution_count": 42,
   "id": "5aa2fe3f",
   "metadata": {},
   "outputs": [
    {
     "name": "stdout",
     "output_type": "stream",
     "text": [
      "WARNING:tensorflow:Model was constructed with shape (None, 512, 512, 1) for input KerasTensor(type_spec=TensorSpec(shape=(None, 512, 512, 1), dtype=tf.float32, name='input_1'), name='input_1', description=\"created by layer 'input_1'\"), but it was called on an input with incompatible shape (None, 1).\n"
     ]
    },
    {
     "ename": "ValueError",
     "evalue": "in user code:\n\n    /home/jiehyun.kim001/miniconda3/envs/O/lib/python3.9/site-packages/tensorflow/python/keras/engine/training.py:1569 predict_function  *\n        return step_function(self, iterator)\n    /home/jiehyun.kim001/miniconda3/envs/O/lib/python3.9/site-packages/tensorflow/python/keras/engine/training.py:1559 step_function  **\n        outputs = model.distribute_strategy.run(run_step, args=(data,))\n    /home/jiehyun.kim001/miniconda3/envs/O/lib/python3.9/site-packages/tensorflow/python/distribute/distribute_lib.py:1285 run\n        return self._extended.call_for_each_replica(fn, args=args, kwargs=kwargs)\n    /home/jiehyun.kim001/miniconda3/envs/O/lib/python3.9/site-packages/tensorflow/python/distribute/distribute_lib.py:2833 call_for_each_replica\n        return self._call_for_each_replica(fn, args, kwargs)\n    /home/jiehyun.kim001/miniconda3/envs/O/lib/python3.9/site-packages/tensorflow/python/distribute/distribute_lib.py:3608 _call_for_each_replica\n        return fn(*args, **kwargs)\n    /home/jiehyun.kim001/miniconda3/envs/O/lib/python3.9/site-packages/tensorflow/python/keras/engine/training.py:1552 run_step  **\n        outputs = model.predict_step(data)\n    /home/jiehyun.kim001/miniconda3/envs/O/lib/python3.9/site-packages/tensorflow/python/keras/engine/training.py:1525 predict_step\n        return self(x, training=False)\n    /home/jiehyun.kim001/miniconda3/envs/O/lib/python3.9/site-packages/tensorflow/python/keras/engine/base_layer.py:1030 __call__\n        outputs = call_fn(inputs, *args, **kwargs)\n    /home/jiehyun.kim001/miniconda3/envs/O/lib/python3.9/site-packages/tensorflow/python/keras/engine/functional.py:420 call\n        return self._run_internal_graph(\n    /home/jiehyun.kim001/miniconda3/envs/O/lib/python3.9/site-packages/tensorflow/python/keras/engine/functional.py:556 _run_internal_graph\n        outputs = node.layer(*args, **kwargs)\n    /home/jiehyun.kim001/miniconda3/envs/O/lib/python3.9/site-packages/tensorflow/python/keras/engine/base_layer.py:1013 __call__\n        input_spec.assert_input_compatibility(self.input_spec, inputs, self.name)\n    /home/jiehyun.kim001/miniconda3/envs/O/lib/python3.9/site-packages/tensorflow/python/keras/engine/input_spec.py:230 assert_input_compatibility\n        raise ValueError('Input ' + str(input_index) + ' of layer ' +\n\n    ValueError: Input 0 of layer conv2d is incompatible with the layer: : expected min_ndim=4, found ndim=2. Full shape received: (None, 1)\n",
     "output_type": "error",
     "traceback": [
      "\u001b[0;31m---------------------------------------------------------------------------\u001b[0m",
      "\u001b[0;31mValueError\u001b[0m                                Traceback (most recent call last)",
      "\u001b[0;32m/tmp/ipykernel_1892477/28005126.py\u001b[0m in \u001b[0;36m<module>\u001b[0;34m\u001b[0m\n\u001b[0;32m----> 1\u001b[0;31m \u001b[0my_pred\u001b[0m \u001b[0;34m=\u001b[0m \u001b[0mC\u001b[0m\u001b[0;34m.\u001b[0m\u001b[0mHelper\u001b[0m\u001b[0;34m.\u001b[0m\u001b[0mprediction\u001b[0m\u001b[0;34m(\u001b[0m\u001b[0mX_test\u001b[0m\u001b[0;34m,\u001b[0m \u001b[0mmodel\u001b[0m\u001b[0;34m)\u001b[0m\u001b[0;34m\u001b[0m\u001b[0;34m\u001b[0m\u001b[0m\n\u001b[0m",
      "\u001b[0;32m~/CACTAS/_EXPERIMENTS/cactas/helper.py\u001b[0m in \u001b[0;36mprediction\u001b[0;34m(X_val, model)\u001b[0m\n\u001b[1;32m    338\u001b[0m \u001b[0;34m\u001b[0m\u001b[0m\n\u001b[1;32m    339\u001b[0m     \u001b[0;32mdef\u001b[0m \u001b[0mprediction\u001b[0m\u001b[0;34m(\u001b[0m\u001b[0mX_val\u001b[0m\u001b[0;34m,\u001b[0m \u001b[0mmodel\u001b[0m\u001b[0;34m)\u001b[0m\u001b[0;34m:\u001b[0m\u001b[0;34m\u001b[0m\u001b[0;34m\u001b[0m\u001b[0m\n\u001b[0;32m--> 340\u001b[0;31m         \u001b[0my_pred\u001b[0m \u001b[0;34m=\u001b[0m \u001b[0mmodel\u001b[0m\u001b[0;34m.\u001b[0m\u001b[0mpredict\u001b[0m\u001b[0;34m(\u001b[0m\u001b[0mX_val\u001b[0m\u001b[0;34m)\u001b[0m\u001b[0;34m\u001b[0m\u001b[0;34m\u001b[0m\u001b[0m\n\u001b[0m\u001b[1;32m    341\u001b[0m \u001b[0;34m\u001b[0m\u001b[0m\n\u001b[1;32m    342\u001b[0m         \u001b[0;32mreturn\u001b[0m \u001b[0my_pred\u001b[0m\u001b[0;34m\u001b[0m\u001b[0;34m\u001b[0m\u001b[0m\n",
      "\u001b[0;32m~/miniconda3/envs/O/lib/python3.9/site-packages/tensorflow/python/keras/engine/training.py\u001b[0m in \u001b[0;36mpredict\u001b[0;34m(self, x, batch_size, verbose, steps, callbacks, max_queue_size, workers, use_multiprocessing)\u001b[0m\n\u001b[1;32m   1725\u001b[0m           \u001b[0;32mfor\u001b[0m \u001b[0mstep\u001b[0m \u001b[0;32min\u001b[0m \u001b[0mdata_handler\u001b[0m\u001b[0;34m.\u001b[0m\u001b[0msteps\u001b[0m\u001b[0;34m(\u001b[0m\u001b[0;34m)\u001b[0m\u001b[0;34m:\u001b[0m\u001b[0;34m\u001b[0m\u001b[0;34m\u001b[0m\u001b[0m\n\u001b[1;32m   1726\u001b[0m             \u001b[0mcallbacks\u001b[0m\u001b[0;34m.\u001b[0m\u001b[0mon_predict_batch_begin\u001b[0m\u001b[0;34m(\u001b[0m\u001b[0mstep\u001b[0m\u001b[0;34m)\u001b[0m\u001b[0;34m\u001b[0m\u001b[0;34m\u001b[0m\u001b[0m\n\u001b[0;32m-> 1727\u001b[0;31m             \u001b[0mtmp_batch_outputs\u001b[0m \u001b[0;34m=\u001b[0m \u001b[0mself\u001b[0m\u001b[0;34m.\u001b[0m\u001b[0mpredict_function\u001b[0m\u001b[0;34m(\u001b[0m\u001b[0miterator\u001b[0m\u001b[0;34m)\u001b[0m\u001b[0;34m\u001b[0m\u001b[0;34m\u001b[0m\u001b[0m\n\u001b[0m\u001b[1;32m   1728\u001b[0m             \u001b[0;32mif\u001b[0m \u001b[0mdata_handler\u001b[0m\u001b[0;34m.\u001b[0m\u001b[0mshould_sync\u001b[0m\u001b[0;34m:\u001b[0m\u001b[0;34m\u001b[0m\u001b[0;34m\u001b[0m\u001b[0m\n\u001b[1;32m   1729\u001b[0m               \u001b[0mcontext\u001b[0m\u001b[0;34m.\u001b[0m\u001b[0masync_wait\u001b[0m\u001b[0;34m(\u001b[0m\u001b[0;34m)\u001b[0m\u001b[0;34m\u001b[0m\u001b[0;34m\u001b[0m\u001b[0m\n",
      "\u001b[0;32m~/miniconda3/envs/O/lib/python3.9/site-packages/tensorflow/python/eager/def_function.py\u001b[0m in \u001b[0;36m__call__\u001b[0;34m(self, *args, **kwds)\u001b[0m\n\u001b[1;32m    887\u001b[0m \u001b[0;34m\u001b[0m\u001b[0m\n\u001b[1;32m    888\u001b[0m       \u001b[0;32mwith\u001b[0m \u001b[0mOptionalXlaContext\u001b[0m\u001b[0;34m(\u001b[0m\u001b[0mself\u001b[0m\u001b[0;34m.\u001b[0m\u001b[0m_jit_compile\u001b[0m\u001b[0;34m)\u001b[0m\u001b[0;34m:\u001b[0m\u001b[0;34m\u001b[0m\u001b[0;34m\u001b[0m\u001b[0m\n\u001b[0;32m--> 889\u001b[0;31m         \u001b[0mresult\u001b[0m \u001b[0;34m=\u001b[0m \u001b[0mself\u001b[0m\u001b[0;34m.\u001b[0m\u001b[0m_call\u001b[0m\u001b[0;34m(\u001b[0m\u001b[0;34m*\u001b[0m\u001b[0margs\u001b[0m\u001b[0;34m,\u001b[0m \u001b[0;34m**\u001b[0m\u001b[0mkwds\u001b[0m\u001b[0;34m)\u001b[0m\u001b[0;34m\u001b[0m\u001b[0;34m\u001b[0m\u001b[0m\n\u001b[0m\u001b[1;32m    890\u001b[0m \u001b[0;34m\u001b[0m\u001b[0m\n\u001b[1;32m    891\u001b[0m       \u001b[0mnew_tracing_count\u001b[0m \u001b[0;34m=\u001b[0m \u001b[0mself\u001b[0m\u001b[0;34m.\u001b[0m\u001b[0mexperimental_get_tracing_count\u001b[0m\u001b[0;34m(\u001b[0m\u001b[0;34m)\u001b[0m\u001b[0;34m\u001b[0m\u001b[0;34m\u001b[0m\u001b[0m\n",
      "\u001b[0;32m~/miniconda3/envs/O/lib/python3.9/site-packages/tensorflow/python/eager/def_function.py\u001b[0m in \u001b[0;36m_call\u001b[0;34m(self, *args, **kwds)\u001b[0m\n\u001b[1;32m    931\u001b[0m       \u001b[0;31m# This is the first call of __call__, so we have to initialize.\u001b[0m\u001b[0;34m\u001b[0m\u001b[0;34m\u001b[0m\u001b[0m\n\u001b[1;32m    932\u001b[0m       \u001b[0minitializers\u001b[0m \u001b[0;34m=\u001b[0m \u001b[0;34m[\u001b[0m\u001b[0;34m]\u001b[0m\u001b[0;34m\u001b[0m\u001b[0;34m\u001b[0m\u001b[0m\n\u001b[0;32m--> 933\u001b[0;31m       \u001b[0mself\u001b[0m\u001b[0;34m.\u001b[0m\u001b[0m_initialize\u001b[0m\u001b[0;34m(\u001b[0m\u001b[0margs\u001b[0m\u001b[0;34m,\u001b[0m \u001b[0mkwds\u001b[0m\u001b[0;34m,\u001b[0m \u001b[0madd_initializers_to\u001b[0m\u001b[0;34m=\u001b[0m\u001b[0minitializers\u001b[0m\u001b[0;34m)\u001b[0m\u001b[0;34m\u001b[0m\u001b[0;34m\u001b[0m\u001b[0m\n\u001b[0m\u001b[1;32m    934\u001b[0m     \u001b[0;32mfinally\u001b[0m\u001b[0;34m:\u001b[0m\u001b[0;34m\u001b[0m\u001b[0;34m\u001b[0m\u001b[0m\n\u001b[1;32m    935\u001b[0m       \u001b[0;31m# At this point we know that the initialization is complete (or less\u001b[0m\u001b[0;34m\u001b[0m\u001b[0;34m\u001b[0m\u001b[0m\n",
      "\u001b[0;32m~/miniconda3/envs/O/lib/python3.9/site-packages/tensorflow/python/eager/def_function.py\u001b[0m in \u001b[0;36m_initialize\u001b[0;34m(self, args, kwds, add_initializers_to)\u001b[0m\n\u001b[1;32m    761\u001b[0m     \u001b[0mself\u001b[0m\u001b[0;34m.\u001b[0m\u001b[0m_graph_deleter\u001b[0m \u001b[0;34m=\u001b[0m \u001b[0mFunctionDeleter\u001b[0m\u001b[0;34m(\u001b[0m\u001b[0mself\u001b[0m\u001b[0;34m.\u001b[0m\u001b[0m_lifted_initializer_graph\u001b[0m\u001b[0;34m)\u001b[0m\u001b[0;34m\u001b[0m\u001b[0;34m\u001b[0m\u001b[0m\n\u001b[1;32m    762\u001b[0m     self._concrete_stateful_fn = (\n\u001b[0;32m--> 763\u001b[0;31m         self._stateful_fn._get_concrete_function_internal_garbage_collected(  # pylint: disable=protected-access\n\u001b[0m\u001b[1;32m    764\u001b[0m             *args, **kwds))\n\u001b[1;32m    765\u001b[0m \u001b[0;34m\u001b[0m\u001b[0m\n",
      "\u001b[0;32m~/miniconda3/envs/O/lib/python3.9/site-packages/tensorflow/python/eager/function.py\u001b[0m in \u001b[0;36m_get_concrete_function_internal_garbage_collected\u001b[0;34m(self, *args, **kwargs)\u001b[0m\n\u001b[1;32m   3048\u001b[0m       \u001b[0margs\u001b[0m\u001b[0;34m,\u001b[0m \u001b[0mkwargs\u001b[0m \u001b[0;34m=\u001b[0m \u001b[0;32mNone\u001b[0m\u001b[0;34m,\u001b[0m \u001b[0;32mNone\u001b[0m\u001b[0;34m\u001b[0m\u001b[0;34m\u001b[0m\u001b[0m\n\u001b[1;32m   3049\u001b[0m     \u001b[0;32mwith\u001b[0m \u001b[0mself\u001b[0m\u001b[0;34m.\u001b[0m\u001b[0m_lock\u001b[0m\u001b[0;34m:\u001b[0m\u001b[0;34m\u001b[0m\u001b[0;34m\u001b[0m\u001b[0m\n\u001b[0;32m-> 3050\u001b[0;31m       \u001b[0mgraph_function\u001b[0m\u001b[0;34m,\u001b[0m \u001b[0m_\u001b[0m \u001b[0;34m=\u001b[0m \u001b[0mself\u001b[0m\u001b[0;34m.\u001b[0m\u001b[0m_maybe_define_function\u001b[0m\u001b[0;34m(\u001b[0m\u001b[0margs\u001b[0m\u001b[0;34m,\u001b[0m \u001b[0mkwargs\u001b[0m\u001b[0;34m)\u001b[0m\u001b[0;34m\u001b[0m\u001b[0;34m\u001b[0m\u001b[0m\n\u001b[0m\u001b[1;32m   3051\u001b[0m     \u001b[0;32mreturn\u001b[0m \u001b[0mgraph_function\u001b[0m\u001b[0;34m\u001b[0m\u001b[0;34m\u001b[0m\u001b[0m\n\u001b[1;32m   3052\u001b[0m \u001b[0;34m\u001b[0m\u001b[0m\n",
      "\u001b[0;32m~/miniconda3/envs/O/lib/python3.9/site-packages/tensorflow/python/eager/function.py\u001b[0m in \u001b[0;36m_maybe_define_function\u001b[0;34m(self, args, kwargs)\u001b[0m\n\u001b[1;32m   3442\u001b[0m \u001b[0;34m\u001b[0m\u001b[0m\n\u001b[1;32m   3443\u001b[0m           \u001b[0mself\u001b[0m\u001b[0;34m.\u001b[0m\u001b[0m_function_cache\u001b[0m\u001b[0;34m.\u001b[0m\u001b[0mmissed\u001b[0m\u001b[0;34m.\u001b[0m\u001b[0madd\u001b[0m\u001b[0;34m(\u001b[0m\u001b[0mcall_context_key\u001b[0m\u001b[0;34m)\u001b[0m\u001b[0;34m\u001b[0m\u001b[0;34m\u001b[0m\u001b[0m\n\u001b[0;32m-> 3444\u001b[0;31m           \u001b[0mgraph_function\u001b[0m \u001b[0;34m=\u001b[0m \u001b[0mself\u001b[0m\u001b[0;34m.\u001b[0m\u001b[0m_create_graph_function\u001b[0m\u001b[0;34m(\u001b[0m\u001b[0margs\u001b[0m\u001b[0;34m,\u001b[0m \u001b[0mkwargs\u001b[0m\u001b[0;34m)\u001b[0m\u001b[0;34m\u001b[0m\u001b[0;34m\u001b[0m\u001b[0m\n\u001b[0m\u001b[1;32m   3445\u001b[0m           \u001b[0mself\u001b[0m\u001b[0;34m.\u001b[0m\u001b[0m_function_cache\u001b[0m\u001b[0;34m.\u001b[0m\u001b[0mprimary\u001b[0m\u001b[0;34m[\u001b[0m\u001b[0mcache_key\u001b[0m\u001b[0;34m]\u001b[0m \u001b[0;34m=\u001b[0m \u001b[0mgraph_function\u001b[0m\u001b[0;34m\u001b[0m\u001b[0;34m\u001b[0m\u001b[0m\n\u001b[1;32m   3446\u001b[0m \u001b[0;34m\u001b[0m\u001b[0m\n",
      "\u001b[0;32m~/miniconda3/envs/O/lib/python3.9/site-packages/tensorflow/python/eager/function.py\u001b[0m in \u001b[0;36m_create_graph_function\u001b[0;34m(self, args, kwargs, override_flat_arg_shapes)\u001b[0m\n\u001b[1;32m   3277\u001b[0m     \u001b[0marg_names\u001b[0m \u001b[0;34m=\u001b[0m \u001b[0mbase_arg_names\u001b[0m \u001b[0;34m+\u001b[0m \u001b[0mmissing_arg_names\u001b[0m\u001b[0;34m\u001b[0m\u001b[0;34m\u001b[0m\u001b[0m\n\u001b[1;32m   3278\u001b[0m     graph_function = ConcreteFunction(\n\u001b[0;32m-> 3279\u001b[0;31m         func_graph_module.func_graph_from_py_func(\n\u001b[0m\u001b[1;32m   3280\u001b[0m             \u001b[0mself\u001b[0m\u001b[0;34m.\u001b[0m\u001b[0m_name\u001b[0m\u001b[0;34m,\u001b[0m\u001b[0;34m\u001b[0m\u001b[0;34m\u001b[0m\u001b[0m\n\u001b[1;32m   3281\u001b[0m             \u001b[0mself\u001b[0m\u001b[0;34m.\u001b[0m\u001b[0m_python_function\u001b[0m\u001b[0;34m,\u001b[0m\u001b[0;34m\u001b[0m\u001b[0;34m\u001b[0m\u001b[0m\n",
      "\u001b[0;32m~/miniconda3/envs/O/lib/python3.9/site-packages/tensorflow/python/framework/func_graph.py\u001b[0m in \u001b[0;36mfunc_graph_from_py_func\u001b[0;34m(name, python_func, args, kwargs, signature, func_graph, autograph, autograph_options, add_control_dependencies, arg_names, op_return_value, collections, capture_by_value, override_flat_arg_shapes)\u001b[0m\n\u001b[1;32m    997\u001b[0m         \u001b[0m_\u001b[0m\u001b[0;34m,\u001b[0m \u001b[0moriginal_func\u001b[0m \u001b[0;34m=\u001b[0m \u001b[0mtf_decorator\u001b[0m\u001b[0;34m.\u001b[0m\u001b[0munwrap\u001b[0m\u001b[0;34m(\u001b[0m\u001b[0mpython_func\u001b[0m\u001b[0;34m)\u001b[0m\u001b[0;34m\u001b[0m\u001b[0;34m\u001b[0m\u001b[0m\n\u001b[1;32m    998\u001b[0m \u001b[0;34m\u001b[0m\u001b[0m\n\u001b[0;32m--> 999\u001b[0;31m       \u001b[0mfunc_outputs\u001b[0m \u001b[0;34m=\u001b[0m \u001b[0mpython_func\u001b[0m\u001b[0;34m(\u001b[0m\u001b[0;34m*\u001b[0m\u001b[0mfunc_args\u001b[0m\u001b[0;34m,\u001b[0m \u001b[0;34m**\u001b[0m\u001b[0mfunc_kwargs\u001b[0m\u001b[0;34m)\u001b[0m\u001b[0;34m\u001b[0m\u001b[0;34m\u001b[0m\u001b[0m\n\u001b[0m\u001b[1;32m   1000\u001b[0m \u001b[0;34m\u001b[0m\u001b[0m\n\u001b[1;32m   1001\u001b[0m       \u001b[0;31m# invariant: `func_outputs` contains only Tensors, CompositeTensors,\u001b[0m\u001b[0;34m\u001b[0m\u001b[0;34m\u001b[0m\u001b[0m\n",
      "\u001b[0;32m~/miniconda3/envs/O/lib/python3.9/site-packages/tensorflow/python/eager/def_function.py\u001b[0m in \u001b[0;36mwrapped_fn\u001b[0;34m(*args, **kwds)\u001b[0m\n\u001b[1;32m    670\u001b[0m         \u001b[0;31m# the function a weak reference to itself to avoid a reference cycle.\u001b[0m\u001b[0;34m\u001b[0m\u001b[0;34m\u001b[0m\u001b[0m\n\u001b[1;32m    671\u001b[0m         \u001b[0;32mwith\u001b[0m \u001b[0mOptionalXlaContext\u001b[0m\u001b[0;34m(\u001b[0m\u001b[0mcompile_with_xla\u001b[0m\u001b[0;34m)\u001b[0m\u001b[0;34m:\u001b[0m\u001b[0;34m\u001b[0m\u001b[0;34m\u001b[0m\u001b[0m\n\u001b[0;32m--> 672\u001b[0;31m           \u001b[0mout\u001b[0m \u001b[0;34m=\u001b[0m \u001b[0mweak_wrapped_fn\u001b[0m\u001b[0;34m(\u001b[0m\u001b[0;34m)\u001b[0m\u001b[0;34m.\u001b[0m\u001b[0m__wrapped__\u001b[0m\u001b[0;34m(\u001b[0m\u001b[0;34m*\u001b[0m\u001b[0margs\u001b[0m\u001b[0;34m,\u001b[0m \u001b[0;34m**\u001b[0m\u001b[0mkwds\u001b[0m\u001b[0;34m)\u001b[0m\u001b[0;34m\u001b[0m\u001b[0;34m\u001b[0m\u001b[0m\n\u001b[0m\u001b[1;32m    673\u001b[0m         \u001b[0;32mreturn\u001b[0m \u001b[0mout\u001b[0m\u001b[0;34m\u001b[0m\u001b[0;34m\u001b[0m\u001b[0m\n\u001b[1;32m    674\u001b[0m \u001b[0;34m\u001b[0m\u001b[0m\n",
      "\u001b[0;32m~/miniconda3/envs/O/lib/python3.9/site-packages/tensorflow/python/framework/func_graph.py\u001b[0m in \u001b[0;36mwrapper\u001b[0;34m(*args, **kwargs)\u001b[0m\n\u001b[1;32m    984\u001b[0m           \u001b[0;32mexcept\u001b[0m \u001b[0mException\u001b[0m \u001b[0;32mas\u001b[0m \u001b[0me\u001b[0m\u001b[0;34m:\u001b[0m  \u001b[0;31m# pylint:disable=broad-except\u001b[0m\u001b[0;34m\u001b[0m\u001b[0;34m\u001b[0m\u001b[0m\n\u001b[1;32m    985\u001b[0m             \u001b[0;32mif\u001b[0m \u001b[0mhasattr\u001b[0m\u001b[0;34m(\u001b[0m\u001b[0me\u001b[0m\u001b[0;34m,\u001b[0m \u001b[0;34m\"ag_error_metadata\"\u001b[0m\u001b[0;34m)\u001b[0m\u001b[0;34m:\u001b[0m\u001b[0;34m\u001b[0m\u001b[0;34m\u001b[0m\u001b[0m\n\u001b[0;32m--> 986\u001b[0;31m               \u001b[0;32mraise\u001b[0m \u001b[0me\u001b[0m\u001b[0;34m.\u001b[0m\u001b[0mag_error_metadata\u001b[0m\u001b[0;34m.\u001b[0m\u001b[0mto_exception\u001b[0m\u001b[0;34m(\u001b[0m\u001b[0me\u001b[0m\u001b[0;34m)\u001b[0m\u001b[0;34m\u001b[0m\u001b[0;34m\u001b[0m\u001b[0m\n\u001b[0m\u001b[1;32m    987\u001b[0m             \u001b[0;32melse\u001b[0m\u001b[0;34m:\u001b[0m\u001b[0;34m\u001b[0m\u001b[0;34m\u001b[0m\u001b[0m\n\u001b[1;32m    988\u001b[0m               \u001b[0;32mraise\u001b[0m\u001b[0;34m\u001b[0m\u001b[0;34m\u001b[0m\u001b[0m\n",
      "\u001b[0;31mValueError\u001b[0m: in user code:\n\n    /home/jiehyun.kim001/miniconda3/envs/O/lib/python3.9/site-packages/tensorflow/python/keras/engine/training.py:1569 predict_function  *\n        return step_function(self, iterator)\n    /home/jiehyun.kim001/miniconda3/envs/O/lib/python3.9/site-packages/tensorflow/python/keras/engine/training.py:1559 step_function  **\n        outputs = model.distribute_strategy.run(run_step, args=(data,))\n    /home/jiehyun.kim001/miniconda3/envs/O/lib/python3.9/site-packages/tensorflow/python/distribute/distribute_lib.py:1285 run\n        return self._extended.call_for_each_replica(fn, args=args, kwargs=kwargs)\n    /home/jiehyun.kim001/miniconda3/envs/O/lib/python3.9/site-packages/tensorflow/python/distribute/distribute_lib.py:2833 call_for_each_replica\n        return self._call_for_each_replica(fn, args, kwargs)\n    /home/jiehyun.kim001/miniconda3/envs/O/lib/python3.9/site-packages/tensorflow/python/distribute/distribute_lib.py:3608 _call_for_each_replica\n        return fn(*args, **kwargs)\n    /home/jiehyun.kim001/miniconda3/envs/O/lib/python3.9/site-packages/tensorflow/python/keras/engine/training.py:1552 run_step  **\n        outputs = model.predict_step(data)\n    /home/jiehyun.kim001/miniconda3/envs/O/lib/python3.9/site-packages/tensorflow/python/keras/engine/training.py:1525 predict_step\n        return self(x, training=False)\n    /home/jiehyun.kim001/miniconda3/envs/O/lib/python3.9/site-packages/tensorflow/python/keras/engine/base_layer.py:1030 __call__\n        outputs = call_fn(inputs, *args, **kwargs)\n    /home/jiehyun.kim001/miniconda3/envs/O/lib/python3.9/site-packages/tensorflow/python/keras/engine/functional.py:420 call\n        return self._run_internal_graph(\n    /home/jiehyun.kim001/miniconda3/envs/O/lib/python3.9/site-packages/tensorflow/python/keras/engine/functional.py:556 _run_internal_graph\n        outputs = node.layer(*args, **kwargs)\n    /home/jiehyun.kim001/miniconda3/envs/O/lib/python3.9/site-packages/tensorflow/python/keras/engine/base_layer.py:1013 __call__\n        input_spec.assert_input_compatibility(self.input_spec, inputs, self.name)\n    /home/jiehyun.kim001/miniconda3/envs/O/lib/python3.9/site-packages/tensorflow/python/keras/engine/input_spec.py:230 assert_input_compatibility\n        raise ValueError('Input ' + str(input_index) + ' of layer ' +\n\n    ValueError: Input 0 of layer conv2d is incompatible with the layer: : expected min_ndim=4, found ndim=2. Full shape received: (None, 1)\n"
     ]
    }
   ],
   "source": [
    "y_pred = C.Helper.prediction(X_test, model)"
   ]
  },
  {
   "cell_type": "code",
   "execution_count": null,
   "id": "682e369f",
   "metadata": {},
   "outputs": [],
   "source": [
    "C.Helper.visualize_result(X_test, y_test, y_pred)"
   ]
  },
  {
   "cell_type": "code",
   "execution_count": null,
   "id": "9f2ded33",
   "metadata": {},
   "outputs": [],
   "source": [
    "C.Helper.evaluate(X_test, y_test, model)"
   ]
  },
  {
   "cell_type": "code",
   "execution_count": null,
   "id": "61a71b6c",
   "metadata": {},
   "outputs": [],
   "source": []
  },
  {
   "cell_type": "code",
   "execution_count": null,
   "id": "678b33d1",
   "metadata": {},
   "outputs": [],
   "source": []
  },
  {
   "cell_type": "code",
   "execution_count": null,
   "id": "c4c9c928",
   "metadata": {},
   "outputs": [],
   "source": []
  },
  {
   "cell_type": "code",
   "execution_count": null,
   "id": "c3f98cb4",
   "metadata": {},
   "outputs": [],
   "source": []
  },
  {
   "cell_type": "code",
   "execution_count": null,
   "id": "9e225955",
   "metadata": {},
   "outputs": [],
   "source": []
  },
  {
   "cell_type": "code",
   "execution_count": null,
   "id": "2c195b97",
   "metadata": {},
   "outputs": [],
   "source": []
  }
 ],
 "metadata": {
  "kernelspec": {
   "display_name": "Python 3 (ipykernel)",
   "language": "python",
   "name": "python3"
  },
  "language_info": {
   "codemirror_mode": {
    "name": "ipython",
    "version": 3
   },
   "file_extension": ".py",
   "mimetype": "text/x-python",
   "name": "python",
   "nbconvert_exporter": "python",
   "pygments_lexer": "ipython3",
   "version": "3.9.7"
  }
 },
 "nbformat": 4,
 "nbformat_minor": 5
}
