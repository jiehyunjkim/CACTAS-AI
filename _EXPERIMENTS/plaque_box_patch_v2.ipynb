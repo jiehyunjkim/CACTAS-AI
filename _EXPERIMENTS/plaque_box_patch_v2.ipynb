{
 "cells": [
  {
   "cell_type": "code",
   "execution_count": 1,
   "id": "5eebebed",
   "metadata": {},
   "outputs": [
    {
     "name": "stdout",
     "output_type": "stream",
     "text": [
      "Populating the interactive namespace from numpy and matplotlib\n"
     ]
    }
   ],
   "source": [
    "%pylab inline\n",
    "%load_ext autoreload\n",
    "%autoreload 2"
   ]
  },
  {
   "cell_type": "code",
   "execution_count": 2,
   "id": "1db43f95",
   "metadata": {},
   "outputs": [],
   "source": [
    "import cactas as C\n",
    "import os\n",
    "import mahotas as mh\n",
    "import nibabel as nib\n",
    "import nrrd\n",
    "import skimage.morphology\n",
    "import cv2\n",
    "from skimage.filters import threshold_otsu"
   ]
  },
  {
   "cell_type": "code",
   "execution_count": 3,
   "id": "ca9de1bc",
   "metadata": {},
   "outputs": [],
   "source": [
    "DATAPATH='/raid/mpsych/CACTAS/DATA/ESUS'"
   ]
  },
  {
   "cell_type": "code",
   "execution_count": 4,
   "id": "c2588b51",
   "metadata": {},
   "outputs": [],
   "source": [
    "images, labels = C.Helper.load_data(DATAPATH)"
   ]
  },
  {
   "cell_type": "code",
   "execution_count": 5,
   "id": "7088d2a3",
   "metadata": {},
   "outputs": [],
   "source": [
    "X_train, y_train, X_test, y_test = C.Helper.split_patients(images, labels)"
   ]
  },
  {
   "cell_type": "code",
   "execution_count": 7,
   "id": "e210989e",
   "metadata": {},
   "outputs": [
    {
     "data": {
      "text/plain": [
       "'62.img.nrrd'"
      ]
     },
     "execution_count": 7,
     "metadata": {},
     "output_type": "execute_result"
    }
   ],
   "source": [
    "X_train[15]"
   ]
  },
  {
   "cell_type": "code",
   "execution_count": null,
   "id": "a1c60177",
   "metadata": {},
   "outputs": [],
   "source": []
  },
  {
   "cell_type": "code",
   "execution_count": 8,
   "id": "fbccd2f9",
   "metadata": {},
   "outputs": [],
   "source": [
    "TS_PATH='TS'"
   ]
  },
  {
   "cell_type": "code",
   "execution_count": 9,
   "id": "8cae8f83",
   "metadata": {},
   "outputs": [],
   "source": [
    "segment_62_l = TS_PATH + \"/62/common_carotid_artery_left.nii.gz\"\n",
    "segment_62_r = TS_PATH + \"/62/common_carotid_artery_right.nii.gz\"\n",
    "img_62_l = nib.load(segment_62_l)\n",
    "img_62_r = nib.load(segment_62_r)\n",
    "data_62_l = img_62_l.get_fdata()\n",
    "data_62_r = img_62_r.get_fdata()"
   ]
  },
  {
   "cell_type": "code",
   "execution_count": 10,
   "id": "36023a32",
   "metadata": {},
   "outputs": [],
   "source": [
    "combined = data_62_l + data_62_r"
   ]
  },
  {
   "cell_type": "code",
   "execution_count": 11,
   "id": "4c76c786",
   "metadata": {},
   "outputs": [
    {
     "data": {
      "image/png": "[encoded data removed]",
      "text/plain": [
       "<Figure size 432x288 with 1 Axes>"
      ]
     },
     "metadata": {
      "needs_background": "light"
     },
     "output_type": "display_data"
    }
   ],
   "source": [
    "plt.imshow(combined[:,:,54])\n",
    "plt.show()"
   ]
  },
  {
   "cell_type": "code",
   "execution_count": 12,
   "id": "fd115e6d",
   "metadata": {},
   "outputs": [
    {
     "data": {
      "image/png": "[encoded data removed]",
      "text/plain": [
       "<Figure size 432x288 with 1 Axes>"
      ]
     },
     "metadata": {
      "needs_background": "light"
     },
     "output_type": "display_data"
    }
   ],
   "source": [
    "plt.imshow(data_62_l[:,:,54])\n",
    "plt.show()"
   ]
  },
  {
   "cell_type": "code",
   "execution_count": 13,
   "id": "ee6a312b",
   "metadata": {},
   "outputs": [
    {
     "data": {
      "image/png": "[encoded data removed]",
      "text/plain": [
       "<Figure size 432x288 with 1 Axes>"
      ]
     },
     "metadata": {
      "needs_background": "light"
     },
     "output_type": "display_data"
    }
   ],
   "source": [
    "plt.imshow(data_62_r[:,:,54])\n",
    "plt.show()"
   ]
  },
  {
   "cell_type": "code",
   "execution_count": 14,
   "id": "4f8acf54",
   "metadata": {},
   "outputs": [
    {
     "data": {
      "text/plain": [
       "(512, 512, 268)"
      ]
     },
     "execution_count": 14,
     "metadata": {},
     "output_type": "execute_result"
    }
   ],
   "source": [
    "combined.shape"
   ]
  },
  {
   "cell_type": "code",
   "execution_count": 15,
   "id": "761c0277",
   "metadata": {},
   "outputs": [],
   "source": [
    "from skimage.filters import threshold_otsu"
   ]
  },
  {
   "cell_type": "code",
   "execution_count": 16,
   "id": "1c937703",
   "metadata": {},
   "outputs": [
    {
     "name": "stdout",
     "output_type": "stream",
     "text": [
      "[208 339 234 306]\n"
     ]
    }
   ],
   "source": [
    "# setting filter to the image\n",
    "img = combined[:, :, 54]\n",
    "# otsu method\n",
    "T_otsu = threshold_otsu(img)\n",
    "  \n",
    "# image values should be greater than otsu value\n",
    "img = img > T_otsu\n",
    "\n",
    "es = np.ones((50, 50), bool)\n",
    "\n",
    "\n",
    "# dilating image\n",
    "dilate_img = mh.morph.dilate(img,es)\n",
    "bbox = mh.bbox(dilate_img)\n",
    "print(bbox)"
   ]
  },
  {
   "cell_type": "code",
   "execution_count": 17,
   "id": "a0482f61",
   "metadata": {},
   "outputs": [
    {
     "data": {
      "image/png": "[encoded data removed]",
      "text/plain": [
       "<Figure size 432x288 with 1 Axes>"
      ]
     },
     "metadata": {
      "needs_background": "light"
     },
     "output_type": "display_data"
    }
   ],
   "source": [
    "plt.imshow(img)\n",
    "plt.show()"
   ]
  },
  {
   "cell_type": "code",
   "execution_count": 18,
   "id": "214c6aa5",
   "metadata": {},
   "outputs": [
    {
     "data": {
      "image/png": "[encoded data removed]",
      "text/plain": [
       "<Figure size 432x288 with 1 Axes>"
      ]
     },
     "metadata": {
      "needs_background": "light"
     },
     "output_type": "display_data"
    }
   ],
   "source": [
    "plt.imshow(dilate_img)\n",
    "plt.show()"
   ]
  },
  {
   "cell_type": "code",
   "execution_count": null,
   "id": "d460b253",
   "metadata": {},
   "outputs": [],
   "source": []
  },
  {
   "cell_type": "code",
   "execution_count": 19,
   "id": "e1743952",
   "metadata": {},
   "outputs": [],
   "source": [
    "images=[]\n",
    "for i in range(combined.shape[2]):\n",
    "    # setting filter to the image\n",
    "    img = combined[:, :, i]\n",
    "    # otsu method\n",
    "    T_otsu = threshold_otsu(img)\n",
    "    # image values should be greater than otsu value\n",
    "    img = img > T_otsu\n",
    "    es = np.ones((50, 50), bool)\n",
    "    # dilating image\n",
    "    dilate_img = mh.morph.dilate(img,es)\n",
    "    images.append(dilate_img)"
   ]
  },
  {
   "cell_type": "code",
   "execution_count": 20,
   "id": "fe9a8967",
   "metadata": {},
   "outputs": [],
   "source": [
    "#for i in range(len(images)):\n",
    "#    plt.imshow(images[i])\n",
    "#    plt.show()"
   ]
  },
  {
   "cell_type": "code",
   "execution_count": 21,
   "id": "5c017bbc",
   "metadata": {},
   "outputs": [],
   "source": [
    "label, header = nrrd.read(DATAPATH + \"/\" + y_train[15])"
   ]
  },
  {
   "cell_type": "code",
   "execution_count": 22,
   "id": "a694279a",
   "metadata": {},
   "outputs": [],
   "source": [
    "bbox_plaque = mh.bbox(label)"
   ]
  },
  {
   "cell_type": "code",
   "execution_count": 23,
   "id": "6761da8a",
   "metadata": {},
   "outputs": [
    {
     "data": {
      "text/plain": [
       "array([221, 345, 233, 251, 109, 123])"
      ]
     },
     "execution_count": 23,
     "metadata": {},
     "output_type": "execute_result"
    }
   ],
   "source": [
    "bbox_plaque"
   ]
  },
  {
   "cell_type": "code",
   "execution_count": 24,
   "id": "f134428f",
   "metadata": {},
   "outputs": [],
   "source": [
    "bbox_combined = mh.bbox(combined)"
   ]
  },
  {
   "cell_type": "code",
   "execution_count": 25,
   "id": "e0bcf3c9",
   "metadata": {},
   "outputs": [
    {
     "data": {
      "text/plain": [
       "array([213, 324, 242, 291,  30, 105])"
      ]
     },
     "execution_count": 25,
     "metadata": {},
     "output_type": "execute_result"
    }
   ],
   "source": [
    "bbox_combined"
   ]
  },
  {
   "cell_type": "code",
   "execution_count": 26,
   "id": "5d1f41e5",
   "metadata": {},
   "outputs": [
    {
     "data": {
      "text/plain": [
       "(30, 123)"
      ]
     },
     "execution_count": 26,
     "metadata": {},
     "output_type": "execute_result"
    }
   ],
   "source": [
    "bbox_combined[4], bbox_plaque[5]"
   ]
  },
  {
   "cell_type": "code",
   "execution_count": 27,
   "id": "3f685fef",
   "metadata": {},
   "outputs": [],
   "source": [
    "minimum = min(bbox_combined[4],bbox_plaque[4])\n",
    "maximum = max(bbox_combined[5],bbox_plaque[5])"
   ]
  },
  {
   "cell_type": "code",
   "execution_count": 28,
   "id": "3bc428d8",
   "metadata": {},
   "outputs": [
    {
     "data": {
      "text/plain": [
       "(30, 123)"
      ]
     },
     "execution_count": 28,
     "metadata": {},
     "output_type": "execute_result"
    }
   ],
   "source": [
    "minimum, maximum"
   ]
  },
  {
   "cell_type": "code",
   "execution_count": 30,
   "id": "1141866e",
   "metadata": {
    "scrolled": true
   },
   "outputs": [],
   "source": [
    "images=[]\n",
    "\n",
    "for i in range(combined.shape[2]):\n",
    "    img = combined[:, :, i]\n",
    "    T_otsu = threshold_otsu(img)\n",
    "    img = img > T_otsu\n",
    "    es = np.ones((50, 50), bool)\n",
    "    dilate_img = mh.morph.dilate(img,es)\n",
    "    bbox = mh.bbox(dilate_img)\n",
    "    #print(i, bbox)\n",
    "    \n",
    "    if i >= minimum and i <= maximum+1:\n",
    "        if np.all(bbox == 0):\n",
    "            bbox = [min(bbox_combined[0],bbox_plaque[0]),\n",
    "                    max(bbox_combined[1],bbox_plaque[1]),\n",
    "                    min(bbox_combined[2],bbox_plaque[2]),\n",
    "                    max(bbox_combined[3],bbox_plaque[3])]\n",
    "            dilate_img[bbox[0]:bbox[1], bbox[2]:bbox[3]] = 1\n",
    "        \n",
    "    #print(i, bbox)\n",
    "    images.append(dilate_img)\n"
   ]
  },
  {
   "cell_type": "code",
   "execution_count": 31,
   "id": "6c38b9ad",
   "metadata": {},
   "outputs": [
    {
     "data": {
      "text/plain": [
       "268"
      ]
     },
     "execution_count": 31,
     "metadata": {},
     "output_type": "execute_result"
    }
   ],
   "source": [
    "len(images)"
   ]
  },
  {
   "cell_type": "code",
   "execution_count": null,
   "id": "7b7713a9",
   "metadata": {},
   "outputs": [],
   "source": [
    "#for i in range(len(images)):\n",
    "#    plt.imshow(images[i])\n",
    "#    plt.show()"
   ]
  },
  {
   "cell_type": "code",
   "execution_count": null,
   "id": "7846b4ca",
   "metadata": {},
   "outputs": [],
   "source": []
  },
  {
   "cell_type": "code",
   "execution_count": 32,
   "id": "f2f9e18c",
   "metadata": {},
   "outputs": [],
   "source": [
    "binary_mask=[]\n",
    "for i in range(len(images)):\n",
    "    binary = (images[i] > 0).astype(np.uint8) * 255\n",
    "    binary_mask.append(binary)"
   ]
  },
  {
   "cell_type": "code",
   "execution_count": null,
   "id": "a4a8bb79",
   "metadata": {},
   "outputs": [],
   "source": []
  },
  {
   "cell_type": "code",
   "execution_count": null,
   "id": "a86eeee8",
   "metadata": {},
   "outputs": [],
   "source": []
  },
  {
   "cell_type": "code",
   "execution_count": 33,
   "id": "22872c33",
   "metadata": {},
   "outputs": [],
   "source": [
    "image, header = nrrd.read(DATAPATH + \"/\" + X_train[15])"
   ]
  },
  {
   "cell_type": "code",
   "execution_count": 34,
   "id": "60e93a91",
   "metadata": {},
   "outputs": [],
   "source": [
    "label, header = nrrd.read(DATAPATH + \"/\" + y_train[15])"
   ]
  },
  {
   "cell_type": "code",
   "execution_count": 35,
   "id": "836c2f6e",
   "metadata": {},
   "outputs": [],
   "source": [
    "image_patient=[]\n",
    "for i in range(image.shape[2]):\n",
    "    img = image[:,:,i]\n",
    "    image_patient.append(img)"
   ]
  },
  {
   "cell_type": "code",
   "execution_count": 36,
   "id": "37a2c892",
   "metadata": {},
   "outputs": [],
   "source": [
    "results=[]\n",
    "for i in range(len(image_patient)):\n",
    "    result = image_patient[i] * binary_mask[i]\n",
    "    results.append(result)"
   ]
  },
  {
   "cell_type": "code",
   "execution_count": 37,
   "id": "3a883be7",
   "metadata": {},
   "outputs": [
    {
     "data": {
      "image/png": "[encoded data removed]",
      "text/plain": [
       "<Figure size 432x288 with 1 Axes>"
      ]
     },
     "metadata": {
      "needs_background": "light"
     },
     "output_type": "display_data"
    }
   ],
   "source": [
    "plt.imshow(results[115])\n",
    "plt.imshow(label[:,:,115], cmap='gray', alpha=0.5)\n",
    "plt.show()"
   ]
  },
  {
   "cell_type": "code",
   "execution_count": 1,
   "id": "d2c740d3",
   "metadata": {},
   "outputs": [],
   "source": [
    "#for i in range(image.shape[2]):\n",
    "#    plt.imshow(results[i])\n",
    "#    plt.imshow(label[:,:,i], cmap='gray', alpha=0.5)\n",
    "#    plt.show()"
   ]
  },
  {
   "cell_type": "code",
   "execution_count": null,
   "id": "1264f652",
   "metadata": {},
   "outputs": [],
   "source": []
  },
  {
   "cell_type": "code",
   "execution_count": null,
   "id": "615f5d85",
   "metadata": {},
   "outputs": [],
   "source": []
  },
  {
   "cell_type": "code",
   "execution_count": null,
   "id": "c3964c8f",
   "metadata": {},
   "outputs": [],
   "source": []
  },
  {
   "cell_type": "code",
   "execution_count": null,
   "id": "cfd0ffa1",
   "metadata": {},
   "outputs": [],
   "source": []
  },
  {
   "cell_type": "code",
   "execution_count": null,
   "id": "789505c7",
   "metadata": {},
   "outputs": [],
   "source": []
  },
  {
   "cell_type": "code",
   "execution_count": null,
   "id": "f93f3f5f",
   "metadata": {},
   "outputs": [],
   "source": []
  },
  {
   "cell_type": "code",
   "execution_count": null,
   "id": "52e9ebbc",
   "metadata": {},
   "outputs": [],
   "source": []
  },
  {
   "cell_type": "code",
   "execution_count": null,
   "id": "f0bb0751",
   "metadata": {},
   "outputs": [],
   "source": []
  },
  {
   "cell_type": "code",
   "execution_count": null,
   "id": "3c0cc618",
   "metadata": {},
   "outputs": [],
   "source": []
  },
  {
   "cell_type": "code",
   "execution_count": null,
   "id": "72a9c630",
   "metadata": {},
   "outputs": [],
   "source": []
  }
 ],
 "metadata": {
  "kernelspec": {
   "display_name": "Python 3 (ipykernel)",
   "language": "python",
   "name": "python3"
  },
  "language_info": {
   "codemirror_mode": {
    "name": "ipython",
    "version": 3
   },
   "file_extension": ".py",
   "mimetype": "text/x-python",
   "name": "python",
   "nbconvert_exporter": "python",
   "pygments_lexer": "ipython3",
   "version": "3.9.7"
  }
 },
 "nbformat": 4,
 "nbformat_minor": 5
}
