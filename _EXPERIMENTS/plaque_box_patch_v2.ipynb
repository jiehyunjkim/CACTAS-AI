{
 "cells": [
  {
   "cell_type": "code",
   "execution_count": 1,
   "id": "5eebebed",
   "metadata": {},
   "outputs": [
    {
     "name": "stdout",
     "output_type": "stream",
     "text": [
      "Populating the interactive namespace from numpy and matplotlib\n"
     ]
    }
   ],
   "source": [
    "%pylab inline\n",
    "%load_ext autoreload\n",
    "%autoreload 2"
   ]
  },
  {
   "cell_type": "code",
   "execution_count": 2,
   "id": "1db43f95",
   "metadata": {},
   "outputs": [],
   "source": [
    "import cactas as C\n",
    "import os\n",
    "import mahotas as mh\n",
    "import nibabel as nib\n",
    "import nrrd\n",
    "import skimage.morphology\n",
    "import cv2"
   ]
  },
  {
   "cell_type": "code",
   "execution_count": 3,
   "id": "ca9de1bc",
   "metadata": {},
   "outputs": [],
   "source": [
    "DATAPATH='/raid/mpsych/CACTAS/DATA/ESUS'"
   ]
  },
  {
   "cell_type": "code",
   "execution_count": 4,
   "id": "c2588b51",
   "metadata": {},
   "outputs": [],
   "source": [
    "images, labels = C.Helper.load_data(DATAPATH)"
   ]
  },
  {
   "cell_type": "code",
   "execution_count": 5,
   "id": "7088d2a3",
   "metadata": {},
   "outputs": [],
   "source": [
    "X_train, y_train, X_test, y_test = C.Helper.split_patients(images, labels)"
   ]
  },
  {
   "cell_type": "code",
   "execution_count": 7,
   "id": "e8cc7744",
   "metadata": {},
   "outputs": [
    {
     "data": {
      "text/plain": [
       "'62.img.nrrd'"
      ]
     },
     "execution_count": 7,
     "metadata": {},
     "output_type": "execute_result"
    }
   ],
   "source": [
    "X_train[2]"
   ]
  },
  {
   "cell_type": "code",
   "execution_count": null,
   "id": "9986bbce",
   "metadata": {},
   "outputs": [],
   "source": []
  },
  {
   "cell_type": "code",
   "execution_count": 8,
   "id": "fbccd2f9",
   "metadata": {},
   "outputs": [],
   "source": [
    "TS_PATH='TS'"
   ]
  },
  {
   "cell_type": "code",
   "execution_count": 9,
   "id": "8cae8f83",
   "metadata": {},
   "outputs": [],
   "source": [
    "segment_62_l = TS_PATH + \"/62/common_carotid_artery_left.nii.gz\"\n",
    "segment_62_r = TS_PATH + \"/62/common_carotid_artery_right.nii.gz\"\n",
    "img_62_l = nib.load(segment_62_l)\n",
    "img_62_r = nib.load(segment_62_r)\n",
    "data_62_l = img_62_l.get_fdata()\n",
    "data_62_r = img_62_r.get_fdata()"
   ]
  },
  {
   "cell_type": "code",
   "execution_count": 10,
   "id": "36023a32",
   "metadata": {},
   "outputs": [],
   "source": [
    "combined = data_62_l + data_62_r"
   ]
  },
  {
   "cell_type": "code",
   "execution_count": 11,
   "id": "4c76c786",
   "metadata": {},
   "outputs": [
    {
     "data": {
      "image/png": "[encoded data removed]",
      "text/plain": [
       "<Figure size 432x288 with 1 Axes>"
      ]
     },
     "metadata": {
      "needs_background": "light"
     },
     "output_type": "display_data"
    }
   ],
   "source": [
    "plt.imshow(combined[:,:,54])\n",
    "plt.show()"
   ]
  },
  {
   "cell_type": "code",
   "execution_count": 12,
   "id": "fd115e6d",
   "metadata": {},
   "outputs": [
    {
     "data": {
      "image/png": "[encoded data removed]",
      "text/plain": [
       "<Figure size 432x288 with 1 Axes>"
      ]
     },
     "metadata": {
      "needs_background": "light"
     },
     "output_type": "display_data"
    }
   ],
   "source": [
    "plt.imshow(data_62_l[:,:,54])\n",
    "plt.show()"
   ]
  },
  {
   "cell_type": "code",
   "execution_count": 13,
   "id": "ee6a312b",
   "metadata": {},
   "outputs": [
    {
     "data": {
      "image/png": "[encoded data removed]",
      "text/plain": [
       "<Figure size 432x288 with 1 Axes>"
      ]
     },
     "metadata": {
      "needs_background": "light"
     },
     "output_type": "display_data"
    }
   ],
   "source": [
    "plt.imshow(data_62_r[:,:,54])\n",
    "plt.show()"
   ]
  },
  {
   "cell_type": "code",
   "execution_count": 14,
   "id": "4f8acf54",
   "metadata": {},
   "outputs": [
    {
     "data": {
      "text/plain": [
       "(512, 512, 268)"
      ]
     },
     "execution_count": 14,
     "metadata": {},
     "output_type": "execute_result"
    }
   ],
   "source": [
    "combined.shape"
   ]
  },
  {
   "cell_type": "code",
   "execution_count": 15,
   "id": "761c0277",
   "metadata": {},
   "outputs": [],
   "source": [
    "from skimage.filters import threshold_otsu"
   ]
  },
  {
   "cell_type": "code",
   "execution_count": 16,
   "id": "1c937703",
   "metadata": {},
   "outputs": [
    {
     "name": "stdout",
     "output_type": "stream",
     "text": [
      "[208 339 234 306]\n"
     ]
    }
   ],
   "source": [
    "# setting filter to the image\n",
    "img = combined[:, :, 54]\n",
    "# otsu method\n",
    "T_otsu = threshold_otsu(img)\n",
    "  \n",
    "# image values should be greater than otsu value\n",
    "img = img > T_otsu\n",
    "\n",
    "es = np.ones((50, 50), bool)\n",
    "\n",
    "\n",
    "# dilating image\n",
    "dilate_img = mh.morph.dilate(img,es)\n",
    "bbox = mh.bbox(dilate_img)\n",
    "print(bbox)"
   ]
  },
  {
   "cell_type": "code",
   "execution_count": 17,
   "id": "a0482f61",
   "metadata": {},
   "outputs": [
    {
     "data": {
      "image/png": "[encoded data removed]",
      "text/plain": [
       "<Figure size 432x288 with 1 Axes>"
      ]
     },
     "metadata": {
      "needs_background": "light"
     },
     "output_type": "display_data"
    }
   ],
   "source": [
    "plt.imshow(img)\n",
    "plt.show()"
   ]
  },
  {
   "cell_type": "code",
   "execution_count": 18,
   "id": "214c6aa5",
   "metadata": {},
   "outputs": [
    {
     "data": {
      "image/png": "[encoded data removed]",
      "text/plain": [
       "<Figure size 432x288 with 1 Axes>"
      ]
     },
     "metadata": {
      "needs_background": "light"
     },
     "output_type": "display_data"
    }
   ],
   "source": [
    "plt.imshow(dilate_img)\n",
    "plt.show()"
   ]
  },
  {
   "cell_type": "code",
   "execution_count": null,
   "id": "d460b253",
   "metadata": {},
   "outputs": [],
   "source": []
  },
  {
   "cell_type": "code",
   "execution_count": 19,
   "id": "e1743952",
   "metadata": {},
   "outputs": [],
   "source": [
    "images=[]\n",
    "for i in range(combined.shape[2]):\n",
    "    # setting filter to the image\n",
    "    img = combined[:, :, i]\n",
    "    # otsu method\n",
    "    T_otsu = threshold_otsu(img)\n",
    "    # image values should be greater than otsu value\n",
    "    img = img > T_otsu\n",
    "    es = np.ones((50, 50), bool)\n",
    "    # dilating image\n",
    "    dilate_img = mh.morph.dilate(img,es)\n",
    "    images.append(dilate_img)"
   ]
  },
  {
   "cell_type": "code",
   "execution_count": 20,
   "id": "fe9a8967",
   "metadata": {},
   "outputs": [],
   "source": [
    "#for i in range(len(images)):\n",
    "#    plt.imshow(images[i])\n",
    "#    plt.show()"
   ]
  },
  {
   "cell_type": "code",
   "execution_count": 21,
   "id": "5c017bbc",
   "metadata": {},
   "outputs": [],
   "source": [
    "label, header = nrrd.read(DATAPATH + \"/\" + y_train[2])"
   ]
  },
  {
   "cell_type": "code",
   "execution_count": 22,
   "id": "1a7ed454",
   "metadata": {},
   "outputs": [],
   "source": [
    "bbox_plaque = mh.bbox(label)"
   ]
  },
  {
   "cell_type": "code",
   "execution_count": 23,
   "id": "c5d811cc",
   "metadata": {},
   "outputs": [
    {
     "data": {
      "text/plain": [
       "array([221, 345, 233, 251, 109, 123])"
      ]
     },
     "execution_count": 23,
     "metadata": {},
     "output_type": "execute_result"
    }
   ],
   "source": [
    "bbox_plaque"
   ]
  },
  {
   "cell_type": "code",
   "execution_count": 24,
   "id": "d411d378",
   "metadata": {},
   "outputs": [],
   "source": [
    "bbox_combined = mh.bbox(combined)"
   ]
  },
  {
   "cell_type": "code",
   "execution_count": 25,
   "id": "29d633ff",
   "metadata": {},
   "outputs": [
    {
     "data": {
      "text/plain": [
       "array([213, 324, 242, 291,  30, 105])"
      ]
     },
     "execution_count": 25,
     "metadata": {},
     "output_type": "execute_result"
    }
   ],
   "source": [
    "bbox_combined"
   ]
  },
  {
   "cell_type": "code",
   "execution_count": 26,
   "id": "db781e22",
   "metadata": {},
   "outputs": [
    {
     "data": {
      "text/plain": [
       "(30, 123)"
      ]
     },
     "execution_count": 26,
     "metadata": {},
     "output_type": "execute_result"
    }
   ],
   "source": [
    "bbox_combined[4], bbox_plaque[5]"
   ]
  },
  {
   "cell_type": "code",
   "execution_count": null,
   "id": "0addbdfd",
   "metadata": {},
   "outputs": [],
   "source": []
  },
  {
   "cell_type": "code",
   "execution_count": 27,
   "id": "1141866e",
   "metadata": {
    "scrolled": true
   },
   "outputs": [
    {
     "name": "stdout",
     "output_type": "stream",
     "text": [
      "30 [248 301 248 301]\n",
      "31 [241 306 243 306]\n",
      "32 [241 306 243 308]\n",
      "33 [243 308 243 308]\n",
      "34 [246 310 246 308]\n",
      "35 [248 312 246 308]\n",
      "36 [248 312 248 310]\n",
      "37 [250 315 248 310]\n",
      "38 [252 317 250 312]\n",
      "39 [255 319 250 312]\n",
      "40 [257 321 252 315]\n",
      "41 [259 324 252 315]\n",
      "42 [261 326 252 315]\n",
      "43 [263 328 254 315]\n",
      "44 [266 330 254 315]\n",
      "45 [268 330 252 315]\n",
      "46 [270 333 252 315]\n",
      "47 [270 333 252 312]\n",
      "48 [272 335 252 312]\n",
      "49 [275 335 252 310]\n",
      "50 [275 335 250 310]\n",
      "51 [212 337 239 310]\n",
      "52 [210 337 239 308]\n",
      "53 [210 339 237 308]\n",
      "54 [208 339 234 306]\n",
      "55 [206 339 232 306]\n",
      "56 [201 339 232 303]\n",
      "57 [199 341 230 303]\n",
      "58 [197 341 228 301]\n",
      "59 [197 344 228 299]\n",
      "60 [194 344 228 299]\n",
      "61 [192 344 228 297]\n",
      "62 [190 346 226 297]\n",
      "63 [190 346 226 297]\n",
      "64 [190 346 226 295]\n",
      "65 [188 346 226 295]\n",
      "66 [188 348 226 295]\n",
      "67 [188 348 226 292]\n",
      "68 [188 348 228 292]\n",
      "69 [188 348 228 292]\n",
      "70 [188 348 228 292]\n",
      "71 [292 348 234 292]\n",
      "72 [295 346 237 290]\n",
      "73 [213, 324, 242, 291]\n",
      "74 [213, 324, 242, 291]\n",
      "75 [213, 324, 242, 291]\n",
      "76 [213, 324, 242, 291]\n",
      "77 [213, 324, 242, 291]\n",
      "78 [213, 324, 242, 291]\n",
      "79 [213, 324, 242, 291]\n",
      "80 [213, 324, 242, 291]\n",
      "81 [213, 324, 242, 291]\n",
      "82 [213, 324, 242, 291]\n",
      "83 [213, 324, 242, 291]\n",
      "84 [213, 324, 242, 291]\n",
      "85 [213, 324, 242, 291]\n",
      "86 [197 248 234 286]\n",
      "87 [194 250 232 288]\n",
      "88 [192 250 230 288]\n",
      "89 [194 252 230 288]\n",
      "90 [194 252 230 288]\n",
      "91 [194 255 228 288]\n",
      "92 [194 255 228 288]\n",
      "93 [197 255 228 288]\n",
      "94 [197 257 226 286]\n",
      "95 [197 257 226 286]\n",
      "96 [197 259 223 286]\n",
      "97 [199 259 223 283]\n",
      "98 [199 259 221 283]\n",
      "99 [199 259 221 283]\n",
      "100 [199 259 219 281]\n",
      "101 [199 259 219 281]\n",
      "102 [199 259 217 279]\n",
      "103 [199 259 217 277]\n",
      "104 [201 255 221 275]\n",
      "105 [213, 324, 242, 291]\n",
      "106 [213, 324, 242, 291]\n",
      "107 [213, 324, 242, 291]\n",
      "108 [213, 324, 242, 291]\n",
      "109 [213, 324, 242, 291]\n",
      "110 [213, 324, 242, 291]\n",
      "111 [213, 324, 242, 291]\n",
      "112 [213, 324, 242, 291]\n",
      "113 [213, 324, 242, 291]\n",
      "114 [213, 324, 242, 291]\n",
      "115 [213, 324, 242, 291]\n",
      "116 [213, 324, 242, 291]\n",
      "117 [213, 324, 242, 291]\n",
      "118 [213, 324, 242, 291]\n",
      "119 [213, 324, 242, 291]\n",
      "120 [213, 324, 242, 291]\n",
      "121 [213, 324, 242, 291]\n",
      "122 [213, 324, 242, 291]\n",
      "123 [213, 324, 242, 291]\n"
     ]
    }
   ],
   "source": [
    "images=[]\n",
    "\n",
    "for i in range(bbox_combined[4],bbox_plaque[5]+1):\n",
    "    img = combined[:, :, i]\n",
    "    T_otsu = threshold_otsu(img)\n",
    "    img = img > T_otsu\n",
    "    es = np.ones((50, 50), bool)\n",
    "    dilate_img = mh.morph.dilate(img,es)\n",
    "    bbox = mh.bbox(dilate_img)\n",
    "    #print(i, bbox)\n",
    "    \n",
    "    if np.all(bbox == 0):\n",
    "        bbox = [bbox_combined[0],bbox_combined[1],bbox_combined[2],bbox_combined[3]]\n",
    "        dilate_img[bbox[0]:bbox[1], bbox[2]:bbox[3]] = 1\n",
    "        \n",
    "    print(i, bbox)\n",
    "    images.append(dilate_img)\n"
   ]
  },
  {
   "cell_type": "code",
   "execution_count": 28,
   "id": "0237a3e5",
   "metadata": {},
   "outputs": [
    {
     "data": {
      "text/plain": [
       "94"
      ]
     },
     "execution_count": 28,
     "metadata": {},
     "output_type": "execute_result"
    }
   ],
   "source": [
    "len(images)"
   ]
  },
  {
   "cell_type": "code",
   "execution_count": 29,
   "id": "d59082ea",
   "metadata": {},
   "outputs": [
    {
     "data": {
      "image/png": "[encoded data removed]",
      "text/plain": [
       "<Figure size 432x288 with 1 Axes>"
      ]
     },
     "metadata": {
      "needs_background": "light"
     },
     "output_type": "display_data"
    }
   ],
   "source": [
    "plt.imshow(images[43])\n",
    "plt.show()"
   ]
  },
  {
   "cell_type": "code",
   "execution_count": 30,
   "id": "1bc57caf",
   "metadata": {},
   "outputs": [],
   "source": [
    "#for i in range(len(images)):\n",
    "#    plt.imshow(images[i])\n",
    "#    plt.show()"
   ]
  },
  {
   "cell_type": "code",
   "execution_count": null,
   "id": "255281cf",
   "metadata": {},
   "outputs": [],
   "source": []
  },
  {
   "cell_type": "code",
   "execution_count": null,
   "id": "39a9f11f",
   "metadata": {},
   "outputs": [],
   "source": []
  },
  {
   "cell_type": "code",
   "execution_count": null,
   "id": "76efde22",
   "metadata": {},
   "outputs": [],
   "source": []
  },
  {
   "cell_type": "code",
   "execution_count": null,
   "id": "b498fe96",
   "metadata": {},
   "outputs": [],
   "source": []
  },
  {
   "cell_type": "code",
   "execution_count": null,
   "id": "405025e6",
   "metadata": {},
   "outputs": [],
   "source": []
  },
  {
   "cell_type": "code",
   "execution_count": null,
   "id": "7ae2c39a",
   "metadata": {},
   "outputs": [],
   "source": []
  },
  {
   "cell_type": "code",
   "execution_count": null,
   "id": "87d4869f",
   "metadata": {},
   "outputs": [],
   "source": []
  },
  {
   "cell_type": "code",
   "execution_count": null,
   "id": "bc9e376b",
   "metadata": {},
   "outputs": [],
   "source": []
  },
  {
   "cell_type": "code",
   "execution_count": null,
   "id": "97355c98",
   "metadata": {},
   "outputs": [],
   "source": []
  },
  {
   "cell_type": "code",
   "execution_count": null,
   "id": "d0fcda57",
   "metadata": {},
   "outputs": [],
   "source": []
  },
  {
   "cell_type": "code",
   "execution_count": null,
   "id": "e5016c42",
   "metadata": {},
   "outputs": [],
   "source": []
  },
  {
   "cell_type": "code",
   "execution_count": null,
   "id": "6f8a0f20",
   "metadata": {},
   "outputs": [],
   "source": []
  },
  {
   "cell_type": "code",
   "execution_count": null,
   "id": "5665875b",
   "metadata": {},
   "outputs": [],
   "source": []
  },
  {
   "cell_type": "code",
   "execution_count": null,
   "id": "f44a85be",
   "metadata": {},
   "outputs": [],
   "source": []
  },
  {
   "cell_type": "code",
   "execution_count": null,
   "id": "287937ba",
   "metadata": {},
   "outputs": [],
   "source": []
  },
  {
   "cell_type": "code",
   "execution_count": null,
   "id": "c1a76752",
   "metadata": {},
   "outputs": [],
   "source": []
  },
  {
   "cell_type": "code",
   "execution_count": null,
   "id": "84af32e4",
   "metadata": {},
   "outputs": [],
   "source": []
  },
  {
   "cell_type": "code",
   "execution_count": null,
   "id": "ad464d68",
   "metadata": {},
   "outputs": [],
   "source": []
  },
  {
   "cell_type": "code",
   "execution_count": null,
   "id": "882076f8",
   "metadata": {},
   "outputs": [],
   "source": []
  },
  {
   "cell_type": "code",
   "execution_count": null,
   "id": "27c1cb18",
   "metadata": {},
   "outputs": [],
   "source": []
  },
  {
   "cell_type": "code",
   "execution_count": null,
   "id": "789505c7",
   "metadata": {},
   "outputs": [],
   "source": []
  },
  {
   "cell_type": "code",
   "execution_count": null,
   "id": "f93f3f5f",
   "metadata": {},
   "outputs": [],
   "source": []
  },
  {
   "cell_type": "code",
   "execution_count": null,
   "id": "52e9ebbc",
   "metadata": {},
   "outputs": [],
   "source": []
  },
  {
   "cell_type": "code",
   "execution_count": null,
   "id": "f0bb0751",
   "metadata": {},
   "outputs": [],
   "source": []
  },
  {
   "cell_type": "code",
   "execution_count": null,
   "id": "3c0cc618",
   "metadata": {},
   "outputs": [],
   "source": []
  },
  {
   "cell_type": "code",
   "execution_count": null,
   "id": "72a9c630",
   "metadata": {},
   "outputs": [],
   "source": []
  }
 ],
 "metadata": {
  "kernelspec": {
   "display_name": "Python 3 (ipykernel)",
   "language": "python",
   "name": "python3"
  },
  "language_info": {
   "codemirror_mode": {
    "name": "ipython",
    "version": 3
   },
   "file_extension": ".py",
   "mimetype": "text/x-python",
   "name": "python",
   "nbconvert_exporter": "python",
   "pygments_lexer": "ipython3",
   "version": "3.9.7"
  }
 },
 "nbformat": 4,
 "nbformat_minor": 5
}
