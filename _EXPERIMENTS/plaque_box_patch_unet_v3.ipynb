{
 "cells": [
  {
   "cell_type": "code",
   "execution_count": 1,
   "id": "5eebebed",
   "metadata": {},
   "outputs": [
    {
     "name": "stdout",
     "output_type": "stream",
     "text": [
      "Populating the interactive namespace from numpy and matplotlib\n"
     ]
    }
   ],
   "source": [
    "%pylab inline\n",
    "%load_ext autoreload\n",
    "%autoreload 2"
   ]
  },
  {
   "cell_type": "code",
   "execution_count": 2,
   "id": "1db43f95",
   "metadata": {},
   "outputs": [],
   "source": [
    "import cactas as C\n",
    "import os\n",
    "import mahotas as mh\n",
    "import nibabel as nib\n",
    "import nrrd\n",
    "import skimage.morphology\n",
    "import cv2\n",
    "from skimage.filters import threshold_otsu"
   ]
  },
  {
   "cell_type": "code",
   "execution_count": 3,
   "id": "3a25db15",
   "metadata": {
    "scrolled": true
   },
   "outputs": [
    {
     "name": "stderr",
     "output_type": "stream",
     "text": [
      "2024-05-04 17:00:26.254016: I tensorflow/stream_executor/platform/default/dso_loader.cc:53] Successfully opened dynamic library libcudart.so.11.0\n"
     ]
    },
    {
     "name": "stdout",
     "output_type": "stream",
     "text": [
      "WARNING:tensorflow:From /tmp/ipykernel_2991924/392601943.py:2: is_gpu_available (from tensorflow.python.framework.test_util) is deprecated and will be removed in a future version.\n",
      "Instructions for updating:\n",
      "Use `tf.config.list_physical_devices('GPU')` instead.\n"
     ]
    },
    {
     "name": "stderr",
     "output_type": "stream",
     "text": [
      "2024-05-04 17:00:28.723677: I tensorflow/core/platform/cpu_feature_guard.cc:142] This TensorFlow binary is optimized with oneAPI Deep Neural Network Library (oneDNN) to use the following CPU instructions in performance-critical operations:  AVX2 FMA\n",
      "To enable them in other operations, rebuild TensorFlow with the appropriate compiler flags.\n",
      "2024-05-04 17:00:28.725830: I tensorflow/stream_executor/platform/default/dso_loader.cc:53] Successfully opened dynamic library libcuda.so.1\n",
      "2024-05-04 17:00:29.020480: I tensorflow/core/common_runtime/gpu/gpu_device.cc:1733] Found device 0 with properties: \n",
      "pciBusID: 0000:0f:00.0 name: A100-SXM4-40GB computeCapability: 8.0\n",
      "coreClock: 1.41GHz coreCount: 108 deviceMemorySize: 39.59GiB deviceMemoryBandwidth: 1.41TiB/s\n",
      "2024-05-04 17:00:29.023030: I tensorflow/core/common_runtime/gpu/gpu_device.cc:1733] Found device 1 with properties: \n",
      "pciBusID: 0000:47:00.0 name: A100-SXM4-40GB computeCapability: 8.0\n",
      "coreClock: 1.41GHz coreCount: 108 deviceMemorySize: 39.59GiB deviceMemoryBandwidth: 1.41TiB/s\n",
      "2024-05-04 17:00:29.023088: I tensorflow/stream_executor/platform/default/dso_loader.cc:53] Successfully opened dynamic library libcudart.so.11.0\n",
      "2024-05-04 17:00:29.041216: I tensorflow/stream_executor/platform/default/dso_loader.cc:53] Successfully opened dynamic library libcublas.so.11\n",
      "2024-05-04 17:00:29.041498: I tensorflow/stream_executor/platform/default/dso_loader.cc:53] Successfully opened dynamic library libcublasLt.so.11\n",
      "2024-05-04 17:00:29.048256: I tensorflow/stream_executor/platform/default/dso_loader.cc:53] Successfully opened dynamic library libcufft.so.10\n",
      "2024-05-04 17:00:29.051010: I tensorflow/stream_executor/platform/default/dso_loader.cc:53] Successfully opened dynamic library libcurand.so.10\n",
      "2024-05-04 17:00:29.053491: I tensorflow/stream_executor/platform/default/dso_loader.cc:53] Successfully opened dynamic library libcusolver.so.11\n",
      "2024-05-04 17:00:29.057513: I tensorflow/stream_executor/platform/default/dso_loader.cc:53] Successfully opened dynamic library libcusparse.so.11\n",
      "2024-05-04 17:00:29.058642: I tensorflow/stream_executor/platform/default/dso_loader.cc:53] Successfully opened dynamic library libcudnn.so.8\n",
      "2024-05-04 17:00:29.066293: I tensorflow/core/common_runtime/gpu/gpu_device.cc:1871] Adding visible gpu devices: 0, 1\n",
      "2024-05-04 17:00:29.066535: I tensorflow/stream_executor/platform/default/dso_loader.cc:53] Successfully opened dynamic library libcudart.so.11.0\n",
      "2024-05-04 17:00:30.170001: I tensorflow/core/common_runtime/gpu/gpu_device.cc:1258] Device interconnect StreamExecutor with strength 1 edge matrix:\n",
      "2024-05-04 17:00:30.170057: I tensorflow/core/common_runtime/gpu/gpu_device.cc:1264]      0 1 \n",
      "2024-05-04 17:00:30.170064: I tensorflow/core/common_runtime/gpu/gpu_device.cc:1277] 0:   N Y \n",
      "2024-05-04 17:00:30.170067: I tensorflow/core/common_runtime/gpu/gpu_device.cc:1277] 1:   Y N \n",
      "2024-05-04 17:00:30.186558: I tensorflow/core/common_runtime/gpu/gpu_device.cc:1418] Created TensorFlow device (/device:GPU:0 with 737 MB memory) -> physical GPU (device: 0, name: A100-SXM4-40GB, pci bus id: 0000:0f:00.0, compute capability: 8.0)\n",
      "2024-05-04 17:00:30.191935: I tensorflow/core/common_runtime/gpu/gpu_device.cc:1418] Created TensorFlow device (/device:GPU:1 with 37852 MB memory) -> physical GPU (device: 1, name: A100-SXM4-40GB, pci bus id: 0000:47:00.0, compute capability: 8.0)\n"
     ]
    },
    {
     "data": {
      "text/plain": [
       "True"
      ]
     },
     "execution_count": 3,
     "metadata": {},
     "output_type": "execute_result"
    }
   ],
   "source": [
    "import tensorflow as tf\n",
    "gpu_available = tf.test.is_gpu_available()\n",
    "gpu_available"
   ]
  },
  {
   "cell_type": "code",
   "execution_count": null,
   "id": "c7599e1d",
   "metadata": {},
   "outputs": [],
   "source": []
  },
  {
   "cell_type": "code",
   "execution_count": 4,
   "id": "ca9de1bc",
   "metadata": {},
   "outputs": [],
   "source": [
    "DATAPATH='/raid/mpsych/CACTAS/DATA/ESUS'\n",
    "CAPATH='/raid/mpsych/CACTAS/DATA/CA24'"
   ]
  },
  {
   "cell_type": "code",
   "execution_count": null,
   "id": "92be68f5",
   "metadata": {},
   "outputs": [],
   "source": []
  },
  {
   "cell_type": "code",
   "execution_count": 5,
   "id": "c2588b51",
   "metadata": {},
   "outputs": [],
   "source": [
    "images, labels = C.Helper.load_data(DATAPATH)"
   ]
  },
  {
   "cell_type": "code",
   "execution_count": 6,
   "id": "7881f480",
   "metadata": {},
   "outputs": [],
   "source": [
    "masks = C.Helper.load_seg_data(CAPATH)"
   ]
  },
  {
   "cell_type": "code",
   "execution_count": 7,
   "id": "7088d2a3",
   "metadata": {},
   "outputs": [],
   "source": [
    "X_train, y_train, m_train, X_test, y_test, m_test = C.Helper.split_patients_masks(images, labels, masks)"
   ]
  },
  {
   "cell_type": "code",
   "execution_count": 8,
   "id": "c81ee490",
   "metadata": {},
   "outputs": [],
   "source": [
    "X_train, y_train, m_train, X_test, y_test, m_test = C.Helper.normalization2(DATAPATH, CAPATH, X_train, y_train, m_train, X_test, y_test, m_test)"
   ]
  },
  {
   "cell_type": "code",
   "execution_count": 9,
   "id": "b2d8df93",
   "metadata": {},
   "outputs": [],
   "source": [
    "slice_to_patient_mapping, last_key = C.Helper.map_and_key_fulldata(y_train)"
   ]
  },
  {
   "cell_type": "code",
   "execution_count": 10,
   "id": "d00b1ce9",
   "metadata": {},
   "outputs": [
    {
     "name": "stdout",
     "output_type": "stream",
     "text": [
      "(13311, 512, 512, 1) (13311, 512, 512, 1) (3455, 512, 512, 1) (3455, 512, 512, 1)\n"
     ]
    }
   ],
   "source": [
    "X_train, y_train, X_test, y_test = C.Helper.extract_slices(X_train, y_train, X_test, y_test)"
   ]
  },
  {
   "cell_type": "code",
   "execution_count": 11,
   "id": "e80a5693",
   "metadata": {},
   "outputs": [
    {
     "name": "stdout",
     "output_type": "stream",
     "text": [
      "(13311, 512, 512, 1) (3455, 512, 512, 1)\n"
     ]
    }
   ],
   "source": [
    "m_train, m_test = C.Helper.extract_masks_slices(m_train, m_test)"
   ]
  },
  {
   "cell_type": "code",
   "execution_count": null,
   "id": "33f0604e",
   "metadata": {},
   "outputs": [],
   "source": []
  },
  {
   "cell_type": "code",
   "execution_count": 12,
   "id": "25293abb",
   "metadata": {},
   "outputs": [],
   "source": [
    "train_masks=[]\n",
    "for i in range(len(m_train)):\n",
    "    binary = (m_train[i] > 0).astype(np.uint8)\n",
    "    train_masks.append(binary)"
   ]
  },
  {
   "cell_type": "code",
   "execution_count": 13,
   "id": "58ac1d8b",
   "metadata": {},
   "outputs": [],
   "source": [
    "train_images=[]\n",
    "for i in range(len(X_train)):\n",
    "    train_image = X_train[i] * train_masks[i]\n",
    "    train_images.append(train_image)\n",
    "train_images_array = np.array(train_images)"
   ]
  },
  {
   "cell_type": "code",
   "execution_count": 14,
   "id": "967a5107",
   "metadata": {},
   "outputs": [],
   "source": [
    "#train_images_array = train_images_array.astype(np.float32)"
   ]
  },
  {
   "cell_type": "code",
   "execution_count": 15,
   "id": "ed8c03eb",
   "metadata": {},
   "outputs": [],
   "source": [
    "train_images_array = train_images_array.reshape(train_images_array.shape[0], train_images_array.shape[1],train_images_array.shape[2], 1)"
   ]
  },
  {
   "cell_type": "code",
   "execution_count": 16,
   "id": "f5913654",
   "metadata": {
    "scrolled": true
   },
   "outputs": [],
   "source": [
    "# for i in range(100, 200):\n",
    "#     plt.imshow(train_images[i])\n",
    "#     plt.show()"
   ]
  },
  {
   "cell_type": "code",
   "execution_count": 17,
   "id": "e07fd0ec",
   "metadata": {},
   "outputs": [],
   "source": [
    "# for i in range(100, 200):\n",
    "#     plt.imshow(train_images[i], vmin=np.min(train_images[i][train_images[i] > 0]), vmax=np.max(train_images[i]))\n",
    "#     plt.imshow(y_train[i], cmap='gray', alpha=0.5)\n",
    "#     plt.show()"
   ]
  },
  {
   "cell_type": "code",
   "execution_count": 18,
   "id": "726f7afc",
   "metadata": {},
   "outputs": [],
   "source": [
    "test_masks=[]\n",
    "for i in range(len(m_test)):\n",
    "    binary = (m_test[i] > 0).astype(np.uint8)\n",
    "    test_masks.append(binary)"
   ]
  },
  {
   "cell_type": "code",
   "execution_count": 19,
   "id": "cf53f579",
   "metadata": {},
   "outputs": [],
   "source": [
    "test_images=[]\n",
    "for i in range(len(X_test)):\n",
    "    test_image = X_test[i] * test_masks[i]\n",
    "    test_images.append(test_image)\n",
    "test_images_array = np.array(test_images)"
   ]
  },
  {
   "cell_type": "code",
   "execution_count": 20,
   "id": "20d1faad",
   "metadata": {},
   "outputs": [],
   "source": [
    "#test_images_array = test_images_array.astype(np.float32)"
   ]
  },
  {
   "cell_type": "code",
   "execution_count": 21,
   "id": "ad4a8430",
   "metadata": {},
   "outputs": [],
   "source": [
    "test_images_array = test_images_array.reshape(test_images_array.shape[0], test_images_array.shape[1],test_images_array.shape[2], 1)"
   ]
  },
  {
   "cell_type": "code",
   "execution_count": 22,
   "id": "7d9bea09",
   "metadata": {},
   "outputs": [],
   "source": [
    "X_train_set = train_images_array[:last_key]\n",
    "y_train_set = y_train[:last_key]\n",
    "X_val = train_images_array[last_key:]\n",
    "y_val = y_train[last_key:]"
   ]
  },
  {
   "cell_type": "code",
   "execution_count": null,
   "id": "0fdbf516",
   "metadata": {},
   "outputs": [],
   "source": [
    "y_train_set = y_train_set.astype(np.float64)"
   ]
  },
  {
   "cell_type": "code",
   "execution_count": null,
   "id": "9d083408",
   "metadata": {},
   "outputs": [],
   "source": [
    "y_val = y_val.astype(np.float64)"
   ]
  },
  {
   "cell_type": "code",
   "execution_count": null,
   "id": "898abf04",
   "metadata": {},
   "outputs": [],
   "source": []
  },
  {
   "cell_type": "code",
   "execution_count": null,
   "id": "a463d252",
   "metadata": {},
   "outputs": [],
   "source": [
    "X_train_set.dtype, y_train_set.dtype"
   ]
  },
  {
   "cell_type": "code",
   "execution_count": null,
   "id": "c0c6740f",
   "metadata": {},
   "outputs": [],
   "source": [
    "X_val.dtype, y_val.dtype"
   ]
  },
  {
   "cell_type": "code",
   "execution_count": null,
   "id": "07693326",
   "metadata": {},
   "outputs": [],
   "source": [
    "X_train[0].dtype, y_train[0].dtype"
   ]
  },
  {
   "cell_type": "code",
   "execution_count": null,
   "id": "cf7e1214",
   "metadata": {},
   "outputs": [],
   "source": [
    "X_train_set.shape, y_train_set.shape, X_val.shape, y_val.shape"
   ]
  },
  {
   "cell_type": "code",
   "execution_count": null,
   "id": "fd428e75",
   "metadata": {},
   "outputs": [],
   "source": [
    "X_train_set[0].shape"
   ]
  },
  {
   "cell_type": "code",
   "execution_count": null,
   "id": "21accf61",
   "metadata": {},
   "outputs": [],
   "source": []
  },
  {
   "cell_type": "code",
   "execution_count": null,
   "id": "f3d1d441",
   "metadata": {},
   "outputs": [],
   "source": []
  },
  {
   "cell_type": "code",
   "execution_count": null,
   "id": "48804378",
   "metadata": {},
   "outputs": [],
   "source": [
    "num_samples = len(X_train_set)\n",
    "num_channels = 1  # Adjust based on your combined image channels\n",
    "height, width = 512, 512\n",
    "dtype_size = np.float64(0).itemsize  # Change if using a different data type\n",
    "\n",
    "memory_per_image = height * width * num_channels * dtype_size\n",
    "total_memory = num_samples * memory_per_image\n",
    "print(f\"Estimated memory per image: {memory_per_image / 1e6} MB\")\n",
    "print(f\"Estimated total memory for training set: {total_memory / 1e9} GB\")"
   ]
  },
  {
   "cell_type": "code",
   "execution_count": null,
   "id": "0e74e191",
   "metadata": {},
   "outputs": [],
   "source": []
  },
  {
   "cell_type": "code",
   "execution_count": null,
   "id": "3c9b3ddc",
   "metadata": {},
   "outputs": [],
   "source": []
  },
  {
   "cell_type": "code",
   "execution_count": null,
   "id": "9bf22924",
   "metadata": {},
   "outputs": [],
   "source": [
    "#64\n",
    "#\n",
    "#"
   ]
  },
  {
   "cell_type": "code",
   "execution_count": null,
   "id": "4d2a0483",
   "metadata": {},
   "outputs": [],
   "source": [
    "#32 \n",
    "#Estimated memory per image: 1.048576 MB\n",
    "#Estimated total memory for training set: 11.423186944 GB"
   ]
  },
  {
   "cell_type": "code",
   "execution_count": null,
   "id": "9cc88128",
   "metadata": {},
   "outputs": [],
   "source": [
    "#16\n",
    "#Estimated memory per image: 0.524288 MB\n",
    "#Estimated total memory for training set: 5.618270208 GB"
   ]
  },
  {
   "cell_type": "code",
   "execution_count": null,
   "id": "d060128e",
   "metadata": {},
   "outputs": [],
   "source": []
  },
  {
   "cell_type": "code",
   "execution_count": null,
   "id": "9bc7e6bf",
   "metadata": {},
   "outputs": [],
   "source": []
  },
  {
   "cell_type": "code",
   "execution_count": null,
   "id": "f0043d7e",
   "metadata": {},
   "outputs": [],
   "source": []
  },
  {
   "cell_type": "code",
   "execution_count": null,
   "id": "668c2a0b",
   "metadata": {},
   "outputs": [],
   "source": []
  },
  {
   "cell_type": "code",
   "execution_count": null,
   "id": "4b2f0fdd",
   "metadata": {},
   "outputs": [],
   "source": []
  },
  {
   "cell_type": "code",
   "execution_count": null,
   "id": "0757c590",
   "metadata": {},
   "outputs": [],
   "source": []
  },
  {
   "cell_type": "code",
   "execution_count": null,
   "id": "fcba215c",
   "metadata": {},
   "outputs": [],
   "source": []
  },
  {
   "cell_type": "code",
   "execution_count": null,
   "id": "ccc5bc6e",
   "metadata": {},
   "outputs": [],
   "source": []
  },
  {
   "cell_type": "code",
   "execution_count": 33,
   "id": "c001a494",
   "metadata": {
    "scrolled": true
   },
   "outputs": [
    {
     "name": "stdout",
     "output_type": "stream",
     "text": [
      "-----------------------------------------\n",
      "keras-unet init: TF version is >= 2.0.0 - using `tf.keras` instead of `Keras`\n",
      "-----------------------------------------\n"
     ]
    },
    {
     "name": "stderr",
     "output_type": "stream",
     "text": [
      "2024-05-04 16:59:03.458163: I tensorflow/core/common_runtime/gpu/gpu_device.cc:1733] Found device 0 with properties: \n",
      "pciBusID: 0000:0f:00.0 name: A100-SXM4-40GB computeCapability: 8.0\n",
      "coreClock: 1.41GHz coreCount: 108 deviceMemorySize: 39.59GiB deviceMemoryBandwidth: 1.41TiB/s\n",
      "2024-05-04 16:59:03.460903: I tensorflow/core/common_runtime/gpu/gpu_device.cc:1733] Found device 1 with properties: \n",
      "pciBusID: 0000:47:00.0 name: A100-SXM4-40GB computeCapability: 8.0\n",
      "coreClock: 1.41GHz coreCount: 108 deviceMemorySize: 39.59GiB deviceMemoryBandwidth: 1.41TiB/s\n",
      "2024-05-04 16:59:03.469140: I tensorflow/core/common_runtime/gpu/gpu_device.cc:1871] Adding visible gpu devices: 0, 1\n",
      "2024-05-04 16:59:03.473082: I tensorflow/core/common_runtime/gpu/gpu_device.cc:1733] Found device 0 with properties: \n",
      "pciBusID: 0000:0f:00.0 name: A100-SXM4-40GB computeCapability: 8.0\n",
      "coreClock: 1.41GHz coreCount: 108 deviceMemorySize: 39.59GiB deviceMemoryBandwidth: 1.41TiB/s\n",
      "2024-05-04 16:59:03.476256: I tensorflow/core/common_runtime/gpu/gpu_device.cc:1733] Found device 1 with properties: \n",
      "pciBusID: 0000:47:00.0 name: A100-SXM4-40GB computeCapability: 8.0\n",
      "coreClock: 1.41GHz coreCount: 108 deviceMemorySize: 39.59GiB deviceMemoryBandwidth: 1.41TiB/s\n",
      "2024-05-04 16:59:03.484633: I tensorflow/core/common_runtime/gpu/gpu_device.cc:1871] Adding visible gpu devices: 0, 1\n",
      "2024-05-04 16:59:03.484756: I tensorflow/core/common_runtime/gpu/gpu_device.cc:1258] Device interconnect StreamExecutor with strength 1 edge matrix:\n",
      "2024-05-04 16:59:03.484763: I tensorflow/core/common_runtime/gpu/gpu_device.cc:1264]      0 1 \n",
      "2024-05-04 16:59:03.484768: I tensorflow/core/common_runtime/gpu/gpu_device.cc:1277] 0:   N Y \n",
      "2024-05-04 16:59:03.484772: I tensorflow/core/common_runtime/gpu/gpu_device.cc:1277] 1:   Y N \n",
      "2024-05-04 16:59:03.490276: I tensorflow/core/common_runtime/gpu/gpu_device.cc:1418] Created TensorFlow device (/job:localhost/replica:0/task:0/device:GPU:0 with 737 MB memory) -> physical GPU (device: 0, name: A100-SXM4-40GB, pci bus id: 0000:0f:00.0, compute capability: 8.0)\n",
      "2024-05-04 16:59:03.492698: I tensorflow/core/common_runtime/gpu/gpu_device.cc:1418] Created TensorFlow device (/job:localhost/replica:0/task:0/device:GPU:1 with 37852 MB memory) -> physical GPU (device: 1, name: A100-SXM4-40GB, pci bus id: 0000:47:00.0, compute capability: 8.0)\n"
     ]
    }
   ],
   "source": [
    "model = C.Helper.create_unet(X_train_set[0].shape)"
   ]
  },
  {
   "cell_type": "code",
   "execution_count": null,
   "id": "f889cdd0",
   "metadata": {},
   "outputs": [],
   "source": [
    "model, history = C.Helper.train_unet(X_train_set, y_train_set, X_val, y_val, model, epochs=200)"
   ]
  },
  {
   "cell_type": "code",
   "execution_count": null,
   "id": "7bc51703",
   "metadata": {},
   "outputs": [],
   "source": [
    "C.Helper.visualize_graph(history)"
   ]
  },
  {
   "cell_type": "code",
   "execution_count": null,
   "id": "298b7ada",
   "metadata": {},
   "outputs": [],
   "source": [
    "y_pred = C.Helper.prediction(test_images_array, model)"
   ]
  },
  {
   "cell_type": "code",
   "execution_count": null,
   "id": "3be1d903",
   "metadata": {},
   "outputs": [],
   "source": [
    "C.Helper.visualize_result(test_images_array, y_test, y_pred)"
   ]
  },
  {
   "cell_type": "code",
   "execution_count": null,
   "id": "e961fb01",
   "metadata": {},
   "outputs": [],
   "source": []
  },
  {
   "cell_type": "code",
   "execution_count": null,
   "id": "b9172abc",
   "metadata": {},
   "outputs": [],
   "source": []
  },
  {
   "cell_type": "code",
   "execution_count": null,
   "id": "f18f18a7",
   "metadata": {},
   "outputs": [],
   "source": []
  },
  {
   "cell_type": "code",
   "execution_count": null,
   "id": "9633f74e",
   "metadata": {},
   "outputs": [],
   "source": []
  },
  {
   "cell_type": "code",
   "execution_count": null,
   "id": "230dbf69",
   "metadata": {},
   "outputs": [],
   "source": []
  },
  {
   "cell_type": "code",
   "execution_count": null,
   "id": "91bf77f5",
   "metadata": {},
   "outputs": [],
   "source": []
  },
  {
   "cell_type": "code",
   "execution_count": null,
   "id": "5bf8aa51",
   "metadata": {},
   "outputs": [],
   "source": []
  },
  {
   "cell_type": "code",
   "execution_count": null,
   "id": "5e73cc60",
   "metadata": {},
   "outputs": [],
   "source": []
  },
  {
   "cell_type": "code",
   "execution_count": null,
   "id": "da3bb108",
   "metadata": {},
   "outputs": [],
   "source": []
  },
  {
   "cell_type": "code",
   "execution_count": null,
   "id": "2e3df05d",
   "metadata": {},
   "outputs": [],
   "source": []
  }
 ],
 "metadata": {
  "kernelspec": {
   "display_name": "Python 3 (ipykernel)",
   "language": "python",
   "name": "python3"
  },
  "language_info": {
   "codemirror_mode": {
    "name": "ipython",
    "version": 3
   },
   "file_extension": ".py",
   "mimetype": "text/x-python",
   "name": "python",
   "nbconvert_exporter": "python",
   "pygments_lexer": "ipython3",
   "version": "3.9.7"
  }
 },
 "nbformat": 4,
 "nbformat_minor": 5
}
