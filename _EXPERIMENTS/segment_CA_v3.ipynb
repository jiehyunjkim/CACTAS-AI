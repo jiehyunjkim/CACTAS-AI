{
 "cells": [
  {
   "cell_type": "code",
   "execution_count": 1,
   "id": "34b9f45b",
   "metadata": {},
   "outputs": [
    {
     "name": "stdout",
     "output_type": "stream",
     "text": [
      "Populating the interactive namespace from numpy and matplotlib\n"
     ]
    }
   ],
   "source": [
    "%pylab inline\n",
    "%load_ext autoreload\n",
    "%autoreload 2"
   ]
  },
  {
   "cell_type": "code",
   "execution_count": 2,
   "id": "a0c2451c",
   "metadata": {
    "scrolled": true
   },
   "outputs": [],
   "source": [
    "import SimpleITK as sitk\n",
    "import cactas as C\n",
    "import os"
   ]
  },
  {
   "cell_type": "code",
   "execution_count": null,
   "id": "1f5e95fc",
   "metadata": {},
   "outputs": [],
   "source": []
  },
  {
   "cell_type": "code",
   "execution_count": 3,
   "id": "0eca1f3d",
   "metadata": {},
   "outputs": [],
   "source": [
    "def load_seed(seed_image_path, cta_image):\n",
    "    seed_image = sitk.ReadImage(seed_image_path)\n",
    "    seed_indices = sitk.GetArrayFromImage(seed_image)\n",
    "    seeds = list(zip(*seed_indices.nonzero()))\n",
    "    seeds = [tuple(int(x) for x in seed) for seed in seeds]\n",
    "    seeds = [(seed[2], seed[1], seed[0]) for seed in seeds]\n",
    "\n",
    "    intensity_values = []\n",
    "    for seed in seeds:\n",
    "        # Extract a small region around the seed point\n",
    "        region_radius = [1, 1, 1]  # Define the size of the region around the seed point\n",
    "        region = sitk.RegionOfInterest(cta_image, region_radius, seed)\n",
    "        region_array = sitk.GetArrayFromImage(region)\n",
    "\n",
    "        # Collect all intensity values of the region\n",
    "        intensity_values.extend(region_array.flatten())\n",
    "\n",
    "    return seeds, intensity_values"
   ]
  },
  {
   "cell_type": "code",
   "execution_count": null,
   "id": "75b32c00",
   "metadata": {},
   "outputs": [],
   "source": []
  },
  {
   "cell_type": "code",
   "execution_count": 4,
   "id": "8c8204a3",
   "metadata": {},
   "outputs": [],
   "source": [
    "DATAPATH='/raid/mpsych/CACTAS/DATA/ESUS/'\n",
    "TS_PATH='/raid/mpsych/CACTAS/DATA/TS/'\n",
    "output_dir='/raid/mpsych/CACTAS/DATA/CA5'"
   ]
  },
  {
   "cell_type": "code",
   "execution_count": 5,
   "id": "5ee91aab",
   "metadata": {},
   "outputs": [],
   "source": [
    "images, labels = C.Helper.load_data(DATAPATH)"
   ]
  },
  {
   "cell_type": "code",
   "execution_count": null,
   "id": "0892c3b7",
   "metadata": {},
   "outputs": [],
   "source": []
  },
  {
   "cell_type": "code",
   "execution_count": null,
   "id": "1fb939a2",
   "metadata": {},
   "outputs": [],
   "source": [
    "for image in images:\n",
    "    num = image.split(\".\")[0]\n",
    "\n",
    "    # Construct the full path to the CTA image\n",
    "    cta_image_path = os.path.join(DATAPATH, image)\n",
    "    cta_image = sitk.ReadImage(cta_image_path)\n",
    "\n",
    "    # Assume seed file names are related to the CTA image file name\n",
    "    seed_image_path_left = os.path.join(TS_PATH + \"/\" + num, f\"common_carotid_artery_left.nii.gz\")\n",
    "    seed_image_path_right = os.path.join(TS_PATH+ \"/\" + num, f\"common_carotid_artery_right.nii.gz\")\n",
    "    seeds_left, intensities_left = load_seed(seed_image_path_left, cta_image)\n",
    "    seeds_right, intensities_right = load_seed(seed_image_path_right, cta_image)\n",
    "\n",
    "    # Combine seeds and intensity values from both sides\n",
    "    seeds = seeds_left + seeds_right\n",
    "    intensity_values = intensities_left + intensities_right\n",
    "\n",
    "    intensity_values_array = np.array(intensity_values)  \n",
    "    intensity_values_array = intensity_values_array[intensity_values_array >= 0]\n",
    "    sorted_intensity_values = np.sort(intensity_values_array)\n",
    "\n",
    "    median_intensity = np.median(sorted_intensity_values) #1, 2\n",
    "    #mean_intensity = np.mean(sorted_intensity_values) #3\n",
    "    min_intensity = min(sorted_intensity_values)\n",
    "    max_intensity = max(sorted_intensity_values)\n",
    "\n",
    "    lower_threshold = float(median_intensity)\n",
    "    #upper_threshold = lower_threshold + 100 #1\n",
    "    upper_threshold = lower_threshold + 200 #2\n",
    "\n",
    "    # Use adjusted thresholds in the ConnectedThreshold function\n",
    "    output_image = sitk.ConnectedThreshold(cta_image, seedList=seeds,\n",
    "                                           lower=lower_threshold, upper=upper_threshold)\n",
    "\n",
    "    # Process the output image as before\n",
    "    output_image_array = sitk.GetArrayFromImage(output_image)\n",
    "    output_image_array[:45] = np.zeros_like(output_image_array[:45])\n",
    "    \n",
    "    if output_image_array.shape[0] > 300:\n",
    "        output_image_array[240:] = np.zeros_like(output_image_array[240:])\n",
    "    else:\n",
    "        output_image_array[120:] = np.zeros_like(output_image_array[120:])\n",
    "\n",
    "    output_image_modified = sitk.GetImageFromArray(output_image_array)\n",
    "    output_image_modified.CopyInformation(output_image)\n",
    "    output_image_modified.SetSpacing(output_image.GetSpacing())\n",
    "    output_image_modified.SetOrigin(output_image.GetOrigin())\n",
    "    output_image_modified.SetDirection(output_image.GetDirection())\n",
    "\n",
    "    # Save the output image with a unique name\n",
    "    output_image_path = os.path.join(output_dir, f\"{num}.ca.seg.nrrd\")\n",
    "    #print(output_image_path)\n",
    "    sitk.WriteImage(output_image_modified, output_image_path)"
   ]
  },
  {
   "cell_type": "code",
   "execution_count": null,
   "id": "02223a57",
   "metadata": {},
   "outputs": [],
   "source": []
  },
  {
   "cell_type": "code",
   "execution_count": null,
   "id": "7aa88b96",
   "metadata": {},
   "outputs": [],
   "source": []
  },
  {
   "cell_type": "code",
   "execution_count": null,
   "id": "a421fe84",
   "metadata": {},
   "outputs": [],
   "source": []
  },
  {
   "cell_type": "code",
   "execution_count": null,
   "id": "6a8e23d1",
   "metadata": {},
   "outputs": [],
   "source": []
  },
  {
   "cell_type": "code",
   "execution_count": null,
   "id": "203d2e98",
   "metadata": {},
   "outputs": [],
   "source": []
  },
  {
   "cell_type": "code",
   "execution_count": null,
   "id": "cbccf115",
   "metadata": {},
   "outputs": [],
   "source": []
  },
  {
   "cell_type": "code",
   "execution_count": null,
   "id": "b5d725ce",
   "metadata": {},
   "outputs": [],
   "source": []
  },
  {
   "cell_type": "code",
   "execution_count": null,
   "id": "ff67da17",
   "metadata": {},
   "outputs": [],
   "source": []
  }
 ],
 "metadata": {
  "kernelspec": {
   "display_name": "Python 3 (ipykernel)",
   "language": "python",
   "name": "python3"
  },
  "language_info": {
   "codemirror_mode": {
    "name": "ipython",
    "version": 3
   },
   "file_extension": ".py",
   "mimetype": "text/x-python",
   "name": "python",
   "nbconvert_exporter": "python",
   "pygments_lexer": "ipython3",
   "version": "3.9.7"
  }
 },
 "nbformat": 4,
 "nbformat_minor": 5
}
