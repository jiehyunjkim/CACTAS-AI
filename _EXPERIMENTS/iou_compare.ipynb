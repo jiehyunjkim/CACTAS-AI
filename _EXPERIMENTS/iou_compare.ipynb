{
 "cells": [
  {
   "cell_type": "code",
   "execution_count": 2,
   "id": "a1aa7534",
   "metadata": {},
   "outputs": [],
   "source": [
    "import pickle"
   ]
  },
  {
   "cell_type": "code",
   "execution_count": 10,
   "id": "864f0ee1",
   "metadata": {},
   "outputs": [],
   "source": [
    "with open('training_history_2.pkl', 'rb') as file:\n",
    "    loaded_history2 = pickle.load(file)\n",
    "\n",
    "loss2 = loaded_history2['loss']\n",
    "validation_loss2 = loaded_history2['val_loss']\n",
    "iou2 = loaded_history2['iou']\n",
    "validation_iou2 = loaded_history2['val_iou']"
   ]
  },
  {
   "cell_type": "code",
   "execution_count": 13,
   "id": "1f12f8c1",
   "metadata": {},
   "outputs": [],
   "source": [
    "sorted_iou2 = sorted(iou2)\n",
    "sorted_val_iou2 = sorted(validation_iou2)"
   ]
  },
  {
   "cell_type": "code",
   "execution_count": 14,
   "id": "6e79fe94",
   "metadata": {},
   "outputs": [
    {
     "data": {
      "text/plain": [
       "(0.7272929549217224, 0.3541184663772583)"
      ]
     },
     "execution_count": 14,
     "metadata": {},
     "output_type": "execute_result"
    }
   ],
   "source": [
    "sorted_iou2[199], sorted_val_iou2[199]"
   ]
  },
  {
   "cell_type": "code",
   "execution_count": null,
   "id": "f3dd1b2e",
   "metadata": {},
   "outputs": [],
   "source": []
  },
  {
   "cell_type": "code",
   "execution_count": null,
   "id": "9be4fe0c",
   "metadata": {},
   "outputs": [],
   "source": []
  },
  {
   "cell_type": "code",
   "execution_count": 11,
   "id": "e69df011",
   "metadata": {},
   "outputs": [],
   "source": [
    "with open('training_history_3.pkl', 'rb') as file:\n",
    "    loaded_history3 = pickle.load(file)\n",
    "\n",
    "loss3 = loaded_history3['loss']\n",
    "validation_loss3 = loaded_history3['val_loss']\n",
    "iou3 = loaded_history3['iou']\n",
    "validation_iou3 = loaded_history3['val_iou']"
   ]
  },
  {
   "cell_type": "code",
   "execution_count": 15,
   "id": "775fe155",
   "metadata": {},
   "outputs": [],
   "source": [
    "sorted_iou3 = sorted(iou3)\n",
    "sorted_val_iou3 = sorted(validation_iou3)"
   ]
  },
  {
   "cell_type": "code",
   "execution_count": 16,
   "id": "332c134b",
   "metadata": {},
   "outputs": [
    {
     "data": {
      "text/plain": [
       "(0.8930767178535461, 0.2732391059398651)"
      ]
     },
     "execution_count": 16,
     "metadata": {},
     "output_type": "execute_result"
    }
   ],
   "source": [
    "sorted_iou3[199], sorted_val_iou3[199]"
   ]
  },
  {
   "cell_type": "code",
   "execution_count": null,
   "id": "bb314c15",
   "metadata": {},
   "outputs": [],
   "source": []
  },
  {
   "cell_type": "code",
   "execution_count": null,
   "id": "4f8f5fe9",
   "metadata": {},
   "outputs": [],
   "source": []
  },
  {
   "cell_type": "code",
   "execution_count": 12,
   "id": "363c454f",
   "metadata": {},
   "outputs": [],
   "source": [
    "with open('training_history_4.pkl', 'rb') as file:\n",
    "    loaded_history4 = pickle.load(file)\n",
    "\n",
    "loss4 = loaded_history4['loss']\n",
    "validation_loss4 = loaded_history4['val_loss']\n",
    "iou4 = loaded_history4['iou']\n",
    "validation_iou4 = loaded_history4['val_iou']"
   ]
  },
  {
   "cell_type": "code",
   "execution_count": 17,
   "id": "ed9de6c2",
   "metadata": {},
   "outputs": [],
   "source": [
    "sorted_iou4 = sorted(iou4)\n",
    "sorted_val_iou4 = sorted(validation_iou4)"
   ]
  },
  {
   "cell_type": "code",
   "execution_count": 18,
   "id": "cab0999d",
   "metadata": {},
   "outputs": [
    {
     "data": {
      "text/plain": [
       "(0.7760849595069885, 0.2882945239543915)"
      ]
     },
     "execution_count": 18,
     "metadata": {},
     "output_type": "execute_result"
    }
   ],
   "source": [
    "sorted_iou4[199], sorted_val_iou4[199]"
   ]
  },
  {
   "cell_type": "code",
   "execution_count": null,
   "id": "4a77d260",
   "metadata": {},
   "outputs": [],
   "source": []
  },
  {
   "cell_type": "code",
   "execution_count": 21,
   "id": "55b42d4c",
   "metadata": {},
   "outputs": [],
   "source": [
    "import numpy as np \n",
    "import matplotlib.pyplot as plt "
   ]
  },
  {
   "cell_type": "code",
   "execution_count": 29,
   "id": "cb3e4fc8",
   "metadata": {},
   "outputs": [
    {
     "data": {
      "image/png": "[encoded data removed]",
      "text/plain": [
       "<Figure size 864x576 with 1 Axes>"
      ]
     },
     "metadata": {
      "needs_background": "light"
     },
     "output_type": "display_data"
    }
   ],
   "source": [
    "# set width of bar \n",
    "barWidth = 0.25\n",
    "fig = plt.subplots(figsize =(12, 8)) \n",
    " \n",
    "# set height of bar \n",
    "IoU = [0.7272929549217224, 0.8930767178535461, 0.7760849595069885] \n",
    "Val_IoU = [0.3541184663772583, 0.2732391059398651, 0.2882945239543915] \n",
    " \n",
    "# Set position of bar on X axis \n",
    "br1 = np.arange(len(IoU)) \n",
    "br2 = [x + barWidth for x in br1] \n",
    " \n",
    "# Make the plot\n",
    "plt.bar(br1, IoU, color ='tab:blue', width = barWidth, edgecolor ='grey', label ='IT') \n",
    "plt.bar(br2, Val_IoU, color ='tab:orange', width = barWidth, edgecolor ='grey', label ='ECE') \n",
    " \n",
    "# Adding Xticks \n",
    "#plt.xlabel('Branch', fontweight ='bold', fontsize = 15) \n",
    "#plt.ylabel('Students passed', fontweight ='bold', fontsize = 15) \n",
    "plt.xticks([r + barWidth for r in range(len(IoU))], ['Trial 1', 'Trial 2', 'Trial 3'])\n",
    " \n",
    "plt.legend()\n",
    "plt.show() "
   ]
  },
  {
   "cell_type": "code",
   "execution_count": null,
   "id": "3591c2b5",
   "metadata": {},
   "outputs": [],
   "source": []
  },
  {
   "cell_type": "code",
   "execution_count": null,
   "id": "de968009",
   "metadata": {},
   "outputs": [],
   "source": []
  },
  {
   "cell_type": "code",
   "execution_count": null,
   "id": "80f834d9",
   "metadata": {},
   "outputs": [],
   "source": []
  },
  {
   "cell_type": "code",
   "execution_count": null,
   "id": "0e0fbf7f",
   "metadata": {},
   "outputs": [],
   "source": []
  },
  {
   "cell_type": "code",
   "execution_count": null,
   "id": "99abcdba",
   "metadata": {},
   "outputs": [],
   "source": []
  },
  {
   "cell_type": "code",
   "execution_count": null,
   "id": "2967595b",
   "metadata": {},
   "outputs": [],
   "source": []
  },
  {
   "cell_type": "code",
   "execution_count": null,
   "id": "81aa8315",
   "metadata": {},
   "outputs": [],
   "source": []
  },
  {
   "cell_type": "code",
   "execution_count": null,
   "id": "ffae74a9",
   "metadata": {},
   "outputs": [],
   "source": []
  }
 ],
 "metadata": {
  "kernelspec": {
   "display_name": "Python 3 (ipykernel)",
   "language": "python",
   "name": "python3"
  },
  "language_info": {
   "codemirror_mode": {
    "name": "ipython",
    "version": 3
   },
   "file_extension": ".py",
   "mimetype": "text/x-python",
   "name": "python",
   "nbconvert_exporter": "python",
   "pygments_lexer": "ipython3",
   "version": "3.9.7"
  }
 },
 "nbformat": 4,
 "nbformat_minor": 5
}
