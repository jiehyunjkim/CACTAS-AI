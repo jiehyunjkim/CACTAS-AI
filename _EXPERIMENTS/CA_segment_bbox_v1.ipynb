{
 "cells": [
  {
   "cell_type": "code",
   "execution_count": 1,
   "id": "7a662294",
   "metadata": {},
   "outputs": [
    {
     "name": "stdout",
     "output_type": "stream",
     "text": [
      "Populating the interactive namespace from numpy and matplotlib\n"
     ]
    }
   ],
   "source": [
    "%pylab inline\n",
    "%load_ext autoreload\n",
    "%autoreload 2"
   ]
  },
  {
   "cell_type": "code",
   "execution_count": 2,
   "id": "bc7d3933",
   "metadata": {},
   "outputs": [],
   "source": [
    "import cactas as C\n",
    "import os\n",
    "import mahotas as mh\n",
    "import nrrd"
   ]
  },
  {
   "cell_type": "code",
   "execution_count": 3,
   "id": "5b2d930e",
   "metadata": {},
   "outputs": [],
   "source": [
    "DATAPATH='/raid/mpsych/CACTAS/DATA/ESUS/'\n",
    "TS_PATH='/raid/mpsych/CACTAS/DATA/TS/'\n",
    "output_dir_1='/raid/mpsych/CACTAS/DATA/CA4'\n",
    "output_dir_2='/raid/mpsych/CACTAS/DATA/CA5'\n",
    "output_dir_3='/raid/mpsych/CACTAS/DATA/CA6'\n",
    "\n",
    "output_dir_4='/raid/mpsych/CACTAS/DATA/CA8'\n",
    "output_dir_5='/raid/mpsych/CACTAS/DATA/CA9'\n",
    "\n",
    "output_dir_6='/raid/mpsych/CACTAS/DATA/CA7'\n",
    "output_dir_7='/raid/mpsych/CACTAS/DATA/CA10'\n",
    "\n",
    "output_dir_8='/raid/mpsych/CACTAS/DATA/CA11'\n",
    "output_dir_9='/raid/mpsych/CACTAS/DATA/CA12'\n",
    "output_dir_10='/raid/mpsych/CACTAS/DATA/CA13'\n",
    "\n",
    "output_dir_11='/raid/mpsych/CACTAS/DATA/CA14'\n",
    "output_dir_12='/raid/mpsych/CACTAS/DATA/CA15'\n",
    "\n",
    "output_dir_13='/raid/mpsych/CACTAS/DATA/CA16'\n",
    "output_dir_14='/raid/mpsych/CACTAS/DATA/CA17'"
   ]
  },
  {
   "cell_type": "code",
   "execution_count": 4,
   "id": "f0e855c4",
   "metadata": {},
   "outputs": [],
   "source": [
    "images, labels = C.Helper.load_data(DATAPATH)"
   ]
  },
  {
   "cell_type": "code",
   "execution_count": null,
   "id": "793d85ed",
   "metadata": {},
   "outputs": [],
   "source": []
  },
  {
   "cell_type": "code",
   "execution_count": 5,
   "id": "2a2e2f28",
   "metadata": {},
   "outputs": [],
   "source": [
    "ids=[]\n",
    "for f in labels:\n",
    "    if f.endswith('b.seg.nrrd'):\n",
    "        current_id = f.split('.')[0]\n",
    "        ids += [int(current_id)]"
   ]
  },
  {
   "cell_type": "code",
   "execution_count": 6,
   "id": "7a4e6107",
   "metadata": {},
   "outputs": [],
   "source": [
    "seg_list=[]\n",
    "for i in range(len(ids)):\n",
    "    data, header = nrrd.read(DATAPATH + \"/\" + labels[i])\n",
    "    segment = mh.bbox(data)\n",
    "    seg_list.append(segment)\n",
    "seg_list=np.array(seg_list)"
   ]
  },
  {
   "cell_type": "code",
   "execution_count": 7,
   "id": "7cb5d71b",
   "metadata": {},
   "outputs": [],
   "source": [
    "#len(seg_list)"
   ]
  },
  {
   "cell_type": "code",
   "execution_count": 8,
   "id": "f43aa41d",
   "metadata": {},
   "outputs": [],
   "source": [
    "#seg_list"
   ]
  },
  {
   "cell_type": "code",
   "execution_count": null,
   "id": "b716b7d6",
   "metadata": {},
   "outputs": [],
   "source": []
  },
  {
   "cell_type": "code",
   "execution_count": 9,
   "id": "09949fc5",
   "metadata": {},
   "outputs": [],
   "source": [
    "##### 1 med 100"
   ]
  },
  {
   "cell_type": "code",
   "execution_count": 10,
   "id": "6e2c50ad",
   "metadata": {},
   "outputs": [],
   "source": [
    "sorted_subfolders = sorted(os.listdir(output_dir_1), \n",
    "                           key=lambda x: ids.index(int(x.split(\".\")[0])) if x.split(\".\")[0].isdigit() and int(x.split(\".\")[0]) in ids else -1)"
   ]
  },
  {
   "cell_type": "code",
   "execution_count": 11,
   "id": "c889c8a1",
   "metadata": {},
   "outputs": [],
   "source": [
    "combined1 = []\n",
    "\n",
    "for subfolder in sorted_subfolders:\n",
    "    subfolder_path = os.path.join(output_dir_1, subfolder)\n",
    "    data, header = nrrd.read(subfolder_path)\n",
    "    bbox = mh.bbox(data)\n",
    "    combined1.append(bbox)\n",
    "\n",
    "combined1 = np.array(combined1)"
   ]
  },
  {
   "cell_type": "code",
   "execution_count": 12,
   "id": "1a1885b4",
   "metadata": {},
   "outputs": [
    {
     "data": {
      "text/plain": [
       "70"
      ]
     },
     "execution_count": 12,
     "metadata": {},
     "output_type": "execute_result"
    }
   ],
   "source": [
    "len(combined1)"
   ]
  },
  {
   "cell_type": "code",
   "execution_count": 13,
   "id": "f1853f82",
   "metadata": {},
   "outputs": [],
   "source": [
    "#combined"
   ]
  },
  {
   "cell_type": "code",
   "execution_count": null,
   "id": "ed30b32a",
   "metadata": {},
   "outputs": [],
   "source": []
  },
  {
   "cell_type": "code",
   "execution_count": 14,
   "id": "64fd3461",
   "metadata": {},
   "outputs": [],
   "source": [
    "##### 2 med 200"
   ]
  },
  {
   "cell_type": "code",
   "execution_count": 15,
   "id": "04e66b61",
   "metadata": {},
   "outputs": [],
   "source": [
    "sorted_subfolders2 = sorted(os.listdir(output_dir_2), \n",
    "                           key=lambda x: ids.index(int(x.split(\".\")[0])) if x.split(\".\")[0].isdigit() and int(x.split(\".\")[0]) in ids else -1)"
   ]
  },
  {
   "cell_type": "code",
   "execution_count": 16,
   "id": "319737fc",
   "metadata": {},
   "outputs": [],
   "source": [
    "combined2 = []\n",
    "\n",
    "for subfolder in sorted_subfolders2:\n",
    "    subfolder_path = os.path.join(output_dir_2, subfolder)\n",
    "    data, header = nrrd.read(subfolder_path)\n",
    "    bbox = mh.bbox(data)\n",
    "    combined2.append(bbox)\n",
    "\n",
    "combined2 = np.array(combined2)"
   ]
  },
  {
   "cell_type": "code",
   "execution_count": 17,
   "id": "55fcc6a8",
   "metadata": {},
   "outputs": [
    {
     "data": {
      "text/plain": [
       "70"
      ]
     },
     "execution_count": 17,
     "metadata": {},
     "output_type": "execute_result"
    }
   ],
   "source": [
    "len(combined2)"
   ]
  },
  {
   "cell_type": "code",
   "execution_count": null,
   "id": "465c75bd",
   "metadata": {},
   "outputs": [],
   "source": []
  },
  {
   "cell_type": "code",
   "execution_count": null,
   "id": "76fb68fd",
   "metadata": {},
   "outputs": [],
   "source": []
  },
  {
   "cell_type": "code",
   "execution_count": 18,
   "id": "e6da0ef9",
   "metadata": {},
   "outputs": [],
   "source": [
    "##### 3 med 150"
   ]
  },
  {
   "cell_type": "code",
   "execution_count": 19,
   "id": "6cfbc54a",
   "metadata": {},
   "outputs": [],
   "source": [
    "sorted_subfolders3 = sorted(os.listdir(output_dir_3), \n",
    "                           key=lambda x: ids.index(int(x.split(\".\")[0])) if x.split(\".\")[0].isdigit() and int(x.split(\".\")[0]) in ids else -1)"
   ]
  },
  {
   "cell_type": "code",
   "execution_count": 20,
   "id": "635f1f12",
   "metadata": {},
   "outputs": [],
   "source": [
    "combined3 = []\n",
    "\n",
    "for subfolder in sorted_subfolders3:\n",
    "    subfolder_path = os.path.join(output_dir_3, subfolder)\n",
    "    data, header = nrrd.read(subfolder_path)\n",
    "    bbox = mh.bbox(data)\n",
    "    combined3.append(bbox)\n",
    "\n",
    "combined3 = np.array(combined3)"
   ]
  },
  {
   "cell_type": "code",
   "execution_count": 21,
   "id": "2d8d15d4",
   "metadata": {},
   "outputs": [
    {
     "data": {
      "text/plain": [
       "70"
      ]
     },
     "execution_count": 21,
     "metadata": {},
     "output_type": "execute_result"
    }
   ],
   "source": [
    "len(combined3)"
   ]
  },
  {
   "cell_type": "code",
   "execution_count": null,
   "id": "a277bdda",
   "metadata": {},
   "outputs": [],
   "source": []
  },
  {
   "cell_type": "code",
   "execution_count": 22,
   "id": "0182b5fe",
   "metadata": {},
   "outputs": [],
   "source": [
    "###### 4 mean 150"
   ]
  },
  {
   "cell_type": "code",
   "execution_count": 23,
   "id": "9d1e1315",
   "metadata": {},
   "outputs": [],
   "source": [
    "sorted_subfolders4 = sorted(os.listdir(output_dir_4), \n",
    "                           key=lambda x: ids.index(int(x.split(\".\")[0])) if x.split(\".\")[0].isdigit() and int(x.split(\".\")[0]) in ids else -1)"
   ]
  },
  {
   "cell_type": "code",
   "execution_count": 24,
   "id": "87bf5505",
   "metadata": {},
   "outputs": [],
   "source": [
    "combined4 = []\n",
    "\n",
    "for subfolder in sorted_subfolders4:\n",
    "    subfolder_path = os.path.join(output_dir_4, subfolder)\n",
    "    data, header = nrrd.read(subfolder_path)\n",
    "    bbox = mh.bbox(data)\n",
    "    combined4.append(bbox)\n",
    "\n",
    "combined4 = np.array(combined4)"
   ]
  },
  {
   "cell_type": "code",
   "execution_count": 25,
   "id": "2e6d6f33",
   "metadata": {},
   "outputs": [
    {
     "data": {
      "text/plain": [
       "70"
      ]
     },
     "execution_count": 25,
     "metadata": {},
     "output_type": "execute_result"
    }
   ],
   "source": [
    "len(combined4)"
   ]
  },
  {
   "cell_type": "code",
   "execution_count": null,
   "id": "b12e345b",
   "metadata": {},
   "outputs": [],
   "source": []
  },
  {
   "cell_type": "code",
   "execution_count": null,
   "id": "403bd2dc",
   "metadata": {},
   "outputs": [],
   "source": []
  },
  {
   "cell_type": "code",
   "execution_count": 26,
   "id": "e2fae3b2",
   "metadata": {},
   "outputs": [],
   "source": [
    "##### 5 saba mean 150"
   ]
  },
  {
   "cell_type": "code",
   "execution_count": 27,
   "id": "6e2735e2",
   "metadata": {},
   "outputs": [],
   "source": [
    "sorted_subfolders5 = sorted(os.listdir(output_dir_5), \n",
    "                           key=lambda x: ids.index(int(x.split(\".\")[0])) if x.split(\".\")[0].isdigit() and int(x.split(\".\")[0]) in ids else -1)"
   ]
  },
  {
   "cell_type": "code",
   "execution_count": 28,
   "id": "8473880a",
   "metadata": {},
   "outputs": [],
   "source": [
    "combined5 = []\n",
    "\n",
    "for subfolder in sorted_subfolders5:\n",
    "    subfolder_path = os.path.join(output_dir_5, subfolder)\n",
    "    data, header = nrrd.read(subfolder_path)\n",
    "    bbox = mh.bbox(data)\n",
    "    combined5.append(bbox)\n",
    "\n",
    "combined5 = np.array(combined5)"
   ]
  },
  {
   "cell_type": "code",
   "execution_count": 29,
   "id": "645abdbc",
   "metadata": {},
   "outputs": [
    {
     "data": {
      "text/plain": [
       "70"
      ]
     },
     "execution_count": 29,
     "metadata": {},
     "output_type": "execute_result"
    }
   ],
   "source": [
    "len(combined5)"
   ]
  },
  {
   "cell_type": "code",
   "execution_count": null,
   "id": "c9cff848",
   "metadata": {},
   "outputs": [],
   "source": []
  },
  {
   "cell_type": "code",
   "execution_count": null,
   "id": "98b91a0c",
   "metadata": {},
   "outputs": [],
   "source": []
  },
  {
   "cell_type": "code",
   "execution_count": 30,
   "id": "6735edbc",
   "metadata": {},
   "outputs": [],
   "source": [
    "###### 6 mean 100"
   ]
  },
  {
   "cell_type": "code",
   "execution_count": 31,
   "id": "46340afe",
   "metadata": {},
   "outputs": [],
   "source": [
    "sorted_subfolders6 = sorted(os.listdir(output_dir_6), \n",
    "                           key=lambda x: ids.index(int(x.split(\".\")[0])) if x.split(\".\")[0].isdigit() and int(x.split(\".\")[0]) in ids else -1)"
   ]
  },
  {
   "cell_type": "code",
   "execution_count": 32,
   "id": "c5143f07",
   "metadata": {},
   "outputs": [],
   "source": [
    "combined6 = []\n",
    "\n",
    "for subfolder in sorted_subfolders6:\n",
    "    subfolder_path = os.path.join(output_dir_6, subfolder)\n",
    "    data, header = nrrd.read(subfolder_path)\n",
    "    bbox = mh.bbox(data)\n",
    "    combined6.append(bbox)\n",
    "\n",
    "combined6 = np.array(combined6)"
   ]
  },
  {
   "cell_type": "code",
   "execution_count": 33,
   "id": "c37a2cb4",
   "metadata": {},
   "outputs": [
    {
     "data": {
      "text/plain": [
       "70"
      ]
     },
     "execution_count": 33,
     "metadata": {},
     "output_type": "execute_result"
    }
   ],
   "source": [
    "len(combined6)"
   ]
  },
  {
   "cell_type": "code",
   "execution_count": null,
   "id": "a537c8ac",
   "metadata": {},
   "outputs": [],
   "source": []
  },
  {
   "cell_type": "code",
   "execution_count": null,
   "id": "86c1700e",
   "metadata": {},
   "outputs": [],
   "source": []
  },
  {
   "cell_type": "code",
   "execution_count": 34,
   "id": "b3d53998",
   "metadata": {},
   "outputs": [],
   "source": [
    "###### 7 mean 200"
   ]
  },
  {
   "cell_type": "code",
   "execution_count": 35,
   "id": "10adc178",
   "metadata": {},
   "outputs": [],
   "source": [
    "sorted_subfolders7 = sorted(os.listdir(output_dir_7), \n",
    "                           key=lambda x: ids.index(int(x.split(\".\")[0])) if x.split(\".\")[0].isdigit() and int(x.split(\".\")[0]) in ids else -1)"
   ]
  },
  {
   "cell_type": "code",
   "execution_count": 36,
   "id": "a421555a",
   "metadata": {},
   "outputs": [],
   "source": [
    "combined7 = []\n",
    "\n",
    "for subfolder in sorted_subfolders7:\n",
    "    subfolder_path = os.path.join(output_dir_7, subfolder)\n",
    "    data, header = nrrd.read(subfolder_path)\n",
    "    bbox = mh.bbox(data)\n",
    "    combined7.append(bbox)\n",
    "\n",
    "combined7 = np.array(combined7)"
   ]
  },
  {
   "cell_type": "code",
   "execution_count": 37,
   "id": "6b8f0232",
   "metadata": {},
   "outputs": [
    {
     "data": {
      "text/plain": [
       "70"
      ]
     },
     "execution_count": 37,
     "metadata": {},
     "output_type": "execute_result"
    }
   ],
   "source": [
    "len(combined7)"
   ]
  },
  {
   "cell_type": "code",
   "execution_count": null,
   "id": "522cbce5",
   "metadata": {},
   "outputs": [],
   "source": []
  },
  {
   "cell_type": "code",
   "execution_count": null,
   "id": "cef1357e",
   "metadata": {},
   "outputs": [],
   "source": []
  },
  {
   "cell_type": "code",
   "execution_count": 38,
   "id": "eab54a0d",
   "metadata": {},
   "outputs": [],
   "source": [
    "#### 8 saba median 150"
   ]
  },
  {
   "cell_type": "code",
   "execution_count": 39,
   "id": "32ed3912",
   "metadata": {},
   "outputs": [],
   "source": [
    "sorted_subfolders8 = sorted(os.listdir(output_dir_8), \n",
    "                           key=lambda x: ids.index(int(x.split(\".\")[0])) if x.split(\".\")[0].isdigit() and int(x.split(\".\")[0]) in ids else -1)"
   ]
  },
  {
   "cell_type": "code",
   "execution_count": 40,
   "id": "5da782a1",
   "metadata": {},
   "outputs": [],
   "source": [
    "combined8 = []\n",
    "\n",
    "for subfolder in sorted_subfolders8:\n",
    "    subfolder_path = os.path.join(output_dir_8, subfolder)\n",
    "    data, header = nrrd.read(subfolder_path)\n",
    "    bbox = mh.bbox(data)\n",
    "    combined8.append(bbox)\n",
    "\n",
    "combined8 = np.array(combined8)"
   ]
  },
  {
   "cell_type": "code",
   "execution_count": 41,
   "id": "2f8970c7",
   "metadata": {},
   "outputs": [
    {
     "data": {
      "text/plain": [
       "70"
      ]
     },
     "execution_count": 41,
     "metadata": {},
     "output_type": "execute_result"
    }
   ],
   "source": [
    "len(combined8)"
   ]
  },
  {
   "cell_type": "code",
   "execution_count": null,
   "id": "93d40cac",
   "metadata": {},
   "outputs": [],
   "source": []
  },
  {
   "cell_type": "code",
   "execution_count": 42,
   "id": "e5cdd7ab",
   "metadata": {},
   "outputs": [],
   "source": [
    "###### 9 saba median 200"
   ]
  },
  {
   "cell_type": "code",
   "execution_count": 43,
   "id": "9fb4fd8a",
   "metadata": {},
   "outputs": [],
   "source": [
    "sorted_subfolders9 = sorted(os.listdir(output_dir_9), \n",
    "                           key=lambda x: ids.index(int(x.split(\".\")[0])) if x.split(\".\")[0].isdigit() and int(x.split(\".\")[0]) in ids else -1)"
   ]
  },
  {
   "cell_type": "code",
   "execution_count": 44,
   "id": "592e3b11",
   "metadata": {},
   "outputs": [],
   "source": [
    "combined9 = []\n",
    "\n",
    "for subfolder in sorted_subfolders9:\n",
    "    subfolder_path = os.path.join(output_dir_9, subfolder)\n",
    "    data, header = nrrd.read(subfolder_path)\n",
    "    bbox = mh.bbox(data)\n",
    "    combined9.append(bbox)\n",
    "\n",
    "combined9 = np.array(combined9)"
   ]
  },
  {
   "cell_type": "code",
   "execution_count": null,
   "id": "a41f5f3e",
   "metadata": {},
   "outputs": [],
   "source": []
  },
  {
   "cell_type": "code",
   "execution_count": null,
   "id": "967b225f",
   "metadata": {},
   "outputs": [],
   "source": []
  },
  {
   "cell_type": "code",
   "execution_count": 45,
   "id": "a8bb3085",
   "metadata": {},
   "outputs": [],
   "source": [
    "##### 10 saba mean 200"
   ]
  },
  {
   "cell_type": "code",
   "execution_count": 46,
   "id": "39e62935",
   "metadata": {},
   "outputs": [],
   "source": [
    "sorted_subfolders10 = sorted(os.listdir(output_dir_10), \n",
    "                           key=lambda x: ids.index(int(x.split(\".\")[0])) if x.split(\".\")[0].isdigit() and int(x.split(\".\")[0]) in ids else -1)"
   ]
  },
  {
   "cell_type": "code",
   "execution_count": 47,
   "id": "4a714d0f",
   "metadata": {},
   "outputs": [],
   "source": [
    "combined10 = []\n",
    "\n",
    "for subfolder in sorted_subfolders10:\n",
    "    subfolder_path = os.path.join(output_dir_10, subfolder)\n",
    "    data, header = nrrd.read(subfolder_path)\n",
    "    bbox = mh.bbox(data)\n",
    "    combined10.append(bbox)\n",
    "\n",
    "combined10 = np.array(combined10)"
   ]
  },
  {
   "cell_type": "code",
   "execution_count": null,
   "id": "f0e6f9a0",
   "metadata": {},
   "outputs": [],
   "source": []
  },
  {
   "cell_type": "code",
   "execution_count": 48,
   "id": "ee0e7d25",
   "metadata": {},
   "outputs": [],
   "source": [
    "#### saba mean 100"
   ]
  },
  {
   "cell_type": "code",
   "execution_count": 49,
   "id": "b768bb63",
   "metadata": {},
   "outputs": [],
   "source": [
    "sorted_subfolders11 = sorted(os.listdir(output_dir_11), \n",
    "                           key=lambda x: ids.index(int(x.split(\".\")[0])) if x.split(\".\")[0].isdigit() and int(x.split(\".\")[0]) in ids else -1)"
   ]
  },
  {
   "cell_type": "code",
   "execution_count": 50,
   "id": "6f4b50ab",
   "metadata": {},
   "outputs": [],
   "source": [
    "combined11 = []\n",
    "\n",
    "for subfolder in sorted_subfolders11:\n",
    "    subfolder_path = os.path.join(output_dir_11, subfolder)\n",
    "    data, header = nrrd.read(subfolder_path)\n",
    "    bbox = mh.bbox(data)\n",
    "    combined11.append(bbox)\n",
    "\n",
    "combined11 = np.array(combined11)"
   ]
  },
  {
   "cell_type": "code",
   "execution_count": null,
   "id": "f350edc4",
   "metadata": {},
   "outputs": [],
   "source": []
  },
  {
   "cell_type": "code",
   "execution_count": 51,
   "id": "fd78cf52",
   "metadata": {},
   "outputs": [],
   "source": [
    "### saba median 100"
   ]
  },
  {
   "cell_type": "code",
   "execution_count": 52,
   "id": "66cb79ca",
   "metadata": {},
   "outputs": [],
   "source": [
    "sorted_subfolders12 = sorted(os.listdir(output_dir_12), \n",
    "                           key=lambda x: ids.index(int(x.split(\".\")[0])) if x.split(\".\")[0].isdigit() and int(x.split(\".\")[0]) in ids else -1)"
   ]
  },
  {
   "cell_type": "code",
   "execution_count": 53,
   "id": "05ab8c26",
   "metadata": {},
   "outputs": [],
   "source": [
    "combined12 = []\n",
    "\n",
    "for subfolder in sorted_subfolders12:\n",
    "    subfolder_path = os.path.join(output_dir_12, subfolder)\n",
    "    data, header = nrrd.read(subfolder_path)\n",
    "    bbox = mh.bbox(data)\n",
    "    combined12.append(bbox)\n",
    "\n",
    "combined12 = np.array(combined12)"
   ]
  },
  {
   "cell_type": "code",
   "execution_count": null,
   "id": "075739c3",
   "metadata": {},
   "outputs": [],
   "source": []
  },
  {
   "cell_type": "code",
   "execution_count": null,
   "id": "af145531",
   "metadata": {},
   "outputs": [],
   "source": [
    "#### saba median 200"
   ]
  },
  {
   "cell_type": "code",
   "execution_count": 100,
   "id": "5c5a8581",
   "metadata": {},
   "outputs": [],
   "source": [
    "sorted_subfolders13 = sorted(os.listdir(output_dir_13), \n",
    "                           key=lambda x: ids.index(int(x.split(\".\")[0])) if x.split(\".\")[0].isdigit() and int(x.split(\".\")[0]) in ids else -1)"
   ]
  },
  {
   "cell_type": "code",
   "execution_count": 101,
   "id": "aba13ffc",
   "metadata": {},
   "outputs": [],
   "source": [
    "combined13 = []\n",
    "\n",
    "for subfolder in sorted_subfolders13:\n",
    "    subfolder_path = os.path.join(output_dir_13, subfolder)\n",
    "    data, header = nrrd.read(subfolder_path)\n",
    "    bbox = mh.bbox(data)\n",
    "    combined13.append(bbox)\n",
    "\n",
    "combined13 = np.array(combined13)"
   ]
  },
  {
   "cell_type": "code",
   "execution_count": null,
   "id": "e63f15d3",
   "metadata": {},
   "outputs": [],
   "source": []
  },
  {
   "cell_type": "code",
   "execution_count": 102,
   "id": "290c6cc7",
   "metadata": {},
   "outputs": [],
   "source": [
    "##### saba mean 200"
   ]
  },
  {
   "cell_type": "code",
   "execution_count": 103,
   "id": "8a0ad2a5",
   "metadata": {},
   "outputs": [],
   "source": [
    "sorted_subfolders14 = sorted(os.listdir(output_dir_14), \n",
    "                           key=lambda x: ids.index(int(x.split(\".\")[0])) if x.split(\".\")[0].isdigit() and int(x.split(\".\")[0]) in ids else -1)"
   ]
  },
  {
   "cell_type": "code",
   "execution_count": 104,
   "id": "3a8012c6",
   "metadata": {},
   "outputs": [],
   "source": [
    "combined14 = []\n",
    "\n",
    "for subfolder in sorted_subfolders14:\n",
    "    subfolder_path = os.path.join(output_dir_14, subfolder)\n",
    "    data, header = nrrd.read(subfolder_path)\n",
    "    bbox = mh.bbox(data)\n",
    "    combined14.append(bbox)\n",
    "\n",
    "combined14 = np.array(combined14)"
   ]
  },
  {
   "cell_type": "code",
   "execution_count": null,
   "id": "96932406",
   "metadata": {},
   "outputs": [],
   "source": []
  },
  {
   "cell_type": "code",
   "execution_count": null,
   "id": "b4763ced",
   "metadata": {},
   "outputs": [],
   "source": []
  },
  {
   "cell_type": "code",
   "execution_count": null,
   "id": "71336a71",
   "metadata": {},
   "outputs": [],
   "source": []
  },
  {
   "cell_type": "code",
   "execution_count": null,
   "id": "9a079b42",
   "metadata": {},
   "outputs": [],
   "source": []
  },
  {
   "cell_type": "code",
   "execution_count": 54,
   "id": "3d9e7bac",
   "metadata": {},
   "outputs": [],
   "source": [
    "def is_within(a, b):\n",
    "    result = []\n",
    "    for i in range(len(b)):\n",
    "        bbox_a = a[i]\n",
    "        bbox_b = b[i]\n",
    "\n",
    "        if (bbox_a[0] <= bbox_b[0] and bbox_a[1] >= bbox_b[1] and\n",
    "            bbox_a[2] <= bbox_b[2] and bbox_a[3] >= bbox_b[3] and\n",
    "            bbox_a[4] <= bbox_b[4] and bbox_a[5] >= bbox_b[5]):\n",
    "            result.append(True)\n",
    "        else:\n",
    "            result.append(False)\n",
    "    return result"
   ]
  },
  {
   "cell_type": "code",
   "execution_count": 55,
   "id": "ff487330",
   "metadata": {},
   "outputs": [],
   "source": [
    "result_1 = is_within(combined1, seg_list)"
   ]
  },
  {
   "cell_type": "code",
   "execution_count": 56,
   "id": "a01f7f57",
   "metadata": {},
   "outputs": [],
   "source": [
    "result_2 = is_within(combined2, seg_list)"
   ]
  },
  {
   "cell_type": "code",
   "execution_count": 57,
   "id": "0f10e1ca",
   "metadata": {},
   "outputs": [],
   "source": [
    "result_3 = is_within(combined3, seg_list)"
   ]
  },
  {
   "cell_type": "code",
   "execution_count": 58,
   "id": "113f6597",
   "metadata": {},
   "outputs": [],
   "source": [
    "result_4 = is_within(combined4, seg_list)"
   ]
  },
  {
   "cell_type": "code",
   "execution_count": 59,
   "id": "a865ae70",
   "metadata": {},
   "outputs": [],
   "source": [
    "result_5 = is_within(combined5, seg_list)"
   ]
  },
  {
   "cell_type": "code",
   "execution_count": 60,
   "id": "1cffc558",
   "metadata": {},
   "outputs": [],
   "source": [
    "result_6 = is_within(combined6, seg_list)"
   ]
  },
  {
   "cell_type": "code",
   "execution_count": 61,
   "id": "bb7c0328",
   "metadata": {},
   "outputs": [],
   "source": [
    "result_7 = is_within(combined7, seg_list)"
   ]
  },
  {
   "cell_type": "code",
   "execution_count": 62,
   "id": "66859057",
   "metadata": {},
   "outputs": [],
   "source": [
    "result_8 = is_within(combined8, seg_list)"
   ]
  },
  {
   "cell_type": "code",
   "execution_count": 63,
   "id": "cc0c4bf4",
   "metadata": {},
   "outputs": [],
   "source": [
    "result_9 = is_within(combined9, seg_list)"
   ]
  },
  {
   "cell_type": "code",
   "execution_count": 64,
   "id": "6a18e9bf",
   "metadata": {},
   "outputs": [],
   "source": [
    "result_10 = is_within(combined10, seg_list)"
   ]
  },
  {
   "cell_type": "code",
   "execution_count": 65,
   "id": "92b3e952",
   "metadata": {},
   "outputs": [],
   "source": [
    "result_11 = is_within(combined11, seg_list)"
   ]
  },
  {
   "cell_type": "code",
   "execution_count": 66,
   "id": "06308a82",
   "metadata": {},
   "outputs": [],
   "source": [
    "result_12 = is_within(combined12, seg_list)"
   ]
  },
  {
   "cell_type": "code",
   "execution_count": 105,
   "id": "a0e87eea",
   "metadata": {},
   "outputs": [],
   "source": [
    "result_13 = is_within(combined13, seg_list)"
   ]
  },
  {
   "cell_type": "code",
   "execution_count": 106,
   "id": "bd07def6",
   "metadata": {},
   "outputs": [],
   "source": [
    "result_14 = is_within(combined14, seg_list)"
   ]
  },
  {
   "cell_type": "code",
   "execution_count": null,
   "id": "89b3a9d7",
   "metadata": {},
   "outputs": [],
   "source": []
  },
  {
   "cell_type": "code",
   "execution_count": 67,
   "id": "a092d182",
   "metadata": {},
   "outputs": [],
   "source": [
    "count_T_1 = 0\n",
    "for TF in result_1:\n",
    "    if TF == True:\n",
    "        count_T_1 += 1"
   ]
  },
  {
   "cell_type": "code",
   "execution_count": 68,
   "id": "20e2f9fe",
   "metadata": {},
   "outputs": [],
   "source": [
    "count_T_2 = 0\n",
    "for TF in result_2:\n",
    "    if TF == True:\n",
    "        count_T_2 += 1"
   ]
  },
  {
   "cell_type": "code",
   "execution_count": 69,
   "id": "ae7099ce",
   "metadata": {},
   "outputs": [],
   "source": [
    "count_T_3 = 0\n",
    "for TF in result_3:\n",
    "    if TF == True:\n",
    "        count_T_3 += 1"
   ]
  },
  {
   "cell_type": "code",
   "execution_count": 70,
   "id": "a223f720",
   "metadata": {},
   "outputs": [],
   "source": [
    "count_T_4 = 0\n",
    "for TF in result_4:\n",
    "    if TF == True:\n",
    "        count_T_4 += 1"
   ]
  },
  {
   "cell_type": "code",
   "execution_count": 71,
   "id": "834414f1",
   "metadata": {},
   "outputs": [],
   "source": [
    "count_T_5 = 0\n",
    "for TF in result_5:\n",
    "    if TF == True:\n",
    "        count_T_5 += 1"
   ]
  },
  {
   "cell_type": "code",
   "execution_count": 72,
   "id": "3606394c",
   "metadata": {},
   "outputs": [],
   "source": [
    "count_T_6 = 0\n",
    "for TF in result_6:\n",
    "    if TF == True:\n",
    "        count_T_6 += 1"
   ]
  },
  {
   "cell_type": "code",
   "execution_count": 73,
   "id": "6e02ee75",
   "metadata": {},
   "outputs": [],
   "source": [
    "count_T_7 = 0\n",
    "for TF in result_7:\n",
    "    if TF == True:\n",
    "        count_T_7 += 1"
   ]
  },
  {
   "cell_type": "code",
   "execution_count": 74,
   "id": "6f156ac0",
   "metadata": {},
   "outputs": [],
   "source": [
    "count_T_8 = 0\n",
    "for TF in result_8:\n",
    "    if TF == True:\n",
    "        count_T_8 += 1"
   ]
  },
  {
   "cell_type": "code",
   "execution_count": 75,
   "id": "2ccccfac",
   "metadata": {},
   "outputs": [],
   "source": [
    "count_T_9 = 0\n",
    "for TF in result_9:\n",
    "    if TF == True:\n",
    "        count_T_9 += 1"
   ]
  },
  {
   "cell_type": "code",
   "execution_count": 76,
   "id": "e760a8e1",
   "metadata": {},
   "outputs": [],
   "source": [
    "count_T_10 = 0\n",
    "for TF in result_10:\n",
    "    if TF == True:\n",
    "        count_T_10 += 1"
   ]
  },
  {
   "cell_type": "code",
   "execution_count": 77,
   "id": "e33a5c9d",
   "metadata": {},
   "outputs": [],
   "source": [
    "count_T_11 = 0\n",
    "for TF in result_11:\n",
    "    if TF == True:\n",
    "        count_T_11 += 1"
   ]
  },
  {
   "cell_type": "code",
   "execution_count": 78,
   "id": "dda3084f",
   "metadata": {},
   "outputs": [],
   "source": [
    "count_T_12 = 0\n",
    "for TF in result_12:\n",
    "    if TF == True:\n",
    "        count_T_12 += 1"
   ]
  },
  {
   "cell_type": "code",
   "execution_count": 107,
   "id": "ead9e74a",
   "metadata": {},
   "outputs": [],
   "source": [
    "count_T_13 = 0\n",
    "for TF in result_13:\n",
    "    if TF == True:\n",
    "        count_T_13 += 1"
   ]
  },
  {
   "cell_type": "code",
   "execution_count": 108,
   "id": "99c3c78a",
   "metadata": {},
   "outputs": [],
   "source": [
    "count_T_14 = 0\n",
    "for TF in result_14:\n",
    "    if TF == True:\n",
    "        count_T_14 += 1"
   ]
  },
  {
   "cell_type": "code",
   "execution_count": null,
   "id": "78e3d33f",
   "metadata": {},
   "outputs": [],
   "source": []
  },
  {
   "cell_type": "code",
   "execution_count": null,
   "id": "bf5dc04f",
   "metadata": {},
   "outputs": [],
   "source": []
  },
  {
   "cell_type": "code",
   "execution_count": null,
   "id": "65bb12dc",
   "metadata": {},
   "outputs": [],
   "source": []
  },
  {
   "cell_type": "code",
   "execution_count": null,
   "id": "2f337f37",
   "metadata": {},
   "outputs": [],
   "source": []
  },
  {
   "cell_type": "code",
   "execution_count": null,
   "id": "210f8bb4",
   "metadata": {},
   "outputs": [],
   "source": []
  },
  {
   "cell_type": "code",
   "execution_count": 79,
   "id": "01839e49",
   "metadata": {},
   "outputs": [
    {
     "data": {
      "text/plain": [
       "33"
      ]
     },
     "execution_count": 79,
     "metadata": {},
     "output_type": "execute_result"
    }
   ],
   "source": [
    "count_T_1# 100"
   ]
  },
  {
   "cell_type": "code",
   "execution_count": 80,
   "id": "4d308f87",
   "metadata": {},
   "outputs": [
    {
     "data": {
      "text/plain": [
       "44"
      ]
     },
     "execution_count": 80,
     "metadata": {},
     "output_type": "execute_result"
    }
   ],
   "source": [
    "count_T_3 #150"
   ]
  },
  {
   "cell_type": "code",
   "execution_count": 81,
   "id": "a4d3d418",
   "metadata": {},
   "outputs": [
    {
     "data": {
      "text/plain": [
       "48"
      ]
     },
     "execution_count": 81,
     "metadata": {},
     "output_type": "execute_result"
    }
   ],
   "source": [
    "count_T_2 #200"
   ]
  },
  {
   "cell_type": "code",
   "execution_count": null,
   "id": "cee2d0f2",
   "metadata": {},
   "outputs": [],
   "source": []
  },
  {
   "cell_type": "code",
   "execution_count": 82,
   "id": "5fee71cf",
   "metadata": {},
   "outputs": [
    {
     "data": {
      "text/plain": [
       "(0.4714285714285714, 0.6285714285714286, 0.6857142857142857)"
      ]
     },
     "execution_count": 82,
     "metadata": {},
     "output_type": "execute_result"
    }
   ],
   "source": [
    "33/70, 44/70, 48/70"
   ]
  },
  {
   "cell_type": "code",
   "execution_count": null,
   "id": "4c964984",
   "metadata": {},
   "outputs": [],
   "source": []
  },
  {
   "cell_type": "code",
   "execution_count": 83,
   "id": "16696c38",
   "metadata": {},
   "outputs": [
    {
     "data": {
      "text/plain": [
       "46"
      ]
     },
     "execution_count": 83,
     "metadata": {},
     "output_type": "execute_result"
    }
   ],
   "source": [
    "count_T_4 # mean 150"
   ]
  },
  {
   "cell_type": "code",
   "execution_count": 84,
   "id": "0d9f94fd",
   "metadata": {},
   "outputs": [
    {
     "data": {
      "text/plain": [
       "46"
      ]
     },
     "execution_count": 84,
     "metadata": {},
     "output_type": "execute_result"
    }
   ],
   "source": [
    "count_T_5 # saba 150"
   ]
  },
  {
   "cell_type": "code",
   "execution_count": null,
   "id": "b9ea48e1",
   "metadata": {},
   "outputs": [],
   "source": []
  },
  {
   "cell_type": "code",
   "execution_count": 85,
   "id": "d8017a0a",
   "metadata": {},
   "outputs": [
    {
     "data": {
      "text/plain": [
       "0.6571428571428571"
      ]
     },
     "execution_count": 85,
     "metadata": {},
     "output_type": "execute_result"
    }
   ],
   "source": [
    "46/70"
   ]
  },
  {
   "cell_type": "code",
   "execution_count": null,
   "id": "b92e59c6",
   "metadata": {},
   "outputs": [],
   "source": []
  },
  {
   "cell_type": "code",
   "execution_count": 86,
   "id": "210384b2",
   "metadata": {},
   "outputs": [
    {
     "data": {
      "text/plain": [
       "29"
      ]
     },
     "execution_count": 86,
     "metadata": {},
     "output_type": "execute_result"
    }
   ],
   "source": [
    "count_T_6 # mean 100"
   ]
  },
  {
   "cell_type": "code",
   "execution_count": 87,
   "id": "862bc99c",
   "metadata": {},
   "outputs": [
    {
     "data": {
      "text/plain": [
       "0.4142857142857143"
      ]
     },
     "execution_count": 87,
     "metadata": {},
     "output_type": "execute_result"
    }
   ],
   "source": [
    "29/70"
   ]
  },
  {
   "cell_type": "code",
   "execution_count": null,
   "id": "30be8f76",
   "metadata": {},
   "outputs": [],
   "source": []
  },
  {
   "cell_type": "code",
   "execution_count": 88,
   "id": "1f2e2286",
   "metadata": {},
   "outputs": [
    {
     "data": {
      "text/plain": [
       "51"
      ]
     },
     "execution_count": 88,
     "metadata": {},
     "output_type": "execute_result"
    }
   ],
   "source": [
    "count_T_7 # mean 200"
   ]
  },
  {
   "cell_type": "code",
   "execution_count": 89,
   "id": "d16fe291",
   "metadata": {},
   "outputs": [
    {
     "data": {
      "text/plain": [
       "0.7285714285714285"
      ]
     },
     "execution_count": 89,
     "metadata": {},
     "output_type": "execute_result"
    }
   ],
   "source": [
    "51/70"
   ]
  },
  {
   "cell_type": "code",
   "execution_count": null,
   "id": "10161180",
   "metadata": {},
   "outputs": [],
   "source": []
  },
  {
   "cell_type": "code",
   "execution_count": 90,
   "id": "2536ec13",
   "metadata": {},
   "outputs": [
    {
     "data": {
      "text/plain": [
       "44"
      ]
     },
     "execution_count": 90,
     "metadata": {},
     "output_type": "execute_result"
    }
   ],
   "source": [
    "count_T_8"
   ]
  },
  {
   "cell_type": "code",
   "execution_count": 91,
   "id": "6668edd1",
   "metadata": {},
   "outputs": [
    {
     "data": {
      "text/plain": [
       "0.6285714285714286"
      ]
     },
     "execution_count": 91,
     "metadata": {},
     "output_type": "execute_result"
    }
   ],
   "source": [
    "count_T_8/70"
   ]
  },
  {
   "cell_type": "code",
   "execution_count": null,
   "id": "317f6c38",
   "metadata": {},
   "outputs": [],
   "source": []
  },
  {
   "cell_type": "code",
   "execution_count": 92,
   "id": "6d068cdf",
   "metadata": {},
   "outputs": [
    {
     "data": {
      "text/plain": [
       "52"
      ]
     },
     "execution_count": 92,
     "metadata": {},
     "output_type": "execute_result"
    }
   ],
   "source": [
    "count_T_9"
   ]
  },
  {
   "cell_type": "code",
   "execution_count": 93,
   "id": "6ffff231",
   "metadata": {},
   "outputs": [
    {
     "data": {
      "text/plain": [
       "0.7428571428571429"
      ]
     },
     "execution_count": 93,
     "metadata": {},
     "output_type": "execute_result"
    }
   ],
   "source": [
    "count_T_9/70"
   ]
  },
  {
   "cell_type": "code",
   "execution_count": null,
   "id": "ad558ae8",
   "metadata": {},
   "outputs": [],
   "source": []
  },
  {
   "cell_type": "code",
   "execution_count": 94,
   "id": "694d85e2",
   "metadata": {},
   "outputs": [
    {
     "data": {
      "text/plain": [
       "52"
      ]
     },
     "execution_count": 94,
     "metadata": {},
     "output_type": "execute_result"
    }
   ],
   "source": [
    "count_T_10"
   ]
  },
  {
   "cell_type": "code",
   "execution_count": 95,
   "id": "a9bf8f58",
   "metadata": {},
   "outputs": [
    {
     "data": {
      "text/plain": [
       "0.7428571428571429"
      ]
     },
     "execution_count": 95,
     "metadata": {},
     "output_type": "execute_result"
    }
   ],
   "source": [
    "count_T_10/70"
   ]
  },
  {
   "cell_type": "code",
   "execution_count": null,
   "id": "72bf9b47",
   "metadata": {},
   "outputs": [],
   "source": []
  },
  {
   "cell_type": "code",
   "execution_count": 96,
   "id": "f9b08089",
   "metadata": {},
   "outputs": [
    {
     "data": {
      "text/plain": [
       "29"
      ]
     },
     "execution_count": 96,
     "metadata": {},
     "output_type": "execute_result"
    }
   ],
   "source": [
    "count_T_11"
   ]
  },
  {
   "cell_type": "code",
   "execution_count": 97,
   "id": "634533b7",
   "metadata": {},
   "outputs": [
    {
     "data": {
      "text/plain": [
       "0.4142857142857143"
      ]
     },
     "execution_count": 97,
     "metadata": {},
     "output_type": "execute_result"
    }
   ],
   "source": [
    "count_T_11/70"
   ]
  },
  {
   "cell_type": "code",
   "execution_count": null,
   "id": "37bd51ff",
   "metadata": {},
   "outputs": [],
   "source": []
  },
  {
   "cell_type": "code",
   "execution_count": 98,
   "id": "9fefa680",
   "metadata": {},
   "outputs": [
    {
     "data": {
      "text/plain": [
       "33"
      ]
     },
     "execution_count": 98,
     "metadata": {},
     "output_type": "execute_result"
    }
   ],
   "source": [
    "count_T_12"
   ]
  },
  {
   "cell_type": "code",
   "execution_count": 99,
   "id": "4b2a9a7d",
   "metadata": {},
   "outputs": [
    {
     "data": {
      "text/plain": [
       "0.4714285714285714"
      ]
     },
     "execution_count": 99,
     "metadata": {},
     "output_type": "execute_result"
    }
   ],
   "source": [
    "count_T_12/70"
   ]
  },
  {
   "cell_type": "code",
   "execution_count": null,
   "id": "ea540604",
   "metadata": {},
   "outputs": [],
   "source": []
  },
  {
   "cell_type": "code",
   "execution_count": 109,
   "id": "986e1408",
   "metadata": {},
   "outputs": [
    {
     "data": {
      "text/plain": [
       "68"
      ]
     },
     "execution_count": 109,
     "metadata": {},
     "output_type": "execute_result"
    }
   ],
   "source": [
    "count_T_13"
   ]
  },
  {
   "cell_type": "code",
   "execution_count": 110,
   "id": "0d2a9069",
   "metadata": {},
   "outputs": [
    {
     "data": {
      "text/plain": [
       "0.9714285714285714"
      ]
     },
     "execution_count": 110,
     "metadata": {},
     "output_type": "execute_result"
    }
   ],
   "source": [
    "count_T_13/70"
   ]
  },
  {
   "cell_type": "code",
   "execution_count": null,
   "id": "31d63290",
   "metadata": {},
   "outputs": [],
   "source": []
  },
  {
   "cell_type": "code",
   "execution_count": 111,
   "id": "5b9b37d2",
   "metadata": {},
   "outputs": [
    {
     "data": {
      "text/plain": [
       "69"
      ]
     },
     "execution_count": 111,
     "metadata": {},
     "output_type": "execute_result"
    }
   ],
   "source": [
    "count_T_14"
   ]
  },
  {
   "cell_type": "code",
   "execution_count": 112,
   "id": "91975a5a",
   "metadata": {},
   "outputs": [
    {
     "data": {
      "text/plain": [
       "0.9857142857142858"
      ]
     },
     "execution_count": 112,
     "metadata": {},
     "output_type": "execute_result"
    }
   ],
   "source": [
    "count_T_14/70"
   ]
  },
  {
   "cell_type": "code",
   "execution_count": null,
   "id": "4c8862a9",
   "metadata": {},
   "outputs": [],
   "source": []
  },
  {
   "cell_type": "code",
   "execution_count": null,
   "id": "973128dd",
   "metadata": {},
   "outputs": [],
   "source": []
  },
  {
   "cell_type": "code",
   "execution_count": null,
   "id": "e81518a7",
   "metadata": {},
   "outputs": [],
   "source": []
  },
  {
   "cell_type": "code",
   "execution_count": null,
   "id": "478df2ec",
   "metadata": {},
   "outputs": [],
   "source": []
  }
 ],
 "metadata": {
  "kernelspec": {
   "display_name": "Python 3 (ipykernel)",
   "language": "python",
   "name": "python3"
  },
  "language_info": {
   "codemirror_mode": {
    "name": "ipython",
    "version": 3
   },
   "file_extension": ".py",
   "mimetype": "text/x-python",
   "name": "python",
   "nbconvert_exporter": "python",
   "pygments_lexer": "ipython3",
   "version": "3.9.7"
  }
 },
 "nbformat": 4,
 "nbformat_minor": 5
}
