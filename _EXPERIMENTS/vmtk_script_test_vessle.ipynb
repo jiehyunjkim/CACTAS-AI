{
 "cells": [
  {
   "cell_type": "code",
   "execution_count": 1,
   "id": "b3aad0dc",
   "metadata": {},
   "outputs": [],
   "source": [
    "from vmtk import vmtkscripts, vtkvmtk\n",
    "import numpy as np\n",
    "import vtk\n",
    "import matplotlib.pyplot as plt "
   ]
  },
  {
   "cell_type": "code",
   "execution_count": null,
   "id": "f7788029",
   "metadata": {},
   "outputs": [],
   "source": []
  },
  {
   "cell_type": "code",
   "execution_count": 2,
   "id": "b39b3e55",
   "metadata": {},
   "outputs": [
    {
     "name": "stdout",
     "output_type": "stream",
     "text": [
      "Spacing 0.722656 0.722656 1.000000\n",
      "Origin -26.376944 -33.242176 -9.500000\n",
      "Dimensions 74 93 20\n"
     ]
    }
   ],
   "source": [
    "imageReader = vmtkscripts.vmtkImageReader()\n",
    "imageReader.InputFileName = '/home/jiehyun.kim001/Desktop/avf.nii.gz'\n",
    "#imageReader.InputFileName = '/home/jiehyun.kim001/Desktop/62.img.nrrd'\n",
    "imageReader.Execute()"
   ]
  },
  {
   "cell_type": "code",
   "execution_count": null,
   "id": "4ae3b081",
   "metadata": {},
   "outputs": [],
   "source": []
  },
  {
   "cell_type": "code",
   "execution_count": 3,
   "id": "7a682109",
   "metadata": {},
   "outputs": [],
   "source": [
    "#imageNumpyAdaptor = vmtkscripts.vmtkImageToNumpy()\n",
    "#imageNumpyAdaptor.Image = imageReader.Image\n",
    "#imageNumpyAdaptor.Execute()\n",
    "#numpyImage = imageNumpyAdaptor.ArrayDict"
   ]
  },
  {
   "cell_type": "code",
   "execution_count": 4,
   "id": "67f03831",
   "metadata": {},
   "outputs": [],
   "source": [
    "#numpyImage"
   ]
  },
  {
   "cell_type": "code",
   "execution_count": 5,
   "id": "f093e877",
   "metadata": {},
   "outputs": [],
   "source": [
    "#image = numpyImage['PointData']['ImageScalars']"
   ]
  },
  {
   "cell_type": "code",
   "execution_count": 6,
   "id": "ad205c99",
   "metadata": {},
   "outputs": [],
   "source": [
    "#for i in range(20):\n",
    "#    plt.imshow(image[:,:,i])\n",
    "#    plt.show()"
   ]
  },
  {
   "cell_type": "code",
   "execution_count": null,
   "id": "bec7323e",
   "metadata": {},
   "outputs": [],
   "source": []
  },
  {
   "cell_type": "code",
   "execution_count": null,
   "id": "5974fdf5",
   "metadata": {},
   "outputs": [],
   "source": []
  },
  {
   "cell_type": "code",
   "execution_count": null,
   "id": "cfe682d1",
   "metadata": {},
   "outputs": [],
   "source": []
  },
  {
   "cell_type": "code",
   "execution_count": 3,
   "id": "7e251760",
   "metadata": {},
   "outputs": [
    {
     "name": "stdout",
     "output_type": "stream",
     "text": [
      "Spacing 0.722656 0.722656 1.000000\n",
      "Origin -26.376944 -33.242176 -9.500000\n",
      "Dimensions 74 93 20\n"
     ]
    }
   ],
   "source": [
    "imageReader_ca = vmtkscripts.vmtkImageReader()\n",
    "#imageReader_ca.InputFileName = '/home/jiehyun.kim001/Desktop/common_carotid_artery_right.nii.gz'\n",
    "imageReader_ca.InputFileName = '/home/jiehyun.kim001/Desktop/Segmentation_3.seg.nrrd'\n",
    "imageReader_ca.Execute()"
   ]
  },
  {
   "cell_type": "code",
   "execution_count": 8,
   "id": "02547c01",
   "metadata": {},
   "outputs": [],
   "source": [
    "#imageNumpyAdaptor_ca = vmtkscripts.vmtkImageToNumpy()\n",
    "#imageNumpyAdaptor_ca.Image = imageReader_ca.Image\n",
    "#imageNumpyAdaptor_ca.Execute()\n",
    "#numpyImage_ca = imageNumpyAdaptor_ca.ArrayDict"
   ]
  },
  {
   "cell_type": "code",
   "execution_count": 9,
   "id": "2bc8b9aa",
   "metadata": {},
   "outputs": [],
   "source": [
    "#numpyImage_ca"
   ]
  },
  {
   "cell_type": "code",
   "execution_count": 10,
   "id": "07a59eca",
   "metadata": {},
   "outputs": [],
   "source": [
    "#CA = numpyImage_ca['PointData']['ImageScalars']"
   ]
  },
  {
   "cell_type": "code",
   "execution_count": 11,
   "id": "c5f703cd",
   "metadata": {},
   "outputs": [],
   "source": [
    "#for i in range(20):\n",
    "#    plt.imshow(CA[:,:,i])\n",
    "#    plt.show()"
   ]
  },
  {
   "cell_type": "code",
   "execution_count": null,
   "id": "7c2cedbe",
   "metadata": {},
   "outputs": [],
   "source": []
  },
  {
   "cell_type": "code",
   "execution_count": null,
   "id": "46b484b5",
   "metadata": {},
   "outputs": [],
   "source": []
  },
  {
   "cell_type": "code",
   "execution_count": 4,
   "id": "005272c7",
   "metadata": {},
   "outputs": [],
   "source": [
    "vmtklevelset = vmtkscripts.vmtkLevelSetSegmentation()"
   ]
  },
  {
   "cell_type": "code",
   "execution_count": 5,
   "id": "b8402dad",
   "metadata": {},
   "outputs": [],
   "source": [
    "#vmtklevelset.Image = '/home/jiehyun.kim001/Desktop/62_img.nrrd'\n",
    "vmtklevelset.Image = imageReader.Image\n",
    "#vmtklevelset.Image = image\n",
    "#vmtklevelset.LevelSetsInput = '/home/jiehyun.kim001/Desktop/common_carotid_artery_right.nii.gz'\n",
    "vmtklevelset.LevelSetsInput = imageReader_ca.Image\n",
    "vmtklevelset.LevelSetsOutput = '/home/jiehyun.kim001/Desktop/output_12.nrrd'\n",
    "#vmtklevelset.LevelSets = imageReader_ca.Image\n",
    "#vmtklevelset.InitialLevelSets = imageReader_ca.Image\n",
    "#vmtklevelset.LevelSetsType = 'threshold'\n",
    "#vmtklevelset.UpperThreshold = 1150.0\n",
    "#vmtklevelset.LowerThreshold = 135.0\n",
    "#vmtklevelset.NumberOfIterations = 10"
   ]
  },
  {
   "cell_type": "code",
   "execution_count": 6,
   "id": "781cc709",
   "metadata": {
    "scrolled": false
   },
   "outputs": [
    {
     "name": "stdout",
     "output_type": "stream",
     "text": [
      "Please choose initialization type: \n",
      " 0: colliding fronts;\n",
      " 1: fast marching;\n",
      " 2: threshold;\n",
      " 3: isosurface;\n",
      " 4: seed\n",
      " Colliding fronts initialization.\n",
      "Please input lower threshold ('n' for none): Please input upper threshold ('n' for none): Please place two seeds (click on the image while pressing Ctrl).\n",
      "Quit renderer\n",
      "Displaying.\n",
      "Accept initialization? (y/n): Displaying.\n",
      "Initialize another branch? (y/n): Please choose initialization type: \n",
      " 0: colliding fronts;\n",
      " 1: fast marching;\n",
      " 2: threshold;\n",
      " 3: isosurface;\n",
      " 4: seed\n",
      " Threshold initialization.\n",
      "Please input lower threshold ('n' for none): Please input upper threshold ('n' for none): Displaying.\n",
      "Accept initialization? (y/n): Displaying.\n",
      "Initialize another branch? (y/n): Please input parameters (type return to accept current values, 'e' to end, 'q' to quit):\n",
      "Progress: 100%ions(0) [PropagationScaling(0.0) CurvatureScaling(0.0) AdvectionScaling(1.0)]: Progress: 1%Progress: 2%Progress: 3%Progress: 4%Progress: 5%Progress: 6%Progress: 7%Progress: 8%Progress: 9%Progress: 10%Progress: 11%Progress: 12%Progress: 13%Progress: 14%Progress: 15%Progress: 16%Progress: 17%Progress: 18%Progress: 19%Progress: 20%Progress: 21%Progress: 22%Progress: 23%Progress: 24%Progress: 25%Progress: 26%Progress: 27%Progress: 28%Progress: 29%Progress: 30%Progress: 31%Progress: 32%Progress: 33%Progress: 34%Progress: 35%Progress: 36%Progress: 37%Progress: 38%Progress: 39%Progress: 40%Progress: 41%Progress: 42%Progress: 43%Progress: 44%Progress: 45%Progress: 46%Progress: 47%Progress: 48%Progress: 49%Progress: 50%Progress: 51%Progress: 52%Progress: 53%Progress: 54%Progress: 55%Progress: 56%Progress: 57%Progress: 58%Progress: 59%Progress: 60%Progress: 61%Progress: 62%Progress: 63%Progress: 64%Progress: 65%Progress: 66%Progress: 67%Progress: 68%Progress: 69%Progress: 70%Progress: 71%Progress: 72%Progress: 73%Progress: 74%Progress: 75%Progress: 76%Progress: 77%Progress: 78%Progress: 79%Progress: 80%Progress: 81%Progress: 82%Progress: 83%Progress: 84%Progress: 85%Progress: 86%Progress: 87%Progress: 88%Progress: 89%Progress: 90%Progress: 91%Progress: 92%Progress: 93%Progress: 94%Progress: 95%Progress: 96%Progress: 97%Progress: 98%Progress: 99%Progress: 100%\n",
      "Displaying.\n",
      "Accept result? (y/n): Merge branch? (y/n): Displaying.\n",
      "Segment another branch? (y/n): "
     ]
    }
   ],
   "source": [
    "vmtklevelset.Execute()"
   ]
  },
  {
   "cell_type": "code",
   "execution_count": null,
   "id": "3739a34c",
   "metadata": {},
   "outputs": [],
   "source": []
  },
  {
   "cell_type": "code",
   "execution_count": 17,
   "id": "27ba6fdf",
   "metadata": {},
   "outputs": [],
   "source": [
    "#viewer = vmtkscripts.vmtkImageViewer()\n",
    "#viewer.Image = vmtklevelset.LevelSets\n",
    "#viewer.Execute()"
   ]
  },
  {
   "cell_type": "code",
   "execution_count": null,
   "id": "cfe7a393",
   "metadata": {},
   "outputs": [],
   "source": []
  },
  {
   "cell_type": "code",
   "execution_count": 18,
   "id": "88105ef1",
   "metadata": {},
   "outputs": [],
   "source": [
    "lvst = vmtklevelset.LevelSets"
   ]
  },
  {
   "cell_type": "code",
   "execution_count": 19,
   "id": "d938b5df",
   "metadata": {},
   "outputs": [
    {
     "data": {
      "text/plain": [
       "(74, 93, 20)"
      ]
     },
     "execution_count": 19,
     "metadata": {},
     "output_type": "execute_result"
    }
   ],
   "source": [
    "lvst.GetDimensions()"
   ]
  },
  {
   "cell_type": "code",
   "execution_count": null,
   "id": "edaed12e",
   "metadata": {},
   "outputs": [],
   "source": []
  },
  {
   "cell_type": "code",
   "execution_count": null,
   "id": "d60a4e57",
   "metadata": {},
   "outputs": [],
   "source": []
  },
  {
   "cell_type": "code",
   "execution_count": null,
   "id": "103979ac",
   "metadata": {},
   "outputs": [],
   "source": []
  },
  {
   "cell_type": "code",
   "execution_count": 20,
   "id": "20ad3956",
   "metadata": {},
   "outputs": [
    {
     "name": "stdout",
     "output_type": "stream",
     "text": [
      "wrapping vtkDataObject\n",
      "setting origin\n",
      "setting dimensions\n",
      "setting spacing\n",
      "writing point data: \n"
     ]
    }
   ],
   "source": [
    "imageNumpyAdaptor_oCA = vmtkscripts.vmtkImageToNumpy()\n",
    "imageNumpyAdaptor_oCA.Image = lvst\n",
    "imageNumpyAdaptor_oCA.Execute()\n",
    "numpyImage_oCA = imageNumpyAdaptor_oCA.ArrayDict"
   ]
  },
  {
   "cell_type": "code",
   "execution_count": 30,
   "id": "88fb570b",
   "metadata": {},
   "outputs": [],
   "source": [
    "#numpyImage_oCA "
   ]
  },
  {
   "cell_type": "code",
   "execution_count": 31,
   "id": "e17bb535",
   "metadata": {},
   "outputs": [],
   "source": [
    "output_oCA = numpyImage_oCA['PointData']['ImageScalars']"
   ]
  },
  {
   "cell_type": "code",
   "execution_count": 33,
   "id": "575a3f46",
   "metadata": {},
   "outputs": [
    {
     "data": {
      "image/png": "[encoded data removed]",
      "text/plain": [
       "<Figure size 432x288 with 1 Axes>"
      ]
     },
     "metadata": {
      "needs_background": "light"
     },
     "output_type": "display_data"
    }
   ],
   "source": [
    "#for i in range(20):\n",
    "plt.imshow(output_oCA[:,:,10])\n",
    "plt.show()"
   ]
  },
  {
   "cell_type": "code",
   "execution_count": null,
   "id": "d03b5546",
   "metadata": {},
   "outputs": [],
   "source": []
  },
  {
   "cell_type": "code",
   "execution_count": null,
   "id": "695e03ab",
   "metadata": {},
   "outputs": [],
   "source": []
  },
  {
   "cell_type": "code",
   "execution_count": null,
   "id": "6f957be9",
   "metadata": {},
   "outputs": [],
   "source": []
  },
  {
   "cell_type": "code",
   "execution_count": null,
   "id": "ab0ff36c",
   "metadata": {},
   "outputs": [],
   "source": []
  },
  {
   "cell_type": "code",
   "execution_count": null,
   "id": "c3353c1c",
   "metadata": {},
   "outputs": [],
   "source": []
  },
  {
   "cell_type": "code",
   "execution_count": null,
   "id": "de71653c",
   "metadata": {},
   "outputs": [],
   "source": []
  }
 ],
 "metadata": {
  "kernelspec": {
   "display_name": "Python 3",
   "language": "python",
   "name": "python3"
  },
  "language_info": {
   "codemirror_mode": {
    "name": "ipython",
    "version": 3
   },
   "file_extension": ".py",
   "mimetype": "text/x-python",
   "name": "python",
   "nbconvert_exporter": "python",
   "pygments_lexer": "ipython3",
   "version": "3.6.1"
  }
 },
 "nbformat": 4,
 "nbformat_minor": 5
}
