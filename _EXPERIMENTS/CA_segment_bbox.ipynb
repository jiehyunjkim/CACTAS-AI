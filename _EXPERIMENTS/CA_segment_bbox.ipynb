{
 "cells": [
  {
   "cell_type": "code",
   "execution_count": 1,
   "id": "7a662294",
   "metadata": {},
   "outputs": [
    {
     "name": "stdout",
     "output_type": "stream",
     "text": [
      "Populating the interactive namespace from numpy and matplotlib\n"
     ]
    }
   ],
   "source": [
    "%pylab inline\n",
    "%load_ext autoreload\n",
    "%autoreload 2"
   ]
  },
  {
   "cell_type": "code",
   "execution_count": 2,
   "id": "bc7d3933",
   "metadata": {},
   "outputs": [],
   "source": [
    "import cactas as C\n",
    "import os\n",
    "import mahotas as mh\n",
    "import nrrd"
   ]
  },
  {
   "cell_type": "code",
   "execution_count": 3,
   "id": "5b2d930e",
   "metadata": {},
   "outputs": [],
   "source": [
    "DATAPATH='/raid/mpsych/CACTAS/DATA/ESUS/'\n",
    "TS_PATH='/raid/mpsych/CACTAS/DATA/TS/'\n",
    "output_dir='/raid/mpsych/CACTAS/DATA/CA4'"
   ]
  },
  {
   "cell_type": "code",
   "execution_count": 4,
   "id": "f0e855c4",
   "metadata": {},
   "outputs": [],
   "source": [
    "images, labels = C.Helper.load_data(DATAPATH)"
   ]
  },
  {
   "cell_type": "code",
   "execution_count": null,
   "id": "793d85ed",
   "metadata": {},
   "outputs": [],
   "source": []
  },
  {
   "cell_type": "code",
   "execution_count": 5,
   "id": "2a2e2f28",
   "metadata": {},
   "outputs": [],
   "source": [
    "ids=[]\n",
    "for f in labels:\n",
    "    if f.endswith('b.seg.nrrd'):\n",
    "        current_id = f.split('.')[0]\n",
    "        ids += [int(current_id)]"
   ]
  },
  {
   "cell_type": "code",
   "execution_count": null,
   "id": "38edd329",
   "metadata": {},
   "outputs": [],
   "source": []
  },
  {
   "cell_type": "code",
   "execution_count": null,
   "id": "2f608f60",
   "metadata": {},
   "outputs": [],
   "source": []
  },
  {
   "cell_type": "code",
   "execution_count": 6,
   "id": "7a4e6107",
   "metadata": {},
   "outputs": [],
   "source": [
    "seg_list=[]\n",
    "for i in range(len(ids)):\n",
    "    data, header = nrrd.read(DATAPATH + \"/\" + labels[i])\n",
    "    segment = mh.bbox(data)\n",
    "    seg_list.append(segment)\n",
    "seg_list=np.array(seg_list)"
   ]
  },
  {
   "cell_type": "code",
   "execution_count": 21,
   "id": "7cb5d71b",
   "metadata": {},
   "outputs": [],
   "source": [
    "#len(seg_list)"
   ]
  },
  {
   "cell_type": "code",
   "execution_count": 18,
   "id": "f43aa41d",
   "metadata": {},
   "outputs": [],
   "source": [
    "#seg_list"
   ]
  },
  {
   "cell_type": "code",
   "execution_count": null,
   "id": "b6d6b23c",
   "metadata": {},
   "outputs": [],
   "source": []
  },
  {
   "cell_type": "code",
   "execution_count": 8,
   "id": "6e2c50ad",
   "metadata": {},
   "outputs": [],
   "source": [
    "sorted_subfolders = sorted(os.listdir(output_dir), \n",
    "                           key=lambda x: ids.index(int(x.split(\".\")[0])) if x.split(\".\")[0].isdigit() and int(x.split(\".\")[0]) in ids else -1)"
   ]
  },
  {
   "cell_type": "code",
   "execution_count": 9,
   "id": "c889c8a1",
   "metadata": {},
   "outputs": [],
   "source": [
    "combined = []\n",
    "\n",
    "for subfolder in sorted_subfolders:\n",
    "    subfolder_path = os.path.join(output_dir, subfolder)\n",
    "    data, header = nrrd.read(subfolder_path)\n",
    "    bbox = mh.bbox(data)\n",
    "    combined.append(bbox)\n",
    "\n",
    "combined = np.array(combined)"
   ]
  },
  {
   "cell_type": "code",
   "execution_count": 10,
   "id": "1a1885b4",
   "metadata": {},
   "outputs": [
    {
     "data": {
      "text/plain": [
       "70"
      ]
     },
     "execution_count": 10,
     "metadata": {},
     "output_type": "execute_result"
    }
   ],
   "source": [
    "len(combined)"
   ]
  },
  {
   "cell_type": "code",
   "execution_count": 19,
   "id": "f1853f82",
   "metadata": {},
   "outputs": [],
   "source": [
    "#combined"
   ]
  },
  {
   "cell_type": "code",
   "execution_count": null,
   "id": "c98473b8",
   "metadata": {},
   "outputs": [],
   "source": []
  },
  {
   "cell_type": "code",
   "execution_count": 24,
   "id": "4ac0440d",
   "metadata": {},
   "outputs": [],
   "source": [
    "def is_within(a, b):\n",
    "    result = []\n",
    "    for bbox_b in b:\n",
    "        within = False\n",
    "        for bbox_a in a:\n",
    "            if (bbox_a[0] <= bbox_b[0] and bbox_a[1] >= bbox_b[1] and\n",
    "                    bbox_a[2] <= bbox_b[2] and bbox_a[3] >= bbox_b[3] and\n",
    "                    bbox_a[4] <= bbox_b[4] and bbox_a[5] >= bbox_b[5]):\n",
    "                within = True\n",
    "                break\n",
    "        result.append(within)\n",
    "    return result"
   ]
  },
  {
   "cell_type": "code",
   "execution_count": 25,
   "id": "ff487330",
   "metadata": {},
   "outputs": [],
   "source": [
    "result = is_within(combined, seg_list)"
   ]
  },
  {
   "cell_type": "code",
   "execution_count": 26,
   "id": "f0bbf033",
   "metadata": {},
   "outputs": [
    {
     "data": {
      "text/plain": [
       "[True,\n",
       " True,\n",
       " True,\n",
       " True,\n",
       " True,\n",
       " True,\n",
       " True,\n",
       " True,\n",
       " True,\n",
       " True,\n",
       " True,\n",
       " True,\n",
       " True,\n",
       " True,\n",
       " True,\n",
       " True,\n",
       " True,\n",
       " True,\n",
       " True,\n",
       " True,\n",
       " True,\n",
       " True,\n",
       " True,\n",
       " True,\n",
       " True,\n",
       " True,\n",
       " True,\n",
       " True,\n",
       " True,\n",
       " True,\n",
       " True,\n",
       " True,\n",
       " True,\n",
       " True,\n",
       " False,\n",
       " True,\n",
       " True,\n",
       " True,\n",
       " True,\n",
       " True,\n",
       " True,\n",
       " True,\n",
       " True,\n",
       " True,\n",
       " True,\n",
       " True,\n",
       " True,\n",
       " True,\n",
       " True,\n",
       " True,\n",
       " True,\n",
       " True,\n",
       " True,\n",
       " True,\n",
       " True,\n",
       " True,\n",
       " True,\n",
       " True,\n",
       " True,\n",
       " True,\n",
       " True,\n",
       " True,\n",
       " True,\n",
       " True,\n",
       " True,\n",
       " True,\n",
       " True,\n",
       " True,\n",
       " True,\n",
       " True]"
      ]
     },
     "execution_count": 26,
     "metadata": {},
     "output_type": "execute_result"
    }
   ],
   "source": [
    "result"
   ]
  },
  {
   "cell_type": "code",
   "execution_count": null,
   "id": "a092d182",
   "metadata": {},
   "outputs": [],
   "source": []
  }
 ],
 "metadata": {
  "kernelspec": {
   "display_name": "Python 3 (ipykernel)",
   "language": "python",
   "name": "python3"
  },
  "language_info": {
   "codemirror_mode": {
    "name": "ipython",
    "version": 3
   },
   "file_extension": ".py",
   "mimetype": "text/x-python",
   "name": "python",
   "nbconvert_exporter": "python",
   "pygments_lexer": "ipython3",
   "version": "3.9.7"
  }
 },
 "nbformat": 4,
 "nbformat_minor": 5
}
