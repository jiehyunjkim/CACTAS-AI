{
 "cells": [
  {
   "cell_type": "code",
   "execution_count": 1,
   "id": "5eebebed",
   "metadata": {},
   "outputs": [
    {
     "name": "stdout",
     "output_type": "stream",
     "text": [
      "Populating the interactive namespace from numpy and matplotlib\n"
     ]
    }
   ],
   "source": [
    "%pylab inline\n",
    "%load_ext autoreload\n",
    "%autoreload 2"
   ]
  },
  {
   "cell_type": "code",
   "execution_count": 2,
   "id": "1db43f95",
   "metadata": {},
   "outputs": [
    {
     "name": "stderr",
     "output_type": "stream",
     "text": [
      "2024-10-01 01:02:14.869828: I tensorflow/stream_executor/platform/default/dso_loader.cc:53] Successfully opened dynamic library libcudart.so.11.0\n"
     ]
    }
   ],
   "source": [
    "import cactas as C\n",
    "import tensorflow as tf\n",
    "import pickle\n",
    "import mahotas as mh\n",
    "from sklearn.model_selection import KFold\n",
    "from keras import backend as K\n",
    "import nrrd\n",
    "from sklearn.model_selection import KFold, train_test_split"
   ]
  },
  {
   "cell_type": "code",
   "execution_count": null,
   "id": "c7599e1d",
   "metadata": {},
   "outputs": [],
   "source": []
  },
  {
   "cell_type": "code",
   "execution_count": 3,
   "id": "ca9de1bc",
   "metadata": {},
   "outputs": [],
   "source": [
    "DATAPATH='/raid/mpsych/CACTAS/DATA/ESUS'\n",
    "CAPATH='/raid/mpsych/CACTAS/DATA/CA_ESUS3'"
   ]
  },
  {
   "cell_type": "code",
   "execution_count": null,
   "id": "92be68f5",
   "metadata": {},
   "outputs": [],
   "source": []
  },
  {
   "cell_type": "code",
   "execution_count": 4,
   "id": "fca92c1b",
   "metadata": {},
   "outputs": [],
   "source": [
    "# Load files"
   ]
  },
  {
   "cell_type": "code",
   "execution_count": 5,
   "id": "c2588b51",
   "metadata": {},
   "outputs": [],
   "source": [
    "images, labels = C.Helper.load_data(DATAPATH)"
   ]
  },
  {
   "cell_type": "code",
   "execution_count": 6,
   "id": "7881f480",
   "metadata": {},
   "outputs": [],
   "source": [
    "masks = C.Helper.load_seg_data(CAPATH)"
   ]
  },
  {
   "cell_type": "code",
   "execution_count": 7,
   "id": "b0a31482",
   "metadata": {},
   "outputs": [],
   "source": [
    "#len(images), len(labels), len(masks)"
   ]
  },
  {
   "cell_type": "code",
   "execution_count": null,
   "id": "e21f82ba",
   "metadata": {},
   "outputs": [],
   "source": []
  },
  {
   "cell_type": "code",
   "execution_count": 8,
   "id": "b7753eb0",
   "metadata": {},
   "outputs": [],
   "source": [
    "# list data in same order"
   ]
  },
  {
   "cell_type": "code",
   "execution_count": 9,
   "id": "df0ddb9e",
   "metadata": {},
   "outputs": [],
   "source": [
    "numbers = [filename.split(\".\")[0] for filename in images]\n",
    "label_dict = {filename.split(\".\")[0]: filename for filename in labels}\n",
    "mask_dict = {filename.split(\".\")[0]: filename for filename in masks}\n",
    "\n",
    "data = [(filename, label_dict[filename.split(\".\")[0]], mask_dict[filename.split(\".\")[0]]) for filename in images]"
   ]
  },
  {
   "cell_type": "code",
   "execution_count": 10,
   "id": "3068d05c",
   "metadata": {},
   "outputs": [],
   "source": [
    "#len(numbers)"
   ]
  },
  {
   "cell_type": "code",
   "execution_count": null,
   "id": "50cceddc",
   "metadata": {},
   "outputs": [],
   "source": []
  },
  {
   "cell_type": "code",
   "execution_count": null,
   "id": "1824e181",
   "metadata": {},
   "outputs": [],
   "source": []
  },
  {
   "cell_type": "code",
   "execution_count": 11,
   "id": "22a8046f",
   "metadata": {},
   "outputs": [],
   "source": [
    "X_train = []\n",
    "y_train = []\n",
    "m_train = []"
   ]
  },
  {
   "cell_type": "code",
   "execution_count": 12,
   "id": "c30a2ae0",
   "metadata": {},
   "outputs": [],
   "source": [
    "data.sort(key=lambda x: (x[0].split(\".\")[0] in numbers, random.random()))\n",
    "\n",
    "for image, label, mask in data:\n",
    "    if image.split(\".\")[0] in numbers:\n",
    "        X_train.append(image)\n",
    "        y_train.append(label)\n",
    "        m_train.append(mask)"
   ]
  },
  {
   "cell_type": "code",
   "execution_count": null,
   "id": "61dc15b1",
   "metadata": {},
   "outputs": [],
   "source": []
  },
  {
   "cell_type": "code",
   "execution_count": 13,
   "id": "bf9104b5",
   "metadata": {},
   "outputs": [],
   "source": [
    "num_patients = len(images)"
   ]
  },
  {
   "cell_type": "code",
   "execution_count": 14,
   "id": "b9533acc",
   "metadata": {},
   "outputs": [
    {
     "data": {
      "text/plain": [
       "70"
      ]
     },
     "execution_count": 14,
     "metadata": {},
     "output_type": "execute_result"
    }
   ],
   "source": [
    "num_patients"
   ]
  },
  {
   "cell_type": "code",
   "execution_count": null,
   "id": "66e173d5",
   "metadata": {},
   "outputs": [],
   "source": []
  },
  {
   "cell_type": "code",
   "execution_count": 15,
   "id": "b844d4fd",
   "metadata": {},
   "outputs": [],
   "source": [
    "img = []\n",
    "label = []\n",
    "mask = []"
   ]
  },
  {
   "cell_type": "code",
   "execution_count": 16,
   "id": "e81084ac",
   "metadata": {},
   "outputs": [],
   "source": [
    "# read and normalize data\n",
    "for file in X_train:\n",
    "    data, header = nrrd.read(DATAPATH + \"/\" +file)\n",
    "    normalized_data = (data - np.min(data)) / (np.max(data) - np.min(data))\n",
    "    img.append(normalized_data)\n",
    "\n",
    "for file in y_train:\n",
    "    data, header = nrrd.read(DATAPATH + \"/\" + file)\n",
    "    label.append(data)\n",
    "\n",
    "for file in m_train:\n",
    "    data, header = nrrd.read(CAPATH + \"/\" + file)\n",
    "    normalized_data = (data - np.min(data)) / (np.max(data) - np.min(data))\n",
    "    mask.append(normalized_data)"
   ]
  },
  {
   "cell_type": "code",
   "execution_count": 17,
   "id": "e92fcef2",
   "metadata": {},
   "outputs": [
    {
     "data": {
      "text/plain": [
       "((512, 512, 200), (512, 512, 200), (512, 512, 200))"
      ]
     },
     "execution_count": 17,
     "metadata": {},
     "output_type": "execute_result"
    }
   ],
   "source": [
    "img[0].shape, label[0].shape, mask[0].shape"
   ]
  },
  {
   "cell_type": "code",
   "execution_count": null,
   "id": "cf34eb2d",
   "metadata": {},
   "outputs": [],
   "source": []
  },
  {
   "cell_type": "code",
   "execution_count": 18,
   "id": "c4a5aa30",
   "metadata": {},
   "outputs": [],
   "source": [
    "# extract data"
   ]
  },
  {
   "cell_type": "code",
   "execution_count": 19,
   "id": "dbee7c2e",
   "metadata": {},
   "outputs": [],
   "source": [
    "# Image\n",
    "slices = []\n",
    "for i in range(len(img)):\n",
    "    for z in range(img[i].shape[2]):\n",
    "        slice_2d = img[i][:, :, z]\n",
    "        slices.append(slice_2d)\n",
    "X_train_array = np.array(slices)\n",
    "\n",
    "# Label\n",
    "slices1 = []\n",
    "for i in range(len(label)):\n",
    "    for z in range(label[i].shape[2]):\n",
    "        slice_2d = label[i][:, :, z]\n",
    "        slices1.append(slice_2d)\n",
    "\n",
    "new_slices = []\n",
    "for i in range(len(slices1)):\n",
    "    slices = np.where(slices1[i] != 0, True, False)\n",
    "    new_slices.append(slices)\n",
    "y_train_array = np.array(new_slices)\n",
    "\n",
    "# Mask\n",
    "slices_mtrain=[]\n",
    "for i in range(len(mask)):\n",
    "    for z in range(mask[i].shape[2]):\n",
    "        slice_2d = mask[i][:, :, z]\n",
    "        dilated = mh.dilate(slice_2d.astype(np.bool_))\n",
    "        for _ in range(9):\n",
    "            dilated = mh.dilate(dilated)\n",
    "        slices_mtrain.append(dilated)\n",
    "m_train_array = np.array(slices_mtrain)"
   ]
  },
  {
   "cell_type": "code",
   "execution_count": 20,
   "id": "b06ac796",
   "metadata": {},
   "outputs": [],
   "source": [
    "X_train_array = X_train_array.reshape(X_train_array.shape[0], X_train_array.shape[1],X_train_array.shape[2], 1)\n",
    "y_train_array = y_train_array.reshape(y_train_array.shape[0], y_train_array.shape[1],y_train_array.shape[2], 1)\n",
    "m_train_array = m_train_array.reshape(m_train_array.shape[0], m_train_array.shape[1],m_train_array.shape[2], 1)"
   ]
  },
  {
   "cell_type": "code",
   "execution_count": 21,
   "id": "122d9979",
   "metadata": {},
   "outputs": [],
   "source": [
    "# print(X_train_array.shape, y_train_array.shape, m_train_array.shape)"
   ]
  },
  {
   "cell_type": "code",
   "execution_count": 22,
   "id": "9ed030d0",
   "metadata": {},
   "outputs": [],
   "source": [
    "# X_train_array.dtype, y_train_array.dtype, m_train_array.dtype"
   ]
  },
  {
   "cell_type": "code",
   "execution_count": 23,
   "id": "b98f6231",
   "metadata": {},
   "outputs": [],
   "source": [
    "X_train_array = X_train_array.astype(np.float32)\n",
    "m_train_array = m_train_array.astype(np.float32)"
   ]
  },
  {
   "cell_type": "code",
   "execution_count": 24,
   "id": "f83e492b",
   "metadata": {},
   "outputs": [],
   "source": [
    "# X_train_array.dtype, y_train_array.dtype, m_train_array.dtype"
   ]
  },
  {
   "cell_type": "code",
   "execution_count": null,
   "id": "c030a9bc",
   "metadata": {},
   "outputs": [],
   "source": []
  },
  {
   "cell_type": "code",
   "execution_count": null,
   "id": "75b9d73b",
   "metadata": {},
   "outputs": [],
   "source": []
  },
  {
   "cell_type": "code",
   "execution_count": 25,
   "id": "55e05db9",
   "metadata": {},
   "outputs": [],
   "source": [
    "# Mask Image\n",
    "train_masks=[]\n",
    "for i in range(len(m_train_array)):\n",
    "    binary = (m_train_array[i] > 0).astype(np.uint8)\n",
    "    train_masks.append(binary)"
   ]
  },
  {
   "cell_type": "code",
   "execution_count": 26,
   "id": "7fc4b5f9",
   "metadata": {},
   "outputs": [],
   "source": [
    "train_images=[]\n",
    "for i in range(len(X_train_array)):\n",
    "    train_image = X_train_array[i] * train_masks[i]\n",
    "    train_images.append(train_image)\n",
    "images_array = np.array(train_images) "
   ]
  },
  {
   "cell_type": "code",
   "execution_count": 27,
   "id": "927e0931",
   "metadata": {},
   "outputs": [],
   "source": [
    "#images_array = images_array.astype(np.float32)\n",
    "images_array = images_array.reshape(images_array.shape[0],images_array.shape[1],images_array.shape[2], 1)"
   ]
  },
  {
   "cell_type": "code",
   "execution_count": null,
   "id": "56969d0b",
   "metadata": {},
   "outputs": [],
   "source": []
  },
  {
   "cell_type": "code",
   "execution_count": null,
   "id": "df67613f",
   "metadata": {},
   "outputs": [],
   "source": []
  },
  {
   "cell_type": "code",
   "execution_count": 28,
   "id": "6da7cc01",
   "metadata": {},
   "outputs": [],
   "source": [
    "slices_per_patient = [im.shape[2] for im in img]"
   ]
  },
  {
   "cell_type": "code",
   "execution_count": 29,
   "id": "25e90a1a",
   "metadata": {},
   "outputs": [],
   "source": [
    "# len(slices_per_patient)"
   ]
  },
  {
   "cell_type": "code",
   "execution_count": 30,
   "id": "9ec886e3",
   "metadata": {
    "scrolled": true
   },
   "outputs": [],
   "source": [
    "#slices_per_patient"
   ]
  },
  {
   "cell_type": "code",
   "execution_count": null,
   "id": "e910b042",
   "metadata": {},
   "outputs": [],
   "source": []
  },
  {
   "cell_type": "code",
   "execution_count": 31,
   "id": "c297c24a",
   "metadata": {},
   "outputs": [],
   "source": [
    "kf = KFold(n_splits=num_patients // 5)"
   ]
  },
  {
   "cell_type": "code",
   "execution_count": 32,
   "id": "cc2f170e",
   "metadata": {},
   "outputs": [
    {
     "data": {
      "text/plain": [
       "KFold(n_splits=14, random_state=None, shuffle=False)"
      ]
     },
     "execution_count": 32,
     "metadata": {},
     "output_type": "execute_result"
    }
   ],
   "source": [
    "kf"
   ]
  },
  {
   "cell_type": "code",
   "execution_count": null,
   "id": "249dec49",
   "metadata": {},
   "outputs": [],
   "source": []
  },
  {
   "cell_type": "code",
   "execution_count": 33,
   "id": "b1e627d0",
   "metadata": {},
   "outputs": [
    {
     "name": "stdout",
     "output_type": "stream",
     "text": [
      "[ 5  6  7  8  9 10 11 12 13 14 15 16 17 18 19 20 21 22 23 24 25 26 27 28\n",
      " 29 30 31 32 33 34 35 36 37 38 39 40 41 42 43 44 45 46 47 48 49 50 51 52\n",
      " 53 54 55 56 57 58 59 60 61 62 63 64 65 66 67 68 69] [0 1 2 3 4]\n",
      "[ 0  1  2  3  4 10 11 12 13 14 15 16 17 18 19 20 21 22 23 24 25 26 27 28\n",
      " 29 30 31 32 33 34 35 36 37 38 39 40 41 42 43 44 45 46 47 48 49 50 51 52\n",
      " 53 54 55 56 57 58 59 60 61 62 63 64 65 66 67 68 69] [5 6 7 8 9]\n",
      "[ 0  1  2  3  4  5  6  7  8  9 15 16 17 18 19 20 21 22 23 24 25 26 27 28\n",
      " 29 30 31 32 33 34 35 36 37 38 39 40 41 42 43 44 45 46 47 48 49 50 51 52\n",
      " 53 54 55 56 57 58 59 60 61 62 63 64 65 66 67 68 69] [10 11 12 13 14]\n",
      "[ 0  1  2  3  4  5  6  7  8  9 10 11 12 13 14 20 21 22 23 24 25 26 27 28\n",
      " 29 30 31 32 33 34 35 36 37 38 39 40 41 42 43 44 45 46 47 48 49 50 51 52\n",
      " 53 54 55 56 57 58 59 60 61 62 63 64 65 66 67 68 69] [15 16 17 18 19]\n",
      "[ 0  1  2  3  4  5  6  7  8  9 10 11 12 13 14 15 16 17 18 19 25 26 27 28\n",
      " 29 30 31 32 33 34 35 36 37 38 39 40 41 42 43 44 45 46 47 48 49 50 51 52\n",
      " 53 54 55 56 57 58 59 60 61 62 63 64 65 66 67 68 69] [20 21 22 23 24]\n",
      "[ 0  1  2  3  4  5  6  7  8  9 10 11 12 13 14 15 16 17 18 19 20 21 22 23\n",
      " 24 30 31 32 33 34 35 36 37 38 39 40 41 42 43 44 45 46 47 48 49 50 51 52\n",
      " 53 54 55 56 57 58 59 60 61 62 63 64 65 66 67 68 69] [25 26 27 28 29]\n",
      "[ 0  1  2  3  4  5  6  7  8  9 10 11 12 13 14 15 16 17 18 19 20 21 22 23\n",
      " 24 25 26 27 28 29 35 36 37 38 39 40 41 42 43 44 45 46 47 48 49 50 51 52\n",
      " 53 54 55 56 57 58 59 60 61 62 63 64 65 66 67 68 69] [30 31 32 33 34]\n",
      "[ 0  1  2  3  4  5  6  7  8  9 10 11 12 13 14 15 16 17 18 19 20 21 22 23\n",
      " 24 25 26 27 28 29 30 31 32 33 34 40 41 42 43 44 45 46 47 48 49 50 51 52\n",
      " 53 54 55 56 57 58 59 60 61 62 63 64 65 66 67 68 69] [35 36 37 38 39]\n",
      "[ 0  1  2  3  4  5  6  7  8  9 10 11 12 13 14 15 16 17 18 19 20 21 22 23\n",
      " 24 25 26 27 28 29 30 31 32 33 34 35 36 37 38 39 45 46 47 48 49 50 51 52\n",
      " 53 54 55 56 57 58 59 60 61 62 63 64 65 66 67 68 69] [40 41 42 43 44]\n",
      "[ 0  1  2  3  4  5  6  7  8  9 10 11 12 13 14 15 16 17 18 19 20 21 22 23\n",
      " 24 25 26 27 28 29 30 31 32 33 34 35 36 37 38 39 40 41 42 43 44 50 51 52\n",
      " 53 54 55 56 57 58 59 60 61 62 63 64 65 66 67 68 69] [45 46 47 48 49]\n",
      "[ 0  1  2  3  4  5  6  7  8  9 10 11 12 13 14 15 16 17 18 19 20 21 22 23\n",
      " 24 25 26 27 28 29 30 31 32 33 34 35 36 37 38 39 40 41 42 43 44 45 46 47\n",
      " 48 49 55 56 57 58 59 60 61 62 63 64 65 66 67 68 69] [50 51 52 53 54]\n",
      "[ 0  1  2  3  4  5  6  7  8  9 10 11 12 13 14 15 16 17 18 19 20 21 22 23\n",
      " 24 25 26 27 28 29 30 31 32 33 34 35 36 37 38 39 40 41 42 43 44 45 46 47\n",
      " 48 49 50 51 52 53 54 60 61 62 63 64 65 66 67 68 69] [55 56 57 58 59]\n",
      "[ 0  1  2  3  4  5  6  7  8  9 10 11 12 13 14 15 16 17 18 19 20 21 22 23\n",
      " 24 25 26 27 28 29 30 31 32 33 34 35 36 37 38 39 40 41 42 43 44 45 46 47\n",
      " 48 49 50 51 52 53 54 55 56 57 58 59 65 66 67 68 69] [60 61 62 63 64]\n",
      "[ 0  1  2  3  4  5  6  7  8  9 10 11 12 13 14 15 16 17 18 19 20 21 22 23\n",
      " 24 25 26 27 28 29 30 31 32 33 34 35 36 37 38 39 40 41 42 43 44 45 46 47\n",
      " 48 49 50 51 52 53 54 55 56 57 58 59 60 61 62 63 64] [65 66 67 68 69]\n"
     ]
    }
   ],
   "source": [
    "for train_index, test_index in kf.split(np.arange(num_patients)):\n",
    "    print(train_index, test_index)"
   ]
  },
  {
   "cell_type": "code",
   "execution_count": null,
   "id": "265348ee",
   "metadata": {},
   "outputs": [],
   "source": []
  },
  {
   "cell_type": "code",
   "execution_count": null,
   "id": "a05f9921",
   "metadata": {},
   "outputs": [],
   "source": []
  },
  {
   "cell_type": "code",
   "execution_count": null,
   "id": "290b82d2",
   "metadata": {},
   "outputs": [],
   "source": []
  },
  {
   "cell_type": "code",
   "execution_count": 34,
   "id": "ff56ce64",
   "metadata": {},
   "outputs": [],
   "source": [
    "cumulative_slices = np.cumsum([0] + slices_per_patient)"
   ]
  },
  {
   "cell_type": "code",
   "execution_count": 35,
   "id": "a85b0bea",
   "metadata": {},
   "outputs": [],
   "source": [
    "# cumulative_slices"
   ]
  },
  {
   "cell_type": "code",
   "execution_count": null,
   "id": "891960df",
   "metadata": {},
   "outputs": [],
   "source": []
  },
  {
   "cell_type": "code",
   "execution_count": null,
   "id": "b187efb4",
   "metadata": {},
   "outputs": [],
   "source": []
  },
  {
   "cell_type": "code",
   "execution_count": 36,
   "id": "f2803f8b",
   "metadata": {},
   "outputs": [],
   "source": [
    "fold = 0\n",
    "losses = []\n",
    "ious = []\n",
    "iou_thresholds = []\n",
    "histories = []"
   ]
  },
  {
   "cell_type": "code",
   "execution_count": null,
   "id": "71508550",
   "metadata": {},
   "outputs": [],
   "source": []
  },
  {
   "cell_type": "code",
   "execution_count": null,
   "id": "cc092533",
   "metadata": {
    "scrolled": true
   },
   "outputs": [
    {
     "name": "stdout",
     "output_type": "stream",
     "text": [
      "[ 5  6  7  8  9 10 11 12 13 14 15 16 17 18 19 20 21 22 23 24 25 26 27 28\n",
      " 29 30 31 32 33 34 35 36 37 38 39 40 41 42 43 44 45 46 47 48 49 50 51 52\n",
      " 53 54 55 56 57 58 59 60 61 62 63 64 65 66 67 68 69] [0 1 2 3 4]\n",
      "15591 15591\n",
      "1175 1175\n",
      "[42 49 34 13 32 60  2 15 57  6 58 52  9 53 23 38 47 59 27 39 50 51  4 44\n",
      " 25 64 31 33  7  0 29 45 54 21  5 62 55 61 30 12 28 11  1 63 19 18 10 16\n",
      " 22 48 46 40 36  8 37  3 26 20] [41 17 14 56 43 35 24] [0 1 2 3 4]\n",
      "(14119, 512, 512, 1) (14119, 512, 512, 1)\n",
      "(1472, 512, 512, 1) (1472, 512, 512, 1)\n",
      "(1175, 512, 512, 1) (1175, 512, 512, 1)\n",
      "-----------------------------------------\n",
      "keras-unet init: TF version is >= 2.0.0 - using `tf.keras` instead of `Keras`\n",
      "-----------------------------------------\n"
     ]
    },
    {
     "name": "stderr",
     "output_type": "stream",
     "text": [
      "2024-10-01 01:05:31.955230: I tensorflow/stream_executor/platform/default/dso_loader.cc:53] Successfully opened dynamic library libcuda.so.1\n",
      "2024-10-01 01:05:32.543384: I tensorflow/core/common_runtime/gpu/gpu_device.cc:1733] Found device 0 with properties: \n",
      "pciBusID: 0000:47:00.0 name: NVIDIA A100-SXM4-40GB computeCapability: 8.0\n",
      "coreClock: 1.41GHz coreCount: 108 deviceMemorySize: 39.39GiB deviceMemoryBandwidth: 1.41TiB/s\n",
      "2024-10-01 01:05:32.551748: I tensorflow/core/common_runtime/gpu/gpu_device.cc:1733] Found device 1 with properties: \n",
      "pciBusID: 0000:4e:00.0 name: NVIDIA A100-SXM4-40GB computeCapability: 8.0\n",
      "coreClock: 1.41GHz coreCount: 108 deviceMemorySize: 39.39GiB deviceMemoryBandwidth: 1.41TiB/s\n",
      "2024-10-01 01:05:32.551774: I tensorflow/stream_executor/platform/default/dso_loader.cc:53] Successfully opened dynamic library libcudart.so.11.0\n",
      "2024-10-01 01:05:32.554809: I tensorflow/stream_executor/platform/default/dso_loader.cc:53] Successfully opened dynamic library libcublas.so.11\n",
      "2024-10-01 01:05:32.554844: I tensorflow/stream_executor/platform/default/dso_loader.cc:53] Successfully opened dynamic library libcublasLt.so.11\n",
      "2024-10-01 01:05:32.555635: I tensorflow/stream_executor/platform/default/dso_loader.cc:53] Successfully opened dynamic library libcufft.so.10\n",
      "2024-10-01 01:05:32.555921: I tensorflow/stream_executor/platform/default/dso_loader.cc:53] Successfully opened dynamic library libcurand.so.10\n",
      "2024-10-01 01:05:32.556396: I tensorflow/stream_executor/platform/default/dso_loader.cc:53] Successfully opened dynamic library libcusolver.so.11\n",
      "2024-10-01 01:05:32.557076: I tensorflow/stream_executor/platform/default/dso_loader.cc:53] Successfully opened dynamic library libcusparse.so.11\n",
      "2024-10-01 01:05:32.557297: I tensorflow/stream_executor/platform/default/dso_loader.cc:53] Successfully opened dynamic library libcudnn.so.8\n",
      "2024-10-01 01:05:32.591694: I tensorflow/core/common_runtime/gpu/gpu_device.cc:1871] Adding visible gpu devices: 0, 1\n",
      "2024-10-01 01:05:32.593786: I tensorflow/core/platform/cpu_feature_guard.cc:142] This TensorFlow binary is optimized with oneAPI Deep Neural Network Library (oneDNN) to use the following CPU instructions in performance-critical operations:  AVX2 FMA\n",
      "To enable them in other operations, rebuild TensorFlow with the appropriate compiler flags.\n",
      "2024-10-01 01:05:33.103492: I tensorflow/core/common_runtime/gpu/gpu_device.cc:1733] Found device 0 with properties: \n",
      "pciBusID: 0000:47:00.0 name: NVIDIA A100-SXM4-40GB computeCapability: 8.0\n",
      "coreClock: 1.41GHz coreCount: 108 deviceMemorySize: 39.39GiB deviceMemoryBandwidth: 1.41TiB/s\n",
      "2024-10-01 01:05:33.106727: I tensorflow/core/common_runtime/gpu/gpu_device.cc:1733] Found device 1 with properties: \n",
      "pciBusID: 0000:4e:00.0 name: NVIDIA A100-SXM4-40GB computeCapability: 8.0\n",
      "coreClock: 1.41GHz coreCount: 108 deviceMemorySize: 39.39GiB deviceMemoryBandwidth: 1.41TiB/s\n",
      "2024-10-01 01:05:33.115240: I tensorflow/core/common_runtime/gpu/gpu_device.cc:1871] Adding visible gpu devices: 0, 1\n",
      "2024-10-01 01:05:33.115295: I tensorflow/stream_executor/platform/default/dso_loader.cc:53] Successfully opened dynamic library libcudart.so.11.0\n",
      "2024-10-01 01:05:33.839894: I tensorflow/core/common_runtime/gpu/gpu_device.cc:1258] Device interconnect StreamExecutor with strength 1 edge matrix:\n",
      "2024-10-01 01:05:33.839948: I tensorflow/core/common_runtime/gpu/gpu_device.cc:1264]      0 1 \n",
      "2024-10-01 01:05:33.839955: I tensorflow/core/common_runtime/gpu/gpu_device.cc:1277] 0:   N Y \n",
      "2024-10-01 01:05:33.839959: I tensorflow/core/common_runtime/gpu/gpu_device.cc:1277] 1:   Y N \n",
      "2024-10-01 01:05:33.861443: I tensorflow/core/common_runtime/gpu/gpu_device.cc:1418] Created TensorFlow device (/job:localhost/replica:0/task:0/device:GPU:0 with 38230 MB memory) -> physical GPU (device: 0, name: NVIDIA A100-SXM4-40GB, pci bus id: 0000:47:00.0, compute capability: 8.0)\n",
      "2024-10-01 01:05:33.863349: I tensorflow/core/common_runtime/gpu/gpu_device.cc:1418] Created TensorFlow device (/job:localhost/replica:0/task:0/device:GPU:1 with 38230 MB memory) -> physical GPU (device: 1, name: NVIDIA A100-SXM4-40GB, pci bus id: 0000:4e:00.0, compute capability: 8.0)\n"
     ]
    },
    {
     "name": "stdout",
     "output_type": "stream",
     "text": [
      "Training fold 0...\n"
     ]
    },
    {
     "name": "stderr",
     "output_type": "stream",
     "text": [
      "2024-10-01 01:05:40.121877: I tensorflow/compiler/mlir/mlir_graph_optimization_pass.cc:176] None of the MLIR Optimization Passes are enabled (registered 2)\n",
      "2024-10-01 01:05:40.123352: I tensorflow/core/platform/profile_utils/cpu_utils.cc:114] CPU Frequency: 2245750000 Hz\n"
     ]
    },
    {
     "name": "stdout",
     "output_type": "stream",
     "text": [
      "Epoch 1/100\n"
     ]
    },
    {
     "name": "stderr",
     "output_type": "stream",
     "text": [
      "2024-10-01 01:05:41.761911: I tensorflow/stream_executor/platform/default/dso_loader.cc:53] Successfully opened dynamic library libcudnn.so.8\n",
      "2024-10-01 01:05:42.248403: I tensorflow/stream_executor/cuda/cuda_dnn.cc:359] Loaded cuDNN version 8201\n",
      "2024-10-01 01:05:42.858819: W tensorflow/stream_executor/gpu/asm_compiler.cc:191] Falling back to the CUDA driver for PTX compilation; ptxas does not support CC 8.0\n",
      "2024-10-01 01:05:42.858846: W tensorflow/stream_executor/gpu/asm_compiler.cc:194] Used ptxas at ptxas\n",
      "2024-10-01 01:05:42.858908: W tensorflow/stream_executor/gpu/redzone_allocator.cc:314] Unimplemented: ptxas ptxas too old. Falling back to the driver to compile.\n",
      "Relying on driver to perform ptx compilation. \n",
      "Modify $PATH to customize ptxas location.\n",
      "This message will be only logged once.\n",
      "2024-10-01 01:05:42.924419: I tensorflow/stream_executor/platform/default/dso_loader.cc:53] Successfully opened dynamic library libcublas.so.11\n",
      "2024-10-01 01:05:43.539017: I tensorflow/stream_executor/platform/default/dso_loader.cc:53] Successfully opened dynamic library libcublasLt.so.11\n"
     ]
    },
    {
     "name": "stdout",
     "output_type": "stream",
     "text": [
      "883/883 [==============================] - 408s 449ms/step - loss: 0.0693 - iou: 6.3762e-05 - iou_thresholded: 0.3516 - val_loss: 0.0018 - val_iou: 1.5232e-04 - val_iou_thresholded: 0.8829\n",
      "Epoch 2/100\n",
      "883/883 [==============================] - 390s 442ms/step - loss: 9.1518e-04 - iou: 5.9066e-04 - iou_thresholded: 0.4306 - val_loss: 4.9396e-04 - val_iou: 5.2362e-04 - val_iou_thresholded: 0.8829\n",
      "Epoch 3/100\n",
      "883/883 [==============================] - 390s 442ms/step - loss: 3.1731e-04 - iou: 0.0018 - iou_thresholded: 0.4034 - val_loss: 1.9597e-04 - val_iou: 0.0015 - val_iou_thresholded: 0.8829\n",
      "Epoch 4/100\n",
      "883/883 [==============================] - 390s 442ms/step - loss: 1.7032e-04 - iou: 0.0047 - iou_thresholded: 0.3881 - val_loss: 1.0350e-04 - val_iou: 0.0033 - val_iou_thresholded: 0.8830\n",
      "Epoch 5/100\n",
      "883/883 [==============================] - 390s 442ms/step - loss: 1.1177e-04 - iou: 0.0077 - iou_thresholded: 0.4073 - val_loss: 5.7400e-05 - val_iou: 0.0094 - val_iou_thresholded: 0.8871\n",
      "Epoch 6/100\n",
      "109/883 [==>...........................] - ETA: 5:24 - loss: 1.1594e-04 - iou: 0.0153 - iou_thresholded: 0.3483"
     ]
    }
   ],
   "source": [
    "for train_index, test_index in kf.split(np.arange(num_patients)):\n",
    "    \n",
    "    print(train_index, test_index)\n",
    "    \n",
    "    train_slices = []\n",
    "    y_train_slices = []\n",
    "    test_slices = []\n",
    "    y_test_slices = []\n",
    "    \n",
    "    for i in train_index:\n",
    "        start_idx = cumulative_slices[i]\n",
    "        end_idx = cumulative_slices[i + 1]\n",
    "        train_slices.extend(images_array[start_idx:end_idx])\n",
    "        y_train_slices.extend(y_train_array[start_idx:end_idx])\n",
    "\n",
    "    for i in test_index:\n",
    "        start_idx = cumulative_slices[i]\n",
    "        end_idx = cumulative_slices[i + 1]\n",
    "        test_slices.extend(images_array[start_idx:end_idx])\n",
    "        y_test_slices.extend(y_train_array[start_idx:end_idx])\n",
    "\n",
    "    print(len(train_slices), len(y_train_slices))\n",
    "    print(len(test_slices), len(y_test_slices))\n",
    "    \n",
    "    \n",
    "\n",
    "    num_train_patients = len(train_index)\n",
    "    train_patients_idx, val_patients_idx = train_test_split(\n",
    "        np.arange(num_train_patients), test_size=0.1 #, shuffle=False\n",
    "    )\n",
    "    \n",
    "    print(train_patients_idx,val_patients_idx, test_index)\n",
    "\n",
    "\n",
    "    # get validation set from training set\n",
    "    val_slices = []\n",
    "    y_val_slices = []\n",
    "\n",
    "    for i in val_patients_idx:\n",
    "        start_idx = cumulative_slices[train_index[i]]\n",
    "        end_idx = cumulative_slices[train_index[i] + 1]\n",
    "        val_slices.extend(images_array[start_idx:end_idx])\n",
    "        y_val_slices.extend(y_train_array[start_idx:end_idx])\n",
    "\n",
    "        \n",
    "        \n",
    "    # update training set w/o validation set\n",
    "    filtered_train_slices = []\n",
    "    filtered_y_train_slices = []\n",
    "\n",
    "    for i in train_patients_idx:\n",
    "        start_idx = cumulative_slices[train_index[i]]\n",
    "        end_idx = cumulative_slices[train_index[i] + 1]\n",
    "        filtered_train_slices.extend(images_array[start_idx:end_idx])\n",
    "        filtered_y_train_slices.extend(y_train_array[start_idx:end_idx])\n",
    "\n",
    "\n",
    "\n",
    "    X_train_array = np.array(filtered_train_slices)\n",
    "    y_train_array = np.array(filtered_y_train_slices)\n",
    "    X_val_array = np.array(val_slices)\n",
    "    y_val_array = np.array(y_val_slices)\n",
    "    X_test_array = np.array(test_slices)\n",
    "    y_test_array = np.array(y_test_slices)\n",
    "    \n",
    "    print(X_train_array.shape, y_train_array.shape)\n",
    "    print(X_val_array.shape, y_val_array.shape)\n",
    "    print(X_test_array.shape, y_test_array.shape)\n",
    "    \n",
    "    K.clear_session()\n",
    "\n",
    "    model = C.Helper.create_unet(X_train_array[0].shape)\n",
    "\n",
    "    print(f\"Training fold {fold}...\")\n",
    "\n",
    "    \n",
    "    history = model.fit(X_train_array, y_train_array, \n",
    "                        epochs=100, \n",
    "                        batch_size=16, \n",
    "                        validation_data=(X_val_array, y_val_array))\n",
    "    \n",
    "    \n",
    "    histories.append(history.history)\n",
    "\n",
    "    \n",
    "    scores = model.evaluate(X_test_array, y_test_array, verbose=0)\n",
    "\n",
    "    \n",
    "    losses.append(scores[0])\n",
    "    ious.append(scores[1])\n",
    "    iou_thresholds.append(scores[2])\n",
    "    \n",
    "    fold += 1"
   ]
  },
  {
   "cell_type": "code",
   "execution_count": null,
   "id": "e32a495d",
   "metadata": {},
   "outputs": [],
   "source": []
  },
  {
   "cell_type": "code",
   "execution_count": null,
   "id": "0711b5b9",
   "metadata": {},
   "outputs": [],
   "source": [
    "mean_loss = np.mean(losses)\n",
    "mean_iou = np.mean(ious)\n",
    "mean_iou_threshold = np.mean(iou_thresholds)"
   ]
  },
  {
   "cell_type": "code",
   "execution_count": null,
   "id": "cf998455",
   "metadata": {},
   "outputs": [],
   "source": [
    "print(f\"Mean Loss: {mean_loss}\")\n",
    "print(f\"Mean IoU: {mean_iou}\")\n",
    "print(f\"Mean IoU Threshold: {mean_iou_threshold}\")"
   ]
  },
  {
   "cell_type": "code",
   "execution_count": null,
   "id": "6dcb6d83",
   "metadata": {},
   "outputs": [],
   "source": []
  },
  {
   "cell_type": "code",
   "execution_count": null,
   "id": "92957f1a",
   "metadata": {},
   "outputs": [],
   "source": []
  },
  {
   "cell_type": "code",
   "execution_count": null,
   "id": "9a05e485",
   "metadata": {},
   "outputs": [],
   "source": []
  },
  {
   "cell_type": "code",
   "execution_count": null,
   "id": "1839ff8d",
   "metadata": {},
   "outputs": [],
   "source": []
  },
  {
   "cell_type": "code",
   "execution_count": null,
   "id": "77efc785",
   "metadata": {},
   "outputs": [],
   "source": []
  },
  {
   "cell_type": "code",
   "execution_count": null,
   "id": "e2521eb4",
   "metadata": {},
   "outputs": [],
   "source": []
  },
  {
   "cell_type": "code",
   "execution_count": null,
   "id": "03676835",
   "metadata": {},
   "outputs": [],
   "source": []
  },
  {
   "cell_type": "code",
   "execution_count": null,
   "id": "5d6f5bca",
   "metadata": {},
   "outputs": [],
   "source": []
  },
  {
   "cell_type": "code",
   "execution_count": null,
   "id": "3bb691f0",
   "metadata": {},
   "outputs": [],
   "source": []
  },
  {
   "cell_type": "code",
   "execution_count": null,
   "id": "223f8727",
   "metadata": {},
   "outputs": [],
   "source": []
  },
  {
   "cell_type": "code",
   "execution_count": null,
   "id": "76ea8aac",
   "metadata": {},
   "outputs": [],
   "source": []
  },
  {
   "cell_type": "code",
   "execution_count": null,
   "id": "83e85ddb",
   "metadata": {},
   "outputs": [],
   "source": [
    "import matplotlib.pyplot as plt"
   ]
  },
  {
   "cell_type": "code",
   "execution_count": null,
   "id": "982cfb13",
   "metadata": {},
   "outputs": [],
   "source": []
  },
  {
   "cell_type": "code",
   "execution_count": null,
   "id": "c2c5c1e4",
   "metadata": {},
   "outputs": [],
   "source": [
    "# Number of epochs\n",
    "epochs = range(1, 101)\n",
    "\n",
    "# List of metrics to plot\n",
    "metrics = ['iou', 'val_iou', 'iou_thresholded', 'val_iou_thresholded', 'loss', 'val_loss']\n",
    "metric_titles = ['IoU', 'Validation IoU', 'IoU Thresholded', 'Validation IoU Thresholded', 'Loss', 'Validation Loss']\n",
    "\n",
    "# Create subplots\n",
    "fig, axes = plt.subplots(nrows=3, ncols=2, figsize=(15, 15))\n",
    "axes = axes.flatten()"
   ]
  },
  {
   "cell_type": "code",
   "execution_count": null,
   "id": "85aed91a",
   "metadata": {},
   "outputs": [],
   "source": [
    "for idx, metric in enumerate(metrics):\n",
    "    for fold in range(11):\n",
    "        axes[idx].plot(epochs, histories[fold][metric], label=f'Fold {fold+1}')\n",
    "    axes[idx].set_title(metric_titles[idx])\n",
    "    axes[idx].set_xlabel('Epochs')\n",
    "    axes[idx].set_ylabel(metric_titles[idx])\n",
    "    axes[idx].legend(loc='upper right', fontsize='small')\n",
    "    axes[idx].grid(True)\n",
    "\n",
    "# Adjust layout\n",
    "plt.tight_layout()\n",
    "plt.show()"
   ]
  },
  {
   "cell_type": "code",
   "execution_count": null,
   "id": "b67a74a6",
   "metadata": {},
   "outputs": [],
   "source": []
  },
  {
   "cell_type": "code",
   "execution_count": null,
   "id": "cc7718b9",
   "metadata": {},
   "outputs": [],
   "source": []
  },
  {
   "cell_type": "code",
   "execution_count": null,
   "id": "b3de2745",
   "metadata": {},
   "outputs": [],
   "source": [
    "# Number of epochs\n",
    "epochs = range(1, 101)\n",
    "\n",
    "# Plotting\n",
    "plt.figure(figsize=(10, 6))\n",
    "\n",
    "# Plot val_iou for fold 1\n",
    "plt.plot(epochs, histories[0]['iou'], label='Fold 1 IoU')\n",
    "\n",
    "# Plot val_iou for fold 2\n",
    "plt.plot(epochs, histories[1]['iou'], label='Fold 2 IoU')\n",
    "\n",
    "# Adding title and labels\n",
    "plt.title('IoU over Epochs')\n",
    "plt.xlabel('Epochs')\n",
    "plt.ylabel('IoU')\n",
    "plt.legend()\n",
    "plt.grid(True)\n",
    "\n",
    "# Display the plot\n",
    "plt.show()"
   ]
  },
  {
   "cell_type": "code",
   "execution_count": null,
   "id": "46c13ee7",
   "metadata": {},
   "outputs": [],
   "source": []
  },
  {
   "cell_type": "code",
   "execution_count": null,
   "id": "92e3444e",
   "metadata": {},
   "outputs": [],
   "source": [
    "# Number of epochs\n",
    "epochs = range(1, 101)\n",
    "\n",
    "# Plotting\n",
    "plt.figure(figsize=(10, 6))\n",
    "\n",
    "# Plot val_iou for fold 1\n",
    "plt.plot(epochs, histories[0]['val_iou'], label='Fold 1 Validation IoU')\n",
    "\n",
    "# Plot val_iou for fold 2\n",
    "plt.plot(epochs, histories[1]['val_iou'], label='Fold 2 Validation IoU')\n",
    "\n",
    "# Adding title and labels\n",
    "plt.title('Validation IoU over Epochs')\n",
    "plt.xlabel('Epochs')\n",
    "plt.ylabel('Validation IoU')\n",
    "plt.legend()\n",
    "plt.grid(True)\n",
    "\n",
    "# Display the plot\n",
    "plt.show()"
   ]
  },
  {
   "cell_type": "code",
   "execution_count": null,
   "id": "1f63bfdb",
   "metadata": {},
   "outputs": [],
   "source": []
  },
  {
   "cell_type": "code",
   "execution_count": null,
   "id": "e59ffa59",
   "metadata": {},
   "outputs": [],
   "source": []
  },
  {
   "cell_type": "code",
   "execution_count": null,
   "id": "f05ac6bf",
   "metadata": {},
   "outputs": [],
   "source": [
    "# Number of epochs\n",
    "epochs = range(1, 101)\n",
    "\n",
    "# Plotting\n",
    "plt.figure(figsize=(10, 6))\n",
    "\n",
    "# Plot val_iou for fold 1\n",
    "plt.plot(epochs, histories[0]['iou_thresholded'], label='Fold 1 IoU Thresholded')\n",
    "\n",
    "# Plot val_iou for fold 2\n",
    "plt.plot(epochs, histories[1]['iou_thresholded'], label='Fold 2 IoU Thresholded')\n",
    "\n",
    "# Adding title and labels\n",
    "plt.title('IoU Thresholded over Epochs')\n",
    "plt.xlabel('Epochs')\n",
    "plt.ylabel('IoU Thresholded')\n",
    "plt.legend()\n",
    "plt.grid(True)\n",
    "\n",
    "# Display the plot\n",
    "plt.show()"
   ]
  },
  {
   "cell_type": "code",
   "execution_count": null,
   "id": "97b1e688",
   "metadata": {},
   "outputs": [],
   "source": []
  },
  {
   "cell_type": "code",
   "execution_count": null,
   "id": "31634b29",
   "metadata": {},
   "outputs": [],
   "source": [
    "# Number of epochs\n",
    "epochs = range(1, 101)\n",
    "\n",
    "# Plotting\n",
    "plt.figure(figsize=(10, 6))\n",
    "\n",
    "# Plot val_iou for fold 1\n",
    "plt.plot(epochs, histories[0]['loss'], label='Fold 1 loss')\n",
    "\n",
    "# Plot val_iou for fold 2\n",
    "plt.plot(epochs, histories[1]['loss'], label='Fold 2 loss')\n",
    "\n",
    "# Adding title and labels\n",
    "plt.title('loss over Epochs')\n",
    "plt.xlabel('Epochs')\n",
    "plt.ylabel('loss')\n",
    "plt.legend()\n",
    "plt.grid(True)\n",
    "\n",
    "# Display the plot\n",
    "plt.show()"
   ]
  },
  {
   "cell_type": "code",
   "execution_count": null,
   "id": "053861e3",
   "metadata": {},
   "outputs": [],
   "source": []
  },
  {
   "cell_type": "code",
   "execution_count": null,
   "id": "ea741b96",
   "metadata": {},
   "outputs": [],
   "source": [
    "# Number of epochs\n",
    "epochs = range(1, 101)\n",
    "\n",
    "# Plotting\n",
    "plt.figure(figsize=(10, 6))\n",
    "\n",
    "# Plot val_iou for fold 1\n",
    "plt.plot(epochs, histories[0]['val_loss'], label='Fold 1 Validation loss')\n",
    "\n",
    "# Plot val_iou for fold 2\n",
    "plt.plot(epochs, histories[1]['val_loss'], label='Fold 2 Validation loss')\n",
    "\n",
    "# Adding title and labels\n",
    "plt.title('Validation loss over Epochs')\n",
    "plt.xlabel('Epochs')\n",
    "plt.ylabel('Validation loss')\n",
    "plt.legend()\n",
    "plt.grid(True)\n",
    "\n",
    "# Display the plot\n",
    "plt.show()"
   ]
  },
  {
   "cell_type": "code",
   "execution_count": null,
   "id": "79919c82",
   "metadata": {},
   "outputs": [],
   "source": []
  },
  {
   "cell_type": "code",
   "execution_count": null,
   "id": "eb38bb82",
   "metadata": {},
   "outputs": [],
   "source": [
    "# Number of epochs\n",
    "epochs = range(1, 101)\n",
    "\n",
    "# Plotting\n",
    "plt.figure(figsize=(10, 6))\n",
    "\n",
    "# Plot val_iou for fold 1\n",
    "plt.plot(epochs, histories[0]['val_iou_thresholded'], label='Fold 1 Validation IoU Thresholded')\n",
    "\n",
    "# Plot val_iou for fold 2\n",
    "plt.plot(epochs, histories[1]['val_iou_thresholded'], label='Fold 2 Validation IoU Thresholded')\n",
    "\n",
    "# Adding title and labels\n",
    "plt.title('Validation IoU Thresholded over Epochs')\n",
    "plt.xlabel('Epochs')\n",
    "plt.ylabel('Validation IoU Thresholded')\n",
    "plt.legend()\n",
    "plt.grid(True)\n",
    "\n",
    "# Display the plot\n",
    "plt.show()"
   ]
  },
  {
   "cell_type": "code",
   "execution_count": null,
   "id": "db4384be",
   "metadata": {},
   "outputs": [],
   "source": []
  },
  {
   "cell_type": "code",
   "execution_count": null,
   "id": "dd2c5a45",
   "metadata": {},
   "outputs": [],
   "source": []
  },
  {
   "cell_type": "code",
   "execution_count": null,
   "id": "e8dc87dc",
   "metadata": {},
   "outputs": [],
   "source": []
  },
  {
   "cell_type": "code",
   "execution_count": null,
   "id": "eebd650e",
   "metadata": {},
   "outputs": [],
   "source": []
  },
  {
   "cell_type": "code",
   "execution_count": null,
   "id": "57f561c1",
   "metadata": {},
   "outputs": [],
   "source": []
  },
  {
   "cell_type": "code",
   "execution_count": null,
   "id": "f6072137",
   "metadata": {},
   "outputs": [],
   "source": []
  }
 ],
 "metadata": {
  "kernelspec": {
   "display_name": "Python 3 (ipykernel)",
   "language": "python",
   "name": "python3"
  },
  "language_info": {
   "codemirror_mode": {
    "name": "ipython",
    "version": 3
   },
   "file_extension": ".py",
   "mimetype": "text/x-python",
   "name": "python",
   "nbconvert_exporter": "python",
   "pygments_lexer": "ipython3",
   "version": "3.9.7"
  }
 },
 "nbformat": 4,
 "nbformat_minor": 5
}
