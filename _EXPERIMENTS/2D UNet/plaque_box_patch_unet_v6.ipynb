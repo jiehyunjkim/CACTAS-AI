{
 "cells": [
  {
   "cell_type": "code",
   "execution_count": 1,
   "id": "5eebebed",
   "metadata": {},
   "outputs": [
    {
     "name": "stdout",
     "output_type": "stream",
     "text": [
      "Populating the interactive namespace from numpy and matplotlib\n"
     ]
    }
   ],
   "source": [
    "%pylab inline\n",
    "%load_ext autoreload\n",
    "%autoreload 2"
   ]
  },
  {
   "cell_type": "code",
   "execution_count": 41,
   "id": "1db43f95",
   "metadata": {},
   "outputs": [],
   "source": [
    "import cactas as C\n",
    "import os\n",
    "import mahotas as mh\n",
    "import nibabel as nib\n",
    "import nrrd\n",
    "import skimage.morphology\n",
    "import cv2\n",
    "from skimage.filters import threshold_otsu"
   ]
  },
  {
   "cell_type": "code",
   "execution_count": 3,
   "id": "3a25db15",
   "metadata": {
    "scrolled": true
   },
   "outputs": [
    {
     "name": "stderr",
     "output_type": "stream",
     "text": [
      "2024-05-05 18:09:46.252630: I tensorflow/stream_executor/platform/default/dso_loader.cc:53] Successfully opened dynamic library libcudart.so.11.0\n"
     ]
    },
    {
     "name": "stdout",
     "output_type": "stream",
     "text": [
      "WARNING:tensorflow:From /tmp/ipykernel_237354/392601943.py:2: is_gpu_available (from tensorflow.python.framework.test_util) is deprecated and will be removed in a future version.\n",
      "Instructions for updating:\n",
      "Use `tf.config.list_physical_devices('GPU')` instead.\n"
     ]
    },
    {
     "name": "stderr",
     "output_type": "stream",
     "text": [
      "2024-05-05 18:09:49.255728: I tensorflow/core/platform/cpu_feature_guard.cc:142] This TensorFlow binary is optimized with oneAPI Deep Neural Network Library (oneDNN) to use the following CPU instructions in performance-critical operations:  AVX2 FMA\n",
      "To enable them in other operations, rebuild TensorFlow with the appropriate compiler flags.\n",
      "2024-05-05 18:09:49.258440: I tensorflow/stream_executor/platform/default/dso_loader.cc:53] Successfully opened dynamic library libcuda.so.1\n",
      "2024-05-05 18:09:49.741965: I tensorflow/core/common_runtime/gpu/gpu_device.cc:1733] Found device 0 with properties: \n",
      "pciBusID: 0000:87:00.0 name: A100-SXM4-40GB computeCapability: 8.0\n",
      "coreClock: 1.41GHz coreCount: 108 deviceMemorySize: 39.59GiB deviceMemoryBandwidth: 1.41TiB/s\n",
      "2024-05-05 18:09:49.744703: I tensorflow/core/common_runtime/gpu/gpu_device.cc:1733] Found device 1 with properties: \n",
      "pciBusID: 0000:90:00.0 name: A100-SXM4-40GB computeCapability: 8.0\n",
      "coreClock: 1.41GHz coreCount: 108 deviceMemorySize: 39.59GiB deviceMemoryBandwidth: 1.41TiB/s\n",
      "2024-05-05 18:09:49.744759: I tensorflow/stream_executor/platform/default/dso_loader.cc:53] Successfully opened dynamic library libcudart.so.11.0\n",
      "2024-05-05 18:09:49.771873: I tensorflow/stream_executor/platform/default/dso_loader.cc:53] Successfully opened dynamic library libcublas.so.11\n",
      "2024-05-05 18:09:49.771914: I tensorflow/stream_executor/platform/default/dso_loader.cc:53] Successfully opened dynamic library libcublasLt.so.11\n",
      "2024-05-05 18:09:49.781636: I tensorflow/stream_executor/platform/default/dso_loader.cc:53] Successfully opened dynamic library libcufft.so.10\n",
      "2024-05-05 18:09:49.786219: I tensorflow/stream_executor/platform/default/dso_loader.cc:53] Successfully opened dynamic library libcurand.so.10\n",
      "2024-05-05 18:09:49.790533: I tensorflow/stream_executor/platform/default/dso_loader.cc:53] Successfully opened dynamic library libcusolver.so.11\n",
      "2024-05-05 18:09:49.797038: I tensorflow/stream_executor/platform/default/dso_loader.cc:53] Successfully opened dynamic library libcusparse.so.11\n",
      "2024-05-05 18:09:49.799216: I tensorflow/stream_executor/platform/default/dso_loader.cc:53] Successfully opened dynamic library libcudnn.so.8\n",
      "2024-05-05 18:09:49.809089: I tensorflow/core/common_runtime/gpu/gpu_device.cc:1871] Adding visible gpu devices: 0, 1\n",
      "2024-05-05 18:09:49.809585: I tensorflow/stream_executor/platform/default/dso_loader.cc:53] Successfully opened dynamic library libcudart.so.11.0\n",
      "2024-05-05 18:09:50.979921: I tensorflow/core/common_runtime/gpu/gpu_device.cc:1258] Device interconnect StreamExecutor with strength 1 edge matrix:\n",
      "2024-05-05 18:09:50.979974: I tensorflow/core/common_runtime/gpu/gpu_device.cc:1264]      0 1 \n",
      "2024-05-05 18:09:50.979981: I tensorflow/core/common_runtime/gpu/gpu_device.cc:1277] 0:   N Y \n",
      "2024-05-05 18:09:50.979984: I tensorflow/core/common_runtime/gpu/gpu_device.cc:1277] 1:   Y N \n",
      "2024-05-05 18:09:51.000268: I tensorflow/core/common_runtime/gpu/gpu_device.cc:1418] Created TensorFlow device (/device:GPU:0 with 38425 MB memory) -> physical GPU (device: 0, name: A100-SXM4-40GB, pci bus id: 0000:87:00.0, compute capability: 8.0)\n",
      "2024-05-05 18:09:51.006204: I tensorflow/core/common_runtime/gpu/gpu_device.cc:1418] Created TensorFlow device (/device:GPU:1 with 38425 MB memory) -> physical GPU (device: 1, name: A100-SXM4-40GB, pci bus id: 0000:90:00.0, compute capability: 8.0)\n"
     ]
    },
    {
     "data": {
      "text/plain": [
       "True"
      ]
     },
     "execution_count": 3,
     "metadata": {},
     "output_type": "execute_result"
    }
   ],
   "source": [
    "import tensorflow as tf\n",
    "gpu_available = tf.test.is_gpu_available()\n",
    "gpu_available"
   ]
  },
  {
   "cell_type": "code",
   "execution_count": null,
   "id": "c7599e1d",
   "metadata": {},
   "outputs": [],
   "source": []
  },
  {
   "cell_type": "code",
   "execution_count": 4,
   "id": "ca9de1bc",
   "metadata": {},
   "outputs": [],
   "source": [
    "DATAPATH='/raid/mpsych/CACTAS/DATA/ESUS'\n",
    "CAPATH='/raid/mpsych/CACTAS/DATA/CA24'"
   ]
  },
  {
   "cell_type": "code",
   "execution_count": null,
   "id": "92be68f5",
   "metadata": {},
   "outputs": [],
   "source": []
  },
  {
   "cell_type": "code",
   "execution_count": 5,
   "id": "c2588b51",
   "metadata": {},
   "outputs": [],
   "source": [
    "images, labels = C.Helper.load_data(DATAPATH)"
   ]
  },
  {
   "cell_type": "code",
   "execution_count": 6,
   "id": "7881f480",
   "metadata": {},
   "outputs": [],
   "source": [
    "masks = C.Helper.load_seg_data(CAPATH)"
   ]
  },
  {
   "cell_type": "code",
   "execution_count": 7,
   "id": "7088d2a3",
   "metadata": {},
   "outputs": [],
   "source": [
    "X_train, y_train, m_train, X_test, y_test, m_test = C.Helper.split_patients_masks(images, labels, masks)"
   ]
  },
  {
   "cell_type": "code",
   "execution_count": 8,
   "id": "c81ee490",
   "metadata": {},
   "outputs": [],
   "source": [
    "X_train, y_train, m_train, X_test, y_test, m_test = C.Helper.normalization2(DATAPATH, CAPATH, X_train, y_train, m_train, X_test, y_test, m_test)"
   ]
  },
  {
   "cell_type": "code",
   "execution_count": 9,
   "id": "b2d8df93",
   "metadata": {},
   "outputs": [],
   "source": [
    "slice_to_patient_mapping, last_key = C.Helper.map_and_key(y_train)"
   ]
  },
  {
   "cell_type": "code",
   "execution_count": 10,
   "id": "d00b1ce9",
   "metadata": {},
   "outputs": [
    {
     "name": "stdout",
     "output_type": "stream",
     "text": [
      "(13214, 512, 512, 1) (13214, 512, 512, 1) (3552, 512, 512, 1) (3552, 512, 512, 1)\n"
     ]
    }
   ],
   "source": [
    "X_train, y_train, X_test, y_test = C.Helper.extract_slices(X_train, y_train, X_test, y_test)"
   ]
  },
  {
   "cell_type": "code",
   "execution_count": 11,
   "id": "4034ad93",
   "metadata": {},
   "outputs": [
    {
     "name": "stdout",
     "output_type": "stream",
     "text": [
      "(13214, 512, 512, 1) (3552, 512, 512, 1)\n"
     ]
    }
   ],
   "source": [
    "m_train, m_test = C.Helper.extract_masks_slices(m_train, m_test)"
   ]
  },
  {
   "cell_type": "code",
   "execution_count": 12,
   "id": "a248045e",
   "metadata": {},
   "outputs": [
    {
     "name": "stdout",
     "output_type": "stream",
     "text": [
      "(584, 512, 512, 1) (584, 512, 512, 1) (584, 512, 512, 1)\n"
     ]
    }
   ],
   "source": [
    "X_train, y_train, m_train = C.Helper.filter_slices(X_train, y_train, m_train)"
   ]
  },
  {
   "cell_type": "code",
   "execution_count": null,
   "id": "c8ffa75e",
   "metadata": {},
   "outputs": [],
   "source": []
  },
  {
   "cell_type": "code",
   "execution_count": 13,
   "id": "4c490d99",
   "metadata": {},
   "outputs": [
    {
     "data": {
      "text/plain": [
       "(dtype('float64'), dtype('float64'), dtype('float64'), dtype('float64'))"
      ]
     },
     "execution_count": 13,
     "metadata": {},
     "output_type": "execute_result"
    }
   ],
   "source": [
    "X_train.dtype, y_train.dtype, X_test.dtype, y_test.dtype"
   ]
  },
  {
   "cell_type": "code",
   "execution_count": 14,
   "id": "580cb6ea",
   "metadata": {},
   "outputs": [
    {
     "data": {
      "text/plain": [
       "dtype('float64')"
      ]
     },
     "execution_count": 14,
     "metadata": {},
     "output_type": "execute_result"
    }
   ],
   "source": [
    "m_train.dtype"
   ]
  },
  {
   "cell_type": "code",
   "execution_count": null,
   "id": "e47b39dd",
   "metadata": {},
   "outputs": [],
   "source": []
  },
  {
   "cell_type": "code",
   "execution_count": 15,
   "id": "3692ec60",
   "metadata": {},
   "outputs": [],
   "source": [
    "train_masks=[]\n",
    "for i in range(len(m_train)):\n",
    "    binary = (m_train[i] > 0).astype(np.uint8)\n",
    "    train_masks.append(binary)"
   ]
  },
  {
   "cell_type": "code",
   "execution_count": 16,
   "id": "28b56250",
   "metadata": {},
   "outputs": [],
   "source": [
    "train_images=[]\n",
    "for i in range(len(X_train)):\n",
    "    train_image = X_train[i] * train_masks[i]\n",
    "    train_images.append(train_image)\n",
    "train_images_array = np.array(train_images)"
   ]
  },
  {
   "cell_type": "code",
   "execution_count": 17,
   "id": "1a7a746e",
   "metadata": {},
   "outputs": [],
   "source": [
    "#train_images_array = train_images_array.astype(np.float32)"
   ]
  },
  {
   "cell_type": "code",
   "execution_count": 18,
   "id": "02a618b7",
   "metadata": {},
   "outputs": [],
   "source": [
    "train_images_array = train_images_array.reshape(train_images_array.shape[0], train_images_array.shape[1],train_images_array.shape[2], 1)"
   ]
  },
  {
   "cell_type": "code",
   "execution_count": null,
   "id": "050bc38c",
   "metadata": {},
   "outputs": [],
   "source": []
  },
  {
   "cell_type": "code",
   "execution_count": 19,
   "id": "092f608d",
   "metadata": {
    "scrolled": true
   },
   "outputs": [],
   "source": [
    "# for i in range(10, 20):\n",
    "#     plt.imshow(train_images[i])\n",
    "#     plt.show()"
   ]
  },
  {
   "cell_type": "code",
   "execution_count": 20,
   "id": "bc55e9be",
   "metadata": {},
   "outputs": [],
   "source": [
    "# for i in range(10, 20):\n",
    "#     plt.imshow(train_images[i])\n",
    "#     plt.imshow(y_train[i], cmap='gray', alpha=0.5)\n",
    "#     plt.show()"
   ]
  },
  {
   "cell_type": "code",
   "execution_count": 21,
   "id": "67fbfaa8",
   "metadata": {},
   "outputs": [],
   "source": [
    "# fig, axes = plt.subplots(1, 3, figsize=(15, 5))\n",
    "# axes[0].imshow(X_train[10], vmin=0, vmax=1)\n",
    "# axes[0].set_title('Original Image')\n",
    "# axes[1].imshow(train_masks[10])\n",
    "# axes[1].set_title('Mask')\n",
    "# axes[2].imshow(train_images[10])\n",
    "# axes[2].set_title('Processed Image')\n",
    "# plt.show()"
   ]
  },
  {
   "cell_type": "code",
   "execution_count": null,
   "id": "7edf63e4",
   "metadata": {},
   "outputs": [],
   "source": []
  },
  {
   "cell_type": "code",
   "execution_count": 22,
   "id": "3a3d4f47",
   "metadata": {},
   "outputs": [],
   "source": [
    "test_masks=[]\n",
    "for i in range(len(m_test)):\n",
    "    binary = (m_test[i] > 0).astype(np.uint8)\n",
    "    test_masks.append(binary)"
   ]
  },
  {
   "cell_type": "code",
   "execution_count": 23,
   "id": "c08c1bc9",
   "metadata": {},
   "outputs": [],
   "source": [
    "test_images=[]\n",
    "for i in range(len(X_test)):\n",
    "    test_image = X_test[i] * test_masks[i]\n",
    "    test_images.append(test_image)\n",
    "test_images_array = np.array(test_images)"
   ]
  },
  {
   "cell_type": "code",
   "execution_count": 24,
   "id": "229a751d",
   "metadata": {},
   "outputs": [],
   "source": [
    "#test_images_array = test_images_array.astype(np.float32)"
   ]
  },
  {
   "cell_type": "code",
   "execution_count": 25,
   "id": "9ef54dea",
   "metadata": {},
   "outputs": [],
   "source": [
    "test_images_array = test_images_array.reshape(test_images_array.shape[0], test_images_array.shape[1],test_images_array.shape[2], 1)"
   ]
  },
  {
   "cell_type": "code",
   "execution_count": 26,
   "id": "7d9bea09",
   "metadata": {},
   "outputs": [],
   "source": [
    "X_train_set = train_images_array[:last_key]\n",
    "y_train_set = y_train[:last_key]\n",
    "X_val = train_images_array[last_key:]\n",
    "y_val = y_train[last_key:]"
   ]
  },
  {
   "cell_type": "code",
   "execution_count": 27,
   "id": "c8fa2e3f",
   "metadata": {},
   "outputs": [],
   "source": [
    "#y_train_set = y_train_set.astype(np.float32)"
   ]
  },
  {
   "cell_type": "code",
   "execution_count": 28,
   "id": "91252364",
   "metadata": {},
   "outputs": [],
   "source": [
    "#y_val = y_val.astype(np.float32)"
   ]
  },
  {
   "cell_type": "code",
   "execution_count": null,
   "id": "c43945a0",
   "metadata": {},
   "outputs": [],
   "source": []
  },
  {
   "cell_type": "code",
   "execution_count": 29,
   "id": "51c08514",
   "metadata": {},
   "outputs": [
    {
     "data": {
      "text/plain": [
       "(dtype('float64'), dtype('float64'))"
      ]
     },
     "execution_count": 29,
     "metadata": {},
     "output_type": "execute_result"
    }
   ],
   "source": [
    "X_train_set.dtype, y_train_set.dtype"
   ]
  },
  {
   "cell_type": "code",
   "execution_count": 30,
   "id": "4634bb57",
   "metadata": {},
   "outputs": [
    {
     "data": {
      "text/plain": [
       "(dtype('float64'), dtype('float64'))"
      ]
     },
     "execution_count": 30,
     "metadata": {},
     "output_type": "execute_result"
    }
   ],
   "source": [
    "X_val.dtype, y_val.dtype"
   ]
  },
  {
   "cell_type": "code",
   "execution_count": 31,
   "id": "11ff5f34",
   "metadata": {},
   "outputs": [
    {
     "data": {
      "text/plain": [
       "(dtype('float64'), dtype('float64'))"
      ]
     },
     "execution_count": 31,
     "metadata": {},
     "output_type": "execute_result"
    }
   ],
   "source": [
    "test_images_array.dtype, y_test.dtype"
   ]
  },
  {
   "cell_type": "code",
   "execution_count": 32,
   "id": "a4b42641",
   "metadata": {},
   "outputs": [
    {
     "data": {
      "text/plain": [
       "((135, 512, 512, 1), (135, 512, 512, 1))"
      ]
     },
     "execution_count": 32,
     "metadata": {},
     "output_type": "execute_result"
    }
   ],
   "source": [
    "X_val.shape, y_val.shape"
   ]
  },
  {
   "cell_type": "code",
   "execution_count": null,
   "id": "f0250dc1",
   "metadata": {},
   "outputs": [],
   "source": []
  },
  {
   "cell_type": "code",
   "execution_count": null,
   "id": "34dd6c88",
   "metadata": {},
   "outputs": [],
   "source": []
  },
  {
   "cell_type": "code",
   "execution_count": 33,
   "id": "c001a494",
   "metadata": {
    "scrolled": true
   },
   "outputs": [
    {
     "name": "stdout",
     "output_type": "stream",
     "text": [
      "-----------------------------------------\n",
      "keras-unet init: TF version is >= 2.0.0 - using `tf.keras` instead of `Keras`\n",
      "-----------------------------------------\n"
     ]
    },
    {
     "name": "stderr",
     "output_type": "stream",
     "text": [
      "2024-05-05 18:13:02.656009: I tensorflow/core/common_runtime/gpu/gpu_device.cc:1733] Found device 0 with properties: \n",
      "pciBusID: 0000:87:00.0 name: A100-SXM4-40GB computeCapability: 8.0\n",
      "coreClock: 1.41GHz coreCount: 108 deviceMemorySize: 39.59GiB deviceMemoryBandwidth: 1.41TiB/s\n",
      "2024-05-05 18:13:02.658565: I tensorflow/core/common_runtime/gpu/gpu_device.cc:1733] Found device 1 with properties: \n",
      "pciBusID: 0000:90:00.0 name: A100-SXM4-40GB computeCapability: 8.0\n",
      "coreClock: 1.41GHz coreCount: 108 deviceMemorySize: 39.59GiB deviceMemoryBandwidth: 1.41TiB/s\n",
      "2024-05-05 18:13:02.667753: I tensorflow/core/common_runtime/gpu/gpu_device.cc:1871] Adding visible gpu devices: 0, 1\n",
      "2024-05-05 18:13:02.670572: I tensorflow/core/common_runtime/gpu/gpu_device.cc:1733] Found device 0 with properties: \n",
      "pciBusID: 0000:87:00.0 name: A100-SXM4-40GB computeCapability: 8.0\n",
      "coreClock: 1.41GHz coreCount: 108 deviceMemorySize: 39.59GiB deviceMemoryBandwidth: 1.41TiB/s\n",
      "2024-05-05 18:13:02.672961: I tensorflow/core/common_runtime/gpu/gpu_device.cc:1733] Found device 1 with properties: \n",
      "pciBusID: 0000:90:00.0 name: A100-SXM4-40GB computeCapability: 8.0\n",
      "coreClock: 1.41GHz coreCount: 108 deviceMemorySize: 39.59GiB deviceMemoryBandwidth: 1.41TiB/s\n",
      "2024-05-05 18:13:02.682327: I tensorflow/core/common_runtime/gpu/gpu_device.cc:1871] Adding visible gpu devices: 0, 1\n",
      "2024-05-05 18:13:02.682380: I tensorflow/core/common_runtime/gpu/gpu_device.cc:1258] Device interconnect StreamExecutor with strength 1 edge matrix:\n",
      "2024-05-05 18:13:02.682385: I tensorflow/core/common_runtime/gpu/gpu_device.cc:1264]      0 1 \n",
      "2024-05-05 18:13:02.682389: I tensorflow/core/common_runtime/gpu/gpu_device.cc:1277] 0:   N Y \n",
      "2024-05-05 18:13:02.682393: I tensorflow/core/common_runtime/gpu/gpu_device.cc:1277] 1:   Y N \n",
      "2024-05-05 18:13:02.689591: I tensorflow/core/common_runtime/gpu/gpu_device.cc:1418] Created TensorFlow device (/job:localhost/replica:0/task:0/device:GPU:0 with 38425 MB memory) -> physical GPU (device: 0, name: A100-SXM4-40GB, pci bus id: 0000:87:00.0, compute capability: 8.0)\n",
      "2024-05-05 18:13:02.692206: I tensorflow/core/common_runtime/gpu/gpu_device.cc:1418] Created TensorFlow device (/job:localhost/replica:0/task:0/device:GPU:1 with 38425 MB memory) -> physical GPU (device: 1, name: A100-SXM4-40GB, pci bus id: 0000:90:00.0, compute capability: 8.0)\n"
     ]
    }
   ],
   "source": [
    "model = C.Helper.create_unet(X_train_set[0].shape)"
   ]
  },
  {
   "cell_type": "code",
   "execution_count": 34,
   "id": "f889cdd0",
   "metadata": {
    "scrolled": true
   },
   "outputs": [
    {
     "name": "stderr",
     "output_type": "stream",
     "text": [
      "2024-05-05 18:13:03.692721: I tensorflow/compiler/mlir/mlir_graph_optimization_pass.cc:176] None of the MLIR Optimization Passes are enabled (registered 2)\n",
      "2024-05-05 18:13:03.714770: I tensorflow/core/platform/profile_utils/cpu_utils.cc:114] CPU Frequency: 2245740000 Hz\n"
     ]
    },
    {
     "name": "stdout",
     "output_type": "stream",
     "text": [
      "Epoch 1/200\n"
     ]
    },
    {
     "name": "stderr",
     "output_type": "stream",
     "text": [
      "2024-05-05 18:13:05.074768: I tensorflow/stream_executor/platform/default/dso_loader.cc:53] Successfully opened dynamic library libcudnn.so.8\n",
      "2024-05-05 18:13:05.975496: I tensorflow/stream_executor/cuda/cuda_dnn.cc:359] Loaded cuDNN version 8201\n",
      "2024-05-05 18:13:07.115188: W tensorflow/stream_executor/gpu/asm_compiler.cc:191] Falling back to the CUDA driver for PTX compilation; ptxas does not support CC 8.0\n",
      "2024-05-05 18:13:07.115209: W tensorflow/stream_executor/gpu/asm_compiler.cc:194] Used ptxas at ptxas\n",
      "2024-05-05 18:13:07.115647: W tensorflow/stream_executor/gpu/redzone_allocator.cc:314] Unimplemented: ptxas ptxas too old. Falling back to the driver to compile.\n",
      "Relying on driver to perform ptx compilation. \n",
      "Modify $PATH to customize ptxas location.\n",
      "This message will be only logged once.\n",
      "2024-05-05 18:13:07.219655: I tensorflow/stream_executor/platform/default/dso_loader.cc:53] Successfully opened dynamic library libcublas.so.11\n",
      "2024-05-05 18:13:08.342597: I tensorflow/stream_executor/platform/default/dso_loader.cc:53] Successfully opened dynamic library libcublasLt.so.11\n",
      "2024-05-05 18:13:18.175497: W tensorflow/core/common_runtime/bfc_allocator.cc:271] Allocator (GPU_0_bfc) ran out of memory trying to allocate 4.02GiB with freed_by_count=0. The caller indicates that this is not a failure, but may mean that there could be performance gains if more memory were available.\n",
      "2024-05-05 18:13:18.175790: W tensorflow/core/kernels/gpu_utils.cc:49] Failed to allocate memory for convolution redzone checking; skipping this check. This is benign and only means that we won't check cudnn for out-of-bounds reads and writes. This message will only be printed once.\n"
     ]
    },
    {
     "name": "stdout",
     "output_type": "stream",
     "text": [
      "14/14 [==============================] - 41s 1s/step - loss: 0.5926 - iou: 1.3260e-04 - iou_thresholded: 6.3829e-04 - val_loss: 0.1132 - val_iou: 0.0014 - val_iou_thresholded: 0.0014\n",
      "Epoch 2/200\n",
      "14/14 [==============================] - 16s 1s/step - loss: 0.0265 - iou: 0.0057 - iou_thresholded: 0.0061 - val_loss: 0.0018 - val_iou: 0.0013 - val_iou_thresholded: 0.0014\n",
      "Epoch 3/200\n",
      "14/14 [==============================] - 13s 956ms/step - loss: 0.0017 - iou: 0.0031 - iou_thresholded: 0.0015 - val_loss: 0.0016 - val_iou: 0.0075 - val_iou_thresholded: 0.0014\n",
      "Epoch 4/200\n",
      "14/14 [==============================] - 13s 955ms/step - loss: 0.0011 - iou: 0.0122 - iou_thresholded: 0.0016 - val_loss: 0.0016 - val_iou: 0.0152 - val_iou_thresholded: 0.0014\n",
      "Epoch 5/200\n",
      "14/14 [==============================] - 13s 956ms/step - loss: 9.4042e-04 - iou: 0.0164 - iou_thresholded: 0.0017 - val_loss: 0.0015 - val_iou: 0.0178 - val_iou_thresholded: 0.0014\n",
      "Epoch 6/200\n",
      "14/14 [==============================] - 13s 956ms/step - loss: 9.0578e-04 - iou: 0.0222 - iou_thresholded: 0.0015 - val_loss: 0.0016 - val_iou: 0.0214 - val_iou_thresholded: 0.0014\n",
      "Epoch 7/200\n",
      "14/14 [==============================] - 13s 956ms/step - loss: 8.8906e-04 - iou: 0.0256 - iou_thresholded: 0.0022 - val_loss: 0.0015 - val_iou: 0.0195 - val_iou_thresholded: 0.0014\n",
      "Epoch 8/200\n",
      "14/14 [==============================] - 13s 957ms/step - loss: 8.5896e-04 - iou: 0.0343 - iou_thresholded: 0.0013 - val_loss: 0.0014 - val_iou: 0.0288 - val_iou_thresholded: 0.0014\n",
      "Epoch 9/200\n",
      "14/14 [==============================] - 13s 956ms/step - loss: 8.5432e-04 - iou: 0.0308 - iou_thresholded: 0.0014 - val_loss: 0.0016 - val_iou: 0.0226 - val_iou_thresholded: 0.0014\n",
      "Epoch 10/200\n",
      "14/14 [==============================] - 13s 956ms/step - loss: 0.0011 - iou: 0.0301 - iou_thresholded: 9.5175e-04 - val_loss: 0.0018 - val_iou: 0.0063 - val_iou_thresholded: 0.0014\n",
      "Epoch 11/200\n",
      "14/14 [==============================] - 13s 960ms/step - loss: 0.0011 - iou: 0.0204 - iou_thresholded: 0.0017 - val_loss: 0.0013 - val_iou: 0.0208 - val_iou_thresholded: 0.0014\n",
      "Epoch 12/200\n",
      "14/14 [==============================] - 13s 957ms/step - loss: 8.0451e-04 - iou: 0.0245 - iou_thresholded: 0.0072 - val_loss: 0.0012 - val_iou: 0.0201 - val_iou_thresholded: 0.0014\n",
      "Epoch 13/200\n",
      "14/14 [==============================] - 13s 957ms/step - loss: 8.2397e-04 - iou: 0.0274 - iou_thresholded: 0.0044 - val_loss: 0.0013 - val_iou: 0.0167 - val_iou_thresholded: 0.0014\n",
      "Epoch 14/200\n",
      "14/14 [==============================] - 14s 968ms/step - loss: 8.0057e-04 - iou: 0.0354 - iou_thresholded: 0.0031 - val_loss: 0.0012 - val_iou: 0.0219 - val_iou_thresholded: 0.0014\n",
      "Epoch 15/200\n",
      "14/14 [==============================] - 13s 958ms/step - loss: 7.3689e-04 - iou: 0.0408 - iou_thresholded: 0.0012 - val_loss: 0.0012 - val_iou: 0.0288 - val_iou_thresholded: 0.0014\n",
      "Epoch 16/200\n",
      "14/14 [==============================] - 14s 1s/step - loss: 7.8183e-04 - iou: 0.0432 - iou_thresholded: 6.6835e-04 - val_loss: 0.0013 - val_iou: 0.0232 - val_iou_thresholded: 0.0014\n",
      "Epoch 17/200\n",
      "14/14 [==============================] - 13s 1s/step - loss: 7.4427e-04 - iou: 0.0471 - iou_thresholded: 0.0039 - val_loss: 0.0012 - val_iou: 0.0345 - val_iou_thresholded: 0.0016\n",
      "Epoch 18/200\n",
      "14/14 [==============================] - 13s 957ms/step - loss: 7.1440e-04 - iou: 0.0541 - iou_thresholded: 0.0049 - val_loss: 0.0011 - val_iou: 0.0310 - val_iou_thresholded: 0.0014\n",
      "Epoch 19/200\n",
      "14/14 [==============================] - 13s 958ms/step - loss: 6.3418e-04 - iou: 0.0705 - iou_thresholded: 0.0267 - val_loss: 0.0011 - val_iou: 0.0401 - val_iou_thresholded: 0.0074\n",
      "Epoch 20/200\n",
      "14/14 [==============================] - 13s 957ms/step - loss: 6.7382e-04 - iou: 0.0799 - iou_thresholded: 0.0697 - val_loss: 9.9820e-04 - val_iou: 0.0451 - val_iou_thresholded: 0.0268\n",
      "Epoch 21/200\n",
      "14/14 [==============================] - 13s 956ms/step - loss: 6.0172e-04 - iou: 0.1232 - iou_thresholded: 0.1498 - val_loss: 0.0010 - val_iou: 0.0640 - val_iou_thresholded: 0.0722\n",
      "Epoch 22/200\n",
      "14/14 [==============================] - 13s 957ms/step - loss: 5.9536e-04 - iou: 0.1206 - iou_thresholded: 0.1728 - val_loss: 0.0011 - val_iou: 0.0455 - val_iou_thresholded: 0.0296\n",
      "Epoch 23/200\n",
      "14/14 [==============================] - 13s 956ms/step - loss: 6.2400e-04 - iou: 0.1222 - iou_thresholded: 0.1724 - val_loss: 9.8819e-04 - val_iou: 0.0581 - val_iou_thresholded: 0.0432\n",
      "Epoch 24/200\n",
      "14/14 [==============================] - 13s 961ms/step - loss: 6.1102e-04 - iou: 0.1305 - iou_thresholded: 0.1879 - val_loss: 9.3997e-04 - val_iou: 0.0720 - val_iou_thresholded: 0.0817\n",
      "Epoch 25/200\n",
      "14/14 [==============================] - 13s 957ms/step - loss: 5.2067e-04 - iou: 0.1929 - iou_thresholded: 0.2711 - val_loss: 9.5147e-04 - val_iou: 0.0912 - val_iou_thresholded: 0.1788\n",
      "Epoch 26/200\n",
      "14/14 [==============================] - 13s 957ms/step - loss: 5.2146e-04 - iou: 0.1697 - iou_thresholded: 0.2529 - val_loss: 9.2881e-04 - val_iou: 0.0955 - val_iou_thresholded: 0.1265\n",
      "Epoch 27/200\n",
      "14/14 [==============================] - 13s 959ms/step - loss: 5.7724e-04 - iou: 0.1782 - iou_thresholded: 0.2536 - val_loss: 0.0011 - val_iou: 0.1079 - val_iou_thresholded: 0.1199\n",
      "Epoch 28/200\n",
      "14/14 [==============================] - 13s 958ms/step - loss: 5.1516e-04 - iou: 0.1952 - iou_thresholded: 0.2751 - val_loss: 9.7476e-04 - val_iou: 0.1128 - val_iou_thresholded: 0.1710\n",
      "Epoch 29/200\n",
      "14/14 [==============================] - 13s 957ms/step - loss: 5.0324e-04 - iou: 0.2285 - iou_thresholded: 0.3267 - val_loss: 8.9312e-04 - val_iou: 0.1137 - val_iou_thresholded: 0.1873\n",
      "Epoch 30/200\n",
      "14/14 [==============================] - 13s 958ms/step - loss: 4.7537e-04 - iou: 0.2363 - iou_thresholded: 0.3362 - val_loss: 0.0010 - val_iou: 0.1075 - val_iou_thresholded: 0.2019\n",
      "Epoch 31/200\n",
      "14/14 [==============================] - 14s 1s/step - loss: 5.2739e-04 - iou: 0.2236 - iou_thresholded: 0.3296 - val_loss: 8.5938e-04 - val_iou: 0.1237 - val_iou_thresholded: 0.2009\n",
      "Epoch 32/200\n",
      "14/14 [==============================] - 13s 1s/step - loss: 9.4327e-04 - iou: 0.0342 - iou_thresholded: 0.0306 - val_loss: 9.9261e-04 - val_iou: 0.0181 - val_iou_thresholded: 0.0014\n",
      "Epoch 33/200\n",
      "14/14 [==============================] - 13s 961ms/step - loss: 6.6005e-04 - iou: 0.0702 - iou_thresholded: 0.0634 - val_loss: 0.0010 - val_iou: 0.0690 - val_iou_thresholded: 0.1322\n",
      "Epoch 34/200\n",
      "14/14 [==============================] - 13s 957ms/step - loss: 6.2797e-04 - iou: 0.1225 - iou_thresholded: 0.1776 - val_loss: 8.9722e-04 - val_iou: 0.0688 - val_iou_thresholded: 0.1369\n",
      "Epoch 35/200\n",
      "14/14 [==============================] - 13s 957ms/step - loss: 5.2681e-04 - iou: 0.1335 - iou_thresholded: 0.1828 - val_loss: 8.9049e-04 - val_iou: 0.1066 - val_iou_thresholded: 0.1902\n",
      "Epoch 36/200\n",
      "14/14 [==============================] - 13s 962ms/step - loss: 4.6932e-04 - iou: 0.2230 - iou_thresholded: 0.3254 - val_loss: 9.6599e-04 - val_iou: 0.1340 - val_iou_thresholded: 0.1770\n",
      "Epoch 37/200\n",
      "14/14 [==============================] - 13s 957ms/step - loss: 4.9491e-04 - iou: 0.2406 - iou_thresholded: 0.3496 - val_loss: 8.0038e-04 - val_iou: 0.1241 - val_iou_thresholded: 0.1860\n",
      "Epoch 38/200\n",
      "14/14 [==============================] - 13s 958ms/step - loss: 4.2771e-04 - iou: 0.2496 - iou_thresholded: 0.3744 - val_loss: 9.0749e-04 - val_iou: 0.1553 - val_iou_thresholded: 0.2355\n",
      "Epoch 39/200\n",
      "14/14 [==============================] - 13s 957ms/step - loss: 4.0193e-04 - iou: 0.3054 - iou_thresholded: 0.4258 - val_loss: 9.1015e-04 - val_iou: 0.1613 - val_iou_thresholded: 0.2087\n",
      "Epoch 40/200\n",
      "14/14 [==============================] - 13s 960ms/step - loss: 3.9728e-04 - iou: 0.3008 - iou_thresholded: 0.4220 - val_loss: 8.2172e-04 - val_iou: 0.1732 - val_iou_thresholded: 0.2444\n",
      "Epoch 41/200\n",
      "14/14 [==============================] - 13s 959ms/step - loss: 3.5719e-04 - iou: 0.3223 - iou_thresholded: 0.4411 - val_loss: 8.9880e-04 - val_iou: 0.1861 - val_iou_thresholded: 0.2533\n",
      "Epoch 42/200\n",
      "14/14 [==============================] - 13s 956ms/step - loss: 3.7416e-04 - iou: 0.3333 - iou_thresholded: 0.4566 - val_loss: 8.4430e-04 - val_iou: 0.1491 - val_iou_thresholded: 0.2037\n"
     ]
    },
    {
     "name": "stdout",
     "output_type": "stream",
     "text": [
      "Epoch 43/200\n",
      "14/14 [==============================] - 13s 959ms/step - loss: 4.2772e-04 - iou: 0.2696 - iou_thresholded: 0.3744 - val_loss: 7.2275e-04 - val_iou: 0.1650 - val_iou_thresholded: 0.2460\n",
      "Epoch 44/200\n",
      "14/14 [==============================] - 13s 959ms/step - loss: 3.6195e-04 - iou: 0.3161 - iou_thresholded: 0.4315 - val_loss: 8.4981e-04 - val_iou: 0.1945 - val_iou_thresholded: 0.2684\n",
      "Epoch 45/200\n",
      "14/14 [==============================] - 13s 958ms/step - loss: 3.4975e-04 - iou: 0.3376 - iou_thresholded: 0.4577 - val_loss: 7.9463e-04 - val_iou: 0.1989 - val_iou_thresholded: 0.2624\n",
      "Epoch 46/200\n",
      "14/14 [==============================] - 14s 1s/step - loss: 3.3543e-04 - iou: 0.3614 - iou_thresholded: 0.4899 - val_loss: 8.3298e-04 - val_iou: 0.2084 - val_iou_thresholded: 0.2611\n",
      "Epoch 47/200\n",
      "14/14 [==============================] - 13s 1s/step - loss: 3.2325e-04 - iou: 0.3593 - iou_thresholded: 0.4706 - val_loss: 8.2847e-04 - val_iou: 0.2063 - val_iou_thresholded: 0.2949\n",
      "Epoch 48/200\n",
      "14/14 [==============================] - 13s 960ms/step - loss: 3.5945e-04 - iou: 0.3485 - iou_thresholded: 0.4647 - val_loss: 7.9552e-04 - val_iou: 0.1971 - val_iou_thresholded: 0.2615\n",
      "Epoch 49/200\n",
      "14/14 [==============================] - 13s 958ms/step - loss: 3.2617e-04 - iou: 0.3464 - iou_thresholded: 0.4671 - val_loss: 8.9750e-04 - val_iou: 0.2238 - val_iou_thresholded: 0.2833\n",
      "Epoch 50/200\n",
      "14/14 [==============================] - 13s 957ms/step - loss: 3.1985e-04 - iou: 0.4018 - iou_thresholded: 0.5209 - val_loss: 8.0466e-04 - val_iou: 0.2071 - val_iou_thresholded: 0.3019\n",
      "Epoch 51/200\n",
      "14/14 [==============================] - 13s 958ms/step - loss: 3.2054e-04 - iou: 0.3762 - iou_thresholded: 0.4968 - val_loss: 9.2616e-04 - val_iou: 0.2300 - val_iou_thresholded: 0.2740\n",
      "Epoch 52/200\n",
      "14/14 [==============================] - 13s 959ms/step - loss: 3.1319e-04 - iou: 0.3902 - iou_thresholded: 0.5024 - val_loss: 8.5579e-04 - val_iou: 0.2270 - val_iou_thresholded: 0.3014\n",
      "Epoch 53/200\n",
      "14/14 [==============================] - 13s 957ms/step - loss: 2.9091e-04 - iou: 0.4103 - iou_thresholded: 0.5181 - val_loss: 8.7157e-04 - val_iou: 0.2413 - val_iou_thresholded: 0.2943\n",
      "Epoch 54/200\n",
      "14/14 [==============================] - 13s 957ms/step - loss: 2.8037e-04 - iou: 0.4289 - iou_thresholded: 0.5527 - val_loss: 9.3438e-04 - val_iou: 0.2321 - val_iou_thresholded: 0.3064\n",
      "Epoch 55/200\n",
      "14/14 [==============================] - 13s 960ms/step - loss: 2.9568e-04 - iou: 0.4442 - iou_thresholded: 0.5703 - val_loss: 9.1560e-04 - val_iou: 0.2452 - val_iou_thresholded: 0.3123\n",
      "Epoch 56/200\n",
      "14/14 [==============================] - 13s 957ms/step - loss: 2.7981e-04 - iou: 0.4175 - iou_thresholded: 0.5484 - val_loss: 8.0310e-04 - val_iou: 0.2356 - val_iou_thresholded: 0.3043\n",
      "Epoch 57/200\n",
      "14/14 [==============================] - 13s 957ms/step - loss: 2.8313e-04 - iou: 0.4235 - iou_thresholded: 0.5425 - val_loss: 8.8973e-04 - val_iou: 0.2396 - val_iou_thresholded: 0.3105\n",
      "Epoch 58/200\n",
      "14/14 [==============================] - 13s 959ms/step - loss: 2.8351e-04 - iou: 0.4341 - iou_thresholded: 0.5597 - val_loss: 9.0717e-04 - val_iou: 0.2450 - val_iou_thresholded: 0.2936\n",
      "Epoch 59/200\n",
      "14/14 [==============================] - 13s 959ms/step - loss: 2.8430e-04 - iou: 0.4422 - iou_thresholded: 0.5593 - val_loss: 8.7416e-04 - val_iou: 0.2392 - val_iou_thresholded: 0.3205\n",
      "Epoch 60/200\n",
      "14/14 [==============================] - 13s 960ms/step - loss: 2.8479e-04 - iou: 0.4300 - iou_thresholded: 0.5582 - val_loss: 9.3805e-04 - val_iou: 0.2264 - val_iou_thresholded: 0.3183\n",
      "Epoch 61/200\n",
      "14/14 [==============================] - 14s 1s/step - loss: 2.7556e-04 - iou: 0.4425 - iou_thresholded: 0.5664 - val_loss: 9.1927e-04 - val_iou: 0.2550 - val_iou_thresholded: 0.3268\n",
      "Epoch 62/200\n",
      "14/14 [==============================] - 13s 1s/step - loss: 2.6678e-04 - iou: 0.4509 - iou_thresholded: 0.5839 - val_loss: 9.4589e-04 - val_iou: 0.2422 - val_iou_thresholded: 0.3232\n",
      "Epoch 63/200\n",
      "14/14 [==============================] - 13s 961ms/step - loss: 2.5501e-04 - iou: 0.4700 - iou_thresholded: 0.5875 - val_loss: 9.5232e-04 - val_iou: 0.2465 - val_iou_thresholded: 0.3277\n",
      "Epoch 64/200\n",
      "14/14 [==============================] - 13s 957ms/step - loss: 2.4078e-04 - iou: 0.4614 - iou_thresholded: 0.5714 - val_loss: 9.0480e-04 - val_iou: 0.2524 - val_iou_thresholded: 0.3214\n",
      "Epoch 65/200\n",
      "14/14 [==============================] - 13s 957ms/step - loss: 2.7149e-04 - iou: 0.4715 - iou_thresholded: 0.5878 - val_loss: 9.3302e-04 - val_iou: 0.2582 - val_iou_thresholded: 0.3154\n",
      "Epoch 66/200\n",
      "14/14 [==============================] - 13s 958ms/step - loss: 2.5346e-04 - iou: 0.4635 - iou_thresholded: 0.5908 - val_loss: 8.2560e-04 - val_iou: 0.2545 - val_iou_thresholded: 0.3132\n",
      "Epoch 67/200\n",
      "14/14 [==============================] - 13s 958ms/step - loss: 2.3159e-04 - iou: 0.4598 - iou_thresholded: 0.5806 - val_loss: 8.6826e-04 - val_iou: 0.2521 - val_iou_thresholded: 0.3136\n",
      "Epoch 68/200\n",
      "14/14 [==============================] - 13s 958ms/step - loss: 2.4549e-04 - iou: 0.4723 - iou_thresholded: 0.5924 - val_loss: 9.2030e-04 - val_iou: 0.2741 - val_iou_thresholded: 0.3291\n",
      "Epoch 69/200\n",
      "14/14 [==============================] - 13s 958ms/step - loss: 2.4675e-04 - iou: 0.4982 - iou_thresholded: 0.6159 - val_loss: 9.2283e-04 - val_iou: 0.2588 - val_iou_thresholded: 0.3304\n",
      "Epoch 70/200\n",
      "14/14 [==============================] - 13s 957ms/step - loss: 2.4558e-04 - iou: 0.4612 - iou_thresholded: 0.5746 - val_loss: 8.5894e-04 - val_iou: 0.2617 - val_iou_thresholded: 0.3183\n",
      "Epoch 71/200\n",
      "14/14 [==============================] - 13s 961ms/step - loss: 2.3617e-04 - iou: 0.4874 - iou_thresholded: 0.6060 - val_loss: 8.5500e-04 - val_iou: 0.2532 - val_iou_thresholded: 0.3285\n",
      "Epoch 72/200\n",
      "14/14 [==============================] - 13s 957ms/step - loss: 2.1750e-04 - iou: 0.5167 - iou_thresholded: 0.6381 - val_loss: 0.0010 - val_iou: 0.2698 - val_iou_thresholded: 0.3259\n",
      "Epoch 73/200\n",
      "14/14 [==============================] - 13s 957ms/step - loss: 2.2558e-04 - iou: 0.4936 - iou_thresholded: 0.6055 - val_loss: 8.8597e-04 - val_iou: 0.2598 - val_iou_thresholded: 0.3311\n",
      "Epoch 74/200\n",
      "14/14 [==============================] - 13s 958ms/step - loss: 2.4175e-04 - iou: 0.4676 - iou_thresholded: 0.5813 - val_loss: 7.9731e-04 - val_iou: 0.2576 - val_iou_thresholded: 0.3262\n",
      "Epoch 75/200\n",
      "14/14 [==============================] - 13s 958ms/step - loss: 2.4987e-04 - iou: 0.4649 - iou_thresholded: 0.5859 - val_loss: 8.9233e-04 - val_iou: 0.2692 - val_iou_thresholded: 0.3011\n",
      "Epoch 76/200\n",
      "14/14 [==============================] - 14s 1s/step - loss: 2.6817e-04 - iou: 0.4593 - iou_thresholded: 0.5775 - val_loss: 7.9783e-04 - val_iou: 0.2410 - val_iou_thresholded: 0.3342\n",
      "Epoch 77/200\n",
      "14/14 [==============================] - 13s 1s/step - loss: 2.5144e-04 - iou: 0.4711 - iou_thresholded: 0.5970 - val_loss: 8.8335e-04 - val_iou: 0.2641 - val_iou_thresholded: 0.3148\n",
      "Epoch 78/200\n",
      "14/14 [==============================] - 13s 959ms/step - loss: 2.3158e-04 - iou: 0.4834 - iou_thresholded: 0.6211 - val_loss: 9.1078e-04 - val_iou: 0.2667 - val_iou_thresholded: 0.3374\n",
      "Epoch 79/200\n",
      "14/14 [==============================] - 13s 959ms/step - loss: 2.2043e-04 - iou: 0.5282 - iou_thresholded: 0.6448 - val_loss: 9.2506e-04 - val_iou: 0.2715 - val_iou_thresholded: 0.3338\n",
      "Epoch 80/200\n",
      "14/14 [==============================] - 13s 963ms/step - loss: 2.1789e-04 - iou: 0.5351 - iou_thresholded: 0.6448 - val_loss: 9.1982e-04 - val_iou: 0.2706 - val_iou_thresholded: 0.3259\n",
      "Epoch 81/200\n",
      "14/14 [==============================] - 13s 956ms/step - loss: 2.0507e-04 - iou: 0.5369 - iou_thresholded: 0.6428 - val_loss: 0.0011 - val_iou: 0.2817 - val_iou_thresholded: 0.3339\n",
      "Epoch 82/200\n",
      "14/14 [==============================] - 13s 958ms/step - loss: 2.2785e-04 - iou: 0.4994 - iou_thresholded: 0.6057 - val_loss: 7.2870e-04 - val_iou: 0.2659 - val_iou_thresholded: 0.3477\n",
      "Epoch 83/200\n",
      "14/14 [==============================] - 13s 960ms/step - loss: 2.2020e-04 - iou: 0.5078 - iou_thresholded: 0.6308 - val_loss: 9.3808e-04 - val_iou: 0.2646 - val_iou_thresholded: 0.3316\n",
      "Epoch 84/200\n"
     ]
    },
    {
     "name": "stdout",
     "output_type": "stream",
     "text": [
      "14/14 [==============================] - 13s 958ms/step - loss: 2.3638e-04 - iou: 0.5233 - iou_thresholded: 0.6335 - val_loss: 9.5359e-04 - val_iou: 0.2882 - val_iou_thresholded: 0.3236\n",
      "Epoch 85/200\n",
      "14/14 [==============================] - 13s 957ms/step - loss: 2.2987e-04 - iou: 0.4668 - iou_thresholded: 0.5809 - val_loss: 9.8709e-04 - val_iou: 0.2553 - val_iou_thresholded: 0.2873\n",
      "Epoch 86/200\n",
      "14/14 [==============================] - 13s 957ms/step - loss: 2.1500e-04 - iou: 0.5114 - iou_thresholded: 0.6412 - val_loss: 9.2041e-04 - val_iou: 0.2798 - val_iou_thresholded: 0.3430\n",
      "Epoch 87/200\n",
      "14/14 [==============================] - 13s 959ms/step - loss: 2.0639e-04 - iou: 0.5051 - iou_thresholded: 0.6117 - val_loss: 0.0012 - val_iou: 0.2800 - val_iou_thresholded: 0.3423\n",
      "Epoch 88/200\n",
      "14/14 [==============================] - 13s 958ms/step - loss: 2.2892e-04 - iou: 0.4938 - iou_thresholded: 0.6090 - val_loss: 8.5531e-04 - val_iou: 0.2503 - val_iou_thresholded: 0.3344\n",
      "Epoch 89/200\n",
      "14/14 [==============================] - 13s 961ms/step - loss: 2.3922e-04 - iou: 0.4867 - iou_thresholded: 0.5971 - val_loss: 8.2914e-04 - val_iou: 0.2666 - val_iou_thresholded: 0.3026\n",
      "Epoch 90/200\n",
      "14/14 [==============================] - 13s 958ms/step - loss: 2.2405e-04 - iou: 0.5041 - iou_thresholded: 0.6375 - val_loss: 9.4666e-04 - val_iou: 0.2467 - val_iou_thresholded: 0.3301\n",
      "Epoch 91/200\n",
      "14/14 [==============================] - 14s 1s/step - loss: 2.0640e-04 - iou: 0.5338 - iou_thresholded: 0.6554 - val_loss: 9.8460e-04 - val_iou: 0.2866 - val_iou_thresholded: 0.3362\n",
      "Epoch 92/200\n",
      "14/14 [==============================] - 13s 1s/step - loss: 2.0663e-04 - iou: 0.4981 - iou_thresholded: 0.6164 - val_loss: 9.7067e-04 - val_iou: 0.2871 - val_iou_thresholded: 0.3432\n",
      "Epoch 93/200\n",
      "14/14 [==============================] - 13s 963ms/step - loss: 1.8843e-04 - iou: 0.5564 - iou_thresholded: 0.6861 - val_loss: 0.0010 - val_iou: 0.2887 - val_iou_thresholded: 0.3475\n",
      "Epoch 94/200\n",
      "14/14 [==============================] - 13s 957ms/step - loss: 1.8232e-04 - iou: 0.5362 - iou_thresholded: 0.6472 - val_loss: 9.8398e-04 - val_iou: 0.2857 - val_iou_thresholded: 0.3412\n",
      "Epoch 95/200\n",
      "14/14 [==============================] - 13s 957ms/step - loss: 1.7422e-04 - iou: 0.5903 - iou_thresholded: 0.7100 - val_loss: 9.7489e-04 - val_iou: 0.2907 - val_iou_thresholded: 0.3419\n",
      "Epoch 96/200\n",
      "14/14 [==============================] - 13s 959ms/step - loss: 1.7274e-04 - iou: 0.5698 - iou_thresholded: 0.6709 - val_loss: 9.9674e-04 - val_iou: 0.2913 - val_iou_thresholded: 0.3391\n",
      "Epoch 97/200\n",
      "14/14 [==============================] - 13s 957ms/step - loss: 1.7887e-04 - iou: 0.5561 - iou_thresholded: 0.6885 - val_loss: 9.9367e-04 - val_iou: 0.2969 - val_iou_thresholded: 0.3391\n",
      "Epoch 98/200\n",
      "14/14 [==============================] - 13s 965ms/step - loss: 1.8958e-04 - iou: 0.5692 - iou_thresholded: 0.6815 - val_loss: 8.2247e-04 - val_iou: 0.3028 - val_iou_thresholded: 0.3471\n",
      "Epoch 99/200\n",
      "14/14 [==============================] - 13s 958ms/step - loss: 2.0556e-04 - iou: 0.5217 - iou_thresholded: 0.6138 - val_loss: 9.8696e-04 - val_iou: 0.2626 - val_iou_thresholded: 0.3381\n",
      "Epoch 100/200\n",
      "14/14 [==============================] - 13s 959ms/step - loss: 1.9590e-04 - iou: 0.5482 - iou_thresholded: 0.6818 - val_loss: 9.6067e-04 - val_iou: 0.2773 - val_iou_thresholded: 0.3384\n",
      "Epoch 101/200\n",
      "14/14 [==============================] - 13s 959ms/step - loss: 1.7365e-04 - iou: 0.5998 - iou_thresholded: 0.7148 - val_loss: 9.4697e-04 - val_iou: 0.2916 - val_iou_thresholded: 0.3409\n",
      "Epoch 102/200\n",
      "14/14 [==============================] - 13s 956ms/step - loss: 1.8312e-04 - iou: 0.5764 - iou_thresholded: 0.6855 - val_loss: 0.0011 - val_iou: 0.2995 - val_iou_thresholded: 0.3482\n",
      "Epoch 103/200\n",
      "14/14 [==============================] - 13s 959ms/step - loss: 1.6894e-04 - iou: 0.6049 - iou_thresholded: 0.7148 - val_loss: 9.2208e-04 - val_iou: 0.2809 - val_iou_thresholded: 0.3391\n",
      "Epoch 104/200\n",
      "14/14 [==============================] - 13s 961ms/step - loss: 1.7553e-04 - iou: 0.5959 - iou_thresholded: 0.6911 - val_loss: 9.9169e-04 - val_iou: 0.2940 - val_iou_thresholded: 0.3454\n",
      "Epoch 105/200\n",
      "14/14 [==============================] - 13s 957ms/step - loss: 1.7218e-04 - iou: 0.6075 - iou_thresholded: 0.7131 - val_loss: 9.5410e-04 - val_iou: 0.2932 - val_iou_thresholded: 0.3316\n",
      "Epoch 106/200\n",
      "14/14 [==============================] - 14s 1s/step - loss: 1.6331e-04 - iou: 0.6021 - iou_thresholded: 0.7095 - val_loss: 0.0011 - val_iou: 0.2897 - val_iou_thresholded: 0.3345\n",
      "Epoch 107/200\n",
      "14/14 [==============================] - 13s 1s/step - loss: 1.5489e-04 - iou: 0.6097 - iou_thresholded: 0.7187 - val_loss: 0.0011 - val_iou: 0.2837 - val_iou_thresholded: 0.3327\n",
      "Epoch 108/200\n",
      "14/14 [==============================] - 13s 959ms/step - loss: 1.8435e-04 - iou: 0.5736 - iou_thresholded: 0.6821 - val_loss: 8.0897e-04 - val_iou: 0.3031 - val_iou_thresholded: 0.3396\n",
      "Epoch 109/200\n",
      "14/14 [==============================] - 13s 959ms/step - loss: 1.9653e-04 - iou: 0.5684 - iou_thresholded: 0.6730 - val_loss: 7.7407e-04 - val_iou: 0.2947 - val_iou_thresholded: 0.3410\n",
      "Epoch 110/200\n",
      "14/14 [==============================] - 13s 959ms/step - loss: 2.0382e-04 - iou: 0.5303 - iou_thresholded: 0.6461 - val_loss: 8.5209e-04 - val_iou: 0.2839 - val_iou_thresholded: 0.3140\n",
      "Epoch 111/200\n",
      "14/14 [==============================] - 13s 958ms/step - loss: 1.9929e-04 - iou: 0.5253 - iou_thresholded: 0.6503 - val_loss: 9.3993e-04 - val_iou: 0.2918 - val_iou_thresholded: 0.3611\n",
      "Epoch 112/200\n",
      "14/14 [==============================] - 13s 960ms/step - loss: 1.6342e-04 - iou: 0.5610 - iou_thresholded: 0.6871 - val_loss: 9.5620e-04 - val_iou: 0.3062 - val_iou_thresholded: 0.3452\n",
      "Epoch 113/200\n",
      "14/14 [==============================] - 13s 957ms/step - loss: 1.7082e-04 - iou: 0.5962 - iou_thresholded: 0.6961 - val_loss: 9.2115e-04 - val_iou: 0.3106 - val_iou_thresholded: 0.3667\n",
      "Epoch 114/200\n",
      "14/14 [==============================] - 13s 956ms/step - loss: 1.6349e-04 - iou: 0.6225 - iou_thresholded: 0.7288 - val_loss: 0.0011 - val_iou: 0.3101 - val_iou_thresholded: 0.3538\n",
      "Epoch 115/200\n",
      "14/14 [==============================] - 13s 960ms/step - loss: 1.5607e-04 - iou: 0.6179 - iou_thresholded: 0.7173 - val_loss: 0.0010 - val_iou: 0.3009 - val_iou_thresholded: 0.3514\n",
      "Epoch 116/200\n",
      "14/14 [==============================] - 13s 958ms/step - loss: 1.4683e-04 - iou: 0.6297 - iou_thresholded: 0.7382 - val_loss: 0.0010 - val_iou: 0.3048 - val_iou_thresholded: 0.3518\n",
      "Epoch 117/200\n",
      "14/14 [==============================] - 13s 956ms/step - loss: 1.5466e-04 - iou: 0.5983 - iou_thresholded: 0.7046 - val_loss: 0.0012 - val_iou: 0.2921 - val_iou_thresholded: 0.3202\n",
      "Epoch 118/200\n",
      "14/14 [==============================] - 13s 959ms/step - loss: 1.7231e-04 - iou: 0.6060 - iou_thresholded: 0.7007 - val_loss: 8.8271e-04 - val_iou: 0.3018 - val_iou_thresholded: 0.3429\n",
      "Epoch 119/200\n",
      "14/14 [==============================] - 13s 958ms/step - loss: 1.5537e-04 - iou: 0.6343 - iou_thresholded: 0.7348 - val_loss: 0.0011 - val_iou: 0.3024 - val_iou_thresholded: 0.3565\n",
      "Epoch 120/200\n",
      "14/14 [==============================] - 13s 960ms/step - loss: 1.4712e-04 - iou: 0.6270 - iou_thresholded: 0.7318 - val_loss: 0.0012 - val_iou: 0.3073 - val_iou_thresholded: 0.3459\n",
      "Epoch 121/200\n",
      "14/14 [==============================] - 14s 1s/step - loss: 1.4307e-04 - iou: 0.6385 - iou_thresholded: 0.7423 - val_loss: 0.0012 - val_iou: 0.3062 - val_iou_thresholded: 0.3486\n",
      "Epoch 122/200\n",
      "14/14 [==============================] - 13s 1s/step - loss: 1.3732e-04 - iou: 0.6689 - iou_thresholded: 0.7616 - val_loss: 0.0011 - val_iou: 0.2997 - val_iou_thresholded: 0.3511\n",
      "Epoch 123/200\n",
      "14/14 [==============================] - 13s 963ms/step - loss: 1.4778e-04 - iou: 0.6161 - iou_thresholded: 0.7228 - val_loss: 0.0011 - val_iou: 0.3025 - val_iou_thresholded: 0.3483\n",
      "Epoch 124/200\n",
      "14/14 [==============================] - 13s 963ms/step - loss: 1.4722e-04 - iou: 0.6513 - iou_thresholded: 0.7450 - val_loss: 0.0012 - val_iou: 0.3105 - val_iou_thresholded: 0.3583\n",
      "Epoch 125/200\n"
     ]
    },
    {
     "name": "stdout",
     "output_type": "stream",
     "text": [
      "14/14 [==============================] - 13s 959ms/step - loss: 1.3194e-04 - iou: 0.6484 - iou_thresholded: 0.7472 - val_loss: 0.0011 - val_iou: 0.3117 - val_iou_thresholded: 0.3517\n",
      "Epoch 126/200\n",
      "14/14 [==============================] - 13s 958ms/step - loss: 1.3469e-04 - iou: 0.6517 - iou_thresholded: 0.7482 - val_loss: 0.0011 - val_iou: 0.3175 - val_iou_thresholded: 0.3523\n",
      "Epoch 127/200\n",
      "14/14 [==============================] - 13s 957ms/step - loss: 1.3389e-04 - iou: 0.6498 - iou_thresholded: 0.7468 - val_loss: 0.0011 - val_iou: 0.3216 - val_iou_thresholded: 0.3512\n",
      "Epoch 128/200\n",
      "14/14 [==============================] - 13s 958ms/step - loss: 2.7145e-04 - iou: 0.5732 - iou_thresholded: 0.6662 - val_loss: 9.4079e-04 - val_iou: 0.2325 - val_iou_thresholded: 0.3269\n",
      "Epoch 129/200\n",
      "14/14 [==============================] - 13s 957ms/step - loss: 2.5300e-04 - iou: 0.4888 - iou_thresholded: 0.6082 - val_loss: 0.0012 - val_iou: 0.2554 - val_iou_thresholded: 0.3036\n",
      "Epoch 130/200\n",
      "14/14 [==============================] - 13s 955ms/step - loss: 2.2237e-04 - iou: 0.5070 - iou_thresholded: 0.6375 - val_loss: 0.0011 - val_iou: 0.2903 - val_iou_thresholded: 0.3379\n",
      "Epoch 131/200\n",
      "14/14 [==============================] - 13s 959ms/step - loss: 2.0722e-04 - iou: 0.5427 - iou_thresholded: 0.6593 - val_loss: 0.0013 - val_iou: 0.2866 - val_iou_thresholded: 0.3303\n",
      "Epoch 132/200\n",
      "14/14 [==============================] - 13s 958ms/step - loss: 1.8991e-04 - iou: 0.5472 - iou_thresholded: 0.6602 - val_loss: 0.0013 - val_iou: 0.2850 - val_iou_thresholded: 0.3340\n",
      "Epoch 133/200\n",
      "14/14 [==============================] - 13s 956ms/step - loss: 1.7125e-04 - iou: 0.5762 - iou_thresholded: 0.6937 - val_loss: 0.0013 - val_iou: 0.2848 - val_iou_thresholded: 0.3375\n",
      "Epoch 134/200\n",
      "14/14 [==============================] - 13s 956ms/step - loss: 1.6387e-04 - iou: 0.5944 - iou_thresholded: 0.6994 - val_loss: 0.0013 - val_iou: 0.2711 - val_iou_thresholded: 0.3326\n",
      "Epoch 135/200\n",
      "14/14 [==============================] - 13s 962ms/step - loss: 1.7444e-04 - iou: 0.5451 - iou_thresholded: 0.6372 - val_loss: 0.0014 - val_iou: 0.2988 - val_iou_thresholded: 0.3421\n",
      "Epoch 136/200\n",
      "14/14 [==============================] - 14s 1s/step - loss: 1.7465e-04 - iou: 0.5854 - iou_thresholded: 0.7075 - val_loss: 0.0012 - val_iou: 0.3037 - val_iou_thresholded: 0.3474\n",
      "Epoch 137/200\n",
      "14/14 [==============================] - 13s 1s/step - loss: 1.5540e-04 - iou: 0.6182 - iou_thresholded: 0.7259 - val_loss: 0.0013 - val_iou: 0.3026 - val_iou_thresholded: 0.3411\n",
      "Epoch 138/200\n",
      "14/14 [==============================] - 13s 958ms/step - loss: 1.7631e-04 - iou: 0.5422 - iou_thresholded: 0.6386 - val_loss: 0.0013 - val_iou: 0.2993 - val_iou_thresholded: 0.3454\n",
      "Epoch 139/200\n",
      "14/14 [==============================] - 13s 957ms/step - loss: 1.5357e-04 - iou: 0.6051 - iou_thresholded: 0.7102 - val_loss: 0.0013 - val_iou: 0.2903 - val_iou_thresholded: 0.3407\n",
      "Epoch 140/200\n",
      "14/14 [==============================] - 13s 957ms/step - loss: 1.4069e-04 - iou: 0.6261 - iou_thresholded: 0.7248 - val_loss: 0.0014 - val_iou: 0.3036 - val_iou_thresholded: 0.3468\n",
      "Epoch 141/200\n",
      "14/14 [==============================] - 13s 959ms/step - loss: 1.5012e-04 - iou: 0.6296 - iou_thresholded: 0.7352 - val_loss: 0.0013 - val_iou: 0.3056 - val_iou_thresholded: 0.3447\n",
      "Epoch 142/200\n",
      "14/14 [==============================] - 13s 956ms/step - loss: 1.2432e-04 - iou: 0.6712 - iou_thresholded: 0.7665 - val_loss: 0.0015 - val_iou: 0.3054 - val_iou_thresholded: 0.3415\n",
      "Epoch 143/200\n",
      "14/14 [==============================] - 13s 956ms/step - loss: 1.3095e-04 - iou: 0.6623 - iou_thresholded: 0.7573 - val_loss: 0.0014 - val_iou: 0.3119 - val_iou_thresholded: 0.3462\n",
      "Epoch 144/200\n",
      "14/14 [==============================] - 13s 959ms/step - loss: 1.3195e-04 - iou: 0.6742 - iou_thresholded: 0.7653 - val_loss: 0.0014 - val_iou: 0.3086 - val_iou_thresholded: 0.3438\n",
      "Epoch 145/200\n",
      "14/14 [==============================] - 13s 957ms/step - loss: 1.2417e-04 - iou: 0.6649 - iou_thresholded: 0.7588 - val_loss: 0.0015 - val_iou: 0.3018 - val_iou_thresholded: 0.3388\n",
      "Epoch 146/200\n",
      "14/14 [==============================] - 13s 956ms/step - loss: 1.2335e-04 - iou: 0.6595 - iou_thresholded: 0.7604 - val_loss: 0.0016 - val_iou: 0.3161 - val_iou_thresholded: 0.3501\n",
      "Epoch 147/200\n",
      "14/14 [==============================] - 13s 958ms/step - loss: 1.2587e-04 - iou: 0.6874 - iou_thresholded: 0.7724 - val_loss: 0.0016 - val_iou: 0.3202 - val_iou_thresholded: 0.3479\n",
      "Epoch 148/200\n",
      "14/14 [==============================] - 13s 958ms/step - loss: 1.2906e-04 - iou: 0.6597 - iou_thresholded: 0.7555 - val_loss: 0.0015 - val_iou: 0.3176 - val_iou_thresholded: 0.3514\n",
      "Epoch 149/200\n",
      "14/14 [==============================] - 13s 957ms/step - loss: 1.2641e-04 - iou: 0.6467 - iou_thresholded: 0.7512 - val_loss: 0.0014 - val_iou: 0.3062 - val_iou_thresholded: 0.3412\n",
      "Epoch 150/200\n",
      "14/14 [==============================] - 13s 958ms/step - loss: 1.2288e-04 - iou: 0.6811 - iou_thresholded: 0.7611 - val_loss: 0.0015 - val_iou: 0.3099 - val_iou_thresholded: 0.3408\n",
      "Epoch 151/200\n",
      "14/14 [==============================] - 14s 1s/step - loss: 1.3904e-04 - iou: 0.6567 - iou_thresholded: 0.7450 - val_loss: 0.0012 - val_iou: 0.2842 - val_iou_thresholded: 0.3281\n",
      "Epoch 152/200\n",
      "14/14 [==============================] - 13s 1s/step - loss: 1.5377e-04 - iou: 0.6365 - iou_thresholded: 0.7213 - val_loss: 0.0013 - val_iou: 0.3137 - val_iou_thresholded: 0.3545\n",
      "Epoch 153/200\n",
      "14/14 [==============================] - 14s 983ms/step - loss: 1.5165e-04 - iou: 0.6385 - iou_thresholded: 0.7508 - val_loss: 0.0011 - val_iou: 0.3168 - val_iou_thresholded: 0.3715\n",
      "Epoch 154/200\n",
      "14/14 [==============================] - 13s 957ms/step - loss: 1.2768e-04 - iou: 0.6297 - iou_thresholded: 0.7288 - val_loss: 0.0015 - val_iou: 0.3204 - val_iou_thresholded: 0.3520\n",
      "Epoch 155/200\n",
      "14/14 [==============================] - 13s 959ms/step - loss: 1.2157e-04 - iou: 0.6769 - iou_thresholded: 0.7652 - val_loss: 0.0016 - val_iou: 0.3194 - val_iou_thresholded: 0.3513\n",
      "Epoch 156/200\n",
      "14/14 [==============================] - 13s 958ms/step - loss: 1.1973e-04 - iou: 0.7016 - iou_thresholded: 0.7730 - val_loss: 0.0017 - val_iou: 0.3211 - val_iou_thresholded: 0.3428\n",
      "Epoch 157/200\n",
      "14/14 [==============================] - 13s 959ms/step - loss: 1.1866e-04 - iou: 0.6547 - iou_thresholded: 0.7408 - val_loss: 0.0016 - val_iou: 0.3153 - val_iou_thresholded: 0.3425\n",
      "Epoch 158/200\n",
      "14/14 [==============================] - 13s 958ms/step - loss: 1.3374e-04 - iou: 0.6766 - iou_thresholded: 0.7496 - val_loss: 0.0015 - val_iou: 0.2972 - val_iou_thresholded: 0.3370\n",
      "Epoch 159/200\n",
      "14/14 [==============================] - 13s 957ms/step - loss: 1.3457e-04 - iou: 0.6504 - iou_thresholded: 0.7361 - val_loss: 0.0016 - val_iou: 0.2980 - val_iou_thresholded: 0.3355\n",
      "Epoch 160/200\n",
      "14/14 [==============================] - 13s 956ms/step - loss: 1.2056e-04 - iou: 0.6932 - iou_thresholded: 0.7823 - val_loss: 0.0016 - val_iou: 0.3312 - val_iou_thresholded: 0.3607\n",
      "Epoch 161/200\n",
      "14/14 [==============================] - 13s 959ms/step - loss: 1.1095e-04 - iou: 0.6788 - iou_thresholded: 0.7562 - val_loss: 0.0017 - val_iou: 0.3275 - val_iou_thresholded: 0.3553\n",
      "Epoch 162/200\n",
      "14/14 [==============================] - 13s 955ms/step - loss: 1.1193e-04 - iou: 0.6907 - iou_thresholded: 0.7722 - val_loss: 0.0017 - val_iou: 0.3314 - val_iou_thresholded: 0.3612\n",
      "Epoch 163/200\n",
      "14/14 [==============================] - 13s 958ms/step - loss: 1.0362e-04 - iou: 0.7129 - iou_thresholded: 0.7917 - val_loss: 0.0017 - val_iou: 0.3204 - val_iou_thresholded: 0.3515\n",
      "Epoch 164/200\n",
      "14/14 [==============================] - 13s 958ms/step - loss: 1.1125e-04 - iou: 0.6855 - iou_thresholded: 0.7664 - val_loss: 0.0017 - val_iou: 0.2891 - val_iou_thresholded: 0.3258\n",
      "Epoch 165/200\n",
      "14/14 [==============================] - 13s 956ms/step - loss: 1.1748e-04 - iou: 0.6728 - iou_thresholded: 0.7602 - val_loss: 0.0016 - val_iou: 0.3176 - val_iou_thresholded: 0.3527\n",
      "Epoch 166/200\n",
      "14/14 [==============================] - 14s 1s/step - loss: 1.0733e-04 - iou: 0.7000 - iou_thresholded: 0.7844 - val_loss: 0.0018 - val_iou: 0.3134 - val_iou_thresholded: 0.3423\n"
     ]
    },
    {
     "name": "stdout",
     "output_type": "stream",
     "text": [
      "Epoch 167/200\n",
      "14/14 [==============================] - 13s 1s/step - loss: 1.2336e-04 - iou: 0.6847 - iou_thresholded: 0.7668 - val_loss: 0.0015 - val_iou: 0.3216 - val_iou_thresholded: 0.3547\n",
      "Epoch 168/200\n",
      "14/14 [==============================] - 13s 959ms/step - loss: 1.1404e-04 - iou: 0.6775 - iou_thresholded: 0.7629 - val_loss: 0.0017 - val_iou: 0.3265 - val_iou_thresholded: 0.3526\n",
      "Epoch 169/200\n",
      "14/14 [==============================] - 13s 958ms/step - loss: 1.2508e-04 - iou: 0.6876 - iou_thresholded: 0.7694 - val_loss: 0.0015 - val_iou: 0.3228 - val_iou_thresholded: 0.3567\n",
      "Epoch 170/200\n",
      "14/14 [==============================] - 13s 956ms/step - loss: 1.1219e-04 - iou: 0.6888 - iou_thresholded: 0.7751 - val_loss: 0.0017 - val_iou: 0.3180 - val_iou_thresholded: 0.3495\n",
      "Epoch 171/200\n",
      "14/14 [==============================] - 13s 958ms/step - loss: 1.0479e-04 - iou: 0.7187 - iou_thresholded: 0.8024 - val_loss: 0.0015 - val_iou: 0.3218 - val_iou_thresholded: 0.3533\n",
      "Epoch 172/200\n",
      "14/14 [==============================] - 13s 958ms/step - loss: 1.0112e-04 - iou: 0.7048 - iou_thresholded: 0.7883 - val_loss: 0.0018 - val_iou: 0.3204 - val_iou_thresholded: 0.3504\n",
      "Epoch 173/200\n",
      "14/14 [==============================] - 13s 956ms/step - loss: 9.5963e-05 - iou: 0.6917 - iou_thresholded: 0.7842 - val_loss: 0.0020 - val_iou: 0.3222 - val_iou_thresholded: 0.3474\n",
      "Epoch 174/200\n",
      "14/14 [==============================] - 13s 958ms/step - loss: 1.0521e-04 - iou: 0.7338 - iou_thresholded: 0.8096 - val_loss: 0.0019 - val_iou: 0.3259 - val_iou_thresholded: 0.3510\n",
      "Epoch 175/200\n",
      "14/14 [==============================] - 13s 957ms/step - loss: 1.0411e-04 - iou: 0.7181 - iou_thresholded: 0.7949 - val_loss: 0.0018 - val_iou: 0.3341 - val_iou_thresholded: 0.3570\n",
      "Epoch 176/200\n",
      "14/14 [==============================] - 13s 958ms/step - loss: 9.8933e-05 - iou: 0.7118 - iou_thresholded: 0.7849 - val_loss: 0.0018 - val_iou: 0.2998 - val_iou_thresholded: 0.3341\n",
      "Epoch 177/200\n",
      "14/14 [==============================] - 13s 957ms/step - loss: 9.4233e-05 - iou: 0.7298 - iou_thresholded: 0.8106 - val_loss: 0.0018 - val_iou: 0.3205 - val_iou_thresholded: 0.3490\n",
      "Epoch 178/200\n",
      "14/14 [==============================] - 13s 960ms/step - loss: 9.7108e-05 - iou: 0.7358 - iou_thresholded: 0.8084 - val_loss: 0.0021 - val_iou: 0.3261 - val_iou_thresholded: 0.3498\n",
      "Epoch 179/200\n",
      "14/14 [==============================] - 13s 957ms/step - loss: 9.9007e-05 - iou: 0.7323 - iou_thresholded: 0.8111 - val_loss: 0.0019 - val_iou: 0.3203 - val_iou_thresholded: 0.3447\n",
      "Epoch 180/200\n",
      "14/14 [==============================] - 13s 958ms/step - loss: 9.0114e-05 - iou: 0.7285 - iou_thresholded: 0.8000 - val_loss: 0.0019 - val_iou: 0.3204 - val_iou_thresholded: 0.3433\n",
      "Epoch 181/200\n",
      "14/14 [==============================] - 14s 1s/step - loss: 9.7403e-05 - iou: 0.7280 - iou_thresholded: 0.8038 - val_loss: 0.0020 - val_iou: 0.3143 - val_iou_thresholded: 0.3404\n",
      "Epoch 182/200\n",
      "14/14 [==============================] - 13s 1s/step - loss: 9.0268e-05 - iou: 0.7394 - iou_thresholded: 0.8170 - val_loss: 0.0021 - val_iou: 0.3197 - val_iou_thresholded: 0.3423\n",
      "Epoch 183/200\n",
      "14/14 [==============================] - 13s 959ms/step - loss: 8.6393e-05 - iou: 0.7499 - iou_thresholded: 0.8266 - val_loss: 0.0023 - val_iou: 0.3245 - val_iou_thresholded: 0.3423\n",
      "Epoch 184/200\n",
      "14/14 [==============================] - 13s 958ms/step - loss: 8.8725e-05 - iou: 0.7411 - iou_thresholded: 0.8139 - val_loss: 0.0022 - val_iou: 0.3150 - val_iou_thresholded: 0.3357\n",
      "Epoch 185/200\n",
      "14/14 [==============================] - 13s 958ms/step - loss: 8.3376e-05 - iou: 0.7280 - iou_thresholded: 0.8154 - val_loss: 0.0022 - val_iou: 0.3211 - val_iou_thresholded: 0.3416\n",
      "Epoch 186/200\n",
      "14/14 [==============================] - 13s 956ms/step - loss: 7.9365e-05 - iou: 0.7563 - iou_thresholded: 0.8267 - val_loss: 0.0021 - val_iou: 0.3224 - val_iou_thresholded: 0.3407\n",
      "Epoch 187/200\n",
      "14/14 [==============================] - 13s 957ms/step - loss: 8.7233e-05 - iou: 0.7652 - iou_thresholded: 0.8289 - val_loss: 0.0022 - val_iou: 0.3285 - val_iou_thresholded: 0.3435\n",
      "Epoch 188/200\n",
      "14/14 [==============================] - 13s 959ms/step - loss: 8.2491e-05 - iou: 0.7598 - iou_thresholded: 0.8236 - val_loss: 0.0019 - val_iou: 0.3240 - val_iou_thresholded: 0.3464\n",
      "Epoch 189/200\n",
      "14/14 [==============================] - 13s 956ms/step - loss: 7.9360e-05 - iou: 0.7234 - iou_thresholded: 0.7974 - val_loss: 0.0021 - val_iou: 0.3229 - val_iou_thresholded: 0.3423\n",
      "Epoch 190/200\n",
      "14/14 [==============================] - 13s 955ms/step - loss: 9.1438e-05 - iou: 0.7599 - iou_thresholded: 0.8310 - val_loss: 0.0019 - val_iou: 0.3268 - val_iou_thresholded: 0.3489\n",
      "Epoch 191/200\n",
      "14/14 [==============================] - 13s 961ms/step - loss: 8.2597e-05 - iou: 0.7603 - iou_thresholded: 0.8310 - val_loss: 0.0018 - val_iou: 0.3189 - val_iou_thresholded: 0.3414\n",
      "Epoch 192/200\n",
      "14/14 [==============================] - 13s 957ms/step - loss: 8.4241e-05 - iou: 0.7628 - iou_thresholded: 0.8360 - val_loss: 0.0019 - val_iou: 0.3304 - val_iou_thresholded: 0.3538\n",
      "Epoch 193/200\n",
      "14/14 [==============================] - 13s 956ms/step - loss: 7.5433e-05 - iou: 0.7632 - iou_thresholded: 0.8297 - val_loss: 0.0019 - val_iou: 0.3237 - val_iou_thresholded: 0.3492\n",
      "Epoch 194/200\n",
      "14/14 [==============================] - 13s 958ms/step - loss: 8.0615e-05 - iou: 0.7731 - iou_thresholded: 0.8349 - val_loss: 0.0019 - val_iou: 0.3329 - val_iou_thresholded: 0.3549\n",
      "Epoch 195/200\n",
      "14/14 [==============================] - 13s 956ms/step - loss: 8.8048e-05 - iou: 0.7516 - iou_thresholded: 0.8189 - val_loss: 0.0019 - val_iou: 0.3274 - val_iou_thresholded: 0.3507\n",
      "Epoch 196/200\n",
      "14/14 [==============================] - 14s 1s/step - loss: 9.6113e-05 - iou: 0.7340 - iou_thresholded: 0.8055 - val_loss: 0.0017 - val_iou: 0.3126 - val_iou_thresholded: 0.3377\n",
      "Epoch 197/200\n",
      "14/14 [==============================] - 13s 1s/step - loss: 8.7516e-05 - iou: 0.7585 - iou_thresholded: 0.8323 - val_loss: 0.0020 - val_iou: 0.3293 - val_iou_thresholded: 0.3454\n",
      "Epoch 198/200\n",
      "14/14 [==============================] - 13s 958ms/step - loss: 8.7751e-05 - iou: 0.7278 - iou_thresholded: 0.7998 - val_loss: 0.0025 - val_iou: 0.3253 - val_iou_thresholded: 0.3386\n",
      "Epoch 199/200\n",
      "14/14 [==============================] - 13s 958ms/step - loss: 8.7538e-05 - iou: 0.7637 - iou_thresholded: 0.8301 - val_loss: 0.0021 - val_iou: 0.3308 - val_iou_thresholded: 0.3478\n",
      "Epoch 200/200\n",
      "14/14 [==============================] - 13s 958ms/step - loss: 8.1711e-05 - iou: 0.7575 - iou_thresholded: 0.8310 - val_loss: 0.0020 - val_iou: 0.3366 - val_iou_thresholded: 0.3572\n"
     ]
    }
   ],
   "source": [
    "model, history = C.Helper.train_unet(X_train_set, y_train_set, X_val, y_val, model, epochs=200)"
   ]
  },
  {
   "cell_type": "code",
   "execution_count": 35,
   "id": "7bc51703",
   "metadata": {},
   "outputs": [
    {
     "data": {
      "image/png": "[encoded data removed]",
      "text/plain": [
       "<Figure size 864x432 with 1 Axes>"
      ]
     },
     "metadata": {
      "needs_background": "light"
     },
     "output_type": "display_data"
    },
    {
     "data": {
      "image/png": "[encoded data removed]",
      "text/plain": [
       "<Figure size 864x432 with 1 Axes>"
      ]
     },
     "metadata": {
      "needs_background": "light"
     },
     "output_type": "display_data"
    }
   ],
   "source": [
    "C.Helper.visualize_graph(history)"
   ]
  },
  {
   "cell_type": "code",
   "execution_count": 36,
   "id": "2b9f9190",
   "metadata": {},
   "outputs": [],
   "source": [
    "y_pred = C.Helper.prediction(test_images_array, model)"
   ]
  },
  {
   "cell_type": "code",
   "execution_count": 42,
   "id": "85b46673",
   "metadata": {
    "scrolled": true
   },
   "outputs": [
    {
     "data": {
      "image/png": "[encoded data removed]",
      "text/plain": [
       "<Figure size 1152x1440 with 20 Axes>"
      ]
     },
     "metadata": {
      "needs_background": "light"
     },
     "output_type": "display_data"
    }
   ],
   "source": [
    "C.Helper.visualize_result(test_images_array, y_test, y_pred)"
   ]
  },
  {
   "cell_type": "code",
   "execution_count": 38,
   "id": "9a236ee4",
   "metadata": {},
   "outputs": [
    {
     "name": "stdout",
     "output_type": "stream",
     "text": [
      "111/111 [==============================] - 26s 229ms/step - loss: 2.1837e-04 - iou: 0.5112 - iou_thresholded: 0.5651\n"
     ]
    }
   ],
   "source": [
    "C.Helper.evaluate(test_images_array, y_test, model)"
   ]
  },
  {
   "cell_type": "code",
   "execution_count": null,
   "id": "f18f18a7",
   "metadata": {},
   "outputs": [],
   "source": []
  },
  {
   "cell_type": "code",
   "execution_count": null,
   "id": "9633f74e",
   "metadata": {},
   "outputs": [],
   "source": []
  },
  {
   "cell_type": "code",
   "execution_count": null,
   "id": "230dbf69",
   "metadata": {},
   "outputs": [],
   "source": []
  },
  {
   "cell_type": "code",
   "execution_count": null,
   "id": "91bf77f5",
   "metadata": {},
   "outputs": [],
   "source": []
  },
  {
   "cell_type": "code",
   "execution_count": null,
   "id": "5bf8aa51",
   "metadata": {},
   "outputs": [],
   "source": []
  },
  {
   "cell_type": "code",
   "execution_count": null,
   "id": "5e73cc60",
   "metadata": {},
   "outputs": [],
   "source": []
  },
  {
   "cell_type": "code",
   "execution_count": null,
   "id": "da3bb108",
   "metadata": {},
   "outputs": [],
   "source": []
  },
  {
   "cell_type": "code",
   "execution_count": null,
   "id": "2e3df05d",
   "metadata": {},
   "outputs": [],
   "source": []
  }
 ],
 "metadata": {
  "kernelspec": {
   "display_name": "Python 3 (ipykernel)",
   "language": "python",
   "name": "python3"
  },
  "language_info": {
   "codemirror_mode": {
    "name": "ipython",
    "version": 3
   },
   "file_extension": ".py",
   "mimetype": "text/x-python",
   "name": "python",
   "nbconvert_exporter": "python",
   "pygments_lexer": "ipython3",
   "version": "3.9.7"
  }
 },
 "nbformat": 4,
 "nbformat_minor": 5
}
