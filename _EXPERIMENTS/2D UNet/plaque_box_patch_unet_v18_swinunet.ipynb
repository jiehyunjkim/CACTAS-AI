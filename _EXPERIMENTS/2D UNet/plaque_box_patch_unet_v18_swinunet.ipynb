{
 "cells": [
  {
   "cell_type": "code",
   "execution_count": 1,
   "id": "5eebebed",
   "metadata": {},
   "outputs": [
    {
     "name": "stdout",
     "output_type": "stream",
     "text": [
      "Populating the interactive namespace from numpy and matplotlib\n"
     ]
    }
   ],
   "source": [
    "%pylab inline\n",
    "%load_ext autoreload\n",
    "%autoreload 2"
   ]
  },
  {
   "cell_type": "code",
   "execution_count": 24,
   "id": "1db43f95",
   "metadata": {},
   "outputs": [],
   "source": [
    "import cactas as C"
   ]
  },
  {
   "cell_type": "code",
   "execution_count": 3,
   "id": "3a25db15",
   "metadata": {
    "scrolled": true
   },
   "outputs": [
    {
     "name": "stdout",
     "output_type": "stream",
     "text": [
      "WARNING:tensorflow:From /tmp/ipykernel_2000811/392601943.py:2: is_gpu_available (from tensorflow.python.framework.test_util) is deprecated and will be removed in a future version.\n",
      "Instructions for updating:\n",
      "Use `tf.config.list_physical_devices('GPU')` instead.\n"
     ]
    },
    {
     "name": "stderr",
     "output_type": "stream",
     "text": [
      "2024-05-27 20:03:17.984506: I tensorflow/core/platform/cpu_feature_guard.cc:142] This TensorFlow binary is optimized with oneAPI Deep Neural Network Library (oneDNN) to use the following CPU instructions in performance-critical operations:  AVX2 FMA\n",
      "To enable them in other operations, rebuild TensorFlow with the appropriate compiler flags.\n",
      "2024-05-27 20:03:17.987732: I tensorflow/stream_executor/platform/default/dso_loader.cc:53] Successfully opened dynamic library libcuda.so.1\n",
      "2024-05-27 20:03:18.528719: I tensorflow/core/common_runtime/gpu/gpu_device.cc:1733] Found device 0 with properties: \n",
      "pciBusID: 0000:b7:00.0 name: A100-SXM4-40GB computeCapability: 8.0\n",
      "coreClock: 1.41GHz coreCount: 108 deviceMemorySize: 39.59GiB deviceMemoryBandwidth: 1.41TiB/s\n",
      "2024-05-27 20:03:18.531256: I tensorflow/core/common_runtime/gpu/gpu_device.cc:1733] Found device 1 with properties: \n",
      "pciBusID: 0000:bd:00.0 name: A100-SXM4-40GB computeCapability: 8.0\n",
      "coreClock: 1.41GHz coreCount: 108 deviceMemorySize: 39.59GiB deviceMemoryBandwidth: 1.41TiB/s\n",
      "2024-05-27 20:03:18.531297: I tensorflow/stream_executor/platform/default/dso_loader.cc:53] Successfully opened dynamic library libcudart.so.11.0\n",
      "2024-05-27 20:03:18.552935: I tensorflow/stream_executor/platform/default/dso_loader.cc:53] Successfully opened dynamic library libcublas.so.11\n",
      "2024-05-27 20:03:18.552971: I tensorflow/stream_executor/platform/default/dso_loader.cc:53] Successfully opened dynamic library libcublasLt.so.11\n",
      "2024-05-27 20:03:18.560352: I tensorflow/stream_executor/platform/default/dso_loader.cc:53] Successfully opened dynamic library libcufft.so.10\n",
      "2024-05-27 20:03:18.563893: I tensorflow/stream_executor/platform/default/dso_loader.cc:53] Successfully opened dynamic library libcurand.so.10\n",
      "2024-05-27 20:03:18.567092: I tensorflow/stream_executor/platform/default/dso_loader.cc:53] Successfully opened dynamic library libcusolver.so.11\n",
      "2024-05-27 20:03:18.572618: I tensorflow/stream_executor/platform/default/dso_loader.cc:53] Successfully opened dynamic library libcusparse.so.11\n",
      "2024-05-27 20:03:18.574456: I tensorflow/stream_executor/platform/default/dso_loader.cc:53] Successfully opened dynamic library libcudnn.so.8\n",
      "2024-05-27 20:03:18.584422: I tensorflow/core/common_runtime/gpu/gpu_device.cc:1871] Adding visible gpu devices: 0, 1\n",
      "2024-05-27 20:03:18.584784: I tensorflow/stream_executor/platform/default/dso_loader.cc:53] Successfully opened dynamic library libcudart.so.11.0\n",
      "2024-05-27 20:03:19.607013: I tensorflow/core/common_runtime/gpu/gpu_device.cc:1258] Device interconnect StreamExecutor with strength 1 edge matrix:\n",
      "2024-05-27 20:03:19.607064: I tensorflow/core/common_runtime/gpu/gpu_device.cc:1264]      0 1 \n",
      "2024-05-27 20:03:19.607070: I tensorflow/core/common_runtime/gpu/gpu_device.cc:1277] 0:   N Y \n",
      "2024-05-27 20:03:19.607073: I tensorflow/core/common_runtime/gpu/gpu_device.cc:1277] 1:   Y N \n",
      "2024-05-27 20:03:19.620187: I tensorflow/core/common_runtime/gpu/gpu_device.cc:1418] Created TensorFlow device (/device:GPU:0 with 38425 MB memory) -> physical GPU (device: 0, name: A100-SXM4-40GB, pci bus id: 0000:b7:00.0, compute capability: 8.0)\n",
      "2024-05-27 20:03:19.624351: I tensorflow/core/common_runtime/gpu/gpu_device.cc:1418] Created TensorFlow device (/device:GPU:1 with 38425 MB memory) -> physical GPU (device: 1, name: A100-SXM4-40GB, pci bus id: 0000:bd:00.0, compute capability: 8.0)\n"
     ]
    },
    {
     "data": {
      "text/plain": [
       "True"
      ]
     },
     "execution_count": 3,
     "metadata": {},
     "output_type": "execute_result"
    }
   ],
   "source": [
    "import tensorflow as tf\n",
    "gpu_available = tf.test.is_gpu_available()\n",
    "gpu_available"
   ]
  },
  {
   "cell_type": "code",
   "execution_count": null,
   "id": "c7599e1d",
   "metadata": {},
   "outputs": [],
   "source": []
  },
  {
   "cell_type": "code",
   "execution_count": 4,
   "id": "ca9de1bc",
   "metadata": {},
   "outputs": [],
   "source": [
    "DATAPATH='/raid/mpsych/CACTAS/DATA/ESUS'\n",
    "CAPATH='/raid/mpsych/CACTAS/DATA/CA24'"
   ]
  },
  {
   "cell_type": "code",
   "execution_count": null,
   "id": "92be68f5",
   "metadata": {},
   "outputs": [],
   "source": []
  },
  {
   "cell_type": "code",
   "execution_count": 5,
   "id": "c2588b51",
   "metadata": {},
   "outputs": [],
   "source": [
    "images, labels = C.Helper.load_data(DATAPATH)"
   ]
  },
  {
   "cell_type": "code",
   "execution_count": 6,
   "id": "7881f480",
   "metadata": {},
   "outputs": [],
   "source": [
    "masks = C.Helper.load_seg_data(CAPATH)"
   ]
  },
  {
   "cell_type": "code",
   "execution_count": 7,
   "id": "7088d2a3",
   "metadata": {},
   "outputs": [],
   "source": [
    "X_train, y_train, m_train, X_test, y_test, m_test = C.Helper.split_patients_masks(images, labels, masks)"
   ]
  },
  {
   "cell_type": "code",
   "execution_count": 8,
   "id": "c81ee490",
   "metadata": {},
   "outputs": [],
   "source": [
    "X_train, y_train, m_train, X_test, y_test, m_test = C.Helper.normalization2(DATAPATH, CAPATH, X_train, y_train, m_train, X_test, y_test, m_test)"
   ]
  },
  {
   "cell_type": "code",
   "execution_count": 9,
   "id": "b2d8df93",
   "metadata": {},
   "outputs": [],
   "source": [
    "slice_to_patient_mapping, last_key = C.Helper.map_and_key(y_train)"
   ]
  },
  {
   "cell_type": "code",
   "execution_count": 10,
   "id": "d00b1ce9",
   "metadata": {},
   "outputs": [
    {
     "name": "stdout",
     "output_type": "stream",
     "text": [
      "(13152, 512, 512, 1) (13152, 512, 512, 1) (3614, 512, 512, 1) (3614, 512, 512, 1)\n"
     ]
    }
   ],
   "source": [
    "X_train, y_train, X_test, y_test = C.Helper.extract_slices(X_train, y_train, X_test, y_test)"
   ]
  },
  {
   "cell_type": "code",
   "execution_count": 11,
   "id": "76216208",
   "metadata": {},
   "outputs": [],
   "source": [
    "y_test = y_test.astype(np.float64)"
   ]
  },
  {
   "cell_type": "code",
   "execution_count": 12,
   "id": "4034ad93",
   "metadata": {},
   "outputs": [
    {
     "name": "stdout",
     "output_type": "stream",
     "text": [
      "(13152, 512, 512, 1) (3614, 512, 512, 1)\n"
     ]
    }
   ],
   "source": [
    "m_train, m_test = C.Helper.extract_masks_slices(m_train, m_test)"
   ]
  },
  {
   "cell_type": "code",
   "execution_count": 13,
   "id": "08f45fe5",
   "metadata": {},
   "outputs": [
    {
     "name": "stdout",
     "output_type": "stream",
     "text": [
      "(609, 512, 512, 1) (609, 512, 512, 1) (609, 512, 512, 1)\n"
     ]
    }
   ],
   "source": [
    "X_train, y_train, m_train = C.Helper.filter_slices(X_train, y_train, m_train)"
   ]
  },
  {
   "cell_type": "code",
   "execution_count": 14,
   "id": "e47b39dd",
   "metadata": {},
   "outputs": [
    {
     "name": "stdout",
     "output_type": "stream",
     "text": [
      "(609, 512, 512, 1) (3614, 512, 512, 1)\n"
     ]
    }
   ],
   "source": [
    "train_images_array, test_images_array = C.Helper.masked_image(X_train, m_train, X_test, m_test)"
   ]
  },
  {
   "cell_type": "code",
   "execution_count": 15,
   "id": "7d9bea09",
   "metadata": {},
   "outputs": [],
   "source": [
    "X_train_set = train_images_array[:last_key]\n",
    "y_train_set = y_train[:last_key]\n",
    "X_val = train_images_array[last_key:]\n",
    "y_val = y_train[last_key:]"
   ]
  },
  {
   "cell_type": "code",
   "execution_count": 16,
   "id": "669a9e71",
   "metadata": {},
   "outputs": [],
   "source": [
    "X_train_set = X_train_set.astype(np.float64)\n",
    "X_val = X_val.astype(np.float64)"
   ]
  },
  {
   "cell_type": "code",
   "execution_count": null,
   "id": "d2b9ce92",
   "metadata": {},
   "outputs": [],
   "source": []
  },
  {
   "cell_type": "code",
   "execution_count": null,
   "id": "98eaf6ca",
   "metadata": {},
   "outputs": [],
   "source": []
  },
  {
   "cell_type": "code",
   "execution_count": 19,
   "id": "4fa2f86c",
   "metadata": {},
   "outputs": [
    {
     "name": "stdout",
     "output_type": "stream",
     "text": [
      "-----------------------------------------\n",
      "keras-unet init: TF version is >= 2.0.0 - using `tf.keras` instead of `Keras`\n",
      "-----------------------------------------\n"
     ]
    }
   ],
   "source": [
    "train_gen = C.Helper.augment(X_train_set, y_train_set)"
   ]
  },
  {
   "cell_type": "code",
   "execution_count": 20,
   "id": "c001a494",
   "metadata": {
    "scrolled": true
   },
   "outputs": [
    {
     "name": "stderr",
     "output_type": "stream",
     "text": [
      "2024-05-27 20:07:03.607298: I tensorflow/core/common_runtime/gpu/gpu_device.cc:1733] Found device 0 with properties: \n",
      "pciBusID: 0000:b7:00.0 name: A100-SXM4-40GB computeCapability: 8.0\n",
      "coreClock: 1.41GHz coreCount: 108 deviceMemorySize: 39.59GiB deviceMemoryBandwidth: 1.41TiB/s\n",
      "2024-05-27 20:07:03.610046: I tensorflow/core/common_runtime/gpu/gpu_device.cc:1733] Found device 1 with properties: \n",
      "pciBusID: 0000:bd:00.0 name: A100-SXM4-40GB computeCapability: 8.0\n",
      "coreClock: 1.41GHz coreCount: 108 deviceMemorySize: 39.59GiB deviceMemoryBandwidth: 1.41TiB/s\n",
      "2024-05-27 20:07:03.619656: I tensorflow/core/common_runtime/gpu/gpu_device.cc:1871] Adding visible gpu devices: 0, 1\n",
      "2024-05-27 20:07:03.622564: I tensorflow/core/common_runtime/gpu/gpu_device.cc:1733] Found device 0 with properties: \n",
      "pciBusID: 0000:b7:00.0 name: A100-SXM4-40GB computeCapability: 8.0\n",
      "coreClock: 1.41GHz coreCount: 108 deviceMemorySize: 39.59GiB deviceMemoryBandwidth: 1.41TiB/s\n",
      "2024-05-27 20:07:03.624988: I tensorflow/core/common_runtime/gpu/gpu_device.cc:1733] Found device 1 with properties: \n",
      "pciBusID: 0000:bd:00.0 name: A100-SXM4-40GB computeCapability: 8.0\n",
      "coreClock: 1.41GHz coreCount: 108 deviceMemorySize: 39.59GiB deviceMemoryBandwidth: 1.41TiB/s\n",
      "2024-05-27 20:07:03.634973: I tensorflow/core/common_runtime/gpu/gpu_device.cc:1871] Adding visible gpu devices: 0, 1\n",
      "2024-05-27 20:07:03.635033: I tensorflow/core/common_runtime/gpu/gpu_device.cc:1258] Device interconnect StreamExecutor with strength 1 edge matrix:\n",
      "2024-05-27 20:07:03.635038: I tensorflow/core/common_runtime/gpu/gpu_device.cc:1264]      0 1 \n",
      "2024-05-27 20:07:03.635042: I tensorflow/core/common_runtime/gpu/gpu_device.cc:1277] 0:   N Y \n",
      "2024-05-27 20:07:03.635046: I tensorflow/core/common_runtime/gpu/gpu_device.cc:1277] 1:   Y N \n",
      "2024-05-27 20:07:03.642907: I tensorflow/core/common_runtime/gpu/gpu_device.cc:1418] Created TensorFlow device (/job:localhost/replica:0/task:0/device:GPU:0 with 38425 MB memory) -> physical GPU (device: 0, name: A100-SXM4-40GB, pci bus id: 0000:b7:00.0, compute capability: 8.0)\n",
      "2024-05-27 20:07:03.645326: I tensorflow/core/common_runtime/gpu/gpu_device.cc:1418] Created TensorFlow device (/job:localhost/replica:0/task:0/device:GPU:1 with 38425 MB memory) -> physical GPU (device: 1, name: A100-SXM4-40GB, pci bus id: 0000:bd:00.0, compute capability: 8.0)\n"
     ]
    },
    {
     "name": "stdout",
     "output_type": "stream",
     "text": [
      "WARNING:tensorflow:From /home/jiehyun.kim001/miniconda3/envs/O/lib/python3.9/site-packages/tensorflow/python/ops/array_ops.py:5043: calling gather (from tensorflow.python.ops.array_ops) with validate_indices is deprecated and will be removed in a future version.\n",
      "Instructions for updating:\n",
      "The `validate_indices` argument has no effect. Indices are always validated on CPU and never validated on GPU.\n"
     ]
    }
   ],
   "source": [
    "model = C.Helper.create_swinUNet(X_train_set[0].shape)"
   ]
  },
  {
   "cell_type": "code",
   "execution_count": 25,
   "id": "f889cdd0",
   "metadata": {
    "scrolled": true
   },
   "outputs": [
    {
     "name": "stdout",
     "output_type": "stream",
     "text": [
      "Epoch 1/100\n",
      "30/30 [==============================] - 60s 1s/step - loss: 0.0635 - iou: 0.0011 - iou_thresholded: 0.0013 - val_loss: 0.0050 - val_iou: 0.0014 - val_iou_thresholded: 0.0025\n",
      "Epoch 2/100\n",
      "30/30 [==============================] - 34s 1s/step - loss: 0.0030 - iou: 0.0118 - iou_thresholded: 0.0110 - val_loss: 0.0011 - val_iou: 0.0102 - val_iou_thresholded: 0.0049\n",
      "Epoch 3/100\n",
      "30/30 [==============================] - 33s 1s/step - loss: 0.0022 - iou: 0.0085 - iou_thresholded: 0.0059 - val_loss: 0.0012 - val_iou: 0.0050 - val_iou_thresholded: 0.0026\n",
      "Epoch 4/100\n",
      "30/30 [==============================] - 34s 1s/step - loss: 0.0012 - iou: 0.0138 - iou_thresholded: 0.0058 - val_loss: 7.5164e-04 - val_iou: 0.0110 - val_iou_thresholded: 0.0026\n",
      "Epoch 5/100\n",
      "30/30 [==============================] - 33s 1s/step - loss: 0.0011 - iou: 0.0147 - iou_thresholded: 0.0056 - val_loss: 6.8561e-04 - val_iou: 0.0222 - val_iou_thresholded: 0.0069\n",
      "Epoch 6/100\n",
      "30/30 [==============================] - 34s 1s/step - loss: 8.8271e-04 - iou: 0.0215 - iou_thresholded: 0.0026 - val_loss: 6.4047e-04 - val_iou: 0.0228 - val_iou_thresholded: 0.0040\n",
      "Epoch 7/100\n",
      "30/30 [==============================] - 33s 1s/step - loss: 9.0296e-04 - iou: 0.0253 - iou_thresholded: 0.0043 - val_loss: 6.3943e-04 - val_iou: 0.0177 - val_iou_thresholded: 0.0026\n",
      "Epoch 8/100\n",
      "30/30 [==============================] - 33s 1s/step - loss: 9.2023e-04 - iou: 0.0238 - iou_thresholded: 0.0081 - val_loss: 6.9863e-04 - val_iou: 0.0290 - val_iou_thresholded: 0.0101\n",
      "Epoch 9/100\n",
      "30/30 [==============================] - 33s 1s/step - loss: 8.6138e-04 - iou: 0.0256 - iou_thresholded: 0.0041 - val_loss: 5.9875e-04 - val_iou: 0.0309 - val_iou_thresholded: 0.0072\n",
      "Epoch 10/100\n",
      "30/30 [==============================] - 33s 1s/step - loss: 8.5895e-04 - iou: 0.0373 - iou_thresholded: 0.0133 - val_loss: 6.1754e-04 - val_iou: 0.0227 - val_iou_thresholded: 0.0037\n",
      "Epoch 11/100\n",
      "30/30 [==============================] - 34s 1s/step - loss: 8.5165e-04 - iou: 0.0387 - iou_thresholded: 0.0174 - val_loss: 6.2094e-04 - val_iou: 0.0226 - val_iou_thresholded: 0.0037\n",
      "Epoch 12/100\n",
      "30/30 [==============================] - 34s 1s/step - loss: 8.7566e-04 - iou: 0.0335 - iou_thresholded: 0.0183 - val_loss: 6.1526e-04 - val_iou: 0.0414 - val_iou_thresholded: 0.0202\n",
      "Epoch 13/100\n",
      "30/30 [==============================] - 33s 1s/step - loss: 8.2705e-04 - iou: 0.0456 - iou_thresholded: 0.0272 - val_loss: 5.8165e-04 - val_iou: 0.0476 - val_iou_thresholded: 0.0291\n",
      "Epoch 14/100\n",
      "30/30 [==============================] - 33s 1s/step - loss: 8.2076e-04 - iou: 0.0447 - iou_thresholded: 0.0238 - val_loss: 5.3052e-04 - val_iou: 0.0571 - val_iou_thresholded: 0.0388\n",
      "Epoch 15/100\n",
      "30/30 [==============================] - 33s 1s/step - loss: 7.6946e-04 - iou: 0.0623 - iou_thresholded: 0.0485 - val_loss: 5.4828e-04 - val_iou: 0.0530 - val_iou_thresholded: 0.0237\n",
      "Epoch 16/100\n",
      "30/30 [==============================] - 33s 1s/step - loss: 7.6806e-04 - iou: 0.0573 - iou_thresholded: 0.0459 - val_loss: 5.2467e-04 - val_iou: 0.0660 - val_iou_thresholded: 0.0631\n",
      "Epoch 17/100\n",
      "30/30 [==============================] - 33s 1s/step - loss: 7.5597e-04 - iou: 0.0708 - iou_thresholded: 0.0691 - val_loss: 5.3087e-04 - val_iou: 0.0576 - val_iou_thresholded: 0.0326\n",
      "Epoch 18/100\n",
      "30/30 [==============================] - 33s 1s/step - loss: 8.0382e-04 - iou: 0.0666 - iou_thresholded: 0.0654 - val_loss: 5.7837e-04 - val_iou: 0.0475 - val_iou_thresholded: 0.0262\n",
      "Epoch 19/100\n",
      "30/30 [==============================] - 33s 1s/step - loss: 7.6769e-04 - iou: 0.0694 - iou_thresholded: 0.0671 - val_loss: 5.4794e-04 - val_iou: 0.0826 - val_iou_thresholded: 0.1401\n",
      "Epoch 20/100\n",
      "30/30 [==============================] - 33s 1s/step - loss: 7.3553e-04 - iou: 0.0624 - iou_thresholded: 0.0663 - val_loss: 5.4152e-04 - val_iou: 0.0726 - val_iou_thresholded: 0.0994\n",
      "Epoch 21/100\n",
      "30/30 [==============================] - 34s 1s/step - loss: 7.7079e-04 - iou: 0.0825 - iou_thresholded: 0.0870 - val_loss: 4.8523e-04 - val_iou: 0.0945 - val_iou_thresholded: 0.1231\n",
      "Epoch 22/100\n",
      "30/30 [==============================] - 33s 1s/step - loss: 7.2958e-04 - iou: 0.0786 - iou_thresholded: 0.0848 - val_loss: 6.1057e-04 - val_iou: 0.0593 - val_iou_thresholded: 0.0591\n",
      "Epoch 23/100\n",
      "30/30 [==============================] - 33s 1s/step - loss: 7.6866e-04 - iou: 0.0804 - iou_thresholded: 0.0885 - val_loss: 5.4885e-04 - val_iou: 0.0767 - val_iou_thresholded: 0.1112\n",
      "Epoch 24/100\n",
      "30/30 [==============================] - 34s 1s/step - loss: 7.2211e-04 - iou: 0.0810 - iou_thresholded: 0.0901 - val_loss: 5.9515e-04 - val_iou: 0.0921 - val_iou_thresholded: 0.1938\n",
      "Epoch 25/100\n",
      "30/30 [==============================] - 33s 1s/step - loss: 6.6291e-04 - iou: 0.1066 - iou_thresholded: 0.1330 - val_loss: 4.7489e-04 - val_iou: 0.1206 - val_iou_thresholded: 0.1832\n",
      "Epoch 26/100\n",
      "30/30 [==============================] - 33s 1s/step - loss: 7.1139e-04 - iou: 0.1160 - iou_thresholded: 0.1571 - val_loss: 4.5237e-04 - val_iou: 0.1246 - val_iou_thresholded: 0.1754\n",
      "Epoch 27/100\n",
      "30/30 [==============================] - 34s 1s/step - loss: 6.5913e-04 - iou: 0.1207 - iou_thresholded: 0.1544 - val_loss: 5.4440e-04 - val_iou: 0.1214 - val_iou_thresholded: 0.2187\n",
      "Epoch 28/100\n",
      "30/30 [==============================] - 33s 1s/step - loss: 6.6796e-04 - iou: 0.1249 - iou_thresholded: 0.1671 - val_loss: 4.6788e-04 - val_iou: 0.1289 - val_iou_thresholded: 0.1871\n",
      "Epoch 29/100\n",
      "30/30 [==============================] - 33s 1s/step - loss: 6.4887e-04 - iou: 0.1357 - iou_thresholded: 0.1820 - val_loss: 4.6838e-04 - val_iou: 0.1334 - val_iou_thresholded: 0.1920\n",
      "Epoch 30/100\n",
      "30/30 [==============================] - 33s 1s/step - loss: 6.4833e-04 - iou: 0.1377 - iou_thresholded: 0.1855 - val_loss: 4.4329e-04 - val_iou: 0.1479 - val_iou_thresholded: 0.1966\n",
      "Epoch 31/100\n",
      "30/30 [==============================] - 34s 1s/step - loss: 6.4145e-04 - iou: 0.1394 - iou_thresholded: 0.1923 - val_loss: 4.9960e-04 - val_iou: 0.1043 - val_iou_thresholded: 0.1232\n",
      "Epoch 32/100\n",
      "30/30 [==============================] - 34s 1s/step - loss: 6.2884e-04 - iou: 0.1464 - iou_thresholded: 0.1995 - val_loss: 4.3155e-04 - val_iou: 0.1639 - val_iou_thresholded: 0.2452\n",
      "Epoch 33/100\n",
      "30/30 [==============================] - 34s 1s/step - loss: 8.3829e-04 - iou: 0.0914 - iou_thresholded: 0.1104 - val_loss: 5.2753e-04 - val_iou: 0.0937 - val_iou_thresholded: 0.1717\n",
      "Epoch 34/100\n",
      "30/30 [==============================] - 33s 1s/step - loss: 6.9215e-04 - iou: 0.0977 - iou_thresholded: 0.1182 - val_loss: 5.2944e-04 - val_iou: 0.1241 - val_iou_thresholded: 0.2345\n",
      "Epoch 35/100\n",
      "30/30 [==============================] - 34s 1s/step - loss: 6.6047e-04 - iou: 0.1207 - iou_thresholded: 0.1622 - val_loss: 4.5933e-04 - val_iou: 0.1495 - val_iou_thresholded: 0.2564\n",
      "Epoch 36/100\n",
      "30/30 [==============================] - 33s 1s/step - loss: 6.2720e-04 - iou: 0.1384 - iou_thresholded: 0.1899 - val_loss: 4.2264e-04 - val_iou: 0.1506 - val_iou_thresholded: 0.2087\n",
      "Epoch 37/100\n",
      "30/30 [==============================] - 33s 1s/step - loss: 5.8457e-04 - iou: 0.1668 - iou_thresholded: 0.2270 - val_loss: 4.2386e-04 - val_iou: 0.1701 - val_iou_thresholded: 0.2522\n",
      "Epoch 38/100\n",
      "30/30 [==============================] - 34s 1s/step - loss: 6.1083e-04 - iou: 0.1637 - iou_thresholded: 0.2268 - val_loss: 4.7067e-04 - val_iou: 0.1729 - val_iou_thresholded: 0.2512\n",
      "Epoch 39/100\n",
      "30/30 [==============================] - 33s 1s/step - loss: 6.5515e-04 - iou: 0.1516 - iou_thresholded: 0.2086 - val_loss: 4.8369e-04 - val_iou: 0.1419 - val_iou_thresholded: 0.2300\n",
      "Epoch 40/100\n",
      "30/30 [==============================] - 33s 1s/step - loss: 5.6397e-04 - iou: 0.1559 - iou_thresholded: 0.2156 - val_loss: 4.0492e-04 - val_iou: 0.1794 - val_iou_thresholded: 0.2232\n",
      "Epoch 41/100\n",
      "30/30 [==============================] - 33s 1s/step - loss: 6.0206e-04 - iou: 0.1734 - iou_thresholded: 0.2422 - val_loss: 4.3315e-04 - val_iou: 0.1765 - val_iou_thresholded: 0.2573\n",
      "Epoch 42/100\n",
      "30/30 [==============================] - 33s 1s/step - loss: 5.6842e-04 - iou: 0.1701 - iou_thresholded: 0.2352 - val_loss: 4.2381e-04 - val_iou: 0.1703 - val_iou_thresholded: 0.2629\n",
      "Epoch 43/100\n"
     ]
    },
    {
     "name": "stdout",
     "output_type": "stream",
     "text": [
      "30/30 [==============================] - 33s 1s/step - loss: 5.5726e-04 - iou: 0.1979 - iou_thresholded: 0.2764 - val_loss: 4.3567e-04 - val_iou: 0.1784 - val_iou_thresholded: 0.2889\n",
      "Epoch 44/100\n",
      "30/30 [==============================] - 34s 1s/step - loss: 5.4833e-04 - iou: 0.1793 - iou_thresholded: 0.2506 - val_loss: 4.1594e-04 - val_iou: 0.1978 - val_iou_thresholded: 0.2926\n",
      "Epoch 45/100\n",
      "30/30 [==============================] - 33s 1s/step - loss: 5.9275e-04 - iou: 0.1741 - iou_thresholded: 0.2367 - val_loss: 4.2016e-04 - val_iou: 0.1750 - val_iou_thresholded: 0.2693\n",
      "Epoch 46/100\n",
      "30/30 [==============================] - 33s 1s/step - loss: 5.7854e-04 - iou: 0.1702 - iou_thresholded: 0.2420 - val_loss: 4.3695e-04 - val_iou: 0.1617 - val_iou_thresholded: 0.2208\n",
      "Epoch 47/100\n",
      "30/30 [==============================] - 34s 1s/step - loss: 6.0259e-04 - iou: 0.1646 - iou_thresholded: 0.2113 - val_loss: 4.2558e-04 - val_iou: 0.1832 - val_iou_thresholded: 0.2855\n",
      "Epoch 48/100\n",
      "30/30 [==============================] - 33s 1s/step - loss: 5.7309e-04 - iou: 0.1789 - iou_thresholded: 0.2430 - val_loss: 4.0850e-04 - val_iou: 0.2019 - val_iou_thresholded: 0.2793\n",
      "Epoch 49/100\n",
      "30/30 [==============================] - 33s 1s/step - loss: 5.7713e-04 - iou: 0.1764 - iou_thresholded: 0.2460 - val_loss: 4.4149e-04 - val_iou: 0.1727 - val_iou_thresholded: 0.3024\n",
      "Epoch 50/100\n",
      "30/30 [==============================] - 35s 1s/step - loss: 5.5199e-04 - iou: 0.1841 - iou_thresholded: 0.2598 - val_loss: 4.3783e-04 - val_iou: 0.1921 - val_iou_thresholded: 0.2630\n",
      "Epoch 51/100\n",
      "30/30 [==============================] - 33s 1s/step - loss: 5.6140e-04 - iou: 0.2014 - iou_thresholded: 0.2775 - val_loss: 4.4279e-04 - val_iou: 0.1972 - val_iou_thresholded: 0.2724\n",
      "Epoch 52/100\n",
      "30/30 [==============================] - 33s 1s/step - loss: 5.3305e-04 - iou: 0.1822 - iou_thresholded: 0.2531 - val_loss: 4.0005e-04 - val_iou: 0.1955 - val_iou_thresholded: 0.2859\n",
      "Epoch 53/100\n",
      "30/30 [==============================] - 33s 1s/step - loss: 5.4310e-04 - iou: 0.1936 - iou_thresholded: 0.2762 - val_loss: 4.1844e-04 - val_iou: 0.1986 - val_iou_thresholded: 0.2694\n",
      "Epoch 54/100\n",
      "30/30 [==============================] - 33s 1s/step - loss: 5.1656e-04 - iou: 0.1878 - iou_thresholded: 0.2570 - val_loss: 4.1763e-04 - val_iou: 0.1946 - val_iou_thresholded: 0.2751\n",
      "Epoch 55/100\n",
      "30/30 [==============================] - 33s 1s/step - loss: 5.3378e-04 - iou: 0.2002 - iou_thresholded: 0.2735 - val_loss: 3.8534e-04 - val_iou: 0.2031 - val_iou_thresholded: 0.2793\n",
      "Epoch 56/100\n",
      "30/30 [==============================] - 33s 1s/step - loss: 6.7831e-04 - iou: 0.1487 - iou_thresholded: 0.2066 - val_loss: 4.4368e-04 - val_iou: 0.1199 - val_iou_thresholded: 0.1126\n",
      "Epoch 57/100\n",
      "30/30 [==============================] - 33s 1s/step - loss: 5.8692e-04 - iou: 0.1596 - iou_thresholded: 0.2159 - val_loss: 4.3862e-04 - val_iou: 0.1764 - val_iou_thresholded: 0.2873\n",
      "Epoch 58/100\n",
      "30/30 [==============================] - 34s 1s/step - loss: 5.3137e-04 - iou: 0.1911 - iou_thresholded: 0.2740 - val_loss: 4.2633e-04 - val_iou: 0.2085 - val_iou_thresholded: 0.2720\n",
      "Epoch 59/100\n",
      "30/30 [==============================] - 33s 1s/step - loss: 5.3561e-04 - iou: 0.2036 - iou_thresholded: 0.2839 - val_loss: 3.7286e-04 - val_iou: 0.2148 - val_iou_thresholded: 0.2932\n",
      "Epoch 60/100\n",
      "30/30 [==============================] - 33s 1s/step - loss: 5.4168e-04 - iou: 0.2016 - iou_thresholded: 0.2854 - val_loss: 3.9149e-04 - val_iou: 0.1978 - val_iou_thresholded: 0.3297\n",
      "Epoch 61/100\n",
      "30/30 [==============================] - 33s 1s/step - loss: 5.0150e-04 - iou: 0.2253 - iou_thresholded: 0.3180 - val_loss: 3.7197e-04 - val_iou: 0.2089 - val_iou_thresholded: 0.2616\n",
      "Epoch 62/100\n",
      "30/30 [==============================] - 33s 1s/step - loss: 5.2385e-04 - iou: 0.2168 - iou_thresholded: 0.3102 - val_loss: 4.2243e-04 - val_iou: 0.1912 - val_iou_thresholded: 0.2948\n",
      "Epoch 63/100\n",
      "30/30 [==============================] - 34s 1s/step - loss: 5.0472e-04 - iou: 0.2116 - iou_thresholded: 0.2958 - val_loss: 3.9338e-04 - val_iou: 0.2170 - val_iou_thresholded: 0.2702\n",
      "Epoch 64/100\n",
      "30/30 [==============================] - 34s 1s/step - loss: 4.9966e-04 - iou: 0.2179 - iou_thresholded: 0.3082 - val_loss: 4.0806e-04 - val_iou: 0.2185 - val_iou_thresholded: 0.3192\n",
      "Epoch 65/100\n",
      "30/30 [==============================] - 33s 1s/step - loss: 4.9276e-04 - iou: 0.2389 - iou_thresholded: 0.3369 - val_loss: 4.1805e-04 - val_iou: 0.1996 - val_iou_thresholded: 0.2602\n",
      "Epoch 66/100\n",
      "30/30 [==============================] - 33s 1s/step - loss: 5.2099e-04 - iou: 0.2192 - iou_thresholded: 0.3145 - val_loss: 3.8403e-04 - val_iou: 0.2229 - val_iou_thresholded: 0.3199\n",
      "Epoch 67/100\n",
      "30/30 [==============================] - 34s 1s/step - loss: 4.8835e-04 - iou: 0.2393 - iou_thresholded: 0.3324 - val_loss: 3.8698e-04 - val_iou: 0.2271 - val_iou_thresholded: 0.3473\n",
      "Epoch 68/100\n",
      "30/30 [==============================] - 34s 1s/step - loss: 4.8475e-04 - iou: 0.2285 - iou_thresholded: 0.3225 - val_loss: 3.6883e-04 - val_iou: 0.2382 - val_iou_thresholded: 0.3274\n",
      "Epoch 69/100\n",
      "30/30 [==============================] - 34s 1s/step - loss: 4.9698e-04 - iou: 0.2372 - iou_thresholded: 0.3352 - val_loss: 3.5718e-04 - val_iou: 0.2427 - val_iou_thresholded: 0.3420\n",
      "Epoch 70/100\n",
      "30/30 [==============================] - 34s 1s/step - loss: 4.8656e-04 - iou: 0.2336 - iou_thresholded: 0.3283 - val_loss: 4.2872e-04 - val_iou: 0.1951 - val_iou_thresholded: 0.3180\n",
      "Epoch 71/100\n",
      "30/30 [==============================] - 33s 1s/step - loss: 4.8991e-04 - iou: 0.2168 - iou_thresholded: 0.3063 - val_loss: 3.9907e-04 - val_iou: 0.2250 - val_iou_thresholded: 0.3610\n",
      "Epoch 72/100\n",
      "30/30 [==============================] - 34s 1s/step - loss: 5.2114e-04 - iou: 0.2386 - iou_thresholded: 0.3334 - val_loss: 4.0005e-04 - val_iou: 0.1932 - val_iou_thresholded: 0.3068\n",
      "Epoch 73/100\n",
      "30/30 [==============================] - 33s 1s/step - loss: 5.1338e-04 - iou: 0.2212 - iou_thresholded: 0.3145 - val_loss: 4.1877e-04 - val_iou: 0.1999 - val_iou_thresholded: 0.2594\n",
      "Epoch 74/100\n",
      "30/30 [==============================] - 33s 1s/step - loss: 5.1935e-04 - iou: 0.2073 - iou_thresholded: 0.2963 - val_loss: 3.8671e-04 - val_iou: 0.2074 - val_iou_thresholded: 0.3143\n",
      "Epoch 75/100\n",
      "30/30 [==============================] - 33s 1s/step - loss: 5.2509e-04 - iou: 0.2255 - iou_thresholded: 0.3156 - val_loss: 3.7327e-04 - val_iou: 0.2302 - val_iou_thresholded: 0.3439\n",
      "Epoch 76/100\n",
      "30/30 [==============================] - 34s 1s/step - loss: 4.5989e-04 - iou: 0.2413 - iou_thresholded: 0.3355 - val_loss: 4.0474e-04 - val_iou: 0.2020 - val_iou_thresholded: 0.2831\n",
      "Epoch 77/100\n",
      "30/30 [==============================] - 33s 1s/step - loss: 4.8597e-04 - iou: 0.2409 - iou_thresholded: 0.3397 - val_loss: 3.6895e-04 - val_iou: 0.2436 - val_iou_thresholded: 0.3576\n",
      "Epoch 78/100\n",
      "30/30 [==============================] - 34s 1s/step - loss: 4.6743e-04 - iou: 0.2547 - iou_thresholded: 0.3536 - val_loss: 3.8347e-04 - val_iou: 0.2486 - val_iou_thresholded: 0.3173\n",
      "Epoch 79/100\n",
      "30/30 [==============================] - 33s 1s/step - loss: 4.7952e-04 - iou: 0.2354 - iou_thresholded: 0.3247 - val_loss: 3.6844e-04 - val_iou: 0.2315 - val_iou_thresholded: 0.3428\n",
      "Epoch 80/100\n",
      "30/30 [==============================] - 33s 1s/step - loss: 4.6966e-04 - iou: 0.2425 - iou_thresholded: 0.3399 - val_loss: 4.1431e-04 - val_iou: 0.2132 - val_iou_thresholded: 0.3003\n",
      "Epoch 81/100\n",
      "30/30 [==============================] - 33s 1s/step - loss: 4.9009e-04 - iou: 0.2181 - iou_thresholded: 0.3053 - val_loss: 4.0333e-04 - val_iou: 0.2122 - val_iou_thresholded: 0.3489\n",
      "Epoch 82/100\n",
      "30/30 [==============================] - 33s 1s/step - loss: 4.9743e-04 - iou: 0.2395 - iou_thresholded: 0.3344 - val_loss: 4.4076e-04 - val_iou: 0.2141 - val_iou_thresholded: 0.3580\n",
      "Epoch 83/100\n",
      "30/30 [==============================] - 33s 1s/step - loss: 4.9254e-04 - iou: 0.2315 - iou_thresholded: 0.3317 - val_loss: 3.7934e-04 - val_iou: 0.2280 - val_iou_thresholded: 0.3275\n",
      "Epoch 84/100\n",
      "30/30 [==============================] - 33s 1s/step - loss: 4.8280e-04 - iou: 0.2554 - iou_thresholded: 0.3509 - val_loss: 3.4856e-04 - val_iou: 0.2441 - val_iou_thresholded: 0.3258\n"
     ]
    },
    {
     "name": "stdout",
     "output_type": "stream",
     "text": [
      "Epoch 85/100\n",
      "30/30 [==============================] - 33s 1s/step - loss: 4.6039e-04 - iou: 0.2324 - iou_thresholded: 0.3258 - val_loss: 3.5497e-04 - val_iou: 0.2193 - val_iou_thresholded: 0.2843\n",
      "Epoch 86/100\n",
      "30/30 [==============================] - 33s 1s/step - loss: 4.8016e-04 - iou: 0.2470 - iou_thresholded: 0.3405 - val_loss: 3.6707e-04 - val_iou: 0.2422 - val_iou_thresholded: 0.3621\n",
      "Epoch 87/100\n",
      "30/30 [==============================] - 34s 1s/step - loss: 4.5902e-04 - iou: 0.2614 - iou_thresholded: 0.3669 - val_loss: 3.7645e-04 - val_iou: 0.2295 - val_iou_thresholded: 0.3691\n",
      "Epoch 88/100\n",
      "30/30 [==============================] - 33s 1s/step - loss: 4.5963e-04 - iou: 0.2466 - iou_thresholded: 0.3406 - val_loss: 3.6166e-04 - val_iou: 0.2496 - val_iou_thresholded: 0.3503\n",
      "Epoch 89/100\n",
      "30/30 [==============================] - 33s 1s/step - loss: 4.4627e-04 - iou: 0.2675 - iou_thresholded: 0.3767 - val_loss: 3.6915e-04 - val_iou: 0.2558 - val_iou_thresholded: 0.3703\n",
      "Epoch 90/100\n",
      "30/30 [==============================] - 33s 1s/step - loss: 4.4064e-04 - iou: 0.2645 - iou_thresholded: 0.3647 - val_loss: 3.9091e-04 - val_iou: 0.2593 - val_iou_thresholded: 0.3318\n",
      "Epoch 91/100\n",
      "30/30 [==============================] - 33s 1s/step - loss: 4.5084e-04 - iou: 0.2692 - iou_thresholded: 0.3631 - val_loss: 3.6632e-04 - val_iou: 0.2477 - val_iou_thresholded: 0.3454\n",
      "Epoch 92/100\n",
      "30/30 [==============================] - 33s 1s/step - loss: 4.5786e-04 - iou: 0.2525 - iou_thresholded: 0.3529 - val_loss: 3.4326e-04 - val_iou: 0.2504 - val_iou_thresholded: 0.3689\n",
      "Epoch 93/100\n",
      "30/30 [==============================] - 33s 1s/step - loss: 4.5068e-04 - iou: 0.2679 - iou_thresholded: 0.3730 - val_loss: 4.2419e-04 - val_iou: 0.2106 - val_iou_thresholded: 0.3345\n",
      "Epoch 94/100\n",
      "30/30 [==============================] - 34s 1s/step - loss: 4.3389e-04 - iou: 0.2715 - iou_thresholded: 0.3793 - val_loss: 3.7611e-04 - val_iou: 0.2645 - val_iou_thresholded: 0.3805\n",
      "Epoch 95/100\n",
      "30/30 [==============================] - 34s 1s/step - loss: 4.5143e-04 - iou: 0.2705 - iou_thresholded: 0.3713 - val_loss: 3.7795e-04 - val_iou: 0.2483 - val_iou_thresholded: 0.3695\n",
      "Epoch 96/100\n",
      "30/30 [==============================] - 34s 1s/step - loss: 4.2125e-04 - iou: 0.2819 - iou_thresholded: 0.3919 - val_loss: 3.5645e-04 - val_iou: 0.2782 - val_iou_thresholded: 0.3935\n",
      "Epoch 97/100\n",
      "30/30 [==============================] - 33s 1s/step - loss: 4.4378e-04 - iou: 0.2741 - iou_thresholded: 0.3770 - val_loss: 4.0510e-04 - val_iou: 0.2320 - val_iou_thresholded: 0.3521\n",
      "Epoch 98/100\n",
      "30/30 [==============================] - 33s 1s/step - loss: 4.4400e-04 - iou: 0.2597 - iou_thresholded: 0.3612 - val_loss: 3.7630e-04 - val_iou: 0.2542 - val_iou_thresholded: 0.3586\n",
      "Epoch 99/100\n",
      "30/30 [==============================] - 34s 1s/step - loss: 4.2740e-04 - iou: 0.2885 - iou_thresholded: 0.3969 - val_loss: 3.8338e-04 - val_iou: 0.2658 - val_iou_thresholded: 0.3518\n",
      "Epoch 100/100\n",
      "30/30 [==============================] - 34s 1s/step - loss: 3.9036e-04 - iou: 0.3035 - iou_thresholded: 0.4200 - val_loss: 4.0018e-04 - val_iou: 0.2766 - val_iou_thresholded: 0.3600\n"
     ]
    }
   ],
   "source": [
    "model, history = C.Helper.train_swinUNet(train_gen, X_train_set, y_train_set, X_val, y_val, model, epochs=100)"
   ]
  },
  {
   "cell_type": "code",
   "execution_count": 26,
   "id": "7bc51703",
   "metadata": {},
   "outputs": [
    {
     "data": {
      "image/png": "[encoded data removed]",
      "text/plain": [
       "<Figure size 864x432 with 1 Axes>"
      ]
     },
     "metadata": {
      "needs_background": "light"
     },
     "output_type": "display_data"
    },
    {
     "data": {
      "image/png": "[encoded data removed]",
      "text/plain": [
       "<Figure size 864x432 with 1 Axes>"
      ]
     },
     "metadata": {
      "needs_background": "light"
     },
     "output_type": "display_data"
    }
   ],
   "source": [
    "C.Helper.visualize_graph(history)"
   ]
  },
  {
   "cell_type": "code",
   "execution_count": 27,
   "id": "2b9f9190",
   "metadata": {},
   "outputs": [],
   "source": [
    "y_pred = C.Helper.prediction(test_images_array, model)"
   ]
  },
  {
   "cell_type": "code",
   "execution_count": 28,
   "id": "85b46673",
   "metadata": {
    "scrolled": true
   },
   "outputs": [
    {
     "data": {
      "image/png": "[encoded data removed]",
      "text/plain": [
       "<Figure size 1152x1440 with 20 Axes>"
      ]
     },
     "metadata": {
      "needs_background": "light"
     },
     "output_type": "display_data"
    }
   ],
   "source": [
    "C.Helper.visualize_result(test_images_array, y_test, y_pred)"
   ]
  },
  {
   "cell_type": "code",
   "execution_count": 29,
   "id": "9a236ee4",
   "metadata": {},
   "outputs": [
    {
     "name": "stdout",
     "output_type": "stream",
     "text": [
      "113/113 [==============================] - 51s 447ms/step - loss: 6.0732e-05 - iou: 0.0225 - iou_thresholded: 0.6586\n"
     ]
    }
   ],
   "source": [
    "C.Helper.evaluate(test_images_array, y_test, model)"
   ]
  },
  {
   "cell_type": "code",
   "execution_count": null,
   "id": "f18f18a7",
   "metadata": {},
   "outputs": [],
   "source": []
  },
  {
   "cell_type": "code",
   "execution_count": null,
   "id": "9633f74e",
   "metadata": {},
   "outputs": [],
   "source": []
  },
  {
   "cell_type": "code",
   "execution_count": null,
   "id": "230dbf69",
   "metadata": {},
   "outputs": [],
   "source": []
  },
  {
   "cell_type": "code",
   "execution_count": null,
   "id": "91bf77f5",
   "metadata": {},
   "outputs": [],
   "source": []
  },
  {
   "cell_type": "code",
   "execution_count": null,
   "id": "5bf8aa51",
   "metadata": {},
   "outputs": [],
   "source": []
  },
  {
   "cell_type": "code",
   "execution_count": null,
   "id": "5e73cc60",
   "metadata": {},
   "outputs": [],
   "source": []
  },
  {
   "cell_type": "code",
   "execution_count": null,
   "id": "da3bb108",
   "metadata": {},
   "outputs": [],
   "source": []
  },
  {
   "cell_type": "code",
   "execution_count": null,
   "id": "2e3df05d",
   "metadata": {},
   "outputs": [],
   "source": []
  }
 ],
 "metadata": {
  "kernelspec": {
   "display_name": "Python 3 (ipykernel)",
   "language": "python",
   "name": "python3"
  },
  "language_info": {
   "codemirror_mode": {
    "name": "ipython",
    "version": 3
   },
   "file_extension": ".py",
   "mimetype": "text/x-python",
   "name": "python",
   "nbconvert_exporter": "python",
   "pygments_lexer": "ipython3",
   "version": "3.9.7"
  }
 },
 "nbformat": 4,
 "nbformat_minor": 5
}
