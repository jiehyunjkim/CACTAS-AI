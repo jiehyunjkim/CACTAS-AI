{
 "cells": [
  {
   "cell_type": "code",
   "execution_count": 1,
   "id": "5eebebed",
   "metadata": {},
   "outputs": [
    {
     "name": "stdout",
     "output_type": "stream",
     "text": [
      "Populating the interactive namespace from numpy and matplotlib\n"
     ]
    }
   ],
   "source": [
    "%pylab inline\n",
    "%load_ext autoreload\n",
    "%autoreload 2"
   ]
  },
  {
   "cell_type": "code",
   "execution_count": 43,
   "id": "1db43f95",
   "metadata": {},
   "outputs": [],
   "source": [
    "import cactas as C\n",
    "import os\n",
    "import mahotas as mh\n",
    "import nibabel as nib\n",
    "import nrrd\n",
    "import skimage.morphology\n",
    "import cv2\n",
    "from skimage.filters import threshold_otsu"
   ]
  },
  {
   "cell_type": "code",
   "execution_count": 3,
   "id": "3a25db15",
   "metadata": {
    "scrolled": true
   },
   "outputs": [
    {
     "name": "stderr",
     "output_type": "stream",
     "text": [
      "2024-05-05 19:03:04.849686: I tensorflow/stream_executor/platform/default/dso_loader.cc:53] Successfully opened dynamic library libcudart.so.11.0\n"
     ]
    },
    {
     "name": "stdout",
     "output_type": "stream",
     "text": [
      "WARNING:tensorflow:From /tmp/ipykernel_289788/392601943.py:2: is_gpu_available (from tensorflow.python.framework.test_util) is deprecated and will be removed in a future version.\n",
      "Instructions for updating:\n",
      "Use `tf.config.list_physical_devices('GPU')` instead.\n"
     ]
    },
    {
     "name": "stderr",
     "output_type": "stream",
     "text": [
      "2024-05-05 19:03:05.801816: I tensorflow/core/platform/cpu_feature_guard.cc:142] This TensorFlow binary is optimized with oneAPI Deep Neural Network Library (oneDNN) to use the following CPU instructions in performance-critical operations:  AVX2 FMA\n",
      "To enable them in other operations, rebuild TensorFlow with the appropriate compiler flags.\n",
      "2024-05-05 19:03:05.802784: I tensorflow/stream_executor/platform/default/dso_loader.cc:53] Successfully opened dynamic library libcuda.so.1\n",
      "2024-05-05 19:03:06.319549: I tensorflow/core/common_runtime/gpu/gpu_device.cc:1733] Found device 0 with properties: \n",
      "pciBusID: 0000:87:00.0 name: A100-SXM4-40GB computeCapability: 8.0\n",
      "coreClock: 1.41GHz coreCount: 108 deviceMemorySize: 39.59GiB deviceMemoryBandwidth: 1.41TiB/s\n",
      "2024-05-05 19:03:06.322059: I tensorflow/core/common_runtime/gpu/gpu_device.cc:1733] Found device 1 with properties: \n",
      "pciBusID: 0000:90:00.0 name: A100-SXM4-40GB computeCapability: 8.0\n",
      "coreClock: 1.41GHz coreCount: 108 deviceMemorySize: 39.59GiB deviceMemoryBandwidth: 1.41TiB/s\n",
      "2024-05-05 19:03:06.322114: I tensorflow/stream_executor/platform/default/dso_loader.cc:53] Successfully opened dynamic library libcudart.so.11.0\n",
      "2024-05-05 19:03:06.325709: I tensorflow/stream_executor/platform/default/dso_loader.cc:53] Successfully opened dynamic library libcublas.so.11\n",
      "2024-05-05 19:03:06.325747: I tensorflow/stream_executor/platform/default/dso_loader.cc:53] Successfully opened dynamic library libcublasLt.so.11\n",
      "2024-05-05 19:03:06.326945: I tensorflow/stream_executor/platform/default/dso_loader.cc:53] Successfully opened dynamic library libcufft.so.10\n",
      "2024-05-05 19:03:06.327591: I tensorflow/stream_executor/platform/default/dso_loader.cc:53] Successfully opened dynamic library libcurand.so.10\n",
      "2024-05-05 19:03:06.328411: I tensorflow/stream_executor/platform/default/dso_loader.cc:53] Successfully opened dynamic library libcusolver.so.11\n",
      "2024-05-05 19:03:06.329397: I tensorflow/stream_executor/platform/default/dso_loader.cc:53] Successfully opened dynamic library libcusparse.so.11\n",
      "2024-05-05 19:03:06.330037: I tensorflow/stream_executor/platform/default/dso_loader.cc:53] Successfully opened dynamic library libcudnn.so.8\n",
      "2024-05-05 19:03:06.339656: I tensorflow/core/common_runtime/gpu/gpu_device.cc:1871] Adding visible gpu devices: 0, 1\n",
      "2024-05-05 19:03:06.339694: I tensorflow/stream_executor/platform/default/dso_loader.cc:53] Successfully opened dynamic library libcudart.so.11.0\n",
      "2024-05-05 19:03:07.047042: I tensorflow/core/common_runtime/gpu/gpu_device.cc:1258] Device interconnect StreamExecutor with strength 1 edge matrix:\n",
      "2024-05-05 19:03:07.047096: I tensorflow/core/common_runtime/gpu/gpu_device.cc:1264]      0 1 \n",
      "2024-05-05 19:03:07.047102: I tensorflow/core/common_runtime/gpu/gpu_device.cc:1277] 0:   N Y \n",
      "2024-05-05 19:03:07.047106: I tensorflow/core/common_runtime/gpu/gpu_device.cc:1277] 1:   Y N \n",
      "2024-05-05 19:03:07.061253: I tensorflow/core/common_runtime/gpu/gpu_device.cc:1418] Created TensorFlow device (/device:GPU:0 with 38425 MB memory) -> physical GPU (device: 0, name: A100-SXM4-40GB, pci bus id: 0000:87:00.0, compute capability: 8.0)\n",
      "2024-05-05 19:03:07.063947: I tensorflow/core/common_runtime/gpu/gpu_device.cc:1418] Created TensorFlow device (/device:GPU:1 with 38425 MB memory) -> physical GPU (device: 1, name: A100-SXM4-40GB, pci bus id: 0000:90:00.0, compute capability: 8.0)\n"
     ]
    },
    {
     "data": {
      "text/plain": [
       "True"
      ]
     },
     "execution_count": 3,
     "metadata": {},
     "output_type": "execute_result"
    }
   ],
   "source": [
    "import tensorflow as tf\n",
    "gpu_available = tf.test.is_gpu_available()\n",
    "gpu_available"
   ]
  },
  {
   "cell_type": "code",
   "execution_count": null,
   "id": "c7599e1d",
   "metadata": {},
   "outputs": [],
   "source": []
  },
  {
   "cell_type": "code",
   "execution_count": 4,
   "id": "ca9de1bc",
   "metadata": {},
   "outputs": [],
   "source": [
    "DATAPATH='/raid/mpsych/CACTAS/DATA/ESUS'\n",
    "CAPATH='/raid/mpsych/CACTAS/DATA/CA24'"
   ]
  },
  {
   "cell_type": "code",
   "execution_count": null,
   "id": "92be68f5",
   "metadata": {},
   "outputs": [],
   "source": []
  },
  {
   "cell_type": "code",
   "execution_count": 5,
   "id": "c2588b51",
   "metadata": {},
   "outputs": [],
   "source": [
    "images, labels = C.Helper.load_data(DATAPATH)"
   ]
  },
  {
   "cell_type": "code",
   "execution_count": 6,
   "id": "7881f480",
   "metadata": {},
   "outputs": [],
   "source": [
    "masks = C.Helper.load_seg_data(CAPATH)"
   ]
  },
  {
   "cell_type": "code",
   "execution_count": 7,
   "id": "7088d2a3",
   "metadata": {},
   "outputs": [],
   "source": [
    "X_train, y_train, m_train, X_test, y_test, m_test = C.Helper.split_patients_masks(images, labels, masks)"
   ]
  },
  {
   "cell_type": "code",
   "execution_count": 8,
   "id": "c81ee490",
   "metadata": {},
   "outputs": [],
   "source": [
    "X_train, y_train, m_train, X_test, y_test, m_test = C.Helper.normalization2(DATAPATH, CAPATH, X_train, y_train, m_train, X_test, y_test, m_test)"
   ]
  },
  {
   "cell_type": "code",
   "execution_count": 9,
   "id": "b2d8df93",
   "metadata": {},
   "outputs": [],
   "source": [
    "slice_to_patient_mapping, last_key = C.Helper.map_and_key(y_train)"
   ]
  },
  {
   "cell_type": "code",
   "execution_count": 10,
   "id": "d00b1ce9",
   "metadata": {},
   "outputs": [
    {
     "name": "stdout",
     "output_type": "stream",
     "text": [
      "(13327, 512, 512, 1) (13327, 512, 512, 1) (3439, 512, 512, 1) (3439, 512, 512, 1)\n"
     ]
    }
   ],
   "source": [
    "X_train, y_train, X_test, y_test = C.Helper.extract_slices(X_train, y_train, X_test, y_test)"
   ]
  },
  {
   "cell_type": "code",
   "execution_count": 11,
   "id": "4034ad93",
   "metadata": {},
   "outputs": [
    {
     "name": "stdout",
     "output_type": "stream",
     "text": [
      "(13327, 512, 512, 1) (3439, 512, 512, 1)\n"
     ]
    }
   ],
   "source": [
    "m_train, m_test = C.Helper.extract_masks_slices(m_train, m_test)"
   ]
  },
  {
   "cell_type": "code",
   "execution_count": 12,
   "id": "a248045e",
   "metadata": {},
   "outputs": [
    {
     "name": "stdout",
     "output_type": "stream",
     "text": [
      "(568, 512, 512, 1) (568, 512, 512, 1) (568, 512, 512, 1)\n"
     ]
    }
   ],
   "source": [
    "X_train, y_train, m_train = C.Helper.filter_slices(X_train, y_train, m_train)"
   ]
  },
  {
   "cell_type": "code",
   "execution_count": null,
   "id": "c8ffa75e",
   "metadata": {},
   "outputs": [],
   "source": []
  },
  {
   "cell_type": "code",
   "execution_count": 13,
   "id": "4c490d99",
   "metadata": {},
   "outputs": [
    {
     "data": {
      "text/plain": [
       "(dtype('float64'), dtype('float64'), dtype('float64'), dtype('float64'))"
      ]
     },
     "execution_count": 13,
     "metadata": {},
     "output_type": "execute_result"
    }
   ],
   "source": [
    "X_train.dtype, y_train.dtype, X_test.dtype, y_test.dtype"
   ]
  },
  {
   "cell_type": "code",
   "execution_count": 14,
   "id": "580cb6ea",
   "metadata": {},
   "outputs": [
    {
     "data": {
      "text/plain": [
       "dtype('float64')"
      ]
     },
     "execution_count": 14,
     "metadata": {},
     "output_type": "execute_result"
    }
   ],
   "source": [
    "m_train.dtype"
   ]
  },
  {
   "cell_type": "code",
   "execution_count": null,
   "id": "e47b39dd",
   "metadata": {},
   "outputs": [],
   "source": []
  },
  {
   "cell_type": "code",
   "execution_count": 15,
   "id": "3692ec60",
   "metadata": {},
   "outputs": [],
   "source": [
    "train_masks=[]\n",
    "for i in range(len(m_train)):\n",
    "    binary = (m_train[i] > 0).astype(np.uint8)\n",
    "    train_masks.append(binary)"
   ]
  },
  {
   "cell_type": "code",
   "execution_count": 16,
   "id": "28b56250",
   "metadata": {},
   "outputs": [],
   "source": [
    "train_images=[]\n",
    "for i in range(len(X_train)):\n",
    "    train_image = X_train[i] * train_masks[i]\n",
    "    train_images.append(train_image)\n",
    "train_images_array = np.array(train_images)"
   ]
  },
  {
   "cell_type": "code",
   "execution_count": 17,
   "id": "1a7a746e",
   "metadata": {},
   "outputs": [],
   "source": [
    "#train_images_array = train_images_array.astype(np.float32)"
   ]
  },
  {
   "cell_type": "code",
   "execution_count": 18,
   "id": "02a618b7",
   "metadata": {},
   "outputs": [],
   "source": [
    "train_images_array = train_images_array.reshape(train_images_array.shape[0], train_images_array.shape[1],train_images_array.shape[2], 1)"
   ]
  },
  {
   "cell_type": "code",
   "execution_count": null,
   "id": "050bc38c",
   "metadata": {},
   "outputs": [],
   "source": []
  },
  {
   "cell_type": "code",
   "execution_count": 19,
   "id": "092f608d",
   "metadata": {
    "scrolled": true
   },
   "outputs": [],
   "source": [
    "# for i in range(10, 20):\n",
    "#     plt.imshow(train_images[i])\n",
    "#     plt.show()"
   ]
  },
  {
   "cell_type": "code",
   "execution_count": 20,
   "id": "bc55e9be",
   "metadata": {},
   "outputs": [],
   "source": [
    "# for i in range(10, 20):\n",
    "#     plt.imshow(train_images[i])\n",
    "#     plt.imshow(y_train[i], cmap='gray', alpha=0.5)\n",
    "#     plt.show()"
   ]
  },
  {
   "cell_type": "code",
   "execution_count": 21,
   "id": "67fbfaa8",
   "metadata": {},
   "outputs": [],
   "source": [
    "# fig, axes = plt.subplots(1, 3, figsize=(15, 5))\n",
    "# axes[0].imshow(X_train[10], vmin=0, vmax=1)\n",
    "# axes[0].set_title('Original Image')\n",
    "# axes[1].imshow(train_masks[10])\n",
    "# axes[1].set_title('Mask')\n",
    "# axes[2].imshow(train_images[10])\n",
    "# axes[2].set_title('Processed Image')\n",
    "# plt.show()"
   ]
  },
  {
   "cell_type": "code",
   "execution_count": null,
   "id": "7edf63e4",
   "metadata": {},
   "outputs": [],
   "source": []
  },
  {
   "cell_type": "code",
   "execution_count": 22,
   "id": "3a3d4f47",
   "metadata": {},
   "outputs": [],
   "source": [
    "test_masks=[]\n",
    "for i in range(len(m_test)):\n",
    "    binary = (m_test[i] > 0).astype(np.uint8)\n",
    "    test_masks.append(binary)"
   ]
  },
  {
   "cell_type": "code",
   "execution_count": 23,
   "id": "c08c1bc9",
   "metadata": {},
   "outputs": [],
   "source": [
    "test_images=[]\n",
    "for i in range(len(X_test)):\n",
    "    test_image = X_test[i] * test_masks[i]\n",
    "    test_images.append(test_image)\n",
    "test_images_array = np.array(test_images)"
   ]
  },
  {
   "cell_type": "code",
   "execution_count": 24,
   "id": "229a751d",
   "metadata": {},
   "outputs": [],
   "source": [
    "#test_images_array = test_images_array.astype(np.float32)"
   ]
  },
  {
   "cell_type": "code",
   "execution_count": 25,
   "id": "9ef54dea",
   "metadata": {},
   "outputs": [],
   "source": [
    "test_images_array = test_images_array.reshape(test_images_array.shape[0], test_images_array.shape[1],test_images_array.shape[2], 1)"
   ]
  },
  {
   "cell_type": "code",
   "execution_count": 26,
   "id": "7d9bea09",
   "metadata": {},
   "outputs": [],
   "source": [
    "X_train_set = train_images_array[:last_key]\n",
    "y_train_set = y_train[:last_key]\n",
    "X_val = train_images_array[last_key:]\n",
    "y_val = y_train[last_key:]"
   ]
  },
  {
   "cell_type": "code",
   "execution_count": 27,
   "id": "c8fa2e3f",
   "metadata": {},
   "outputs": [],
   "source": [
    "#y_train_set = y_train_set.astype(np.float32)"
   ]
  },
  {
   "cell_type": "code",
   "execution_count": 28,
   "id": "91252364",
   "metadata": {},
   "outputs": [],
   "source": [
    "#y_val = y_val.astype(np.float32)"
   ]
  },
  {
   "cell_type": "code",
   "execution_count": null,
   "id": "c43945a0",
   "metadata": {},
   "outputs": [],
   "source": []
  },
  {
   "cell_type": "code",
   "execution_count": 29,
   "id": "51c08514",
   "metadata": {},
   "outputs": [
    {
     "data": {
      "text/plain": [
       "(dtype('float64'), dtype('float64'))"
      ]
     },
     "execution_count": 29,
     "metadata": {},
     "output_type": "execute_result"
    }
   ],
   "source": [
    "X_train_set.dtype, y_train_set.dtype"
   ]
  },
  {
   "cell_type": "code",
   "execution_count": 30,
   "id": "4634bb57",
   "metadata": {},
   "outputs": [
    {
     "data": {
      "text/plain": [
       "(dtype('float64'), dtype('float64'))"
      ]
     },
     "execution_count": 30,
     "metadata": {},
     "output_type": "execute_result"
    }
   ],
   "source": [
    "X_val.dtype, y_val.dtype"
   ]
  },
  {
   "cell_type": "code",
   "execution_count": 31,
   "id": "11ff5f34",
   "metadata": {},
   "outputs": [
    {
     "data": {
      "text/plain": [
       "(dtype('float64'), dtype('float64'))"
      ]
     },
     "execution_count": 31,
     "metadata": {},
     "output_type": "execute_result"
    }
   ],
   "source": [
    "test_images_array.dtype, y_test.dtype"
   ]
  },
  {
   "cell_type": "code",
   "execution_count": 32,
   "id": "a4b42641",
   "metadata": {},
   "outputs": [
    {
     "data": {
      "text/plain": [
       "((133, 512, 512, 1), (133, 512, 512, 1))"
      ]
     },
     "execution_count": 32,
     "metadata": {},
     "output_type": "execute_result"
    }
   ],
   "source": [
    "X_val.shape, y_val.shape"
   ]
  },
  {
   "cell_type": "code",
   "execution_count": null,
   "id": "f0250dc1",
   "metadata": {},
   "outputs": [],
   "source": []
  },
  {
   "cell_type": "code",
   "execution_count": null,
   "id": "34dd6c88",
   "metadata": {},
   "outputs": [],
   "source": []
  },
  {
   "cell_type": "code",
   "execution_count": 33,
   "id": "c001a494",
   "metadata": {
    "scrolled": true
   },
   "outputs": [
    {
     "name": "stdout",
     "output_type": "stream",
     "text": [
      "-----------------------------------------\n",
      "keras-unet init: TF version is >= 2.0.0 - using `tf.keras` instead of `Keras`\n",
      "-----------------------------------------\n"
     ]
    },
    {
     "name": "stderr",
     "output_type": "stream",
     "text": [
      "2024-05-05 19:06:17.541606: I tensorflow/core/common_runtime/gpu/gpu_device.cc:1733] Found device 0 with properties: \n",
      "pciBusID: 0000:87:00.0 name: A100-SXM4-40GB computeCapability: 8.0\n",
      "coreClock: 1.41GHz coreCount: 108 deviceMemorySize: 39.59GiB deviceMemoryBandwidth: 1.41TiB/s\n",
      "2024-05-05 19:06:17.544492: I tensorflow/core/common_runtime/gpu/gpu_device.cc:1733] Found device 1 with properties: \n",
      "pciBusID: 0000:90:00.0 name: A100-SXM4-40GB computeCapability: 8.0\n",
      "coreClock: 1.41GHz coreCount: 108 deviceMemorySize: 39.59GiB deviceMemoryBandwidth: 1.41TiB/s\n",
      "2024-05-05 19:06:17.554299: I tensorflow/core/common_runtime/gpu/gpu_device.cc:1871] Adding visible gpu devices: 0, 1\n",
      "2024-05-05 19:06:17.557318: I tensorflow/core/common_runtime/gpu/gpu_device.cc:1733] Found device 0 with properties: \n",
      "pciBusID: 0000:87:00.0 name: A100-SXM4-40GB computeCapability: 8.0\n",
      "coreClock: 1.41GHz coreCount: 108 deviceMemorySize: 39.59GiB deviceMemoryBandwidth: 1.41TiB/s\n",
      "2024-05-05 19:06:17.559693: I tensorflow/core/common_runtime/gpu/gpu_device.cc:1733] Found device 1 with properties: \n",
      "pciBusID: 0000:90:00.0 name: A100-SXM4-40GB computeCapability: 8.0\n",
      "coreClock: 1.41GHz coreCount: 108 deviceMemorySize: 39.59GiB deviceMemoryBandwidth: 1.41TiB/s\n",
      "2024-05-05 19:06:17.569230: I tensorflow/core/common_runtime/gpu/gpu_device.cc:1871] Adding visible gpu devices: 0, 1\n",
      "2024-05-05 19:06:17.569286: I tensorflow/core/common_runtime/gpu/gpu_device.cc:1258] Device interconnect StreamExecutor with strength 1 edge matrix:\n",
      "2024-05-05 19:06:17.569291: I tensorflow/core/common_runtime/gpu/gpu_device.cc:1264]      0 1 \n",
      "2024-05-05 19:06:17.569295: I tensorflow/core/common_runtime/gpu/gpu_device.cc:1277] 0:   N Y \n",
      "2024-05-05 19:06:17.569299: I tensorflow/core/common_runtime/gpu/gpu_device.cc:1277] 1:   Y N \n",
      "2024-05-05 19:06:17.576355: I tensorflow/core/common_runtime/gpu/gpu_device.cc:1418] Created TensorFlow device (/job:localhost/replica:0/task:0/device:GPU:0 with 38425 MB memory) -> physical GPU (device: 0, name: A100-SXM4-40GB, pci bus id: 0000:87:00.0, compute capability: 8.0)\n",
      "2024-05-05 19:06:17.578691: I tensorflow/core/common_runtime/gpu/gpu_device.cc:1418] Created TensorFlow device (/job:localhost/replica:0/task:0/device:GPU:1 with 38425 MB memory) -> physical GPU (device: 1, name: A100-SXM4-40GB, pci bus id: 0000:90:00.0, compute capability: 8.0)\n"
     ]
    }
   ],
   "source": [
    "model = C.Helper.create_unet(X_train_set[0].shape)"
   ]
  },
  {
   "cell_type": "code",
   "execution_count": 34,
   "id": "f889cdd0",
   "metadata": {
    "scrolled": true
   },
   "outputs": [
    {
     "name": "stderr",
     "output_type": "stream",
     "text": [
      "2024-05-05 19:06:18.541506: I tensorflow/compiler/mlir/mlir_graph_optimization_pass.cc:176] None of the MLIR Optimization Passes are enabled (registered 2)\n",
      "2024-05-05 19:06:18.562767: I tensorflow/core/platform/profile_utils/cpu_utils.cc:114] CPU Frequency: 2245740000 Hz\n"
     ]
    },
    {
     "name": "stdout",
     "output_type": "stream",
     "text": [
      "Epoch 1/200\n"
     ]
    },
    {
     "name": "stderr",
     "output_type": "stream",
     "text": [
      "2024-05-05 19:06:19.886079: I tensorflow/stream_executor/platform/default/dso_loader.cc:53] Successfully opened dynamic library libcudnn.so.8\n",
      "2024-05-05 19:06:20.577004: I tensorflow/stream_executor/cuda/cuda_dnn.cc:359] Loaded cuDNN version 8201\n",
      "2024-05-05 19:06:21.324396: W tensorflow/stream_executor/gpu/asm_compiler.cc:191] Falling back to the CUDA driver for PTX compilation; ptxas does not support CC 8.0\n",
      "2024-05-05 19:06:21.324418: W tensorflow/stream_executor/gpu/asm_compiler.cc:194] Used ptxas at ptxas\n",
      "2024-05-05 19:06:21.324480: W tensorflow/stream_executor/gpu/redzone_allocator.cc:314] Unimplemented: ptxas ptxas too old. Falling back to the driver to compile.\n",
      "Relying on driver to perform ptx compilation. \n",
      "Modify $PATH to customize ptxas location.\n",
      "This message will be only logged once.\n",
      "2024-05-05 19:06:21.418232: I tensorflow/stream_executor/platform/default/dso_loader.cc:53] Successfully opened dynamic library libcublas.so.11\n",
      "2024-05-05 19:06:22.236896: I tensorflow/stream_executor/platform/default/dso_loader.cc:53] Successfully opened dynamic library libcublasLt.so.11\n",
      "2024-05-05 19:06:31.688503: W tensorflow/core/common_runtime/bfc_allocator.cc:271] Allocator (GPU_0_bfc) ran out of memory trying to allocate 4.02GiB with freed_by_count=0. The caller indicates that this is not a failure, but may mean that there could be performance gains if more memory were available.\n",
      "2024-05-05 19:06:31.688796: W tensorflow/core/kernels/gpu_utils.cc:49] Failed to allocate memory for convolution redzone checking; skipping this check. This is benign and only means that we won't check cudnn for out-of-bounds reads and writes. This message will only be printed once.\n"
     ]
    },
    {
     "name": "stdout",
     "output_type": "stream",
     "text": [
      "13/13 [==============================] - 38s 1s/step - loss: 0.8735 - iou: 9.2030e-05 - iou_thresholded: 7.8080e-04 - val_loss: 0.1954 - val_iou: 3.8083e-06 - val_iou_thresholded: 0.0034\n",
      "Epoch 2/200\n",
      "13/13 [==============================] - 26s 1s/step - loss: 0.0310 - iou: 3.4635e-04 - iou_thresholded: 8.4581e-04 - val_loss: 0.0040 - val_iou: 1.9067e-04 - val_iou_thresholded: 0.0034\n",
      "Epoch 3/200\n",
      "13/13 [==============================] - 13s 986ms/step - loss: 0.0022 - iou: 2.5666e-04 - iou_thresholded: 9.0273e-04 - val_loss: 0.0015 - val_iou: 0.0047 - val_iou_thresholded: 0.0034\n",
      "Epoch 4/200\n",
      "13/13 [==============================] - 13s 989ms/step - loss: 0.0011 - iou: 0.0055 - iou_thresholded: 9.5236e-04 - val_loss: 0.0010 - val_iou: 0.0271 - val_iou_thresholded: 0.0034\n",
      "Epoch 5/200\n",
      "13/13 [==============================] - 13s 989ms/step - loss: 8.7566e-04 - iou: 0.0150 - iou_thresholded: 8.7228e-04 - val_loss: 9.6026e-04 - val_iou: 0.0300 - val_iou_thresholded: 0.0034\n",
      "Epoch 6/200\n",
      "13/13 [==============================] - 13s 991ms/step - loss: 9.7136e-04 - iou: 0.0129 - iou_thresholded: 8.8113e-04 - val_loss: 9.9091e-04 - val_iou: 0.0253 - val_iou_thresholded: 0.0034\n",
      "Epoch 7/200\n",
      "13/13 [==============================] - 13s 987ms/step - loss: 8.0936e-04 - iou: 0.0137 - iou_thresholded: 9.2394e-04 - val_loss: 9.2555e-04 - val_iou: 0.0365 - val_iou_thresholded: 0.0034\n",
      "Epoch 8/200\n",
      "13/13 [==============================] - 13s 988ms/step - loss: 8.2487e-04 - iou: 0.0200 - iou_thresholded: 8.1650e-04 - val_loss: 8.7489e-04 - val_iou: 0.0416 - val_iou_thresholded: 0.0034\n",
      "Epoch 9/200\n",
      "13/13 [==============================] - 13s 987ms/step - loss: 7.9585e-04 - iou: 0.0219 - iou_thresholded: 9.0301e-04 - val_loss: 8.5331e-04 - val_iou: 0.0452 - val_iou_thresholded: 0.0034\n",
      "Epoch 10/200\n",
      "13/13 [==============================] - 13s 989ms/step - loss: 7.6981e-04 - iou: 0.0265 - iou_thresholded: 0.0015 - val_loss: 8.2491e-04 - val_iou: 0.0551 - val_iou_thresholded: 0.0041\n",
      "Epoch 11/200\n",
      "13/13 [==============================] - 13s 988ms/step - loss: 8.0531e-04 - iou: 0.0311 - iou_thresholded: 0.0036 - val_loss: 7.8703e-04 - val_iou: 0.0607 - val_iou_thresholded: 0.0048\n",
      "Epoch 12/200\n",
      "13/13 [==============================] - 13s 986ms/step - loss: 7.2423e-04 - iou: 0.0305 - iou_thresholded: 0.0096 - val_loss: 7.4408e-04 - val_iou: 0.0817 - val_iou_thresholded: 0.0268\n",
      "Epoch 13/200\n",
      "13/13 [==============================] - 13s 989ms/step - loss: 7.0106e-04 - iou: 0.0440 - iou_thresholded: 0.0146 - val_loss: 7.4809e-04 - val_iou: 0.0784 - val_iou_thresholded: 0.0239\n",
      "Epoch 14/200\n",
      "13/13 [==============================] - 13s 990ms/step - loss: 6.8133e-04 - iou: 0.0603 - iou_thresholded: 0.0481 - val_loss: 7.8192e-04 - val_iou: 0.0764 - val_iou_thresholded: 0.0288\n",
      "Epoch 15/200\n",
      "13/13 [==============================] - 13s 1s/step - loss: 6.7307e-04 - iou: 0.0606 - iou_thresholded: 0.0536 - val_loss: 6.8720e-04 - val_iou: 0.1211 - val_iou_thresholded: 0.1403\n",
      "Epoch 16/200\n",
      "13/13 [==============================] - 13s 1s/step - loss: 6.9879e-04 - iou: 0.0634 - iou_thresholded: 0.0721 - val_loss: 8.6042e-04 - val_iou: 0.0631 - val_iou_thresholded: 0.0227\n",
      "Epoch 17/200\n",
      "13/13 [==============================] - 13s 989ms/step - loss: 6.4711e-04 - iou: 0.0654 - iou_thresholded: 0.0652 - val_loss: 6.7441e-04 - val_iou: 0.1215 - val_iou_thresholded: 0.1291\n",
      "Epoch 18/200\n",
      "13/13 [==============================] - 13s 987ms/step - loss: 6.4064e-04 - iou: 0.0765 - iou_thresholded: 0.0779 - val_loss: 6.9071e-04 - val_iou: 0.1184 - val_iou_thresholded: 0.0900\n",
      "Epoch 19/200\n",
      "13/13 [==============================] - 13s 986ms/step - loss: 5.5756e-04 - iou: 0.0964 - iou_thresholded: 0.1196 - val_loss: 7.1317e-04 - val_iou: 0.1210 - val_iou_thresholded: 0.0919\n",
      "Epoch 20/200\n",
      "13/13 [==============================] - 13s 988ms/step - loss: 6.0938e-04 - iou: 0.1005 - iou_thresholded: 0.1198 - val_loss: 8.2086e-04 - val_iou: 0.0992 - val_iou_thresholded: 0.0657\n",
      "Epoch 21/200\n",
      "13/13 [==============================] - 13s 987ms/step - loss: 5.2445e-04 - iou: 0.1070 - iou_thresholded: 0.1326 - val_loss: 6.0880e-04 - val_iou: 0.1777 - val_iou_thresholded: 0.2022\n",
      "Epoch 22/200\n",
      "13/13 [==============================] - 13s 991ms/step - loss: 5.8944e-04 - iou: 0.1330 - iou_thresholded: 0.1910 - val_loss: 6.7116e-04 - val_iou: 0.1556 - val_iou_thresholded: 0.1474\n",
      "Epoch 23/200\n",
      "13/13 [==============================] - 13s 988ms/step - loss: 5.4335e-04 - iou: 0.1095 - iou_thresholded: 0.1437 - val_loss: 7.8237e-04 - val_iou: 0.1206 - val_iou_thresholded: 0.0909\n",
      "Epoch 24/200\n",
      "13/13 [==============================] - 13s 989ms/step - loss: 5.0916e-04 - iou: 0.1370 - iou_thresholded: 0.1885 - val_loss: 8.0200e-04 - val_iou: 0.1331 - val_iou_thresholded: 0.1080\n",
      "Epoch 25/200\n",
      "13/13 [==============================] - 13s 992ms/step - loss: 5.4675e-04 - iou: 0.1377 - iou_thresholded: 0.1787 - val_loss: 5.9718e-04 - val_iou: 0.2039 - val_iou_thresholded: 0.2720\n",
      "Epoch 26/200\n",
      "13/13 [==============================] - 13s 986ms/step - loss: 5.2865e-04 - iou: 0.1221 - iou_thresholded: 0.1770 - val_loss: 6.4176e-04 - val_iou: 0.1730 - val_iou_thresholded: 0.1666\n",
      "Epoch 27/200\n",
      "13/13 [==============================] - 13s 989ms/step - loss: 5.3856e-04 - iou: 0.1243 - iou_thresholded: 0.1652 - val_loss: 6.0720e-04 - val_iou: 0.1969 - val_iou_thresholded: 0.2607\n",
      "Epoch 28/200\n",
      "13/13 [==============================] - 13s 990ms/step - loss: 4.9380e-04 - iou: 0.1449 - iou_thresholded: 0.2011 - val_loss: 6.0461e-04 - val_iou: 0.1990 - val_iou_thresholded: 0.2283\n",
      "Epoch 29/200\n",
      "13/13 [==============================] - 13s 1s/step - loss: 4.6581e-04 - iou: 0.1648 - iou_thresholded: 0.2269 - val_loss: 6.4463e-04 - val_iou: 0.2019 - val_iou_thresholded: 0.2071\n",
      "Epoch 30/200\n",
      "13/13 [==============================] - 13s 1s/step - loss: 4.4671e-04 - iou: 0.1740 - iou_thresholded: 0.2446 - val_loss: 6.7202e-04 - val_iou: 0.1991 - val_iou_thresholded: 0.2020\n",
      "Epoch 31/200\n",
      "13/13 [==============================] - 13s 989ms/step - loss: 4.3416e-04 - iou: 0.1882 - iou_thresholded: 0.2768 - val_loss: 6.9106e-04 - val_iou: 0.2074 - val_iou_thresholded: 0.2147\n",
      "Epoch 32/200\n",
      "13/13 [==============================] - 13s 986ms/step - loss: 4.3286e-04 - iou: 0.2085 - iou_thresholded: 0.2928 - val_loss: 7.5869e-04 - val_iou: 0.1947 - val_iou_thresholded: 0.1878\n",
      "Epoch 33/200\n",
      "13/13 [==============================] - 13s 987ms/step - loss: 4.4837e-04 - iou: 0.1932 - iou_thresholded: 0.2811 - val_loss: 6.7391e-04 - val_iou: 0.2294 - val_iou_thresholded: 0.2504\n",
      "Epoch 34/200\n",
      "13/13 [==============================] - 13s 990ms/step - loss: 4.2006e-04 - iou: 0.2215 - iou_thresholded: 0.3109 - val_loss: 8.8073e-04 - val_iou: 0.1820 - val_iou_thresholded: 0.1705\n",
      "Epoch 35/200\n",
      "13/13 [==============================] - 13s 991ms/step - loss: 4.3357e-04 - iou: 0.1966 - iou_thresholded: 0.2754 - val_loss: 7.1150e-04 - val_iou: 0.2111 - val_iou_thresholded: 0.2106\n",
      "Epoch 36/200\n",
      "13/13 [==============================] - 13s 987ms/step - loss: 4.3673e-04 - iou: 0.1796 - iou_thresholded: 0.2612 - val_loss: 7.1369e-04 - val_iou: 0.2075 - val_iou_thresholded: 0.2033\n",
      "Epoch 37/200\n",
      "13/13 [==============================] - 13s 987ms/step - loss: 4.3208e-04 - iou: 0.2098 - iou_thresholded: 0.2961 - val_loss: 6.4249e-04 - val_iou: 0.2528 - val_iou_thresholded: 0.2843\n",
      "Epoch 38/200\n",
      "13/13 [==============================] - 13s 988ms/step - loss: 3.9829e-04 - iou: 0.2095 - iou_thresholded: 0.2936 - val_loss: 6.2460e-04 - val_iou: 0.2641 - val_iou_thresholded: 0.3035\n",
      "Epoch 39/200\n",
      "13/13 [==============================] - 13s 989ms/step - loss: 4.0150e-04 - iou: 0.2286 - iou_thresholded: 0.3288 - val_loss: 6.8060e-04 - val_iou: 0.2407 - val_iou_thresholded: 0.2469\n",
      "Epoch 40/200\n",
      "13/13 [==============================] - 13s 987ms/step - loss: 3.9360e-04 - iou: 0.2404 - iou_thresholded: 0.3366 - val_loss: 6.3668e-04 - val_iou: 0.2830 - val_iou_thresholded: 0.3282\n",
      "Epoch 41/200\n",
      "13/13 [==============================] - 13s 990ms/step - loss: 3.9947e-04 - iou: 0.2425 - iou_thresholded: 0.3495 - val_loss: 6.6328e-04 - val_iou: 0.2742 - val_iou_thresholded: 0.3034\n",
      "Epoch 42/200\n"
     ]
    },
    {
     "name": "stdout",
     "output_type": "stream",
     "text": [
      "13/13 [==============================] - 13s 989ms/step - loss: 3.8556e-04 - iou: 0.2577 - iou_thresholded: 0.3558 - val_loss: 8.5352e-04 - val_iou: 0.1847 - val_iou_thresholded: 0.1711\n",
      "Epoch 43/200\n",
      "13/13 [==============================] - 13s 1s/step - loss: 4.0163e-04 - iou: 0.2412 - iou_thresholded: 0.3344 - val_loss: 7.3173e-04 - val_iou: 0.2228 - val_iou_thresholded: 0.2164\n",
      "Epoch 44/200\n",
      "13/13 [==============================] - 13s 1s/step - loss: 3.8509e-04 - iou: 0.2531 - iou_thresholded: 0.3566 - val_loss: 7.1610e-04 - val_iou: 0.2412 - val_iou_thresholded: 0.2454\n",
      "Epoch 45/200\n",
      "13/13 [==============================] - 13s 995ms/step - loss: 3.6103e-04 - iou: 0.2429 - iou_thresholded: 0.3365 - val_loss: 6.0597e-04 - val_iou: 0.2988 - val_iou_thresholded: 0.3435\n",
      "Epoch 46/200\n",
      "13/13 [==============================] - 13s 987ms/step - loss: 3.5332e-04 - iou: 0.2945 - iou_thresholded: 0.4136 - val_loss: 6.5538e-04 - val_iou: 0.3002 - val_iou_thresholded: 0.3272\n",
      "Epoch 47/200\n",
      "13/13 [==============================] - 13s 986ms/step - loss: 3.6183e-04 - iou: 0.2941 - iou_thresholded: 0.4037 - val_loss: 6.0938e-04 - val_iou: 0.3056 - val_iou_thresholded: 0.3335\n",
      "Epoch 48/200\n",
      "13/13 [==============================] - 13s 988ms/step - loss: 3.5806e-04 - iou: 0.2821 - iou_thresholded: 0.3877 - val_loss: 6.2665e-04 - val_iou: 0.3072 - val_iou_thresholded: 0.3404\n",
      "Epoch 49/200\n",
      "13/13 [==============================] - 13s 987ms/step - loss: 3.1780e-04 - iou: 0.2923 - iou_thresholded: 0.3965 - val_loss: 6.1374e-04 - val_iou: 0.3168 - val_iou_thresholded: 0.3485\n",
      "Epoch 50/200\n",
      "13/13 [==============================] - 13s 987ms/step - loss: 3.2711e-04 - iou: 0.3081 - iou_thresholded: 0.4103 - val_loss: 5.9384e-04 - val_iou: 0.3302 - val_iou_thresholded: 0.3649\n",
      "Epoch 51/200\n",
      "13/13 [==============================] - 13s 988ms/step - loss: 3.2868e-04 - iou: 0.3089 - iou_thresholded: 0.4294 - val_loss: 6.2264e-04 - val_iou: 0.3090 - val_iou_thresholded: 0.3263\n",
      "Epoch 52/200\n",
      "13/13 [==============================] - 13s 989ms/step - loss: 3.1954e-04 - iou: 0.3158 - iou_thresholded: 0.4162 - val_loss: 5.3178e-04 - val_iou: 0.3232 - val_iou_thresholded: 0.3519\n",
      "Epoch 53/200\n",
      "13/13 [==============================] - 13s 989ms/step - loss: 3.4513e-04 - iou: 0.3009 - iou_thresholded: 0.4101 - val_loss: 5.5219e-04 - val_iou: 0.3457 - val_iou_thresholded: 0.4124\n",
      "Epoch 54/200\n",
      "13/13 [==============================] - 13s 986ms/step - loss: 3.2464e-04 - iou: 0.3366 - iou_thresholded: 0.4532 - val_loss: 5.7125e-04 - val_iou: 0.3556 - val_iou_thresholded: 0.4115\n",
      "Epoch 55/200\n",
      "13/13 [==============================] - 13s 992ms/step - loss: 2.9843e-04 - iou: 0.3342 - iou_thresholded: 0.4490 - val_loss: 5.4925e-04 - val_iou: 0.3513 - val_iou_thresholded: 0.3974\n",
      "Epoch 56/200\n",
      "13/13 [==============================] - 13s 989ms/step - loss: 2.9446e-04 - iou: 0.3432 - iou_thresholded: 0.4658 - val_loss: 5.6146e-04 - val_iou: 0.3512 - val_iou_thresholded: 0.3765\n",
      "Epoch 57/200\n",
      "13/13 [==============================] - 13s 1s/step - loss: 3.1726e-04 - iou: 0.3382 - iou_thresholded: 0.4420 - val_loss: 6.0879e-04 - val_iou: 0.3081 - val_iou_thresholded: 0.3166\n",
      "Epoch 58/200\n",
      "13/13 [==============================] - 13s 1s/step - loss: 2.9402e-04 - iou: 0.3393 - iou_thresholded: 0.4489 - val_loss: 5.6390e-04 - val_iou: 0.3355 - val_iou_thresholded: 0.3629\n",
      "Epoch 59/200\n",
      "13/13 [==============================] - 13s 990ms/step - loss: 3.1880e-04 - iou: 0.3429 - iou_thresholded: 0.4571 - val_loss: 5.6623e-04 - val_iou: 0.3392 - val_iou_thresholded: 0.3590\n",
      "Epoch 60/200\n",
      "13/13 [==============================] - 13s 987ms/step - loss: 2.8827e-04 - iou: 0.3513 - iou_thresholded: 0.4694 - val_loss: 5.4702e-04 - val_iou: 0.3610 - val_iou_thresholded: 0.3897\n",
      "Epoch 61/200\n",
      "13/13 [==============================] - 13s 991ms/step - loss: 2.8819e-04 - iou: 0.3911 - iou_thresholded: 0.5087 - val_loss: 4.9718e-04 - val_iou: 0.3816 - val_iou_thresholded: 0.4351\n",
      "Epoch 62/200\n",
      "13/13 [==============================] - 13s 987ms/step - loss: 2.6360e-04 - iou: 0.3611 - iou_thresholded: 0.4695 - val_loss: 5.2692e-04 - val_iou: 0.3605 - val_iou_thresholded: 0.4129\n",
      "Epoch 63/200\n",
      "13/13 [==============================] - 13s 990ms/step - loss: 2.7684e-04 - iou: 0.3950 - iou_thresholded: 0.5171 - val_loss: 5.5531e-04 - val_iou: 0.3684 - val_iou_thresholded: 0.3956\n",
      "Epoch 64/200\n",
      "13/13 [==============================] - 13s 988ms/step - loss: 2.5589e-04 - iou: 0.3969 - iou_thresholded: 0.5047 - val_loss: 5.5887e-04 - val_iou: 0.3679 - val_iou_thresholded: 0.3924\n",
      "Epoch 65/200\n",
      "13/13 [==============================] - 13s 987ms/step - loss: 2.5320e-04 - iou: 0.3873 - iou_thresholded: 0.5013 - val_loss: 5.0070e-04 - val_iou: 0.4027 - val_iou_thresholded: 0.4478\n",
      "Epoch 66/200\n",
      "13/13 [==============================] - 13s 988ms/step - loss: 2.6864e-04 - iou: 0.4047 - iou_thresholded: 0.5191 - val_loss: 5.3550e-04 - val_iou: 0.3943 - val_iou_thresholded: 0.4353\n",
      "Epoch 67/200\n",
      "13/13 [==============================] - 13s 988ms/step - loss: 2.4625e-04 - iou: 0.4181 - iou_thresholded: 0.5381 - val_loss: 5.2283e-04 - val_iou: 0.3851 - val_iou_thresholded: 0.4150\n",
      "Epoch 68/200\n",
      "13/13 [==============================] - 13s 986ms/step - loss: 2.5043e-04 - iou: 0.3960 - iou_thresholded: 0.5132 - val_loss: 4.6371e-04 - val_iou: 0.3988 - val_iou_thresholded: 0.4251\n",
      "Epoch 69/200\n",
      "13/13 [==============================] - 13s 990ms/step - loss: 2.4279e-04 - iou: 0.4315 - iou_thresholded: 0.5447 - val_loss: 4.9370e-04 - val_iou: 0.4003 - val_iou_thresholded: 0.4282\n",
      "Epoch 70/200\n",
      "13/13 [==============================] - 13s 990ms/step - loss: 2.4036e-04 - iou: 0.4312 - iou_thresholded: 0.5446 - val_loss: 5.0199e-04 - val_iou: 0.4133 - val_iou_thresholded: 0.4488\n",
      "Epoch 71/200\n",
      "13/13 [==============================] - 13s 1s/step - loss: 2.2408e-04 - iou: 0.4495 - iou_thresholded: 0.5643 - val_loss: 4.3655e-04 - val_iou: 0.4177 - val_iou_thresholded: 0.4593\n",
      "Epoch 72/200\n",
      "13/13 [==============================] - 13s 1s/step - loss: 2.3211e-04 - iou: 0.4486 - iou_thresholded: 0.5562 - val_loss: 5.0217e-04 - val_iou: 0.4095 - val_iou_thresholded: 0.4317\n",
      "Epoch 73/200\n",
      "13/13 [==============================] - 13s 988ms/step - loss: 2.3723e-04 - iou: 0.4348 - iou_thresholded: 0.5480 - val_loss: 5.1894e-04 - val_iou: 0.4242 - val_iou_thresholded: 0.4610\n",
      "Epoch 74/200\n",
      "13/13 [==============================] - 13s 988ms/step - loss: 2.1616e-04 - iou: 0.4580 - iou_thresholded: 0.5746 - val_loss: 4.5233e-04 - val_iou: 0.4229 - val_iou_thresholded: 0.4635\n",
      "Epoch 75/200\n",
      "13/13 [==============================] - 13s 987ms/step - loss: 2.0138e-04 - iou: 0.4785 - iou_thresholded: 0.5880 - val_loss: 4.6556e-04 - val_iou: 0.4381 - val_iou_thresholded: 0.4655\n",
      "Epoch 76/200\n",
      "13/13 [==============================] - 13s 987ms/step - loss: 2.1744e-04 - iou: 0.4809 - iou_thresholded: 0.5907 - val_loss: 3.6559e-04 - val_iou: 0.4538 - val_iou_thresholded: 0.4908\n",
      "Epoch 77/200\n",
      "13/13 [==============================] - 13s 989ms/step - loss: 2.1292e-04 - iou: 0.4640 - iou_thresholded: 0.5771 - val_loss: 4.0504e-04 - val_iou: 0.4415 - val_iou_thresholded: 0.4916\n",
      "Epoch 78/200\n",
      "13/13 [==============================] - 13s 988ms/step - loss: 2.1840e-04 - iou: 0.4675 - iou_thresholded: 0.5836 - val_loss: 5.2607e-04 - val_iou: 0.4356 - val_iou_thresholded: 0.4612\n",
      "Epoch 79/200\n",
      "13/13 [==============================] - 13s 987ms/step - loss: 1.9484e-04 - iou: 0.5027 - iou_thresholded: 0.6199 - val_loss: 4.5293e-04 - val_iou: 0.4466 - val_iou_thresholded: 0.5065\n",
      "Epoch 80/200\n",
      "13/13 [==============================] - 13s 989ms/step - loss: 2.0552e-04 - iou: 0.4810 - iou_thresholded: 0.5990 - val_loss: 3.9527e-04 - val_iou: 0.4580 - val_iou_thresholded: 0.4906\n",
      "Epoch 81/200\n",
      "13/13 [==============================] - 13s 989ms/step - loss: 1.9504e-04 - iou: 0.5020 - iou_thresholded: 0.6159 - val_loss: 4.6877e-04 - val_iou: 0.4240 - val_iou_thresholded: 0.4411\n",
      "Epoch 82/200\n",
      "13/13 [==============================] - 13s 986ms/step - loss: 1.8825e-04 - iou: 0.4878 - iou_thresholded: 0.6047 - val_loss: 4.1805e-04 - val_iou: 0.4587 - val_iou_thresholded: 0.4880\n",
      "Epoch 83/200\n"
     ]
    },
    {
     "name": "stdout",
     "output_type": "stream",
     "text": [
      "13/13 [==============================] - 13s 988ms/step - loss: 1.8951e-04 - iou: 0.5110 - iou_thresholded: 0.6309 - val_loss: 4.2742e-04 - val_iou: 0.4666 - val_iou_thresholded: 0.4971\n",
      "Epoch 84/200\n",
      "13/13 [==============================] - 13s 990ms/step - loss: 1.8487e-04 - iou: 0.5219 - iou_thresholded: 0.6325 - val_loss: 4.4516e-04 - val_iou: 0.4666 - val_iou_thresholded: 0.4939\n",
      "Epoch 85/200\n",
      "13/13 [==============================] - 13s 1s/step - loss: 1.8205e-04 - iou: 0.5256 - iou_thresholded: 0.6347 - val_loss: 4.2689e-04 - val_iou: 0.4816 - val_iou_thresholded: 0.5434\n",
      "Epoch 86/200\n",
      "13/13 [==============================] - 13s 1s/step - loss: 1.9218e-04 - iou: 0.5057 - iou_thresholded: 0.6248 - val_loss: 5.2606e-04 - val_iou: 0.4621 - val_iou_thresholded: 0.4823\n",
      "Epoch 87/200\n",
      "13/13 [==============================] - 13s 989ms/step - loss: 1.7408e-04 - iou: 0.5247 - iou_thresholded: 0.6321 - val_loss: 5.4945e-04 - val_iou: 0.4446 - val_iou_thresholded: 0.4595\n",
      "Epoch 88/200\n",
      "13/13 [==============================] - 13s 987ms/step - loss: 1.7886e-04 - iou: 0.5307 - iou_thresholded: 0.6454 - val_loss: 4.6907e-04 - val_iou: 0.4550 - val_iou_thresholded: 0.4693\n",
      "Epoch 89/200\n",
      "13/13 [==============================] - 13s 992ms/step - loss: 1.7976e-04 - iou: 0.5438 - iou_thresholded: 0.6534 - val_loss: 4.4644e-04 - val_iou: 0.4704 - val_iou_thresholded: 0.5009\n",
      "Epoch 90/200\n",
      "13/13 [==============================] - 13s 987ms/step - loss: 1.7177e-04 - iou: 0.5345 - iou_thresholded: 0.6416 - val_loss: 5.5652e-04 - val_iou: 0.4509 - val_iou_thresholded: 0.4852\n",
      "Epoch 91/200\n",
      "13/13 [==============================] - 13s 989ms/step - loss: 1.6988e-04 - iou: 0.5344 - iou_thresholded: 0.6352 - val_loss: 4.6902e-04 - val_iou: 0.4844 - val_iou_thresholded: 0.5493\n",
      "Epoch 92/200\n",
      "13/13 [==============================] - 13s 997ms/step - loss: 1.7362e-04 - iou: 0.5448 - iou_thresholded: 0.6514 - val_loss: 4.7015e-04 - val_iou: 0.4930 - val_iou_thresholded: 0.5235\n",
      "Epoch 93/200\n",
      "13/13 [==============================] - 13s 987ms/step - loss: 1.5585e-04 - iou: 0.5547 - iou_thresholded: 0.6647 - val_loss: 4.8091e-04 - val_iou: 0.4884 - val_iou_thresholded: 0.5258\n",
      "Epoch 94/200\n",
      "13/13 [==============================] - 13s 989ms/step - loss: 1.5815e-04 - iou: 0.5603 - iou_thresholded: 0.6756 - val_loss: 4.6066e-04 - val_iou: 0.5007 - val_iou_thresholded: 0.5555\n",
      "Epoch 95/200\n",
      "13/13 [==============================] - 13s 989ms/step - loss: 1.5783e-04 - iou: 0.5615 - iou_thresholded: 0.6690 - val_loss: 5.7354e-04 - val_iou: 0.4862 - val_iou_thresholded: 0.5052\n",
      "Epoch 96/200\n",
      "13/13 [==============================] - 13s 987ms/step - loss: 1.6482e-04 - iou: 0.5656 - iou_thresholded: 0.6709 - val_loss: 4.3131e-04 - val_iou: 0.4946 - val_iou_thresholded: 0.5498\n",
      "Epoch 97/200\n",
      "13/13 [==============================] - 13s 989ms/step - loss: 1.4852e-04 - iou: 0.5679 - iou_thresholded: 0.6806 - val_loss: 5.3830e-04 - val_iou: 0.4969 - val_iou_thresholded: 0.5674\n",
      "Epoch 98/200\n",
      "13/13 [==============================] - 13s 990ms/step - loss: 1.5081e-04 - iou: 0.5797 - iou_thresholded: 0.6900 - val_loss: 5.3570e-04 - val_iou: 0.4875 - val_iou_thresholded: 0.5061\n",
      "Epoch 99/200\n",
      "13/13 [==============================] - 13s 1s/step - loss: 1.5709e-04 - iou: 0.5731 - iou_thresholded: 0.6702 - val_loss: 5.1255e-04 - val_iou: 0.4689 - val_iou_thresholded: 0.5603\n",
      "Epoch 100/200\n",
      "13/13 [==============================] - 13s 1s/step - loss: 1.4764e-04 - iou: 0.5680 - iou_thresholded: 0.6794 - val_loss: 5.9552e-04 - val_iou: 0.4887 - val_iou_thresholded: 0.5319\n",
      "Epoch 101/200\n",
      "13/13 [==============================] - 13s 990ms/step - loss: 1.5905e-04 - iou: 0.5621 - iou_thresholded: 0.6751 - val_loss: 5.5445e-04 - val_iou: 0.4924 - val_iou_thresholded: 0.5518\n",
      "Epoch 102/200\n",
      "13/13 [==============================] - 13s 987ms/step - loss: 1.3916e-04 - iou: 0.5941 - iou_thresholded: 0.7036 - val_loss: 7.4242e-04 - val_iou: 0.4633 - val_iou_thresholded: 0.4823\n",
      "Epoch 103/200\n",
      "13/13 [==============================] - 13s 986ms/step - loss: 1.4555e-04 - iou: 0.5832 - iou_thresholded: 0.6804 - val_loss: 5.0628e-04 - val_iou: 0.4983 - val_iou_thresholded: 0.5731\n",
      "Epoch 104/200\n",
      "13/13 [==============================] - 13s 987ms/step - loss: 1.5154e-04 - iou: 0.5953 - iou_thresholded: 0.7010 - val_loss: 4.6813e-04 - val_iou: 0.5230 - val_iou_thresholded: 0.6085\n",
      "Epoch 105/200\n",
      "13/13 [==============================] - 13s 988ms/step - loss: 1.5142e-04 - iou: 0.5673 - iou_thresholded: 0.6863 - val_loss: 6.2776e-04 - val_iou: 0.5003 - val_iou_thresholded: 0.5606\n",
      "Epoch 106/200\n",
      "13/13 [==============================] - 13s 988ms/step - loss: 1.3424e-04 - iou: 0.6004 - iou_thresholded: 0.7021 - val_loss: 6.3695e-04 - val_iou: 0.5125 - val_iou_thresholded: 0.5797\n",
      "Epoch 107/200\n",
      "13/13 [==============================] - 13s 988ms/step - loss: 1.4395e-04 - iou: 0.5748 - iou_thresholded: 0.6895 - val_loss: 6.3448e-04 - val_iou: 0.4985 - val_iou_thresholded: 0.5504\n",
      "Epoch 108/200\n",
      "13/13 [==============================] - 13s 988ms/step - loss: 1.3598e-04 - iou: 0.6256 - iou_thresholded: 0.7166 - val_loss: 6.5711e-04 - val_iou: 0.5112 - val_iou_thresholded: 0.5604\n",
      "Epoch 109/200\n",
      "13/13 [==============================] - 13s 989ms/step - loss: 1.2600e-04 - iou: 0.6086 - iou_thresholded: 0.7143 - val_loss: 8.1810e-04 - val_iou: 0.4835 - val_iou_thresholded: 0.5035\n",
      "Epoch 110/200\n",
      "13/13 [==============================] - 13s 986ms/step - loss: 1.3114e-04 - iou: 0.6166 - iou_thresholded: 0.7136 - val_loss: 7.1679e-04 - val_iou: 0.4886 - val_iou_thresholded: 0.5219\n",
      "Epoch 111/200\n",
      "13/13 [==============================] - 13s 988ms/step - loss: 1.3053e-04 - iou: 0.6143 - iou_thresholded: 0.7129 - val_loss: 7.2845e-04 - val_iou: 0.5074 - val_iou_thresholded: 0.5457\n",
      "Epoch 112/200\n",
      "13/13 [==============================] - 13s 988ms/step - loss: 1.2326e-04 - iou: 0.6345 - iou_thresholded: 0.7250 - val_loss: 6.4621e-04 - val_iou: 0.4807 - val_iou_thresholded: 0.5117\n",
      "Epoch 113/200\n",
      "13/13 [==============================] - 13s 1s/step - loss: 1.2494e-04 - iou: 0.6281 - iou_thresholded: 0.7231 - val_loss: 6.3705e-04 - val_iou: 0.5105 - val_iou_thresholded: 0.5593\n",
      "Epoch 114/200\n",
      "13/13 [==============================] - 13s 1s/step - loss: 1.2696e-04 - iou: 0.6232 - iou_thresholded: 0.7235 - val_loss: 5.6968e-04 - val_iou: 0.5155 - val_iou_thresholded: 0.5843\n",
      "Epoch 115/200\n",
      "13/13 [==============================] - 13s 988ms/step - loss: 1.2134e-04 - iou: 0.6341 - iou_thresholded: 0.7326 - val_loss: 5.9295e-04 - val_iou: 0.5153 - val_iou_thresholded: 0.5759\n",
      "Epoch 116/200\n",
      "13/13 [==============================] - 13s 989ms/step - loss: 1.2734e-04 - iou: 0.6217 - iou_thresholded: 0.7226 - val_loss: 6.6130e-04 - val_iou: 0.5235 - val_iou_thresholded: 0.5654\n",
      "Epoch 117/200\n",
      "13/13 [==============================] - 13s 988ms/step - loss: 1.1361e-04 - iou: 0.6431 - iou_thresholded: 0.7309 - val_loss: 6.9566e-04 - val_iou: 0.4962 - val_iou_thresholded: 0.5302\n",
      "Epoch 118/200\n",
      "13/13 [==============================] - 13s 987ms/step - loss: 1.1893e-04 - iou: 0.6427 - iou_thresholded: 0.7358 - val_loss: 6.7058e-04 - val_iou: 0.5192 - val_iou_thresholded: 0.5674\n",
      "Epoch 119/200\n",
      "13/13 [==============================] - 13s 990ms/step - loss: 1.1325e-04 - iou: 0.6645 - iou_thresholded: 0.7507 - val_loss: 6.1059e-04 - val_iou: 0.5361 - val_iou_thresholded: 0.5903\n",
      "Epoch 120/200\n",
      "13/13 [==============================] - 13s 988ms/step - loss: 1.1794e-04 - iou: 0.6287 - iou_thresholded: 0.7305 - val_loss: 6.5286e-04 - val_iou: 0.5270 - val_iou_thresholded: 0.5715\n",
      "Epoch 121/200\n",
      "13/13 [==============================] - 13s 988ms/step - loss: 1.1135e-04 - iou: 0.6548 - iou_thresholded: 0.7412 - val_loss: 7.6859e-04 - val_iou: 0.5217 - val_iou_thresholded: 0.5696\n",
      "Epoch 122/200\n",
      "13/13 [==============================] - 13s 990ms/step - loss: 1.1483e-04 - iou: 0.6622 - iou_thresholded: 0.7606 - val_loss: 6.5361e-04 - val_iou: 0.5226 - val_iou_thresholded: 0.5567\n",
      "Epoch 123/200\n",
      "13/13 [==============================] - 13s 989ms/step - loss: 1.1179e-04 - iou: 0.6490 - iou_thresholded: 0.7399 - val_loss: 8.3701e-04 - val_iou: 0.5101 - val_iou_thresholded: 0.5442\n",
      "Epoch 124/200\n"
     ]
    },
    {
     "name": "stdout",
     "output_type": "stream",
     "text": [
      "13/13 [==============================] - 13s 986ms/step - loss: 1.1792e-04 - iou: 0.6538 - iou_thresholded: 0.7406 - val_loss: 6.2053e-04 - val_iou: 0.4990 - val_iou_thresholded: 0.5382\n",
      "Epoch 125/200\n",
      "13/13 [==============================] - 13s 990ms/step - loss: 1.1232e-04 - iou: 0.6459 - iou_thresholded: 0.7386 - val_loss: 6.7011e-04 - val_iou: 0.5328 - val_iou_thresholded: 0.5786\n",
      "Epoch 126/200\n",
      "13/13 [==============================] - 13s 988ms/step - loss: 1.0972e-04 - iou: 0.6671 - iou_thresholded: 0.7544 - val_loss: 7.5908e-04 - val_iou: 0.5115 - val_iou_thresholded: 0.5591\n",
      "Epoch 127/200\n",
      "13/13 [==============================] - 13s 1s/step - loss: 1.0255e-04 - iou: 0.6697 - iou_thresholded: 0.7630 - val_loss: 9.3630e-04 - val_iou: 0.5098 - val_iou_thresholded: 0.5395\n",
      "Epoch 128/200\n",
      "13/13 [==============================] - 13s 1s/step - loss: 1.0523e-04 - iou: 0.6736 - iou_thresholded: 0.7584 - val_loss: 6.6212e-04 - val_iou: 0.5168 - val_iou_thresholded: 0.5684\n",
      "Epoch 129/200\n",
      "13/13 [==============================] - 13s 988ms/step - loss: 1.0904e-04 - iou: 0.6647 - iou_thresholded: 0.7490 - val_loss: 6.0395e-04 - val_iou: 0.5311 - val_iou_thresholded: 0.5876\n",
      "Epoch 130/200\n",
      "13/13 [==============================] - 13s 986ms/step - loss: 1.0684e-04 - iou: 0.6719 - iou_thresholded: 0.7617 - val_loss: 6.2183e-04 - val_iou: 0.5244 - val_iou_thresholded: 0.5796\n",
      "Epoch 131/200\n",
      "13/13 [==============================] - 13s 989ms/step - loss: 9.7544e-05 - iou: 0.6720 - iou_thresholded: 0.7616 - val_loss: 8.6207e-04 - val_iou: 0.5240 - val_iou_thresholded: 0.5620\n",
      "Epoch 132/200\n",
      "13/13 [==============================] - 13s 990ms/step - loss: 1.1404e-04 - iou: 0.6641 - iou_thresholded: 0.7604 - val_loss: 7.1927e-04 - val_iou: 0.5381 - val_iou_thresholded: 0.5872\n",
      "Epoch 133/200\n",
      "13/13 [==============================] - 13s 988ms/step - loss: 9.3541e-05 - iou: 0.6915 - iou_thresholded: 0.7764 - val_loss: 7.1026e-04 - val_iou: 0.5188 - val_iou_thresholded: 0.5610\n",
      "Epoch 134/200\n",
      "13/13 [==============================] - 13s 988ms/step - loss: 9.9767e-05 - iou: 0.6840 - iou_thresholded: 0.7752 - val_loss: 9.5175e-04 - val_iou: 0.5215 - val_iou_thresholded: 0.5641\n",
      "Epoch 135/200\n",
      "13/13 [==============================] - 13s 993ms/step - loss: 1.0155e-04 - iou: 0.6710 - iou_thresholded: 0.7612 - val_loss: 9.1923e-04 - val_iou: 0.5134 - val_iou_thresholded: 0.5408\n",
      "Epoch 136/200\n",
      "13/13 [==============================] - 13s 988ms/step - loss: 9.6929e-05 - iou: 0.6896 - iou_thresholded: 0.7764 - val_loss: 8.3811e-04 - val_iou: 0.5260 - val_iou_thresholded: 0.5736\n",
      "Epoch 137/200\n",
      "13/13 [==============================] - 13s 988ms/step - loss: 1.0476e-04 - iou: 0.6917 - iou_thresholded: 0.7705 - val_loss: 7.7064e-04 - val_iou: 0.5079 - val_iou_thresholded: 0.5590\n",
      "Epoch 138/200\n",
      "13/13 [==============================] - 13s 989ms/step - loss: 9.8377e-05 - iou: 0.6859 - iou_thresholded: 0.7726 - val_loss: 8.0665e-04 - val_iou: 0.5258 - val_iou_thresholded: 0.5750\n",
      "Epoch 139/200\n",
      "13/13 [==============================] - 13s 990ms/step - loss: 1.0931e-04 - iou: 0.6717 - iou_thresholded: 0.7564 - val_loss: 6.6509e-04 - val_iou: 0.5086 - val_iou_thresholded: 0.5738\n",
      "Epoch 140/200\n",
      "13/13 [==============================] - 13s 987ms/step - loss: 9.1110e-05 - iou: 0.6827 - iou_thresholded: 0.7707 - val_loss: 8.3755e-04 - val_iou: 0.5252 - val_iou_thresholded: 0.5608\n",
      "Epoch 141/200\n",
      "13/13 [==============================] - 13s 1s/step - loss: 9.5188e-05 - iou: 0.6944 - iou_thresholded: 0.7759 - val_loss: 7.6635e-04 - val_iou: 0.5232 - val_iou_thresholded: 0.5698\n",
      "Epoch 142/200\n",
      "13/13 [==============================] - 13s 1s/step - loss: 9.0715e-05 - iou: 0.7009 - iou_thresholded: 0.7860 - val_loss: 8.1146e-04 - val_iou: 0.5273 - val_iou_thresholded: 0.5549\n",
      "Epoch 143/200\n",
      "13/13 [==============================] - 13s 988ms/step - loss: 1.0173e-04 - iou: 0.6854 - iou_thresholded: 0.7751 - val_loss: 8.4436e-04 - val_iou: 0.5321 - val_iou_thresholded: 0.5683\n",
      "Epoch 144/200\n",
      "13/13 [==============================] - 13s 986ms/step - loss: 8.2860e-05 - iou: 0.7122 - iou_thresholded: 0.7911 - val_loss: 9.5099e-04 - val_iou: 0.5197 - val_iou_thresholded: 0.5497\n",
      "Epoch 145/200\n",
      "13/13 [==============================] - 13s 990ms/step - loss: 9.4395e-05 - iou: 0.7137 - iou_thresholded: 0.7962 - val_loss: 8.3613e-04 - val_iou: 0.5267 - val_iou_thresholded: 0.5626\n",
      "Epoch 146/200\n",
      "13/13 [==============================] - 13s 989ms/step - loss: 7.7605e-05 - iou: 0.7138 - iou_thresholded: 0.7921 - val_loss: 9.0210e-04 - val_iou: 0.5333 - val_iou_thresholded: 0.5653\n",
      "Epoch 147/200\n",
      "13/13 [==============================] - 13s 992ms/step - loss: 8.9360e-05 - iou: 0.7118 - iou_thresholded: 0.7904 - val_loss: 7.6967e-04 - val_iou: 0.5418 - val_iou_thresholded: 0.5796\n",
      "Epoch 148/200\n",
      "13/13 [==============================] - 13s 989ms/step - loss: 8.7862e-05 - iou: 0.7214 - iou_thresholded: 0.7995 - val_loss: 8.6524e-04 - val_iou: 0.5318 - val_iou_thresholded: 0.5670\n",
      "Epoch 149/200\n",
      "13/13 [==============================] - 13s 988ms/step - loss: 8.6305e-05 - iou: 0.7186 - iou_thresholded: 0.7934 - val_loss: 9.7640e-04 - val_iou: 0.5351 - val_iou_thresholded: 0.5675\n",
      "Epoch 150/200\n",
      "13/13 [==============================] - 13s 989ms/step - loss: 8.9668e-05 - iou: 0.7169 - iou_thresholded: 0.7967 - val_loss: 9.3251e-04 - val_iou: 0.5055 - val_iou_thresholded: 0.5308\n",
      "Epoch 151/200\n",
      "13/13 [==============================] - 13s 988ms/step - loss: 9.0526e-05 - iou: 0.7142 - iou_thresholded: 0.7915 - val_loss: 8.5435e-04 - val_iou: 0.5328 - val_iou_thresholded: 0.5676\n",
      "Epoch 152/200\n",
      "13/13 [==============================] - 13s 990ms/step - loss: 8.9285e-05 - iou: 0.7107 - iou_thresholded: 0.7928 - val_loss: 8.6033e-04 - val_iou: 0.5279 - val_iou_thresholded: 0.5708\n",
      "Epoch 153/200\n",
      "13/13 [==============================] - 13s 990ms/step - loss: 8.0271e-05 - iou: 0.7235 - iou_thresholded: 0.8014 - val_loss: 8.8332e-04 - val_iou: 0.5282 - val_iou_thresholded: 0.5629\n",
      "Epoch 154/200\n",
      "13/13 [==============================] - 13s 988ms/step - loss: 8.3118e-05 - iou: 0.7291 - iou_thresholded: 0.8052 - val_loss: 8.8399e-04 - val_iou: 0.5034 - val_iou_thresholded: 0.5419\n",
      "Epoch 155/200\n",
      "13/13 [==============================] - 13s 1s/step - loss: 8.3343e-05 - iou: 0.7286 - iou_thresholded: 0.8070 - val_loss: 9.4887e-04 - val_iou: 0.5147 - val_iou_thresholded: 0.5487\n",
      "Epoch 156/200\n",
      "13/13 [==============================] - 13s 1s/step - loss: 8.4904e-05 - iou: 0.7283 - iou_thresholded: 0.8043 - val_loss: 9.3515e-04 - val_iou: 0.5251 - val_iou_thresholded: 0.5563\n",
      "Epoch 157/200\n",
      "13/13 [==============================] - 13s 989ms/step - loss: 7.7718e-05 - iou: 0.7242 - iou_thresholded: 0.7982 - val_loss: 8.4297e-04 - val_iou: 0.5242 - val_iou_thresholded: 0.5612\n",
      "Epoch 158/200\n",
      "13/13 [==============================] - 13s 986ms/step - loss: 9.1589e-05 - iou: 0.7201 - iou_thresholded: 0.7995 - val_loss: 8.2335e-04 - val_iou: 0.5091 - val_iou_thresholded: 0.5418\n",
      "Epoch 159/200\n",
      "13/13 [==============================] - 13s 989ms/step - loss: 7.8056e-05 - iou: 0.7276 - iou_thresholded: 0.8086 - val_loss: 9.0269e-04 - val_iou: 0.5288 - val_iou_thresholded: 0.5585\n",
      "Epoch 160/200\n",
      "13/13 [==============================] - 13s 989ms/step - loss: 7.4654e-05 - iou: 0.7352 - iou_thresholded: 0.8115 - val_loss: 8.4192e-04 - val_iou: 0.5247 - val_iou_thresholded: 0.5551\n",
      "Epoch 161/200\n",
      "13/13 [==============================] - 13s 987ms/step - loss: 7.8631e-05 - iou: 0.7428 - iou_thresholded: 0.8243 - val_loss: 9.2040e-04 - val_iou: 0.5308 - val_iou_thresholded: 0.5598\n",
      "Epoch 162/200\n",
      "13/13 [==============================] - 13s 988ms/step - loss: 8.7418e-05 - iou: 0.7384 - iou_thresholded: 0.8150 - val_loss: 9.9172e-04 - val_iou: 0.5049 - val_iou_thresholded: 0.5383\n",
      "Epoch 163/200\n",
      "13/13 [==============================] - 13s 988ms/step - loss: 6.7946e-05 - iou: 0.7522 - iou_thresholded: 0.8237 - val_loss: 8.2912e-04 - val_iou: 0.5248 - val_iou_thresholded: 0.5520\n",
      "Epoch 164/200\n",
      "13/13 [==============================] - 13s 989ms/step - loss: 8.0214e-05 - iou: 0.7386 - iou_thresholded: 0.8133 - val_loss: 9.3654e-04 - val_iou: 0.5153 - val_iou_thresholded: 0.5391\n",
      "Epoch 165/200\n"
     ]
    },
    {
     "name": "stdout",
     "output_type": "stream",
     "text": [
      "13/13 [==============================] - 13s 986ms/step - loss: 7.8599e-05 - iou: 0.7392 - iou_thresholded: 0.8139 - val_loss: 8.8233e-04 - val_iou: 0.5315 - val_iou_thresholded: 0.5578\n",
      "Epoch 166/200\n",
      "13/13 [==============================] - 13s 989ms/step - loss: 7.7628e-05 - iou: 0.7457 - iou_thresholded: 0.8204 - val_loss: 9.1407e-04 - val_iou: 0.5348 - val_iou_thresholded: 0.5578\n",
      "Epoch 167/200\n",
      "13/13 [==============================] - 13s 995ms/step - loss: 7.1242e-05 - iou: 0.7625 - iou_thresholded: 0.8322 - val_loss: 8.7747e-04 - val_iou: 0.5196 - val_iou_thresholded: 0.5475\n",
      "Epoch 168/200\n",
      "13/13 [==============================] - 13s 987ms/step - loss: 7.8495e-05 - iou: 0.7479 - iou_thresholded: 0.8146 - val_loss: 7.1595e-04 - val_iou: 0.5429 - val_iou_thresholded: 0.5789\n",
      "Epoch 169/200\n",
      "13/13 [==============================] - 13s 1s/step - loss: 8.2384e-05 - iou: 0.7352 - iou_thresholded: 0.8092 - val_loss: 7.8869e-04 - val_iou: 0.5227 - val_iou_thresholded: 0.5451\n",
      "Epoch 170/200\n",
      "13/13 [==============================] - 13s 1s/step - loss: 7.3693e-05 - iou: 0.7363 - iou_thresholded: 0.8079 - val_loss: 9.3881e-04 - val_iou: 0.5198 - val_iou_thresholded: 0.5434\n",
      "Epoch 171/200\n",
      "13/13 [==============================] - 13s 989ms/step - loss: 9.0385e-05 - iou: 0.7220 - iou_thresholded: 0.8055 - val_loss: 0.0011 - val_iou: 0.5272 - val_iou_thresholded: 0.5540\n",
      "Epoch 172/200\n",
      "13/13 [==============================] - 13s 987ms/step - loss: 6.7450e-05 - iou: 0.7432 - iou_thresholded: 0.8158 - val_loss: 8.0777e-04 - val_iou: 0.5303 - val_iou_thresholded: 0.5642\n",
      "Epoch 173/200\n",
      "13/13 [==============================] - 13s 990ms/step - loss: 7.9620e-05 - iou: 0.7478 - iou_thresholded: 0.8231 - val_loss: 8.0372e-04 - val_iou: 0.5309 - val_iou_thresholded: 0.5692\n",
      "Epoch 174/200\n",
      "13/13 [==============================] - 13s 993ms/step - loss: 7.3418e-05 - iou: 0.7549 - iou_thresholded: 0.8262 - val_loss: 0.0010 - val_iou: 0.5213 - val_iou_thresholded: 0.5470\n",
      "Epoch 175/200\n",
      "13/13 [==============================] - 13s 988ms/step - loss: 8.0207e-05 - iou: 0.7437 - iou_thresholded: 0.8157 - val_loss: 0.0010 - val_iou: 0.5245 - val_iou_thresholded: 0.5545\n",
      "Epoch 176/200\n",
      "13/13 [==============================] - 13s 989ms/step - loss: 7.1914e-05 - iou: 0.7583 - iou_thresholded: 0.8294 - val_loss: 8.8066e-04 - val_iou: 0.5402 - val_iou_thresholded: 0.5716\n",
      "Epoch 177/200\n",
      "13/13 [==============================] - 13s 991ms/step - loss: 6.9479e-05 - iou: 0.7590 - iou_thresholded: 0.8318 - val_loss: 8.4030e-04 - val_iou: 0.5451 - val_iou_thresholded: 0.5788\n",
      "Epoch 178/200\n",
      "13/13 [==============================] - 13s 988ms/step - loss: 7.0483e-05 - iou: 0.7585 - iou_thresholded: 0.8270 - val_loss: 0.0012 - val_iou: 0.5019 - val_iou_thresholded: 0.5235\n",
      "Epoch 179/200\n",
      "13/13 [==============================] - 13s 987ms/step - loss: 6.5138e-05 - iou: 0.7760 - iou_thresholded: 0.8424 - val_loss: 8.8186e-04 - val_iou: 0.5307 - val_iou_thresholded: 0.5505\n",
      "Epoch 180/200\n",
      "13/13 [==============================] - 13s 990ms/step - loss: 6.8901e-05 - iou: 0.7708 - iou_thresholded: 0.8394 - val_loss: 9.5915e-04 - val_iou: 0.5329 - val_iou_thresholded: 0.5555\n",
      "Epoch 181/200\n",
      "13/13 [==============================] - 13s 990ms/step - loss: 6.8810e-05 - iou: 0.7706 - iou_thresholded: 0.8440 - val_loss: 0.0010 - val_iou: 0.5321 - val_iou_thresholded: 0.5548\n",
      "Epoch 182/200\n",
      "13/13 [==============================] - 13s 988ms/step - loss: 6.8065e-05 - iou: 0.7779 - iou_thresholded: 0.8389 - val_loss: 0.0010 - val_iou: 0.5449 - val_iou_thresholded: 0.5635\n",
      "Epoch 183/200\n",
      "13/13 [==============================] - 13s 1s/step - loss: 6.7340e-05 - iou: 0.7708 - iou_thresholded: 0.8404 - val_loss: 0.0011 - val_iou: 0.5257 - val_iou_thresholded: 0.5366\n",
      "Epoch 184/200\n",
      "13/13 [==============================] - 13s 1s/step - loss: 7.0343e-05 - iou: 0.7721 - iou_thresholded: 0.8375 - val_loss: 8.4456e-04 - val_iou: 0.5220 - val_iou_thresholded: 0.5520\n",
      "Epoch 185/200\n",
      "13/13 [==============================] - 13s 988ms/step - loss: 6.8480e-05 - iou: 0.7676 - iou_thresholded: 0.8415 - val_loss: 8.1808e-04 - val_iou: 0.5328 - val_iou_thresholded: 0.5623\n",
      "Epoch 186/200\n",
      "13/13 [==============================] - 13s 987ms/step - loss: 6.1415e-05 - iou: 0.7705 - iou_thresholded: 0.8429 - val_loss: 9.0186e-04 - val_iou: 0.5339 - val_iou_thresholded: 0.5521\n",
      "Epoch 187/200\n",
      "13/13 [==============================] - 13s 989ms/step - loss: 6.9516e-05 - iou: 0.7843 - iou_thresholded: 0.8477 - val_loss: 8.2660e-04 - val_iou: 0.5306 - val_iou_thresholded: 0.5641\n",
      "Epoch 188/200\n",
      "13/13 [==============================] - 13s 987ms/step - loss: 6.4170e-05 - iou: 0.7875 - iou_thresholded: 0.8569 - val_loss: 0.0010 - val_iou: 0.5316 - val_iou_thresholded: 0.5463\n",
      "Epoch 189/200\n",
      "13/13 [==============================] - 13s 988ms/step - loss: 5.3286e-05 - iou: 0.7905 - iou_thresholded: 0.8558 - val_loss: 0.0011 - val_iou: 0.5132 - val_iou_thresholded: 0.5298\n",
      "Epoch 190/200\n",
      "13/13 [==============================] - 13s 989ms/step - loss: 6.5434e-05 - iou: 0.7831 - iou_thresholded: 0.8504 - val_loss: 8.8599e-04 - val_iou: 0.5365 - val_iou_thresholded: 0.5593\n",
      "Epoch 191/200\n",
      "13/13 [==============================] - 13s 987ms/step - loss: 6.7232e-05 - iou: 0.7935 - iou_thresholded: 0.8559 - val_loss: 8.2727e-04 - val_iou: 0.5393 - val_iou_thresholded: 0.5671\n",
      "Epoch 192/200\n",
      "13/13 [==============================] - 13s 988ms/step - loss: 5.9187e-05 - iou: 0.7882 - iou_thresholded: 0.8551 - val_loss: 8.8980e-04 - val_iou: 0.5418 - val_iou_thresholded: 0.5702\n",
      "Epoch 193/200\n",
      "13/13 [==============================] - 13s 987ms/step - loss: 6.1419e-05 - iou: 0.7905 - iou_thresholded: 0.8583 - val_loss: 8.5059e-04 - val_iou: 0.5265 - val_iou_thresholded: 0.5391\n",
      "Epoch 194/200\n",
      "13/13 [==============================] - 13s 989ms/step - loss: 7.2996e-05 - iou: 0.7743 - iou_thresholded: 0.8383 - val_loss: 8.3332e-04 - val_iou: 0.5287 - val_iou_thresholded: 0.5577\n",
      "Epoch 195/200\n",
      "13/13 [==============================] - 13s 991ms/step - loss: 5.1038e-05 - iou: 0.7996 - iou_thresholded: 0.8620 - val_loss: 0.0011 - val_iou: 0.5391 - val_iou_thresholded: 0.5545\n",
      "Epoch 196/200\n",
      "13/13 [==============================] - 13s 988ms/step - loss: 6.2520e-05 - iou: 0.7944 - iou_thresholded: 0.8545 - val_loss: 0.0010 - val_iou: 0.5423 - val_iou_thresholded: 0.5671\n",
      "Epoch 197/200\n",
      "13/13 [==============================] - 13s 1s/step - loss: 5.6615e-05 - iou: 0.8013 - iou_thresholded: 0.8651 - val_loss: 9.4258e-04 - val_iou: 0.5304 - val_iou_thresholded: 0.5547\n",
      "Epoch 198/200\n",
      "13/13 [==============================] - 13s 1s/step - loss: 5.9987e-05 - iou: 0.7982 - iou_thresholded: 0.8630 - val_loss: 0.0011 - val_iou: 0.5130 - val_iou_thresholded: 0.5256\n",
      "Epoch 199/200\n",
      "13/13 [==============================] - 13s 988ms/step - loss: 5.7142e-05 - iou: 0.8020 - iou_thresholded: 0.8570 - val_loss: 9.6620e-04 - val_iou: 0.5383 - val_iou_thresholded: 0.5542\n",
      "Epoch 200/200\n",
      "13/13 [==============================] - 13s 987ms/step - loss: 5.9231e-05 - iou: 0.7971 - iou_thresholded: 0.8618 - val_loss: 0.0010 - val_iou: 0.5595 - val_iou_thresholded: 0.5835\n"
     ]
    }
   ],
   "source": [
    "model, history = C.Helper.train_unet(X_train_set, y_train_set, X_val, y_val, model, epochs=200)"
   ]
  },
  {
   "cell_type": "code",
   "execution_count": 35,
   "id": "7bc51703",
   "metadata": {},
   "outputs": [
    {
     "data": {
      "image/png": "[encoded data removed]",
      "text/plain": [
       "<Figure size 864x432 with 1 Axes>"
      ]
     },
     "metadata": {
      "needs_background": "light"
     },
     "output_type": "display_data"
    },
    {
     "data": {
      "image/png": "[encoded data removed]",
      "text/plain": [
       "<Figure size 864x432 with 1 Axes>"
      ]
     },
     "metadata": {
      "needs_background": "light"
     },
     "output_type": "display_data"
    }
   ],
   "source": [
    "C.Helper.visualize_graph(history)"
   ]
  },
  {
   "cell_type": "code",
   "execution_count": 36,
   "id": "2b9f9190",
   "metadata": {},
   "outputs": [],
   "source": [
    "y_pred = C.Helper.prediction(test_images_array, model)"
   ]
  },
  {
   "cell_type": "code",
   "execution_count": 44,
   "id": "85b46673",
   "metadata": {
    "scrolled": true
   },
   "outputs": [
    {
     "data": {
      "image/png": "[encoded data removed]",
      "text/plain": [
       "<Figure size 1152x1440 with 20 Axes>"
      ]
     },
     "metadata": {
      "needs_background": "light"
     },
     "output_type": "display_data"
    }
   ],
   "source": [
    "C.Helper.visualize_result(test_images_array, y_test, y_pred)"
   ]
  },
  {
   "cell_type": "code",
   "execution_count": 38,
   "id": "9a236ee4",
   "metadata": {},
   "outputs": [
    {
     "name": "stdout",
     "output_type": "stream",
     "text": [
      "108/108 [==============================] - 24s 221ms/step - loss: 3.1781e-04 - iou: 0.1528 - iou_thresholded: 0.5383\n"
     ]
    }
   ],
   "source": [
    "C.Helper.evaluate(test_images_array, y_test, model)"
   ]
  },
  {
   "cell_type": "code",
   "execution_count": null,
   "id": "f18f18a7",
   "metadata": {},
   "outputs": [],
   "source": []
  },
  {
   "cell_type": "code",
   "execution_count": null,
   "id": "9633f74e",
   "metadata": {},
   "outputs": [],
   "source": []
  },
  {
   "cell_type": "code",
   "execution_count": null,
   "id": "230dbf69",
   "metadata": {},
   "outputs": [],
   "source": []
  },
  {
   "cell_type": "code",
   "execution_count": null,
   "id": "91bf77f5",
   "metadata": {},
   "outputs": [],
   "source": []
  },
  {
   "cell_type": "code",
   "execution_count": null,
   "id": "5bf8aa51",
   "metadata": {},
   "outputs": [],
   "source": []
  },
  {
   "cell_type": "code",
   "execution_count": null,
   "id": "5e73cc60",
   "metadata": {},
   "outputs": [],
   "source": []
  },
  {
   "cell_type": "code",
   "execution_count": null,
   "id": "da3bb108",
   "metadata": {},
   "outputs": [],
   "source": []
  },
  {
   "cell_type": "code",
   "execution_count": null,
   "id": "2e3df05d",
   "metadata": {},
   "outputs": [],
   "source": []
  }
 ],
 "metadata": {
  "kernelspec": {
   "display_name": "Python 3 (ipykernel)",
   "language": "python",
   "name": "python3"
  },
  "language_info": {
   "codemirror_mode": {
    "name": "ipython",
    "version": 3
   },
   "file_extension": ".py",
   "mimetype": "text/x-python",
   "name": "python",
   "nbconvert_exporter": "python",
   "pygments_lexer": "ipython3",
   "version": "3.9.7"
  }
 },
 "nbformat": 4,
 "nbformat_minor": 5
}
