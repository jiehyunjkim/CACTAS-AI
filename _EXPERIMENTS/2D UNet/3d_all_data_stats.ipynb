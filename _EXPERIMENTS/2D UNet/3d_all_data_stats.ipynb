{
 "cells": [
  {
   "cell_type": "code",
   "execution_count": 1,
   "id": "8f44d525",
   "metadata": {},
   "outputs": [],
   "source": [
    "import numpy as np\n",
    "import pandas as pd\n",
    "import matplotlib.pyplot as plt\n",
    "import seaborn as sns\n",
    "import os"
   ]
  },
  {
   "cell_type": "code",
   "execution_count": 2,
   "id": "94456cdc",
   "metadata": {},
   "outputs": [],
   "source": [
    "ious = []\n",
    "for file in os.listdir('/raid/mpsych/CACTAS/DATA/SCAN_DATA/Data/Results/Metrics/'):\n",
    "    #print(file)\n",
    "    df = pd.read_csv(r'/raid/mpsych/CACTAS/DATA/SCAN_DATA/Data/Results/Metrics/'+file, header=None) \n",
    "    best_iou = np.array(df.sort_values(by=0, ascending=False).iloc[0])\n",
    "    ious.append(best_iou)"
   ]
  },
  {
   "cell_type": "code",
   "execution_count": null,
   "id": "36aec0a1",
   "metadata": {},
   "outputs": [],
   "source": []
  },
  {
   "cell_type": "code",
   "execution_count": 3,
   "id": "c2fbe50b",
   "metadata": {},
   "outputs": [],
   "source": [
    "ious = np.array(ious)"
   ]
  },
  {
   "cell_type": "code",
   "execution_count": 4,
   "id": "53a411e3",
   "metadata": {},
   "outputs": [
    {
     "data": {
      "text/plain": [
       "array([[7.14689266e-01, 8.33607908e-01, 8.34295136e-01, 8.32921811e-01],\n",
       "       [1.29032258e-12, 0.00000000e+00, 0.00000000e+00, 0.00000000e+00],\n",
       "       [2.36734694e-01, 3.82838284e-01, 2.69141531e-01, 6.62857143e-01],\n",
       "       [7.21689060e-01, 8.38350056e-01, 8.65860679e-01, 8.12533766e-01],\n",
       "       [6.84027778e-01, 8.12371134e-01, 8.47311828e-01, 7.80198020e-01],\n",
       "       [6.50124069e-01, 7.87969925e-01, 7.34922861e-01, 8.49270665e-01],\n",
       "       [4.76056338e-01, 6.45038168e-01, 5.31685393e-01, 8.19819820e-01]])"
      ]
     },
     "execution_count": 4,
     "metadata": {},
     "output_type": "execute_result"
    }
   ],
   "source": [
    "ious"
   ]
  },
  {
   "cell_type": "code",
   "execution_count": 5,
   "id": "d02119e6",
   "metadata": {},
   "outputs": [],
   "source": [
    "rounded_arr = np.round(ious, 4)"
   ]
  },
  {
   "cell_type": "code",
   "execution_count": 6,
   "id": "54246c0e",
   "metadata": {},
   "outputs": [
    {
     "data": {
      "text/plain": [
       "array([[0.7147, 0.8336, 0.8343, 0.8329],\n",
       "       [0.    , 0.    , 0.    , 0.    ],\n",
       "       [0.2367, 0.3828, 0.2691, 0.6629],\n",
       "       [0.7217, 0.8384, 0.8659, 0.8125],\n",
       "       [0.684 , 0.8124, 0.8473, 0.7802],\n",
       "       [0.6501, 0.788 , 0.7349, 0.8493],\n",
       "       [0.4761, 0.645 , 0.5317, 0.8198]])"
      ]
     },
     "execution_count": 6,
     "metadata": {},
     "output_type": "execute_result"
    }
   ],
   "source": [
    "rounded_arr"
   ]
  },
  {
   "cell_type": "code",
   "execution_count": null,
   "id": "d18dcff3",
   "metadata": {},
   "outputs": [],
   "source": []
  },
  {
   "cell_type": "code",
   "execution_count": 7,
   "id": "bfa3af8b",
   "metadata": {},
   "outputs": [
    {
     "name": "stdout",
     "output_type": "stream",
     "text": [
      "0.4976173148861728\n",
      "0.6143107820117464\n",
      "0.583316775577512\n",
      "0.6796573176015943\n"
     ]
    }
   ],
   "source": [
    "print(np.mean(ious[:,0]))\n",
    "print(np.mean(ious[:,1]))\n",
    "print(np.mean(ious[:,2]))\n",
    "print(np.mean(ious[:,3]))"
   ]
  },
  {
   "cell_type": "code",
   "execution_count": null,
   "id": "297ea524",
   "metadata": {},
   "outputs": [],
   "source": []
  },
  {
   "cell_type": "code",
   "execution_count": 8,
   "id": "95a216e9",
   "metadata": {},
   "outputs": [
    {
     "data": {
      "image/png": "[encoded data removed]",
      "text/plain": [
       "<Figure size 1440x360 with 4 Axes>"
      ]
     },
     "metadata": {
      "needs_background": "light"
     },
     "output_type": "display_data"
    }
   ],
   "source": [
    "fig, axes = plt.subplots(1, 4, figsize=(20,5))\n",
    "titles = ['IoU', 'F1', 'Sensitivity', 'Precision']\n",
    "ymaxes = [11, 13, 7, 14]\n",
    "\n",
    "for i in range(0, 4):\n",
    "    sns.histplot(ax=axes[i], data=ious[:,i], bins = 15)\n",
    "    axes[i].plot([np.mean(ious[:,i]), np.mean(ious[:,i])], [ymaxes[i], 0], linewidth=2, color='r')\n",
    "    axes[i].text(np.mean(ious[:,i])-0.25, ymaxes[i], 'Mean: '+str(np.round(np.mean(ious[:,i]),2)))\n",
    "    axes[i].set_title(titles[i])\n",
    "    axes[i].set_xlim(0, 1)"
   ]
  },
  {
   "cell_type": "code",
   "execution_count": null,
   "id": "006e1937",
   "metadata": {},
   "outputs": [],
   "source": []
  },
  {
   "cell_type": "code",
   "execution_count": null,
   "id": "be89c5f4",
   "metadata": {},
   "outputs": [],
   "source": []
  },
  {
   "cell_type": "code",
   "execution_count": 9,
   "id": "141082bd",
   "metadata": {},
   "outputs": [],
   "source": [
    "#### removed 2nd one ####"
   ]
  },
  {
   "cell_type": "code",
   "execution_count": 10,
   "id": "b573b0be",
   "metadata": {},
   "outputs": [],
   "source": [
    "summation_iou = np.sum(ious[:,0])"
   ]
  },
  {
   "cell_type": "code",
   "execution_count": 11,
   "id": "c0749aee",
   "metadata": {},
   "outputs": [],
   "source": [
    "average_iou = summation_iou / 6"
   ]
  },
  {
   "cell_type": "code",
   "execution_count": 12,
   "id": "fb78f727",
   "metadata": {},
   "outputs": [
    {
     "data": {
      "text/plain": [
       "0.5805535340338682"
      ]
     },
     "execution_count": 12,
     "metadata": {},
     "output_type": "execute_result"
    }
   ],
   "source": [
    "average_iou"
   ]
  },
  {
   "cell_type": "code",
   "execution_count": 13,
   "id": "89c1dae6",
   "metadata": {},
   "outputs": [],
   "source": [
    "#########################"
   ]
  },
  {
   "cell_type": "code",
   "execution_count": null,
   "id": "2c2ac04b",
   "metadata": {},
   "outputs": [],
   "source": []
  }
 ],
 "metadata": {
  "kernelspec": {
   "display_name": "Python 3 (ipykernel)",
   "language": "python",
   "name": "python3"
  },
  "language_info": {
   "codemirror_mode": {
    "name": "ipython",
    "version": 3
   },
   "file_extension": ".py",
   "mimetype": "text/x-python",
   "name": "python",
   "nbconvert_exporter": "python",
   "pygments_lexer": "ipython3",
   "version": "3.9.7"
  }
 },
 "nbformat": 4,
 "nbformat_minor": 5
}
