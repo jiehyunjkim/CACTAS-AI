{
 "cells": [
  {
   "cell_type": "code",
   "execution_count": 1,
   "id": "5eebebed",
   "metadata": {},
   "outputs": [
    {
     "name": "stdout",
     "output_type": "stream",
     "text": [
      "Populating the interactive namespace from numpy and matplotlib\n"
     ]
    }
   ],
   "source": [
    "%pylab inline\n",
    "%load_ext autoreload\n",
    "%autoreload 2"
   ]
  },
  {
   "cell_type": "code",
   "execution_count": 2,
   "id": "1db43f95",
   "metadata": {},
   "outputs": [
    {
     "name": "stderr",
     "output_type": "stream",
     "text": [
      "2024-05-15 18:50:13.491946: I tensorflow/stream_executor/platform/default/dso_loader.cc:53] Successfully opened dynamic library libcudart.so.11.0\n"
     ]
    }
   ],
   "source": [
    "import cactas as C\n",
    "import os\n",
    "import mahotas as mh\n",
    "import nibabel as nib\n",
    "import nrrd\n",
    "import skimage.morphology\n",
    "import cv2\n",
    "from skimage.filters import threshold_otsu"
   ]
  },
  {
   "cell_type": "code",
   "execution_count": 3,
   "id": "3a25db15",
   "metadata": {
    "scrolled": true
   },
   "outputs": [
    {
     "name": "stdout",
     "output_type": "stream",
     "text": [
      "WARNING:tensorflow:From /tmp/ipykernel_1850068/392601943.py:2: is_gpu_available (from tensorflow.python.framework.test_util) is deprecated and will be removed in a future version.\n",
      "Instructions for updating:\n",
      "Use `tf.config.list_physical_devices('GPU')` instead.\n"
     ]
    },
    {
     "name": "stderr",
     "output_type": "stream",
     "text": [
      "2024-05-15 18:50:15.305000: I tensorflow/core/platform/cpu_feature_guard.cc:142] This TensorFlow binary is optimized with oneAPI Deep Neural Network Library (oneDNN) to use the following CPU instructions in performance-critical operations:  AVX2 FMA\n",
      "To enable them in other operations, rebuild TensorFlow with the appropriate compiler flags.\n",
      "2024-05-15 18:50:15.306163: I tensorflow/stream_executor/platform/default/dso_loader.cc:53] Successfully opened dynamic library libcuda.so.1\n",
      "2024-05-15 18:50:15.645146: I tensorflow/core/common_runtime/gpu/gpu_device.cc:1733] Found device 0 with properties: \n",
      "pciBusID: 0000:47:00.0 name: A100-SXM4-40GB computeCapability: 8.0\n",
      "coreClock: 1.41GHz coreCount: 108 deviceMemorySize: 39.59GiB deviceMemoryBandwidth: 1.41TiB/s\n",
      "2024-05-15 18:50:15.647682: I tensorflow/core/common_runtime/gpu/gpu_device.cc:1733] Found device 1 with properties: \n",
      "pciBusID: 0000:4e:00.0 name: A100-SXM4-40GB computeCapability: 8.0\n",
      "coreClock: 1.41GHz coreCount: 108 deviceMemorySize: 39.59GiB deviceMemoryBandwidth: 1.41TiB/s\n",
      "2024-05-15 18:50:15.647730: I tensorflow/stream_executor/platform/default/dso_loader.cc:53] Successfully opened dynamic library libcudart.so.11.0\n",
      "2024-05-15 18:50:15.651045: I tensorflow/stream_executor/platform/default/dso_loader.cc:53] Successfully opened dynamic library libcublas.so.11\n",
      "2024-05-15 18:50:15.651089: I tensorflow/stream_executor/platform/default/dso_loader.cc:53] Successfully opened dynamic library libcublasLt.so.11\n",
      "2024-05-15 18:50:15.652096: I tensorflow/stream_executor/platform/default/dso_loader.cc:53] Successfully opened dynamic library libcufft.so.10\n",
      "2024-05-15 18:50:15.652657: I tensorflow/stream_executor/platform/default/dso_loader.cc:53] Successfully opened dynamic library libcurand.so.10\n",
      "2024-05-15 18:50:15.653365: I tensorflow/stream_executor/platform/default/dso_loader.cc:53] Successfully opened dynamic library libcusolver.so.11\n",
      "2024-05-15 18:50:15.654255: I tensorflow/stream_executor/platform/default/dso_loader.cc:53] Successfully opened dynamic library libcusparse.so.11\n",
      "2024-05-15 18:50:15.654743: I tensorflow/stream_executor/platform/default/dso_loader.cc:53] Successfully opened dynamic library libcudnn.so.8\n",
      "2024-05-15 18:50:15.664832: I tensorflow/core/common_runtime/gpu/gpu_device.cc:1871] Adding visible gpu devices: 0, 1\n",
      "2024-05-15 18:50:15.664862: I tensorflow/stream_executor/platform/default/dso_loader.cc:53] Successfully opened dynamic library libcudart.so.11.0\n",
      "2024-05-15 18:50:16.367097: I tensorflow/core/common_runtime/gpu/gpu_device.cc:1258] Device interconnect StreamExecutor with strength 1 edge matrix:\n",
      "2024-05-15 18:50:16.367148: I tensorflow/core/common_runtime/gpu/gpu_device.cc:1264]      0 1 \n",
      "2024-05-15 18:50:16.367155: I tensorflow/core/common_runtime/gpu/gpu_device.cc:1277] 0:   N Y \n",
      "2024-05-15 18:50:16.367159: I tensorflow/core/common_runtime/gpu/gpu_device.cc:1277] 1:   Y N \n",
      "2024-05-15 18:50:16.380263: I tensorflow/core/common_runtime/gpu/gpu_device.cc:1418] Created TensorFlow device (/device:GPU:0 with 38425 MB memory) -> physical GPU (device: 0, name: A100-SXM4-40GB, pci bus id: 0000:47:00.0, compute capability: 8.0)\n",
      "2024-05-15 18:50:16.383006: I tensorflow/core/common_runtime/gpu/gpu_device.cc:1418] Created TensorFlow device (/device:GPU:1 with 38425 MB memory) -> physical GPU (device: 1, name: A100-SXM4-40GB, pci bus id: 0000:4e:00.0, compute capability: 8.0)\n"
     ]
    },
    {
     "data": {
      "text/plain": [
       "True"
      ]
     },
     "execution_count": 3,
     "metadata": {},
     "output_type": "execute_result"
    }
   ],
   "source": [
    "import tensorflow as tf\n",
    "gpu_available = tf.test.is_gpu_available()\n",
    "gpu_available"
   ]
  },
  {
   "cell_type": "code",
   "execution_count": null,
   "id": "c7599e1d",
   "metadata": {},
   "outputs": [],
   "source": []
  },
  {
   "cell_type": "code",
   "execution_count": 4,
   "id": "ca9de1bc",
   "metadata": {},
   "outputs": [],
   "source": [
    "DATAPATH='/raid/mpsych/CACTAS/DATA/ESUS'\n",
    "CAPATH='/raid/mpsych/CACTAS/DATA/CA24'"
   ]
  },
  {
   "cell_type": "code",
   "execution_count": null,
   "id": "92be68f5",
   "metadata": {},
   "outputs": [],
   "source": []
  },
  {
   "cell_type": "code",
   "execution_count": 5,
   "id": "c2588b51",
   "metadata": {},
   "outputs": [],
   "source": [
    "images, labels = C.Helper.load_data(DATAPATH)"
   ]
  },
  {
   "cell_type": "code",
   "execution_count": 6,
   "id": "7881f480",
   "metadata": {},
   "outputs": [],
   "source": [
    "masks = C.Helper.load_seg_data(CAPATH)"
   ]
  },
  {
   "cell_type": "code",
   "execution_count": 7,
   "id": "7088d2a3",
   "metadata": {},
   "outputs": [],
   "source": [
    "X_train, y_train, m_train, X_test, y_test, m_test = C.Helper.split_patients_masks(images, labels, masks)"
   ]
  },
  {
   "cell_type": "code",
   "execution_count": 8,
   "id": "c81ee490",
   "metadata": {},
   "outputs": [],
   "source": [
    "X_train, y_train, m_train, X_test, y_test, m_test = C.Helper.normalization2(DATAPATH, CAPATH, X_train, y_train, m_train, X_test, y_test, m_test)"
   ]
  },
  {
   "cell_type": "code",
   "execution_count": 9,
   "id": "b2d8df93",
   "metadata": {},
   "outputs": [],
   "source": [
    "slice_to_patient_mapping, last_key = C.Helper.map_and_key_fulldata(y_train)"
   ]
  },
  {
   "cell_type": "code",
   "execution_count": 10,
   "id": "4a7a7896",
   "metadata": {},
   "outputs": [
    {
     "data": {
      "text/plain": [
       "10370"
      ]
     },
     "execution_count": 10,
     "metadata": {},
     "output_type": "execute_result"
    }
   ],
   "source": [
    "last_key"
   ]
  },
  {
   "cell_type": "code",
   "execution_count": 11,
   "id": "d00b1ce9",
   "metadata": {},
   "outputs": [
    {
     "name": "stdout",
     "output_type": "stream",
     "text": [
      "(13140, 512, 512, 1) (13140, 512, 512, 1) (3626, 512, 512, 1) (3626, 512, 512, 1)\n"
     ]
    }
   ],
   "source": [
    "X_train, y_train, X_test, y_test = C.Helper.extract_slices(X_train, y_train, X_test, y_test)"
   ]
  },
  {
   "cell_type": "code",
   "execution_count": 12,
   "id": "4034ad93",
   "metadata": {},
   "outputs": [
    {
     "name": "stdout",
     "output_type": "stream",
     "text": [
      "(13140, 512, 512, 1) (3626, 512, 512, 1)\n"
     ]
    }
   ],
   "source": [
    "m_train, m_test = C.Helper.extract_masks_slices(m_train, m_test)"
   ]
  },
  {
   "cell_type": "code",
   "execution_count": null,
   "id": "e47b39dd",
   "metadata": {},
   "outputs": [],
   "source": []
  },
  {
   "cell_type": "code",
   "execution_count": 13,
   "id": "3692ec60",
   "metadata": {},
   "outputs": [],
   "source": [
    "train_masks=[]\n",
    "for i in range(len(m_train)):\n",
    "    binary = (m_train[i] > 0).astype(np.uint8)\n",
    "    train_masks.append(binary)"
   ]
  },
  {
   "cell_type": "code",
   "execution_count": 14,
   "id": "28b56250",
   "metadata": {},
   "outputs": [],
   "source": [
    "train_images=[]\n",
    "for i in range(len(X_train)):\n",
    "    train_image = X_train[i] * train_masks[i]\n",
    "    train_images.append(train_image)\n",
    "train_images_array = np.array(train_images)"
   ]
  },
  {
   "cell_type": "code",
   "execution_count": 15,
   "id": "1a7a746e",
   "metadata": {},
   "outputs": [],
   "source": [
    "train_images_array = train_images_array.astype(np.float32)"
   ]
  },
  {
   "cell_type": "code",
   "execution_count": 16,
   "id": "02a618b7",
   "metadata": {},
   "outputs": [],
   "source": [
    "train_images_array = train_images_array.reshape(train_images_array.shape[0], train_images_array.shape[1],train_images_array.shape[2], 1)"
   ]
  },
  {
   "cell_type": "code",
   "execution_count": null,
   "id": "050bc38c",
   "metadata": {},
   "outputs": [],
   "source": []
  },
  {
   "cell_type": "code",
   "execution_count": 17,
   "id": "3a3d4f47",
   "metadata": {},
   "outputs": [],
   "source": [
    "test_masks=[]\n",
    "for i in range(len(m_test)):\n",
    "    binary = (m_test[i] > 0).astype(np.uint8)\n",
    "    test_masks.append(binary)"
   ]
  },
  {
   "cell_type": "code",
   "execution_count": 18,
   "id": "c08c1bc9",
   "metadata": {},
   "outputs": [],
   "source": [
    "test_images=[]\n",
    "for i in range(len(X_test)):\n",
    "    test_image = X_test[i] * test_masks[i]\n",
    "    test_images.append(test_image)\n",
    "test_images_array = np.array(test_images)"
   ]
  },
  {
   "cell_type": "code",
   "execution_count": 19,
   "id": "229a751d",
   "metadata": {},
   "outputs": [],
   "source": [
    "test_images_array = test_images_array.astype(np.float32)"
   ]
  },
  {
   "cell_type": "code",
   "execution_count": 20,
   "id": "9ef54dea",
   "metadata": {},
   "outputs": [],
   "source": [
    "test_images_array = test_images_array.reshape(test_images_array.shape[0], test_images_array.shape[1],test_images_array.shape[2], 1)"
   ]
  },
  {
   "cell_type": "code",
   "execution_count": 21,
   "id": "7d9bea09",
   "metadata": {},
   "outputs": [],
   "source": [
    "X_train_set = train_images_array[:last_key]\n",
    "y_train_set = y_train[:last_key]\n",
    "X_val = train_images_array[last_key:]\n",
    "y_val = y_train[last_key:]"
   ]
  },
  {
   "cell_type": "code",
   "execution_count": null,
   "id": "34dd6c88",
   "metadata": {},
   "outputs": [],
   "source": []
  },
  {
   "cell_type": "code",
   "execution_count": 22,
   "id": "c001a494",
   "metadata": {
    "scrolled": true
   },
   "outputs": [
    {
     "name": "stdout",
     "output_type": "stream",
     "text": [
      "-----------------------------------------\n",
      "keras-unet init: TF version is >= 2.0.0 - using `tf.keras` instead of `Keras`\n",
      "-----------------------------------------\n"
     ]
    },
    {
     "name": "stderr",
     "output_type": "stream",
     "text": [
      "2024-05-15 18:53:37.886588: I tensorflow/core/common_runtime/gpu/gpu_device.cc:1733] Found device 0 with properties: \n",
      "pciBusID: 0000:47:00.0 name: A100-SXM4-40GB computeCapability: 8.0\n",
      "coreClock: 1.41GHz coreCount: 108 deviceMemorySize: 39.59GiB deviceMemoryBandwidth: 1.41TiB/s\n",
      "2024-05-15 18:53:37.889132: I tensorflow/core/common_runtime/gpu/gpu_device.cc:1733] Found device 1 with properties: \n",
      "pciBusID: 0000:4e:00.0 name: A100-SXM4-40GB computeCapability: 8.0\n",
      "coreClock: 1.41GHz coreCount: 108 deviceMemorySize: 39.59GiB deviceMemoryBandwidth: 1.41TiB/s\n",
      "2024-05-15 18:53:37.898930: I tensorflow/core/common_runtime/gpu/gpu_device.cc:1871] Adding visible gpu devices: 0, 1\n",
      "2024-05-15 18:53:37.902030: I tensorflow/core/common_runtime/gpu/gpu_device.cc:1733] Found device 0 with properties: \n",
      "pciBusID: 0000:47:00.0 name: A100-SXM4-40GB computeCapability: 8.0\n",
      "coreClock: 1.41GHz coreCount: 108 deviceMemorySize: 39.59GiB deviceMemoryBandwidth: 1.41TiB/s\n",
      "2024-05-15 18:53:37.904513: I tensorflow/core/common_runtime/gpu/gpu_device.cc:1733] Found device 1 with properties: \n",
      "pciBusID: 0000:4e:00.0 name: A100-SXM4-40GB computeCapability: 8.0\n",
      "coreClock: 1.41GHz coreCount: 108 deviceMemorySize: 39.59GiB deviceMemoryBandwidth: 1.41TiB/s\n",
      "2024-05-15 18:53:37.914359: I tensorflow/core/common_runtime/gpu/gpu_device.cc:1871] Adding visible gpu devices: 0, 1\n",
      "2024-05-15 18:53:37.914413: I tensorflow/core/common_runtime/gpu/gpu_device.cc:1258] Device interconnect StreamExecutor with strength 1 edge matrix:\n",
      "2024-05-15 18:53:37.914418: I tensorflow/core/common_runtime/gpu/gpu_device.cc:1264]      0 1 \n",
      "2024-05-15 18:53:37.914422: I tensorflow/core/common_runtime/gpu/gpu_device.cc:1277] 0:   N Y \n",
      "2024-05-15 18:53:37.914426: I tensorflow/core/common_runtime/gpu/gpu_device.cc:1277] 1:   Y N \n",
      "2024-05-15 18:53:37.921844: I tensorflow/core/common_runtime/gpu/gpu_device.cc:1418] Created TensorFlow device (/job:localhost/replica:0/task:0/device:GPU:0 with 38425 MB memory) -> physical GPU (device: 0, name: A100-SXM4-40GB, pci bus id: 0000:47:00.0, compute capability: 8.0)\n",
      "2024-05-15 18:53:37.924321: I tensorflow/core/common_runtime/gpu/gpu_device.cc:1418] Created TensorFlow device (/job:localhost/replica:0/task:0/device:GPU:1 with 38425 MB memory) -> physical GPU (device: 1, name: A100-SXM4-40GB, pci bus id: 0000:4e:00.0, compute capability: 8.0)\n"
     ]
    }
   ],
   "source": [
    "model = C.Helper.create_unet(X_train_set[0].shape)"
   ]
  },
  {
   "cell_type": "code",
   "execution_count": 23,
   "id": "f889cdd0",
   "metadata": {
    "scrolled": true
   },
   "outputs": [
    {
     "name": "stderr",
     "output_type": "stream",
     "text": [
      "2024-05-15 18:53:42.401174: I tensorflow/compiler/mlir/mlir_graph_optimization_pass.cc:176] None of the MLIR Optimization Passes are enabled (registered 2)\n",
      "2024-05-15 18:53:42.422765: I tensorflow/core/platform/profile_utils/cpu_utils.cc:114] CPU Frequency: 2245740000 Hz\n"
     ]
    },
    {
     "name": "stdout",
     "output_type": "stream",
     "text": [
      "Epoch 1/200\n"
     ]
    },
    {
     "name": "stderr",
     "output_type": "stream",
     "text": [
      "2024-05-15 18:53:44.061957: I tensorflow/stream_executor/platform/default/dso_loader.cc:53] Successfully opened dynamic library libcudnn.so.8\n",
      "2024-05-15 18:53:44.858256: I tensorflow/stream_executor/cuda/cuda_dnn.cc:359] Loaded cuDNN version 8201\n",
      "2024-05-15 18:53:45.879254: W tensorflow/stream_executor/gpu/asm_compiler.cc:191] Falling back to the CUDA driver for PTX compilation; ptxas does not support CC 8.0\n",
      "2024-05-15 18:53:45.879278: W tensorflow/stream_executor/gpu/asm_compiler.cc:194] Used ptxas at ptxas\n",
      "2024-05-15 18:53:45.879634: W tensorflow/stream_executor/gpu/redzone_allocator.cc:314] Unimplemented: ptxas ptxas too old. Falling back to the driver to compile.\n",
      "Relying on driver to perform ptx compilation. \n",
      "Modify $PATH to customize ptxas location.\n",
      "This message will be only logged once.\n",
      "2024-05-15 18:53:45.965540: I tensorflow/stream_executor/platform/default/dso_loader.cc:53] Successfully opened dynamic library libcublas.so.11\n",
      "2024-05-15 18:53:46.983392: I tensorflow/stream_executor/platform/default/dso_loader.cc:53] Successfully opened dynamic library libcublasLt.so.11\n"
     ]
    },
    {
     "name": "stdout",
     "output_type": "stream",
     "text": [
      "648/648 [==============================] - 324s 479ms/step - loss: 0.0924 - iou: 4.7277e-05 - iou_thresholded: 0.2916 - val_loss: 0.0034 - val_iou: 1.0072e-04 - val_iou_thresholded: 0.8695\n",
      "Epoch 2/200\n",
      "648/648 [==============================] - 293s 450ms/step - loss: 0.0016 - iou: 2.9942e-04 - iou_thresholded: 0.4418 - val_loss: 9.6398e-04 - val_iou: 2.9811e-04 - val_iou_thresholded: 0.9053\n",
      "Epoch 3/200\n",
      "648/648 [==============================] - 291s 449ms/step - loss: 5.7887e-04 - iou: 8.5178e-04 - iou_thresholded: 0.3753 - val_loss: 3.4133e-04 - val_iou: 8.8433e-04 - val_iou_thresholded: 0.8893\n",
      "Epoch 4/200\n",
      "648/648 [==============================] - 291s 449ms/step - loss: 3.1469e-04 - iou: 0.0020 - iou_thresholded: 0.4041 - val_loss: 2.0381e-04 - val_iou: 0.0023 - val_iou_thresholded: 0.8497\n",
      "Epoch 5/200\n",
      "648/648 [==============================] - 291s 449ms/step - loss: 2.0970e-04 - iou: 0.0039 - iou_thresholded: 0.3918 - val_loss: 1.6241e-04 - val_iou: 0.0021 - val_iou_thresholded: 0.9053\n",
      "Epoch 6/200\n",
      "648/648 [==============================] - 291s 449ms/step - loss: 1.4019e-04 - iou: 0.0038 - iou_thresholded: 0.4540 - val_loss: 9.9433e-05 - val_iou: 0.0039 - val_iou_thresholded: 0.9053\n",
      "Epoch 7/200\n",
      "648/648 [==============================] - 291s 449ms/step - loss: 1.0346e-04 - iou: 0.0072 - iou_thresholded: 0.4183 - val_loss: 6.9516e-05 - val_iou: 0.0062 - val_iou_thresholded: 0.9053\n",
      "Epoch 8/200\n",
      "648/648 [==============================] - 291s 449ms/step - loss: 8.2437e-05 - iou: 0.0112 - iou_thresholded: 0.4230 - val_loss: 5.2156e-05 - val_iou: 0.0094 - val_iou_thresholded: 0.9015\n",
      "Epoch 9/200\n",
      "648/648 [==============================] - 291s 449ms/step - loss: 6.9933e-05 - iou: 0.0186 - iou_thresholded: 0.4176 - val_loss: 4.2932e-05 - val_iou: 0.0142 - val_iou_thresholded: 0.9027\n",
      "Epoch 10/200\n",
      "648/648 [==============================] - 291s 449ms/step - loss: 5.7627e-05 - iou: 0.0308 - iou_thresholded: 0.4258 - val_loss: 3.1696e-05 - val_iou: 0.0247 - val_iou_thresholded: 0.8940\n",
      "Epoch 11/200\n",
      "648/648 [==============================] - 291s 449ms/step - loss: 5.2788e-05 - iou: 0.0395 - iou_thresholded: 0.4205 - val_loss: 3.0493e-05 - val_iou: 0.0269 - val_iou_thresholded: 0.9020\n",
      "Epoch 12/200\n",
      "648/648 [==============================] - 291s 449ms/step - loss: 5.1395e-05 - iou: 0.0458 - iou_thresholded: 0.4292 - val_loss: 2.7126e-05 - val_iou: 0.0379 - val_iou_thresholded: 0.8878\n",
      "Epoch 13/200\n",
      "648/648 [==============================] - 291s 449ms/step - loss: 4.6119e-05 - iou: 0.0591 - iou_thresholded: 0.4489 - val_loss: 2.6319e-05 - val_iou: 0.0575 - val_iou_thresholded: 0.8972\n",
      "Epoch 14/200\n",
      "648/648 [==============================] - 291s 449ms/step - loss: 4.2253e-05 - iou: 0.0700 - iou_thresholded: 0.4517 - val_loss: 2.5999e-05 - val_iou: 0.0540 - val_iou_thresholded: 0.8646\n",
      "Epoch 15/200\n",
      "648/648 [==============================] - 291s 449ms/step - loss: 4.0082e-05 - iou: 0.0819 - iou_thresholded: 0.4492 - val_loss: 2.4279e-05 - val_iou: 0.0769 - val_iou_thresholded: 0.8798\n",
      "Epoch 16/200\n",
      "648/648 [==============================] - 291s 449ms/step - loss: 3.9505e-05 - iou: 0.0855 - iou_thresholded: 0.4736 - val_loss: 2.0871e-05 - val_iou: 0.1098 - val_iou_thresholded: 0.8850\n",
      "Epoch 17/200\n",
      "648/648 [==============================] - 291s 449ms/step - loss: 4.8074e-05 - iou: 0.0620 - iou_thresholded: 0.4286 - val_loss: 2.2477e-05 - val_iou: 0.0872 - val_iou_thresholded: 0.8785\n",
      "Epoch 18/200\n",
      "648/648 [==============================] - 292s 450ms/step - loss: 4.1265e-05 - iou: 0.0839 - iou_thresholded: 0.4467 - val_loss: 2.0060e-05 - val_iou: 0.1374 - val_iou_thresholded: 0.8982\n",
      "Epoch 19/200\n",
      "648/648 [==============================] - 291s 449ms/step - loss: 3.7147e-05 - iou: 0.1036 - iou_thresholded: 0.4745 - val_loss: 2.1978e-05 - val_iou: 0.1687 - val_iou_thresholded: 0.8658\n",
      "Epoch 20/200\n",
      "648/648 [==============================] - 291s 449ms/step - loss: 3.6296e-05 - iou: 0.1065 - iou_thresholded: 0.4525 - val_loss: 2.0462e-05 - val_iou: 0.1650 - val_iou_thresholded: 0.8847\n",
      "Epoch 21/200\n",
      "648/648 [==============================] - 291s 449ms/step - loss: 3.3698e-05 - iou: 0.1231 - iou_thresholded: 0.4995 - val_loss: 1.9089e-05 - val_iou: 0.1921 - val_iou_thresholded: 0.8995\n",
      "Epoch 22/200\n",
      "648/648 [==============================] - 291s 449ms/step - loss: 3.2010e-05 - iou: 0.1334 - iou_thresholded: 0.5080 - val_loss: 2.2853e-05 - val_iou: 0.2902 - val_iou_thresholded: 0.9054\n",
      "Epoch 23/200\n",
      "648/648 [==============================] - 291s 449ms/step - loss: 3.3406e-05 - iou: 0.1372 - iou_thresholded: 0.5029 - val_loss: 1.7790e-05 - val_iou: 0.3055 - val_iou_thresholded: 0.8839\n",
      "Epoch 24/200\n",
      "648/648 [==============================] - 291s 449ms/step - loss: 3.1406e-05 - iou: 0.1382 - iou_thresholded: 0.5203 - val_loss: 1.5960e-05 - val_iou: 0.3584 - val_iou_thresholded: 0.8810\n",
      "Epoch 25/200\n",
      "648/648 [==============================] - 291s 449ms/step - loss: 3.0411e-05 - iou: 0.1454 - iou_thresholded: 0.5173 - val_loss: 1.5371e-05 - val_iou: 0.2923 - val_iou_thresholded: 0.8801\n",
      "Epoch 26/200\n",
      "648/648 [==============================] - 291s 449ms/step - loss: 2.7587e-05 - iou: 0.1643 - iou_thresholded: 0.5145 - val_loss: 1.6505e-05 - val_iou: 0.5034 - val_iou_thresholded: 0.9028\n",
      "Epoch 27/200\n",
      "648/648 [==============================] - 291s 449ms/step - loss: 2.7263e-05 - iou: 0.1665 - iou_thresholded: 0.5241 - val_loss: 1.6340e-05 - val_iou: 0.3009 - val_iou_thresholded: 0.8557\n",
      "Epoch 28/200\n",
      "648/648 [==============================] - 291s 449ms/step - loss: 2.7098e-05 - iou: 0.1751 - iou_thresholded: 0.5263 - val_loss: 1.6923e-05 - val_iou: 0.2850 - val_iou_thresholded: 0.8889\n",
      "Epoch 29/200\n",
      "648/648 [==============================] - 291s 449ms/step - loss: 2.7137e-05 - iou: 0.1679 - iou_thresholded: 0.5182 - val_loss: 1.7534e-05 - val_iou: 0.3779 - val_iou_thresholded: 0.8313\n",
      "Epoch 30/200\n",
      "648/648 [==============================] - 291s 449ms/step - loss: 2.4758e-05 - iou: 0.1950 - iou_thresholded: 0.5750 - val_loss: 1.4130e-05 - val_iou: 0.4925 - val_iou_thresholded: 0.8627\n",
      "Epoch 31/200\n",
      "648/648 [==============================] - 291s 449ms/step - loss: 2.5741e-05 - iou: 0.1979 - iou_thresholded: 0.5741 - val_loss: 1.5430e-05 - val_iou: 0.4014 - val_iou_thresholded: 0.8821\n",
      "Epoch 32/200\n",
      "648/648 [==============================] - 291s 449ms/step - loss: 2.4312e-05 - iou: 0.1978 - iou_thresholded: 0.5689 - val_loss: 1.4452e-05 - val_iou: 0.4994 - val_iou_thresholded: 0.8531\n",
      "Epoch 33/200\n",
      "648/648 [==============================] - 291s 449ms/step - loss: 2.2552e-05 - iou: 0.2131 - iou_thresholded: 0.5755 - val_loss: 1.3799e-05 - val_iou: 0.5320 - val_iou_thresholded: 0.8650\n",
      "Epoch 34/200\n",
      "648/648 [==============================] - 291s 449ms/step - loss: 2.1517e-05 - iou: 0.2248 - iou_thresholded: 0.6052 - val_loss: 1.4185e-05 - val_iou: 0.5353 - val_iou_thresholded: 0.8836\n",
      "Epoch 35/200\n",
      "648/648 [==============================] - 291s 449ms/step - loss: 2.0972e-05 - iou: 0.2403 - iou_thresholded: 0.6018 - val_loss: 1.7651e-05 - val_iou: 0.5223 - val_iou_thresholded: 0.8118\n",
      "Epoch 36/200\n",
      "648/648 [==============================] - 291s 450ms/step - loss: 2.0853e-05 - iou: 0.2494 - iou_thresholded: 0.6311 - val_loss: 1.3327e-05 - val_iou: 0.5018 - val_iou_thresholded: 0.8773\n",
      "Epoch 37/200\n",
      "648/648 [==============================] - 291s 450ms/step - loss: 1.9173e-05 - iou: 0.2563 - iou_thresholded: 0.6477 - val_loss: 1.3351e-05 - val_iou: 0.2910 - val_iou_thresholded: 0.8837\n",
      "Epoch 38/200\n",
      "648/648 [==============================] - 291s 449ms/step - loss: 2.1144e-05 - iou: 0.2727 - iou_thresholded: 0.6325 - val_loss: 1.3280e-05 - val_iou: 0.5342 - val_iou_thresholded: 0.9120\n",
      "Epoch 39/200\n",
      "648/648 [==============================] - 291s 449ms/step - loss: 1.8907e-05 - iou: 0.2739 - iou_thresholded: 0.6585 - val_loss: 2.0986e-05 - val_iou: 0.2889 - val_iou_thresholded: 0.7747\n",
      "Epoch 40/200\n",
      "648/648 [==============================] - 291s 449ms/step - loss: 1.8083e-05 - iou: 0.2717 - iou_thresholded: 0.6233 - val_loss: 1.2710e-05 - val_iou: 0.4043 - val_iou_thresholded: 0.8817\n",
      "Epoch 41/200\n"
     ]
    },
    {
     "name": "stdout",
     "output_type": "stream",
     "text": [
      "648/648 [==============================] - 291s 449ms/step - loss: 1.6611e-05 - iou: 0.2944 - iou_thresholded: 0.6584 - val_loss: 1.4356e-05 - val_iou: 0.5792 - val_iou_thresholded: 0.8803\n",
      "Epoch 42/200\n",
      "648/648 [==============================] - 291s 449ms/step - loss: 1.6211e-05 - iou: 0.3249 - iou_thresholded: 0.6949 - val_loss: 1.2727e-05 - val_iou: 0.6043 - val_iou_thresholded: 0.8507\n",
      "Epoch 43/200\n",
      "648/648 [==============================] - 291s 449ms/step - loss: 1.7320e-05 - iou: 0.2994 - iou_thresholded: 0.6867 - val_loss: 1.3035e-05 - val_iou: 0.5359 - val_iou_thresholded: 0.8919\n",
      "Epoch 44/200\n",
      "648/648 [==============================] - 291s 449ms/step - loss: 1.6892e-05 - iou: 0.3016 - iou_thresholded: 0.6648 - val_loss: 1.3515e-05 - val_iou: 0.5488 - val_iou_thresholded: 0.8743\n",
      "Epoch 45/200\n",
      "648/648 [==============================] - 291s 449ms/step - loss: 1.5824e-05 - iou: 0.3161 - iou_thresholded: 0.6798 - val_loss: 1.4131e-05 - val_iou: 0.5387 - val_iou_thresholded: 0.8531\n",
      "Epoch 46/200\n",
      "648/648 [==============================] - 291s 449ms/step - loss: 1.6677e-05 - iou: 0.3303 - iou_thresholded: 0.6987 - val_loss: 1.4133e-05 - val_iou: 0.6423 - val_iou_thresholded: 0.8792\n",
      "Epoch 47/200\n",
      "648/648 [==============================] - 292s 450ms/step - loss: 1.3904e-05 - iou: 0.3325 - iou_thresholded: 0.7059 - val_loss: 1.3439e-05 - val_iou: 0.6160 - val_iou_thresholded: 0.9063\n",
      "Epoch 48/200\n",
      "648/648 [==============================] - 291s 449ms/step - loss: 1.3900e-05 - iou: 0.3718 - iou_thresholded: 0.7203 - val_loss: 1.3498e-05 - val_iou: 0.6262 - val_iou_thresholded: 0.8893\n",
      "Epoch 49/200\n",
      "648/648 [==============================] - 291s 449ms/step - loss: 1.6049e-05 - iou: 0.3520 - iou_thresholded: 0.7114 - val_loss: 1.2604e-05 - val_iou: 0.6446 - val_iou_thresholded: 0.8966\n",
      "Epoch 50/200\n",
      "648/648 [==============================] - 291s 449ms/step - loss: 1.3845e-05 - iou: 0.3382 - iou_thresholded: 0.7254 - val_loss: 1.3993e-05 - val_iou: 0.6227 - val_iou_thresholded: 0.8742\n",
      "Epoch 51/200\n",
      "648/648 [==============================] - 291s 449ms/step - loss: 1.3153e-05 - iou: 0.3724 - iou_thresholded: 0.7311 - val_loss: 1.3006e-05 - val_iou: 0.5770 - val_iou_thresholded: 0.8238\n",
      "Epoch 52/200\n",
      "648/648 [==============================] - 291s 449ms/step - loss: 1.2789e-05 - iou: 0.3869 - iou_thresholded: 0.7427 - val_loss: 1.2890e-05 - val_iou: 0.4915 - val_iou_thresholded: 0.8665\n",
      "Epoch 53/200\n",
      "648/648 [==============================] - 291s 449ms/step - loss: 1.2182e-05 - iou: 0.3934 - iou_thresholded: 0.7356 - val_loss: 1.3079e-05 - val_iou: 0.6129 - val_iou_thresholded: 0.8718\n",
      "Epoch 54/200\n",
      "648/648 [==============================] - 291s 449ms/step - loss: 1.3648e-05 - iou: 0.3682 - iou_thresholded: 0.7264 - val_loss: 1.5302e-05 - val_iou: 0.3594 - val_iou_thresholded: 0.8984\n",
      "Epoch 55/200\n",
      "648/648 [==============================] - 291s 449ms/step - loss: 1.2252e-05 - iou: 0.3918 - iou_thresholded: 0.7560 - val_loss: 1.2889e-05 - val_iou: 0.6063 - val_iou_thresholded: 0.8975\n",
      "Epoch 56/200\n",
      "648/648 [==============================] - 291s 450ms/step - loss: 1.1425e-05 - iou: 0.4161 - iou_thresholded: 0.7645 - val_loss: 1.3856e-05 - val_iou: 0.6388 - val_iou_thresholded: 0.8822\n",
      "Epoch 57/200\n",
      "648/648 [==============================] - 291s 449ms/step - loss: 1.1771e-05 - iou: 0.4240 - iou_thresholded: 0.7724 - val_loss: 1.3867e-05 - val_iou: 0.6738 - val_iou_thresholded: 0.8876\n",
      "Epoch 58/200\n",
      "648/648 [==============================] - 291s 449ms/step - loss: 1.2091e-05 - iou: 0.4232 - iou_thresholded: 0.7573 - val_loss: 1.3394e-05 - val_iou: 0.6498 - val_iou_thresholded: 0.8420\n",
      "Epoch 59/200\n",
      "648/648 [==============================] - 291s 449ms/step - loss: 1.1367e-05 - iou: 0.4022 - iou_thresholded: 0.7630 - val_loss: 1.4995e-05 - val_iou: 0.3803 - val_iou_thresholded: 0.8317\n",
      "Epoch 60/200\n",
      "648/648 [==============================] - 291s 449ms/step - loss: 1.0520e-05 - iou: 0.4578 - iou_thresholded: 0.7640 - val_loss: 1.6877e-05 - val_iou: 0.4269 - val_iou_thresholded: 0.8265\n",
      "Epoch 61/200\n",
      "648/648 [==============================] - 291s 450ms/step - loss: 1.1633e-05 - iou: 0.4289 - iou_thresholded: 0.7577 - val_loss: 1.2986e-05 - val_iou: 0.5492 - val_iou_thresholded: 0.8633\n",
      "Epoch 62/200\n",
      "648/648 [==============================] - 291s 449ms/step - loss: 1.0980e-05 - iou: 0.4370 - iou_thresholded: 0.7847 - val_loss: 1.3253e-05 - val_iou: 0.6341 - val_iou_thresholded: 0.8757\n",
      "Epoch 63/200\n",
      "648/648 [==============================] - 291s 449ms/step - loss: 1.0760e-05 - iou: 0.4457 - iou_thresholded: 0.7826 - val_loss: 1.4064e-05 - val_iou: 0.5683 - val_iou_thresholded: 0.8256\n",
      "Epoch 64/200\n",
      "648/648 [==============================] - 291s 449ms/step - loss: 1.0448e-05 - iou: 0.4492 - iou_thresholded: 0.7790 - val_loss: 1.7509e-05 - val_iou: 0.6839 - val_iou_thresholded: 0.8967\n",
      "Epoch 65/200\n",
      "648/648 [==============================] - 291s 449ms/step - loss: 9.4497e-06 - iou: 0.4662 - iou_thresholded: 0.7635 - val_loss: 1.5659e-05 - val_iou: 0.5963 - val_iou_thresholded: 0.8328\n",
      "Epoch 66/200\n",
      "648/648 [==============================] - 291s 449ms/step - loss: 1.1421e-05 - iou: 0.4412 - iou_thresholded: 0.7891 - val_loss: 1.5008e-05 - val_iou: 0.6043 - val_iou_thresholded: 0.9051\n",
      "Epoch 67/200\n",
      "648/648 [==============================] - 291s 449ms/step - loss: 9.7294e-06 - iou: 0.4840 - iou_thresholded: 0.7992 - val_loss: 1.5819e-05 - val_iou: 0.6236 - val_iou_thresholded: 0.9008\n",
      "Epoch 68/200\n",
      "648/648 [==============================] - 291s 449ms/step - loss: 9.1556e-06 - iou: 0.4878 - iou_thresholded: 0.8061 - val_loss: 1.4983e-05 - val_iou: 0.6393 - val_iou_thresholded: 0.8768\n",
      "Epoch 69/200\n",
      "648/648 [==============================] - 291s 449ms/step - loss: 9.1702e-06 - iou: 0.5127 - iou_thresholded: 0.7963 - val_loss: 1.5738e-05 - val_iou: 0.5423 - val_iou_thresholded: 0.8713\n",
      "Epoch 70/200\n",
      "648/648 [==============================] - 291s 449ms/step - loss: 1.1026e-05 - iou: 0.4586 - iou_thresholded: 0.7829 - val_loss: 1.4591e-05 - val_iou: 0.5236 - val_iou_thresholded: 0.9014\n",
      "Epoch 71/200\n",
      "648/648 [==============================] - 291s 449ms/step - loss: 9.5334e-06 - iou: 0.4634 - iou_thresholded: 0.7911 - val_loss: 1.4427e-05 - val_iou: 0.6115 - val_iou_thresholded: 0.8864\n",
      "Epoch 72/200\n",
      "648/648 [==============================] - 291s 449ms/step - loss: 9.5166e-06 - iou: 0.4760 - iou_thresholded: 0.7921 - val_loss: 1.5047e-05 - val_iou: 0.5807 - val_iou_thresholded: 0.9148\n",
      "Epoch 73/200\n",
      "648/648 [==============================] - 291s 449ms/step - loss: 9.7182e-06 - iou: 0.5038 - iou_thresholded: 0.8141 - val_loss: 1.4505e-05 - val_iou: 0.5226 - val_iou_thresholded: 0.9002\n",
      "Epoch 74/200\n",
      "648/648 [==============================] - 291s 449ms/step - loss: 9.7149e-06 - iou: 0.4737 - iou_thresholded: 0.7970 - val_loss: 1.3831e-05 - val_iou: 0.4297 - val_iou_thresholded: 0.8545\n",
      "Epoch 75/200\n",
      "648/648 [==============================] - 291s 449ms/step - loss: 1.0335e-05 - iou: 0.4526 - iou_thresholded: 0.7705 - val_loss: 1.6313e-05 - val_iou: 0.5881 - val_iou_thresholded: 0.9149\n",
      "Epoch 76/200\n",
      "648/648 [==============================] - 291s 449ms/step - loss: 9.7725e-06 - iou: 0.4776 - iou_thresholded: 0.7915 - val_loss: 1.5877e-05 - val_iou: 0.4345 - val_iou_thresholded: 0.8719\n",
      "Epoch 77/200\n",
      "648/648 [==============================] - 291s 449ms/step - loss: 8.8574e-06 - iou: 0.5134 - iou_thresholded: 0.8023 - val_loss: 1.4686e-05 - val_iou: 0.3023 - val_iou_thresholded: 0.8797\n",
      "Epoch 78/200\n",
      "648/648 [==============================] - 291s 449ms/step - loss: 8.7846e-06 - iou: 0.5162 - iou_thresholded: 0.8088 - val_loss: 1.8160e-05 - val_iou: 0.5860 - val_iou_thresholded: 0.8951\n",
      "Epoch 79/200\n",
      "648/648 [==============================] - 291s 449ms/step - loss: 9.3483e-06 - iou: 0.4925 - iou_thresholded: 0.7952 - val_loss: 1.4699e-05 - val_iou: 0.6443 - val_iou_thresholded: 0.8866\n",
      "Epoch 80/200\n",
      "648/648 [==============================] - 291s 449ms/step - loss: 7.8218e-06 - iou: 0.5367 - iou_thresholded: 0.8201 - val_loss: 1.5433e-05 - val_iou: 0.6192 - val_iou_thresholded: 0.9045\n",
      "Epoch 81/200\n",
      "648/648 [==============================] - 292s 450ms/step - loss: 8.6144e-06 - iou: 0.5362 - iou_thresholded: 0.8163 - val_loss: 1.6867e-05 - val_iou: 0.4447 - val_iou_thresholded: 0.8912\n"
     ]
    },
    {
     "name": "stdout",
     "output_type": "stream",
     "text": [
      "Epoch 82/200\n",
      "648/648 [==============================] - 291s 449ms/step - loss: 8.3550e-06 - iou: 0.5510 - iou_thresholded: 0.8263 - val_loss: 1.7001e-05 - val_iou: 0.5075 - val_iou_thresholded: 0.8804\n",
      "Epoch 83/200\n",
      "648/648 [==============================] - 291s 449ms/step - loss: 8.9600e-06 - iou: 0.5178 - iou_thresholded: 0.8152 - val_loss: 1.6143e-05 - val_iou: 0.6369 - val_iou_thresholded: 0.8413\n",
      "Epoch 84/200\n",
      "648/648 [==============================] - 291s 450ms/step - loss: 7.5907e-06 - iou: 0.5460 - iou_thresholded: 0.8276 - val_loss: 1.6319e-05 - val_iou: 0.7169 - val_iou_thresholded: 0.8760\n",
      "Epoch 85/200\n",
      "648/648 [==============================] - 292s 451ms/step - loss: 7.9290e-06 - iou: 0.5610 - iou_thresholded: 0.8288 - val_loss: 1.5678e-05 - val_iou: 0.4641 - val_iou_thresholded: 0.8616\n",
      "Epoch 86/200\n",
      "648/648 [==============================] - 292s 451ms/step - loss: 9.6842e-06 - iou: 0.4974 - iou_thresholded: 0.7893 - val_loss: 1.4655e-05 - val_iou: 0.6002 - val_iou_thresholded: 0.9040\n",
      "Epoch 87/200\n",
      "648/648 [==============================] - 291s 450ms/step - loss: 7.7998e-06 - iou: 0.5681 - iou_thresholded: 0.8319 - val_loss: 1.5779e-05 - val_iou: 0.4138 - val_iou_thresholded: 0.8556\n",
      "Epoch 88/200\n",
      "648/648 [==============================] - 291s 450ms/step - loss: 7.9155e-06 - iou: 0.5602 - iou_thresholded: 0.8243 - val_loss: 1.7140e-05 - val_iou: 0.5686 - val_iou_thresholded: 0.9026\n",
      "Epoch 89/200\n",
      "648/648 [==============================] - 291s 449ms/step - loss: 8.1467e-06 - iou: 0.5347 - iou_thresholded: 0.8161 - val_loss: 1.6413e-05 - val_iou: 0.2862 - val_iou_thresholded: 0.8877\n",
      "Epoch 90/200\n",
      "648/648 [==============================] - 291s 449ms/step - loss: 1.1535e-05 - iou: 0.4562 - iou_thresholded: 0.8029 - val_loss: 1.5286e-05 - val_iou: 0.6111 - val_iou_thresholded: 0.9136\n",
      "Epoch 91/200\n",
      "648/648 [==============================] - 291s 449ms/step - loss: 7.4948e-06 - iou: 0.5278 - iou_thresholded: 0.8369 - val_loss: 1.5780e-05 - val_iou: 0.5625 - val_iou_thresholded: 0.8827\n",
      "Epoch 92/200\n",
      "648/648 [==============================] - 291s 449ms/step - loss: 8.5007e-06 - iou: 0.5478 - iou_thresholded: 0.8259 - val_loss: 1.7717e-05 - val_iou: 0.7268 - val_iou_thresholded: 0.9122\n",
      "Epoch 93/200\n",
      "648/648 [==============================] - 291s 449ms/step - loss: 7.6034e-06 - iou: 0.5861 - iou_thresholded: 0.8502 - val_loss: 1.7800e-05 - val_iou: 0.6686 - val_iou_thresholded: 0.9189\n",
      "Epoch 94/200\n",
      "648/648 [==============================] - 291s 449ms/step - loss: 7.3050e-06 - iou: 0.5586 - iou_thresholded: 0.8295 - val_loss: 1.8339e-05 - val_iou: 0.6859 - val_iou_thresholded: 0.9050\n",
      "Epoch 95/200\n",
      "648/648 [==============================] - 291s 449ms/step - loss: 8.9876e-06 - iou: 0.5448 - iou_thresholded: 0.8131 - val_loss: 1.8821e-05 - val_iou: 0.6361 - val_iou_thresholded: 0.9034\n",
      "Epoch 96/200\n",
      "648/648 [==============================] - 291s 449ms/step - loss: 7.4915e-06 - iou: 0.5824 - iou_thresholded: 0.8394 - val_loss: 1.5777e-05 - val_iou: 0.4803 - val_iou_thresholded: 0.8799\n",
      "Epoch 97/200\n",
      "648/648 [==============================] - 292s 451ms/step - loss: 6.9779e-06 - iou: 0.5717 - iou_thresholded: 0.8409 - val_loss: 1.8539e-05 - val_iou: 0.6838 - val_iou_thresholded: 0.8585\n",
      "Epoch 98/200\n",
      "648/648 [==============================] - 292s 450ms/step - loss: 8.3096e-06 - iou: 0.5514 - iou_thresholded: 0.8433 - val_loss: 1.6783e-05 - val_iou: 0.5007 - val_iou_thresholded: 0.8794\n",
      "Epoch 99/200\n",
      "648/648 [==============================] - 291s 449ms/step - loss: 7.8555e-06 - iou: 0.5698 - iou_thresholded: 0.8384 - val_loss: 1.8502e-05 - val_iou: 0.3295 - val_iou_thresholded: 0.8994\n",
      "Epoch 100/200\n",
      "648/648 [==============================] - 291s 449ms/step - loss: 6.2310e-06 - iou: 0.6134 - iou_thresholded: 0.8499 - val_loss: 1.9354e-05 - val_iou: 0.6901 - val_iou_thresholded: 0.9046\n",
      "Epoch 101/200\n",
      "648/648 [==============================] - 291s 449ms/step - loss: 7.0806e-06 - iou: 0.6048 - iou_thresholded: 0.8483 - val_loss: 2.0835e-05 - val_iou: 0.3513 - val_iou_thresholded: 0.8835\n",
      "Epoch 102/200\n",
      "648/648 [==============================] - 291s 449ms/step - loss: 7.2785e-06 - iou: 0.5875 - iou_thresholded: 0.8415 - val_loss: 1.8894e-05 - val_iou: 0.5235 - val_iou_thresholded: 0.9079\n",
      "Epoch 103/200\n",
      "648/648 [==============================] - 291s 449ms/step - loss: 6.2576e-06 - iou: 0.6213 - iou_thresholded: 0.8582 - val_loss: 1.8865e-05 - val_iou: 0.6650 - val_iou_thresholded: 0.8979\n",
      "Epoch 104/200\n",
      "648/648 [==============================] - 291s 449ms/step - loss: 7.8226e-06 - iou: 0.6095 - iou_thresholded: 0.8542 - val_loss: 1.9102e-05 - val_iou: 0.6939 - val_iou_thresholded: 0.9031\n",
      "Epoch 105/200\n",
      "648/648 [==============================] - 291s 449ms/step - loss: 7.6871e-06 - iou: 0.5956 - iou_thresholded: 0.8458 - val_loss: 1.9883e-05 - val_iou: 0.1725 - val_iou_thresholded: 0.9045\n",
      "Epoch 106/200\n",
      "648/648 [==============================] - 291s 450ms/step - loss: 6.6887e-06 - iou: 0.5972 - iou_thresholded: 0.8543 - val_loss: 1.8112e-05 - val_iou: 0.6245 - val_iou_thresholded: 0.8892\n",
      "Epoch 107/200\n",
      "648/648 [==============================] - 291s 449ms/step - loss: 6.3374e-06 - iou: 0.5997 - iou_thresholded: 0.8635 - val_loss: 1.7792e-05 - val_iou: 0.6889 - val_iou_thresholded: 0.9105\n",
      "Epoch 108/200\n",
      "648/648 [==============================] - 291s 449ms/step - loss: 6.3598e-06 - iou: 0.6449 - iou_thresholded: 0.8542 - val_loss: 1.8433e-05 - val_iou: 0.6664 - val_iou_thresholded: 0.9004\n",
      "Epoch 109/200\n",
      "648/648 [==============================] - 291s 450ms/step - loss: 6.5720e-06 - iou: 0.6243 - iou_thresholded: 0.8532 - val_loss: 1.8861e-05 - val_iou: 0.5951 - val_iou_thresholded: 0.8998\n",
      "Epoch 110/200\n",
      "648/648 [==============================] - 291s 450ms/step - loss: 6.3227e-06 - iou: 0.6279 - iou_thresholded: 0.8647 - val_loss: 1.7942e-05 - val_iou: 0.6326 - val_iou_thresholded: 0.8887\n",
      "Epoch 111/200\n",
      "648/648 [==============================] - 291s 449ms/step - loss: 5.9484e-06 - iou: 0.6443 - iou_thresholded: 0.8713 - val_loss: 2.0382e-05 - val_iou: 0.6038 - val_iou_thresholded: 0.8799\n",
      "Epoch 112/200\n",
      "648/648 [==============================] - 291s 449ms/step - loss: 6.1885e-06 - iou: 0.6570 - iou_thresholded: 0.8618 - val_loss: 2.1134e-05 - val_iou: 0.7131 - val_iou_thresholded: 0.9085\n",
      "Epoch 113/200\n",
      "648/648 [==============================] - 292s 450ms/step - loss: 6.0977e-06 - iou: 0.6443 - iou_thresholded: 0.8743 - val_loss: 1.9508e-05 - val_iou: 0.6662 - val_iou_thresholded: 0.8826\n",
      "Epoch 114/200\n",
      "648/648 [==============================] - 292s 451ms/step - loss: 6.3797e-06 - iou: 0.6522 - iou_thresholded: 0.8639 - val_loss: 1.8414e-05 - val_iou: 0.6521 - val_iou_thresholded: 0.8860\n",
      "Epoch 115/200\n",
      "648/648 [==============================] - 291s 450ms/step - loss: 5.9761e-06 - iou: 0.6671 - iou_thresholded: 0.8722 - val_loss: 1.7635e-05 - val_iou: 0.7061 - val_iou_thresholded: 0.8741\n",
      "Epoch 116/200\n",
      "648/648 [==============================] - 291s 449ms/step - loss: 5.4959e-06 - iou: 0.6459 - iou_thresholded: 0.8650 - val_loss: 2.1288e-05 - val_iou: 0.7189 - val_iou_thresholded: 0.9095\n",
      "Epoch 117/200\n",
      "648/648 [==============================] - 291s 449ms/step - loss: 5.5976e-06 - iou: 0.6608 - iou_thresholded: 0.8787 - val_loss: 2.1342e-05 - val_iou: 0.7189 - val_iou_thresholded: 0.9021\n",
      "Epoch 118/200\n",
      "648/648 [==============================] - 291s 449ms/step - loss: 5.9626e-06 - iou: 0.6822 - iou_thresholded: 0.8738 - val_loss: 2.0597e-05 - val_iou: 0.7503 - val_iou_thresholded: 0.8755\n",
      "Epoch 119/200\n",
      "648/648 [==============================] - 291s 449ms/step - loss: 5.9248e-06 - iou: 0.6485 - iou_thresholded: 0.8651 - val_loss: 1.9193e-05 - val_iou: 0.7736 - val_iou_thresholded: 0.9117\n",
      "Epoch 120/200\n",
      "648/648 [==============================] - 291s 449ms/step - loss: 5.3177e-06 - iou: 0.6738 - iou_thresholded: 0.8745 - val_loss: 2.0265e-05 - val_iou: 0.7250 - val_iou_thresholded: 0.8496\n",
      "Epoch 121/200\n",
      "648/648 [==============================] - 291s 450ms/step - loss: 6.4406e-06 - iou: 0.6562 - iou_thresholded: 0.8769 - val_loss: 1.9049e-05 - val_iou: 0.7218 - val_iou_thresholded: 0.8783\n",
      "Epoch 122/200\n"
     ]
    },
    {
     "name": "stdout",
     "output_type": "stream",
     "text": [
      "648/648 [==============================] - 291s 449ms/step - loss: 5.0484e-06 - iou: 0.6892 - iou_thresholded: 0.8761 - val_loss: 1.9379e-05 - val_iou: 0.7385 - val_iou_thresholded: 0.8743\n",
      "Epoch 123/200\n",
      "648/648 [==============================] - 291s 449ms/step - loss: 5.5118e-06 - iou: 0.6867 - iou_thresholded: 0.8827 - val_loss: 2.0409e-05 - val_iou: 0.7809 - val_iou_thresholded: 0.8778\n",
      "Epoch 124/200\n",
      "648/648 [==============================] - 291s 449ms/step - loss: 5.7214e-06 - iou: 0.7151 - iou_thresholded: 0.8894 - val_loss: 2.0933e-05 - val_iou: 0.6805 - val_iou_thresholded: 0.8868\n",
      "Epoch 125/200\n",
      "648/648 [==============================] - 291s 450ms/step - loss: 5.7306e-06 - iou: 0.6802 - iou_thresholded: 0.8824 - val_loss: 2.2433e-05 - val_iou: 0.7616 - val_iou_thresholded: 0.8946\n",
      "Epoch 126/200\n",
      "648/648 [==============================] - 291s 449ms/step - loss: 4.6448e-06 - iou: 0.6948 - iou_thresholded: 0.8866 - val_loss: 2.1366e-05 - val_iou: 0.6328 - val_iou_thresholded: 0.8743\n",
      "Epoch 127/200\n",
      "648/648 [==============================] - 291s 450ms/step - loss: 5.4293e-06 - iou: 0.6867 - iou_thresholded: 0.8844 - val_loss: 1.9633e-05 - val_iou: 0.6717 - val_iou_thresholded: 0.8833\n",
      "Epoch 128/200\n",
      "648/648 [==============================] - 291s 450ms/step - loss: 5.0734e-06 - iou: 0.7101 - iou_thresholded: 0.8899 - val_loss: 2.0441e-05 - val_iou: 0.6478 - val_iou_thresholded: 0.8794\n",
      "Epoch 129/200\n",
      "648/648 [==============================] - 291s 450ms/step - loss: 5.5812e-06 - iou: 0.6890 - iou_thresholded: 0.8932 - val_loss: 2.0022e-05 - val_iou: 0.6164 - val_iou_thresholded: 0.8532\n",
      "Epoch 130/200\n",
      "648/648 [==============================] - 291s 450ms/step - loss: 4.8954e-06 - iou: 0.7195 - iou_thresholded: 0.8850 - val_loss: 2.0382e-05 - val_iou: 0.5812 - val_iou_thresholded: 0.8264\n",
      "Epoch 131/200\n",
      "648/648 [==============================] - 291s 449ms/step - loss: 6.1270e-06 - iou: 0.6679 - iou_thresholded: 0.8678 - val_loss: 2.0388e-05 - val_iou: 0.6785 - val_iou_thresholded: 0.8841\n",
      "Epoch 132/200\n",
      "648/648 [==============================] - 291s 449ms/step - loss: 5.1442e-06 - iou: 0.6988 - iou_thresholded: 0.8806 - val_loss: 2.0682e-05 - val_iou: 0.5920 - val_iou_thresholded: 0.8881\n",
      "Epoch 133/200\n",
      "648/648 [==============================] - 291s 450ms/step - loss: 5.1277e-06 - iou: 0.6805 - iou_thresholded: 0.8893 - val_loss: 2.4209e-05 - val_iou: 0.6269 - val_iou_thresholded: 0.8938\n",
      "Epoch 134/200\n",
      "648/648 [==============================] - 291s 449ms/step - loss: 5.4428e-06 - iou: 0.6728 - iou_thresholded: 0.8909 - val_loss: 2.2946e-05 - val_iou: 0.7118 - val_iou_thresholded: 0.8991\n",
      "Epoch 135/200\n",
      "648/648 [==============================] - 291s 449ms/step - loss: 5.4353e-06 - iou: 0.6995 - iou_thresholded: 0.8924 - val_loss: 2.3774e-05 - val_iou: 0.7455 - val_iou_thresholded: 0.8836\n",
      "Epoch 136/200\n",
      "648/648 [==============================] - 291s 450ms/step - loss: 4.0196e-06 - iou: 0.7301 - iou_thresholded: 0.9015 - val_loss: 2.2809e-05 - val_iou: 0.6524 - val_iou_thresholded: 0.8851\n",
      "Epoch 137/200\n",
      "648/648 [==============================] - 291s 450ms/step - loss: 5.4743e-06 - iou: 0.6953 - iou_thresholded: 0.8900 - val_loss: 2.2584e-05 - val_iou: 0.6573 - val_iou_thresholded: 0.8630\n",
      "Epoch 138/200\n",
      "648/648 [==============================] - 291s 450ms/step - loss: 4.3402e-06 - iou: 0.7331 - iou_thresholded: 0.8958 - val_loss: 2.1786e-05 - val_iou: 0.6669 - val_iou_thresholded: 0.8519\n",
      "Epoch 139/200\n",
      "648/648 [==============================] - 291s 449ms/step - loss: 5.3055e-06 - iou: 0.7304 - iou_thresholded: 0.8996 - val_loss: 2.4567e-05 - val_iou: 0.7196 - val_iou_thresholded: 0.8831\n",
      "Epoch 140/200\n",
      "648/648 [==============================] - 291s 450ms/step - loss: 5.1001e-06 - iou: 0.6747 - iou_thresholded: 0.8877 - val_loss: 2.6769e-05 - val_iou: 0.6209 - val_iou_thresholded: 0.8926\n",
      "Epoch 141/200\n",
      "648/648 [==============================] - 291s 449ms/step - loss: 5.2422e-06 - iou: 0.7131 - iou_thresholded: 0.8979 - val_loss: 2.3170e-05 - val_iou: 0.5096 - val_iou_thresholded: 0.8812\n",
      "Epoch 142/200\n",
      "648/648 [==============================] - 291s 449ms/step - loss: 4.8921e-06 - iou: 0.7015 - iou_thresholded: 0.9033 - val_loss: 2.4853e-05 - val_iou: 0.5693 - val_iou_thresholded: 0.8659\n",
      "Epoch 143/200\n",
      "648/648 [==============================] - 291s 449ms/step - loss: 4.7085e-06 - iou: 0.7151 - iou_thresholded: 0.8962 - val_loss: 2.4486e-05 - val_iou: 0.5976 - val_iou_thresholded: 0.8888\n",
      "Epoch 144/200\n",
      "648/648 [==============================] - 291s 449ms/step - loss: 4.3859e-06 - iou: 0.7477 - iou_thresholded: 0.9041 - val_loss: 2.5536e-05 - val_iou: 0.7745 - val_iou_thresholded: 0.8973\n",
      "Epoch 145/200\n",
      "648/648 [==============================] - 291s 449ms/step - loss: 4.9338e-06 - iou: 0.7022 - iou_thresholded: 0.9003 - val_loss: 2.5853e-05 - val_iou: 0.8009 - val_iou_thresholded: 0.8872\n",
      "Epoch 146/200\n",
      "648/648 [==============================] - 292s 450ms/step - loss: 4.7808e-06 - iou: 0.7156 - iou_thresholded: 0.8929 - val_loss: 2.1672e-05 - val_iou: 0.7652 - val_iou_thresholded: 0.8731\n",
      "Epoch 147/200\n",
      "648/648 [==============================] - 291s 449ms/step - loss: 5.7121e-06 - iou: 0.6513 - iou_thresholded: 0.8733 - val_loss: 2.3499e-05 - val_iou: 0.7425 - val_iou_thresholded: 0.8845\n",
      "Epoch 148/200\n",
      "648/648 [==============================] - 291s 449ms/step - loss: 4.3249e-06 - iou: 0.7380 - iou_thresholded: 0.9060 - val_loss: 2.4635e-05 - val_iou: 0.7632 - val_iou_thresholded: 0.8730\n",
      "Epoch 149/200\n",
      "648/648 [==============================] - 291s 449ms/step - loss: 5.2843e-06 - iou: 0.7131 - iou_thresholded: 0.8950 - val_loss: 2.1760e-05 - val_iou: 0.5474 - val_iou_thresholded: 0.8450\n",
      "Epoch 150/200\n",
      "648/648 [==============================] - 291s 449ms/step - loss: 4.6411e-06 - iou: 0.7292 - iou_thresholded: 0.9032 - val_loss: 2.1084e-05 - val_iou: 0.6890 - val_iou_thresholded: 0.8724\n",
      "Epoch 151/200\n",
      "648/648 [==============================] - 291s 450ms/step - loss: 3.9780e-06 - iou: 0.7315 - iou_thresholded: 0.9033 - val_loss: 2.2693e-05 - val_iou: 0.7442 - val_iou_thresholded: 0.8747\n",
      "Epoch 152/200\n",
      "648/648 [==============================] - 291s 449ms/step - loss: 5.3832e-06 - iou: 0.7085 - iou_thresholded: 0.8985 - val_loss: 2.2222e-05 - val_iou: 0.7346 - val_iou_thresholded: 0.8742\n",
      "Epoch 153/200\n",
      "648/648 [==============================] - 291s 449ms/step - loss: 3.3241e-06 - iou: 0.7694 - iou_thresholded: 0.9189 - val_loss: 2.5134e-05 - val_iou: 0.7140 - val_iou_thresholded: 0.8720\n",
      "Epoch 154/200\n",
      "648/648 [==============================] - 291s 449ms/step - loss: 5.1645e-06 - iou: 0.7038 - iou_thresholded: 0.9068 - val_loss: 2.6310e-05 - val_iou: 0.7514 - val_iou_thresholded: 0.8777\n",
      "Epoch 155/200\n",
      "648/648 [==============================] - 291s 450ms/step - loss: 3.9060e-06 - iou: 0.7652 - iou_thresholded: 0.9118 - val_loss: 2.6112e-05 - val_iou: 0.7741 - val_iou_thresholded: 0.8718\n",
      "Epoch 156/200\n",
      "648/648 [==============================] - 291s 449ms/step - loss: 4.7230e-06 - iou: 0.7214 - iou_thresholded: 0.9114 - val_loss: 2.4499e-05 - val_iou: 0.6764 - val_iou_thresholded: 0.8554\n",
      "Epoch 157/200\n",
      "648/648 [==============================] - 291s 449ms/step - loss: 3.1293e-06 - iou: 0.7954 - iou_thresholded: 0.9258 - val_loss: 2.6200e-05 - val_iou: 0.6752 - val_iou_thresholded: 0.8540\n",
      "Epoch 158/200\n",
      "648/648 [==============================] - 291s 450ms/step - loss: 5.3542e-06 - iou: 0.7044 - iou_thresholded: 0.9065 - val_loss: 2.5615e-05 - val_iou: 0.7310 - val_iou_thresholded: 0.8844\n",
      "Epoch 159/200\n",
      "648/648 [==============================] - 292s 450ms/step - loss: 4.2929e-06 - iou: 0.7314 - iou_thresholded: 0.9136 - val_loss: 2.5410e-05 - val_iou: 0.7071 - val_iou_thresholded: 0.8834\n",
      "Epoch 160/200\n",
      "648/648 [==============================] - 291s 449ms/step - loss: 4.3556e-06 - iou: 0.7420 - iou_thresholded: 0.9085 - val_loss: 2.5181e-05 - val_iou: 0.6744 - val_iou_thresholded: 0.8837\n",
      "Epoch 161/200\n",
      "648/648 [==============================] - 291s 450ms/step - loss: 3.8170e-06 - iou: 0.7420 - iou_thresholded: 0.9153 - val_loss: 2.4136e-05 - val_iou: 0.7861 - val_iou_thresholded: 0.8739\n",
      "Epoch 162/200\n"
     ]
    },
    {
     "name": "stdout",
     "output_type": "stream",
     "text": [
      "648/648 [==============================] - 291s 449ms/step - loss: 4.2339e-06 - iou: 0.7540 - iou_thresholded: 0.9164 - val_loss: 2.4504e-05 - val_iou: 0.4485 - val_iou_thresholded: 0.8754\n",
      "Epoch 163/200\n",
      "648/648 [==============================] - 291s 450ms/step - loss: 3.8044e-06 - iou: 0.7386 - iou_thresholded: 0.9212 - val_loss: 2.5621e-05 - val_iou: 0.6381 - val_iou_thresholded: 0.8834\n",
      "Epoch 164/200\n",
      "648/648 [==============================] - 291s 449ms/step - loss: 3.9915e-06 - iou: 0.7561 - iou_thresholded: 0.9218 - val_loss: 2.4373e-05 - val_iou: 0.6822 - val_iou_thresholded: 0.8823\n",
      "Epoch 165/200\n",
      "648/648 [==============================] - 291s 450ms/step - loss: 4.2855e-06 - iou: 0.7326 - iou_thresholded: 0.9198 - val_loss: 2.7100e-05 - val_iou: 0.7332 - val_iou_thresholded: 0.8824\n",
      "Epoch 166/200\n",
      "648/648 [==============================] - 291s 449ms/step - loss: 4.7809e-06 - iou: 0.7104 - iou_thresholded: 0.9152 - val_loss: 2.5239e-05 - val_iou: 0.5549 - val_iou_thresholded: 0.8700\n",
      "Epoch 167/200\n",
      "648/648 [==============================] - 291s 450ms/step - loss: 3.5837e-06 - iou: 0.7708 - iou_thresholded: 0.9212 - val_loss: 2.5326e-05 - val_iou: 0.6999 - val_iou_thresholded: 0.8824\n",
      "Epoch 168/200\n",
      "648/648 [==============================] - 291s 449ms/step - loss: 3.5797e-06 - iou: 0.7717 - iou_thresholded: 0.9278 - val_loss: 2.6707e-05 - val_iou: 0.7427 - val_iou_thresholded: 0.8759\n",
      "Epoch 169/200\n",
      "648/648 [==============================] - 291s 449ms/step - loss: 4.1247e-06 - iou: 0.7439 - iou_thresholded: 0.9340 - val_loss: 2.6329e-05 - val_iou: 0.7594 - val_iou_thresholded: 0.8481\n",
      "Epoch 170/200\n",
      "648/648 [==============================] - 291s 450ms/step - loss: 3.5830e-06 - iou: 0.7595 - iou_thresholded: 0.9252 - val_loss: 2.7016e-05 - val_iou: 0.4464 - val_iou_thresholded: 0.8605\n",
      "Epoch 171/200\n",
      "648/648 [==============================] - 291s 449ms/step - loss: 4.0230e-06 - iou: 0.7688 - iou_thresholded: 0.9311 - val_loss: 2.7110e-05 - val_iou: 0.4987 - val_iou_thresholded: 0.8772\n",
      "Epoch 172/200\n",
      "648/648 [==============================] - 291s 449ms/step - loss: 4.2912e-06 - iou: 0.7432 - iou_thresholded: 0.9170 - val_loss: 2.9063e-05 - val_iou: 0.7671 - val_iou_thresholded: 0.8833\n",
      "Epoch 173/200\n",
      "648/648 [==============================] - 291s 450ms/step - loss: 3.4342e-06 - iou: 0.7498 - iou_thresholded: 0.9206 - val_loss: 2.7369e-05 - val_iou: 0.5315 - val_iou_thresholded: 0.8687\n",
      "Epoch 174/200\n",
      "648/648 [==============================] - 291s 450ms/step - loss: 4.9896e-06 - iou: 0.7156 - iou_thresholded: 0.9045 - val_loss: 2.5370e-05 - val_iou: 0.5961 - val_iou_thresholded: 0.8550\n",
      "Epoch 175/200\n",
      "648/648 [==============================] - 291s 450ms/step - loss: 3.7142e-06 - iou: 0.7425 - iou_thresholded: 0.9220 - val_loss: 2.5249e-05 - val_iou: 0.7024 - val_iou_thresholded: 0.8720\n",
      "Epoch 176/200\n",
      "648/648 [==============================] - 291s 449ms/step - loss: 3.1788e-06 - iou: 0.7916 - iou_thresholded: 0.9306 - val_loss: 2.6673e-05 - val_iou: 0.7671 - val_iou_thresholded: 0.8617\n",
      "Epoch 177/200\n",
      "648/648 [==============================] - 291s 449ms/step - loss: 4.4738e-06 - iou: 0.7357 - iou_thresholded: 0.9207 - val_loss: 2.6005e-05 - val_iou: 0.5496 - val_iou_thresholded: 0.8345\n",
      "Epoch 178/200\n",
      "648/648 [==============================] - 291s 450ms/step - loss: 3.0994e-06 - iou: 0.7780 - iou_thresholded: 0.9293 - val_loss: 2.6306e-05 - val_iou: 0.6769 - val_iou_thresholded: 0.8652\n",
      "Epoch 179/200\n",
      "648/648 [==============================] - 291s 449ms/step - loss: 3.9409e-06 - iou: 0.7680 - iou_thresholded: 0.9338 - val_loss: 2.6851e-05 - val_iou: 0.7163 - val_iou_thresholded: 0.8628\n",
      "Epoch 180/200\n",
      "648/648 [==============================] - 291s 449ms/step - loss: 3.4925e-06 - iou: 0.7856 - iou_thresholded: 0.9355 - val_loss: 2.6631e-05 - val_iou: 0.6181 - val_iou_thresholded: 0.8789\n",
      "Epoch 181/200\n",
      "648/648 [==============================] - 291s 450ms/step - loss: 3.2197e-06 - iou: 0.8020 - iou_thresholded: 0.9384 - val_loss: 2.6582e-05 - val_iou: 0.3313 - val_iou_thresholded: 0.8646\n",
      "Epoch 182/200\n",
      "648/648 [==============================] - 291s 449ms/step - loss: 4.0744e-06 - iou: 0.7468 - iou_thresholded: 0.9314 - val_loss: 2.6169e-05 - val_iou: 0.6911 - val_iou_thresholded: 0.8671\n",
      "Epoch 183/200\n",
      "648/648 [==============================] - 291s 449ms/step - loss: 3.3828e-06 - iou: 0.7571 - iou_thresholded: 0.9404 - val_loss: 2.7136e-05 - val_iou: 0.5604 - val_iou_thresholded: 0.8694\n",
      "Epoch 184/200\n",
      "648/648 [==============================] - 291s 449ms/step - loss: 3.8824e-06 - iou: 0.7307 - iou_thresholded: 0.9281 - val_loss: 2.8063e-05 - val_iou: 0.6559 - val_iou_thresholded: 0.8739\n",
      "Epoch 185/200\n",
      "648/648 [==============================] - 291s 450ms/step - loss: 3.1440e-06 - iou: 0.8020 - iou_thresholded: 0.9408 - val_loss: 2.9920e-05 - val_iou: 0.4730 - val_iou_thresholded: 0.8675\n",
      "Epoch 186/200\n",
      "648/648 [==============================] - 291s 449ms/step - loss: 2.9845e-06 - iou: 0.7936 - iou_thresholded: 0.9454 - val_loss: 3.0375e-05 - val_iou: 0.6938 - val_iou_thresholded: 0.8711\n",
      "Epoch 187/200\n",
      "648/648 [==============================] - 291s 449ms/step - loss: 3.2902e-06 - iou: 0.8024 - iou_thresholded: 0.9383 - val_loss: 2.9831e-05 - val_iou: 0.3738 - val_iou_thresholded: 0.8420\n",
      "Epoch 188/200\n",
      "648/648 [==============================] - 291s 449ms/step - loss: 3.1264e-06 - iou: 0.7996 - iou_thresholded: 0.9348 - val_loss: 2.8167e-05 - val_iou: 0.6972 - val_iou_thresholded: 0.8703\n",
      "Epoch 189/200\n",
      "648/648 [==============================] - 291s 450ms/step - loss: 3.0940e-06 - iou: 0.7863 - iou_thresholded: 0.9422 - val_loss: 2.8433e-05 - val_iou: 0.7177 - val_iou_thresholded: 0.8606\n",
      "Epoch 190/200\n",
      "648/648 [==============================] - 291s 450ms/step - loss: 2.9481e-06 - iou: 0.7991 - iou_thresholded: 0.9424 - val_loss: 3.0919e-05 - val_iou: 0.4990 - val_iou_thresholded: 0.8397\n",
      "Epoch 191/200\n",
      "648/648 [==============================] - 291s 449ms/step - loss: 3.8394e-06 - iou: 0.7638 - iou_thresholded: 0.9442 - val_loss: 2.7285e-05 - val_iou: 0.6377 - val_iou_thresholded: 0.8517\n",
      "Epoch 192/200\n",
      "648/648 [==============================] - 291s 449ms/step - loss: 2.7647e-06 - iou: 0.8092 - iou_thresholded: 0.9513 - val_loss: 2.9208e-05 - val_iou: 0.7116 - val_iou_thresholded: 0.8667\n",
      "Epoch 193/200\n",
      "648/648 [==============================] - 291s 449ms/step - loss: 2.8252e-06 - iou: 0.7925 - iou_thresholded: 0.9479 - val_loss: 3.0301e-05 - val_iou: 0.2526 - val_iou_thresholded: 0.8739\n",
      "Epoch 194/200\n",
      "648/648 [==============================] - 291s 449ms/step - loss: 3.3287e-06 - iou: 0.7808 - iou_thresholded: 0.9419 - val_loss: 2.8716e-05 - val_iou: 0.7539 - val_iou_thresholded: 0.8655\n",
      "Epoch 195/200\n",
      "648/648 [==============================] - 291s 449ms/step - loss: 2.8016e-06 - iou: 0.7931 - iou_thresholded: 0.9474 - val_loss: 2.8045e-05 - val_iou: 0.6756 - val_iou_thresholded: 0.8725\n",
      "Epoch 196/200\n",
      "648/648 [==============================] - 291s 449ms/step - loss: 2.6595e-06 - iou: 0.8110 - iou_thresholded: 0.9562 - val_loss: 3.0503e-05 - val_iou: 0.7894 - val_iou_thresholded: 0.8605\n",
      "Epoch 197/200\n",
      "648/648 [==============================] - 291s 449ms/step - loss: 2.8948e-06 - iou: 0.8044 - iou_thresholded: 0.9514 - val_loss: 2.9931e-05 - val_iou: 0.7133 - val_iou_thresholded: 0.8616\n",
      "Epoch 198/200\n",
      "648/648 [==============================] - 291s 449ms/step - loss: 3.1026e-06 - iou: 0.7915 - iou_thresholded: 0.9515 - val_loss: 3.1781e-05 - val_iou: 0.3147 - val_iou_thresholded: 0.8641\n",
      "Epoch 199/200\n",
      "648/648 [==============================] - 291s 449ms/step - loss: 2.7033e-06 - iou: 0.7943 - iou_thresholded: 0.9538 - val_loss: 3.0438e-05 - val_iou: 0.7293 - val_iou_thresholded: 0.8729\n",
      "Epoch 200/200\n",
      "648/648 [==============================] - 311s 481ms/step - loss: 3.4657e-06 - iou: 0.7950 - iou_thresholded: 0.9555 - val_loss: 3.2015e-05 - val_iou: 0.4675 - val_iou_thresholded: 0.8612\n"
     ]
    }
   ],
   "source": [
    "model, history = C.Helper.train_unet(X_train_set, y_train_set, X_val, y_val, model, epochs=200)"
   ]
  },
  {
   "cell_type": "code",
   "execution_count": 24,
   "id": "7bc51703",
   "metadata": {},
   "outputs": [
    {
     "data": {
      "image/png": "[encoded data removed]",
      "text/plain": [
       "<Figure size 864x432 with 1 Axes>"
      ]
     },
     "metadata": {
      "needs_background": "light"
     },
     "output_type": "display_data"
    },
    {
     "data": {
      "image/png": "[encoded data removed]",
      "text/plain": [
       "<Figure size 864x432 with 1 Axes>"
      ]
     },
     "metadata": {
      "needs_background": "light"
     },
     "output_type": "display_data"
    }
   ],
   "source": [
    "C.Helper.visualize_graph(history)"
   ]
  },
  {
   "cell_type": "code",
   "execution_count": null,
   "id": "2b9f9190",
   "metadata": {},
   "outputs": [],
   "source": [
    "y_pred = C.Helper.prediction(test_images_array, model)"
   ]
  },
  {
   "cell_type": "code",
   "execution_count": null,
   "id": "85b46673",
   "metadata": {
    "scrolled": true
   },
   "outputs": [],
   "source": [
    "C.Helper.visualize_result(test_images_array, y_test, y_pred)"
   ]
  },
  {
   "cell_type": "code",
   "execution_count": null,
   "id": "9a236ee4",
   "metadata": {},
   "outputs": [],
   "source": [
    "C.Helper.evaluate(test_images_array, y_test, model)"
   ]
  },
  {
   "cell_type": "code",
   "execution_count": null,
   "id": "f18f18a7",
   "metadata": {},
   "outputs": [],
   "source": []
  },
  {
   "cell_type": "code",
   "execution_count": null,
   "id": "9633f74e",
   "metadata": {},
   "outputs": [],
   "source": []
  },
  {
   "cell_type": "code",
   "execution_count": null,
   "id": "230dbf69",
   "metadata": {},
   "outputs": [],
   "source": []
  },
  {
   "cell_type": "code",
   "execution_count": null,
   "id": "91bf77f5",
   "metadata": {},
   "outputs": [],
   "source": []
  },
  {
   "cell_type": "code",
   "execution_count": null,
   "id": "5bf8aa51",
   "metadata": {},
   "outputs": [],
   "source": []
  },
  {
   "cell_type": "code",
   "execution_count": null,
   "id": "5e73cc60",
   "metadata": {},
   "outputs": [],
   "source": []
  },
  {
   "cell_type": "code",
   "execution_count": null,
   "id": "da3bb108",
   "metadata": {},
   "outputs": [],
   "source": []
  },
  {
   "cell_type": "code",
   "execution_count": null,
   "id": "2e3df05d",
   "metadata": {},
   "outputs": [],
   "source": []
  }
 ],
 "metadata": {
  "kernelspec": {
   "display_name": "Python 3 (ipykernel)",
   "language": "python",
   "name": "python3"
  },
  "language_info": {
   "codemirror_mode": {
    "name": "ipython",
    "version": 3
   },
   "file_extension": ".py",
   "mimetype": "text/x-python",
   "name": "python",
   "nbconvert_exporter": "python",
   "pygments_lexer": "ipython3",
   "version": "3.9.7"
  }
 },
 "nbformat": 4,
 "nbformat_minor": 5
}
