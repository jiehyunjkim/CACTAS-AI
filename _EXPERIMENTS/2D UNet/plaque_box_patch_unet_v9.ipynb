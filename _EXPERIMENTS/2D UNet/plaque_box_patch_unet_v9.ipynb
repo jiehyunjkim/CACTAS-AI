{
 "cells": [
  {
   "cell_type": "code",
   "execution_count": 1,
   "id": "5eebebed",
   "metadata": {},
   "outputs": [
    {
     "name": "stdout",
     "output_type": "stream",
     "text": [
      "Populating the interactive namespace from numpy and matplotlib\n"
     ]
    }
   ],
   "source": [
    "%pylab inline\n",
    "%load_ext autoreload\n",
    "%autoreload 2"
   ]
  },
  {
   "cell_type": "code",
   "execution_count": 2,
   "id": "1db43f95",
   "metadata": {},
   "outputs": [],
   "source": [
    "import cactas as C\n",
    "import os\n",
    "import mahotas as mh"
   ]
  },
  {
   "cell_type": "code",
   "execution_count": 3,
   "id": "3a25db15",
   "metadata": {
    "scrolled": true
   },
   "outputs": [
    {
     "name": "stderr",
     "output_type": "stream",
     "text": [
      "2024-05-08 19:06:51.797133: I tensorflow/stream_executor/platform/default/dso_loader.cc:53] Successfully opened dynamic library libcudart.so.11.0\n"
     ]
    },
    {
     "name": "stdout",
     "output_type": "stream",
     "text": [
      "WARNING:tensorflow:From /tmp/ipykernel_278274/392601943.py:2: is_gpu_available (from tensorflow.python.framework.test_util) is deprecated and will be removed in a future version.\n",
      "Instructions for updating:\n",
      "Use `tf.config.list_physical_devices('GPU')` instead.\n"
     ]
    },
    {
     "name": "stderr",
     "output_type": "stream",
     "text": [
      "2024-05-08 19:06:52.837050: I tensorflow/core/platform/cpu_feature_guard.cc:142] This TensorFlow binary is optimized with oneAPI Deep Neural Network Library (oneDNN) to use the following CPU instructions in performance-critical operations:  AVX2 FMA\n",
      "To enable them in other operations, rebuild TensorFlow with the appropriate compiler flags.\n",
      "2024-05-08 19:06:52.838233: I tensorflow/stream_executor/platform/default/dso_loader.cc:53] Successfully opened dynamic library libcuda.so.1\n",
      "2024-05-08 19:06:53.353504: I tensorflow/core/common_runtime/gpu/gpu_device.cc:1733] Found device 0 with properties: \n",
      "pciBusID: 0000:07:00.0 name: A100-SXM4-40GB computeCapability: 8.0\n",
      "coreClock: 1.41GHz coreCount: 108 deviceMemorySize: 39.59GiB deviceMemoryBandwidth: 1.41TiB/s\n",
      "2024-05-08 19:06:53.355984: I tensorflow/core/common_runtime/gpu/gpu_device.cc:1733] Found device 1 with properties: \n",
      "pciBusID: 0000:90:00.0 name: A100-SXM4-40GB computeCapability: 8.0\n",
      "coreClock: 1.41GHz coreCount: 108 deviceMemorySize: 39.59GiB deviceMemoryBandwidth: 1.41TiB/s\n",
      "2024-05-08 19:06:53.356028: I tensorflow/stream_executor/platform/default/dso_loader.cc:53] Successfully opened dynamic library libcudart.so.11.0\n",
      "2024-05-08 19:06:53.359817: I tensorflow/stream_executor/platform/default/dso_loader.cc:53] Successfully opened dynamic library libcublas.so.11\n",
      "2024-05-08 19:06:53.359855: I tensorflow/stream_executor/platform/default/dso_loader.cc:53] Successfully opened dynamic library libcublasLt.so.11\n",
      "2024-05-08 19:06:53.361036: I tensorflow/stream_executor/platform/default/dso_loader.cc:53] Successfully opened dynamic library libcufft.so.10\n",
      "2024-05-08 19:06:53.361671: I tensorflow/stream_executor/platform/default/dso_loader.cc:53] Successfully opened dynamic library libcurand.so.10\n",
      "2024-05-08 19:06:53.362631: I tensorflow/stream_executor/platform/default/dso_loader.cc:53] Successfully opened dynamic library libcusolver.so.11\n",
      "2024-05-08 19:06:53.363836: I tensorflow/stream_executor/platform/default/dso_loader.cc:53] Successfully opened dynamic library libcusparse.so.11\n",
      "2024-05-08 19:06:53.364493: I tensorflow/stream_executor/platform/default/dso_loader.cc:53] Successfully opened dynamic library libcudnn.so.8\n",
      "2024-05-08 19:06:53.374367: I tensorflow/core/common_runtime/gpu/gpu_device.cc:1871] Adding visible gpu devices: 0, 1\n",
      "2024-05-08 19:06:53.374400: I tensorflow/stream_executor/platform/default/dso_loader.cc:53] Successfully opened dynamic library libcudart.so.11.0\n",
      "2024-05-08 19:06:54.129107: I tensorflow/core/common_runtime/gpu/gpu_device.cc:1258] Device interconnect StreamExecutor with strength 1 edge matrix:\n",
      "2024-05-08 19:06:54.129151: I tensorflow/core/common_runtime/gpu/gpu_device.cc:1264]      0 1 \n",
      "2024-05-08 19:06:54.129157: I tensorflow/core/common_runtime/gpu/gpu_device.cc:1277] 0:   N Y \n",
      "2024-05-08 19:06:54.129160: I tensorflow/core/common_runtime/gpu/gpu_device.cc:1277] 1:   Y N \n",
      "2024-05-08 19:06:54.141342: I tensorflow/core/common_runtime/gpu/gpu_device.cc:1418] Created TensorFlow device (/device:GPU:0 with 38425 MB memory) -> physical GPU (device: 0, name: A100-SXM4-40GB, pci bus id: 0000:07:00.0, compute capability: 8.0)\n",
      "2024-05-08 19:06:54.143992: I tensorflow/core/common_runtime/gpu/gpu_device.cc:1418] Created TensorFlow device (/device:GPU:1 with 38425 MB memory) -> physical GPU (device: 1, name: A100-SXM4-40GB, pci bus id: 0000:90:00.0, compute capability: 8.0)\n"
     ]
    },
    {
     "data": {
      "text/plain": [
       "True"
      ]
     },
     "execution_count": 3,
     "metadata": {},
     "output_type": "execute_result"
    }
   ],
   "source": [
    "import tensorflow as tf\n",
    "gpu_available = tf.test.is_gpu_available()\n",
    "gpu_available"
   ]
  },
  {
   "cell_type": "code",
   "execution_count": null,
   "id": "c7599e1d",
   "metadata": {},
   "outputs": [],
   "source": []
  },
  {
   "cell_type": "code",
   "execution_count": 4,
   "id": "ca9de1bc",
   "metadata": {},
   "outputs": [],
   "source": [
    "DATAPATH='/raid/mpsych/CACTAS/DATA/CLEANED/'"
   ]
  },
  {
   "cell_type": "code",
   "execution_count": 5,
   "id": "97b3bd3c",
   "metadata": {},
   "outputs": [],
   "source": [
    "data = C.Helper.load_separate_data(DATAPATH, \n",
    "                    types=('filtered_images', 'filtered_labels', 'filtered_masks'), subsets=('train', 'test'))"
   ]
  },
  {
   "cell_type": "code",
   "execution_count": 6,
   "id": "0166f03a",
   "metadata": {},
   "outputs": [],
   "source": [
    "filtered_images_train = data['filtered_images_train']\n",
    "filtered_images_test = data['filtered_images_test']\n",
    "filtered_labels_train = data['filtered_labels_train']\n",
    "filtered_labels_test = data['filtered_labels_test']\n",
    "filtered_masks_train = data['filtered_masks_train']\n",
    "filtered_masks_test = data['filtered_masks_test']"
   ]
  },
  {
   "cell_type": "code",
   "execution_count": null,
   "id": "05f8a047",
   "metadata": {},
   "outputs": [],
   "source": []
  },
  {
   "cell_type": "code",
   "execution_count": 7,
   "id": "65030ac1",
   "metadata": {},
   "outputs": [],
   "source": [
    "# for i in range(len(filtered_images_train)):\n",
    "#     print(filtered_images_train[i].shape, filtered_labels_train[i].shape, filtered_masks_train[i].shape)"
   ]
  },
  {
   "cell_type": "code",
   "execution_count": 8,
   "id": "511e7cd1",
   "metadata": {},
   "outputs": [],
   "source": [
    "# for i in range(len(filtered_images_test)):\n",
    "#     print(filtered_images_test[i].shape, filtered_labels_test[i].shape, filtered_masks_test[i].shape)"
   ]
  },
  {
   "cell_type": "code",
   "execution_count": null,
   "id": "a9b07f6d",
   "metadata": {},
   "outputs": [],
   "source": []
  },
  {
   "cell_type": "code",
   "execution_count": 9,
   "id": "deb89518",
   "metadata": {},
   "outputs": [],
   "source": [
    "normalized_images_train = C.Helper.normalize_data(filtered_images_train)\n",
    "normalized_images_test = C.Helper.normalize_data(filtered_images_test)"
   ]
  },
  {
   "cell_type": "code",
   "execution_count": 10,
   "id": "4e06c657",
   "metadata": {},
   "outputs": [],
   "source": [
    "normalized_masks_train = C.Helper.normalize_data(filtered_masks_train)\n",
    "normalized_masks_test = C.Helper.normalize_data(filtered_masks_test)"
   ]
  },
  {
   "cell_type": "code",
   "execution_count": null,
   "id": "f2e93307",
   "metadata": {},
   "outputs": [],
   "source": []
  },
  {
   "cell_type": "code",
   "execution_count": 11,
   "id": "8e6ea219",
   "metadata": {},
   "outputs": [],
   "source": [
    "last_key = np.concatenate(normalized_images_train[:round(len(normalized_images_train)*0.8)], axis=0)"
   ]
  },
  {
   "cell_type": "code",
   "execution_count": 38,
   "id": "26403add",
   "metadata": {},
   "outputs": [],
   "source": [
    "# last_key.shape[0]"
   ]
  },
  {
   "cell_type": "code",
   "execution_count": null,
   "id": "b48fe491",
   "metadata": {},
   "outputs": [],
   "source": []
  },
  {
   "cell_type": "code",
   "execution_count": 13,
   "id": "8bd0a33c",
   "metadata": {},
   "outputs": [],
   "source": [
    "X_train = np.concatenate(normalized_images_train, axis=0)\n",
    "X_test = np.concatenate(normalized_images_test, axis=0)\n",
    "y_train_array = np.concatenate(filtered_labels_train, axis=0)\n",
    "y_test_array = np.concatenate(filtered_labels_test, axis=0)\n",
    "m_train = np.concatenate(normalized_masks_train, axis=0)\n",
    "m_test = np.concatenate(normalized_masks_test, axis=0)"
   ]
  },
  {
   "cell_type": "code",
   "execution_count": null,
   "id": "635415b6",
   "metadata": {},
   "outputs": [],
   "source": []
  },
  {
   "cell_type": "code",
   "execution_count": null,
   "id": "bc667e02",
   "metadata": {},
   "outputs": [],
   "source": []
  },
  {
   "cell_type": "code",
   "execution_count": 14,
   "id": "36f94810",
   "metadata": {},
   "outputs": [],
   "source": [
    "new_slices = []\n",
    "for i in range(len(y_train_array)):\n",
    "    slices = np.where(y_train_array[i] != 0, True, False)\n",
    "    new_slices.append(slices)\n",
    "y_train = np.array(new_slices)"
   ]
  },
  {
   "cell_type": "code",
   "execution_count": 15,
   "id": "a771d7e1",
   "metadata": {},
   "outputs": [],
   "source": [
    "new_slices1 = []\n",
    "for i in range(len(y_test_array)):\n",
    "    slices = np.where(y_test_array[i] != 0, True, False)\n",
    "    new_slices1.append(slices)\n",
    "y_test = np.array(new_slices1)"
   ]
  },
  {
   "cell_type": "code",
   "execution_count": null,
   "id": "0f073d33",
   "metadata": {},
   "outputs": [],
   "source": []
  },
  {
   "cell_type": "code",
   "execution_count": 16,
   "id": "f6c61178",
   "metadata": {},
   "outputs": [],
   "source": [
    "y_train = y_train.astype(np.float32)\n",
    "y_test = y_test.astype(np.float32)"
   ]
  },
  {
   "cell_type": "code",
   "execution_count": null,
   "id": "5845b2a4",
   "metadata": {},
   "outputs": [],
   "source": []
  },
  {
   "cell_type": "code",
   "execution_count": 17,
   "id": "3692ec60",
   "metadata": {},
   "outputs": [],
   "source": [
    "train_masks=[]\n",
    "for i in range(len(m_train)):\n",
    "    binary = (m_train[i] > 0).astype(np.uint8)\n",
    "    dilated = mh.dilate(binary.astype(np.bool_))\n",
    "    for _ in range(9):\n",
    "        dilated = mh.dilate(dilated)\n",
    "    train_masks.append(dilated)"
   ]
  },
  {
   "cell_type": "code",
   "execution_count": 18,
   "id": "28b56250",
   "metadata": {},
   "outputs": [],
   "source": [
    "train_images=[]\n",
    "for i in range(len(X_train)):\n",
    "    train_image = X_train[i] * train_masks[i]\n",
    "    train_images.append(train_image)\n",
    "train_images_array = np.array(train_images)"
   ]
  },
  {
   "cell_type": "code",
   "execution_count": null,
   "id": "050bc38c",
   "metadata": {},
   "outputs": [],
   "source": []
  },
  {
   "cell_type": "code",
   "execution_count": 19,
   "id": "092f608d",
   "metadata": {
    "scrolled": true
   },
   "outputs": [],
   "source": [
    "# for i in range(10, 20):\n",
    "#     plt.imshow(train_images[i])\n",
    "#     plt.show()"
   ]
  },
  {
   "cell_type": "code",
   "execution_count": 20,
   "id": "bc55e9be",
   "metadata": {},
   "outputs": [],
   "source": [
    "# for i in range(10, 20):\n",
    "#     plt.imshow(train_images[i])\n",
    "#     plt.imshow(y_train[i], cmap='gray', alpha=0.5)\n",
    "#     plt.show()"
   ]
  },
  {
   "cell_type": "code",
   "execution_count": 21,
   "id": "67fbfaa8",
   "metadata": {},
   "outputs": [],
   "source": [
    "# fig, axes = plt.subplots(1, 3, figsize=(15, 5))\n",
    "# axes[0].imshow(X_train[11], vmin=0, vmax=1)\n",
    "# axes[0].set_title('Original Image')\n",
    "# axes[1].imshow(train_masks[11])\n",
    "# axes[1].set_title('Mask')\n",
    "# axes[2].imshow(train_images[11])\n",
    "# axes[2].set_title('Processed Image')\n",
    "# plt.show()"
   ]
  },
  {
   "cell_type": "code",
   "execution_count": null,
   "id": "7edf63e4",
   "metadata": {},
   "outputs": [],
   "source": []
  },
  {
   "cell_type": "code",
   "execution_count": 22,
   "id": "3a3d4f47",
   "metadata": {},
   "outputs": [],
   "source": [
    "test_masks=[]\n",
    "for i in range(len(m_test)):\n",
    "    binary = (m_test[i] > 0).astype(np.uint8)\n",
    "    dilated = mh.dilate(binary.astype(np.bool_))\n",
    "    for _ in range(9):\n",
    "        dilated = mh.dilate(dilated)\n",
    "    test_masks.append(dilated)"
   ]
  },
  {
   "cell_type": "code",
   "execution_count": 23,
   "id": "c08c1bc9",
   "metadata": {},
   "outputs": [],
   "source": [
    "test_images=[]\n",
    "for i in range(len(X_test)):\n",
    "    test_image = X_test[i] * test_masks[i]\n",
    "    test_images.append(test_image)\n",
    "test_images_array = np.array(test_images)"
   ]
  },
  {
   "cell_type": "code",
   "execution_count": null,
   "id": "d7c3c4a1",
   "metadata": {},
   "outputs": [],
   "source": []
  },
  {
   "cell_type": "code",
   "execution_count": null,
   "id": "9678558b",
   "metadata": {},
   "outputs": [],
   "source": []
  },
  {
   "cell_type": "code",
   "execution_count": 24,
   "id": "7d9bea09",
   "metadata": {},
   "outputs": [],
   "source": [
    "X_train_set = train_images_array[:last_key.shape[0]]\n",
    "y_train_set = y_train[:last_key.shape[0]]\n",
    "X_val = train_images_array[last_key.shape[0]:]\n",
    "y_val = y_train[last_key.shape[0]:]"
   ]
  },
  {
   "cell_type": "code",
   "execution_count": null,
   "id": "9ce256c1",
   "metadata": {},
   "outputs": [],
   "source": []
  },
  {
   "cell_type": "code",
   "execution_count": 25,
   "id": "c43945a0",
   "metadata": {},
   "outputs": [
    {
     "data": {
      "text/plain": [
       "((354, 512, 512, 1), (354, 512, 512, 1))"
      ]
     },
     "execution_count": 25,
     "metadata": {},
     "output_type": "execute_result"
    }
   ],
   "source": [
    "X_train_set.shape, y_train_set.shape"
   ]
  },
  {
   "cell_type": "code",
   "execution_count": 26,
   "id": "a4b42641",
   "metadata": {},
   "outputs": [
    {
     "data": {
      "text/plain": [
       "((95, 512, 512, 1), (95, 512, 512, 1))"
      ]
     },
     "execution_count": 26,
     "metadata": {},
     "output_type": "execute_result"
    }
   ],
   "source": [
    "X_val.shape, y_val.shape"
   ]
  },
  {
   "cell_type": "code",
   "execution_count": 27,
   "id": "f0250dc1",
   "metadata": {},
   "outputs": [
    {
     "data": {
      "text/plain": [
       "(dtype('float32'), dtype('float32'))"
      ]
     },
     "execution_count": 27,
     "metadata": {},
     "output_type": "execute_result"
    }
   ],
   "source": [
    "X_train_set.dtype, y_train_set.dtype"
   ]
  },
  {
   "cell_type": "code",
   "execution_count": null,
   "id": "34dd6c88",
   "metadata": {},
   "outputs": [],
   "source": []
  },
  {
   "cell_type": "code",
   "execution_count": 28,
   "id": "c001a494",
   "metadata": {
    "scrolled": true
   },
   "outputs": [
    {
     "name": "stdout",
     "output_type": "stream",
     "text": [
      "-----------------------------------------\n",
      "keras-unet init: TF version is >= 2.0.0 - using `tf.keras` instead of `Keras`\n",
      "-----------------------------------------\n"
     ]
    },
    {
     "name": "stderr",
     "output_type": "stream",
     "text": [
      "2024-05-08 19:07:08.098279: I tensorflow/core/common_runtime/gpu/gpu_device.cc:1733] Found device 0 with properties: \n",
      "pciBusID: 0000:07:00.0 name: A100-SXM4-40GB computeCapability: 8.0\n",
      "coreClock: 1.41GHz coreCount: 108 deviceMemorySize: 39.59GiB deviceMemoryBandwidth: 1.41TiB/s\n",
      "2024-05-08 19:07:08.100783: I tensorflow/core/common_runtime/gpu/gpu_device.cc:1733] Found device 1 with properties: \n",
      "pciBusID: 0000:90:00.0 name: A100-SXM4-40GB computeCapability: 8.0\n",
      "coreClock: 1.41GHz coreCount: 108 deviceMemorySize: 39.59GiB deviceMemoryBandwidth: 1.41TiB/s\n",
      "2024-05-08 19:07:08.110613: I tensorflow/core/common_runtime/gpu/gpu_device.cc:1871] Adding visible gpu devices: 0, 1\n",
      "2024-05-08 19:07:08.113698: I tensorflow/core/common_runtime/gpu/gpu_device.cc:1733] Found device 0 with properties: \n",
      "pciBusID: 0000:07:00.0 name: A100-SXM4-40GB computeCapability: 8.0\n",
      "coreClock: 1.41GHz coreCount: 108 deviceMemorySize: 39.59GiB deviceMemoryBandwidth: 1.41TiB/s\n",
      "2024-05-08 19:07:08.116131: I tensorflow/core/common_runtime/gpu/gpu_device.cc:1733] Found device 1 with properties: \n",
      "pciBusID: 0000:90:00.0 name: A100-SXM4-40GB computeCapability: 8.0\n",
      "coreClock: 1.41GHz coreCount: 108 deviceMemorySize: 39.59GiB deviceMemoryBandwidth: 1.41TiB/s\n",
      "2024-05-08 19:07:08.126275: I tensorflow/core/common_runtime/gpu/gpu_device.cc:1871] Adding visible gpu devices: 0, 1\n",
      "2024-05-08 19:07:08.126388: I tensorflow/core/common_runtime/gpu/gpu_device.cc:1258] Device interconnect StreamExecutor with strength 1 edge matrix:\n",
      "2024-05-08 19:07:08.126400: I tensorflow/core/common_runtime/gpu/gpu_device.cc:1264]      0 1 \n",
      "2024-05-08 19:07:08.126407: I tensorflow/core/common_runtime/gpu/gpu_device.cc:1277] 0:   N Y \n",
      "2024-05-08 19:07:08.126411: I tensorflow/core/common_runtime/gpu/gpu_device.cc:1277] 1:   Y N \n",
      "2024-05-08 19:07:08.134160: I tensorflow/core/common_runtime/gpu/gpu_device.cc:1418] Created TensorFlow device (/job:localhost/replica:0/task:0/device:GPU:0 with 38425 MB memory) -> physical GPU (device: 0, name: A100-SXM4-40GB, pci bus id: 0000:07:00.0, compute capability: 8.0)\n",
      "2024-05-08 19:07:08.136610: I tensorflow/core/common_runtime/gpu/gpu_device.cc:1418] Created TensorFlow device (/job:localhost/replica:0/task:0/device:GPU:1 with 38425 MB memory) -> physical GPU (device: 1, name: A100-SXM4-40GB, pci bus id: 0000:90:00.0, compute capability: 8.0)\n"
     ]
    }
   ],
   "source": [
    "model = C.Helper.create_unet(X_train_set[0].shape)"
   ]
  },
  {
   "cell_type": "code",
   "execution_count": 29,
   "id": "f889cdd0",
   "metadata": {
    "scrolled": true
   },
   "outputs": [
    {
     "name": "stderr",
     "output_type": "stream",
     "text": [
      "2024-05-08 19:07:08.945493: I tensorflow/compiler/mlir/mlir_graph_optimization_pass.cc:176] None of the MLIR Optimization Passes are enabled (registered 2)\n",
      "2024-05-08 19:07:08.966803: I tensorflow/core/platform/profile_utils/cpu_utils.cc:114] CPU Frequency: 2245740000 Hz\n"
     ]
    },
    {
     "name": "stdout",
     "output_type": "stream",
     "text": [
      "Epoch 1/200\n"
     ]
    },
    {
     "name": "stderr",
     "output_type": "stream",
     "text": [
      "2024-05-08 19:07:10.358621: I tensorflow/stream_executor/platform/default/dso_loader.cc:53] Successfully opened dynamic library libcudnn.so.8\n",
      "2024-05-08 19:07:11.140199: I tensorflow/stream_executor/cuda/cuda_dnn.cc:359] Loaded cuDNN version 8201\n",
      "2024-05-08 19:07:11.918585: W tensorflow/stream_executor/gpu/asm_compiler.cc:191] Falling back to the CUDA driver for PTX compilation; ptxas does not support CC 8.0\n",
      "2024-05-08 19:07:11.918610: W tensorflow/stream_executor/gpu/asm_compiler.cc:194] Used ptxas at ptxas\n",
      "2024-05-08 19:07:11.918679: W tensorflow/stream_executor/gpu/redzone_allocator.cc:314] Unimplemented: ptxas ptxas too old. Falling back to the driver to compile.\n",
      "Relying on driver to perform ptx compilation. \n",
      "Modify $PATH to customize ptxas location.\n",
      "This message will be only logged once.\n",
      "2024-05-08 19:07:12.015433: I tensorflow/stream_executor/platform/default/dso_loader.cc:53] Successfully opened dynamic library libcublas.so.11\n",
      "2024-05-08 19:07:12.881316: I tensorflow/stream_executor/platform/default/dso_loader.cc:53] Successfully opened dynamic library libcublasLt.so.11\n",
      "2024-05-08 19:07:22.317510: W tensorflow/core/common_runtime/bfc_allocator.cc:271] Allocator (GPU_0_bfc) ran out of memory trying to allocate 4.02GiB with freed_by_count=0. The caller indicates that this is not a failure, but may mean that there could be performance gains if more memory were available.\n",
      "2024-05-08 19:07:22.317846: W tensorflow/core/kernels/gpu_utils.cc:49] Failed to allocate memory for convolution redzone checking; skipping this check. This is benign and only means that we won't check cudnn for out-of-bounds reads and writes. This message will only be printed once.\n"
     ]
    },
    {
     "name": "stdout",
     "output_type": "stream",
     "text": [
      "11/11 [==============================] - 40s 2s/step - loss: 0.5947 - iou: 1.0364e-04 - iou_thresholded: 5.9798e-04 - val_loss: 0.0544 - val_iou: 9.9948e-04 - val_iou_thresholded: 0.0010\n",
      "Epoch 2/200\n",
      "11/11 [==============================] - 15s 1s/step - loss: 0.0488 - iou: 0.0012 - iou_thresholded: 0.0016 - val_loss: 0.0032 - val_iou: 1.6956e-04 - val_iou_thresholded: 0.0010\n",
      "Epoch 3/200\n",
      "11/11 [==============================] - 10s 927ms/step - loss: 0.0043 - iou: 5.9392e-04 - iou_thresholded: 8.6535e-04 - val_loss: 0.0018 - val_iou: 7.9853e-04 - val_iou_thresholded: 0.0010\n",
      "Epoch 4/200\n",
      "11/11 [==============================] - 10s 924ms/step - loss: 0.0017 - iou: 0.0036 - iou_thresholded: 0.0107 - val_loss: 8.8005e-04 - val_iou: 0.0098 - val_iou_thresholded: 0.0010\n",
      "Epoch 5/200\n",
      "11/11 [==============================] - 10s 925ms/step - loss: 0.0012 - iou: 0.0082 - iou_thresholded: 0.0037 - val_loss: 6.9995e-04 - val_iou: 0.0112 - val_iou_thresholded: 0.0010\n",
      "Epoch 6/200\n",
      "11/11 [==============================] - 10s 924ms/step - loss: 0.0011 - iou: 0.0149 - iou_thresholded: 0.0017 - val_loss: 8.2828e-04 - val_iou: 0.0147 - val_iou_thresholded: 0.0010\n",
      "Epoch 7/200\n",
      "11/11 [==============================] - 10s 931ms/step - loss: 9.9010e-04 - iou: 0.0153 - iou_thresholded: 0.0017 - val_loss: 7.3313e-04 - val_iou: 0.0184 - val_iou_thresholded: 0.0010\n",
      "Epoch 8/200\n",
      "11/11 [==============================] - 10s 930ms/step - loss: 9.1469e-04 - iou: 0.0211 - iou_thresholded: 0.0021 - val_loss: 8.5670e-04 - val_iou: 0.0209 - val_iou_thresholded: 0.0010\n",
      "Epoch 9/200\n",
      "11/11 [==============================] - 10s 926ms/step - loss: 9.2401e-04 - iou: 0.0209 - iou_thresholded: 0.0014 - val_loss: 6.9746e-04 - val_iou: 0.0164 - val_iou_thresholded: 0.0010\n",
      "Epoch 10/200\n",
      "11/11 [==============================] - 10s 926ms/step - loss: 8.7905e-04 - iou: 0.0220 - iou_thresholded: 0.0018 - val_loss: 6.2455e-04 - val_iou: 0.0167 - val_iou_thresholded: 0.0010\n",
      "Epoch 11/200\n",
      "11/11 [==============================] - 10s 924ms/step - loss: 9.3483e-04 - iou: 0.0234 - iou_thresholded: 0.0027 - val_loss: 6.2492e-04 - val_iou: 0.0169 - val_iou_thresholded: 0.0010\n",
      "Epoch 12/200\n",
      "11/11 [==============================] - 10s 930ms/step - loss: 8.6468e-04 - iou: 0.0270 - iou_thresholded: 0.0024 - val_loss: 8.1218e-04 - val_iou: 0.0216 - val_iou_thresholded: 0.0010\n",
      "Epoch 13/200\n",
      "11/11 [==============================] - 11s 1s/step - loss: 8.6680e-04 - iou: 0.0283 - iou_thresholded: 6.5444e-04 - val_loss: 7.2716e-04 - val_iou: 0.0210 - val_iou_thresholded: 0.0010\n",
      "Epoch 14/200\n",
      "11/11 [==============================] - 10s 1s/step - loss: 8.2953e-04 - iou: 0.0318 - iou_thresholded: 0.0024 - val_loss: 6.9707e-04 - val_iou: 0.0225 - val_iou_thresholded: 0.0010\n",
      "Epoch 15/200\n",
      "11/11 [==============================] - 10s 927ms/step - loss: 8.5197e-04 - iou: 0.0264 - iou_thresholded: 0.0076 - val_loss: 6.5830e-04 - val_iou: 0.0198 - val_iou_thresholded: 0.0010\n",
      "Epoch 16/200\n",
      "11/11 [==============================] - 10s 931ms/step - loss: 7.8205e-04 - iou: 0.0365 - iou_thresholded: 0.0012 - val_loss: 7.1156e-04 - val_iou: 0.0221 - val_iou_thresholded: 0.0010\n",
      "Epoch 17/200\n",
      "11/11 [==============================] - 10s 929ms/step - loss: 8.2310e-04 - iou: 0.0406 - iou_thresholded: 0.0012 - val_loss: 8.9258e-04 - val_iou: 0.0235 - val_iou_thresholded: 0.0010\n",
      "Epoch 18/200\n",
      "11/11 [==============================] - 10s 926ms/step - loss: 8.0209e-04 - iou: 0.0410 - iou_thresholded: 0.0014 - val_loss: 7.0037e-04 - val_iou: 0.0218 - val_iou_thresholded: 0.0010\n",
      "Epoch 19/200\n",
      "11/11 [==============================] - 10s 927ms/step - loss: 7.9789e-04 - iou: 0.0425 - iou_thresholded: 0.0033 - val_loss: 7.1661e-04 - val_iou: 0.0267 - val_iou_thresholded: 0.0010\n",
      "Epoch 20/200\n",
      "11/11 [==============================] - 10s 927ms/step - loss: 6.8287e-04 - iou: 0.0464 - iou_thresholded: 0.0026 - val_loss: 6.5403e-04 - val_iou: 0.0167 - val_iou_thresholded: 0.0010\n",
      "Epoch 21/200\n",
      "11/11 [==============================] - 10s 931ms/step - loss: 7.9267e-04 - iou: 0.0476 - iou_thresholded: 0.0078 - val_loss: 6.6412e-04 - val_iou: 0.0301 - val_iou_thresholded: 0.0013\n",
      "Epoch 22/200\n",
      "11/11 [==============================] - 10s 926ms/step - loss: 7.6984e-04 - iou: 0.0624 - iou_thresholded: 0.0260 - val_loss: 7.2083e-04 - val_iou: 0.0176 - val_iou_thresholded: 0.0010\n",
      "Epoch 23/200\n",
      "11/11 [==============================] - 10s 927ms/step - loss: 8.9354e-04 - iou: 0.0368 - iou_thresholded: 0.0109 - val_loss: 7.7716e-04 - val_iou: 0.0091 - val_iou_thresholded: 0.0010\n",
      "Epoch 24/200\n",
      "11/11 [==============================] - 10s 928ms/step - loss: 8.7357e-04 - iou: 0.0365 - iou_thresholded: 0.0025 - val_loss: 6.8701e-04 - val_iou: 0.0218 - val_iou_thresholded: 0.0010\n",
      "Epoch 25/200\n",
      "11/11 [==============================] - 11s 1s/step - loss: 7.8643e-04 - iou: 0.0433 - iou_thresholded: 0.0022 - val_loss: 8.5242e-04 - val_iou: 0.0297 - val_iou_thresholded: 0.0013\n",
      "Epoch 26/200\n",
      "11/11 [==============================] - 10s 1s/step - loss: 7.7626e-04 - iou: 0.0539 - iou_thresholded: 0.0109 - val_loss: 5.6662e-04 - val_iou: 0.0419 - val_iou_thresholded: 0.0025\n",
      "Epoch 27/200\n",
      "11/11 [==============================] - 10s 930ms/step - loss: 7.0089e-04 - iou: 0.0673 - iou_thresholded: 0.0209 - val_loss: 5.6534e-04 - val_iou: 0.0528 - val_iou_thresholded: 0.0128\n",
      "Epoch 28/200\n",
      "11/11 [==============================] - 10s 929ms/step - loss: 6.0544e-04 - iou: 0.0880 - iou_thresholded: 0.0816 - val_loss: 5.9344e-04 - val_iou: 0.0455 - val_iou_thresholded: 0.0074\n",
      "Epoch 29/200\n",
      "11/11 [==============================] - 10s 931ms/step - loss: 6.9955e-04 - iou: 0.1101 - iou_thresholded: 0.1592 - val_loss: 5.5236e-04 - val_iou: 0.0629 - val_iou_thresholded: 0.0408\n",
      "Epoch 30/200\n",
      "11/11 [==============================] - 10s 931ms/step - loss: 5.8563e-04 - iou: 0.1180 - iou_thresholded: 0.1326 - val_loss: 5.3290e-04 - val_iou: 0.0743 - val_iou_thresholded: 0.0552\n",
      "Epoch 31/200\n",
      "11/11 [==============================] - 10s 930ms/step - loss: 5.9876e-04 - iou: 0.1393 - iou_thresholded: 0.1824 - val_loss: 5.7880e-04 - val_iou: 0.0857 - val_iou_thresholded: 0.0858\n",
      "Epoch 32/200\n",
      "11/11 [==============================] - 10s 929ms/step - loss: 5.2527e-04 - iou: 0.1805 - iou_thresholded: 0.2683 - val_loss: 5.7717e-04 - val_iou: 0.1015 - val_iou_thresholded: 0.1198\n",
      "Epoch 33/200\n",
      "11/11 [==============================] - 10s 927ms/step - loss: 5.6988e-04 - iou: 0.1908 - iou_thresholded: 0.2645 - val_loss: 5.3712e-04 - val_iou: 0.0857 - val_iou_thresholded: 0.0734\n",
      "Epoch 34/200\n",
      "11/11 [==============================] - 10s 933ms/step - loss: 5.2176e-04 - iou: 0.2141 - iou_thresholded: 0.3180 - val_loss: 5.8551e-04 - val_iou: 0.1279 - val_iou_thresholded: 0.1935\n",
      "Epoch 35/200\n",
      "11/11 [==============================] - 10s 943ms/step - loss: 4.8590e-04 - iou: 0.2168 - iou_thresholded: 0.3114 - val_loss: 5.4902e-04 - val_iou: 0.1395 - val_iou_thresholded: 0.2538\n",
      "Epoch 36/200\n",
      "11/11 [==============================] - 10s 926ms/step - loss: 5.2340e-04 - iou: 0.2204 - iou_thresholded: 0.3165 - val_loss: 5.4750e-04 - val_iou: 0.1194 - val_iou_thresholded: 0.1886\n",
      "Epoch 37/200\n",
      "11/11 [==============================] - 11s 1s/step - loss: 4.7504e-04 - iou: 0.2189 - iou_thresholded: 0.3323 - val_loss: 6.6895e-04 - val_iou: 0.1360 - val_iou_thresholded: 0.1966\n",
      "Epoch 38/200\n",
      "11/11 [==============================] - 10s 1s/step - loss: 4.5781e-04 - iou: 0.2914 - iou_thresholded: 0.3973 - val_loss: 5.1216e-04 - val_iou: 0.1674 - val_iou_thresholded: 0.2108\n",
      "Epoch 39/200\n",
      "11/11 [==============================] - 10s 936ms/step - loss: 4.4639e-04 - iou: 0.2591 - iou_thresholded: 0.3795 - val_loss: 5.3462e-04 - val_iou: 0.1801 - val_iou_thresholded: 0.2918\n",
      "Epoch 40/200\n",
      "11/11 [==============================] - 10s 925ms/step - loss: 4.1820e-04 - iou: 0.2939 - iou_thresholded: 0.4210 - val_loss: 5.2390e-04 - val_iou: 0.2114 - val_iou_thresholded: 0.2696\n",
      "Epoch 41/200\n",
      "11/11 [==============================] - 10s 928ms/step - loss: 4.6184e-04 - iou: 0.3000 - iou_thresholded: 0.4024 - val_loss: 6.8453e-04 - val_iou: 0.1455 - val_iou_thresholded: 0.1877\n",
      "Epoch 42/200\n"
     ]
    },
    {
     "name": "stdout",
     "output_type": "stream",
     "text": [
      "11/11 [==============================] - 10s 927ms/step - loss: 3.9640e-04 - iou: 0.2926 - iou_thresholded: 0.4038 - val_loss: 5.2492e-04 - val_iou: 0.1915 - val_iou_thresholded: 0.2441\n",
      "Epoch 43/200\n",
      "11/11 [==============================] - 10s 931ms/step - loss: 4.0437e-04 - iou: 0.3215 - iou_thresholded: 0.4467 - val_loss: 5.5902e-04 - val_iou: 0.1996 - val_iou_thresholded: 0.2282\n",
      "Epoch 44/200\n",
      "11/11 [==============================] - 10s 927ms/step - loss: 4.0047e-04 - iou: 0.3184 - iou_thresholded: 0.4261 - val_loss: 6.2290e-04 - val_iou: 0.1893 - val_iou_thresholded: 0.2375\n",
      "Epoch 45/200\n",
      "11/11 [==============================] - 10s 926ms/step - loss: 3.6491e-04 - iou: 0.3429 - iou_thresholded: 0.4717 - val_loss: 6.1397e-04 - val_iou: 0.1970 - val_iou_thresholded: 0.2841\n",
      "Epoch 46/200\n",
      "11/11 [==============================] - 10s 927ms/step - loss: 3.6855e-04 - iou: 0.3536 - iou_thresholded: 0.4775 - val_loss: 5.3020e-04 - val_iou: 0.2206 - val_iou_thresholded: 0.2785\n",
      "Epoch 47/200\n",
      "11/11 [==============================] - 10s 931ms/step - loss: 3.6425e-04 - iou: 0.3336 - iou_thresholded: 0.4470 - val_loss: 5.9798e-04 - val_iou: 0.2200 - val_iou_thresholded: 0.3133\n",
      "Epoch 48/200\n",
      "11/11 [==============================] - 10s 928ms/step - loss: 3.4137e-04 - iou: 0.3818 - iou_thresholded: 0.5079 - val_loss: 5.4585e-04 - val_iou: 0.2378 - val_iou_thresholded: 0.3149\n",
      "Epoch 49/200\n",
      "11/11 [==============================] - 11s 1s/step - loss: 3.4511e-04 - iou: 0.3703 - iou_thresholded: 0.4918 - val_loss: 6.9751e-04 - val_iou: 0.2032 - val_iou_thresholded: 0.2772\n",
      "Epoch 50/200\n",
      "11/11 [==============================] - 10s 1s/step - loss: 3.9484e-04 - iou: 0.3311 - iou_thresholded: 0.4129 - val_loss: 4.7003e-04 - val_iou: 0.2218 - val_iou_thresholded: 0.3319\n",
      "Epoch 51/200\n",
      "11/11 [==============================] - 10s 932ms/step - loss: 3.5825e-04 - iou: 0.3191 - iou_thresholded: 0.4392 - val_loss: 5.1441e-04 - val_iou: 0.2345 - val_iou_thresholded: 0.3270\n",
      "Epoch 52/200\n",
      "11/11 [==============================] - 10s 929ms/step - loss: 3.3727e-04 - iou: 0.3746 - iou_thresholded: 0.4871 - val_loss: 5.3814e-04 - val_iou: 0.2455 - val_iou_thresholded: 0.3281\n",
      "Epoch 53/200\n",
      "11/11 [==============================] - 10s 926ms/step - loss: 3.3336e-04 - iou: 0.4013 - iou_thresholded: 0.5336 - val_loss: 6.1980e-04 - val_iou: 0.2318 - val_iou_thresholded: 0.3127\n",
      "Epoch 54/200\n",
      "11/11 [==============================] - 10s 929ms/step - loss: 3.0494e-04 - iou: 0.3947 - iou_thresholded: 0.5012 - val_loss: 6.7450e-04 - val_iou: 0.2233 - val_iou_thresholded: 0.2933\n",
      "Epoch 55/200\n",
      "11/11 [==============================] - 10s 931ms/step - loss: 3.4169e-04 - iou: 0.4040 - iou_thresholded: 0.5474 - val_loss: 6.9355e-04 - val_iou: 0.2319 - val_iou_thresholded: 0.2872\n",
      "Epoch 56/200\n",
      "11/11 [==============================] - 10s 931ms/step - loss: 2.8731e-04 - iou: 0.4440 - iou_thresholded: 0.5615 - val_loss: 6.3060e-04 - val_iou: 0.2390 - val_iou_thresholded: 0.3208\n",
      "Epoch 57/200\n",
      "11/11 [==============================] - 10s 926ms/step - loss: 3.1442e-04 - iou: 0.4414 - iou_thresholded: 0.5645 - val_loss: 6.4306e-04 - val_iou: 0.2605 - val_iou_thresholded: 0.2828\n",
      "Epoch 58/200\n",
      "11/11 [==============================] - 10s 928ms/step - loss: 3.2532e-04 - iou: 0.4149 - iou_thresholded: 0.5171 - val_loss: 5.2879e-04 - val_iou: 0.2580 - val_iou_thresholded: 0.3702\n",
      "Epoch 59/200\n",
      "11/11 [==============================] - 10s 929ms/step - loss: 3.1187e-04 - iou: 0.4072 - iou_thresholded: 0.5191 - val_loss: 6.2609e-04 - val_iou: 0.2405 - val_iou_thresholded: 0.2532\n",
      "Epoch 60/200\n",
      "11/11 [==============================] - 10s 934ms/step - loss: 3.7644e-04 - iou: 0.3542 - iou_thresholded: 0.4654 - val_loss: 5.1345e-04 - val_iou: 0.2835 - val_iou_thresholded: 0.3549\n",
      "Epoch 61/200\n",
      "11/11 [==============================] - 11s 1s/step - loss: 2.9542e-04 - iou: 0.4240 - iou_thresholded: 0.5532 - val_loss: 6.0362e-04 - val_iou: 0.2868 - val_iou_thresholded: 0.4092\n",
      "Epoch 62/200\n",
      "11/11 [==============================] - 10s 1s/step - loss: 2.8993e-04 - iou: 0.4192 - iou_thresholded: 0.5379 - val_loss: 5.5703e-04 - val_iou: 0.2983 - val_iou_thresholded: 0.3708\n",
      "Epoch 63/200\n",
      "11/11 [==============================] - 10s 939ms/step - loss: 2.8615e-04 - iou: 0.4530 - iou_thresholded: 0.5769 - val_loss: 6.1836e-04 - val_iou: 0.2967 - val_iou_thresholded: 0.3798\n",
      "Epoch 64/200\n",
      "11/11 [==============================] - 10s 933ms/step - loss: 2.9360e-04 - iou: 0.4365 - iou_thresholded: 0.5536 - val_loss: 4.7368e-04 - val_iou: 0.2842 - val_iou_thresholded: 0.4067\n",
      "Epoch 65/200\n",
      "11/11 [==============================] - 10s 931ms/step - loss: 2.6974e-04 - iou: 0.4595 - iou_thresholded: 0.5879 - val_loss: 5.8867e-04 - val_iou: 0.2988 - val_iou_thresholded: 0.3552\n",
      "Epoch 66/200\n",
      "11/11 [==============================] - 10s 927ms/step - loss: 3.0893e-04 - iou: 0.4383 - iou_thresholded: 0.5431 - val_loss: 7.0035e-04 - val_iou: 0.2591 - val_iou_thresholded: 0.3969\n",
      "Epoch 67/200\n",
      "11/11 [==============================] - 10s 929ms/step - loss: 2.8845e-04 - iou: 0.4284 - iou_thresholded: 0.5465 - val_loss: 6.3363e-04 - val_iou: 0.3169 - val_iou_thresholded: 0.3714\n",
      "Epoch 68/200\n",
      "11/11 [==============================] - 10s 928ms/step - loss: 3.1407e-04 - iou: 0.4222 - iou_thresholded: 0.5170 - val_loss: 4.3657e-04 - val_iou: 0.3385 - val_iou_thresholded: 0.4427\n",
      "Epoch 69/200\n",
      "11/11 [==============================] - 10s 933ms/step - loss: 2.7967e-04 - iou: 0.4313 - iou_thresholded: 0.5533 - val_loss: 5.4177e-04 - val_iou: 0.3191 - val_iou_thresholded: 0.3999\n",
      "Epoch 70/200\n",
      "11/11 [==============================] - 10s 927ms/step - loss: 2.4710e-04 - iou: 0.4800 - iou_thresholded: 0.5995 - val_loss: 6.5491e-04 - val_iou: 0.3044 - val_iou_thresholded: 0.3737\n",
      "Epoch 71/200\n",
      "11/11 [==============================] - 10s 927ms/step - loss: 2.5188e-04 - iou: 0.4944 - iou_thresholded: 0.6026 - val_loss: 5.8384e-04 - val_iou: 0.3063 - val_iou_thresholded: 0.3845\n",
      "Epoch 72/200\n",
      "11/11 [==============================] - 10s 927ms/step - loss: 2.4260e-04 - iou: 0.5024 - iou_thresholded: 0.6100 - val_loss: 6.5149e-04 - val_iou: 0.3017 - val_iou_thresholded: 0.3557\n",
      "Epoch 73/200\n",
      "11/11 [==============================] - 11s 1s/step - loss: 2.4047e-04 - iou: 0.4823 - iou_thresholded: 0.6028 - val_loss: 5.4732e-04 - val_iou: 0.3171 - val_iou_thresholded: 0.3950\n",
      "Epoch 74/200\n",
      "11/11 [==============================] - 10s 1s/step - loss: 2.2989e-04 - iou: 0.5160 - iou_thresholded: 0.6199 - val_loss: 6.3925e-04 - val_iou: 0.3259 - val_iou_thresholded: 0.3894\n",
      "Epoch 75/200\n",
      "11/11 [==============================] - 10s 929ms/step - loss: 2.3480e-04 - iou: 0.4892 - iou_thresholded: 0.5984 - val_loss: 5.4372e-04 - val_iou: 0.3384 - val_iou_thresholded: 0.4169\n",
      "Epoch 76/200\n",
      "11/11 [==============================] - 10s 927ms/step - loss: 2.3210e-04 - iou: 0.5016 - iou_thresholded: 0.6311 - val_loss: 5.4171e-04 - val_iou: 0.3346 - val_iou_thresholded: 0.4080\n",
      "Epoch 77/200\n",
      "11/11 [==============================] - 10s 932ms/step - loss: 2.2671e-04 - iou: 0.5232 - iou_thresholded: 0.6329 - val_loss: 7.2281e-04 - val_iou: 0.3051 - val_iou_thresholded: 0.3603\n",
      "Epoch 78/200\n",
      "11/11 [==============================] - 10s 932ms/step - loss: 2.4489e-04 - iou: 0.4839 - iou_thresholded: 0.5845 - val_loss: 4.5632e-04 - val_iou: 0.3714 - val_iou_thresholded: 0.4452\n",
      "Epoch 79/200\n",
      "11/11 [==============================] - 10s 930ms/step - loss: 2.0203e-04 - iou: 0.5209 - iou_thresholded: 0.6303 - val_loss: 6.2754e-04 - val_iou: 0.3170 - val_iou_thresholded: 0.3792\n",
      "Epoch 80/200\n",
      "11/11 [==============================] - 10s 928ms/step - loss: 2.1822e-04 - iou: 0.5445 - iou_thresholded: 0.6508 - val_loss: 5.4773e-04 - val_iou: 0.3529 - val_iou_thresholded: 0.4191\n",
      "Epoch 81/200\n",
      "11/11 [==============================] - 10s 930ms/step - loss: 2.1618e-04 - iou: 0.4949 - iou_thresholded: 0.5938 - val_loss: 7.2096e-04 - val_iou: 0.3198 - val_iou_thresholded: 0.3708\n",
      "Epoch 82/200\n",
      "11/11 [==============================] - 10s 933ms/step - loss: 2.3054e-04 - iou: 0.4969 - iou_thresholded: 0.5957 - val_loss: 5.5216e-04 - val_iou: 0.3329 - val_iou_thresholded: 0.4141\n",
      "Epoch 83/200\n"
     ]
    },
    {
     "name": "stdout",
     "output_type": "stream",
     "text": [
      "11/11 [==============================] - 10s 933ms/step - loss: 2.1568e-04 - iou: 0.5207 - iou_thresholded: 0.6379 - val_loss: 7.0321e-04 - val_iou: 0.3463 - val_iou_thresholded: 0.3878\n",
      "Epoch 84/200\n",
      "11/11 [==============================] - 10s 930ms/step - loss: 2.1914e-04 - iou: 0.5119 - iou_thresholded: 0.6219 - val_loss: 5.8211e-04 - val_iou: 0.3422 - val_iou_thresholded: 0.4261\n",
      "Epoch 85/200\n",
      "11/11 [==============================] - 11s 1s/step - loss: 2.0381e-04 - iou: 0.5441 - iou_thresholded: 0.6466 - val_loss: 5.6611e-04 - val_iou: 0.3634 - val_iou_thresholded: 0.4211\n",
      "Epoch 86/200\n",
      "11/11 [==============================] - 10s 1s/step - loss: 2.0680e-04 - iou: 0.5218 - iou_thresholded: 0.6243 - val_loss: 5.8083e-04 - val_iou: 0.3761 - val_iou_thresholded: 0.4392\n",
      "Epoch 87/200\n",
      "11/11 [==============================] - 10s 932ms/step - loss: 2.0149e-04 - iou: 0.5388 - iou_thresholded: 0.6323 - val_loss: 6.3880e-04 - val_iou: 0.3528 - val_iou_thresholded: 0.4201\n",
      "Epoch 88/200\n",
      "11/11 [==============================] - 10s 929ms/step - loss: 1.8773e-04 - iou: 0.5608 - iou_thresholded: 0.6620 - val_loss: 6.4403e-04 - val_iou: 0.3817 - val_iou_thresholded: 0.4469\n",
      "Epoch 89/200\n",
      "11/11 [==============================] - 10s 928ms/step - loss: 3.1515e-04 - iou: 0.4879 - iou_thresholded: 0.5610 - val_loss: 5.0560e-04 - val_iou: 0.2776 - val_iou_thresholded: 0.4767\n",
      "Epoch 90/200\n",
      "11/11 [==============================] - 10s 933ms/step - loss: 2.7584e-04 - iou: 0.4084 - iou_thresholded: 0.5362 - val_loss: 5.1647e-04 - val_iou: 0.3525 - val_iou_thresholded: 0.4728\n",
      "Epoch 91/200\n",
      "11/11 [==============================] - 10s 932ms/step - loss: 2.2558e-04 - iou: 0.5438 - iou_thresholded: 0.6576 - val_loss: 5.8737e-04 - val_iou: 0.3629 - val_iou_thresholded: 0.4311\n",
      "Epoch 92/200\n",
      "11/11 [==============================] - 10s 929ms/step - loss: 2.1542e-04 - iou: 0.4977 - iou_thresholded: 0.6181 - val_loss: 6.3261e-04 - val_iou: 0.3510 - val_iou_thresholded: 0.4141\n",
      "Epoch 93/200\n",
      "11/11 [==============================] - 10s 930ms/step - loss: 2.1826e-04 - iou: 0.5415 - iou_thresholded: 0.6462 - val_loss: 6.6793e-04 - val_iou: 0.3445 - val_iou_thresholded: 0.4315\n",
      "Epoch 94/200\n",
      "11/11 [==============================] - 10s 935ms/step - loss: 1.9324e-04 - iou: 0.5436 - iou_thresholded: 0.6581 - val_loss: 5.4308e-04 - val_iou: 0.3718 - val_iou_thresholded: 0.4753\n",
      "Epoch 95/200\n",
      "11/11 [==============================] - 10s 936ms/step - loss: 2.1671e-04 - iou: 0.5055 - iou_thresholded: 0.6151 - val_loss: 6.2335e-04 - val_iou: 0.3163 - val_iou_thresholded: 0.3453\n",
      "Epoch 96/200\n",
      "11/11 [==============================] - 10s 931ms/step - loss: 2.3623e-04 - iou: 0.5089 - iou_thresholded: 0.6383 - val_loss: 5.8865e-04 - val_iou: 0.3383 - val_iou_thresholded: 0.4662\n",
      "Epoch 97/200\n",
      "11/11 [==============================] - 11s 1s/step - loss: 2.0951e-04 - iou: 0.5442 - iou_thresholded: 0.6536 - val_loss: 5.5719e-04 - val_iou: 0.3972 - val_iou_thresholded: 0.4787\n",
      "Epoch 98/200\n",
      "11/11 [==============================] - 10s 1s/step - loss: 2.0492e-04 - iou: 0.5589 - iou_thresholded: 0.6621 - val_loss: 6.3816e-04 - val_iou: 0.3937 - val_iou_thresholded: 0.4537\n",
      "Epoch 99/200\n",
      "11/11 [==============================] - 10s 940ms/step - loss: 1.9235e-04 - iou: 0.5731 - iou_thresholded: 0.6668 - val_loss: 5.9888e-04 - val_iou: 0.3669 - val_iou_thresholded: 0.4551\n",
      "Epoch 100/200\n",
      "11/11 [==============================] - 10s 931ms/step - loss: 1.8289e-04 - iou: 0.5588 - iou_thresholded: 0.6805 - val_loss: 6.4021e-04 - val_iou: 0.3615 - val_iou_thresholded: 0.4112\n",
      "Epoch 101/200\n",
      "11/11 [==============================] - 10s 927ms/step - loss: 1.9325e-04 - iou: 0.5469 - iou_thresholded: 0.6470 - val_loss: 6.3262e-04 - val_iou: 0.3680 - val_iou_thresholded: 0.4479\n",
      "Epoch 102/200\n",
      "11/11 [==============================] - 10s 930ms/step - loss: 1.5463e-04 - iou: 0.6097 - iou_thresholded: 0.7214 - val_loss: 6.1398e-04 - val_iou: 0.3805 - val_iou_thresholded: 0.4524\n",
      "Epoch 103/200\n",
      "11/11 [==============================] - 10s 929ms/step - loss: 1.8572e-04 - iou: 0.5903 - iou_thresholded: 0.7010 - val_loss: 6.6653e-04 - val_iou: 0.3946 - val_iou_thresholded: 0.4633\n",
      "Epoch 104/200\n",
      "11/11 [==============================] - 10s 934ms/step - loss: 1.6959e-04 - iou: 0.6013 - iou_thresholded: 0.6982 - val_loss: 6.4968e-04 - val_iou: 0.3740 - val_iou_thresholded: 0.4556\n",
      "Epoch 105/200\n",
      "11/11 [==============================] - 10s 928ms/step - loss: 1.6731e-04 - iou: 0.6055 - iou_thresholded: 0.7041 - val_loss: 6.4536e-04 - val_iou: 0.3824 - val_iou_thresholded: 0.4452\n",
      "Epoch 106/200\n",
      "11/11 [==============================] - 10s 929ms/step - loss: 1.7925e-04 - iou: 0.5997 - iou_thresholded: 0.6950 - val_loss: 6.2976e-04 - val_iou: 0.3886 - val_iou_thresholded: 0.4644\n",
      "Epoch 107/200\n",
      "11/11 [==============================] - 10s 931ms/step - loss: 1.6184e-04 - iou: 0.5983 - iou_thresholded: 0.7091 - val_loss: 7.0952e-04 - val_iou: 0.3921 - val_iou_thresholded: 0.4529\n",
      "Epoch 108/200\n",
      "11/11 [==============================] - 10s 934ms/step - loss: 1.6938e-04 - iou: 0.6028 - iou_thresholded: 0.7048 - val_loss: 6.1342e-04 - val_iou: 0.3933 - val_iou_thresholded: 0.4719\n",
      "Epoch 109/200\n",
      "11/11 [==============================] - 11s 1s/step - loss: 1.5835e-04 - iou: 0.6124 - iou_thresholded: 0.7129 - val_loss: 7.7563e-04 - val_iou: 0.3857 - val_iou_thresholded: 0.4470\n",
      "Epoch 110/200\n",
      "11/11 [==============================] - 10s 1s/step - loss: 1.6144e-04 - iou: 0.6180 - iou_thresholded: 0.7146 - val_loss: 8.2762e-04 - val_iou: 0.4108 - val_iou_thresholded: 0.4605\n",
      "Epoch 111/200\n",
      "11/11 [==============================] - 10s 928ms/step - loss: 1.5464e-04 - iou: 0.6206 - iou_thresholded: 0.7208 - val_loss: 7.9532e-04 - val_iou: 0.4006 - val_iou_thresholded: 0.4750\n",
      "Epoch 112/200\n",
      "11/11 [==============================] - 10s 933ms/step - loss: 1.4970e-04 - iou: 0.6445 - iou_thresholded: 0.7427 - val_loss: 7.8443e-04 - val_iou: 0.4036 - val_iou_thresholded: 0.4501\n",
      "Epoch 113/200\n",
      "11/11 [==============================] - 10s 932ms/step - loss: 1.5040e-04 - iou: 0.6286 - iou_thresholded: 0.7278 - val_loss: 8.6501e-04 - val_iou: 0.3735 - val_iou_thresholded: 0.4294\n",
      "Epoch 114/200\n",
      "11/11 [==============================] - 10s 928ms/step - loss: 1.4981e-04 - iou: 0.6216 - iou_thresholded: 0.7181 - val_loss: 7.6512e-04 - val_iou: 0.3952 - val_iou_thresholded: 0.4524\n",
      "Epoch 115/200\n",
      "11/11 [==============================] - 10s 931ms/step - loss: 1.4686e-04 - iou: 0.6418 - iou_thresholded: 0.7417 - val_loss: 8.3050e-04 - val_iou: 0.3844 - val_iou_thresholded: 0.4449\n",
      "Epoch 116/200\n",
      "11/11 [==============================] - 10s 927ms/step - loss: 1.5015e-04 - iou: 0.6397 - iou_thresholded: 0.7326 - val_loss: 6.1053e-04 - val_iou: 0.3968 - val_iou_thresholded: 0.4408\n",
      "Epoch 117/200\n",
      "11/11 [==============================] - 10s 932ms/step - loss: 1.5574e-04 - iou: 0.5925 - iou_thresholded: 0.6765 - val_loss: 6.1141e-04 - val_iou: 0.4388 - val_iou_thresholded: 0.4852\n",
      "Epoch 118/200\n",
      "11/11 [==============================] - 10s 930ms/step - loss: 1.9101e-04 - iou: 0.5665 - iou_thresholded: 0.6552 - val_loss: 6.5504e-04 - val_iou: 0.3177 - val_iou_thresholded: 0.4287\n",
      "Epoch 119/200\n",
      "11/11 [==============================] - 10s 931ms/step - loss: 1.9640e-04 - iou: 0.5643 - iou_thresholded: 0.6787 - val_loss: 5.3565e-04 - val_iou: 0.4476 - val_iou_thresholded: 0.5004\n",
      "Epoch 120/200\n",
      "11/11 [==============================] - 10s 927ms/step - loss: 1.6743e-04 - iou: 0.5571 - iou_thresholded: 0.6552 - val_loss: 5.2237e-04 - val_iou: 0.4449 - val_iou_thresholded: 0.5132\n",
      "Epoch 121/200\n",
      "11/11 [==============================] - 11s 1s/step - loss: 1.6427e-04 - iou: 0.6105 - iou_thresholded: 0.7028 - val_loss: 6.0095e-04 - val_iou: 0.4060 - val_iou_thresholded: 0.4825\n",
      "Epoch 122/200\n",
      "11/11 [==============================] - 10s 1s/step - loss: 1.5950e-04 - iou: 0.6059 - iou_thresholded: 0.7197 - val_loss: 6.2275e-04 - val_iou: 0.4236 - val_iou_thresholded: 0.4920\n",
      "Epoch 123/200\n",
      "11/11 [==============================] - 10s 931ms/step - loss: 1.4991e-04 - iou: 0.5936 - iou_thresholded: 0.6899 - val_loss: 7.2856e-04 - val_iou: 0.3718 - val_iou_thresholded: 0.4214\n",
      "Epoch 124/200\n"
     ]
    },
    {
     "name": "stdout",
     "output_type": "stream",
     "text": [
      "11/11 [==============================] - 10s 929ms/step - loss: 1.5431e-04 - iou: 0.6382 - iou_thresholded: 0.7339 - val_loss: 6.0768e-04 - val_iou: 0.4084 - val_iou_thresholded: 0.4559\n",
      "Epoch 125/200\n",
      "11/11 [==============================] - 10s 931ms/step - loss: 1.4438e-04 - iou: 0.6610 - iou_thresholded: 0.7597 - val_loss: 8.8180e-04 - val_iou: 0.3506 - val_iou_thresholded: 0.3945\n",
      "Epoch 126/200\n",
      "11/11 [==============================] - 10s 931ms/step - loss: 1.3984e-04 - iou: 0.6438 - iou_thresholded: 0.7366 - val_loss: 7.5386e-04 - val_iou: 0.3746 - val_iou_thresholded: 0.4156\n",
      "Epoch 127/200\n",
      "11/11 [==============================] - 10s 932ms/step - loss: 1.3067e-04 - iou: 0.6541 - iou_thresholded: 0.7539 - val_loss: 7.5632e-04 - val_iou: 0.3823 - val_iou_thresholded: 0.4356\n",
      "Epoch 128/200\n",
      "11/11 [==============================] - 10s 930ms/step - loss: 1.4583e-04 - iou: 0.6509 - iou_thresholded: 0.7352 - val_loss: 6.2119e-04 - val_iou: 0.3630 - val_iou_thresholded: 0.4335\n",
      "Epoch 129/200\n",
      "11/11 [==============================] - 10s 928ms/step - loss: 1.6207e-04 - iou: 0.6217 - iou_thresholded: 0.7231 - val_loss: 7.1955e-04 - val_iou: 0.3587 - val_iou_thresholded: 0.3988\n",
      "Epoch 130/200\n",
      "11/11 [==============================] - 10s 933ms/step - loss: 1.4750e-04 - iou: 0.6172 - iou_thresholded: 0.7144 - val_loss: 5.6857e-04 - val_iou: 0.3980 - val_iou_thresholded: 0.4543\n",
      "Epoch 131/200\n",
      "11/11 [==============================] - 10s 930ms/step - loss: 1.5351e-04 - iou: 0.6192 - iou_thresholded: 0.7006 - val_loss: 8.1414e-04 - val_iou: 0.3215 - val_iou_thresholded: 0.3713\n",
      "Epoch 132/200\n",
      "11/11 [==============================] - 10s 929ms/step - loss: 1.5274e-04 - iou: 0.6356 - iou_thresholded: 0.7294 - val_loss: 7.1681e-04 - val_iou: 0.3756 - val_iou_thresholded: 0.4047\n",
      "Epoch 133/200\n",
      "11/11 [==============================] - 11s 1s/step - loss: 1.6921e-04 - iou: 0.6105 - iou_thresholded: 0.6891 - val_loss: 6.6588e-04 - val_iou: 0.3586 - val_iou_thresholded: 0.4339\n",
      "Epoch 134/200\n",
      "11/11 [==============================] - 10s 1s/step - loss: 1.5385e-04 - iou: 0.5937 - iou_thresholded: 0.6889 - val_loss: 6.8416e-04 - val_iou: 0.3954 - val_iou_thresholded: 0.4448\n",
      "Epoch 135/200\n",
      "11/11 [==============================] - 10s 930ms/step - loss: 1.4758e-04 - iou: 0.6394 - iou_thresholded: 0.7262 - val_loss: 6.1162e-04 - val_iou: 0.4050 - val_iou_thresholded: 0.4555\n",
      "Epoch 136/200\n",
      "11/11 [==============================] - 10s 932ms/step - loss: 1.5306e-04 - iou: 0.6081 - iou_thresholded: 0.6872 - val_loss: 7.2677e-04 - val_iou: 0.3652 - val_iou_thresholded: 0.4182\n",
      "Epoch 137/200\n",
      "11/11 [==============================] - 10s 928ms/step - loss: 1.4282e-04 - iou: 0.6061 - iou_thresholded: 0.6890 - val_loss: 7.0421e-04 - val_iou: 0.4058 - val_iou_thresholded: 0.4557\n",
      "Epoch 138/200\n",
      "11/11 [==============================] - 10s 931ms/step - loss: 1.4337e-04 - iou: 0.6516 - iou_thresholded: 0.7274 - val_loss: 7.5272e-04 - val_iou: 0.3988 - val_iou_thresholded: 0.4564\n",
      "Epoch 139/200\n",
      "11/11 [==============================] - 10s 933ms/step - loss: 1.5033e-04 - iou: 0.6303 - iou_thresholded: 0.7113 - val_loss: 6.7775e-04 - val_iou: 0.3756 - val_iou_thresholded: 0.4350\n",
      "Epoch 140/200\n",
      "11/11 [==============================] - 10s 930ms/step - loss: 1.4506e-04 - iou: 0.6480 - iou_thresholded: 0.7253 - val_loss: 7.2755e-04 - val_iou: 0.4051 - val_iou_thresholded: 0.4568\n",
      "Epoch 141/200\n",
      "11/11 [==============================] - 10s 927ms/step - loss: 1.2457e-04 - iou: 0.6607 - iou_thresholded: 0.7450 - val_loss: 7.0213e-04 - val_iou: 0.4183 - val_iou_thresholded: 0.4745\n",
      "Epoch 142/200\n",
      "11/11 [==============================] - 10s 928ms/step - loss: 1.2860e-04 - iou: 0.6516 - iou_thresholded: 0.7348 - val_loss: 9.1650e-04 - val_iou: 0.3865 - val_iou_thresholded: 0.4375\n",
      "Epoch 143/200\n",
      "11/11 [==============================] - 10s 934ms/step - loss: 1.3923e-04 - iou: 0.6336 - iou_thresholded: 0.7054 - val_loss: 8.7515e-04 - val_iou: 0.3994 - val_iou_thresholded: 0.4408\n",
      "Epoch 144/200\n",
      "11/11 [==============================] - 10s 930ms/step - loss: 1.2298e-04 - iou: 0.6801 - iou_thresholded: 0.7684 - val_loss: 0.0011 - val_iou: 0.3844 - val_iou_thresholded: 0.4256\n",
      "Epoch 145/200\n",
      "11/11 [==============================] - 11s 1s/step - loss: 1.2558e-04 - iou: 0.6736 - iou_thresholded: 0.7572 - val_loss: 8.8358e-04 - val_iou: 0.3896 - val_iou_thresholded: 0.4299\n",
      "Epoch 146/200\n",
      "11/11 [==============================] - 10s 1s/step - loss: 1.2533e-04 - iou: 0.6686 - iou_thresholded: 0.7530 - val_loss: 9.9966e-04 - val_iou: 0.3835 - val_iou_thresholded: 0.4270\n",
      "Epoch 147/200\n",
      "11/11 [==============================] - 10s 938ms/step - loss: 1.2116e-04 - iou: 0.6963 - iou_thresholded: 0.7795 - val_loss: 9.9724e-04 - val_iou: 0.3673 - val_iou_thresholded: 0.4059\n",
      "Epoch 148/200\n",
      "11/11 [==============================] - 10s 932ms/step - loss: 1.1942e-04 - iou: 0.6674 - iou_thresholded: 0.7508 - val_loss: 0.0011 - val_iou: 0.3752 - val_iou_thresholded: 0.4200\n",
      "Epoch 149/200\n",
      "11/11 [==============================] - 10s 928ms/step - loss: 1.2811e-04 - iou: 0.6858 - iou_thresholded: 0.7741 - val_loss: 9.1908e-04 - val_iou: 0.4190 - val_iou_thresholded: 0.4559\n",
      "Epoch 150/200\n",
      "11/11 [==============================] - 10s 929ms/step - loss: 1.2716e-04 - iou: 0.6674 - iou_thresholded: 0.7556 - val_loss: 8.6524e-04 - val_iou: 0.3831 - val_iou_thresholded: 0.4304\n",
      "Epoch 151/200\n",
      "11/11 [==============================] - 10s 934ms/step - loss: 1.2827e-04 - iou: 0.6947 - iou_thresholded: 0.7853 - val_loss: 7.0861e-04 - val_iou: 0.3992 - val_iou_thresholded: 0.4531\n",
      "Epoch 152/200\n",
      "11/11 [==============================] - 10s 933ms/step - loss: 1.0690e-04 - iou: 0.6952 - iou_thresholded: 0.7820 - val_loss: 0.0011 - val_iou: 0.3607 - val_iou_thresholded: 0.3990\n",
      "Epoch 153/200\n",
      "11/11 [==============================] - 10s 928ms/step - loss: 1.2152e-04 - iou: 0.6726 - iou_thresholded: 0.7617 - val_loss: 9.2196e-04 - val_iou: 0.3753 - val_iou_thresholded: 0.4101\n",
      "Epoch 154/200\n",
      "11/11 [==============================] - 10s 930ms/step - loss: 1.0516e-04 - iou: 0.6940 - iou_thresholded: 0.7776 - val_loss: 9.8906e-04 - val_iou: 0.3724 - val_iou_thresholded: 0.4073\n",
      "Epoch 155/200\n",
      "11/11 [==============================] - 10s 936ms/step - loss: 1.1159e-04 - iou: 0.7062 - iou_thresholded: 0.7879 - val_loss: 0.0012 - val_iou: 0.3602 - val_iou_thresholded: 0.3922\n",
      "Epoch 156/200\n",
      "11/11 [==============================] - 10s 935ms/step - loss: 1.2207e-04 - iou: 0.6476 - iou_thresholded: 0.7204 - val_loss: 7.2241e-04 - val_iou: 0.3386 - val_iou_thresholded: 0.3935\n",
      "Epoch 157/200\n",
      "11/11 [==============================] - 11s 1s/step - loss: 1.4026e-04 - iou: 0.6501 - iou_thresholded: 0.7377 - val_loss: 8.4945e-04 - val_iou: 0.3739 - val_iou_thresholded: 0.4160\n",
      "Epoch 158/200\n",
      "11/11 [==============================] - 10s 1s/step - loss: 1.2526e-04 - iou: 0.6764 - iou_thresholded: 0.7690 - val_loss: 6.7920e-04 - val_iou: 0.3743 - val_iou_thresholded: 0.4336\n",
      "Epoch 159/200\n",
      "11/11 [==============================] - 10s 928ms/step - loss: 1.1849e-04 - iou: 0.6867 - iou_thresholded: 0.7759 - val_loss: 8.0009e-04 - val_iou: 0.4015 - val_iou_thresholded: 0.4497\n",
      "Epoch 160/200\n",
      "11/11 [==============================] - 10s 935ms/step - loss: 1.2580e-04 - iou: 0.6820 - iou_thresholded: 0.7693 - val_loss: 0.0012 - val_iou: 0.3490 - val_iou_thresholded: 0.3890\n",
      "Epoch 161/200\n",
      "11/11 [==============================] - 10s 932ms/step - loss: 1.0900e-04 - iou: 0.6767 - iou_thresholded: 0.7525 - val_loss: 0.0011 - val_iou: 0.3570 - val_iou_thresholded: 0.3999\n",
      "Epoch 162/200\n",
      "11/11 [==============================] - 10s 928ms/step - loss: 1.1028e-04 - iou: 0.7000 - iou_thresholded: 0.7901 - val_loss: 8.1463e-04 - val_iou: 0.4181 - val_iou_thresholded: 0.4628\n",
      "Epoch 163/200\n",
      "11/11 [==============================] - 10s 927ms/step - loss: 1.1826e-04 - iou: 0.6636 - iou_thresholded: 0.7476 - val_loss: 9.7581e-04 - val_iou: 0.4215 - val_iou_thresholded: 0.4717\n",
      "Epoch 164/200\n",
      "11/11 [==============================] - 10s 929ms/step - loss: 1.1607e-04 - iou: 0.7000 - iou_thresholded: 0.7951 - val_loss: 8.2064e-04 - val_iou: 0.4042 - val_iou_thresholded: 0.4524\n",
      "Epoch 165/200\n"
     ]
    },
    {
     "name": "stdout",
     "output_type": "stream",
     "text": [
      "11/11 [==============================] - 10s 931ms/step - loss: 1.0431e-04 - iou: 0.6950 - iou_thresholded: 0.7861 - val_loss: 0.0013 - val_iou: 0.3857 - val_iou_thresholded: 0.4222\n",
      "Epoch 166/200\n",
      "11/11 [==============================] - 10s 927ms/step - loss: 1.0615e-04 - iou: 0.7055 - iou_thresholded: 0.7884 - val_loss: 0.0010 - val_iou: 0.4128 - val_iou_thresholded: 0.4549\n",
      "Epoch 167/200\n",
      "11/11 [==============================] - 10s 926ms/step - loss: 9.9435e-05 - iou: 0.7273 - iou_thresholded: 0.8121 - val_loss: 0.0012 - val_iou: 0.4034 - val_iou_thresholded: 0.4415\n",
      "Epoch 168/200\n",
      "11/11 [==============================] - 10s 924ms/step - loss: 9.6730e-05 - iou: 0.7347 - iou_thresholded: 0.8111 - val_loss: 0.0015 - val_iou: 0.3881 - val_iou_thresholded: 0.4186\n",
      "Epoch 169/200\n",
      "11/11 [==============================] - 11s 1s/step - loss: 9.4963e-05 - iou: 0.7330 - iou_thresholded: 0.8082 - val_loss: 0.0010 - val_iou: 0.3949 - val_iou_thresholded: 0.4248\n",
      "Epoch 170/200\n",
      "11/11 [==============================] - 10s 1s/step - loss: 1.0411e-04 - iou: 0.7214 - iou_thresholded: 0.7890 - val_loss: 0.0011 - val_iou: 0.3652 - val_iou_thresholded: 0.4010\n",
      "Epoch 171/200\n",
      "11/11 [==============================] - 10s 926ms/step - loss: 1.3107e-04 - iou: 0.6667 - iou_thresholded: 0.7503 - val_loss: 9.9100e-04 - val_iou: 0.4084 - val_iou_thresholded: 0.4536\n",
      "Epoch 172/200\n",
      "11/11 [==============================] - 10s 926ms/step - loss: 1.0866e-04 - iou: 0.6889 - iou_thresholded: 0.7782 - val_loss: 9.3832e-04 - val_iou: 0.4009 - val_iou_thresholded: 0.4494\n",
      "Epoch 173/200\n",
      "11/11 [==============================] - 10s 925ms/step - loss: 1.0816e-04 - iou: 0.6818 - iou_thresholded: 0.7627 - val_loss: 0.0012 - val_iou: 0.3795 - val_iou_thresholded: 0.4134\n",
      "Epoch 174/200\n",
      "11/11 [==============================] - 10s 931ms/step - loss: 9.8309e-05 - iou: 0.7254 - iou_thresholded: 0.8048 - val_loss: 0.0011 - val_iou: 0.4004 - val_iou_thresholded: 0.4405\n",
      "Epoch 175/200\n",
      "11/11 [==============================] - 10s 926ms/step - loss: 1.0853e-04 - iou: 0.7021 - iou_thresholded: 0.7780 - val_loss: 0.0011 - val_iou: 0.3800 - val_iou_thresholded: 0.4283\n",
      "Epoch 176/200\n",
      "11/11 [==============================] - 10s 925ms/step - loss: 1.1487e-04 - iou: 0.7069 - iou_thresholded: 0.7799 - val_loss: 0.0013 - val_iou: 0.3926 - val_iou_thresholded: 0.4407\n",
      "Epoch 177/200\n",
      "11/11 [==============================] - 10s 924ms/step - loss: 1.0001e-04 - iou: 0.7207 - iou_thresholded: 0.8012 - val_loss: 0.0014 - val_iou: 0.3557 - val_iou_thresholded: 0.3938\n",
      "Epoch 178/200\n",
      "11/11 [==============================] - 10s 929ms/step - loss: 1.0023e-04 - iou: 0.7121 - iou_thresholded: 0.7940 - val_loss: 0.0013 - val_iou: 0.4129 - val_iou_thresholded: 0.4491\n",
      "Epoch 179/200\n",
      "11/11 [==============================] - 10s 928ms/step - loss: 1.0567e-04 - iou: 0.6960 - iou_thresholded: 0.7706 - val_loss: 0.0013 - val_iou: 0.3767 - val_iou_thresholded: 0.4116\n",
      "Epoch 180/200\n",
      "11/11 [==============================] - 10s 925ms/step - loss: 1.0196e-04 - iou: 0.7129 - iou_thresholded: 0.7994 - val_loss: 0.0016 - val_iou: 0.3727 - val_iou_thresholded: 0.3983\n",
      "Epoch 181/200\n",
      "11/11 [==============================] - 11s 1s/step - loss: 9.6982e-05 - iou: 0.7366 - iou_thresholded: 0.8068 - val_loss: 0.0013 - val_iou: 0.3555 - val_iou_thresholded: 0.3909\n",
      "Epoch 182/200\n",
      "11/11 [==============================] - 10s 1s/step - loss: 9.4574e-05 - iou: 0.7302 - iou_thresholded: 0.8112 - val_loss: 0.0014 - val_iou: 0.3718 - val_iou_thresholded: 0.3999\n",
      "Epoch 183/200\n",
      "11/11 [==============================] - 10s 932ms/step - loss: 9.8827e-05 - iou: 0.7227 - iou_thresholded: 0.7999 - val_loss: 0.0014 - val_iou: 0.3952 - val_iou_thresholded: 0.4307\n",
      "Epoch 184/200\n",
      "11/11 [==============================] - 10s 929ms/step - loss: 8.8555e-05 - iou: 0.7413 - iou_thresholded: 0.8185 - val_loss: 0.0014 - val_iou: 0.4099 - val_iou_thresholded: 0.4511\n",
      "Epoch 185/200\n",
      "11/11 [==============================] - 10s 926ms/step - loss: 9.2891e-05 - iou: 0.7326 - iou_thresholded: 0.8073 - val_loss: 0.0015 - val_iou: 0.3827 - val_iou_thresholded: 0.4100\n",
      "Epoch 186/200\n",
      "11/11 [==============================] - 10s 926ms/step - loss: 8.6031e-05 - iou: 0.7377 - iou_thresholded: 0.8054 - val_loss: 0.0013 - val_iou: 0.3624 - val_iou_thresholded: 0.3926\n",
      "Epoch 187/200\n",
      "11/11 [==============================] - 10s 931ms/step - loss: 9.3258e-05 - iou: 0.7606 - iou_thresholded: 0.8327 - val_loss: 0.0015 - val_iou: 0.3720 - val_iou_thresholded: 0.4021\n",
      "Epoch 188/200\n",
      "11/11 [==============================] - 10s 930ms/step - loss: 8.4752e-05 - iou: 0.7370 - iou_thresholded: 0.8127 - val_loss: 0.0016 - val_iou: 0.3638 - val_iou_thresholded: 0.3899\n",
      "Epoch 189/200\n",
      "11/11 [==============================] - 10s 924ms/step - loss: 8.8054e-05 - iou: 0.7401 - iou_thresholded: 0.8142 - val_loss: 0.0020 - val_iou: 0.3559 - val_iou_thresholded: 0.3801\n",
      "Epoch 190/200\n",
      "11/11 [==============================] - 10s 925ms/step - loss: 9.0487e-05 - iou: 0.7276 - iou_thresholded: 0.7979 - val_loss: 0.0020 - val_iou: 0.3519 - val_iou_thresholded: 0.3769\n",
      "Epoch 191/200\n",
      "11/11 [==============================] - 10s 931ms/step - loss: 9.4887e-05 - iou: 0.7446 - iou_thresholded: 0.8197 - val_loss: 0.0014 - val_iou: 0.3663 - val_iou_thresholded: 0.3981\n",
      "Epoch 192/200\n",
      "11/11 [==============================] - 10s 928ms/step - loss: 9.2260e-05 - iou: 0.7481 - iou_thresholded: 0.8243 - val_loss: 0.0014 - val_iou: 0.3772 - val_iou_thresholded: 0.4081\n",
      "Epoch 193/200\n",
      "11/11 [==============================] - 11s 1s/step - loss: 9.1645e-05 - iou: 0.7470 - iou_thresholded: 0.8211 - val_loss: 0.0014 - val_iou: 0.3750 - val_iou_thresholded: 0.4039\n",
      "Epoch 194/200\n",
      "11/11 [==============================] - 10s 1s/step - loss: 8.9289e-05 - iou: 0.7558 - iou_thresholded: 0.8366 - val_loss: 0.0015 - val_iou: 0.3753 - val_iou_thresholded: 0.4038\n",
      "Epoch 195/200\n",
      "11/11 [==============================] - 10s 927ms/step - loss: 8.1645e-05 - iou: 0.7315 - iou_thresholded: 0.8064 - val_loss: 0.0018 - val_iou: 0.3696 - val_iou_thresholded: 0.3913\n",
      "Epoch 196/200\n",
      "11/11 [==============================] - 10s 932ms/step - loss: 8.5423e-05 - iou: 0.7509 - iou_thresholded: 0.8257 - val_loss: 0.0021 - val_iou: 0.3630 - val_iou_thresholded: 0.3891\n",
      "Epoch 197/200\n",
      "11/11 [==============================] - 10s 925ms/step - loss: 7.6542e-05 - iou: 0.7640 - iou_thresholded: 0.8419 - val_loss: 0.0023 - val_iou: 0.3646 - val_iou_thresholded: 0.3859\n",
      "Epoch 198/200\n",
      "11/11 [==============================] - 10s 925ms/step - loss: 8.5151e-05 - iou: 0.7583 - iou_thresholded: 0.8270 - val_loss: 0.0018 - val_iou: 0.3479 - val_iou_thresholded: 0.3773\n",
      "Epoch 199/200\n",
      "11/11 [==============================] - 10s 928ms/step - loss: 8.5662e-05 - iou: 0.7266 - iou_thresholded: 0.7977 - val_loss: 0.0022 - val_iou: 0.3580 - val_iou_thresholded: 0.3857\n",
      "Epoch 200/200\n",
      "11/11 [==============================] - 10s 930ms/step - loss: 8.3391e-05 - iou: 0.7727 - iou_thresholded: 0.8436 - val_loss: 0.0022 - val_iou: 0.3729 - val_iou_thresholded: 0.3908\n"
     ]
    }
   ],
   "source": [
    "model, history = C.Helper.train_unet(X_train_set, y_train_set, X_val, y_val, model, epochs=200)"
   ]
  },
  {
   "cell_type": "code",
   "execution_count": 30,
   "id": "7bc51703",
   "metadata": {},
   "outputs": [
    {
     "data": {
      "image/png": "[encoded data removed]",
      "text/plain": [
       "<Figure size 864x432 with 1 Axes>"
      ]
     },
     "metadata": {
      "needs_background": "light"
     },
     "output_type": "display_data"
    },
    {
     "data": {
      "image/png": "[encoded data removed]",
      "text/plain": [
       "<Figure size 864x432 with 1 Axes>"
      ]
     },
     "metadata": {
      "needs_background": "light"
     },
     "output_type": "display_data"
    }
   ],
   "source": [
    "C.Helper.visualize_graph(history)"
   ]
  },
  {
   "cell_type": "code",
   "execution_count": 31,
   "id": "2b9f9190",
   "metadata": {},
   "outputs": [],
   "source": [
    "y_pred = C.Helper.prediction(test_images_array, model)"
   ]
  },
  {
   "cell_type": "code",
   "execution_count": 32,
   "id": "85b46673",
   "metadata": {
    "scrolled": true
   },
   "outputs": [
    {
     "data": {
      "image/png": "[encoded data removed]",
      "text/plain": [
       "<Figure size 1152x1440 with 20 Axes>"
      ]
     },
     "metadata": {
      "needs_background": "light"
     },
     "output_type": "display_data"
    }
   ],
   "source": [
    "C.Helper.visualize_result(test_images_array, y_test, y_pred)"
   ]
  },
  {
   "cell_type": "code",
   "execution_count": 33,
   "id": "9a236ee4",
   "metadata": {},
   "outputs": [
    {
     "name": "stdout",
     "output_type": "stream",
     "text": [
      "9/9 [==============================] - 2s 202ms/step - loss: 0.0016 - iou: 0.4980 - iou_thresholded: 0.5257\n"
     ]
    }
   ],
   "source": [
    "C.Helper.evaluate(test_images_array, y_test, model)"
   ]
  },
  {
   "cell_type": "code",
   "execution_count": null,
   "id": "f18f18a7",
   "metadata": {},
   "outputs": [],
   "source": []
  },
  {
   "cell_type": "code",
   "execution_count": null,
   "id": "9633f74e",
   "metadata": {},
   "outputs": [],
   "source": []
  },
  {
   "cell_type": "code",
   "execution_count": null,
   "id": "230dbf69",
   "metadata": {},
   "outputs": [],
   "source": []
  },
  {
   "cell_type": "code",
   "execution_count": null,
   "id": "91bf77f5",
   "metadata": {},
   "outputs": [],
   "source": []
  },
  {
   "cell_type": "code",
   "execution_count": null,
   "id": "5bf8aa51",
   "metadata": {},
   "outputs": [],
   "source": []
  },
  {
   "cell_type": "code",
   "execution_count": null,
   "id": "5e73cc60",
   "metadata": {},
   "outputs": [],
   "source": []
  },
  {
   "cell_type": "code",
   "execution_count": null,
   "id": "da3bb108",
   "metadata": {},
   "outputs": [],
   "source": []
  },
  {
   "cell_type": "code",
   "execution_count": null,
   "id": "2e3df05d",
   "metadata": {},
   "outputs": [],
   "source": []
  }
 ],
 "metadata": {
  "kernelspec": {
   "display_name": "Python 3 (ipykernel)",
   "language": "python",
   "name": "python3"
  },
  "language_info": {
   "codemirror_mode": {
    "name": "ipython",
    "version": 3
   },
   "file_extension": ".py",
   "mimetype": "text/x-python",
   "name": "python",
   "nbconvert_exporter": "python",
   "pygments_lexer": "ipython3",
   "version": "3.9.7"
  }
 },
 "nbformat": 4,
 "nbformat_minor": 5
}
