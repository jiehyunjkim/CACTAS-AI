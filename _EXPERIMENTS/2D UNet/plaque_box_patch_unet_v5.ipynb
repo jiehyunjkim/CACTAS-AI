{
 "cells": [
  {
   "cell_type": "code",
   "execution_count": 1,
   "id": "5eebebed",
   "metadata": {},
   "outputs": [
    {
     "name": "stdout",
     "output_type": "stream",
     "text": [
      "Populating the interactive namespace from numpy and matplotlib\n"
     ]
    }
   ],
   "source": [
    "%pylab inline\n",
    "%load_ext autoreload\n",
    "%autoreload 2"
   ]
  },
  {
   "cell_type": "code",
   "execution_count": 2,
   "id": "1db43f95",
   "metadata": {},
   "outputs": [],
   "source": [
    "import cactas as C\n",
    "import os\n",
    "import mahotas as mh\n",
    "import nibabel as nib\n",
    "import nrrd\n",
    "import skimage.morphology\n",
    "import cv2\n",
    "from skimage.filters import threshold_otsu"
   ]
  },
  {
   "cell_type": "code",
   "execution_count": 3,
   "id": "3a25db15",
   "metadata": {
    "scrolled": true
   },
   "outputs": [
    {
     "name": "stderr",
     "output_type": "stream",
     "text": [
      "2024-05-05 12:02:12.884285: I tensorflow/stream_executor/platform/default/dso_loader.cc:53] Successfully opened dynamic library libcudart.so.11.0\n"
     ]
    },
    {
     "name": "stdout",
     "output_type": "stream",
     "text": [
      "WARNING:tensorflow:From /tmp/ipykernel_4074777/392601943.py:2: is_gpu_available (from tensorflow.python.framework.test_util) is deprecated and will be removed in a future version.\n",
      "Instructions for updating:\n",
      "Use `tf.config.list_physical_devices('GPU')` instead.\n"
     ]
    },
    {
     "name": "stderr",
     "output_type": "stream",
     "text": [
      "2024-05-05 12:02:15.330797: I tensorflow/core/platform/cpu_feature_guard.cc:142] This TensorFlow binary is optimized with oneAPI Deep Neural Network Library (oneDNN) to use the following CPU instructions in performance-critical operations:  AVX2 FMA\n",
      "To enable them in other operations, rebuild TensorFlow with the appropriate compiler flags.\n",
      "2024-05-05 12:02:15.333040: I tensorflow/stream_executor/platform/default/dso_loader.cc:53] Successfully opened dynamic library libcuda.so.1\n",
      "2024-05-05 12:02:15.726809: I tensorflow/core/common_runtime/gpu/gpu_device.cc:1733] Found device 0 with properties: \n",
      "pciBusID: 0000:47:00.0 name: A100-SXM4-40GB computeCapability: 8.0\n",
      "coreClock: 1.41GHz coreCount: 108 deviceMemorySize: 39.59GiB deviceMemoryBandwidth: 1.41TiB/s\n",
      "2024-05-05 12:02:15.729581: I tensorflow/core/common_runtime/gpu/gpu_device.cc:1733] Found device 1 with properties: \n",
      "pciBusID: 0000:4e:00.0 name: A100-SXM4-40GB computeCapability: 8.0\n",
      "coreClock: 1.41GHz coreCount: 108 deviceMemorySize: 39.59GiB deviceMemoryBandwidth: 1.41TiB/s\n",
      "2024-05-05 12:02:15.729698: I tensorflow/stream_executor/platform/default/dso_loader.cc:53] Successfully opened dynamic library libcudart.so.11.0\n",
      "2024-05-05 12:02:15.746887: I tensorflow/stream_executor/platform/default/dso_loader.cc:53] Successfully opened dynamic library libcublas.so.11\n",
      "2024-05-05 12:02:15.746939: I tensorflow/stream_executor/platform/default/dso_loader.cc:53] Successfully opened dynamic library libcublasLt.so.11\n",
      "2024-05-05 12:02:15.752976: I tensorflow/stream_executor/platform/default/dso_loader.cc:53] Successfully opened dynamic library libcufft.so.10\n",
      "2024-05-05 12:02:15.755855: I tensorflow/stream_executor/platform/default/dso_loader.cc:53] Successfully opened dynamic library libcurand.so.10\n",
      "2024-05-05 12:02:15.758545: I tensorflow/stream_executor/platform/default/dso_loader.cc:53] Successfully opened dynamic library libcusolver.so.11\n",
      "2024-05-05 12:02:15.762997: I tensorflow/stream_executor/platform/default/dso_loader.cc:53] Successfully opened dynamic library libcusparse.so.11\n",
      "2024-05-05 12:02:15.764586: I tensorflow/stream_executor/platform/default/dso_loader.cc:53] Successfully opened dynamic library libcudnn.so.8\n",
      "2024-05-05 12:02:15.775051: I tensorflow/core/common_runtime/gpu/gpu_device.cc:1871] Adding visible gpu devices: 0, 1\n",
      "2024-05-05 12:02:15.775390: I tensorflow/stream_executor/platform/default/dso_loader.cc:53] Successfully opened dynamic library libcudart.so.11.0\n",
      "2024-05-05 12:02:16.714549: I tensorflow/core/common_runtime/gpu/gpu_device.cc:1258] Device interconnect StreamExecutor with strength 1 edge matrix:\n",
      "2024-05-05 12:02:16.714597: I tensorflow/core/common_runtime/gpu/gpu_device.cc:1264]      0 1 \n",
      "2024-05-05 12:02:16.714603: I tensorflow/core/common_runtime/gpu/gpu_device.cc:1277] 0:   N Y \n",
      "2024-05-05 12:02:16.714607: I tensorflow/core/common_runtime/gpu/gpu_device.cc:1277] 1:   Y N \n",
      "2024-05-05 12:02:16.727452: I tensorflow/core/common_runtime/gpu/gpu_device.cc:1418] Created TensorFlow device (/device:GPU:0 with 38425 MB memory) -> physical GPU (device: 0, name: A100-SXM4-40GB, pci bus id: 0000:47:00.0, compute capability: 8.0)\n",
      "2024-05-05 12:02:16.731659: I tensorflow/core/common_runtime/gpu/gpu_device.cc:1418] Created TensorFlow device (/device:GPU:1 with 38425 MB memory) -> physical GPU (device: 1, name: A100-SXM4-40GB, pci bus id: 0000:4e:00.0, compute capability: 8.0)\n"
     ]
    },
    {
     "data": {
      "text/plain": [
       "True"
      ]
     },
     "execution_count": 3,
     "metadata": {},
     "output_type": "execute_result"
    }
   ],
   "source": [
    "import tensorflow as tf\n",
    "gpu_available = tf.test.is_gpu_available()\n",
    "gpu_available"
   ]
  },
  {
   "cell_type": "code",
   "execution_count": null,
   "id": "c7599e1d",
   "metadata": {},
   "outputs": [],
   "source": []
  },
  {
   "cell_type": "code",
   "execution_count": 4,
   "id": "ca9de1bc",
   "metadata": {},
   "outputs": [],
   "source": [
    "DATAPATH='/raid/mpsych/CACTAS/DATA/ESUS'\n",
    "CAPATH='/raid/mpsych/CACTAS/DATA/CA24'"
   ]
  },
  {
   "cell_type": "code",
   "execution_count": null,
   "id": "92be68f5",
   "metadata": {},
   "outputs": [],
   "source": []
  },
  {
   "cell_type": "code",
   "execution_count": 5,
   "id": "c2588b51",
   "metadata": {},
   "outputs": [],
   "source": [
    "images, labels = C.Helper.load_data(DATAPATH)"
   ]
  },
  {
   "cell_type": "code",
   "execution_count": 6,
   "id": "7881f480",
   "metadata": {},
   "outputs": [],
   "source": [
    "masks = C.Helper.load_seg_data(CAPATH)"
   ]
  },
  {
   "cell_type": "code",
   "execution_count": 7,
   "id": "7088d2a3",
   "metadata": {},
   "outputs": [],
   "source": [
    "X_train, y_train, m_train, X_test, y_test, m_test = C.Helper.split_patients_masks(images, labels, masks)"
   ]
  },
  {
   "cell_type": "code",
   "execution_count": 8,
   "id": "c81ee490",
   "metadata": {},
   "outputs": [],
   "source": [
    "X_train, y_train, m_train, X_test, y_test, m_test = C.Helper.normalization2(DATAPATH, CAPATH, X_train, y_train, m_train, X_test, y_test, m_test)"
   ]
  },
  {
   "cell_type": "code",
   "execution_count": 9,
   "id": "b2d8df93",
   "metadata": {},
   "outputs": [],
   "source": [
    "slice_to_patient_mapping, last_key = C.Helper.map_and_key(y_train)"
   ]
  },
  {
   "cell_type": "code",
   "execution_count": 10,
   "id": "d00b1ce9",
   "metadata": {},
   "outputs": [
    {
     "name": "stdout",
     "output_type": "stream",
     "text": [
      "(12973, 512, 512, 1) (12973, 512, 512, 1) (3793, 512, 512, 1) (3793, 512, 512, 1)\n"
     ]
    }
   ],
   "source": [
    "X_train, y_train, X_test, y_test = C.Helper.extract_slices(X_train, y_train, X_test, y_test)"
   ]
  },
  {
   "cell_type": "code",
   "execution_count": 11,
   "id": "4034ad93",
   "metadata": {},
   "outputs": [
    {
     "name": "stdout",
     "output_type": "stream",
     "text": [
      "(12973, 512, 512, 1) (3793, 512, 512, 1)\n"
     ]
    }
   ],
   "source": [
    "m_train, m_test = C.Helper.extract_masks_slices(m_train, m_test)"
   ]
  },
  {
   "cell_type": "code",
   "execution_count": 12,
   "id": "a248045e",
   "metadata": {},
   "outputs": [
    {
     "name": "stdout",
     "output_type": "stream",
     "text": [
      "(561, 512, 512, 1) (561, 512, 512, 1) (561, 512, 512, 1)\n"
     ]
    }
   ],
   "source": [
    "X_train, y_train, m_train = C.Helper.filter_slices(X_train, y_train, m_train)"
   ]
  },
  {
   "cell_type": "code",
   "execution_count": null,
   "id": "c8ffa75e",
   "metadata": {},
   "outputs": [],
   "source": []
  },
  {
   "cell_type": "code",
   "execution_count": 13,
   "id": "4c490d99",
   "metadata": {},
   "outputs": [
    {
     "data": {
      "text/plain": [
       "(dtype('float64'), dtype('float64'), dtype('float64'), dtype('float64'))"
      ]
     },
     "execution_count": 13,
     "metadata": {},
     "output_type": "execute_result"
    }
   ],
   "source": [
    "X_train.dtype, y_train.dtype, X_test.dtype, y_test.dtype"
   ]
  },
  {
   "cell_type": "code",
   "execution_count": 14,
   "id": "580cb6ea",
   "metadata": {},
   "outputs": [
    {
     "data": {
      "text/plain": [
       "dtype('float64')"
      ]
     },
     "execution_count": 14,
     "metadata": {},
     "output_type": "execute_result"
    }
   ],
   "source": [
    "m_train.dtype"
   ]
  },
  {
   "cell_type": "code",
   "execution_count": null,
   "id": "e47b39dd",
   "metadata": {},
   "outputs": [],
   "source": []
  },
  {
   "cell_type": "code",
   "execution_count": 15,
   "id": "3692ec60",
   "metadata": {},
   "outputs": [],
   "source": [
    "train_masks=[]\n",
    "for i in range(len(m_train)):\n",
    "    binary = (m_train[i] > 0).astype(np.uint8)\n",
    "    train_masks.append(binary)"
   ]
  },
  {
   "cell_type": "code",
   "execution_count": 16,
   "id": "28b56250",
   "metadata": {},
   "outputs": [],
   "source": [
    "train_images=[]\n",
    "for i in range(len(X_train)):\n",
    "    train_image = X_train[i] * train_masks[i]\n",
    "    train_images.append(train_image)\n",
    "train_images_array = np.array(train_images)"
   ]
  },
  {
   "cell_type": "code",
   "execution_count": 17,
   "id": "1a7a746e",
   "metadata": {},
   "outputs": [],
   "source": [
    "#train_images_array = train_images_array.astype(np.float32)"
   ]
  },
  {
   "cell_type": "code",
   "execution_count": 18,
   "id": "02a618b7",
   "metadata": {},
   "outputs": [],
   "source": [
    "train_images_array = train_images_array.reshape(train_images_array.shape[0], train_images_array.shape[1],train_images_array.shape[2], 1)"
   ]
  },
  {
   "cell_type": "code",
   "execution_count": null,
   "id": "050bc38c",
   "metadata": {},
   "outputs": [],
   "source": []
  },
  {
   "cell_type": "code",
   "execution_count": 19,
   "id": "092f608d",
   "metadata": {
    "scrolled": true
   },
   "outputs": [],
   "source": [
    "# for i in range(10, 20):\n",
    "#     plt.imshow(train_images[i])\n",
    "#     plt.show()"
   ]
  },
  {
   "cell_type": "code",
   "execution_count": 20,
   "id": "bc55e9be",
   "metadata": {},
   "outputs": [],
   "source": [
    "# for i in range(10, 20):\n",
    "#     plt.imshow(train_images[i])\n",
    "#     plt.imshow(y_train[i], cmap='gray', alpha=0.5)\n",
    "#     plt.show()"
   ]
  },
  {
   "cell_type": "code",
   "execution_count": 21,
   "id": "67fbfaa8",
   "metadata": {},
   "outputs": [],
   "source": [
    "# fig, axes = plt.subplots(1, 3, figsize=(15, 5))\n",
    "# axes[0].imshow(X_train[10], vmin=0, vmax=1)\n",
    "# axes[0].set_title('Original Image')\n",
    "# axes[1].imshow(train_masks[10])\n",
    "# axes[1].set_title('Mask')\n",
    "# axes[2].imshow(train_images[10])\n",
    "# axes[2].set_title('Processed Image')\n",
    "# plt.show()"
   ]
  },
  {
   "cell_type": "code",
   "execution_count": null,
   "id": "7edf63e4",
   "metadata": {},
   "outputs": [],
   "source": []
  },
  {
   "cell_type": "code",
   "execution_count": 22,
   "id": "3a3d4f47",
   "metadata": {},
   "outputs": [],
   "source": [
    "test_masks=[]\n",
    "for i in range(len(m_test)):\n",
    "    binary = (m_test[i] > 0).astype(np.uint8)\n",
    "    test_masks.append(binary)"
   ]
  },
  {
   "cell_type": "code",
   "execution_count": 23,
   "id": "c08c1bc9",
   "metadata": {},
   "outputs": [],
   "source": [
    "test_images=[]\n",
    "for i in range(len(X_test)):\n",
    "    test_image = X_test[i] * test_masks[i]\n",
    "    test_images.append(test_image)\n",
    "test_images_array = np.array(test_images)"
   ]
  },
  {
   "cell_type": "code",
   "execution_count": 24,
   "id": "229a751d",
   "metadata": {},
   "outputs": [],
   "source": [
    "#test_images_array = test_images_array.astype(np.float32)"
   ]
  },
  {
   "cell_type": "code",
   "execution_count": 25,
   "id": "9ef54dea",
   "metadata": {},
   "outputs": [],
   "source": [
    "test_images_array = test_images_array.reshape(test_images_array.shape[0], test_images_array.shape[1],test_images_array.shape[2], 1)"
   ]
  },
  {
   "cell_type": "code",
   "execution_count": 26,
   "id": "7d9bea09",
   "metadata": {},
   "outputs": [],
   "source": [
    "X_train_set = train_images_array[:last_key]\n",
    "y_train_set = y_train[:last_key]\n",
    "X_val = train_images_array[last_key:]\n",
    "y_val = y_train[last_key:]"
   ]
  },
  {
   "cell_type": "code",
   "execution_count": 27,
   "id": "c8fa2e3f",
   "metadata": {},
   "outputs": [],
   "source": [
    "#y_train_set = y_train_set.astype(np.float32)"
   ]
  },
  {
   "cell_type": "code",
   "execution_count": 28,
   "id": "91252364",
   "metadata": {},
   "outputs": [],
   "source": [
    "#y_val = y_val.astype(np.float32)"
   ]
  },
  {
   "cell_type": "code",
   "execution_count": null,
   "id": "c43945a0",
   "metadata": {},
   "outputs": [],
   "source": []
  },
  {
   "cell_type": "code",
   "execution_count": 29,
   "id": "51c08514",
   "metadata": {},
   "outputs": [
    {
     "data": {
      "text/plain": [
       "(dtype('float64'), dtype('float64'))"
      ]
     },
     "execution_count": 29,
     "metadata": {},
     "output_type": "execute_result"
    }
   ],
   "source": [
    "X_train_set.dtype, y_train_set.dtype"
   ]
  },
  {
   "cell_type": "code",
   "execution_count": 30,
   "id": "4634bb57",
   "metadata": {},
   "outputs": [
    {
     "data": {
      "text/plain": [
       "(dtype('float64'), dtype('float64'))"
      ]
     },
     "execution_count": 30,
     "metadata": {},
     "output_type": "execute_result"
    }
   ],
   "source": [
    "X_val.dtype, y_val.dtype"
   ]
  },
  {
   "cell_type": "code",
   "execution_count": 31,
   "id": "11ff5f34",
   "metadata": {},
   "outputs": [
    {
     "data": {
      "text/plain": [
       "(dtype('float64'), dtype('float64'))"
      ]
     },
     "execution_count": 31,
     "metadata": {},
     "output_type": "execute_result"
    }
   ],
   "source": [
    "test_images_array.dtype, y_test.dtype"
   ]
  },
  {
   "cell_type": "code",
   "execution_count": 32,
   "id": "a4b42641",
   "metadata": {},
   "outputs": [
    {
     "data": {
      "text/plain": [
       "((116, 512, 512, 1), (116, 512, 512, 1))"
      ]
     },
     "execution_count": 32,
     "metadata": {},
     "output_type": "execute_result"
    }
   ],
   "source": [
    "X_val.shape, y_val.shape"
   ]
  },
  {
   "cell_type": "code",
   "execution_count": null,
   "id": "f0250dc1",
   "metadata": {},
   "outputs": [],
   "source": []
  },
  {
   "cell_type": "code",
   "execution_count": null,
   "id": "34dd6c88",
   "metadata": {},
   "outputs": [],
   "source": []
  },
  {
   "cell_type": "code",
   "execution_count": 33,
   "id": "c001a494",
   "metadata": {
    "scrolled": true
   },
   "outputs": [
    {
     "name": "stdout",
     "output_type": "stream",
     "text": [
      "-----------------------------------------\n",
      "keras-unet init: TF version is >= 2.0.0 - using `tf.keras` instead of `Keras`\n",
      "-----------------------------------------\n"
     ]
    },
    {
     "name": "stderr",
     "output_type": "stream",
     "text": [
      "2024-05-05 12:05:29.172415: I tensorflow/core/common_runtime/gpu/gpu_device.cc:1733] Found device 0 with properties: \n",
      "pciBusID: 0000:47:00.0 name: A100-SXM4-40GB computeCapability: 8.0\n",
      "coreClock: 1.41GHz coreCount: 108 deviceMemorySize: 39.59GiB deviceMemoryBandwidth: 1.41TiB/s\n",
      "2024-05-05 12:05:29.175015: I tensorflow/core/common_runtime/gpu/gpu_device.cc:1733] Found device 1 with properties: \n",
      "pciBusID: 0000:4e:00.0 name: A100-SXM4-40GB computeCapability: 8.0\n",
      "coreClock: 1.41GHz coreCount: 108 deviceMemorySize: 39.59GiB deviceMemoryBandwidth: 1.41TiB/s\n",
      "2024-05-05 12:05:29.185015: I tensorflow/core/common_runtime/gpu/gpu_device.cc:1871] Adding visible gpu devices: 0, 1\n",
      "2024-05-05 12:05:29.187986: I tensorflow/core/common_runtime/gpu/gpu_device.cc:1733] Found device 0 with properties: \n",
      "pciBusID: 0000:47:00.0 name: A100-SXM4-40GB computeCapability: 8.0\n",
      "coreClock: 1.41GHz coreCount: 108 deviceMemorySize: 39.59GiB deviceMemoryBandwidth: 1.41TiB/s\n",
      "2024-05-05 12:05:29.190449: I tensorflow/core/common_runtime/gpu/gpu_device.cc:1733] Found device 1 with properties: \n",
      "pciBusID: 0000:4e:00.0 name: A100-SXM4-40GB computeCapability: 8.0\n",
      "coreClock: 1.41GHz coreCount: 108 deviceMemorySize: 39.59GiB deviceMemoryBandwidth: 1.41TiB/s\n",
      "2024-05-05 12:05:29.200237: I tensorflow/core/common_runtime/gpu/gpu_device.cc:1871] Adding visible gpu devices: 0, 1\n",
      "2024-05-05 12:05:29.200289: I tensorflow/core/common_runtime/gpu/gpu_device.cc:1258] Device interconnect StreamExecutor with strength 1 edge matrix:\n",
      "2024-05-05 12:05:29.200294: I tensorflow/core/common_runtime/gpu/gpu_device.cc:1264]      0 1 \n",
      "2024-05-05 12:05:29.200298: I tensorflow/core/common_runtime/gpu/gpu_device.cc:1277] 0:   N Y \n",
      "2024-05-05 12:05:29.200302: I tensorflow/core/common_runtime/gpu/gpu_device.cc:1277] 1:   Y N \n",
      "2024-05-05 12:05:29.208207: I tensorflow/core/common_runtime/gpu/gpu_device.cc:1418] Created TensorFlow device (/job:localhost/replica:0/task:0/device:GPU:0 with 38425 MB memory) -> physical GPU (device: 0, name: A100-SXM4-40GB, pci bus id: 0000:47:00.0, compute capability: 8.0)\n",
      "2024-05-05 12:05:29.210706: I tensorflow/core/common_runtime/gpu/gpu_device.cc:1418] Created TensorFlow device (/job:localhost/replica:0/task:0/device:GPU:1 with 38425 MB memory) -> physical GPU (device: 1, name: A100-SXM4-40GB, pci bus id: 0000:4e:00.0, compute capability: 8.0)\n"
     ]
    }
   ],
   "source": [
    "model = C.Helper.create_unet(X_train_set[0].shape)"
   ]
  },
  {
   "cell_type": "code",
   "execution_count": 34,
   "id": "f889cdd0",
   "metadata": {
    "scrolled": true
   },
   "outputs": [
    {
     "name": "stderr",
     "output_type": "stream",
     "text": [
      "2024-05-05 12:05:30.199233: I tensorflow/compiler/mlir/mlir_graph_optimization_pass.cc:176] None of the MLIR Optimization Passes are enabled (registered 2)\n",
      "2024-05-05 12:05:30.201218: I tensorflow/core/platform/profile_utils/cpu_utils.cc:114] CPU Frequency: 2245740000 Hz\n"
     ]
    },
    {
     "name": "stdout",
     "output_type": "stream",
     "text": [
      "Epoch 1/500\n"
     ]
    },
    {
     "name": "stderr",
     "output_type": "stream",
     "text": [
      "2024-05-05 12:05:31.545184: I tensorflow/stream_executor/platform/default/dso_loader.cc:53] Successfully opened dynamic library libcudnn.so.8\n",
      "2024-05-05 12:05:32.516002: I tensorflow/stream_executor/cuda/cuda_dnn.cc:359] Loaded cuDNN version 8201\n",
      "2024-05-05 12:05:33.554111: W tensorflow/stream_executor/gpu/asm_compiler.cc:191] Falling back to the CUDA driver for PTX compilation; ptxas does not support CC 8.0\n",
      "2024-05-05 12:05:33.554135: W tensorflow/stream_executor/gpu/asm_compiler.cc:194] Used ptxas at ptxas\n",
      "2024-05-05 12:05:33.554492: W tensorflow/stream_executor/gpu/redzone_allocator.cc:314] Unimplemented: ptxas ptxas too old. Falling back to the driver to compile.\n",
      "Relying on driver to perform ptx compilation. \n",
      "Modify $PATH to customize ptxas location.\n",
      "This message will be only logged once.\n",
      "2024-05-05 12:05:33.652178: I tensorflow/stream_executor/platform/default/dso_loader.cc:53] Successfully opened dynamic library libcublas.so.11\n",
      "2024-05-05 12:05:34.671393: I tensorflow/stream_executor/platform/default/dso_loader.cc:53] Successfully opened dynamic library libcublasLt.so.11\n",
      "2024-05-05 12:05:44.417274: W tensorflow/core/common_runtime/bfc_allocator.cc:271] Allocator (GPU_0_bfc) ran out of memory trying to allocate 4.02GiB with freed_by_count=0. The caller indicates that this is not a failure, but may mean that there could be performance gains if more memory were available.\n",
      "2024-05-05 12:05:44.417588: W tensorflow/core/kernels/gpu_utils.cc:49] Failed to allocate memory for convolution redzone checking; skipping this check. This is benign and only means that we won't check cudnn for out-of-bounds reads and writes. This message will only be printed once.\n"
     ]
    },
    {
     "name": "stdout",
     "output_type": "stream",
     "text": [
      "13/13 [==============================] - 43s 2s/step - loss: 0.4424 - iou: 2.3486e-04 - iou_thresholded: 7.0391e-04 - val_loss: 0.0193 - val_iou: 6.5686e-04 - val_iou_thresholded: 7.0441e-04\n",
      "Epoch 2/500\n"
     ]
    },
    {
     "name": "stderr",
     "output_type": "stream",
     "text": [
      "2024-05-05 12:06:20.995768: W tensorflow/core/common_runtime/bfc_allocator.cc:271] Allocator (GPU_0_bfc) ran out of memory trying to allocate 3.64GiB with freed_by_count=0. The caller indicates that this is not a failure, but may mean that there could be performance gains if more memory were available.\n"
     ]
    },
    {
     "name": "stdout",
     "output_type": "stream",
     "text": [
      "13/13 [==============================] - 28s 1s/step - loss: 0.0089 - iou: 2.7534e-04 - iou_thresholded: 7.8149e-04 - val_loss: 0.0038 - val_iou: 4.6090e-04 - val_iou_thresholded: 7.0441e-04\n",
      "Epoch 3/500\n",
      "13/13 [==============================] - 13s 1s/step - loss: 0.0020 - iou: 0.0010 - iou_thresholded: 8.3250e-04 - val_loss: 0.0017 - val_iou: 0.0052 - val_iou_thresholded: 7.0441e-04\n",
      "Epoch 4/500\n",
      "13/13 [==============================] - 13s 1s/step - loss: 0.0010 - iou: 0.0078 - iou_thresholded: 8.0522e-04 - val_loss: 0.0017 - val_iou: 0.0147 - val_iou_thresholded: 7.0441e-04\n",
      "Epoch 5/500\n",
      "13/13 [==============================] - 13s 1s/step - loss: 0.0010 - iou: 0.0149 - iou_thresholded: 7.6429e-04 - val_loss: 0.0015 - val_iou: 0.0172 - val_iou_thresholded: 7.0441e-04\n",
      "Epoch 6/500\n",
      "13/13 [==============================] - 13s 1s/step - loss: 8.8598e-04 - iou: 0.0163 - iou_thresholded: 7.7367e-04 - val_loss: 0.0015 - val_iou: 0.0212 - val_iou_thresholded: 7.0441e-04\n",
      "Epoch 7/500\n",
      "13/13 [==============================] - 13s 1s/step - loss: 8.3002e-04 - iou: 0.0209 - iou_thresholded: 8.0552e-04 - val_loss: 0.0015 - val_iou: 0.0212 - val_iou_thresholded: 7.0441e-04\n",
      "Epoch 8/500\n",
      "13/13 [==============================] - 13s 1s/step - loss: 8.4793e-04 - iou: 0.0228 - iou_thresholded: 8.2360e-04 - val_loss: 0.0015 - val_iou: 0.0297 - val_iou_thresholded: 7.0441e-04\n",
      "Epoch 9/500\n",
      "13/13 [==============================] - 13s 1s/step - loss: 8.2112e-04 - iou: 0.0249 - iou_thresholded: 7.5989e-04 - val_loss: 0.0014 - val_iou: 0.0259 - val_iou_thresholded: 7.0441e-04\n",
      "Epoch 10/500\n",
      "13/13 [==============================] - 13s 1s/step - loss: 7.9630e-04 - iou: 0.0255 - iou_thresholded: 7.9737e-04 - val_loss: 0.0014 - val_iou: 0.0297 - val_iou_thresholded: 7.0441e-04\n",
      "Epoch 11/500\n",
      "13/13 [==============================] - 13s 1s/step - loss: 6.8853e-04 - iou: 0.0285 - iou_thresholded: 8.5851e-04 - val_loss: 0.0013 - val_iou: 0.0327 - val_iou_thresholded: 7.0441e-04\n",
      "Epoch 12/500\n",
      "13/13 [==============================] - 13s 1s/step - loss: 7.1266e-04 - iou: 0.0354 - iou_thresholded: 0.0015 - val_loss: 0.0013 - val_iou: 0.0294 - val_iou_thresholded: 7.0441e-04\n",
      "Epoch 13/500\n",
      "13/13 [==============================] - 13s 1s/step - loss: 7.5354e-04 - iou: 0.0389 - iou_thresholded: 0.0018 - val_loss: 0.0013 - val_iou: 0.0327 - val_iou_thresholded: 7.0441e-04\n",
      "Epoch 14/500\n",
      "13/13 [==============================] - 13s 1s/step - loss: 6.9008e-04 - iou: 0.0451 - iou_thresholded: 0.0121 - val_loss: 0.0012 - val_iou: 0.0486 - val_iou_thresholded: 0.0022\n",
      "Epoch 15/500\n",
      "13/13 [==============================] - 13s 1s/step - loss: 6.6748e-04 - iou: 0.0543 - iou_thresholded: 0.0220 - val_loss: 0.0012 - val_iou: 0.0570 - val_iou_thresholded: 0.0255\n",
      "Epoch 16/500\n",
      "13/13 [==============================] - 13s 1s/step - loss: 6.2666e-04 - iou: 0.0633 - iou_thresholded: 0.0421 - val_loss: 0.0012 - val_iou: 0.0524 - val_iou_thresholded: 0.0062\n",
      "Epoch 17/500\n",
      "13/13 [==============================] - 13s 1s/step - loss: 6.3353e-04 - iou: 0.0688 - iou_thresholded: 0.0630 - val_loss: 0.0012 - val_iou: 0.0692 - val_iou_thresholded: 0.0313\n",
      "Epoch 18/500\n",
      "13/13 [==============================] - 13s 1s/step - loss: 5.9804e-04 - iou: 0.0698 - iou_thresholded: 0.0527 - val_loss: 0.0011 - val_iou: 0.0958 - val_iou_thresholded: 0.1263\n",
      "Epoch 19/500\n",
      "13/13 [==============================] - 13s 1s/step - loss: 6.3440e-04 - iou: 0.1086 - iou_thresholded: 0.1299 - val_loss: 0.0012 - val_iou: 0.0984 - val_iou_thresholded: 0.1208\n",
      "Epoch 20/500\n",
      "13/13 [==============================] - 13s 1s/step - loss: 5.3715e-04 - iou: 0.1068 - iou_thresholded: 0.1188 - val_loss: 0.0012 - val_iou: 0.1056 - val_iou_thresholded: 0.1792\n",
      "Epoch 21/500\n",
      "13/13 [==============================] - 13s 1s/step - loss: 5.9076e-04 - iou: 0.0953 - iou_thresholded: 0.1281 - val_loss: 0.0011 - val_iou: 0.1171 - val_iou_thresholded: 0.2058\n",
      "Epoch 22/500\n",
      "13/13 [==============================] - 13s 1s/step - loss: 5.3941e-04 - iou: 0.1150 - iou_thresholded: 0.1500 - val_loss: 0.0012 - val_iou: 0.1037 - val_iou_thresholded: 0.1021\n",
      "Epoch 23/500\n",
      "13/13 [==============================] - 13s 1s/step - loss: 4.8539e-04 - iou: 0.1596 - iou_thresholded: 0.2191 - val_loss: 0.0012 - val_iou: 0.1367 - val_iou_thresholded: 0.1812\n",
      "Epoch 24/500\n",
      "13/13 [==============================] - 13s 1s/step - loss: 5.1496e-04 - iou: 0.1520 - iou_thresholded: 0.2140 - val_loss: 0.0013 - val_iou: 0.1359 - val_iou_thresholded: 0.1314\n",
      "Epoch 25/500\n",
      "13/13 [==============================] - 13s 1s/step - loss: 5.2944e-04 - iou: 0.1498 - iou_thresholded: 0.2051 - val_loss: 0.0011 - val_iou: 0.1525 - val_iou_thresholded: 0.1776\n",
      "Epoch 26/500\n",
      "13/13 [==============================] - 13s 1s/step - loss: 4.5332e-04 - iou: 0.1840 - iou_thresholded: 0.2707 - val_loss: 0.0012 - val_iou: 0.2056 - val_iou_thresholded: 0.2722\n",
      "Epoch 27/500\n",
      "13/13 [==============================] - 13s 1s/step - loss: 4.7419e-04 - iou: 0.2035 - iou_thresholded: 0.2789 - val_loss: 0.0011 - val_iou: 0.1784 - val_iou_thresholded: 0.3408\n",
      "Epoch 28/500\n",
      "13/13 [==============================] - 13s 1s/step - loss: 4.5414e-04 - iou: 0.2053 - iou_thresholded: 0.3043 - val_loss: 0.0012 - val_iou: 0.1785 - val_iou_thresholded: 0.2493\n",
      "Epoch 29/500\n",
      "13/13 [==============================] - 13s 1s/step - loss: 4.1126e-04 - iou: 0.2380 - iou_thresholded: 0.3420 - val_loss: 0.0012 - val_iou: 0.2194 - val_iou_thresholded: 0.2721\n",
      "Epoch 30/500\n",
      "13/13 [==============================] - 13s 1s/step - loss: 4.0704e-04 - iou: 0.2483 - iou_thresholded: 0.3528 - val_loss: 0.0011 - val_iou: 0.2202 - val_iou_thresholded: 0.3516\n",
      "Epoch 31/500\n",
      "13/13 [==============================] - 13s 1s/step - loss: 3.6835e-04 - iou: 0.2689 - iou_thresholded: 0.3792 - val_loss: 0.0012 - val_iou: 0.2660 - val_iou_thresholded: 0.3350\n",
      "Epoch 32/500\n",
      "13/13 [==============================] - 13s 1s/step - loss: 4.1507e-04 - iou: 0.2568 - iou_thresholded: 0.3690 - val_loss: 0.0011 - val_iou: 0.2332 - val_iou_thresholded: 0.3551\n",
      "Epoch 33/500\n",
      "13/13 [==============================] - 13s 1s/step - loss: 4.0581e-04 - iou: 0.2933 - iou_thresholded: 0.4065 - val_loss: 0.0013 - val_iou: 0.2064 - val_iou_thresholded: 0.3589\n",
      "Epoch 34/500\n",
      "13/13 [==============================] - 13s 1s/step - loss: 3.6258e-04 - iou: 0.2787 - iou_thresholded: 0.3964 - val_loss: 0.0012 - val_iou: 0.2663 - val_iou_thresholded: 0.3477\n",
      "Epoch 35/500\n",
      "13/13 [==============================] - 13s 1s/step - loss: 3.6182e-04 - iou: 0.3208 - iou_thresholded: 0.4383 - val_loss: 0.0012 - val_iou: 0.2827 - val_iou_thresholded: 0.3420\n",
      "Epoch 36/500\n",
      "13/13 [==============================] - 13s 1s/step - loss: 3.1765e-04 - iou: 0.3169 - iou_thresholded: 0.4411 - val_loss: 0.0012 - val_iou: 0.2847 - val_iou_thresholded: 0.3253\n",
      "Epoch 37/500\n",
      "13/13 [==============================] - 13s 1s/step - loss: 3.5762e-04 - iou: 0.3447 - iou_thresholded: 0.4586 - val_loss: 0.0011 - val_iou: 0.2503 - val_iou_thresholded: 0.3614\n",
      "Epoch 38/500\n",
      "13/13 [==============================] - 13s 1s/step - loss: 3.3490e-04 - iou: 0.3237 - iou_thresholded: 0.4583 - val_loss: 0.0013 - val_iou: 0.2745 - val_iou_thresholded: 0.3491\n",
      "Epoch 39/500\n",
      "13/13 [==============================] - 13s 1s/step - loss: 3.3329e-04 - iou: 0.3668 - iou_thresholded: 0.4954 - val_loss: 0.0011 - val_iou: 0.2889 - val_iou_thresholded: 0.3753\n",
      "Epoch 40/500\n",
      "13/13 [==============================] - 13s 1s/step - loss: 2.9280e-04 - iou: 0.3617 - iou_thresholded: 0.4853 - val_loss: 0.0013 - val_iou: 0.3273 - val_iou_thresholded: 0.4166\n",
      "Epoch 41/500\n",
      "13/13 [==============================] - 13s 1s/step - loss: 3.1287e-04 - iou: 0.3907 - iou_thresholded: 0.5168 - val_loss: 0.0012 - val_iou: 0.2900 - val_iou_thresholded: 0.3632\n",
      "Epoch 42/500\n",
      "13/13 [==============================] - 13s 1s/step - loss: 2.8764e-04 - iou: 0.3839 - iou_thresholded: 0.5132 - val_loss: 0.0014 - val_iou: 0.3220 - val_iou_thresholded: 0.4439\n",
      "Epoch 43/500\n",
      "13/13 [==============================] - 13s 1s/step - loss: 3.1962e-04 - iou: 0.3715 - iou_thresholded: 0.4924 - val_loss: 0.0011 - val_iou: 0.3095 - val_iou_thresholded: 0.4338\n",
      "Epoch 44/500\n"
     ]
    },
    {
     "name": "stdout",
     "output_type": "stream",
     "text": [
      "13/13 [==============================] - 13s 1s/step - loss: 2.9449e-04 - iou: 0.3936 - iou_thresholded: 0.5151 - val_loss: 0.0013 - val_iou: 0.3446 - val_iou_thresholded: 0.4135\n",
      "Epoch 45/500\n",
      "13/13 [==============================] - 13s 1s/step - loss: 2.8934e-04 - iou: 0.4130 - iou_thresholded: 0.5423 - val_loss: 0.0013 - val_iou: 0.2998 - val_iou_thresholded: 0.3329\n",
      "Epoch 46/500\n",
      "13/13 [==============================] - 13s 1s/step - loss: 2.7923e-04 - iou: 0.4061 - iou_thresholded: 0.5267 - val_loss: 0.0012 - val_iou: 0.2969 - val_iou_thresholded: 0.4012\n",
      "Epoch 47/500\n",
      "13/13 [==============================] - 13s 1s/step - loss: 2.8128e-04 - iou: 0.4189 - iou_thresholded: 0.5427 - val_loss: 0.0013 - val_iou: 0.2999 - val_iou_thresholded: 0.4015\n",
      "Epoch 48/500\n",
      "13/13 [==============================] - 13s 1s/step - loss: 2.8887e-04 - iou: 0.4027 - iou_thresholded: 0.5188 - val_loss: 0.0012 - val_iou: 0.3026 - val_iou_thresholded: 0.4611\n",
      "Epoch 49/500\n",
      "13/13 [==============================] - 13s 1s/step - loss: 2.7273e-04 - iou: 0.4175 - iou_thresholded: 0.5471 - val_loss: 0.0013 - val_iou: 0.3497 - val_iou_thresholded: 0.4305\n",
      "Epoch 50/500\n",
      "13/13 [==============================] - 13s 1s/step - loss: 2.4500e-04 - iou: 0.4731 - iou_thresholded: 0.6031 - val_loss: 0.0014 - val_iou: 0.3530 - val_iou_thresholded: 0.4292\n",
      "Epoch 51/500\n",
      "13/13 [==============================] - 13s 1s/step - loss: 2.4249e-04 - iou: 0.4653 - iou_thresholded: 0.5943 - val_loss: 0.0014 - val_iou: 0.3560 - val_iou_thresholded: 0.4337\n",
      "Epoch 52/500\n",
      "13/13 [==============================] - 13s 1s/step - loss: 2.4041e-04 - iou: 0.4593 - iou_thresholded: 0.5806 - val_loss: 0.0015 - val_iou: 0.3131 - val_iou_thresholded: 0.3356\n",
      "Epoch 53/500\n",
      "13/13 [==============================] - 13s 1s/step - loss: 2.3719e-04 - iou: 0.4710 - iou_thresholded: 0.5918 - val_loss: 0.0014 - val_iou: 0.3416 - val_iou_thresholded: 0.4040\n",
      "Epoch 54/500\n",
      "13/13 [==============================] - 13s 1s/step - loss: 2.3708e-04 - iou: 0.4873 - iou_thresholded: 0.6097 - val_loss: 0.0017 - val_iou: 0.3508 - val_iou_thresholded: 0.4066\n",
      "Epoch 55/500\n",
      "13/13 [==============================] - 13s 1s/step - loss: 2.1561e-04 - iou: 0.4968 - iou_thresholded: 0.6153 - val_loss: 0.0016 - val_iou: 0.3709 - val_iou_thresholded: 0.4279\n",
      "Epoch 56/500\n",
      "13/13 [==============================] - 13s 1s/step - loss: 2.1890e-04 - iou: 0.4996 - iou_thresholded: 0.6303 - val_loss: 0.0015 - val_iou: 0.3627 - val_iou_thresholded: 0.4446\n",
      "Epoch 57/500\n",
      "13/13 [==============================] - 13s 1s/step - loss: 2.1232e-04 - iou: 0.5205 - iou_thresholded: 0.6367 - val_loss: 0.0015 - val_iou: 0.3514 - val_iou_thresholded: 0.4314\n",
      "Epoch 58/500\n",
      "13/13 [==============================] - 13s 1s/step - loss: 2.0754e-04 - iou: 0.5151 - iou_thresholded: 0.6371 - val_loss: 0.0014 - val_iou: 0.3506 - val_iou_thresholded: 0.4584\n",
      "Epoch 59/500\n",
      "13/13 [==============================] - 13s 1s/step - loss: 2.2469e-04 - iou: 0.5019 - iou_thresholded: 0.6243 - val_loss: 0.0013 - val_iou: 0.3526 - val_iou_thresholded: 0.4588\n",
      "Epoch 60/500\n",
      "13/13 [==============================] - 13s 1s/step - loss: 2.0870e-04 - iou: 0.5303 - iou_thresholded: 0.6451 - val_loss: 0.0015 - val_iou: 0.3629 - val_iou_thresholded: 0.4384\n",
      "Epoch 61/500\n",
      "13/13 [==============================] - 13s 1s/step - loss: 1.9460e-04 - iou: 0.5037 - iou_thresholded: 0.6279 - val_loss: 0.0016 - val_iou: 0.3530 - val_iou_thresholded: 0.4251\n",
      "Epoch 62/500\n",
      "13/13 [==============================] - 13s 1s/step - loss: 1.9973e-04 - iou: 0.5420 - iou_thresholded: 0.6458 - val_loss: 0.0014 - val_iou: 0.3859 - val_iou_thresholded: 0.4759\n",
      "Epoch 63/500\n",
      "13/13 [==============================] - 13s 1s/step - loss: 2.1055e-04 - iou: 0.5225 - iou_thresholded: 0.6464 - val_loss: 0.0016 - val_iou: 0.3586 - val_iou_thresholded: 0.4086\n",
      "Epoch 64/500\n",
      "13/13 [==============================] - 13s 1s/step - loss: 1.7471e-04 - iou: 0.5682 - iou_thresholded: 0.6797 - val_loss: 0.0015 - val_iou: 0.3602 - val_iou_thresholded: 0.4235\n",
      "Epoch 65/500\n",
      "13/13 [==============================] - 13s 1s/step - loss: 1.8852e-04 - iou: 0.5419 - iou_thresholded: 0.6562 - val_loss: 0.0016 - val_iou: 0.3912 - val_iou_thresholded: 0.4560\n",
      "Epoch 66/500\n",
      "13/13 [==============================] - 13s 1s/step - loss: 1.9786e-04 - iou: 0.5463 - iou_thresholded: 0.6598 - val_loss: 0.0019 - val_iou: 0.3421 - val_iou_thresholded: 0.3719\n",
      "Epoch 67/500\n",
      "13/13 [==============================] - 13s 1s/step - loss: 1.7497e-04 - iou: 0.5535 - iou_thresholded: 0.6686 - val_loss: 0.0019 - val_iou: 0.3665 - val_iou_thresholded: 0.3960\n",
      "Epoch 68/500\n",
      "13/13 [==============================] - 13s 1s/step - loss: 1.9843e-04 - iou: 0.5539 - iou_thresholded: 0.6616 - val_loss: 0.0017 - val_iou: 0.3568 - val_iou_thresholded: 0.4080\n",
      "Epoch 69/500\n",
      "13/13 [==============================] - 13s 1s/step - loss: 1.8193e-04 - iou: 0.5636 - iou_thresholded: 0.6704 - val_loss: 0.0016 - val_iou: 0.3657 - val_iou_thresholded: 0.4161\n",
      "Epoch 70/500\n",
      "13/13 [==============================] - 13s 1s/step - loss: 1.8479e-04 - iou: 0.5589 - iou_thresholded: 0.6701 - val_loss: 0.0015 - val_iou: 0.3848 - val_iou_thresholded: 0.4686\n",
      "Epoch 71/500\n",
      "13/13 [==============================] - 13s 1s/step - loss: 1.8171e-04 - iou: 0.5651 - iou_thresholded: 0.6837 - val_loss: 0.0017 - val_iou: 0.3662 - val_iou_thresholded: 0.4291\n",
      "Epoch 72/500\n",
      "13/13 [==============================] - 13s 1s/step - loss: 1.6386e-04 - iou: 0.5784 - iou_thresholded: 0.6890 - val_loss: 0.0018 - val_iou: 0.3809 - val_iou_thresholded: 0.4428\n",
      "Epoch 73/500\n",
      "13/13 [==============================] - 13s 1s/step - loss: 1.8588e-04 - iou: 0.5738 - iou_thresholded: 0.6889 - val_loss: 0.0017 - val_iou: 0.4045 - val_iou_thresholded: 0.4504\n",
      "Epoch 74/500\n",
      "13/13 [==============================] - 13s 1s/step - loss: 1.5797e-04 - iou: 0.5897 - iou_thresholded: 0.6882 - val_loss: 0.0016 - val_iou: 0.3949 - val_iou_thresholded: 0.4422\n",
      "Epoch 75/500\n",
      "13/13 [==============================] - 13s 1s/step - loss: 1.7193e-04 - iou: 0.5727 - iou_thresholded: 0.6964 - val_loss: 0.0019 - val_iou: 0.3653 - val_iou_thresholded: 0.3985\n",
      "Epoch 76/500\n",
      "13/13 [==============================] - 13s 1s/step - loss: 1.7134e-04 - iou: 0.5957 - iou_thresholded: 0.7033 - val_loss: 0.0020 - val_iou: 0.3573 - val_iou_thresholded: 0.3883\n",
      "Epoch 77/500\n",
      "13/13 [==============================] - 13s 1s/step - loss: 1.5117e-04 - iou: 0.6106 - iou_thresholded: 0.7079 - val_loss: 0.0019 - val_iou: 0.3646 - val_iou_thresholded: 0.4007\n",
      "Epoch 78/500\n",
      "13/13 [==============================] - 13s 1s/step - loss: 1.6466e-04 - iou: 0.5983 - iou_thresholded: 0.7015 - val_loss: 0.0024 - val_iou: 0.3789 - val_iou_thresholded: 0.4108\n",
      "Epoch 79/500\n",
      "13/13 [==============================] - 13s 1s/step - loss: 1.5161e-04 - iou: 0.6111 - iou_thresholded: 0.7126 - val_loss: 0.0019 - val_iou: 0.3994 - val_iou_thresholded: 0.4422\n",
      "Epoch 80/500\n",
      "13/13 [==============================] - 13s 1s/step - loss: 1.5309e-04 - iou: 0.6139 - iou_thresholded: 0.7174 - val_loss: 0.0020 - val_iou: 0.3922 - val_iou_thresholded: 0.4479\n",
      "Epoch 81/500\n",
      "13/13 [==============================] - 13s 1s/step - loss: 1.5739e-04 - iou: 0.6166 - iou_thresholded: 0.7195 - val_loss: 0.0019 - val_iou: 0.3898 - val_iou_thresholded: 0.4430\n",
      "Epoch 82/500\n",
      "13/13 [==============================] - 13s 1s/step - loss: 1.6441e-04 - iou: 0.5923 - iou_thresholded: 0.6919 - val_loss: 0.0021 - val_iou: 0.3662 - val_iou_thresholded: 0.3954\n",
      "Epoch 83/500\n",
      "13/13 [==============================] - 13s 1s/step - loss: 1.6020e-04 - iou: 0.5980 - iou_thresholded: 0.7009 - val_loss: 0.0022 - val_iou: 0.3821 - val_iou_thresholded: 0.4121\n",
      "Epoch 84/500\n",
      "13/13 [==============================] - 13s 1s/step - loss: 1.5952e-04 - iou: 0.6105 - iou_thresholded: 0.7036 - val_loss: 0.0019 - val_iou: 0.3923 - val_iou_thresholded: 0.4370\n",
      "Epoch 85/500\n",
      "13/13 [==============================] - 13s 1s/step - loss: 1.5631e-04 - iou: 0.6084 - iou_thresholded: 0.7069 - val_loss: 0.0018 - val_iou: 0.3854 - val_iou_thresholded: 0.4322\n",
      "Epoch 86/500\n",
      "13/13 [==============================] - 13s 1s/step - loss: 1.3866e-04 - iou: 0.6248 - iou_thresholded: 0.7261 - val_loss: 0.0022 - val_iou: 0.3717 - val_iou_thresholded: 0.4026\n"
     ]
    },
    {
     "name": "stdout",
     "output_type": "stream",
     "text": [
      "Epoch 87/500\n",
      "13/13 [==============================] - 13s 1s/step - loss: 1.6206e-04 - iou: 0.6175 - iou_thresholded: 0.7190 - val_loss: 0.0019 - val_iou: 0.4063 - val_iou_thresholded: 0.4548\n",
      "Epoch 88/500\n",
      "13/13 [==============================] - 13s 1s/step - loss: 1.3880e-04 - iou: 0.6329 - iou_thresholded: 0.7285 - val_loss: 0.0018 - val_iou: 0.3946 - val_iou_thresholded: 0.4447\n",
      "Epoch 89/500\n",
      "13/13 [==============================] - 13s 1s/step - loss: 1.4350e-04 - iou: 0.6433 - iou_thresholded: 0.7380 - val_loss: 0.0019 - val_iou: 0.3837 - val_iou_thresholded: 0.4360\n",
      "Epoch 90/500\n",
      "13/13 [==============================] - 13s 1s/step - loss: 1.3293e-04 - iou: 0.6289 - iou_thresholded: 0.7261 - val_loss: 0.0024 - val_iou: 0.3927 - val_iou_thresholded: 0.4272\n",
      "Epoch 91/500\n",
      "13/13 [==============================] - 13s 1s/step - loss: 1.4757e-04 - iou: 0.6489 - iou_thresholded: 0.7445 - val_loss: 0.0021 - val_iou: 0.3663 - val_iou_thresholded: 0.3895\n",
      "Epoch 92/500\n",
      "13/13 [==============================] - 13s 1s/step - loss: 1.3340e-04 - iou: 0.6410 - iou_thresholded: 0.7290 - val_loss: 0.0021 - val_iou: 0.3976 - val_iou_thresholded: 0.4289\n",
      "Epoch 93/500\n",
      "13/13 [==============================] - 13s 1s/step - loss: 1.3718e-04 - iou: 0.6529 - iou_thresholded: 0.7491 - val_loss: 0.0020 - val_iou: 0.3853 - val_iou_thresholded: 0.4247\n",
      "Epoch 94/500\n",
      "13/13 [==============================] - 13s 1s/step - loss: 1.3108e-04 - iou: 0.6490 - iou_thresholded: 0.7424 - val_loss: 0.0021 - val_iou: 0.3914 - val_iou_thresholded: 0.4244\n",
      "Epoch 95/500\n",
      "13/13 [==============================] - 13s 1s/step - loss: 1.3897e-04 - iou: 0.6513 - iou_thresholded: 0.7470 - val_loss: 0.0023 - val_iou: 0.3850 - val_iou_thresholded: 0.4170\n",
      "Epoch 96/500\n",
      "13/13 [==============================] - 13s 1s/step - loss: 1.4539e-04 - iou: 0.6452 - iou_thresholded: 0.7383 - val_loss: 0.0021 - val_iou: 0.4015 - val_iou_thresholded: 0.4427\n",
      "Epoch 97/500\n",
      "13/13 [==============================] - 13s 1s/step - loss: 1.2891e-04 - iou: 0.6482 - iou_thresholded: 0.7430 - val_loss: 0.0022 - val_iou: 0.3926 - val_iou_thresholded: 0.4283\n",
      "Epoch 98/500\n",
      "13/13 [==============================] - 13s 1s/step - loss: 1.3192e-04 - iou: 0.6555 - iou_thresholded: 0.7544 - val_loss: 0.0024 - val_iou: 0.3798 - val_iou_thresholded: 0.4053\n",
      "Epoch 99/500\n",
      "13/13 [==============================] - 13s 1s/step - loss: 1.3342e-04 - iou: 0.6636 - iou_thresholded: 0.7530 - val_loss: 0.0021 - val_iou: 0.3797 - val_iou_thresholded: 0.4162\n",
      "Epoch 100/500\n",
      "13/13 [==============================] - 13s 1s/step - loss: 1.2602e-04 - iou: 0.6673 - iou_thresholded: 0.7572 - val_loss: 0.0021 - val_iou: 0.4059 - val_iou_thresholded: 0.4404\n",
      "Epoch 101/500\n",
      "13/13 [==============================] - 13s 1s/step - loss: 1.2915e-04 - iou: 0.6590 - iou_thresholded: 0.7554 - val_loss: 0.0023 - val_iou: 0.3923 - val_iou_thresholded: 0.4179\n",
      "Epoch 102/500\n",
      "13/13 [==============================] - 13s 1s/step - loss: 1.1106e-04 - iou: 0.6869 - iou_thresholded: 0.7671 - val_loss: 0.0025 - val_iou: 0.3893 - val_iou_thresholded: 0.4181\n",
      "Epoch 103/500\n",
      "13/13 [==============================] - 13s 1s/step - loss: 1.2951e-04 - iou: 0.6636 - iou_thresholded: 0.7569 - val_loss: 0.0021 - val_iou: 0.4004 - val_iou_thresholded: 0.4325\n",
      "Epoch 104/500\n",
      "13/13 [==============================] - 13s 1s/step - loss: 1.3728e-04 - iou: 0.6594 - iou_thresholded: 0.7458 - val_loss: 0.0022 - val_iou: 0.3876 - val_iou_thresholded: 0.4392\n",
      "Epoch 105/500\n",
      "13/13 [==============================] - 13s 1s/step - loss: 1.2619e-04 - iou: 0.6836 - iou_thresholded: 0.7694 - val_loss: 0.0024 - val_iou: 0.4124 - val_iou_thresholded: 0.4448\n",
      "Epoch 106/500\n",
      "13/13 [==============================] - 13s 1s/step - loss: 1.1037e-04 - iou: 0.6699 - iou_thresholded: 0.7581 - val_loss: 0.0024 - val_iou: 0.3831 - val_iou_thresholded: 0.4143\n",
      "Epoch 107/500\n",
      "13/13 [==============================] - 13s 1s/step - loss: 1.2369e-04 - iou: 0.6729 - iou_thresholded: 0.7634 - val_loss: 0.0022 - val_iou: 0.4103 - val_iou_thresholded: 0.4483\n",
      "Epoch 108/500\n",
      "13/13 [==============================] - 13s 1s/step - loss: 1.3772e-04 - iou: 0.6770 - iou_thresholded: 0.7688 - val_loss: 0.0019 - val_iou: 0.3935 - val_iou_thresholded: 0.4488\n",
      "Epoch 109/500\n",
      "13/13 [==============================] - 13s 1s/step - loss: 1.2372e-04 - iou: 0.6759 - iou_thresholded: 0.7644 - val_loss: 0.0023 - val_iou: 0.4078 - val_iou_thresholded: 0.4337\n",
      "Epoch 110/500\n",
      "13/13 [==============================] - 13s 1s/step - loss: 1.1557e-04 - iou: 0.6810 - iou_thresholded: 0.7719 - val_loss: 0.0026 - val_iou: 0.3856 - val_iou_thresholded: 0.4095\n",
      "Epoch 111/500\n",
      "13/13 [==============================] - 13s 1s/step - loss: 1.2346e-04 - iou: 0.6951 - iou_thresholded: 0.7773 - val_loss: 0.0024 - val_iou: 0.4028 - val_iou_thresholded: 0.4485\n",
      "Epoch 112/500\n",
      "13/13 [==============================] - 13s 1s/step - loss: 1.1886e-04 - iou: 0.6852 - iou_thresholded: 0.7745 - val_loss: 0.0024 - val_iou: 0.4087 - val_iou_thresholded: 0.4467\n",
      "Epoch 113/500\n",
      "13/13 [==============================] - 13s 1s/step - loss: 1.1732e-04 - iou: 0.6972 - iou_thresholded: 0.7804 - val_loss: 0.0024 - val_iou: 0.4114 - val_iou_thresholded: 0.4467\n",
      "Epoch 114/500\n",
      "13/13 [==============================] - 13s 1s/step - loss: 1.1526e-04 - iou: 0.6881 - iou_thresholded: 0.7762 - val_loss: 0.0023 - val_iou: 0.4025 - val_iou_thresholded: 0.4427\n",
      "Epoch 115/500\n",
      "13/13 [==============================] - 13s 1s/step - loss: 1.1605e-04 - iou: 0.6977 - iou_thresholded: 0.7755 - val_loss: 0.0023 - val_iou: 0.4119 - val_iou_thresholded: 0.4438\n",
      "Epoch 116/500\n",
      "13/13 [==============================] - 13s 1s/step - loss: 1.1742e-04 - iou: 0.7000 - iou_thresholded: 0.7839 - val_loss: 0.0024 - val_iou: 0.4104 - val_iou_thresholded: 0.4468\n",
      "Epoch 117/500\n",
      "13/13 [==============================] - 13s 1s/step - loss: 1.0839e-04 - iou: 0.6944 - iou_thresholded: 0.7865 - val_loss: 0.0029 - val_iou: 0.4063 - val_iou_thresholded: 0.4316\n",
      "Epoch 118/500\n",
      "13/13 [==============================] - 13s 1s/step - loss: 1.0533e-04 - iou: 0.7188 - iou_thresholded: 0.7984 - val_loss: 0.0027 - val_iou: 0.4172 - val_iou_thresholded: 0.4380\n",
      "Epoch 119/500\n",
      "13/13 [==============================] - 13s 1s/step - loss: 1.1529e-04 - iou: 0.6902 - iou_thresholded: 0.7738 - val_loss: 0.0023 - val_iou: 0.4058 - val_iou_thresholded: 0.4429\n",
      "Epoch 120/500\n",
      "13/13 [==============================] - 13s 1s/step - loss: 1.0590e-04 - iou: 0.7111 - iou_thresholded: 0.7860 - val_loss: 0.0025 - val_iou: 0.3955 - val_iou_thresholded: 0.4205\n",
      "Epoch 121/500\n",
      "13/13 [==============================] - 13s 1s/step - loss: 1.2121e-04 - iou: 0.7055 - iou_thresholded: 0.7948 - val_loss: 0.0025 - val_iou: 0.3816 - val_iou_thresholded: 0.4036\n",
      "Epoch 122/500\n",
      "13/13 [==============================] - 13s 1s/step - loss: 1.0881e-04 - iou: 0.7019 - iou_thresholded: 0.7807 - val_loss: 0.0028 - val_iou: 0.3940 - val_iou_thresholded: 0.4117\n",
      "Epoch 123/500\n",
      "13/13 [==============================] - 13s 1s/step - loss: 1.0897e-04 - iou: 0.7031 - iou_thresholded: 0.7893 - val_loss: 0.0029 - val_iou: 0.3851 - val_iou_thresholded: 0.4108\n",
      "Epoch 124/500\n",
      "13/13 [==============================] - 13s 1s/step - loss: 1.1469e-04 - iou: 0.7100 - iou_thresholded: 0.7883 - val_loss: 0.0023 - val_iou: 0.4104 - val_iou_thresholded: 0.4487\n",
      "Epoch 125/500\n",
      "13/13 [==============================] - 13s 1s/step - loss: 1.0588e-04 - iou: 0.7118 - iou_thresholded: 0.8009 - val_loss: 0.0027 - val_iou: 0.4092 - val_iou_thresholded: 0.4289\n",
      "Epoch 126/500\n",
      "13/13 [==============================] - 13s 1s/step - loss: 9.6639e-05 - iou: 0.7217 - iou_thresholded: 0.8042 - val_loss: 0.0026 - val_iou: 0.4195 - val_iou_thresholded: 0.4506\n",
      "Epoch 127/500\n",
      "13/13 [==============================] - 13s 1s/step - loss: 1.0075e-04 - iou: 0.7224 - iou_thresholded: 0.8065 - val_loss: 0.0030 - val_iou: 0.3883 - val_iou_thresholded: 0.4166\n",
      "Epoch 128/500\n",
      "13/13 [==============================] - 13s 1s/step - loss: 1.0289e-04 - iou: 0.7347 - iou_thresholded: 0.8159 - val_loss: 0.0027 - val_iou: 0.3970 - val_iou_thresholded: 0.4252\n",
      "Epoch 129/500\n"
     ]
    },
    {
     "name": "stdout",
     "output_type": "stream",
     "text": [
      "13/13 [==============================] - 13s 1s/step - loss: 9.5375e-05 - iou: 0.7309 - iou_thresholded: 0.8110 - val_loss: 0.0028 - val_iou: 0.3972 - val_iou_thresholded: 0.4211\n",
      "Epoch 130/500\n",
      "13/13 [==============================] - 13s 1s/step - loss: 1.0120e-04 - iou: 0.7186 - iou_thresholded: 0.8029 - val_loss: 0.0027 - val_iou: 0.3841 - val_iou_thresholded: 0.4042\n",
      "Epoch 131/500\n",
      "13/13 [==============================] - 13s 1s/step - loss: 1.1674e-04 - iou: 0.7028 - iou_thresholded: 0.7771 - val_loss: 0.0027 - val_iou: 0.3831 - val_iou_thresholded: 0.4176\n",
      "Epoch 132/500\n",
      "13/13 [==============================] - 13s 1s/step - loss: 1.1311e-04 - iou: 0.7188 - iou_thresholded: 0.8011 - val_loss: 0.0022 - val_iou: 0.3984 - val_iou_thresholded: 0.4354\n",
      "Epoch 133/500\n",
      "13/13 [==============================] - 13s 1s/step - loss: 9.9691e-05 - iou: 0.7332 - iou_thresholded: 0.8167 - val_loss: 0.0024 - val_iou: 0.4118 - val_iou_thresholded: 0.4348\n",
      "Epoch 134/500\n",
      "13/13 [==============================] - 13s 1s/step - loss: 9.2693e-05 - iou: 0.7369 - iou_thresholded: 0.8176 - val_loss: 0.0030 - val_iou: 0.3926 - val_iou_thresholded: 0.4086\n",
      "Epoch 135/500\n",
      "13/13 [==============================] - 13s 1s/step - loss: 1.0684e-04 - iou: 0.7297 - iou_thresholded: 0.8089 - val_loss: 0.0029 - val_iou: 0.4105 - val_iou_thresholded: 0.4373\n",
      "Epoch 136/500\n",
      "13/13 [==============================] - 13s 1s/step - loss: 8.9389e-05 - iou: 0.7455 - iou_thresholded: 0.8246 - val_loss: 0.0029 - val_iou: 0.4028 - val_iou_thresholded: 0.4219\n",
      "Epoch 137/500\n",
      "13/13 [==============================] - 13s 1s/step - loss: 9.6282e-05 - iou: 0.7500 - iou_thresholded: 0.8297 - val_loss: 0.0028 - val_iou: 0.4131 - val_iou_thresholded: 0.4399\n",
      "Epoch 138/500\n",
      "13/13 [==============================] - 13s 1s/step - loss: 8.6734e-05 - iou: 0.7587 - iou_thresholded: 0.8363 - val_loss: 0.0032 - val_iou: 0.3901 - val_iou_thresholded: 0.4101\n",
      "Epoch 139/500\n",
      "13/13 [==============================] - 13s 1s/step - loss: 9.4825e-05 - iou: 0.7470 - iou_thresholded: 0.8273 - val_loss: 0.0033 - val_iou: 0.4112 - val_iou_thresholded: 0.4350\n",
      "Epoch 140/500\n",
      "13/13 [==============================] - 13s 1s/step - loss: 9.7320e-05 - iou: 0.7523 - iou_thresholded: 0.8310 - val_loss: 0.0034 - val_iou: 0.3823 - val_iou_thresholded: 0.3948\n",
      "Epoch 141/500\n",
      "13/13 [==============================] - 13s 1s/step - loss: 9.0277e-05 - iou: 0.7573 - iou_thresholded: 0.8329 - val_loss: 0.0032 - val_iou: 0.4049 - val_iou_thresholded: 0.4237\n",
      "Epoch 142/500\n",
      "13/13 [==============================] - 13s 1s/step - loss: 8.8241e-05 - iou: 0.7666 - iou_thresholded: 0.8403 - val_loss: 0.0034 - val_iou: 0.3981 - val_iou_thresholded: 0.4171\n",
      "Epoch 143/500\n",
      "13/13 [==============================] - 13s 1s/step - loss: 7.1140e-05 - iou: 0.7858 - iou_thresholded: 0.8536 - val_loss: 0.0034 - val_iou: 0.4166 - val_iou_thresholded: 0.4301\n",
      "Epoch 144/500\n",
      "13/13 [==============================] - 13s 1s/step - loss: 9.2323e-05 - iou: 0.7607 - iou_thresholded: 0.8392 - val_loss: 0.0035 - val_iou: 0.4018 - val_iou_thresholded: 0.4163\n",
      "Epoch 145/500\n",
      "13/13 [==============================] - 13s 1s/step - loss: 9.5507e-05 - iou: 0.7672 - iou_thresholded: 0.8368 - val_loss: 0.0034 - val_iou: 0.3876 - val_iou_thresholded: 0.4066\n",
      "Epoch 146/500\n",
      "13/13 [==============================] - 13s 1s/step - loss: 9.4193e-05 - iou: 0.7603 - iou_thresholded: 0.8372 - val_loss: 0.0036 - val_iou: 0.4174 - val_iou_thresholded: 0.4365\n",
      "Epoch 147/500\n",
      "13/13 [==============================] - 13s 1s/step - loss: 8.1475e-05 - iou: 0.7748 - iou_thresholded: 0.8509 - val_loss: 0.0034 - val_iou: 0.3818 - val_iou_thresholded: 0.3990\n",
      "Epoch 148/500\n",
      "13/13 [==============================] - 13s 1s/step - loss: 9.0307e-05 - iou: 0.7604 - iou_thresholded: 0.8270 - val_loss: 0.0032 - val_iou: 0.3874 - val_iou_thresholded: 0.4104\n",
      "Epoch 149/500\n",
      "13/13 [==============================] - 13s 1s/step - loss: 8.9780e-05 - iou: 0.7701 - iou_thresholded: 0.8472 - val_loss: 0.0035 - val_iou: 0.3913 - val_iou_thresholded: 0.4184\n",
      "Epoch 150/500\n",
      "13/13 [==============================] - 13s 1s/step - loss: 8.5788e-05 - iou: 0.7683 - iou_thresholded: 0.8451 - val_loss: 0.0034 - val_iou: 0.3821 - val_iou_thresholded: 0.3983\n",
      "Epoch 151/500\n",
      "13/13 [==============================] - 13s 1s/step - loss: 8.2140e-05 - iou: 0.7753 - iou_thresholded: 0.8423 - val_loss: 0.0032 - val_iou: 0.3938 - val_iou_thresholded: 0.4154\n",
      "Epoch 152/500\n",
      "13/13 [==============================] - 13s 1s/step - loss: 8.6315e-05 - iou: 0.7718 - iou_thresholded: 0.8444 - val_loss: 0.0032 - val_iou: 0.3742 - val_iou_thresholded: 0.3941\n",
      "Epoch 153/500\n",
      "13/13 [==============================] - 13s 1s/step - loss: 8.7053e-05 - iou: 0.7576 - iou_thresholded: 0.8381 - val_loss: 0.0034 - val_iou: 0.3849 - val_iou_thresholded: 0.3984\n",
      "Epoch 154/500\n",
      "13/13 [==============================] - 13s 1s/step - loss: 9.9656e-05 - iou: 0.7589 - iou_thresholded: 0.8239 - val_loss: 0.0031 - val_iou: 0.4018 - val_iou_thresholded: 0.4400\n",
      "Epoch 155/500\n",
      "13/13 [==============================] - 13s 1s/step - loss: 8.6058e-05 - iou: 0.7579 - iou_thresholded: 0.8425 - val_loss: 0.0032 - val_iou: 0.4159 - val_iou_thresholded: 0.4371\n",
      "Epoch 156/500\n",
      "13/13 [==============================] - 13s 1s/step - loss: 9.8614e-05 - iou: 0.7612 - iou_thresholded: 0.8295 - val_loss: 0.0031 - val_iou: 0.3858 - val_iou_thresholded: 0.4016\n",
      "Epoch 157/500\n",
      "13/13 [==============================] - 13s 1s/step - loss: 8.8695e-05 - iou: 0.7550 - iou_thresholded: 0.8331 - val_loss: 0.0034 - val_iou: 0.3860 - val_iou_thresholded: 0.3965\n",
      "Epoch 158/500\n",
      "13/13 [==============================] - 13s 1s/step - loss: 9.1478e-05 - iou: 0.7562 - iou_thresholded: 0.8299 - val_loss: 0.0035 - val_iou: 0.4116 - val_iou_thresholded: 0.4325\n",
      "Epoch 159/500\n",
      "13/13 [==============================] - 13s 1s/step - loss: 7.1499e-05 - iou: 0.7933 - iou_thresholded: 0.8598 - val_loss: 0.0036 - val_iou: 0.3835 - val_iou_thresholded: 0.3953\n",
      "Epoch 160/500\n",
      "13/13 [==============================] - 13s 1s/step - loss: 8.2641e-05 - iou: 0.7879 - iou_thresholded: 0.8648 - val_loss: 0.0035 - val_iou: 0.4027 - val_iou_thresholded: 0.4175\n",
      "Epoch 161/500\n",
      "13/13 [==============================] - 13s 1s/step - loss: 8.3535e-05 - iou: 0.7925 - iou_thresholded: 0.8629 - val_loss: 0.0034 - val_iou: 0.4108 - val_iou_thresholded: 0.4350\n",
      "Epoch 162/500\n",
      "13/13 [==============================] - 13s 1s/step - loss: 6.2675e-05 - iou: 0.8131 - iou_thresholded: 0.8810 - val_loss: 0.0037 - val_iou: 0.4086 - val_iou_thresholded: 0.4243\n",
      "Epoch 163/500\n",
      "13/13 [==============================] - 13s 1s/step - loss: 8.2190e-05 - iou: 0.8064 - iou_thresholded: 0.8758 - val_loss: 0.0035 - val_iou: 0.3904 - val_iou_thresholded: 0.4125\n",
      "Epoch 164/500\n",
      "13/13 [==============================] - 13s 1s/step - loss: 6.1938e-05 - iou: 0.8237 - iou_thresholded: 0.8901 - val_loss: 0.0038 - val_iou: 0.3937 - val_iou_thresholded: 0.4057\n",
      "Epoch 165/500\n",
      "13/13 [==============================] - 13s 1s/step - loss: 7.0122e-05 - iou: 0.8056 - iou_thresholded: 0.8696 - val_loss: 0.0035 - val_iou: 0.4048 - val_iou_thresholded: 0.4248\n",
      "Epoch 166/500\n",
      "13/13 [==============================] - 13s 1s/step - loss: 7.9485e-05 - iou: 0.8007 - iou_thresholded: 0.8689 - val_loss: 0.0041 - val_iou: 0.4066 - val_iou_thresholded: 0.4238\n",
      "Epoch 167/500\n",
      "13/13 [==============================] - 13s 1s/step - loss: 6.7132e-05 - iou: 0.8266 - iou_thresholded: 0.8913 - val_loss: 0.0039 - val_iou: 0.4079 - val_iou_thresholded: 0.4212\n",
      "Epoch 168/500\n",
      "13/13 [==============================] - 13s 1s/step - loss: 6.9051e-05 - iou: 0.8242 - iou_thresholded: 0.8807 - val_loss: 0.0040 - val_iou: 0.4036 - val_iou_thresholded: 0.4244\n",
      "Epoch 169/500\n",
      "13/13 [==============================] - 13s 1s/step - loss: 6.9478e-05 - iou: 0.8125 - iou_thresholded: 0.8870 - val_loss: 0.0047 - val_iou: 0.4085 - val_iou_thresholded: 0.4193\n",
      "Epoch 170/500\n",
      "13/13 [==============================] - 13s 1s/step - loss: 6.8739e-05 - iou: 0.8400 - iou_thresholded: 0.8959 - val_loss: 0.0039 - val_iou: 0.4029 - val_iou_thresholded: 0.4213\n",
      "Epoch 171/500\n"
     ]
    },
    {
     "name": "stdout",
     "output_type": "stream",
     "text": [
      "13/13 [==============================] - 13s 1s/step - loss: 6.8204e-05 - iou: 0.8149 - iou_thresholded: 0.8881 - val_loss: 0.0044 - val_iou: 0.4031 - val_iou_thresholded: 0.4152\n",
      "Epoch 172/500\n",
      "13/13 [==============================] - 13s 1s/step - loss: 6.2377e-05 - iou: 0.8466 - iou_thresholded: 0.9015 - val_loss: 0.0043 - val_iou: 0.4106 - val_iou_thresholded: 0.4196\n",
      "Epoch 173/500\n",
      "13/13 [==============================] - 13s 1s/step - loss: 6.4915e-05 - iou: 0.8380 - iou_thresholded: 0.9006 - val_loss: 0.0048 - val_iou: 0.3936 - val_iou_thresholded: 0.4056\n",
      "Epoch 174/500\n",
      "13/13 [==============================] - 13s 1s/step - loss: 6.3041e-05 - iou: 0.8352 - iou_thresholded: 0.8910 - val_loss: 0.0049 - val_iou: 0.3982 - val_iou_thresholded: 0.4093\n",
      "Epoch 175/500\n",
      "13/13 [==============================] - 13s 1s/step - loss: 7.2545e-05 - iou: 0.8299 - iou_thresholded: 0.8886 - val_loss: 0.0041 - val_iou: 0.4161 - val_iou_thresholded: 0.4317\n",
      "Epoch 176/500\n",
      "13/13 [==============================] - 13s 1s/step - loss: 6.5781e-05 - iou: 0.8228 - iou_thresholded: 0.8899 - val_loss: 0.0043 - val_iou: 0.4112 - val_iou_thresholded: 0.4281\n",
      "Epoch 177/500\n",
      "13/13 [==============================] - 13s 1s/step - loss: 5.6185e-05 - iou: 0.8431 - iou_thresholded: 0.8982 - val_loss: 0.0048 - val_iou: 0.3942 - val_iou_thresholded: 0.4051\n",
      "Epoch 178/500\n",
      "13/13 [==============================] - 13s 1s/step - loss: 6.7480e-05 - iou: 0.8316 - iou_thresholded: 0.8898 - val_loss: 0.0042 - val_iou: 0.4108 - val_iou_thresholded: 0.4298\n",
      "Epoch 179/500\n",
      "13/13 [==============================] - 13s 1s/step - loss: 6.5896e-05 - iou: 0.8363 - iou_thresholded: 0.8981 - val_loss: 0.0042 - val_iou: 0.4116 - val_iou_thresholded: 0.4257\n",
      "Epoch 180/500\n",
      "13/13 [==============================] - 13s 1s/step - loss: 6.6709e-05 - iou: 0.8411 - iou_thresholded: 0.9003 - val_loss: 0.0044 - val_iou: 0.3966 - val_iou_thresholded: 0.4098\n",
      "Epoch 181/500\n",
      "13/13 [==============================] - 13s 1s/step - loss: 5.0893e-05 - iou: 0.8535 - iou_thresholded: 0.9152 - val_loss: 0.0043 - val_iou: 0.4161 - val_iou_thresholded: 0.4273\n",
      "Epoch 182/500\n",
      "13/13 [==============================] - 13s 1s/step - loss: 6.3857e-05 - iou: 0.8529 - iou_thresholded: 0.9044 - val_loss: 0.0045 - val_iou: 0.4128 - val_iou_thresholded: 0.4243\n",
      "Epoch 183/500\n",
      "13/13 [==============================] - 13s 1s/step - loss: 5.6632e-05 - iou: 0.8541 - iou_thresholded: 0.9119 - val_loss: 0.0049 - val_iou: 0.3900 - val_iou_thresholded: 0.4002\n",
      "Epoch 184/500\n",
      "13/13 [==============================] - 13s 1s/step - loss: 4.7571e-05 - iou: 0.8642 - iou_thresholded: 0.9181 - val_loss: 0.0048 - val_iou: 0.4089 - val_iou_thresholded: 0.4151\n",
      "Epoch 185/500\n",
      "13/13 [==============================] - 13s 1s/step - loss: 7.9692e-05 - iou: 0.8299 - iou_thresholded: 0.8959 - val_loss: 0.0048 - val_iou: 0.4166 - val_iou_thresholded: 0.4281\n",
      "Epoch 186/500\n",
      "13/13 [==============================] - 13s 1s/step - loss: 6.1719e-05 - iou: 0.8549 - iou_thresholded: 0.9067 - val_loss: 0.0054 - val_iou: 0.3772 - val_iou_thresholded: 0.3889\n",
      "Epoch 187/500\n",
      "13/13 [==============================] - 13s 1s/step - loss: 6.0917e-05 - iou: 0.8501 - iou_thresholded: 0.9046 - val_loss: 0.0048 - val_iou: 0.3908 - val_iou_thresholded: 0.4016\n",
      "Epoch 188/500\n",
      "13/13 [==============================] - 13s 1s/step - loss: 6.5794e-05 - iou: 0.8516 - iou_thresholded: 0.9081 - val_loss: 0.0049 - val_iou: 0.3833 - val_iou_thresholded: 0.3948\n",
      "Epoch 189/500\n",
      "13/13 [==============================] - 13s 1s/step - loss: 5.5824e-05 - iou: 0.8474 - iou_thresholded: 0.9061 - val_loss: 0.0046 - val_iou: 0.4178 - val_iou_thresholded: 0.4312\n",
      "Epoch 190/500\n",
      "13/13 [==============================] - 13s 1s/step - loss: 4.9990e-05 - iou: 0.8641 - iou_thresholded: 0.9153 - val_loss: 0.0049 - val_iou: 0.4114 - val_iou_thresholded: 0.4204\n",
      "Epoch 191/500\n",
      "13/13 [==============================] - 13s 1s/step - loss: 6.4672e-05 - iou: 0.8574 - iou_thresholded: 0.9111 - val_loss: 0.0053 - val_iou: 0.3966 - val_iou_thresholded: 0.4120\n",
      "Epoch 192/500\n",
      "13/13 [==============================] - 13s 1s/step - loss: 5.5177e-05 - iou: 0.8591 - iou_thresholded: 0.9132 - val_loss: 0.0048 - val_iou: 0.4172 - val_iou_thresholded: 0.4274\n",
      "Epoch 193/500\n",
      "13/13 [==============================] - 13s 1s/step - loss: 5.9717e-05 - iou: 0.8608 - iou_thresholded: 0.9130 - val_loss: 0.0047 - val_iou: 0.4076 - val_iou_thresholded: 0.4203\n",
      "Epoch 194/500\n",
      "13/13 [==============================] - 13s 1s/step - loss: 5.6667e-05 - iou: 0.8550 - iou_thresholded: 0.9130 - val_loss: 0.0053 - val_iou: 0.3810 - val_iou_thresholded: 0.3908\n",
      "Epoch 195/500\n",
      "13/13 [==============================] - 13s 1s/step - loss: 5.9139e-05 - iou: 0.8594 - iou_thresholded: 0.9092 - val_loss: 0.0045 - val_iou: 0.4214 - val_iou_thresholded: 0.4305\n",
      "Epoch 196/500\n",
      "13/13 [==============================] - 13s 1s/step - loss: 5.9622e-05 - iou: 0.8646 - iou_thresholded: 0.9138 - val_loss: 0.0047 - val_iou: 0.4175 - val_iou_thresholded: 0.4300\n",
      "Epoch 197/500\n",
      "13/13 [==============================] - 13s 1s/step - loss: 5.4013e-05 - iou: 0.8734 - iou_thresholded: 0.9250 - val_loss: 0.0052 - val_iou: 0.4014 - val_iou_thresholded: 0.4127\n",
      "Epoch 198/500\n",
      "13/13 [==============================] - 13s 1s/step - loss: 6.0349e-05 - iou: 0.8601 - iou_thresholded: 0.9080 - val_loss: 0.0046 - val_iou: 0.4182 - val_iou_thresholded: 0.4311\n",
      "Epoch 199/500\n",
      "13/13 [==============================] - 13s 1s/step - loss: 5.7101e-05 - iou: 0.8635 - iou_thresholded: 0.9142 - val_loss: 0.0040 - val_iou: 0.4182 - val_iou_thresholded: 0.4366\n",
      "Epoch 200/500\n",
      "13/13 [==============================] - 13s 1s/step - loss: 4.6159e-05 - iou: 0.8728 - iou_thresholded: 0.9318 - val_loss: 0.0048 - val_iou: 0.4127 - val_iou_thresholded: 0.4194\n",
      "Epoch 201/500\n",
      "13/13 [==============================] - 13s 1s/step - loss: 4.7503e-05 - iou: 0.8930 - iou_thresholded: 0.9381 - val_loss: 0.0052 - val_iou: 0.4183 - val_iou_thresholded: 0.4270\n",
      "Epoch 202/500\n",
      "13/13 [==============================] - 13s 1s/step - loss: 5.9629e-05 - iou: 0.8833 - iou_thresholded: 0.9346 - val_loss: 0.0050 - val_iou: 0.3939 - val_iou_thresholded: 0.4130\n",
      "Epoch 203/500\n",
      "13/13 [==============================] - 13s 1s/step - loss: 3.3231e-05 - iou: 0.8988 - iou_thresholded: 0.9434 - val_loss: 0.0054 - val_iou: 0.4359 - val_iou_thresholded: 0.4414\n",
      "Epoch 204/500\n",
      "13/13 [==============================] - 13s 1s/step - loss: 5.9601e-05 - iou: 0.8887 - iou_thresholded: 0.9312 - val_loss: 0.0051 - val_iou: 0.4124 - val_iou_thresholded: 0.4282\n",
      "Epoch 205/500\n",
      "13/13 [==============================] - 13s 1s/step - loss: 5.2872e-05 - iou: 0.8853 - iou_thresholded: 0.9324 - val_loss: 0.0054 - val_iou: 0.4142 - val_iou_thresholded: 0.4260\n",
      "Epoch 206/500\n",
      "13/13 [==============================] - 13s 1s/step - loss: 4.3831e-05 - iou: 0.8899 - iou_thresholded: 0.9338 - val_loss: 0.0061 - val_iou: 0.3852 - val_iou_thresholded: 0.3889\n",
      "Epoch 207/500\n",
      "13/13 [==============================] - 13s 1s/step - loss: 6.0499e-05 - iou: 0.8694 - iou_thresholded: 0.9117 - val_loss: 0.0049 - val_iou: 0.4305 - val_iou_thresholded: 0.4516\n",
      "Epoch 208/500\n",
      "13/13 [==============================] - 13s 1s/step - loss: 5.8252e-05 - iou: 0.8551 - iou_thresholded: 0.9053 - val_loss: 0.0055 - val_iou: 0.4000 - val_iou_thresholded: 0.4089\n",
      "Epoch 209/500\n",
      "13/13 [==============================] - 13s 1s/step - loss: 5.9875e-05 - iou: 0.8634 - iou_thresholded: 0.9088 - val_loss: 0.0050 - val_iou: 0.4089 - val_iou_thresholded: 0.4205\n",
      "Epoch 210/500\n",
      "13/13 [==============================] - 13s 1s/step - loss: 5.6906e-05 - iou: 0.8662 - iou_thresholded: 0.9193 - val_loss: 0.0052 - val_iou: 0.4324 - val_iou_thresholded: 0.4448\n",
      "Epoch 211/500\n",
      "13/13 [==============================] - 13s 1s/step - loss: 4.8883e-05 - iou: 0.8846 - iou_thresholded: 0.9326 - val_loss: 0.0045 - val_iou: 0.4145 - val_iou_thresholded: 0.4264\n",
      "Epoch 212/500\n",
      "13/13 [==============================] - 13s 1s/step - loss: 4.4350e-05 - iou: 0.9008 - iou_thresholded: 0.9458 - val_loss: 0.0057 - val_iou: 0.4110 - val_iou_thresholded: 0.4172\n",
      "Epoch 213/500\n"
     ]
    },
    {
     "name": "stdout",
     "output_type": "stream",
     "text": [
      "13/13 [==============================] - 13s 1s/step - loss: 4.5337e-05 - iou: 0.8976 - iou_thresholded: 0.9482 - val_loss: 0.0059 - val_iou: 0.4099 - val_iou_thresholded: 0.4197\n",
      "Epoch 214/500\n",
      "13/13 [==============================] - 13s 1s/step - loss: 4.8262e-05 - iou: 0.9078 - iou_thresholded: 0.9452 - val_loss: 0.0059 - val_iou: 0.4286 - val_iou_thresholded: 0.4357\n",
      "Epoch 215/500\n",
      "13/13 [==============================] - 13s 1s/step - loss: 3.0730e-05 - iou: 0.9160 - iou_thresholded: 0.9572 - val_loss: 0.0056 - val_iou: 0.4407 - val_iou_thresholded: 0.4501\n",
      "Epoch 216/500\n",
      "13/13 [==============================] - 13s 1s/step - loss: 5.5164e-05 - iou: 0.9070 - iou_thresholded: 0.9490 - val_loss: 0.0058 - val_iou: 0.4220 - val_iou_thresholded: 0.4344\n",
      "Epoch 217/500\n",
      "13/13 [==============================] - 13s 1s/step - loss: 2.2460e-05 - iou: 0.9359 - iou_thresholded: 0.9713 - val_loss: 0.0065 - val_iou: 0.4208 - val_iou_thresholded: 0.4255\n",
      "Epoch 218/500\n",
      "13/13 [==============================] - 13s 1s/step - loss: 5.4688e-05 - iou: 0.9044 - iou_thresholded: 0.9494 - val_loss: 0.0062 - val_iou: 0.4035 - val_iou_thresholded: 0.4150\n",
      "Epoch 219/500\n",
      "13/13 [==============================] - 13s 1s/step - loss: 3.9411e-05 - iou: 0.9294 - iou_thresholded: 0.9585 - val_loss: 0.0067 - val_iou: 0.4292 - val_iou_thresholded: 0.4350\n",
      "Epoch 220/500\n",
      "13/13 [==============================] - 13s 1s/step - loss: 3.7367e-05 - iou: 0.9155 - iou_thresholded: 0.9570 - val_loss: 0.0060 - val_iou: 0.4319 - val_iou_thresholded: 0.4420\n",
      "Epoch 221/500\n",
      "13/13 [==============================] - 13s 1s/step - loss: 3.6644e-05 - iou: 0.9152 - iou_thresholded: 0.9511 - val_loss: 0.0069 - val_iou: 0.4110 - val_iou_thresholded: 0.4153\n",
      "Epoch 222/500\n",
      "13/13 [==============================] - 13s 1s/step - loss: 4.6290e-05 - iou: 0.9065 - iou_thresholded: 0.9457 - val_loss: 0.0066 - val_iou: 0.4190 - val_iou_thresholded: 0.4238\n",
      "Epoch 223/500\n",
      "13/13 [==============================] - 13s 1s/step - loss: 6.2189e-05 - iou: 0.9009 - iou_thresholded: 0.9325 - val_loss: 0.0056 - val_iou: 0.3957 - val_iou_thresholded: 0.4111\n",
      "Epoch 224/500\n",
      "13/13 [==============================] - 13s 1s/step - loss: 1.0235e-04 - iou: 0.8132 - iou_thresholded: 0.8654 - val_loss: 0.0047 - val_iou: 0.3783 - val_iou_thresholded: 0.3982\n",
      "Epoch 225/500\n",
      "13/13 [==============================] - 13s 1s/step - loss: 1.7809e-04 - iou: 0.6766 - iou_thresholded: 0.7428 - val_loss: 0.0021 - val_iou: 0.3658 - val_iou_thresholded: 0.3915\n",
      "Epoch 226/500\n",
      "13/13 [==============================] - 13s 1s/step - loss: 1.7682e-04 - iou: 0.6039 - iou_thresholded: 0.7073 - val_loss: 0.0022 - val_iou: 0.3666 - val_iou_thresholded: 0.4086\n",
      "Epoch 227/500\n",
      "13/13 [==============================] - 13s 1s/step - loss: 1.2932e-04 - iou: 0.6825 - iou_thresholded: 0.7797 - val_loss: 0.0024 - val_iou: 0.3707 - val_iou_thresholded: 0.3949\n",
      "Epoch 228/500\n",
      "13/13 [==============================] - 13s 1s/step - loss: 1.0031e-04 - iou: 0.7295 - iou_thresholded: 0.8165 - val_loss: 0.0025 - val_iou: 0.4118 - val_iou_thresholded: 0.4442\n",
      "Epoch 229/500\n",
      "13/13 [==============================] - 13s 1s/step - loss: 7.6856e-05 - iou: 0.7878 - iou_thresholded: 0.8743 - val_loss: 0.0036 - val_iou: 0.4070 - val_iou_thresholded: 0.4295\n",
      "Epoch 230/500\n",
      "13/13 [==============================] - 13s 1s/step - loss: 5.1718e-05 - iou: 0.8475 - iou_thresholded: 0.9138 - val_loss: 0.0036 - val_iou: 0.4256 - val_iou_thresholded: 0.4408\n",
      "Epoch 231/500\n",
      "13/13 [==============================] - 13s 1s/step - loss: 6.4535e-05 - iou: 0.8539 - iou_thresholded: 0.9191 - val_loss: 0.0039 - val_iou: 0.4124 - val_iou_thresholded: 0.4345\n",
      "Epoch 232/500\n",
      "13/13 [==============================] - 13s 1s/step - loss: 4.3765e-05 - iou: 0.8763 - iou_thresholded: 0.9371 - val_loss: 0.0053 - val_iou: 0.4138 - val_iou_thresholded: 0.4218\n",
      "Epoch 233/500\n",
      "13/13 [==============================] - 13s 1s/step - loss: 5.6643e-05 - iou: 0.8851 - iou_thresholded: 0.9377 - val_loss: 0.0042 - val_iou: 0.4263 - val_iou_thresholded: 0.4415\n",
      "Epoch 234/500\n",
      "13/13 [==============================] - 13s 1s/step - loss: 4.3886e-05 - iou: 0.8873 - iou_thresholded: 0.9388 - val_loss: 0.0048 - val_iou: 0.4259 - val_iou_thresholded: 0.4393\n",
      "Epoch 235/500\n",
      "13/13 [==============================] - 13s 1s/step - loss: 4.9929e-05 - iou: 0.8851 - iou_thresholded: 0.9338 - val_loss: 0.0045 - val_iou: 0.4142 - val_iou_thresholded: 0.4297\n",
      "Epoch 236/500\n",
      "13/13 [==============================] - 13s 1s/step - loss: 4.7262e-05 - iou: 0.8911 - iou_thresholded: 0.9381 - val_loss: 0.0057 - val_iou: 0.4005 - val_iou_thresholded: 0.4123\n",
      "Epoch 237/500\n",
      "13/13 [==============================] - 13s 1s/step - loss: 5.7185e-05 - iou: 0.8764 - iou_thresholded: 0.9215 - val_loss: 0.0050 - val_iou: 0.3819 - val_iou_thresholded: 0.3947\n",
      "Epoch 238/500\n",
      "13/13 [==============================] - 13s 1s/step - loss: 5.4795e-05 - iou: 0.8750 - iou_thresholded: 0.9283 - val_loss: 0.0049 - val_iou: 0.3988 - val_iou_thresholded: 0.4066\n",
      "Epoch 239/500\n",
      "13/13 [==============================] - 13s 1s/step - loss: 3.3165e-05 - iou: 0.9048 - iou_thresholded: 0.9471 - val_loss: 0.0051 - val_iou: 0.4049 - val_iou_thresholded: 0.4136\n",
      "Epoch 240/500\n",
      "13/13 [==============================] - 13s 1s/step - loss: 5.8697e-05 - iou: 0.8925 - iou_thresholded: 0.9409 - val_loss: 0.0046 - val_iou: 0.4216 - val_iou_thresholded: 0.4348\n",
      "Epoch 241/500\n",
      "13/13 [==============================] - 13s 1s/step - loss: 4.1313e-05 - iou: 0.9074 - iou_thresholded: 0.9518 - val_loss: 0.0054 - val_iou: 0.4109 - val_iou_thresholded: 0.4236\n",
      "Epoch 242/500\n",
      "13/13 [==============================] - 13s 1s/step - loss: 4.4483e-05 - iou: 0.9081 - iou_thresholded: 0.9538 - val_loss: 0.0060 - val_iou: 0.4001 - val_iou_thresholded: 0.4108\n",
      "Epoch 243/500\n",
      "13/13 [==============================] - 13s 1s/step - loss: 2.6498e-05 - iou: 0.9397 - iou_thresholded: 0.9727 - val_loss: 0.0063 - val_iou: 0.4119 - val_iou_thresholded: 0.4186\n",
      "Epoch 244/500\n",
      "13/13 [==============================] - 13s 1s/step - loss: 5.2559e-05 - iou: 0.9115 - iou_thresholded: 0.9550 - val_loss: 0.0060 - val_iou: 0.4045 - val_iou_thresholded: 0.4183\n",
      "Epoch 245/500\n",
      "13/13 [==============================] - 13s 1s/step - loss: 4.0948e-05 - iou: 0.9279 - iou_thresholded: 0.9625 - val_loss: 0.0059 - val_iou: 0.4222 - val_iou_thresholded: 0.4315\n",
      "Epoch 246/500\n",
      "13/13 [==============================] - 13s 1s/step - loss: 1.6635e-05 - iou: 0.9465 - iou_thresholded: 0.9777 - val_loss: 0.0071 - val_iou: 0.4021 - val_iou_thresholded: 0.4061\n",
      "Epoch 247/500\n",
      "13/13 [==============================] - 13s 1s/step - loss: 4.9206e-05 - iou: 0.9357 - iou_thresholded: 0.9638 - val_loss: 0.0061 - val_iou: 0.4008 - val_iou_thresholded: 0.4167\n",
      "Epoch 248/500\n",
      "13/13 [==============================] - 13s 1s/step - loss: 4.4120e-05 - iou: 0.9209 - iou_thresholded: 0.9632 - val_loss: 0.0065 - val_iou: 0.4143 - val_iou_thresholded: 0.4219\n",
      "Epoch 249/500\n",
      "13/13 [==============================] - 13s 1s/step - loss: 2.1712e-05 - iou: 0.9438 - iou_thresholded: 0.9757 - val_loss: 0.0070 - val_iou: 0.4079 - val_iou_thresholded: 0.4109\n",
      "Epoch 250/500\n",
      "13/13 [==============================] - 13s 1s/step - loss: 4.0302e-05 - iou: 0.9336 - iou_thresholded: 0.9597 - val_loss: 0.0067 - val_iou: 0.4010 - val_iou_thresholded: 0.4091\n",
      "Epoch 251/500\n",
      "13/13 [==============================] - 13s 1s/step - loss: 2.7610e-05 - iou: 0.9414 - iou_thresholded: 0.9752 - val_loss: 0.0068 - val_iou: 0.4097 - val_iou_thresholded: 0.4161\n",
      "Epoch 252/500\n",
      "13/13 [==============================] - 13s 1s/step - loss: 3.8131e-05 - iou: 0.9381 - iou_thresholded: 0.9643 - val_loss: 0.0068 - val_iou: 0.3905 - val_iou_thresholded: 0.3995\n",
      "Epoch 253/500\n",
      "13/13 [==============================] - 13s 1s/step - loss: 3.7609e-05 - iou: 0.9249 - iou_thresholded: 0.9614 - val_loss: 0.0076 - val_iou: 0.4015 - val_iou_thresholded: 0.4035\n",
      "Epoch 254/500\n",
      "13/13 [==============================] - 13s 1s/step - loss: 3.9017e-05 - iou: 0.9387 - iou_thresholded: 0.9668 - val_loss: 0.0068 - val_iou: 0.4132 - val_iou_thresholded: 0.4221\n",
      "Epoch 255/500\n"
     ]
    },
    {
     "name": "stdout",
     "output_type": "stream",
     "text": [
      "13/13 [==============================] - 13s 1s/step - loss: 3.6375e-05 - iou: 0.9362 - iou_thresholded: 0.9638 - val_loss: 0.0066 - val_iou: 0.4270 - val_iou_thresholded: 0.4352\n",
      "Epoch 256/500\n",
      "13/13 [==============================] - 13s 1s/step - loss: 3.4443e-05 - iou: 0.9395 - iou_thresholded: 0.9679 - val_loss: 0.0065 - val_iou: 0.4080 - val_iou_thresholded: 0.4198\n",
      "Epoch 257/500\n",
      "13/13 [==============================] - 13s 1s/step - loss: 3.5161e-05 - iou: 0.9409 - iou_thresholded: 0.9717 - val_loss: 0.0068 - val_iou: 0.4157 - val_iou_thresholded: 0.4218\n",
      "Epoch 258/500\n",
      "13/13 [==============================] - 13s 1s/step - loss: 2.9418e-05 - iou: 0.9467 - iou_thresholded: 0.9721 - val_loss: 0.0068 - val_iou: 0.4061 - val_iou_thresholded: 0.4140\n",
      "Epoch 259/500\n",
      "13/13 [==============================] - 13s 1s/step - loss: 4.2495e-05 - iou: 0.9347 - iou_thresholded: 0.9660 - val_loss: 0.0070 - val_iou: 0.4006 - val_iou_thresholded: 0.4112\n",
      "Epoch 260/500\n",
      "13/13 [==============================] - 13s 1s/step - loss: 2.6729e-05 - iou: 0.9462 - iou_thresholded: 0.9719 - val_loss: 0.0071 - val_iou: 0.4216 - val_iou_thresholded: 0.4247\n",
      "Epoch 261/500\n",
      "13/13 [==============================] - 13s 1s/step - loss: 5.0630e-05 - iou: 0.9253 - iou_thresholded: 0.9561 - val_loss: 0.0066 - val_iou: 0.4138 - val_iou_thresholded: 0.4270\n",
      "Epoch 262/500\n",
      "13/13 [==============================] - 13s 1s/step - loss: 2.6569e-05 - iou: 0.9291 - iou_thresholded: 0.9607 - val_loss: 0.0073 - val_iou: 0.4090 - val_iou_thresholded: 0.4136\n",
      "Epoch 263/500\n",
      "13/13 [==============================] - 13s 1s/step - loss: 4.5553e-05 - iou: 0.9341 - iou_thresholded: 0.9592 - val_loss: 0.0061 - val_iou: 0.4051 - val_iou_thresholded: 0.4197\n",
      "Epoch 264/500\n",
      "13/13 [==============================] - 13s 1s/step - loss: 2.6953e-05 - iou: 0.9354 - iou_thresholded: 0.9704 - val_loss: 0.0069 - val_iou: 0.4142 - val_iou_thresholded: 0.4173\n",
      "Epoch 265/500\n",
      "13/13 [==============================] - 13s 1s/step - loss: 3.7598e-05 - iou: 0.9449 - iou_thresholded: 0.9679 - val_loss: 0.0072 - val_iou: 0.3979 - val_iou_thresholded: 0.4080\n",
      "Epoch 266/500\n",
      "13/13 [==============================] - 13s 1s/step - loss: 3.5908e-05 - iou: 0.9316 - iou_thresholded: 0.9690 - val_loss: 0.0071 - val_iou: 0.4239 - val_iou_thresholded: 0.4284\n",
      "Epoch 267/500\n",
      "13/13 [==============================] - 13s 1s/step - loss: 3.7179e-05 - iou: 0.9454 - iou_thresholded: 0.9701 - val_loss: 0.0067 - val_iou: 0.4175 - val_iou_thresholded: 0.4297\n",
      "Epoch 268/500\n",
      "13/13 [==============================] - 13s 1s/step - loss: 3.5724e-05 - iou: 0.9374 - iou_thresholded: 0.9690 - val_loss: 0.0074 - val_iou: 0.4323 - val_iou_thresholded: 0.4399\n",
      "Epoch 269/500\n",
      "13/13 [==============================] - 13s 1s/step - loss: 3.0165e-05 - iou: 0.9448 - iou_thresholded: 0.9701 - val_loss: 0.0071 - val_iou: 0.4106 - val_iou_thresholded: 0.4146\n",
      "Epoch 270/500\n",
      "13/13 [==============================] - 13s 1s/step - loss: 3.1830e-05 - iou: 0.9601 - iou_thresholded: 0.9767 - val_loss: 0.0067 - val_iou: 0.4205 - val_iou_thresholded: 0.4247\n",
      "Epoch 271/500\n",
      "13/13 [==============================] - 13s 1s/step - loss: 2.3693e-05 - iou: 0.9525 - iou_thresholded: 0.9821 - val_loss: 0.0076 - val_iou: 0.4185 - val_iou_thresholded: 0.4216\n",
      "Epoch 272/500\n",
      "13/13 [==============================] - 13s 1s/step - loss: 3.3247e-05 - iou: 0.9482 - iou_thresholded: 0.9736 - val_loss: 0.0075 - val_iou: 0.4197 - val_iou_thresholded: 0.4242\n",
      "Epoch 273/500\n",
      "13/13 [==============================] - 13s 1s/step - loss: 3.2525e-05 - iou: 0.9565 - iou_thresholded: 0.9764 - val_loss: 0.0075 - val_iou: 0.4170 - val_iou_thresholded: 0.4223\n",
      "Epoch 274/500\n",
      "13/13 [==============================] - 13s 1s/step - loss: 4.0108e-05 - iou: 0.9509 - iou_thresholded: 0.9778 - val_loss: 0.0079 - val_iou: 0.4232 - val_iou_thresholded: 0.4263\n",
      "Epoch 275/500\n",
      "13/13 [==============================] - 13s 1s/step - loss: 2.9373e-05 - iou: 0.9553 - iou_thresholded: 0.9801 - val_loss: 0.0077 - val_iou: 0.4189 - val_iou_thresholded: 0.4239\n",
      "Epoch 276/500\n",
      "13/13 [==============================] - 13s 1s/step - loss: 2.3500e-05 - iou: 0.9597 - iou_thresholded: 0.9820 - val_loss: 0.0078 - val_iou: 0.4204 - val_iou_thresholded: 0.4246\n",
      "Epoch 277/500\n",
      "13/13 [==============================] - 13s 1s/step - loss: 2.8472e-05 - iou: 0.9631 - iou_thresholded: 0.9790 - val_loss: 0.0080 - val_iou: 0.4129 - val_iou_thresholded: 0.4208\n",
      "Epoch 278/500\n",
      "13/13 [==============================] - 13s 1s/step - loss: 3.8985e-05 - iou: 0.9400 - iou_thresholded: 0.9700 - val_loss: 0.0082 - val_iou: 0.4214 - val_iou_thresholded: 0.4244\n",
      "Epoch 279/500\n",
      "13/13 [==============================] - 13s 1s/step - loss: 2.9005e-05 - iou: 0.9580 - iou_thresholded: 0.9763 - val_loss: 0.0073 - val_iou: 0.4210 - val_iou_thresholded: 0.4280\n",
      "Epoch 280/500\n",
      "13/13 [==============================] - 13s 1s/step - loss: 3.2434e-05 - iou: 0.9509 - iou_thresholded: 0.9771 - val_loss: 0.0076 - val_iou: 0.4176 - val_iou_thresholded: 0.4256\n",
      "Epoch 281/500\n",
      "13/13 [==============================] - 13s 1s/step - loss: 2.7573e-05 - iou: 0.9598 - iou_thresholded: 0.9776 - val_loss: 0.0077 - val_iou: 0.4194 - val_iou_thresholded: 0.4257\n",
      "Epoch 282/500\n",
      "13/13 [==============================] - 13s 1s/step - loss: 3.6306e-05 - iou: 0.9561 - iou_thresholded: 0.9760 - val_loss: 0.0088 - val_iou: 0.4068 - val_iou_thresholded: 0.4120\n",
      "Epoch 283/500\n",
      "13/13 [==============================] - 13s 1s/step - loss: 3.4488e-05 - iou: 0.9440 - iou_thresholded: 0.9761 - val_loss: 0.0084 - val_iou: 0.4120 - val_iou_thresholded: 0.4153\n",
      "Epoch 284/500\n",
      "13/13 [==============================] - 13s 1s/step - loss: 2.9011e-05 - iou: 0.9616 - iou_thresholded: 0.9776 - val_loss: 0.0085 - val_iou: 0.4224 - val_iou_thresholded: 0.4281\n",
      "Epoch 285/500\n",
      "13/13 [==============================] - 13s 1s/step - loss: 3.0925e-05 - iou: 0.9499 - iou_thresholded: 0.9787 - val_loss: 0.0086 - val_iou: 0.4185 - val_iou_thresholded: 0.4243\n",
      "Epoch 286/500\n",
      "13/13 [==============================] - 13s 1s/step - loss: 3.0322e-05 - iou: 0.9566 - iou_thresholded: 0.9753 - val_loss: 0.0077 - val_iou: 0.4210 - val_iou_thresholded: 0.4276\n",
      "Epoch 287/500\n",
      "13/13 [==============================] - 13s 1s/step - loss: 3.6693e-05 - iou: 0.9442 - iou_thresholded: 0.9693 - val_loss: 0.0088 - val_iou: 0.3974 - val_iou_thresholded: 0.4025\n",
      "Epoch 288/500\n",
      "13/13 [==============================] - 13s 1s/step - loss: 2.1947e-05 - iou: 0.9522 - iou_thresholded: 0.9758 - val_loss: 0.0093 - val_iou: 0.4059 - val_iou_thresholded: 0.4091\n",
      "Epoch 289/500\n",
      "13/13 [==============================] - 13s 1s/step - loss: 5.4910e-05 - iou: 0.9293 - iou_thresholded: 0.9549 - val_loss: 0.0075 - val_iou: 0.4029 - val_iou_thresholded: 0.4127\n",
      "Epoch 290/500\n",
      "13/13 [==============================] - 13s 1s/step - loss: 1.8756e-05 - iou: 0.9481 - iou_thresholded: 0.9754 - val_loss: 0.0085 - val_iou: 0.4237 - val_iou_thresholded: 0.4270\n",
      "Epoch 291/500\n",
      "13/13 [==============================] - 13s 1s/step - loss: 5.0027e-05 - iou: 0.9383 - iou_thresholded: 0.9598 - val_loss: 0.0072 - val_iou: 0.3993 - val_iou_thresholded: 0.4129\n",
      "Epoch 292/500\n",
      "13/13 [==============================] - 13s 1s/step - loss: 4.3166e-05 - iou: 0.9289 - iou_thresholded: 0.9617 - val_loss: 0.0069 - val_iou: 0.4031 - val_iou_thresholded: 0.4073\n",
      "Epoch 293/500\n",
      "13/13 [==============================] - 13s 1s/step - loss: 1.9964e-05 - iou: 0.9549 - iou_thresholded: 0.9776 - val_loss: 0.0065 - val_iou: 0.4252 - val_iou_thresholded: 0.4307\n",
      "Epoch 294/500\n",
      "13/13 [==============================] - 13s 1s/step - loss: 3.4181e-05 - iou: 0.9504 - iou_thresholded: 0.9737 - val_loss: 0.0071 - val_iou: 0.4184 - val_iou_thresholded: 0.4260\n",
      "Epoch 295/500\n",
      "13/13 [==============================] - 13s 1s/step - loss: 3.2922e-05 - iou: 0.9529 - iou_thresholded: 0.9746 - val_loss: 0.0072 - val_iou: 0.4348 - val_iou_thresholded: 0.4424\n",
      "Epoch 296/500\n",
      "13/13 [==============================] - 13s 1s/step - loss: 3.1695e-05 - iou: 0.9436 - iou_thresholded: 0.9746 - val_loss: 0.0073 - val_iou: 0.4181 - val_iou_thresholded: 0.4219\n",
      "Epoch 297/500\n"
     ]
    },
    {
     "name": "stdout",
     "output_type": "stream",
     "text": [
      "13/13 [==============================] - 13s 1s/step - loss: 3.1520e-05 - iou: 0.9610 - iou_thresholded: 0.9772 - val_loss: 0.0071 - val_iou: 0.4159 - val_iou_thresholded: 0.4207\n",
      "Epoch 298/500\n",
      "13/13 [==============================] - 13s 1s/step - loss: 3.4155e-05 - iou: 0.9510 - iou_thresholded: 0.9760 - val_loss: 0.0072 - val_iou: 0.4218 - val_iou_thresholded: 0.4324\n",
      "Epoch 299/500\n",
      "13/13 [==============================] - 13s 1s/step - loss: 1.5544e-05 - iou: 0.9673 - iou_thresholded: 0.9869 - val_loss: 0.0078 - val_iou: 0.4243 - val_iou_thresholded: 0.4270\n",
      "Epoch 300/500\n",
      "13/13 [==============================] - 13s 1s/step - loss: 3.0654e-05 - iou: 0.9604 - iou_thresholded: 0.9823 - val_loss: 0.0083 - val_iou: 0.4083 - val_iou_thresholded: 0.4143\n",
      "Epoch 301/500\n",
      "13/13 [==============================] - 13s 1s/step - loss: 3.9605e-05 - iou: 0.9531 - iou_thresholded: 0.9738 - val_loss: 0.0077 - val_iou: 0.4303 - val_iou_thresholded: 0.4387\n",
      "Epoch 302/500\n",
      "13/13 [==============================] - 13s 1s/step - loss: 2.5156e-05 - iou: 0.9569 - iou_thresholded: 0.9805 - val_loss: 0.0091 - val_iou: 0.4230 - val_iou_thresholded: 0.4250\n",
      "Epoch 303/500\n",
      "13/13 [==============================] - 13s 1s/step - loss: 2.8975e-05 - iou: 0.9559 - iou_thresholded: 0.9768 - val_loss: 0.0084 - val_iou: 0.4015 - val_iou_thresholded: 0.4059\n",
      "Epoch 304/500\n",
      "13/13 [==============================] - 13s 1s/step - loss: 4.2469e-05 - iou: 0.9333 - iou_thresholded: 0.9558 - val_loss: 0.0077 - val_iou: 0.4162 - val_iou_thresholded: 0.4236\n",
      "Epoch 305/500\n",
      "13/13 [==============================] - 13s 1s/step - loss: 5.6196e-05 - iou: 0.9055 - iou_thresholded: 0.9328 - val_loss: 0.0065 - val_iou: 0.3880 - val_iou_thresholded: 0.3954\n",
      "Epoch 306/500\n",
      "13/13 [==============================] - 13s 1s/step - loss: 4.4145e-05 - iou: 0.9093 - iou_thresholded: 0.9415 - val_loss: 0.0062 - val_iou: 0.4242 - val_iou_thresholded: 0.4313\n",
      "Epoch 307/500\n",
      "13/13 [==============================] - 13s 1s/step - loss: 4.0886e-05 - iou: 0.9258 - iou_thresholded: 0.9568 - val_loss: 0.0061 - val_iou: 0.4378 - val_iou_thresholded: 0.4435\n",
      "Epoch 308/500\n",
      "13/13 [==============================] - 13s 1s/step - loss: 3.8056e-05 - iou: 0.9413 - iou_thresholded: 0.9629 - val_loss: 0.0061 - val_iou: 0.4056 - val_iou_thresholded: 0.4145\n",
      "Epoch 309/500\n",
      "13/13 [==============================] - 13s 1s/step - loss: 3.9012e-05 - iou: 0.9272 - iou_thresholded: 0.9656 - val_loss: 0.0064 - val_iou: 0.4302 - val_iou_thresholded: 0.4344\n",
      "Epoch 310/500\n",
      "13/13 [==============================] - 13s 1s/step - loss: 3.6896e-05 - iou: 0.9379 - iou_thresholded: 0.9686 - val_loss: 0.0064 - val_iou: 0.4126 - val_iou_thresholded: 0.4192\n",
      "Epoch 311/500\n",
      "13/13 [==============================] - 13s 1s/step - loss: 3.3622e-05 - iou: 0.9492 - iou_thresholded: 0.9682 - val_loss: 0.0071 - val_iou: 0.4167 - val_iou_thresholded: 0.4219\n",
      "Epoch 312/500\n",
      "13/13 [==============================] - 13s 1s/step - loss: 2.1976e-05 - iou: 0.9472 - iou_thresholded: 0.9785 - val_loss: 0.0072 - val_iou: 0.4079 - val_iou_thresholded: 0.4103\n",
      "Epoch 313/500\n",
      "13/13 [==============================] - 13s 1s/step - loss: 3.7715e-05 - iou: 0.9514 - iou_thresholded: 0.9726 - val_loss: 0.0080 - val_iou: 0.4098 - val_iou_thresholded: 0.4160\n",
      "Epoch 314/500\n",
      "13/13 [==============================] - 13s 1s/step - loss: 2.8269e-05 - iou: 0.9505 - iou_thresholded: 0.9778 - val_loss: 0.0073 - val_iou: 0.4299 - val_iou_thresholded: 0.4373\n",
      "Epoch 315/500\n",
      "13/13 [==============================] - 13s 1s/step - loss: 3.7454e-05 - iou: 0.9473 - iou_thresholded: 0.9737 - val_loss: 0.0090 - val_iou: 0.4067 - val_iou_thresholded: 0.4099\n",
      "Epoch 316/500\n",
      "13/13 [==============================] - 13s 1s/step - loss: 3.6886e-05 - iou: 0.9569 - iou_thresholded: 0.9757 - val_loss: 0.0082 - val_iou: 0.3930 - val_iou_thresholded: 0.4044\n",
      "Epoch 317/500\n",
      "13/13 [==============================] - 13s 1s/step - loss: 3.3730e-05 - iou: 0.9519 - iou_thresholded: 0.9766 - val_loss: 0.0079 - val_iou: 0.3978 - val_iou_thresholded: 0.4053\n",
      "Epoch 318/500\n",
      "13/13 [==============================] - 13s 1s/step - loss: 3.8678e-05 - iou: 0.9454 - iou_thresholded: 0.9702 - val_loss: 0.0074 - val_iou: 0.3963 - val_iou_thresholded: 0.4024\n",
      "Epoch 319/500\n",
      "13/13 [==============================] - 13s 1s/step - loss: 2.9410e-05 - iou: 0.9459 - iou_thresholded: 0.9726 - val_loss: 0.0085 - val_iou: 0.3865 - val_iou_thresholded: 0.3897\n",
      "Epoch 320/500\n",
      "13/13 [==============================] - 13s 1s/step - loss: 3.0693e-05 - iou: 0.9503 - iou_thresholded: 0.9689 - val_loss: 0.0065 - val_iou: 0.4113 - val_iou_thresholded: 0.4199\n",
      "Epoch 321/500\n",
      "13/13 [==============================] - 13s 1s/step - loss: 3.4105e-05 - iou: 0.9419 - iou_thresholded: 0.9695 - val_loss: 0.0063 - val_iou: 0.4128 - val_iou_thresholded: 0.4206\n",
      "Epoch 322/500\n",
      "13/13 [==============================] - 13s 1s/step - loss: 3.1771e-05 - iou: 0.9478 - iou_thresholded: 0.9751 - val_loss: 0.0078 - val_iou: 0.4033 - val_iou_thresholded: 0.4059\n",
      "Epoch 323/500\n",
      "13/13 [==============================] - 13s 1s/step - loss: 3.2549e-05 - iou: 0.9628 - iou_thresholded: 0.9767 - val_loss: 0.0074 - val_iou: 0.4046 - val_iou_thresholded: 0.4139\n",
      "Epoch 324/500\n",
      "13/13 [==============================] - 13s 1s/step - loss: 2.9427e-05 - iou: 0.9553 - iou_thresholded: 0.9840 - val_loss: 0.0081 - val_iou: 0.4008 - val_iou_thresholded: 0.4043\n",
      "Epoch 325/500\n",
      "13/13 [==============================] - 13s 1s/step - loss: 3.2206e-05 - iou: 0.9671 - iou_thresholded: 0.9808 - val_loss: 0.0074 - val_iou: 0.4054 - val_iou_thresholded: 0.4127\n",
      "Epoch 326/500\n",
      "13/13 [==============================] - 13s 1s/step - loss: 2.4250e-05 - iou: 0.9615 - iou_thresholded: 0.9848 - val_loss: 0.0081 - val_iou: 0.3993 - val_iou_thresholded: 0.4040\n",
      "Epoch 327/500\n",
      "13/13 [==============================] - 13s 1s/step - loss: 1.6450e-05 - iou: 0.9749 - iou_thresholded: 0.9886 - val_loss: 0.0083 - val_iou: 0.4174 - val_iou_thresholded: 0.4199\n",
      "Epoch 328/500\n",
      "13/13 [==============================] - 13s 1s/step - loss: 2.7843e-05 - iou: 0.9621 - iou_thresholded: 0.9823 - val_loss: 0.0083 - val_iou: 0.4161 - val_iou_thresholded: 0.4181\n",
      "Epoch 329/500\n",
      "13/13 [==============================] - 13s 1s/step - loss: 3.9850e-05 - iou: 0.9564 - iou_thresholded: 0.9754 - val_loss: 0.0078 - val_iou: 0.4019 - val_iou_thresholded: 0.4150\n",
      "Epoch 330/500\n",
      "13/13 [==============================] - 13s 1s/step - loss: 3.1313e-05 - iou: 0.9594 - iou_thresholded: 0.9803 - val_loss: 0.0082 - val_iou: 0.4094 - val_iou_thresholded: 0.4143\n",
      "Epoch 331/500\n",
      "13/13 [==============================] - 13s 1s/step - loss: 2.5712e-05 - iou: 0.9699 - iou_thresholded: 0.9844 - val_loss: 0.0090 - val_iou: 0.3893 - val_iou_thresholded: 0.3948\n",
      "Epoch 332/500\n",
      "13/13 [==============================] - 13s 1s/step - loss: 2.4546e-05 - iou: 0.9645 - iou_thresholded: 0.9843 - val_loss: 0.0078 - val_iou: 0.4219 - val_iou_thresholded: 0.4287\n",
      "Epoch 333/500\n",
      "13/13 [==============================] - 13s 1s/step - loss: 2.5539e-05 - iou: 0.9678 - iou_thresholded: 0.9839 - val_loss: 0.0085 - val_iou: 0.3989 - val_iou_thresholded: 0.4062\n",
      "Epoch 334/500\n",
      "13/13 [==============================] - 13s 1s/step - loss: 3.1175e-05 - iou: 0.9595 - iou_thresholded: 0.9824 - val_loss: 0.0088 - val_iou: 0.4134 - val_iou_thresholded: 0.4158\n",
      "Epoch 335/500\n",
      "13/13 [==============================] - 13s 1s/step - loss: 3.1270e-05 - iou: 0.9644 - iou_thresholded: 0.9790 - val_loss: 0.0080 - val_iou: 0.4155 - val_iou_thresholded: 0.4250\n",
      "Epoch 336/500\n",
      "13/13 [==============================] - 13s 1s/step - loss: 2.9390e-05 - iou: 0.9565 - iou_thresholded: 0.9807 - val_loss: 0.0089 - val_iou: 0.4025 - val_iou_thresholded: 0.4057\n",
      "Epoch 337/500\n",
      "13/13 [==============================] - 13s 1s/step - loss: 3.2028e-05 - iou: 0.9578 - iou_thresholded: 0.9805 - val_loss: 0.0080 - val_iou: 0.4121 - val_iou_thresholded: 0.4172\n",
      "Epoch 338/500\n",
      "13/13 [==============================] - 13s 1s/step - loss: 2.2384e-05 - iou: 0.9738 - iou_thresholded: 0.9848 - val_loss: 0.0082 - val_iou: 0.4084 - val_iou_thresholded: 0.4106\n",
      "Epoch 339/500\n"
     ]
    },
    {
     "name": "stdout",
     "output_type": "stream",
     "text": [
      "13/13 [==============================] - 13s 1s/step - loss: 3.7493e-05 - iou: 0.9542 - iou_thresholded: 0.9762 - val_loss: 0.0081 - val_iou: 0.3939 - val_iou_thresholded: 0.4027\n",
      "Epoch 340/500\n",
      "13/13 [==============================] - 13s 1s/step - loss: 2.9351e-05 - iou: 0.9605 - iou_thresholded: 0.9809 - val_loss: 0.0079 - val_iou: 0.4126 - val_iou_thresholded: 0.4185\n",
      "Epoch 341/500\n",
      "13/13 [==============================] - 13s 1s/step - loss: 1.6373e-05 - iou: 0.9762 - iou_thresholded: 0.9883 - val_loss: 0.0088 - val_iou: 0.4123 - val_iou_thresholded: 0.4147\n",
      "Epoch 342/500\n",
      "13/13 [==============================] - 13s 1s/step - loss: 2.7506e-05 - iou: 0.9690 - iou_thresholded: 0.9837 - val_loss: 0.0082 - val_iou: 0.4304 - val_iou_thresholded: 0.4352\n",
      "Epoch 343/500\n",
      "13/13 [==============================] - 13s 1s/step - loss: 2.7847e-05 - iou: 0.9603 - iou_thresholded: 0.9826 - val_loss: 0.0087 - val_iou: 0.4087 - val_iou_thresholded: 0.4128\n",
      "Epoch 344/500\n",
      "13/13 [==============================] - 13s 1s/step - loss: 4.2407e-05 - iou: 0.9476 - iou_thresholded: 0.9730 - val_loss: 0.0081 - val_iou: 0.4052 - val_iou_thresholded: 0.4123\n",
      "Epoch 345/500\n",
      "13/13 [==============================] - 13s 1s/step - loss: 2.3301e-05 - iou: 0.9702 - iou_thresholded: 0.9808 - val_loss: 0.0083 - val_iou: 0.4332 - val_iou_thresholded: 0.4354\n",
      "Epoch 346/500\n",
      "13/13 [==============================] - 13s 1s/step - loss: 4.1620e-05 - iou: 0.9531 - iou_thresholded: 0.9732 - val_loss: 0.0084 - val_iou: 0.4211 - val_iou_thresholded: 0.4314\n",
      "Epoch 347/500\n",
      "13/13 [==============================] - 13s 1s/step - loss: 1.8491e-05 - iou: 0.9605 - iou_thresholded: 0.9815 - val_loss: 0.0082 - val_iou: 0.4031 - val_iou_thresholded: 0.4065\n",
      "Epoch 348/500\n",
      "13/13 [==============================] - 13s 1s/step - loss: 3.8942e-05 - iou: 0.9425 - iou_thresholded: 0.9678 - val_loss: 0.0075 - val_iou: 0.4288 - val_iou_thresholded: 0.4350\n",
      "Epoch 349/500\n",
      "13/13 [==============================] - 13s 1s/step - loss: 4.4811e-05 - iou: 0.9343 - iou_thresholded: 0.9548 - val_loss: 0.0071 - val_iou: 0.4068 - val_iou_thresholded: 0.4154\n",
      "Epoch 350/500\n",
      "13/13 [==============================] - 13s 1s/step - loss: 3.4531e-05 - iou: 0.9368 - iou_thresholded: 0.9659 - val_loss: 0.0083 - val_iou: 0.3963 - val_iou_thresholded: 0.3976\n",
      "Epoch 351/500\n",
      "13/13 [==============================] - 13s 1s/step - loss: 4.9938e-05 - iou: 0.9196 - iou_thresholded: 0.9414 - val_loss: 0.0070 - val_iou: 0.4006 - val_iou_thresholded: 0.4098\n",
      "Epoch 352/500\n",
      "13/13 [==============================] - 13s 1s/step - loss: 6.9540e-05 - iou: 0.8641 - iou_thresholded: 0.8982 - val_loss: 0.0053 - val_iou: 0.4242 - val_iou_thresholded: 0.4310\n",
      "Epoch 353/500\n",
      "13/13 [==============================] - 13s 1s/step - loss: 1.3977e-04 - iou: 0.7519 - iou_thresholded: 0.8067 - val_loss: 0.0046 - val_iou: 0.4198 - val_iou_thresholded: 0.4352\n",
      "Epoch 354/500\n",
      "13/13 [==============================] - 13s 1s/step - loss: 1.4915e-04 - iou: 0.6775 - iou_thresholded: 0.7683 - val_loss: 0.0032 - val_iou: 0.3809 - val_iou_thresholded: 0.3974\n",
      "Epoch 355/500\n",
      "13/13 [==============================] - 13s 1s/step - loss: 1.1109e-04 - iou: 0.7422 - iou_thresholded: 0.8140 - val_loss: 0.0033 - val_iou: 0.4373 - val_iou_thresholded: 0.4743\n",
      "Epoch 356/500\n",
      "13/13 [==============================] - 13s 1s/step - loss: 5.8679e-05 - iou: 0.8246 - iou_thresholded: 0.9005 - val_loss: 0.0044 - val_iou: 0.4183 - val_iou_thresholded: 0.4266\n",
      "Epoch 357/500\n",
      "13/13 [==============================] - 13s 1s/step - loss: 7.1690e-05 - iou: 0.8440 - iou_thresholded: 0.9192 - val_loss: 0.0046 - val_iou: 0.4151 - val_iou_thresholded: 0.4234\n",
      "Epoch 358/500\n",
      "13/13 [==============================] - 13s 1s/step - loss: 4.6449e-05 - iou: 0.9037 - iou_thresholded: 0.9417 - val_loss: 0.0049 - val_iou: 0.4101 - val_iou_thresholded: 0.4163\n",
      "Epoch 359/500\n",
      "13/13 [==============================] - 13s 1s/step - loss: 2.8989e-05 - iou: 0.9180 - iou_thresholded: 0.9629 - val_loss: 0.0054 - val_iou: 0.4285 - val_iou_thresholded: 0.4354\n",
      "Epoch 360/500\n",
      "13/13 [==============================] - 13s 1s/step - loss: 4.9745e-05 - iou: 0.9246 - iou_thresholded: 0.9605 - val_loss: 0.0054 - val_iou: 0.4290 - val_iou_thresholded: 0.4384\n",
      "Epoch 361/500\n",
      "13/13 [==============================] - 13s 1s/step - loss: 2.9887e-05 - iou: 0.9417 - iou_thresholded: 0.9744 - val_loss: 0.0062 - val_iou: 0.4393 - val_iou_thresholded: 0.4447\n",
      "Epoch 362/500\n",
      "13/13 [==============================] - 13s 1s/step - loss: 2.6600e-05 - iou: 0.9488 - iou_thresholded: 0.9785 - val_loss: 0.0076 - val_iou: 0.3970 - val_iou_thresholded: 0.4005\n",
      "Epoch 363/500\n",
      "13/13 [==============================] - 13s 1s/step - loss: 3.5738e-05 - iou: 0.9506 - iou_thresholded: 0.9757 - val_loss: 0.0060 - val_iou: 0.4340 - val_iou_thresholded: 0.4495\n",
      "Epoch 364/500\n",
      "13/13 [==============================] - 13s 1s/step - loss: 3.3609e-05 - iou: 0.9460 - iou_thresholded: 0.9759 - val_loss: 0.0066 - val_iou: 0.4155 - val_iou_thresholded: 0.4232\n",
      "Epoch 365/500\n",
      "13/13 [==============================] - 13s 1s/step - loss: 3.0817e-05 - iou: 0.9598 - iou_thresholded: 0.9765 - val_loss: 0.0075 - val_iou: 0.4377 - val_iou_thresholded: 0.4424\n",
      "Epoch 366/500\n",
      "13/13 [==============================] - 13s 1s/step - loss: 2.8051e-05 - iou: 0.9541 - iou_thresholded: 0.9789 - val_loss: 0.0074 - val_iou: 0.4260 - val_iou_thresholded: 0.4327\n",
      "Epoch 367/500\n",
      "13/13 [==============================] - 13s 1s/step - loss: 3.4154e-05 - iou: 0.9448 - iou_thresholded: 0.9768 - val_loss: 0.0082 - val_iou: 0.4193 - val_iou_thresholded: 0.4234\n",
      "Epoch 368/500\n",
      "13/13 [==============================] - 13s 1s/step - loss: 3.1113e-05 - iou: 0.9603 - iou_thresholded: 0.9783 - val_loss: 0.0077 - val_iou: 0.4099 - val_iou_thresholded: 0.4167\n",
      "Epoch 369/500\n",
      "13/13 [==============================] - 13s 1s/step - loss: 2.6255e-05 - iou: 0.9637 - iou_thresholded: 0.9826 - val_loss: 0.0076 - val_iou: 0.4335 - val_iou_thresholded: 0.4404\n",
      "Epoch 370/500\n",
      "13/13 [==============================] - 13s 1s/step - loss: 3.5731e-05 - iou: 0.9455 - iou_thresholded: 0.9755 - val_loss: 0.0082 - val_iou: 0.4065 - val_iou_thresholded: 0.4110\n",
      "Epoch 371/500\n",
      "13/13 [==============================] - 13s 1s/step - loss: 2.5691e-05 - iou: 0.9697 - iou_thresholded: 0.9823 - val_loss: 0.0075 - val_iou: 0.4222 - val_iou_thresholded: 0.4274\n",
      "Epoch 372/500\n",
      "13/13 [==============================] - 13s 1s/step - loss: 3.5753e-05 - iou: 0.9457 - iou_thresholded: 0.9761 - val_loss: 0.0081 - val_iou: 0.4144 - val_iou_thresholded: 0.4185\n",
      "Epoch 373/500\n",
      "13/13 [==============================] - 13s 1s/step - loss: 1.6599e-05 - iou: 0.9696 - iou_thresholded: 0.9847 - val_loss: 0.0088 - val_iou: 0.4259 - val_iou_thresholded: 0.4284\n",
      "Epoch 374/500\n",
      "13/13 [==============================] - 13s 1s/step - loss: 3.1911e-05 - iou: 0.9524 - iou_thresholded: 0.9771 - val_loss: 0.0085 - val_iou: 0.4196 - val_iou_thresholded: 0.4229\n",
      "Epoch 375/500\n",
      "13/13 [==============================] - 13s 1s/step - loss: 3.6806e-05 - iou: 0.9566 - iou_thresholded: 0.9728 - val_loss: 0.0075 - val_iou: 0.4203 - val_iou_thresholded: 0.4319\n",
      "Epoch 376/500\n",
      "13/13 [==============================] - 13s 1s/step - loss: 3.1736e-05 - iou: 0.9468 - iou_thresholded: 0.9744 - val_loss: 0.0075 - val_iou: 0.4342 - val_iou_thresholded: 0.4381\n",
      "Epoch 377/500\n",
      "13/13 [==============================] - 13s 1s/step - loss: 3.1393e-05 - iou: 0.9567 - iou_thresholded: 0.9737 - val_loss: 0.0082 - val_iou: 0.4270 - val_iou_thresholded: 0.4326\n",
      "Epoch 378/500\n",
      "13/13 [==============================] - 13s 1s/step - loss: 3.0705e-05 - iou: 0.9554 - iou_thresholded: 0.9802 - val_loss: 0.0078 - val_iou: 0.4163 - val_iou_thresholded: 0.4248\n",
      "Epoch 379/500\n",
      "13/13 [==============================] - 13s 1s/step - loss: 3.0598e-05 - iou: 0.9552 - iou_thresholded: 0.9780 - val_loss: 0.0083 - val_iou: 0.4246 - val_iou_thresholded: 0.4293\n",
      "Epoch 380/500\n",
      "13/13 [==============================] - 13s 1s/step - loss: 3.1121e-05 - iou: 0.9583 - iou_thresholded: 0.9795 - val_loss: 0.0081 - val_iou: 0.4200 - val_iou_thresholded: 0.4274\n",
      "Epoch 381/500\n"
     ]
    },
    {
     "name": "stdout",
     "output_type": "stream",
     "text": [
      "13/13 [==============================] - 13s 1s/step - loss: 2.9896e-05 - iou: 0.9656 - iou_thresholded: 0.9818 - val_loss: 0.0074 - val_iou: 0.4265 - val_iou_thresholded: 0.4358\n",
      "Epoch 382/500\n",
      "13/13 [==============================] - 13s 1s/step - loss: 2.1611e-05 - iou: 0.9650 - iou_thresholded: 0.9843 - val_loss: 0.0080 - val_iou: 0.4301 - val_iou_thresholded: 0.4355\n",
      "Epoch 383/500\n",
      "13/13 [==============================] - 13s 1s/step - loss: 3.2523e-05 - iou: 0.9647 - iou_thresholded: 0.9822 - val_loss: 0.0087 - val_iou: 0.4293 - val_iou_thresholded: 0.4331\n",
      "Epoch 384/500\n",
      "13/13 [==============================] - 13s 1s/step - loss: 3.8116e-05 - iou: 0.9535 - iou_thresholded: 0.9773 - val_loss: 0.0086 - val_iou: 0.4200 - val_iou_thresholded: 0.4286\n",
      "Epoch 385/500\n",
      "13/13 [==============================] - 13s 1s/step - loss: 1.8572e-05 - iou: 0.9720 - iou_thresholded: 0.9878 - val_loss: 0.0085 - val_iou: 0.4282 - val_iou_thresholded: 0.4337\n",
      "Epoch 386/500\n",
      "13/13 [==============================] - 13s 1s/step - loss: 2.6063e-05 - iou: 0.9679 - iou_thresholded: 0.9850 - val_loss: 0.0093 - val_iou: 0.4254 - val_iou_thresholded: 0.4289\n",
      "Epoch 387/500\n",
      "13/13 [==============================] - 13s 1s/step - loss: 2.5065e-05 - iou: 0.9658 - iou_thresholded: 0.9839 - val_loss: 0.0092 - val_iou: 0.4242 - val_iou_thresholded: 0.4300\n",
      "Epoch 388/500\n",
      "13/13 [==============================] - 13s 1s/step - loss: 3.0749e-05 - iou: 0.9676 - iou_thresholded: 0.9871 - val_loss: 0.0092 - val_iou: 0.4220 - val_iou_thresholded: 0.4275\n",
      "Epoch 389/500\n",
      "13/13 [==============================] - 13s 1s/step - loss: 2.3536e-05 - iou: 0.9730 - iou_thresholded: 0.9875 - val_loss: 0.0104 - val_iou: 0.4238 - val_iou_thresholded: 0.4262\n",
      "Epoch 390/500\n",
      "13/13 [==============================] - 13s 1s/step - loss: 2.9396e-05 - iou: 0.9608 - iou_thresholded: 0.9837 - val_loss: 0.0094 - val_iou: 0.4238 - val_iou_thresholded: 0.4263\n",
      "Epoch 391/500\n",
      "13/13 [==============================] - 13s 1s/step - loss: 2.6313e-05 - iou: 0.9701 - iou_thresholded: 0.9853 - val_loss: 0.0098 - val_iou: 0.4275 - val_iou_thresholded: 0.4324\n",
      "Epoch 392/500\n",
      "13/13 [==============================] - 13s 1s/step - loss: 2.6758e-05 - iou: 0.9734 - iou_thresholded: 0.9834 - val_loss: 0.0092 - val_iou: 0.4293 - val_iou_thresholded: 0.4334\n",
      "Epoch 393/500\n",
      "13/13 [==============================] - 13s 1s/step - loss: 2.7796e-05 - iou: 0.9648 - iou_thresholded: 0.9851 - val_loss: 0.0087 - val_iou: 0.4178 - val_iou_thresholded: 0.4266\n",
      "Epoch 394/500\n",
      "13/13 [==============================] - 13s 1s/step - loss: 2.6644e-05 - iou: 0.9631 - iou_thresholded: 0.9842 - val_loss: 0.0105 - val_iou: 0.4320 - val_iou_thresholded: 0.4345\n",
      "Epoch 395/500\n",
      "13/13 [==============================] - 13s 1s/step - loss: 1.4982e-05 - iou: 0.9858 - iou_thresholded: 0.9912 - val_loss: 0.0094 - val_iou: 0.4137 - val_iou_thresholded: 0.4167\n",
      "Epoch 396/500\n",
      "13/13 [==============================] - 13s 1s/step - loss: 4.2426e-05 - iou: 0.9454 - iou_thresholded: 0.9732 - val_loss: 0.0095 - val_iou: 0.4249 - val_iou_thresholded: 0.4282\n",
      "Epoch 397/500\n",
      "13/13 [==============================] - 13s 1s/step - loss: 2.5806e-05 - iou: 0.9695 - iou_thresholded: 0.9851 - val_loss: 0.0088 - val_iou: 0.4221 - val_iou_thresholded: 0.4290\n",
      "Epoch 398/500\n",
      "13/13 [==============================] - 13s 1s/step - loss: 2.4317e-05 - iou: 0.9731 - iou_thresholded: 0.9835 - val_loss: 0.0084 - val_iou: 0.4262 - val_iou_thresholded: 0.4322\n",
      "Epoch 399/500\n",
      "13/13 [==============================] - 13s 1s/step - loss: 3.3799e-05 - iou: 0.9546 - iou_thresholded: 0.9769 - val_loss: 0.0084 - val_iou: 0.4109 - val_iou_thresholded: 0.4143\n",
      "Epoch 400/500\n",
      "13/13 [==============================] - 13s 1s/step - loss: 2.3806e-05 - iou: 0.9677 - iou_thresholded: 0.9870 - val_loss: 0.0094 - val_iou: 0.4229 - val_iou_thresholded: 0.4263\n",
      "Epoch 401/500\n",
      "13/13 [==============================] - 13s 1s/step - loss: 2.8492e-05 - iou: 0.9607 - iou_thresholded: 0.9800 - val_loss: 0.0085 - val_iou: 0.4231 - val_iou_thresholded: 0.4263\n",
      "Epoch 402/500\n",
      "13/13 [==============================] - 13s 1s/step - loss: 3.3310e-05 - iou: 0.9634 - iou_thresholded: 0.9802 - val_loss: 0.0076 - val_iou: 0.4092 - val_iou_thresholded: 0.4221\n",
      "Epoch 403/500\n",
      "13/13 [==============================] - 13s 1s/step - loss: 2.5350e-05 - iou: 0.9686 - iou_thresholded: 0.9847 - val_loss: 0.0085 - val_iou: 0.4177 - val_iou_thresholded: 0.4219\n",
      "Epoch 404/500\n",
      "13/13 [==============================] - 13s 1s/step - loss: 2.8945e-05 - iou: 0.9653 - iou_thresholded: 0.9811 - val_loss: 0.0088 - val_iou: 0.4082 - val_iou_thresholded: 0.4172\n",
      "Epoch 405/500\n",
      "13/13 [==============================] - 13s 1s/step - loss: 2.5633e-05 - iou: 0.9623 - iou_thresholded: 0.9830 - val_loss: 0.0091 - val_iou: 0.4468 - val_iou_thresholded: 0.4508\n",
      "Epoch 406/500\n",
      "13/13 [==============================] - 13s 1s/step - loss: 2.8978e-05 - iou: 0.9690 - iou_thresholded: 0.9849 - val_loss: 0.0084 - val_iou: 0.4328 - val_iou_thresholded: 0.4416\n",
      "Epoch 407/500\n",
      "13/13 [==============================] - 13s 1s/step - loss: 3.1637e-05 - iou: 0.9597 - iou_thresholded: 0.9795 - val_loss: 0.0097 - val_iou: 0.3974 - val_iou_thresholded: 0.4007\n",
      "Epoch 408/500\n",
      "13/13 [==============================] - 13s 1s/step - loss: 2.7855e-05 - iou: 0.9558 - iou_thresholded: 0.9759 - val_loss: 0.0092 - val_iou: 0.3963 - val_iou_thresholded: 0.3997\n",
      "Epoch 409/500\n",
      "13/13 [==============================] - 13s 1s/step - loss: 4.2338e-05 - iou: 0.9490 - iou_thresholded: 0.9641 - val_loss: 0.0078 - val_iou: 0.4039 - val_iou_thresholded: 0.4089\n",
      "Epoch 410/500\n",
      "13/13 [==============================] - 13s 1s/step - loss: 3.4332e-05 - iou: 0.9349 - iou_thresholded: 0.9704 - val_loss: 0.0080 - val_iou: 0.4416 - val_iou_thresholded: 0.4457\n",
      "Epoch 411/500\n",
      "13/13 [==============================] - 13s 1s/step - loss: 2.4826e-05 - iou: 0.9633 - iou_thresholded: 0.9734 - val_loss: 0.0073 - val_iou: 0.4327 - val_iou_thresholded: 0.4406\n",
      "Epoch 412/500\n",
      "13/13 [==============================] - 13s 1s/step - loss: 2.8126e-05 - iou: 0.9483 - iou_thresholded: 0.9744 - val_loss: 0.0069 - val_iou: 0.4414 - val_iou_thresholded: 0.4464\n",
      "Epoch 413/500\n",
      "13/13 [==============================] - 13s 1s/step - loss: 3.5502e-05 - iou: 0.9547 - iou_thresholded: 0.9766 - val_loss: 0.0075 - val_iou: 0.4376 - val_iou_thresholded: 0.4467\n",
      "Epoch 414/500\n",
      "13/13 [==============================] - 13s 1s/step - loss: 2.7781e-05 - iou: 0.9663 - iou_thresholded: 0.9820 - val_loss: 0.0078 - val_iou: 0.4386 - val_iou_thresholded: 0.4454\n",
      "Epoch 415/500\n",
      "13/13 [==============================] - 13s 1s/step - loss: 3.6939e-05 - iou: 0.9504 - iou_thresholded: 0.9753 - val_loss: 0.0082 - val_iou: 0.4075 - val_iou_thresholded: 0.4106\n",
      "Epoch 416/500\n",
      "13/13 [==============================] - 13s 1s/step - loss: 2.0099e-05 - iou: 0.9664 - iou_thresholded: 0.9841 - val_loss: 0.0077 - val_iou: 0.4448 - val_iou_thresholded: 0.4499\n",
      "Epoch 417/500\n",
      "13/13 [==============================] - 13s 1s/step - loss: 4.5500e-05 - iou: 0.9477 - iou_thresholded: 0.9722 - val_loss: 0.0078 - val_iou: 0.4158 - val_iou_thresholded: 0.4273\n",
      "Epoch 418/500\n",
      "13/13 [==============================] - 13s 1s/step - loss: 1.3067e-05 - iou: 0.9740 - iou_thresholded: 0.9886 - val_loss: 0.0093 - val_iou: 0.4369 - val_iou_thresholded: 0.4387\n",
      "Epoch 419/500\n",
      "13/13 [==============================] - 13s 1s/step - loss: 3.2226e-05 - iou: 0.9613 - iou_thresholded: 0.9768 - val_loss: 0.0075 - val_iou: 0.4354 - val_iou_thresholded: 0.4483\n",
      "Epoch 420/500\n",
      "13/13 [==============================] - 13s 1s/step - loss: 3.0808e-05 - iou: 0.9519 - iou_thresholded: 0.9772 - val_loss: 0.0084 - val_iou: 0.4366 - val_iou_thresholded: 0.4417\n",
      "Epoch 421/500\n",
      "13/13 [==============================] - 13s 1s/step - loss: 3.0875e-05 - iou: 0.9621 - iou_thresholded: 0.9781 - val_loss: 0.0078 - val_iou: 0.4097 - val_iou_thresholded: 0.4183\n",
      "Epoch 422/500\n",
      "13/13 [==============================] - 13s 1s/step - loss: 3.1329e-05 - iou: 0.9523 - iou_thresholded: 0.9782 - val_loss: 0.0089 - val_iou: 0.4280 - val_iou_thresholded: 0.4307\n",
      "Epoch 423/500\n"
     ]
    },
    {
     "name": "stdout",
     "output_type": "stream",
     "text": [
      "13/13 [==============================] - 13s 1s/step - loss: 1.6317e-05 - iou: 0.9824 - iou_thresholded: 0.9902 - val_loss: 0.0077 - val_iou: 0.4267 - val_iou_thresholded: 0.4315\n",
      "Epoch 424/500\n",
      "13/13 [==============================] - 13s 1s/step - loss: 3.1749e-05 - iou: 0.9579 - iou_thresholded: 0.9817 - val_loss: 0.0088 - val_iou: 0.4349 - val_iou_thresholded: 0.4364\n",
      "Epoch 425/500\n",
      "13/13 [==============================] - 13s 1s/step - loss: 2.4909e-05 - iou: 0.9662 - iou_thresholded: 0.9825 - val_loss: 0.0089 - val_iou: 0.4273 - val_iou_thresholded: 0.4312\n",
      "Epoch 426/500\n",
      "13/13 [==============================] - 13s 1s/step - loss: 4.1592e-05 - iou: 0.9508 - iou_thresholded: 0.9715 - val_loss: 0.0089 - val_iou: 0.4231 - val_iou_thresholded: 0.4304\n",
      "Epoch 427/500\n",
      "13/13 [==============================] - 13s 1s/step - loss: 1.9358e-05 - iou: 0.9692 - iou_thresholded: 0.9837 - val_loss: 0.0092 - val_iou: 0.4147 - val_iou_thresholded: 0.4187\n",
      "Epoch 428/500\n",
      "13/13 [==============================] - 13s 1s/step - loss: 3.5595e-05 - iou: 0.9553 - iou_thresholded: 0.9739 - val_loss: 0.0089 - val_iou: 0.4223 - val_iou_thresholded: 0.4288\n",
      "Epoch 429/500\n",
      "13/13 [==============================] - 13s 1s/step - loss: 2.4944e-05 - iou: 0.9598 - iou_thresholded: 0.9814 - val_loss: 0.0088 - val_iou: 0.4137 - val_iou_thresholded: 0.4181\n",
      "Epoch 430/500\n",
      "13/13 [==============================] - 13s 1s/step - loss: 2.6675e-05 - iou: 0.9702 - iou_thresholded: 0.9846 - val_loss: 0.0078 - val_iou: 0.4074 - val_iou_thresholded: 0.4196\n",
      "Epoch 431/500\n",
      "13/13 [==============================] - 13s 1s/step - loss: 3.2414e-05 - iou: 0.9588 - iou_thresholded: 0.9786 - val_loss: 0.0079 - val_iou: 0.4073 - val_iou_thresholded: 0.4176\n",
      "Epoch 432/500\n",
      "13/13 [==============================] - 13s 1s/step - loss: 2.6800e-05 - iou: 0.9586 - iou_thresholded: 0.9834 - val_loss: 0.0092 - val_iou: 0.4298 - val_iou_thresholded: 0.4305\n",
      "Epoch 433/500\n",
      "13/13 [==============================] - 13s 1s/step - loss: 3.1476e-05 - iou: 0.9660 - iou_thresholded: 0.9831 - val_loss: 0.0086 - val_iou: 0.4136 - val_iou_thresholded: 0.4180\n",
      "Epoch 434/500\n",
      "13/13 [==============================] - 13s 1s/step - loss: 2.6696e-05 - iou: 0.9710 - iou_thresholded: 0.9847 - val_loss: 0.0088 - val_iou: 0.4107 - val_iou_thresholded: 0.4161\n",
      "Epoch 435/500\n",
      "13/13 [==============================] - 13s 1s/step - loss: 2.6808e-05 - iou: 0.9740 - iou_thresholded: 0.9862 - val_loss: 0.0085 - val_iou: 0.4253 - val_iou_thresholded: 0.4306\n",
      "Epoch 436/500\n",
      "13/13 [==============================] - 13s 1s/step - loss: 2.8268e-05 - iou: 0.9612 - iou_thresholded: 0.9827 - val_loss: 0.0088 - val_iou: 0.4290 - val_iou_thresholded: 0.4325\n",
      "Epoch 437/500\n",
      "13/13 [==============================] - 13s 1s/step - loss: 2.6011e-05 - iou: 0.9673 - iou_thresholded: 0.9847 - val_loss: 0.0092 - val_iou: 0.4328 - val_iou_thresholded: 0.4343\n",
      "Epoch 438/500\n",
      "13/13 [==============================] - 13s 1s/step - loss: 2.6435e-05 - iou: 0.9739 - iou_thresholded: 0.9843 - val_loss: 0.0083 - val_iou: 0.4240 - val_iou_thresholded: 0.4331\n",
      "Epoch 439/500\n",
      "13/13 [==============================] - 13s 1s/step - loss: 2.0006e-05 - iou: 0.9690 - iou_thresholded: 0.9855 - val_loss: 0.0091 - val_iou: 0.4135 - val_iou_thresholded: 0.4174\n",
      "Epoch 440/500\n",
      "13/13 [==============================] - 13s 1s/step - loss: 2.3466e-05 - iou: 0.9694 - iou_thresholded: 0.9847 - val_loss: 0.0089 - val_iou: 0.4174 - val_iou_thresholded: 0.4205\n",
      "Epoch 441/500\n",
      "13/13 [==============================] - 13s 1s/step - loss: 4.0803e-05 - iou: 0.9557 - iou_thresholded: 0.9759 - val_loss: 0.0089 - val_iou: 0.4153 - val_iou_thresholded: 0.4254\n",
      "Epoch 442/500\n",
      "13/13 [==============================] - 13s 1s/step - loss: 2.2307e-05 - iou: 0.9704 - iou_thresholded: 0.9842 - val_loss: 0.0088 - val_iou: 0.3937 - val_iou_thresholded: 0.3973\n",
      "Epoch 443/500\n",
      "13/13 [==============================] - 13s 1s/step - loss: 3.5287e-05 - iou: 0.9553 - iou_thresholded: 0.9784 - val_loss: 0.0092 - val_iou: 0.4186 - val_iou_thresholded: 0.4219\n",
      "Epoch 444/500\n",
      "13/13 [==============================] - 13s 1s/step - loss: 3.1063e-05 - iou: 0.9617 - iou_thresholded: 0.9771 - val_loss: 0.0094 - val_iou: 0.4230 - val_iou_thresholded: 0.4301\n",
      "Epoch 445/500\n",
      "13/13 [==============================] - 13s 1s/step - loss: 2.0877e-05 - iou: 0.9676 - iou_thresholded: 0.9842 - val_loss: 0.0090 - val_iou: 0.4106 - val_iou_thresholded: 0.4143\n",
      "Epoch 446/500\n",
      "13/13 [==============================] - 13s 1s/step - loss: 4.4600e-05 - iou: 0.9541 - iou_thresholded: 0.9698 - val_loss: 0.0069 - val_iou: 0.4110 - val_iou_thresholded: 0.4341\n",
      "Epoch 447/500\n",
      "13/13 [==============================] - 13s 1s/step - loss: 3.4055e-05 - iou: 0.9462 - iou_thresholded: 0.9776 - val_loss: 0.0090 - val_iou: 0.4263 - val_iou_thresholded: 0.4284\n",
      "Epoch 448/500\n",
      "13/13 [==============================] - 13s 1s/step - loss: 2.2437e-05 - iou: 0.9566 - iou_thresholded: 0.9788 - val_loss: 0.0107 - val_iou: 0.4087 - val_iou_thresholded: 0.4097\n",
      "Epoch 449/500\n",
      "13/13 [==============================] - 13s 1s/step - loss: 3.3125e-05 - iou: 0.9564 - iou_thresholded: 0.9758 - val_loss: 0.0078 - val_iou: 0.4206 - val_iou_thresholded: 0.4278\n",
      "Epoch 450/500\n",
      "13/13 [==============================] - 13s 1s/step - loss: 2.7988e-05 - iou: 0.9585 - iou_thresholded: 0.9758 - val_loss: 0.0077 - val_iou: 0.4293 - val_iou_thresholded: 0.4346\n",
      "Epoch 451/500\n",
      "13/13 [==============================] - 13s 1s/step - loss: 3.0448e-05 - iou: 0.9530 - iou_thresholded: 0.9724 - val_loss: 0.0079 - val_iou: 0.4094 - val_iou_thresholded: 0.4128\n",
      "Epoch 452/500\n",
      "13/13 [==============================] - 13s 1s/step - loss: 3.8739e-05 - iou: 0.9482 - iou_thresholded: 0.9706 - val_loss: 0.0075 - val_iou: 0.4100 - val_iou_thresholded: 0.4175\n",
      "Epoch 453/500\n",
      "13/13 [==============================] - 13s 1s/step - loss: 4.5727e-05 - iou: 0.9371 - iou_thresholded: 0.9646 - val_loss: 0.0060 - val_iou: 0.4145 - val_iou_thresholded: 0.4332\n",
      "Epoch 454/500\n",
      "13/13 [==============================] - 13s 1s/step - loss: 2.5778e-05 - iou: 0.9627 - iou_thresholded: 0.9792 - val_loss: 0.0059 - val_iou: 0.4371 - val_iou_thresholded: 0.4430\n",
      "Epoch 455/500\n",
      "13/13 [==============================] - 13s 1s/step - loss: 3.6485e-05 - iou: 0.9525 - iou_thresholded: 0.9737 - val_loss: 0.0063 - val_iou: 0.4275 - val_iou_thresholded: 0.4321\n",
      "Epoch 456/500\n",
      "13/13 [==============================] - 13s 1s/step - loss: 2.2925e-05 - iou: 0.9612 - iou_thresholded: 0.9829 - val_loss: 0.0075 - val_iou: 0.4230 - val_iou_thresholded: 0.4264\n",
      "Epoch 457/500\n",
      "13/13 [==============================] - 13s 1s/step - loss: 2.8453e-05 - iou: 0.9590 - iou_thresholded: 0.9805 - val_loss: 0.0068 - val_iou: 0.4256 - val_iou_thresholded: 0.4300\n",
      "Epoch 458/500\n",
      "13/13 [==============================] - 13s 1s/step - loss: 3.3125e-05 - iou: 0.9605 - iou_thresholded: 0.9788 - val_loss: 0.0074 - val_iou: 0.4108 - val_iou_thresholded: 0.4150\n",
      "Epoch 459/500\n",
      "13/13 [==============================] - 13s 1s/step - loss: 3.0781e-05 - iou: 0.9568 - iou_thresholded: 0.9784 - val_loss: 0.0081 - val_iou: 0.4150 - val_iou_thresholded: 0.4161\n",
      "Epoch 460/500\n",
      "13/13 [==============================] - 13s 1s/step - loss: 3.0161e-05 - iou: 0.9676 - iou_thresholded: 0.9820 - val_loss: 0.0066 - val_iou: 0.4163 - val_iou_thresholded: 0.4314\n",
      "Epoch 461/500\n",
      "13/13 [==============================] - 13s 1s/step - loss: 2.2305e-05 - iou: 0.9651 - iou_thresholded: 0.9862 - val_loss: 0.0082 - val_iou: 0.4387 - val_iou_thresholded: 0.4413\n",
      "Epoch 462/500\n",
      "13/13 [==============================] - 13s 1s/step - loss: 2.9580e-05 - iou: 0.9747 - iou_thresholded: 0.9837 - val_loss: 0.0073 - val_iou: 0.4288 - val_iou_thresholded: 0.4451\n",
      "Epoch 463/500\n",
      "13/13 [==============================] - 13s 1s/step - loss: 2.7452e-05 - iou: 0.9601 - iou_thresholded: 0.9833 - val_loss: 0.0089 - val_iou: 0.4228 - val_iou_thresholded: 0.4220\n",
      "Epoch 464/500\n",
      "13/13 [==============================] - 13s 1s/step - loss: 2.6390e-05 - iou: 0.9652 - iou_thresholded: 0.9869 - val_loss: 0.0096 - val_iou: 0.4269 - val_iou_thresholded: 0.4261\n",
      "Epoch 465/500\n"
     ]
    },
    {
     "name": "stdout",
     "output_type": "stream",
     "text": [
      "13/13 [==============================] - 13s 1s/step - loss: 2.5686e-05 - iou: 0.9781 - iou_thresholded: 0.9851 - val_loss: 0.0078 - val_iou: 0.4262 - val_iou_thresholded: 0.4363\n",
      "Epoch 466/500\n",
      "13/13 [==============================] - 13s 1s/step - loss: 3.0860e-05 - iou: 0.9575 - iou_thresholded: 0.9799 - val_loss: 0.0085 - val_iou: 0.4333 - val_iou_thresholded: 0.4374\n",
      "Epoch 467/500\n",
      "13/13 [==============================] - 13s 1s/step - loss: 2.2372e-05 - iou: 0.9766 - iou_thresholded: 0.9883 - val_loss: 0.0085 - val_iou: 0.4304 - val_iou_thresholded: 0.4355\n",
      "Epoch 468/500\n",
      "13/13 [==============================] - 13s 1s/step - loss: 3.6534e-05 - iou: 0.9633 - iou_thresholded: 0.9807 - val_loss: 0.0074 - val_iou: 0.4415 - val_iou_thresholded: 0.4491\n",
      "Epoch 469/500\n",
      "13/13 [==============================] - 13s 1s/step - loss: 1.7158e-05 - iou: 0.9746 - iou_thresholded: 0.9890 - val_loss: 0.0079 - val_iou: 0.4473 - val_iou_thresholded: 0.4494\n",
      "Epoch 470/500\n",
      "13/13 [==============================] - 13s 1s/step - loss: 3.7239e-05 - iou: 0.9558 - iou_thresholded: 0.9798 - val_loss: 0.0084 - val_iou: 0.4256 - val_iou_thresholded: 0.4308\n",
      "Epoch 471/500\n",
      "13/13 [==============================] - 13s 1s/step - loss: 3.0450e-05 - iou: 0.9718 - iou_thresholded: 0.9813 - val_loss: 0.0070 - val_iou: 0.4319 - val_iou_thresholded: 0.4476\n",
      "Epoch 472/500\n",
      "13/13 [==============================] - 13s 1s/step - loss: 1.6065e-05 - iou: 0.9685 - iou_thresholded: 0.9886 - val_loss: 0.0096 - val_iou: 0.4230 - val_iou_thresholded: 0.4241\n",
      "Epoch 473/500\n",
      "13/13 [==============================] - 13s 1s/step - loss: 3.0456e-05 - iou: 0.9648 - iou_thresholded: 0.9836 - val_loss: 0.0084 - val_iou: 0.3999 - val_iou_thresholded: 0.4058\n",
      "Epoch 474/500\n",
      "13/13 [==============================] - 13s 1s/step - loss: 3.0937e-05 - iou: 0.9597 - iou_thresholded: 0.9768 - val_loss: 0.0076 - val_iou: 0.4482 - val_iou_thresholded: 0.4521\n",
      "Epoch 475/500\n",
      "13/13 [==============================] - 13s 1s/step - loss: 3.0370e-05 - iou: 0.9560 - iou_thresholded: 0.9751 - val_loss: 0.0091 - val_iou: 0.4248 - val_iou_thresholded: 0.4264\n",
      "Epoch 476/500\n",
      "13/13 [==============================] - 13s 1s/step - loss: 3.2797e-05 - iou: 0.9626 - iou_thresholded: 0.9807 - val_loss: 0.0071 - val_iou: 0.4328 - val_iou_thresholded: 0.4416\n",
      "Epoch 477/500\n",
      "13/13 [==============================] - 13s 1s/step - loss: 3.0241e-05 - iou: 0.9600 - iou_thresholded: 0.9778 - val_loss: 0.0077 - val_iou: 0.4339 - val_iou_thresholded: 0.4366\n",
      "Epoch 478/500\n",
      "13/13 [==============================] - 13s 1s/step - loss: 2.3605e-05 - iou: 0.9683 - iou_thresholded: 0.9828 - val_loss: 0.0079 - val_iou: 0.4305 - val_iou_thresholded: 0.4358\n",
      "Epoch 479/500\n",
      "13/13 [==============================] - 13s 1s/step - loss: 2.5599e-05 - iou: 0.9657 - iou_thresholded: 0.9846 - val_loss: 0.0087 - val_iou: 0.4278 - val_iou_thresholded: 0.4306\n",
      "Epoch 480/500\n",
      "13/13 [==============================] - 13s 1s/step - loss: 3.7969e-05 - iou: 0.9565 - iou_thresholded: 0.9770 - val_loss: 0.0072 - val_iou: 0.4456 - val_iou_thresholded: 0.4561\n",
      "Epoch 481/500\n",
      "13/13 [==============================] - 13s 1s/step - loss: 1.4305e-05 - iou: 0.9746 - iou_thresholded: 0.9875 - val_loss: 0.0090 - val_iou: 0.4211 - val_iou_thresholded: 0.4219\n",
      "Epoch 482/500\n",
      "13/13 [==============================] - 13s 1s/step - loss: 3.4717e-05 - iou: 0.9559 - iou_thresholded: 0.9781 - val_loss: 0.0080 - val_iou: 0.4397 - val_iou_thresholded: 0.4447\n",
      "Epoch 483/500\n",
      "13/13 [==============================] - 13s 1s/step - loss: 4.6197e-05 - iou: 0.9386 - iou_thresholded: 0.9689 - val_loss: 0.0089 - val_iou: 0.4005 - val_iou_thresholded: 0.4031\n",
      "Epoch 484/500\n",
      "13/13 [==============================] - 13s 1s/step - loss: 1.8521e-05 - iou: 0.9780 - iou_thresholded: 0.9838 - val_loss: 0.0082 - val_iou: 0.4379 - val_iou_thresholded: 0.4406\n",
      "Epoch 485/500\n",
      "13/13 [==============================] - 13s 1s/step - loss: 3.6291e-05 - iou: 0.9534 - iou_thresholded: 0.9781 - val_loss: 0.0072 - val_iou: 0.4453 - val_iou_thresholded: 0.4520\n",
      "Epoch 486/500\n",
      "13/13 [==============================] - 13s 1s/step - loss: 2.5339e-05 - iou: 0.9708 - iou_thresholded: 0.9831 - val_loss: 0.0081 - val_iou: 0.4361 - val_iou_thresholded: 0.4398\n",
      "Epoch 487/500\n",
      "13/13 [==============================] - 13s 1s/step - loss: 3.1293e-05 - iou: 0.9597 - iou_thresholded: 0.9807 - val_loss: 0.0086 - val_iou: 0.4265 - val_iou_thresholded: 0.4285\n",
      "Epoch 488/500\n",
      "13/13 [==============================] - 13s 1s/step - loss: 2.2233e-05 - iou: 0.9676 - iou_thresholded: 0.9846 - val_loss: 0.0076 - val_iou: 0.4454 - val_iou_thresholded: 0.4500\n",
      "Epoch 489/500\n",
      "13/13 [==============================] - 13s 1s/step - loss: 3.5362e-05 - iou: 0.9638 - iou_thresholded: 0.9786 - val_loss: 0.0073 - val_iou: 0.4369 - val_iou_thresholded: 0.4462\n",
      "Epoch 490/500\n",
      "13/13 [==============================] - 13s 1s/step - loss: 2.1140e-05 - iou: 0.9699 - iou_thresholded: 0.9884 - val_loss: 0.0084 - val_iou: 0.4256 - val_iou_thresholded: 0.4307\n",
      "Epoch 491/500\n",
      "13/13 [==============================] - 13s 1s/step - loss: 2.7006e-05 - iou: 0.9693 - iou_thresholded: 0.9857 - val_loss: 0.0087 - val_iou: 0.4182 - val_iou_thresholded: 0.4223\n",
      "Epoch 492/500\n",
      "13/13 [==============================] - 13s 1s/step - loss: 2.7802e-05 - iou: 0.9674 - iou_thresholded: 0.9857 - val_loss: 0.0100 - val_iou: 0.4148 - val_iou_thresholded: 0.4169\n",
      "Epoch 493/500\n",
      "13/13 [==============================] - 13s 1s/step - loss: 1.7274e-05 - iou: 0.9846 - iou_thresholded: 0.9908 - val_loss: 0.0082 - val_iou: 0.4304 - val_iou_thresholded: 0.4355\n",
      "Epoch 494/500\n",
      "13/13 [==============================] - 13s 1s/step - loss: 3.3348e-05 - iou: 0.9541 - iou_thresholded: 0.9802 - val_loss: 0.0090 - val_iou: 0.4490 - val_iou_thresholded: 0.4503\n",
      "Epoch 495/500\n",
      "13/13 [==============================] - 13s 1s/step - loss: 3.4332e-05 - iou: 0.9609 - iou_thresholded: 0.9788 - val_loss: 0.0080 - val_iou: 0.4131 - val_iou_thresholded: 0.4194\n",
      "Epoch 496/500\n",
      "13/13 [==============================] - 13s 1s/step - loss: 2.7889e-05 - iou: 0.9715 - iou_thresholded: 0.9858 - val_loss: 0.0074 - val_iou: 0.4252 - val_iou_thresholded: 0.4354\n",
      "Epoch 497/500\n",
      "13/13 [==============================] - 13s 1s/step - loss: 2.2255e-05 - iou: 0.9712 - iou_thresholded: 0.9851 - val_loss: 0.0087 - val_iou: 0.4147 - val_iou_thresholded: 0.4174\n",
      "Epoch 498/500\n",
      "13/13 [==============================] - 13s 1s/step - loss: 2.0667e-05 - iou: 0.9725 - iou_thresholded: 0.9896 - val_loss: 0.0101 - val_iou: 0.4352 - val_iou_thresholded: 0.4367\n",
      "Epoch 499/500\n",
      "13/13 [==============================] - 13s 1s/step - loss: 3.4831e-05 - iou: 0.9613 - iou_thresholded: 0.9825 - val_loss: 0.0084 - val_iou: 0.4152 - val_iou_thresholded: 0.4187\n",
      "Epoch 500/500\n",
      "13/13 [==============================] - 13s 1s/step - loss: 2.6870e-05 - iou: 0.9723 - iou_thresholded: 0.9836 - val_loss: 0.0086 - val_iou: 0.4344 - val_iou_thresholded: 0.4364\n"
     ]
    }
   ],
   "source": [
    "model, history = C.Helper.train_unet(X_train_set, y_train_set, X_val, y_val, model, epochs=500)"
   ]
  },
  {
   "cell_type": "code",
   "execution_count": 35,
   "id": "7bc51703",
   "metadata": {},
   "outputs": [
    {
     "data": {
      "image/png": "[encoded data removed]",
      "text/plain": [
       "<Figure size 864x432 with 1 Axes>"
      ]
     },
     "metadata": {
      "needs_background": "light"
     },
     "output_type": "display_data"
    },
    {
     "data": {
      "image/png": "[encoded data removed]",
      "text/plain": [
       "<Figure size 864x432 with 1 Axes>"
      ]
     },
     "metadata": {
      "needs_background": "light"
     },
     "output_type": "display_data"
    }
   ],
   "source": [
    "C.Helper.visualize_graph(history)"
   ]
  },
  {
   "cell_type": "code",
   "execution_count": 36,
   "id": "2b9f9190",
   "metadata": {},
   "outputs": [],
   "source": [
    "y_pred = C.Helper.prediction(test_images_array, model)"
   ]
  },
  {
   "cell_type": "code",
   "execution_count": 37,
   "id": "85b46673",
   "metadata": {},
   "outputs": [
    {
     "data": {
      "image/png": "[encoded data removed]",
      "text/plain": [
       "<Figure size 1152x1440 with 20 Axes>"
      ]
     },
     "metadata": {
      "needs_background": "light"
     },
     "output_type": "display_data"
    }
   ],
   "source": [
    "C.Helper.visualize_result(test_images_array, y_test, y_pred)"
   ]
  },
  {
   "cell_type": "code",
   "execution_count": 38,
   "id": "9a236ee4",
   "metadata": {},
   "outputs": [
    {
     "name": "stdout",
     "output_type": "stream",
     "text": [
      "119/119 [==============================] - 26s 222ms/step - loss: 6.9760e-04 - iou: 0.1165 - iou_thresholded: 0.5421\n"
     ]
    }
   ],
   "source": [
    "C.Helper.evaluate(test_images_array, y_test, model)"
   ]
  },
  {
   "cell_type": "code",
   "execution_count": null,
   "id": "f18f18a7",
   "metadata": {},
   "outputs": [],
   "source": []
  },
  {
   "cell_type": "code",
   "execution_count": null,
   "id": "9633f74e",
   "metadata": {},
   "outputs": [],
   "source": []
  },
  {
   "cell_type": "code",
   "execution_count": null,
   "id": "230dbf69",
   "metadata": {},
   "outputs": [],
   "source": []
  },
  {
   "cell_type": "code",
   "execution_count": null,
   "id": "91bf77f5",
   "metadata": {},
   "outputs": [],
   "source": []
  },
  {
   "cell_type": "code",
   "execution_count": null,
   "id": "5bf8aa51",
   "metadata": {},
   "outputs": [],
   "source": []
  },
  {
   "cell_type": "code",
   "execution_count": null,
   "id": "5e73cc60",
   "metadata": {},
   "outputs": [],
   "source": []
  },
  {
   "cell_type": "code",
   "execution_count": null,
   "id": "da3bb108",
   "metadata": {},
   "outputs": [],
   "source": []
  },
  {
   "cell_type": "code",
   "execution_count": null,
   "id": "2e3df05d",
   "metadata": {},
   "outputs": [],
   "source": []
  }
 ],
 "metadata": {
  "kernelspec": {
   "display_name": "Python 3 (ipykernel)",
   "language": "python",
   "name": "python3"
  },
  "language_info": {
   "codemirror_mode": {
    "name": "ipython",
    "version": 3
   },
   "file_extension": ".py",
   "mimetype": "text/x-python",
   "name": "python",
   "nbconvert_exporter": "python",
   "pygments_lexer": "ipython3",
   "version": "3.9.7"
  }
 },
 "nbformat": 4,
 "nbformat_minor": 5
}
