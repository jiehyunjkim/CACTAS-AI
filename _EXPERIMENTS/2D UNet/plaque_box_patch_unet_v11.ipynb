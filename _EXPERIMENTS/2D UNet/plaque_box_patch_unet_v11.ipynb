{
 "cells": [
  {
   "cell_type": "code",
   "execution_count": 1,
   "id": "5eebebed",
   "metadata": {},
   "outputs": [
    {
     "name": "stdout",
     "output_type": "stream",
     "text": [
      "Populating the interactive namespace from numpy and matplotlib\n"
     ]
    }
   ],
   "source": [
    "%pylab inline\n",
    "%load_ext autoreload\n",
    "%autoreload 2"
   ]
  },
  {
   "cell_type": "code",
   "execution_count": 2,
   "id": "1db43f95",
   "metadata": {},
   "outputs": [],
   "source": [
    "import cactas as C\n",
    "import os\n",
    "import mahotas as mh"
   ]
  },
  {
   "cell_type": "code",
   "execution_count": 3,
   "id": "3a25db15",
   "metadata": {
    "scrolled": true
   },
   "outputs": [
    {
     "name": "stderr",
     "output_type": "stream",
     "text": [
      "2024-05-13 08:55:47.468241: I tensorflow/stream_executor/platform/default/dso_loader.cc:53] Successfully opened dynamic library libcudart.so.11.0\n"
     ]
    },
    {
     "name": "stdout",
     "output_type": "stream",
     "text": [
      "WARNING:tensorflow:From /tmp/ipykernel_2585838/392601943.py:2: is_gpu_available (from tensorflow.python.framework.test_util) is deprecated and will be removed in a future version.\n",
      "Instructions for updating:\n",
      "Use `tf.config.list_physical_devices('GPU')` instead.\n"
     ]
    },
    {
     "name": "stderr",
     "output_type": "stream",
     "text": [
      "2024-05-13 08:55:50.233218: I tensorflow/core/platform/cpu_feature_guard.cc:142] This TensorFlow binary is optimized with oneAPI Deep Neural Network Library (oneDNN) to use the following CPU instructions in performance-critical operations:  AVX2 FMA\n",
      "To enable them in other operations, rebuild TensorFlow with the appropriate compiler flags.\n",
      "2024-05-13 08:55:50.236000: I tensorflow/stream_executor/platform/default/dso_loader.cc:53] Successfully opened dynamic library libcuda.so.1\n",
      "2024-05-13 08:55:50.824012: I tensorflow/core/common_runtime/gpu/gpu_device.cc:1733] Found device 0 with properties: \n",
      "pciBusID: 0000:87:00.0 name: A100-SXM4-40GB computeCapability: 8.0\n",
      "coreClock: 1.41GHz coreCount: 108 deviceMemorySize: 39.59GiB deviceMemoryBandwidth: 1.41TiB/s\n",
      "2024-05-13 08:55:50.828100: I tensorflow/core/common_runtime/gpu/gpu_device.cc:1733] Found device 1 with properties: \n",
      "pciBusID: 0000:90:00.0 name: A100-SXM4-40GB computeCapability: 8.0\n",
      "coreClock: 1.41GHz coreCount: 108 deviceMemorySize: 39.59GiB deviceMemoryBandwidth: 1.41TiB/s\n",
      "2024-05-13 08:55:50.828149: I tensorflow/stream_executor/platform/default/dso_loader.cc:53] Successfully opened dynamic library libcudart.so.11.0\n",
      "2024-05-13 08:55:50.872509: I tensorflow/stream_executor/platform/default/dso_loader.cc:53] Successfully opened dynamic library libcublas.so.11\n",
      "2024-05-13 08:55:50.872552: I tensorflow/stream_executor/platform/default/dso_loader.cc:53] Successfully opened dynamic library libcublasLt.so.11\n",
      "2024-05-13 08:55:50.890303: I tensorflow/stream_executor/platform/default/dso_loader.cc:53] Successfully opened dynamic library libcufft.so.10\n",
      "2024-05-13 08:55:50.895911: I tensorflow/stream_executor/platform/default/dso_loader.cc:53] Successfully opened dynamic library libcurand.so.10\n",
      "2024-05-13 08:55:50.906201: I tensorflow/stream_executor/platform/default/dso_loader.cc:53] Successfully opened dynamic library libcusolver.so.11\n",
      "2024-05-13 08:55:50.928595: I tensorflow/stream_executor/platform/default/dso_loader.cc:53] Successfully opened dynamic library libcusparse.so.11\n",
      "2024-05-13 08:55:50.930679: I tensorflow/stream_executor/platform/default/dso_loader.cc:53] Successfully opened dynamic library libcudnn.so.8\n",
      "2024-05-13 08:55:50.946787: I tensorflow/core/common_runtime/gpu/gpu_device.cc:1871] Adding visible gpu devices: 0, 1\n",
      "2024-05-13 08:55:50.947387: I tensorflow/stream_executor/platform/default/dso_loader.cc:53] Successfully opened dynamic library libcudart.so.11.0\n",
      "2024-05-13 08:55:53.336707: I tensorflow/core/common_runtime/gpu/gpu_device.cc:1258] Device interconnect StreamExecutor with strength 1 edge matrix:\n",
      "2024-05-13 08:55:53.336761: I tensorflow/core/common_runtime/gpu/gpu_device.cc:1264]      0 1 \n",
      "2024-05-13 08:55:53.336768: I tensorflow/core/common_runtime/gpu/gpu_device.cc:1277] 0:   N Y \n",
      "2024-05-13 08:55:53.336772: I tensorflow/core/common_runtime/gpu/gpu_device.cc:1277] 1:   Y N \n",
      "2024-05-13 08:55:53.349751: I tensorflow/core/common_runtime/gpu/gpu_device.cc:1418] Created TensorFlow device (/device:GPU:0 with 38425 MB memory) -> physical GPU (device: 0, name: A100-SXM4-40GB, pci bus id: 0000:87:00.0, compute capability: 8.0)\n",
      "2024-05-13 08:55:53.354090: I tensorflow/core/common_runtime/gpu/gpu_device.cc:1418] Created TensorFlow device (/device:GPU:1 with 38425 MB memory) -> physical GPU (device: 1, name: A100-SXM4-40GB, pci bus id: 0000:90:00.0, compute capability: 8.0)\n"
     ]
    },
    {
     "data": {
      "text/plain": [
       "True"
      ]
     },
     "execution_count": 3,
     "metadata": {},
     "output_type": "execute_result"
    }
   ],
   "source": [
    "import tensorflow as tf\n",
    "gpu_available = tf.test.is_gpu_available()\n",
    "gpu_available"
   ]
  },
  {
   "cell_type": "code",
   "execution_count": null,
   "id": "c7599e1d",
   "metadata": {},
   "outputs": [],
   "source": []
  },
  {
   "cell_type": "code",
   "execution_count": 4,
   "id": "ca9de1bc",
   "metadata": {},
   "outputs": [],
   "source": [
    "DATAPATH='/raid/mpsych/CACTAS/DATA/CLEANED/'"
   ]
  },
  {
   "cell_type": "code",
   "execution_count": 5,
   "id": "97b3bd3c",
   "metadata": {},
   "outputs": [],
   "source": [
    "data = C.Helper.load_separate_data(DATAPATH, \n",
    "                    types=('filt_img', 'filt_lb', 'filt_msk'), subsets=('train', 'test'))"
   ]
  },
  {
   "cell_type": "code",
   "execution_count": null,
   "id": "d3604113",
   "metadata": {},
   "outputs": [],
   "source": []
  },
  {
   "cell_type": "code",
   "execution_count": 6,
   "id": "0166f03a",
   "metadata": {},
   "outputs": [],
   "source": [
    "filtered_images_train = data['filt_img_train']\n",
    "filtered_images_test = data['filt_img_test']\n",
    "filtered_labels_train = data['filt_lb_train']\n",
    "filtered_labels_test = data['filt_lb_test']\n",
    "filtered_masks_train = data['filt_msk_train']\n",
    "filtered_masks_test = data['filt_msk_test']"
   ]
  },
  {
   "cell_type": "code",
   "execution_count": null,
   "id": "cafce4e2",
   "metadata": {},
   "outputs": [],
   "source": []
  },
  {
   "cell_type": "code",
   "execution_count": 7,
   "id": "deb89518",
   "metadata": {},
   "outputs": [],
   "source": [
    "normalized_images_train = C.Helper.normalize_data(filtered_images_train)\n",
    "normalized_images_test = C.Helper.normalize_data(filtered_images_test)"
   ]
  },
  {
   "cell_type": "code",
   "execution_count": 8,
   "id": "4e06c657",
   "metadata": {},
   "outputs": [],
   "source": [
    "normalized_masks_train = C.Helper.normalize_data(filtered_masks_train)\n",
    "normalized_masks_test = C.Helper.normalize_data(filtered_masks_test)"
   ]
  },
  {
   "cell_type": "code",
   "execution_count": null,
   "id": "f2e93307",
   "metadata": {},
   "outputs": [],
   "source": []
  },
  {
   "cell_type": "code",
   "execution_count": 9,
   "id": "8e6ea219",
   "metadata": {},
   "outputs": [],
   "source": [
    "last_key = np.concatenate(normalized_images_train[:round(len(normalized_images_train)*0.8)], axis=0)"
   ]
  },
  {
   "cell_type": "code",
   "execution_count": null,
   "id": "b48fe491",
   "metadata": {},
   "outputs": [],
   "source": []
  },
  {
   "cell_type": "code",
   "execution_count": 10,
   "id": "8bd0a33c",
   "metadata": {},
   "outputs": [],
   "source": [
    "X_train = np.concatenate(normalized_images_train, axis=0)\n",
    "X_test = np.concatenate(normalized_images_test, axis=0)\n",
    "y_train_array = np.concatenate(filtered_labels_train, axis=0)\n",
    "y_test_array = np.concatenate(filtered_labels_test, axis=0)\n",
    "m_train = np.concatenate(normalized_masks_train, axis=0)\n",
    "m_test = np.concatenate(normalized_masks_test, axis=0)"
   ]
  },
  {
   "cell_type": "code",
   "execution_count": null,
   "id": "635415b6",
   "metadata": {},
   "outputs": [],
   "source": []
  },
  {
   "cell_type": "code",
   "execution_count": 11,
   "id": "bc667e02",
   "metadata": {},
   "outputs": [
    {
     "data": {
      "text/plain": [
       "(449, 265)"
      ]
     },
     "execution_count": 11,
     "metadata": {},
     "output_type": "execute_result"
    }
   ],
   "source": [
    "len(X_train), len(X_test)"
   ]
  },
  {
   "cell_type": "code",
   "execution_count": null,
   "id": "b686dfef",
   "metadata": {},
   "outputs": [],
   "source": []
  },
  {
   "cell_type": "code",
   "execution_count": 12,
   "id": "36f94810",
   "metadata": {},
   "outputs": [],
   "source": [
    "new_slices = []\n",
    "for i in range(len(y_train_array)):\n",
    "    slices = np.where(y_train_array[i] != 0, True, False)\n",
    "    new_slices.append(slices)\n",
    "y_train = np.array(new_slices)"
   ]
  },
  {
   "cell_type": "code",
   "execution_count": 13,
   "id": "a771d7e1",
   "metadata": {},
   "outputs": [],
   "source": [
    "new_slices1 = []\n",
    "for i in range(len(y_test_array)):\n",
    "    slices = np.where(y_test_array[i] != 0, True, False)\n",
    "    new_slices1.append(slices)\n",
    "y_test = np.array(new_slices1)"
   ]
  },
  {
   "cell_type": "code",
   "execution_count": null,
   "id": "0f073d33",
   "metadata": {},
   "outputs": [],
   "source": []
  },
  {
   "cell_type": "code",
   "execution_count": 14,
   "id": "f6c61178",
   "metadata": {},
   "outputs": [],
   "source": [
    "y_train = y_train.astype(np.float32)\n",
    "y_test = y_test.astype(np.float32)"
   ]
  },
  {
   "cell_type": "code",
   "execution_count": null,
   "id": "5845b2a4",
   "metadata": {},
   "outputs": [],
   "source": []
  },
  {
   "cell_type": "code",
   "execution_count": 15,
   "id": "3692ec60",
   "metadata": {},
   "outputs": [],
   "source": [
    "train_masks=[]\n",
    "for i in range(len(m_train)):\n",
    "    binary = (m_train[i] > 0).astype(np.uint8)\n",
    "    dilated = mh.dilate(binary.astype(np.bool_))\n",
    "    for _ in range(9):\n",
    "        dilated = mh.dilate(dilated)\n",
    "    train_masks.append(dilated)"
   ]
  },
  {
   "cell_type": "code",
   "execution_count": 16,
   "id": "28b56250",
   "metadata": {},
   "outputs": [],
   "source": [
    "train_images=[]\n",
    "for i in range(len(X_train)):\n",
    "    train_image = X_train[i] * train_masks[i]\n",
    "    train_images.append(train_image)\n",
    "train_images_array = np.array(train_images)"
   ]
  },
  {
   "cell_type": "code",
   "execution_count": null,
   "id": "050bc38c",
   "metadata": {},
   "outputs": [],
   "source": []
  },
  {
   "cell_type": "code",
   "execution_count": 17,
   "id": "3a3d4f47",
   "metadata": {},
   "outputs": [],
   "source": [
    "test_masks=[]\n",
    "for i in range(len(m_test)):\n",
    "    binary = (m_test[i] > 0).astype(np.uint8)\n",
    "    dilated = mh.dilate(binary.astype(np.bool_))\n",
    "    for _ in range(9):\n",
    "        dilated = mh.dilate(dilated)\n",
    "    test_masks.append(dilated)"
   ]
  },
  {
   "cell_type": "code",
   "execution_count": 18,
   "id": "c08c1bc9",
   "metadata": {},
   "outputs": [],
   "source": [
    "test_images=[]\n",
    "for i in range(len(X_test)):\n",
    "    test_image = X_test[i] * test_masks[i]\n",
    "    test_images.append(test_image)\n",
    "test_images_array = np.array(test_images)"
   ]
  },
  {
   "cell_type": "code",
   "execution_count": null,
   "id": "d7c3c4a1",
   "metadata": {},
   "outputs": [],
   "source": []
  },
  {
   "cell_type": "code",
   "execution_count": 19,
   "id": "7d9bea09",
   "metadata": {},
   "outputs": [],
   "source": [
    "X_train_set = train_images_array[:last_key.shape[0]]\n",
    "y_train_set = y_train[:last_key.shape[0]]\n",
    "X_val = train_images_array[last_key.shape[0]:]\n",
    "y_val = y_train[last_key.shape[0]:]"
   ]
  },
  {
   "cell_type": "code",
   "execution_count": null,
   "id": "9ce256c1",
   "metadata": {},
   "outputs": [],
   "source": []
  },
  {
   "cell_type": "code",
   "execution_count": 20,
   "id": "c43945a0",
   "metadata": {},
   "outputs": [
    {
     "data": {
      "text/plain": [
       "((354, 512, 512, 1), (354, 512, 512, 1))"
      ]
     },
     "execution_count": 20,
     "metadata": {},
     "output_type": "execute_result"
    }
   ],
   "source": [
    "X_train_set.shape, y_train_set.shape"
   ]
  },
  {
   "cell_type": "code",
   "execution_count": 21,
   "id": "a4b42641",
   "metadata": {},
   "outputs": [
    {
     "data": {
      "text/plain": [
       "((95, 512, 512, 1), (95, 512, 512, 1))"
      ]
     },
     "execution_count": 21,
     "metadata": {},
     "output_type": "execute_result"
    }
   ],
   "source": [
    "X_val.shape, y_val.shape"
   ]
  },
  {
   "cell_type": "code",
   "execution_count": 22,
   "id": "f0250dc1",
   "metadata": {},
   "outputs": [
    {
     "data": {
      "text/plain": [
       "(dtype('float32'), dtype('float32'))"
      ]
     },
     "execution_count": 22,
     "metadata": {},
     "output_type": "execute_result"
    }
   ],
   "source": [
    "X_train_set.dtype, y_train_set.dtype"
   ]
  },
  {
   "cell_type": "code",
   "execution_count": null,
   "id": "34dd6c88",
   "metadata": {},
   "outputs": [],
   "source": []
  },
  {
   "cell_type": "code",
   "execution_count": 23,
   "id": "c001a494",
   "metadata": {
    "scrolled": true
   },
   "outputs": [
    {
     "name": "stdout",
     "output_type": "stream",
     "text": [
      "-----------------------------------------\n",
      "keras-unet init: TF version is >= 2.0.0 - using `tf.keras` instead of `Keras`\n",
      "-----------------------------------------\n"
     ]
    },
    {
     "name": "stderr",
     "output_type": "stream",
     "text": [
      "2024-05-13 08:56:08.303191: I tensorflow/core/common_runtime/gpu/gpu_device.cc:1733] Found device 0 with properties: \n",
      "pciBusID: 0000:87:00.0 name: A100-SXM4-40GB computeCapability: 8.0\n",
      "coreClock: 1.41GHz coreCount: 108 deviceMemorySize: 39.59GiB deviceMemoryBandwidth: 1.41TiB/s\n",
      "2024-05-13 08:56:08.305766: I tensorflow/core/common_runtime/gpu/gpu_device.cc:1733] Found device 1 with properties: \n",
      "pciBusID: 0000:90:00.0 name: A100-SXM4-40GB computeCapability: 8.0\n",
      "coreClock: 1.41GHz coreCount: 108 deviceMemorySize: 39.59GiB deviceMemoryBandwidth: 1.41TiB/s\n",
      "2024-05-13 08:56:08.315692: I tensorflow/core/common_runtime/gpu/gpu_device.cc:1871] Adding visible gpu devices: 0, 1\n",
      "2024-05-13 08:56:08.318654: I tensorflow/core/common_runtime/gpu/gpu_device.cc:1733] Found device 0 with properties: \n",
      "pciBusID: 0000:87:00.0 name: A100-SXM4-40GB computeCapability: 8.0\n",
      "coreClock: 1.41GHz coreCount: 108 deviceMemorySize: 39.59GiB deviceMemoryBandwidth: 1.41TiB/s\n",
      "2024-05-13 08:56:08.321154: I tensorflow/core/common_runtime/gpu/gpu_device.cc:1733] Found device 1 with properties: \n",
      "pciBusID: 0000:90:00.0 name: A100-SXM4-40GB computeCapability: 8.0\n",
      "coreClock: 1.41GHz coreCount: 108 deviceMemorySize: 39.59GiB deviceMemoryBandwidth: 1.41TiB/s\n",
      "2024-05-13 08:56:08.331066: I tensorflow/core/common_runtime/gpu/gpu_device.cc:1871] Adding visible gpu devices: 0, 1\n",
      "2024-05-13 08:56:08.331115: I tensorflow/core/common_runtime/gpu/gpu_device.cc:1258] Device interconnect StreamExecutor with strength 1 edge matrix:\n",
      "2024-05-13 08:56:08.331120: I tensorflow/core/common_runtime/gpu/gpu_device.cc:1264]      0 1 \n",
      "2024-05-13 08:56:08.331124: I tensorflow/core/common_runtime/gpu/gpu_device.cc:1277] 0:   N Y \n",
      "2024-05-13 08:56:08.331128: I tensorflow/core/common_runtime/gpu/gpu_device.cc:1277] 1:   Y N \n",
      "2024-05-13 08:56:08.338679: I tensorflow/core/common_runtime/gpu/gpu_device.cc:1418] Created TensorFlow device (/job:localhost/replica:0/task:0/device:GPU:0 with 38425 MB memory) -> physical GPU (device: 0, name: A100-SXM4-40GB, pci bus id: 0000:87:00.0, compute capability: 8.0)\n",
      "2024-05-13 08:56:08.341179: I tensorflow/core/common_runtime/gpu/gpu_device.cc:1418] Created TensorFlow device (/job:localhost/replica:0/task:0/device:GPU:1 with 38425 MB memory) -> physical GPU (device: 1, name: A100-SXM4-40GB, pci bus id: 0000:90:00.0, compute capability: 8.0)\n"
     ]
    }
   ],
   "source": [
    "model = C.Helper.create_unet(X_train_set[0].shape)"
   ]
  },
  {
   "cell_type": "code",
   "execution_count": 24,
   "id": "f889cdd0",
   "metadata": {
    "scrolled": true
   },
   "outputs": [
    {
     "name": "stderr",
     "output_type": "stream",
     "text": [
      "2024-05-13 08:56:09.116220: I tensorflow/compiler/mlir/mlir_graph_optimization_pass.cc:176] None of the MLIR Optimization Passes are enabled (registered 2)\n",
      "2024-05-13 08:56:09.138768: I tensorflow/core/platform/profile_utils/cpu_utils.cc:114] CPU Frequency: 2245740000 Hz\n"
     ]
    },
    {
     "name": "stdout",
     "output_type": "stream",
     "text": [
      "Epoch 1/200\n"
     ]
    },
    {
     "name": "stderr",
     "output_type": "stream",
     "text": [
      "2024-05-13 08:56:10.504186: I tensorflow/stream_executor/platform/default/dso_loader.cc:53] Successfully opened dynamic library libcudnn.so.8\n",
      "2024-05-13 08:56:11.963591: I tensorflow/stream_executor/cuda/cuda_dnn.cc:359] Loaded cuDNN version 8201\n",
      "2024-05-13 08:56:13.550574: W tensorflow/stream_executor/gpu/asm_compiler.cc:191] Falling back to the CUDA driver for PTX compilation; ptxas does not support CC 8.0\n",
      "2024-05-13 08:56:13.550598: W tensorflow/stream_executor/gpu/asm_compiler.cc:194] Used ptxas at ptxas\n",
      "2024-05-13 08:56:13.551475: W tensorflow/stream_executor/gpu/redzone_allocator.cc:314] Unimplemented: ptxas ptxas too old. Falling back to the driver to compile.\n",
      "Relying on driver to perform ptx compilation. \n",
      "Modify $PATH to customize ptxas location.\n",
      "This message will be only logged once.\n",
      "2024-05-13 08:56:13.658092: I tensorflow/stream_executor/platform/default/dso_loader.cc:53] Successfully opened dynamic library libcublas.so.11\n",
      "2024-05-13 08:56:15.069365: I tensorflow/stream_executor/platform/default/dso_loader.cc:53] Successfully opened dynamic library libcublasLt.so.11\n",
      "2024-05-13 08:56:25.035043: W tensorflow/core/common_runtime/bfc_allocator.cc:271] Allocator (GPU_0_bfc) ran out of memory trying to allocate 4.02GiB with freed_by_count=0. The caller indicates that this is not a failure, but may mean that there could be performance gains if more memory were available.\n",
      "2024-05-13 08:56:25.035319: W tensorflow/core/kernels/gpu_utils.cc:49] Failed to allocate memory for convolution redzone checking; skipping this check. This is benign and only means that we won't check cudnn for out-of-bounds reads and writes. This message will only be printed once.\n"
     ]
    },
    {
     "name": "stdout",
     "output_type": "stream",
     "text": [
      "11/11 [==============================] - 42s 2s/step - loss: 0.4123 - iou: 1.4884e-04 - iou_thresholded: 6.0230e-04 - val_loss: 0.0415 - val_iou: 9.8492e-04 - val_iou_thresholded: 0.0010\n",
      "Epoch 2/200\n",
      "11/11 [==============================] - 14s 1s/step - loss: 0.0100 - iou: 9.1762e-04 - iou_thresholded: 0.0012 - val_loss: 0.0010 - val_iou: 8.9464e-04 - val_iou_thresholded: 0.0010\n",
      "Epoch 3/200\n",
      "11/11 [==============================] - 10s 927ms/step - loss: 0.0017 - iou: 0.0031 - iou_thresholded: 0.0013 - val_loss: 0.0011 - val_iou: 0.0112 - val_iou_thresholded: 0.0010\n",
      "Epoch 4/200\n",
      "11/11 [==============================] - 10s 926ms/step - loss: 0.0013 - iou: 0.0067 - iou_thresholded: 0.0022 - val_loss: 0.0010 - val_iou: 0.0128 - val_iou_thresholded: 0.0010\n",
      "Epoch 5/200\n",
      "11/11 [==============================] - 10s 927ms/step - loss: 0.0015 - iou: 0.0073 - iou_thresholded: 8.7023e-04 - val_loss: 6.2830e-04 - val_iou: 0.0112 - val_iou_thresholded: 0.0010\n",
      "Epoch 6/200\n",
      "11/11 [==============================] - 10s 926ms/step - loss: 0.0013 - iou: 0.0079 - iou_thresholded: 0.0017 - val_loss: 8.4193e-04 - val_iou: 0.0152 - val_iou_thresholded: 0.0010\n",
      "Epoch 7/200\n",
      "11/11 [==============================] - 10s 926ms/step - loss: 0.0012 - iou: 0.0115 - iou_thresholded: 0.0018 - val_loss: 6.2856e-04 - val_iou: 0.0189 - val_iou_thresholded: 0.0010\n",
      "Epoch 8/200\n",
      "11/11 [==============================] - 10s 929ms/step - loss: 0.0011 - iou: 0.0108 - iou_thresholded: 0.0020 - val_loss: 6.0744e-04 - val_iou: 0.0203 - val_iou_thresholded: 0.0010\n",
      "Epoch 9/200\n",
      "11/11 [==============================] - 10s 927ms/step - loss: 0.0011 - iou: 0.0130 - iou_thresholded: 0.0018 - val_loss: 6.3108e-04 - val_iou: 0.0215 - val_iou_thresholded: 0.0010\n",
      "Epoch 10/200\n",
      "11/11 [==============================] - 10s 931ms/step - loss: 0.0012 - iou: 0.0140 - iou_thresholded: 0.0019 - val_loss: 5.9761e-04 - val_iou: 0.0243 - val_iou_thresholded: 0.0010\n",
      "Epoch 11/200\n",
      "11/11 [==============================] - 10s 927ms/step - loss: 9.5061e-04 - iou: 0.0176 - iou_thresholded: 0.0013 - val_loss: 9.1935e-04 - val_iou: 0.0295 - val_iou_thresholded: 0.0010\n",
      "Epoch 12/200\n",
      "11/11 [==============================] - 10s 932ms/step - loss: 9.9190e-04 - iou: 0.0242 - iou_thresholded: 0.0014 - val_loss: 6.0850e-04 - val_iou: 0.0363 - val_iou_thresholded: 0.0010\n",
      "Epoch 13/200\n",
      "11/11 [==============================] - 11s 1s/step - loss: 9.3174e-04 - iou: 0.0253 - iou_thresholded: 6.4821e-04 - val_loss: 6.4829e-04 - val_iou: 0.0369 - val_iou_thresholded: 0.0010\n",
      "Epoch 14/200\n",
      "11/11 [==============================] - 10s 1s/step - loss: 9.3080e-04 - iou: 0.0321 - iou_thresholded: 0.0017 - val_loss: 6.0753e-04 - val_iou: 0.0460 - val_iou_thresholded: 0.0010\n",
      "Epoch 15/200\n",
      "11/11 [==============================] - 10s 931ms/step - loss: 8.5653e-04 - iou: 0.0319 - iou_thresholded: 0.0059 - val_loss: 7.2046e-04 - val_iou: 0.0434 - val_iou_thresholded: 0.0010\n",
      "Epoch 16/200\n",
      "11/11 [==============================] - 10s 930ms/step - loss: 9.7242e-04 - iou: 0.0315 - iou_thresholded: 0.0019 - val_loss: 4.7134e-04 - val_iou: 0.0465 - val_iou_thresholded: 0.0010\n",
      "Epoch 17/200\n",
      "11/11 [==============================] - 10s 929ms/step - loss: 8.8165e-04 - iou: 0.0410 - iou_thresholded: 0.0014 - val_loss: 6.0992e-04 - val_iou: 0.0481 - val_iou_thresholded: 0.0010\n",
      "Epoch 18/200\n",
      "11/11 [==============================] - 10s 928ms/step - loss: 8.4845e-04 - iou: 0.0512 - iou_thresholded: 0.0055 - val_loss: 4.7985e-04 - val_iou: 0.0635 - val_iou_thresholded: 0.0043\n",
      "Epoch 19/200\n",
      "11/11 [==============================] - 10s 931ms/step - loss: 7.5205e-04 - iou: 0.0594 - iou_thresholded: 0.0130 - val_loss: 4.4926e-04 - val_iou: 0.0657 - val_iou_thresholded: 0.0047\n",
      "Epoch 20/200\n",
      "11/11 [==============================] - 10s 931ms/step - loss: 8.3579e-04 - iou: 0.0700 - iou_thresholded: 0.0493 - val_loss: 4.3072e-04 - val_iou: 0.0634 - val_iou_thresholded: 0.0080\n",
      "Epoch 21/200\n",
      "11/11 [==============================] - 10s 930ms/step - loss: 7.8616e-04 - iou: 0.0667 - iou_thresholded: 0.0671 - val_loss: 4.1325e-04 - val_iou: 0.0916 - val_iou_thresholded: 0.0778\n",
      "Epoch 22/200\n",
      "11/11 [==============================] - 10s 927ms/step - loss: 7.4703e-04 - iou: 0.0997 - iou_thresholded: 0.1096 - val_loss: 4.2109e-04 - val_iou: 0.0928 - val_iou_thresholded: 0.1023\n",
      "Epoch 23/200\n",
      "11/11 [==============================] - 10s 932ms/step - loss: 6.5036e-04 - iou: 0.1069 - iou_thresholded: 0.1395 - val_loss: 4.9693e-04 - val_iou: 0.1089 - val_iou_thresholded: 0.2631\n",
      "Epoch 24/200\n",
      "11/11 [==============================] - 10s 935ms/step - loss: 6.8682e-04 - iou: 0.1171 - iou_thresholded: 0.1528 - val_loss: 4.8330e-04 - val_iou: 0.1169 - val_iou_thresholded: 0.3027\n",
      "Epoch 25/200\n",
      "11/11 [==============================] - 11s 1s/step - loss: 6.2612e-04 - iou: 0.1519 - iou_thresholded: 0.2301 - val_loss: 4.6101e-04 - val_iou: 0.1379 - val_iou_thresholded: 0.3168\n",
      "Epoch 26/200\n",
      "11/11 [==============================] - 10s 1s/step - loss: 6.0384e-04 - iou: 0.1896 - iou_thresholded: 0.2922 - val_loss: 4.2689e-04 - val_iou: 0.1627 - val_iou_thresholded: 0.3028\n",
      "Epoch 27/200\n",
      "11/11 [==============================] - 10s 931ms/step - loss: 6.4852e-04 - iou: 0.1687 - iou_thresholded: 0.2609 - val_loss: 4.2265e-04 - val_iou: 0.1535 - val_iou_thresholded: 0.3459\n",
      "Epoch 28/200\n",
      "11/11 [==============================] - 10s 931ms/step - loss: 5.8469e-04 - iou: 0.1731 - iou_thresholded: 0.2702 - val_loss: 3.8397e-04 - val_iou: 0.1548 - val_iou_thresholded: 0.2927\n",
      "Epoch 29/200\n",
      "11/11 [==============================] - 10s 926ms/step - loss: 5.5661e-04 - iou: 0.1935 - iou_thresholded: 0.3088 - val_loss: 4.2714e-04 - val_iou: 0.1826 - val_iou_thresholded: 0.3598\n",
      "Epoch 30/200\n",
      "11/11 [==============================] - 10s 929ms/step - loss: 5.2860e-04 - iou: 0.2210 - iou_thresholded: 0.3342 - val_loss: 3.6377e-04 - val_iou: 0.2019 - val_iou_thresholded: 0.3096\n",
      "Epoch 31/200\n",
      "11/11 [==============================] - 10s 932ms/step - loss: 5.3076e-04 - iou: 0.2254 - iou_thresholded: 0.3400 - val_loss: 5.5483e-04 - val_iou: 0.1461 - val_iou_thresholded: 0.3820\n",
      "Epoch 32/200\n",
      "11/11 [==============================] - 10s 931ms/step - loss: 5.1888e-04 - iou: 0.2074 - iou_thresholded: 0.3032 - val_loss: 3.9348e-04 - val_iou: 0.2139 - val_iou_thresholded: 0.3883\n",
      "Epoch 33/200\n",
      "11/11 [==============================] - 10s 930ms/step - loss: 4.6487e-04 - iou: 0.2494 - iou_thresholded: 0.3643 - val_loss: 3.8823e-04 - val_iou: 0.2202 - val_iou_thresholded: 0.3925\n",
      "Epoch 34/200\n",
      "11/11 [==============================] - 10s 926ms/step - loss: 4.5480e-04 - iou: 0.2542 - iou_thresholded: 0.3691 - val_loss: 4.3665e-04 - val_iou: 0.1931 - val_iou_thresholded: 0.4019\n",
      "Epoch 35/200\n",
      "11/11 [==============================] - 10s 932ms/step - loss: 4.4425e-04 - iou: 0.2826 - iou_thresholded: 0.4148 - val_loss: 3.7544e-04 - val_iou: 0.2628 - val_iou_thresholded: 0.3788\n",
      "Epoch 36/200\n",
      "11/11 [==============================] - 10s 930ms/step - loss: 4.6308e-04 - iou: 0.2759 - iou_thresholded: 0.4008 - val_loss: 4.2350e-04 - val_iou: 0.2371 - val_iou_thresholded: 0.3851\n",
      "Epoch 37/200\n",
      "11/11 [==============================] - 11s 1s/step - loss: 4.2693e-04 - iou: 0.2876 - iou_thresholded: 0.4086 - val_loss: 3.6716e-04 - val_iou: 0.2464 - val_iou_thresholded: 0.4272\n",
      "Epoch 38/200\n",
      "11/11 [==============================] - 10s 1s/step - loss: 5.4805e-04 - iou: 0.2028 - iou_thresholded: 0.2803 - val_loss: 4.3536e-04 - val_iou: 0.1650 - val_iou_thresholded: 0.4829\n",
      "Epoch 39/200\n",
      "11/11 [==============================] - 10s 930ms/step - loss: 4.7256e-04 - iou: 0.2576 - iou_thresholded: 0.3917 - val_loss: 3.4410e-04 - val_iou: 0.2747 - val_iou_thresholded: 0.4361\n",
      "Epoch 40/200\n",
      "11/11 [==============================] - 10s 928ms/step - loss: 4.0015e-04 - iou: 0.3096 - iou_thresholded: 0.4296 - val_loss: 3.1389e-04 - val_iou: 0.2859 - val_iou_thresholded: 0.4443\n",
      "Epoch 41/200\n",
      "11/11 [==============================] - 10s 932ms/step - loss: 3.8767e-04 - iou: 0.3218 - iou_thresholded: 0.4599 - val_loss: 2.8210e-04 - val_iou: 0.2886 - val_iou_thresholded: 0.4813\n",
      "Epoch 42/200\n"
     ]
    },
    {
     "name": "stdout",
     "output_type": "stream",
     "text": [
      "11/11 [==============================] - 10s 927ms/step - loss: 3.9947e-04 - iou: 0.3241 - iou_thresholded: 0.4613 - val_loss: 3.5626e-04 - val_iou: 0.2739 - val_iou_thresholded: 0.4548\n",
      "Epoch 43/200\n",
      "11/11 [==============================] - 10s 929ms/step - loss: 3.6320e-04 - iou: 0.3549 - iou_thresholded: 0.4805 - val_loss: 3.1411e-04 - val_iou: 0.3154 - val_iou_thresholded: 0.4774\n",
      "Epoch 44/200\n",
      "11/11 [==============================] - 10s 926ms/step - loss: 4.1075e-04 - iou: 0.3513 - iou_thresholded: 0.4931 - val_loss: 3.7321e-04 - val_iou: 0.2562 - val_iou_thresholded: 0.4791\n",
      "Epoch 45/200\n",
      "11/11 [==============================] - 10s 931ms/step - loss: 4.4750e-04 - iou: 0.3370 - iou_thresholded: 0.4596 - val_loss: 3.3836e-04 - val_iou: 0.2500 - val_iou_thresholded: 0.2505\n",
      "Epoch 46/200\n",
      "11/11 [==============================] - 10s 932ms/step - loss: 5.9933e-04 - iou: 0.2056 - iou_thresholded: 0.2946 - val_loss: 2.6209e-04 - val_iou: 0.2958 - val_iou_thresholded: 0.4034\n",
      "Epoch 47/200\n",
      "11/11 [==============================] - 10s 926ms/step - loss: 4.9275e-04 - iou: 0.2733 - iou_thresholded: 0.3932 - val_loss: 3.1415e-04 - val_iou: 0.3128 - val_iou_thresholded: 0.4612\n",
      "Epoch 48/200\n",
      "11/11 [==============================] - 10s 928ms/step - loss: 4.2230e-04 - iou: 0.3226 - iou_thresholded: 0.4330 - val_loss: 2.7859e-04 - val_iou: 0.3111 - val_iou_thresholded: 0.4893\n",
      "Epoch 49/200\n",
      "11/11 [==============================] - 11s 1s/step - loss: 3.9812e-04 - iou: 0.3140 - iou_thresholded: 0.4475 - val_loss: 3.3762e-04 - val_iou: 0.2882 - val_iou_thresholded: 0.4735\n",
      "Epoch 50/200\n",
      "11/11 [==============================] - 10s 1s/step - loss: 3.4960e-04 - iou: 0.3288 - iou_thresholded: 0.4451 - val_loss: 2.9501e-04 - val_iou: 0.3213 - val_iou_thresholded: 0.4616\n",
      "Epoch 51/200\n",
      "11/11 [==============================] - 10s 928ms/step - loss: 3.5644e-04 - iou: 0.3554 - iou_thresholded: 0.4862 - val_loss: 2.4666e-04 - val_iou: 0.3323 - val_iou_thresholded: 0.5127\n",
      "Epoch 52/200\n",
      "11/11 [==============================] - 10s 932ms/step - loss: 3.8013e-04 - iou: 0.3076 - iou_thresholded: 0.4349 - val_loss: 2.9062e-04 - val_iou: 0.2623 - val_iou_thresholded: 0.5366\n",
      "Epoch 53/200\n",
      "11/11 [==============================] - 10s 927ms/step - loss: 3.8328e-04 - iou: 0.3019 - iou_thresholded: 0.4130 - val_loss: 3.0186e-04 - val_iou: 0.3226 - val_iou_thresholded: 0.4908\n",
      "Epoch 54/200\n",
      "11/11 [==============================] - 10s 932ms/step - loss: 3.1533e-04 - iou: 0.4060 - iou_thresholded: 0.5312 - val_loss: 2.5505e-04 - val_iou: 0.3868 - val_iou_thresholded: 0.4975\n",
      "Epoch 55/200\n",
      "11/11 [==============================] - 10s 930ms/step - loss: 3.3415e-04 - iou: 0.3903 - iou_thresholded: 0.4958 - val_loss: 3.1308e-04 - val_iou: 0.3033 - val_iou_thresholded: 0.5143\n",
      "Epoch 56/200\n",
      "11/11 [==============================] - 10s 931ms/step - loss: 3.4265e-04 - iou: 0.3569 - iou_thresholded: 0.4860 - val_loss: 2.6957e-04 - val_iou: 0.3567 - val_iou_thresholded: 0.5121\n",
      "Epoch 57/200\n",
      "11/11 [==============================] - 10s 928ms/step - loss: 3.1499e-04 - iou: 0.4022 - iou_thresholded: 0.5520 - val_loss: 3.4461e-04 - val_iou: 0.3829 - val_iou_thresholded: 0.4723\n",
      "Epoch 58/200\n",
      "11/11 [==============================] - 10s 931ms/step - loss: 3.6101e-04 - iou: 0.4215 - iou_thresholded: 0.5408 - val_loss: 2.8136e-04 - val_iou: 0.3505 - val_iou_thresholded: 0.5356\n",
      "Epoch 59/200\n",
      "11/11 [==============================] - 10s 933ms/step - loss: 3.0936e-04 - iou: 0.3899 - iou_thresholded: 0.5231 - val_loss: 4.2386e-04 - val_iou: 0.2757 - val_iou_thresholded: 0.4742\n",
      "Epoch 60/200\n",
      "11/11 [==============================] - 10s 926ms/step - loss: 3.3531e-04 - iou: 0.3930 - iou_thresholded: 0.5333 - val_loss: 2.2079e-04 - val_iou: 0.4120 - val_iou_thresholded: 0.5414\n",
      "Epoch 61/200\n",
      "11/11 [==============================] - 11s 1s/step - loss: 3.1725e-04 - iou: 0.4146 - iou_thresholded: 0.5287 - val_loss: 2.6236e-04 - val_iou: 0.3755 - val_iou_thresholded: 0.5092\n",
      "Epoch 62/200\n",
      "11/11 [==============================] - 10s 1s/step - loss: 2.8204e-04 - iou: 0.4467 - iou_thresholded: 0.5768 - val_loss: 2.7966e-04 - val_iou: 0.3651 - val_iou_thresholded: 0.5226\n",
      "Epoch 63/200\n",
      "11/11 [==============================] - 10s 935ms/step - loss: 2.7716e-04 - iou: 0.4287 - iou_thresholded: 0.5527 - val_loss: 2.9943e-04 - val_iou: 0.3627 - val_iou_thresholded: 0.5182\n",
      "Epoch 64/200\n",
      "11/11 [==============================] - 10s 926ms/step - loss: 2.7091e-04 - iou: 0.4505 - iou_thresholded: 0.5673 - val_loss: 2.6351e-04 - val_iou: 0.3884 - val_iou_thresholded: 0.5348\n",
      "Epoch 65/200\n",
      "11/11 [==============================] - 10s 929ms/step - loss: 2.8346e-04 - iou: 0.4662 - iou_thresholded: 0.5788 - val_loss: 2.9912e-04 - val_iou: 0.3714 - val_iou_thresholded: 0.5204\n",
      "Epoch 66/200\n",
      "11/11 [==============================] - 10s 927ms/step - loss: 2.6559e-04 - iou: 0.4477 - iou_thresholded: 0.5570 - val_loss: 2.9123e-04 - val_iou: 0.3678 - val_iou_thresholded: 0.5304\n",
      "Epoch 67/200\n",
      "11/11 [==============================] - 10s 932ms/step - loss: 2.5633e-04 - iou: 0.4507 - iou_thresholded: 0.5744 - val_loss: 2.2331e-04 - val_iou: 0.4448 - val_iou_thresholded: 0.5374\n",
      "Epoch 68/200\n",
      "11/11 [==============================] - 10s 930ms/step - loss: 2.9541e-04 - iou: 0.4383 - iou_thresholded: 0.5274 - val_loss: 2.1946e-04 - val_iou: 0.3639 - val_iou_thresholded: 0.5956\n",
      "Epoch 69/200\n",
      "11/11 [==============================] - 10s 928ms/step - loss: 2.9456e-04 - iou: 0.4054 - iou_thresholded: 0.5390 - val_loss: 3.5664e-04 - val_iou: 0.3176 - val_iou_thresholded: 0.5135\n",
      "Epoch 70/200\n",
      "11/11 [==============================] - 10s 932ms/step - loss: 2.6640e-04 - iou: 0.4544 - iou_thresholded: 0.5853 - val_loss: 2.3901e-04 - val_iou: 0.4290 - val_iou_thresholded: 0.5543\n",
      "Epoch 71/200\n",
      "11/11 [==============================] - 10s 929ms/step - loss: 2.4703e-04 - iou: 0.4837 - iou_thresholded: 0.6113 - val_loss: 2.8819e-04 - val_iou: 0.4198 - val_iou_thresholded: 0.5304\n",
      "Epoch 72/200\n",
      "11/11 [==============================] - 10s 933ms/step - loss: 2.5552e-04 - iou: 0.4648 - iou_thresholded: 0.5806 - val_loss: 2.6579e-04 - val_iou: 0.3894 - val_iou_thresholded: 0.5521\n",
      "Epoch 73/200\n",
      "11/11 [==============================] - 11s 1s/step - loss: 2.3554e-04 - iou: 0.5000 - iou_thresholded: 0.6259 - val_loss: 2.6865e-04 - val_iou: 0.4022 - val_iou_thresholded: 0.5426\n",
      "Epoch 74/200\n",
      "11/11 [==============================] - 10s 1s/step - loss: 2.4586e-04 - iou: 0.4964 - iou_thresholded: 0.6165 - val_loss: 2.4341e-04 - val_iou: 0.4354 - val_iou_thresholded: 0.5433\n",
      "Epoch 75/200\n",
      "11/11 [==============================] - 10s 929ms/step - loss: 2.3404e-04 - iou: 0.4996 - iou_thresholded: 0.6072 - val_loss: 2.7890e-04 - val_iou: 0.4032 - val_iou_thresholded: 0.5247\n",
      "Epoch 76/200\n",
      "11/11 [==============================] - 10s 932ms/step - loss: 2.1687e-04 - iou: 0.4880 - iou_thresholded: 0.5916 - val_loss: 2.8008e-04 - val_iou: 0.4149 - val_iou_thresholded: 0.5467\n",
      "Epoch 77/200\n",
      "11/11 [==============================] - 10s 929ms/step - loss: 2.1819e-04 - iou: 0.5450 - iou_thresholded: 0.6617 - val_loss: 2.9179e-04 - val_iou: 0.3980 - val_iou_thresholded: 0.5321\n",
      "Epoch 78/200\n",
      "11/11 [==============================] - 10s 931ms/step - loss: 2.2330e-04 - iou: 0.4716 - iou_thresholded: 0.6015 - val_loss: 2.7518e-04 - val_iou: 0.4221 - val_iou_thresholded: 0.5142\n",
      "Epoch 79/200\n",
      "11/11 [==============================] - 10s 929ms/step - loss: 2.6350e-04 - iou: 0.4934 - iou_thresholded: 0.5918 - val_loss: 2.9153e-04 - val_iou: 0.4194 - val_iou_thresholded: 0.5326\n",
      "Epoch 80/200\n",
      "11/11 [==============================] - 10s 928ms/step - loss: 3.0014e-04 - iou: 0.4631 - iou_thresholded: 0.5931 - val_loss: 2.5602e-04 - val_iou: 0.4303 - val_iou_thresholded: 0.5755\n",
      "Epoch 81/200\n",
      "11/11 [==============================] - 10s 932ms/step - loss: 2.4859e-04 - iou: 0.4854 - iou_thresholded: 0.5999 - val_loss: 2.8406e-04 - val_iou: 0.4026 - val_iou_thresholded: 0.5562\n",
      "Epoch 82/200\n",
      "11/11 [==============================] - 10s 927ms/step - loss: 2.1604e-04 - iou: 0.5329 - iou_thresholded: 0.6442 - val_loss: 2.8317e-04 - val_iou: 0.3937 - val_iou_thresholded: 0.5364\n",
      "Epoch 83/200\n"
     ]
    },
    {
     "name": "stdout",
     "output_type": "stream",
     "text": [
      "11/11 [==============================] - 10s 929ms/step - loss: 2.2082e-04 - iou: 0.4980 - iou_thresholded: 0.6093 - val_loss: 2.9432e-04 - val_iou: 0.4180 - val_iou_thresholded: 0.5535\n",
      "Epoch 84/200\n",
      "11/11 [==============================] - 10s 928ms/step - loss: 2.1231e-04 - iou: 0.5152 - iou_thresholded: 0.6422 - val_loss: 3.6322e-04 - val_iou: 0.3484 - val_iou_thresholded: 0.4955\n",
      "Epoch 85/200\n",
      "11/11 [==============================] - 11s 1s/step - loss: 2.2942e-04 - iou: 0.5050 - iou_thresholded: 0.6321 - val_loss: 3.0283e-04 - val_iou: 0.4039 - val_iou_thresholded: 0.5275\n",
      "Epoch 86/200\n",
      "11/11 [==============================] - 10s 1s/step - loss: 2.0713e-04 - iou: 0.5294 - iou_thresholded: 0.6349 - val_loss: 2.4999e-04 - val_iou: 0.4588 - val_iou_thresholded: 0.5682\n",
      "Epoch 87/200\n",
      "11/11 [==============================] - 10s 929ms/step - loss: 2.2244e-04 - iou: 0.5231 - iou_thresholded: 0.6396 - val_loss: 3.3865e-04 - val_iou: 0.3968 - val_iou_thresholded: 0.5248\n",
      "Epoch 88/200\n",
      "11/11 [==============================] - 10s 929ms/step - loss: 2.0050e-04 - iou: 0.5140 - iou_thresholded: 0.6378 - val_loss: 2.8708e-04 - val_iou: 0.4226 - val_iou_thresholded: 0.5632\n",
      "Epoch 89/200\n",
      "11/11 [==============================] - 10s 933ms/step - loss: 2.0925e-04 - iou: 0.5110 - iou_thresholded: 0.6046 - val_loss: 2.6607e-04 - val_iou: 0.4620 - val_iou_thresholded: 0.5644\n",
      "Epoch 90/200\n",
      "11/11 [==============================] - 10s 929ms/step - loss: 2.0987e-04 - iou: 0.5169 - iou_thresholded: 0.6450 - val_loss: 2.7260e-04 - val_iou: 0.4491 - val_iou_thresholded: 0.5746\n",
      "Epoch 91/200\n",
      "11/11 [==============================] - 10s 927ms/step - loss: 2.2251e-04 - iou: 0.5254 - iou_thresholded: 0.6426 - val_loss: 3.0380e-04 - val_iou: 0.4003 - val_iou_thresholded: 0.5327\n",
      "Epoch 92/200\n",
      "11/11 [==============================] - 10s 928ms/step - loss: 2.2799e-04 - iou: 0.5491 - iou_thresholded: 0.6541 - val_loss: 3.3852e-04 - val_iou: 0.4270 - val_iou_thresholded: 0.5244\n",
      "Epoch 93/200\n",
      "11/11 [==============================] - 10s 928ms/step - loss: 1.7877e-04 - iou: 0.5785 - iou_thresholded: 0.6977 - val_loss: 3.5116e-04 - val_iou: 0.4211 - val_iou_thresholded: 0.5294\n",
      "Epoch 94/200\n",
      "11/11 [==============================] - 10s 931ms/step - loss: 1.8142e-04 - iou: 0.5505 - iou_thresholded: 0.6509 - val_loss: 3.5832e-04 - val_iou: 0.4327 - val_iou_thresholded: 0.5165\n",
      "Epoch 95/200\n",
      "11/11 [==============================] - 10s 928ms/step - loss: 1.8974e-04 - iou: 0.5646 - iou_thresholded: 0.6654 - val_loss: 3.1396e-04 - val_iou: 0.4204 - val_iou_thresholded: 0.5324\n",
      "Epoch 96/200\n",
      "11/11 [==============================] - 10s 929ms/step - loss: 1.8791e-04 - iou: 0.5502 - iou_thresholded: 0.6725 - val_loss: 3.0643e-04 - val_iou: 0.4293 - val_iou_thresholded: 0.5529\n",
      "Epoch 97/200\n",
      "11/11 [==============================] - 11s 1s/step - loss: 1.6792e-04 - iou: 0.5916 - iou_thresholded: 0.7034 - val_loss: 3.5185e-04 - val_iou: 0.4649 - val_iou_thresholded: 0.5461\n",
      "Epoch 98/200\n",
      "11/11 [==============================] - 10s 1s/step - loss: 1.6395e-04 - iou: 0.5972 - iou_thresholded: 0.6939 - val_loss: 3.8100e-04 - val_iou: 0.4273 - val_iou_thresholded: 0.5241\n",
      "Epoch 99/200\n",
      "11/11 [==============================] - 10s 931ms/step - loss: 1.9497e-04 - iou: 0.5437 - iou_thresholded: 0.6554 - val_loss: 3.4569e-04 - val_iou: 0.4126 - val_iou_thresholded: 0.5307\n",
      "Epoch 100/200\n",
      "11/11 [==============================] - 10s 927ms/step - loss: 1.7761e-04 - iou: 0.5890 - iou_thresholded: 0.6868 - val_loss: 3.1571e-04 - val_iou: 0.4477 - val_iou_thresholded: 0.5425\n",
      "Epoch 101/200\n",
      "11/11 [==============================] - 10s 930ms/step - loss: 1.7254e-04 - iou: 0.6061 - iou_thresholded: 0.7166 - val_loss: 3.4567e-04 - val_iou: 0.4187 - val_iou_thresholded: 0.5287\n",
      "Epoch 102/200\n",
      "11/11 [==============================] - 10s 931ms/step - loss: 1.5890e-04 - iou: 0.5759 - iou_thresholded: 0.6882 - val_loss: 3.2594e-04 - val_iou: 0.4507 - val_iou_thresholded: 0.5521\n",
      "Epoch 103/200\n",
      "11/11 [==============================] - 10s 932ms/step - loss: 1.3625e-04 - iou: 0.6293 - iou_thresholded: 0.7306 - val_loss: 3.8780e-04 - val_iou: 0.4632 - val_iou_thresholded: 0.5301\n",
      "Epoch 104/200\n",
      "11/11 [==============================] - 10s 928ms/step - loss: 1.6068e-04 - iou: 0.6243 - iou_thresholded: 0.7112 - val_loss: 3.4004e-04 - val_iou: 0.4113 - val_iou_thresholded: 0.5261\n",
      "Epoch 105/200\n",
      "11/11 [==============================] - 10s 929ms/step - loss: 1.8498e-04 - iou: 0.5894 - iou_thresholded: 0.6869 - val_loss: 3.7752e-04 - val_iou: 0.4701 - val_iou_thresholded: 0.5355\n",
      "Epoch 106/200\n",
      "11/11 [==============================] - 10s 927ms/step - loss: 1.7147e-04 - iou: 0.5528 - iou_thresholded: 0.6421 - val_loss: 3.5094e-04 - val_iou: 0.3976 - val_iou_thresholded: 0.5066\n",
      "Epoch 107/200\n",
      "11/11 [==============================] - 10s 933ms/step - loss: 1.6542e-04 - iou: 0.6064 - iou_thresholded: 0.7218 - val_loss: 3.9978e-04 - val_iou: 0.4039 - val_iou_thresholded: 0.4980\n",
      "Epoch 108/200\n",
      "11/11 [==============================] - 10s 933ms/step - loss: 1.6708e-04 - iou: 0.5883 - iou_thresholded: 0.6942 - val_loss: 3.4618e-04 - val_iou: 0.4345 - val_iou_thresholded: 0.5280\n",
      "Epoch 109/200\n",
      "11/11 [==============================] - 11s 1s/step - loss: 1.4553e-04 - iou: 0.6342 - iou_thresholded: 0.7310 - val_loss: 4.3884e-04 - val_iou: 0.4239 - val_iou_thresholded: 0.4944\n",
      "Epoch 110/200\n",
      "11/11 [==============================] - 10s 1s/step - loss: 1.6500e-04 - iou: 0.6180 - iou_thresholded: 0.7106 - val_loss: 3.3112e-04 - val_iou: 0.4512 - val_iou_thresholded: 0.5307\n",
      "Epoch 111/200\n",
      "11/11 [==============================] - 10s 940ms/step - loss: 1.4789e-04 - iou: 0.6062 - iou_thresholded: 0.7016 - val_loss: 3.8518e-04 - val_iou: 0.4362 - val_iou_thresholded: 0.5300\n",
      "Epoch 112/200\n",
      "11/11 [==============================] - 10s 934ms/step - loss: 1.6068e-04 - iou: 0.5875 - iou_thresholded: 0.6935 - val_loss: 3.5013e-04 - val_iou: 0.4490 - val_iou_thresholded: 0.5394\n",
      "Epoch 113/200\n",
      "11/11 [==============================] - 10s 928ms/step - loss: 1.3960e-04 - iou: 0.6591 - iou_thresholded: 0.7475 - val_loss: 4.0030e-04 - val_iou: 0.4435 - val_iou_thresholded: 0.5123\n",
      "Epoch 114/200\n",
      "11/11 [==============================] - 10s 930ms/step - loss: 1.5239e-04 - iou: 0.6479 - iou_thresholded: 0.7397 - val_loss: 4.1456e-04 - val_iou: 0.4360 - val_iou_thresholded: 0.5104\n",
      "Epoch 115/200\n",
      "11/11 [==============================] - 10s 935ms/step - loss: 1.4099e-04 - iou: 0.6336 - iou_thresholded: 0.7208 - val_loss: 4.3094e-04 - val_iou: 0.4471 - val_iou_thresholded: 0.5025\n",
      "Epoch 116/200\n",
      "11/11 [==============================] - 10s 933ms/step - loss: 1.4011e-04 - iou: 0.6266 - iou_thresholded: 0.7317 - val_loss: 3.7085e-04 - val_iou: 0.4253 - val_iou_thresholded: 0.5082\n",
      "Epoch 117/200\n",
      "11/11 [==============================] - 10s 930ms/step - loss: 1.4277e-04 - iou: 0.6433 - iou_thresholded: 0.7419 - val_loss: 3.6172e-04 - val_iou: 0.4284 - val_iou_thresholded: 0.5301\n",
      "Epoch 118/200\n",
      "11/11 [==============================] - 10s 930ms/step - loss: 1.4014e-04 - iou: 0.6446 - iou_thresholded: 0.7390 - val_loss: 5.9802e-04 - val_iou: 0.3819 - val_iou_thresholded: 0.4598\n",
      "Epoch 119/200\n",
      "11/11 [==============================] - 10s 928ms/step - loss: 1.4860e-04 - iou: 0.6373 - iou_thresholded: 0.7247 - val_loss: 3.5593e-04 - val_iou: 0.4217 - val_iou_thresholded: 0.5063\n",
      "Epoch 120/200\n",
      "11/11 [==============================] - 10s 934ms/step - loss: 1.3953e-04 - iou: 0.6527 - iou_thresholded: 0.7572 - val_loss: 3.8787e-04 - val_iou: 0.4605 - val_iou_thresholded: 0.5274\n",
      "Epoch 121/200\n",
      "11/11 [==============================] - 11s 1s/step - loss: 1.3313e-04 - iou: 0.6554 - iou_thresholded: 0.7524 - val_loss: 4.4453e-04 - val_iou: 0.4250 - val_iou_thresholded: 0.5100\n",
      "Epoch 122/200\n",
      "11/11 [==============================] - 10s 1s/step - loss: 1.2224e-04 - iou: 0.6792 - iou_thresholded: 0.7694 - val_loss: 4.2490e-04 - val_iou: 0.4467 - val_iou_thresholded: 0.5178\n",
      "Epoch 123/200\n",
      "11/11 [==============================] - 10s 930ms/step - loss: 1.1913e-04 - iou: 0.6675 - iou_thresholded: 0.7571 - val_loss: 5.1706e-04 - val_iou: 0.4285 - val_iou_thresholded: 0.4964\n",
      "Epoch 124/200\n"
     ]
    },
    {
     "name": "stdout",
     "output_type": "stream",
     "text": [
      "11/11 [==============================] - 10s 929ms/step - loss: 1.2187e-04 - iou: 0.6781 - iou_thresholded: 0.7639 - val_loss: 4.6029e-04 - val_iou: 0.4466 - val_iou_thresholded: 0.5071\n",
      "Epoch 125/200\n",
      "11/11 [==============================] - 10s 932ms/step - loss: 1.1849e-04 - iou: 0.6956 - iou_thresholded: 0.7793 - val_loss: 4.0693e-04 - val_iou: 0.4547 - val_iou_thresholded: 0.5220\n",
      "Epoch 126/200\n",
      "11/11 [==============================] - 10s 928ms/step - loss: 1.2361e-04 - iou: 0.6855 - iou_thresholded: 0.7731 - val_loss: 4.3668e-04 - val_iou: 0.4339 - val_iou_thresholded: 0.5042\n",
      "Epoch 127/200\n",
      "11/11 [==============================] - 10s 931ms/step - loss: 1.1330e-04 - iou: 0.6750 - iou_thresholded: 0.7688 - val_loss: 4.1683e-04 - val_iou: 0.4459 - val_iou_thresholded: 0.5120\n",
      "Epoch 128/200\n",
      "11/11 [==============================] - 10s 928ms/step - loss: 1.2246e-04 - iou: 0.6906 - iou_thresholded: 0.7717 - val_loss: 3.3682e-04 - val_iou: 0.4560 - val_iou_thresholded: 0.5344\n",
      "Epoch 129/200\n",
      "11/11 [==============================] - 10s 932ms/step - loss: 1.2307e-04 - iou: 0.6786 - iou_thresholded: 0.7731 - val_loss: 3.9994e-04 - val_iou: 0.4404 - val_iou_thresholded: 0.5009\n",
      "Epoch 130/200\n",
      "11/11 [==============================] - 10s 929ms/step - loss: 1.2263e-04 - iou: 0.6423 - iou_thresholded: 0.7236 - val_loss: 4.1696e-04 - val_iou: 0.4493 - val_iou_thresholded: 0.5051\n",
      "Epoch 131/200\n",
      "11/11 [==============================] - 10s 930ms/step - loss: 1.2173e-04 - iou: 0.6846 - iou_thresholded: 0.7689 - val_loss: 3.7505e-04 - val_iou: 0.4532 - val_iou_thresholded: 0.5211\n",
      "Epoch 132/200\n",
      "11/11 [==============================] - 10s 927ms/step - loss: 1.1383e-04 - iou: 0.6896 - iou_thresholded: 0.7780 - val_loss: 4.2208e-04 - val_iou: 0.4736 - val_iou_thresholded: 0.5305\n",
      "Epoch 133/200\n",
      "11/11 [==============================] - 11s 1s/step - loss: 1.0799e-04 - iou: 0.7084 - iou_thresholded: 0.7884 - val_loss: 3.9836e-04 - val_iou: 0.4587 - val_iou_thresholded: 0.5197\n",
      "Epoch 134/200\n",
      "11/11 [==============================] - 10s 1s/step - loss: 1.0486e-04 - iou: 0.7202 - iou_thresholded: 0.7962 - val_loss: 4.2489e-04 - val_iou: 0.4481 - val_iou_thresholded: 0.5061\n",
      "Epoch 135/200\n",
      "11/11 [==============================] - 10s 929ms/step - loss: 1.0408e-04 - iou: 0.7162 - iou_thresholded: 0.7985 - val_loss: 4.1705e-04 - val_iou: 0.4559 - val_iou_thresholded: 0.5110\n",
      "Epoch 136/200\n",
      "11/11 [==============================] - 10s 930ms/step - loss: 9.7000e-05 - iou: 0.7167 - iou_thresholded: 0.8061 - val_loss: 4.1010e-04 - val_iou: 0.4830 - val_iou_thresholded: 0.5322\n",
      "Epoch 137/200\n",
      "11/11 [==============================] - 10s 929ms/step - loss: 1.1451e-04 - iou: 0.6914 - iou_thresholded: 0.7697 - val_loss: 3.7907e-04 - val_iou: 0.4853 - val_iou_thresholded: 0.5352\n",
      "Epoch 138/200\n",
      "11/11 [==============================] - 10s 932ms/step - loss: 1.1475e-04 - iou: 0.6654 - iou_thresholded: 0.7469 - val_loss: 3.6144e-04 - val_iou: 0.4367 - val_iou_thresholded: 0.5082\n",
      "Epoch 139/200\n",
      "11/11 [==============================] - 10s 929ms/step - loss: 1.0649e-04 - iou: 0.6949 - iou_thresholded: 0.7911 - val_loss: 4.3673e-04 - val_iou: 0.4650 - val_iou_thresholded: 0.5197\n",
      "Epoch 140/200\n",
      "11/11 [==============================] - 10s 928ms/step - loss: 1.0488e-04 - iou: 0.7217 - iou_thresholded: 0.7980 - val_loss: 3.7678e-04 - val_iou: 0.4867 - val_iou_thresholded: 0.5364\n",
      "Epoch 141/200\n",
      "11/11 [==============================] - 10s 928ms/step - loss: 1.0217e-04 - iou: 0.7253 - iou_thresholded: 0.8048 - val_loss: 4.7183e-04 - val_iou: 0.4441 - val_iou_thresholded: 0.4921\n",
      "Epoch 142/200\n",
      "11/11 [==============================] - 10s 934ms/step - loss: 9.9853e-05 - iou: 0.7264 - iou_thresholded: 0.8035 - val_loss: 4.0535e-04 - val_iou: 0.4696 - val_iou_thresholded: 0.5156\n",
      "Epoch 143/200\n",
      "11/11 [==============================] - 10s 933ms/step - loss: 1.0201e-04 - iou: 0.7252 - iou_thresholded: 0.8044 - val_loss: 4.8423e-04 - val_iou: 0.4279 - val_iou_thresholded: 0.4742\n",
      "Epoch 144/200\n",
      "11/11 [==============================] - 10s 931ms/step - loss: 1.0406e-04 - iou: 0.7139 - iou_thresholded: 0.7874 - val_loss: 4.0807e-04 - val_iou: 0.4698 - val_iou_thresholded: 0.5183\n",
      "Epoch 145/200\n",
      "11/11 [==============================] - 11s 1s/step - loss: 1.1164e-04 - iou: 0.7040 - iou_thresholded: 0.7849 - val_loss: 3.6619e-04 - val_iou: 0.4758 - val_iou_thresholded: 0.5305\n",
      "Epoch 146/200\n",
      "11/11 [==============================] - 10s 1s/step - loss: 1.1179e-04 - iou: 0.7088 - iou_thresholded: 0.7894 - val_loss: 4.1728e-04 - val_iou: 0.4914 - val_iou_thresholded: 0.5357\n",
      "Epoch 147/200\n",
      "11/11 [==============================] - 10s 937ms/step - loss: 9.1112e-05 - iou: 0.7479 - iou_thresholded: 0.8302 - val_loss: 3.7361e-04 - val_iou: 0.4688 - val_iou_thresholded: 0.5228\n",
      "Epoch 148/200\n",
      "11/11 [==============================] - 10s 928ms/step - loss: 8.7193e-05 - iou: 0.7205 - iou_thresholded: 0.7991 - val_loss: 4.5280e-04 - val_iou: 0.4680 - val_iou_thresholded: 0.5147\n",
      "Epoch 149/200\n",
      "11/11 [==============================] - 10s 930ms/step - loss: 8.6947e-05 - iou: 0.7314 - iou_thresholded: 0.8141 - val_loss: 4.1352e-04 - val_iou: 0.4802 - val_iou_thresholded: 0.5255\n",
      "Epoch 150/200\n",
      "11/11 [==============================] - 10s 934ms/step - loss: 9.2365e-05 - iou: 0.7496 - iou_thresholded: 0.8111 - val_loss: 4.5820e-04 - val_iou: 0.4676 - val_iou_thresholded: 0.5074\n",
      "Epoch 151/200\n",
      "11/11 [==============================] - 10s 932ms/step - loss: 8.8154e-05 - iou: 0.7367 - iou_thresholded: 0.8085 - val_loss: 5.2718e-04 - val_iou: 0.4456 - val_iou_thresholded: 0.4873\n",
      "Epoch 152/200\n",
      "11/11 [==============================] - 10s 932ms/step - loss: 9.4504e-05 - iou: 0.7351 - iou_thresholded: 0.8126 - val_loss: 4.6515e-04 - val_iou: 0.4478 - val_iou_thresholded: 0.5016\n",
      "Epoch 153/200\n",
      "11/11 [==============================] - 10s 929ms/step - loss: 9.3626e-05 - iou: 0.7474 - iou_thresholded: 0.8191 - val_loss: 4.3159e-04 - val_iou: 0.4671 - val_iou_thresholded: 0.5096\n",
      "Epoch 154/200\n",
      "11/11 [==============================] - 10s 929ms/step - loss: 8.3927e-05 - iou: 0.7623 - iou_thresholded: 0.8342 - val_loss: 3.9276e-04 - val_iou: 0.4711 - val_iou_thresholded: 0.5197\n",
      "Epoch 155/200\n",
      "11/11 [==============================] - 10s 929ms/step - loss: 8.8655e-05 - iou: 0.7423 - iou_thresholded: 0.8196 - val_loss: 4.2566e-04 - val_iou: 0.4862 - val_iou_thresholded: 0.5267\n",
      "Epoch 156/200\n",
      "11/11 [==============================] - 10s 934ms/step - loss: 7.9943e-05 - iou: 0.7580 - iou_thresholded: 0.8364 - val_loss: 4.2344e-04 - val_iou: 0.4824 - val_iou_thresholded: 0.5200\n",
      "Epoch 157/200\n",
      "11/11 [==============================] - 11s 1s/step - loss: 7.6336e-05 - iou: 0.7764 - iou_thresholded: 0.8457 - val_loss: 4.6825e-04 - val_iou: 0.5003 - val_iou_thresholded: 0.5306\n",
      "Epoch 158/200\n",
      "11/11 [==============================] - 10s 1s/step - loss: 7.6857e-05 - iou: 0.7808 - iou_thresholded: 0.8491 - val_loss: 4.9426e-04 - val_iou: 0.4582 - val_iou_thresholded: 0.4923\n",
      "Epoch 159/200\n",
      "11/11 [==============================] - 10s 929ms/step - loss: 7.1859e-05 - iou: 0.7769 - iou_thresholded: 0.8437 - val_loss: 3.9218e-04 - val_iou: 0.5002 - val_iou_thresholded: 0.5358\n",
      "Epoch 160/200\n",
      "11/11 [==============================] - 10s 931ms/step - loss: 7.5299e-05 - iou: 0.7929 - iou_thresholded: 0.8559 - val_loss: 4.8293e-04 - val_iou: 0.4682 - val_iou_thresholded: 0.4966\n",
      "Epoch 161/200\n",
      "11/11 [==============================] - 10s 932ms/step - loss: 7.6601e-05 - iou: 0.7897 - iou_thresholded: 0.8573 - val_loss: 5.1246e-04 - val_iou: 0.4759 - val_iou_thresholded: 0.5041\n",
      "Epoch 162/200\n",
      "11/11 [==============================] - 10s 930ms/step - loss: 7.6407e-05 - iou: 0.7725 - iou_thresholded: 0.8289 - val_loss: 5.2215e-04 - val_iou: 0.4619 - val_iou_thresholded: 0.4926\n",
      "Epoch 163/200\n",
      "11/11 [==============================] - 10s 930ms/step - loss: 7.4706e-05 - iou: 0.7689 - iou_thresholded: 0.8423 - val_loss: 4.4542e-04 - val_iou: 0.4738 - val_iou_thresholded: 0.5120\n",
      "Epoch 164/200\n",
      "11/11 [==============================] - 10s 928ms/step - loss: 6.7801e-05 - iou: 0.8017 - iou_thresholded: 0.8626 - val_loss: 4.7498e-04 - val_iou: 0.5057 - val_iou_thresholded: 0.5367\n",
      "Epoch 165/200\n"
     ]
    },
    {
     "name": "stdout",
     "output_type": "stream",
     "text": [
      "11/11 [==============================] - 10s 933ms/step - loss: 5.9234e-05 - iou: 0.7929 - iou_thresholded: 0.8604 - val_loss: 4.7575e-04 - val_iou: 0.4873 - val_iou_thresholded: 0.5205\n",
      "Epoch 166/200\n",
      "11/11 [==============================] - 10s 931ms/step - loss: 5.9913e-05 - iou: 0.8191 - iou_thresholded: 0.8808 - val_loss: 5.2123e-04 - val_iou: 0.4893 - val_iou_thresholded: 0.5118\n",
      "Epoch 167/200\n",
      "11/11 [==============================] - 10s 930ms/step - loss: 6.2549e-05 - iou: 0.8114 - iou_thresholded: 0.8697 - val_loss: 5.0378e-04 - val_iou: 0.4873 - val_iou_thresholded: 0.5128\n",
      "Epoch 168/200\n",
      "11/11 [==============================] - 10s 928ms/step - loss: 5.9632e-05 - iou: 0.8152 - iou_thresholded: 0.8798 - val_loss: 5.4096e-04 - val_iou: 0.4913 - val_iou_thresholded: 0.5128\n",
      "Epoch 169/200\n",
      "11/11 [==============================] - 11s 1s/step - loss: 5.5352e-05 - iou: 0.8317 - iou_thresholded: 0.8872 - val_loss: 5.4632e-04 - val_iou: 0.4817 - val_iou_thresholded: 0.5032\n",
      "Epoch 170/200\n",
      "11/11 [==============================] - 10s 1s/step - loss: 5.9995e-05 - iou: 0.8211 - iou_thresholded: 0.8769 - val_loss: 5.7856e-04 - val_iou: 0.4951 - val_iou_thresholded: 0.5128\n",
      "Epoch 171/200\n",
      "11/11 [==============================] - 10s 929ms/step - loss: 5.9871e-05 - iou: 0.8262 - iou_thresholded: 0.8792 - val_loss: 5.5722e-04 - val_iou: 0.4935 - val_iou_thresholded: 0.5126\n",
      "Epoch 172/200\n",
      "11/11 [==============================] - 10s 934ms/step - loss: 6.0520e-05 - iou: 0.8098 - iou_thresholded: 0.8715 - val_loss: 5.1186e-04 - val_iou: 0.5053 - val_iou_thresholded: 0.5262\n",
      "Epoch 173/200\n",
      "11/11 [==============================] - 10s 931ms/step - loss: 5.6915e-05 - iou: 0.8309 - iou_thresholded: 0.8853 - val_loss: 5.8753e-04 - val_iou: 0.4934 - val_iou_thresholded: 0.5153\n",
      "Epoch 174/200\n",
      "11/11 [==============================] - 10s 936ms/step - loss: 6.1112e-05 - iou: 0.8246 - iou_thresholded: 0.8824 - val_loss: 5.2912e-04 - val_iou: 0.4941 - val_iou_thresholded: 0.5168\n",
      "Epoch 175/200\n",
      "11/11 [==============================] - 10s 929ms/step - loss: 5.5473e-05 - iou: 0.8206 - iou_thresholded: 0.8747 - val_loss: 5.2918e-04 - val_iou: 0.4916 - val_iou_thresholded: 0.5181\n",
      "Epoch 176/200\n",
      "11/11 [==============================] - 10s 932ms/step - loss: 7.1936e-05 - iou: 0.8281 - iou_thresholded: 0.8801 - val_loss: 4.4289e-04 - val_iou: 0.5197 - val_iou_thresholded: 0.5483\n",
      "Epoch 177/200\n",
      "11/11 [==============================] - 10s 932ms/step - loss: 7.5234e-05 - iou: 0.7857 - iou_thresholded: 0.8400 - val_loss: 4.7632e-04 - val_iou: 0.5201 - val_iou_thresholded: 0.5499\n",
      "Epoch 178/200\n",
      "11/11 [==============================] - 10s 938ms/step - loss: 7.8568e-05 - iou: 0.7886 - iou_thresholded: 0.8500 - val_loss: 4.2958e-04 - val_iou: 0.4762 - val_iou_thresholded: 0.5126\n",
      "Epoch 179/200\n",
      "11/11 [==============================] - 10s 931ms/step - loss: 6.1590e-05 - iou: 0.8074 - iou_thresholded: 0.8753 - val_loss: 4.9921e-04 - val_iou: 0.5095 - val_iou_thresholded: 0.5409\n",
      "Epoch 180/200\n",
      "11/11 [==============================] - 10s 927ms/step - loss: 6.5347e-05 - iou: 0.8215 - iou_thresholded: 0.8814 - val_loss: 5.2059e-04 - val_iou: 0.4994 - val_iou_thresholded: 0.5232\n",
      "Epoch 181/200\n",
      "11/11 [==============================] - 11s 1s/step - loss: 6.1887e-05 - iou: 0.8171 - iou_thresholded: 0.8805 - val_loss: 4.8248e-04 - val_iou: 0.4982 - val_iou_thresholded: 0.5235\n",
      "Epoch 182/200\n",
      "11/11 [==============================] - 10s 1s/step - loss: 5.7631e-05 - iou: 0.8318 - iou_thresholded: 0.8887 - val_loss: 4.8888e-04 - val_iou: 0.5175 - val_iou_thresholded: 0.5380\n",
      "Epoch 183/200\n",
      "11/11 [==============================] - 10s 935ms/step - loss: 1.0014e-04 - iou: 0.7650 - iou_thresholded: 0.8186 - val_loss: 3.5616e-04 - val_iou: 0.5224 - val_iou_thresholded: 0.5631\n",
      "Epoch 184/200\n",
      "11/11 [==============================] - 10s 927ms/step - loss: 8.7401e-05 - iou: 0.7514 - iou_thresholded: 0.8308 - val_loss: 3.4609e-04 - val_iou: 0.4991 - val_iou_thresholded: 0.5506\n",
      "Epoch 185/200\n",
      "11/11 [==============================] - 10s 930ms/step - loss: 8.5965e-05 - iou: 0.7605 - iou_thresholded: 0.8297 - val_loss: 4.3733e-04 - val_iou: 0.4872 - val_iou_thresholded: 0.5280\n",
      "Epoch 186/200\n",
      "11/11 [==============================] - 10s 927ms/step - loss: 7.2576e-05 - iou: 0.7796 - iou_thresholded: 0.8541 - val_loss: 3.6712e-04 - val_iou: 0.5283 - val_iou_thresholded: 0.5669\n",
      "Epoch 187/200\n",
      "11/11 [==============================] - 10s 932ms/step - loss: 6.8494e-05 - iou: 0.8005 - iou_thresholded: 0.8711 - val_loss: 4.6753e-04 - val_iou: 0.5168 - val_iou_thresholded: 0.5457\n",
      "Epoch 188/200\n",
      "11/11 [==============================] - 10s 931ms/step - loss: 5.9336e-05 - iou: 0.8113 - iou_thresholded: 0.8831 - val_loss: 5.1962e-04 - val_iou: 0.5036 - val_iou_thresholded: 0.5292\n",
      "Epoch 189/200\n",
      "11/11 [==============================] - 10s 926ms/step - loss: 5.9647e-05 - iou: 0.8290 - iou_thresholded: 0.8872 - val_loss: 4.7178e-04 - val_iou: 0.4959 - val_iou_thresholded: 0.5247\n",
      "Epoch 190/200\n",
      "11/11 [==============================] - 10s 929ms/step - loss: 6.2814e-05 - iou: 0.8132 - iou_thresholded: 0.8768 - val_loss: 4.5528e-04 - val_iou: 0.5029 - val_iou_thresholded: 0.5287\n",
      "Epoch 191/200\n",
      "11/11 [==============================] - 10s 927ms/step - loss: 5.9744e-05 - iou: 0.8307 - iou_thresholded: 0.8873 - val_loss: 5.0611e-04 - val_iou: 0.4837 - val_iou_thresholded: 0.5124\n",
      "Epoch 192/200\n",
      "11/11 [==============================] - 10s 942ms/step - loss: 5.2585e-05 - iou: 0.8396 - iou_thresholded: 0.8985 - val_loss: 5.1878e-04 - val_iou: 0.5132 - val_iou_thresholded: 0.5338\n",
      "Epoch 193/200\n",
      "11/11 [==============================] - 11s 1s/step - loss: 4.8662e-05 - iou: 0.8509 - iou_thresholded: 0.9062 - val_loss: 5.9843e-04 - val_iou: 0.5085 - val_iou_thresholded: 0.5300\n",
      "Epoch 194/200\n",
      "11/11 [==============================] - 10s 1s/step - loss: 4.7156e-05 - iou: 0.8579 - iou_thresholded: 0.9085 - val_loss: 5.8392e-04 - val_iou: 0.5166 - val_iou_thresholded: 0.5368\n",
      "Epoch 195/200\n",
      "11/11 [==============================] - 10s 929ms/step - loss: 4.3233e-05 - iou: 0.8646 - iou_thresholded: 0.9206 - val_loss: 5.8370e-04 - val_iou: 0.5174 - val_iou_thresholded: 0.5346\n",
      "Epoch 196/200\n",
      "11/11 [==============================] - 10s 938ms/step - loss: 4.1636e-05 - iou: 0.8657 - iou_thresholded: 0.9089 - val_loss: 4.9637e-04 - val_iou: 0.5103 - val_iou_thresholded: 0.5355\n",
      "Epoch 197/200\n",
      "11/11 [==============================] - 10s 931ms/step - loss: 4.7481e-05 - iou: 0.8579 - iou_thresholded: 0.9079 - val_loss: 5.1578e-04 - val_iou: 0.5168 - val_iou_thresholded: 0.5393\n",
      "Epoch 198/200\n",
      "11/11 [==============================] - 10s 927ms/step - loss: 4.1908e-05 - iou: 0.8728 - iou_thresholded: 0.9198 - val_loss: 5.8918e-04 - val_iou: 0.5106 - val_iou_thresholded: 0.5267\n",
      "Epoch 199/200\n",
      "11/11 [==============================] - 10s 929ms/step - loss: 4.2984e-05 - iou: 0.8614 - iou_thresholded: 0.9110 - val_loss: 5.7019e-04 - val_iou: 0.5123 - val_iou_thresholded: 0.5300\n",
      "Epoch 200/200\n",
      "11/11 [==============================] - 10s 933ms/step - loss: 3.8530e-05 - iou: 0.8747 - iou_thresholded: 0.9221 - val_loss: 5.7431e-04 - val_iou: 0.5283 - val_iou_thresholded: 0.5447\n"
     ]
    }
   ],
   "source": [
    "model, history = C.Helper.train_unet(X_train_set, y_train_set, X_val, y_val, model, epochs=200)"
   ]
  },
  {
   "cell_type": "code",
   "execution_count": 25,
   "id": "7bc51703",
   "metadata": {},
   "outputs": [
    {
     "data": {
      "image/png": "[encoded data removed]",
      "text/plain": [
       "<Figure size 864x432 with 1 Axes>"
      ]
     },
     "metadata": {
      "needs_background": "light"
     },
     "output_type": "display_data"
    },
    {
     "data": {
      "image/png": "[encoded data removed]",
      "text/plain": [
       "<Figure size 864x432 with 1 Axes>"
      ]
     },
     "metadata": {
      "needs_background": "light"
     },
     "output_type": "display_data"
    }
   ],
   "source": [
    "C.Helper.visualize_graph(history)"
   ]
  },
  {
   "cell_type": "code",
   "execution_count": 26,
   "id": "2b9f9190",
   "metadata": {},
   "outputs": [],
   "source": [
    "y_pred = C.Helper.prediction(test_images_array, model)"
   ]
  },
  {
   "cell_type": "code",
   "execution_count": 27,
   "id": "85b46673",
   "metadata": {
    "scrolled": true
   },
   "outputs": [
    {
     "data": {
      "image/png": "[encoded data removed]",
      "text/plain": [
       "<Figure size 1152x1440 with 20 Axes>"
      ]
     },
     "metadata": {
      "needs_background": "light"
     },
     "output_type": "display_data"
    }
   ],
   "source": [
    "C.Helper.visualize_result(test_images_array, y_test, y_pred)"
   ]
  },
  {
   "cell_type": "code",
   "execution_count": 28,
   "id": "9a236ee4",
   "metadata": {},
   "outputs": [
    {
     "name": "stdout",
     "output_type": "stream",
     "text": [
      "9/9 [==============================] - 2s 201ms/step - loss: 0.0010 - iou: 0.5307 - iou_thresholded: 0.5442\n"
     ]
    }
   ],
   "source": [
    "C.Helper.evaluate(test_images_array, y_test, model)"
   ]
  },
  {
   "cell_type": "code",
   "execution_count": null,
   "id": "f18f18a7",
   "metadata": {},
   "outputs": [],
   "source": []
  },
  {
   "cell_type": "code",
   "execution_count": null,
   "id": "9633f74e",
   "metadata": {},
   "outputs": [],
   "source": []
  },
  {
   "cell_type": "code",
   "execution_count": null,
   "id": "230dbf69",
   "metadata": {},
   "outputs": [],
   "source": []
  },
  {
   "cell_type": "code",
   "execution_count": null,
   "id": "91bf77f5",
   "metadata": {},
   "outputs": [],
   "source": []
  },
  {
   "cell_type": "code",
   "execution_count": null,
   "id": "5bf8aa51",
   "metadata": {},
   "outputs": [],
   "source": []
  },
  {
   "cell_type": "code",
   "execution_count": null,
   "id": "5e73cc60",
   "metadata": {},
   "outputs": [],
   "source": []
  },
  {
   "cell_type": "code",
   "execution_count": null,
   "id": "da3bb108",
   "metadata": {},
   "outputs": [],
   "source": []
  },
  {
   "cell_type": "code",
   "execution_count": null,
   "id": "2e3df05d",
   "metadata": {},
   "outputs": [],
   "source": []
  }
 ],
 "metadata": {
  "kernelspec": {
   "display_name": "Python 3 (ipykernel)",
   "language": "python",
   "name": "python3"
  },
  "language_info": {
   "codemirror_mode": {
    "name": "ipython",
    "version": 3
   },
   "file_extension": ".py",
   "mimetype": "text/x-python",
   "name": "python",
   "nbconvert_exporter": "python",
   "pygments_lexer": "ipython3",
   "version": "3.9.7"
  }
 },
 "nbformat": 4,
 "nbformat_minor": 5
}
