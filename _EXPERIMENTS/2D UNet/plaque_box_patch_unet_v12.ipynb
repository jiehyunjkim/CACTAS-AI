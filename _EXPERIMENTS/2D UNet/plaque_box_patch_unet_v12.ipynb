{
 "cells": [
  {
   "cell_type": "code",
   "execution_count": 1,
   "id": "5eebebed",
   "metadata": {},
   "outputs": [
    {
     "name": "stdout",
     "output_type": "stream",
     "text": [
      "Populating the interactive namespace from numpy and matplotlib\n"
     ]
    }
   ],
   "source": [
    "%pylab inline\n",
    "%load_ext autoreload\n",
    "%autoreload 2"
   ]
  },
  {
   "cell_type": "code",
   "execution_count": 2,
   "id": "1db43f95",
   "metadata": {},
   "outputs": [],
   "source": [
    "import cactas as C\n",
    "import os\n",
    "import mahotas as mh\n",
    "import nibabel as nib\n",
    "import nrrd\n",
    "import skimage.morphology\n",
    "import cv2\n",
    "from skimage.filters import threshold_otsu"
   ]
  },
  {
   "cell_type": "code",
   "execution_count": 3,
   "id": "3a25db15",
   "metadata": {
    "scrolled": true
   },
   "outputs": [
    {
     "name": "stderr",
     "output_type": "stream",
     "text": [
      "2024-05-13 14:14:41.698599: I tensorflow/stream_executor/platform/default/dso_loader.cc:53] Successfully opened dynamic library libcudart.so.11.0\n"
     ]
    },
    {
     "name": "stdout",
     "output_type": "stream",
     "text": [
      "WARNING:tensorflow:From /tmp/ipykernel_2900115/392601943.py:2: is_gpu_available (from tensorflow.python.framework.test_util) is deprecated and will be removed in a future version.\n",
      "Instructions for updating:\n",
      "Use `tf.config.list_physical_devices('GPU')` instead.\n"
     ]
    },
    {
     "name": "stderr",
     "output_type": "stream",
     "text": [
      "2024-05-13 14:14:44.219427: I tensorflow/core/platform/cpu_feature_guard.cc:142] This TensorFlow binary is optimized with oneAPI Deep Neural Network Library (oneDNN) to use the following CPU instructions in performance-critical operations:  AVX2 FMA\n",
      "To enable them in other operations, rebuild TensorFlow with the appropriate compiler flags.\n",
      "2024-05-13 14:14:44.222033: I tensorflow/stream_executor/platform/default/dso_loader.cc:53] Successfully opened dynamic library libcuda.so.1\n",
      "2024-05-13 14:14:44.601095: I tensorflow/core/common_runtime/gpu/gpu_device.cc:1733] Found device 0 with properties: \n",
      "pciBusID: 0000:07:00.0 name: A100-SXM4-40GB computeCapability: 8.0\n",
      "coreClock: 1.41GHz coreCount: 108 deviceMemorySize: 39.59GiB deviceMemoryBandwidth: 1.41TiB/s\n",
      "2024-05-13 14:14:44.603620: I tensorflow/core/common_runtime/gpu/gpu_device.cc:1733] Found device 1 with properties: \n",
      "pciBusID: 0000:0f:00.0 name: A100-SXM4-40GB computeCapability: 8.0\n",
      "coreClock: 1.41GHz coreCount: 108 deviceMemorySize: 39.59GiB deviceMemoryBandwidth: 1.41TiB/s\n",
      "2024-05-13 14:14:44.603685: I tensorflow/stream_executor/platform/default/dso_loader.cc:53] Successfully opened dynamic library libcudart.so.11.0\n",
      "2024-05-13 14:14:44.636086: I tensorflow/stream_executor/platform/default/dso_loader.cc:53] Successfully opened dynamic library libcublas.so.11\n",
      "2024-05-13 14:14:44.636132: I tensorflow/stream_executor/platform/default/dso_loader.cc:53] Successfully opened dynamic library libcublasLt.so.11\n",
      "2024-05-13 14:14:44.648845: I tensorflow/stream_executor/platform/default/dso_loader.cc:53] Successfully opened dynamic library libcufft.so.10\n",
      "2024-05-13 14:14:44.652545: I tensorflow/stream_executor/platform/default/dso_loader.cc:53] Successfully opened dynamic library libcurand.so.10\n",
      "2024-05-13 14:14:44.655636: I tensorflow/stream_executor/platform/default/dso_loader.cc:53] Successfully opened dynamic library libcusolver.so.11\n",
      "2024-05-13 14:14:44.661633: I tensorflow/stream_executor/platform/default/dso_loader.cc:53] Successfully opened dynamic library libcusparse.so.11\n",
      "2024-05-13 14:14:44.663242: I tensorflow/stream_executor/platform/default/dso_loader.cc:53] Successfully opened dynamic library libcudnn.so.8\n",
      "2024-05-13 14:14:44.673288: I tensorflow/core/common_runtime/gpu/gpu_device.cc:1871] Adding visible gpu devices: 0, 1\n",
      "2024-05-13 14:14:44.673712: I tensorflow/stream_executor/platform/default/dso_loader.cc:53] Successfully opened dynamic library libcudart.so.11.0\n",
      "2024-05-13 14:14:45.653116: I tensorflow/core/common_runtime/gpu/gpu_device.cc:1258] Device interconnect StreamExecutor with strength 1 edge matrix:\n",
      "2024-05-13 14:14:45.653167: I tensorflow/core/common_runtime/gpu/gpu_device.cc:1264]      0 1 \n",
      "2024-05-13 14:14:45.653173: I tensorflow/core/common_runtime/gpu/gpu_device.cc:1277] 0:   N Y \n",
      "2024-05-13 14:14:45.653177: I tensorflow/core/common_runtime/gpu/gpu_device.cc:1277] 1:   Y N \n",
      "2024-05-13 14:14:45.665928: I tensorflow/core/common_runtime/gpu/gpu_device.cc:1418] Created TensorFlow device (/device:GPU:0 with 38425 MB memory) -> physical GPU (device: 0, name: A100-SXM4-40GB, pci bus id: 0000:07:00.0, compute capability: 8.0)\n",
      "2024-05-13 14:14:45.670101: I tensorflow/core/common_runtime/gpu/gpu_device.cc:1418] Created TensorFlow device (/device:GPU:1 with 38425 MB memory) -> physical GPU (device: 1, name: A100-SXM4-40GB, pci bus id: 0000:0f:00.0, compute capability: 8.0)\n"
     ]
    },
    {
     "data": {
      "text/plain": [
       "True"
      ]
     },
     "execution_count": 3,
     "metadata": {},
     "output_type": "execute_result"
    }
   ],
   "source": [
    "import tensorflow as tf\n",
    "gpu_available = tf.test.is_gpu_available()\n",
    "gpu_available"
   ]
  },
  {
   "cell_type": "code",
   "execution_count": null,
   "id": "c7599e1d",
   "metadata": {},
   "outputs": [],
   "source": []
  },
  {
   "cell_type": "code",
   "execution_count": 4,
   "id": "ca9de1bc",
   "metadata": {},
   "outputs": [],
   "source": [
    "DATAPATH='/raid/mpsych/CACTAS/DATA/ESUS'\n",
    "CAPATH='/raid/mpsych/CACTAS/DATA/CA24'"
   ]
  },
  {
   "cell_type": "code",
   "execution_count": null,
   "id": "92be68f5",
   "metadata": {},
   "outputs": [],
   "source": []
  },
  {
   "cell_type": "code",
   "execution_count": 5,
   "id": "c2588b51",
   "metadata": {},
   "outputs": [],
   "source": [
    "images, labels = C.Helper.load_data(DATAPATH)"
   ]
  },
  {
   "cell_type": "code",
   "execution_count": 6,
   "id": "7881f480",
   "metadata": {},
   "outputs": [],
   "source": [
    "masks = C.Helper.load_seg_data(CAPATH)"
   ]
  },
  {
   "cell_type": "code",
   "execution_count": 7,
   "id": "7088d2a3",
   "metadata": {},
   "outputs": [],
   "source": [
    "X_train, y_train, m_train, X_test, y_test, m_test = C.Helper.split_patients_masks(images, labels, masks)"
   ]
  },
  {
   "cell_type": "code",
   "execution_count": 8,
   "id": "c81ee490",
   "metadata": {},
   "outputs": [],
   "source": [
    "X_train, y_train, m_train, X_test, y_test, m_test = C.Helper.normalization2(DATAPATH, CAPATH, X_train, y_train, m_train, X_test, y_test, m_test)"
   ]
  },
  {
   "cell_type": "code",
   "execution_count": 9,
   "id": "b2d8df93",
   "metadata": {},
   "outputs": [],
   "source": [
    "slice_to_patient_mapping, last_key = C.Helper.map_and_key(y_train)"
   ]
  },
  {
   "cell_type": "code",
   "execution_count": 10,
   "id": "d00b1ce9",
   "metadata": {},
   "outputs": [
    {
     "name": "stdout",
     "output_type": "stream",
     "text": [
      "(13391, 512, 512, 1) (13391, 512, 512, 1) (3375, 512, 512, 1) (3375, 512, 512, 1)\n"
     ]
    }
   ],
   "source": [
    "X_train, y_train, X_test, y_test = C.Helper.extract_slices(X_train, y_train, X_test, y_test)"
   ]
  },
  {
   "cell_type": "code",
   "execution_count": 11,
   "id": "4034ad93",
   "metadata": {},
   "outputs": [
    {
     "name": "stdout",
     "output_type": "stream",
     "text": [
      "(13391, 512, 512, 1) (3375, 512, 512, 1)\n"
     ]
    }
   ],
   "source": [
    "m_train, m_test = C.Helper.extract_masks_slices(m_train, m_test)"
   ]
  },
  {
   "cell_type": "code",
   "execution_count": 12,
   "id": "a248045e",
   "metadata": {},
   "outputs": [
    {
     "name": "stdout",
     "output_type": "stream",
     "text": [
      "(524, 512, 512, 1) (524, 512, 512, 1) (524, 512, 512, 1)\n"
     ]
    }
   ],
   "source": [
    "X_train, y_train, m_train = C.Helper.filter_slices(X_train, y_train, m_train)"
   ]
  },
  {
   "cell_type": "code",
   "execution_count": null,
   "id": "c8ffa75e",
   "metadata": {},
   "outputs": [],
   "source": []
  },
  {
   "cell_type": "code",
   "execution_count": 13,
   "id": "4c490d99",
   "metadata": {},
   "outputs": [
    {
     "data": {
      "text/plain": [
       "(dtype('float64'), dtype('float64'), dtype('float64'), dtype('float64'))"
      ]
     },
     "execution_count": 13,
     "metadata": {},
     "output_type": "execute_result"
    }
   ],
   "source": [
    "X_train.dtype, y_train.dtype, X_test.dtype, y_test.dtype"
   ]
  },
  {
   "cell_type": "code",
   "execution_count": 14,
   "id": "580cb6ea",
   "metadata": {},
   "outputs": [
    {
     "data": {
      "text/plain": [
       "dtype('float64')"
      ]
     },
     "execution_count": 14,
     "metadata": {},
     "output_type": "execute_result"
    }
   ],
   "source": [
    "m_train.dtype"
   ]
  },
  {
   "cell_type": "code",
   "execution_count": null,
   "id": "e47b39dd",
   "metadata": {},
   "outputs": [],
   "source": []
  },
  {
   "cell_type": "code",
   "execution_count": 15,
   "id": "3692ec60",
   "metadata": {},
   "outputs": [],
   "source": [
    "train_masks=[]\n",
    "for i in range(len(m_train)):\n",
    "    binary = (m_train[i] > 0).astype(np.uint8)\n",
    "    train_masks.append(binary)"
   ]
  },
  {
   "cell_type": "code",
   "execution_count": 16,
   "id": "28b56250",
   "metadata": {},
   "outputs": [],
   "source": [
    "train_images=[]\n",
    "for i in range(len(X_train)):\n",
    "    train_image = X_train[i] * train_masks[i]\n",
    "    train_images.append(train_image)\n",
    "train_images_array = np.array(train_images)"
   ]
  },
  {
   "cell_type": "code",
   "execution_count": 17,
   "id": "1a7a746e",
   "metadata": {},
   "outputs": [],
   "source": [
    "#train_images_array = train_images_array.astype(np.float32)"
   ]
  },
  {
   "cell_type": "code",
   "execution_count": 18,
   "id": "02a618b7",
   "metadata": {},
   "outputs": [],
   "source": [
    "train_images_array = train_images_array.reshape(train_images_array.shape[0], train_images_array.shape[1],train_images_array.shape[2], 1)"
   ]
  },
  {
   "cell_type": "code",
   "execution_count": null,
   "id": "050bc38c",
   "metadata": {},
   "outputs": [],
   "source": []
  },
  {
   "cell_type": "code",
   "execution_count": 19,
   "id": "092f608d",
   "metadata": {
    "scrolled": true
   },
   "outputs": [],
   "source": [
    "# for i in range(10, 20):\n",
    "#     plt.imshow(train_images[i])\n",
    "#     plt.show()"
   ]
  },
  {
   "cell_type": "code",
   "execution_count": 20,
   "id": "bc55e9be",
   "metadata": {},
   "outputs": [],
   "source": [
    "# for i in range(10, 20):\n",
    "#     plt.imshow(train_images[i])\n",
    "#     plt.imshow(y_train[i], cmap='gray', alpha=0.5)\n",
    "#     plt.show()"
   ]
  },
  {
   "cell_type": "code",
   "execution_count": 21,
   "id": "67fbfaa8",
   "metadata": {},
   "outputs": [],
   "source": [
    "# fig, axes = plt.subplots(1, 3, figsize=(15, 5))\n",
    "# axes[0].imshow(X_train[10], vmin=0, vmax=1)\n",
    "# axes[0].set_title('Original Image')\n",
    "# axes[1].imshow(train_masks[10])\n",
    "# axes[1].set_title('Mask')\n",
    "# axes[2].imshow(train_images[10])\n",
    "# axes[2].set_title('Processed Image')\n",
    "# plt.show()"
   ]
  },
  {
   "cell_type": "code",
   "execution_count": null,
   "id": "7edf63e4",
   "metadata": {},
   "outputs": [],
   "source": []
  },
  {
   "cell_type": "code",
   "execution_count": 22,
   "id": "3a3d4f47",
   "metadata": {},
   "outputs": [],
   "source": [
    "test_masks=[]\n",
    "for i in range(len(m_test)):\n",
    "    binary = (m_test[i] > 0).astype(np.uint8)\n",
    "    test_masks.append(binary)"
   ]
  },
  {
   "cell_type": "code",
   "execution_count": 23,
   "id": "c08c1bc9",
   "metadata": {},
   "outputs": [],
   "source": [
    "test_images=[]\n",
    "for i in range(len(X_test)):\n",
    "    test_image = X_test[i] * test_masks[i]\n",
    "    test_images.append(test_image)\n",
    "test_images_array = np.array(test_images)"
   ]
  },
  {
   "cell_type": "code",
   "execution_count": 24,
   "id": "229a751d",
   "metadata": {},
   "outputs": [],
   "source": [
    "#test_images_array = test_images_array.astype(np.float32)"
   ]
  },
  {
   "cell_type": "code",
   "execution_count": 25,
   "id": "9ef54dea",
   "metadata": {},
   "outputs": [],
   "source": [
    "test_images_array = test_images_array.reshape(test_images_array.shape[0], test_images_array.shape[1],test_images_array.shape[2], 1)"
   ]
  },
  {
   "cell_type": "code",
   "execution_count": 26,
   "id": "7d9bea09",
   "metadata": {},
   "outputs": [],
   "source": [
    "X_train_set = train_images_array[:last_key]\n",
    "y_train_set = y_train[:last_key]\n",
    "X_val = train_images_array[last_key:]\n",
    "y_val = y_train[last_key:]"
   ]
  },
  {
   "cell_type": "code",
   "execution_count": 27,
   "id": "c8fa2e3f",
   "metadata": {},
   "outputs": [],
   "source": [
    "#y_train_set = y_train_set.astype(np.float32)"
   ]
  },
  {
   "cell_type": "code",
   "execution_count": 28,
   "id": "91252364",
   "metadata": {},
   "outputs": [],
   "source": [
    "#y_val = y_val.astype(np.float32)"
   ]
  },
  {
   "cell_type": "code",
   "execution_count": null,
   "id": "c43945a0",
   "metadata": {},
   "outputs": [],
   "source": []
  },
  {
   "cell_type": "code",
   "execution_count": 29,
   "id": "51c08514",
   "metadata": {},
   "outputs": [
    {
     "data": {
      "text/plain": [
       "(dtype('float64'), dtype('float64'))"
      ]
     },
     "execution_count": 29,
     "metadata": {},
     "output_type": "execute_result"
    }
   ],
   "source": [
    "X_train_set.dtype, y_train_set.dtype"
   ]
  },
  {
   "cell_type": "code",
   "execution_count": 30,
   "id": "4634bb57",
   "metadata": {},
   "outputs": [
    {
     "data": {
      "text/plain": [
       "(dtype('float64'), dtype('float64'))"
      ]
     },
     "execution_count": 30,
     "metadata": {},
     "output_type": "execute_result"
    }
   ],
   "source": [
    "X_val.dtype, y_val.dtype"
   ]
  },
  {
   "cell_type": "code",
   "execution_count": 31,
   "id": "11ff5f34",
   "metadata": {},
   "outputs": [
    {
     "data": {
      "text/plain": [
       "(dtype('float64'), dtype('float64'))"
      ]
     },
     "execution_count": 31,
     "metadata": {},
     "output_type": "execute_result"
    }
   ],
   "source": [
    "test_images_array.dtype, y_test.dtype"
   ]
  },
  {
   "cell_type": "code",
   "execution_count": 32,
   "id": "a4b42641",
   "metadata": {},
   "outputs": [
    {
     "data": {
      "text/plain": [
       "((122, 512, 512, 1), (122, 512, 512, 1))"
      ]
     },
     "execution_count": 32,
     "metadata": {},
     "output_type": "execute_result"
    }
   ],
   "source": [
    "X_val.shape, y_val.shape"
   ]
  },
  {
   "cell_type": "code",
   "execution_count": null,
   "id": "f0250dc1",
   "metadata": {},
   "outputs": [],
   "source": []
  },
  {
   "cell_type": "code",
   "execution_count": null,
   "id": "34dd6c88",
   "metadata": {},
   "outputs": [],
   "source": []
  },
  {
   "cell_type": "code",
   "execution_count": 33,
   "id": "c001a494",
   "metadata": {
    "scrolled": true
   },
   "outputs": [
    {
     "name": "stdout",
     "output_type": "stream",
     "text": [
      "-----------------------------------------\n",
      "keras-unet init: TF version is >= 2.0.0 - using `tf.keras` instead of `Keras`\n",
      "-----------------------------------------\n"
     ]
    },
    {
     "name": "stderr",
     "output_type": "stream",
     "text": [
      "2024-05-13 14:17:57.165547: I tensorflow/core/common_runtime/gpu/gpu_device.cc:1733] Found device 0 with properties: \n",
      "pciBusID: 0000:07:00.0 name: A100-SXM4-40GB computeCapability: 8.0\n",
      "coreClock: 1.41GHz coreCount: 108 deviceMemorySize: 39.59GiB deviceMemoryBandwidth: 1.41TiB/s\n",
      "2024-05-13 14:17:57.168106: I tensorflow/core/common_runtime/gpu/gpu_device.cc:1733] Found device 1 with properties: \n",
      "pciBusID: 0000:0f:00.0 name: A100-SXM4-40GB computeCapability: 8.0\n",
      "coreClock: 1.41GHz coreCount: 108 deviceMemorySize: 39.59GiB deviceMemoryBandwidth: 1.41TiB/s\n",
      "2024-05-13 14:17:57.177958: I tensorflow/core/common_runtime/gpu/gpu_device.cc:1871] Adding visible gpu devices: 0, 1\n",
      "2024-05-13 14:17:57.180908: I tensorflow/core/common_runtime/gpu/gpu_device.cc:1733] Found device 0 with properties: \n",
      "pciBusID: 0000:07:00.0 name: A100-SXM4-40GB computeCapability: 8.0\n",
      "coreClock: 1.41GHz coreCount: 108 deviceMemorySize: 39.59GiB deviceMemoryBandwidth: 1.41TiB/s\n",
      "2024-05-13 14:17:57.183430: I tensorflow/core/common_runtime/gpu/gpu_device.cc:1733] Found device 1 with properties: \n",
      "pciBusID: 0000:0f:00.0 name: A100-SXM4-40GB computeCapability: 8.0\n",
      "coreClock: 1.41GHz coreCount: 108 deviceMemorySize: 39.59GiB deviceMemoryBandwidth: 1.41TiB/s\n",
      "2024-05-13 14:17:57.197829: I tensorflow/core/common_runtime/gpu/gpu_device.cc:1871] Adding visible gpu devices: 0, 1\n",
      "2024-05-13 14:17:57.197886: I tensorflow/core/common_runtime/gpu/gpu_device.cc:1258] Device interconnect StreamExecutor with strength 1 edge matrix:\n",
      "2024-05-13 14:17:57.197891: I tensorflow/core/common_runtime/gpu/gpu_device.cc:1264]      0 1 \n",
      "2024-05-13 14:17:57.197895: I tensorflow/core/common_runtime/gpu/gpu_device.cc:1277] 0:   N Y \n",
      "2024-05-13 14:17:57.197899: I tensorflow/core/common_runtime/gpu/gpu_device.cc:1277] 1:   Y N \n",
      "2024-05-13 14:17:57.205332: I tensorflow/core/common_runtime/gpu/gpu_device.cc:1418] Created TensorFlow device (/job:localhost/replica:0/task:0/device:GPU:0 with 38425 MB memory) -> physical GPU (device: 0, name: A100-SXM4-40GB, pci bus id: 0000:07:00.0, compute capability: 8.0)\n",
      "2024-05-13 14:17:57.207822: I tensorflow/core/common_runtime/gpu/gpu_device.cc:1418] Created TensorFlow device (/job:localhost/replica:0/task:0/device:GPU:1 with 38425 MB memory) -> physical GPU (device: 1, name: A100-SXM4-40GB, pci bus id: 0000:0f:00.0, compute capability: 8.0)\n"
     ]
    }
   ],
   "source": [
    "model = C.Helper.create_unet(X_train_set[0].shape)"
   ]
  },
  {
   "cell_type": "code",
   "execution_count": 34,
   "id": "f889cdd0",
   "metadata": {
    "scrolled": true
   },
   "outputs": [
    {
     "name": "stderr",
     "output_type": "stream",
     "text": [
      "2024-05-13 14:17:58.247381: I tensorflow/compiler/mlir/mlir_graph_optimization_pass.cc:176] None of the MLIR Optimization Passes are enabled (registered 2)\n",
      "2024-05-13 14:17:58.266770: I tensorflow/core/platform/profile_utils/cpu_utils.cc:114] CPU Frequency: 2245740000 Hz\n"
     ]
    },
    {
     "name": "stdout",
     "output_type": "stream",
     "text": [
      "Epoch 1/200\n"
     ]
    },
    {
     "name": "stderr",
     "output_type": "stream",
     "text": [
      "2024-05-13 14:17:59.607818: I tensorflow/stream_executor/platform/default/dso_loader.cc:53] Successfully opened dynamic library libcudnn.so.8\n",
      "2024-05-13 14:18:00.485035: I tensorflow/stream_executor/cuda/cuda_dnn.cc:359] Loaded cuDNN version 8201\n",
      "2024-05-13 14:18:01.641123: W tensorflow/stream_executor/gpu/asm_compiler.cc:191] Falling back to the CUDA driver for PTX compilation; ptxas does not support CC 8.0\n",
      "2024-05-13 14:18:01.641148: W tensorflow/stream_executor/gpu/asm_compiler.cc:194] Used ptxas at ptxas\n",
      "2024-05-13 14:18:01.641492: W tensorflow/stream_executor/gpu/redzone_allocator.cc:314] Unimplemented: ptxas ptxas too old. Falling back to the driver to compile.\n",
      "Relying on driver to perform ptx compilation. \n",
      "Modify $PATH to customize ptxas location.\n",
      "This message will be only logged once.\n",
      "2024-05-13 14:18:01.734996: I tensorflow/stream_executor/platform/default/dso_loader.cc:53] Successfully opened dynamic library libcublas.so.11\n",
      "2024-05-13 14:18:02.898603: I tensorflow/stream_executor/platform/default/dso_loader.cc:53] Successfully opened dynamic library libcublasLt.so.11\n",
      "2024-05-13 14:18:12.413398: W tensorflow/core/common_runtime/bfc_allocator.cc:271] Allocator (GPU_0_bfc) ran out of memory trying to allocate 4.02GiB with freed_by_count=0. The caller indicates that this is not a failure, but may mean that there could be performance gains if more memory were available.\n",
      "2024-05-13 14:18:12.413708: W tensorflow/core/kernels/gpu_utils.cc:49] Failed to allocate memory for convolution redzone checking; skipping this check. This is benign and only means that we won't check cudnn for out-of-bounds reads and writes. This message will only be printed once.\n"
     ]
    },
    {
     "name": "stdout",
     "output_type": "stream",
     "text": [
      "12/12 [==============================] - 43s 2s/step - loss: 0.5057 - iou: 1.5903e-04 - iou_thresholded: 6.9928e-04 - val_loss: 0.0817 - val_iou: 7.7201e-04 - val_iou_thresholded: 7.7659e-04\n",
      "Epoch 2/200\n",
      "12/12 [==============================] - 24s 1s/step - loss: 0.0158 - iou: 4.5467e-04 - iou_thresholded: 8.5709e-04 - val_loss: 0.0020 - val_iou: 6.1099e-04 - val_iou_thresholded: 7.7659e-04\n",
      "Epoch 3/200\n",
      "12/12 [==============================] - 12s 977ms/step - loss: 0.0014 - iou: 0.0023 - iou_thresholded: 7.8471e-04 - val_loss: 0.0022 - val_iou: 0.0059 - val_iou_thresholded: 7.7659e-04\n",
      "Epoch 4/200\n",
      "12/12 [==============================] - 12s 980ms/step - loss: 9.9486e-04 - iou: 0.0078 - iou_thresholded: 8.2399e-04 - val_loss: 0.0020 - val_iou: 0.0101 - val_iou_thresholded: 7.7659e-04\n",
      "Epoch 5/200\n",
      "12/12 [==============================] - 12s 978ms/step - loss: 9.6234e-04 - iou: 0.0096 - iou_thresholded: 8.5502e-04 - val_loss: 0.0018 - val_iou: 0.0131 - val_iou_thresholded: 7.7659e-04\n",
      "Epoch 6/200\n",
      "12/12 [==============================] - 12s 980ms/step - loss: 0.0010 - iou: 0.0099 - iou_thresholded: 7.8859e-04 - val_loss: 0.0022 - val_iou: 0.0121 - val_iou_thresholded: 7.7659e-04\n",
      "Epoch 7/200\n",
      "12/12 [==============================] - 12s 981ms/step - loss: 9.2386e-04 - iou: 0.0125 - iou_thresholded: 8.1235e-04 - val_loss: 0.0018 - val_iou: 0.0188 - val_iou_thresholded: 7.7659e-04\n",
      "Epoch 8/200\n",
      "12/12 [==============================] - 12s 980ms/step - loss: 8.7184e-04 - iou: 0.0139 - iou_thresholded: 8.9002e-04 - val_loss: 0.0017 - val_iou: 0.0153 - val_iou_thresholded: 7.7659e-04\n",
      "Epoch 9/200\n",
      "12/12 [==============================] - 12s 981ms/step - loss: 8.3784e-04 - iou: 0.0163 - iou_thresholded: 8.7976e-04 - val_loss: 0.0016 - val_iou: 0.0225 - val_iou_thresholded: 7.7659e-04\n",
      "Epoch 10/200\n",
      "12/12 [==============================] - 12s 980ms/step - loss: 8.2318e-04 - iou: 0.0204 - iou_thresholded: 8.1814e-04 - val_loss: 0.0017 - val_iou: 0.0255 - val_iou_thresholded: 7.7659e-04\n",
      "Epoch 11/200\n",
      "12/12 [==============================] - 12s 980ms/step - loss: 8.1189e-04 - iou: 0.0243 - iou_thresholded: 7.9577e-04 - val_loss: 0.0017 - val_iou: 0.0337 - val_iou_thresholded: 7.7659e-04\n",
      "Epoch 12/200\n",
      "12/12 [==============================] - 12s 987ms/step - loss: 7.3535e-04 - iou: 0.0372 - iou_thresholded: 0.0011 - val_loss: 0.0014 - val_iou: 0.0407 - val_iou_thresholded: 0.0013\n",
      "Epoch 13/200\n",
      "12/12 [==============================] - 12s 981ms/step - loss: 7.6093e-04 - iou: 0.0466 - iou_thresholded: 0.0138 - val_loss: 0.0014 - val_iou: 0.0308 - val_iou_thresholded: 7.7659e-04\n",
      "Epoch 14/200\n",
      "12/12 [==============================] - 12s 1s/step - loss: 8.1117e-04 - iou: 0.0380 - iou_thresholded: 0.0132 - val_loss: 0.0013 - val_iou: 0.0271 - val_iou_thresholded: 7.7659e-04\n",
      "Epoch 15/200\n",
      "12/12 [==============================] - 12s 1s/step - loss: 7.8211e-04 - iou: 0.0301 - iou_thresholded: 0.0048 - val_loss: 0.0018 - val_iou: 0.0302 - val_iou_thresholded: 0.0102\n",
      "Epoch 16/200\n",
      "12/12 [==============================] - 12s 976ms/step - loss: 6.9330e-04 - iou: 0.0587 - iou_thresholded: 0.0201 - val_loss: 0.0013 - val_iou: 0.0595 - val_iou_thresholded: 0.0269\n",
      "Epoch 17/200\n",
      "12/12 [==============================] - 12s 975ms/step - loss: 6.0451e-04 - iou: 0.0667 - iou_thresholded: 0.0497 - val_loss: 0.0015 - val_iou: 0.0609 - val_iou_thresholded: 0.1945\n",
      "Epoch 18/200\n",
      "12/12 [==============================] - 12s 976ms/step - loss: 6.7928e-04 - iou: 0.0871 - iou_thresholded: 0.1040 - val_loss: 0.0012 - val_iou: 0.0762 - val_iou_thresholded: 0.1213\n",
      "Epoch 19/200\n",
      "12/12 [==============================] - 12s 980ms/step - loss: 5.7947e-04 - iou: 0.1027 - iou_thresholded: 0.1289 - val_loss: 0.0013 - val_iou: 0.0786 - val_iou_thresholded: 0.2045\n",
      "Epoch 20/200\n",
      "12/12 [==============================] - 12s 975ms/step - loss: 6.0294e-04 - iou: 0.1157 - iou_thresholded: 0.1621 - val_loss: 0.0012 - val_iou: 0.0978 - val_iou_thresholded: 0.1077\n",
      "Epoch 21/200\n",
      "12/12 [==============================] - 12s 975ms/step - loss: 5.8931e-04 - iou: 0.1241 - iou_thresholded: 0.1756 - val_loss: 0.0013 - val_iou: 0.0950 - val_iou_thresholded: 0.2422\n",
      "Epoch 22/200\n",
      "12/12 [==============================] - 12s 975ms/step - loss: 5.2751e-04 - iou: 0.1628 - iou_thresholded: 0.2404 - val_loss: 0.0013 - val_iou: 0.1041 - val_iou_thresholded: 0.2445\n",
      "Epoch 23/200\n",
      "12/12 [==============================] - 12s 976ms/step - loss: 5.5059e-04 - iou: 0.1506 - iou_thresholded: 0.2261 - val_loss: 0.0016 - val_iou: 0.0760 - val_iou_thresholded: 0.2118\n",
      "Epoch 24/200\n",
      "12/12 [==============================] - 12s 976ms/step - loss: 5.0754e-04 - iou: 0.1762 - iou_thresholded: 0.2687 - val_loss: 0.0013 - val_iou: 0.1193 - val_iou_thresholded: 0.2829\n",
      "Epoch 25/200\n",
      "12/12 [==============================] - 12s 974ms/step - loss: 5.1223e-04 - iou: 0.2048 - iou_thresholded: 0.3033 - val_loss: 0.0012 - val_iou: 0.1542 - val_iou_thresholded: 0.2742\n",
      "Epoch 26/200\n",
      "12/12 [==============================] - 12s 976ms/step - loss: 4.8874e-04 - iou: 0.1905 - iou_thresholded: 0.2759 - val_loss: 0.0012 - val_iou: 0.1235 - val_iou_thresholded: 0.3278\n",
      "Epoch 27/200\n",
      "12/12 [==============================] - 12s 1s/step - loss: 5.1477e-04 - iou: 0.1857 - iou_thresholded: 0.2670 - val_loss: 0.0020 - val_iou: 0.0673 - val_iou_thresholded: 0.1904\n",
      "Epoch 28/200\n",
      "12/12 [==============================] - 12s 1s/step - loss: 4.7829e-04 - iou: 0.1949 - iou_thresholded: 0.2933 - val_loss: 0.0013 - val_iou: 0.1329 - val_iou_thresholded: 0.3108\n",
      "Epoch 29/200\n",
      "12/12 [==============================] - 12s 980ms/step - loss: 4.8033e-04 - iou: 0.2244 - iou_thresholded: 0.3335 - val_loss: 0.0014 - val_iou: 0.1432 - val_iou_thresholded: 0.2570\n",
      "Epoch 30/200\n",
      "12/12 [==============================] - 12s 976ms/step - loss: 4.3719e-04 - iou: 0.2348 - iou_thresholded: 0.3605 - val_loss: 0.0011 - val_iou: 0.1715 - val_iou_thresholded: 0.3150\n",
      "Epoch 31/200\n",
      "12/12 [==============================] - 12s 976ms/step - loss: 4.5398e-04 - iou: 0.2429 - iou_thresholded: 0.3542 - val_loss: 0.0012 - val_iou: 0.1705 - val_iou_thresholded: 0.3509\n",
      "Epoch 32/200\n",
      "12/12 [==============================] - 12s 976ms/step - loss: 4.0733e-04 - iou: 0.2626 - iou_thresholded: 0.3848 - val_loss: 0.0012 - val_iou: 0.2032 - val_iou_thresholded: 0.3747\n",
      "Epoch 33/200\n",
      "12/12 [==============================] - 12s 975ms/step - loss: 4.2181e-04 - iou: 0.2482 - iou_thresholded: 0.3763 - val_loss: 0.0011 - val_iou: 0.1685 - val_iou_thresholded: 0.3410\n",
      "Epoch 34/200\n",
      "12/12 [==============================] - 12s 978ms/step - loss: 4.1190e-04 - iou: 0.2838 - iou_thresholded: 0.4122 - val_loss: 0.0011 - val_iou: 0.1853 - val_iou_thresholded: 0.3710\n",
      "Epoch 35/200\n",
      "12/12 [==============================] - 12s 975ms/step - loss: 4.1127e-04 - iou: 0.2868 - iou_thresholded: 0.4110 - val_loss: 0.0011 - val_iou: 0.1932 - val_iou_thresholded: 0.3833\n",
      "Epoch 36/200\n",
      "12/12 [==============================] - 12s 975ms/step - loss: 4.0959e-04 - iou: 0.2752 - iou_thresholded: 0.4030 - val_loss: 0.0012 - val_iou: 0.2116 - val_iou_thresholded: 0.3809\n",
      "Epoch 37/200\n",
      "12/12 [==============================] - 12s 976ms/step - loss: 4.0840e-04 - iou: 0.2832 - iou_thresholded: 0.4140 - val_loss: 0.0011 - val_iou: 0.1839 - val_iou_thresholded: 0.3649\n",
      "Epoch 38/200\n",
      "12/12 [==============================] - 12s 975ms/step - loss: 3.7129e-04 - iou: 0.3017 - iou_thresholded: 0.4379 - val_loss: 0.0010 - val_iou: 0.2236 - val_iou_thresholded: 0.3991\n",
      "Epoch 39/200\n",
      "12/12 [==============================] - 12s 977ms/step - loss: 3.7173e-04 - iou: 0.3272 - iou_thresholded: 0.4651 - val_loss: 0.0012 - val_iou: 0.1848 - val_iou_thresholded: 0.4144\n",
      "Epoch 40/200\n",
      "12/12 [==============================] - 12s 1s/step - loss: 3.7839e-04 - iou: 0.3055 - iou_thresholded: 0.4534 - val_loss: 8.7684e-04 - val_iou: 0.2707 - val_iou_thresholded: 0.4070\n",
      "Epoch 41/200\n",
      "12/12 [==============================] - 12s 1s/step - loss: 3.5932e-04 - iou: 0.3336 - iou_thresholded: 0.4555 - val_loss: 0.0011 - val_iou: 0.1848 - val_iou_thresholded: 0.3757\n",
      "Epoch 42/200\n",
      "12/12 [==============================] - 12s 976ms/step - loss: 3.3325e-04 - iou: 0.3459 - iou_thresholded: 0.5024 - val_loss: 0.0011 - val_iou: 0.2453 - val_iou_thresholded: 0.3749\n"
     ]
    },
    {
     "name": "stdout",
     "output_type": "stream",
     "text": [
      "Epoch 43/200\n",
      "12/12 [==============================] - 12s 973ms/step - loss: 3.5951e-04 - iou: 0.3202 - iou_thresholded: 0.4526 - val_loss: 9.9584e-04 - val_iou: 0.2334 - val_iou_thresholded: 0.4410\n",
      "Epoch 44/200\n",
      "12/12 [==============================] - 12s 974ms/step - loss: 3.4839e-04 - iou: 0.3542 - iou_thresholded: 0.4893 - val_loss: 9.2237e-04 - val_iou: 0.2825 - val_iou_thresholded: 0.4510\n",
      "Epoch 45/200\n",
      "12/12 [==============================] - 12s 976ms/step - loss: 3.4572e-04 - iou: 0.3310 - iou_thresholded: 0.4799 - val_loss: 0.0011 - val_iou: 0.2278 - val_iou_thresholded: 0.3832\n",
      "Epoch 46/200\n",
      "12/12 [==============================] - 12s 978ms/step - loss: 3.5326e-04 - iou: 0.3423 - iou_thresholded: 0.4777 - val_loss: 0.0010 - val_iou: 0.2774 - val_iou_thresholded: 0.4590\n",
      "Epoch 47/200\n",
      "12/12 [==============================] - 12s 975ms/step - loss: 3.1958e-04 - iou: 0.3706 - iou_thresholded: 0.5248 - val_loss: 0.0010 - val_iou: 0.2755 - val_iou_thresholded: 0.4433\n",
      "Epoch 48/200\n",
      "12/12 [==============================] - 12s 975ms/step - loss: 3.3635e-04 - iou: 0.3678 - iou_thresholded: 0.5018 - val_loss: 9.6287e-04 - val_iou: 0.2583 - val_iou_thresholded: 0.4413\n",
      "Epoch 49/200\n",
      "12/12 [==============================] - 12s 975ms/step - loss: 3.2152e-04 - iou: 0.3570 - iou_thresholded: 0.5034 - val_loss: 9.9053e-04 - val_iou: 0.3097 - val_iou_thresholded: 0.4689\n",
      "Epoch 50/200\n",
      "12/12 [==============================] - 12s 976ms/step - loss: 3.1850e-04 - iou: 0.3689 - iou_thresholded: 0.5120 - val_loss: 9.8004e-04 - val_iou: 0.2891 - val_iou_thresholded: 0.4952\n",
      "Epoch 51/200\n",
      "12/12 [==============================] - 12s 975ms/step - loss: 3.1079e-04 - iou: 0.3949 - iou_thresholded: 0.5368 - val_loss: 0.0011 - val_iou: 0.2367 - val_iou_thresholded: 0.4041\n",
      "Epoch 52/200\n",
      "12/12 [==============================] - 12s 977ms/step - loss: 3.5365e-04 - iou: 0.3545 - iou_thresholded: 0.4856 - val_loss: 0.0011 - val_iou: 0.2051 - val_iou_thresholded: 0.4456\n",
      "Epoch 53/200\n",
      "12/12 [==============================] - 12s 1s/step - loss: 3.2522e-04 - iou: 0.3544 - iou_thresholded: 0.5007 - val_loss: 9.9755e-04 - val_iou: 0.2515 - val_iou_thresholded: 0.4584\n",
      "Epoch 54/200\n",
      "12/12 [==============================] - 12s 1s/step - loss: 3.1898e-04 - iou: 0.3739 - iou_thresholded: 0.5273 - val_loss: 9.7114e-04 - val_iou: 0.3132 - val_iou_thresholded: 0.4800\n",
      "Epoch 55/200\n",
      "12/12 [==============================] - 12s 975ms/step - loss: 3.2305e-04 - iou: 0.3892 - iou_thresholded: 0.5286 - val_loss: 8.8647e-04 - val_iou: 0.2904 - val_iou_thresholded: 0.5008\n",
      "Epoch 56/200\n",
      "12/12 [==============================] - 12s 975ms/step - loss: 3.0992e-04 - iou: 0.3879 - iou_thresholded: 0.5275 - val_loss: 0.0010 - val_iou: 0.2741 - val_iou_thresholded: 0.4939\n",
      "Epoch 57/200\n",
      "12/12 [==============================] - 12s 975ms/step - loss: 2.9016e-04 - iou: 0.3955 - iou_thresholded: 0.5320 - val_loss: 9.2408e-04 - val_iou: 0.2800 - val_iou_thresholded: 0.5023\n",
      "Epoch 58/200\n",
      "12/12 [==============================] - 12s 976ms/step - loss: 3.1160e-04 - iou: 0.3973 - iou_thresholded: 0.5608 - val_loss: 9.2226e-04 - val_iou: 0.3413 - val_iou_thresholded: 0.4858\n",
      "Epoch 59/200\n",
      "12/12 [==============================] - 12s 978ms/step - loss: 3.0735e-04 - iou: 0.3773 - iou_thresholded: 0.5097 - val_loss: 9.2101e-04 - val_iou: 0.3180 - val_iou_thresholded: 0.5077\n",
      "Epoch 60/200\n",
      "12/12 [==============================] - 12s 974ms/step - loss: 2.7733e-04 - iou: 0.4195 - iou_thresholded: 0.5582 - val_loss: 0.0010 - val_iou: 0.2782 - val_iou_thresholded: 0.5069\n",
      "Epoch 61/200\n",
      "12/12 [==============================] - 12s 975ms/step - loss: 2.9355e-04 - iou: 0.3987 - iou_thresholded: 0.5516 - val_loss: 8.4873e-04 - val_iou: 0.3524 - val_iou_thresholded: 0.5151\n",
      "Epoch 62/200\n",
      "12/12 [==============================] - 12s 975ms/step - loss: 2.5288e-04 - iou: 0.4312 - iou_thresholded: 0.5700 - val_loss: 9.4402e-04 - val_iou: 0.3531 - val_iou_thresholded: 0.5223\n",
      "Epoch 63/200\n",
      "12/12 [==============================] - 12s 978ms/step - loss: 2.9495e-04 - iou: 0.4217 - iou_thresholded: 0.5603 - val_loss: 9.1285e-04 - val_iou: 0.3648 - val_iou_thresholded: 0.5305\n",
      "Epoch 64/200\n",
      "12/12 [==============================] - 12s 974ms/step - loss: 2.8768e-04 - iou: 0.4354 - iou_thresholded: 0.5724 - val_loss: 8.8471e-04 - val_iou: 0.3147 - val_iou_thresholded: 0.5314\n",
      "Epoch 65/200\n",
      "12/12 [==============================] - 12s 977ms/step - loss: 2.5680e-04 - iou: 0.4363 - iou_thresholded: 0.5831 - val_loss: 9.1454e-04 - val_iou: 0.3380 - val_iou_thresholded: 0.5319\n",
      "Epoch 66/200\n",
      "12/12 [==============================] - 12s 1s/step - loss: 2.6626e-04 - iou: 0.4392 - iou_thresholded: 0.5804 - val_loss: 8.7841e-04 - val_iou: 0.3750 - val_iou_thresholded: 0.5443\n",
      "Epoch 67/200\n",
      "12/12 [==============================] - 12s 1s/step - loss: 2.8082e-04 - iou: 0.4432 - iou_thresholded: 0.5839 - val_loss: 9.0544e-04 - val_iou: 0.3491 - val_iou_thresholded: 0.5083\n",
      "Epoch 68/200\n",
      "12/12 [==============================] - 12s 976ms/step - loss: 2.6063e-04 - iou: 0.4239 - iou_thresholded: 0.5614 - val_loss: 9.3911e-04 - val_iou: 0.3716 - val_iou_thresholded: 0.5362\n",
      "Epoch 69/200\n",
      "12/12 [==============================] - 12s 978ms/step - loss: 2.4376e-04 - iou: 0.4738 - iou_thresholded: 0.5967 - val_loss: 9.8633e-04 - val_iou: 0.3425 - val_iou_thresholded: 0.5402\n",
      "Epoch 70/200\n",
      "12/12 [==============================] - 12s 977ms/step - loss: 2.5329e-04 - iou: 0.4487 - iou_thresholded: 0.6017 - val_loss: 9.8599e-04 - val_iou: 0.4055 - val_iou_thresholded: 0.5393\n",
      "Epoch 71/200\n",
      "12/12 [==============================] - 12s 975ms/step - loss: 2.4543e-04 - iou: 0.4581 - iou_thresholded: 0.6025 - val_loss: 9.2281e-04 - val_iou: 0.3767 - val_iou_thresholded: 0.5480\n",
      "Epoch 72/200\n",
      "12/12 [==============================] - 12s 975ms/step - loss: 2.5668e-04 - iou: 0.4617 - iou_thresholded: 0.5802 - val_loss: 0.0010 - val_iou: 0.3243 - val_iou_thresholded: 0.5398\n",
      "Epoch 73/200\n",
      "12/12 [==============================] - 12s 975ms/step - loss: 2.4540e-04 - iou: 0.4719 - iou_thresholded: 0.6184 - val_loss: 0.0010 - val_iou: 0.3899 - val_iou_thresholded: 0.5433\n",
      "Epoch 74/200\n",
      "12/12 [==============================] - 12s 975ms/step - loss: 2.2742e-04 - iou: 0.4663 - iou_thresholded: 0.6073 - val_loss: 0.0011 - val_iou: 0.3652 - val_iou_thresholded: 0.5462\n",
      "Epoch 75/200\n",
      "12/12 [==============================] - 12s 976ms/step - loss: 2.4319e-04 - iou: 0.4778 - iou_thresholded: 0.6090 - val_loss: 0.0010 - val_iou: 0.3816 - val_iou_thresholded: 0.5358\n",
      "Epoch 76/200\n",
      "12/12 [==============================] - 12s 981ms/step - loss: 2.1394e-04 - iou: 0.5152 - iou_thresholded: 0.6508 - val_loss: 0.0012 - val_iou: 0.4177 - val_iou_thresholded: 0.5359\n",
      "Epoch 77/200\n",
      "12/12 [==============================] - 12s 977ms/step - loss: 2.3528e-04 - iou: 0.4624 - iou_thresholded: 0.5947 - val_loss: 0.0010 - val_iou: 0.3413 - val_iou_thresholded: 0.5170\n",
      "Epoch 78/200\n",
      "12/12 [==============================] - 12s 974ms/step - loss: 2.3155e-04 - iou: 0.4957 - iou_thresholded: 0.6255 - val_loss: 0.0010 - val_iou: 0.3595 - val_iou_thresholded: 0.5334\n",
      "Epoch 79/200\n",
      "12/12 [==============================] - 12s 1s/step - loss: 2.3122e-04 - iou: 0.4750 - iou_thresholded: 0.6158 - val_loss: 0.0010 - val_iou: 0.4120 - val_iou_thresholded: 0.5379\n",
      "Epoch 80/200\n",
      "12/12 [==============================] - 12s 1s/step - loss: 2.3980e-04 - iou: 0.4750 - iou_thresholded: 0.6117 - val_loss: 0.0010 - val_iou: 0.3628 - val_iou_thresholded: 0.5308\n",
      "Epoch 81/200\n",
      "12/12 [==============================] - 12s 975ms/step - loss: 2.3066e-04 - iou: 0.5118 - iou_thresholded: 0.6451 - val_loss: 0.0011 - val_iou: 0.4172 - val_iou_thresholded: 0.5324\n",
      "Epoch 82/200\n",
      "12/12 [==============================] - 12s 975ms/step - loss: 2.1414e-04 - iou: 0.5119 - iou_thresholded: 0.6431 - val_loss: 0.0011 - val_iou: 0.4060 - val_iou_thresholded: 0.5300\n",
      "Epoch 83/200\n",
      "12/12 [==============================] - 12s 976ms/step - loss: 2.0451e-04 - iou: 0.5031 - iou_thresholded: 0.6265 - val_loss: 0.0012 - val_iou: 0.3991 - val_iou_thresholded: 0.5408\n",
      "Epoch 84/200\n",
      "12/12 [==============================] - 12s 977ms/step - loss: 2.1614e-04 - iou: 0.5245 - iou_thresholded: 0.6415 - val_loss: 0.0010 - val_iou: 0.3551 - val_iou_thresholded: 0.5538\n"
     ]
    },
    {
     "name": "stdout",
     "output_type": "stream",
     "text": [
      "Epoch 85/200\n",
      "12/12 [==============================] - 12s 975ms/step - loss: 2.0829e-04 - iou: 0.5242 - iou_thresholded: 0.6554 - val_loss: 0.0012 - val_iou: 0.3816 - val_iou_thresholded: 0.5344\n",
      "Epoch 86/200\n",
      "12/12 [==============================] - 12s 976ms/step - loss: 2.0871e-04 - iou: 0.5256 - iou_thresholded: 0.6527 - val_loss: 0.0011 - val_iou: 0.4049 - val_iou_thresholded: 0.5357\n",
      "Epoch 87/200\n",
      "12/12 [==============================] - 12s 975ms/step - loss: 1.7333e-04 - iou: 0.5588 - iou_thresholded: 0.6795 - val_loss: 0.0013 - val_iou: 0.4006 - val_iou_thresholded: 0.5495\n",
      "Epoch 88/200\n",
      "12/12 [==============================] - 12s 975ms/step - loss: 1.8379e-04 - iou: 0.5517 - iou_thresholded: 0.6747 - val_loss: 0.0012 - val_iou: 0.3949 - val_iou_thresholded: 0.5440\n",
      "Epoch 89/200\n",
      "12/12 [==============================] - 12s 975ms/step - loss: 2.0033e-04 - iou: 0.5579 - iou_thresholded: 0.6771 - val_loss: 0.0010 - val_iou: 0.3953 - val_iou_thresholded: 0.5491\n",
      "Epoch 90/200\n",
      "12/12 [==============================] - 12s 975ms/step - loss: 1.8503e-04 - iou: 0.5643 - iou_thresholded: 0.6869 - val_loss: 0.0013 - val_iou: 0.3692 - val_iou_thresholded: 0.5288\n",
      "Epoch 91/200\n",
      "12/12 [==============================] - 12s 977ms/step - loss: 1.9688e-04 - iou: 0.5518 - iou_thresholded: 0.6626 - val_loss: 0.0012 - val_iou: 0.3888 - val_iou_thresholded: 0.5481\n",
      "Epoch 92/200\n",
      "12/12 [==============================] - 12s 1s/step - loss: 1.7916e-04 - iou: 0.5697 - iou_thresholded: 0.6954 - val_loss: 0.0013 - val_iou: 0.4374 - val_iou_thresholded: 0.5484\n",
      "Epoch 93/200\n",
      "12/12 [==============================] - 12s 1s/step - loss: 1.7293e-04 - iou: 0.5993 - iou_thresholded: 0.7073 - val_loss: 0.0013 - val_iou: 0.4176 - val_iou_thresholded: 0.5471\n",
      "Epoch 94/200\n",
      "12/12 [==============================] - 12s 976ms/step - loss: 1.6893e-04 - iou: 0.5902 - iou_thresholded: 0.7113 - val_loss: 0.0013 - val_iou: 0.4272 - val_iou_thresholded: 0.5467\n",
      "Epoch 95/200\n",
      "12/12 [==============================] - 12s 973ms/step - loss: 1.6310e-04 - iou: 0.6115 - iou_thresholded: 0.7254 - val_loss: 0.0015 - val_iou: 0.4318 - val_iou_thresholded: 0.5339\n",
      "Epoch 96/200\n",
      "12/12 [==============================] - 12s 975ms/step - loss: 1.4705e-04 - iou: 0.6062 - iou_thresholded: 0.7182 - val_loss: 0.0015 - val_iou: 0.4290 - val_iou_thresholded: 0.5039\n",
      "Epoch 97/200\n",
      "12/12 [==============================] - 12s 975ms/step - loss: 1.7247e-04 - iou: 0.6019 - iou_thresholded: 0.7076 - val_loss: 0.0015 - val_iou: 0.4546 - val_iou_thresholded: 0.5485\n",
      "Epoch 98/200\n",
      "12/12 [==============================] - 12s 976ms/step - loss: 1.6196e-04 - iou: 0.6189 - iou_thresholded: 0.7348 - val_loss: 0.0011 - val_iou: 0.4349 - val_iou_thresholded: 0.5429\n",
      "Epoch 99/200\n",
      "12/12 [==============================] - 12s 975ms/step - loss: 1.7504e-04 - iou: 0.5943 - iou_thresholded: 0.7228 - val_loss: 9.0341e-04 - val_iou: 0.4203 - val_iou_thresholded: 0.5216\n",
      "Epoch 100/200\n",
      "12/12 [==============================] - 12s 979ms/step - loss: 1.4779e-04 - iou: 0.6189 - iou_thresholded: 0.7247 - val_loss: 0.0010 - val_iou: 0.4049 - val_iou_thresholded: 0.5119\n",
      "Epoch 101/200\n",
      "12/12 [==============================] - 12s 975ms/step - loss: 1.5013e-04 - iou: 0.6173 - iou_thresholded: 0.7262 - val_loss: 9.5964e-04 - val_iou: 0.4229 - val_iou_thresholded: 0.5440\n",
      "Epoch 102/200\n",
      "12/12 [==============================] - 12s 975ms/step - loss: 1.5297e-04 - iou: 0.6327 - iou_thresholded: 0.7430 - val_loss: 0.0010 - val_iou: 0.4303 - val_iou_thresholded: 0.5327\n",
      "Epoch 103/200\n",
      "12/12 [==============================] - 12s 1s/step - loss: 1.4705e-04 - iou: 0.6305 - iou_thresholded: 0.7458 - val_loss: 0.0011 - val_iou: 0.4571 - val_iou_thresholded: 0.5267\n",
      "Epoch 104/200\n",
      "12/12 [==============================] - 12s 976ms/step - loss: 1.4375e-04 - iou: 0.6516 - iou_thresholded: 0.7521 - val_loss: 0.0011 - val_iou: 0.4286 - val_iou_thresholded: 0.5337\n",
      "Epoch 105/200\n",
      "12/12 [==============================] - 12s 1s/step - loss: 1.4947e-04 - iou: 0.6246 - iou_thresholded: 0.7390 - val_loss: 0.0010 - val_iou: 0.4740 - val_iou_thresholded: 0.5525\n",
      "Epoch 106/200\n",
      "12/12 [==============================] - 12s 1s/step - loss: 1.3947e-04 - iou: 0.6515 - iou_thresholded: 0.7496 - val_loss: 0.0010 - val_iou: 0.4401 - val_iou_thresholded: 0.5490\n",
      "Epoch 107/200\n",
      "12/12 [==============================] - 12s 975ms/step - loss: 1.6461e-04 - iou: 0.6184 - iou_thresholded: 0.7268 - val_loss: 0.0010 - val_iou: 0.4600 - val_iou_thresholded: 0.5326\n",
      "Epoch 108/200\n",
      "12/12 [==============================] - 12s 975ms/step - loss: 1.5190e-04 - iou: 0.6387 - iou_thresholded: 0.7474 - val_loss: 9.9331e-04 - val_iou: 0.4679 - val_iou_thresholded: 0.5487\n",
      "Epoch 109/200\n",
      "12/12 [==============================] - 12s 975ms/step - loss: 1.4068e-04 - iou: 0.6497 - iou_thresholded: 0.7602 - val_loss: 8.7187e-04 - val_iou: 0.4421 - val_iou_thresholded: 0.5220\n",
      "Epoch 110/200\n",
      "12/12 [==============================] - 12s 982ms/step - loss: 1.4105e-04 - iou: 0.6440 - iou_thresholded: 0.7430 - val_loss: 9.0847e-04 - val_iou: 0.4419 - val_iou_thresholded: 0.5389\n",
      "Epoch 111/200\n",
      "12/12 [==============================] - 12s 975ms/step - loss: 1.2003e-04 - iou: 0.6874 - iou_thresholded: 0.7844 - val_loss: 0.0010 - val_iou: 0.4360 - val_iou_thresholded: 0.5104\n",
      "Epoch 112/200\n",
      "12/12 [==============================] - 12s 975ms/step - loss: 1.2977e-04 - iou: 0.6792 - iou_thresholded: 0.7815 - val_loss: 0.0010 - val_iou: 0.4701 - val_iou_thresholded: 0.5378\n",
      "Epoch 113/200\n",
      "12/12 [==============================] - 12s 976ms/step - loss: 1.4126e-04 - iou: 0.6720 - iou_thresholded: 0.7743 - val_loss: 0.0011 - val_iou: 0.4397 - val_iou_thresholded: 0.5143\n",
      "Epoch 114/200\n",
      "12/12 [==============================] - 12s 975ms/step - loss: 1.1399e-04 - iou: 0.6771 - iou_thresholded: 0.7762 - val_loss: 0.0011 - val_iou: 0.4508 - val_iou_thresholded: 0.5366\n",
      "Epoch 115/200\n",
      "12/12 [==============================] - 12s 976ms/step - loss: 1.3759e-04 - iou: 0.6946 - iou_thresholded: 0.7901 - val_loss: 0.0010 - val_iou: 0.4546 - val_iou_thresholded: 0.5258\n",
      "Epoch 116/200\n",
      "12/12 [==============================] - 12s 976ms/step - loss: 1.1257e-04 - iou: 0.6920 - iou_thresholded: 0.7904 - val_loss: 0.0012 - val_iou: 0.4722 - val_iou_thresholded: 0.5350\n",
      "Epoch 117/200\n",
      "12/12 [==============================] - 12s 982ms/step - loss: 1.1485e-04 - iou: 0.7132 - iou_thresholded: 0.7993 - val_loss: 0.0012 - val_iou: 0.4663 - val_iou_thresholded: 0.5121\n",
      "Epoch 118/200\n",
      "12/12 [==============================] - 12s 1s/step - loss: 1.1582e-04 - iou: 0.7054 - iou_thresholded: 0.8027 - val_loss: 0.0012 - val_iou: 0.4761 - val_iou_thresholded: 0.5173\n",
      "Epoch 119/200\n",
      "12/12 [==============================] - 12s 1s/step - loss: 1.1197e-04 - iou: 0.7208 - iou_thresholded: 0.8079 - val_loss: 0.0013 - val_iou: 0.4799 - val_iou_thresholded: 0.5211\n",
      "Epoch 120/200\n",
      "12/12 [==============================] - 12s 977ms/step - loss: 1.1019e-04 - iou: 0.7170 - iou_thresholded: 0.8017 - val_loss: 0.0012 - val_iou: 0.4783 - val_iou_thresholded: 0.5334\n",
      "Epoch 121/200\n",
      "12/12 [==============================] - 12s 975ms/step - loss: 1.1131e-04 - iou: 0.7176 - iou_thresholded: 0.8116 - val_loss: 0.0012 - val_iou: 0.4847 - val_iou_thresholded: 0.5365\n",
      "Epoch 122/200\n",
      "12/12 [==============================] - 12s 976ms/step - loss: 1.1605e-04 - iou: 0.7059 - iou_thresholded: 0.7868 - val_loss: 0.0012 - val_iou: 0.4552 - val_iou_thresholded: 0.5250\n",
      "Epoch 123/200\n",
      "12/12 [==============================] - 12s 983ms/step - loss: 1.0937e-04 - iou: 0.6954 - iou_thresholded: 0.7926 - val_loss: 0.0012 - val_iou: 0.4660 - val_iou_thresholded: 0.5268\n",
      "Epoch 124/200\n",
      "12/12 [==============================] - 12s 975ms/step - loss: 8.7154e-05 - iou: 0.7380 - iou_thresholded: 0.8239 - val_loss: 0.0012 - val_iou: 0.4632 - val_iou_thresholded: 0.5354\n",
      "Epoch 125/200\n",
      "12/12 [==============================] - 12s 976ms/step - loss: 1.4802e-04 - iou: 0.6956 - iou_thresholded: 0.7872 - val_loss: 0.0012 - val_iou: 0.4427 - val_iou_thresholded: 0.5201\n",
      "Epoch 126/200\n",
      "12/12 [==============================] - 12s 976ms/step - loss: 8.6909e-05 - iou: 0.7373 - iou_thresholded: 0.8240 - val_loss: 0.0013 - val_iou: 0.4544 - val_iou_thresholded: 0.5194\n"
     ]
    },
    {
     "name": "stdout",
     "output_type": "stream",
     "text": [
      "Epoch 127/200\n",
      "12/12 [==============================] - 12s 980ms/step - loss: 9.6307e-05 - iou: 0.7585 - iou_thresholded: 0.8326 - val_loss: 0.0013 - val_iou: 0.4685 - val_iou_thresholded: 0.5236\n",
      "Epoch 128/200\n",
      "12/12 [==============================] - 12s 980ms/step - loss: 1.0222e-04 - iou: 0.7396 - iou_thresholded: 0.8305 - val_loss: 0.0013 - val_iou: 0.4667 - val_iou_thresholded: 0.5214\n",
      "Epoch 129/200\n",
      "12/12 [==============================] - 12s 977ms/step - loss: 9.9349e-05 - iou: 0.7474 - iou_thresholded: 0.8322 - val_loss: 0.0014 - val_iou: 0.4633 - val_iou_thresholded: 0.5120\n",
      "Epoch 130/200\n",
      "12/12 [==============================] - 12s 975ms/step - loss: 8.9171e-05 - iou: 0.7761 - iou_thresholded: 0.8523 - val_loss: 0.0013 - val_iou: 0.4730 - val_iou_thresholded: 0.5198\n",
      "Epoch 131/200\n",
      "12/12 [==============================] - 12s 1s/step - loss: 8.9311e-05 - iou: 0.7717 - iou_thresholded: 0.8545 - val_loss: 0.0013 - val_iou: 0.4593 - val_iou_thresholded: 0.5057\n",
      "Epoch 132/200\n",
      "12/12 [==============================] - 12s 1s/step - loss: 8.3472e-05 - iou: 0.7764 - iou_thresholded: 0.8498 - val_loss: 0.0014 - val_iou: 0.4839 - val_iou_thresholded: 0.5231\n",
      "Epoch 133/200\n",
      "12/12 [==============================] - 12s 976ms/step - loss: 7.6863e-05 - iou: 0.7879 - iou_thresholded: 0.8663 - val_loss: 0.0015 - val_iou: 0.4881 - val_iou_thresholded: 0.5173\n",
      "Epoch 134/200\n",
      "12/12 [==============================] - 12s 977ms/step - loss: 9.5463e-05 - iou: 0.7904 - iou_thresholded: 0.8621 - val_loss: 0.0016 - val_iou: 0.4815 - val_iou_thresholded: 0.5125\n",
      "Epoch 135/200\n",
      "12/12 [==============================] - 12s 974ms/step - loss: 7.5843e-05 - iou: 0.7965 - iou_thresholded: 0.8708 - val_loss: 0.0014 - val_iou: 0.4710 - val_iou_thresholded: 0.5072\n",
      "Epoch 136/200\n",
      "12/12 [==============================] - 12s 975ms/step - loss: 8.3822e-05 - iou: 0.7819 - iou_thresholded: 0.8566 - val_loss: 0.0014 - val_iou: 0.4801 - val_iou_thresholded: 0.5214\n",
      "Epoch 137/200\n",
      "12/12 [==============================] - 12s 977ms/step - loss: 9.1531e-05 - iou: 0.7962 - iou_thresholded: 0.8654 - val_loss: 0.0014 - val_iou: 0.4791 - val_iou_thresholded: 0.5146\n",
      "Epoch 138/200\n",
      "12/12 [==============================] - 12s 975ms/step - loss: 8.0190e-05 - iou: 0.7803 - iou_thresholded: 0.8589 - val_loss: 0.0015 - val_iou: 0.4591 - val_iou_thresholded: 0.4938\n",
      "Epoch 139/200\n",
      "12/12 [==============================] - 12s 976ms/step - loss: 9.5282e-05 - iou: 0.7650 - iou_thresholded: 0.8381 - val_loss: 0.0014 - val_iou: 0.4827 - val_iou_thresholded: 0.5300\n",
      "Epoch 140/200\n",
      "12/12 [==============================] - 12s 977ms/step - loss: 9.1107e-05 - iou: 0.7717 - iou_thresholded: 0.8500 - val_loss: 0.0014 - val_iou: 0.4786 - val_iou_thresholded: 0.5170\n",
      "Epoch 141/200\n",
      "12/12 [==============================] - 12s 977ms/step - loss: 7.3311e-05 - iou: 0.7930 - iou_thresholded: 0.8725 - val_loss: 0.0015 - val_iou: 0.4814 - val_iou_thresholded: 0.5078\n",
      "Epoch 142/200\n",
      "12/12 [==============================] - 12s 974ms/step - loss: 8.0644e-05 - iou: 0.8010 - iou_thresholded: 0.8753 - val_loss: 0.0015 - val_iou: 0.4823 - val_iou_thresholded: 0.5107\n",
      "Epoch 143/200\n",
      "12/12 [==============================] - 12s 977ms/step - loss: 7.4719e-05 - iou: 0.8076 - iou_thresholded: 0.8814 - val_loss: 0.0015 - val_iou: 0.4686 - val_iou_thresholded: 0.5004\n",
      "Epoch 144/200\n",
      "12/12 [==============================] - 12s 1s/step - loss: 7.4417e-05 - iou: 0.8188 - iou_thresholded: 0.8828 - val_loss: 0.0017 - val_iou: 0.4866 - val_iou_thresholded: 0.5110\n",
      "Epoch 145/200\n",
      "12/12 [==============================] - 12s 1s/step - loss: 7.8880e-05 - iou: 0.8045 - iou_thresholded: 0.8780 - val_loss: 0.0015 - val_iou: 0.4748 - val_iou_thresholded: 0.4948\n",
      "Epoch 146/200\n",
      "12/12 [==============================] - 12s 978ms/step - loss: 8.1334e-05 - iou: 0.8110 - iou_thresholded: 0.8763 - val_loss: 0.0014 - val_iou: 0.4764 - val_iou_thresholded: 0.5095\n",
      "Epoch 147/200\n",
      "12/12 [==============================] - 12s 976ms/step - loss: 7.6572e-05 - iou: 0.8072 - iou_thresholded: 0.8759 - val_loss: 0.0014 - val_iou: 0.4719 - val_iou_thresholded: 0.5012\n",
      "Epoch 148/200\n",
      "12/12 [==============================] - 12s 976ms/step - loss: 7.6531e-05 - iou: 0.7935 - iou_thresholded: 0.8681 - val_loss: 0.0013 - val_iou: 0.4835 - val_iou_thresholded: 0.5074\n",
      "Epoch 149/200\n",
      "12/12 [==============================] - 12s 975ms/step - loss: 8.2932e-05 - iou: 0.8137 - iou_thresholded: 0.8795 - val_loss: 0.0015 - val_iou: 0.4874 - val_iou_thresholded: 0.5139\n",
      "Epoch 150/200\n",
      "12/12 [==============================] - 12s 980ms/step - loss: 6.3239e-05 - iou: 0.8174 - iou_thresholded: 0.8870 - val_loss: 0.0015 - val_iou: 0.4858 - val_iou_thresholded: 0.5081\n",
      "Epoch 151/200\n",
      "12/12 [==============================] - 12s 977ms/step - loss: 7.0666e-05 - iou: 0.8332 - iou_thresholded: 0.8907 - val_loss: 0.0016 - val_iou: 0.4899 - val_iou_thresholded: 0.5105\n",
      "Epoch 152/200\n",
      "12/12 [==============================] - 12s 976ms/step - loss: 5.6786e-05 - iou: 0.8431 - iou_thresholded: 0.9106 - val_loss: 0.0016 - val_iou: 0.4839 - val_iou_thresholded: 0.5016\n",
      "Epoch 153/200\n",
      "12/12 [==============================] - 12s 976ms/step - loss: 7.5933e-05 - iou: 0.8394 - iou_thresholded: 0.8953 - val_loss: 0.0016 - val_iou: 0.4771 - val_iou_thresholded: 0.4995\n",
      "Epoch 154/200\n",
      "12/12 [==============================] - 12s 976ms/step - loss: 5.3870e-05 - iou: 0.8559 - iou_thresholded: 0.9226 - val_loss: 0.0018 - val_iou: 0.4849 - val_iou_thresholded: 0.5005\n",
      "Epoch 155/200\n",
      "12/12 [==============================] - 12s 977ms/step - loss: 6.5861e-05 - iou: 0.8465 - iou_thresholded: 0.9077 - val_loss: 0.0017 - val_iou: 0.4926 - val_iou_thresholded: 0.5117\n",
      "Epoch 156/200\n",
      "12/12 [==============================] - 12s 976ms/step - loss: 7.6648e-05 - iou: 0.8381 - iou_thresholded: 0.8953 - val_loss: 0.0015 - val_iou: 0.4803 - val_iou_thresholded: 0.5004\n",
      "Epoch 157/200\n",
      "12/12 [==============================] - 12s 1s/step - loss: 6.8342e-05 - iou: 0.8461 - iou_thresholded: 0.9078 - val_loss: 0.0015 - val_iou: 0.4716 - val_iou_thresholded: 0.4930\n",
      "Epoch 158/200\n",
      "12/12 [==============================] - 12s 1s/step - loss: 6.2197e-05 - iou: 0.8494 - iou_thresholded: 0.9186 - val_loss: 0.0016 - val_iou: 0.4934 - val_iou_thresholded: 0.5131\n",
      "Epoch 159/200\n",
      "12/12 [==============================] - 12s 975ms/step - loss: 6.1791e-05 - iou: 0.8627 - iou_thresholded: 0.9203 - val_loss: 0.0017 - val_iou: 0.4672 - val_iou_thresholded: 0.4816\n",
      "Epoch 160/200\n",
      "12/12 [==============================] - 12s 976ms/step - loss: 7.2560e-05 - iou: 0.8086 - iou_thresholded: 0.8640 - val_loss: 0.0016 - val_iou: 0.4836 - val_iou_thresholded: 0.5066\n",
      "Epoch 161/200\n",
      "12/12 [==============================] - 12s 975ms/step - loss: 9.7249e-05 - iou: 0.8043 - iou_thresholded: 0.8657 - val_loss: 0.0015 - val_iou: 0.4690 - val_iou_thresholded: 0.4921\n",
      "Epoch 162/200\n",
      "12/12 [==============================] - 12s 977ms/step - loss: 6.4262e-05 - iou: 0.8342 - iou_thresholded: 0.9060 - val_loss: 0.0016 - val_iou: 0.4833 - val_iou_thresholded: 0.5077\n",
      "Epoch 163/200\n",
      "12/12 [==============================] - 12s 976ms/step - loss: 6.3064e-05 - iou: 0.8623 - iou_thresholded: 0.9199 - val_loss: 0.0018 - val_iou: 0.4787 - val_iou_thresholded: 0.5003\n",
      "Epoch 164/200\n",
      "12/12 [==============================] - 12s 976ms/step - loss: 4.9221e-05 - iou: 0.8772 - iou_thresholded: 0.9382 - val_loss: 0.0019 - val_iou: 0.4736 - val_iou_thresholded: 0.4896\n",
      "Epoch 165/200\n",
      "12/12 [==============================] - 12s 975ms/step - loss: 4.6919e-05 - iou: 0.8794 - iou_thresholded: 0.9331 - val_loss: 0.0018 - val_iou: 0.4814 - val_iou_thresholded: 0.4993\n",
      "Epoch 166/200\n",
      "12/12 [==============================] - 12s 977ms/step - loss: 5.5372e-05 - iou: 0.8829 - iou_thresholded: 0.9360 - val_loss: 0.0019 - val_iou: 0.4791 - val_iou_thresholded: 0.4974\n",
      "Epoch 167/200\n",
      "12/12 [==============================] - 12s 977ms/step - loss: 4.7216e-05 - iou: 0.8905 - iou_thresholded: 0.9404 - val_loss: 0.0019 - val_iou: 0.4891 - val_iou_thresholded: 0.5042\n",
      "Epoch 168/200\n",
      "12/12 [==============================] - 12s 975ms/step - loss: 5.8241e-05 - iou: 0.8801 - iou_thresholded: 0.9259 - val_loss: 0.0019 - val_iou: 0.4911 - val_iou_thresholded: 0.5075\n"
     ]
    },
    {
     "name": "stdout",
     "output_type": "stream",
     "text": [
      "Epoch 169/200\n",
      "12/12 [==============================] - 12s 976ms/step - loss: 5.4540e-05 - iou: 0.8738 - iou_thresholded: 0.9343 - val_loss: 0.0019 - val_iou: 0.4784 - val_iou_thresholded: 0.4937\n",
      "Epoch 170/200\n",
      "12/12 [==============================] - 12s 1s/step - loss: 5.3890e-05 - iou: 0.8980 - iou_thresholded: 0.9441 - val_loss: 0.0018 - val_iou: 0.4922 - val_iou_thresholded: 0.5098\n",
      "Epoch 171/200\n",
      "12/12 [==============================] - 12s 1s/step - loss: 3.6889e-05 - iou: 0.9012 - iou_thresholded: 0.9533 - val_loss: 0.0020 - val_iou: 0.4854 - val_iou_thresholded: 0.4984\n",
      "Epoch 172/200\n",
      "12/12 [==============================] - 12s 977ms/step - loss: 5.5396e-05 - iou: 0.8898 - iou_thresholded: 0.9353 - val_loss: 0.0020 - val_iou: 0.4894 - val_iou_thresholded: 0.5054\n",
      "Epoch 173/200\n",
      "12/12 [==============================] - 12s 976ms/step - loss: 5.0289e-05 - iou: 0.8834 - iou_thresholded: 0.9460 - val_loss: 0.0020 - val_iou: 0.4935 - val_iou_thresholded: 0.5079\n",
      "Epoch 174/200\n",
      "12/12 [==============================] - 12s 979ms/step - loss: 4.7942e-05 - iou: 0.9019 - iou_thresholded: 0.9398 - val_loss: 0.0020 - val_iou: 0.4838 - val_iou_thresholded: 0.4978\n",
      "Epoch 175/200\n",
      "12/12 [==============================] - 12s 975ms/step - loss: 5.4346e-05 - iou: 0.8912 - iou_thresholded: 0.9381 - val_loss: 0.0020 - val_iou: 0.4805 - val_iou_thresholded: 0.4985\n",
      "Epoch 176/200\n",
      "12/12 [==============================] - 12s 975ms/step - loss: 3.7835e-05 - iou: 0.9106 - iou_thresholded: 0.9508 - val_loss: 0.0018 - val_iou: 0.4873 - val_iou_thresholded: 0.5000\n",
      "Epoch 177/200\n",
      "12/12 [==============================] - 12s 977ms/step - loss: 5.9116e-05 - iou: 0.8691 - iou_thresholded: 0.9211 - val_loss: 0.0017 - val_iou: 0.4683 - val_iou_thresholded: 0.4908\n",
      "Epoch 178/200\n",
      "12/12 [==============================] - 12s 976ms/step - loss: 6.2560e-05 - iou: 0.8933 - iou_thresholded: 0.9406 - val_loss: 0.0017 - val_iou: 0.4938 - val_iou_thresholded: 0.5058\n",
      "Epoch 179/200\n",
      "12/12 [==============================] - 12s 977ms/step - loss: 4.9589e-05 - iou: 0.9075 - iou_thresholded: 0.9504 - val_loss: 0.0018 - val_iou: 0.4804 - val_iou_thresholded: 0.4916\n",
      "Epoch 180/200\n",
      "12/12 [==============================] - 12s 980ms/step - loss: 3.1759e-05 - iou: 0.9083 - iou_thresholded: 0.9566 - val_loss: 0.0019 - val_iou: 0.4837 - val_iou_thresholded: 0.4974\n",
      "Epoch 181/200\n",
      "12/12 [==============================] - 12s 978ms/step - loss: 4.8083e-05 - iou: 0.9138 - iou_thresholded: 0.9535 - val_loss: 0.0018 - val_iou: 0.4968 - val_iou_thresholded: 0.5084\n",
      "Epoch 182/200\n",
      "12/12 [==============================] - 12s 975ms/step - loss: 4.8425e-05 - iou: 0.9115 - iou_thresholded: 0.9562 - val_loss: 0.0020 - val_iou: 0.4854 - val_iou_thresholded: 0.5005\n",
      "Epoch 183/200\n",
      "12/12 [==============================] - 12s 1s/step - loss: 4.4372e-05 - iou: 0.9213 - iou_thresholded: 0.9585 - val_loss: 0.0020 - val_iou: 0.4879 - val_iou_thresholded: 0.5006\n",
      "Epoch 184/200\n",
      "12/12 [==============================] - 12s 1s/step - loss: 3.5456e-05 - iou: 0.9160 - iou_thresholded: 0.9592 - val_loss: 0.0020 - val_iou: 0.4987 - val_iou_thresholded: 0.5075\n",
      "Epoch 185/200\n",
      "12/12 [==============================] - 12s 975ms/step - loss: 5.0166e-05 - iou: 0.9142 - iou_thresholded: 0.9530 - val_loss: 0.0021 - val_iou: 0.4894 - val_iou_thresholded: 0.5020\n",
      "Epoch 186/200\n",
      "12/12 [==============================] - 12s 975ms/step - loss: 4.4071e-05 - iou: 0.9167 - iou_thresholded: 0.9573 - val_loss: 0.0020 - val_iou: 0.4917 - val_iou_thresholded: 0.5032\n",
      "Epoch 187/200\n",
      "12/12 [==============================] - 12s 982ms/step - loss: 3.7860e-05 - iou: 0.9194 - iou_thresholded: 0.9623 - val_loss: 0.0021 - val_iou: 0.4916 - val_iou_thresholded: 0.5010\n",
      "Epoch 188/200\n",
      "12/12 [==============================] - 12s 976ms/step - loss: 5.6340e-05 - iou: 0.9158 - iou_thresholded: 0.9522 - val_loss: 0.0020 - val_iou: 0.4906 - val_iou_thresholded: 0.5058\n",
      "Epoch 189/200\n",
      "12/12 [==============================] - 12s 975ms/step - loss: 4.3191e-05 - iou: 0.9272 - iou_thresholded: 0.9664 - val_loss: 0.0020 - val_iou: 0.4899 - val_iou_thresholded: 0.5011\n",
      "Epoch 190/200\n",
      "12/12 [==============================] - 12s 975ms/step - loss: 2.0596e-05 - iou: 0.9412 - iou_thresholded: 0.9763 - val_loss: 0.0023 - val_iou: 0.4916 - val_iou_thresholded: 0.4989\n",
      "Epoch 191/200\n",
      "12/12 [==============================] - 12s 976ms/step - loss: 5.1959e-05 - iou: 0.9257 - iou_thresholded: 0.9591 - val_loss: 0.0022 - val_iou: 0.4881 - val_iou_thresholded: 0.5007\n",
      "Epoch 192/200\n",
      "12/12 [==============================] - 12s 976ms/step - loss: 3.7681e-05 - iou: 0.9275 - iou_thresholded: 0.9666 - val_loss: 0.0023 - val_iou: 0.4849 - val_iou_thresholded: 0.4915\n",
      "Epoch 193/200\n",
      "12/12 [==============================] - 12s 976ms/step - loss: 3.5534e-05 - iou: 0.9338 - iou_thresholded: 0.9688 - val_loss: 0.0023 - val_iou: 0.4898 - val_iou_thresholded: 0.4974\n",
      "Epoch 194/200\n",
      "12/12 [==============================] - 12s 980ms/step - loss: 4.4120e-05 - iou: 0.9418 - iou_thresholded: 0.9692 - val_loss: 0.0023 - val_iou: 0.4905 - val_iou_thresholded: 0.4997\n",
      "Epoch 195/200\n",
      "12/12 [==============================] - 12s 978ms/step - loss: 3.9617e-05 - iou: 0.9264 - iou_thresholded: 0.9668 - val_loss: 0.0023 - val_iou: 0.4745 - val_iou_thresholded: 0.4827\n",
      "Epoch 196/200\n",
      "12/12 [==============================] - 12s 1s/step - loss: 4.2087e-05 - iou: 0.9341 - iou_thresholded: 0.9635 - val_loss: 0.0021 - val_iou: 0.4799 - val_iou_thresholded: 0.4897\n",
      "Epoch 197/200\n",
      "12/12 [==============================] - 12s 1s/step - loss: 4.5566e-05 - iou: 0.9259 - iou_thresholded: 0.9612 - val_loss: 0.0021 - val_iou: 0.4861 - val_iou_thresholded: 0.4994\n",
      "Epoch 198/200\n",
      "12/12 [==============================] - 12s 977ms/step - loss: 3.4945e-05 - iou: 0.9345 - iou_thresholded: 0.9713 - val_loss: 0.0022 - val_iou: 0.4860 - val_iou_thresholded: 0.4933\n",
      "Epoch 199/200\n",
      "12/12 [==============================] - 12s 975ms/step - loss: 4.4426e-05 - iou: 0.9392 - iou_thresholded: 0.9691 - val_loss: 0.0021 - val_iou: 0.4739 - val_iou_thresholded: 0.4867\n",
      "Epoch 200/200\n",
      "12/12 [==============================] - 12s 976ms/step - loss: 3.8445e-05 - iou: 0.9410 - iou_thresholded: 0.9714 - val_loss: 0.0022 - val_iou: 0.4933 - val_iou_thresholded: 0.5018\n"
     ]
    }
   ],
   "source": [
    "model, history = C.Helper.train_unet(X_train_set, y_train_set, X_val, y_val, model, epochs=200)"
   ]
  },
  {
   "cell_type": "code",
   "execution_count": 35,
   "id": "7bc51703",
   "metadata": {},
   "outputs": [
    {
     "data": {
      "image/png": "[encoded data removed]",
      "text/plain": [
       "<Figure size 864x432 with 1 Axes>"
      ]
     },
     "metadata": {
      "needs_background": "light"
     },
     "output_type": "display_data"
    },
    {
     "data": {
      "image/png": "[encoded data removed]",
      "text/plain": [
       "<Figure size 864x432 with 1 Axes>"
      ]
     },
     "metadata": {
      "needs_background": "light"
     },
     "output_type": "display_data"
    }
   ],
   "source": [
    "C.Helper.visualize_graph(history)"
   ]
  },
  {
   "cell_type": "code",
   "execution_count": 36,
   "id": "2b9f9190",
   "metadata": {},
   "outputs": [],
   "source": [
    "y_pred = C.Helper.prediction(test_images_array, model)"
   ]
  },
  {
   "cell_type": "code",
   "execution_count": 37,
   "id": "85b46673",
   "metadata": {
    "scrolled": true
   },
   "outputs": [
    {
     "data": {
      "image/png": "[encoded data removed]",
      "text/plain": [
       "<Figure size 1152x1440 with 20 Axes>"
      ]
     },
     "metadata": {
      "needs_background": "light"
     },
     "output_type": "display_data"
    }
   ],
   "source": [
    "C.Helper.visualize_result(test_images_array, y_test, y_pred)"
   ]
  },
  {
   "cell_type": "code",
   "execution_count": 38,
   "id": "9a236ee4",
   "metadata": {},
   "outputs": [
    {
     "name": "stdout",
     "output_type": "stream",
     "text": [
      "106/106 [==============================] - 23s 216ms/step - loss: 2.8328e-04 - iou: 0.1203 - iou_thresholded: 0.5614\n"
     ]
    }
   ],
   "source": [
    "C.Helper.evaluate(test_images_array, y_test, model)"
   ]
  },
  {
   "cell_type": "code",
   "execution_count": null,
   "id": "f18f18a7",
   "metadata": {},
   "outputs": [],
   "source": []
  },
  {
   "cell_type": "code",
   "execution_count": null,
   "id": "9633f74e",
   "metadata": {},
   "outputs": [],
   "source": []
  },
  {
   "cell_type": "code",
   "execution_count": null,
   "id": "230dbf69",
   "metadata": {},
   "outputs": [],
   "source": []
  },
  {
   "cell_type": "code",
   "execution_count": null,
   "id": "91bf77f5",
   "metadata": {},
   "outputs": [],
   "source": []
  },
  {
   "cell_type": "code",
   "execution_count": null,
   "id": "5bf8aa51",
   "metadata": {},
   "outputs": [],
   "source": []
  },
  {
   "cell_type": "code",
   "execution_count": null,
   "id": "5e73cc60",
   "metadata": {},
   "outputs": [],
   "source": []
  },
  {
   "cell_type": "code",
   "execution_count": null,
   "id": "da3bb108",
   "metadata": {},
   "outputs": [],
   "source": []
  },
  {
   "cell_type": "code",
   "execution_count": null,
   "id": "2e3df05d",
   "metadata": {},
   "outputs": [],
   "source": []
  }
 ],
 "metadata": {
  "kernelspec": {
   "display_name": "Python 3 (ipykernel)",
   "language": "python",
   "name": "python3"
  },
  "language_info": {
   "codemirror_mode": {
    "name": "ipython",
    "version": 3
   },
   "file_extension": ".py",
   "mimetype": "text/x-python",
   "name": "python",
   "nbconvert_exporter": "python",
   "pygments_lexer": "ipython3",
   "version": "3.9.7"
  }
 },
 "nbformat": 4,
 "nbformat_minor": 5
}
