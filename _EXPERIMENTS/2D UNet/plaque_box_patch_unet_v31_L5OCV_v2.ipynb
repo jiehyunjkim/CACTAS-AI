{
 "cells": [
  {
   "cell_type": "code",
   "execution_count": 1,
   "id": "5eebebed",
   "metadata": {},
   "outputs": [
    {
     "name": "stdout",
     "output_type": "stream",
     "text": [
      "Populating the interactive namespace from numpy and matplotlib\n"
     ]
    }
   ],
   "source": [
    "%pylab inline\n",
    "%load_ext autoreload\n",
    "%autoreload 2"
   ]
  },
  {
   "cell_type": "code",
   "execution_count": 2,
   "id": "1db43f95",
   "metadata": {},
   "outputs": [
    {
     "name": "stderr",
     "output_type": "stream",
     "text": [
      "2024-06-19 15:21:27.620047: I tensorflow/stream_executor/platform/default/dso_loader.cc:53] Successfully opened dynamic library libcudart.so.11.0\n"
     ]
    }
   ],
   "source": [
    "import cactas as C\n",
    "import tensorflow as tf\n",
    "import pickle"
   ]
  },
  {
   "cell_type": "code",
   "execution_count": null,
   "id": "c7599e1d",
   "metadata": {},
   "outputs": [],
   "source": []
  },
  {
   "cell_type": "code",
   "execution_count": 3,
   "id": "ca9de1bc",
   "metadata": {},
   "outputs": [],
   "source": [
    "DATAPATH='/raid/mpsych/CACTAS/DATA/ESUS'\n",
    "CAPATH='/raid/mpsych/CACTAS/DATA/CA24'"
   ]
  },
  {
   "cell_type": "code",
   "execution_count": null,
   "id": "92be68f5",
   "metadata": {},
   "outputs": [],
   "source": []
  },
  {
   "cell_type": "code",
   "execution_count": 4,
   "id": "c2588b51",
   "metadata": {},
   "outputs": [],
   "source": [
    "images, labels = C.Helper.load_data(DATAPATH)"
   ]
  },
  {
   "cell_type": "code",
   "execution_count": 5,
   "id": "7881f480",
   "metadata": {},
   "outputs": [],
   "source": [
    "masks = C.Helper.load_seg_data(CAPATH)"
   ]
  },
  {
   "cell_type": "code",
   "execution_count": 6,
   "id": "7088d2a3",
   "metadata": {},
   "outputs": [],
   "source": [
    "X_train, y_train, m_train, X_test, y_test, m_test = C.Helper.split_patients_masks(images, labels, masks)"
   ]
  },
  {
   "cell_type": "code",
   "execution_count": 7,
   "id": "064e630c",
   "metadata": {},
   "outputs": [],
   "source": [
    "with open('/raid/mpsych/CACTAS/DATA/HISTORY/unet_30/train_patient_order.pkl', 'wb') as f:\n",
    "    pickle.dump(X_train, f)\n",
    "with open('/raid/mpsych/CACTAS/DATA/HISTORY/unet_30/test_patient_order.pkl', 'wb') as f:\n",
    "    pickle.dump(X_test, f)"
   ]
  },
  {
   "cell_type": "code",
   "execution_count": null,
   "id": "a7a3db95",
   "metadata": {},
   "outputs": [],
   "source": []
  },
  {
   "cell_type": "code",
   "execution_count": 8,
   "id": "c81ee490",
   "metadata": {},
   "outputs": [],
   "source": [
    "X_train, y_train, m_train, X_test, y_test, m_test = C.Helper.normalization2(DATAPATH, CAPATH, X_train, y_train, m_train, X_test, y_test, m_test)"
   ]
  },
  {
   "cell_type": "code",
   "execution_count": 9,
   "id": "b2d8df93",
   "metadata": {},
   "outputs": [
    {
     "name": "stdout",
     "output_type": "stream",
     "text": [
      "10679\n"
     ]
    }
   ],
   "source": [
    "slice_to_patient_mapping, last_key = C.Helper.map_and_key_fulldata(y_train)"
   ]
  },
  {
   "cell_type": "code",
   "execution_count": 10,
   "id": "d00b1ce9",
   "metadata": {},
   "outputs": [
    {
     "name": "stdout",
     "output_type": "stream",
     "text": [
      "(13157, 512, 512, 1) (13157, 512, 512, 1) (3609, 512, 512, 1) (3609, 512, 512, 1)\n"
     ]
    }
   ],
   "source": [
    "X_train, y_train, X_test, y_test = C.Helper.extract_slices(X_train, y_train, X_test, y_test)"
   ]
  },
  {
   "cell_type": "code",
   "execution_count": 11,
   "id": "4034ad93",
   "metadata": {},
   "outputs": [
    {
     "name": "stdout",
     "output_type": "stream",
     "text": [
      "(13157, 512, 512, 1) (3609, 512, 512, 1)\n"
     ]
    }
   ],
   "source": [
    "m_train, m_test = C.Helper.extract_masks_slices(m_train, m_test)"
   ]
  },
  {
   "cell_type": "code",
   "execution_count": 12,
   "id": "1b260134",
   "metadata": {},
   "outputs": [],
   "source": [
    "X_train = X_train.astype(np.float32)\n",
    "X_test = X_test.astype(np.float32)\n",
    "m_train = m_train.astype(np.float32)\n",
    "m_test = m_test.astype(np.float32)"
   ]
  },
  {
   "cell_type": "code",
   "execution_count": 13,
   "id": "e47b39dd",
   "metadata": {},
   "outputs": [
    {
     "name": "stdout",
     "output_type": "stream",
     "text": [
      "(13157, 512, 512, 1) (3609, 512, 512, 1)\n"
     ]
    }
   ],
   "source": [
    "train_images_array, test_images_array = C.Helper.masked_image(X_train, m_train, X_test, m_test)"
   ]
  },
  {
   "cell_type": "code",
   "execution_count": null,
   "id": "893f3eed",
   "metadata": {},
   "outputs": [],
   "source": []
  },
  {
   "cell_type": "code",
   "execution_count": 14,
   "id": "97dfa212",
   "metadata": {},
   "outputs": [],
   "source": [
    "from sklearn.model_selection import KFold"
   ]
  },
  {
   "cell_type": "code",
   "execution_count": 23,
   "id": "04fe67a9",
   "metadata": {},
   "outputs": [],
   "source": [
    "n_samples = len(train_images_array)\n",
    "kf = KFold(n_splits=n_samples // 1000)\n",
    "#kf = KFold(n_splits=2, shuffle=False)\n",
    "histories = []\n",
    "fold = 1"
   ]
  },
  {
   "cell_type": "code",
   "execution_count": 24,
   "id": "4f7f0075",
   "metadata": {},
   "outputs": [
    {
     "data": {
      "text/plain": [
       "KFold(n_splits=13, random_state=None, shuffle=False)"
      ]
     },
     "execution_count": 24,
     "metadata": {},
     "output_type": "execute_result"
    }
   ],
   "source": [
    "kf"
   ]
  },
  {
   "cell_type": "code",
   "execution_count": null,
   "id": "2db30b97",
   "metadata": {},
   "outputs": [],
   "source": []
  },
  {
   "cell_type": "code",
   "execution_count": null,
   "id": "7c1b9579",
   "metadata": {},
   "outputs": [],
   "source": [
    "# 5 = 2631 "
   ]
  },
  {
   "cell_type": "code",
   "execution_count": null,
   "id": "ccffc2aa",
   "metadata": {},
   "outputs": [],
   "source": [
    "#10 = 1315"
   ]
  },
  {
   "cell_type": "code",
   "execution_count": null,
   "id": "51baac44",
   "metadata": {},
   "outputs": [],
   "source": [
    "# 50 = 263"
   ]
  },
  {
   "cell_type": "code",
   "execution_count": null,
   "id": "c4059b15",
   "metadata": {},
   "outputs": [],
   "source": [
    "# 100 = 131"
   ]
  },
  {
   "cell_type": "code",
   "execution_count": null,
   "id": "841e7c25",
   "metadata": {},
   "outputs": [],
   "source": [
    "# 1000 = 13"
   ]
  },
  {
   "cell_type": "code",
   "execution_count": null,
   "id": "60f2e215",
   "metadata": {},
   "outputs": [],
   "source": []
  },
  {
   "cell_type": "code",
   "execution_count": null,
   "id": "5d6534cb",
   "metadata": {},
   "outputs": [],
   "source": []
  },
  {
   "cell_type": "code",
   "execution_count": 25,
   "id": "e22f5672",
   "metadata": {},
   "outputs": [],
   "source": [
    "losses = []\n",
    "ious = []\n",
    "iou_thresholds = []"
   ]
  },
  {
   "cell_type": "code",
   "execution_count": null,
   "id": "259caa93",
   "metadata": {
    "scrolled": true
   },
   "outputs": [
    {
     "name": "stdout",
     "output_type": "stream",
     "text": [
      "-----------------------------------------\n",
      "keras-unet init: TF version is >= 2.0.0 - using `tf.keras` instead of `Keras`\n",
      "-----------------------------------------\n"
     ]
    },
    {
     "name": "stderr",
     "output_type": "stream",
     "text": [
      "2024-06-19 16:45:26.084020: I tensorflow/stream_executor/platform/default/dso_loader.cc:53] Successfully opened dynamic library libcuda.so.1\n",
      "2024-06-19 16:45:26.217682: I tensorflow/core/common_runtime/gpu/gpu_device.cc:1733] Found device 0 with properties: \n",
      "pciBusID: 0000:47:00.0 name: A100-SXM4-40GB computeCapability: 8.0\n",
      "coreClock: 1.41GHz coreCount: 108 deviceMemorySize: 39.59GiB deviceMemoryBandwidth: 1.41TiB/s\n",
      "2024-06-19 16:45:26.220749: I tensorflow/core/common_runtime/gpu/gpu_device.cc:1733] Found device 1 with properties: \n",
      "pciBusID: 0000:4e:00.0 name: A100-SXM4-40GB computeCapability: 8.0\n",
      "coreClock: 1.41GHz coreCount: 108 deviceMemorySize: 39.59GiB deviceMemoryBandwidth: 1.41TiB/s\n",
      "2024-06-19 16:45:26.220777: I tensorflow/stream_executor/platform/default/dso_loader.cc:53] Successfully opened dynamic library libcudart.so.11.0\n",
      "2024-06-19 16:45:26.236527: I tensorflow/stream_executor/platform/default/dso_loader.cc:53] Successfully opened dynamic library libcublas.so.11\n",
      "2024-06-19 16:45:26.236572: I tensorflow/stream_executor/platform/default/dso_loader.cc:53] Successfully opened dynamic library libcublasLt.so.11\n",
      "2024-06-19 16:45:26.238186: I tensorflow/stream_executor/platform/default/dso_loader.cc:53] Successfully opened dynamic library libcufft.so.10\n",
      "2024-06-19 16:45:26.240049: I tensorflow/stream_executor/platform/default/dso_loader.cc:53] Successfully opened dynamic library libcurand.so.10\n",
      "2024-06-19 16:45:26.241144: I tensorflow/stream_executor/platform/default/dso_loader.cc:53] Successfully opened dynamic library libcusolver.so.11\n",
      "2024-06-19 16:45:26.242712: I tensorflow/stream_executor/platform/default/dso_loader.cc:53] Successfully opened dynamic library libcusparse.so.11\n",
      "2024-06-19 16:45:26.243881: I tensorflow/stream_executor/platform/default/dso_loader.cc:53] Successfully opened dynamic library libcudnn.so.8\n",
      "2024-06-19 16:45:26.254730: I tensorflow/core/common_runtime/gpu/gpu_device.cc:1871] Adding visible gpu devices: 0, 1\n"
     ]
    },
    {
     "name": "stdout",
     "output_type": "stream",
     "text": [
      "Training fold 1...\n"
     ]
    },
    {
     "name": "stderr",
     "output_type": "stream",
     "text": [
      "2024-06-19 16:45:26.255433: I tensorflow/core/platform/cpu_feature_guard.cc:142] This TensorFlow binary is optimized with oneAPI Deep Neural Network Library (oneDNN) to use the following CPU instructions in performance-critical operations:  AVX2 FMA\n",
      "To enable them in other operations, rebuild TensorFlow with the appropriate compiler flags.\n",
      "2024-06-19 16:45:26.455261: I tensorflow/core/common_runtime/gpu/gpu_device.cc:1733] Found device 0 with properties: \n",
      "pciBusID: 0000:47:00.0 name: A100-SXM4-40GB computeCapability: 8.0\n",
      "coreClock: 1.41GHz coreCount: 108 deviceMemorySize: 39.59GiB deviceMemoryBandwidth: 1.41TiB/s\n",
      "2024-06-19 16:45:26.457798: I tensorflow/core/common_runtime/gpu/gpu_device.cc:1733] Found device 1 with properties: \n",
      "pciBusID: 0000:4e:00.0 name: A100-SXM4-40GB computeCapability: 8.0\n",
      "coreClock: 1.41GHz coreCount: 108 deviceMemorySize: 39.59GiB deviceMemoryBandwidth: 1.41TiB/s\n",
      "2024-06-19 16:45:26.467740: I tensorflow/core/common_runtime/gpu/gpu_device.cc:1871] Adding visible gpu devices: 0, 1\n",
      "2024-06-19 16:45:26.467800: I tensorflow/stream_executor/platform/default/dso_loader.cc:53] Successfully opened dynamic library libcudart.so.11.0\n",
      "2024-06-19 16:45:27.110227: I tensorflow/core/common_runtime/gpu/gpu_device.cc:1258] Device interconnect StreamExecutor with strength 1 edge matrix:\n",
      "2024-06-19 16:45:27.110284: I tensorflow/core/common_runtime/gpu/gpu_device.cc:1264]      0 1 \n",
      "2024-06-19 16:45:27.110290: I tensorflow/core/common_runtime/gpu/gpu_device.cc:1277] 0:   N Y \n",
      "2024-06-19 16:45:27.110294: I tensorflow/core/common_runtime/gpu/gpu_device.cc:1277] 1:   Y N \n",
      "2024-06-19 16:45:27.123237: I tensorflow/core/common_runtime/gpu/gpu_device.cc:1418] Created TensorFlow device (/job:localhost/replica:0/task:0/device:GPU:0 with 38425 MB memory) -> physical GPU (device: 0, name: A100-SXM4-40GB, pci bus id: 0000:47:00.0, compute capability: 8.0)\n",
      "2024-06-19 16:45:27.125968: I tensorflow/core/common_runtime/gpu/gpu_device.cc:1418] Created TensorFlow device (/job:localhost/replica:0/task:0/device:GPU:1 with 38425 MB memory) -> physical GPU (device: 1, name: A100-SXM4-40GB, pci bus id: 0000:4e:00.0, compute capability: 8.0)\n",
      "2024-06-19 16:45:28.601412: I tensorflow/compiler/mlir/mlir_graph_optimization_pass.cc:176] None of the MLIR Optimization Passes are enabled (registered 2)\n",
      "2024-06-19 16:45:28.622770: I tensorflow/core/platform/profile_utils/cpu_utils.cc:114] CPU Frequency: 2245740000 Hz\n"
     ]
    },
    {
     "name": "stdout",
     "output_type": "stream",
     "text": [
      "Epoch 1/100\n"
     ]
    },
    {
     "name": "stderr",
     "output_type": "stream",
     "text": [
      "2024-06-19 16:45:30.241554: I tensorflow/stream_executor/platform/default/dso_loader.cc:53] Successfully opened dynamic library libcudnn.so.8\n",
      "2024-06-19 16:45:30.951967: I tensorflow/stream_executor/cuda/cuda_dnn.cc:359] Loaded cuDNN version 8201\n",
      "2024-06-19 16:45:31.725375: W tensorflow/stream_executor/gpu/asm_compiler.cc:191] Falling back to the CUDA driver for PTX compilation; ptxas does not support CC 8.0\n",
      "2024-06-19 16:45:31.725401: W tensorflow/stream_executor/gpu/asm_compiler.cc:194] Used ptxas at ptxas\n",
      "2024-06-19 16:45:31.725459: W tensorflow/stream_executor/gpu/redzone_allocator.cc:314] Unimplemented: ptxas ptxas too old. Falling back to the driver to compile.\n",
      "Relying on driver to perform ptx compilation. \n",
      "Modify $PATH to customize ptxas location.\n",
      "This message will be only logged once.\n",
      "2024-06-19 16:45:31.800812: I tensorflow/stream_executor/platform/default/dso_loader.cc:53] Successfully opened dynamic library libcublas.so.11\n",
      "2024-06-19 16:45:32.616866: I tensorflow/stream_executor/platform/default/dso_loader.cc:53] Successfully opened dynamic library libcublasLt.so.11\n"
     ]
    },
    {
     "name": "stdout",
     "output_type": "stream",
     "text": [
      "759/759 [==============================] - 330s 419ms/step - loss: 0.0816 - iou: 4.6148e-05 - iou_thresholded: 0.2715 - val_loss: 0.0025 - val_iou: 1.1188e-04 - val_iou_thresholded: 0.8917\n",
      "Epoch 2/100\n",
      "759/759 [==============================] - 316s 416ms/step - loss: 0.0012 - iou: 3.3297e-04 - iou_thresholded: 0.4208 - val_loss: 5.8107e-04 - val_iou: 7.8017e-04 - val_iou_thresholded: 0.7939\n",
      "Epoch 3/100\n",
      "759/759 [==============================] - 316s 416ms/step - loss: 4.4670e-04 - iou: 0.0011 - iou_thresholded: 0.3825 - val_loss: 2.7322e-04 - val_iou: 0.0018 - val_iou_thresholded: 0.7012\n",
      "Epoch 4/100\n",
      "759/759 [==============================] - 316s 416ms/step - loss: 2.1782e-04 - iou: 0.0025 - iou_thresholded: 0.3916 - val_loss: 1.4868e-04 - val_iou: 0.0024 - val_iou_thresholded: 0.8917\n",
      "Epoch 5/100\n",
      "759/759 [==============================] - 316s 416ms/step - loss: 1.3967e-04 - iou: 0.0047 - iou_thresholded: 0.3901 - val_loss: 9.4722e-05 - val_iou: 0.0044 - val_iou_thresholded: 0.8553\n",
      "Epoch 6/100\n",
      "759/759 [==============================] - 316s 416ms/step - loss: 9.7862e-05 - iou: 0.0090 - iou_thresholded: 0.3976 - val_loss: 6.7914e-05 - val_iou: 0.0072 - val_iou_thresholded: 0.8917\n",
      "Epoch 7/100\n",
      "759/759 [==============================] - 316s 416ms/step - loss: 7.6234e-05 - iou: 0.0147 - iou_thresholded: 0.3878 - val_loss: 4.4943e-05 - val_iou: 0.0165 - val_iou_thresholded: 0.8416\n",
      "Epoch 8/100\n",
      "759/759 [==============================] - 316s 416ms/step - loss: 1.0533e-04 - iou: 0.0189 - iou_thresholded: 0.4250 - val_loss: 5.0575e-05 - val_iou: 0.0120 - val_iou_thresholded: 0.8917\n",
      "Epoch 9/100\n",
      "759/759 [==============================] - 316s 416ms/step - loss: 6.6556e-05 - iou: 0.0170 - iou_thresholded: 0.4190 - val_loss: 5.1511e-05 - val_iou: 0.0216 - val_iou_thresholded: 0.8917\n",
      "Epoch 10/100\n",
      "759/759 [==============================] - 316s 416ms/step - loss: 5.6815e-05 - iou: 0.0234 - iou_thresholded: 0.4045 - val_loss: 4.6603e-05 - val_iou: 0.0256 - val_iou_thresholded: 0.8917\n",
      "Epoch 11/100\n",
      "759/759 [==============================] - 316s 416ms/step - loss: 5.2117e-05 - iou: 0.0284 - iou_thresholded: 0.4067 - val_loss: 3.8868e-05 - val_iou: 0.0396 - val_iou_thresholded: 0.8917\n",
      "Epoch 12/100\n",
      "759/759 [==============================] - 316s 416ms/step - loss: 4.7031e-05 - iou: 0.0382 - iou_thresholded: 0.4213 - val_loss: 3.1792e-05 - val_iou: 0.0646 - val_iou_thresholded: 0.8917\n",
      "Epoch 13/100\n",
      "759/759 [==============================] - 316s 416ms/step - loss: 4.5957e-05 - iou: 0.0449 - iou_thresholded: 0.4048 - val_loss: 2.3847e-05 - val_iou: 0.0781 - val_iou_thresholded: 0.8807\n",
      "Epoch 14/100\n",
      "759/759 [==============================] - 316s 416ms/step - loss: 4.2642e-05 - iou: 0.0549 - iou_thresholded: 0.4281 - val_loss: 2.3686e-05 - val_iou: 0.1701 - val_iou_thresholded: 0.8841\n",
      "Epoch 15/100\n",
      "759/759 [==============================] - 316s 416ms/step - loss: 3.8574e-05 - iou: 0.0686 - iou_thresholded: 0.4222 - val_loss: 1.7745e-05 - val_iou: 0.2030 - val_iou_thresholded: 0.8788\n",
      "Epoch 16/100\n",
      "759/759 [==============================] - 316s 416ms/step - loss: 3.5175e-05 - iou: 0.0844 - iou_thresholded: 0.4383 - val_loss: 1.9322e-05 - val_iou: 0.2153 - val_iou_thresholded: 0.8787\n",
      "Epoch 17/100\n",
      "759/759 [==============================] - 316s 416ms/step - loss: 3.4292e-05 - iou: 0.0949 - iou_thresholded: 0.4460 - val_loss: 2.2312e-05 - val_iou: 0.3176 - val_iou_thresholded: 0.8802\n",
      "Epoch 18/100\n",
      "759/759 [==============================] - 316s 416ms/step - loss: 3.2583e-05 - iou: 0.1042 - iou_thresholded: 0.4549 - val_loss: 1.4254e-05 - val_iou: 0.2089 - val_iou_thresholded: 0.8697\n",
      "Epoch 19/100\n",
      "759/759 [==============================] - 316s 416ms/step - loss: 3.0802e-05 - iou: 0.1146 - iou_thresholded: 0.4774 - val_loss: 1.6848e-05 - val_iou: 0.2185 - val_iou_thresholded: 0.8812\n",
      "Epoch 20/100\n",
      "759/759 [==============================] - 316s 416ms/step - loss: 2.9610e-05 - iou: 0.1184 - iou_thresholded: 0.4919 - val_loss: 1.9531e-05 - val_iou: 0.3752 - val_iou_thresholded: 0.8829\n",
      "Epoch 21/100\n",
      "759/759 [==============================] - 316s 416ms/step - loss: 2.8721e-05 - iou: 0.1323 - iou_thresholded: 0.4911 - val_loss: 1.5757e-05 - val_iou: 0.3149 - val_iou_thresholded: 0.8910\n",
      "Epoch 22/100\n",
      "759/759 [==============================] - 316s 416ms/step - loss: 2.8005e-05 - iou: 0.1321 - iou_thresholded: 0.4682 - val_loss: 1.4999e-05 - val_iou: 0.2505 - val_iou_thresholded: 0.8848\n",
      "Epoch 23/100\n",
      "759/759 [==============================] - 316s 416ms/step - loss: 2.6083e-05 - iou: 0.1430 - iou_thresholded: 0.4925 - val_loss: 1.1337e-05 - val_iou: 0.3055 - val_iou_thresholded: 0.8997\n",
      "Epoch 24/100\n",
      "759/759 [==============================] - 316s 416ms/step - loss: 2.5591e-05 - iou: 0.1542 - iou_thresholded: 0.5047 - val_loss: 1.3685e-05 - val_iou: 0.3552 - val_iou_thresholded: 0.8847\n",
      "Epoch 25/100\n",
      "759/759 [==============================] - 316s 416ms/step - loss: 2.5638e-05 - iou: 0.1589 - iou_thresholded: 0.5102 - val_loss: 1.0160e-05 - val_iou: 0.3779 - val_iou_thresholded: 0.9086\n",
      "Epoch 26/100\n",
      "759/759 [==============================] - 316s 416ms/step - loss: 2.3677e-05 - iou: 0.1738 - iou_thresholded: 0.5252 - val_loss: 1.6380e-05 - val_iou: 0.4436 - val_iou_thresholded: 0.8783\n",
      "Epoch 27/100\n",
      "759/759 [==============================] - 316s 416ms/step - loss: 2.2375e-05 - iou: 0.1825 - iou_thresholded: 0.5150 - val_loss: 9.9988e-06 - val_iou: 0.4157 - val_iou_thresholded: 0.9063\n",
      "Epoch 28/100\n",
      "759/759 [==============================] - 316s 416ms/step - loss: 2.1733e-05 - iou: 0.1950 - iou_thresholded: 0.5368 - val_loss: 1.0651e-05 - val_iou: 0.4231 - val_iou_thresholded: 0.9062\n",
      "Epoch 29/100\n",
      "759/759 [==============================] - 316s 416ms/step - loss: 2.1949e-05 - iou: 0.1933 - iou_thresholded: 0.5303 - val_loss: 9.8144e-06 - val_iou: 0.3925 - val_iou_thresholded: 0.9029\n",
      "Epoch 30/100\n",
      "759/759 [==============================] - 316s 416ms/step - loss: 2.0329e-05 - iou: 0.2060 - iou_thresholded: 0.5508 - val_loss: 1.5646e-05 - val_iou: 0.3642 - val_iou_thresholded: 0.8857\n",
      "Epoch 31/100\n",
      "759/759 [==============================] - 318s 418ms/step - loss: 2.1521e-05 - iou: 0.1983 - iou_thresholded: 0.5464 - val_loss: 1.2385e-05 - val_iou: 0.4556 - val_iou_thresholded: 0.8852\n",
      "Epoch 32/100\n",
      "759/759 [==============================] - 315s 415ms/step - loss: 2.0757e-05 - iou: 0.2054 - iou_thresholded: 0.5600 - val_loss: 1.1956e-05 - val_iou: 0.4711 - val_iou_thresholded: 0.9018\n",
      "Epoch 33/100\n",
      "759/759 [==============================] - 315s 415ms/step - loss: 1.8886e-05 - iou: 0.2222 - iou_thresholded: 0.5837 - val_loss: 1.2412e-05 - val_iou: 0.4412 - val_iou_thresholded: 0.8980\n",
      "Epoch 34/100\n",
      "759/759 [==============================] - 315s 415ms/step - loss: 2.0177e-05 - iou: 0.2138 - iou_thresholded: 0.5703 - val_loss: 1.1617e-05 - val_iou: 0.5316 - val_iou_thresholded: 0.8941\n",
      "Epoch 35/100\n",
      "759/759 [==============================] - 316s 416ms/step - loss: 1.9527e-05 - iou: 0.2142 - iou_thresholded: 0.5747 - val_loss: 9.5766e-06 - val_iou: 0.4770 - val_iou_thresholded: 0.9155\n",
      "Epoch 36/100\n",
      "759/759 [==============================] - 316s 416ms/step - loss: 1.7940e-05 - iou: 0.2438 - iou_thresholded: 0.5916 - val_loss: 8.9390e-06 - val_iou: 0.5067 - val_iou_thresholded: 0.8994\n",
      "Epoch 37/100\n",
      "759/759 [==============================] - 316s 416ms/step - loss: 1.6683e-05 - iou: 0.2502 - iou_thresholded: 0.6193 - val_loss: 8.8762e-06 - val_iou: 0.5476 - val_iou_thresholded: 0.9021\n",
      "Epoch 38/100\n",
      "759/759 [==============================] - 316s 416ms/step - loss: 1.6838e-05 - iou: 0.2620 - iou_thresholded: 0.5992 - val_loss: 9.8338e-06 - val_iou: 0.3910 - val_iou_thresholded: 0.9023\n",
      "Epoch 39/100\n",
      "759/759 [==============================] - 316s 416ms/step - loss: 1.5541e-05 - iou: 0.2900 - iou_thresholded: 0.6365 - val_loss: 1.0095e-05 - val_iou: 0.2334 - val_iou_thresholded: 0.8949\n",
      "Epoch 40/100\n",
      "759/759 [==============================] - 316s 416ms/step - loss: 1.5396e-05 - iou: 0.2897 - iou_thresholded: 0.6326 - val_loss: 1.9372e-05 - val_iou: 0.6268 - val_iou_thresholded: 0.9175\n",
      "Epoch 41/100\n",
      "759/759 [==============================] - 318s 420ms/step - loss: 1.5151e-05 - iou: 0.3138 - iou_thresholded: 0.6593 - val_loss: 9.6910e-06 - val_iou: 0.2810 - val_iou_thresholded: 0.9144\n"
     ]
    },
    {
     "name": "stdout",
     "output_type": "stream",
     "text": [
      "Epoch 42/100\n",
      "759/759 [==============================] - 316s 416ms/step - loss: 1.3717e-05 - iou: 0.3136 - iou_thresholded: 0.6756 - val_loss: 9.4924e-06 - val_iou: 0.5325 - val_iou_thresholded: 0.9252\n",
      "Epoch 43/100\n",
      "759/759 [==============================] - 316s 416ms/step - loss: 1.3703e-05 - iou: 0.3232 - iou_thresholded: 0.6648 - val_loss: 1.5668e-05 - val_iou: 0.5901 - val_iou_thresholded: 0.8980\n",
      "Epoch 44/100\n",
      "759/759 [==============================] - 315s 416ms/step - loss: 1.2900e-05 - iou: 0.3285 - iou_thresholded: 0.6706 - val_loss: 1.1693e-05 - val_iou: 0.5368 - val_iou_thresholded: 0.9256\n",
      "Epoch 45/100\n",
      "759/759 [==============================] - 315s 415ms/step - loss: 1.2287e-05 - iou: 0.3583 - iou_thresholded: 0.6842 - val_loss: 1.6710e-05 - val_iou: 0.2925 - val_iou_thresholded: 0.9105\n",
      "Epoch 46/100\n",
      "759/759 [==============================] - 315s 415ms/step - loss: 1.2071e-05 - iou: 0.3562 - iou_thresholded: 0.6826 - val_loss: 1.2339e-05 - val_iou: 0.6797 - val_iou_thresholded: 0.9231\n",
      "Epoch 47/100\n",
      "759/759 [==============================] - 315s 415ms/step - loss: 1.1152e-05 - iou: 0.3826 - iou_thresholded: 0.7098 - val_loss: 2.9264e-05 - val_iou: 0.6749 - val_iou_thresholded: 0.9169\n",
      "Epoch 48/100\n",
      "759/759 [==============================] - 315s 415ms/step - loss: 1.2590e-05 - iou: 0.3454 - iou_thresholded: 0.6794 - val_loss: 1.2371e-05 - val_iou: 0.6996 - val_iou_thresholded: 0.9079\n",
      "Epoch 49/100\n",
      "759/759 [==============================] - 315s 415ms/step - loss: 1.1546e-05 - iou: 0.3811 - iou_thresholded: 0.7131 - val_loss: 1.0585e-05 - val_iou: 0.5378 - val_iou_thresholded: 0.8827\n",
      "Epoch 50/100\n",
      "759/759 [==============================] - 315s 415ms/step - loss: 1.1682e-05 - iou: 0.3771 - iou_thresholded: 0.7087 - val_loss: 1.7032e-05 - val_iou: 0.6510 - val_iou_thresholded: 0.9152\n",
      "Epoch 51/100\n",
      "759/759 [==============================] - 315s 415ms/step - loss: 1.1010e-05 - iou: 0.3949 - iou_thresholded: 0.7193 - val_loss: 1.1317e-05 - val_iou: 0.5781 - val_iou_thresholded: 0.9032\n",
      "Epoch 52/100\n",
      "759/759 [==============================] - 315s 415ms/step - loss: 9.4973e-06 - iou: 0.4395 - iou_thresholded: 0.7503 - val_loss: 1.1709e-05 - val_iou: 0.5897 - val_iou_thresholded: 0.8881\n",
      "Epoch 53/100\n",
      "759/759 [==============================] - 315s 415ms/step - loss: 9.3209e-06 - iou: 0.4304 - iou_thresholded: 0.7619 - val_loss: 1.4378e-05 - val_iou: 0.5994 - val_iou_thresholded: 0.8837\n",
      "Epoch 54/100\n",
      "759/759 [==============================] - 315s 415ms/step - loss: 9.2775e-06 - iou: 0.4563 - iou_thresholded: 0.7554 - val_loss: 1.4330e-05 - val_iou: 0.4092 - val_iou_thresholded: 0.8997\n",
      "Epoch 55/100\n",
      "759/759 [==============================] - 315s 415ms/step - loss: 1.0393e-05 - iou: 0.4224 - iou_thresholded: 0.7289 - val_loss: 7.6014e-06 - val_iou: 0.6085 - val_iou_thresholded: 0.8632\n",
      "Epoch 56/100\n",
      "759/759 [==============================] - 315s 415ms/step - loss: 8.8718e-06 - iou: 0.4651 - iou_thresholded: 0.7746 - val_loss: 1.0455e-05 - val_iou: 0.6583 - val_iou_thresholded: 0.8921\n",
      "Epoch 57/100\n",
      "759/759 [==============================] - 315s 415ms/step - loss: 8.8717e-06 - iou: 0.4705 - iou_thresholded: 0.7542 - val_loss: 1.5663e-05 - val_iou: 0.5840 - val_iou_thresholded: 0.8780\n",
      "Epoch 58/100\n",
      "759/759 [==============================] - 315s 415ms/step - loss: 9.4275e-06 - iou: 0.4598 - iou_thresholded: 0.7599 - val_loss: 1.4742e-05 - val_iou: 0.6064 - val_iou_thresholded: 0.8995\n",
      "Epoch 59/100\n",
      "759/759 [==============================] - 315s 415ms/step - loss: 9.4129e-06 - iou: 0.4570 - iou_thresholded: 0.7582 - val_loss: 2.1792e-05 - val_iou: 0.4986 - val_iou_thresholded: 0.8997\n",
      "Epoch 60/100\n",
      "759/759 [==============================] - 315s 415ms/step - loss: 9.1923e-06 - iou: 0.4576 - iou_thresholded: 0.7562 - val_loss: 1.5931e-05 - val_iou: 0.5071 - val_iou_thresholded: 0.8916\n",
      "Epoch 61/100\n",
      "759/759 [==============================] - 315s 415ms/step - loss: 7.8009e-06 - iou: 0.5038 - iou_thresholded: 0.7949 - val_loss: 1.5035e-05 - val_iou: 0.6213 - val_iou_thresholded: 0.8721\n",
      "Epoch 62/100\n",
      "759/759 [==============================] - 315s 415ms/step - loss: 7.3386e-06 - iou: 0.5308 - iou_thresholded: 0.7946 - val_loss: 1.7228e-05 - val_iou: 0.4628 - val_iou_thresholded: 0.9008\n",
      "Epoch 63/100\n",
      "759/759 [==============================] - 315s 415ms/step - loss: 7.2880e-06 - iou: 0.5438 - iou_thresholded: 0.7984 - val_loss: 1.8075e-05 - val_iou: 0.6724 - val_iou_thresholded: 0.9126\n",
      "Epoch 64/100\n",
      "759/759 [==============================] - 315s 415ms/step - loss: 7.8781e-06 - iou: 0.5290 - iou_thresholded: 0.7882 - val_loss: 1.1456e-05 - val_iou: 0.5846 - val_iou_thresholded: 0.8793\n",
      "Epoch 65/100\n",
      "759/759 [==============================] - 315s 415ms/step - loss: 7.9181e-06 - iou: 0.5138 - iou_thresholded: 0.7848 - val_loss: 1.8839e-05 - val_iou: 0.6619 - val_iou_thresholded: 0.8887\n",
      "Epoch 66/100\n",
      "759/759 [==============================] - 315s 415ms/step - loss: 7.0883e-06 - iou: 0.5409 - iou_thresholded: 0.8087 - val_loss: 1.7816e-05 - val_iou: 0.7314 - val_iou_thresholded: 0.9130\n",
      "Epoch 67/100\n",
      "759/759 [==============================] - 315s 415ms/step - loss: 7.3263e-06 - iou: 0.5517 - iou_thresholded: 0.8043 - val_loss: 2.0284e-05 - val_iou: 0.7184 - val_iou_thresholded: 0.8945\n",
      "Epoch 68/100\n",
      "759/759 [==============================] - 315s 415ms/step - loss: 7.3033e-06 - iou: 0.5506 - iou_thresholded: 0.8161 - val_loss: 1.8729e-05 - val_iou: 0.7237 - val_iou_thresholded: 0.9109\n",
      "Epoch 69/100\n",
      "759/759 [==============================] - 315s 415ms/step - loss: 6.9926e-06 - iou: 0.5572 - iou_thresholded: 0.8199 - val_loss: 1.9926e-05 - val_iou: 0.6533 - val_iou_thresholded: 0.8917\n",
      "Epoch 70/100\n",
      "759/759 [==============================] - 315s 415ms/step - loss: 7.0171e-06 - iou: 0.5589 - iou_thresholded: 0.8066 - val_loss: 1.9079e-05 - val_iou: 0.6694 - val_iou_thresholded: 0.8990\n",
      "Epoch 71/100\n",
      "759/759 [==============================] - 315s 415ms/step - loss: 7.2283e-06 - iou: 0.5513 - iou_thresholded: 0.8031 - val_loss: 1.9994e-05 - val_iou: 0.6678 - val_iou_thresholded: 0.8841\n",
      "Epoch 72/100\n",
      "759/759 [==============================] - 315s 415ms/step - loss: 6.5778e-06 - iou: 0.5787 - iou_thresholded: 0.8078 - val_loss: 2.2572e-05 - val_iou: 0.7532 - val_iou_thresholded: 0.9080\n",
      "Epoch 73/100\n",
      "759/759 [==============================] - 315s 415ms/step - loss: 6.4806e-06 - iou: 0.5988 - iou_thresholded: 0.8261 - val_loss: 1.8566e-05 - val_iou: 0.6216 - val_iou_thresholded: 0.8998\n",
      "Epoch 74/100\n",
      "759/759 [==============================] - 315s 415ms/step - loss: 6.7275e-06 - iou: 0.5656 - iou_thresholded: 0.8149 - val_loss: 1.8102e-05 - val_iou: 0.5115 - val_iou_thresholded: 0.8783\n",
      "Epoch 75/100\n",
      "759/759 [==============================] - 315s 415ms/step - loss: 6.2880e-06 - iou: 0.5916 - iou_thresholded: 0.8213 - val_loss: 2.3335e-05 - val_iou: 0.7417 - val_iou_thresholded: 0.9031\n",
      "Epoch 76/100\n",
      "759/759 [==============================] - 315s 415ms/step - loss: 6.1282e-06 - iou: 0.6175 - iou_thresholded: 0.8354 - val_loss: 2.0891e-05 - val_iou: 0.6844 - val_iou_thresholded: 0.9025\n",
      "Epoch 77/100\n",
      "759/759 [==============================] - 315s 415ms/step - loss: 6.0985e-06 - iou: 0.6138 - iou_thresholded: 0.8220 - val_loss: 1.6757e-05 - val_iou: 0.6456 - val_iou_thresholded: 0.9046\n",
      "Epoch 78/100\n",
      "759/759 [==============================] - 315s 415ms/step - loss: 5.9289e-06 - iou: 0.6359 - iou_thresholded: 0.8339 - val_loss: 2.6275e-05 - val_iou: 0.6154 - val_iou_thresholded: 0.9098\n",
      "Epoch 79/100\n",
      "759/759 [==============================] - 315s 415ms/step - loss: 5.9718e-06 - iou: 0.6305 - iou_thresholded: 0.8234 - val_loss: 1.8255e-05 - val_iou: 0.7346 - val_iou_thresholded: 0.9123\n",
      "Epoch 80/100\n",
      "759/759 [==============================] - 315s 415ms/step - loss: 5.9840e-06 - iou: 0.6373 - iou_thresholded: 0.8317 - val_loss: 2.1654e-05 - val_iou: 0.6856 - val_iou_thresholded: 0.9151\n",
      "Epoch 81/100\n",
      "759/759 [==============================] - 315s 415ms/step - loss: 5.8423e-06 - iou: 0.6263 - iou_thresholded: 0.8348 - val_loss: 1.9709e-05 - val_iou: 0.7917 - val_iou_thresholded: 0.9124\n",
      "Epoch 82/100\n",
      "759/759 [==============================] - 315s 414ms/step - loss: 5.7874e-06 - iou: 0.6315 - iou_thresholded: 0.8303 - val_loss: 1.2232e-05 - val_iou: 0.6768 - val_iou_thresholded: 0.8792\n",
      "Epoch 83/100\n",
      "759/759 [==============================] - 315s 414ms/step - loss: 6.1114e-06 - iou: 0.6214 - iou_thresholded: 0.8133 - val_loss: 1.8127e-05 - val_iou: 0.7725 - val_iou_thresholded: 0.9289\n",
      "Epoch 84/100\n",
      "759/759 [==============================] - 314s 414ms/step - loss: 8.5757e-06 - iou: 0.5024 - iou_thresholded: 0.7681 - val_loss: 1.8797e-05 - val_iou: 0.5565 - val_iou_thresholded: 0.8874\n",
      "Epoch 85/100\n",
      "759/759 [==============================] - 314s 414ms/step - loss: 6.3255e-06 - iou: 0.5850 - iou_thresholded: 0.8232 - val_loss: 1.7303e-05 - val_iou: 0.6408 - val_iou_thresholded: 0.9097\n",
      "Epoch 86/100\n",
      "759/759 [==============================] - 314s 414ms/step - loss: 5.8457e-06 - iou: 0.6212 - iou_thresholded: 0.8368 - val_loss: 2.7839e-05 - val_iou: 0.7582 - val_iou_thresholded: 0.9103\n",
      "Epoch 87/100\n",
      "759/759 [==============================] - 314s 414ms/step - loss: 5.5511e-06 - iou: 0.6407 - iou_thresholded: 0.8320 - val_loss: 2.1480e-05 - val_iou: 0.6056 - val_iou_thresholded: 0.9090\n",
      "Epoch 88/100\n",
      "759/759 [==============================] - 314s 414ms/step - loss: 5.7960e-06 - iou: 0.6469 - iou_thresholded: 0.8410 - val_loss: 1.7785e-05 - val_iou: 0.6139 - val_iou_thresholded: 0.9024\n",
      "Epoch 89/100\n",
      "759/759 [==============================] - 314s 414ms/step - loss: 5.5841e-06 - iou: 0.6456 - iou_thresholded: 0.8411 - val_loss: 1.9081e-05 - val_iou: 0.7594 - val_iou_thresholded: 0.9169\n",
      "Epoch 90/100\n",
      "759/759 [==============================] - 314s 414ms/step - loss: 5.2047e-06 - iou: 0.6801 - iou_thresholded: 0.8493 - val_loss: 2.4886e-05 - val_iou: 0.6822 - val_iou_thresholded: 0.9097\n",
      "Epoch 91/100\n",
      "759/759 [==============================] - 314s 414ms/step - loss: 5.2386e-06 - iou: 0.6767 - iou_thresholded: 0.8519 - val_loss: 2.2077e-05 - val_iou: 0.7403 - val_iou_thresholded: 0.9035\n",
      "Epoch 92/100\n",
      "759/759 [==============================] - 314s 414ms/step - loss: 5.4126e-06 - iou: 0.6618 - iou_thresholded: 0.8310 - val_loss: 2.1482e-05 - val_iou: 0.6908 - val_iou_thresholded: 0.9056\n",
      "Epoch 93/100\n",
      "759/759 [==============================] - 314s 414ms/step - loss: 4.9419e-06 - iou: 0.6816 - iou_thresholded: 0.8523 - val_loss: 2.3865e-05 - val_iou: 0.7910 - val_iou_thresholded: 0.9050\n",
      "Epoch 94/100\n",
      "759/759 [==============================] - 314s 414ms/step - loss: 5.0563e-06 - iou: 0.6957 - iou_thresholded: 0.8546 - val_loss: 2.3172e-05 - val_iou: 0.7434 - val_iou_thresholded: 0.9097\n",
      "Epoch 95/100\n",
      "759/759 [==============================] - 314s 414ms/step - loss: 4.9537e-06 - iou: 0.6874 - iou_thresholded: 0.8537 - val_loss: 2.7130e-05 - val_iou: 0.7851 - val_iou_thresholded: 0.9103\n",
      "Epoch 96/100\n",
      "759/759 [==============================] - 314s 414ms/step - loss: 5.3532e-06 - iou: 0.6654 - iou_thresholded: 0.8448 - val_loss: 2.3987e-05 - val_iou: 0.7665 - val_iou_thresholded: 0.9100\n",
      "Epoch 97/100\n",
      "759/759 [==============================] - 314s 413ms/step - loss: 4.7355e-06 - iou: 0.7185 - iou_thresholded: 0.8622 - val_loss: 2.4051e-05 - val_iou: 0.8106 - val_iou_thresholded: 0.9037\n",
      "Epoch 98/100\n",
      "759/759 [==============================] - 314s 413ms/step - loss: 4.4490e-06 - iou: 0.7396 - iou_thresholded: 0.8694 - val_loss: 2.9097e-05 - val_iou: 0.8157 - val_iou_thresholded: 0.8981\n",
      "Epoch 99/100\n",
      "759/759 [==============================] - 314s 413ms/step - loss: 5.0470e-06 - iou: 0.7025 - iou_thresholded: 0.8558 - val_loss: 2.1652e-05 - val_iou: 0.7708 - val_iou_thresholded: 0.9123\n",
      "Epoch 100/100\n",
      "759/759 [==============================] - 314s 413ms/step - loss: 4.9636e-06 - iou: 0.7161 - iou_thresholded: 0.8572 - val_loss: 2.6112e-05 - val_iou: 0.5342 - val_iou_thresholded: 0.8563\n",
      "Training fold 2...\n",
      "Epoch 1/100\n",
      "759/759 [==============================] - 328s 430ms/step - loss: 0.0794 - iou: 4.8118e-05 - iou_thresholded: 0.3428 - val_loss: 0.0024 - val_iou: 1.1205e-04 - val_iou_thresholded: 0.8764\n",
      "Epoch 2/100\n",
      "759/759 [==============================] - 326s 427ms/step - loss: 0.0012 - iou: 3.8952e-04 - iou_thresholded: 0.4256 - val_loss: 5.9976e-04 - val_iou: 4.9513e-04 - val_iou_thresholded: 0.8764\n",
      "Epoch 3/100\n",
      "759/759 [==============================] - 324s 427ms/step - loss: 4.1177e-04 - iou: 0.0012 - iou_thresholded: 0.3822 - val_loss: 4.0721e-04 - val_iou: 9.5367e-04 - val_iou_thresholded: 0.8764\n",
      "Epoch 4/100\n",
      "759/759 [==============================] - 324s 427ms/step - loss: 2.2211e-04 - iou: 0.0028 - iou_thresholded: 0.3737 - val_loss: 1.8102e-04 - val_iou: 0.0028 - val_iou_thresholded: 0.8613\n",
      "Epoch 5/100\n",
      "759/759 [==============================] - 324s 427ms/step - loss: 1.6243e-04 - iou: 0.0043 - iou_thresholded: 0.4064 - val_loss: 2.1641e-04 - val_iou: 0.0042 - val_iou_thresholded: 0.8764\n",
      "Epoch 6/100\n",
      "759/759 [==============================] - 324s 427ms/step - loss: 1.0383e-04 - iou: 0.0064 - iou_thresholded: 0.4202 - val_loss: 8.9931e-05 - val_iou: 0.0071 - val_iou_thresholded: 0.8764\n",
      "Epoch 7/100\n",
      "759/759 [==============================] - 324s 427ms/step - loss: 7.5443e-05 - iou: 0.0118 - iou_thresholded: 0.4079 - val_loss: 7.0495e-05 - val_iou: 0.0120 - val_iou_thresholded: 0.8689\n",
      "Epoch 8/100\n",
      "759/759 [==============================] - 324s 427ms/step - loss: 6.1715e-05 - iou: 0.0198 - iou_thresholded: 0.4046 - val_loss: 5.9798e-05 - val_iou: 0.0186 - val_iou_thresholded: 0.8776\n",
      "Epoch 9/100\n",
      "759/759 [==============================] - 324s 427ms/step - loss: 5.6168e-05 - iou: 0.0254 - iou_thresholded: 0.4089 - val_loss: 5.5580e-05 - val_iou: 0.0235 - val_iou_thresholded: 0.8664\n",
      "Epoch 10/100\n",
      "759/759 [==============================] - 324s 427ms/step - loss: 4.8678e-05 - iou: 0.0358 - iou_thresholded: 0.4233 - val_loss: 5.3967e-05 - val_iou: 0.0343 - val_iou_thresholded: 0.8775\n",
      "Epoch 11/100\n",
      "759/759 [==============================] - 324s 427ms/step - loss: 4.6795e-05 - iou: 0.0467 - iou_thresholded: 0.4278 - val_loss: 7.7242e-05 - val_iou: 0.0562 - val_iou_thresholded: 0.8764\n",
      "Epoch 12/100\n",
      "759/759 [==============================] - 324s 427ms/step - loss: 4.4464e-05 - iou: 0.0539 - iou_thresholded: 0.4228 - val_loss: 4.6351e-05 - val_iou: 0.0739 - val_iou_thresholded: 0.8612\n",
      "Epoch 13/100\n",
      "759/759 [==============================] - 324s 427ms/step - loss: 3.9893e-05 - iou: 0.0620 - iou_thresholded: 0.4242 - val_loss: 4.3272e-05 - val_iou: 0.0895 - val_iou_thresholded: 0.8772\n",
      "Epoch 14/100\n",
      "759/759 [==============================] - 324s 427ms/step - loss: 4.8679e-05 - iou: 0.0462 - iou_thresholded: 0.4212 - val_loss: 4.2438e-05 - val_iou: 0.0969 - val_iou_thresholded: 0.8622\n",
      "Epoch 15/100\n",
      "759/759 [==============================] - 324s 427ms/step - loss: 3.7855e-05 - iou: 0.0707 - iou_thresholded: 0.4412 - val_loss: 4.1056e-05 - val_iou: 0.1294 - val_iou_thresholded: 0.8847\n",
      "Epoch 16/100\n",
      "759/759 [==============================] - 324s 427ms/step - loss: 3.7062e-05 - iou: 0.0811 - iou_thresholded: 0.4377 - val_loss: 4.0596e-05 - val_iou: 0.1446 - val_iou_thresholded: 0.8765\n",
      "Epoch 17/100\n",
      "759/759 [==============================] - 324s 427ms/step - loss: 3.4580e-05 - iou: 0.0949 - iou_thresholded: 0.4547 - val_loss: 3.7843e-05 - val_iou: 0.1460 - val_iou_thresholded: 0.8774\n",
      "Epoch 18/100\n",
      "759/759 [==============================] - 324s 426ms/step - loss: 3.1533e-05 - iou: 0.1032 - iou_thresholded: 0.4600 - val_loss: 3.7726e-05 - val_iou: 0.2075 - val_iou_thresholded: 0.8797\n",
      "Epoch 19/100\n",
      "759/759 [==============================] - 324s 426ms/step - loss: 2.9766e-05 - iou: 0.1145 - iou_thresholded: 0.4797 - val_loss: 3.3636e-05 - val_iou: 0.2392 - val_iou_thresholded: 0.8817\n",
      "Epoch 20/100\n",
      "759/759 [==============================] - 324s 427ms/step - loss: 3.1293e-05 - iou: 0.1196 - iou_thresholded: 0.4661 - val_loss: 5.1629e-05 - val_iou: 0.2472 - val_iou_thresholded: 0.8764\n",
      "Epoch 21/100\n",
      "759/759 [==============================] - 324s 426ms/step - loss: 2.7331e-05 - iou: 0.1466 - iou_thresholded: 0.4953 - val_loss: 3.2216e-05 - val_iou: 0.2973 - val_iou_thresholded: 0.8796\n",
      "Epoch 22/100\n"
     ]
    },
    {
     "name": "stdout",
     "output_type": "stream",
     "text": [
      "759/759 [==============================] - 324s 427ms/step - loss: 2.5966e-05 - iou: 0.1529 - iou_thresholded: 0.5104 - val_loss: 2.6503e-05 - val_iou: 0.2426 - val_iou_thresholded: 0.8895\n",
      "Epoch 23/100\n",
      "759/759 [==============================] - 324s 427ms/step - loss: 2.6002e-05 - iou: 0.1512 - iou_thresholded: 0.4938 - val_loss: 2.4120e-05 - val_iou: 0.3335 - val_iou_thresholded: 0.8833\n",
      "Epoch 24/100\n",
      "759/759 [==============================] - 324s 426ms/step - loss: 2.4630e-05 - iou: 0.1688 - iou_thresholded: 0.5214 - val_loss: 3.7052e-05 - val_iou: 0.2695 - val_iou_thresholded: 0.8921\n",
      "Epoch 25/100\n",
      "759/759 [==============================] - 324s 426ms/step - loss: 2.3062e-05 - iou: 0.1852 - iou_thresholded: 0.5259 - val_loss: 3.0353e-05 - val_iou: 0.3938 - val_iou_thresholded: 0.8498\n",
      "Epoch 26/100\n",
      "759/759 [==============================] - 324s 426ms/step - loss: 2.2096e-05 - iou: 0.1877 - iou_thresholded: 0.5578 - val_loss: 3.3940e-05 - val_iou: 0.3061 - val_iou_thresholded: 0.8768\n",
      "Epoch 27/100\n",
      "759/759 [==============================] - 324s 426ms/step - loss: 2.3718e-05 - iou: 0.1932 - iou_thresholded: 0.5423 - val_loss: 3.2892e-05 - val_iou: 0.3819 - val_iou_thresholded: 0.8669\n",
      "Epoch 28/100\n",
      "759/759 [==============================] - 324s 427ms/step - loss: 2.3517e-05 - iou: 0.1996 - iou_thresholded: 0.5544 - val_loss: 2.4512e-05 - val_iou: 0.3928 - val_iou_thresholded: 0.8334\n",
      "Epoch 29/100\n",
      "759/759 [==============================] - 324s 427ms/step - loss: 2.0843e-05 - iou: 0.2237 - iou_thresholded: 0.5802 - val_loss: 3.0611e-05 - val_iou: 0.4610 - val_iou_thresholded: 0.8981\n",
      "Epoch 30/100\n",
      "759/759 [==============================] - 324s 427ms/step - loss: 2.0153e-05 - iou: 0.2358 - iou_thresholded: 0.5944 - val_loss: 2.6006e-05 - val_iou: 0.4733 - val_iou_thresholded: 0.8981\n",
      "Epoch 31/100\n",
      "759/759 [==============================] - 324s 426ms/step - loss: 1.8891e-05 - iou: 0.2479 - iou_thresholded: 0.6188 - val_loss: 2.7376e-05 - val_iou: 0.4810 - val_iou_thresholded: 0.8970\n",
      "Epoch 32/100\n",
      "759/759 [==============================] - 324s 427ms/step - loss: 1.7655e-05 - iou: 0.2624 - iou_thresholded: 0.6118 - val_loss: 2.6551e-05 - val_iou: 0.4880 - val_iou_thresholded: 0.8613\n",
      "Epoch 33/100\n",
      "759/759 [==============================] - 324s 426ms/step - loss: 1.7184e-05 - iou: 0.2729 - iou_thresholded: 0.6236 - val_loss: 3.7158e-05 - val_iou: 0.5059 - val_iou_thresholded: 0.9106\n",
      "Epoch 34/100\n",
      "759/759 [==============================] - 324s 427ms/step - loss: 1.6492e-05 - iou: 0.2710 - iou_thresholded: 0.6386 - val_loss: 2.9493e-05 - val_iou: 0.4681 - val_iou_thresholded: 0.9008\n",
      "Epoch 35/100\n",
      "759/759 [==============================] - 324s 427ms/step - loss: 1.6705e-05 - iou: 0.2711 - iou_thresholded: 0.6231 - val_loss: 4.3422e-05 - val_iou: 0.5602 - val_iou_thresholded: 0.8962\n",
      "Epoch 36/100\n",
      "759/759 [==============================] - 324s 427ms/step - loss: 1.4603e-05 - iou: 0.2994 - iou_thresholded: 0.6555 - val_loss: 3.5513e-05 - val_iou: 0.5666 - val_iou_thresholded: 0.8685\n",
      "Epoch 37/100\n",
      "759/759 [==============================] - 324s 427ms/step - loss: 1.5509e-05 - iou: 0.2988 - iou_thresholded: 0.6463 - val_loss: 4.4662e-05 - val_iou: 0.5281 - val_iou_thresholded: 0.8695\n",
      "Epoch 38/100\n",
      "759/759 [==============================] - 324s 427ms/step - loss: 1.3833e-05 - iou: 0.3231 - iou_thresholded: 0.6695 - val_loss: 2.4565e-05 - val_iou: 0.4559 - val_iou_thresholded: 0.8838\n",
      "Epoch 39/100\n",
      "759/759 [==============================] - 324s 427ms/step - loss: 1.3795e-05 - iou: 0.3319 - iou_thresholded: 0.6751 - val_loss: 2.8004e-05 - val_iou: 0.5387 - val_iou_thresholded: 0.8849\n",
      "Epoch 40/100\n",
      "759/759 [==============================] - 324s 426ms/step - loss: 1.2364e-05 - iou: 0.3556 - iou_thresholded: 0.6764 - val_loss: 2.6015e-05 - val_iou: 0.5372 - val_iou_thresholded: 0.8831\n",
      "Epoch 41/100\n",
      "759/759 [==============================] - 324s 427ms/step - loss: 1.2718e-05 - iou: 0.3788 - iou_thresholded: 0.7056 - val_loss: 2.2832e-05 - val_iou: 0.5408 - val_iou_thresholded: 0.8478\n",
      "Epoch 42/100\n",
      "759/759 [==============================] - 324s 427ms/step - loss: 1.1918e-05 - iou: 0.3818 - iou_thresholded: 0.7070 - val_loss: 4.0403e-05 - val_iou: 0.5523 - val_iou_thresholded: 0.8879\n",
      "Epoch 43/100\n",
      "759/759 [==============================] - 324s 426ms/step - loss: 1.3123e-05 - iou: 0.3527 - iou_thresholded: 0.6871 - val_loss: 2.4369e-05 - val_iou: 0.5390 - val_iou_thresholded: 0.8269\n",
      "Epoch 44/100\n",
      "759/759 [==============================] - 324s 427ms/step - loss: 1.2026e-05 - iou: 0.3826 - iou_thresholded: 0.7149 - val_loss: 2.5173e-05 - val_iou: 0.5438 - val_iou_thresholded: 0.8729\n",
      "Epoch 45/100\n",
      "759/759 [==============================] - 324s 426ms/step - loss: 1.2883e-05 - iou: 0.3775 - iou_thresholded: 0.6998 - val_loss: 4.6401e-05 - val_iou: 0.4638 - val_iou_thresholded: 0.8970\n",
      "Epoch 46/100\n",
      "759/759 [==============================] - 324s 427ms/step - loss: 1.1391e-05 - iou: 0.3849 - iou_thresholded: 0.7056 - val_loss: 3.1693e-05 - val_iou: 0.5812 - val_iou_thresholded: 0.9001\n",
      "Epoch 47/100\n",
      "759/759 [==============================] - 324s 427ms/step - loss: 1.0089e-05 - iou: 0.4201 - iou_thresholded: 0.7317 - val_loss: 3.4891e-05 - val_iou: 0.5744 - val_iou_thresholded: 0.8650\n",
      "Epoch 48/100\n",
      "759/759 [==============================] - 324s 426ms/step - loss: 1.0840e-05 - iou: 0.4135 - iou_thresholded: 0.7311 - val_loss: 2.8614e-05 - val_iou: 0.5451 - val_iou_thresholded: 0.8549\n",
      "Epoch 49/100\n",
      "759/759 [==============================] - 324s 427ms/step - loss: 9.9909e-06 - iou: 0.4295 - iou_thresholded: 0.7390 - val_loss: 7.8905e-05 - val_iou: 0.5513 - val_iou_thresholded: 0.8850\n",
      "Epoch 50/100\n",
      "759/759 [==============================] - 324s 427ms/step - loss: 9.5184e-06 - iou: 0.4390 - iou_thresholded: 0.7496 - val_loss: 3.8228e-05 - val_iou: 0.5927 - val_iou_thresholded: 0.8577\n",
      "Epoch 51/100\n",
      "759/759 [==============================] - 324s 427ms/step - loss: 9.3455e-06 - iou: 0.4455 - iou_thresholded: 0.7578 - val_loss: 3.7799e-05 - val_iou: 0.6461 - val_iou_thresholded: 0.8783\n",
      "Epoch 52/100\n",
      "759/759 [==============================] - 324s 426ms/step - loss: 1.0401e-05 - iou: 0.4454 - iou_thresholded: 0.7381 - val_loss: 4.6213e-05 - val_iou: 0.6226 - val_iou_thresholded: 0.8724\n",
      "Epoch 53/100\n",
      "759/759 [==============================] - 324s 426ms/step - loss: 1.0632e-05 - iou: 0.4263 - iou_thresholded: 0.7400 - val_loss: 4.3423e-05 - val_iou: 0.5483 - val_iou_thresholded: 0.9089\n",
      "Epoch 54/100\n",
      "759/759 [==============================] - 324s 427ms/step - loss: 1.0042e-05 - iou: 0.4361 - iou_thresholded: 0.7448 - val_loss: 3.4286e-05 - val_iou: 0.5977 - val_iou_thresholded: 0.8574\n",
      "Epoch 55/100\n",
      "759/759 [==============================] - 324s 426ms/step - loss: 8.2896e-06 - iou: 0.4884 - iou_thresholded: 0.7847 - val_loss: 6.2650e-05 - val_iou: 0.6666 - val_iou_thresholded: 0.8866\n",
      "Epoch 56/100\n",
      "759/759 [==============================] - 324s 426ms/step - loss: 8.3827e-06 - iou: 0.5097 - iou_thresholded: 0.7902 - val_loss: 3.1612e-05 - val_iou: 0.6145 - val_iou_thresholded: 0.9019\n",
      "Epoch 57/100\n",
      "759/759 [==============================] - 324s 426ms/step - loss: 7.7816e-06 - iou: 0.5059 - iou_thresholded: 0.7841 - val_loss: 3.8733e-05 - val_iou: 0.6122 - val_iou_thresholded: 0.8851\n",
      "Epoch 58/100\n",
      "759/759 [==============================] - 324s 426ms/step - loss: 8.1639e-06 - iou: 0.5103 - iou_thresholded: 0.7810 - val_loss: 5.9084e-05 - val_iou: 0.6378 - val_iou_thresholded: 0.8968\n",
      "Epoch 59/100\n",
      "759/759 [==============================] - 324s 427ms/step - loss: 7.3331e-06 - iou: 0.5338 - iou_thresholded: 0.8022 - val_loss: 4.0436e-05 - val_iou: 0.6502 - val_iou_thresholded: 0.9056\n",
      "Epoch 60/100\n",
      "759/759 [==============================] - 324s 426ms/step - loss: 8.1794e-06 - iou: 0.5111 - iou_thresholded: 0.7838 - val_loss: 3.8672e-05 - val_iou: 0.6760 - val_iou_thresholded: 0.8781\n",
      "Epoch 61/100\n",
      "759/759 [==============================] - 324s 427ms/step - loss: 8.1939e-06 - iou: 0.5086 - iou_thresholded: 0.7802 - val_loss: 4.1046e-05 - val_iou: 0.6027 - val_iou_thresholded: 0.8907\n",
      "Epoch 62/100\n",
      "759/759 [==============================] - 324s 426ms/step - loss: 7.3723e-06 - iou: 0.5360 - iou_thresholded: 0.8085 - val_loss: 5.5241e-05 - val_iou: 0.6336 - val_iou_thresholded: 0.9007\n"
     ]
    },
    {
     "name": "stdout",
     "output_type": "stream",
     "text": [
      "Epoch 63/100\n",
      "759/759 [==============================] - 324s 426ms/step - loss: 7.6508e-06 - iou: 0.5253 - iou_thresholded: 0.7878 - val_loss: 4.2913e-05 - val_iou: 0.6225 - val_iou_thresholded: 0.8421\n",
      "Epoch 64/100\n",
      "759/759 [==============================] - 324s 427ms/step - loss: 7.2427e-06 - iou: 0.5511 - iou_thresholded: 0.8088 - val_loss: 5.1136e-05 - val_iou: 0.6312 - val_iou_thresholded: 0.8802\n",
      "Epoch 65/100\n",
      "759/759 [==============================] - 324s 426ms/step - loss: 7.2741e-06 - iou: 0.5561 - iou_thresholded: 0.7948 - val_loss: 3.8204e-05 - val_iou: 0.6851 - val_iou_thresholded: 0.8869\n",
      "Epoch 66/100\n",
      "759/759 [==============================] - 324s 427ms/step - loss: 7.2264e-06 - iou: 0.5523 - iou_thresholded: 0.8006 - val_loss: 3.9091e-05 - val_iou: 0.6645 - val_iou_thresholded: 0.8940\n",
      "Epoch 67/100\n",
      "759/759 [==============================] - 324s 426ms/step - loss: 7.9912e-06 - iou: 0.5343 - iou_thresholded: 0.8036 - val_loss: 4.8245e-05 - val_iou: 0.6308 - val_iou_thresholded: 0.8691\n",
      "Epoch 68/100\n",
      "759/759 [==============================] - 324s 426ms/step - loss: 7.9809e-06 - iou: 0.5027 - iou_thresholded: 0.7750 - val_loss: 3.0387e-05 - val_iou: 0.5834 - val_iou_thresholded: 0.8828\n",
      "Epoch 69/100\n",
      "759/759 [==============================] - 324s 426ms/step - loss: 7.5302e-06 - iou: 0.5176 - iou_thresholded: 0.7922 - val_loss: 3.7225e-05 - val_iou: 0.6103 - val_iou_thresholded: 0.9095\n",
      "Epoch 70/100\n",
      "759/759 [==============================] - 324s 427ms/step - loss: 6.9531e-06 - iou: 0.5611 - iou_thresholded: 0.8062 - val_loss: 3.9328e-05 - val_iou: 0.6950 - val_iou_thresholded: 0.9175\n",
      "Epoch 71/100\n",
      "759/759 [==============================] - 324s 427ms/step - loss: 6.8788e-06 - iou: 0.5782 - iou_thresholded: 0.8178 - val_loss: 3.0981e-05 - val_iou: 0.6600 - val_iou_thresholded: 0.8763\n",
      "Epoch 72/100\n",
      "759/759 [==============================] - 324s 427ms/step - loss: 7.1393e-06 - iou: 0.5579 - iou_thresholded: 0.8193 - val_loss: 4.0348e-05 - val_iou: 0.6723 - val_iou_thresholded: 0.9041\n",
      "Epoch 73/100\n",
      "759/759 [==============================] - 324s 427ms/step - loss: 6.3704e-06 - iou: 0.6030 - iou_thresholded: 0.8159 - val_loss: 5.4325e-05 - val_iou: 0.7299 - val_iou_thresholded: 0.9152\n",
      "Epoch 74/100\n",
      "620/759 [=======================>......] - ETA: 57s - loss: 6.6293e-06 - iou: 0.6092 - iou_thresholded: 0.8267"
     ]
    }
   ],
   "source": [
    "for train_index, test_index in kf.split(train_images_array):\n",
    "    X_train, X_val = train_images_array[train_index], train_images_array[test_index]\n",
    "    Y_train, Y_val = y_train[train_index], y_train[test_index]\n",
    "\n",
    "    model = C.Helper.create_unet(train_images_array[0].shape)\n",
    "\n",
    "    print(f\"Training fold {fold}...\")\n",
    "    history = model.fit(X_train, Y_train, \n",
    "                        epochs=100, \n",
    "                        batch_size=16, \n",
    "                        steps_per_epoch=len(X_train) // 16, \n",
    "                        validation_data=(X_val, Y_val))\n",
    "    histories.append(history.history)\n",
    "    \n",
    "    scores = model.evaluate(test_images_array, y_test, verbose=0)\n",
    "    losses.append(scores[0])\n",
    "    ious.append(scores[1])\n",
    "    iou_thresholds.append(scores[2])    \n",
    "    \n",
    "    fold += 1"
   ]
  },
  {
   "cell_type": "code",
   "execution_count": null,
   "id": "95f806a4",
   "metadata": {},
   "outputs": [],
   "source": []
  },
  {
   "cell_type": "code",
   "execution_count": null,
   "id": "eebd650e",
   "metadata": {},
   "outputs": [],
   "source": []
  },
  {
   "cell_type": "code",
   "execution_count": null,
   "id": "6bb0f923",
   "metadata": {},
   "outputs": [],
   "source": []
  },
  {
   "cell_type": "code",
   "execution_count": null,
   "id": "06617942",
   "metadata": {},
   "outputs": [],
   "source": []
  },
  {
   "cell_type": "code",
   "execution_count": null,
   "id": "45d0d62f",
   "metadata": {},
   "outputs": [],
   "source": []
  },
  {
   "cell_type": "code",
   "execution_count": null,
   "id": "bbebe5a8",
   "metadata": {},
   "outputs": [],
   "source": []
  },
  {
   "cell_type": "code",
   "execution_count": null,
   "id": "0926975a",
   "metadata": {},
   "outputs": [],
   "source": []
  },
  {
   "cell_type": "code",
   "execution_count": null,
   "id": "1cd862c4",
   "metadata": {},
   "outputs": [],
   "source": []
  },
  {
   "cell_type": "code",
   "execution_count": null,
   "id": "57f561c1",
   "metadata": {},
   "outputs": [],
   "source": []
  },
  {
   "cell_type": "code",
   "execution_count": null,
   "id": "f6072137",
   "metadata": {},
   "outputs": [],
   "source": []
  }
 ],
 "metadata": {
  "kernelspec": {
   "display_name": "Python 3 (ipykernel)",
   "language": "python",
   "name": "python3"
  },
  "language_info": {
   "codemirror_mode": {
    "name": "ipython",
    "version": 3
   },
   "file_extension": ".py",
   "mimetype": "text/x-python",
   "name": "python",
   "nbconvert_exporter": "python",
   "pygments_lexer": "ipython3",
   "version": "3.9.7"
  }
 },
 "nbformat": 4,
 "nbformat_minor": 5
}
