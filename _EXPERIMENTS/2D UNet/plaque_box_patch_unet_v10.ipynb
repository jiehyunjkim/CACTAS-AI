{
 "cells": [
  {
   "cell_type": "code",
   "execution_count": 1,
   "id": "5eebebed",
   "metadata": {},
   "outputs": [
    {
     "name": "stdout",
     "output_type": "stream",
     "text": [
      "Populating the interactive namespace from numpy and matplotlib\n"
     ]
    }
   ],
   "source": [
    "%pylab inline\n",
    "%load_ext autoreload\n",
    "%autoreload 2"
   ]
  },
  {
   "cell_type": "code",
   "execution_count": 2,
   "id": "1db43f95",
   "metadata": {},
   "outputs": [],
   "source": [
    "import cactas as C\n",
    "import os\n",
    "import mahotas as mh"
   ]
  },
  {
   "cell_type": "code",
   "execution_count": 3,
   "id": "3a25db15",
   "metadata": {
    "scrolled": true
   },
   "outputs": [
    {
     "name": "stderr",
     "output_type": "stream",
     "text": [
      "2024-05-12 16:42:04.986659: I tensorflow/stream_executor/platform/default/dso_loader.cc:53] Successfully opened dynamic library libcudart.so.11.0\n"
     ]
    },
    {
     "name": "stdout",
     "output_type": "stream",
     "text": [
      "WARNING:tensorflow:From /tmp/ipykernel_1609049/392601943.py:2: is_gpu_available (from tensorflow.python.framework.test_util) is deprecated and will be removed in a future version.\n",
      "Instructions for updating:\n",
      "Use `tf.config.list_physical_devices('GPU')` instead.\n"
     ]
    },
    {
     "name": "stderr",
     "output_type": "stream",
     "text": [
      "2024-05-12 16:42:06.848282: I tensorflow/core/platform/cpu_feature_guard.cc:142] This TensorFlow binary is optimized with oneAPI Deep Neural Network Library (oneDNN) to use the following CPU instructions in performance-critical operations:  AVX2 FMA\n",
      "To enable them in other operations, rebuild TensorFlow with the appropriate compiler flags.\n",
      "2024-05-12 16:42:06.849257: I tensorflow/stream_executor/platform/default/dso_loader.cc:53] Successfully opened dynamic library libcuda.so.1\n",
      "2024-05-12 16:42:07.218132: I tensorflow/core/common_runtime/gpu/gpu_device.cc:1733] Found device 0 with properties: \n",
      "pciBusID: 0000:87:00.0 name: A100-SXM4-40GB computeCapability: 8.0\n",
      "coreClock: 1.41GHz coreCount: 108 deviceMemorySize: 39.59GiB deviceMemoryBandwidth: 1.41TiB/s\n",
      "2024-05-12 16:42:07.220635: I tensorflow/core/common_runtime/gpu/gpu_device.cc:1733] Found device 1 with properties: \n",
      "pciBusID: 0000:90:00.0 name: A100-SXM4-40GB computeCapability: 8.0\n",
      "coreClock: 1.41GHz coreCount: 108 deviceMemorySize: 39.59GiB deviceMemoryBandwidth: 1.41TiB/s\n",
      "2024-05-12 16:42:07.220684: I tensorflow/stream_executor/platform/default/dso_loader.cc:53] Successfully opened dynamic library libcudart.so.11.0\n",
      "2024-05-12 16:42:07.224060: I tensorflow/stream_executor/platform/default/dso_loader.cc:53] Successfully opened dynamic library libcublas.so.11\n",
      "2024-05-12 16:42:07.224097: I tensorflow/stream_executor/platform/default/dso_loader.cc:53] Successfully opened dynamic library libcublasLt.so.11\n",
      "2024-05-12 16:42:07.225148: I tensorflow/stream_executor/platform/default/dso_loader.cc:53] Successfully opened dynamic library libcufft.so.10\n",
      "2024-05-12 16:42:07.225706: I tensorflow/stream_executor/platform/default/dso_loader.cc:53] Successfully opened dynamic library libcurand.so.10\n",
      "2024-05-12 16:42:07.226449: I tensorflow/stream_executor/platform/default/dso_loader.cc:53] Successfully opened dynamic library libcusolver.so.11\n",
      "2024-05-12 16:42:07.227374: I tensorflow/stream_executor/platform/default/dso_loader.cc:53] Successfully opened dynamic library libcusparse.so.11\n",
      "2024-05-12 16:42:07.227867: I tensorflow/stream_executor/platform/default/dso_loader.cc:53] Successfully opened dynamic library libcudnn.so.8\n",
      "2024-05-12 16:42:07.237974: I tensorflow/core/common_runtime/gpu/gpu_device.cc:1871] Adding visible gpu devices: 0, 1\n",
      "2024-05-12 16:42:07.238006: I tensorflow/stream_executor/platform/default/dso_loader.cc:53] Successfully opened dynamic library libcudart.so.11.0\n",
      "2024-05-12 16:42:07.940443: I tensorflow/core/common_runtime/gpu/gpu_device.cc:1258] Device interconnect StreamExecutor with strength 1 edge matrix:\n",
      "2024-05-12 16:42:07.940496: I tensorflow/core/common_runtime/gpu/gpu_device.cc:1264]      0 1 \n",
      "2024-05-12 16:42:07.940503: I tensorflow/core/common_runtime/gpu/gpu_device.cc:1277] 0:   N Y \n",
      "2024-05-12 16:42:07.940506: I tensorflow/core/common_runtime/gpu/gpu_device.cc:1277] 1:   Y N \n",
      "2024-05-12 16:42:07.953510: I tensorflow/core/common_runtime/gpu/gpu_device.cc:1418] Created TensorFlow device (/device:GPU:0 with 38425 MB memory) -> physical GPU (device: 0, name: A100-SXM4-40GB, pci bus id: 0000:87:00.0, compute capability: 8.0)\n",
      "2024-05-12 16:42:07.956277: I tensorflow/core/common_runtime/gpu/gpu_device.cc:1418] Created TensorFlow device (/device:GPU:1 with 38425 MB memory) -> physical GPU (device: 1, name: A100-SXM4-40GB, pci bus id: 0000:90:00.0, compute capability: 8.0)\n"
     ]
    },
    {
     "data": {
      "text/plain": [
       "True"
      ]
     },
     "execution_count": 3,
     "metadata": {},
     "output_type": "execute_result"
    }
   ],
   "source": [
    "import tensorflow as tf\n",
    "gpu_available = tf.test.is_gpu_available()\n",
    "gpu_available"
   ]
  },
  {
   "cell_type": "code",
   "execution_count": null,
   "id": "c7599e1d",
   "metadata": {},
   "outputs": [],
   "source": []
  },
  {
   "cell_type": "code",
   "execution_count": 4,
   "id": "ca9de1bc",
   "metadata": {},
   "outputs": [],
   "source": [
    "DATAPATH='/raid/mpsych/CACTAS/DATA/CLEANED/'"
   ]
  },
  {
   "cell_type": "code",
   "execution_count": 5,
   "id": "97b3bd3c",
   "metadata": {},
   "outputs": [],
   "source": [
    "data = C.Helper.load_separate_data(DATAPATH, \n",
    "                    types=('filt_img', 'filt_lb', 'filt_msk'), subsets=('train', 'test'))"
   ]
  },
  {
   "cell_type": "code",
   "execution_count": null,
   "id": "d3604113",
   "metadata": {},
   "outputs": [],
   "source": []
  },
  {
   "cell_type": "code",
   "execution_count": 6,
   "id": "0166f03a",
   "metadata": {},
   "outputs": [],
   "source": [
    "filtered_images_train = data['filt_img_train']\n",
    "filtered_images_test = data['filt_img_test']\n",
    "filtered_labels_train = data['filt_lb_train']\n",
    "filtered_labels_test = data['filt_lb_test']\n",
    "filtered_masks_train = data['filt_msk_train']\n",
    "filtered_masks_test = data['filt_msk_test']"
   ]
  },
  {
   "cell_type": "code",
   "execution_count": null,
   "id": "cafce4e2",
   "metadata": {},
   "outputs": [],
   "source": []
  },
  {
   "cell_type": "code",
   "execution_count": 15,
   "id": "05f8a047",
   "metadata": {},
   "outputs": [],
   "source": [
    "# for i in range(len(filtered_images_train)):\n",
    "#     for z in range(filtered_images_train[i].shape[0]):\n",
    "#         plt.imshow(filtered_images_train[i][z,:,:])\n",
    "#         plt.imshow(filtered_labels_train[i][z,:,:], cmap='gray', alpha=0.5)\n",
    "#         plt.show()"
   ]
  },
  {
   "cell_type": "code",
   "execution_count": 16,
   "id": "65030ac1",
   "metadata": {},
   "outputs": [],
   "source": [
    "# for i in range(len(filtered_images_train)):\n",
    "#     print(filtered_images_train[i].shape, filtered_labels_train[i].shape, filtered_masks_train[i].shape)"
   ]
  },
  {
   "cell_type": "code",
   "execution_count": 17,
   "id": "511e7cd1",
   "metadata": {},
   "outputs": [],
   "source": [
    "# for i in range(len(filtered_images_test)):\n",
    "#     print(filtered_images_test[i].shape, filtered_labels_test[i].shape, filtered_masks_test[i].shape)"
   ]
  },
  {
   "cell_type": "code",
   "execution_count": null,
   "id": "a9b07f6d",
   "metadata": {},
   "outputs": [],
   "source": []
  },
  {
   "cell_type": "code",
   "execution_count": 9,
   "id": "deb89518",
   "metadata": {},
   "outputs": [],
   "source": [
    "normalized_images_train = C.Helper.normalize_data(filtered_images_train)\n",
    "normalized_images_test = C.Helper.normalize_data(filtered_images_test)"
   ]
  },
  {
   "cell_type": "code",
   "execution_count": 10,
   "id": "4e06c657",
   "metadata": {},
   "outputs": [],
   "source": [
    "normalized_masks_train = C.Helper.normalize_data(filtered_masks_train)\n",
    "normalized_masks_test = C.Helper.normalize_data(filtered_masks_test)"
   ]
  },
  {
   "cell_type": "code",
   "execution_count": null,
   "id": "f2e93307",
   "metadata": {},
   "outputs": [],
   "source": []
  },
  {
   "cell_type": "code",
   "execution_count": 11,
   "id": "8e6ea219",
   "metadata": {},
   "outputs": [],
   "source": [
    "last_key = np.concatenate(normalized_images_train[:round(len(normalized_images_train)*0.8)], axis=0)"
   ]
  },
  {
   "cell_type": "code",
   "execution_count": 12,
   "id": "26403add",
   "metadata": {},
   "outputs": [
    {
     "data": {
      "text/plain": [
       "354"
      ]
     },
     "execution_count": 12,
     "metadata": {},
     "output_type": "execute_result"
    }
   ],
   "source": [
    "last_key.shape[0]"
   ]
  },
  {
   "cell_type": "code",
   "execution_count": null,
   "id": "b48fe491",
   "metadata": {},
   "outputs": [],
   "source": []
  },
  {
   "cell_type": "code",
   "execution_count": 13,
   "id": "8bd0a33c",
   "metadata": {},
   "outputs": [],
   "source": [
    "X_train = np.concatenate(normalized_images_train, axis=0)\n",
    "X_test = np.concatenate(normalized_images_test, axis=0)\n",
    "y_train_array = np.concatenate(filtered_labels_train, axis=0)\n",
    "y_test_array = np.concatenate(filtered_labels_test, axis=0)\n",
    "m_train = np.concatenate(normalized_masks_train, axis=0)\n",
    "m_test = np.concatenate(normalized_masks_test, axis=0)"
   ]
  },
  {
   "cell_type": "code",
   "execution_count": null,
   "id": "635415b6",
   "metadata": {},
   "outputs": [],
   "source": []
  },
  {
   "cell_type": "code",
   "execution_count": 15,
   "id": "bc667e02",
   "metadata": {},
   "outputs": [
    {
     "data": {
      "text/plain": [
       "(449, 265)"
      ]
     },
     "execution_count": 15,
     "metadata": {},
     "output_type": "execute_result"
    }
   ],
   "source": [
    "len(X_train), len(X_test)"
   ]
  },
  {
   "cell_type": "code",
   "execution_count": null,
   "id": "b686dfef",
   "metadata": {},
   "outputs": [],
   "source": []
  },
  {
   "cell_type": "code",
   "execution_count": 18,
   "id": "36f94810",
   "metadata": {},
   "outputs": [],
   "source": [
    "new_slices = []\n",
    "for i in range(len(y_train_array)):\n",
    "    slices = np.where(y_train_array[i] != 0, True, False)\n",
    "    new_slices.append(slices)\n",
    "y_train = np.array(new_slices)"
   ]
  },
  {
   "cell_type": "code",
   "execution_count": 19,
   "id": "a771d7e1",
   "metadata": {},
   "outputs": [],
   "source": [
    "new_slices1 = []\n",
    "for i in range(len(y_test_array)):\n",
    "    slices = np.where(y_test_array[i] != 0, True, False)\n",
    "    new_slices1.append(slices)\n",
    "y_test = np.array(new_slices1)"
   ]
  },
  {
   "cell_type": "code",
   "execution_count": null,
   "id": "0f073d33",
   "metadata": {},
   "outputs": [],
   "source": []
  },
  {
   "cell_type": "code",
   "execution_count": 20,
   "id": "f6c61178",
   "metadata": {},
   "outputs": [],
   "source": [
    "y_train = y_train.astype(np.float32)\n",
    "y_test = y_test.astype(np.float32)"
   ]
  },
  {
   "cell_type": "code",
   "execution_count": null,
   "id": "5845b2a4",
   "metadata": {},
   "outputs": [],
   "source": []
  },
  {
   "cell_type": "code",
   "execution_count": 21,
   "id": "3692ec60",
   "metadata": {},
   "outputs": [],
   "source": [
    "train_masks=[]\n",
    "for i in range(len(m_train)):\n",
    "    binary = (m_train[i] > 0).astype(np.uint8)\n",
    "    dilated = mh.dilate(binary.astype(np.bool_))\n",
    "    for _ in range(9):\n",
    "        dilated = mh.dilate(dilated)\n",
    "    train_masks.append(dilated)"
   ]
  },
  {
   "cell_type": "code",
   "execution_count": 22,
   "id": "28b56250",
   "metadata": {},
   "outputs": [],
   "source": [
    "train_images=[]\n",
    "for i in range(len(X_train)):\n",
    "    train_image = X_train[i] * train_masks[i]\n",
    "    train_images.append(train_image)\n",
    "train_images_array = np.array(train_images)"
   ]
  },
  {
   "cell_type": "code",
   "execution_count": null,
   "id": "050bc38c",
   "metadata": {},
   "outputs": [],
   "source": []
  },
  {
   "cell_type": "code",
   "execution_count": 23,
   "id": "092f608d",
   "metadata": {
    "scrolled": true
   },
   "outputs": [],
   "source": [
    "# for i in range(10, 20):\n",
    "#     plt.imshow(train_images[i])\n",
    "#     plt.show()"
   ]
  },
  {
   "cell_type": "code",
   "execution_count": 24,
   "id": "bc55e9be",
   "metadata": {},
   "outputs": [],
   "source": [
    "# for i in range(10, 20):\n",
    "#     plt.imshow(train_images[i])\n",
    "#     plt.imshow(y_train[i], cmap='gray', alpha=0.5)\n",
    "#     plt.show()"
   ]
  },
  {
   "cell_type": "code",
   "execution_count": 25,
   "id": "67fbfaa8",
   "metadata": {},
   "outputs": [],
   "source": [
    "# fig, axes = plt.subplots(1, 3, figsize=(15, 5))\n",
    "# axes[0].imshow(X_train[11], vmin=0, vmax=1)\n",
    "# axes[0].set_title('Original Image')\n",
    "# axes[1].imshow(train_masks[11])\n",
    "# axes[1].set_title('Mask')\n",
    "# axes[2].imshow(train_images[11])\n",
    "# axes[2].set_title('Processed Image')\n",
    "# plt.show()"
   ]
  },
  {
   "cell_type": "code",
   "execution_count": null,
   "id": "7edf63e4",
   "metadata": {},
   "outputs": [],
   "source": []
  },
  {
   "cell_type": "code",
   "execution_count": 26,
   "id": "3a3d4f47",
   "metadata": {},
   "outputs": [],
   "source": [
    "test_masks=[]\n",
    "for i in range(len(m_test)):\n",
    "    binary = (m_test[i] > 0).astype(np.uint8)\n",
    "    dilated = mh.dilate(binary.astype(np.bool_))\n",
    "    for _ in range(9):\n",
    "        dilated = mh.dilate(dilated)\n",
    "    test_masks.append(dilated)"
   ]
  },
  {
   "cell_type": "code",
   "execution_count": 27,
   "id": "c08c1bc9",
   "metadata": {},
   "outputs": [],
   "source": [
    "test_images=[]\n",
    "for i in range(len(X_test)):\n",
    "    test_image = X_test[i] * test_masks[i]\n",
    "    test_images.append(test_image)\n",
    "test_images_array = np.array(test_images)"
   ]
  },
  {
   "cell_type": "code",
   "execution_count": null,
   "id": "d7c3c4a1",
   "metadata": {},
   "outputs": [],
   "source": []
  },
  {
   "cell_type": "code",
   "execution_count": null,
   "id": "9678558b",
   "metadata": {},
   "outputs": [],
   "source": []
  },
  {
   "cell_type": "code",
   "execution_count": 28,
   "id": "7d9bea09",
   "metadata": {},
   "outputs": [],
   "source": [
    "X_train_set = train_images_array[:last_key.shape[0]]\n",
    "y_train_set = y_train[:last_key.shape[0]]\n",
    "X_val = train_images_array[last_key.shape[0]:]\n",
    "y_val = y_train[last_key.shape[0]:]"
   ]
  },
  {
   "cell_type": "code",
   "execution_count": null,
   "id": "9ce256c1",
   "metadata": {},
   "outputs": [],
   "source": []
  },
  {
   "cell_type": "code",
   "execution_count": 29,
   "id": "c43945a0",
   "metadata": {},
   "outputs": [
    {
     "data": {
      "text/plain": [
       "((354, 512, 512, 1), (354, 512, 512, 1))"
      ]
     },
     "execution_count": 29,
     "metadata": {},
     "output_type": "execute_result"
    }
   ],
   "source": [
    "X_train_set.shape, y_train_set.shape"
   ]
  },
  {
   "cell_type": "code",
   "execution_count": 30,
   "id": "a4b42641",
   "metadata": {},
   "outputs": [
    {
     "data": {
      "text/plain": [
       "((95, 512, 512, 1), (95, 512, 512, 1))"
      ]
     },
     "execution_count": 30,
     "metadata": {},
     "output_type": "execute_result"
    }
   ],
   "source": [
    "X_val.shape, y_val.shape"
   ]
  },
  {
   "cell_type": "code",
   "execution_count": 31,
   "id": "f0250dc1",
   "metadata": {},
   "outputs": [
    {
     "data": {
      "text/plain": [
       "(dtype('float32'), dtype('float32'))"
      ]
     },
     "execution_count": 31,
     "metadata": {},
     "output_type": "execute_result"
    }
   ],
   "source": [
    "X_train_set.dtype, y_train_set.dtype"
   ]
  },
  {
   "cell_type": "code",
   "execution_count": null,
   "id": "34dd6c88",
   "metadata": {},
   "outputs": [],
   "source": []
  },
  {
   "cell_type": "code",
   "execution_count": 32,
   "id": "c001a494",
   "metadata": {
    "scrolled": true
   },
   "outputs": [
    {
     "name": "stdout",
     "output_type": "stream",
     "text": [
      "-----------------------------------------\n",
      "keras-unet init: TF version is >= 2.0.0 - using `tf.keras` instead of `Keras`\n",
      "-----------------------------------------\n"
     ]
    },
    {
     "name": "stderr",
     "output_type": "stream",
     "text": [
      "2024-05-12 16:47:01.003704: I tensorflow/core/common_runtime/gpu/gpu_device.cc:1733] Found device 0 with properties: \n",
      "pciBusID: 0000:87:00.0 name: A100-SXM4-40GB computeCapability: 8.0\n",
      "coreClock: 1.41GHz coreCount: 108 deviceMemorySize: 39.59GiB deviceMemoryBandwidth: 1.41TiB/s\n",
      "2024-05-12 16:47:01.008050: I tensorflow/core/common_runtime/gpu/gpu_device.cc:1733] Found device 1 with properties: \n",
      "pciBusID: 0000:90:00.0 name: A100-SXM4-40GB computeCapability: 8.0\n",
      "coreClock: 1.41GHz coreCount: 108 deviceMemorySize: 39.59GiB deviceMemoryBandwidth: 1.41TiB/s\n",
      "2024-05-12 16:47:01.023818: I tensorflow/core/common_runtime/gpu/gpu_device.cc:1871] Adding visible gpu devices: 0, 1\n",
      "2024-05-12 16:47:01.028379: I tensorflow/core/common_runtime/gpu/gpu_device.cc:1733] Found device 0 with properties: \n",
      "pciBusID: 0000:87:00.0 name: A100-SXM4-40GB computeCapability: 8.0\n",
      "coreClock: 1.41GHz coreCount: 108 deviceMemorySize: 39.59GiB deviceMemoryBandwidth: 1.41TiB/s\n",
      "2024-05-12 16:47:01.036546: I tensorflow/core/common_runtime/gpu/gpu_device.cc:1733] Found device 1 with properties: \n",
      "pciBusID: 0000:90:00.0 name: A100-SXM4-40GB computeCapability: 8.0\n",
      "coreClock: 1.41GHz coreCount: 108 deviceMemorySize: 39.59GiB deviceMemoryBandwidth: 1.41TiB/s\n",
      "2024-05-12 16:47:01.061368: I tensorflow/core/common_runtime/gpu/gpu_device.cc:1871] Adding visible gpu devices: 0, 1\n",
      "2024-05-12 16:47:01.061422: I tensorflow/core/common_runtime/gpu/gpu_device.cc:1258] Device interconnect StreamExecutor with strength 1 edge matrix:\n",
      "2024-05-12 16:47:01.061427: I tensorflow/core/common_runtime/gpu/gpu_device.cc:1264]      0 1 \n",
      "2024-05-12 16:47:01.061432: I tensorflow/core/common_runtime/gpu/gpu_device.cc:1277] 0:   N Y \n",
      "2024-05-12 16:47:01.061435: I tensorflow/core/common_runtime/gpu/gpu_device.cc:1277] 1:   Y N \n",
      "2024-05-12 16:47:01.073083: I tensorflow/core/common_runtime/gpu/gpu_device.cc:1418] Created TensorFlow device (/job:localhost/replica:0/task:0/device:GPU:0 with 38425 MB memory) -> physical GPU (device: 0, name: A100-SXM4-40GB, pci bus id: 0000:87:00.0, compute capability: 8.0)\n",
      "2024-05-12 16:47:01.077334: I tensorflow/core/common_runtime/gpu/gpu_device.cc:1418] Created TensorFlow device (/job:localhost/replica:0/task:0/device:GPU:1 with 38425 MB memory) -> physical GPU (device: 1, name: A100-SXM4-40GB, pci bus id: 0000:90:00.0, compute capability: 8.0)\n"
     ]
    }
   ],
   "source": [
    "model = C.Helper.create_unet(X_train_set[0].shape)"
   ]
  },
  {
   "cell_type": "code",
   "execution_count": 33,
   "id": "f889cdd0",
   "metadata": {
    "scrolled": true
   },
   "outputs": [
    {
     "name": "stderr",
     "output_type": "stream",
     "text": [
      "2024-05-12 16:47:02.586400: I tensorflow/compiler/mlir/mlir_graph_optimization_pass.cc:176] None of the MLIR Optimization Passes are enabled (registered 2)\n",
      "2024-05-12 16:47:02.610773: I tensorflow/core/platform/profile_utils/cpu_utils.cc:114] CPU Frequency: 2245740000 Hz\n"
     ]
    },
    {
     "name": "stdout",
     "output_type": "stream",
     "text": [
      "Epoch 1/200\n"
     ]
    },
    {
     "name": "stderr",
     "output_type": "stream",
     "text": [
      "2024-05-12 16:47:03.996747: I tensorflow/stream_executor/platform/default/dso_loader.cc:53] Successfully opened dynamic library libcudnn.so.8\n",
      "2024-05-12 16:47:05.202685: I tensorflow/stream_executor/cuda/cuda_dnn.cc:359] Loaded cuDNN version 8201\n",
      "2024-05-12 16:47:06.880844: W tensorflow/stream_executor/gpu/asm_compiler.cc:191] Falling back to the CUDA driver for PTX compilation; ptxas does not support CC 8.0\n",
      "2024-05-12 16:47:06.880867: W tensorflow/stream_executor/gpu/asm_compiler.cc:194] Used ptxas at ptxas\n",
      "2024-05-12 16:47:06.881835: W tensorflow/stream_executor/gpu/redzone_allocator.cc:314] Unimplemented: ptxas ptxas too old. Falling back to the driver to compile.\n",
      "Relying on driver to perform ptx compilation. \n",
      "Modify $PATH to customize ptxas location.\n",
      "This message will be only logged once.\n",
      "2024-05-12 16:47:06.980431: I tensorflow/stream_executor/platform/default/dso_loader.cc:53] Successfully opened dynamic library libcublas.so.11\n",
      "2024-05-12 16:47:08.436835: I tensorflow/stream_executor/platform/default/dso_loader.cc:53] Successfully opened dynamic library libcublasLt.so.11\n",
      "2024-05-12 16:47:18.287832: W tensorflow/core/common_runtime/bfc_allocator.cc:271] Allocator (GPU_0_bfc) ran out of memory trying to allocate 4.02GiB with freed_by_count=0. The caller indicates that this is not a failure, but may mean that there could be performance gains if more memory were available.\n",
      "2024-05-12 16:47:18.288698: W tensorflow/core/kernels/gpu_utils.cc:49] Failed to allocate memory for convolution redzone checking; skipping this check. This is benign and only means that we won't check cudnn for out-of-bounds reads and writes. This message will only be printed once.\n"
     ]
    },
    {
     "name": "stdout",
     "output_type": "stream",
     "text": [
      "11/11 [==============================] - 42s 2s/step - loss: 0.7816 - iou: 7.6312e-05 - iou_thresholded: 5.7722e-04 - val_loss: 0.0149 - val_iou: 2.1500e-04 - val_iou_thresholded: 0.0010\n",
      "Epoch 2/200\n",
      "11/11 [==============================] - 14s 1s/step - loss: 0.0561 - iou: 6.3940e-04 - iou_thresholded: 0.0042 - val_loss: 0.0054 - val_iou: 3.2334e-05 - val_iou_thresholded: 0.0010\n",
      "Epoch 3/200\n",
      "11/11 [==============================] - 10s 927ms/step - loss: 0.0036 - iou: 5.5144e-04 - iou_thresholded: 0.0015 - val_loss: 8.4262e-04 - val_iou: 0.0027 - val_iou_thresholded: 0.0010\n",
      "Epoch 4/200\n",
      "11/11 [==============================] - 10s 926ms/step - loss: 0.0016 - iou: 0.0048 - iou_thresholded: 0.0019 - val_loss: 6.5855e-04 - val_iou: 0.0070 - val_iou_thresholded: 0.0010\n",
      "Epoch 5/200\n",
      "11/11 [==============================] - 10s 926ms/step - loss: 0.0011 - iou: 0.0076 - iou_thresholded: 0.0018 - val_loss: 7.7420e-04 - val_iou: 0.0134 - val_iou_thresholded: 0.0010\n",
      "Epoch 6/200\n",
      "11/11 [==============================] - 10s 926ms/step - loss: 0.0011 - iou: 0.0154 - iou_thresholded: 0.0033 - val_loss: 6.2757e-04 - val_iou: 0.0182 - val_iou_thresholded: 0.0010\n",
      "Epoch 7/200\n",
      "11/11 [==============================] - 10s 926ms/step - loss: 9.7480e-04 - iou: 0.0206 - iou_thresholded: 0.0014 - val_loss: 7.5293e-04 - val_iou: 0.0214 - val_iou_thresholded: 0.0010\n",
      "Epoch 8/200\n",
      "11/11 [==============================] - 10s 932ms/step - loss: 9.4621e-04 - iou: 0.0220 - iou_thresholded: 0.0018 - val_loss: 8.3409e-04 - val_iou: 0.0260 - val_iou_thresholded: 0.0010\n",
      "Epoch 9/200\n",
      "11/11 [==============================] - 10s 926ms/step - loss: 8.7804e-04 - iou: 0.0263 - iou_thresholded: 0.0032 - val_loss: 5.6321e-04 - val_iou: 0.0159 - val_iou_thresholded: 0.0010\n",
      "Epoch 10/200\n",
      "11/11 [==============================] - 10s 930ms/step - loss: 9.3008e-04 - iou: 0.0234 - iou_thresholded: 0.0027 - val_loss: 6.0990e-04 - val_iou: 0.0275 - val_iou_thresholded: 0.0010\n",
      "Epoch 11/200\n",
      "11/11 [==============================] - 11s 990ms/step - loss: 8.7319e-04 - iou: 0.0409 - iou_thresholded: 0.0056 - val_loss: 7.3310e-04 - val_iou: 0.0325 - val_iou_thresholded: 0.0033\n",
      "Epoch 12/200\n",
      "11/11 [==============================] - 10s 928ms/step - loss: 8.9208e-04 - iou: 0.0353 - iou_thresholded: 0.0188 - val_loss: 5.6681e-04 - val_iou: 0.0201 - val_iou_thresholded: 0.0010\n",
      "Epoch 13/200\n",
      "11/11 [==============================] - 11s 1s/step - loss: 9.2739e-04 - iou: 0.0246 - iou_thresholded: 0.0049 - val_loss: 6.0744e-04 - val_iou: 0.0170 - val_iou_thresholded: 0.0010\n",
      "Epoch 14/200\n",
      "11/11 [==============================] - 10s 1s/step - loss: 8.9360e-04 - iou: 0.0360 - iou_thresholded: 0.0046 - val_loss: 6.5183e-04 - val_iou: 0.0229 - val_iou_thresholded: 0.0010\n",
      "Epoch 15/200\n",
      "11/11 [==============================] - 10s 933ms/step - loss: 8.7117e-04 - iou: 0.0340 - iou_thresholded: 0.0028 - val_loss: 6.2440e-04 - val_iou: 0.0215 - val_iou_thresholded: 0.0010\n",
      "Epoch 16/200\n",
      "11/11 [==============================] - 10s 926ms/step - loss: 8.1948e-04 - iou: 0.0396 - iou_thresholded: 0.0079 - val_loss: 6.0865e-04 - val_iou: 0.0245 - val_iou_thresholded: 0.0010\n",
      "Epoch 17/200\n",
      "11/11 [==============================] - 10s 928ms/step - loss: 7.7168e-04 - iou: 0.0474 - iou_thresholded: 0.0128 - val_loss: 6.4628e-04 - val_iou: 0.0253 - val_iou_thresholded: 0.0016\n",
      "Epoch 18/200\n",
      "11/11 [==============================] - 10s 927ms/step - loss: 7.6201e-04 - iou: 0.0597 - iou_thresholded: 0.0234 - val_loss: 6.4804e-04 - val_iou: 0.0263 - val_iou_thresholded: 0.0013\n",
      "Epoch 19/200\n",
      "11/11 [==============================] - 10s 929ms/step - loss: 7.3352e-04 - iou: 0.0562 - iou_thresholded: 0.0282 - val_loss: 5.5148e-04 - val_iou: 0.0334 - val_iou_thresholded: 0.0029\n",
      "Epoch 20/200\n",
      "11/11 [==============================] - 10s 926ms/step - loss: 7.1120e-04 - iou: 0.0610 - iou_thresholded: 0.0390 - val_loss: 6.1319e-04 - val_iou: 0.0164 - val_iou_thresholded: 9.9879e-04\n",
      "Epoch 21/200\n",
      "11/11 [==============================] - 10s 928ms/step - loss: 7.9205e-04 - iou: 0.0620 - iou_thresholded: 0.0472 - val_loss: 6.4555e-04 - val_iou: 0.0364 - val_iou_thresholded: 0.0065\n",
      "Epoch 22/200\n",
      "11/11 [==============================] - 10s 934ms/step - loss: 7.1841e-04 - iou: 0.0660 - iou_thresholded: 0.0440 - val_loss: 6.3773e-04 - val_iou: 0.0346 - val_iou_thresholded: 0.0062\n",
      "Epoch 23/200\n",
      "11/11 [==============================] - 10s 930ms/step - loss: 7.2199e-04 - iou: 0.0636 - iou_thresholded: 0.0524 - val_loss: 7.9776e-04 - val_iou: 0.0091 - val_iou_thresholded: 0.0010\n",
      "Epoch 24/200\n",
      "11/11 [==============================] - 10s 929ms/step - loss: 8.3945e-04 - iou: 0.0467 - iou_thresholded: 0.0371 - val_loss: 6.6692e-04 - val_iou: 0.0158 - val_iou_thresholded: 0.0010\n",
      "Epoch 25/200\n",
      "11/11 [==============================] - 11s 1s/step - loss: 7.4222e-04 - iou: 0.0572 - iou_thresholded: 0.0303 - val_loss: 6.3681e-04 - val_iou: 0.0302 - val_iou_thresholded: 0.0021\n",
      "Epoch 26/200\n",
      "11/11 [==============================] - 10s 1s/step - loss: 7.0060e-04 - iou: 0.0770 - iou_thresholded: 0.0450 - val_loss: 6.5421e-04 - val_iou: 0.0320 - val_iou_thresholded: 0.0049\n",
      "Epoch 27/200\n",
      "11/11 [==============================] - 10s 931ms/step - loss: 6.8181e-04 - iou: 0.0839 - iou_thresholded: 0.0669 - val_loss: 6.2850e-04 - val_iou: 0.0331 - val_iou_thresholded: 0.0048\n",
      "Epoch 28/200\n",
      "11/11 [==============================] - 10s 929ms/step - loss: 6.9257e-04 - iou: 0.0995 - iou_thresholded: 0.1169 - val_loss: 7.8124e-04 - val_iou: 0.0223 - val_iou_thresholded: 0.0017\n",
      "Epoch 29/200\n",
      "11/11 [==============================] - 10s 924ms/step - loss: 6.1850e-04 - iou: 0.1077 - iou_thresholded: 0.1213 - val_loss: 8.9023e-04 - val_iou: 0.0336 - val_iou_thresholded: 0.0080\n",
      "Epoch 30/200\n",
      "11/11 [==============================] - 10s 927ms/step - loss: 6.4225e-04 - iou: 0.1125 - iou_thresholded: 0.1336 - val_loss: 7.8186e-04 - val_iou: 0.0285 - val_iou_thresholded: 0.0047\n",
      "Epoch 31/200\n",
      "11/11 [==============================] - 10s 925ms/step - loss: 5.8058e-04 - iou: 0.1497 - iou_thresholded: 0.1831 - val_loss: 6.5974e-04 - val_iou: 0.0574 - val_iou_thresholded: 0.0406\n",
      "Epoch 32/200\n",
      "11/11 [==============================] - 10s 929ms/step - loss: 5.4662e-04 - iou: 0.1500 - iou_thresholded: 0.2003 - val_loss: 6.7162e-04 - val_iou: 0.0723 - val_iou_thresholded: 0.0876\n",
      "Epoch 33/200\n",
      "11/11 [==============================] - 10s 928ms/step - loss: 5.3901e-04 - iou: 0.1712 - iou_thresholded: 0.2367 - val_loss: 6.0986e-04 - val_iou: 0.0797 - val_iou_thresholded: 0.0857\n",
      "Epoch 34/200\n",
      "11/11 [==============================] - 10s 927ms/step - loss: 5.2407e-04 - iou: 0.1869 - iou_thresholded: 0.2817 - val_loss: 7.2548e-04 - val_iou: 0.0553 - val_iou_thresholded: 0.0371\n",
      "Epoch 35/200\n",
      "11/11 [==============================] - 10s 924ms/step - loss: 5.7988e-04 - iou: 0.1612 - iou_thresholded: 0.2117 - val_loss: 6.4514e-04 - val_iou: 0.0711 - val_iou_thresholded: 0.0602\n",
      "Epoch 36/200\n",
      "11/11 [==============================] - 10s 927ms/step - loss: 5.4606e-04 - iou: 0.1862 - iou_thresholded: 0.2425 - val_loss: 6.2284e-04 - val_iou: 0.0861 - val_iou_thresholded: 0.1065\n",
      "Epoch 37/200\n",
      "11/11 [==============================] - 11s 1s/step - loss: 5.1178e-04 - iou: 0.1985 - iou_thresholded: 0.2882 - val_loss: 7.4666e-04 - val_iou: 0.0787 - val_iou_thresholded: 0.0789\n",
      "Epoch 38/200\n",
      "11/11 [==============================] - 10s 1s/step - loss: 5.1174e-04 - iou: 0.2092 - iou_thresholded: 0.3076 - val_loss: 7.2909e-04 - val_iou: 0.0786 - val_iou_thresholded: 0.0679\n",
      "Epoch 39/200\n",
      "11/11 [==============================] - 10s 928ms/step - loss: 5.0506e-04 - iou: 0.1904 - iou_thresholded: 0.2646 - val_loss: 6.1555e-04 - val_iou: 0.0988 - val_iou_thresholded: 0.1052\n",
      "Epoch 40/200\n",
      "11/11 [==============================] - 10s 927ms/step - loss: 4.7412e-04 - iou: 0.2260 - iou_thresholded: 0.3525 - val_loss: 6.2270e-04 - val_iou: 0.1082 - val_iou_thresholded: 0.1210\n",
      "Epoch 41/200\n",
      "11/11 [==============================] - 10s 938ms/step - loss: 4.5731e-04 - iou: 0.2250 - iou_thresholded: 0.3195 - val_loss: 8.0348e-04 - val_iou: 0.1050 - val_iou_thresholded: 0.1196\n",
      "Epoch 42/200\n"
     ]
    },
    {
     "name": "stdout",
     "output_type": "stream",
     "text": [
      "11/11 [==============================] - 10s 927ms/step - loss: 4.8962e-04 - iou: 0.2500 - iou_thresholded: 0.3590 - val_loss: 7.8869e-04 - val_iou: 0.1151 - val_iou_thresholded: 0.1322\n",
      "Epoch 43/200\n",
      "11/11 [==============================] - 10s 928ms/step - loss: 4.8227e-04 - iou: 0.2147 - iou_thresholded: 0.2980 - val_loss: 5.4671e-04 - val_iou: 0.1443 - val_iou_thresholded: 0.1926\n",
      "Epoch 44/200\n",
      "11/11 [==============================] - 10s 929ms/step - loss: 4.8802e-04 - iou: 0.2236 - iou_thresholded: 0.2987 - val_loss: 8.7639e-04 - val_iou: 0.1209 - val_iou_thresholded: 0.1507\n",
      "Epoch 45/200\n",
      "11/11 [==============================] - 10s 933ms/step - loss: 5.0834e-04 - iou: 0.2689 - iou_thresholded: 0.3898 - val_loss: 5.5375e-04 - val_iou: 0.1491 - val_iou_thresholded: 0.1943\n",
      "Epoch 46/200\n",
      "11/11 [==============================] - 10s 929ms/step - loss: 4.3761e-04 - iou: 0.2769 - iou_thresholded: 0.3930 - val_loss: 6.0083e-04 - val_iou: 0.1648 - val_iou_thresholded: 0.1884\n",
      "Epoch 47/200\n",
      "11/11 [==============================] - 10s 928ms/step - loss: 4.0090e-04 - iou: 0.3345 - iou_thresholded: 0.4645 - val_loss: 7.4681e-04 - val_iou: 0.1485 - val_iou_thresholded: 0.1907\n",
      "Epoch 48/200\n",
      "11/11 [==============================] - 10s 928ms/step - loss: 3.9486e-04 - iou: 0.3226 - iou_thresholded: 0.4421 - val_loss: 6.7874e-04 - val_iou: 0.1379 - val_iou_thresholded: 0.1429\n",
      "Epoch 49/200\n",
      "11/11 [==============================] - 11s 1s/step - loss: 3.9812e-04 - iou: 0.3084 - iou_thresholded: 0.4226 - val_loss: 6.2832e-04 - val_iou: 0.1807 - val_iou_thresholded: 0.2329\n",
      "Epoch 50/200\n",
      "11/11 [==============================] - 10s 1s/step - loss: 3.6591e-04 - iou: 0.3444 - iou_thresholded: 0.4789 - val_loss: 6.5479e-04 - val_iou: 0.1902 - val_iou_thresholded: 0.2282\n",
      "Epoch 51/200\n",
      "11/11 [==============================] - 10s 926ms/step - loss: 3.5406e-04 - iou: 0.3586 - iou_thresholded: 0.4746 - val_loss: 6.7196e-04 - val_iou: 0.1834 - val_iou_thresholded: 0.2377\n",
      "Epoch 52/200\n",
      "11/11 [==============================] - 10s 927ms/step - loss: 3.7773e-04 - iou: 0.3238 - iou_thresholded: 0.4456 - val_loss: 5.5560e-04 - val_iou: 0.1993 - val_iou_thresholded: 0.2256\n",
      "Epoch 53/200\n",
      "11/11 [==============================] - 10s 929ms/step - loss: 3.6635e-04 - iou: 0.3413 - iou_thresholded: 0.4681 - val_loss: 6.5464e-04 - val_iou: 0.1975 - val_iou_thresholded: 0.2421\n",
      "Epoch 54/200\n",
      "11/11 [==============================] - 10s 930ms/step - loss: 3.5478e-04 - iou: 0.3632 - iou_thresholded: 0.4873 - val_loss: 7.3847e-04 - val_iou: 0.1812 - val_iou_thresholded: 0.2291\n",
      "Epoch 55/200\n",
      "11/11 [==============================] - 10s 928ms/step - loss: 3.3010e-04 - iou: 0.3442 - iou_thresholded: 0.4626 - val_loss: 5.6958e-04 - val_iou: 0.2197 - val_iou_thresholded: 0.2591\n",
      "Epoch 56/200\n",
      "11/11 [==============================] - 10s 928ms/step - loss: 3.2920e-04 - iou: 0.4010 - iou_thresholded: 0.5345 - val_loss: 6.2670e-04 - val_iou: 0.2186 - val_iou_thresholded: 0.2688\n",
      "Epoch 57/200\n",
      "11/11 [==============================] - 10s 925ms/step - loss: 3.6478e-04 - iou: 0.3278 - iou_thresholded: 0.4523 - val_loss: 6.3003e-04 - val_iou: 0.2094 - val_iou_thresholded: 0.3021\n",
      "Epoch 58/200\n",
      "11/11 [==============================] - 10s 928ms/step - loss: 3.5803e-04 - iou: 0.3389 - iou_thresholded: 0.4545 - val_loss: 6.4339e-04 - val_iou: 0.2146 - val_iou_thresholded: 0.2443\n",
      "Epoch 59/200\n",
      "11/11 [==============================] - 10s 930ms/step - loss: 3.5142e-04 - iou: 0.4017 - iou_thresholded: 0.5073 - val_loss: 6.1369e-04 - val_iou: 0.2299 - val_iou_thresholded: 0.2825\n",
      "Epoch 60/200\n",
      "11/11 [==============================] - 10s 930ms/step - loss: 3.2565e-04 - iou: 0.3485 - iou_thresholded: 0.4702 - val_loss: 6.6960e-04 - val_iou: 0.2078 - val_iou_thresholded: 0.2334\n",
      "Epoch 61/200\n",
      "11/11 [==============================] - 11s 1s/step - loss: 3.3976e-04 - iou: 0.3688 - iou_thresholded: 0.4837 - val_loss: 6.6018e-04 - val_iou: 0.2235 - val_iou_thresholded: 0.2785\n",
      "Epoch 62/200\n",
      "11/11 [==============================] - 10s 1s/step - loss: 3.1562e-04 - iou: 0.4197 - iou_thresholded: 0.5497 - val_loss: 6.6412e-04 - val_iou: 0.2392 - val_iou_thresholded: 0.2913\n",
      "Epoch 63/200\n",
      "11/11 [==============================] - 10s 933ms/step - loss: 2.9541e-04 - iou: 0.4070 - iou_thresholded: 0.5431 - val_loss: 7.6763e-04 - val_iou: 0.2328 - val_iou_thresholded: 0.2675\n",
      "Epoch 64/200\n",
      "11/11 [==============================] - 10s 926ms/step - loss: 2.9563e-04 - iou: 0.4256 - iou_thresholded: 0.5504 - val_loss: 6.7507e-04 - val_iou: 0.2352 - val_iou_thresholded: 0.2743\n",
      "Epoch 65/200\n",
      "11/11 [==============================] - 10s 926ms/step - loss: 2.9823e-04 - iou: 0.4557 - iou_thresholded: 0.5719 - val_loss: 6.9608e-04 - val_iou: 0.2558 - val_iou_thresholded: 0.2925\n",
      "Epoch 66/200\n",
      "11/11 [==============================] - 10s 925ms/step - loss: 3.0860e-04 - iou: 0.4289 - iou_thresholded: 0.5452 - val_loss: 6.7408e-04 - val_iou: 0.2368 - val_iou_thresholded: 0.2688\n",
      "Epoch 67/200\n",
      "11/11 [==============================] - 10s 929ms/step - loss: 2.6358e-04 - iou: 0.4742 - iou_thresholded: 0.6033 - val_loss: 6.7802e-04 - val_iou: 0.2502 - val_iou_thresholded: 0.3078\n",
      "Epoch 68/200\n",
      "11/11 [==============================] - 10s 928ms/step - loss: 2.6871e-04 - iou: 0.4520 - iou_thresholded: 0.5749 - val_loss: 7.0080e-04 - val_iou: 0.2548 - val_iou_thresholded: 0.2996\n",
      "Epoch 69/200\n",
      "11/11 [==============================] - 10s 925ms/step - loss: 2.8313e-04 - iou: 0.4453 - iou_thresholded: 0.5643 - val_loss: 6.0545e-04 - val_iou: 0.2690 - val_iou_thresholded: 0.3181\n",
      "Epoch 70/200\n",
      "11/11 [==============================] - 10s 927ms/step - loss: 2.7644e-04 - iou: 0.4844 - iou_thresholded: 0.6032 - val_loss: 6.7425e-04 - val_iou: 0.2459 - val_iou_thresholded: 0.3151\n",
      "Epoch 71/200\n",
      "11/11 [==============================] - 10s 928ms/step - loss: 2.7897e-04 - iou: 0.4262 - iou_thresholded: 0.5467 - val_loss: 5.6904e-04 - val_iou: 0.2775 - val_iou_thresholded: 0.3043\n",
      "Epoch 72/200\n",
      "11/11 [==============================] - 10s 931ms/step - loss: 2.6785e-04 - iou: 0.4322 - iou_thresholded: 0.5354 - val_loss: 6.7297e-04 - val_iou: 0.2766 - val_iou_thresholded: 0.3264\n",
      "Epoch 73/200\n",
      "11/11 [==============================] - 11s 1s/step - loss: 3.0597e-04 - iou: 0.4375 - iou_thresholded: 0.5571 - val_loss: 5.6958e-04 - val_iou: 0.3109 - val_iou_thresholded: 0.4035\n",
      "Epoch 74/200\n",
      "11/11 [==============================] - 10s 1s/step - loss: 2.8827e-04 - iou: 0.4310 - iou_thresholded: 0.5501 - val_loss: 6.1920e-04 - val_iou: 0.2944 - val_iou_thresholded: 0.3403\n",
      "Epoch 75/200\n",
      "11/11 [==============================] - 10s 927ms/step - loss: 2.8984e-04 - iou: 0.4373 - iou_thresholded: 0.5694 - val_loss: 6.7855e-04 - val_iou: 0.2620 - val_iou_thresholded: 0.3020\n",
      "Epoch 76/200\n",
      "11/11 [==============================] - 10s 931ms/step - loss: 2.4988e-04 - iou: 0.4666 - iou_thresholded: 0.5698 - val_loss: 6.2905e-04 - val_iou: 0.2894 - val_iou_thresholded: 0.3280\n",
      "Epoch 77/200\n",
      "11/11 [==============================] - 10s 928ms/step - loss: 2.6989e-04 - iou: 0.4689 - iou_thresholded: 0.5937 - val_loss: 6.1945e-04 - val_iou: 0.2794 - val_iou_thresholded: 0.3364\n",
      "Epoch 78/200\n",
      "11/11 [==============================] - 10s 926ms/step - loss: 2.5389e-04 - iou: 0.4559 - iou_thresholded: 0.5665 - val_loss: 5.4591e-04 - val_iou: 0.3224 - val_iou_thresholded: 0.3586\n",
      "Epoch 79/200\n",
      "11/11 [==============================] - 10s 930ms/step - loss: 2.4516e-04 - iou: 0.4419 - iou_thresholded: 0.5433 - val_loss: 6.0362e-04 - val_iou: 0.3190 - val_iou_thresholded: 0.3753\n",
      "Epoch 80/200\n",
      "11/11 [==============================] - 10s 927ms/step - loss: 2.4852e-04 - iou: 0.5170 - iou_thresholded: 0.6224 - val_loss: 6.7114e-04 - val_iou: 0.3049 - val_iou_thresholded: 0.3476\n",
      "Epoch 81/200\n",
      "11/11 [==============================] - 10s 931ms/step - loss: 2.3258e-04 - iou: 0.4986 - iou_thresholded: 0.5963 - val_loss: 5.8428e-04 - val_iou: 0.3137 - val_iou_thresholded: 0.4006\n",
      "Epoch 82/200\n",
      "11/11 [==============================] - 10s 927ms/step - loss: 2.3998e-04 - iou: 0.4930 - iou_thresholded: 0.6191 - val_loss: 6.6040e-04 - val_iou: 0.3150 - val_iou_thresholded: 0.3635\n",
      "Epoch 83/200\n"
     ]
    },
    {
     "name": "stdout",
     "output_type": "stream",
     "text": [
      "11/11 [==============================] - 10s 929ms/step - loss: 2.2197e-04 - iou: 0.5056 - iou_thresholded: 0.6107 - val_loss: 6.1867e-04 - val_iou: 0.3120 - val_iou_thresholded: 0.3923\n",
      "Epoch 84/200\n",
      "11/11 [==============================] - 10s 925ms/step - loss: 2.2043e-04 - iou: 0.4901 - iou_thresholded: 0.5964 - val_loss: 5.8008e-04 - val_iou: 0.3391 - val_iou_thresholded: 0.3954\n",
      "Epoch 85/200\n",
      "11/11 [==============================] - 11s 1s/step - loss: 2.5247e-04 - iou: 0.4847 - iou_thresholded: 0.5938 - val_loss: 5.8694e-04 - val_iou: 0.3574 - val_iou_thresholded: 0.4081\n",
      "Epoch 86/200\n",
      "11/11 [==============================] - 10s 1s/step - loss: 2.3372e-04 - iou: 0.5136 - iou_thresholded: 0.6283 - val_loss: 5.4536e-04 - val_iou: 0.3691 - val_iou_thresholded: 0.4365\n",
      "Epoch 87/200\n",
      "11/11 [==============================] - 10s 928ms/step - loss: 2.2873e-04 - iou: 0.4793 - iou_thresholded: 0.5883 - val_loss: 5.7873e-04 - val_iou: 0.3383 - val_iou_thresholded: 0.4257\n",
      "Epoch 88/200\n",
      "11/11 [==============================] - 10s 926ms/step - loss: 2.3236e-04 - iou: 0.5132 - iou_thresholded: 0.6235 - val_loss: 6.4645e-04 - val_iou: 0.3411 - val_iou_thresholded: 0.3856\n",
      "Epoch 89/200\n",
      "11/11 [==============================] - 10s 929ms/step - loss: 2.3394e-04 - iou: 0.4925 - iou_thresholded: 0.6109 - val_loss: 5.4959e-04 - val_iou: 0.3608 - val_iou_thresholded: 0.4200\n",
      "Epoch 90/200\n",
      "11/11 [==============================] - 10s 929ms/step - loss: 2.2637e-04 - iou: 0.5273 - iou_thresholded: 0.6344 - val_loss: 5.9525e-04 - val_iou: 0.3459 - val_iou_thresholded: 0.4097\n",
      "Epoch 91/200\n",
      "11/11 [==============================] - 10s 926ms/step - loss: 2.0681e-04 - iou: 0.5417 - iou_thresholded: 0.6507 - val_loss: 6.2919e-04 - val_iou: 0.3593 - val_iou_thresholded: 0.4063\n",
      "Epoch 92/200\n",
      "11/11 [==============================] - 10s 928ms/step - loss: 2.1370e-04 - iou: 0.5062 - iou_thresholded: 0.6044 - val_loss: 6.3916e-04 - val_iou: 0.3471 - val_iou_thresholded: 0.4111\n",
      "Epoch 93/200\n",
      "11/11 [==============================] - 10s 926ms/step - loss: 2.0530e-04 - iou: 0.5192 - iou_thresholded: 0.6356 - val_loss: 7.9833e-04 - val_iou: 0.3300 - val_iou_thresholded: 0.3724\n",
      "Epoch 94/200\n",
      "11/11 [==============================] - 10s 931ms/step - loss: 1.9835e-04 - iou: 0.5226 - iou_thresholded: 0.6358 - val_loss: 6.2926e-04 - val_iou: 0.3556 - val_iou_thresholded: 0.4025\n",
      "Epoch 95/200\n",
      "11/11 [==============================] - 10s 927ms/step - loss: 2.1327e-04 - iou: 0.5161 - iou_thresholded: 0.6085 - val_loss: 7.5496e-04 - val_iou: 0.3095 - val_iou_thresholded: 0.4001\n",
      "Epoch 96/200\n",
      "11/11 [==============================] - 10s 932ms/step - loss: 2.2566e-04 - iou: 0.5035 - iou_thresholded: 0.5903 - val_loss: 6.8283e-04 - val_iou: 0.3453 - val_iou_thresholded: 0.3816\n",
      "Epoch 97/200\n",
      "11/11 [==============================] - 11s 1s/step - loss: 2.0619e-04 - iou: 0.5335 - iou_thresholded: 0.6418 - val_loss: 6.6880e-04 - val_iou: 0.3460 - val_iou_thresholded: 0.4256\n",
      "Epoch 98/200\n",
      "11/11 [==============================] - 10s 1s/step - loss: 1.9712e-04 - iou: 0.5116 - iou_thresholded: 0.6264 - val_loss: 6.7333e-04 - val_iou: 0.3492 - val_iou_thresholded: 0.3888\n",
      "Epoch 99/200\n",
      "11/11 [==============================] - 10s 936ms/step - loss: 2.3902e-04 - iou: 0.5080 - iou_thresholded: 0.6136 - val_loss: 5.2260e-04 - val_iou: 0.3805 - val_iou_thresholded: 0.4943\n",
      "Epoch 100/200\n",
      "11/11 [==============================] - 10s 925ms/step - loss: 2.1434e-04 - iou: 0.5276 - iou_thresholded: 0.6250 - val_loss: 5.7165e-04 - val_iou: 0.3671 - val_iou_thresholded: 0.4523\n",
      "Epoch 101/200\n",
      "11/11 [==============================] - 10s 929ms/step - loss: 2.0408e-04 - iou: 0.5547 - iou_thresholded: 0.6713 - val_loss: 7.4707e-04 - val_iou: 0.3586 - val_iou_thresholded: 0.4089\n",
      "Epoch 102/200\n",
      "11/11 [==============================] - 10s 927ms/step - loss: 1.9046e-04 - iou: 0.5771 - iou_thresholded: 0.6762 - val_loss: 6.5760e-04 - val_iou: 0.3785 - val_iou_thresholded: 0.4394\n",
      "Epoch 103/200\n",
      "11/11 [==============================] - 10s 931ms/step - loss: 2.0420e-04 - iou: 0.5418 - iou_thresholded: 0.6186 - val_loss: 7.4467e-04 - val_iou: 0.3790 - val_iou_thresholded: 0.4260\n",
      "Epoch 104/200\n",
      "11/11 [==============================] - 10s 927ms/step - loss: 2.0631e-04 - iou: 0.5396 - iou_thresholded: 0.6533 - val_loss: 4.7456e-04 - val_iou: 0.4058 - val_iou_thresholded: 0.4580\n",
      "Epoch 105/200\n",
      "11/11 [==============================] - 10s 928ms/step - loss: 2.2582e-04 - iou: 0.4856 - iou_thresholded: 0.5906 - val_loss: 5.5699e-04 - val_iou: 0.4029 - val_iou_thresholded: 0.4887\n",
      "Epoch 106/200\n",
      "11/11 [==============================] - 10s 928ms/step - loss: 2.1577e-04 - iou: 0.5570 - iou_thresholded: 0.6700 - val_loss: 6.6940e-04 - val_iou: 0.3892 - val_iou_thresholded: 0.4584\n",
      "Epoch 107/200\n",
      "11/11 [==============================] - 10s 930ms/step - loss: 1.8436e-04 - iou: 0.5504 - iou_thresholded: 0.6520 - val_loss: 6.5251e-04 - val_iou: 0.3868 - val_iou_thresholded: 0.4171\n",
      "Epoch 108/200\n",
      "11/11 [==============================] - 10s 930ms/step - loss: 1.9634e-04 - iou: 0.5625 - iou_thresholded: 0.6732 - val_loss: 7.5243e-04 - val_iou: 0.3742 - val_iou_thresholded: 0.4444\n",
      "Epoch 109/200\n",
      "11/11 [==============================] - 11s 1s/step - loss: 1.8031e-04 - iou: 0.5740 - iou_thresholded: 0.6693 - val_loss: 7.0240e-04 - val_iou: 0.4023 - val_iou_thresholded: 0.4565\n",
      "Epoch 110/200\n",
      "11/11 [==============================] - 10s 1s/step - loss: 1.8388e-04 - iou: 0.5823 - iou_thresholded: 0.6664 - val_loss: 7.7706e-04 - val_iou: 0.3922 - val_iou_thresholded: 0.4387\n",
      "Epoch 111/200\n",
      "11/11 [==============================] - 10s 934ms/step - loss: 1.7522e-04 - iou: 0.5795 - iou_thresholded: 0.6852 - val_loss: 6.8343e-04 - val_iou: 0.4301 - val_iou_thresholded: 0.4770\n",
      "Epoch 112/200\n",
      "11/11 [==============================] - 10s 930ms/step - loss: 1.8726e-04 - iou: 0.5821 - iou_thresholded: 0.6695 - val_loss: 7.4309e-04 - val_iou: 0.3896 - val_iou_thresholded: 0.4694\n",
      "Epoch 113/200\n",
      "11/11 [==============================] - 10s 927ms/step - loss: 1.6125e-04 - iou: 0.5956 - iou_thresholded: 0.6913 - val_loss: 7.1015e-04 - val_iou: 0.4070 - val_iou_thresholded: 0.4519\n",
      "Epoch 114/200\n",
      "11/11 [==============================] - 10s 929ms/step - loss: 1.7953e-04 - iou: 0.5704 - iou_thresholded: 0.6631 - val_loss: 6.4569e-04 - val_iou: 0.4204 - val_iou_thresholded: 0.4773\n",
      "Epoch 115/200\n",
      "11/11 [==============================] - 10s 926ms/step - loss: 1.6104e-04 - iou: 0.6019 - iou_thresholded: 0.6995 - val_loss: 6.8624e-04 - val_iou: 0.4173 - val_iou_thresholded: 0.4610\n",
      "Epoch 116/200\n",
      "11/11 [==============================] - 10s 931ms/step - loss: 1.6412e-04 - iou: 0.6099 - iou_thresholded: 0.6991 - val_loss: 8.0629e-04 - val_iou: 0.4135 - val_iou_thresholded: 0.4544\n",
      "Epoch 117/200\n",
      "11/11 [==============================] - 10s 928ms/step - loss: 1.6218e-04 - iou: 0.5915 - iou_thresholded: 0.6757 - val_loss: 7.2983e-04 - val_iou: 0.4070 - val_iou_thresholded: 0.4768\n",
      "Epoch 118/200\n",
      "11/11 [==============================] - 10s 927ms/step - loss: 1.5713e-04 - iou: 0.5875 - iou_thresholded: 0.6806 - val_loss: 7.4239e-04 - val_iou: 0.3880 - val_iou_thresholded: 0.4546\n",
      "Epoch 119/200\n",
      "11/11 [==============================] - 10s 926ms/step - loss: 1.7156e-04 - iou: 0.5906 - iou_thresholded: 0.6709 - val_loss: 7.0365e-04 - val_iou: 0.3808 - val_iou_thresholded: 0.4220\n",
      "Epoch 120/200\n",
      "11/11 [==============================] - 10s 930ms/step - loss: 1.6575e-04 - iou: 0.6017 - iou_thresholded: 0.7000 - val_loss: 7.0935e-04 - val_iou: 0.4103 - val_iou_thresholded: 0.4556\n",
      "Epoch 121/200\n",
      "11/11 [==============================] - 11s 1s/step - loss: 1.5422e-04 - iou: 0.6237 - iou_thresholded: 0.7037 - val_loss: 7.3705e-04 - val_iou: 0.4218 - val_iou_thresholded: 0.4793\n",
      "Epoch 122/200\n",
      "11/11 [==============================] - 10s 1s/step - loss: 1.6398e-04 - iou: 0.6105 - iou_thresholded: 0.6975 - val_loss: 8.2260e-04 - val_iou: 0.4145 - val_iou_thresholded: 0.4616\n",
      "Epoch 123/200\n",
      "11/11 [==============================] - 10s 930ms/step - loss: 1.8539e-04 - iou: 0.5766 - iou_thresholded: 0.6584 - val_loss: 6.5730e-04 - val_iou: 0.4110 - val_iou_thresholded: 0.4810\n",
      "Epoch 124/200\n"
     ]
    },
    {
     "name": "stdout",
     "output_type": "stream",
     "text": [
      "11/11 [==============================] - 10s 926ms/step - loss: 1.6820e-04 - iou: 0.5970 - iou_thresholded: 0.6953 - val_loss: 5.7052e-04 - val_iou: 0.4374 - val_iou_thresholded: 0.4985\n",
      "Epoch 125/200\n",
      "11/11 [==============================] - 10s 931ms/step - loss: 1.6784e-04 - iou: 0.5934 - iou_thresholded: 0.6710 - val_loss: 6.7194e-04 - val_iou: 0.4287 - val_iou_thresholded: 0.4814\n",
      "Epoch 126/200\n",
      "11/11 [==============================] - 10s 933ms/step - loss: 1.6149e-04 - iou: 0.5801 - iou_thresholded: 0.6660 - val_loss: 6.7937e-04 - val_iou: 0.4201 - val_iou_thresholded: 0.4823\n",
      "Epoch 127/200\n",
      "11/11 [==============================] - 10s 928ms/step - loss: 1.5333e-04 - iou: 0.6018 - iou_thresholded: 0.7020 - val_loss: 7.5783e-04 - val_iou: 0.4200 - val_iou_thresholded: 0.4724\n",
      "Epoch 128/200\n",
      "11/11 [==============================] - 10s 925ms/step - loss: 1.5224e-04 - iou: 0.5826 - iou_thresholded: 0.6620 - val_loss: 7.1942e-04 - val_iou: 0.4390 - val_iou_thresholded: 0.4921\n",
      "Epoch 129/200\n",
      "11/11 [==============================] - 10s 936ms/step - loss: 1.5399e-04 - iou: 0.6408 - iou_thresholded: 0.7260 - val_loss: 7.6144e-04 - val_iou: 0.4116 - val_iou_thresholded: 0.4813\n",
      "Epoch 130/200\n",
      "11/11 [==============================] - 10s 929ms/step - loss: 1.5545e-04 - iou: 0.6144 - iou_thresholded: 0.6846 - val_loss: 7.3050e-04 - val_iou: 0.4212 - val_iou_thresholded: 0.4619\n",
      "Epoch 131/200\n",
      "11/11 [==============================] - 10s 925ms/step - loss: 1.5477e-04 - iou: 0.6085 - iou_thresholded: 0.7086 - val_loss: 7.2846e-04 - val_iou: 0.3939 - val_iou_thresholded: 0.4361\n",
      "Epoch 132/200\n",
      "11/11 [==============================] - 10s 927ms/step - loss: 1.7584e-04 - iou: 0.6092 - iou_thresholded: 0.6803 - val_loss: 0.0012 - val_iou: 0.1608 - val_iou_thresholded: 0.2411\n",
      "Epoch 133/200\n",
      "11/11 [==============================] - 11s 1s/step - loss: 4.7260e-04 - iou: 0.2856 - iou_thresholded: 0.3918 - val_loss: 5.4151e-04 - val_iou: 0.2736 - val_iou_thresholded: 0.4245\n",
      "Epoch 134/200\n",
      "11/11 [==============================] - 10s 1s/step - loss: 4.0989e-04 - iou: 0.3549 - iou_thresholded: 0.4806 - val_loss: 6.4750e-04 - val_iou: 0.2467 - val_iou_thresholded: 0.4391\n",
      "Epoch 135/200\n",
      "11/11 [==============================] - 10s 928ms/step - loss: 2.9591e-04 - iou: 0.3777 - iou_thresholded: 0.5071 - val_loss: 3.5119e-04 - val_iou: 0.3787 - val_iou_thresholded: 0.5236\n",
      "Epoch 136/200\n",
      "11/11 [==============================] - 10s 928ms/step - loss: 2.6452e-04 - iou: 0.4633 - iou_thresholded: 0.5733 - val_loss: 4.6242e-04 - val_iou: 0.3882 - val_iou_thresholded: 0.4699\n",
      "Epoch 137/200\n",
      "11/11 [==============================] - 10s 933ms/step - loss: 2.3020e-04 - iou: 0.5045 - iou_thresholded: 0.6034 - val_loss: 5.6355e-04 - val_iou: 0.3322 - val_iou_thresholded: 0.4237\n",
      "Epoch 138/200\n",
      "11/11 [==============================] - 10s 933ms/step - loss: 2.1618e-04 - iou: 0.5145 - iou_thresholded: 0.6353 - val_loss: 7.2879e-04 - val_iou: 0.3478 - val_iou_thresholded: 0.4018\n",
      "Epoch 139/200\n",
      "11/11 [==============================] - 10s 930ms/step - loss: 1.8926e-04 - iou: 0.5286 - iou_thresholded: 0.6279 - val_loss: 6.1911e-04 - val_iou: 0.3604 - val_iou_thresholded: 0.4363\n",
      "Epoch 140/200\n",
      "11/11 [==============================] - 10s 928ms/step - loss: 1.8943e-04 - iou: 0.5750 - iou_thresholded: 0.6695 - val_loss: 6.8659e-04 - val_iou: 0.3470 - val_iou_thresholded: 0.3992\n",
      "Epoch 141/200\n",
      "11/11 [==============================] - 10s 927ms/step - loss: 1.7164e-04 - iou: 0.5950 - iou_thresholded: 0.6938 - val_loss: 6.7826e-04 - val_iou: 0.3806 - val_iou_thresholded: 0.4266\n",
      "Epoch 142/200\n",
      "11/11 [==============================] - 10s 929ms/step - loss: 1.8337e-04 - iou: 0.5706 - iou_thresholded: 0.6700 - val_loss: 6.5209e-04 - val_iou: 0.3899 - val_iou_thresholded: 0.4718\n",
      "Epoch 143/200\n",
      "11/11 [==============================] - 10s 932ms/step - loss: 1.6704e-04 - iou: 0.5882 - iou_thresholded: 0.6832 - val_loss: 6.6696e-04 - val_iou: 0.4184 - val_iou_thresholded: 0.4550\n",
      "Epoch 144/200\n",
      "11/11 [==============================] - 10s 926ms/step - loss: 1.7157e-04 - iou: 0.6066 - iou_thresholded: 0.6763 - val_loss: 6.8697e-04 - val_iou: 0.3505 - val_iou_thresholded: 0.4298\n",
      "Epoch 145/200\n",
      "11/11 [==============================] - 11s 1s/step - loss: 2.0825e-04 - iou: 0.5456 - iou_thresholded: 0.6455 - val_loss: 6.1251e-04 - val_iou: 0.4110 - val_iou_thresholded: 0.4959\n",
      "Epoch 146/200\n",
      "11/11 [==============================] - 10s 1s/step - loss: 1.7013e-04 - iou: 0.5748 - iou_thresholded: 0.6802 - val_loss: 6.1508e-04 - val_iou: 0.4328 - val_iou_thresholded: 0.4883\n",
      "Epoch 147/200\n",
      "11/11 [==============================] - 10s 933ms/step - loss: 1.7231e-04 - iou: 0.5962 - iou_thresholded: 0.6883 - val_loss: 7.4573e-04 - val_iou: 0.3938 - val_iou_thresholded: 0.4502\n",
      "Epoch 148/200\n",
      "11/11 [==============================] - 10s 926ms/step - loss: 1.6352e-04 - iou: 0.6067 - iou_thresholded: 0.7026 - val_loss: 6.8068e-04 - val_iou: 0.4277 - val_iou_thresholded: 0.4971\n",
      "Epoch 149/200\n",
      "11/11 [==============================] - 10s 928ms/step - loss: 1.6249e-04 - iou: 0.5894 - iou_thresholded: 0.6652 - val_loss: 6.6969e-04 - val_iou: 0.4212 - val_iou_thresholded: 0.4767\n",
      "Epoch 150/200\n",
      "11/11 [==============================] - 10s 925ms/step - loss: 1.5446e-04 - iou: 0.6176 - iou_thresholded: 0.7124 - val_loss: 6.5504e-04 - val_iou: 0.4143 - val_iou_thresholded: 0.4710\n",
      "Epoch 151/200\n",
      "11/11 [==============================] - 10s 930ms/step - loss: 1.5019e-04 - iou: 0.5964 - iou_thresholded: 0.6771 - val_loss: 6.5997e-04 - val_iou: 0.4159 - val_iou_thresholded: 0.4784\n",
      "Epoch 152/200\n",
      "11/11 [==============================] - 10s 928ms/step - loss: 1.4786e-04 - iou: 0.6352 - iou_thresholded: 0.7324 - val_loss: 7.5346e-04 - val_iou: 0.4210 - val_iou_thresholded: 0.4703\n",
      "Epoch 153/200\n",
      "11/11 [==============================] - 10s 927ms/step - loss: 1.5252e-04 - iou: 0.6302 - iou_thresholded: 0.7124 - val_loss: 5.8145e-04 - val_iou: 0.4536 - val_iou_thresholded: 0.5172\n",
      "Epoch 154/200\n",
      "11/11 [==============================] - 10s 925ms/step - loss: 1.4901e-04 - iou: 0.6167 - iou_thresholded: 0.7009 - val_loss: 7.1938e-04 - val_iou: 0.4357 - val_iou_thresholded: 0.5027\n",
      "Epoch 155/200\n",
      "11/11 [==============================] - 10s 928ms/step - loss: 1.4120e-04 - iou: 0.6273 - iou_thresholded: 0.7240 - val_loss: 6.5836e-04 - val_iou: 0.4468 - val_iou_thresholded: 0.5015\n",
      "Epoch 156/200\n",
      "11/11 [==============================] - 10s 932ms/step - loss: 1.3775e-04 - iou: 0.6566 - iou_thresholded: 0.7501 - val_loss: 7.1006e-04 - val_iou: 0.4352 - val_iou_thresholded: 0.4892\n",
      "Epoch 157/200\n",
      "11/11 [==============================] - 11s 1s/step - loss: 1.3876e-04 - iou: 0.6481 - iou_thresholded: 0.7357 - val_loss: 7.2702e-04 - val_iou: 0.4463 - val_iou_thresholded: 0.4984\n",
      "Epoch 158/200\n",
      "11/11 [==============================] - 10s 1s/step - loss: 1.3648e-04 - iou: 0.6612 - iou_thresholded: 0.7493 - val_loss: 7.0585e-04 - val_iou: 0.4234 - val_iou_thresholded: 0.4789\n",
      "Epoch 159/200\n",
      "11/11 [==============================] - 10s 928ms/step - loss: 1.3466e-04 - iou: 0.6536 - iou_thresholded: 0.7535 - val_loss: 6.4737e-04 - val_iou: 0.4438 - val_iou_thresholded: 0.5027\n",
      "Epoch 160/200\n",
      "11/11 [==============================] - 10s 932ms/step - loss: 1.2921e-04 - iou: 0.6597 - iou_thresholded: 0.7481 - val_loss: 6.6863e-04 - val_iou: 0.4403 - val_iou_thresholded: 0.4899\n",
      "Epoch 161/200\n",
      "11/11 [==============================] - 10s 928ms/step - loss: 1.2913e-04 - iou: 0.6661 - iou_thresholded: 0.7573 - val_loss: 6.9092e-04 - val_iou: 0.4369 - val_iou_thresholded: 0.4907\n",
      "Epoch 162/200\n",
      "11/11 [==============================] - 10s 927ms/step - loss: 1.3663e-04 - iou: 0.6561 - iou_thresholded: 0.7562 - val_loss: 6.6872e-04 - val_iou: 0.4418 - val_iou_thresholded: 0.4929\n",
      "Epoch 163/200\n",
      "11/11 [==============================] - 10s 929ms/step - loss: 1.2889e-04 - iou: 0.6551 - iou_thresholded: 0.7418 - val_loss: 6.5453e-04 - val_iou: 0.4409 - val_iou_thresholded: 0.4914\n",
      "Epoch 164/200\n",
      "11/11 [==============================] - 10s 929ms/step - loss: 1.1824e-04 - iou: 0.6738 - iou_thresholded: 0.7664 - val_loss: 7.6461e-04 - val_iou: 0.4444 - val_iou_thresholded: 0.4805\n",
      "Epoch 165/200\n"
     ]
    },
    {
     "name": "stdout",
     "output_type": "stream",
     "text": [
      "11/11 [==============================] - 10s 930ms/step - loss: 1.4226e-04 - iou: 0.5860 - iou_thresholded: 0.6669 - val_loss: 6.9894e-04 - val_iou: 0.4253 - val_iou_thresholded: 0.4874\n",
      "Epoch 166/200\n",
      "11/11 [==============================] - 10s 925ms/step - loss: 1.2569e-04 - iou: 0.6845 - iou_thresholded: 0.7776 - val_loss: 7.6136e-04 - val_iou: 0.4449 - val_iou_thresholded: 0.4984\n",
      "Epoch 167/200\n",
      "11/11 [==============================] - 10s 928ms/step - loss: 1.2309e-04 - iou: 0.6851 - iou_thresholded: 0.7711 - val_loss: 8.5932e-04 - val_iou: 0.4316 - val_iou_thresholded: 0.4847\n",
      "Epoch 168/200\n",
      "11/11 [==============================] - 10s 926ms/step - loss: 1.2504e-04 - iou: 0.6456 - iou_thresholded: 0.7225 - val_loss: 7.6768e-04 - val_iou: 0.4286 - val_iou_thresholded: 0.4735\n",
      "Epoch 169/200\n",
      "11/11 [==============================] - 11s 1s/step - loss: 1.2252e-04 - iou: 0.6754 - iou_thresholded: 0.7641 - val_loss: 7.5170e-04 - val_iou: 0.4399 - val_iou_thresholded: 0.4896\n",
      "Epoch 170/200\n",
      "11/11 [==============================] - 10s 1s/step - loss: 1.1639e-04 - iou: 0.6805 - iou_thresholded: 0.7678 - val_loss: 7.1635e-04 - val_iou: 0.4340 - val_iou_thresholded: 0.4858\n",
      "Epoch 171/200\n",
      "11/11 [==============================] - 10s 930ms/step - loss: 1.1591e-04 - iou: 0.6787 - iou_thresholded: 0.7744 - val_loss: 7.9834e-04 - val_iou: 0.4296 - val_iou_thresholded: 0.4797\n",
      "Epoch 172/200\n",
      "11/11 [==============================] - 10s 930ms/step - loss: 1.2362e-04 - iou: 0.6797 - iou_thresholded: 0.7646 - val_loss: 7.8303e-04 - val_iou: 0.4393 - val_iou_thresholded: 0.4892\n",
      "Epoch 173/200\n",
      "11/11 [==============================] - 10s 934ms/step - loss: 1.3751e-04 - iou: 0.6716 - iou_thresholded: 0.7518 - val_loss: 7.1050e-04 - val_iou: 0.4416 - val_iou_thresholded: 0.4986\n",
      "Epoch 174/200\n",
      "11/11 [==============================] - 10s 928ms/step - loss: 1.2972e-04 - iou: 0.6709 - iou_thresholded: 0.7535 - val_loss: 9.4039e-04 - val_iou: 0.4198 - val_iou_thresholded: 0.4568\n",
      "Epoch 175/200\n",
      "11/11 [==============================] - 10s 929ms/step - loss: 1.3700e-04 - iou: 0.6599 - iou_thresholded: 0.7467 - val_loss: 7.3561e-04 - val_iou: 0.4257 - val_iou_thresholded: 0.4867\n",
      "Epoch 176/200\n",
      "11/11 [==============================] - 10s 926ms/step - loss: 1.3141e-04 - iou: 0.6609 - iou_thresholded: 0.7529 - val_loss: 7.0293e-04 - val_iou: 0.4634 - val_iou_thresholded: 0.5075\n",
      "Epoch 177/200\n",
      "11/11 [==============================] - 10s 929ms/step - loss: 1.2391e-04 - iou: 0.6690 - iou_thresholded: 0.7578 - val_loss: 6.8677e-04 - val_iou: 0.4528 - val_iou_thresholded: 0.5132\n",
      "Epoch 178/200\n",
      "11/11 [==============================] - 10s 931ms/step - loss: 1.1913e-04 - iou: 0.6836 - iou_thresholded: 0.7717 - val_loss: 7.5792e-04 - val_iou: 0.4180 - val_iou_thresholded: 0.4859\n",
      "Epoch 179/200\n",
      "11/11 [==============================] - 10s 926ms/step - loss: 1.2509e-04 - iou: 0.6471 - iou_thresholded: 0.7290 - val_loss: 8.8889e-04 - val_iou: 0.3952 - val_iou_thresholded: 0.4595\n",
      "Epoch 180/200\n",
      "11/11 [==============================] - 10s 927ms/step - loss: 1.3103e-04 - iou: 0.6768 - iou_thresholded: 0.7638 - val_loss: 9.1667e-04 - val_iou: 0.4375 - val_iou_thresholded: 0.4777\n",
      "Epoch 181/200\n",
      "11/11 [==============================] - 11s 1s/step - loss: 1.1945e-04 - iou: 0.6836 - iou_thresholded: 0.7696 - val_loss: 7.0933e-04 - val_iou: 0.4283 - val_iou_thresholded: 0.4886\n",
      "Epoch 182/200\n",
      "11/11 [==============================] - 10s 1s/step - loss: 1.1231e-04 - iou: 0.6925 - iou_thresholded: 0.7856 - val_loss: 8.9861e-04 - val_iou: 0.4326 - val_iou_thresholded: 0.4684\n",
      "Epoch 183/200\n",
      "11/11 [==============================] - 10s 928ms/step - loss: 1.1726e-04 - iou: 0.6906 - iou_thresholded: 0.7719 - val_loss: 8.9830e-04 - val_iou: 0.4491 - val_iou_thresholded: 0.4872\n",
      "Epoch 184/200\n",
      "11/11 [==============================] - 10s 928ms/step - loss: 1.2147e-04 - iou: 0.7045 - iou_thresholded: 0.7855 - val_loss: 7.2389e-04 - val_iou: 0.4334 - val_iou_thresholded: 0.4905\n",
      "Epoch 185/200\n",
      "11/11 [==============================] - 10s 928ms/step - loss: 1.0740e-04 - iou: 0.6746 - iou_thresholded: 0.7607 - val_loss: 8.4078e-04 - val_iou: 0.4369 - val_iou_thresholded: 0.4777\n",
      "Epoch 186/200\n",
      "11/11 [==============================] - 10s 930ms/step - loss: 1.0795e-04 - iou: 0.6700 - iou_thresholded: 0.7476 - val_loss: 7.7245e-04 - val_iou: 0.4427 - val_iou_thresholded: 0.4865\n",
      "Epoch 187/200\n",
      "11/11 [==============================] - 10s 929ms/step - loss: 1.1173e-04 - iou: 0.7022 - iou_thresholded: 0.7850 - val_loss: 8.5282e-04 - val_iou: 0.4527 - val_iou_thresholded: 0.4964\n",
      "Epoch 188/200\n",
      "11/11 [==============================] - 10s 926ms/step - loss: 1.0764e-04 - iou: 0.7286 - iou_thresholded: 0.8025 - val_loss: 8.8311e-04 - val_iou: 0.4590 - val_iou_thresholded: 0.4995\n",
      "Epoch 189/200\n",
      "11/11 [==============================] - 10s 928ms/step - loss: 1.0963e-04 - iou: 0.6978 - iou_thresholded: 0.7814 - val_loss: 8.4835e-04 - val_iou: 0.4149 - val_iou_thresholded: 0.4757\n",
      "Epoch 190/200\n",
      "11/11 [==============================] - 10s 926ms/step - loss: 1.0504e-04 - iou: 0.6995 - iou_thresholded: 0.7854 - val_loss: 9.4309e-04 - val_iou: 0.4357 - val_iou_thresholded: 0.4713\n",
      "Epoch 191/200\n",
      "11/11 [==============================] - 10s 931ms/step - loss: 1.0085e-04 - iou: 0.7226 - iou_thresholded: 0.8009 - val_loss: 9.0067e-04 - val_iou: 0.4088 - val_iou_thresholded: 0.4618\n",
      "Epoch 192/200\n",
      "11/11 [==============================] - 10s 927ms/step - loss: 1.0785e-04 - iou: 0.7198 - iou_thresholded: 0.8005 - val_loss: 9.5833e-04 - val_iou: 0.4575 - val_iou_thresholded: 0.5005\n",
      "Epoch 193/200\n",
      "11/11 [==============================] - 11s 1s/step - loss: 1.0368e-04 - iou: 0.7236 - iou_thresholded: 0.7990 - val_loss: 8.1825e-04 - val_iou: 0.4439 - val_iou_thresholded: 0.4911\n",
      "Epoch 194/200\n",
      "11/11 [==============================] - 10s 1s/step - loss: 1.0082e-04 - iou: 0.7226 - iou_thresholded: 0.7958 - val_loss: 8.4646e-04 - val_iou: 0.4429 - val_iou_thresholded: 0.4886\n",
      "Epoch 195/200\n",
      "11/11 [==============================] - 10s 933ms/step - loss: 1.0113e-04 - iou: 0.7166 - iou_thresholded: 0.7935 - val_loss: 8.7359e-04 - val_iou: 0.4445 - val_iou_thresholded: 0.4817\n",
      "Epoch 196/200\n",
      "11/11 [==============================] - 10s 926ms/step - loss: 9.9539e-05 - iou: 0.7249 - iou_thresholded: 0.7967 - val_loss: 9.0670e-04 - val_iou: 0.4522 - val_iou_thresholded: 0.4913\n",
      "Epoch 197/200\n",
      "11/11 [==============================] - 10s 928ms/step - loss: 1.0199e-04 - iou: 0.7260 - iou_thresholded: 0.8063 - val_loss: 9.8429e-04 - val_iou: 0.4473 - val_iou_thresholded: 0.4865\n",
      "Epoch 198/200\n",
      "11/11 [==============================] - 10s 931ms/step - loss: 1.0140e-04 - iou: 0.7336 - iou_thresholded: 0.8057 - val_loss: 8.2278e-04 - val_iou: 0.4617 - val_iou_thresholded: 0.5019\n",
      "Epoch 199/200\n",
      "11/11 [==============================] - 10s 929ms/step - loss: 9.7338e-05 - iou: 0.7326 - iou_thresholded: 0.8077 - val_loss: 9.0163e-04 - val_iou: 0.4491 - val_iou_thresholded: 0.4864\n",
      "Epoch 200/200\n",
      "11/11 [==============================] - 10s 929ms/step - loss: 9.6014e-05 - iou: 0.7388 - iou_thresholded: 0.8129 - val_loss: 9.1477e-04 - val_iou: 0.4374 - val_iou_thresholded: 0.4782\n"
     ]
    }
   ],
   "source": [
    "model, history = C.Helper.train_unet(X_train_set, y_train_set, X_val, y_val, model, epochs=200)"
   ]
  },
  {
   "cell_type": "code",
   "execution_count": 34,
   "id": "7bc51703",
   "metadata": {},
   "outputs": [
    {
     "data": {
      "image/png": "[encoded data removed]",
      "text/plain": [
       "<Figure size 864x432 with 1 Axes>"
      ]
     },
     "metadata": {
      "needs_background": "light"
     },
     "output_type": "display_data"
    },
    {
     "data": {
      "image/png": "[encoded data removed]",
      "text/plain": [
       "<Figure size 864x432 with 1 Axes>"
      ]
     },
     "metadata": {
      "needs_background": "light"
     },
     "output_type": "display_data"
    }
   ],
   "source": [
    "C.Helper.visualize_graph(history)"
   ]
  },
  {
   "cell_type": "code",
   "execution_count": 35,
   "id": "2b9f9190",
   "metadata": {},
   "outputs": [],
   "source": [
    "y_pred = C.Helper.prediction(test_images_array, model)"
   ]
  },
  {
   "cell_type": "code",
   "execution_count": 36,
   "id": "85b46673",
   "metadata": {
    "scrolled": true
   },
   "outputs": [
    {
     "data": {
      "image/png": "[encoded data removed]",
      "text/plain": [
       "<Figure size 1152x1440 with 20 Axes>"
      ]
     },
     "metadata": {
      "needs_background": "light"
     },
     "output_type": "display_data"
    }
   ],
   "source": [
    "C.Helper.visualize_result(test_images_array, y_test, y_pred)"
   ]
  },
  {
   "cell_type": "code",
   "execution_count": 37,
   "id": "9a236ee4",
   "metadata": {},
   "outputs": [
    {
     "name": "stdout",
     "output_type": "stream",
     "text": [
      "9/9 [==============================] - 2s 201ms/step - loss: 0.0011 - iou: 0.4836 - iou_thresholded: 0.5256\n"
     ]
    }
   ],
   "source": [
    "C.Helper.evaluate(test_images_array, y_test, model)"
   ]
  },
  {
   "cell_type": "code",
   "execution_count": null,
   "id": "f18f18a7",
   "metadata": {},
   "outputs": [],
   "source": []
  },
  {
   "cell_type": "code",
   "execution_count": null,
   "id": "9633f74e",
   "metadata": {},
   "outputs": [],
   "source": []
  },
  {
   "cell_type": "code",
   "execution_count": null,
   "id": "230dbf69",
   "metadata": {},
   "outputs": [],
   "source": []
  },
  {
   "cell_type": "code",
   "execution_count": null,
   "id": "91bf77f5",
   "metadata": {},
   "outputs": [],
   "source": []
  },
  {
   "cell_type": "code",
   "execution_count": null,
   "id": "5bf8aa51",
   "metadata": {},
   "outputs": [],
   "source": []
  },
  {
   "cell_type": "code",
   "execution_count": null,
   "id": "5e73cc60",
   "metadata": {},
   "outputs": [],
   "source": []
  },
  {
   "cell_type": "code",
   "execution_count": null,
   "id": "da3bb108",
   "metadata": {},
   "outputs": [],
   "source": []
  },
  {
   "cell_type": "code",
   "execution_count": null,
   "id": "2e3df05d",
   "metadata": {},
   "outputs": [],
   "source": []
  }
 ],
 "metadata": {
  "kernelspec": {
   "display_name": "Python 3 (ipykernel)",
   "language": "python",
   "name": "python3"
  },
  "language_info": {
   "codemirror_mode": {
    "name": "ipython",
    "version": 3
   },
   "file_extension": ".py",
   "mimetype": "text/x-python",
   "name": "python",
   "nbconvert_exporter": "python",
   "pygments_lexer": "ipython3",
   "version": "3.9.7"
  }
 },
 "nbformat": 4,
 "nbformat_minor": 5
}
