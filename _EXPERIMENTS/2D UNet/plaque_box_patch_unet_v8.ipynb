{
 "cells": [
  {
   "cell_type": "code",
   "execution_count": 1,
   "id": "5eebebed",
   "metadata": {},
   "outputs": [
    {
     "name": "stdout",
     "output_type": "stream",
     "text": [
      "Populating the interactive namespace from numpy and matplotlib\n"
     ]
    }
   ],
   "source": [
    "%pylab inline\n",
    "%load_ext autoreload\n",
    "%autoreload 2"
   ]
  },
  {
   "cell_type": "code",
   "execution_count": 2,
   "id": "1db43f95",
   "metadata": {},
   "outputs": [],
   "source": [
    "import cactas as C\n",
    "import os\n",
    "import mahotas as mh"
   ]
  },
  {
   "cell_type": "code",
   "execution_count": 3,
   "id": "3a25db15",
   "metadata": {
    "scrolled": true
   },
   "outputs": [
    {
     "name": "stderr",
     "output_type": "stream",
     "text": [
      "2024-05-08 18:28:07.436105: I tensorflow/stream_executor/platform/default/dso_loader.cc:53] Successfully opened dynamic library libcudart.so.11.0\n"
     ]
    },
    {
     "name": "stdout",
     "output_type": "stream",
     "text": [
      "WARNING:tensorflow:From /tmp/ipykernel_240331/392601943.py:2: is_gpu_available (from tensorflow.python.framework.test_util) is deprecated and will be removed in a future version.\n",
      "Instructions for updating:\n",
      "Use `tf.config.list_physical_devices('GPU')` instead.\n"
     ]
    },
    {
     "name": "stderr",
     "output_type": "stream",
     "text": [
      "2024-05-08 18:28:09.324303: I tensorflow/core/platform/cpu_feature_guard.cc:142] This TensorFlow binary is optimized with oneAPI Deep Neural Network Library (oneDNN) to use the following CPU instructions in performance-critical operations:  AVX2 FMA\n",
      "To enable them in other operations, rebuild TensorFlow with the appropriate compiler flags.\n",
      "2024-05-08 18:28:09.325321: I tensorflow/stream_executor/platform/default/dso_loader.cc:53] Successfully opened dynamic library libcuda.so.1\n",
      "2024-05-08 18:28:09.813589: I tensorflow/core/common_runtime/gpu/gpu_device.cc:1733] Found device 0 with properties: \n",
      "pciBusID: 0000:07:00.0 name: A100-SXM4-40GB computeCapability: 8.0\n",
      "coreClock: 1.41GHz coreCount: 108 deviceMemorySize: 39.59GiB deviceMemoryBandwidth: 1.41TiB/s\n",
      "2024-05-08 18:28:09.816229: I tensorflow/core/common_runtime/gpu/gpu_device.cc:1733] Found device 1 with properties: \n",
      "pciBusID: 0000:90:00.0 name: A100-SXM4-40GB computeCapability: 8.0\n",
      "coreClock: 1.41GHz coreCount: 108 deviceMemorySize: 39.59GiB deviceMemoryBandwidth: 1.41TiB/s\n",
      "2024-05-08 18:28:09.816287: I tensorflow/stream_executor/platform/default/dso_loader.cc:53] Successfully opened dynamic library libcudart.so.11.0\n",
      "2024-05-08 18:28:09.819788: I tensorflow/stream_executor/platform/default/dso_loader.cc:53] Successfully opened dynamic library libcublas.so.11\n",
      "2024-05-08 18:28:09.819827: I tensorflow/stream_executor/platform/default/dso_loader.cc:53] Successfully opened dynamic library libcublasLt.so.11\n",
      "2024-05-08 18:28:09.820861: I tensorflow/stream_executor/platform/default/dso_loader.cc:53] Successfully opened dynamic library libcufft.so.10\n",
      "2024-05-08 18:28:09.821388: I tensorflow/stream_executor/platform/default/dso_loader.cc:53] Successfully opened dynamic library libcurand.so.10\n",
      "2024-05-08 18:28:09.822072: I tensorflow/stream_executor/platform/default/dso_loader.cc:53] Successfully opened dynamic library libcusolver.so.11\n",
      "2024-05-08 18:28:09.822970: I tensorflow/stream_executor/platform/default/dso_loader.cc:53] Successfully opened dynamic library libcusparse.so.11\n",
      "2024-05-08 18:28:09.823435: I tensorflow/stream_executor/platform/default/dso_loader.cc:53] Successfully opened dynamic library libcudnn.so.8\n",
      "2024-05-08 18:28:09.832967: I tensorflow/core/common_runtime/gpu/gpu_device.cc:1871] Adding visible gpu devices: 0, 1\n",
      "2024-05-08 18:28:09.832998: I tensorflow/stream_executor/platform/default/dso_loader.cc:53] Successfully opened dynamic library libcudart.so.11.0\n",
      "2024-05-08 18:28:10.652876: I tensorflow/core/common_runtime/gpu/gpu_device.cc:1258] Device interconnect StreamExecutor with strength 1 edge matrix:\n",
      "2024-05-08 18:28:10.652921: I tensorflow/core/common_runtime/gpu/gpu_device.cc:1264]      0 1 \n",
      "2024-05-08 18:28:10.652927: I tensorflow/core/common_runtime/gpu/gpu_device.cc:1277] 0:   N Y \n",
      "2024-05-08 18:28:10.652931: I tensorflow/core/common_runtime/gpu/gpu_device.cc:1277] 1:   Y N \n",
      "2024-05-08 18:28:10.672693: I tensorflow/core/common_runtime/gpu/gpu_device.cc:1418] Created TensorFlow device (/device:GPU:0 with 38425 MB memory) -> physical GPU (device: 0, name: A100-SXM4-40GB, pci bus id: 0000:07:00.0, compute capability: 8.0)\n",
      "2024-05-08 18:28:10.676868: I tensorflow/core/common_runtime/gpu/gpu_device.cc:1418] Created TensorFlow device (/device:GPU:1 with 38425 MB memory) -> physical GPU (device: 1, name: A100-SXM4-40GB, pci bus id: 0000:90:00.0, compute capability: 8.0)\n"
     ]
    },
    {
     "data": {
      "text/plain": [
       "True"
      ]
     },
     "execution_count": 3,
     "metadata": {},
     "output_type": "execute_result"
    }
   ],
   "source": [
    "import tensorflow as tf\n",
    "gpu_available = tf.test.is_gpu_available()\n",
    "gpu_available"
   ]
  },
  {
   "cell_type": "code",
   "execution_count": null,
   "id": "c7599e1d",
   "metadata": {},
   "outputs": [],
   "source": []
  },
  {
   "cell_type": "code",
   "execution_count": 4,
   "id": "ca9de1bc",
   "metadata": {},
   "outputs": [],
   "source": [
    "DATAPATH='/raid/mpsych/CACTAS/DATA/CLEANED/'"
   ]
  },
  {
   "cell_type": "code",
   "execution_count": 5,
   "id": "97b3bd3c",
   "metadata": {},
   "outputs": [],
   "source": [
    "data = C.Helper.load_separate_data(DATAPATH, \n",
    "                    types=('filtered_images', 'filtered_labels', 'filtered_masks'), subsets=('train', 'test'))"
   ]
  },
  {
   "cell_type": "code",
   "execution_count": 6,
   "id": "0166f03a",
   "metadata": {},
   "outputs": [],
   "source": [
    "filtered_images_train = data['filtered_images_train']\n",
    "filtered_images_test = data['filtered_images_test']\n",
    "filtered_labels_train = data['filtered_labels_train']\n",
    "filtered_labels_test = data['filtered_labels_test']\n",
    "filtered_masks_train = data['filtered_masks_train']\n",
    "filtered_masks_test = data['filtered_masks_test']"
   ]
  },
  {
   "cell_type": "code",
   "execution_count": 7,
   "id": "65030ac1",
   "metadata": {},
   "outputs": [],
   "source": [
    "# for i in range(len(filtered_images_train)):\n",
    "#     print(filtered_images_train[i].shape, filtered_labels_train[i].shape, filtered_masks_train[i].shape)"
   ]
  },
  {
   "cell_type": "code",
   "execution_count": 8,
   "id": "511e7cd1",
   "metadata": {},
   "outputs": [],
   "source": [
    "# for i in range(len(filtered_images_test)):\n",
    "#     print(filtered_images_test[i].shape, filtered_labels_test[i].shape, filtered_masks_test[i].shape)"
   ]
  },
  {
   "cell_type": "code",
   "execution_count": null,
   "id": "a9b07f6d",
   "metadata": {},
   "outputs": [],
   "source": []
  },
  {
   "cell_type": "code",
   "execution_count": 9,
   "id": "deb89518",
   "metadata": {},
   "outputs": [],
   "source": [
    "normalized_images_train = C.Helper.normalize_data(filtered_images_train)\n",
    "normalized_images_test = C.Helper.normalize_data(filtered_images_test)"
   ]
  },
  {
   "cell_type": "code",
   "execution_count": 10,
   "id": "4e06c657",
   "metadata": {},
   "outputs": [],
   "source": [
    "normalized_masks_train = C.Helper.normalize_data(filtered_masks_train)\n",
    "normalized_masks_test = C.Helper.normalize_data(filtered_masks_test)"
   ]
  },
  {
   "cell_type": "code",
   "execution_count": null,
   "id": "f2e93307",
   "metadata": {},
   "outputs": [],
   "source": []
  },
  {
   "cell_type": "code",
   "execution_count": 11,
   "id": "8e6ea219",
   "metadata": {},
   "outputs": [],
   "source": [
    "last_key = np.concatenate(normalized_images_train[:round(len(normalized_images_train)*0.8)], axis=0)"
   ]
  },
  {
   "cell_type": "code",
   "execution_count": null,
   "id": "b48fe491",
   "metadata": {},
   "outputs": [],
   "source": []
  },
  {
   "cell_type": "code",
   "execution_count": 13,
   "id": "8bd0a33c",
   "metadata": {},
   "outputs": [],
   "source": [
    "X_train = np.concatenate(normalized_images_train, axis=0)\n",
    "X_test = np.concatenate(normalized_images_test, axis=0)\n",
    "y_train_array = np.concatenate(filtered_labels_train, axis=0)\n",
    "y_test_array = np.concatenate(filtered_labels_test, axis=0)\n",
    "m_train = np.concatenate(normalized_masks_train, axis=0)\n",
    "m_test = np.concatenate(normalized_masks_test, axis=0)"
   ]
  },
  {
   "cell_type": "code",
   "execution_count": null,
   "id": "971354c7",
   "metadata": {},
   "outputs": [],
   "source": []
  },
  {
   "cell_type": "code",
   "execution_count": 22,
   "id": "36f94810",
   "metadata": {},
   "outputs": [],
   "source": [
    "new_slices = []\n",
    "for i in range(len(y_train_array)):\n",
    "    slices = np.where(y_train_array[i] != 0, True, False)\n",
    "    new_slices.append(slices)\n",
    "y_train = np.array(new_slices)"
   ]
  },
  {
   "cell_type": "code",
   "execution_count": 23,
   "id": "a771d7e1",
   "metadata": {},
   "outputs": [],
   "source": [
    "new_slices1 = []\n",
    "for i in range(len(y_test_array)):\n",
    "    slices = np.where(y_test_array[i] != 0, True, False)\n",
    "    new_slices1.append(slices)\n",
    "y_test = np.array(new_slices1)"
   ]
  },
  {
   "cell_type": "code",
   "execution_count": null,
   "id": "0f073d33",
   "metadata": {},
   "outputs": [],
   "source": []
  },
  {
   "cell_type": "code",
   "execution_count": 27,
   "id": "f6c61178",
   "metadata": {},
   "outputs": [],
   "source": [
    "y_train = y_train.astype(np.float32)\n",
    "y_test = y_test.astype(np.float32)"
   ]
  },
  {
   "cell_type": "code",
   "execution_count": null,
   "id": "5845b2a4",
   "metadata": {},
   "outputs": [],
   "source": []
  },
  {
   "cell_type": "code",
   "execution_count": 29,
   "id": "3692ec60",
   "metadata": {},
   "outputs": [],
   "source": [
    "train_masks=[]\n",
    "for i in range(len(m_train)):\n",
    "    binary = (m_train[i] > 0).astype(np.uint8)\n",
    "    dilated = mh.dilate(binary.astype(np.bool_))\n",
    "    for _ in range(9):\n",
    "        dilated = mh.dilate(dilated)\n",
    "    train_masks.append(dilated)"
   ]
  },
  {
   "cell_type": "code",
   "execution_count": 30,
   "id": "28b56250",
   "metadata": {},
   "outputs": [],
   "source": [
    "train_images=[]\n",
    "for i in range(len(X_train)):\n",
    "    train_image = X_train[i] * train_masks[i]\n",
    "    train_images.append(train_image)\n",
    "train_images_array = np.array(train_images)"
   ]
  },
  {
   "cell_type": "code",
   "execution_count": null,
   "id": "050bc38c",
   "metadata": {},
   "outputs": [],
   "source": []
  },
  {
   "cell_type": "code",
   "execution_count": 31,
   "id": "092f608d",
   "metadata": {
    "scrolled": true
   },
   "outputs": [],
   "source": [
    "# for i in range(10, 20):\n",
    "#     plt.imshow(train_images[i])\n",
    "#     plt.show()"
   ]
  },
  {
   "cell_type": "code",
   "execution_count": 32,
   "id": "bc55e9be",
   "metadata": {},
   "outputs": [],
   "source": [
    "# for i in range(10, 20):\n",
    "#     plt.imshow(train_images[i])\n",
    "#     plt.imshow(y_train[i], cmap='gray', alpha=0.5)\n",
    "#     plt.show()"
   ]
  },
  {
   "cell_type": "code",
   "execution_count": 33,
   "id": "67fbfaa8",
   "metadata": {},
   "outputs": [],
   "source": [
    "# fig, axes = plt.subplots(1, 3, figsize=(15, 5))\n",
    "# axes[0].imshow(X_train[11], vmin=0, vmax=1)\n",
    "# axes[0].set_title('Original Image')\n",
    "# axes[1].imshow(train_masks[11])\n",
    "# axes[1].set_title('Mask')\n",
    "# axes[2].imshow(train_images[11])\n",
    "# axes[2].set_title('Processed Image')\n",
    "# plt.show()"
   ]
  },
  {
   "cell_type": "code",
   "execution_count": null,
   "id": "7edf63e4",
   "metadata": {},
   "outputs": [],
   "source": []
  },
  {
   "cell_type": "code",
   "execution_count": 34,
   "id": "3a3d4f47",
   "metadata": {},
   "outputs": [],
   "source": [
    "test_masks=[]\n",
    "for i in range(len(m_test)):\n",
    "    binary = (m_test[i] > 0).astype(np.uint8)\n",
    "    dilated = mh.dilate(binary.astype(np.bool_))\n",
    "    for _ in range(9):\n",
    "        dilated = mh.dilate(dilated)\n",
    "    test_masks.append(dilated)"
   ]
  },
  {
   "cell_type": "code",
   "execution_count": 35,
   "id": "c08c1bc9",
   "metadata": {},
   "outputs": [],
   "source": [
    "test_images=[]\n",
    "for i in range(len(X_test)):\n",
    "    test_image = X_test[i] * test_masks[i]\n",
    "    test_images.append(test_image)\n",
    "test_images_array = np.array(test_images)"
   ]
  },
  {
   "cell_type": "code",
   "execution_count": null,
   "id": "d7c3c4a1",
   "metadata": {},
   "outputs": [],
   "source": []
  },
  {
   "cell_type": "code",
   "execution_count": null,
   "id": "9678558b",
   "metadata": {},
   "outputs": [],
   "source": []
  },
  {
   "cell_type": "code",
   "execution_count": 36,
   "id": "7d9bea09",
   "metadata": {},
   "outputs": [],
   "source": [
    "X_train_set = train_images_array[:last_key.shape[0]]\n",
    "y_train_set = y_train[:last_key.shape[0]]\n",
    "X_val = train_images_array[last_key.shape[0]:]\n",
    "y_val = y_train[last_key.shape[0]:]"
   ]
  },
  {
   "cell_type": "code",
   "execution_count": null,
   "id": "9ce256c1",
   "metadata": {},
   "outputs": [],
   "source": []
  },
  {
   "cell_type": "code",
   "execution_count": 37,
   "id": "c43945a0",
   "metadata": {},
   "outputs": [
    {
     "data": {
      "text/plain": [
       "((354, 512, 512, 1), (354, 512, 512, 1))"
      ]
     },
     "execution_count": 37,
     "metadata": {},
     "output_type": "execute_result"
    }
   ],
   "source": [
    "X_train_set.shape, y_train_set.shape"
   ]
  },
  {
   "cell_type": "code",
   "execution_count": 38,
   "id": "a4b42641",
   "metadata": {},
   "outputs": [
    {
     "data": {
      "text/plain": [
       "((95, 512, 512, 1), (95, 512, 512, 1))"
      ]
     },
     "execution_count": 38,
     "metadata": {},
     "output_type": "execute_result"
    }
   ],
   "source": [
    "X_val.shape, y_val.shape"
   ]
  },
  {
   "cell_type": "code",
   "execution_count": 39,
   "id": "f0250dc1",
   "metadata": {},
   "outputs": [
    {
     "data": {
      "text/plain": [
       "(dtype('float32'), dtype('float32'))"
      ]
     },
     "execution_count": 39,
     "metadata": {},
     "output_type": "execute_result"
    }
   ],
   "source": [
    "X_train_set.dtype, y_train_set.dtype"
   ]
  },
  {
   "cell_type": "code",
   "execution_count": null,
   "id": "34dd6c88",
   "metadata": {},
   "outputs": [],
   "source": []
  },
  {
   "cell_type": "code",
   "execution_count": 40,
   "id": "c001a494",
   "metadata": {
    "scrolled": true
   },
   "outputs": [
    {
     "name": "stdout",
     "output_type": "stream",
     "text": [
      "-----------------------------------------\n",
      "keras-unet init: TF version is >= 2.0.0 - using `tf.keras` instead of `Keras`\n",
      "-----------------------------------------\n"
     ]
    },
    {
     "name": "stderr",
     "output_type": "stream",
     "text": [
      "2024-05-08 18:29:56.755404: I tensorflow/core/common_runtime/gpu/gpu_device.cc:1733] Found device 0 with properties: \n",
      "pciBusID: 0000:07:00.0 name: A100-SXM4-40GB computeCapability: 8.0\n",
      "coreClock: 1.41GHz coreCount: 108 deviceMemorySize: 39.59GiB deviceMemoryBandwidth: 1.41TiB/s\n",
      "2024-05-08 18:29:56.758114: I tensorflow/core/common_runtime/gpu/gpu_device.cc:1733] Found device 1 with properties: \n",
      "pciBusID: 0000:90:00.0 name: A100-SXM4-40GB computeCapability: 8.0\n",
      "coreClock: 1.41GHz coreCount: 108 deviceMemorySize: 39.59GiB deviceMemoryBandwidth: 1.41TiB/s\n",
      "2024-05-08 18:29:56.767795: I tensorflow/core/common_runtime/gpu/gpu_device.cc:1871] Adding visible gpu devices: 0, 1\n",
      "2024-05-08 18:29:56.770723: I tensorflow/core/common_runtime/gpu/gpu_device.cc:1733] Found device 0 with properties: \n",
      "pciBusID: 0000:07:00.0 name: A100-SXM4-40GB computeCapability: 8.0\n",
      "coreClock: 1.41GHz coreCount: 108 deviceMemorySize: 39.59GiB deviceMemoryBandwidth: 1.41TiB/s\n",
      "2024-05-08 18:29:56.773333: I tensorflow/core/common_runtime/gpu/gpu_device.cc:1733] Found device 1 with properties: \n",
      "pciBusID: 0000:90:00.0 name: A100-SXM4-40GB computeCapability: 8.0\n",
      "coreClock: 1.41GHz coreCount: 108 deviceMemorySize: 39.59GiB deviceMemoryBandwidth: 1.41TiB/s\n",
      "2024-05-08 18:29:56.782749: I tensorflow/core/common_runtime/gpu/gpu_device.cc:1871] Adding visible gpu devices: 0, 1\n",
      "2024-05-08 18:29:56.782795: I tensorflow/core/common_runtime/gpu/gpu_device.cc:1258] Device interconnect StreamExecutor with strength 1 edge matrix:\n",
      "2024-05-08 18:29:56.782800: I tensorflow/core/common_runtime/gpu/gpu_device.cc:1264]      0 1 \n",
      "2024-05-08 18:29:56.782805: I tensorflow/core/common_runtime/gpu/gpu_device.cc:1277] 0:   N Y \n",
      "2024-05-08 18:29:56.782809: I tensorflow/core/common_runtime/gpu/gpu_device.cc:1277] 1:   Y N \n",
      "2024-05-08 18:29:56.790038: I tensorflow/core/common_runtime/gpu/gpu_device.cc:1418] Created TensorFlow device (/job:localhost/replica:0/task:0/device:GPU:0 with 38425 MB memory) -> physical GPU (device: 0, name: A100-SXM4-40GB, pci bus id: 0000:07:00.0, compute capability: 8.0)\n",
      "2024-05-08 18:29:56.792460: I tensorflow/core/common_runtime/gpu/gpu_device.cc:1418] Created TensorFlow device (/job:localhost/replica:0/task:0/device:GPU:1 with 38425 MB memory) -> physical GPU (device: 1, name: A100-SXM4-40GB, pci bus id: 0000:90:00.0, compute capability: 8.0)\n"
     ]
    }
   ],
   "source": [
    "model = C.Helper.create_unet(X_train_set[0].shape)"
   ]
  },
  {
   "cell_type": "code",
   "execution_count": 41,
   "id": "f889cdd0",
   "metadata": {
    "scrolled": true
   },
   "outputs": [
    {
     "name": "stderr",
     "output_type": "stream",
     "text": [
      "2024-05-08 18:29:57.564129: I tensorflow/compiler/mlir/mlir_graph_optimization_pass.cc:176] None of the MLIR Optimization Passes are enabled (registered 2)\n",
      "2024-05-08 18:29:57.582763: I tensorflow/core/platform/profile_utils/cpu_utils.cc:114] CPU Frequency: 2245740000 Hz\n"
     ]
    },
    {
     "name": "stdout",
     "output_type": "stream",
     "text": [
      "Epoch 1/200\n"
     ]
    },
    {
     "name": "stderr",
     "output_type": "stream",
     "text": [
      "2024-05-08 18:29:58.971843: I tensorflow/stream_executor/platform/default/dso_loader.cc:53] Successfully opened dynamic library libcudnn.so.8\n",
      "2024-05-08 18:29:59.621681: I tensorflow/stream_executor/cuda/cuda_dnn.cc:359] Loaded cuDNN version 8201\n",
      "2024-05-08 18:30:00.349708: W tensorflow/stream_executor/gpu/asm_compiler.cc:191] Falling back to the CUDA driver for PTX compilation; ptxas does not support CC 8.0\n",
      "2024-05-08 18:30:00.349733: W tensorflow/stream_executor/gpu/asm_compiler.cc:194] Used ptxas at ptxas\n",
      "2024-05-08 18:30:00.349789: W tensorflow/stream_executor/gpu/redzone_allocator.cc:314] Unimplemented: ptxas ptxas too old. Falling back to the driver to compile.\n",
      "Relying on driver to perform ptx compilation. \n",
      "Modify $PATH to customize ptxas location.\n",
      "This message will be only logged once.\n",
      "2024-05-08 18:30:00.442826: I tensorflow/stream_executor/platform/default/dso_loader.cc:53] Successfully opened dynamic library libcublas.so.11\n",
      "2024-05-08 18:30:01.322421: I tensorflow/stream_executor/platform/default/dso_loader.cc:53] Successfully opened dynamic library libcublasLt.so.11\n",
      "2024-05-08 18:30:10.758843: W tensorflow/core/common_runtime/bfc_allocator.cc:271] Allocator (GPU_0_bfc) ran out of memory trying to allocate 4.02GiB with freed_by_count=0. The caller indicates that this is not a failure, but may mean that there could be performance gains if more memory were available.\n",
      "2024-05-08 18:30:10.759135: W tensorflow/core/kernels/gpu_utils.cc:49] Failed to allocate memory for convolution redzone checking; skipping this check. This is benign and only means that we won't check cudnn for out-of-bounds reads and writes. This message will only be printed once.\n"
     ]
    },
    {
     "name": "stdout",
     "output_type": "stream",
     "text": [
      "11/11 [==============================] - 39s 2s/step - loss: 1.9091 - iou: 1.0886e-04 - iou_thresholded: 6.0505e-04 - val_loss: 0.5761 - val_iou: 1.5645e-05 - val_iou_thresholded: 0.0010\n",
      "Epoch 2/200\n",
      "11/11 [==============================] - 15s 1s/step - loss: 0.0761 - iou: 2.5549e-04 - iou_thresholded: 0.0021 - val_loss: 0.0041 - val_iou: 5.1845e-05 - val_iou_thresholded: 0.0010\n",
      "Epoch 3/200\n",
      "11/11 [==============================] - 10s 930ms/step - loss: 0.0025 - iou: 0.0010 - iou_thresholded: 0.0016 - val_loss: 7.8315e-04 - val_iou: 0.0044 - val_iou_thresholded: 0.0010\n",
      "Epoch 4/200\n",
      "11/11 [==============================] - 10s 926ms/step - loss: 0.0016 - iou: 0.0033 - iou_thresholded: 0.0030 - val_loss: 7.3665e-04 - val_iou: 0.0045 - val_iou_thresholded: 0.0010\n",
      "Epoch 5/200\n",
      "11/11 [==============================] - 10s 924ms/step - loss: 0.0013 - iou: 0.0055 - iou_thresholded: 0.0029 - val_loss: 6.4596e-04 - val_iou: 0.0071 - val_iou_thresholded: 0.0010\n",
      "Epoch 6/200\n",
      "11/11 [==============================] - 10s 928ms/step - loss: 0.0012 - iou: 0.0082 - iou_thresholded: 0.0018 - val_loss: 6.5543e-04 - val_iou: 0.0111 - val_iou_thresholded: 0.0010\n",
      "Epoch 7/200\n",
      "11/11 [==============================] - 10s 929ms/step - loss: 0.0010 - iou: 0.0138 - iou_thresholded: 0.0016 - val_loss: 6.5450e-04 - val_iou: 0.0144 - val_iou_thresholded: 0.0010\n",
      "Epoch 8/200\n",
      "11/11 [==============================] - 10s 928ms/step - loss: 9.7424e-04 - iou: 0.0149 - iou_thresholded: 0.0012 - val_loss: 6.3082e-04 - val_iou: 0.0163 - val_iou_thresholded: 0.0010\n",
      "Epoch 9/200\n",
      "11/11 [==============================] - 10s 926ms/step - loss: 9.3208e-04 - iou: 0.0193 - iou_thresholded: 0.0017 - val_loss: 5.8017e-04 - val_iou: 0.0184 - val_iou_thresholded: 0.0010\n",
      "Epoch 10/200\n",
      "11/11 [==============================] - 10s 930ms/step - loss: 8.7997e-04 - iou: 0.0201 - iou_thresholded: 0.0017 - val_loss: 6.3061e-04 - val_iou: 0.0172 - val_iou_thresholded: 0.0010\n",
      "Epoch 11/200\n",
      "11/11 [==============================] - 10s 934ms/step - loss: 8.3853e-04 - iou: 0.0266 - iou_thresholded: 0.0045 - val_loss: 6.6988e-04 - val_iou: 0.0087 - val_iou_thresholded: 0.0010\n",
      "Epoch 12/200\n",
      "11/11 [==============================] - 10s 927ms/step - loss: 9.7316e-04 - iou: 0.0253 - iou_thresholded: 0.0025 - val_loss: 5.7526e-04 - val_iou: 0.0191 - val_iou_thresholded: 0.0010\n",
      "Epoch 13/200\n",
      "11/11 [==============================] - 11s 1s/step - loss: 8.9075e-04 - iou: 0.0224 - iou_thresholded: 7.1951e-04 - val_loss: 5.8671e-04 - val_iou: 0.0174 - val_iou_thresholded: 0.0010\n",
      "Epoch 14/200\n",
      "11/11 [==============================] - 10s 1s/step - loss: 8.4720e-04 - iou: 0.0324 - iou_thresholded: 0.0022 - val_loss: 6.0441e-04 - val_iou: 0.0235 - val_iou_thresholded: 0.0010\n",
      "Epoch 15/200\n",
      "11/11 [==============================] - 10s 927ms/step - loss: 8.2208e-04 - iou: 0.0361 - iou_thresholded: 0.0053 - val_loss: 6.3736e-04 - val_iou: 0.0129 - val_iou_thresholded: 0.0010\n",
      "Epoch 16/200\n",
      "11/11 [==============================] - 10s 928ms/step - loss: 7.3897e-04 - iou: 0.0347 - iou_thresholded: 0.0062 - val_loss: 6.1932e-04 - val_iou: 0.0253 - val_iou_thresholded: 0.0013\n",
      "Epoch 17/200\n",
      "11/11 [==============================] - 10s 924ms/step - loss: 7.9161e-04 - iou: 0.0461 - iou_thresholded: 0.0072 - val_loss: 5.9410e-04 - val_iou: 0.0277 - val_iou_thresholded: 0.0016\n",
      "Epoch 18/200\n",
      "11/11 [==============================] - 10s 930ms/step - loss: 7.5333e-04 - iou: 0.0508 - iou_thresholded: 0.0149 - val_loss: 6.0277e-04 - val_iou: 0.0264 - val_iou_thresholded: 0.0016\n",
      "Epoch 19/200\n",
      "11/11 [==============================] - 10s 927ms/step - loss: 7.6409e-04 - iou: 0.0632 - iou_thresholded: 0.0378 - val_loss: 6.0063e-04 - val_iou: 0.0298 - val_iou_thresholded: 0.0027\n",
      "Epoch 20/200\n",
      "11/11 [==============================] - 10s 925ms/step - loss: 6.7378e-04 - iou: 0.0655 - iou_thresholded: 0.0425 - val_loss: 6.2533e-04 - val_iou: 0.0284 - val_iou_thresholded: 0.0032\n",
      "Epoch 21/200\n",
      "11/11 [==============================] - 10s 928ms/step - loss: 7.5133e-04 - iou: 0.0790 - iou_thresholded: 0.0690 - val_loss: 7.2890e-04 - val_iou: 0.0235 - val_iou_thresholded: 9.3463e-04\n",
      "Epoch 22/200\n",
      "11/11 [==============================] - 10s 928ms/step - loss: 7.0061e-04 - iou: 0.0634 - iou_thresholded: 0.0476 - val_loss: 6.4132e-04 - val_iou: 0.0194 - val_iou_thresholded: 9.6740e-04\n",
      "Epoch 23/200\n",
      "11/11 [==============================] - 10s 929ms/step - loss: 7.4160e-04 - iou: 0.0735 - iou_thresholded: 0.0517 - val_loss: 6.2792e-04 - val_iou: 0.0348 - val_iou_thresholded: 0.0062\n",
      "Epoch 24/200\n",
      "11/11 [==============================] - 10s 925ms/step - loss: 6.8405e-04 - iou: 0.0753 - iou_thresholded: 0.0635 - val_loss: 6.8248e-04 - val_iou: 0.0323 - val_iou_thresholded: 0.0099\n",
      "Epoch 25/200\n",
      "11/11 [==============================] - 11s 1s/step - loss: 7.6843e-04 - iou: 0.0732 - iou_thresholded: 0.0663 - val_loss: 5.8982e-04 - val_iou: 0.0371 - val_iou_thresholded: 0.0074\n",
      "Epoch 26/200\n",
      "11/11 [==============================] - 10s 1s/step - loss: 7.0855e-04 - iou: 0.0669 - iou_thresholded: 0.0510 - val_loss: 6.3678e-04 - val_iou: 0.0300 - val_iou_thresholded: 0.0036\n",
      "Epoch 27/200\n",
      "11/11 [==============================] - 10s 932ms/step - loss: 0.0010 - iou: 0.0627 - iou_thresholded: 0.0584 - val_loss: 6.7744e-04 - val_iou: 0.0302 - val_iou_thresholded: 0.0035\n",
      "Epoch 28/200\n",
      "11/11 [==============================] - 10s 926ms/step - loss: 7.4874e-04 - iou: 0.0513 - iou_thresholded: 0.0159 - val_loss: 5.3291e-04 - val_iou: 0.0288 - val_iou_thresholded: 9.9076e-04\n",
      "Epoch 29/200\n",
      "11/11 [==============================] - 10s 928ms/step - loss: 7.0954e-04 - iou: 0.0556 - iou_thresholded: 0.0201 - val_loss: 5.6511e-04 - val_iou: 0.0289 - val_iou_thresholded: 0.0016\n",
      "Epoch 30/200\n",
      "11/11 [==============================] - 10s 926ms/step - loss: 7.7224e-04 - iou: 0.0678 - iou_thresholded: 0.0479 - val_loss: 7.3220e-04 - val_iou: 0.0248 - val_iou_thresholded: 0.0041\n",
      "Epoch 31/200\n",
      "11/11 [==============================] - 10s 928ms/step - loss: 7.0145e-04 - iou: 0.0724 - iou_thresholded: 0.0553 - val_loss: 6.5473e-04 - val_iou: 0.0360 - val_iou_thresholded: 0.0109\n",
      "Epoch 32/200\n",
      "11/11 [==============================] - 10s 932ms/step - loss: 6.8243e-04 - iou: 0.0741 - iou_thresholded: 0.0573 - val_loss: 6.7229e-04 - val_iou: 0.0432 - val_iou_thresholded: 0.0232\n",
      "Epoch 33/200\n",
      "11/11 [==============================] - 10s 926ms/step - loss: 6.6503e-04 - iou: 0.1002 - iou_thresholded: 0.1119 - val_loss: 6.1804e-04 - val_iou: 0.0340 - val_iou_thresholded: 0.0069\n",
      "Epoch 34/200\n",
      "11/11 [==============================] - 10s 927ms/step - loss: 6.2927e-04 - iou: 0.1054 - iou_thresholded: 0.0998 - val_loss: 6.1297e-04 - val_iou: 0.0363 - val_iou_thresholded: 0.0085\n",
      "Epoch 35/200\n",
      "11/11 [==============================] - 10s 929ms/step - loss: 6.4988e-04 - iou: 0.1100 - iou_thresholded: 0.1329 - val_loss: 6.2068e-04 - val_iou: 0.0607 - val_iou_thresholded: 0.0528\n",
      "Epoch 36/200\n",
      "11/11 [==============================] - 10s 931ms/step - loss: 6.1746e-04 - iou: 0.1232 - iou_thresholded: 0.1588 - val_loss: 7.3082e-04 - val_iou: 0.0163 - val_iou_thresholded: 0.0044\n",
      "Epoch 37/200\n",
      "11/11 [==============================] - 11s 1s/step - loss: 6.6145e-04 - iou: 0.1049 - iou_thresholded: 0.1171 - val_loss: 5.6520e-04 - val_iou: 0.0489 - val_iou_thresholded: 0.0174\n",
      "Epoch 38/200\n",
      "11/11 [==============================] - 10s 1s/step - loss: 7.4491e-04 - iou: 0.1127 - iou_thresholded: 0.1773 - val_loss: 9.0060e-04 - val_iou: 0.0382 - val_iou_thresholded: 0.0200\n",
      "Epoch 39/200\n",
      "11/11 [==============================] - 10s 930ms/step - loss: 6.0207e-04 - iou: 0.1289 - iou_thresholded: 0.1597 - val_loss: 6.1497e-04 - val_iou: 0.0600 - val_iou_thresholded: 0.0498\n",
      "Epoch 40/200\n",
      "11/11 [==============================] - 10s 930ms/step - loss: 6.1648e-04 - iou: 0.1291 - iou_thresholded: 0.1665 - val_loss: 6.1197e-04 - val_iou: 0.0581 - val_iou_thresholded: 0.0337\n",
      "Epoch 41/200\n",
      "11/11 [==============================] - 10s 926ms/step - loss: 5.8002e-04 - iou: 0.1648 - iou_thresholded: 0.2265 - val_loss: 6.4579e-04 - val_iou: 0.0787 - val_iou_thresholded: 0.0693\n",
      "Epoch 42/200\n",
      "11/11 [==============================] - 10s 926ms/step - loss: 5.5772e-04 - iou: 0.1787 - iou_thresholded: 0.2664 - val_loss: 5.7479e-04 - val_iou: 0.0893 - val_iou_thresholded: 0.0744\n",
      "Epoch 43/200\n",
      "11/11 [==============================] - 10s 924ms/step - loss: 5.3251e-04 - iou: 0.1764 - iou_thresholded: 0.2388 - val_loss: 6.0844e-04 - val_iou: 0.1007 - val_iou_thresholded: 0.0913\n",
      "Epoch 44/200\n",
      "11/11 [==============================] - 10s 929ms/step - loss: 5.4007e-04 - iou: 0.1658 - iou_thresholded: 0.2437 - val_loss: 5.5144e-04 - val_iou: 0.0996 - val_iou_thresholded: 0.0887\n",
      "Epoch 45/200\n",
      "11/11 [==============================] - 10s 928ms/step - loss: 4.8466e-04 - iou: 0.2235 - iou_thresholded: 0.3120 - val_loss: 6.9966e-04 - val_iou: 0.1032 - val_iou_thresholded: 0.1055\n",
      "Epoch 46/200\n",
      "11/11 [==============================] - 10s 923ms/step - loss: 5.2837e-04 - iou: 0.2325 - iou_thresholded: 0.3190 - val_loss: 7.2273e-04 - val_iou: 0.0965 - val_iou_thresholded: 0.0827\n",
      "Epoch 47/200\n",
      "11/11 [==============================] - 10s 934ms/step - loss: 4.8239e-04 - iou: 0.2378 - iou_thresholded: 0.3478 - val_loss: 5.8244e-04 - val_iou: 0.1455 - val_iou_thresholded: 0.2120\n",
      "Epoch 48/200\n",
      "11/11 [==============================] - 10s 928ms/step - loss: 4.7256e-04 - iou: 0.2563 - iou_thresholded: 0.3633 - val_loss: 6.5202e-04 - val_iou: 0.1015 - val_iou_thresholded: 0.0799\n",
      "Epoch 49/200\n",
      "11/11 [==============================] - 11s 1s/step - loss: 4.6312e-04 - iou: 0.2529 - iou_thresholded: 0.3541 - val_loss: 5.9572e-04 - val_iou: 0.1499 - val_iou_thresholded: 0.1971\n",
      "Epoch 50/200\n",
      "11/11 [==============================] - 10s 1s/step - loss: 4.7451e-04 - iou: 0.2500 - iou_thresholded: 0.3532 - val_loss: 5.7309e-04 - val_iou: 0.1468 - val_iou_thresholded: 0.1466\n",
      "Epoch 51/200\n",
      "11/11 [==============================] - 10s 935ms/step - loss: 4.5389e-04 - iou: 0.2769 - iou_thresholded: 0.3948 - val_loss: 5.8878e-04 - val_iou: 0.1864 - val_iou_thresholded: 0.2702\n",
      "Epoch 52/200\n",
      "11/11 [==============================] - 10s 924ms/step - loss: 4.3099e-04 - iou: 0.2586 - iou_thresholded: 0.3732 - val_loss: 6.4205e-04 - val_iou: 0.1612 - val_iou_thresholded: 0.1699\n",
      "Epoch 53/200\n",
      "11/11 [==============================] - 10s 930ms/step - loss: 4.7821e-04 - iou: 0.2602 - iou_thresholded: 0.3677 - val_loss: 5.4979e-04 - val_iou: 0.1790 - val_iou_thresholded: 0.3058\n",
      "Epoch 54/200\n",
      "11/11 [==============================] - 10s 926ms/step - loss: 4.6647e-04 - iou: 0.2357 - iou_thresholded: 0.3619 - val_loss: 7.6990e-04 - val_iou: 0.1294 - val_iou_thresholded: 0.1622\n",
      "Epoch 55/200\n",
      "11/11 [==============================] - 10s 926ms/step - loss: 4.9502e-04 - iou: 0.2839 - iou_thresholded: 0.3935 - val_loss: 6.5877e-04 - val_iou: 0.1532 - val_iou_thresholded: 0.2008\n",
      "Epoch 56/200\n",
      "11/11 [==============================] - 10s 925ms/step - loss: 4.6651e-04 - iou: 0.2539 - iou_thresholded: 0.3830 - val_loss: 6.7756e-04 - val_iou: 0.1236 - val_iou_thresholded: 0.1146\n",
      "Epoch 57/200\n",
      "11/11 [==============================] - 10s 931ms/step - loss: 4.4350e-04 - iou: 0.2672 - iou_thresholded: 0.3641 - val_loss: 5.8821e-04 - val_iou: 0.1839 - val_iou_thresholded: 0.2652\n",
      "Epoch 58/200\n",
      "11/11 [==============================] - 10s 929ms/step - loss: 4.2947e-04 - iou: 0.2918 - iou_thresholded: 0.4198 - val_loss: 6.3972e-04 - val_iou: 0.1836 - val_iou_thresholded: 0.2441\n",
      "Epoch 59/200\n",
      "11/11 [==============================] - 10s 926ms/step - loss: 4.3498e-04 - iou: 0.2899 - iou_thresholded: 0.3825 - val_loss: 7.0973e-04 - val_iou: 0.1185 - val_iou_thresholded: 0.1064\n",
      "Epoch 60/200\n",
      "11/11 [==============================] - 10s 928ms/step - loss: 4.5401e-04 - iou: 0.2700 - iou_thresholded: 0.3705 - val_loss: 5.8178e-04 - val_iou: 0.1864 - val_iou_thresholded: 0.2521\n",
      "Epoch 61/200\n",
      "11/11 [==============================] - 11s 1s/step - loss: 4.0606e-04 - iou: 0.3058 - iou_thresholded: 0.4383 - val_loss: 6.0742e-04 - val_iou: 0.2018 - val_iou_thresholded: 0.2989\n",
      "Epoch 62/200\n",
      "11/11 [==============================] - 10s 1s/step - loss: 3.7803e-04 - iou: 0.3170 - iou_thresholded: 0.4561 - val_loss: 7.0097e-04 - val_iou: 0.1739 - val_iou_thresholded: 0.2047\n",
      "Epoch 63/200\n",
      "11/11 [==============================] - 10s 927ms/step - loss: 3.7946e-04 - iou: 0.2903 - iou_thresholded: 0.3917 - val_loss: 5.5348e-04 - val_iou: 0.2021 - val_iou_thresholded: 0.2552\n",
      "Epoch 64/200\n",
      "11/11 [==============================] - 10s 926ms/step - loss: 4.0756e-04 - iou: 0.2973 - iou_thresholded: 0.3969 - val_loss: 5.8281e-04 - val_iou: 0.2070 - val_iou_thresholded: 0.2354\n",
      "Epoch 65/200\n",
      "11/11 [==============================] - 10s 929ms/step - loss: 3.9953e-04 - iou: 0.2989 - iou_thresholded: 0.4135 - val_loss: 5.3380e-04 - val_iou: 0.1954 - val_iou_thresholded: 0.2473\n",
      "Epoch 66/200\n",
      "11/11 [==============================] - 10s 927ms/step - loss: 3.7668e-04 - iou: 0.3181 - iou_thresholded: 0.4385 - val_loss: 5.9951e-04 - val_iou: 0.2115 - val_iou_thresholded: 0.2630\n",
      "Epoch 67/200\n",
      "11/11 [==============================] - 10s 926ms/step - loss: 3.2904e-04 - iou: 0.3612 - iou_thresholded: 0.4862 - val_loss: 6.6624e-04 - val_iou: 0.2278 - val_iou_thresholded: 0.2771\n",
      "Epoch 68/200\n",
      "11/11 [==============================] - 10s 928ms/step - loss: 3.3061e-04 - iou: 0.3865 - iou_thresholded: 0.5166 - val_loss: 5.7000e-04 - val_iou: 0.2216 - val_iou_thresholded: 0.2640\n",
      "Epoch 69/200\n",
      "11/11 [==============================] - 10s 927ms/step - loss: 3.3786e-04 - iou: 0.3783 - iou_thresholded: 0.4951 - val_loss: 6.3176e-04 - val_iou: 0.2337 - val_iou_thresholded: 0.2958\n",
      "Epoch 70/200\n",
      "11/11 [==============================] - 10s 933ms/step - loss: 3.3491e-04 - iou: 0.3550 - iou_thresholded: 0.4556 - val_loss: 5.8890e-04 - val_iou: 0.2452 - val_iou_thresholded: 0.3130\n",
      "Epoch 71/200\n",
      "11/11 [==============================] - 10s 925ms/step - loss: 3.3248e-04 - iou: 0.3350 - iou_thresholded: 0.4457 - val_loss: 5.6455e-04 - val_iou: 0.2506 - val_iou_thresholded: 0.3310\n",
      "Epoch 72/200\n",
      "11/11 [==============================] - 10s 932ms/step - loss: 3.4446e-04 - iou: 0.3825 - iou_thresholded: 0.4925 - val_loss: 6.7466e-04 - val_iou: 0.2217 - val_iou_thresholded: 0.2453\n",
      "Epoch 73/200\n",
      "11/11 [==============================] - 11s 1s/step - loss: 3.2782e-04 - iou: 0.3859 - iou_thresholded: 0.4990 - val_loss: 6.0586e-04 - val_iou: 0.2262 - val_iou_thresholded: 0.2909\n",
      "Epoch 74/200\n",
      "11/11 [==============================] - 10s 1s/step - loss: 3.1896e-04 - iou: 0.3881 - iou_thresholded: 0.5163 - val_loss: 5.9509e-04 - val_iou: 0.2318 - val_iou_thresholded: 0.2804\n",
      "Epoch 75/200\n",
      "11/11 [==============================] - 10s 925ms/step - loss: 3.1295e-04 - iou: 0.3644 - iou_thresholded: 0.4629 - val_loss: 6.6423e-04 - val_iou: 0.2230 - val_iou_thresholded: 0.2589\n",
      "Epoch 76/200\n",
      "11/11 [==============================] - 10s 927ms/step - loss: 2.7861e-04 - iou: 0.4169 - iou_thresholded: 0.5389 - val_loss: 6.4813e-04 - val_iou: 0.2485 - val_iou_thresholded: 0.3031\n",
      "Epoch 77/200\n",
      "11/11 [==============================] - 10s 925ms/step - loss: 2.9869e-04 - iou: 0.3981 - iou_thresholded: 0.4972 - val_loss: 7.2377e-04 - val_iou: 0.2385 - val_iou_thresholded: 0.2785\n",
      "Epoch 78/200\n",
      "11/11 [==============================] - 10s 930ms/step - loss: 2.9396e-04 - iou: 0.4506 - iou_thresholded: 0.5638 - val_loss: 6.9142e-04 - val_iou: 0.2438 - val_iou_thresholded: 0.3006\n",
      "Epoch 79/200\n",
      "11/11 [==============================] - 10s 927ms/step - loss: 2.9609e-04 - iou: 0.4003 - iou_thresholded: 0.5311 - val_loss: 7.2252e-04 - val_iou: 0.2474 - val_iou_thresholded: 0.2849\n",
      "Epoch 80/200\n",
      "11/11 [==============================] - 10s 930ms/step - loss: 2.9089e-04 - iou: 0.4243 - iou_thresholded: 0.5308 - val_loss: 6.9654e-04 - val_iou: 0.2415 - val_iou_thresholded: 0.2647\n",
      "Epoch 81/200\n",
      "11/11 [==============================] - 10s 927ms/step - loss: 2.8559e-04 - iou: 0.4029 - iou_thresholded: 0.5179 - val_loss: 7.5268e-04 - val_iou: 0.2420 - val_iou_thresholded: 0.2760\n",
      "Epoch 82/200\n",
      "11/11 [==============================] - 10s 930ms/step - loss: 2.8981e-04 - iou: 0.4304 - iou_thresholded: 0.5331 - val_loss: 7.1523e-04 - val_iou: 0.2360 - val_iou_thresholded: 0.3041\n",
      "Epoch 83/200\n"
     ]
    },
    {
     "name": "stdout",
     "output_type": "stream",
     "text": [
      "11/11 [==============================] - 10s 927ms/step - loss: 2.9815e-04 - iou: 0.3946 - iou_thresholded: 0.5056 - val_loss: 6.8069e-04 - val_iou: 0.2445 - val_iou_thresholded: 0.2798\n",
      "Epoch 84/200\n",
      "11/11 [==============================] - 10s 928ms/step - loss: 2.6576e-04 - iou: 0.4450 - iou_thresholded: 0.5688 - val_loss: 6.3050e-04 - val_iou: 0.2640 - val_iou_thresholded: 0.3239\n",
      "Epoch 85/200\n",
      "11/11 [==============================] - 11s 1s/step - loss: 2.7860e-04 - iou: 0.4494 - iou_thresholded: 0.5697 - val_loss: 6.7695e-04 - val_iou: 0.2619 - val_iou_thresholded: 0.2999\n",
      "Epoch 86/200\n",
      "11/11 [==============================] - 10s 1s/step - loss: 2.6810e-04 - iou: 0.4424 - iou_thresholded: 0.5545 - val_loss: 6.3695e-04 - val_iou: 0.2728 - val_iou_thresholded: 0.3066\n",
      "Epoch 87/200\n",
      "11/11 [==============================] - 10s 930ms/step - loss: 3.0337e-04 - iou: 0.4235 - iou_thresholded: 0.5073 - val_loss: 5.5233e-04 - val_iou: 0.2772 - val_iou_thresholded: 0.3297\n",
      "Epoch 88/200\n",
      "11/11 [==============================] - 10s 927ms/step - loss: 2.7721e-04 - iou: 0.4325 - iou_thresholded: 0.5652 - val_loss: 6.0951e-04 - val_iou: 0.2730 - val_iou_thresholded: 0.3203\n",
      "Epoch 89/200\n",
      "11/11 [==============================] - 10s 927ms/step - loss: 2.5679e-04 - iou: 0.4676 - iou_thresholded: 0.5896 - val_loss: 6.8614e-04 - val_iou: 0.2636 - val_iou_thresholded: 0.3040\n",
      "Epoch 90/200\n",
      "11/11 [==============================] - 10s 927ms/step - loss: 2.5620e-04 - iou: 0.4928 - iou_thresholded: 0.6100 - val_loss: 8.1684e-04 - val_iou: 0.2427 - val_iou_thresholded: 0.2878\n",
      "Epoch 91/200\n",
      "11/11 [==============================] - 10s 931ms/step - loss: 2.4417e-04 - iou: 0.4571 - iou_thresholded: 0.5767 - val_loss: 7.2436e-04 - val_iou: 0.2609 - val_iou_thresholded: 0.2872\n",
      "Epoch 92/200\n",
      "11/11 [==============================] - 10s 929ms/step - loss: 2.4802e-04 - iou: 0.4583 - iou_thresholded: 0.5749 - val_loss: 7.6528e-04 - val_iou: 0.2680 - val_iou_thresholded: 0.3081\n",
      "Epoch 93/200\n",
      "11/11 [==============================] - 10s 927ms/step - loss: 2.5617e-04 - iou: 0.4867 - iou_thresholded: 0.5955 - val_loss: 6.6373e-04 - val_iou: 0.2779 - val_iou_thresholded: 0.3405\n",
      "Epoch 94/200\n",
      "11/11 [==============================] - 10s 926ms/step - loss: 2.4579e-04 - iou: 0.4569 - iou_thresholded: 0.5406 - val_loss: 7.0216e-04 - val_iou: 0.2758 - val_iou_thresholded: 0.3013\n",
      "Epoch 95/200\n",
      "11/11 [==============================] - 10s 931ms/step - loss: 2.4321e-04 - iou: 0.5023 - iou_thresholded: 0.6200 - val_loss: 6.4638e-04 - val_iou: 0.3053 - val_iou_thresholded: 0.3782\n",
      "Epoch 96/200\n",
      "11/11 [==============================] - 10s 927ms/step - loss: 2.3425e-04 - iou: 0.4976 - iou_thresholded: 0.6091 - val_loss: 6.3430e-04 - val_iou: 0.2854 - val_iou_thresholded: 0.3423\n",
      "Epoch 97/200\n",
      "11/11 [==============================] - 11s 1s/step - loss: 2.3978e-04 - iou: 0.4907 - iou_thresholded: 0.6045 - val_loss: 6.3578e-04 - val_iou: 0.3061 - val_iou_thresholded: 0.3696\n",
      "Epoch 98/200\n",
      "11/11 [==============================] - 10s 1s/step - loss: 2.5887e-04 - iou: 0.4747 - iou_thresholded: 0.5740 - val_loss: 5.9768e-04 - val_iou: 0.3158 - val_iou_thresholded: 0.3852\n",
      "Epoch 99/200\n",
      "11/11 [==============================] - 10s 929ms/step - loss: 2.3894e-04 - iou: 0.4901 - iou_thresholded: 0.6074 - val_loss: 5.9242e-04 - val_iou: 0.3063 - val_iou_thresholded: 0.3528\n",
      "Epoch 100/200\n",
      "11/11 [==============================] - 10s 928ms/step - loss: 2.5322e-04 - iou: 0.5006 - iou_thresholded: 0.6163 - val_loss: 5.7563e-04 - val_iou: 0.3295 - val_iou_thresholded: 0.3809\n",
      "Epoch 101/200\n",
      "11/11 [==============================] - 10s 930ms/step - loss: 2.2918e-04 - iou: 0.5160 - iou_thresholded: 0.6194 - val_loss: 5.9690e-04 - val_iou: 0.3091 - val_iou_thresholded: 0.3514\n",
      "Epoch 102/200\n",
      "11/11 [==============================] - 10s 926ms/step - loss: 2.1352e-04 - iou: 0.5020 - iou_thresholded: 0.6205 - val_loss: 6.5032e-04 - val_iou: 0.3177 - val_iou_thresholded: 0.3466\n",
      "Epoch 103/200\n",
      "11/11 [==============================] - 10s 928ms/step - loss: 2.2737e-04 - iou: 0.4888 - iou_thresholded: 0.5818 - val_loss: 6.6165e-04 - val_iou: 0.3155 - val_iou_thresholded: 0.3780\n",
      "Epoch 104/200\n",
      "11/11 [==============================] - 10s 927ms/step - loss: 2.1818e-04 - iou: 0.5445 - iou_thresholded: 0.6510 - val_loss: 7.0290e-04 - val_iou: 0.3290 - val_iou_thresholded: 0.3825\n",
      "Epoch 105/200\n",
      "11/11 [==============================] - 10s 924ms/step - loss: 1.9905e-04 - iou: 0.5456 - iou_thresholded: 0.6536 - val_loss: 8.1532e-04 - val_iou: 0.3119 - val_iou_thresholded: 0.3509\n",
      "Epoch 106/200\n",
      "11/11 [==============================] - 10s 927ms/step - loss: 1.9730e-04 - iou: 0.5134 - iou_thresholded: 0.6103 - val_loss: 7.4428e-04 - val_iou: 0.3160 - val_iou_thresholded: 0.3373\n",
      "Epoch 107/200\n",
      "11/11 [==============================] - 10s 924ms/step - loss: 2.1915e-04 - iou: 0.5235 - iou_thresholded: 0.6276 - val_loss: 7.1552e-04 - val_iou: 0.3133 - val_iou_thresholded: 0.3632\n",
      "Epoch 108/200\n",
      "11/11 [==============================] - 10s 931ms/step - loss: 2.0751e-04 - iou: 0.5506 - iou_thresholded: 0.6558 - val_loss: 6.4343e-04 - val_iou: 0.3222 - val_iou_thresholded: 0.3703\n",
      "Epoch 109/200\n",
      "11/11 [==============================] - 11s 1s/step - loss: 2.0518e-04 - iou: 0.5350 - iou_thresholded: 0.6413 - val_loss: 6.9764e-04 - val_iou: 0.3337 - val_iou_thresholded: 0.3782\n",
      "Epoch 110/200\n",
      "11/11 [==============================] - 10s 1s/step - loss: 2.0647e-04 - iou: 0.5154 - iou_thresholded: 0.5885 - val_loss: 5.8642e-04 - val_iou: 0.3579 - val_iou_thresholded: 0.4288\n",
      "Epoch 111/200\n",
      "11/11 [==============================] - 10s 926ms/step - loss: 3.2070e-04 - iou: 0.4538 - iou_thresholded: 0.5483 - val_loss: 6.2270e-04 - val_iou: 0.3228 - val_iou_thresholded: 0.3862\n",
      "Epoch 112/200\n",
      "11/11 [==============================] - 10s 934ms/step - loss: 2.4261e-04 - iou: 0.4837 - iou_thresholded: 0.5871 - val_loss: 5.9372e-04 - val_iou: 0.3359 - val_iou_thresholded: 0.4082\n",
      "Epoch 113/200\n",
      "11/11 [==============================] - 10s 926ms/step - loss: 2.6809e-04 - iou: 0.4611 - iou_thresholded: 0.5789 - val_loss: 5.3033e-04 - val_iou: 0.3227 - val_iou_thresholded: 0.4433\n",
      "Epoch 114/200\n",
      "11/11 [==============================] - 10s 926ms/step - loss: 2.4708e-04 - iou: 0.4761 - iou_thresholded: 0.5986 - val_loss: 6.3282e-04 - val_iou: 0.3262 - val_iou_thresholded: 0.3812\n",
      "Epoch 115/200\n",
      "11/11 [==============================] - 10s 925ms/step - loss: 2.3602e-04 - iou: 0.5215 - iou_thresholded: 0.6191 - val_loss: 7.4425e-04 - val_iou: 0.2876 - val_iou_thresholded: 0.3460\n",
      "Epoch 116/200\n",
      "11/11 [==============================] - 10s 929ms/step - loss: 2.0420e-04 - iou: 0.5219 - iou_thresholded: 0.6420 - val_loss: 7.1085e-04 - val_iou: 0.2848 - val_iou_thresholded: 0.3140\n",
      "Epoch 117/200\n",
      "11/11 [==============================] - 10s 929ms/step - loss: 2.2946e-04 - iou: 0.4885 - iou_thresholded: 0.5818 - val_loss: 5.5701e-04 - val_iou: 0.3334 - val_iou_thresholded: 0.4273\n",
      "Epoch 118/200\n",
      "11/11 [==============================] - 10s 926ms/step - loss: 2.2343e-04 - iou: 0.5161 - iou_thresholded: 0.6298 - val_loss: 6.1957e-04 - val_iou: 0.3564 - val_iou_thresholded: 0.4024\n",
      "Epoch 119/200\n",
      "11/11 [==============================] - 10s 928ms/step - loss: 1.9845e-04 - iou: 0.5579 - iou_thresholded: 0.6506 - val_loss: 5.9389e-04 - val_iou: 0.3521 - val_iou_thresholded: 0.4177\n",
      "Epoch 120/200\n",
      "11/11 [==============================] - 10s 928ms/step - loss: 2.0882e-04 - iou: 0.5453 - iou_thresholded: 0.6602 - val_loss: 6.0957e-04 - val_iou: 0.3492 - val_iou_thresholded: 0.3893\n",
      "Epoch 121/200\n",
      "11/11 [==============================] - 11s 1s/step - loss: 2.0358e-04 - iou: 0.5418 - iou_thresholded: 0.6359 - val_loss: 7.6611e-04 - val_iou: 0.3257 - val_iou_thresholded: 0.3596\n",
      "Epoch 122/200\n",
      "11/11 [==============================] - 10s 1s/step - loss: 1.9651e-04 - iou: 0.5309 - iou_thresholded: 0.6376 - val_loss: 6.0720e-04 - val_iou: 0.3574 - val_iou_thresholded: 0.4038\n",
      "Epoch 123/200\n",
      "11/11 [==============================] - 10s 928ms/step - loss: 1.9126e-04 - iou: 0.5589 - iou_thresholded: 0.6478 - val_loss: 7.2650e-04 - val_iou: 0.3208 - val_iou_thresholded: 0.3614\n",
      "Epoch 124/200\n",
      "11/11 [==============================] - 10s 926ms/step - loss: 1.7790e-04 - iou: 0.6038 - iou_thresholded: 0.7036 - val_loss: 7.3855e-04 - val_iou: 0.3168 - val_iou_thresholded: 0.3590\n",
      "Epoch 125/200\n",
      "11/11 [==============================] - 10s 929ms/step - loss: 1.9960e-04 - iou: 0.5462 - iou_thresholded: 0.6366 - val_loss: 6.5943e-04 - val_iou: 0.3486 - val_iou_thresholded: 0.3997\n",
      "Epoch 126/200\n",
      "11/11 [==============================] - 10s 925ms/step - loss: 1.7747e-04 - iou: 0.5200 - iou_thresholded: 0.6170 - val_loss: 7.1112e-04 - val_iou: 0.3448 - val_iou_thresholded: 0.3900\n",
      "Epoch 127/200\n",
      "11/11 [==============================] - 10s 928ms/step - loss: 1.7325e-04 - iou: 0.5836 - iou_thresholded: 0.6841 - val_loss: 6.4441e-04 - val_iou: 0.3691 - val_iou_thresholded: 0.4257\n",
      "Epoch 128/200\n",
      "11/11 [==============================] - 10s 930ms/step - loss: 1.6971e-04 - iou: 0.5874 - iou_thresholded: 0.6902 - val_loss: 7.9573e-04 - val_iou: 0.3468 - val_iou_thresholded: 0.3819\n",
      "Epoch 129/200\n",
      "11/11 [==============================] - 10s 931ms/step - loss: 1.8137e-04 - iou: 0.5654 - iou_thresholded: 0.6692 - val_loss: 7.1535e-04 - val_iou: 0.3478 - val_iou_thresholded: 0.4127\n",
      "Epoch 130/200\n",
      "11/11 [==============================] - 10s 928ms/step - loss: 1.7016e-04 - iou: 0.6090 - iou_thresholded: 0.7148 - val_loss: 8.9376e-04 - val_iou: 0.3325 - val_iou_thresholded: 0.3615\n",
      "Epoch 131/200\n",
      "11/11 [==============================] - 10s 925ms/step - loss: 1.6959e-04 - iou: 0.5912 - iou_thresholded: 0.6959 - val_loss: 8.6430e-04 - val_iou: 0.3390 - val_iou_thresholded: 0.3627\n",
      "Epoch 132/200\n",
      "11/11 [==============================] - 10s 927ms/step - loss: 1.7554e-04 - iou: 0.5836 - iou_thresholded: 0.7104 - val_loss: 7.4829e-04 - val_iou: 0.3639 - val_iou_thresholded: 0.4019\n",
      "Epoch 133/200\n",
      "11/11 [==============================] - 11s 1s/step - loss: 1.6545e-04 - iou: 0.5950 - iou_thresholded: 0.6962 - val_loss: 8.1461e-04 - val_iou: 0.3597 - val_iou_thresholded: 0.4023\n",
      "Epoch 134/200\n",
      "11/11 [==============================] - 10s 1s/step - loss: 1.7589e-04 - iou: 0.6124 - iou_thresholded: 0.7129 - val_loss: 8.8411e-04 - val_iou: 0.3099 - val_iou_thresholded: 0.3583\n",
      "Epoch 135/200\n",
      "11/11 [==============================] - 10s 926ms/step - loss: 1.7209e-04 - iou: 0.5739 - iou_thresholded: 0.6745 - val_loss: 8.5140e-04 - val_iou: 0.3578 - val_iou_thresholded: 0.3878\n",
      "Epoch 136/200\n",
      "11/11 [==============================] - 10s 928ms/step - loss: 1.6624e-04 - iou: 0.6058 - iou_thresholded: 0.7089 - val_loss: 7.0783e-04 - val_iou: 0.3790 - val_iou_thresholded: 0.4355\n",
      "Epoch 137/200\n",
      "11/11 [==============================] - 10s 929ms/step - loss: 1.5863e-04 - iou: 0.6133 - iou_thresholded: 0.7161 - val_loss: 8.6153e-04 - val_iou: 0.3562 - val_iou_thresholded: 0.3838\n",
      "Epoch 138/200\n",
      "11/11 [==============================] - 10s 931ms/step - loss: 1.5735e-04 - iou: 0.6190 - iou_thresholded: 0.7055 - val_loss: 9.1217e-04 - val_iou: 0.3704 - val_iou_thresholded: 0.4176\n",
      "Epoch 139/200\n",
      "11/11 [==============================] - 10s 926ms/step - loss: 1.6390e-04 - iou: 0.6166 - iou_thresholded: 0.7206 - val_loss: 8.8246e-04 - val_iou: 0.3462 - val_iou_thresholded: 0.3751\n",
      "Epoch 140/200\n",
      "11/11 [==============================] - 10s 928ms/step - loss: 1.5783e-04 - iou: 0.6254 - iou_thresholded: 0.7140 - val_loss: 7.6079e-04 - val_iou: 0.3779 - val_iou_thresholded: 0.4496\n",
      "Epoch 141/200\n",
      "11/11 [==============================] - 10s 928ms/step - loss: 1.5684e-04 - iou: 0.5938 - iou_thresholded: 0.6984 - val_loss: 7.6425e-04 - val_iou: 0.3759 - val_iou_thresholded: 0.4276\n",
      "Epoch 142/200\n",
      "11/11 [==============================] - 10s 931ms/step - loss: 1.7099e-04 - iou: 0.6040 - iou_thresholded: 0.6999 - val_loss: 7.3249e-04 - val_iou: 0.3919 - val_iou_thresholded: 0.4315\n",
      "Epoch 143/200\n",
      "11/11 [==============================] - 10s 925ms/step - loss: 1.6754e-04 - iou: 0.6000 - iou_thresholded: 0.7175 - val_loss: 7.7488e-04 - val_iou: 0.3572 - val_iou_thresholded: 0.4241\n",
      "Epoch 144/200\n",
      "11/11 [==============================] - 10s 927ms/step - loss: 1.6590e-04 - iou: 0.6009 - iou_thresholded: 0.6902 - val_loss: 7.9957e-04 - val_iou: 0.3833 - val_iou_thresholded: 0.4169\n",
      "Epoch 145/200\n",
      "11/11 [==============================] - 11s 1s/step - loss: 1.6401e-04 - iou: 0.6031 - iou_thresholded: 0.6950 - val_loss: 6.7526e-04 - val_iou: 0.3901 - val_iou_thresholded: 0.4519\n",
      "Epoch 146/200\n",
      "11/11 [==============================] - 10s 1s/step - loss: 1.4911e-04 - iou: 0.6160 - iou_thresholded: 0.7419 - val_loss: 8.2787e-04 - val_iou: 0.3758 - val_iou_thresholded: 0.4228\n",
      "Epoch 147/200\n",
      "11/11 [==============================] - 10s 928ms/step - loss: 1.5066e-04 - iou: 0.6241 - iou_thresholded: 0.7210 - val_loss: 7.0425e-04 - val_iou: 0.4115 - val_iou_thresholded: 0.4590\n",
      "Epoch 148/200\n",
      "11/11 [==============================] - 10s 929ms/step - loss: 1.4252e-04 - iou: 0.6485 - iou_thresholded: 0.7426 - val_loss: 7.7855e-04 - val_iou: 0.3856 - val_iou_thresholded: 0.4292\n",
      "Epoch 149/200\n",
      "11/11 [==============================] - 10s 926ms/step - loss: 1.4956e-04 - iou: 0.6321 - iou_thresholded: 0.7299 - val_loss: 0.0011 - val_iou: 0.3648 - val_iou_thresholded: 0.4020\n",
      "Epoch 150/200\n",
      "11/11 [==============================] - 10s 930ms/step - loss: 1.3735e-04 - iou: 0.6369 - iou_thresholded: 0.7362 - val_loss: 8.5808e-04 - val_iou: 0.3776 - val_iou_thresholded: 0.4132\n",
      "Epoch 151/200\n",
      "11/11 [==============================] - 10s 925ms/step - loss: 1.4417e-04 - iou: 0.6409 - iou_thresholded: 0.7274 - val_loss: 8.8269e-04 - val_iou: 0.3862 - val_iou_thresholded: 0.4282\n",
      "Epoch 152/200\n",
      "11/11 [==============================] - 10s 927ms/step - loss: 1.4189e-04 - iou: 0.6575 - iou_thresholded: 0.7533 - val_loss: 9.1481e-04 - val_iou: 0.3545 - val_iou_thresholded: 0.3952\n",
      "Epoch 153/200\n",
      "11/11 [==============================] - 10s 929ms/step - loss: 1.3348e-04 - iou: 0.6092 - iou_thresholded: 0.7077 - val_loss: 8.8357e-04 - val_iou: 0.3684 - val_iou_thresholded: 0.4090\n",
      "Epoch 154/200\n",
      "11/11 [==============================] - 10s 926ms/step - loss: 1.3857e-04 - iou: 0.6556 - iou_thresholded: 0.7477 - val_loss: 9.6852e-04 - val_iou: 0.3678 - val_iou_thresholded: 0.4061\n",
      "Epoch 155/200\n",
      "11/11 [==============================] - 10s 935ms/step - loss: 1.3728e-04 - iou: 0.6668 - iou_thresholded: 0.7538 - val_loss: 9.3748e-04 - val_iou: 0.3670 - val_iou_thresholded: 0.4107\n",
      "Epoch 156/200\n",
      "11/11 [==============================] - 10s 927ms/step - loss: 1.3515e-04 - iou: 0.6512 - iou_thresholded: 0.7388 - val_loss: 9.2279e-04 - val_iou: 0.3618 - val_iou_thresholded: 0.4023\n",
      "Epoch 157/200\n",
      "11/11 [==============================] - 11s 1s/step - loss: 1.3815e-04 - iou: 0.6477 - iou_thresholded: 0.7436 - val_loss: 9.0650e-04 - val_iou: 0.3710 - val_iou_thresholded: 0.4019\n",
      "Epoch 158/200\n",
      "11/11 [==============================] - 10s 1s/step - loss: 1.6003e-04 - iou: 0.6122 - iou_thresholded: 0.7029 - val_loss: 7.3352e-04 - val_iou: 0.3564 - val_iou_thresholded: 0.4300\n",
      "Epoch 159/200\n",
      "11/11 [==============================] - 10s 933ms/step - loss: 1.7666e-04 - iou: 0.5921 - iou_thresholded: 0.6928 - val_loss: 9.6099e-04 - val_iou: 0.3947 - val_iou_thresholded: 0.4274\n",
      "Epoch 160/200\n",
      "11/11 [==============================] - 10s 925ms/step - loss: 1.6154e-04 - iou: 0.6289 - iou_thresholded: 0.7189 - val_loss: 6.9422e-04 - val_iou: 0.4007 - val_iou_thresholded: 0.4728\n",
      "Epoch 161/200\n",
      "11/11 [==============================] - 10s 929ms/step - loss: 1.6644e-04 - iou: 0.5937 - iou_thresholded: 0.6908 - val_loss: 6.3450e-04 - val_iou: 0.3936 - val_iou_thresholded: 0.4406\n",
      "Epoch 162/200\n",
      "11/11 [==============================] - 10s 925ms/step - loss: 1.4741e-04 - iou: 0.6434 - iou_thresholded: 0.7369 - val_loss: 6.3999e-04 - val_iou: 0.3941 - val_iou_thresholded: 0.4758\n",
      "Epoch 163/200\n",
      "11/11 [==============================] - 10s 931ms/step - loss: 1.5479e-04 - iou: 0.6236 - iou_thresholded: 0.7293 - val_loss: 8.0944e-04 - val_iou: 0.3992 - val_iou_thresholded: 0.4314\n",
      "Epoch 164/200\n",
      "11/11 [==============================] - 10s 931ms/step - loss: 1.5800e-04 - iou: 0.6351 - iou_thresholded: 0.7258 - val_loss: 8.9725e-04 - val_iou: 0.3571 - val_iou_thresholded: 0.3807\n",
      "Epoch 165/200\n"
     ]
    },
    {
     "name": "stdout",
     "output_type": "stream",
     "text": [
      "11/11 [==============================] - 10s 926ms/step - loss: 1.5279e-04 - iou: 0.6264 - iou_thresholded: 0.7217 - val_loss: 9.9709e-04 - val_iou: 0.3218 - val_iou_thresholded: 0.3677\n",
      "Epoch 166/200\n",
      "11/11 [==============================] - 10s 925ms/step - loss: 1.8616e-04 - iou: 0.5542 - iou_thresholded: 0.6528 - val_loss: 7.9538e-04 - val_iou: 0.3854 - val_iou_thresholded: 0.4585\n",
      "Epoch 167/200\n",
      "11/11 [==============================] - 10s 927ms/step - loss: 1.5957e-04 - iou: 0.5993 - iou_thresholded: 0.7059 - val_loss: 6.9632e-04 - val_iou: 0.3782 - val_iou_thresholded: 0.4348\n",
      "Epoch 168/200\n",
      "11/11 [==============================] - 10s 928ms/step - loss: 1.4779e-04 - iou: 0.6030 - iou_thresholded: 0.7271 - val_loss: 6.7620e-04 - val_iou: 0.3997 - val_iou_thresholded: 0.4594\n",
      "Epoch 169/200\n",
      "11/11 [==============================] - 11s 1s/step - loss: 1.4058e-04 - iou: 0.6457 - iou_thresholded: 0.7388 - val_loss: 8.1221e-04 - val_iou: 0.3673 - val_iou_thresholded: 0.3993\n",
      "Epoch 170/200\n",
      "11/11 [==============================] - 10s 1s/step - loss: 1.2775e-04 - iou: 0.6622 - iou_thresholded: 0.7629 - val_loss: 8.3460e-04 - val_iou: 0.3714 - val_iou_thresholded: 0.4073\n",
      "Epoch 171/200\n",
      "11/11 [==============================] - 10s 929ms/step - loss: 1.2962e-04 - iou: 0.6746 - iou_thresholded: 0.7610 - val_loss: 8.8215e-04 - val_iou: 0.3631 - val_iou_thresholded: 0.4163\n",
      "Epoch 172/200\n",
      "11/11 [==============================] - 10s 928ms/step - loss: 1.4281e-04 - iou: 0.6386 - iou_thresholded: 0.7360 - val_loss: 7.6327e-04 - val_iou: 0.3973 - val_iou_thresholded: 0.4652\n",
      "Epoch 173/200\n",
      "11/11 [==============================] - 10s 927ms/step - loss: 1.5382e-04 - iou: 0.6567 - iou_thresholded: 0.7362 - val_loss: 7.2856e-04 - val_iou: 0.4032 - val_iou_thresholded: 0.4433\n",
      "Epoch 174/200\n",
      "11/11 [==============================] - 10s 926ms/step - loss: 1.3884e-04 - iou: 0.6038 - iou_thresholded: 0.7022 - val_loss: 7.4393e-04 - val_iou: 0.3921 - val_iou_thresholded: 0.4570\n",
      "Epoch 175/200\n",
      "11/11 [==============================] - 10s 924ms/step - loss: 1.3915e-04 - iou: 0.6471 - iou_thresholded: 0.7396 - val_loss: 8.4722e-04 - val_iou: 0.3917 - val_iou_thresholded: 0.4326\n",
      "Epoch 176/200\n",
      "11/11 [==============================] - 10s 930ms/step - loss: 1.3776e-04 - iou: 0.6610 - iou_thresholded: 0.7560 - val_loss: 7.6733e-04 - val_iou: 0.3971 - val_iou_thresholded: 0.4432\n",
      "Epoch 177/200\n",
      "11/11 [==============================] - 10s 925ms/step - loss: 1.4314e-04 - iou: 0.6221 - iou_thresholded: 0.7027 - val_loss: 9.7112e-04 - val_iou: 0.3509 - val_iou_thresholded: 0.4056\n",
      "Epoch 178/200\n",
      "11/11 [==============================] - 10s 927ms/step - loss: 1.4268e-04 - iou: 0.6254 - iou_thresholded: 0.7282 - val_loss: 7.4080e-04 - val_iou: 0.4058 - val_iou_thresholded: 0.4436\n",
      "Epoch 179/200\n",
      "11/11 [==============================] - 10s 925ms/step - loss: 1.3477e-04 - iou: 0.6536 - iou_thresholded: 0.7449 - val_loss: 8.1628e-04 - val_iou: 0.3821 - val_iou_thresholded: 0.4299\n",
      "Epoch 180/200\n",
      "11/11 [==============================] - 10s 932ms/step - loss: 1.3331e-04 - iou: 0.6613 - iou_thresholded: 0.7554 - val_loss: 9.0894e-04 - val_iou: 0.3759 - val_iou_thresholded: 0.4294\n",
      "Epoch 181/200\n",
      "11/11 [==============================] - 11s 1s/step - loss: 1.2544e-04 - iou: 0.6750 - iou_thresholded: 0.7641 - val_loss: 9.5760e-04 - val_iou: 0.3820 - val_iou_thresholded: 0.4243\n",
      "Epoch 182/200\n",
      "11/11 [==============================] - 10s 1s/step - loss: 1.2331e-04 - iou: 0.6612 - iou_thresholded: 0.7476 - val_loss: 0.0010 - val_iou: 0.3565 - val_iou_thresholded: 0.3982\n",
      "Epoch 183/200\n",
      "11/11 [==============================] - 10s 925ms/step - loss: 1.2020e-04 - iou: 0.6623 - iou_thresholded: 0.7539 - val_loss: 9.6934e-04 - val_iou: 0.3691 - val_iou_thresholded: 0.4072\n",
      "Epoch 184/200\n",
      "11/11 [==============================] - 10s 927ms/step - loss: 1.3032e-04 - iou: 0.6928 - iou_thresholded: 0.7761 - val_loss: 8.8174e-04 - val_iou: 0.4096 - val_iou_thresholded: 0.4514\n",
      "Epoch 185/200\n",
      "11/11 [==============================] - 10s 927ms/step - loss: 1.2383e-04 - iou: 0.6847 - iou_thresholded: 0.7739 - val_loss: 0.0010 - val_iou: 0.3752 - val_iou_thresholded: 0.4064\n",
      "Epoch 186/200\n",
      "11/11 [==============================] - 10s 924ms/step - loss: 1.1276e-04 - iou: 0.6732 - iou_thresholded: 0.7555 - val_loss: 0.0010 - val_iou: 0.3726 - val_iou_thresholded: 0.4134\n",
      "Epoch 187/200\n",
      "11/11 [==============================] - 10s 926ms/step - loss: 1.2731e-04 - iou: 0.6836 - iou_thresholded: 0.7685 - val_loss: 0.0011 - val_iou: 0.3768 - val_iou_thresholded: 0.4111\n",
      "Epoch 188/200\n",
      "11/11 [==============================] - 10s 926ms/step - loss: 1.1241e-04 - iou: 0.6959 - iou_thresholded: 0.7747 - val_loss: 0.0012 - val_iou: 0.3659 - val_iou_thresholded: 0.4005\n",
      "Epoch 189/200\n",
      "11/11 [==============================] - 10s 929ms/step - loss: 1.2147e-04 - iou: 0.6863 - iou_thresholded: 0.7740 - val_loss: 0.0011 - val_iou: 0.3627 - val_iou_thresholded: 0.3994\n",
      "Epoch 190/200\n",
      "11/11 [==============================] - 10s 926ms/step - loss: 1.1567e-04 - iou: 0.7011 - iou_thresholded: 0.7835 - val_loss: 0.0012 - val_iou: 0.3528 - val_iou_thresholded: 0.3792\n",
      "Epoch 191/200\n",
      "11/11 [==============================] - 10s 926ms/step - loss: 1.1482e-04 - iou: 0.7035 - iou_thresholded: 0.7840 - val_loss: 0.0011 - val_iou: 0.3732 - val_iou_thresholded: 0.4144\n",
      "Epoch 192/200\n",
      "11/11 [==============================] - 10s 925ms/step - loss: 1.1322e-04 - iou: 0.6930 - iou_thresholded: 0.7756 - val_loss: 8.8411e-04 - val_iou: 0.3908 - val_iou_thresholded: 0.4376\n",
      "Epoch 193/200\n",
      "11/11 [==============================] - 11s 1s/step - loss: 1.1311e-04 - iou: 0.6997 - iou_thresholded: 0.7806 - val_loss: 0.0011 - val_iou: 0.3815 - val_iou_thresholded: 0.4148\n",
      "Epoch 194/200\n",
      "11/11 [==============================] - 10s 1s/step - loss: 1.2492e-04 - iou: 0.6759 - iou_thresholded: 0.7553 - val_loss: 8.6557e-04 - val_iou: 0.3868 - val_iou_thresholded: 0.4412\n",
      "Epoch 195/200\n",
      "11/11 [==============================] - 10s 929ms/step - loss: 1.2081e-04 - iou: 0.6896 - iou_thresholded: 0.7808 - val_loss: 0.0010 - val_iou: 0.3939 - val_iou_thresholded: 0.4307\n",
      "Epoch 196/200\n",
      "11/11 [==============================] - 10s 923ms/step - loss: 1.1295e-04 - iou: 0.6816 - iou_thresholded: 0.7697 - val_loss: 0.0010 - val_iou: 0.3714 - val_iou_thresholded: 0.4143\n",
      "Epoch 197/200\n",
      "11/11 [==============================] - 10s 929ms/step - loss: 1.1663e-04 - iou: 0.6920 - iou_thresholded: 0.7768 - val_loss: 9.6286e-04 - val_iou: 0.4010 - val_iou_thresholded: 0.4296\n",
      "Epoch 198/200\n",
      "11/11 [==============================] - 10s 926ms/step - loss: 1.2909e-04 - iou: 0.6739 - iou_thresholded: 0.7620 - val_loss: 0.0011 - val_iou: 0.3701 - val_iou_thresholded: 0.4069\n",
      "Epoch 199/200\n",
      "11/11 [==============================] - 10s 926ms/step - loss: 1.0764e-04 - iou: 0.6970 - iou_thresholded: 0.7919 - val_loss: 0.0012 - val_iou: 0.3595 - val_iou_thresholded: 0.3952\n",
      "Epoch 200/200\n",
      "11/11 [==============================] - 10s 925ms/step - loss: 1.1374e-04 - iou: 0.6906 - iou_thresholded: 0.7747 - val_loss: 0.0011 - val_iou: 0.3776 - val_iou_thresholded: 0.4017\n"
     ]
    }
   ],
   "source": [
    "model, history = C.Helper.train_unet(X_train_set, y_train_set, X_val, y_val, model, epochs=200)"
   ]
  },
  {
   "cell_type": "code",
   "execution_count": 42,
   "id": "7bc51703",
   "metadata": {},
   "outputs": [
    {
     "data": {
      "image/png": "[encoded data removed]",
      "text/plain": [
       "<Figure size 864x432 with 1 Axes>"
      ]
     },
     "metadata": {
      "needs_background": "light"
     },
     "output_type": "display_data"
    },
    {
     "data": {
      "image/png": "[encoded data removed]",
      "text/plain": [
       "<Figure size 864x432 with 1 Axes>"
      ]
     },
     "metadata": {
      "needs_background": "light"
     },
     "output_type": "display_data"
    }
   ],
   "source": [
    "C.Helper.visualize_graph(history)"
   ]
  },
  {
   "cell_type": "code",
   "execution_count": 43,
   "id": "2b9f9190",
   "metadata": {},
   "outputs": [],
   "source": [
    "y_pred = C.Helper.prediction(test_images_array, model)"
   ]
  },
  {
   "cell_type": "code",
   "execution_count": 44,
   "id": "85b46673",
   "metadata": {
    "scrolled": true
   },
   "outputs": [
    {
     "data": {
      "image/png": "[encoded data removed]",
      "text/plain": [
       "<Figure size 1152x1440 with 20 Axes>"
      ]
     },
     "metadata": {
      "needs_background": "light"
     },
     "output_type": "display_data"
    }
   ],
   "source": [
    "C.Helper.visualize_result(test_images_array, y_test, y_pred)"
   ]
  },
  {
   "cell_type": "code",
   "execution_count": 45,
   "id": "9a236ee4",
   "metadata": {},
   "outputs": [
    {
     "name": "stdout",
     "output_type": "stream",
     "text": [
      "9/9 [==============================] - 2s 202ms/step - loss: 0.0013 - iou: 0.4721 - iou_thresholded: 0.5093\n"
     ]
    }
   ],
   "source": [
    "C.Helper.evaluate(test_images_array, y_test, model)"
   ]
  },
  {
   "cell_type": "code",
   "execution_count": null,
   "id": "f18f18a7",
   "metadata": {},
   "outputs": [],
   "source": []
  },
  {
   "cell_type": "code",
   "execution_count": null,
   "id": "9633f74e",
   "metadata": {},
   "outputs": [],
   "source": []
  },
  {
   "cell_type": "code",
   "execution_count": null,
   "id": "230dbf69",
   "metadata": {},
   "outputs": [],
   "source": []
  },
  {
   "cell_type": "code",
   "execution_count": null,
   "id": "91bf77f5",
   "metadata": {},
   "outputs": [],
   "source": []
  },
  {
   "cell_type": "code",
   "execution_count": null,
   "id": "5bf8aa51",
   "metadata": {},
   "outputs": [],
   "source": []
  },
  {
   "cell_type": "code",
   "execution_count": null,
   "id": "5e73cc60",
   "metadata": {},
   "outputs": [],
   "source": []
  },
  {
   "cell_type": "code",
   "execution_count": null,
   "id": "da3bb108",
   "metadata": {},
   "outputs": [],
   "source": []
  },
  {
   "cell_type": "code",
   "execution_count": null,
   "id": "2e3df05d",
   "metadata": {},
   "outputs": [],
   "source": []
  }
 ],
 "metadata": {
  "kernelspec": {
   "display_name": "Python 3 (ipykernel)",
   "language": "python",
   "name": "python3"
  },
  "language_info": {
   "codemirror_mode": {
    "name": "ipython",
    "version": 3
   },
   "file_extension": ".py",
   "mimetype": "text/x-python",
   "name": "python",
   "nbconvert_exporter": "python",
   "pygments_lexer": "ipython3",
   "version": "3.9.7"
  }
 },
 "nbformat": 4,
 "nbformat_minor": 5
}
