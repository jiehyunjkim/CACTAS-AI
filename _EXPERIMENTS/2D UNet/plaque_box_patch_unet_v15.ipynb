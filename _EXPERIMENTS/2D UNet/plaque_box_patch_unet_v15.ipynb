{
 "cells": [
  {
   "cell_type": "code",
   "execution_count": 1,
   "id": "5eebebed",
   "metadata": {},
   "outputs": [
    {
     "name": "stdout",
     "output_type": "stream",
     "text": [
      "Populating the interactive namespace from numpy and matplotlib\n"
     ]
    }
   ],
   "source": [
    "%pylab inline\n",
    "%load_ext autoreload\n",
    "%autoreload 2"
   ]
  },
  {
   "cell_type": "code",
   "execution_count": 2,
   "id": "1db43f95",
   "metadata": {},
   "outputs": [],
   "source": [
    "import cactas as C\n",
    "import os\n",
    "import mahotas as mh\n",
    "import nibabel as nib\n",
    "import nrrd\n",
    "import skimage.morphology\n",
    "import cv2\n",
    "from skimage.filters import threshold_otsu"
   ]
  },
  {
   "cell_type": "code",
   "execution_count": 3,
   "id": "3a25db15",
   "metadata": {
    "scrolled": true
   },
   "outputs": [
    {
     "name": "stderr",
     "output_type": "stream",
     "text": [
      "2024-05-14 15:05:13.183761: I tensorflow/stream_executor/platform/default/dso_loader.cc:53] Successfully opened dynamic library libcudart.so.11.0\n"
     ]
    },
    {
     "name": "stdout",
     "output_type": "stream",
     "text": [
      "WARNING:tensorflow:From /tmp/ipykernel_206835/392601943.py:2: is_gpu_available (from tensorflow.python.framework.test_util) is deprecated and will be removed in a future version.\n",
      "Instructions for updating:\n",
      "Use `tf.config.list_physical_devices('GPU')` instead.\n"
     ]
    },
    {
     "name": "stderr",
     "output_type": "stream",
     "text": [
      "2024-05-14 15:05:15.666880: I tensorflow/core/platform/cpu_feature_guard.cc:142] This TensorFlow binary is optimized with oneAPI Deep Neural Network Library (oneDNN) to use the following CPU instructions in performance-critical operations:  AVX2 FMA\n",
      "To enable them in other operations, rebuild TensorFlow with the appropriate compiler flags.\n",
      "2024-05-14 15:05:15.669050: I tensorflow/stream_executor/platform/default/dso_loader.cc:53] Successfully opened dynamic library libcuda.so.1\n",
      "2024-05-14 15:05:16.069841: I tensorflow/core/common_runtime/gpu/gpu_device.cc:1733] Found device 0 with properties: \n",
      "pciBusID: 0000:07:00.0 name: A100-SXM4-40GB computeCapability: 8.0\n",
      "coreClock: 1.41GHz coreCount: 108 deviceMemorySize: 39.59GiB deviceMemoryBandwidth: 1.41TiB/s\n",
      "2024-05-14 15:05:16.072334: I tensorflow/core/common_runtime/gpu/gpu_device.cc:1733] Found device 1 with properties: \n",
      "pciBusID: 0000:0f:00.0 name: A100-SXM4-40GB computeCapability: 8.0\n",
      "coreClock: 1.41GHz coreCount: 108 deviceMemorySize: 39.59GiB deviceMemoryBandwidth: 1.41TiB/s\n",
      "2024-05-14 15:05:16.072389: I tensorflow/stream_executor/platform/default/dso_loader.cc:53] Successfully opened dynamic library libcudart.so.11.0\n",
      "2024-05-14 15:05:16.087383: I tensorflow/stream_executor/platform/default/dso_loader.cc:53] Successfully opened dynamic library libcublas.so.11\n",
      "2024-05-14 15:05:16.087425: I tensorflow/stream_executor/platform/default/dso_loader.cc:53] Successfully opened dynamic library libcublasLt.so.11\n",
      "2024-05-14 15:05:16.092756: I tensorflow/stream_executor/platform/default/dso_loader.cc:53] Successfully opened dynamic library libcufft.so.10\n",
      "2024-05-14 15:05:16.095237: I tensorflow/stream_executor/platform/default/dso_loader.cc:53] Successfully opened dynamic library libcurand.so.10\n",
      "2024-05-14 15:05:16.097568: I tensorflow/stream_executor/platform/default/dso_loader.cc:53] Successfully opened dynamic library libcusolver.so.11\n",
      "2024-05-14 15:05:16.101541: I tensorflow/stream_executor/platform/default/dso_loader.cc:53] Successfully opened dynamic library libcusparse.so.11\n",
      "2024-05-14 15:05:16.102815: I tensorflow/stream_executor/platform/default/dso_loader.cc:53] Successfully opened dynamic library libcudnn.so.8\n",
      "2024-05-14 15:05:16.115031: I tensorflow/core/common_runtime/gpu/gpu_device.cc:1871] Adding visible gpu devices: 0, 1\n",
      "2024-05-14 15:05:16.115312: I tensorflow/stream_executor/platform/default/dso_loader.cc:53] Successfully opened dynamic library libcudart.so.11.0\n",
      "2024-05-14 15:05:17.052112: I tensorflow/core/common_runtime/gpu/gpu_device.cc:1258] Device interconnect StreamExecutor with strength 1 edge matrix:\n",
      "2024-05-14 15:05:17.052162: I tensorflow/core/common_runtime/gpu/gpu_device.cc:1264]      0 1 \n",
      "2024-05-14 15:05:17.052169: I tensorflow/core/common_runtime/gpu/gpu_device.cc:1277] 0:   N Y \n",
      "2024-05-14 15:05:17.052172: I tensorflow/core/common_runtime/gpu/gpu_device.cc:1277] 1:   Y N \n",
      "2024-05-14 15:05:17.064891: I tensorflow/core/common_runtime/gpu/gpu_device.cc:1418] Created TensorFlow device (/device:GPU:0 with 38425 MB memory) -> physical GPU (device: 0, name: A100-SXM4-40GB, pci bus id: 0000:07:00.0, compute capability: 8.0)\n",
      "2024-05-14 15:05:17.068895: I tensorflow/core/common_runtime/gpu/gpu_device.cc:1418] Created TensorFlow device (/device:GPU:1 with 38425 MB memory) -> physical GPU (device: 1, name: A100-SXM4-40GB, pci bus id: 0000:0f:00.0, compute capability: 8.0)\n"
     ]
    },
    {
     "data": {
      "text/plain": [
       "True"
      ]
     },
     "execution_count": 3,
     "metadata": {},
     "output_type": "execute_result"
    }
   ],
   "source": [
    "import tensorflow as tf\n",
    "gpu_available = tf.test.is_gpu_available()\n",
    "gpu_available"
   ]
  },
  {
   "cell_type": "code",
   "execution_count": null,
   "id": "c7599e1d",
   "metadata": {},
   "outputs": [],
   "source": []
  },
  {
   "cell_type": "code",
   "execution_count": 4,
   "id": "ca9de1bc",
   "metadata": {},
   "outputs": [],
   "source": [
    "DATAPATH='/raid/mpsych/CACTAS/DATA/ESUS'\n",
    "CAPATH='/raid/mpsych/CACTAS/DATA/CA24'"
   ]
  },
  {
   "cell_type": "code",
   "execution_count": null,
   "id": "92be68f5",
   "metadata": {},
   "outputs": [],
   "source": []
  },
  {
   "cell_type": "code",
   "execution_count": 5,
   "id": "c2588b51",
   "metadata": {},
   "outputs": [],
   "source": [
    "images, labels = C.Helper.load_data(DATAPATH)"
   ]
  },
  {
   "cell_type": "code",
   "execution_count": 6,
   "id": "7881f480",
   "metadata": {},
   "outputs": [],
   "source": [
    "masks = C.Helper.load_seg_data(CAPATH)"
   ]
  },
  {
   "cell_type": "code",
   "execution_count": 7,
   "id": "7088d2a3",
   "metadata": {},
   "outputs": [],
   "source": [
    "X_train, y_train, m_train, X_test, y_test, m_test = C.Helper.split_patients_masks(images, labels, masks)"
   ]
  },
  {
   "cell_type": "code",
   "execution_count": 8,
   "id": "c81ee490",
   "metadata": {},
   "outputs": [],
   "source": [
    "X_train, y_train, m_train, X_test, y_test, m_test = C.Helper.normalization2(DATAPATH, CAPATH, X_train, y_train, m_train, X_test, y_test, m_test)"
   ]
  },
  {
   "cell_type": "code",
   "execution_count": 9,
   "id": "b2d8df93",
   "metadata": {},
   "outputs": [],
   "source": [
    "slice_to_patient_mapping, last_key = C.Helper.map_and_key_fulldata(y_train)"
   ]
  },
  {
   "cell_type": "code",
   "execution_count": 10,
   "id": "4a7a7896",
   "metadata": {},
   "outputs": [
    {
     "data": {
      "text/plain": [
       "10883"
      ]
     },
     "execution_count": 10,
     "metadata": {},
     "output_type": "execute_result"
    }
   ],
   "source": [
    "last_key"
   ]
  },
  {
   "cell_type": "code",
   "execution_count": 11,
   "id": "d00b1ce9",
   "metadata": {},
   "outputs": [
    {
     "name": "stdout",
     "output_type": "stream",
     "text": [
      "(13449, 512, 512, 1) (13449, 512, 512, 1) (3317, 512, 512, 1) (3317, 512, 512, 1)\n"
     ]
    }
   ],
   "source": [
    "X_train, y_train, X_test, y_test = C.Helper.extract_slices(X_train, y_train, X_test, y_test)"
   ]
  },
  {
   "cell_type": "code",
   "execution_count": 12,
   "id": "4034ad93",
   "metadata": {},
   "outputs": [
    {
     "name": "stdout",
     "output_type": "stream",
     "text": [
      "(13449, 512, 512, 1) (3317, 512, 512, 1)\n"
     ]
    }
   ],
   "source": [
    "m_train, m_test = C.Helper.extract_masks_slices(m_train, m_test)"
   ]
  },
  {
   "cell_type": "code",
   "execution_count": 13,
   "id": "a248045e",
   "metadata": {},
   "outputs": [],
   "source": [
    "#X_train, y_train, m_train = C.Helper.filter_slices(X_train, y_train, m_train)"
   ]
  },
  {
   "cell_type": "code",
   "execution_count": null,
   "id": "c8ffa75e",
   "metadata": {},
   "outputs": [],
   "source": []
  },
  {
   "cell_type": "code",
   "execution_count": 14,
   "id": "4c490d99",
   "metadata": {},
   "outputs": [
    {
     "data": {
      "text/plain": [
       "(dtype('float64'), dtype('bool'), dtype('float64'), dtype('float64'))"
      ]
     },
     "execution_count": 14,
     "metadata": {},
     "output_type": "execute_result"
    }
   ],
   "source": [
    "X_train.dtype, y_train.dtype, X_test.dtype, y_test.dtype"
   ]
  },
  {
   "cell_type": "code",
   "execution_count": 15,
   "id": "580cb6ea",
   "metadata": {},
   "outputs": [
    {
     "data": {
      "text/plain": [
       "dtype('bool')"
      ]
     },
     "execution_count": 15,
     "metadata": {},
     "output_type": "execute_result"
    }
   ],
   "source": [
    "m_train.dtype"
   ]
  },
  {
   "cell_type": "code",
   "execution_count": null,
   "id": "e47b39dd",
   "metadata": {},
   "outputs": [],
   "source": []
  },
  {
   "cell_type": "code",
   "execution_count": 16,
   "id": "3692ec60",
   "metadata": {},
   "outputs": [],
   "source": [
    "train_masks=[]\n",
    "for i in range(len(m_train)):\n",
    "    binary = (m_train[i] > 0).astype(np.uint8)\n",
    "    train_masks.append(binary)"
   ]
  },
  {
   "cell_type": "code",
   "execution_count": 17,
   "id": "28b56250",
   "metadata": {},
   "outputs": [],
   "source": [
    "train_images=[]\n",
    "for i in range(len(X_train)):\n",
    "    train_image = X_train[i] * train_masks[i]\n",
    "    train_images.append(train_image)\n",
    "train_images_array = np.array(train_images)"
   ]
  },
  {
   "cell_type": "code",
   "execution_count": 18,
   "id": "1a7a746e",
   "metadata": {},
   "outputs": [],
   "source": [
    "train_images_array = train_images_array.astype(np.float32)"
   ]
  },
  {
   "cell_type": "code",
   "execution_count": 19,
   "id": "02a618b7",
   "metadata": {},
   "outputs": [],
   "source": [
    "train_images_array = train_images_array.reshape(train_images_array.shape[0], train_images_array.shape[1],train_images_array.shape[2], 1)"
   ]
  },
  {
   "cell_type": "code",
   "execution_count": null,
   "id": "050bc38c",
   "metadata": {},
   "outputs": [],
   "source": []
  },
  {
   "cell_type": "code",
   "execution_count": 20,
   "id": "092f608d",
   "metadata": {
    "scrolled": true
   },
   "outputs": [],
   "source": [
    "# for i in range(10, 20):\n",
    "#     plt.imshow(train_images[i])\n",
    "#     plt.show()"
   ]
  },
  {
   "cell_type": "code",
   "execution_count": 21,
   "id": "bc55e9be",
   "metadata": {},
   "outputs": [],
   "source": [
    "# for i in range(10, 20):\n",
    "#     plt.imshow(train_images[i])\n",
    "#     plt.imshow(y_train[i], cmap='gray', alpha=0.5)\n",
    "#     plt.show()"
   ]
  },
  {
   "cell_type": "code",
   "execution_count": 22,
   "id": "67fbfaa8",
   "metadata": {},
   "outputs": [],
   "source": [
    "# fig, axes = plt.subplots(1, 3, figsize=(15, 5))\n",
    "# axes[0].imshow(X_train[10], vmin=0, vmax=1)\n",
    "# axes[0].set_title('Original Image')\n",
    "# axes[1].imshow(train_masks[10])\n",
    "# axes[1].set_title('Mask')\n",
    "# axes[2].imshow(train_images[10])\n",
    "# axes[2].set_title('Processed Image')\n",
    "# plt.show()"
   ]
  },
  {
   "cell_type": "code",
   "execution_count": null,
   "id": "7edf63e4",
   "metadata": {},
   "outputs": [],
   "source": []
  },
  {
   "cell_type": "code",
   "execution_count": 23,
   "id": "3a3d4f47",
   "metadata": {},
   "outputs": [],
   "source": [
    "test_masks=[]\n",
    "for i in range(len(m_test)):\n",
    "    binary = (m_test[i] > 0).astype(np.uint8)\n",
    "    test_masks.append(binary)"
   ]
  },
  {
   "cell_type": "code",
   "execution_count": 24,
   "id": "c08c1bc9",
   "metadata": {},
   "outputs": [],
   "source": [
    "test_images=[]\n",
    "for i in range(len(X_test)):\n",
    "    test_image = X_test[i] * test_masks[i]\n",
    "    test_images.append(test_image)\n",
    "test_images_array = np.array(test_images)"
   ]
  },
  {
   "cell_type": "code",
   "execution_count": 25,
   "id": "229a751d",
   "metadata": {},
   "outputs": [],
   "source": [
    "test_images_array = test_images_array.astype(np.float32)"
   ]
  },
  {
   "cell_type": "code",
   "execution_count": 26,
   "id": "9ef54dea",
   "metadata": {},
   "outputs": [],
   "source": [
    "test_images_array = test_images_array.reshape(test_images_array.shape[0], test_images_array.shape[1],test_images_array.shape[2], 1)"
   ]
  },
  {
   "cell_type": "code",
   "execution_count": 27,
   "id": "7d9bea09",
   "metadata": {},
   "outputs": [],
   "source": [
    "X_train_set = train_images_array[:last_key]\n",
    "y_train_set = y_train[:last_key]\n",
    "X_val = train_images_array[last_key:]\n",
    "y_val = y_train[last_key:]"
   ]
  },
  {
   "cell_type": "code",
   "execution_count": 28,
   "id": "c8fa2e3f",
   "metadata": {},
   "outputs": [],
   "source": [
    "#y_train_set = y_train_set.astype(np.float32)"
   ]
  },
  {
   "cell_type": "code",
   "execution_count": 29,
   "id": "91252364",
   "metadata": {},
   "outputs": [],
   "source": [
    "#y_val = y_val.astype(np.float32)"
   ]
  },
  {
   "cell_type": "code",
   "execution_count": null,
   "id": "c43945a0",
   "metadata": {},
   "outputs": [],
   "source": []
  },
  {
   "cell_type": "code",
   "execution_count": 30,
   "id": "51c08514",
   "metadata": {},
   "outputs": [
    {
     "data": {
      "text/plain": [
       "(dtype('float32'), dtype('bool'))"
      ]
     },
     "execution_count": 30,
     "metadata": {},
     "output_type": "execute_result"
    }
   ],
   "source": [
    "X_train_set.dtype, y_train_set.dtype"
   ]
  },
  {
   "cell_type": "code",
   "execution_count": 31,
   "id": "4634bb57",
   "metadata": {},
   "outputs": [
    {
     "data": {
      "text/plain": [
       "(dtype('float32'), dtype('bool'))"
      ]
     },
     "execution_count": 31,
     "metadata": {},
     "output_type": "execute_result"
    }
   ],
   "source": [
    "X_val.dtype, y_val.dtype"
   ]
  },
  {
   "cell_type": "code",
   "execution_count": 32,
   "id": "11ff5f34",
   "metadata": {},
   "outputs": [
    {
     "data": {
      "text/plain": [
       "(dtype('float32'), dtype('float64'))"
      ]
     },
     "execution_count": 32,
     "metadata": {},
     "output_type": "execute_result"
    }
   ],
   "source": [
    "test_images_array.dtype, y_test.dtype"
   ]
  },
  {
   "cell_type": "code",
   "execution_count": 33,
   "id": "a4b42641",
   "metadata": {},
   "outputs": [
    {
     "data": {
      "text/plain": [
       "((2566, 512, 512, 1), (2566, 512, 512, 1))"
      ]
     },
     "execution_count": 33,
     "metadata": {},
     "output_type": "execute_result"
    }
   ],
   "source": [
    "X_val.shape, y_val.shape"
   ]
  },
  {
   "cell_type": "code",
   "execution_count": null,
   "id": "f0250dc1",
   "metadata": {},
   "outputs": [],
   "source": []
  },
  {
   "cell_type": "code",
   "execution_count": null,
   "id": "34dd6c88",
   "metadata": {},
   "outputs": [],
   "source": []
  },
  {
   "cell_type": "code",
   "execution_count": 34,
   "id": "c001a494",
   "metadata": {
    "scrolled": true
   },
   "outputs": [
    {
     "name": "stdout",
     "output_type": "stream",
     "text": [
      "-----------------------------------------\n",
      "keras-unet init: TF version is >= 2.0.0 - using `tf.keras` instead of `Keras`\n",
      "-----------------------------------------\n"
     ]
    },
    {
     "name": "stderr",
     "output_type": "stream",
     "text": [
      "2024-05-14 15:08:37.835693: I tensorflow/core/common_runtime/gpu/gpu_device.cc:1733] Found device 0 with properties: \n",
      "pciBusID: 0000:07:00.0 name: A100-SXM4-40GB computeCapability: 8.0\n",
      "coreClock: 1.41GHz coreCount: 108 deviceMemorySize: 39.59GiB deviceMemoryBandwidth: 1.41TiB/s\n",
      "2024-05-14 15:08:37.838231: I tensorflow/core/common_runtime/gpu/gpu_device.cc:1733] Found device 1 with properties: \n",
      "pciBusID: 0000:0f:00.0 name: A100-SXM4-40GB computeCapability: 8.0\n",
      "coreClock: 1.41GHz coreCount: 108 deviceMemorySize: 39.59GiB deviceMemoryBandwidth: 1.41TiB/s\n",
      "2024-05-14 15:08:37.848854: I tensorflow/core/common_runtime/gpu/gpu_device.cc:1871] Adding visible gpu devices: 0, 1\n",
      "2024-05-14 15:08:37.852008: I tensorflow/core/common_runtime/gpu/gpu_device.cc:1733] Found device 0 with properties: \n",
      "pciBusID: 0000:07:00.0 name: A100-SXM4-40GB computeCapability: 8.0\n",
      "coreClock: 1.41GHz coreCount: 108 deviceMemorySize: 39.59GiB deviceMemoryBandwidth: 1.41TiB/s\n",
      "2024-05-14 15:08:37.854463: I tensorflow/core/common_runtime/gpu/gpu_device.cc:1733] Found device 1 with properties: \n",
      "pciBusID: 0000:0f:00.0 name: A100-SXM4-40GB computeCapability: 8.0\n",
      "coreClock: 1.41GHz coreCount: 108 deviceMemorySize: 39.59GiB deviceMemoryBandwidth: 1.41TiB/s\n",
      "2024-05-14 15:08:37.864237: I tensorflow/core/common_runtime/gpu/gpu_device.cc:1871] Adding visible gpu devices: 0, 1\n",
      "2024-05-14 15:08:37.864290: I tensorflow/core/common_runtime/gpu/gpu_device.cc:1258] Device interconnect StreamExecutor with strength 1 edge matrix:\n",
      "2024-05-14 15:08:37.864295: I tensorflow/core/common_runtime/gpu/gpu_device.cc:1264]      0 1 \n",
      "2024-05-14 15:08:37.864300: I tensorflow/core/common_runtime/gpu/gpu_device.cc:1277] 0:   N Y \n",
      "2024-05-14 15:08:37.864303: I tensorflow/core/common_runtime/gpu/gpu_device.cc:1277] 1:   Y N \n",
      "2024-05-14 15:08:37.871972: I tensorflow/core/common_runtime/gpu/gpu_device.cc:1418] Created TensorFlow device (/job:localhost/replica:0/task:0/device:GPU:0 with 38425 MB memory) -> physical GPU (device: 0, name: A100-SXM4-40GB, pci bus id: 0000:07:00.0, compute capability: 8.0)\n",
      "2024-05-14 15:08:37.874578: I tensorflow/core/common_runtime/gpu/gpu_device.cc:1418] Created TensorFlow device (/job:localhost/replica:0/task:0/device:GPU:1 with 38425 MB memory) -> physical GPU (device: 1, name: A100-SXM4-40GB, pci bus id: 0000:0f:00.0, compute capability: 8.0)\n"
     ]
    }
   ],
   "source": [
    "model = C.Helper.create_unet(X_train_set[0].shape)"
   ]
  },
  {
   "cell_type": "code",
   "execution_count": 35,
   "id": "f889cdd0",
   "metadata": {
    "scrolled": true
   },
   "outputs": [
    {
     "name": "stderr",
     "output_type": "stream",
     "text": [
      "2024-05-14 15:08:42.475455: I tensorflow/compiler/mlir/mlir_graph_optimization_pass.cc:176] None of the MLIR Optimization Passes are enabled (registered 2)\n",
      "2024-05-14 15:08:42.494768: I tensorflow/core/platform/profile_utils/cpu_utils.cc:114] CPU Frequency: 2245740000 Hz\n"
     ]
    },
    {
     "name": "stdout",
     "output_type": "stream",
     "text": [
      "Epoch 1/200\n"
     ]
    },
    {
     "name": "stderr",
     "output_type": "stream",
     "text": [
      "2024-05-14 15:08:44.123161: I tensorflow/stream_executor/platform/default/dso_loader.cc:53] Successfully opened dynamic library libcudnn.so.8\n",
      "2024-05-14 15:08:44.928361: I tensorflow/stream_executor/cuda/cuda_dnn.cc:359] Loaded cuDNN version 8201\n",
      "2024-05-14 15:08:45.920940: W tensorflow/stream_executor/gpu/asm_compiler.cc:191] Falling back to the CUDA driver for PTX compilation; ptxas does not support CC 8.0\n",
      "2024-05-14 15:08:45.920966: W tensorflow/stream_executor/gpu/asm_compiler.cc:194] Used ptxas at ptxas\n",
      "2024-05-14 15:08:45.921320: W tensorflow/stream_executor/gpu/redzone_allocator.cc:314] Unimplemented: ptxas ptxas too old. Falling back to the driver to compile.\n",
      "Relying on driver to perform ptx compilation. \n",
      "Modify $PATH to customize ptxas location.\n",
      "This message will be only logged once.\n",
      "2024-05-14 15:08:46.002251: I tensorflow/stream_executor/platform/default/dso_loader.cc:53] Successfully opened dynamic library libcublas.so.11\n",
      "2024-05-14 15:08:46.993515: I tensorflow/stream_executor/platform/default/dso_loader.cc:53] Successfully opened dynamic library libcublasLt.so.11\n"
     ]
    },
    {
     "name": "stdout",
     "output_type": "stream",
     "text": [
      "680/680 [==============================] - 331s 467ms/step - loss: 0.0839 - iou: 4.2892e-05 - iou_thresholded: 0.3147 - val_loss: 0.0029 - val_iou: 9.7012e-05 - val_iou_thresholded: 0.9026\n",
      "Epoch 2/200\n",
      "680/680 [==============================] - 306s 445ms/step - loss: 0.0015 - iou: 3.1957e-04 - iou_thresholded: 0.4191 - val_loss: 7.2510e-04 - val_iou: 5.4095e-04 - val_iou_thresholded: 0.8587\n",
      "Epoch 3/200\n",
      "680/680 [==============================] - 302s 445ms/step - loss: 5.1056e-04 - iou: 0.0011 - iou_thresholded: 0.4091 - val_loss: 3.6585e-04 - val_iou: 8.1792e-04 - val_iou_thresholded: 0.9026\n",
      "Epoch 4/200\n",
      "680/680 [==============================] - 302s 445ms/step - loss: 2.6105e-04 - iou: 0.0027 - iou_thresholded: 0.3906 - val_loss: 1.8938e-04 - val_iou: 0.0037 - val_iou_thresholded: 0.8337\n",
      "Epoch 5/200\n",
      "680/680 [==============================] - 302s 445ms/step - loss: 1.7461e-04 - iou: 0.0049 - iou_thresholded: 0.3724 - val_loss: 1.3753e-04 - val_iou: 0.0027 - val_iou_thresholded: 0.9026\n",
      "Epoch 6/200\n",
      "680/680 [==============================] - 302s 445ms/step - loss: 1.2521e-04 - iou: 0.0086 - iou_thresholded: 0.3869 - val_loss: 8.8360e-05 - val_iou: 0.0076 - val_iou_thresholded: 0.8595\n",
      "Epoch 7/200\n",
      "680/680 [==============================] - 302s 445ms/step - loss: 9.5402e-05 - iou: 0.0138 - iou_thresholded: 0.3973 - val_loss: 6.8765e-05 - val_iou: 0.0103 - val_iou_thresholded: 0.8535\n",
      "Epoch 8/200\n",
      "680/680 [==============================] - 302s 445ms/step - loss: 7.7068e-05 - iou: 0.0217 - iou_thresholded: 0.3992 - val_loss: 5.9486e-05 - val_iou: 0.0108 - val_iou_thresholded: 0.8667\n",
      "Epoch 9/200\n",
      "680/680 [==============================] - 302s 445ms/step - loss: 7.0868e-05 - iou: 0.0237 - iou_thresholded: 0.3678 - val_loss: 4.8885e-05 - val_iou: 0.0210 - val_iou_thresholded: 0.8529\n",
      "Epoch 10/200\n",
      "680/680 [==============================] - 302s 445ms/step - loss: 5.9952e-05 - iou: 0.0352 - iou_thresholded: 0.4079 - val_loss: 4.3446e-05 - val_iou: 0.0243 - val_iou_thresholded: 0.8620\n",
      "Epoch 11/200\n",
      "680/680 [==============================] - 302s 445ms/step - loss: 5.3023e-05 - iou: 0.0469 - iou_thresholded: 0.4118 - val_loss: 3.4971e-05 - val_iou: 0.0350 - val_iou_thresholded: 0.8644\n",
      "Epoch 12/200\n",
      "680/680 [==============================] - 302s 445ms/step - loss: 5.1062e-05 - iou: 0.0551 - iou_thresholded: 0.4079 - val_loss: 4.9615e-05 - val_iou: 0.0455 - val_iou_thresholded: 0.8172\n",
      "Epoch 13/200\n",
      "680/680 [==============================] - 302s 445ms/step - loss: 4.2615e-05 - iou: 0.0758 - iou_thresholded: 0.4642 - val_loss: 3.2280e-05 - val_iou: 0.0649 - val_iou_thresholded: 0.8576\n",
      "Epoch 14/200\n",
      "680/680 [==============================] - 302s 445ms/step - loss: 4.0208e-05 - iou: 0.0853 - iou_thresholded: 0.4440 - val_loss: 3.0500e-05 - val_iou: 0.0777 - val_iou_thresholded: 0.8592\n",
      "Epoch 15/200\n",
      "680/680 [==============================] - 302s 445ms/step - loss: 4.1481e-05 - iou: 0.0933 - iou_thresholded: 0.4525 - val_loss: 3.2321e-05 - val_iou: 0.0879 - val_iou_thresholded: 0.8607\n",
      "Epoch 16/200\n",
      "680/680 [==============================] - 302s 445ms/step - loss: 3.8135e-05 - iou: 0.1065 - iou_thresholded: 0.4628 - val_loss: 2.5863e-05 - val_iou: 0.1363 - val_iou_thresholded: 0.8722\n",
      "Epoch 17/200\n",
      "680/680 [==============================] - 302s 445ms/step - loss: 3.5832e-05 - iou: 0.1182 - iou_thresholded: 0.4784 - val_loss: 2.8371e-05 - val_iou: 0.1385 - val_iou_thresholded: 0.8569\n",
      "Epoch 18/200\n",
      "680/680 [==============================] - 302s 445ms/step - loss: 3.1267e-05 - iou: 0.1370 - iou_thresholded: 0.5133 - val_loss: 2.5848e-05 - val_iou: 0.1929 - val_iou_thresholded: 0.8630\n",
      "Epoch 19/200\n",
      "680/680 [==============================] - 302s 444ms/step - loss: 3.1830e-05 - iou: 0.1462 - iou_thresholded: 0.5138 - val_loss: 2.5601e-05 - val_iou: 0.2290 - val_iou_thresholded: 0.8603\n",
      "Epoch 20/200\n",
      "680/680 [==============================] - 302s 444ms/step - loss: 2.8047e-05 - iou: 0.1672 - iou_thresholded: 0.5306 - val_loss: 2.8104e-05 - val_iou: 0.2593 - val_iou_thresholded: 0.8604\n",
      "Epoch 21/200\n",
      "680/680 [==============================] - 302s 445ms/step - loss: 2.6192e-05 - iou: 0.1758 - iou_thresholded: 0.5384 - val_loss: 2.9599e-05 - val_iou: 0.3198 - val_iou_thresholded: 0.8685\n",
      "Epoch 22/200\n",
      "680/680 [==============================] - 302s 444ms/step - loss: 2.7237e-05 - iou: 0.1819 - iou_thresholded: 0.5763 - val_loss: 2.5116e-05 - val_iou: 0.3628 - val_iou_thresholded: 0.8826\n",
      "Epoch 23/200\n",
      "680/680 [==============================] - 302s 444ms/step - loss: 2.2317e-05 - iou: 0.2172 - iou_thresholded: 0.5781 - val_loss: 2.9375e-05 - val_iou: 0.3789 - val_iou_thresholded: 0.8735\n",
      "Epoch 24/200\n",
      "680/680 [==============================] - 302s 444ms/step - loss: 2.1963e-05 - iou: 0.2326 - iou_thresholded: 0.6040 - val_loss: 4.9505e-05 - val_iou: 0.3624 - val_iou_thresholded: 0.8437\n",
      "Epoch 25/200\n",
      "680/680 [==============================] - 302s 444ms/step - loss: 1.9220e-05 - iou: 0.2565 - iou_thresholded: 0.5934 - val_loss: 2.1905e-05 - val_iou: 0.4011 - val_iou_thresholded: 0.8664\n",
      "Epoch 26/200\n",
      "680/680 [==============================] - 302s 444ms/step - loss: 2.1702e-05 - iou: 0.2575 - iou_thresholded: 0.5999 - val_loss: 3.4932e-05 - val_iou: 0.3108 - val_iou_thresholded: 0.8406\n",
      "Epoch 27/200\n",
      "680/680 [==============================] - 302s 444ms/step - loss: 1.7341e-05 - iou: 0.2723 - iou_thresholded: 0.6518 - val_loss: 2.4060e-05 - val_iou: 0.4447 - val_iou_thresholded: 0.8535\n",
      "Epoch 28/200\n",
      "680/680 [==============================] - 302s 444ms/step - loss: 1.8400e-05 - iou: 0.2805 - iou_thresholded: 0.6070 - val_loss: 2.9852e-05 - val_iou: 0.4085 - val_iou_thresholded: 0.8256\n",
      "Epoch 29/200\n",
      "680/680 [==============================] - 302s 444ms/step - loss: 1.9414e-05 - iou: 0.2796 - iou_thresholded: 0.6455 - val_loss: 3.6185e-05 - val_iou: 0.1433 - val_iou_thresholded: 0.8593\n",
      "Epoch 30/200\n",
      "680/680 [==============================] - 302s 444ms/step - loss: 1.5783e-05 - iou: 0.3144 - iou_thresholded: 0.6743 - val_loss: 2.8190e-05 - val_iou: 0.5284 - val_iou_thresholded: 0.8762\n",
      "Epoch 31/200\n",
      "680/680 [==============================] - 302s 444ms/step - loss: 1.3765e-05 - iou: 0.3501 - iou_thresholded: 0.6947 - val_loss: 2.3520e-05 - val_iou: 0.4770 - val_iou_thresholded: 0.8936\n",
      "Epoch 32/200\n",
      "680/680 [==============================] - 302s 444ms/step - loss: 1.4964e-05 - iou: 0.3412 - iou_thresholded: 0.6847 - val_loss: 2.4717e-05 - val_iou: 0.4816 - val_iou_thresholded: 0.8874\n",
      "Epoch 33/200\n",
      "680/680 [==============================] - 302s 445ms/step - loss: 1.6484e-05 - iou: 0.3265 - iou_thresholded: 0.6554 - val_loss: 4.4876e-05 - val_iou: 0.5135 - val_iou_thresholded: 0.8603\n",
      "Epoch 34/200\n",
      "680/680 [==============================] - 302s 444ms/step - loss: 1.5200e-05 - iou: 0.3135 - iou_thresholded: 0.6605 - val_loss: 2.7256e-05 - val_iou: 0.5063 - val_iou_thresholded: 0.8829\n",
      "Epoch 35/200\n",
      "680/680 [==============================] - 302s 445ms/step - loss: 1.2078e-05 - iou: 0.3992 - iou_thresholded: 0.7156 - val_loss: 2.4425e-05 - val_iou: 0.5282 - val_iou_thresholded: 0.8602\n",
      "Epoch 36/200\n",
      "680/680 [==============================] - 302s 444ms/step - loss: 1.3668e-05 - iou: 0.3762 - iou_thresholded: 0.7078 - val_loss: 3.0633e-05 - val_iou: 0.3791 - val_iou_thresholded: 0.8682\n",
      "Epoch 37/200\n",
      "680/680 [==============================] - 302s 444ms/step - loss: 1.1607e-05 - iou: 0.4167 - iou_thresholded: 0.7325 - val_loss: 2.7728e-05 - val_iou: 0.5379 - val_iou_thresholded: 0.8684\n",
      "Epoch 38/200\n",
      "680/680 [==============================] - 302s 445ms/step - loss: 1.7184e-05 - iou: 0.3371 - iou_thresholded: 0.6764 - val_loss: 3.1891e-05 - val_iou: 0.3906 - val_iou_thresholded: 0.8683\n",
      "Epoch 39/200\n",
      "680/680 [==============================] - 302s 444ms/step - loss: 1.3180e-05 - iou: 0.3715 - iou_thresholded: 0.7024 - val_loss: 3.3047e-05 - val_iou: 0.5568 - val_iou_thresholded: 0.8821\n",
      "Epoch 40/200\n",
      "680/680 [==============================] - 302s 444ms/step - loss: 1.3594e-05 - iou: 0.3820 - iou_thresholded: 0.7075 - val_loss: 2.5016e-05 - val_iou: 0.5509 - val_iou_thresholded: 0.8862\n",
      "Epoch 41/200\n",
      "680/680 [==============================] - 302s 445ms/step - loss: 1.1395e-05 - iou: 0.4274 - iou_thresholded: 0.7364 - val_loss: 2.8146e-05 - val_iou: 0.5666 - val_iou_thresholded: 0.8626\n"
     ]
    },
    {
     "name": "stdout",
     "output_type": "stream",
     "text": [
      "Epoch 42/200\n",
      "680/680 [==============================] - 302s 445ms/step - loss: 1.0366e-05 - iou: 0.4298 - iou_thresholded: 0.7442 - val_loss: 2.8251e-05 - val_iou: 0.5540 - val_iou_thresholded: 0.8807\n",
      "Epoch 43/200\n",
      "680/680 [==============================] - 302s 444ms/step - loss: 1.0269e-05 - iou: 0.4625 - iou_thresholded: 0.7512 - val_loss: 3.1956e-05 - val_iou: 0.6056 - val_iou_thresholded: 0.8605\n",
      "Epoch 44/200\n",
      "680/680 [==============================] - 302s 445ms/step - loss: 1.0024e-05 - iou: 0.4648 - iou_thresholded: 0.7522 - val_loss: 2.3374e-05 - val_iou: 0.3289 - val_iou_thresholded: 0.8807\n",
      "Epoch 45/200\n",
      "680/680 [==============================] - 302s 445ms/step - loss: 1.1067e-05 - iou: 0.4437 - iou_thresholded: 0.7362 - val_loss: 2.3888e-05 - val_iou: 0.5294 - val_iou_thresholded: 0.8894\n",
      "Epoch 46/200\n",
      "680/680 [==============================] - 302s 445ms/step - loss: 9.9975e-06 - iou: 0.4708 - iou_thresholded: 0.7517 - val_loss: 3.1969e-05 - val_iou: 0.6587 - val_iou_thresholded: 0.8960\n",
      "Epoch 47/200\n",
      "680/680 [==============================] - 302s 445ms/step - loss: 1.1990e-05 - iou: 0.4528 - iou_thresholded: 0.7515 - val_loss: 3.4684e-05 - val_iou: 0.5552 - val_iou_thresholded: 0.8734\n",
      "Epoch 48/200\n",
      "680/680 [==============================] - 302s 445ms/step - loss: 9.2542e-06 - iou: 0.4837 - iou_thresholded: 0.7747 - val_loss: 3.1676e-05 - val_iou: 0.6204 - val_iou_thresholded: 0.8730\n",
      "Epoch 49/200\n",
      "680/680 [==============================] - 302s 444ms/step - loss: 9.5610e-06 - iou: 0.4739 - iou_thresholded: 0.7639 - val_loss: 3.0685e-05 - val_iou: 0.6604 - val_iou_thresholded: 0.8808\n",
      "Epoch 50/200\n",
      "680/680 [==============================] - 302s 445ms/step - loss: 9.7657e-06 - iou: 0.4897 - iou_thresholded: 0.7624 - val_loss: 3.3671e-05 - val_iou: 0.6647 - val_iou_thresholded: 0.8780\n",
      "Epoch 51/200\n",
      "680/680 [==============================] - 302s 445ms/step - loss: 9.4157e-06 - iou: 0.5017 - iou_thresholded: 0.7723 - val_loss: 2.3273e-05 - val_iou: 0.6541 - val_iou_thresholded: 0.8943\n",
      "Epoch 52/200\n",
      "680/680 [==============================] - 302s 444ms/step - loss: 1.0403e-05 - iou: 0.4840 - iou_thresholded: 0.7596 - val_loss: 2.8529e-05 - val_iou: 0.6641 - val_iou_thresholded: 0.8995\n",
      "Epoch 53/200\n",
      "680/680 [==============================] - 302s 445ms/step - loss: 8.3512e-06 - iou: 0.5286 - iou_thresholded: 0.7901 - val_loss: 3.4986e-05 - val_iou: 0.5568 - val_iou_thresholded: 0.8638\n",
      "Epoch 54/200\n",
      "680/680 [==============================] - 302s 445ms/step - loss: 7.4637e-06 - iou: 0.5595 - iou_thresholded: 0.8113 - val_loss: 3.8964e-05 - val_iou: 0.6674 - val_iou_thresholded: 0.8706\n",
      "Epoch 55/200\n",
      "680/680 [==============================] - 302s 444ms/step - loss: 8.8368e-06 - iou: 0.5613 - iou_thresholded: 0.8088 - val_loss: 3.5832e-05 - val_iou: 0.5643 - val_iou_thresholded: 0.8797\n",
      "Epoch 56/200\n",
      "680/680 [==============================] - 302s 444ms/step - loss: 8.3944e-06 - iou: 0.5287 - iou_thresholded: 0.7969 - val_loss: 3.6223e-05 - val_iou: 0.6847 - val_iou_thresholded: 0.8759\n",
      "Epoch 57/200\n",
      "680/680 [==============================] - 302s 445ms/step - loss: 8.1662e-06 - iou: 0.5422 - iou_thresholded: 0.7996 - val_loss: 2.6850e-05 - val_iou: 0.7020 - val_iou_thresholded: 0.8737\n",
      "Epoch 58/200\n",
      "680/680 [==============================] - 302s 445ms/step - loss: 7.5871e-06 - iou: 0.5868 - iou_thresholded: 0.8001 - val_loss: 3.5415e-05 - val_iou: 0.6510 - val_iou_thresholded: 0.8734\n",
      "Epoch 59/200\n",
      "680/680 [==============================] - 302s 444ms/step - loss: 7.1376e-06 - iou: 0.6016 - iou_thresholded: 0.8214 - val_loss: 3.0247e-05 - val_iou: 0.6399 - val_iou_thresholded: 0.8670\n",
      "Epoch 60/200\n",
      "680/680 [==============================] - 302s 445ms/step - loss: 7.4330e-06 - iou: 0.5947 - iou_thresholded: 0.8223 - val_loss: 3.7483e-05 - val_iou: 0.7021 - val_iou_thresholded: 0.8914\n",
      "Epoch 61/200\n",
      "680/680 [==============================] - 302s 445ms/step - loss: 7.9222e-06 - iou: 0.5894 - iou_thresholded: 0.8010 - val_loss: 3.0501e-05 - val_iou: 0.7073 - val_iou_thresholded: 0.8815\n",
      "Epoch 62/200\n",
      "680/680 [==============================] - 302s 444ms/step - loss: 7.7290e-06 - iou: 0.6003 - iou_thresholded: 0.8020 - val_loss: 3.8234e-05 - val_iou: 0.6114 - val_iou_thresholded: 0.8550\n",
      "Epoch 63/200\n",
      "680/680 [==============================] - 302s 445ms/step - loss: 6.9228e-06 - iou: 0.6172 - iou_thresholded: 0.8260 - val_loss: 3.4480e-05 - val_iou: 0.6855 - val_iou_thresholded: 0.8727\n",
      "Epoch 64/200\n",
      "680/680 [==============================] - 302s 445ms/step - loss: 8.1943e-06 - iou: 0.5944 - iou_thresholded: 0.8151 - val_loss: 3.1015e-05 - val_iou: 0.4150 - val_iou_thresholded: 0.8816\n",
      "Epoch 65/200\n",
      "680/680 [==============================] - 302s 445ms/step - loss: 7.0663e-06 - iou: 0.6092 - iou_thresholded: 0.8232 - val_loss: 3.3352e-05 - val_iou: 0.6506 - val_iou_thresholded: 0.8618\n",
      "Epoch 66/200\n",
      "680/680 [==============================] - 302s 445ms/step - loss: 6.4014e-06 - iou: 0.6119 - iou_thresholded: 0.8210 - val_loss: 5.7819e-05 - val_iou: 0.7016 - val_iou_thresholded: 0.8729\n",
      "Epoch 67/200\n",
      "680/680 [==============================] - 302s 445ms/step - loss: 8.8623e-06 - iou: 0.5533 - iou_thresholded: 0.7809 - val_loss: 3.1205e-05 - val_iou: 0.6997 - val_iou_thresholded: 0.8644\n",
      "Epoch 68/200\n",
      "680/680 [==============================] - 302s 445ms/step - loss: 7.1188e-06 - iou: 0.6108 - iou_thresholded: 0.8110 - val_loss: 3.0399e-05 - val_iou: 0.4599 - val_iou_thresholded: 0.8724\n",
      "Epoch 69/200\n",
      "680/680 [==============================] - 302s 445ms/step - loss: 7.4098e-06 - iou: 0.6301 - iou_thresholded: 0.8286 - val_loss: 4.2886e-05 - val_iou: 0.6724 - val_iou_thresholded: 0.8743\n",
      "Epoch 70/200\n",
      "680/680 [==============================] - 302s 445ms/step - loss: 6.7793e-06 - iou: 0.6352 - iou_thresholded: 0.8282 - val_loss: 3.8755e-05 - val_iou: 0.6895 - val_iou_thresholded: 0.8701\n",
      "Epoch 71/200\n",
      "680/680 [==============================] - 302s 445ms/step - loss: 6.3563e-06 - iou: 0.6420 - iou_thresholded: 0.8292 - val_loss: 4.2515e-05 - val_iou: 0.6820 - val_iou_thresholded: 0.8675\n",
      "Epoch 72/200\n",
      "680/680 [==============================] - 302s 445ms/step - loss: 6.3264e-06 - iou: 0.6408 - iou_thresholded: 0.8304 - val_loss: 3.4716e-05 - val_iou: 0.7055 - val_iou_thresholded: 0.8744\n",
      "Epoch 73/200\n",
      "680/680 [==============================] - 302s 445ms/step - loss: 6.2911e-06 - iou: 0.6531 - iou_thresholded: 0.8284 - val_loss: 3.0428e-05 - val_iou: 0.7251 - val_iou_thresholded: 0.8821\n",
      "Epoch 74/200\n",
      "680/680 [==============================] - 303s 445ms/step - loss: 6.0384e-06 - iou: 0.6587 - iou_thresholded: 0.8440 - val_loss: 3.0492e-05 - val_iou: 0.7218 - val_iou_thresholded: 0.8718\n",
      "Epoch 75/200\n",
      "680/680 [==============================] - 302s 445ms/step - loss: 7.7206e-06 - iou: 0.5919 - iou_thresholded: 0.7907 - val_loss: 3.2494e-05 - val_iou: 0.6929 - val_iou_thresholded: 0.8529\n",
      "Epoch 76/200\n",
      "680/680 [==============================] - 302s 445ms/step - loss: 6.1012e-06 - iou: 0.6550 - iou_thresholded: 0.8347 - val_loss: 3.9141e-05 - val_iou: 0.6868 - val_iou_thresholded: 0.8558\n",
      "Epoch 77/200\n",
      "680/680 [==============================] - 302s 445ms/step - loss: 5.7859e-06 - iou: 0.6884 - iou_thresholded: 0.8446 - val_loss: 3.9189e-05 - val_iou: 0.7438 - val_iou_thresholded: 0.8667\n",
      "Epoch 78/200\n",
      "680/680 [==============================] - 302s 445ms/step - loss: 5.8789e-06 - iou: 0.6818 - iou_thresholded: 0.8395 - val_loss: 3.9788e-05 - val_iou: 0.7768 - val_iou_thresholded: 0.8805\n",
      "Epoch 79/200\n",
      "680/680 [==============================] - 302s 445ms/step - loss: 6.2160e-06 - iou: 0.6800 - iou_thresholded: 0.8417 - val_loss: 4.6795e-05 - val_iou: 0.7011 - val_iou_thresholded: 0.8738\n",
      "Epoch 80/200\n",
      "680/680 [==============================] - 302s 445ms/step - loss: 5.7650e-06 - iou: 0.6776 - iou_thresholded: 0.8487 - val_loss: 3.8108e-05 - val_iou: 0.7429 - val_iou_thresholded: 0.8771\n",
      "Epoch 81/200\n",
      "680/680 [==============================] - 302s 445ms/step - loss: 5.8886e-06 - iou: 0.7042 - iou_thresholded: 0.8440 - val_loss: 3.9358e-05 - val_iou: 0.7457 - val_iou_thresholded: 0.8771\n",
      "Epoch 82/200\n"
     ]
    },
    {
     "name": "stdout",
     "output_type": "stream",
     "text": [
      "680/680 [==============================] - 302s 445ms/step - loss: 5.5861e-06 - iou: 0.6864 - iou_thresholded: 0.8474 - val_loss: 4.0860e-05 - val_iou: 0.6711 - val_iou_thresholded: 0.8400\n",
      "Epoch 83/200\n",
      "680/680 [==============================] - 302s 445ms/step - loss: 5.5953e-06 - iou: 0.6984 - iou_thresholded: 0.8483 - val_loss: 3.7087e-05 - val_iou: 0.7574 - val_iou_thresholded: 0.8696\n",
      "Epoch 84/200\n",
      "680/680 [==============================] - 302s 444ms/step - loss: 5.5743e-06 - iou: 0.6847 - iou_thresholded: 0.8482 - val_loss: 4.7666e-05 - val_iou: 0.7309 - val_iou_thresholded: 0.8628\n",
      "Epoch 85/200\n",
      "680/680 [==============================] - 302s 445ms/step - loss: 5.5066e-06 - iou: 0.7088 - iou_thresholded: 0.8477 - val_loss: 3.8908e-05 - val_iou: 0.7898 - val_iou_thresholded: 0.8778\n",
      "Epoch 86/200\n",
      "680/680 [==============================] - 302s 445ms/step - loss: 6.1700e-06 - iou: 0.6913 - iou_thresholded: 0.8409 - val_loss: 3.0906e-05 - val_iou: 0.7219 - val_iou_thresholded: 0.8691\n",
      "Epoch 87/200\n",
      "680/680 [==============================] - 302s 444ms/step - loss: 5.1828e-06 - iou: 0.7039 - iou_thresholded: 0.8565 - val_loss: 3.8157e-05 - val_iou: 0.7292 - val_iou_thresholded: 0.8597\n",
      "Epoch 88/200\n",
      "680/680 [==============================] - 302s 445ms/step - loss: 5.8977e-06 - iou: 0.6928 - iou_thresholded: 0.8430 - val_loss: 3.4958e-05 - val_iou: 0.7223 - val_iou_thresholded: 0.8748\n",
      "Epoch 89/200\n",
      "680/680 [==============================] - 302s 445ms/step - loss: 5.0554e-06 - iou: 0.6937 - iou_thresholded: 0.8435 - val_loss: 3.8001e-05 - val_iou: 0.7346 - val_iou_thresholded: 0.8729\n",
      "Epoch 90/200\n",
      "680/680 [==============================] - 302s 445ms/step - loss: 5.2841e-06 - iou: 0.7163 - iou_thresholded: 0.8638 - val_loss: 3.9692e-05 - val_iou: 0.7658 - val_iou_thresholded: 0.8793\n",
      "Epoch 91/200\n",
      "680/680 [==============================] - 302s 445ms/step - loss: 5.1513e-06 - iou: 0.7134 - iou_thresholded: 0.8540 - val_loss: 3.9180e-05 - val_iou: 0.7740 - val_iou_thresholded: 0.8722\n",
      "Epoch 92/200\n",
      "680/680 [==============================] - 302s 445ms/step - loss: 6.2735e-06 - iou: 0.6801 - iou_thresholded: 0.8440 - val_loss: 2.7436e-05 - val_iou: 0.7023 - val_iou_thresholded: 0.8536\n",
      "Epoch 93/200\n",
      "680/680 [==============================] - 302s 445ms/step - loss: 5.7134e-06 - iou: 0.6649 - iou_thresholded: 0.8319 - val_loss: 3.8810e-05 - val_iou: 0.7872 - val_iou_thresholded: 0.8718\n",
      "Epoch 94/200\n",
      "680/680 [==============================] - 302s 445ms/step - loss: 5.0431e-06 - iou: 0.7248 - iou_thresholded: 0.8656 - val_loss: 4.0429e-05 - val_iou: 0.7909 - val_iou_thresholded: 0.8733\n",
      "Epoch 95/200\n",
      "680/680 [==============================] - 302s 445ms/step - loss: 5.1724e-06 - iou: 0.7189 - iou_thresholded: 0.8513 - val_loss: 3.7536e-05 - val_iou: 0.7735 - val_iou_thresholded: 0.8768\n",
      "Epoch 96/200\n",
      "680/680 [==============================] - 302s 445ms/step - loss: 5.5120e-06 - iou: 0.7103 - iou_thresholded: 0.8552 - val_loss: 3.2916e-05 - val_iou: 0.7706 - val_iou_thresholded: 0.8763\n",
      "Epoch 97/200\n",
      "680/680 [==============================] - 302s 445ms/step - loss: 4.9645e-06 - iou: 0.7393 - iou_thresholded: 0.8607 - val_loss: 3.6762e-05 - val_iou: 0.7610 - val_iou_thresholded: 0.8701\n",
      "Epoch 98/200\n",
      "680/680 [==============================] - 302s 445ms/step - loss: 4.5666e-06 - iou: 0.7584 - iou_thresholded: 0.8799 - val_loss: 3.9099e-05 - val_iou: 0.2723 - val_iou_thresholded: 0.8735\n",
      "Epoch 99/200\n",
      "680/680 [==============================] - 302s 445ms/step - loss: 4.9478e-06 - iou: 0.7420 - iou_thresholded: 0.8660 - val_loss: 4.5352e-05 - val_iou: 0.8118 - val_iou_thresholded: 0.8798\n",
      "Epoch 100/200\n",
      "680/680 [==============================] - 302s 444ms/step - loss: 5.7481e-06 - iou: 0.6912 - iou_thresholded: 0.8430 - val_loss: 4.7135e-05 - val_iou: 0.7735 - val_iou_thresholded: 0.8739\n",
      "Epoch 101/200\n",
      "680/680 [==============================] - 302s 445ms/step - loss: 4.7750e-06 - iou: 0.7439 - iou_thresholded: 0.8663 - val_loss: 3.9418e-05 - val_iou: 0.7893 - val_iou_thresholded: 0.8780\n",
      "Epoch 102/200\n",
      "680/680 [==============================] - 302s 444ms/step - loss: 4.5340e-06 - iou: 0.7701 - iou_thresholded: 0.8737 - val_loss: 3.7025e-05 - val_iou: 0.8002 - val_iou_thresholded: 0.8805\n",
      "Epoch 103/200\n",
      "680/680 [==============================] - 302s 445ms/step - loss: 5.1074e-06 - iou: 0.7266 - iou_thresholded: 0.8558 - val_loss: 4.0553e-05 - val_iou: 0.8159 - val_iou_thresholded: 0.8739\n",
      "Epoch 104/200\n",
      "680/680 [==============================] - 302s 445ms/step - loss: 4.4200e-06 - iou: 0.7651 - iou_thresholded: 0.8782 - val_loss: 3.8390e-05 - val_iou: 0.7987 - val_iou_thresholded: 0.8727\n",
      "Epoch 105/200\n",
      "680/680 [==============================] - 303s 446ms/step - loss: 4.5356e-06 - iou: 0.7800 - iou_thresholded: 0.8798 - val_loss: 4.1559e-05 - val_iou: 0.7997 - val_iou_thresholded: 0.8756\n",
      "Epoch 106/200\n",
      "680/680 [==============================] - 302s 445ms/step - loss: 4.6080e-06 - iou: 0.7630 - iou_thresholded: 0.8792 - val_loss: 4.8826e-05 - val_iou: 0.7811 - val_iou_thresholded: 0.8667\n",
      "Epoch 107/200\n",
      "680/680 [==============================] - 302s 444ms/step - loss: 4.5408e-06 - iou: 0.7642 - iou_thresholded: 0.8732 - val_loss: 4.4428e-05 - val_iou: 0.8076 - val_iou_thresholded: 0.8790\n",
      "Epoch 108/200\n",
      "680/680 [==============================] - 302s 444ms/step - loss: 4.1578e-06 - iou: 0.7724 - iou_thresholded: 0.8788 - val_loss: 5.2950e-05 - val_iou: 0.8007 - val_iou_thresholded: 0.8783\n",
      "Epoch 109/200\n",
      "680/680 [==============================] - 302s 445ms/step - loss: 4.5315e-06 - iou: 0.7970 - iou_thresholded: 0.8807 - val_loss: 4.3886e-05 - val_iou: 0.8136 - val_iou_thresholded: 0.8802\n",
      "Epoch 110/200\n",
      "680/680 [==============================] - 302s 445ms/step - loss: 3.9759e-06 - iou: 0.7920 - iou_thresholded: 0.8836 - val_loss: 4.8232e-05 - val_iou: 0.7708 - val_iou_thresholded: 0.8764\n",
      "Epoch 111/200\n",
      "680/680 [==============================] - 303s 445ms/step - loss: 4.1290e-06 - iou: 0.7921 - iou_thresholded: 0.8834 - val_loss: 4.4380e-05 - val_iou: 0.7859 - val_iou_thresholded: 0.8738\n",
      "Epoch 112/200\n",
      "680/680 [==============================] - 303s 445ms/step - loss: 4.0179e-06 - iou: 0.7973 - iou_thresholded: 0.8869 - val_loss: 5.0725e-05 - val_iou: 0.8181 - val_iou_thresholded: 0.8663\n",
      "Epoch 113/200\n",
      "680/680 [==============================] - 303s 445ms/step - loss: 4.2853e-06 - iou: 0.8084 - iou_thresholded: 0.8857 - val_loss: 5.2443e-05 - val_iou: 0.7891 - val_iou_thresholded: 0.8670\n",
      "Epoch 114/200\n",
      "680/680 [==============================] - 303s 445ms/step - loss: 3.9155e-06 - iou: 0.8117 - iou_thresholded: 0.8922 - val_loss: 4.7057e-05 - val_iou: 0.7885 - val_iou_thresholded: 0.8718\n",
      "Epoch 115/200\n",
      "680/680 [==============================] - 302s 444ms/step - loss: 3.6517e-06 - iou: 0.8172 - iou_thresholded: 0.8979 - val_loss: 4.8914e-05 - val_iou: 0.8189 - val_iou_thresholded: 0.8673\n",
      "Epoch 116/200\n",
      "680/680 [==============================] - 303s 445ms/step - loss: 4.0110e-06 - iou: 0.8100 - iou_thresholded: 0.8912 - val_loss: 4.4874e-05 - val_iou: 0.8266 - val_iou_thresholded: 0.8760\n",
      "Epoch 117/200\n",
      "680/680 [==============================] - 302s 445ms/step - loss: 3.8126e-06 - iou: 0.8140 - iou_thresholded: 0.8895 - val_loss: 4.9585e-05 - val_iou: 0.8244 - val_iou_thresholded: 0.8765\n",
      "Epoch 118/200\n",
      "680/680 [==============================] - 303s 445ms/step - loss: 3.4249e-06 - iou: 0.8313 - iou_thresholded: 0.9045 - val_loss: 4.9458e-05 - val_iou: 0.8491 - val_iou_thresholded: 0.8860\n",
      "Epoch 119/200\n",
      "680/680 [==============================] - 302s 444ms/step - loss: 3.8817e-06 - iou: 0.8164 - iou_thresholded: 0.8905 - val_loss: 5.1786e-05 - val_iou: 0.8382 - val_iou_thresholded: 0.8851\n",
      "Epoch 120/200\n",
      "680/680 [==============================] - 302s 445ms/step - loss: 3.5571e-06 - iou: 0.8250 - iou_thresholded: 0.8994 - val_loss: 5.3977e-05 - val_iou: 0.8339 - val_iou_thresholded: 0.8810\n",
      "Epoch 121/200\n",
      "680/680 [==============================] - 303s 445ms/step - loss: 3.8502e-06 - iou: 0.8270 - iou_thresholded: 0.8990 - val_loss: 6.0927e-05 - val_iou: 0.8208 - val_iou_thresholded: 0.8710\n",
      "Epoch 122/200\n"
     ]
    },
    {
     "name": "stdout",
     "output_type": "stream",
     "text": [
      "680/680 [==============================] - 302s 445ms/step - loss: 3.3316e-06 - iou: 0.8326 - iou_thresholded: 0.8989 - val_loss: 5.5610e-05 - val_iou: 0.8485 - val_iou_thresholded: 0.8866\n",
      "Epoch 123/200\n",
      "680/680 [==============================] - 303s 446ms/step - loss: 3.6672e-06 - iou: 0.8279 - iou_thresholded: 0.8939 - val_loss: 5.9574e-05 - val_iou: 0.8183 - val_iou_thresholded: 0.8741\n",
      "Epoch 124/200\n",
      "680/680 [==============================] - 302s 444ms/step - loss: 3.6129e-06 - iou: 0.8273 - iou_thresholded: 0.8975 - val_loss: 5.0968e-05 - val_iou: 0.8138 - val_iou_thresholded: 0.8805\n",
      "Epoch 125/200\n",
      "680/680 [==============================] - 302s 444ms/step - loss: 3.5302e-06 - iou: 0.8329 - iou_thresholded: 0.8957 - val_loss: 5.6826e-05 - val_iou: 0.8124 - val_iou_thresholded: 0.8771\n",
      "Epoch 126/200\n",
      "680/680 [==============================] - 302s 445ms/step - loss: 3.5661e-06 - iou: 0.8313 - iou_thresholded: 0.9044 - val_loss: 5.9682e-05 - val_iou: 0.8002 - val_iou_thresholded: 0.8799\n",
      "Epoch 127/200\n",
      "680/680 [==============================] - 302s 444ms/step - loss: 3.4557e-06 - iou: 0.8245 - iou_thresholded: 0.8998 - val_loss: 5.2491e-05 - val_iou: 0.8509 - val_iou_thresholded: 0.8795\n",
      "Epoch 128/200\n",
      "680/680 [==============================] - 302s 445ms/step - loss: 3.2774e-06 - iou: 0.8407 - iou_thresholded: 0.9084 - val_loss: 5.5405e-05 - val_iou: 0.8431 - val_iou_thresholded: 0.8756\n",
      "Epoch 129/200\n",
      "680/680 [==============================] - 302s 445ms/step - loss: 3.3608e-06 - iou: 0.8375 - iou_thresholded: 0.9051 - val_loss: 5.5189e-05 - val_iou: 0.8298 - val_iou_thresholded: 0.8821\n",
      "Epoch 130/200\n",
      "680/680 [==============================] - 302s 444ms/step - loss: 3.3808e-06 - iou: 0.8528 - iou_thresholded: 0.9145 - val_loss: 6.5173e-05 - val_iou: 0.8371 - val_iou_thresholded: 0.8754\n",
      "Epoch 131/200\n",
      "680/680 [==============================] - 302s 445ms/step - loss: 3.2653e-06 - iou: 0.8308 - iou_thresholded: 0.9042 - val_loss: 6.8800e-05 - val_iou: 0.8347 - val_iou_thresholded: 0.8601\n",
      "Epoch 132/200\n",
      "680/680 [==============================] - 302s 444ms/step - loss: 3.1549e-06 - iou: 0.8376 - iou_thresholded: 0.9071 - val_loss: 5.3941e-05 - val_iou: 0.8413 - val_iou_thresholded: 0.8807\n",
      "Epoch 133/200\n",
      "680/680 [==============================] - 302s 445ms/step - loss: 3.4166e-06 - iou: 0.8277 - iou_thresholded: 0.8989 - val_loss: 6.6462e-05 - val_iou: 0.8460 - val_iou_thresholded: 0.8745\n",
      "Epoch 134/200\n",
      "680/680 [==============================] - 302s 445ms/step - loss: 3.1898e-06 - iou: 0.8455 - iou_thresholded: 0.9067 - val_loss: 6.2320e-05 - val_iou: 0.8007 - val_iou_thresholded: 0.8641\n",
      "Epoch 135/200\n",
      "680/680 [==============================] - 302s 445ms/step - loss: 3.3002e-06 - iou: 0.8424 - iou_thresholded: 0.9083 - val_loss: 6.0647e-05 - val_iou: 0.8176 - val_iou_thresholded: 0.8757\n",
      "Epoch 136/200\n",
      "680/680 [==============================] - 302s 445ms/step - loss: 3.1944e-06 - iou: 0.8471 - iou_thresholded: 0.9055 - val_loss: 7.7378e-05 - val_iou: 0.8348 - val_iou_thresholded: 0.8693\n",
      "Epoch 137/200\n",
      "680/680 [==============================] - 302s 445ms/step - loss: 3.0884e-06 - iou: 0.8547 - iou_thresholded: 0.9110 - val_loss: 6.7642e-05 - val_iou: 0.8346 - val_iou_thresholded: 0.8633\n",
      "Epoch 138/200\n",
      "680/680 [==============================] - 302s 445ms/step - loss: 3.0265e-06 - iou: 0.8568 - iou_thresholded: 0.9154 - val_loss: 5.4003e-05 - val_iou: 0.8211 - val_iou_thresholded: 0.8635\n",
      "Epoch 139/200\n",
      "680/680 [==============================] - 302s 444ms/step - loss: 2.6513e-06 - iou: 0.8635 - iou_thresholded: 0.9175 - val_loss: 5.7361e-05 - val_iou: 0.8511 - val_iou_thresholded: 0.8824\n",
      "Epoch 140/200\n",
      "680/680 [==============================] - 302s 444ms/step - loss: 2.9546e-06 - iou: 0.8672 - iou_thresholded: 0.9164 - val_loss: 5.7367e-05 - val_iou: 0.8447 - val_iou_thresholded: 0.8739\n",
      "Epoch 141/200\n",
      "680/680 [==============================] - 302s 445ms/step - loss: 3.1387e-06 - iou: 0.8616 - iou_thresholded: 0.9183 - val_loss: 6.6671e-05 - val_iou: 0.8476 - val_iou_thresholded: 0.8805\n",
      "Epoch 142/200\n",
      "680/680 [==============================] - 302s 444ms/step - loss: 2.6156e-06 - iou: 0.8754 - iou_thresholded: 0.9286 - val_loss: 6.1144e-05 - val_iou: 0.8321 - val_iou_thresholded: 0.8687\n",
      "Epoch 143/200\n",
      "680/680 [==============================] - 302s 445ms/step - loss: 2.8814e-06 - iou: 0.8659 - iou_thresholded: 0.9185 - val_loss: 5.8687e-05 - val_iou: 0.8349 - val_iou_thresholded: 0.8669\n",
      "Epoch 144/200\n",
      "680/680 [==============================] - 302s 445ms/step - loss: 2.6121e-06 - iou: 0.8713 - iou_thresholded: 0.9224 - val_loss: 7.4545e-05 - val_iou: 0.8540 - val_iou_thresholded: 0.8787\n",
      "Epoch 145/200\n",
      "680/680 [==============================] - 302s 445ms/step - loss: 2.8189e-06 - iou: 0.8719 - iou_thresholded: 0.9205 - val_loss: 6.4334e-05 - val_iou: 0.8498 - val_iou_thresholded: 0.8733\n",
      "Epoch 146/200\n",
      "680/680 [==============================] - 302s 445ms/step - loss: 2.6864e-06 - iou: 0.8794 - iou_thresholded: 0.9281 - val_loss: 7.5745e-05 - val_iou: 0.8475 - val_iou_thresholded: 0.8755\n",
      "Epoch 147/200\n",
      "680/680 [==============================] - 302s 445ms/step - loss: 2.5566e-06 - iou: 0.8721 - iou_thresholded: 0.9199 - val_loss: 6.7937e-05 - val_iou: 0.8208 - val_iou_thresholded: 0.8622\n",
      "Epoch 148/200\n",
      "680/680 [==============================] - 302s 445ms/step - loss: 2.4309e-06 - iou: 0.8774 - iou_thresholded: 0.9278 - val_loss: 6.5842e-05 - val_iou: 0.8376 - val_iou_thresholded: 0.8653\n",
      "Epoch 149/200\n",
      "680/680 [==============================] - 302s 445ms/step - loss: 2.6546e-06 - iou: 0.8799 - iou_thresholded: 0.9259 - val_loss: 5.4724e-05 - val_iou: 0.8341 - val_iou_thresholded: 0.8647\n",
      "Epoch 150/200\n",
      "680/680 [==============================] - 302s 445ms/step - loss: 2.4868e-06 - iou: 0.8855 - iou_thresholded: 0.9322 - val_loss: 6.1670e-05 - val_iou: 0.8455 - val_iou_thresholded: 0.8693\n",
      "Epoch 151/200\n",
      "680/680 [==============================] - 302s 445ms/step - loss: 2.5573e-06 - iou: 0.8910 - iou_thresholded: 0.9341 - val_loss: 6.6233e-05 - val_iou: 0.7901 - val_iou_thresholded: 0.8358\n",
      "Epoch 152/200\n",
      "680/680 [==============================] - 302s 445ms/step - loss: 2.4313e-06 - iou: 0.8790 - iou_thresholded: 0.9292 - val_loss: 6.0386e-05 - val_iou: 0.8539 - val_iou_thresholded: 0.8800\n",
      "Epoch 153/200\n",
      "680/680 [==============================] - 302s 445ms/step - loss: 2.2618e-06 - iou: 0.8916 - iou_thresholded: 0.9369 - val_loss: 6.6432e-05 - val_iou: 0.8772 - val_iou_thresholded: 0.8903\n",
      "Epoch 154/200\n",
      "680/680 [==============================] - 302s 445ms/step - loss: 2.3017e-06 - iou: 0.8941 - iou_thresholded: 0.9376 - val_loss: 6.1447e-05 - val_iou: 0.8455 - val_iou_thresholded: 0.8688\n",
      "Epoch 155/200\n",
      "680/680 [==============================] - 302s 445ms/step - loss: 2.2275e-06 - iou: 0.8893 - iou_thresholded: 0.9336 - val_loss: 6.9151e-05 - val_iou: 0.8385 - val_iou_thresholded: 0.8654\n",
      "Epoch 156/200\n",
      "680/680 [==============================] - 302s 445ms/step - loss: 2.1669e-06 - iou: 0.8992 - iou_thresholded: 0.9382 - val_loss: 7.3358e-05 - val_iou: 0.8521 - val_iou_thresholded: 0.8725\n",
      "Epoch 157/200\n",
      "680/680 [==============================] - 302s 445ms/step - loss: 2.2783e-06 - iou: 0.8962 - iou_thresholded: 0.9365 - val_loss: 6.7215e-05 - val_iou: 0.8374 - val_iou_thresholded: 0.8621\n",
      "Epoch 158/200\n",
      "680/680 [==============================] - 302s 445ms/step - loss: 2.1469e-06 - iou: 0.9021 - iou_thresholded: 0.9403 - val_loss: 6.4880e-05 - val_iou: 0.8487 - val_iou_thresholded: 0.8705\n",
      "Epoch 159/200\n",
      "680/680 [==============================] - 302s 445ms/step - loss: 2.0312e-06 - iou: 0.9083 - iou_thresholded: 0.9461 - val_loss: 7.3874e-05 - val_iou: 0.8277 - val_iou_thresholded: 0.8985\n",
      "Epoch 160/200\n",
      "680/680 [==============================] - 302s 445ms/step - loss: 2.8937e-06 - iou: 0.8318 - iou_thresholded: 0.8968 - val_loss: 6.3537e-05 - val_iou: 0.8055 - val_iou_thresholded: 0.8369\n",
      "Epoch 161/200\n",
      "680/680 [==============================] - 302s 445ms/step - loss: 3.1572e-06 - iou: 0.8393 - iou_thresholded: 0.9043 - val_loss: 5.4578e-05 - val_iou: 0.8394 - val_iou_thresholded: 0.8765\n",
      "Epoch 162/200\n"
     ]
    },
    {
     "name": "stdout",
     "output_type": "stream",
     "text": [
      "680/680 [==============================] - 302s 445ms/step - loss: 2.3477e-06 - iou: 0.8811 - iou_thresholded: 0.9324 - val_loss: 7.5041e-05 - val_iou: 0.8286 - val_iou_thresholded: 0.8561\n",
      "Epoch 163/200\n",
      "680/680 [==============================] - 302s 445ms/step - loss: 2.2337e-06 - iou: 0.8893 - iou_thresholded: 0.9394 - val_loss: 7.8190e-05 - val_iou: 0.8335 - val_iou_thresholded: 0.8536\n",
      "Epoch 164/200\n",
      "680/680 [==============================] - 302s 445ms/step - loss: 2.0704e-06 - iou: 0.8979 - iou_thresholded: 0.9370 - val_loss: 7.5160e-05 - val_iou: 0.7944 - val_iou_thresholded: 0.8421\n",
      "Epoch 165/200\n",
      "680/680 [==============================] - 302s 445ms/step - loss: 1.9470e-06 - iou: 0.9013 - iou_thresholded: 0.9428 - val_loss: 7.2397e-05 - val_iou: 0.8527 - val_iou_thresholded: 0.8735\n",
      "Epoch 166/200\n",
      "680/680 [==============================] - 302s 445ms/step - loss: 1.8082e-06 - iou: 0.9049 - iou_thresholded: 0.9418 - val_loss: 7.4411e-05 - val_iou: 0.8006 - val_iou_thresholded: 0.8269\n",
      "Epoch 167/200\n",
      "680/680 [==============================] - 302s 445ms/step - loss: 1.7593e-06 - iou: 0.9142 - iou_thresholded: 0.9517 - val_loss: 7.4195e-05 - val_iou: 0.8574 - val_iou_thresholded: 0.8749\n",
      "Epoch 168/200\n",
      "680/680 [==============================] - 302s 445ms/step - loss: 1.8405e-06 - iou: 0.9157 - iou_thresholded: 0.9485 - val_loss: 7.7473e-05 - val_iou: 0.8201 - val_iou_thresholded: 0.8455\n",
      "Epoch 169/200\n",
      "680/680 [==============================] - 302s 445ms/step - loss: 1.8036e-06 - iou: 0.9175 - iou_thresholded: 0.9511 - val_loss: 6.8182e-05 - val_iou: 0.8414 - val_iou_thresholded: 0.8537\n",
      "Epoch 170/200\n",
      "680/680 [==============================] - 302s 444ms/step - loss: 2.1812e-06 - iou: 0.8977 - iou_thresholded: 0.9353 - val_loss: 7.0393e-05 - val_iou: 0.8279 - val_iou_thresholded: 0.8552\n",
      "Epoch 171/200\n",
      "680/680 [==============================] - 302s 445ms/step - loss: 1.7776e-06 - iou: 0.9147 - iou_thresholded: 0.9521 - val_loss: 6.9125e-05 - val_iou: 0.8489 - val_iou_thresholded: 0.8713\n",
      "Epoch 172/200\n",
      "680/680 [==============================] - 302s 445ms/step - loss: 1.5914e-06 - iou: 0.9221 - iou_thresholded: 0.9546 - val_loss: 7.1408e-05 - val_iou: 0.8503 - val_iou_thresholded: 0.8654\n",
      "Epoch 173/200\n",
      "680/680 [==============================] - 302s 445ms/step - loss: 1.5759e-06 - iou: 0.9193 - iou_thresholded: 0.9514 - val_loss: 6.7125e-05 - val_iou: 0.8367 - val_iou_thresholded: 0.8678\n",
      "Epoch 174/200\n",
      "680/680 [==============================] - 302s 445ms/step - loss: 1.6512e-06 - iou: 0.9207 - iou_thresholded: 0.9534 - val_loss: 7.3092e-05 - val_iou: 0.8482 - val_iou_thresholded: 0.8617\n",
      "Epoch 175/200\n",
      "680/680 [==============================] - 302s 445ms/step - loss: 7.2346e-06 - iou: 0.7486 - iou_thresholded: 0.8492 - val_loss: 3.4529e-05 - val_iou: 0.7638 - val_iou_thresholded: 0.8711\n",
      "Epoch 176/200\n",
      "680/680 [==============================] - 302s 445ms/step - loss: 4.3093e-06 - iou: 0.7148 - iou_thresholded: 0.8517 - val_loss: 3.1394e-05 - val_iou: 0.7608 - val_iou_thresholded: 0.8519\n",
      "Epoch 177/200\n",
      "680/680 [==============================] - 302s 445ms/step - loss: 2.8010e-06 - iou: 0.8319 - iou_thresholded: 0.9213 - val_loss: 4.1057e-05 - val_iou: 0.8099 - val_iou_thresholded: 0.8500\n",
      "Epoch 178/200\n",
      "680/680 [==============================] - 302s 445ms/step - loss: 2.5380e-06 - iou: 0.8707 - iou_thresholded: 0.9327 - val_loss: 5.0192e-05 - val_iou: 0.8143 - val_iou_thresholded: 0.8517\n",
      "Epoch 179/200\n",
      "680/680 [==============================] - 302s 445ms/step - loss: 1.9750e-06 - iou: 0.8822 - iou_thresholded: 0.9399 - val_loss: 5.5071e-05 - val_iou: 0.8338 - val_iou_thresholded: 0.8533\n",
      "Epoch 180/200\n",
      "680/680 [==============================] - 303s 445ms/step - loss: 1.8349e-06 - iou: 0.8996 - iou_thresholded: 0.9468 - val_loss: 5.7155e-05 - val_iou: 0.8279 - val_iou_thresholded: 0.8504\n",
      "Epoch 181/200\n",
      "680/680 [==============================] - 302s 445ms/step - loss: 2.0628e-06 - iou: 0.8818 - iou_thresholded: 0.9369 - val_loss: 5.3983e-05 - val_iou: 0.8445 - val_iou_thresholded: 0.8664\n",
      "Epoch 182/200\n",
      "680/680 [==============================] - 302s 444ms/step - loss: 1.6573e-06 - iou: 0.9137 - iou_thresholded: 0.9535 - val_loss: 5.3833e-05 - val_iou: 0.8422 - val_iou_thresholded: 0.8643\n",
      "Epoch 183/200\n",
      "680/680 [==============================] - 302s 445ms/step - loss: 1.6344e-06 - iou: 0.9135 - iou_thresholded: 0.9504 - val_loss: 5.3692e-05 - val_iou: 0.8450 - val_iou_thresholded: 0.8668\n",
      "Epoch 184/200\n",
      "680/680 [==============================] - 302s 445ms/step - loss: 1.7061e-06 - iou: 0.9096 - iou_thresholded: 0.9460 - val_loss: 6.0833e-05 - val_iou: 0.8455 - val_iou_thresholded: 0.8659\n",
      "Epoch 185/200\n",
      "680/680 [==============================] - 302s 445ms/step - loss: 1.5541e-06 - iou: 0.9239 - iou_thresholded: 0.9569 - val_loss: 6.2815e-05 - val_iou: 0.8504 - val_iou_thresholded: 0.8652\n",
      "Epoch 186/200\n",
      "680/680 [==============================] - 302s 445ms/step - loss: 1.4014e-06 - iou: 0.9314 - iou_thresholded: 0.9627 - val_loss: 7.0346e-05 - val_iou: 0.8399 - val_iou_thresholded: 0.8625\n",
      "Epoch 187/200\n",
      "680/680 [==============================] - 302s 445ms/step - loss: 1.3921e-06 - iou: 0.9371 - iou_thresholded: 0.9660 - val_loss: 7.4843e-05 - val_iou: 0.8494 - val_iou_thresholded: 0.8654\n",
      "Epoch 188/200\n",
      "680/680 [==============================] - 302s 444ms/step - loss: 1.5185e-06 - iou: 0.9219 - iou_thresholded: 0.9599 - val_loss: 7.4458e-05 - val_iou: 0.8456 - val_iou_thresholded: 0.8575\n",
      "Epoch 189/200\n",
      "680/680 [==============================] - 302s 445ms/step - loss: 1.4598e-06 - iou: 0.9328 - iou_thresholded: 0.9607 - val_loss: 7.3816e-05 - val_iou: 0.8557 - val_iou_thresholded: 0.8696\n",
      "Epoch 190/200\n",
      "680/680 [==============================] - 302s 444ms/step - loss: 1.5162e-06 - iou: 0.9213 - iou_thresholded: 0.9556 - val_loss: 7.2793e-05 - val_iou: 0.8312 - val_iou_thresholded: 0.8450\n",
      "Epoch 191/200\n",
      "680/680 [==============================] - 302s 444ms/step - loss: 1.3253e-06 - iou: 0.9254 - iou_thresholded: 0.9580 - val_loss: 7.2595e-05 - val_iou: 0.8432 - val_iou_thresholded: 0.8579\n",
      "Epoch 192/200\n",
      "680/680 [==============================] - 302s 445ms/step - loss: 1.1423e-06 - iou: 0.9432 - iou_thresholded: 0.9683 - val_loss: 7.8102e-05 - val_iou: 0.8426 - val_iou_thresholded: 0.8618\n",
      "Epoch 193/200\n",
      "680/680 [==============================] - 302s 445ms/step - loss: 1.1638e-06 - iou: 0.9463 - iou_thresholded: 0.9689 - val_loss: 7.9793e-05 - val_iou: 0.8503 - val_iou_thresholded: 0.8594\n",
      "Epoch 194/200\n",
      "680/680 [==============================] - 302s 444ms/step - loss: 1.0697e-06 - iou: 0.9503 - iou_thresholded: 0.9729 - val_loss: 8.1560e-05 - val_iou: 0.8482 - val_iou_thresholded: 0.8592\n",
      "Epoch 195/200\n",
      "680/680 [==============================] - 302s 445ms/step - loss: 1.0557e-06 - iou: 0.9501 - iou_thresholded: 0.9706 - val_loss: 8.1150e-05 - val_iou: 0.8530 - val_iou_thresholded: 0.8624\n",
      "Epoch 196/200\n",
      "680/680 [==============================] - 302s 445ms/step - loss: 1.1039e-06 - iou: 0.9504 - iou_thresholded: 0.9695 - val_loss: 7.8166e-05 - val_iou: 0.8390 - val_iou_thresholded: 0.8539\n",
      "Epoch 197/200\n",
      "680/680 [==============================] - 302s 444ms/step - loss: 1.7857e-06 - iou: 0.9058 - iou_thresholded: 0.9438 - val_loss: 7.1149e-05 - val_iou: 0.8398 - val_iou_thresholded: 0.8532\n",
      "Epoch 198/200\n",
      "680/680 [==============================] - 302s 444ms/step - loss: 1.0476e-06 - iou: 0.9446 - iou_thresholded: 0.9704 - val_loss: 7.9755e-05 - val_iou: 0.8528 - val_iou_thresholded: 0.8646\n",
      "Epoch 199/200\n",
      "680/680 [==============================] - 302s 445ms/step - loss: 1.0083e-06 - iou: 0.9551 - iou_thresholded: 0.9761 - val_loss: 7.9770e-05 - val_iou: 0.8524 - val_iou_thresholded: 0.8672\n",
      "Epoch 200/200\n",
      "680/680 [==============================] - 302s 445ms/step - loss: 1.5493e-06 - iou: 0.9269 - iou_thresholded: 0.9541 - val_loss: 8.1016e-05 - val_iou: 0.8462 - val_iou_thresholded: 0.8584\n"
     ]
    }
   ],
   "source": [
    "model, history = C.Helper.train_unet(X_train_set, y_train_set, X_val, y_val, model, epochs=200)"
   ]
  },
  {
   "cell_type": "code",
   "execution_count": 36,
   "id": "7bc51703",
   "metadata": {},
   "outputs": [
    {
     "data": {
      "image/png": "[encoded data removed]",
      "text/plain": [
       "<Figure size 864x432 with 1 Axes>"
      ]
     },
     "metadata": {
      "needs_background": "light"
     },
     "output_type": "display_data"
    },
    {
     "data": {
      "image/png": "[encoded data removed]",
      "text/plain": [
       "<Figure size 864x432 with 1 Axes>"
      ]
     },
     "metadata": {
      "needs_background": "light"
     },
     "output_type": "display_data"
    }
   ],
   "source": [
    "C.Helper.visualize_graph(history)"
   ]
  },
  {
   "cell_type": "code",
   "execution_count": null,
   "id": "2b9f9190",
   "metadata": {},
   "outputs": [],
   "source": [
    "y_pred = C.Helper.prediction(test_images_array, model)"
   ]
  },
  {
   "cell_type": "code",
   "execution_count": null,
   "id": "85b46673",
   "metadata": {
    "scrolled": true
   },
   "outputs": [],
   "source": [
    "C.Helper.visualize_result(test_images_array, y_test, y_pred)"
   ]
  },
  {
   "cell_type": "code",
   "execution_count": null,
   "id": "9a236ee4",
   "metadata": {},
   "outputs": [],
   "source": [
    "C.Helper.evaluate(test_images_array, y_test, model)"
   ]
  },
  {
   "cell_type": "code",
   "execution_count": null,
   "id": "f18f18a7",
   "metadata": {},
   "outputs": [],
   "source": []
  },
  {
   "cell_type": "code",
   "execution_count": null,
   "id": "9633f74e",
   "metadata": {},
   "outputs": [],
   "source": []
  },
  {
   "cell_type": "code",
   "execution_count": null,
   "id": "230dbf69",
   "metadata": {},
   "outputs": [],
   "source": []
  },
  {
   "cell_type": "code",
   "execution_count": null,
   "id": "91bf77f5",
   "metadata": {},
   "outputs": [],
   "source": []
  },
  {
   "cell_type": "code",
   "execution_count": null,
   "id": "5bf8aa51",
   "metadata": {},
   "outputs": [],
   "source": []
  },
  {
   "cell_type": "code",
   "execution_count": null,
   "id": "5e73cc60",
   "metadata": {},
   "outputs": [],
   "source": []
  },
  {
   "cell_type": "code",
   "execution_count": null,
   "id": "da3bb108",
   "metadata": {},
   "outputs": [],
   "source": []
  },
  {
   "cell_type": "code",
   "execution_count": null,
   "id": "2e3df05d",
   "metadata": {},
   "outputs": [],
   "source": []
  }
 ],
 "metadata": {
  "kernelspec": {
   "display_name": "Python 3 (ipykernel)",
   "language": "python",
   "name": "python3"
  },
  "language_info": {
   "codemirror_mode": {
    "name": "ipython",
    "version": 3
   },
   "file_extension": ".py",
   "mimetype": "text/x-python",
   "name": "python",
   "nbconvert_exporter": "python",
   "pygments_lexer": "ipython3",
   "version": "3.9.7"
  }
 },
 "nbformat": 4,
 "nbformat_minor": 5
}
