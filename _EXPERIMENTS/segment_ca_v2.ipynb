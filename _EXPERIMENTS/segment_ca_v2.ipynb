{
 "cells": [
  {
   "cell_type": "code",
   "execution_count": 1,
   "id": "262e1517",
   "metadata": {},
   "outputs": [],
   "source": [
    "import itk\n",
    "import numpy as np\n",
    "import matplotlib.pyplot as plt"
   ]
  },
  {
   "cell_type": "code",
   "execution_count": null,
   "id": "b895238b",
   "metadata": {},
   "outputs": [],
   "source": []
  },
  {
   "cell_type": "code",
   "execution_count": 2,
   "id": "ec077a04",
   "metadata": {},
   "outputs": [],
   "source": [
    "input_image_path = '/home/jiehyun.kim001/Desktop/62.img.nrrd'\n",
    "mask_image_path = '/home/jiehyun.kim001/Desktop/ca/Scene/carotid_artery.seg.nrrd'"
   ]
  },
  {
   "cell_type": "code",
   "execution_count": 3,
   "id": "179c9e24",
   "metadata": {},
   "outputs": [],
   "source": [
    "# Define other parameters\n",
    "initial_distance = 0.5  # Example value\n",
    "sigma = 1.0  # Example value\n",
    "sigmoid_alpha = -0.3  # Example value\n",
    "sigmoid_beta = 2.0  # Example value\n",
    "propagation_scaling = 1.0  # Example value\n",
    "number_of_iterations = 200  # Example value"
   ]
  },
  {
   "cell_type": "code",
   "execution_count": 4,
   "id": "5dbe0348",
   "metadata": {},
   "outputs": [],
   "source": [
    "# Define Image Types\n",
    "Dimension = 3\n",
    "InputPixelType = itk.F\n",
    "InputImageType = itk.Image[InputPixelType, Dimension]"
   ]
  },
  {
   "cell_type": "code",
   "execution_count": 5,
   "id": "0e10b3db",
   "metadata": {},
   "outputs": [],
   "source": [
    "# Define the OutputPixelType, e.g., for a binary image\n",
    "OutputPixelType = itk.UC  # Unsigned char, commonly used for binary images\n",
    "OutputImageType = itk.Image[OutputPixelType, Dimension]"
   ]
  },
  {
   "cell_type": "code",
   "execution_count": 6,
   "id": "85067840",
   "metadata": {},
   "outputs": [],
   "source": [
    "# Readers and Writers\n",
    "ReaderType = itk.ImageFileReader[InputImageType]\n",
    "reader = ReaderType.New()\n",
    "reader.SetFileName(input_image_path)\n",
    "reader.Update()\n",
    "original_image = reader.GetOutput()"
   ]
  },
  {
   "cell_type": "code",
   "execution_count": 7,
   "id": "3c2b6447",
   "metadata": {},
   "outputs": [],
   "source": [
    "# Setup mask reader and extract seeds\n",
    "maskReader = itk.ImageFileReader[InputImageType].New()\n",
    "maskReader.SetFileName(mask_image_path)\n",
    "maskReader.Update()\n",
    "maskImage = maskReader.GetOutput()\n",
    "npMask = itk.GetArrayFromImage(maskImage)\n",
    "seedPositions = np.argwhere(npMask)"
   ]
  },
  {
   "cell_type": "code",
   "execution_count": 8,
   "id": "61e3a3c9",
   "metadata": {},
   "outputs": [],
   "source": [
    "# Setup for Fast Marching\n",
    "FastMarchingFilterType = itk.FastMarchingImageFilter[InputImageType, InputImageType]\n",
    "fastMarching = FastMarchingFilterType.New()\n",
    "fastMarching.SetInput(original_image)"
   ]
  },
  {
   "cell_type": "code",
   "execution_count": 9,
   "id": "d0864383",
   "metadata": {},
   "outputs": [],
   "source": [
    "# Set the trial points (seeds)\n",
    "TrialPointContainerType = itk.VectorContainer[itk.UI, itk.LevelSetNode[InputPixelType, Dimension]]\n",
    "trialPoints = TrialPointContainerType.New()\n",
    "trialPoints.Initialize()"
   ]
  },
  {
   "cell_type": "code",
   "execution_count": 10,
   "id": "bb4cd65c",
   "metadata": {},
   "outputs": [],
   "source": [
    "seedValue = -initial_distance\n",
    "for idx, seed in enumerate(seedPositions):\n",
    "    seedPosition = itk.Index[Dimension]()\n",
    "    seedPosition.SetElement(0, int(seed[1]))  # Adjust index order if necessary\n",
    "    seedPosition.SetElement(1, int(seed[0]))\n",
    "    node = itk.LevelSetNode[InputPixelType, Dimension]()\n",
    "    node.SetValue(seedValue)\n",
    "    node.SetIndex(seedPosition)\n",
    "    trialPoints.InsertElement(idx, node)"
   ]
  },
  {
   "cell_type": "code",
   "execution_count": 11,
   "id": "be6a59d6",
   "metadata": {},
   "outputs": [],
   "source": [
    "fastMarching.SetTrialPoints(trialPoints)\n",
    "fastMarching.SetSpeedConstant(1.0)\n",
    "fastMarching.Update() "
   ]
  },
  {
   "cell_type": "code",
   "execution_count": null,
   "id": "00f04454",
   "metadata": {},
   "outputs": [],
   "source": []
  },
  {
   "cell_type": "code",
   "execution_count": 12,
   "id": "1aabf779",
   "metadata": {},
   "outputs": [],
   "source": [
    "# Calculate Gradient Magnitude\n",
    "GradientFilterType = itk.GradientMagnitudeRecursiveGaussianImageFilter[InputImageType, InputImageType]\n",
    "gradientMagnitude = GradientFilterType.New()\n",
    "gradientMagnitude.SetSigma(sigma)\n",
    "gradientMagnitude.SetInput(fastMarching.GetOutput())  # Assuming 'reader' is your image reader\n",
    "gradientMagnitude.Update()\n",
    "\n",
    "# Apply Sigmoid Filter\n",
    "SigmoidFilterType = itk.SigmoidImageFilter[InputImageType, InputImageType]\n",
    "sigmoid = SigmoidFilterType.New()\n",
    "sigmoid.SetOutputMinimum(0.0)\n",
    "sigmoid.SetOutputMaximum(1.0)\n",
    "sigmoid.SetAlpha(sigmoid_alpha)\n",
    "sigmoid.SetBeta(sigmoid_beta)\n",
    "sigmoid.SetInput(gradientMagnitude.GetOutput())\n",
    "sigmoid.Update()"
   ]
  },
  {
   "cell_type": "code",
   "execution_count": null,
   "id": "24b410d9",
   "metadata": {},
   "outputs": [],
   "source": []
  },
  {
   "cell_type": "code",
   "execution_count": 13,
   "id": "fd7c3a57",
   "metadata": {},
   "outputs": [],
   "source": [
    "# Set up the Geodesic Active Contour Filter\n",
    "GeoActiveContourFilterType = itk.GeodesicActiveContourLevelSetImageFilter[\n",
    "    InputImageType, InputImageType, InputPixelType\n",
    "]\n",
    "geodesicActiveContour = GeoActiveContourFilterType.New()\n",
    "geodesicActiveContour.SetPropagationScaling(propagation_scaling)\n",
    "geodesicActiveContour.SetCurvatureScaling(1.0)\n",
    "geodesicActiveContour.SetAdvectionScaling(1.0)\n",
    "geodesicActiveContour.SetMaximumRMSError(0.02)\n",
    "geodesicActiveContour.SetNumberOfIterations(number_of_iterations)\n",
    "geodesicActiveContour.SetInput(fastMarching.GetOutput())\n",
    "geodesicActiveContour.SetFeatureImage(sigmoid.GetOutput())\n",
    "geodesicActiveContour.Update()"
   ]
  },
  {
   "cell_type": "code",
   "execution_count": null,
   "id": "ce36a5fa",
   "metadata": {},
   "outputs": [],
   "source": []
  },
  {
   "cell_type": "code",
   "execution_count": null,
   "id": "b52037e8",
   "metadata": {},
   "outputs": [],
   "source": []
  },
  {
   "cell_type": "code",
   "execution_count": 14,
   "id": "c36cb2f7",
   "metadata": {},
   "outputs": [],
   "source": [
    "# Thresholding to get the final segmented image\n",
    "ThresholdingFilterType = itk.BinaryThresholdImageFilter[InputImageType, OutputImageType]\n",
    "thresholder = ThresholdingFilterType.New()\n",
    "thresholder.SetLowerThreshold(60)\n",
    "thresholder.SetUpperThreshold(70)\n",
    "thresholder.SetOutsideValue(itk.NumericTraits[OutputPixelType].min())\n",
    "thresholder.SetInsideValue(itk.NumericTraits[OutputPixelType].max())\n",
    "thresholder.SetInput(geodesicActiveContour.GetOutput())\n",
    "thresholder.Update()"
   ]
  },
  {
   "cell_type": "code",
   "execution_count": 15,
   "id": "df73359c",
   "metadata": {},
   "outputs": [],
   "source": [
    "output = thresholder.GetOutput()"
   ]
  },
  {
   "cell_type": "code",
   "execution_count": 16,
   "id": "b13a2a77",
   "metadata": {},
   "outputs": [
    {
     "data": {
      "text/plain": [
       "(268, 512, 512)"
      ]
     },
     "execution_count": 16,
     "metadata": {},
     "output_type": "execute_result"
    }
   ],
   "source": [
    "output.shape"
   ]
  },
  {
   "cell_type": "code",
   "execution_count": 17,
   "id": "1d0f145b",
   "metadata": {},
   "outputs": [],
   "source": [
    "segmentation_array = itk.GetArrayFromImage(output)"
   ]
  },
  {
   "cell_type": "code",
   "execution_count": null,
   "id": "3d58ecd0",
   "metadata": {},
   "outputs": [],
   "source": []
  },
  {
   "cell_type": "code",
   "execution_count": 18,
   "id": "ccb48e6c",
   "metadata": {},
   "outputs": [
    {
     "data": {
      "image/png": "[encoded data removed]",
      "text/plain": [
       "<Figure size 432x288 with 1 Axes>"
      ]
     },
     "metadata": {
      "needs_background": "light"
     },
     "output_type": "display_data"
    }
   ],
   "source": [
    "plt.imshow(segmentation_array[34,:,:])\n",
    "plt.show()"
   ]
  },
  {
   "cell_type": "code",
   "execution_count": null,
   "id": "1599923b",
   "metadata": {},
   "outputs": [],
   "source": []
  },
  {
   "cell_type": "code",
   "execution_count": 19,
   "id": "4822c4d9",
   "metadata": {},
   "outputs": [],
   "source": [
    "#for i in range(output.shape[0]):\n",
    "#    plt.imshow(segmentation_array[i,:,:])\n",
    "#    plt.show()"
   ]
  },
  {
   "cell_type": "code",
   "execution_count": null,
   "id": "c5fd48af",
   "metadata": {},
   "outputs": [],
   "source": []
  }
 ],
 "metadata": {
  "kernelspec": {
   "display_name": "Python 3",
   "language": "python",
   "name": "python3"
  },
  "language_info": {
   "codemirror_mode": {
    "name": "ipython",
    "version": 3
   },
   "file_extension": ".py",
   "mimetype": "text/x-python",
   "name": "python",
   "nbconvert_exporter": "python",
   "pygments_lexer": "ipython3",
   "version": "3.6.1"
  }
 },
 "nbformat": 4,
 "nbformat_minor": 5
}
