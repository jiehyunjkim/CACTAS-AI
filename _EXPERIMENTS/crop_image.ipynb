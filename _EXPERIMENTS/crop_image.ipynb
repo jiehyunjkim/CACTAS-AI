{
 "cells": [
  {
   "cell_type": "code",
   "execution_count": 1,
   "id": "caa237dd-cd2b-44c1-8358-a58aaeea2571",
   "metadata": {},
   "outputs": [
    {
     "name": "stdout",
     "output_type": "stream",
     "text": [
      "%pylab is deprecated, use %matplotlib inline and import the required libraries.\n",
      "Populating the interactive namespace from numpy and matplotlib\n"
     ]
    }
   ],
   "source": [
    "%pylab inline\n",
    "%load_ext autoreload\n",
    "%autoreload 2"
   ]
  },
  {
   "cell_type": "code",
   "execution_count": 2,
   "id": "0a122c2e-a3c9-42c8-8d1f-fbca9bcc864d",
   "metadata": {},
   "outputs": [],
   "source": [
    "import cactas as C"
   ]
  },
  {
   "cell_type": "code",
   "execution_count": 3,
   "id": "80039032-0370-414a-a8c2-4e68fef00b01",
   "metadata": {},
   "outputs": [],
   "source": [
    "import torch\n",
    "from torchvision import models\n",
    "from torchvision.transforms import transforms\n",
    "from monai.networks.nets import UNet"
   ]
  },
  {
   "cell_type": "code",
   "execution_count": 4,
   "id": "bcdc388b-b79c-4654-bfb8-6d5bcdcb6dee",
   "metadata": {},
   "outputs": [],
   "source": [
    "import SimpleITK as sitk\n",
    "from matplotlib import pyplot as plt\n",
    "import matplotlib.patches as patches"
   ]
  },
  {
   "cell_type": "code",
   "execution_count": 5,
   "id": "27d9869e-5d2d-4a88-b8df-660ae526b245",
   "metadata": {},
   "outputs": [],
   "source": [
    "import os"
   ]
  },
  {
   "cell_type": "code",
   "execution_count": null,
   "id": "9dc0bb8e-9119-40d8-aec0-a08f97976725",
   "metadata": {},
   "outputs": [],
   "source": []
  },
  {
   "cell_type": "code",
   "execution_count": 6,
   "id": "2049d6fc-7fbb-4eca-bce1-88ac22c89af1",
   "metadata": {},
   "outputs": [],
   "source": [
    "def load_seed(seed_image_path, cta_image):\n",
    "    seed_image = sitk.ReadImage(seed_image_path)\n",
    "    seed_indices = sitk.GetArrayFromImage(seed_image)\n",
    "    seeds = list(zip(*seed_indices.nonzero()))\n",
    "    seeds = [tuple(int(x) for x in seed) for seed in seeds]\n",
    "    seeds = [(seed[2], seed[1], seed[0]) for seed in seeds]\n",
    "\n",
    "    intensity_values = []\n",
    "    for seed in seeds:\n",
    "        # Extract a small region around the seed point\n",
    "        region_radius = [1, 1, 1]  # Define the size of the region around the seed point\n",
    "        region = sitk.RegionOfInterest(cta_image, region_radius, seed)\n",
    "        region_array = sitk.GetArrayFromImage(region)\n",
    "\n",
    "        # Collect all intensity values of the region\n",
    "        intensity_values.extend(region_array.flatten())\n",
    "\n",
    "    return seeds, intensity_values"
   ]
  },
  {
   "cell_type": "code",
   "execution_count": 7,
   "id": "73f13ae4-1352-4cd9-be18-72e27cee1e0a",
   "metadata": {},
   "outputs": [],
   "source": [
    "def get_point(seeds_list, target):\n",
    "    # Target value to find in the last position of the tuples\n",
    "    target = target\n",
    "\n",
    "    # Variable to keep track of the closest number and its tuple\n",
    "    closest_tuple = None\n",
    "    closest_difference = float('inf')  # Initialize with a high value\n",
    "\n",
    "    # Iterate through the list\n",
    "    for tpl in seeds_list:\n",
    "        # Check if the last element is exactly 45\n",
    "        if tpl[-1] == target:\n",
    "            return tpl\n",
    "            break\n",
    "        # If not, check if this tuple is closer to 45 than previous ones\n",
    "        else:\n",
    "            difference = abs(tpl[-1] - target)\n",
    "            if difference < closest_difference:\n",
    "                closest_difference = difference\n",
    "                closest_tuple = tpl\n",
    "    else:\n",
    "        return closest_tuple"
   ]
  },
  {
   "cell_type": "code",
   "execution_count": 8,
   "id": "218b5ad4-5d62-4f4b-aa35-ead896d09dd8",
   "metadata": {},
   "outputs": [],
   "source": [
    "def get_middle(seeds_list):\n",
    "    z_values = [tpl[2] for tpl in seeds_list]\n",
    "\n",
    "    # Sort z-values\n",
    "    z_values_sorted = sorted(z_values)\n",
    "\n",
    "    # Find the middle value\n",
    "    n = len(z_values_sorted)\n",
    "    if n % 2 == 1:\n",
    "        # If odd, select the middle value\n",
    "        middle_value = z_values_sorted[n // 2]\n",
    "    else:\n",
    "        # If even, you can choose to average the two middle values or select one\n",
    "        # Here, we simply select the lower middle value (as an example)\n",
    "        middle_value = z_values_sorted[n // 2 - 1]\n",
    "\n",
    "    return middle_value"
   ]
  },
  {
   "cell_type": "code",
   "execution_count": null,
   "id": "a50c3d2e-ba88-4bde-b8ef-cd17bc7a268d",
   "metadata": {},
   "outputs": [],
   "source": []
  },
  {
   "cell_type": "code",
   "execution_count": null,
   "id": "f4b6cd08-bd4a-43ec-b876-fd0882c3c6b4",
   "metadata": {},
   "outputs": [],
   "source": []
  },
  {
   "cell_type": "code",
   "execution_count": 9,
   "id": "f0b355f3-b7d4-4b4c-b240-6a795398b27c",
   "metadata": {},
   "outputs": [],
   "source": [
    "DATAPATH='/raid/mpsych/CACTAS/DATA/ESUS/'\n",
    "TS_PATH='/raid/mpsych/CACTAS/DATA/TS/'"
   ]
  },
  {
   "cell_type": "code",
   "execution_count": 10,
   "id": "7c8421d6-f7e4-424b-8f21-3d1bc9cb57f1",
   "metadata": {},
   "outputs": [],
   "source": [
    "images, labels = C.Helper.load_data(DATAPATH)"
   ]
  },
  {
   "cell_type": "code",
   "execution_count": null,
   "id": "cf171ab5-3b09-4fc1-b852-9a41fceb3306",
   "metadata": {},
   "outputs": [],
   "source": []
  },
  {
   "cell_type": "code",
   "execution_count": 11,
   "id": "7c26632b-6ebe-4c05-b296-12eff6dda8c4",
   "metadata": {},
   "outputs": [
    {
     "data": {
      "text/plain": [
       "'5.img.nrrd'"
      ]
     },
     "execution_count": 11,
     "metadata": {},
     "output_type": "execute_result"
    }
   ],
   "source": [
    "images[0]"
   ]
  },
  {
   "cell_type": "code",
   "execution_count": 12,
   "id": "6457e7fc-6942-4b82-8d86-d8c715fd59d7",
   "metadata": {},
   "outputs": [],
   "source": [
    "l_crop = []\n",
    "r_crop = []"
   ]
  },
  {
   "cell_type": "code",
   "execution_count": 13,
   "id": "52133322-7665-41ea-a469-d3da3665cff2",
   "metadata": {},
   "outputs": [],
   "source": [
    "#for image in images:\n",
    "num = images[3].split(\".\")[0]\n",
    "\n",
    "cta_image_path = os.path.join(DATAPATH, images[3])\n",
    "cta_image = sitk.ReadImage(cta_image_path)\n",
    "cta_image_array = sitk.GetArrayFromImage(cta_image)\n",
    "\n",
    "seed_image_path_left = os.path.join(TS_PATH + \"/\" + num, f\"common_carotid_artery_left.nii.gz\")\n",
    "seed_image_path_right = os.path.join(TS_PATH+ \"/\" + num, f\"common_carotid_artery_right.nii.gz\")\n",
    "\n",
    "seeds_left, intensities_left = load_seed(seed_image_path_left, cta_image)\n",
    "seeds_right, intensities_right = load_seed(seed_image_path_right, cta_image)\n",
    "\n",
    "seeds = seeds_left + seeds_right\n",
    "intensity_values = intensities_left + intensities_right\n",
    "\n",
    "middle_l = get_middle(seeds_left)\n",
    "middle_r = get_middle(seeds_right)\n",
    "\n",
    "point_l = get_point(seeds_left, middle_l)\n",
    "point_r = get_point(seeds_right, middle_r)\n",
    "\n",
    "boxx = 144\n",
    "boxy = 144\n",
    "boxz = 248"
   ]
  },
  {
   "cell_type": "code",
   "execution_count": 14,
   "id": "bae7ffe4-a7dd-49d2-a868-7f4bb0259823",
   "metadata": {},
   "outputs": [],
   "source": [
    "cropped_img_l = cta_image_array[point_l[2]:point_l[2] + boxz, point_l[1] - boxy//2 :point_l[1] + boxy//2, point_l[0] - boxx//2 : point_l[0] + boxx//2]\n",
    "cropped_img_r = cta_image_array[point_r[2]:point_r[2] + boxz, point_r[1] - boxy//2 :point_r[1] + boxy//2, point_r[0] - boxx//2 : point_r[0] + boxx//2]\n",
    "\n",
    "l_crop.append(cropped_img_l)\n",
    "r_crop.append(cropped_img_r)"
   ]
  },
  {
   "cell_type": "code",
   "execution_count": 15,
   "id": "f87fb4f2-8d53-4587-8ebf-2701e570f672",
   "metadata": {},
   "outputs": [
    {
     "data": {
      "text/plain": [
       "((289, 221, 34), (234, 207, 45))"
      ]
     },
     "execution_count": 15,
     "metadata": {},
     "output_type": "execute_result"
    }
   ],
   "source": [
    "point_l, point_r"
   ]
  },
  {
   "cell_type": "code",
   "execution_count": 16,
   "id": "14bada4e-a8a3-46b5-b9ff-f805321498ee",
   "metadata": {},
   "outputs": [
    {
     "data": {
      "text/plain": [
       "((194, 144, 144), (183, 144, 144))"
      ]
     },
     "execution_count": 16,
     "metadata": {},
     "output_type": "execute_result"
    }
   ],
   "source": [
    "l_crop[0].shape, r_crop[0].shape"
   ]
  },
  {
   "cell_type": "code",
   "execution_count": 17,
   "id": "98d1ecfa-0b64-49bc-842b-778ef27d849c",
   "metadata": {},
   "outputs": [
    {
     "data": {
      "text/plain": [
       "(228, 512, 512)"
      ]
     },
     "execution_count": 17,
     "metadata": {},
     "output_type": "execute_result"
    }
   ],
   "source": [
    "cta_image_array.shape"
   ]
  },
  {
   "cell_type": "code",
   "execution_count": 18,
   "id": "163708d6-8134-4eec-ade3-e69eaf79be01",
   "metadata": {},
   "outputs": [],
   "source": [
    "#for i in range(l_crop[0].shape[0]):\n",
    "#    plt.imshow(l_crop[0][i,:,:])\n",
    "#    plt.show()"
   ]
  },
  {
   "cell_type": "code",
   "execution_count": 19,
   "id": "3adf34e8-9194-4205-95dd-e17559c1f1c2",
   "metadata": {},
   "outputs": [],
   "source": [
    "#for i in range(r_crop[0].shape[0]):\n",
    "#    plt.imshow(r_crop[0][i,:,:])\n",
    "#    plt.show()"
   ]
  },
  {
   "cell_type": "code",
   "execution_count": null,
   "id": "29cddf5d-4ff6-4094-9b59-bc40ef3d8680",
   "metadata": {},
   "outputs": [],
   "source": []
  },
  {
   "cell_type": "code",
   "execution_count": 20,
   "id": "81cb458b-6976-4b41-ac31-a649bca9111b",
   "metadata": {},
   "outputs": [],
   "source": [
    "def pad(image):\n",
    "    maxX = 144\n",
    "    maxY = 144\n",
    "    maxZ = 200\n",
    "    slicecount = 0\n",
    "    \n",
    "    padded_images = np.zeros((slicecount, maxZ ,maxX, maxY), dtype=image[0].dtype)\n",
    "\n",
    "    img = image\n",
    "    \n",
    "        \n",
    "    # Calculate the amount of padding needed\n",
    "    pad_x = maxX - img.shape[1]\n",
    "    pad_y = maxY - img.shape[2]\n",
    "    pad_z = maxZ - img.shape[0]\n",
    "    print(\"-----------------------\")\n",
    "    print(pad_x)\n",
    "    print(pad_z)\n",
    "        \n",
    "        # Pad the image and label\n",
    "    padded_img = np.pad(img, ((0, pad_z), (0, pad_x), (0, pad_y)), 'constant')\n",
    "    \n",
    "    print(\"-----------------------\")\n",
    "    #print(padded_img)\n",
    "    padded_images = padded_img\n",
    "    \n",
    "        \n",
    "    return padded_images"
   ]
  },
  {
   "cell_type": "code",
   "execution_count": 21,
   "id": "a64f922d-9712-478e-a7e3-1df2b5e99b81",
   "metadata": {},
   "outputs": [
    {
     "name": "stdout",
     "output_type": "stream",
     "text": [
      "-----------------------\n",
      "0\n",
      "6\n",
      "-----------------------\n"
     ]
    }
   ],
   "source": [
    "padded_image = pad(l_crop[0])"
   ]
  },
  {
   "cell_type": "code",
   "execution_count": 22,
   "id": "fc519c54-07be-4e85-a2f4-dff7395f09b9",
   "metadata": {},
   "outputs": [
    {
     "data": {
      "text/plain": [
       "(200, 144, 144)"
      ]
     },
     "execution_count": 22,
     "metadata": {},
     "output_type": "execute_result"
    }
   ],
   "source": [
    "padded_image.shape"
   ]
  },
  {
   "cell_type": "code",
   "execution_count": null,
   "id": "5cb48d94-1521-4e17-a8ae-d47552fd644b",
   "metadata": {},
   "outputs": [],
   "source": []
  },
  {
   "cell_type": "code",
   "execution_count": null,
   "id": "b920c74a-87b4-4f0e-9915-176e5b782df7",
   "metadata": {},
   "outputs": [],
   "source": []
  },
  {
   "cell_type": "code",
   "execution_count": null,
   "id": "09fbb67d-a72c-4fe1-a081-8f31e15090e5",
   "metadata": {},
   "outputs": [],
   "source": []
  },
  {
   "cell_type": "code",
   "execution_count": null,
   "id": "8aa78baa-4e46-40f5-8dee-bdf99eb4ee49",
   "metadata": {},
   "outputs": [],
   "source": []
  },
  {
   "cell_type": "code",
   "execution_count": null,
   "id": "d5b6237d-25d4-4311-ad50-d389822e005c",
   "metadata": {},
   "outputs": [],
   "source": []
  },
  {
   "cell_type": "code",
   "execution_count": 23,
   "id": "e4a47621-d685-49a4-824d-b739f2ff4faa",
   "metadata": {},
   "outputs": [],
   "source": [
    "device = torch.device(\"cuda\" if torch.cuda.is_available() else \"cpu\")"
   ]
  },
  {
   "cell_type": "code",
   "execution_count": 24,
   "id": "df97fdeb-2aa3-4184-9e06-2bb60c9da150",
   "metadata": {},
   "outputs": [],
   "source": [
    "weights = 'seg_model_weights.pth'"
   ]
  },
  {
   "cell_type": "code",
   "execution_count": 25,
   "id": "78d3c66e-17c5-4cab-a177-dc97b58f9c00",
   "metadata": {},
   "outputs": [],
   "source": [
    "model = UNet(spatial_dims=3,\n",
    "              in_channels=1,\n",
    "              out_channels=3,\n",
    "              channels=(16, 32, 64, 128),  \n",
    "              strides=(2, 2, 2),\n",
    "              num_res_units=3,\n",
    "              norm='INSTANCE',\n",
    "              ).to(device)"
   ]
  },
  {
   "cell_type": "code",
   "execution_count": 26,
   "id": "c66ef7df-1642-4376-b918-67d2f65ea7ed",
   "metadata": {},
   "outputs": [
    {
     "data": {
      "text/plain": [
       "<All keys matched successfully>"
      ]
     },
     "execution_count": 26,
     "metadata": {},
     "output_type": "execute_result"
    }
   ],
   "source": [
    "model.load_state_dict(torch.load(weights, map_location=device))"
   ]
  },
  {
   "cell_type": "code",
   "execution_count": 27,
   "id": "ac29122c-a1be-4f24-864d-ee4b6f4ac016",
   "metadata": {},
   "outputs": [
    {
     "data": {
      "text/plain": [
       "UNet(\n",
       "  (model): Sequential(\n",
       "    (0): ResidualUnit(\n",
       "      (conv): Sequential(\n",
       "        (unit0): Convolution(\n",
       "          (conv): Conv3d(1, 16, kernel_size=(3, 3, 3), stride=(2, 2, 2), padding=(1, 1, 1))\n",
       "          (adn): ADN(\n",
       "            (N): InstanceNorm3d(16, eps=1e-05, momentum=0.1, affine=False, track_running_stats=False)\n",
       "            (D): Dropout(p=0.0, inplace=False)\n",
       "            (A): PReLU(num_parameters=1)\n",
       "          )\n",
       "        )\n",
       "        (unit1): Convolution(\n",
       "          (conv): Conv3d(16, 16, kernel_size=(3, 3, 3), stride=(1, 1, 1), padding=(1, 1, 1))\n",
       "          (adn): ADN(\n",
       "            (N): InstanceNorm3d(16, eps=1e-05, momentum=0.1, affine=False, track_running_stats=False)\n",
       "            (D): Dropout(p=0.0, inplace=False)\n",
       "            (A): PReLU(num_parameters=1)\n",
       "          )\n",
       "        )\n",
       "        (unit2): Convolution(\n",
       "          (conv): Conv3d(16, 16, kernel_size=(3, 3, 3), stride=(1, 1, 1), padding=(1, 1, 1))\n",
       "          (adn): ADN(\n",
       "            (N): InstanceNorm3d(16, eps=1e-05, momentum=0.1, affine=False, track_running_stats=False)\n",
       "            (D): Dropout(p=0.0, inplace=False)\n",
       "            (A): PReLU(num_parameters=1)\n",
       "          )\n",
       "        )\n",
       "      )\n",
       "      (residual): Conv3d(1, 16, kernel_size=(3, 3, 3), stride=(2, 2, 2), padding=(1, 1, 1))\n",
       "    )\n",
       "    (1): SkipConnection(\n",
       "      (submodule): Sequential(\n",
       "        (0): ResidualUnit(\n",
       "          (conv): Sequential(\n",
       "            (unit0): Convolution(\n",
       "              (conv): Conv3d(16, 32, kernel_size=(3, 3, 3), stride=(2, 2, 2), padding=(1, 1, 1))\n",
       "              (adn): ADN(\n",
       "                (N): InstanceNorm3d(32, eps=1e-05, momentum=0.1, affine=False, track_running_stats=False)\n",
       "                (D): Dropout(p=0.0, inplace=False)\n",
       "                (A): PReLU(num_parameters=1)\n",
       "              )\n",
       "            )\n",
       "            (unit1): Convolution(\n",
       "              (conv): Conv3d(32, 32, kernel_size=(3, 3, 3), stride=(1, 1, 1), padding=(1, 1, 1))\n",
       "              (adn): ADN(\n",
       "                (N): InstanceNorm3d(32, eps=1e-05, momentum=0.1, affine=False, track_running_stats=False)\n",
       "                (D): Dropout(p=0.0, inplace=False)\n",
       "                (A): PReLU(num_parameters=1)\n",
       "              )\n",
       "            )\n",
       "            (unit2): Convolution(\n",
       "              (conv): Conv3d(32, 32, kernel_size=(3, 3, 3), stride=(1, 1, 1), padding=(1, 1, 1))\n",
       "              (adn): ADN(\n",
       "                (N): InstanceNorm3d(32, eps=1e-05, momentum=0.1, affine=False, track_running_stats=False)\n",
       "                (D): Dropout(p=0.0, inplace=False)\n",
       "                (A): PReLU(num_parameters=1)\n",
       "              )\n",
       "            )\n",
       "          )\n",
       "          (residual): Conv3d(16, 32, kernel_size=(3, 3, 3), stride=(2, 2, 2), padding=(1, 1, 1))\n",
       "        )\n",
       "        (1): SkipConnection(\n",
       "          (submodule): Sequential(\n",
       "            (0): ResidualUnit(\n",
       "              (conv): Sequential(\n",
       "                (unit0): Convolution(\n",
       "                  (conv): Conv3d(32, 64, kernel_size=(3, 3, 3), stride=(2, 2, 2), padding=(1, 1, 1))\n",
       "                  (adn): ADN(\n",
       "                    (N): InstanceNorm3d(64, eps=1e-05, momentum=0.1, affine=False, track_running_stats=False)\n",
       "                    (D): Dropout(p=0.0, inplace=False)\n",
       "                    (A): PReLU(num_parameters=1)\n",
       "                  )\n",
       "                )\n",
       "                (unit1): Convolution(\n",
       "                  (conv): Conv3d(64, 64, kernel_size=(3, 3, 3), stride=(1, 1, 1), padding=(1, 1, 1))\n",
       "                  (adn): ADN(\n",
       "                    (N): InstanceNorm3d(64, eps=1e-05, momentum=0.1, affine=False, track_running_stats=False)\n",
       "                    (D): Dropout(p=0.0, inplace=False)\n",
       "                    (A): PReLU(num_parameters=1)\n",
       "                  )\n",
       "                )\n",
       "                (unit2): Convolution(\n",
       "                  (conv): Conv3d(64, 64, kernel_size=(3, 3, 3), stride=(1, 1, 1), padding=(1, 1, 1))\n",
       "                  (adn): ADN(\n",
       "                    (N): InstanceNorm3d(64, eps=1e-05, momentum=0.1, affine=False, track_running_stats=False)\n",
       "                    (D): Dropout(p=0.0, inplace=False)\n",
       "                    (A): PReLU(num_parameters=1)\n",
       "                  )\n",
       "                )\n",
       "              )\n",
       "              (residual): Conv3d(32, 64, kernel_size=(3, 3, 3), stride=(2, 2, 2), padding=(1, 1, 1))\n",
       "            )\n",
       "            (1): SkipConnection(\n",
       "              (submodule): ResidualUnit(\n",
       "                (conv): Sequential(\n",
       "                  (unit0): Convolution(\n",
       "                    (conv): Conv3d(64, 128, kernel_size=(3, 3, 3), stride=(1, 1, 1), padding=(1, 1, 1))\n",
       "                    (adn): ADN(\n",
       "                      (N): InstanceNorm3d(128, eps=1e-05, momentum=0.1, affine=False, track_running_stats=False)\n",
       "                      (D): Dropout(p=0.0, inplace=False)\n",
       "                      (A): PReLU(num_parameters=1)\n",
       "                    )\n",
       "                  )\n",
       "                  (unit1): Convolution(\n",
       "                    (conv): Conv3d(128, 128, kernel_size=(3, 3, 3), stride=(1, 1, 1), padding=(1, 1, 1))\n",
       "                    (adn): ADN(\n",
       "                      (N): InstanceNorm3d(128, eps=1e-05, momentum=0.1, affine=False, track_running_stats=False)\n",
       "                      (D): Dropout(p=0.0, inplace=False)\n",
       "                      (A): PReLU(num_parameters=1)\n",
       "                    )\n",
       "                  )\n",
       "                  (unit2): Convolution(\n",
       "                    (conv): Conv3d(128, 128, kernel_size=(3, 3, 3), stride=(1, 1, 1), padding=(1, 1, 1))\n",
       "                    (adn): ADN(\n",
       "                      (N): InstanceNorm3d(128, eps=1e-05, momentum=0.1, affine=False, track_running_stats=False)\n",
       "                      (D): Dropout(p=0.0, inplace=False)\n",
       "                      (A): PReLU(num_parameters=1)\n",
       "                    )\n",
       "                  )\n",
       "                )\n",
       "                (residual): Conv3d(64, 128, kernel_size=(1, 1, 1), stride=(1, 1, 1))\n",
       "              )\n",
       "            )\n",
       "            (2): Sequential(\n",
       "              (0): Convolution(\n",
       "                (conv): ConvTranspose3d(192, 32, kernel_size=(3, 3, 3), stride=(2, 2, 2), padding=(1, 1, 1), output_padding=(1, 1, 1))\n",
       "                (adn): ADN(\n",
       "                  (N): InstanceNorm3d(32, eps=1e-05, momentum=0.1, affine=False, track_running_stats=False)\n",
       "                  (D): Dropout(p=0.0, inplace=False)\n",
       "                  (A): PReLU(num_parameters=1)\n",
       "                )\n",
       "              )\n",
       "              (1): ResidualUnit(\n",
       "                (conv): Sequential(\n",
       "                  (unit0): Convolution(\n",
       "                    (conv): Conv3d(32, 32, kernel_size=(3, 3, 3), stride=(1, 1, 1), padding=(1, 1, 1))\n",
       "                    (adn): ADN(\n",
       "                      (N): InstanceNorm3d(32, eps=1e-05, momentum=0.1, affine=False, track_running_stats=False)\n",
       "                      (D): Dropout(p=0.0, inplace=False)\n",
       "                      (A): PReLU(num_parameters=1)\n",
       "                    )\n",
       "                  )\n",
       "                )\n",
       "                (residual): Identity()\n",
       "              )\n",
       "            )\n",
       "          )\n",
       "        )\n",
       "        (2): Sequential(\n",
       "          (0): Convolution(\n",
       "            (conv): ConvTranspose3d(64, 16, kernel_size=(3, 3, 3), stride=(2, 2, 2), padding=(1, 1, 1), output_padding=(1, 1, 1))\n",
       "            (adn): ADN(\n",
       "              (N): InstanceNorm3d(16, eps=1e-05, momentum=0.1, affine=False, track_running_stats=False)\n",
       "              (D): Dropout(p=0.0, inplace=False)\n",
       "              (A): PReLU(num_parameters=1)\n",
       "            )\n",
       "          )\n",
       "          (1): ResidualUnit(\n",
       "            (conv): Sequential(\n",
       "              (unit0): Convolution(\n",
       "                (conv): Conv3d(16, 16, kernel_size=(3, 3, 3), stride=(1, 1, 1), padding=(1, 1, 1))\n",
       "                (adn): ADN(\n",
       "                  (N): InstanceNorm3d(16, eps=1e-05, momentum=0.1, affine=False, track_running_stats=False)\n",
       "                  (D): Dropout(p=0.0, inplace=False)\n",
       "                  (A): PReLU(num_parameters=1)\n",
       "                )\n",
       "              )\n",
       "            )\n",
       "            (residual): Identity()\n",
       "          )\n",
       "        )\n",
       "      )\n",
       "    )\n",
       "    (2): Sequential(\n",
       "      (0): Convolution(\n",
       "        (conv): ConvTranspose3d(32, 3, kernel_size=(3, 3, 3), stride=(2, 2, 2), padding=(1, 1, 1), output_padding=(1, 1, 1))\n",
       "        (adn): ADN(\n",
       "          (N): InstanceNorm3d(3, eps=1e-05, momentum=0.1, affine=False, track_running_stats=False)\n",
       "          (D): Dropout(p=0.0, inplace=False)\n",
       "          (A): PReLU(num_parameters=1)\n",
       "        )\n",
       "      )\n",
       "      (1): ResidualUnit(\n",
       "        (conv): Sequential(\n",
       "          (unit0): Convolution(\n",
       "            (conv): Conv3d(3, 3, kernel_size=(3, 3, 3), stride=(1, 1, 1), padding=(1, 1, 1))\n",
       "          )\n",
       "        )\n",
       "        (residual): Identity()\n",
       "      )\n",
       "    )\n",
       "  )\n",
       ")"
      ]
     },
     "execution_count": 27,
     "metadata": {},
     "output_type": "execute_result"
    }
   ],
   "source": [
    "model.eval()"
   ]
  },
  {
   "cell_type": "code",
   "execution_count": null,
   "id": "d0257d1d-02ec-4cf9-accb-3ebbc1b167e5",
   "metadata": {},
   "outputs": [],
   "source": []
  },
  {
   "cell_type": "code",
   "execution_count": 28,
   "id": "72be3069-6949-4b07-a18c-e1be34569050",
   "metadata": {},
   "outputs": [],
   "source": [
    "image_tensor = torch.from_numpy(padded_image).float()  # Transpose to (C, H, W)"
   ]
  },
  {
   "cell_type": "code",
   "execution_count": 29,
   "id": "8d71798b-c7ab-41c3-9615-722cac552506",
   "metadata": {},
   "outputs": [],
   "source": [
    "image_tensor = image_tensor.unsqueeze(0)"
   ]
  },
  {
   "cell_type": "code",
   "execution_count": 30,
   "id": "090e14e1-65f5-4efc-a83a-03bca158ce6e",
   "metadata": {},
   "outputs": [],
   "source": [
    "image_tensor = image_tensor.squeeze(0)"
   ]
  },
  {
   "cell_type": "code",
   "execution_count": null,
   "id": "99b14932-6615-4df2-87dd-02a2eee165a1",
   "metadata": {},
   "outputs": [],
   "source": []
  },
  {
   "cell_type": "code",
   "execution_count": 31,
   "id": "c081ff45-4696-415d-8474-8d51ec384bd4",
   "metadata": {},
   "outputs": [],
   "source": [
    "X_test_tensor = torch.from_numpy(np.array(image_tensor)).float()"
   ]
  },
  {
   "cell_type": "code",
   "execution_count": 32,
   "id": "67c7a456-ffd7-46ad-8bed-4fffcc2c6b3c",
   "metadata": {},
   "outputs": [
    {
     "data": {
      "text/plain": [
       "torch.Size([200, 144, 144])"
      ]
     },
     "execution_count": 32,
     "metadata": {},
     "output_type": "execute_result"
    }
   ],
   "source": [
    "X_test_tensor.shape"
   ]
  },
  {
   "cell_type": "code",
   "execution_count": null,
   "id": "d3ab54eb-a762-4c1a-9991-20f9315bd2b0",
   "metadata": {},
   "outputs": [],
   "source": []
  },
  {
   "cell_type": "code",
   "execution_count": 33,
   "id": "6b25c85c-bfc5-4113-be8a-6d12e21809f8",
   "metadata": {
    "scrolled": true
   },
   "outputs": [],
   "source": [
    "outputs = model(torch.ones((1, 1, 200, 144, 144)))"
   ]
  },
  {
   "cell_type": "code",
   "execution_count": null,
   "id": "3db70ac0-cace-4c06-8668-0ee24a1ad989",
   "metadata": {},
   "outputs": [],
   "source": []
  },
  {
   "cell_type": "code",
   "execution_count": null,
   "id": "f67c7ef2-5fea-441d-8412-f865e23319ce",
   "metadata": {},
   "outputs": [],
   "source": []
  },
  {
   "cell_type": "code",
   "execution_count": null,
   "id": "aea1f017-94ac-4de2-927f-da513b6f2dca",
   "metadata": {},
   "outputs": [],
   "source": []
  },
  {
   "cell_type": "code",
   "execution_count": 34,
   "id": "6809c13e-2397-42af-bfc3-3eed4a057bf1",
   "metadata": {},
   "outputs": [
    {
     "name": "stderr",
     "output_type": "stream",
     "text": [
      "/tmp/ipykernel_3232045/1875913554.py:2: UserWarning: To copy construct from a tensor, it is recommended to use sourceTensor.clone().detach() or sourceTensor.clone().detach().requires_grad_(True), rather than torch.tensor(sourceTensor).\n",
      "  x = torch.tensor(X_test_tensor).float()\n"
     ]
    }
   ],
   "source": [
    "with torch.no_grad():\n",
    "    x = torch.tensor(X_test_tensor).float()\n",
    "    outputs = model(x.unsqueeze(0).unsqueeze(0))\n",
    "    _, predicted = torch.max(outputs.data, 1)\n",
    "    #total = y_test_tensor.size(0)"
   ]
  },
  {
   "cell_type": "code",
   "execution_count": null,
   "id": "04da5476-deed-4a88-bc90-37c95f8fe825",
   "metadata": {},
   "outputs": [],
   "source": []
  },
  {
   "cell_type": "code",
   "execution_count": 35,
   "id": "c2b25488-93c5-456e-9238-99585af24476",
   "metadata": {},
   "outputs": [],
   "source": [
    "pred_np = predicted.detach().cpu().numpy()[0]"
   ]
  },
  {
   "cell_type": "code",
   "execution_count": 41,
   "id": "916ab780-a7ad-49f4-9bbe-6bec89c37dc6",
   "metadata": {},
   "outputs": [
    {
     "data": {
      "image/png": "[encoded data removed]",
      "text/plain": [
       "<Figure size 640x480 with 1 Axes>"
      ]
     },
     "metadata": {},
     "output_type": "display_data"
    }
   ],
   "source": [
    "#for i in range(X_test_tensor.shape[0]):\n",
    "plt.imshow(X_test_tensor[10,:,:])\n",
    "plt.imshow(pred_np[10], cmap='jet', alpha=0.5)  # Using gray scale color map for visualization\n",
    "#plt.axis('off')  # Optional: to hide axes for better visualization\n",
    "plt.show()"
   ]
  },
  {
   "cell_type": "code",
   "execution_count": null,
   "id": "2504354c-03af-46c7-94ba-dedbd280876a",
   "metadata": {},
   "outputs": [],
   "source": []
  },
  {
   "cell_type": "code",
   "execution_count": null,
   "id": "485568f3-8d8e-4e64-9984-5462e9a0a48a",
   "metadata": {},
   "outputs": [],
   "source": []
  },
  {
   "cell_type": "code",
   "execution_count": null,
   "id": "37bea618-efa4-4c1d-a69f-cf6752e4e77b",
   "metadata": {},
   "outputs": [],
   "source": []
  },
  {
   "cell_type": "code",
   "execution_count": null,
   "id": "909fa876-2f28-4dd5-b9a2-060b424e8ee4",
   "metadata": {},
   "outputs": [],
   "source": []
  },
  {
   "cell_type": "code",
   "execution_count": null,
   "id": "5f816b80-e43e-4be8-ad90-507b96bff9ce",
   "metadata": {},
   "outputs": [],
   "source": []
  },
  {
   "cell_type": "code",
   "execution_count": null,
   "id": "47381a4d-e352-4c03-9fc3-1904c58c8f87",
   "metadata": {},
   "outputs": [],
   "source": []
  },
  {
   "cell_type": "code",
   "execution_count": null,
   "id": "07ac5e28-997d-4ed1-85c0-a4b80222a9a2",
   "metadata": {},
   "outputs": [],
   "source": []
  },
  {
   "cell_type": "code",
   "execution_count": null,
   "id": "d9024e18-c2ae-4c5c-b3bc-ed429acb16d9",
   "metadata": {},
   "outputs": [],
   "source": []
  },
  {
   "cell_type": "code",
   "execution_count": null,
   "id": "4b302db5-ef27-4e95-9b9a-1d2d434c2977",
   "metadata": {},
   "outputs": [],
   "source": []
  },
  {
   "cell_type": "code",
   "execution_count": null,
   "id": "91f4ac02-1d63-4711-9b84-86a06ecfcf55",
   "metadata": {},
   "outputs": [],
   "source": []
  },
  {
   "cell_type": "code",
   "execution_count": null,
   "id": "ca3985d3-5bea-450d-b3ce-ce40e5ecc33a",
   "metadata": {},
   "outputs": [],
   "source": []
  },
  {
   "cell_type": "code",
   "execution_count": null,
   "id": "e0f95a77-3c4d-481f-a547-335abeedd64b",
   "metadata": {},
   "outputs": [],
   "source": []
  },
  {
   "cell_type": "code",
   "execution_count": null,
   "id": "4474bd9e-3ea7-45ff-998a-b9d15735faf6",
   "metadata": {},
   "outputs": [],
   "source": []
  },
  {
   "cell_type": "code",
   "execution_count": null,
   "id": "23982bb7-21fc-45b9-ad01-3ce311a228b7",
   "metadata": {},
   "outputs": [],
   "source": []
  },
  {
   "cell_type": "code",
   "execution_count": null,
   "id": "5ef279f6-e751-42aa-98ba-5fd2f571626d",
   "metadata": {},
   "outputs": [],
   "source": []
  }
 ],
 "metadata": {
  "kernelspec": {
   "display_name": "Python 3 (ipykernel)",
   "language": "python",
   "name": "python3"
  },
  "language_info": {
   "codemirror_mode": {
    "name": "ipython",
    "version": 3
   },
   "file_extension": ".py",
   "mimetype": "text/x-python",
   "name": "python",
   "nbconvert_exporter": "python",
   "pygments_lexer": "ipython3",
   "version": "3.10.14"
  }
 },
 "nbformat": 4,
 "nbformat_minor": 5
}
