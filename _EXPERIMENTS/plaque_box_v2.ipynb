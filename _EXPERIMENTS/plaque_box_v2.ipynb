{
 "cells": [
  {
   "cell_type": "code",
   "execution_count": 1,
   "id": "9b811b35",
   "metadata": {},
   "outputs": [
    {
     "name": "stdout",
     "output_type": "stream",
     "text": [
      "Populating the interactive namespace from numpy and matplotlib\n"
     ]
    }
   ],
   "source": [
    "%pylab inline\n",
    "%load_ext autoreload\n",
    "%autoreload 2"
   ]
  },
  {
   "cell_type": "code",
   "execution_count": 2,
   "id": "07df495a",
   "metadata": {},
   "outputs": [],
   "source": [
    "import cactas as C\n",
    "import os\n",
    "import mahotas as mh\n",
    "import nibabel as nib\n",
    "import nrrd"
   ]
  },
  {
   "cell_type": "code",
   "execution_count": 3,
   "id": "5a0246bc",
   "metadata": {},
   "outputs": [],
   "source": [
    "DATAPATH='/raid/mpsych/CACTAS/DATA/ESUS'"
   ]
  },
  {
   "cell_type": "code",
   "execution_count": 4,
   "id": "c58d5c13",
   "metadata": {},
   "outputs": [],
   "source": [
    "images, labels = C.Helper.load_data(DATAPATH)"
   ]
  },
  {
   "cell_type": "code",
   "execution_count": 5,
   "id": "f12761d6",
   "metadata": {},
   "outputs": [],
   "source": [
    "TS_PATH='TS'"
   ]
  },
  {
   "cell_type": "code",
   "execution_count": null,
   "id": "fce7fe9a",
   "metadata": {},
   "outputs": [],
   "source": []
  },
  {
   "cell_type": "code",
   "execution_count": 6,
   "id": "048abd1f",
   "metadata": {},
   "outputs": [],
   "source": [
    "combined = []\n",
    "\n",
    "for subfolder in os.listdir(TS_PATH):\n",
    "    subfolder_path = os.path.join(TS_PATH, subfolder)\n",
    "\n",
    "    if os.path.isdir(subfolder_path):\n",
    "        left_image_path = os.path.join(subfolder_path, 'common_carotid_artery_left.nii.gz')\n",
    "        right_image_path = os.path.join(subfolder_path, 'common_carotid_artery_right.nii.gz')\n",
    "\n",
    "        if os.path.exists(left_image_path) and os.path.exists(right_image_path):\n",
    "            left_image = nib.load(left_image_path).get_fdata()\n",
    "            right_image = nib.load(right_image_path).get_fdata()\n",
    "            \n",
    "            left_bbox = mh.bbox(left_image)\n",
    "            right_bbox = mh.bbox(right_image)\n",
    "            \n",
    "            if  np.all(right_bbox == 0):\n",
    "                right_bbox = [146, 0, 108, 0, 0, 0]\n",
    "\n",
    "            carotid_artery_seg = [min(left_bbox[0],right_bbox[0]), max(left_bbox[1],right_bbox[1]),min(left_bbox[2],right_bbox[2]), max(left_bbox[3],right_bbox[3]),min(left_bbox[4],right_bbox[4]), max(left_bbox[5],right_bbox[5])]\n",
    "            combined.append(carotid_artery_seg)\n",
    "\n",
    "combined = np.array(combined)"
   ]
  },
  {
   "cell_type": "code",
   "execution_count": 7,
   "id": "9e13930e",
   "metadata": {},
   "outputs": [
    {
     "data": {
      "text/plain": [
       "70"
      ]
     },
     "execution_count": 7,
     "metadata": {},
     "output_type": "execute_result"
    }
   ],
   "source": [
    "len(combined)"
   ]
  },
  {
   "cell_type": "code",
   "execution_count": 8,
   "id": "1a56ee31",
   "metadata": {},
   "outputs": [
    {
     "data": {
      "text/plain": [
       "array([[213, 324, 242, 291,  30, 105],\n",
       "       [181, 260, 258, 321,  25,  79],\n",
       "       [205, 344, 212, 266,  21,  72],\n",
       "       [206, 318, 220, 289,  31,  89],\n",
       "       [187, 312, 221, 280,  31,  95],\n",
       "       [207, 350, 252, 343,  28,  78],\n",
       "       [186, 299, 205, 254,  29,  94],\n",
       "       [212, 345, 190, 254,  31,  95],\n",
       "       [196, 327, 251, 305,  27,  92],\n",
       "       [224, 328, 216, 281,  27, 105],\n",
       "       [207, 318, 268, 328,  34,  91],\n",
       "       [208, 304, 216, 270,  33,  84],\n",
       "       [186, 301, 197, 247,  32, 102],\n",
       "       [196, 294, 245, 287,  23,  78],\n",
       "       [203, 303, 217, 254,  39, 106],\n",
       "       [237, 361, 165, 223,   9,  80],\n",
       "       [146, 328, 108, 255,   0,  42],\n",
       "       [208, 326, 203, 257,  24,  83],\n",
       "       [181, 312, 260, 322,  35,  87],\n",
       "       [152, 320, 108, 200,  35,  93],\n",
       "       [198, 301, 283, 325,  45, 108],\n",
       "       [195, 278, 224, 264,  33,  92],\n",
       "       [233, 330, 243, 268,  34,  76],\n",
       "       [199, 299, 158, 216,  18,  79],\n",
       "       [186, 297, 252, 309,  34,  87],\n",
       "       [185, 327, 248, 309,  26,  91],\n",
       "       [159, 323, 261, 340,  17,  90],\n",
       "       [192, 317, 204, 289,  33,  91],\n",
       "       [157, 295, 206, 299,  19,  65],\n",
       "       [171, 294, 232, 278,  28,  64],\n",
       "       [255, 378, 267, 356,   0,  59],\n",
       "       [184, 294, 187, 232,  26,  57],\n",
       "       [213, 329, 206, 249,  45,  81],\n",
       "       [206, 350, 235, 300,   7,  77],\n",
       "       [203, 307, 191, 252,  27,  95],\n",
       "       [219, 309, 222, 272,  28,  96],\n",
       "       [193, 307, 205, 254,  38,  98],\n",
       "       [185, 316, 207, 262,  33,  85],\n",
       "       [174, 274, 230, 291,  28,  85],\n",
       "       [187, 294, 323, 374,  15,  73],\n",
       "       [208, 301, 264, 307,  24,  63],\n",
       "       [193, 249, 247, 281,  20,  40],\n",
       "       [146, 290, 248, 321,  30, 136],\n",
       "       [215, 344, 174, 242,  22, 101],\n",
       "       [210, 322, 207, 259,  27, 102],\n",
       "       [235, 327, 219, 275,  27,  88],\n",
       "       [237, 334, 215, 253,  40, 113],\n",
       "       [205, 329, 168, 223,  31, 105],\n",
       "       [193, 289, 179, 249,  32, 102],\n",
       "       [161, 273, 240, 317,   0,  54],\n",
       "       [222, 307, 233, 300,  19, 187],\n",
       "       [172, 300, 206, 260,  29,  71],\n",
       "       [167, 285, 263, 351,  29, 167],\n",
       "       [187, 314, 217, 260,  38,  79],\n",
       "       [198, 346, 250, 298,  29,  99],\n",
       "       [186, 312, 217, 266,  30, 107],\n",
       "       [206, 295, 195, 257,  16,  81],\n",
       "       [217, 303, 270, 321,  31, 100],\n",
       "       [182, 347, 268, 351,   3,  63],\n",
       "       [235, 330, 182, 244,   4,  66],\n",
       "       [196, 326, 180, 235,  40, 107],\n",
       "       [204, 322, 217, 271,  34,  82],\n",
       "       [191, 312, 220, 281,  27,  84],\n",
       "       [209, 334, 271, 324,  34,  85],\n",
       "       [197, 335, 201, 267,  20,  72],\n",
       "       [193, 276, 227, 261,  55, 107],\n",
       "       [215, 285, 243, 278,  26,  89],\n",
       "       [219, 354, 263, 321,   9,  79],\n",
       "       [202, 307, 190, 257,  26,  86],\n",
       "       [186, 296, 219, 257,  39,  89]])"
      ]
     },
     "execution_count": 8,
     "metadata": {},
     "output_type": "execute_result"
    }
   ],
   "source": [
    "combined"
   ]
  },
  {
   "cell_type": "code",
   "execution_count": null,
   "id": "e2f9c90d",
   "metadata": {},
   "outputs": [],
   "source": []
  },
  {
   "cell_type": "code",
   "execution_count": null,
   "id": "e057c20f",
   "metadata": {},
   "outputs": [],
   "source": []
  },
  {
   "cell_type": "code",
   "execution_count": null,
   "id": "650049a0",
   "metadata": {},
   "outputs": [],
   "source": []
  },
  {
   "cell_type": "code",
   "execution_count": 9,
   "id": "2c4b795a",
   "metadata": {},
   "outputs": [],
   "source": [
    "ts_id = []\n",
    "for subfolder in os.listdir(TS_PATH):\n",
    "    ts_id +=[int(subfolder)]"
   ]
  },
  {
   "cell_type": "code",
   "execution_count": 10,
   "id": "fd717d21",
   "metadata": {},
   "outputs": [
    {
     "data": {
      "text/plain": [
       "[62,\n",
       " 15,\n",
       " 86,\n",
       " 27,\n",
       " 50,\n",
       " 95,\n",
       " 71,\n",
       " 49,\n",
       " 39,\n",
       " 33,\n",
       " 92,\n",
       " 57,\n",
       " 9,\n",
       " 12,\n",
       " 65,\n",
       " 18,\n",
       " 16,\n",
       " 61,\n",
       " 53,\n",
       " 24,\n",
       " 7,\n",
       " 72,\n",
       " 96,\n",
       " 40,\n",
       " 47,\n",
       " 75,\n",
       " 91,\n",
       " 29,\n",
       " 23,\n",
       " 82,\n",
       " 88,\n",
       " 66,\n",
       " 11,\n",
       " 21,\n",
       " 2,\n",
       " 64,\n",
       " 13,\n",
       " 32,\n",
       " 45,\n",
       " 77,\n",
       " 93,\n",
       " 94,\n",
       " 42,\n",
       " 35,\n",
       " 48,\n",
       " 69,\n",
       " 87,\n",
       " 14,\n",
       " 63,\n",
       " 5,\n",
       " 51,\n",
       " 26,\n",
       " 55,\n",
       " 22,\n",
       " 10,\n",
       " 83,\n",
       " 46,\n",
       " 31,\n",
       " 90,\n",
       " 97,\n",
       " 79,\n",
       " 73,\n",
       " 36,\n",
       " 41,\n",
       " 60,\n",
       " 17,\n",
       " 84,\n",
       " 25,\n",
       " 52,\n",
       " 6]"
      ]
     },
     "execution_count": 10,
     "metadata": {},
     "output_type": "execute_result"
    }
   ],
   "source": [
    "ts_id"
   ]
  },
  {
   "cell_type": "code",
   "execution_count": 11,
   "id": "6f9998e2",
   "metadata": {},
   "outputs": [],
   "source": [
    "ids=[]\n",
    "for f in labels:\n",
    "    if f.endswith('b.seg.nrrd'):\n",
    "        current_id = f.split('.')[0]\n",
    "        ids += [int(current_id)]"
   ]
  },
  {
   "cell_type": "code",
   "execution_count": 12,
   "id": "21bb934d",
   "metadata": {},
   "outputs": [
    {
     "data": {
      "text/plain": [
       "[93,\n",
       " 63,\n",
       " 33,\n",
       " 51,\n",
       " 50,\n",
       " 82,\n",
       " 97,\n",
       " 79,\n",
       " 73,\n",
       " 83,\n",
       " 96,\n",
       " 31,\n",
       " 6,\n",
       " 49,\n",
       " 25,\n",
       " 55,\n",
       " 60,\n",
       " 16,\n",
       " 35,\n",
       " 18,\n",
       " 40,\n",
       " 86,\n",
       " 39,\n",
       " 32,\n",
       " 53,\n",
       " 10,\n",
       " 29,\n",
       " 95,\n",
       " 71,\n",
       " 45,\n",
       " 36,\n",
       " 62,\n",
       " 90,\n",
       " 84,\n",
       " 14,\n",
       " 24,\n",
       " 65,\n",
       " 92,\n",
       " 13,\n",
       " 27,\n",
       " 42,\n",
       " 91,\n",
       " 41,\n",
       " 23,\n",
       " 15,\n",
       " 48,\n",
       " 22,\n",
       " 9,\n",
       " 11,\n",
       " 52,\n",
       " 72,\n",
       " 17,\n",
       " 88,\n",
       " 21,\n",
       " 64,\n",
       " 66,\n",
       " 77,\n",
       " 47,\n",
       " 2,\n",
       " 57,\n",
       " 46,\n",
       " 7,\n",
       " 87,\n",
       " 69,\n",
       " 94,\n",
       " 12,\n",
       " 26,\n",
       " 61,\n",
       " 75,\n",
       " 5]"
      ]
     },
     "execution_count": 12,
     "metadata": {},
     "output_type": "execute_result"
    }
   ],
   "source": [
    "ids"
   ]
  },
  {
   "cell_type": "code",
   "execution_count": 13,
   "id": "f623a2b6",
   "metadata": {},
   "outputs": [],
   "source": [
    "seg_list=[]\n",
    "for i in range(len(ids)):\n",
    "    data, header = nrrd.read(DATAPATH + \"/\" + labels[i])\n",
    "    segment = mh.bbox(data)\n",
    "    seg_list.append(segment)\n",
    "seg_list=np.array(seg_list)"
   ]
  },
  {
   "cell_type": "code",
   "execution_count": 14,
   "id": "6c433a65",
   "metadata": {},
   "outputs": [
    {
     "data": {
      "text/plain": [
       "70"
      ]
     },
     "execution_count": 14,
     "metadata": {},
     "output_type": "execute_result"
    }
   ],
   "source": [
    "len(seg_list)"
   ]
  },
  {
   "cell_type": "code",
   "execution_count": 15,
   "id": "577a9f8e",
   "metadata": {},
   "outputs": [],
   "source": [
    "seg_list = np.array(seg_list)"
   ]
  },
  {
   "cell_type": "code",
   "execution_count": 16,
   "id": "90ec3c08",
   "metadata": {},
   "outputs": [
    {
     "data": {
      "text/plain": [
       "array([[205, 210, 272, 277,  73,  76],\n",
       "       [197, 299, 216, 238, 115, 124],\n",
       "       [234, 239, 220, 225, 106, 112],\n",
       "       [226, 319, 237, 262, 202, 238],\n",
       "       [168, 331, 232, 259, 109, 116],\n",
       "       [167, 323, 260, 297,  92, 105],\n",
       "       [313, 338, 206, 223,  85,  99],\n",
       "       [197, 329, 217, 238, 121, 130],\n",
       "       [321, 336, 255, 269, 115, 122],\n",
       "       [188, 303, 225, 235, 112, 130],\n",
       "       [216, 349, 243, 262,  86, 104],\n",
       "       [202, 324, 260, 304,  93, 118],\n",
       "       [183, 296, 223, 249, 113, 131],\n",
       "       [184, 336, 198, 236, 101, 118],\n",
       "       [201, 359, 251, 278,  86, 103],\n",
       "       [180, 184, 267, 272, 165, 169],\n",
       "       [323, 330, 264, 269,  88,  91],\n",
       "       [190, 331, 215, 275,  83, 106],\n",
       "       [218, 340, 224, 238, 114, 118],\n",
       "       [217, 352, 180, 213,  85, 105],\n",
       "       [192, 305, 157, 180,  81,  86],\n",
       "       [205, 342, 227, 251,  93, 100],\n",
       "       [181, 333, 253, 268, 104, 110],\n",
       "       [282, 294, 242, 251, 106, 115],\n",
       "       [307, 314, 247, 254, 105, 108],\n",
       "       [327, 341, 271, 286,  99, 112],\n",
       "       [221, 327, 203, 256,  81, 102],\n",
       "       [227, 230, 303, 310,  86,  87],\n",
       "       [176, 321, 209, 252, 116, 130],\n",
       "       [177, 284, 241, 273,  98, 106],\n",
       "       [186, 324, 232, 268,  96, 103],\n",
       "       [221, 345, 233, 251, 109, 123],\n",
       "       [170, 358, 255, 289,  67,  84],\n",
       "       [206, 288, 265, 284,  98, 102],\n",
       "       [197, 329, 170, 204, 119, 126],\n",
       "       [135, 324, 208, 246, 102, 105],\n",
       "       [190, 193, 253, 256, 204, 207],\n",
       "       [202, 306, 238, 288,  83, 109],\n",
       "       [205, 301, 228, 245,  90, 122],\n",
       "       [193, 211, 264, 272, 116, 121],\n",
       "       [174, 312, 216, 231, 188, 199],\n",
       "       [159, 286, 257, 287,  88,  99],\n",
       "       [339, 342, 282, 285, 107, 109],\n",
       "       [151, 299, 195, 220,  56,  83],\n",
       "       [281, 291, 293, 299, 106, 110],\n",
       "       [312, 331, 237, 250, 105, 114],\n",
       "       [210, 271, 222, 244,  95, 120],\n",
       "       [295, 317, 186, 204, 104, 118],\n",
       "       [315, 319, 269, 272, 108, 111],\n",
       "       [198, 305, 219, 225,  91, 101],\n",
       "       [204, 312, 234, 257,  87, 105],\n",
       "       [193, 208, 213, 226, 135, 155],\n",
       "       [249, 396, 263, 300,  66,  79],\n",
       "       [197, 341, 239, 270,  84,  93],\n",
       "       [305, 309, 240, 244, 102, 104],\n",
       "       [184, 195, 224, 232, 101, 104],\n",
       "       [184, 294, 303, 327,  80,  86],\n",
       "       [205, 296, 240, 267,  88,  96],\n",
       "       [186, 301, 193, 224,  98, 107],\n",
       "       [190, 311, 256, 290,  89, 108],\n",
       "       [203, 208, 235, 239,  91,  92],\n",
       "       [200, 310, 255, 280, 111, 133],\n",
       "       [237, 340, 222, 249, 111, 122],\n",
       "       [227, 307, 217, 225,  92,  95],\n",
       "       [294, 303, 253, 258,  72,  76],\n",
       "       [206, 335, 244, 274,  88, 100],\n",
       "       [186, 309, 224, 257, 108, 124],\n",
       "       [222, 341, 201, 224,  83, 106],\n",
       "       [172, 355, 270, 301,  88, 105],\n",
       "       [264, 281, 265, 277,  50,  57]])"
      ]
     },
     "execution_count": 16,
     "metadata": {},
     "output_type": "execute_result"
    }
   ],
   "source": [
    "seg_list"
   ]
  },
  {
   "cell_type": "code",
   "execution_count": null,
   "id": "a4828b31",
   "metadata": {},
   "outputs": [],
   "source": []
  },
  {
   "cell_type": "code",
   "execution_count": null,
   "id": "8e2ad1ef",
   "metadata": {},
   "outputs": [],
   "source": []
  },
  {
   "cell_type": "code",
   "execution_count": 17,
   "id": "98fac3ff",
   "metadata": {},
   "outputs": [
    {
     "data": {
      "text/plain": [
       "array([187, 312, 221, 280,  31,  95])"
      ]
     },
     "execution_count": 17,
     "metadata": {},
     "output_type": "execute_result"
    }
   ],
   "source": [
    "combined[4]"
   ]
  },
  {
   "cell_type": "code",
   "execution_count": 18,
   "id": "2712a275",
   "metadata": {},
   "outputs": [
    {
     "data": {
      "text/plain": [
       "array([168, 331, 232, 259, 109, 116])"
      ]
     },
     "execution_count": 18,
     "metadata": {},
     "output_type": "execute_result"
    }
   ],
   "source": [
    "seg_list[4]"
   ]
  },
  {
   "cell_type": "code",
   "execution_count": 19,
   "id": "be0e4359",
   "metadata": {},
   "outputs": [
    {
     "data": {
      "text/plain": [
       "(168, 331, 221, 280, 31, 116)"
      ]
     },
     "execution_count": 19,
     "metadata": {},
     "output_type": "execute_result"
    }
   ],
   "source": [
    "min(combined[4][0],seg_list[4][0]), max(combined[4][1],seg_list[4][1]),min(combined[4][2],seg_list[4][2]),max(combined[4][3],seg_list[4][3]),min(combined[4][4],seg_list[4][4]),max(combined[4][5],seg_list[4][5])"
   ]
  },
  {
   "cell_type": "code",
   "execution_count": 20,
   "id": "96ca4da1",
   "metadata": {},
   "outputs": [
    {
     "data": {
      "text/plain": [
       "(163, 59, 85)"
      ]
     },
     "execution_count": 20,
     "metadata": {},
     "output_type": "execute_result"
    }
   ],
   "source": [
    "331-168, 280-221, 116-31"
   ]
  },
  {
   "cell_type": "code",
   "execution_count": null,
   "id": "d6c071fa",
   "metadata": {},
   "outputs": [],
   "source": []
  },
  {
   "cell_type": "code",
   "execution_count": null,
   "id": "d618c677",
   "metadata": {},
   "outputs": [],
   "source": []
  },
  {
   "cell_type": "code",
   "execution_count": 21,
   "id": "44c52602",
   "metadata": {},
   "outputs": [
    {
     "name": "stdout",
     "output_type": "stream",
     "text": [
      "0 31 62 62\n",
      "1 44 15 15\n",
      "2 21 86 86\n",
      "3 39 27 27\n",
      "4 4 50 50\n",
      "5 27 95 95\n",
      "6 28 71 71\n",
      "7 13 49 49\n",
      "8 22 39 39\n",
      "9 2 33 33\n",
      "10 37 92 92\n",
      "11 59 57 57\n",
      "12 47 9 9\n",
      "13 65 12 12\n",
      "14 36 65 65\n",
      "15 19 18 18\n",
      "16 17 16 16\n",
      "17 67 61 61\n",
      "18 24 53 53\n",
      "19 35 24 24\n",
      "20 61 7 7\n",
      "21 50 72 72\n",
      "22 10 96 96\n",
      "23 20 40 40\n",
      "24 57 47 47\n",
      "25 68 75 75\n",
      "26 41 91 91\n",
      "27 26 29 29\n",
      "28 43 23 23\n",
      "29 5 82 82\n",
      "30 52 88 88\n",
      "31 55 66 66\n",
      "32 48 11 11\n",
      "33 53 21 21\n",
      "34 58 2 2\n",
      "35 54 64 64\n",
      "36 38 13 13\n",
      "37 23 32 32\n",
      "38 29 45 45\n",
      "39 56 77 77\n",
      "40 0 93 93\n",
      "41 64 94 94\n",
      "42 40 42 42\n",
      "43 18 35 35\n",
      "44 45 48 48\n",
      "45 63 69 69\n",
      "46 62 87 87\n",
      "47 34 14 14\n",
      "48 1 63 63\n",
      "49 69 5 5\n",
      "50 3 51 51\n",
      "51 66 26 26\n",
      "52 15 55 55\n",
      "53 46 22 22\n",
      "54 25 10 10\n",
      "55 9 83 83\n",
      "56 60 46 46\n",
      "57 11 31 31\n",
      "58 32 90 90\n",
      "59 6 97 97\n",
      "60 7 79 79\n",
      "61 8 73 73\n",
      "62 30 36 36\n",
      "63 42 41 41\n",
      "64 16 60 60\n",
      "65 51 17 17\n",
      "66 33 84 84\n",
      "67 14 25 25\n",
      "68 49 52 52\n",
      "69 12 6 6\n"
     ]
    }
   ],
   "source": [
    "match=[]\n",
    "for i in range(len(ids)):\n",
    "    for j in range(len(ids)):\n",
    "        if ts_id[i] == ids[j]:\n",
    "            print(i, j, ts_id[i], ids[j])\n",
    "            match.append((i,j))\n",
    "            if len(match) == 70:\n",
    "                break"
   ]
  },
  {
   "cell_type": "code",
   "execution_count": 22,
   "id": "b04f8709",
   "metadata": {},
   "outputs": [
    {
     "data": {
      "text/plain": [
       "[(0, 31),\n",
       " (1, 44),\n",
       " (2, 21),\n",
       " (3, 39),\n",
       " (4, 4),\n",
       " (5, 27),\n",
       " (6, 28),\n",
       " (7, 13),\n",
       " (8, 22),\n",
       " (9, 2),\n",
       " (10, 37),\n",
       " (11, 59),\n",
       " (12, 47),\n",
       " (13, 65),\n",
       " (14, 36),\n",
       " (15, 19),\n",
       " (16, 17),\n",
       " (17, 67),\n",
       " (18, 24),\n",
       " (19, 35),\n",
       " (20, 61),\n",
       " (21, 50),\n",
       " (22, 10),\n",
       " (23, 20),\n",
       " (24, 57),\n",
       " (25, 68),\n",
       " (26, 41),\n",
       " (27, 26),\n",
       " (28, 43),\n",
       " (29, 5),\n",
       " (30, 52),\n",
       " (31, 55),\n",
       " (32, 48),\n",
       " (33, 53),\n",
       " (34, 58),\n",
       " (35, 54),\n",
       " (36, 38),\n",
       " (37, 23),\n",
       " (38, 29),\n",
       " (39, 56),\n",
       " (40, 0),\n",
       " (41, 64),\n",
       " (42, 40),\n",
       " (43, 18),\n",
       " (44, 45),\n",
       " (45, 63),\n",
       " (46, 62),\n",
       " (47, 34),\n",
       " (48, 1),\n",
       " (49, 69),\n",
       " (50, 3),\n",
       " (51, 66),\n",
       " (52, 15),\n",
       " (53, 46),\n",
       " (54, 25),\n",
       " (55, 9),\n",
       " (56, 60),\n",
       " (57, 11),\n",
       " (58, 32),\n",
       " (59, 6),\n",
       " (60, 7),\n",
       " (61, 8),\n",
       " (62, 30),\n",
       " (63, 42),\n",
       " (64, 16),\n",
       " (65, 51),\n",
       " (66, 33),\n",
       " (67, 14),\n",
       " (68, 49),\n",
       " (69, 12)]"
      ]
     },
     "execution_count": 22,
     "metadata": {},
     "output_type": "execute_result"
    }
   ],
   "source": [
    "match"
   ]
  },
  {
   "cell_type": "code",
   "execution_count": 23,
   "id": "53e27727",
   "metadata": {},
   "outputs": [
    {
     "data": {
      "text/plain": [
       "(0, 31)"
      ]
     },
     "execution_count": 23,
     "metadata": {},
     "output_type": "execute_result"
    }
   ],
   "source": [
    "match[0]"
   ]
  },
  {
   "cell_type": "code",
   "execution_count": 24,
   "id": "91b89f4c",
   "metadata": {},
   "outputs": [
    {
     "data": {
      "text/plain": [
       "0"
      ]
     },
     "execution_count": 24,
     "metadata": {},
     "output_type": "execute_result"
    }
   ],
   "source": [
    "match[0][0]"
   ]
  },
  {
   "cell_type": "code",
   "execution_count": 25,
   "id": "97bc90e7",
   "metadata": {},
   "outputs": [
    {
     "data": {
      "text/plain": [
       "31"
      ]
     },
     "execution_count": 25,
     "metadata": {},
     "output_type": "execute_result"
    }
   ],
   "source": [
    "match[0][1]"
   ]
  },
  {
   "cell_type": "code",
   "execution_count": null,
   "id": "79d698a0",
   "metadata": {},
   "outputs": [],
   "source": []
  },
  {
   "cell_type": "code",
   "execution_count": 26,
   "id": "37fe4012",
   "metadata": {},
   "outputs": [
    {
     "data": {
      "text/plain": [
       "array([213, 324, 242, 291,  30, 105])"
      ]
     },
     "execution_count": 26,
     "metadata": {},
     "output_type": "execute_result"
    }
   ],
   "source": [
    "combined[match[0][0]]"
   ]
  },
  {
   "cell_type": "code",
   "execution_count": 27,
   "id": "d6e58bd4",
   "metadata": {},
   "outputs": [
    {
     "data": {
      "text/plain": [
       "array([221, 345, 233, 251, 109, 123])"
      ]
     },
     "execution_count": 27,
     "metadata": {},
     "output_type": "execute_result"
    }
   ],
   "source": [
    "seg_list[match[0][1]]"
   ]
  },
  {
   "cell_type": "code",
   "execution_count": 28,
   "id": "3aed5f0b",
   "metadata": {},
   "outputs": [
    {
     "data": {
      "text/plain": [
       "213"
      ]
     },
     "execution_count": 28,
     "metadata": {},
     "output_type": "execute_result"
    }
   ],
   "source": [
    "min(combined[match[0][0]][0],seg_list[match[0][1]][0])"
   ]
  },
  {
   "cell_type": "code",
   "execution_count": 29,
   "id": "f9e002cb",
   "metadata": {},
   "outputs": [
    {
     "data": {
      "text/plain": [
       "345"
      ]
     },
     "execution_count": 29,
     "metadata": {},
     "output_type": "execute_result"
    }
   ],
   "source": [
    "max(combined[match[0][0]][1],seg_list[match[0][1]][1])"
   ]
  },
  {
   "cell_type": "code",
   "execution_count": 30,
   "id": "a925638a",
   "metadata": {},
   "outputs": [
    {
     "data": {
      "text/plain": [
       "233"
      ]
     },
     "execution_count": 30,
     "metadata": {},
     "output_type": "execute_result"
    }
   ],
   "source": [
    "min(combined[match[0][0]][2],seg_list[match[0][1]][2])"
   ]
  },
  {
   "cell_type": "code",
   "execution_count": 31,
   "id": "36202778",
   "metadata": {},
   "outputs": [
    {
     "data": {
      "text/plain": [
       "291"
      ]
     },
     "execution_count": 31,
     "metadata": {},
     "output_type": "execute_result"
    }
   ],
   "source": [
    "max(combined[match[0][0]][3],seg_list[match[0][1]][3])"
   ]
  },
  {
   "cell_type": "code",
   "execution_count": 32,
   "id": "24e175b4",
   "metadata": {},
   "outputs": [
    {
     "data": {
      "text/plain": [
       "30"
      ]
     },
     "execution_count": 32,
     "metadata": {},
     "output_type": "execute_result"
    }
   ],
   "source": [
    "min(combined[match[0][0]][4],seg_list[match[0][1]][4])"
   ]
  },
  {
   "cell_type": "code",
   "execution_count": 33,
   "id": "ca017d78",
   "metadata": {},
   "outputs": [
    {
     "data": {
      "text/plain": [
       "123"
      ]
     },
     "execution_count": 33,
     "metadata": {},
     "output_type": "execute_result"
    }
   ],
   "source": [
    "max(combined[match[0][0]][5],seg_list[match[0][1]][5])"
   ]
  },
  {
   "cell_type": "code",
   "execution_count": 34,
   "id": "fcab68ad",
   "metadata": {},
   "outputs": [
    {
     "data": {
      "text/plain": [
       "(132, 58, 93)"
      ]
     },
     "execution_count": 34,
     "metadata": {},
     "output_type": "execute_result"
    }
   ],
   "source": [
    "345-213, 291-233, 123-30"
   ]
  },
  {
   "cell_type": "code",
   "execution_count": 35,
   "id": "b7a8c099",
   "metadata": {},
   "outputs": [],
   "source": [
    "differences=[min(combined[match[0][0]][0],seg_list[match[0][1]][0]),max(combined[match[0][0]][1],seg_list[match[0][1]][1]),min(combined[match[0][0]][2],seg_list[match[0][1]][2]),max(combined[match[0][0]][3],seg_list[match[0][1]][3]),min(combined[match[0][0]][4],seg_list[match[0][1]][4]),max(combined[match[0][0]][5],seg_list[match[0][1]][5])]"
   ]
  },
  {
   "cell_type": "code",
   "execution_count": 36,
   "id": "610e9f43",
   "metadata": {},
   "outputs": [
    {
     "data": {
      "text/plain": [
       "[213, 345, 233, 291, 30, 123]"
      ]
     },
     "execution_count": 36,
     "metadata": {},
     "output_type": "execute_result"
    }
   ],
   "source": [
    "differences"
   ]
  },
  {
   "cell_type": "code",
   "execution_count": 37,
   "id": "1dbf9012",
   "metadata": {},
   "outputs": [],
   "source": [
    "xy=[differences[3]-differences[2], differences[1]-differences[0]]"
   ]
  },
  {
   "cell_type": "code",
   "execution_count": 38,
   "id": "36778529",
   "metadata": {},
   "outputs": [
    {
     "data": {
      "text/plain": [
       "[58, 132]"
      ]
     },
     "execution_count": 38,
     "metadata": {},
     "output_type": "execute_result"
    }
   ],
   "source": [
    "xy"
   ]
  },
  {
   "cell_type": "code",
   "execution_count": null,
   "id": "1e889bdd",
   "metadata": {},
   "outputs": [],
   "source": []
  },
  {
   "cell_type": "code",
   "execution_count": null,
   "id": "73f371f0",
   "metadata": {},
   "outputs": [],
   "source": []
  },
  {
   "cell_type": "code",
   "execution_count": null,
   "id": "ca84865f",
   "metadata": {},
   "outputs": [],
   "source": []
  },
  {
   "cell_type": "code",
   "execution_count": null,
   "id": "926411b3",
   "metadata": {},
   "outputs": [],
   "source": []
  },
  {
   "cell_type": "code",
   "execution_count": 40,
   "id": "b9912739",
   "metadata": {},
   "outputs": [],
   "source": [
    "diff=[]\n",
    "xy_diff=[]\n",
    "for i in range(len(ids)):\n",
    "    diff.append([min(combined[match[i][0]][0],seg_list[match[i][1]][0]),max(combined[match[i][0]][1],seg_list[match[i][1]][1]),min(combined[match[i][0]][2],seg_list[match[i][1]][2]),max(combined[match[i][0]][3],seg_list[match[i][1]][3]),min(combined[match[i][0]][4],seg_list[match[i][1]][4]),max(combined[match[i][0]][5],seg_list[match[i][1]][5])])\n",
    "    xy_diff.append([diff[i][3]-diff[i][2], diff[i][1]-diff[i][0]])\n",
    "     "
   ]
  },
  {
   "cell_type": "code",
   "execution_count": 41,
   "id": "177571f0",
   "metadata": {},
   "outputs": [
    {
     "data": {
      "text/plain": [
       "[[213, 345, 233, 291, 30, 123],\n",
       " [181, 291, 258, 321, 25, 110],\n",
       " [205, 344, 212, 266, 21, 100],\n",
       " [193, 318, 220, 289, 31, 121],\n",
       " [168, 331, 221, 280, 31, 116],\n",
       " [207, 350, 252, 343, 28, 87],\n",
       " [176, 321, 205, 254, 29, 130],\n",
       " [184, 345, 190, 254, 31, 118],\n",
       " [181, 333, 251, 305, 27, 110],\n",
       " [224, 328, 216, 281, 27, 112],\n",
       " [202, 318, 238, 328, 34, 109],\n",
       " [190, 311, 216, 290, 33, 108],\n",
       " [186, 317, 186, 247, 32, 118],\n",
       " [196, 335, 244, 287, 23, 100],\n",
       " [190, 303, 217, 256, 39, 207],\n",
       " [217, 361, 165, 223, 9, 105],\n",
       " [146, 331, 108, 275, 0, 106],\n",
       " [208, 341, 201, 257, 24, 106],\n",
       " [181, 314, 247, 322, 35, 108],\n",
       " [135, 324, 108, 246, 35, 105],\n",
       " [198, 310, 255, 325, 45, 133],\n",
       " [195, 312, 224, 264, 33, 105],\n",
       " [216, 349, 243, 268, 34, 104],\n",
       " [192, 305, 157, 216, 18, 86],\n",
       " [186, 297, 240, 309, 34, 96],\n",
       " [172, 355, 248, 309, 26, 105],\n",
       " [159, 323, 257, 340, 17, 99],\n",
       " [192, 327, 203, 289, 33, 102],\n",
       " [151, 299, 195, 299, 19, 83],\n",
       " [167, 323, 232, 297, 28, 105],\n",
       " [249, 396, 263, 356, 0, 79],\n",
       " [184, 294, 187, 232, 26, 104],\n",
       " [213, 329, 206, 272, 45, 111],\n",
       " [197, 350, 235, 300, 7, 93],\n",
       " [186, 307, 191, 252, 27, 107],\n",
       " [219, 309, 222, 272, 28, 104],\n",
       " [193, 307, 205, 254, 38, 122],\n",
       " [185, 316, 207, 262, 33, 115],\n",
       " [174, 284, 230, 291, 28, 106],\n",
       " [184, 294, 303, 374, 15, 86],\n",
       " [205, 301, 264, 307, 24, 76],\n",
       " [193, 303, 247, 281, 20, 76],\n",
       " [146, 312, 216, 321, 30, 199],\n",
       " [215, 344, 174, 242, 22, 118],\n",
       " [210, 331, 207, 259, 27, 114],\n",
       " [227, 327, 217, 275, 27, 95],\n",
       " [237, 340, 215, 253, 40, 122],\n",
       " [197, 329, 168, 223, 31, 126],\n",
       " [193, 299, 179, 249, 32, 124],\n",
       " [161, 281, 240, 317, 0, 57],\n",
       " [222, 319, 233, 300, 19, 238],\n",
       " [172, 309, 206, 260, 29, 124],\n",
       " [167, 285, 263, 351, 29, 169],\n",
       " [187, 314, 217, 260, 38, 120],\n",
       " [198, 346, 250, 298, 29, 112],\n",
       " [186, 312, 217, 266, 30, 130],\n",
       " [203, 295, 195, 257, 16, 92],\n",
       " [202, 324, 260, 321, 31, 118],\n",
       " [170, 358, 255, 351, 3, 84],\n",
       " [235, 338, 182, 244, 4, 99],\n",
       " [196, 329, 180, 238, 40, 130],\n",
       " [204, 336, 217, 271, 34, 122],\n",
       " [186, 324, 220, 281, 27, 103],\n",
       " [209, 342, 271, 324, 34, 109],\n",
       " [197, 335, 201, 269, 20, 91],\n",
       " [193, 276, 213, 261, 55, 155],\n",
       " [206, 288, 243, 284, 26, 102],\n",
       " [201, 359, 251, 321, 9, 103],\n",
       " [198, 307, 190, 257, 26, 101],\n",
       " [183, 296, 219, 257, 39, 131]]"
      ]
     },
     "execution_count": 41,
     "metadata": {},
     "output_type": "execute_result"
    }
   ],
   "source": [
    "diff"
   ]
  },
  {
   "cell_type": "code",
   "execution_count": 42,
   "id": "ffdac585",
   "metadata": {},
   "outputs": [
    {
     "data": {
      "text/plain": [
       "70"
      ]
     },
     "execution_count": 42,
     "metadata": {},
     "output_type": "execute_result"
    }
   ],
   "source": [
    "len(diff)"
   ]
  },
  {
   "cell_type": "code",
   "execution_count": 43,
   "id": "709bc6b1",
   "metadata": {},
   "outputs": [
    {
     "data": {
      "text/plain": [
       "[[58, 132],\n",
       " [63, 110],\n",
       " [54, 139],\n",
       " [69, 125],\n",
       " [59, 163],\n",
       " [91, 143],\n",
       " [49, 145],\n",
       " [64, 161],\n",
       " [54, 152],\n",
       " [65, 104],\n",
       " [90, 116],\n",
       " [74, 121],\n",
       " [61, 131],\n",
       " [43, 139],\n",
       " [39, 113],\n",
       " [58, 144],\n",
       " [167, 185],\n",
       " [56, 133],\n",
       " [75, 133],\n",
       " [138, 189],\n",
       " [70, 112],\n",
       " [40, 117],\n",
       " [25, 133],\n",
       " [59, 113],\n",
       " [69, 111],\n",
       " [61, 183],\n",
       " [83, 164],\n",
       " [86, 135],\n",
       " [104, 148],\n",
       " [65, 156],\n",
       " [93, 147],\n",
       " [45, 110],\n",
       " [66, 116],\n",
       " [65, 153],\n",
       " [61, 121],\n",
       " [50, 90],\n",
       " [49, 114],\n",
       " [55, 131],\n",
       " [61, 110],\n",
       " [71, 110],\n",
       " [43, 96],\n",
       " [34, 110],\n",
       " [105, 166],\n",
       " [68, 129],\n",
       " [52, 121],\n",
       " [58, 100],\n",
       " [38, 103],\n",
       " [55, 132],\n",
       " [70, 106],\n",
       " [77, 120],\n",
       " [67, 97],\n",
       " [54, 137],\n",
       " [88, 118],\n",
       " [43, 127],\n",
       " [48, 148],\n",
       " [49, 126],\n",
       " [62, 92],\n",
       " [61, 122],\n",
       " [96, 188],\n",
       " [62, 103],\n",
       " [58, 133],\n",
       " [54, 132],\n",
       " [61, 138],\n",
       " [53, 133],\n",
       " [68, 138],\n",
       " [48, 83],\n",
       " [41, 82],\n",
       " [70, 158],\n",
       " [67, 109],\n",
       " [38, 113]]"
      ]
     },
     "execution_count": 43,
     "metadata": {},
     "output_type": "execute_result"
    }
   ],
   "source": [
    "xy_diff"
   ]
  },
  {
   "cell_type": "code",
   "execution_count": 44,
   "id": "9208e532",
   "metadata": {},
   "outputs": [
    {
     "data": {
      "text/plain": [
       "70"
      ]
     },
     "execution_count": 44,
     "metadata": {},
     "output_type": "execute_result"
    }
   ],
   "source": [
    "len(xy_diff)"
   ]
  },
  {
   "cell_type": "code",
   "execution_count": null,
   "id": "366ddf58",
   "metadata": {},
   "outputs": [],
   "source": []
  },
  {
   "cell_type": "code",
   "execution_count": null,
   "id": "7794588e",
   "metadata": {},
   "outputs": [],
   "source": []
  },
  {
   "cell_type": "code",
   "execution_count": null,
   "id": "30f76b13",
   "metadata": {},
   "outputs": [],
   "source": []
  },
  {
   "cell_type": "code",
   "execution_count": null,
   "id": "b940fc9d",
   "metadata": {},
   "outputs": [],
   "source": []
  },
  {
   "cell_type": "code",
   "execution_count": null,
   "id": "9ce42b13",
   "metadata": {},
   "outputs": [],
   "source": []
  },
  {
   "cell_type": "code",
   "execution_count": null,
   "id": "bdf9aa03",
   "metadata": {},
   "outputs": [],
   "source": []
  },
  {
   "cell_type": "code",
   "execution_count": null,
   "id": "a886b293",
   "metadata": {},
   "outputs": [],
   "source": []
  }
 ],
 "metadata": {
  "kernelspec": {
   "display_name": "Python 3 (ipykernel)",
   "language": "python",
   "name": "python3"
  },
  "language_info": {
   "codemirror_mode": {
    "name": "ipython",
    "version": 3
   },
   "file_extension": ".py",
   "mimetype": "text/x-python",
   "name": "python",
   "nbconvert_exporter": "python",
   "pygments_lexer": "ipython3",
   "version": "3.9.7"
  }
 },
 "nbformat": 4,
 "nbformat_minor": 5
}
