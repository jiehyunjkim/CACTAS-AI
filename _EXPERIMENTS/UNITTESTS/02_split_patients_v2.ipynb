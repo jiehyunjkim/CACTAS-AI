{
 "cells": [
  {
   "cell_type": "code",
   "execution_count": 31,
   "id": "a3e237f7",
   "metadata": {},
   "outputs": [
    {
     "name": "stdout",
     "output_type": "stream",
     "text": [
      "%pylab is deprecated, use %matplotlib inline and import the required libraries.\n",
      "Populating the interactive namespace from numpy and matplotlib\n",
      "The autoreload extension is already loaded. To reload it, use:\n",
      "  %reload_ext autoreload\n"
     ]
    }
   ],
   "source": [
    "%pylab inline\n",
    "%load_ext autoreload\n",
    "%autoreload 2"
   ]
  },
  {
   "cell_type": "code",
   "execution_count": 32,
   "id": "f84b18f5",
   "metadata": {},
   "outputs": [],
   "source": [
    "import cactas as C"
   ]
  },
  {
   "cell_type": "code",
   "execution_count": 33,
   "id": "572d684c",
   "metadata": {},
   "outputs": [],
   "source": [
    "DATAPATH='/raid/mpsych/CACTAS/DATA/ESUS'"
   ]
  },
  {
   "cell_type": "code",
   "execution_count": 34,
   "id": "a011138b",
   "metadata": {},
   "outputs": [],
   "source": [
    "######1"
   ]
  },
  {
   "cell_type": "code",
   "execution_count": 35,
   "id": "ae3f1f0b",
   "metadata": {},
   "outputs": [],
   "source": [
    "images, labels = C.Helper.load_data(DATAPATH)"
   ]
  },
  {
   "cell_type": "code",
   "execution_count": 36,
   "id": "68753599",
   "metadata": {},
   "outputs": [],
   "source": [
    "X_train, y_train, X_test, y_test = C.Helper.split_patients(images, labels)"
   ]
  },
  {
   "cell_type": "code",
   "execution_count": 37,
   "id": "85dd28d4",
   "metadata": {},
   "outputs": [
    {
     "data": {
      "text/plain": [
       "['55.b.img.nrrd',\n",
       " '66.img.nrrd',\n",
       " '87.img.nrrd',\n",
       " '33.img.nrrd',\n",
       " '71.img.nrrd',\n",
       " '42.b.img.nrrd',\n",
       " '57.img.nrrd',\n",
       " '24.img.nrrd',\n",
       " '21.img.nrrd',\n",
       " '17.img.nrrd',\n",
       " '91.img.nrrd',\n",
       " '61.img.nrrd',\n",
       " '48.img.nrrd',\n",
       " '39.img.nrrd',\n",
       " '46.img.nrrd',\n",
       " '73.img.nrrd',\n",
       " '72.img.nrrd',\n",
       " '93.img.nrrd',\n",
       " '52.img.nrrd',\n",
       " '2.img.nrrd',\n",
       " '90.img.nrrd',\n",
       " '62.img.nrrd',\n",
       " '26.img.nrrd',\n",
       " '15.img.nrrd',\n",
       " '92.img.nrrd',\n",
       " '75.img.nrrd',\n",
       " '49.img.nrrd',\n",
       " '65.b.img.nrrd',\n",
       " '5.img.nrrd',\n",
       " '23.img.nrrd',\n",
       " '14.img.nrrd',\n",
       " '77.img.nrrd',\n",
       " '60.b.img.nrrd',\n",
       " '53.img.nrrd',\n",
       " '97.img.nrrd',\n",
       " '18.img.nrrd',\n",
       " '6.img.nrrd',\n",
       " '94.img.nrrd',\n",
       " '9.img.nrrd',\n",
       " '51.img.nrrd',\n",
       " '36.img.nrrd',\n",
       " '84.img.nrrd',\n",
       " '41.img.nrrd',\n",
       " '11.b.img.nrrd',\n",
       " '31.img.nrrd',\n",
       " '63.img.nrrd',\n",
       " '12.img.nrrd',\n",
       " '27.img.nrrd',\n",
       " '10.img.nrrd',\n",
       " '13.img.nrrd',\n",
       " '82.img.nrrd',\n",
       " '96.img.nrrd',\n",
       " '32.img.nrrd',\n",
       " '95.b.img.nrrd',\n",
       " '16.img.nrrd',\n",
       " '88.img.nrrd']"
      ]
     },
     "execution_count": 37,
     "metadata": {},
     "output_type": "execute_result"
    }
   ],
   "source": [
    "X_train"
   ]
  },
  {
   "cell_type": "code",
   "execution_count": 38,
   "id": "ff9dc428",
   "metadata": {},
   "outputs": [
    {
     "data": {
      "text/plain": [
       "['55.b.seg.nrrd',\n",
       " '66.b.seg.nrrd',\n",
       " '87.b.seg.nrrd',\n",
       " '33.b.seg.nrrd',\n",
       " '71.b.seg.nrrd',\n",
       " '42.b.seg.nrrd',\n",
       " '57.b.seg.nrrd',\n",
       " '24.b.seg.nrrd',\n",
       " '21.b.seg.nrrd',\n",
       " '17.b.seg.nrrd',\n",
       " '91.b.seg.nrrd',\n",
       " '61.b.seg.nrrd',\n",
       " '48.b.seg.nrrd',\n",
       " '39.b.seg.nrrd',\n",
       " '46.b.seg.nrrd',\n",
       " '73.b.seg.nrrd',\n",
       " '72.b.seg.nrrd',\n",
       " '93.b.seg.nrrd',\n",
       " '52.b.seg.nrrd',\n",
       " '2.b.seg.nrrd',\n",
       " '90.b.seg.nrrd',\n",
       " '62.b.seg.nrrd',\n",
       " '26.b.seg.nrrd',\n",
       " '15.b.seg.nrrd',\n",
       " '92.b.seg.nrrd',\n",
       " '75.b.seg.nrrd',\n",
       " '49.b.seg.nrrd',\n",
       " '65.b.seg.nrrd',\n",
       " '5.b.seg.nrrd',\n",
       " '23.b.seg.nrrd',\n",
       " '14.b.seg.nrrd',\n",
       " '77.b.seg.nrrd',\n",
       " '60.b.seg.nrrd',\n",
       " '53.b.seg.nrrd',\n",
       " '97.b.seg.nrrd',\n",
       " '18.b.seg.nrrd',\n",
       " '6.b.seg.nrrd',\n",
       " '94.b.seg.nrrd',\n",
       " '9.b.seg.nrrd',\n",
       " '51.b.seg.nrrd',\n",
       " '36.b.seg.nrrd',\n",
       " '84.b.seg.nrrd',\n",
       " '41.b.seg.nrrd',\n",
       " '11.b.seg.nrrd',\n",
       " '31.b.seg.nrrd',\n",
       " '63.b.seg.nrrd',\n",
       " '12.b.seg.nrrd',\n",
       " '27.b.seg.nrrd',\n",
       " '10.b.seg.nrrd',\n",
       " '13.b.seg.nrrd',\n",
       " '82.b.seg.nrrd',\n",
       " '96.b.seg.nrrd',\n",
       " '32.b.seg.nrrd',\n",
       " '95.b.seg.nrrd',\n",
       " '16.b.seg.nrrd',\n",
       " '88.b.seg.nrrd']"
      ]
     },
     "execution_count": 38,
     "metadata": {},
     "output_type": "execute_result"
    }
   ],
   "source": [
    "y_train"
   ]
  },
  {
   "cell_type": "code",
   "execution_count": 39,
   "id": "aa31e4d7",
   "metadata": {},
   "outputs": [
    {
     "data": {
      "text/plain": [
       "['7.img.nrrd',\n",
       " '40.img.nrrd',\n",
       " '86.img.nrrd',\n",
       " '83.img.nrrd',\n",
       " '22.img.nrrd',\n",
       " '47.img.nrrd',\n",
       " '79.img.nrrd',\n",
       " '50.img.nrrd',\n",
       " '64.img.nrrd',\n",
       " '29.img.nrrd',\n",
       " '35.img.nrrd',\n",
       " '69.img.nrrd',\n",
       " '45.img.nrrd',\n",
       " '25.img.nrrd']"
      ]
     },
     "execution_count": 39,
     "metadata": {},
     "output_type": "execute_result"
    }
   ],
   "source": [
    "X_test"
   ]
  },
  {
   "cell_type": "code",
   "execution_count": 40,
   "id": "8a2887fd",
   "metadata": {},
   "outputs": [
    {
     "data": {
      "text/plain": [
       "['7.b.seg.nrrd',\n",
       " '40.b.seg.nrrd',\n",
       " '86.b.seg.nrrd',\n",
       " '83.b.seg.nrrd',\n",
       " '22.b.seg.nrrd',\n",
       " '47.b.seg.nrrd',\n",
       " '79.b.seg.nrrd',\n",
       " '50.b.seg.nrrd',\n",
       " '64.b.seg.nrrd',\n",
       " '29.b.seg.nrrd',\n",
       " '35.b.seg.nrrd',\n",
       " '69.b.seg.nrrd',\n",
       " '45.b.seg.nrrd',\n",
       " '25.b.seg.nrrd']"
      ]
     },
     "execution_count": 40,
     "metadata": {},
     "output_type": "execute_result"
    }
   ],
   "source": [
    "y_test"
   ]
  },
  {
   "cell_type": "code",
   "execution_count": null,
   "id": "0df28910",
   "metadata": {},
   "outputs": [],
   "source": []
  },
  {
   "cell_type": "code",
   "execution_count": null,
   "id": "5a737703",
   "metadata": {},
   "outputs": [],
   "source": []
  },
  {
   "cell_type": "code",
   "execution_count": 41,
   "id": "f12dc300",
   "metadata": {},
   "outputs": [],
   "source": [
    "X_train, y_train, X_test, y_test = C.Helper.split_patients(images, labels)"
   ]
  },
  {
   "cell_type": "code",
   "execution_count": 42,
   "id": "80cfd20e",
   "metadata": {},
   "outputs": [
    {
     "data": {
      "text/plain": [
       "['2.img.nrrd',\n",
       " '51.img.nrrd',\n",
       " '12.img.nrrd',\n",
       " '45.img.nrrd',\n",
       " '49.img.nrrd',\n",
       " '24.img.nrrd',\n",
       " '71.img.nrrd',\n",
       " '73.img.nrrd',\n",
       " '27.img.nrrd',\n",
       " '23.img.nrrd',\n",
       " '15.img.nrrd',\n",
       " '92.img.nrrd',\n",
       " '75.img.nrrd',\n",
       " '69.img.nrrd',\n",
       " '46.img.nrrd',\n",
       " '33.img.nrrd',\n",
       " '50.img.nrrd',\n",
       " '40.img.nrrd',\n",
       " '25.img.nrrd',\n",
       " '41.img.nrrd',\n",
       " '22.img.nrrd',\n",
       " '14.img.nrrd',\n",
       " '94.img.nrrd',\n",
       " '31.img.nrrd',\n",
       " '6.img.nrrd',\n",
       " '55.b.img.nrrd',\n",
       " '7.img.nrrd',\n",
       " '16.img.nrrd',\n",
       " '84.img.nrrd',\n",
       " '63.img.nrrd',\n",
       " '95.b.img.nrrd',\n",
       " '77.img.nrrd',\n",
       " '21.img.nrrd',\n",
       " '82.img.nrrd',\n",
       " '91.img.nrrd',\n",
       " '90.img.nrrd',\n",
       " '18.img.nrrd',\n",
       " '60.b.img.nrrd',\n",
       " '79.img.nrrd',\n",
       " '62.img.nrrd',\n",
       " '47.img.nrrd',\n",
       " '97.img.nrrd',\n",
       " '13.img.nrrd',\n",
       " '26.img.nrrd',\n",
       " '52.img.nrrd',\n",
       " '88.img.nrrd',\n",
       " '39.img.nrrd',\n",
       " '66.img.nrrd',\n",
       " '83.img.nrrd',\n",
       " '17.img.nrrd',\n",
       " '96.img.nrrd',\n",
       " '11.b.img.nrrd',\n",
       " '32.img.nrrd',\n",
       " '29.img.nrrd',\n",
       " '48.img.nrrd',\n",
       " '36.img.nrrd']"
      ]
     },
     "execution_count": 42,
     "metadata": {},
     "output_type": "execute_result"
    }
   ],
   "source": [
    "X_train"
   ]
  },
  {
   "cell_type": "code",
   "execution_count": 43,
   "id": "b29b206b",
   "metadata": {},
   "outputs": [
    {
     "data": {
      "text/plain": [
       "['2.b.seg.nrrd',\n",
       " '51.b.seg.nrrd',\n",
       " '12.b.seg.nrrd',\n",
       " '45.b.seg.nrrd',\n",
       " '49.b.seg.nrrd',\n",
       " '24.b.seg.nrrd',\n",
       " '71.b.seg.nrrd',\n",
       " '73.b.seg.nrrd',\n",
       " '27.b.seg.nrrd',\n",
       " '23.b.seg.nrrd',\n",
       " '15.b.seg.nrrd',\n",
       " '92.b.seg.nrrd',\n",
       " '75.b.seg.nrrd',\n",
       " '69.b.seg.nrrd',\n",
       " '46.b.seg.nrrd',\n",
       " '33.b.seg.nrrd',\n",
       " '50.b.seg.nrrd',\n",
       " '40.b.seg.nrrd',\n",
       " '25.b.seg.nrrd',\n",
       " '41.b.seg.nrrd',\n",
       " '22.b.seg.nrrd',\n",
       " '14.b.seg.nrrd',\n",
       " '94.b.seg.nrrd',\n",
       " '31.b.seg.nrrd',\n",
       " '6.b.seg.nrrd',\n",
       " '55.b.seg.nrrd',\n",
       " '7.b.seg.nrrd',\n",
       " '16.b.seg.nrrd',\n",
       " '84.b.seg.nrrd',\n",
       " '63.b.seg.nrrd',\n",
       " '95.b.seg.nrrd',\n",
       " '77.b.seg.nrrd',\n",
       " '21.b.seg.nrrd',\n",
       " '82.b.seg.nrrd',\n",
       " '91.b.seg.nrrd',\n",
       " '90.b.seg.nrrd',\n",
       " '18.b.seg.nrrd',\n",
       " '60.b.seg.nrrd',\n",
       " '79.b.seg.nrrd',\n",
       " '62.b.seg.nrrd',\n",
       " '47.b.seg.nrrd',\n",
       " '97.b.seg.nrrd',\n",
       " '13.b.seg.nrrd',\n",
       " '26.b.seg.nrrd',\n",
       " '52.b.seg.nrrd',\n",
       " '88.b.seg.nrrd',\n",
       " '39.b.seg.nrrd',\n",
       " '66.b.seg.nrrd',\n",
       " '83.b.seg.nrrd',\n",
       " '17.b.seg.nrrd',\n",
       " '96.b.seg.nrrd',\n",
       " '11.b.seg.nrrd',\n",
       " '32.b.seg.nrrd',\n",
       " '29.b.seg.nrrd',\n",
       " '48.b.seg.nrrd',\n",
       " '36.b.seg.nrrd']"
      ]
     },
     "execution_count": 43,
     "metadata": {},
     "output_type": "execute_result"
    }
   ],
   "source": [
    "y_train"
   ]
  },
  {
   "cell_type": "code",
   "execution_count": 44,
   "id": "07775f15",
   "metadata": {},
   "outputs": [
    {
     "data": {
      "text/plain": [
       "['64.img.nrrd',\n",
       " '72.img.nrrd',\n",
       " '65.b.img.nrrd',\n",
       " '86.img.nrrd',\n",
       " '93.img.nrrd',\n",
       " '10.img.nrrd',\n",
       " '61.img.nrrd',\n",
       " '5.img.nrrd',\n",
       " '87.img.nrrd',\n",
       " '35.img.nrrd',\n",
       " '42.b.img.nrrd',\n",
       " '53.img.nrrd',\n",
       " '57.img.nrrd',\n",
       " '9.img.nrrd']"
      ]
     },
     "execution_count": 44,
     "metadata": {},
     "output_type": "execute_result"
    }
   ],
   "source": [
    "X_test"
   ]
  },
  {
   "cell_type": "code",
   "execution_count": 45,
   "id": "f45b7599",
   "metadata": {},
   "outputs": [
    {
     "data": {
      "text/plain": [
       "['64.b.seg.nrrd',\n",
       " '72.b.seg.nrrd',\n",
       " '65.b.seg.nrrd',\n",
       " '86.b.seg.nrrd',\n",
       " '93.b.seg.nrrd',\n",
       " '10.b.seg.nrrd',\n",
       " '61.b.seg.nrrd',\n",
       " '5.b.seg.nrrd',\n",
       " '87.b.seg.nrrd',\n",
       " '35.b.seg.nrrd',\n",
       " '42.b.seg.nrrd',\n",
       " '53.b.seg.nrrd',\n",
       " '57.b.seg.nrrd',\n",
       " '9.b.seg.nrrd']"
      ]
     },
     "execution_count": 45,
     "metadata": {},
     "output_type": "execute_result"
    }
   ],
   "source": [
    "y_test"
   ]
  },
  {
   "cell_type": "code",
   "execution_count": null,
   "id": "24dd5013",
   "metadata": {},
   "outputs": [],
   "source": []
  },
  {
   "cell_type": "code",
   "execution_count": null,
   "id": "67b9f834",
   "metadata": {},
   "outputs": [],
   "source": []
  },
  {
   "cell_type": "code",
   "execution_count": null,
   "id": "91f587d3",
   "metadata": {},
   "outputs": [],
   "source": []
  },
  {
   "cell_type": "code",
   "execution_count": null,
   "id": "834f21e9",
   "metadata": {},
   "outputs": [],
   "source": []
  },
  {
   "cell_type": "code",
   "execution_count": null,
   "id": "67d746eb",
   "metadata": {},
   "outputs": [],
   "source": []
  },
  {
   "cell_type": "code",
   "execution_count": null,
   "id": "74f6ef04",
   "metadata": {},
   "outputs": [],
   "source": []
  },
  {
   "cell_type": "code",
   "execution_count": 46,
   "id": "04c6f6ff",
   "metadata": {},
   "outputs": [],
   "source": [
    "X_train, y_train, X_test, y_test = C.Helper.split_patients(images, labels)"
   ]
  },
  {
   "cell_type": "code",
   "execution_count": 47,
   "id": "620145f3",
   "metadata": {},
   "outputs": [
    {
     "data": {
      "text/plain": [
       "['22.img.nrrd',\n",
       " '14.img.nrrd',\n",
       " '45.img.nrrd',\n",
       " '46.img.nrrd',\n",
       " '12.img.nrrd',\n",
       " '73.img.nrrd',\n",
       " '94.img.nrrd',\n",
       " '2.img.nrrd',\n",
       " '50.img.nrrd',\n",
       " '83.img.nrrd',\n",
       " '88.img.nrrd',\n",
       " '55.b.img.nrrd',\n",
       " '62.img.nrrd',\n",
       " '66.img.nrrd',\n",
       " '90.img.nrrd',\n",
       " '31.img.nrrd',\n",
       " '96.img.nrrd',\n",
       " '32.img.nrrd',\n",
       " '42.b.img.nrrd',\n",
       " '33.img.nrrd',\n",
       " '63.img.nrrd',\n",
       " '95.b.img.nrrd',\n",
       " '27.img.nrrd',\n",
       " '86.img.nrrd',\n",
       " '13.img.nrrd',\n",
       " '10.img.nrrd',\n",
       " '39.img.nrrd',\n",
       " '7.img.nrrd',\n",
       " '11.b.img.nrrd',\n",
       " '25.img.nrrd',\n",
       " '18.img.nrrd',\n",
       " '49.img.nrrd',\n",
       " '29.img.nrrd',\n",
       " '97.img.nrrd',\n",
       " '72.img.nrrd',\n",
       " '82.img.nrrd',\n",
       " '16.img.nrrd',\n",
       " '77.img.nrrd',\n",
       " '93.img.nrrd',\n",
       " '41.img.nrrd',\n",
       " '48.img.nrrd',\n",
       " '17.img.nrrd',\n",
       " '71.img.nrrd',\n",
       " '26.img.nrrd',\n",
       " '52.img.nrrd',\n",
       " '91.img.nrrd',\n",
       " '75.img.nrrd',\n",
       " '47.img.nrrd',\n",
       " '61.img.nrrd',\n",
       " '87.img.nrrd',\n",
       " '79.img.nrrd',\n",
       " '64.img.nrrd',\n",
       " '60.b.img.nrrd',\n",
       " '5.img.nrrd',\n",
       " '51.img.nrrd',\n",
       " '57.img.nrrd']"
      ]
     },
     "execution_count": 47,
     "metadata": {},
     "output_type": "execute_result"
    }
   ],
   "source": [
    "X_train"
   ]
  },
  {
   "cell_type": "code",
   "execution_count": 48,
   "id": "8c5012bd",
   "metadata": {},
   "outputs": [
    {
     "data": {
      "text/plain": [
       "['22.b.seg.nrrd',\n",
       " '14.b.seg.nrrd',\n",
       " '45.b.seg.nrrd',\n",
       " '46.b.seg.nrrd',\n",
       " '12.b.seg.nrrd',\n",
       " '73.b.seg.nrrd',\n",
       " '94.b.seg.nrrd',\n",
       " '2.b.seg.nrrd',\n",
       " '50.b.seg.nrrd',\n",
       " '83.b.seg.nrrd',\n",
       " '88.b.seg.nrrd',\n",
       " '55.b.seg.nrrd',\n",
       " '62.b.seg.nrrd',\n",
       " '66.b.seg.nrrd',\n",
       " '90.b.seg.nrrd',\n",
       " '31.b.seg.nrrd',\n",
       " '96.b.seg.nrrd',\n",
       " '32.b.seg.nrrd',\n",
       " '42.b.seg.nrrd',\n",
       " '33.b.seg.nrrd',\n",
       " '63.b.seg.nrrd',\n",
       " '95.b.seg.nrrd',\n",
       " '27.b.seg.nrrd',\n",
       " '86.b.seg.nrrd',\n",
       " '13.b.seg.nrrd',\n",
       " '10.b.seg.nrrd',\n",
       " '39.b.seg.nrrd',\n",
       " '7.b.seg.nrrd',\n",
       " '11.b.seg.nrrd',\n",
       " '25.b.seg.nrrd',\n",
       " '18.b.seg.nrrd',\n",
       " '49.b.seg.nrrd',\n",
       " '29.b.seg.nrrd',\n",
       " '97.b.seg.nrrd',\n",
       " '72.b.seg.nrrd',\n",
       " '82.b.seg.nrrd',\n",
       " '16.b.seg.nrrd',\n",
       " '77.b.seg.nrrd',\n",
       " '93.b.seg.nrrd',\n",
       " '41.b.seg.nrrd',\n",
       " '48.b.seg.nrrd',\n",
       " '17.b.seg.nrrd',\n",
       " '71.b.seg.nrrd',\n",
       " '26.b.seg.nrrd',\n",
       " '52.b.seg.nrrd',\n",
       " '91.b.seg.nrrd',\n",
       " '75.b.seg.nrrd',\n",
       " '47.b.seg.nrrd',\n",
       " '61.b.seg.nrrd',\n",
       " '87.b.seg.nrrd',\n",
       " '79.b.seg.nrrd',\n",
       " '64.b.seg.nrrd',\n",
       " '60.b.seg.nrrd',\n",
       " '5.b.seg.nrrd',\n",
       " '51.b.seg.nrrd',\n",
       " '57.b.seg.nrrd']"
      ]
     },
     "execution_count": 48,
     "metadata": {},
     "output_type": "execute_result"
    }
   ],
   "source": [
    "y_train"
   ]
  },
  {
   "cell_type": "code",
   "execution_count": 49,
   "id": "9763d9a7",
   "metadata": {},
   "outputs": [
    {
     "data": {
      "text/plain": [
       "['9.img.nrrd',\n",
       " '24.img.nrrd',\n",
       " '21.img.nrrd',\n",
       " '15.img.nrrd',\n",
       " '23.img.nrrd',\n",
       " '40.img.nrrd',\n",
       " '84.img.nrrd',\n",
       " '53.img.nrrd',\n",
       " '92.img.nrrd',\n",
       " '35.img.nrrd',\n",
       " '65.b.img.nrrd',\n",
       " '36.img.nrrd',\n",
       " '69.img.nrrd',\n",
       " '6.img.nrrd']"
      ]
     },
     "execution_count": 49,
     "metadata": {},
     "output_type": "execute_result"
    }
   ],
   "source": [
    "X_test"
   ]
  },
  {
   "cell_type": "code",
   "execution_count": 50,
   "id": "16002999",
   "metadata": {},
   "outputs": [
    {
     "data": {
      "text/plain": [
       "['9.b.seg.nrrd',\n",
       " '24.b.seg.nrrd',\n",
       " '21.b.seg.nrrd',\n",
       " '15.b.seg.nrrd',\n",
       " '23.b.seg.nrrd',\n",
       " '40.b.seg.nrrd',\n",
       " '84.b.seg.nrrd',\n",
       " '53.b.seg.nrrd',\n",
       " '92.b.seg.nrrd',\n",
       " '35.b.seg.nrrd',\n",
       " '65.b.seg.nrrd',\n",
       " '36.b.seg.nrrd',\n",
       " '69.b.seg.nrrd',\n",
       " '6.b.seg.nrrd']"
      ]
     },
     "execution_count": 50,
     "metadata": {},
     "output_type": "execute_result"
    }
   ],
   "source": [
    "y_test"
   ]
  },
  {
   "cell_type": "code",
   "execution_count": null,
   "id": "11dfff12",
   "metadata": {},
   "outputs": [],
   "source": []
  },
  {
   "cell_type": "code",
   "execution_count": null,
   "id": "15f0c025",
   "metadata": {},
   "outputs": [],
   "source": []
  },
  {
   "cell_type": "code",
   "execution_count": null,
   "id": "664a6380",
   "metadata": {},
   "outputs": [],
   "source": []
  },
  {
   "cell_type": "code",
   "execution_count": null,
   "id": "81dd4a81",
   "metadata": {},
   "outputs": [],
   "source": []
  },
  {
   "cell_type": "code",
   "execution_count": null,
   "id": "ea21ec4b",
   "metadata": {},
   "outputs": [],
   "source": []
  },
  {
   "cell_type": "code",
   "execution_count": null,
   "id": "1118fe91",
   "metadata": {},
   "outputs": [],
   "source": []
  },
  {
   "cell_type": "code",
   "execution_count": null,
   "id": "63e81c32",
   "metadata": {},
   "outputs": [],
   "source": []
  },
  {
   "cell_type": "code",
   "execution_count": 51,
   "id": "6770773d",
   "metadata": {},
   "outputs": [],
   "source": [
    "X_train, y_train, X_test, y_test = C.Helper.split_patients(images, labels)"
   ]
  },
  {
   "cell_type": "code",
   "execution_count": 52,
   "id": "f293387a",
   "metadata": {},
   "outputs": [
    {
     "data": {
      "text/plain": [
       "['50.img.nrrd',\n",
       " '18.img.nrrd',\n",
       " '31.img.nrrd',\n",
       " '69.img.nrrd',\n",
       " '60.b.img.nrrd',\n",
       " '47.img.nrrd',\n",
       " '26.img.nrrd',\n",
       " '94.img.nrrd',\n",
       " '32.img.nrrd',\n",
       " '40.img.nrrd',\n",
       " '52.img.nrrd',\n",
       " '71.img.nrrd',\n",
       " '13.img.nrrd',\n",
       " '27.img.nrrd',\n",
       " '86.img.nrrd',\n",
       " '46.img.nrrd',\n",
       " '17.img.nrrd',\n",
       " '23.img.nrrd',\n",
       " '41.img.nrrd',\n",
       " '35.img.nrrd',\n",
       " '93.img.nrrd',\n",
       " '75.img.nrrd',\n",
       " '36.img.nrrd',\n",
       " '29.img.nrrd',\n",
       " '14.img.nrrd',\n",
       " '10.img.nrrd',\n",
       " '62.img.nrrd',\n",
       " '7.img.nrrd',\n",
       " '79.img.nrrd',\n",
       " '42.b.img.nrrd',\n",
       " '83.img.nrrd',\n",
       " '53.img.nrrd',\n",
       " '90.img.nrrd',\n",
       " '96.img.nrrd',\n",
       " '22.img.nrrd',\n",
       " '55.b.img.nrrd',\n",
       " '77.img.nrrd',\n",
       " '92.img.nrrd',\n",
       " '66.img.nrrd',\n",
       " '97.img.nrrd',\n",
       " '95.b.img.nrrd',\n",
       " '84.img.nrrd',\n",
       " '39.img.nrrd',\n",
       " '11.b.img.nrrd',\n",
       " '21.img.nrrd',\n",
       " '33.img.nrrd',\n",
       " '87.img.nrrd',\n",
       " '6.img.nrrd',\n",
       " '73.img.nrrd',\n",
       " '24.img.nrrd',\n",
       " '51.img.nrrd',\n",
       " '63.img.nrrd',\n",
       " '45.img.nrrd',\n",
       " '88.img.nrrd',\n",
       " '65.b.img.nrrd',\n",
       " '57.img.nrrd']"
      ]
     },
     "execution_count": 52,
     "metadata": {},
     "output_type": "execute_result"
    }
   ],
   "source": [
    "X_train"
   ]
  },
  {
   "cell_type": "code",
   "execution_count": 53,
   "id": "709dc43e",
   "metadata": {},
   "outputs": [
    {
     "data": {
      "text/plain": [
       "['50.b.seg.nrrd',\n",
       " '18.b.seg.nrrd',\n",
       " '31.b.seg.nrrd',\n",
       " '69.b.seg.nrrd',\n",
       " '60.b.seg.nrrd',\n",
       " '47.b.seg.nrrd',\n",
       " '26.b.seg.nrrd',\n",
       " '94.b.seg.nrrd',\n",
       " '32.b.seg.nrrd',\n",
       " '40.b.seg.nrrd',\n",
       " '52.b.seg.nrrd',\n",
       " '71.b.seg.nrrd',\n",
       " '13.b.seg.nrrd',\n",
       " '27.b.seg.nrrd',\n",
       " '86.b.seg.nrrd',\n",
       " '46.b.seg.nrrd',\n",
       " '17.b.seg.nrrd',\n",
       " '23.b.seg.nrrd',\n",
       " '41.b.seg.nrrd',\n",
       " '35.b.seg.nrrd',\n",
       " '93.b.seg.nrrd',\n",
       " '75.b.seg.nrrd',\n",
       " '36.b.seg.nrrd',\n",
       " '29.b.seg.nrrd',\n",
       " '14.b.seg.nrrd',\n",
       " '10.b.seg.nrrd',\n",
       " '62.b.seg.nrrd',\n",
       " '7.b.seg.nrrd',\n",
       " '79.b.seg.nrrd',\n",
       " '42.b.seg.nrrd',\n",
       " '83.b.seg.nrrd',\n",
       " '53.b.seg.nrrd',\n",
       " '90.b.seg.nrrd',\n",
       " '96.b.seg.nrrd',\n",
       " '22.b.seg.nrrd',\n",
       " '55.b.seg.nrrd',\n",
       " '77.b.seg.nrrd',\n",
       " '92.b.seg.nrrd',\n",
       " '66.b.seg.nrrd',\n",
       " '97.b.seg.nrrd',\n",
       " '95.b.seg.nrrd',\n",
       " '84.b.seg.nrrd',\n",
       " '39.b.seg.nrrd',\n",
       " '11.b.seg.nrrd',\n",
       " '21.b.seg.nrrd',\n",
       " '33.b.seg.nrrd',\n",
       " '87.b.seg.nrrd',\n",
       " '6.b.seg.nrrd',\n",
       " '73.b.seg.nrrd',\n",
       " '24.b.seg.nrrd',\n",
       " '51.b.seg.nrrd',\n",
       " '63.b.seg.nrrd',\n",
       " '45.b.seg.nrrd',\n",
       " '88.b.seg.nrrd',\n",
       " '65.b.seg.nrrd',\n",
       " '57.b.seg.nrrd']"
      ]
     },
     "execution_count": 53,
     "metadata": {},
     "output_type": "execute_result"
    }
   ],
   "source": [
    "y_train"
   ]
  },
  {
   "cell_type": "code",
   "execution_count": 54,
   "id": "08431408",
   "metadata": {},
   "outputs": [
    {
     "data": {
      "text/plain": [
       "['61.img.nrrd',\n",
       " '49.img.nrrd',\n",
       " '64.img.nrrd',\n",
       " '9.img.nrrd',\n",
       " '48.img.nrrd',\n",
       " '12.img.nrrd',\n",
       " '72.img.nrrd',\n",
       " '16.img.nrrd',\n",
       " '91.img.nrrd',\n",
       " '5.img.nrrd',\n",
       " '82.img.nrrd',\n",
       " '25.img.nrrd',\n",
       " '15.img.nrrd',\n",
       " '2.img.nrrd']"
      ]
     },
     "execution_count": 54,
     "metadata": {},
     "output_type": "execute_result"
    }
   ],
   "source": [
    "X_test"
   ]
  },
  {
   "cell_type": "code",
   "execution_count": 55,
   "id": "5a1be543",
   "metadata": {},
   "outputs": [
    {
     "data": {
      "text/plain": [
       "['61.b.seg.nrrd',\n",
       " '49.b.seg.nrrd',\n",
       " '64.b.seg.nrrd',\n",
       " '9.b.seg.nrrd',\n",
       " '48.b.seg.nrrd',\n",
       " '12.b.seg.nrrd',\n",
       " '72.b.seg.nrrd',\n",
       " '16.b.seg.nrrd',\n",
       " '91.b.seg.nrrd',\n",
       " '5.b.seg.nrrd',\n",
       " '82.b.seg.nrrd',\n",
       " '25.b.seg.nrrd',\n",
       " '15.b.seg.nrrd',\n",
       " '2.b.seg.nrrd']"
      ]
     },
     "execution_count": 55,
     "metadata": {},
     "output_type": "execute_result"
    }
   ],
   "source": [
    "y_test"
   ]
  },
  {
   "cell_type": "code",
   "execution_count": null,
   "id": "e59a45f6",
   "metadata": {},
   "outputs": [],
   "source": []
  },
  {
   "cell_type": "code",
   "execution_count": null,
   "id": "453f312a",
   "metadata": {},
   "outputs": [],
   "source": []
  },
  {
   "cell_type": "code",
   "execution_count": null,
   "id": "01c42555",
   "metadata": {},
   "outputs": [],
   "source": []
  },
  {
   "cell_type": "code",
   "execution_count": null,
   "id": "5c05ea8c",
   "metadata": {},
   "outputs": [],
   "source": []
  },
  {
   "cell_type": "code",
   "execution_count": null,
   "id": "e303f7b1",
   "metadata": {},
   "outputs": [],
   "source": []
  },
  {
   "cell_type": "code",
   "execution_count": null,
   "id": "02599c52",
   "metadata": {},
   "outputs": [],
   "source": []
  },
  {
   "cell_type": "code",
   "execution_count": 56,
   "id": "30b00a54",
   "metadata": {},
   "outputs": [],
   "source": [
    "X_train, y_train, X_test, y_test = C.Helper.split_patients(images, labels)"
   ]
  },
  {
   "cell_type": "code",
   "execution_count": 57,
   "id": "f43d915c",
   "metadata": {},
   "outputs": [
    {
     "data": {
      "text/plain": [
       "['22.img.nrrd',\n",
       " '64.img.nrrd',\n",
       " '87.img.nrrd',\n",
       " '21.img.nrrd',\n",
       " '42.b.img.nrrd',\n",
       " '93.img.nrrd',\n",
       " '29.img.nrrd',\n",
       " '32.img.nrrd',\n",
       " '53.img.nrrd',\n",
       " '18.img.nrrd',\n",
       " '51.img.nrrd',\n",
       " '13.img.nrrd',\n",
       " '94.img.nrrd',\n",
       " '27.img.nrrd',\n",
       " '82.img.nrrd',\n",
       " '5.img.nrrd',\n",
       " '65.b.img.nrrd',\n",
       " '79.img.nrrd',\n",
       " '15.img.nrrd',\n",
       " '14.img.nrrd',\n",
       " '46.img.nrrd',\n",
       " '86.img.nrrd',\n",
       " '95.b.img.nrrd',\n",
       " '11.b.img.nrrd',\n",
       " '97.img.nrrd',\n",
       " '50.img.nrrd',\n",
       " '91.img.nrrd',\n",
       " '24.img.nrrd',\n",
       " '88.img.nrrd',\n",
       " '35.img.nrrd',\n",
       " '61.img.nrrd',\n",
       " '63.img.nrrd',\n",
       " '92.img.nrrd',\n",
       " '47.img.nrrd',\n",
       " '39.img.nrrd',\n",
       " '75.img.nrrd',\n",
       " '2.img.nrrd',\n",
       " '6.img.nrrd',\n",
       " '26.img.nrrd',\n",
       " '7.img.nrrd',\n",
       " '84.img.nrrd',\n",
       " '41.img.nrrd',\n",
       " '40.img.nrrd',\n",
       " '36.img.nrrd',\n",
       " '62.img.nrrd',\n",
       " '55.b.img.nrrd',\n",
       " '9.img.nrrd',\n",
       " '16.img.nrrd',\n",
       " '23.img.nrrd',\n",
       " '60.b.img.nrrd',\n",
       " '10.img.nrrd',\n",
       " '25.img.nrrd',\n",
       " '90.img.nrrd',\n",
       " '48.img.nrrd',\n",
       " '52.img.nrrd',\n",
       " '31.img.nrrd']"
      ]
     },
     "execution_count": 57,
     "metadata": {},
     "output_type": "execute_result"
    }
   ],
   "source": [
    "X_train"
   ]
  },
  {
   "cell_type": "code",
   "execution_count": 58,
   "id": "cb889e0e",
   "metadata": {},
   "outputs": [
    {
     "data": {
      "text/plain": [
       "['22.b.seg.nrrd',\n",
       " '64.b.seg.nrrd',\n",
       " '87.b.seg.nrrd',\n",
       " '21.b.seg.nrrd',\n",
       " '42.b.seg.nrrd',\n",
       " '93.b.seg.nrrd',\n",
       " '29.b.seg.nrrd',\n",
       " '32.b.seg.nrrd',\n",
       " '53.b.seg.nrrd',\n",
       " '18.b.seg.nrrd',\n",
       " '51.b.seg.nrrd',\n",
       " '13.b.seg.nrrd',\n",
       " '94.b.seg.nrrd',\n",
       " '27.b.seg.nrrd',\n",
       " '82.b.seg.nrrd',\n",
       " '5.b.seg.nrrd',\n",
       " '65.b.seg.nrrd',\n",
       " '79.b.seg.nrrd',\n",
       " '15.b.seg.nrrd',\n",
       " '14.b.seg.nrrd',\n",
       " '46.b.seg.nrrd',\n",
       " '86.b.seg.nrrd',\n",
       " '95.b.seg.nrrd',\n",
       " '11.b.seg.nrrd',\n",
       " '97.b.seg.nrrd',\n",
       " '50.b.seg.nrrd',\n",
       " '91.b.seg.nrrd',\n",
       " '24.b.seg.nrrd',\n",
       " '88.b.seg.nrrd',\n",
       " '35.b.seg.nrrd',\n",
       " '61.b.seg.nrrd',\n",
       " '63.b.seg.nrrd',\n",
       " '92.b.seg.nrrd',\n",
       " '47.b.seg.nrrd',\n",
       " '39.b.seg.nrrd',\n",
       " '75.b.seg.nrrd',\n",
       " '2.b.seg.nrrd',\n",
       " '6.b.seg.nrrd',\n",
       " '26.b.seg.nrrd',\n",
       " '7.b.seg.nrrd',\n",
       " '84.b.seg.nrrd',\n",
       " '41.b.seg.nrrd',\n",
       " '40.b.seg.nrrd',\n",
       " '36.b.seg.nrrd',\n",
       " '62.b.seg.nrrd',\n",
       " '55.b.seg.nrrd',\n",
       " '9.b.seg.nrrd',\n",
       " '16.b.seg.nrrd',\n",
       " '23.b.seg.nrrd',\n",
       " '60.b.seg.nrrd',\n",
       " '10.b.seg.nrrd',\n",
       " '25.b.seg.nrrd',\n",
       " '90.b.seg.nrrd',\n",
       " '48.b.seg.nrrd',\n",
       " '52.b.seg.nrrd',\n",
       " '31.b.seg.nrrd']"
      ]
     },
     "execution_count": 58,
     "metadata": {},
     "output_type": "execute_result"
    }
   ],
   "source": [
    "y_train"
   ]
  },
  {
   "cell_type": "code",
   "execution_count": 59,
   "id": "43d056bc",
   "metadata": {},
   "outputs": [
    {
     "data": {
      "text/plain": [
       "['69.img.nrrd',\n",
       " '17.img.nrrd',\n",
       " '71.img.nrrd',\n",
       " '96.img.nrrd',\n",
       " '49.img.nrrd',\n",
       " '33.img.nrrd',\n",
       " '66.img.nrrd',\n",
       " '12.img.nrrd',\n",
       " '73.img.nrrd',\n",
       " '77.img.nrrd',\n",
       " '72.img.nrrd',\n",
       " '83.img.nrrd',\n",
       " '57.img.nrrd',\n",
       " '45.img.nrrd']"
      ]
     },
     "execution_count": 59,
     "metadata": {},
     "output_type": "execute_result"
    }
   ],
   "source": [
    "X_test"
   ]
  },
  {
   "cell_type": "code",
   "execution_count": 60,
   "id": "d4252430",
   "metadata": {},
   "outputs": [
    {
     "data": {
      "text/plain": [
       "['69.b.seg.nrrd',\n",
       " '17.b.seg.nrrd',\n",
       " '71.b.seg.nrrd',\n",
       " '96.b.seg.nrrd',\n",
       " '49.b.seg.nrrd',\n",
       " '33.b.seg.nrrd',\n",
       " '66.b.seg.nrrd',\n",
       " '12.b.seg.nrrd',\n",
       " '73.b.seg.nrrd',\n",
       " '77.b.seg.nrrd',\n",
       " '72.b.seg.nrrd',\n",
       " '83.b.seg.nrrd',\n",
       " '57.b.seg.nrrd',\n",
       " '45.b.seg.nrrd']"
      ]
     },
     "execution_count": 60,
     "metadata": {},
     "output_type": "execute_result"
    }
   ],
   "source": [
    "y_test"
   ]
  },
  {
   "cell_type": "code",
   "execution_count": null,
   "id": "ebd12360",
   "metadata": {},
   "outputs": [],
   "source": []
  }
 ],
 "metadata": {
  "kernelspec": {
   "display_name": "Python 3 (ipykernel)",
   "language": "python",
   "name": "python3"
  },
  "language_info": {
   "codemirror_mode": {
    "name": "ipython",
    "version": 3
   },
   "file_extension": ".py",
   "mimetype": "text/x-python",
   "name": "python",
   "nbconvert_exporter": "python",
   "pygments_lexer": "ipython3",
   "version": "3.10.8"
  }
 },
 "nbformat": 4,
 "nbformat_minor": 5
}
