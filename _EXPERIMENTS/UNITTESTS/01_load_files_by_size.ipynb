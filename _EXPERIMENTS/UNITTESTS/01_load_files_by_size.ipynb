{
 "cells": [
  {
   "cell_type": "code",
   "execution_count": 1,
   "id": "8abadd2c",
   "metadata": {},
   "outputs": [
    {
     "name": "stdout",
     "output_type": "stream",
     "text": [
      "%pylab is deprecated, use %matplotlib inline and import the required libraries.\n",
      "Populating the interactive namespace from numpy and matplotlib\n"
     ]
    }
   ],
   "source": [
    "%pylab inline\n",
    "%load_ext autoreload\n",
    "%autoreload 2"
   ]
  },
  {
   "cell_type": "code",
   "execution_count": 2,
   "id": "b197496c",
   "metadata": {},
   "outputs": [],
   "source": [
    "import cactas as C\n",
    "import nrrd"
   ]
  },
  {
   "cell_type": "code",
   "execution_count": 3,
   "id": "aa96a113",
   "metadata": {},
   "outputs": [],
   "source": [
    "DATAPATH='/raid/mpsych/CACTAS/DATA/ESUS'"
   ]
  },
  {
   "cell_type": "code",
   "execution_count": 4,
   "id": "769cafbc",
   "metadata": {},
   "outputs": [],
   "source": [
    "images, labels = C.Helper.load_files(DATAPATH)"
   ]
  },
  {
   "cell_type": "code",
   "execution_count": 5,
   "id": "a5962abe",
   "metadata": {},
   "outputs": [],
   "source": [
    "X_train, y_train, X_test, y_test = C.Helper.split_patients(images, labels)"
   ]
  },
  {
   "cell_type": "code",
   "execution_count": 6,
   "id": "be14c616",
   "metadata": {},
   "outputs": [
    {
     "data": {
      "text/plain": [
       "(['71.img.nrrd',\n",
       "  '21.img.nrrd',\n",
       "  '26.img.nrrd',\n",
       "  '91.img.nrrd',\n",
       "  '52.img.nrrd',\n",
       "  '69.img.nrrd',\n",
       "  '22.img.nrrd',\n",
       "  '31.img.nrrd',\n",
       "  '14.img.nrrd',\n",
       "  '75.img.nrrd',\n",
       "  '5.img.nrrd',\n",
       "  '6.img.nrrd',\n",
       "  '86.img.nrrd',\n",
       "  '95.b.img.nrrd',\n",
       "  '79.img.nrrd',\n",
       "  '64.img.nrrd',\n",
       "  '55.b.img.nrrd',\n",
       "  '92.img.nrrd',\n",
       "  '49.img.nrrd',\n",
       "  '45.img.nrrd',\n",
       "  '88.img.nrrd',\n",
       "  '61.img.nrrd',\n",
       "  '23.img.nrrd',\n",
       "  '63.img.nrrd',\n",
       "  '35.img.nrrd',\n",
       "  '51.img.nrrd',\n",
       "  '12.img.nrrd',\n",
       "  '15.img.nrrd',\n",
       "  '66.img.nrrd',\n",
       "  '57.img.nrrd',\n",
       "  '46.img.nrrd',\n",
       "  '11.b.img.nrrd',\n",
       "  '41.img.nrrd',\n",
       "  '24.img.nrrd',\n",
       "  '84.img.nrrd',\n",
       "  '83.img.nrrd',\n",
       "  '9.img.nrrd',\n",
       "  '10.img.nrrd',\n",
       "  '7.img.nrrd',\n",
       "  '33.img.nrrd',\n",
       "  '18.img.nrrd',\n",
       "  '65.b.img.nrrd',\n",
       "  '16.img.nrrd',\n",
       "  '72.img.nrrd',\n",
       "  '62.img.nrrd',\n",
       "  '29.img.nrrd',\n",
       "  '60.b.img.nrrd',\n",
       "  '42.b.img.nrrd',\n",
       "  '94.img.nrrd',\n",
       "  '27.img.nrrd',\n",
       "  '50.img.nrrd',\n",
       "  '2.img.nrrd',\n",
       "  '13.img.nrrd',\n",
       "  '97.img.nrrd',\n",
       "  '96.img.nrrd',\n",
       "  '53.img.nrrd'],\n",
       " ['71.b.seg.nrrd',\n",
       "  '21.b.seg.nrrd',\n",
       "  '26.b.seg.nrrd',\n",
       "  '91.b.seg.nrrd',\n",
       "  '52.b.seg.nrrd',\n",
       "  '69.b.seg.nrrd',\n",
       "  '22.b.seg.nrrd',\n",
       "  '31.b.seg.nrrd',\n",
       "  '14.b.seg.nrrd',\n",
       "  '75.b.seg.nrrd',\n",
       "  '5.b.seg.nrrd',\n",
       "  '6.b.seg.nrrd',\n",
       "  '86.b.seg.nrrd',\n",
       "  '95.b.seg.nrrd',\n",
       "  '79.b.seg.nrrd',\n",
       "  '64.b.seg.nrrd',\n",
       "  '55.b.seg.nrrd',\n",
       "  '92.b.seg.nrrd',\n",
       "  '49.b.seg.nrrd',\n",
       "  '45.b.seg.nrrd',\n",
       "  '88.b.seg.nrrd',\n",
       "  '61.b.seg.nrrd',\n",
       "  '23.b.seg.nrrd',\n",
       "  '63.b.seg.nrrd',\n",
       "  '35.b.seg.nrrd',\n",
       "  '51.b.seg.nrrd',\n",
       "  '12.b.seg.nrrd',\n",
       "  '15.b.seg.nrrd',\n",
       "  '66.b.seg.nrrd',\n",
       "  '57.b.seg.nrrd',\n",
       "  '46.b.seg.nrrd',\n",
       "  '11.b.seg.nrrd',\n",
       "  '41.b.seg.nrrd',\n",
       "  '24.b.seg.nrrd',\n",
       "  '84.b.seg.nrrd',\n",
       "  '83.b.seg.nrrd',\n",
       "  '9.b.seg.nrrd',\n",
       "  '10.b.seg.nrrd',\n",
       "  '7.b.seg.nrrd',\n",
       "  '33.b.seg.nrrd',\n",
       "  '18.b.seg.nrrd',\n",
       "  '65.b.seg.nrrd',\n",
       "  '16.b.seg.nrrd',\n",
       "  '72.b.seg.nrrd',\n",
       "  '62.b.seg.nrrd',\n",
       "  '29.b.seg.nrrd',\n",
       "  '60.b.seg.nrrd',\n",
       "  '42.b.seg.nrrd',\n",
       "  '94.b.seg.nrrd',\n",
       "  '27.b.seg.nrrd',\n",
       "  '50.b.seg.nrrd',\n",
       "  '2.b.seg.nrrd',\n",
       "  '13.b.seg.nrrd',\n",
       "  '97.b.seg.nrrd',\n",
       "  '96.b.seg.nrrd',\n",
       "  '53.b.seg.nrrd'])"
      ]
     },
     "execution_count": 6,
     "metadata": {},
     "output_type": "execute_result"
    }
   ],
   "source": [
    "X_train, y_train"
   ]
  },
  {
   "cell_type": "code",
   "execution_count": 7,
   "id": "b70e92de",
   "metadata": {},
   "outputs": [
    {
     "data": {
      "text/plain": [
       "(['40.img.nrrd',\n",
       "  '73.img.nrrd',\n",
       "  '32.img.nrrd',\n",
       "  '48.img.nrrd',\n",
       "  '82.img.nrrd',\n",
       "  '77.img.nrrd',\n",
       "  '36.img.nrrd',\n",
       "  '17.img.nrrd',\n",
       "  '25.img.nrrd',\n",
       "  '87.img.nrrd',\n",
       "  '93.img.nrrd',\n",
       "  '39.img.nrrd',\n",
       "  '47.img.nrrd',\n",
       "  '90.img.nrrd'],\n",
       " ['40.b.seg.nrrd',\n",
       "  '73.b.seg.nrrd',\n",
       "  '32.b.seg.nrrd',\n",
       "  '48.b.seg.nrrd',\n",
       "  '82.b.seg.nrrd',\n",
       "  '77.b.seg.nrrd',\n",
       "  '36.b.seg.nrrd',\n",
       "  '17.b.seg.nrrd',\n",
       "  '25.b.seg.nrrd',\n",
       "  '87.b.seg.nrrd',\n",
       "  '93.b.seg.nrrd',\n",
       "  '39.b.seg.nrrd',\n",
       "  '47.b.seg.nrrd',\n",
       "  '90.b.seg.nrrd'])"
      ]
     },
     "execution_count": 7,
     "metadata": {},
     "output_type": "execute_result"
    }
   ],
   "source": [
    "X_test, y_test"
   ]
  },
  {
   "cell_type": "code",
   "execution_count": null,
   "id": "bbabad26",
   "metadata": {},
   "outputs": [],
   "source": []
  },
  {
   "cell_type": "code",
   "execution_count": null,
   "id": "0e3f1632",
   "metadata": {},
   "outputs": [],
   "source": []
  },
  {
   "cell_type": "code",
   "execution_count": 8,
   "id": "dc8dbd2f",
   "metadata": {},
   "outputs": [],
   "source": [
    "X_train, y_train, X_test, y_test = C.Helper.split_patients(images, labels)"
   ]
  },
  {
   "cell_type": "code",
   "execution_count": 9,
   "id": "ca397ab2",
   "metadata": {},
   "outputs": [
    {
     "data": {
      "text/plain": [
       "(['7.img.nrrd',\n",
       "  '2.img.nrrd',\n",
       "  '5.img.nrrd',\n",
       "  '57.img.nrrd',\n",
       "  '21.img.nrrd',\n",
       "  '27.img.nrrd',\n",
       "  '23.img.nrrd',\n",
       "  '22.img.nrrd',\n",
       "  '55.b.img.nrrd',\n",
       "  '9.img.nrrd',\n",
       "  '11.b.img.nrrd',\n",
       "  '72.img.nrrd',\n",
       "  '66.img.nrrd',\n",
       "  '63.img.nrrd',\n",
       "  '31.img.nrrd',\n",
       "  '83.img.nrrd',\n",
       "  '46.img.nrrd',\n",
       "  '75.img.nrrd',\n",
       "  '65.b.img.nrrd',\n",
       "  '94.img.nrrd',\n",
       "  '52.img.nrrd',\n",
       "  '64.img.nrrd',\n",
       "  '69.img.nrrd',\n",
       "  '26.img.nrrd',\n",
       "  '6.img.nrrd',\n",
       "  '86.img.nrrd',\n",
       "  '50.img.nrrd',\n",
       "  '42.b.img.nrrd',\n",
       "  '10.img.nrrd',\n",
       "  '71.img.nrrd',\n",
       "  '15.img.nrrd',\n",
       "  '49.img.nrrd',\n",
       "  '29.img.nrrd',\n",
       "  '16.img.nrrd',\n",
       "  '60.b.img.nrrd',\n",
       "  '96.img.nrrd',\n",
       "  '84.img.nrrd',\n",
       "  '53.img.nrrd',\n",
       "  '91.img.nrrd',\n",
       "  '33.img.nrrd',\n",
       "  '79.img.nrrd',\n",
       "  '88.img.nrrd',\n",
       "  '14.img.nrrd',\n",
       "  '92.img.nrrd',\n",
       "  '18.img.nrrd',\n",
       "  '97.img.nrrd',\n",
       "  '24.img.nrrd',\n",
       "  '61.img.nrrd',\n",
       "  '35.img.nrrd',\n",
       "  '45.img.nrrd',\n",
       "  '41.img.nrrd',\n",
       "  '13.img.nrrd',\n",
       "  '95.b.img.nrrd',\n",
       "  '62.img.nrrd',\n",
       "  '12.img.nrrd',\n",
       "  '51.img.nrrd'],\n",
       " ['7.b.seg.nrrd',\n",
       "  '2.b.seg.nrrd',\n",
       "  '5.b.seg.nrrd',\n",
       "  '57.b.seg.nrrd',\n",
       "  '21.b.seg.nrrd',\n",
       "  '27.b.seg.nrrd',\n",
       "  '23.b.seg.nrrd',\n",
       "  '22.b.seg.nrrd',\n",
       "  '55.b.seg.nrrd',\n",
       "  '9.b.seg.nrrd',\n",
       "  '11.b.seg.nrrd',\n",
       "  '72.b.seg.nrrd',\n",
       "  '66.b.seg.nrrd',\n",
       "  '63.b.seg.nrrd',\n",
       "  '31.b.seg.nrrd',\n",
       "  '83.b.seg.nrrd',\n",
       "  '46.b.seg.nrrd',\n",
       "  '75.b.seg.nrrd',\n",
       "  '65.b.seg.nrrd',\n",
       "  '94.b.seg.nrrd',\n",
       "  '52.b.seg.nrrd',\n",
       "  '64.b.seg.nrrd',\n",
       "  '69.b.seg.nrrd',\n",
       "  '26.b.seg.nrrd',\n",
       "  '6.b.seg.nrrd',\n",
       "  '86.b.seg.nrrd',\n",
       "  '50.b.seg.nrrd',\n",
       "  '42.b.seg.nrrd',\n",
       "  '10.b.seg.nrrd',\n",
       "  '71.b.seg.nrrd',\n",
       "  '15.b.seg.nrrd',\n",
       "  '49.b.seg.nrrd',\n",
       "  '29.b.seg.nrrd',\n",
       "  '16.b.seg.nrrd',\n",
       "  '60.b.seg.nrrd',\n",
       "  '96.b.seg.nrrd',\n",
       "  '84.b.seg.nrrd',\n",
       "  '53.b.seg.nrrd',\n",
       "  '91.b.seg.nrrd',\n",
       "  '33.b.seg.nrrd',\n",
       "  '79.b.seg.nrrd',\n",
       "  '88.b.seg.nrrd',\n",
       "  '14.b.seg.nrrd',\n",
       "  '92.b.seg.nrrd',\n",
       "  '18.b.seg.nrrd',\n",
       "  '97.b.seg.nrrd',\n",
       "  '24.b.seg.nrrd',\n",
       "  '61.b.seg.nrrd',\n",
       "  '35.b.seg.nrrd',\n",
       "  '45.b.seg.nrrd',\n",
       "  '41.b.seg.nrrd',\n",
       "  '13.b.seg.nrrd',\n",
       "  '95.b.seg.nrrd',\n",
       "  '62.b.seg.nrrd',\n",
       "  '12.b.seg.nrrd',\n",
       "  '51.b.seg.nrrd'])"
      ]
     },
     "execution_count": 9,
     "metadata": {},
     "output_type": "execute_result"
    }
   ],
   "source": [
    "X_train, y_train"
   ]
  },
  {
   "cell_type": "code",
   "execution_count": 10,
   "id": "c3d32995",
   "metadata": {},
   "outputs": [
    {
     "data": {
      "text/plain": [
       "(['32.img.nrrd',\n",
       "  '87.img.nrrd',\n",
       "  '48.img.nrrd',\n",
       "  '39.img.nrrd',\n",
       "  '77.img.nrrd',\n",
       "  '17.img.nrrd',\n",
       "  '47.img.nrrd',\n",
       "  '36.img.nrrd',\n",
       "  '82.img.nrrd',\n",
       "  '73.img.nrrd',\n",
       "  '25.img.nrrd',\n",
       "  '40.img.nrrd',\n",
       "  '90.img.nrrd',\n",
       "  '93.img.nrrd'],\n",
       " ['32.b.seg.nrrd',\n",
       "  '87.b.seg.nrrd',\n",
       "  '48.b.seg.nrrd',\n",
       "  '39.b.seg.nrrd',\n",
       "  '77.b.seg.nrrd',\n",
       "  '17.b.seg.nrrd',\n",
       "  '47.b.seg.nrrd',\n",
       "  '36.b.seg.nrrd',\n",
       "  '82.b.seg.nrrd',\n",
       "  '73.b.seg.nrrd',\n",
       "  '25.b.seg.nrrd',\n",
       "  '40.b.seg.nrrd',\n",
       "  '90.b.seg.nrrd',\n",
       "  '93.b.seg.nrrd'])"
      ]
     },
     "execution_count": 10,
     "metadata": {},
     "output_type": "execute_result"
    }
   ],
   "source": [
    "X_test, y_test"
   ]
  },
  {
   "cell_type": "code",
   "execution_count": null,
   "id": "7974c616",
   "metadata": {},
   "outputs": [],
   "source": []
  },
  {
   "cell_type": "code",
   "execution_count": null,
   "id": "4b829387",
   "metadata": {},
   "outputs": [],
   "source": []
  },
  {
   "cell_type": "code",
   "execution_count": null,
   "id": "72f48009",
   "metadata": {},
   "outputs": [],
   "source": []
  },
  {
   "cell_type": "code",
   "execution_count": null,
   "id": "75282d37",
   "metadata": {},
   "outputs": [],
   "source": []
  },
  {
   "cell_type": "code",
   "execution_count": null,
   "id": "d20d009f",
   "metadata": {},
   "outputs": [],
   "source": []
  },
  {
   "cell_type": "code",
   "execution_count": null,
   "id": "bd417b31",
   "metadata": {},
   "outputs": [],
   "source": []
  },
  {
   "cell_type": "code",
   "execution_count": null,
   "id": "30021f9e",
   "metadata": {},
   "outputs": [],
   "source": []
  },
  {
   "cell_type": "code",
   "execution_count": null,
   "id": "39c83c5d",
   "metadata": {},
   "outputs": [],
   "source": []
  }
 ],
 "metadata": {
  "kernelspec": {
   "display_name": "Python 3 (ipykernel)",
   "language": "python",
   "name": "python3"
  },
  "language_info": {
   "codemirror_mode": {
    "name": "ipython",
    "version": 3
   },
   "file_extension": ".py",
   "mimetype": "text/x-python",
   "name": "python",
   "nbconvert_exporter": "python",
   "pygments_lexer": "ipython3",
   "version": "3.10.8"
  }
 },
 "nbformat": 4,
 "nbformat_minor": 5
}
