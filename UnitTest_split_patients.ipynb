{
 "cells": [
  {
   "cell_type": "code",
   "execution_count": 1,
   "id": "a3e237f7",
   "metadata": {},
   "outputs": [
    {
     "name": "stdout",
     "output_type": "stream",
     "text": [
      "%pylab is deprecated, use %matplotlib inline and import the required libraries.\n",
      "Populating the interactive namespace from numpy and matplotlib\n"
     ]
    }
   ],
   "source": [
    "%pylab inline\n",
    "%load_ext autoreload\n",
    "%autoreload 2"
   ]
  },
  {
   "cell_type": "code",
   "execution_count": 2,
   "id": "f84b18f5",
   "metadata": {},
   "outputs": [],
   "source": [
    "import cactas as C"
   ]
  },
  {
   "cell_type": "code",
   "execution_count": 3,
   "id": "572d684c",
   "metadata": {},
   "outputs": [],
   "source": [
    "DATAPATH='/raid/mpsych/CACTAS/DATA/ESUS'"
   ]
  },
  {
   "cell_type": "code",
   "execution_count": null,
   "id": "ae3f1f0b",
   "metadata": {},
   "outputs": [],
   "source": []
  },
  {
   "cell_type": "code",
   "execution_count": 4,
   "id": "a011138b",
   "metadata": {},
   "outputs": [],
   "source": [
    "######1"
   ]
  },
  {
   "cell_type": "code",
   "execution_count": 5,
   "id": "7e6b0395",
   "metadata": {},
   "outputs": [],
   "source": [
    "data = ('5.img.nrrd', '64.img.nrrd', \"24.img.nrrd\", \"83.img.nrrd\",\n",
    "        '5.a.seg.nrrd', '64.a.seg.nrrd', '24.seg.nrrd', '83.a.seg.nrrd',\n",
    "        '84.img.nrrd', '73.img.nrrd',  '71.img.nrrd',\n",
    "        '84.a.seg.nrrd','73.a.seg.nrrd', '71.seg.nrrd')"
   ]
  },
  {
   "cell_type": "code",
   "execution_count": 6,
   "id": "6c5d792e",
   "metadata": {},
   "outputs": [],
   "source": [
    "X_train, y_train, X_test, y_test = C.Helper.split(data)"
   ]
  },
  {
   "cell_type": "code",
   "execution_count": 7,
   "id": "1d9e84ed",
   "metadata": {},
   "outputs": [
    {
     "data": {
      "text/plain": [
       "['5.img.nrrd', '24.img.nrrd', '84.img.nrrd', '83.img.nrrd', '64.img.nrrd']"
      ]
     },
     "execution_count": 7,
     "metadata": {},
     "output_type": "execute_result"
    }
   ],
   "source": [
    "X_train"
   ]
  },
  {
   "cell_type": "code",
   "execution_count": 8,
   "id": "05b481c5",
   "metadata": {},
   "outputs": [
    {
     "data": {
      "text/plain": [
       "['5.a.seg.nrrd',\n",
       " '24.seg.nrrd',\n",
       " '84.a.seg.nrrd',\n",
       " '83.a.seg.nrrd',\n",
       " '64.a.seg.nrrd']"
      ]
     },
     "execution_count": 8,
     "metadata": {},
     "output_type": "execute_result"
    }
   ],
   "source": [
    "y_train"
   ]
  },
  {
   "cell_type": "code",
   "execution_count": 9,
   "id": "4109f9ef",
   "metadata": {},
   "outputs": [
    {
     "data": {
      "text/plain": [
       "['73.img.nrrd', '71.img.nrrd']"
      ]
     },
     "execution_count": 9,
     "metadata": {},
     "output_type": "execute_result"
    }
   ],
   "source": [
    "X_test"
   ]
  },
  {
   "cell_type": "code",
   "execution_count": 10,
   "id": "e6d24326",
   "metadata": {},
   "outputs": [
    {
     "data": {
      "text/plain": [
       "['73.a.seg.nrrd', '71.seg.nrrd']"
      ]
     },
     "execution_count": 10,
     "metadata": {},
     "output_type": "execute_result"
    }
   ],
   "source": [
    "y_test"
   ]
  },
  {
   "cell_type": "code",
   "execution_count": null,
   "id": "e4117065",
   "metadata": {},
   "outputs": [],
   "source": []
  },
  {
   "cell_type": "code",
   "execution_count": 11,
   "id": "3c2c86f8",
   "metadata": {},
   "outputs": [],
   "source": [
    "######2"
   ]
  },
  {
   "cell_type": "code",
   "execution_count": 12,
   "id": "b701f36b",
   "metadata": {},
   "outputs": [],
   "source": [
    "data = ('9.img.nrrd',\n",
    " '86.img.nrrd',\n",
    " '25.img.nrrd',\n",
    " '45.img.nrrd',\n",
    " '36.img.nrrd',\n",
    " '23.img.nrrd',\n",
    " '40.img.nrrd',\n",
    " '9.a.seg.nrrd',\n",
    " '86.a.seg.nrrd',\n",
    " '25.seg.nrrd',\n",
    " '45.seg.nrrd',\n",
    " '36.seg.nrrd',\n",
    " '23.seg.nrrd',\n",
    " '40.seg.nrrd',\n",
    " '57.img.nrrd',\n",
    " '88.img.nrrd',\n",
    " '41.img.nrrd',\n",
    " '57.a.seg.nrrd',\n",
    " '88.seg.nrrd',\n",
    " '41.a.seg.nrrd',\n",
    "  )"
   ]
  },
  {
   "cell_type": "code",
   "execution_count": 13,
   "id": "4e57cbc8",
   "metadata": {},
   "outputs": [],
   "source": [
    "X_train, y_train, X_test, y_test = C.Helper.split(data)"
   ]
  },
  {
   "cell_type": "code",
   "execution_count": 14,
   "id": "ecfa562e",
   "metadata": {},
   "outputs": [
    {
     "data": {
      "text/plain": [
       "['9.img.nrrd',\n",
       " '23.img.nrrd',\n",
       " '57.img.nrrd',\n",
       " '86.img.nrrd',\n",
       " '25.img.nrrd',\n",
       " '40.img.nrrd',\n",
       " '36.img.nrrd',\n",
       " '45.img.nrrd']"
      ]
     },
     "execution_count": 14,
     "metadata": {},
     "output_type": "execute_result"
    }
   ],
   "source": [
    "X_train"
   ]
  },
  {
   "cell_type": "code",
   "execution_count": 15,
   "id": "106cae0e",
   "metadata": {},
   "outputs": [
    {
     "data": {
      "text/plain": [
       "['9.a.seg.nrrd',\n",
       " '23.seg.nrrd',\n",
       " '57.a.seg.nrrd',\n",
       " '86.a.seg.nrrd',\n",
       " '25.seg.nrrd',\n",
       " '40.seg.nrrd',\n",
       " '36.seg.nrrd',\n",
       " '45.seg.nrrd']"
      ]
     },
     "execution_count": 15,
     "metadata": {},
     "output_type": "execute_result"
    }
   ],
   "source": [
    "y_train"
   ]
  },
  {
   "cell_type": "code",
   "execution_count": 16,
   "id": "6476c1ba",
   "metadata": {},
   "outputs": [
    {
     "data": {
      "text/plain": [
       "['88.img.nrrd', '41.img.nrrd']"
      ]
     },
     "execution_count": 16,
     "metadata": {},
     "output_type": "execute_result"
    }
   ],
   "source": [
    "X_test"
   ]
  },
  {
   "cell_type": "code",
   "execution_count": 17,
   "id": "173c528d",
   "metadata": {},
   "outputs": [
    {
     "data": {
      "text/plain": [
       "['88.seg.nrrd', '41.a.seg.nrrd']"
      ]
     },
     "execution_count": 17,
     "metadata": {},
     "output_type": "execute_result"
    }
   ],
   "source": [
    "y_test"
   ]
  },
  {
   "cell_type": "code",
   "execution_count": null,
   "id": "e53bd488",
   "metadata": {},
   "outputs": [],
   "source": []
  },
  {
   "cell_type": "code",
   "execution_count": 18,
   "id": "d874d20e",
   "metadata": {},
   "outputs": [],
   "source": [
    "#####3"
   ]
  },
  {
   "cell_type": "code",
   "execution_count": 19,
   "id": "4e43946d",
   "metadata": {},
   "outputs": [],
   "source": [
    "data = ('52.img.nrrd',\n",
    " '61.img.nrrd',\n",
    " '52.a.seg.nrrd',\n",
    " '61.a.seg.nrrd',\n",
    " '94.img.nrrd',\n",
    " '94.a.seg.nrrd')"
   ]
  },
  {
   "cell_type": "code",
   "execution_count": 20,
   "id": "d2b2a1a0",
   "metadata": {},
   "outputs": [],
   "source": [
    "X_train, y_train, X_test, y_test = C.Helper.split(data)"
   ]
  },
  {
   "cell_type": "code",
   "execution_count": 21,
   "id": "05aae42f",
   "metadata": {},
   "outputs": [
    {
     "data": {
      "text/plain": [
       "['52.img.nrrd', '61.img.nrrd']"
      ]
     },
     "execution_count": 21,
     "metadata": {},
     "output_type": "execute_result"
    }
   ],
   "source": [
    "X_train"
   ]
  },
  {
   "cell_type": "code",
   "execution_count": 22,
   "id": "7238430a",
   "metadata": {},
   "outputs": [
    {
     "data": {
      "text/plain": [
       "['52.a.seg.nrrd', '61.a.seg.nrrd']"
      ]
     },
     "execution_count": 22,
     "metadata": {},
     "output_type": "execute_result"
    }
   ],
   "source": [
    "y_train"
   ]
  },
  {
   "cell_type": "code",
   "execution_count": 23,
   "id": "6c3ce573",
   "metadata": {},
   "outputs": [
    {
     "data": {
      "text/plain": [
       "['94.img.nrrd']"
      ]
     },
     "execution_count": 23,
     "metadata": {},
     "output_type": "execute_result"
    }
   ],
   "source": [
    "X_test"
   ]
  },
  {
   "cell_type": "code",
   "execution_count": 24,
   "id": "9740ebcb",
   "metadata": {},
   "outputs": [
    {
     "data": {
      "text/plain": [
       "['94.a.seg.nrrd']"
      ]
     },
     "execution_count": 24,
     "metadata": {},
     "output_type": "execute_result"
    }
   ],
   "source": [
    "y_test"
   ]
  },
  {
   "cell_type": "code",
   "execution_count": null,
   "id": "1ed4b29b",
   "metadata": {},
   "outputs": [],
   "source": []
  },
  {
   "cell_type": "code",
   "execution_count": 25,
   "id": "8c6a0872",
   "metadata": {},
   "outputs": [],
   "source": [
    "#####4"
   ]
  },
  {
   "cell_type": "code",
   "execution_count": 26,
   "id": "84a61e37",
   "metadata": {},
   "outputs": [],
   "source": [
    "data=('6.img.nrrd',\n",
    " '92.img.nrrd',\n",
    " '51.img.nrrd',\n",
    " '6.seg.nrrd',\n",
    " '92.seg.nrrd',\n",
    " '51.a.seg.nrrd',\n",
    " '72.img.nrrd',\n",
    " '72.seg.nrrd')"
   ]
  },
  {
   "cell_type": "code",
   "execution_count": 27,
   "id": "44bec56b",
   "metadata": {},
   "outputs": [],
   "source": [
    "X_train, y_train, X_test, y_test = C.Helper.split(data)"
   ]
  },
  {
   "cell_type": "code",
   "execution_count": 28,
   "id": "588a39a8",
   "metadata": {},
   "outputs": [
    {
     "data": {
      "text/plain": [
       "['51.img.nrrd', '92.img.nrrd', '6.img.nrrd']"
      ]
     },
     "execution_count": 28,
     "metadata": {},
     "output_type": "execute_result"
    }
   ],
   "source": [
    "X_train"
   ]
  },
  {
   "cell_type": "code",
   "execution_count": 29,
   "id": "2cf2173a",
   "metadata": {},
   "outputs": [
    {
     "data": {
      "text/plain": [
       "['51.a.seg.nrrd', '92.seg.nrrd', '6.seg.nrrd']"
      ]
     },
     "execution_count": 29,
     "metadata": {},
     "output_type": "execute_result"
    }
   ],
   "source": [
    "y_train"
   ]
  },
  {
   "cell_type": "code",
   "execution_count": 30,
   "id": "9cc1977c",
   "metadata": {},
   "outputs": [
    {
     "data": {
      "text/plain": [
       "['72.img.nrrd']"
      ]
     },
     "execution_count": 30,
     "metadata": {},
     "output_type": "execute_result"
    }
   ],
   "source": [
    "X_test"
   ]
  },
  {
   "cell_type": "code",
   "execution_count": 31,
   "id": "3f60aaa2",
   "metadata": {},
   "outputs": [
    {
     "data": {
      "text/plain": [
       "['72.seg.nrrd']"
      ]
     },
     "execution_count": 31,
     "metadata": {},
     "output_type": "execute_result"
    }
   ],
   "source": [
    "y_test"
   ]
  },
  {
   "cell_type": "code",
   "execution_count": null,
   "id": "96d5ba1f",
   "metadata": {},
   "outputs": [],
   "source": []
  },
  {
   "cell_type": "code",
   "execution_count": 32,
   "id": "02ff3f35",
   "metadata": {},
   "outputs": [],
   "source": [
    "#####5"
   ]
  },
  {
   "cell_type": "code",
   "execution_count": 33,
   "id": "b5b5b615",
   "metadata": {},
   "outputs": [],
   "source": [
    "data=('66.img.nrrd',\n",
    " '69.img.nrrd',\n",
    " '26.img.nrrd',\n",
    " '17.img.nrrd',\n",
    " '91.img.nrrd',\n",
    " '31.img.nrrd',\n",
    " '14.img.nrrd',\n",
    " '66.a.seg.nrrd',\n",
    " '69.seg.nrrd',\n",
    " '26.seg.nrrd',\n",
    " '17.seg.nrrd',\n",
    " '91.a.seg.nrrd',\n",
    " '31.seg.nrrd',\n",
    " '14.a.seg.nrrd',\n",
    " '2.img.nrrd',\n",
    " '16.img.nrrd',\n",
    " '93.img.nrrd',\n",
    " '2.a.seg.nrrd',\n",
    " '16.seg.nrrd',\n",
    " '93.a.seg.nrrd')"
   ]
  },
  {
   "cell_type": "code",
   "execution_count": 34,
   "id": "2be865bf",
   "metadata": {},
   "outputs": [],
   "source": [
    "X_train, y_train, X_test, y_test = C.Helper.split(data)"
   ]
  },
  {
   "cell_type": "code",
   "execution_count": 35,
   "id": "254afbb2",
   "metadata": {},
   "outputs": [
    {
     "data": {
      "text/plain": [
       "['26.img.nrrd',\n",
       " '69.img.nrrd',\n",
       " '91.img.nrrd',\n",
       " '17.img.nrrd',\n",
       " '14.img.nrrd',\n",
       " '2.img.nrrd',\n",
       " '66.img.nrrd',\n",
       " '31.img.nrrd']"
      ]
     },
     "execution_count": 35,
     "metadata": {},
     "output_type": "execute_result"
    }
   ],
   "source": [
    "X_train"
   ]
  },
  {
   "cell_type": "code",
   "execution_count": 36,
   "id": "8a76bd1f",
   "metadata": {},
   "outputs": [
    {
     "data": {
      "text/plain": [
       "['26.seg.nrrd',\n",
       " '69.seg.nrrd',\n",
       " '91.a.seg.nrrd',\n",
       " '17.seg.nrrd',\n",
       " '14.a.seg.nrrd',\n",
       " '2.a.seg.nrrd',\n",
       " '66.a.seg.nrrd',\n",
       " '31.seg.nrrd']"
      ]
     },
     "execution_count": 36,
     "metadata": {},
     "output_type": "execute_result"
    }
   ],
   "source": [
    "y_train"
   ]
  },
  {
   "cell_type": "code",
   "execution_count": 37,
   "id": "000eb0ea",
   "metadata": {},
   "outputs": [
    {
     "data": {
      "text/plain": [
       "['16.img.nrrd', '93.img.nrrd']"
      ]
     },
     "execution_count": 37,
     "metadata": {},
     "output_type": "execute_result"
    }
   ],
   "source": [
    "X_test"
   ]
  },
  {
   "cell_type": "code",
   "execution_count": 38,
   "id": "d88d4827",
   "metadata": {},
   "outputs": [
    {
     "data": {
      "text/plain": [
       "['16.seg.nrrd', '93.a.seg.nrrd']"
      ]
     },
     "execution_count": 38,
     "metadata": {},
     "output_type": "execute_result"
    }
   ],
   "source": [
    "y_test"
   ]
  },
  {
   "cell_type": "code",
   "execution_count": null,
   "id": "bb56deeb",
   "metadata": {},
   "outputs": [],
   "source": []
  },
  {
   "cell_type": "code",
   "execution_count": null,
   "id": "5dd4197d",
   "metadata": {},
   "outputs": [],
   "source": []
  },
  {
   "cell_type": "code",
   "execution_count": null,
   "id": "a57a1617",
   "metadata": {},
   "outputs": [],
   "source": []
  },
  {
   "cell_type": "code",
   "execution_count": null,
   "id": "1ba63b23",
   "metadata": {},
   "outputs": [],
   "source": [
    "##########WHOLE DATASET##########"
   ]
  },
  {
   "cell_type": "code",
   "execution_count": 39,
   "id": "c17d5d3b",
   "metadata": {},
   "outputs": [],
   "source": [
    "data = C.Helper.load(DATAPATH)"
   ]
  },
  {
   "cell_type": "code",
   "execution_count": 40,
   "id": "68753599",
   "metadata": {},
   "outputs": [],
   "source": [
    "X_train, y_train, X_test, y_test = C.Helper.split(data)"
   ]
  },
  {
   "cell_type": "code",
   "execution_count": 41,
   "id": "85dd28d4",
   "metadata": {},
   "outputs": [
    {
     "data": {
      "text/plain": [
       "['5.img.nrrd',\n",
       " '25.img.nrrd',\n",
       " '36.img.nrrd',\n",
       " '24.img.nrrd',\n",
       " '17.img.nrrd',\n",
       " '14.img.nrrd',\n",
       " '26.img.nrrd',\n",
       " '83.img.nrrd',\n",
       " '96.img.nrrd',\n",
       " '50.img.nrrd',\n",
       " '27.img.nrrd',\n",
       " '63.img.nrrd',\n",
       " '97.img.nrrd',\n",
       " '2.img.nrrd',\n",
       " '47.img.nrrd',\n",
       " '33.img.nrrd',\n",
       " '13.img.nrrd',\n",
       " '39.img.nrrd',\n",
       " '21.img.nrrd',\n",
       " '49.img.nrrd',\n",
       " '64.img.nrrd',\n",
       " '86.img.nrrd',\n",
       " '52.img.nrrd',\n",
       " '61.img.nrrd',\n",
       " '12.img.nrrd',\n",
       " '66.img.nrrd',\n",
       " '6.img.nrrd',\n",
       " '53.img.nrrd',\n",
       " '15.img.nrrd',\n",
       " '93.img.nrrd',\n",
       " '29.img.nrrd',\n",
       " '35.img.nrrd',\n",
       " '23.img.nrrd',\n",
       " '90.img.nrrd',\n",
       " '10.img.nrrd',\n",
       " '91.img.nrrd',\n",
       " '62.img.nrrd',\n",
       " '92.img.nrrd',\n",
       " '9.img.nrrd',\n",
       " '46.img.nrrd',\n",
       " '40.img.nrrd',\n",
       " '45.img.nrrd',\n",
       " '82.img.nrrd',\n",
       " '22.img.nrrd',\n",
       " '87.img.nrrd',\n",
       " '79.img.nrrd',\n",
       " '18.img.nrrd',\n",
       " '73.img.nrrd',\n",
       " '31.img.nrrd',\n",
       " '51.img.nrrd',\n",
       " '69.img.nrrd']"
      ]
     },
     "execution_count": 41,
     "metadata": {},
     "output_type": "execute_result"
    }
   ],
   "source": [
    "X_train"
   ]
  },
  {
   "cell_type": "code",
   "execution_count": 42,
   "id": "ff9dc428",
   "metadata": {},
   "outputs": [
    {
     "data": {
      "text/plain": [
       "['5.a.seg.nrrd',\n",
       " '25.seg.nrrd',\n",
       " '36.seg.nrrd',\n",
       " '24.seg.nrrd',\n",
       " '17.seg.nrrd',\n",
       " '14.a.seg.nrrd',\n",
       " '26.seg.nrrd',\n",
       " '83.a.seg.nrrd',\n",
       " '96.seg.nrrd',\n",
       " '50.a.seg.nrrd',\n",
       " '27.a.seg.nrrd',\n",
       " '63.seg.nrrd',\n",
       " '97.seg.nrrd',\n",
       " '2.a.seg.nrrd',\n",
       " '47.a.seg.nrrd',\n",
       " '33.a.seg.nrrd',\n",
       " '13.seg.nrrd',\n",
       " '39.a.seg.nrrd',\n",
       " '21.seg.nrrd',\n",
       " '49.seg.nrrd',\n",
       " '64.a.seg.nrrd',\n",
       " '86.a.seg.nrrd',\n",
       " '52.a.seg.nrrd',\n",
       " '61.a.seg.nrrd',\n",
       " '12.seg.nrrd',\n",
       " '66.a.seg.nrrd',\n",
       " '6.seg.nrrd',\n",
       " '53.a.seg.nrrd',\n",
       " '15.a.seg.nrrd',\n",
       " '93.a.seg.nrrd',\n",
       " '29.seg.nrrd',\n",
       " '35.a.seg.nrrd',\n",
       " '23.seg.nrrd',\n",
       " '90.seg.nrrd',\n",
       " '10.a.seg.nrrd',\n",
       " '91.a.seg.nrrd',\n",
       " '62.seg.nrrd',\n",
       " '92.seg.nrrd',\n",
       " '9.a.seg.nrrd',\n",
       " '46.a.seg.nrrd',\n",
       " '40.seg.nrrd',\n",
       " '45.seg.nrrd',\n",
       " '82.seg.nrrd',\n",
       " '22.seg.nrrd',\n",
       " '87.seg.nrrd',\n",
       " '79.seg.nrrd',\n",
       " '18.seg.nrrd',\n",
       " '73.a.seg.nrrd',\n",
       " '31.seg.nrrd',\n",
       " '51.a.seg.nrrd',\n",
       " '69.seg.nrrd']"
      ]
     },
     "execution_count": 42,
     "metadata": {},
     "output_type": "execute_result"
    }
   ],
   "source": [
    "y_train"
   ]
  },
  {
   "cell_type": "code",
   "execution_count": 43,
   "id": "aa31e4d7",
   "metadata": {},
   "outputs": [
    {
     "data": {
      "text/plain": [
       "['77.img.nrrd',\n",
       " '88.img.nrrd',\n",
       " '57.img.nrrd',\n",
       " '72.img.nrrd',\n",
       " '32.img.nrrd',\n",
       " '84.img.nrrd',\n",
       " '41.img.nrrd',\n",
       " '71.img.nrrd',\n",
       " '16.img.nrrd',\n",
       " '48.img.nrrd',\n",
       " '94.img.nrrd',\n",
       " '75.img.nrrd',\n",
       " '7.img.nrrd']"
      ]
     },
     "execution_count": 43,
     "metadata": {},
     "output_type": "execute_result"
    }
   ],
   "source": [
    "X_test"
   ]
  },
  {
   "cell_type": "code",
   "execution_count": 44,
   "id": "8a2887fd",
   "metadata": {},
   "outputs": [
    {
     "data": {
      "text/plain": [
       "['77.seg.nrrd',\n",
       " '88.seg.nrrd',\n",
       " '57.a.seg.nrrd',\n",
       " '72.seg.nrrd',\n",
       " '32.a.seg.nrrd',\n",
       " '84.a.seg.nrrd',\n",
       " '41.a.seg.nrrd',\n",
       " '71.seg.nrrd',\n",
       " '16.seg.nrrd',\n",
       " '48.a.seg.nrrd',\n",
       " '94.a.seg.nrrd',\n",
       " '75.a.seg.nrrd',\n",
       " '7.seg.nrrd']"
      ]
     },
     "execution_count": 44,
     "metadata": {},
     "output_type": "execute_result"
    }
   ],
   "source": [
    "y_test"
   ]
  },
  {
   "cell_type": "code",
   "execution_count": 45,
   "id": "f12dc300",
   "metadata": {},
   "outputs": [],
   "source": [
    "X_train, y_train, X_test, y_test = C.Helper.split(data)"
   ]
  },
  {
   "cell_type": "code",
   "execution_count": 46,
   "id": "80cfd20e",
   "metadata": {},
   "outputs": [
    {
     "data": {
      "text/plain": [
       "['63.img.nrrd',\n",
       " '2.img.nrrd',\n",
       " '83.img.nrrd',\n",
       " '47.img.nrrd',\n",
       " '21.img.nrrd',\n",
       " '36.img.nrrd',\n",
       " '25.img.nrrd',\n",
       " '14.img.nrrd',\n",
       " '82.img.nrrd',\n",
       " '10.img.nrrd',\n",
       " '40.img.nrrd',\n",
       " '64.img.nrrd',\n",
       " '35.img.nrrd',\n",
       " '92.img.nrrd',\n",
       " '39.img.nrrd',\n",
       " '96.img.nrrd',\n",
       " '45.img.nrrd',\n",
       " '12.img.nrrd',\n",
       " '33.img.nrrd',\n",
       " '69.img.nrrd',\n",
       " '5.img.nrrd',\n",
       " '13.img.nrrd',\n",
       " '26.img.nrrd',\n",
       " '52.img.nrrd',\n",
       " '50.img.nrrd',\n",
       " '62.img.nrrd',\n",
       " '22.img.nrrd',\n",
       " '53.img.nrrd',\n",
       " '29.img.nrrd',\n",
       " '90.img.nrrd',\n",
       " '9.img.nrrd',\n",
       " '91.img.nrrd',\n",
       " '15.img.nrrd',\n",
       " '18.img.nrrd',\n",
       " '86.img.nrrd',\n",
       " '23.img.nrrd',\n",
       " '87.img.nrrd',\n",
       " '17.img.nrrd',\n",
       " '24.img.nrrd',\n",
       " '73.img.nrrd',\n",
       " '46.img.nrrd',\n",
       " '66.img.nrrd',\n",
       " '61.img.nrrd',\n",
       " '6.img.nrrd',\n",
       " '31.img.nrrd',\n",
       " '97.img.nrrd',\n",
       " '27.img.nrrd',\n",
       " '51.img.nrrd',\n",
       " '93.img.nrrd',\n",
       " '79.img.nrrd',\n",
       " '49.img.nrrd']"
      ]
     },
     "execution_count": 46,
     "metadata": {},
     "output_type": "execute_result"
    }
   ],
   "source": [
    "X_train"
   ]
  },
  {
   "cell_type": "code",
   "execution_count": 47,
   "id": "b29b206b",
   "metadata": {},
   "outputs": [
    {
     "data": {
      "text/plain": [
       "['63.seg.nrrd',\n",
       " '2.a.seg.nrrd',\n",
       " '83.a.seg.nrrd',\n",
       " '47.a.seg.nrrd',\n",
       " '21.seg.nrrd',\n",
       " '36.seg.nrrd',\n",
       " '25.seg.nrrd',\n",
       " '14.a.seg.nrrd',\n",
       " '82.seg.nrrd',\n",
       " '10.a.seg.nrrd',\n",
       " '40.seg.nrrd',\n",
       " '64.a.seg.nrrd',\n",
       " '35.a.seg.nrrd',\n",
       " '92.seg.nrrd',\n",
       " '39.a.seg.nrrd',\n",
       " '96.seg.nrrd',\n",
       " '45.seg.nrrd',\n",
       " '12.seg.nrrd',\n",
       " '33.a.seg.nrrd',\n",
       " '69.seg.nrrd',\n",
       " '5.a.seg.nrrd',\n",
       " '13.seg.nrrd',\n",
       " '26.seg.nrrd',\n",
       " '52.a.seg.nrrd',\n",
       " '50.a.seg.nrrd',\n",
       " '62.seg.nrrd',\n",
       " '22.seg.nrrd',\n",
       " '53.a.seg.nrrd',\n",
       " '29.seg.nrrd',\n",
       " '90.seg.nrrd',\n",
       " '9.a.seg.nrrd',\n",
       " '91.a.seg.nrrd',\n",
       " '15.a.seg.nrrd',\n",
       " '18.seg.nrrd',\n",
       " '86.a.seg.nrrd',\n",
       " '23.seg.nrrd',\n",
       " '87.seg.nrrd',\n",
       " '17.seg.nrrd',\n",
       " '24.seg.nrrd',\n",
       " '73.a.seg.nrrd',\n",
       " '46.a.seg.nrrd',\n",
       " '66.a.seg.nrrd',\n",
       " '61.a.seg.nrrd',\n",
       " '6.seg.nrrd',\n",
       " '31.seg.nrrd',\n",
       " '97.seg.nrrd',\n",
       " '27.a.seg.nrrd',\n",
       " '51.a.seg.nrrd',\n",
       " '93.a.seg.nrrd',\n",
       " '79.seg.nrrd',\n",
       " '49.seg.nrrd']"
      ]
     },
     "execution_count": 47,
     "metadata": {},
     "output_type": "execute_result"
    }
   ],
   "source": [
    "y_train"
   ]
  },
  {
   "cell_type": "code",
   "execution_count": 48,
   "id": "07775f15",
   "metadata": {},
   "outputs": [
    {
     "data": {
      "text/plain": [
       "['71.img.nrrd',\n",
       " '75.img.nrrd',\n",
       " '7.img.nrrd',\n",
       " '16.img.nrrd',\n",
       " '41.img.nrrd',\n",
       " '32.img.nrrd',\n",
       " '48.img.nrrd',\n",
       " '72.img.nrrd',\n",
       " '88.img.nrrd',\n",
       " '94.img.nrrd',\n",
       " '77.img.nrrd',\n",
       " '84.img.nrrd',\n",
       " '57.img.nrrd']"
      ]
     },
     "execution_count": 48,
     "metadata": {},
     "output_type": "execute_result"
    }
   ],
   "source": [
    "X_test"
   ]
  },
  {
   "cell_type": "code",
   "execution_count": 49,
   "id": "f45b7599",
   "metadata": {},
   "outputs": [
    {
     "data": {
      "text/plain": [
       "['71.seg.nrrd',\n",
       " '75.a.seg.nrrd',\n",
       " '7.seg.nrrd',\n",
       " '16.seg.nrrd',\n",
       " '41.a.seg.nrrd',\n",
       " '32.a.seg.nrrd',\n",
       " '48.a.seg.nrrd',\n",
       " '72.seg.nrrd',\n",
       " '88.seg.nrrd',\n",
       " '94.a.seg.nrrd',\n",
       " '77.seg.nrrd',\n",
       " '84.a.seg.nrrd',\n",
       " '57.a.seg.nrrd']"
      ]
     },
     "execution_count": 49,
     "metadata": {},
     "output_type": "execute_result"
    }
   ],
   "source": [
    "y_test"
   ]
  },
  {
   "cell_type": "code",
   "execution_count": 50,
   "id": "04c6f6ff",
   "metadata": {},
   "outputs": [],
   "source": [
    "X_train, y_train, X_test, y_test = C.Helper.split(data)"
   ]
  },
  {
   "cell_type": "code",
   "execution_count": 51,
   "id": "620145f3",
   "metadata": {},
   "outputs": [
    {
     "data": {
      "text/plain": [
       "['90.img.nrrd',\n",
       " '36.img.nrrd',\n",
       " '46.img.nrrd',\n",
       " '15.img.nrrd',\n",
       " '6.img.nrrd',\n",
       " '87.img.nrrd',\n",
       " '18.img.nrrd',\n",
       " '22.img.nrrd',\n",
       " '33.img.nrrd',\n",
       " '27.img.nrrd',\n",
       " '49.img.nrrd',\n",
       " '25.img.nrrd',\n",
       " '82.img.nrrd',\n",
       " '96.img.nrrd',\n",
       " '45.img.nrrd',\n",
       " '66.img.nrrd',\n",
       " '61.img.nrrd',\n",
       " '97.img.nrrd',\n",
       " '63.img.nrrd',\n",
       " '93.img.nrrd',\n",
       " '9.img.nrrd',\n",
       " '73.img.nrrd',\n",
       " '31.img.nrrd',\n",
       " '26.img.nrrd',\n",
       " '86.img.nrrd',\n",
       " '39.img.nrrd',\n",
       " '17.img.nrrd',\n",
       " '47.img.nrrd',\n",
       " '14.img.nrrd',\n",
       " '2.img.nrrd',\n",
       " '64.img.nrrd',\n",
       " '79.img.nrrd',\n",
       " '23.img.nrrd',\n",
       " '83.img.nrrd',\n",
       " '91.img.nrrd',\n",
       " '50.img.nrrd',\n",
       " '13.img.nrrd',\n",
       " '62.img.nrrd',\n",
       " '51.img.nrrd',\n",
       " '69.img.nrrd',\n",
       " '24.img.nrrd',\n",
       " '53.img.nrrd',\n",
       " '92.img.nrrd',\n",
       " '21.img.nrrd',\n",
       " '5.img.nrrd',\n",
       " '35.img.nrrd',\n",
       " '10.img.nrrd',\n",
       " '12.img.nrrd',\n",
       " '52.img.nrrd',\n",
       " '29.img.nrrd',\n",
       " '40.img.nrrd']"
      ]
     },
     "execution_count": 51,
     "metadata": {},
     "output_type": "execute_result"
    }
   ],
   "source": [
    "X_train"
   ]
  },
  {
   "cell_type": "code",
   "execution_count": 52,
   "id": "8c5012bd",
   "metadata": {},
   "outputs": [
    {
     "data": {
      "text/plain": [
       "['90.seg.nrrd',\n",
       " '36.seg.nrrd',\n",
       " '46.a.seg.nrrd',\n",
       " '15.a.seg.nrrd',\n",
       " '6.seg.nrrd',\n",
       " '87.seg.nrrd',\n",
       " '18.seg.nrrd',\n",
       " '22.seg.nrrd',\n",
       " '33.a.seg.nrrd',\n",
       " '27.a.seg.nrrd',\n",
       " '49.seg.nrrd',\n",
       " '25.seg.nrrd',\n",
       " '82.seg.nrrd',\n",
       " '96.seg.nrrd',\n",
       " '45.seg.nrrd',\n",
       " '66.a.seg.nrrd',\n",
       " '61.a.seg.nrrd',\n",
       " '97.seg.nrrd',\n",
       " '63.seg.nrrd',\n",
       " '93.a.seg.nrrd',\n",
       " '9.a.seg.nrrd',\n",
       " '73.a.seg.nrrd',\n",
       " '31.seg.nrrd',\n",
       " '26.seg.nrrd',\n",
       " '86.a.seg.nrrd',\n",
       " '39.a.seg.nrrd',\n",
       " '17.seg.nrrd',\n",
       " '47.a.seg.nrrd',\n",
       " '14.a.seg.nrrd',\n",
       " '2.a.seg.nrrd',\n",
       " '64.a.seg.nrrd',\n",
       " '79.seg.nrrd',\n",
       " '23.seg.nrrd',\n",
       " '83.a.seg.nrrd',\n",
       " '91.a.seg.nrrd',\n",
       " '50.a.seg.nrrd',\n",
       " '13.seg.nrrd',\n",
       " '62.seg.nrrd',\n",
       " '51.a.seg.nrrd',\n",
       " '69.seg.nrrd',\n",
       " '24.seg.nrrd',\n",
       " '53.a.seg.nrrd',\n",
       " '92.seg.nrrd',\n",
       " '21.seg.nrrd',\n",
       " '5.a.seg.nrrd',\n",
       " '35.a.seg.nrrd',\n",
       " '10.a.seg.nrrd',\n",
       " '12.seg.nrrd',\n",
       " '52.a.seg.nrrd',\n",
       " '29.seg.nrrd',\n",
       " '40.seg.nrrd']"
      ]
     },
     "execution_count": 52,
     "metadata": {},
     "output_type": "execute_result"
    }
   ],
   "source": [
    "y_train"
   ]
  },
  {
   "cell_type": "code",
   "execution_count": 53,
   "id": "9763d9a7",
   "metadata": {},
   "outputs": [
    {
     "data": {
      "text/plain": [
       "['48.img.nrrd',\n",
       " '7.img.nrrd',\n",
       " '88.img.nrrd',\n",
       " '57.img.nrrd',\n",
       " '71.img.nrrd',\n",
       " '16.img.nrrd',\n",
       " '72.img.nrrd',\n",
       " '41.img.nrrd',\n",
       " '32.img.nrrd',\n",
       " '75.img.nrrd',\n",
       " '77.img.nrrd',\n",
       " '94.img.nrrd',\n",
       " '84.img.nrrd']"
      ]
     },
     "execution_count": 53,
     "metadata": {},
     "output_type": "execute_result"
    }
   ],
   "source": [
    "X_test"
   ]
  },
  {
   "cell_type": "code",
   "execution_count": 54,
   "id": "16002999",
   "metadata": {},
   "outputs": [
    {
     "data": {
      "text/plain": [
       "['48.a.seg.nrrd',\n",
       " '7.seg.nrrd',\n",
       " '88.seg.nrrd',\n",
       " '57.a.seg.nrrd',\n",
       " '71.seg.nrrd',\n",
       " '16.seg.nrrd',\n",
       " '72.seg.nrrd',\n",
       " '41.a.seg.nrrd',\n",
       " '32.a.seg.nrrd',\n",
       " '75.a.seg.nrrd',\n",
       " '77.seg.nrrd',\n",
       " '94.a.seg.nrrd',\n",
       " '84.a.seg.nrrd']"
      ]
     },
     "execution_count": 54,
     "metadata": {},
     "output_type": "execute_result"
    }
   ],
   "source": [
    "y_test"
   ]
  },
  {
   "cell_type": "code",
   "execution_count": 55,
   "id": "6770773d",
   "metadata": {},
   "outputs": [],
   "source": [
    "X_train, y_train, X_test, y_test = C.Helper.split(data)"
   ]
  },
  {
   "cell_type": "code",
   "execution_count": 56,
   "id": "f293387a",
   "metadata": {},
   "outputs": [
    {
     "data": {
      "text/plain": [
       "['15.img.nrrd',\n",
       " '22.img.nrrd',\n",
       " '10.img.nrrd',\n",
       " '45.img.nrrd',\n",
       " '33.img.nrrd',\n",
       " '53.img.nrrd',\n",
       " '50.img.nrrd',\n",
       " '83.img.nrrd',\n",
       " '86.img.nrrd',\n",
       " '46.img.nrrd',\n",
       " '2.img.nrrd',\n",
       " '27.img.nrrd',\n",
       " '23.img.nrrd',\n",
       " '92.img.nrrd',\n",
       " '61.img.nrrd',\n",
       " '36.img.nrrd',\n",
       " '51.img.nrrd',\n",
       " '91.img.nrrd',\n",
       " '47.img.nrrd',\n",
       " '6.img.nrrd',\n",
       " '31.img.nrrd',\n",
       " '49.img.nrrd',\n",
       " '97.img.nrrd',\n",
       " '73.img.nrrd',\n",
       " '29.img.nrrd',\n",
       " '69.img.nrrd',\n",
       " '39.img.nrrd',\n",
       " '24.img.nrrd',\n",
       " '62.img.nrrd',\n",
       " '63.img.nrrd',\n",
       " '66.img.nrrd',\n",
       " '93.img.nrrd',\n",
       " '52.img.nrrd',\n",
       " '12.img.nrrd',\n",
       " '14.img.nrrd',\n",
       " '21.img.nrrd',\n",
       " '35.img.nrrd',\n",
       " '25.img.nrrd',\n",
       " '79.img.nrrd',\n",
       " '9.img.nrrd',\n",
       " '13.img.nrrd',\n",
       " '40.img.nrrd',\n",
       " '17.img.nrrd',\n",
       " '64.img.nrrd',\n",
       " '96.img.nrrd',\n",
       " '26.img.nrrd',\n",
       " '87.img.nrrd',\n",
       " '82.img.nrrd',\n",
       " '5.img.nrrd',\n",
       " '90.img.nrrd',\n",
       " '18.img.nrrd']"
      ]
     },
     "execution_count": 56,
     "metadata": {},
     "output_type": "execute_result"
    }
   ],
   "source": [
    "X_train"
   ]
  },
  {
   "cell_type": "code",
   "execution_count": 57,
   "id": "709dc43e",
   "metadata": {},
   "outputs": [
    {
     "data": {
      "text/plain": [
       "['15.a.seg.nrrd',\n",
       " '22.seg.nrrd',\n",
       " '10.a.seg.nrrd',\n",
       " '45.seg.nrrd',\n",
       " '33.a.seg.nrrd',\n",
       " '53.a.seg.nrrd',\n",
       " '50.a.seg.nrrd',\n",
       " '83.a.seg.nrrd',\n",
       " '86.a.seg.nrrd',\n",
       " '46.a.seg.nrrd',\n",
       " '2.a.seg.nrrd',\n",
       " '27.a.seg.nrrd',\n",
       " '23.seg.nrrd',\n",
       " '92.seg.nrrd',\n",
       " '61.a.seg.nrrd',\n",
       " '36.seg.nrrd',\n",
       " '51.a.seg.nrrd',\n",
       " '91.a.seg.nrrd',\n",
       " '47.a.seg.nrrd',\n",
       " '6.seg.nrrd',\n",
       " '31.seg.nrrd',\n",
       " '49.seg.nrrd',\n",
       " '97.seg.nrrd',\n",
       " '73.a.seg.nrrd',\n",
       " '29.seg.nrrd',\n",
       " '69.seg.nrrd',\n",
       " '39.a.seg.nrrd',\n",
       " '24.seg.nrrd',\n",
       " '62.seg.nrrd',\n",
       " '63.seg.nrrd',\n",
       " '66.a.seg.nrrd',\n",
       " '93.a.seg.nrrd',\n",
       " '52.a.seg.nrrd',\n",
       " '12.seg.nrrd',\n",
       " '14.a.seg.nrrd',\n",
       " '21.seg.nrrd',\n",
       " '35.a.seg.nrrd',\n",
       " '25.seg.nrrd',\n",
       " '79.seg.nrrd',\n",
       " '9.a.seg.nrrd',\n",
       " '13.seg.nrrd',\n",
       " '40.seg.nrrd',\n",
       " '17.seg.nrrd',\n",
       " '64.a.seg.nrrd',\n",
       " '96.seg.nrrd',\n",
       " '26.seg.nrrd',\n",
       " '87.seg.nrrd',\n",
       " '82.seg.nrrd',\n",
       " '5.a.seg.nrrd',\n",
       " '90.seg.nrrd',\n",
       " '18.seg.nrrd']"
      ]
     },
     "execution_count": 57,
     "metadata": {},
     "output_type": "execute_result"
    }
   ],
   "source": [
    "y_train"
   ]
  },
  {
   "cell_type": "code",
   "execution_count": 58,
   "id": "08431408",
   "metadata": {},
   "outputs": [
    {
     "data": {
      "text/plain": [
       "['16.img.nrrd',\n",
       " '88.img.nrrd',\n",
       " '84.img.nrrd',\n",
       " '32.img.nrrd',\n",
       " '77.img.nrrd',\n",
       " '57.img.nrrd',\n",
       " '71.img.nrrd',\n",
       " '48.img.nrrd',\n",
       " '94.img.nrrd',\n",
       " '72.img.nrrd',\n",
       " '41.img.nrrd',\n",
       " '75.img.nrrd',\n",
       " '7.img.nrrd']"
      ]
     },
     "execution_count": 58,
     "metadata": {},
     "output_type": "execute_result"
    }
   ],
   "source": [
    "X_test"
   ]
  },
  {
   "cell_type": "code",
   "execution_count": 59,
   "id": "5a1be543",
   "metadata": {},
   "outputs": [
    {
     "data": {
      "text/plain": [
       "['16.seg.nrrd',\n",
       " '88.seg.nrrd',\n",
       " '84.a.seg.nrrd',\n",
       " '32.a.seg.nrrd',\n",
       " '77.seg.nrrd',\n",
       " '57.a.seg.nrrd',\n",
       " '71.seg.nrrd',\n",
       " '48.a.seg.nrrd',\n",
       " '94.a.seg.nrrd',\n",
       " '72.seg.nrrd',\n",
       " '41.a.seg.nrrd',\n",
       " '75.a.seg.nrrd',\n",
       " '7.seg.nrrd']"
      ]
     },
     "execution_count": 59,
     "metadata": {},
     "output_type": "execute_result"
    }
   ],
   "source": [
    "y_test"
   ]
  },
  {
   "cell_type": "code",
   "execution_count": 60,
   "id": "30b00a54",
   "metadata": {},
   "outputs": [],
   "source": [
    "X_train, y_train, X_test, y_test = C.Helper.split(data)"
   ]
  },
  {
   "cell_type": "code",
   "execution_count": 61,
   "id": "f43d915c",
   "metadata": {},
   "outputs": [
    {
     "data": {
      "text/plain": [
       "['97.img.nrrd',\n",
       " '69.img.nrrd',\n",
       " '52.img.nrrd',\n",
       " '53.img.nrrd',\n",
       " '36.img.nrrd',\n",
       " '26.img.nrrd',\n",
       " '93.img.nrrd',\n",
       " '73.img.nrrd',\n",
       " '50.img.nrrd',\n",
       " '66.img.nrrd',\n",
       " '13.img.nrrd',\n",
       " '25.img.nrrd',\n",
       " '18.img.nrrd',\n",
       " '21.img.nrrd',\n",
       " '45.img.nrrd',\n",
       " '91.img.nrrd',\n",
       " '12.img.nrrd',\n",
       " '64.img.nrrd',\n",
       " '22.img.nrrd',\n",
       " '29.img.nrrd',\n",
       " '35.img.nrrd',\n",
       " '79.img.nrrd',\n",
       " '40.img.nrrd',\n",
       " '63.img.nrrd',\n",
       " '92.img.nrrd',\n",
       " '47.img.nrrd',\n",
       " '61.img.nrrd',\n",
       " '24.img.nrrd',\n",
       " '83.img.nrrd',\n",
       " '27.img.nrrd',\n",
       " '23.img.nrrd',\n",
       " '87.img.nrrd',\n",
       " '51.img.nrrd',\n",
       " '49.img.nrrd',\n",
       " '39.img.nrrd',\n",
       " '86.img.nrrd',\n",
       " '9.img.nrrd',\n",
       " '31.img.nrrd',\n",
       " '6.img.nrrd',\n",
       " '90.img.nrrd',\n",
       " '10.img.nrrd',\n",
       " '62.img.nrrd',\n",
       " '33.img.nrrd',\n",
       " '96.img.nrrd',\n",
       " '82.img.nrrd',\n",
       " '46.img.nrrd',\n",
       " '17.img.nrrd',\n",
       " '14.img.nrrd',\n",
       " '2.img.nrrd',\n",
       " '5.img.nrrd',\n",
       " '15.img.nrrd']"
      ]
     },
     "execution_count": 61,
     "metadata": {},
     "output_type": "execute_result"
    }
   ],
   "source": [
    "X_train"
   ]
  },
  {
   "cell_type": "code",
   "execution_count": 62,
   "id": "cb889e0e",
   "metadata": {},
   "outputs": [
    {
     "data": {
      "text/plain": [
       "['97.seg.nrrd',\n",
       " '69.seg.nrrd',\n",
       " '52.a.seg.nrrd',\n",
       " '53.a.seg.nrrd',\n",
       " '36.seg.nrrd',\n",
       " '26.seg.nrrd',\n",
       " '93.a.seg.nrrd',\n",
       " '73.a.seg.nrrd',\n",
       " '50.a.seg.nrrd',\n",
       " '66.a.seg.nrrd',\n",
       " '13.seg.nrrd',\n",
       " '25.seg.nrrd',\n",
       " '18.seg.nrrd',\n",
       " '21.seg.nrrd',\n",
       " '45.seg.nrrd',\n",
       " '91.a.seg.nrrd',\n",
       " '12.seg.nrrd',\n",
       " '64.a.seg.nrrd',\n",
       " '22.seg.nrrd',\n",
       " '29.seg.nrrd',\n",
       " '35.a.seg.nrrd',\n",
       " '79.seg.nrrd',\n",
       " '40.seg.nrrd',\n",
       " '63.seg.nrrd',\n",
       " '92.seg.nrrd',\n",
       " '47.a.seg.nrrd',\n",
       " '61.a.seg.nrrd',\n",
       " '24.seg.nrrd',\n",
       " '83.a.seg.nrrd',\n",
       " '27.a.seg.nrrd',\n",
       " '23.seg.nrrd',\n",
       " '87.seg.nrrd',\n",
       " '51.a.seg.nrrd',\n",
       " '49.seg.nrrd',\n",
       " '39.a.seg.nrrd',\n",
       " '86.a.seg.nrrd',\n",
       " '9.a.seg.nrrd',\n",
       " '31.seg.nrrd',\n",
       " '6.seg.nrrd',\n",
       " '90.seg.nrrd',\n",
       " '10.a.seg.nrrd',\n",
       " '62.seg.nrrd',\n",
       " '33.a.seg.nrrd',\n",
       " '96.seg.nrrd',\n",
       " '82.seg.nrrd',\n",
       " '46.a.seg.nrrd',\n",
       " '17.seg.nrrd',\n",
       " '14.a.seg.nrrd',\n",
       " '2.a.seg.nrrd',\n",
       " '5.a.seg.nrrd',\n",
       " '15.a.seg.nrrd']"
      ]
     },
     "execution_count": 62,
     "metadata": {},
     "output_type": "execute_result"
    }
   ],
   "source": [
    "y_train"
   ]
  },
  {
   "cell_type": "code",
   "execution_count": 63,
   "id": "43d056bc",
   "metadata": {},
   "outputs": [
    {
     "data": {
      "text/plain": [
       "['72.img.nrrd',\n",
       " '57.img.nrrd',\n",
       " '75.img.nrrd',\n",
       " '32.img.nrrd',\n",
       " '84.img.nrrd',\n",
       " '41.img.nrrd',\n",
       " '77.img.nrrd',\n",
       " '88.img.nrrd',\n",
       " '7.img.nrrd',\n",
       " '71.img.nrrd',\n",
       " '48.img.nrrd',\n",
       " '94.img.nrrd',\n",
       " '16.img.nrrd']"
      ]
     },
     "execution_count": 63,
     "metadata": {},
     "output_type": "execute_result"
    }
   ],
   "source": [
    "X_test"
   ]
  },
  {
   "cell_type": "code",
   "execution_count": 64,
   "id": "d4252430",
   "metadata": {},
   "outputs": [
    {
     "data": {
      "text/plain": [
       "['72.seg.nrrd',\n",
       " '57.a.seg.nrrd',\n",
       " '75.a.seg.nrrd',\n",
       " '32.a.seg.nrrd',\n",
       " '84.a.seg.nrrd',\n",
       " '41.a.seg.nrrd',\n",
       " '77.seg.nrrd',\n",
       " '88.seg.nrrd',\n",
       " '7.seg.nrrd',\n",
       " '71.seg.nrrd',\n",
       " '48.a.seg.nrrd',\n",
       " '94.a.seg.nrrd',\n",
       " '16.seg.nrrd']"
      ]
     },
     "execution_count": 64,
     "metadata": {},
     "output_type": "execute_result"
    }
   ],
   "source": [
    "y_test"
   ]
  },
  {
   "cell_type": "code",
   "execution_count": null,
   "id": "ebd12360",
   "metadata": {},
   "outputs": [],
   "source": []
  }
 ],
 "metadata": {
  "kernelspec": {
   "display_name": "Python 3 (ipykernel)",
   "language": "python",
   "name": "python3"
  },
  "language_info": {
   "codemirror_mode": {
    "name": "ipython",
    "version": 3
   },
   "file_extension": ".py",
   "mimetype": "text/x-python",
   "name": "python",
   "nbconvert_exporter": "python",
   "pygments_lexer": "ipython3",
   "version": "3.10.8"
  }
 },
 "nbformat": 4,
 "nbformat_minor": 5
}
